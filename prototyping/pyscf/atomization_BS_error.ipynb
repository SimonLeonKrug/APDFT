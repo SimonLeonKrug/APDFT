{
 "cells": [
  {
   "cell_type": "code",
   "execution_count": 1,
   "metadata": {},
   "outputs": [],
   "source": [
    "import pyscf\n",
    "import pyscf.tools\n",
    "import pyscf.cc\n",
    "import pyscf.qmmm\n",
    "from pyscf import lib\n",
    "from pyscf import gto\n",
    "from pyscf import df\n",
    "from pyscf import scf\n",
    "from pyscf import mcscf\n",
    "from pyscf import grad\n",
    "from pyscf.lib import logger\n",
    "from pyscf.gto import M\n",
    "from pyscf.scf import RHF\n",
    "import pyscf.lib\n",
    "import numpy as np\n",
    "import numpy\n",
    "import matplotlib.pyplot as plt\n",
    "angstrom=1.889725989\n",
    "from numpy.linalg import inv,norm"
   ]
  },
  {
   "cell_type": "code",
   "execution_count": 2,
   "metadata": {},
   "outputs": [],
   "source": [
    "def qmmmcalc(mol,dh):\n",
    "    deltaZ = np.array((dh,-dh))\n",
    "    mf = pyscf.qmmm.mm_charge(pyscf.scf.RHF(mol), mol.atom_coords(), deltaZ,unit='bohr')\n",
    "    class NoSelfQMMM(mf.__class__):\n",
    "        def energy_nuc(self):\n",
    "            e_nuc=(mol.atom_charge(0)+dh)*(mol.atom_charge(1)-dh)/np.linalg.norm(self.mol.atom_coords()[0]-self.mol.atom_coords()[1])\n",
    "            return e_nuc\n",
    "    mf = NoSelfQMMM()\n",
    "    return mf"
   ]
  },
  {
   "cell_type": "code",
   "execution_count": 57,
   "metadata": {},
   "outputs": [],
   "source": [
    "CO=M(atom='C 0 0 0;O 0 0 2.',basis= 'def2-TZVP',unit='bohr')\n",
    "NN=M(atom='N 0 0 0;N 0 0 2.',basis= 'def2-TZVP',unit='bohr')\n",
    "nnhf=RHF(NN)\n",
    "nn_co=qmmmcalc(CO,1)"
   ]
  },
  {
   "cell_type": "code",
   "execution_count": 58,
   "metadata": {},
   "outputs": [
    {
     "name": "stdout",
     "output_type": "stream",
     "text": [
      "24.5\n"
     ]
    },
    {
     "data": {
      "text/plain": [
       "24.0"
      ]
     },
     "execution_count": 58,
     "metadata": {},
     "output_type": "execute_result"
    }
   ],
   "source": [
    "print(nn_co.energy_nuc())\n",
    "CO.energy_nuc()"
   ]
  },
  {
   "cell_type": "code",
   "execution_count": 59,
   "metadata": {},
   "outputs": [
    {
     "name": "stdout",
     "output_type": "stream",
     "text": [
      "converged SCF energy = -108.898047903918\n",
      "converged SCF energy = -108.991204984885\n"
     ]
    },
    {
     "data": {
      "text/plain": [
       "-108.99120498488537"
      ]
     },
     "execution_count": 59,
     "metadata": {},
     "output_type": "execute_result"
    }
   ],
   "source": [
    "nn_co.kernel()\n",
    "nnhf.kernel()"
   ]
  },
  {
   "cell_type": "code",
   "execution_count": 60,
   "metadata": {},
   "outputs": [],
   "source": [
    "#single atom qmmmm\n",
    "def saqmmm(mol,dh):\n",
    "    mf = pyscf.qmmm.mm_charge(pyscf.scf.RHF(mol), mol.atom_coords(), np.asarray([dh]),unit='bohr')\n",
    "    class NoSelfQMMM(mf.__class__):\n",
    "        def energy_nuc(self):\n",
    "            e_nuc=0\n",
    "            return e_nuc\n",
    "    mf = NoSelfQMMM()\n",
    "    return mf"
   ]
  },
  {
   "cell_type": "code",
   "execution_count": 61,
   "metadata": {},
   "outputs": [],
   "source": [
    "C=M(atom='C 0 0 0',basis='def2-TZVP',charge=-1,spin=1)\n",
    "O=M(atom='O 0 0 0',basis='def2-TZVP',charge=1,spin=1)\n",
    "N=M(atom='N 0 0 0',basis='def2-TZVP',spin=1)\n",
    "nhf=pyscf.scf.UHF(N)\n",
    "nchf=saqmmm(C,1)\n",
    "nohf=saqmmm(O,-1)"
   ]
  },
  {
   "cell_type": "code",
   "execution_count": 62,
   "metadata": {},
   "outputs": [
    {
     "name": "stdout",
     "output_type": "stream",
     "text": [
      "converged SCF energy = -54.2661030726021  <S^2> = 0.75563051  2S+1 = 2.0056226\n",
      "converged SCF energy = -54.2024596995637\n",
      "converged SCF energy = -54.2168031515304\n"
     ]
    },
    {
     "data": {
      "text/plain": [
       "-54.216803151530414"
      ]
     },
     "execution_count": 62,
     "metadata": {},
     "output_type": "execute_result"
    }
   ],
   "source": [
    "nhf.kernel()\n",
    "nchf.kernel()\n",
    "nohf.kernel()"
   ]
  },
  {
   "cell_type": "code",
   "execution_count": 63,
   "metadata": {},
   "outputs": [
    {
     "name": "stdout",
     "output_type": "stream",
     "text": [
      "converged SCF energy = -108.898047903918\n",
      "converged SCF energy = -108.991204984885\n",
      "molecolar error due to basis set 0.09315708096713138\n",
      "converged SCF energy = -54.2024596995638\n",
      "converged SCF energy = -54.2168031515305\n",
      "converged SCF energy = -54.266103072602  <S^2> = 0.7556305  2S+1 = 2.0056226\n",
      "atomic error due to basis set 0.11294329410969794\n"
     ]
    }
   ],
   "source": [
    "print('molecolar error due to basis set', nn_co.kernel()-nnhf.kernel())\n",
    "print('atomic error due to basis set',nchf.kernel()+nohf.kernel()-2*nhf.kernel())"
   ]
  },
  {
   "cell_type": "code",
   "execution_count": 64,
   "metadata": {},
   "outputs": [
    {
     "name": "stdout",
     "output_type": "stream",
     "text": [
      "converged SCF energy = -105.426870589041\n",
      "converged SCF energy = -107.478024957254\n"
     ]
    },
    {
     "data": {
      "text/plain": [
       "-107.47802495725438"
      ]
     },
     "execution_count": 64,
     "metadata": {},
     "output_type": "execute_result"
    }
   ],
   "source": [
    "CO=M(atom='C 0 0 0;O 0 0 2.',basis= 'sto-3G',unit='bohr')\n",
    "NN=M(atom='N 0 0 0;N 0 0 2.',basis= 'sto-3G',unit='bohr')\n",
    "nnhf=RHF(NN)\n",
    "nn_co=qmmmcalc(CO,1)\n",
    "nn_co.kernel()\n",
    "nnhf.kernel()"
   ]
  },
  {
   "cell_type": "code",
   "execution_count": 65,
   "metadata": {},
   "outputs": [
    {
     "name": "stdout",
     "output_type": "stream",
     "text": [
      "converged SCF energy = -53.5545360887047  <S^2> = 0.75  2S+1 = 2\n",
      "converged SCF energy = -52.4503266150752\n",
      "converged SCF energy = -52.3356987471301\n"
     ]
    },
    {
     "data": {
      "text/plain": [
       "-52.335698747130074"
      ]
     },
     "execution_count": 65,
     "metadata": {},
     "output_type": "execute_result"
    }
   ],
   "source": [
    "C=M(atom='C 0 0 0',basis='sto-3G',charge=-1,spin=1)\n",
    "O=M(atom='O 0 0 0',basis='sto-3G',charge=1,spin=1)\n",
    "N=M(atom='N 0 0 0',basis='sto-3G',spin=1)\n",
    "nhf=pyscf.scf.UHF(N)\n",
    "nchf=saqmmm(C,1)\n",
    "nohf=saqmmm(O,-1)\n",
    "nhf.kernel()\n",
    "nchf.kernel()\n",
    "nohf.kernel()"
   ]
  },
  {
   "cell_type": "code",
   "execution_count": 66,
   "metadata": {},
   "outputs": [
    {
     "name": "stdout",
     "output_type": "stream",
     "text": [
      "converged SCF energy = -105.426870589041\n",
      "converged SCF energy = -107.478024957254\n",
      "molecolar error due to basis set 2.0511543682132185\n",
      "converged SCF energy = -52.4503266150752\n",
      "converged SCF energy = -52.3356987471301\n",
      "converged SCF energy = -53.5545360887047  <S^2> = 0.75  2S+1 = 2\n",
      "atomic error due to basis set 2.3230468152041226\n"
     ]
    }
   ],
   "source": [
    "print('molecolar error due to basis set', nn_co.kernel()-nnhf.kernel())\n",
    "print('atomic error due to basis set',nchf.kernel()+nohf.kernel()-2*nhf.kernel())"
   ]
  },
  {
   "cell_type": "code",
   "execution_count": 74,
   "metadata": {},
   "outputs": [
    {
     "name": "stdout",
     "output_type": "stream",
     "text": [
      "converged SCF energy = -105.426870589041\n",
      "converged SCF energy = -107.478024957254\n",
      "converged SCF energy = -52.4503266150752\n",
      "converged SCF energy = -52.3356987471301\n",
      "converged SCF energy = -53.5545360887047\n",
      "molecolar error due to basis set 2.05115436821319\n",
      "atomic error due to basis set 2.323046815204094\n",
      "converged SCF energy = -106.460477445989\n",
      "converged SCF energy = -108.523478472693\n",
      "converged SCF energy = -53.0294531802803\n",
      "converged SCF energy = -52.7760259243052\n",
      "converged SCF energy = -54.0845800998906\n",
      "molecolar error due to basis set 2.063001026703887\n",
      "atomic error due to basis set 2.3636810951958296\n",
      "converged SCF energy = -106.480338237707\n",
      "converged SCF energy = -108.29889701394\n",
      "converged SCF energy = -52.9123697614081\n",
      "converged SCF energy = -53.1309572497241\n",
      "converged SCF energy = -53.9598946415259\n",
      "molecolar error due to basis set 1.8185587762333455\n",
      "atomic error due to basis set 1.876462271919607\n",
      "converged SCF energy = -107.094345834234\n",
      "converged SCF energy = -108.94172152653\n",
      "converged SCF energy = -53.2046694342557\n",
      "converged SCF energy = -53.3738988713407\n",
      "converged SCF energy = -54.2420437167094\n",
      "molecolar error due to basis set 1.8473756922958557\n",
      "atomic error due to basis set 1.9055191278223873\n",
      "converged SCF energy = -108.500673249699\n",
      "converged SCF energy = -108.986281035916\n",
      "converged SCF energy = -53.7932985837937\n",
      "converged SCF energy = -54.0097344541335\n",
      "converged SCF energy = -54.2596093799114\n",
      "molecolar error due to basis set 0.48560778621705936\n",
      "atomic error due to basis set 0.7161857218955561\n",
      "converged SCF energy = -108.972281217817\n",
      "converged SCF energy = -108.994744585332\n",
      "converged SCF energy = -54.2411787996417\n",
      "converged SCF energy = -54.2575916032818\n",
      "converged SCF energy = -54.2634359473714\n",
      "molecolar error due to basis set 0.02246336751412059\n",
      "atomic error due to basis set 0.028101491819342073\n",
      "converged SCF energy = -108.898047903918\n",
      "converged SCF energy = -108.991204984885\n",
      "converged SCF energy = -54.2024596995638\n",
      "converged SCF energy = -54.2168031515305\n",
      "converged SCF energy = -54.2617703401479\n",
      "molecolar error due to basis set 0.09315708096710296\n",
      "atomic error due to basis set 0.10427782920157824\n",
      "converged SCF energy = -108.987883687278\n",
      "converged SCF energy = -108.995553453532\n",
      "converged SCF energy = -54.2568302349999\n",
      "converged SCF energy = -54.2614560787476\n",
      "converged SCF energy = -54.2638653102402\n",
      "molecolar error due to basis set 0.007669766253513899\n",
      "atomic error due to basis set 0.009444306732831365\n"
     ]
    }
   ],
   "source": [
    "basis=['sto-3G','sto-6G','3-21G','6-31G*','cc-pVTZ','aug-ccpvqz','def2-TZVP','def2-QZVPP']\n",
    "atoms_error={}\n",
    "molecule_error={}\n",
    "for base in basis:\n",
    "    CO=M(atom='C 0 0 0;O 0 0 2.',basis=base ,unit='bohr')\n",
    "    NN=M(atom='N 0 0 0;N 0 0 2.',basis=base,unit='bohr')\n",
    "    nnhf=RHF(NN)\n",
    "    nn_co=qmmmcalc(CO,1)\n",
    "    C=M(atom='C 0 0 0',basis=base,charge=-1,spin=1)\n",
    "    O=M(atom='O 0 0 0',basis=base,charge=1,spin=1)\n",
    "    N=M(atom='N 0 0 0',basis=base,spin=1)\n",
    "    nhf=pyscf.scf.RHF(N)\n",
    "    nchf=saqmmm(C,1)\n",
    "    nohf=saqmmm(O,-1)\n",
    "    me=nn_co.kernel()-nnhf.kernel()\n",
    "    ae=nchf.kernel()+nohf.kernel()-2*nhf.kernel()\n",
    "    print('molecolar error due to basis set', me)\n",
    "    print('atomic error due to basis set',ae)\n",
    "    atoms_error.update({base:ae})\n",
    "    molecule_error.update({base:me})"
   ]
  },
  {
   "cell_type": "code",
   "execution_count": 80,
   "metadata": {},
   "outputs": [
    {
     "data": {
      "text/plain": [
       "[<matplotlib.lines.Line2D at 0x7f62254c06a0>]"
      ]
     },
     "execution_count": 80,
     "metadata": {},
     "output_type": "execute_result"
    },
    {
     "data": {
      "image/png": "[encoded data removed]",
      "text/plain": [
       "<Figure size 864x576 with 1 Axes>"
      ]
     },
     "metadata": {
      "needs_background": "light"
     },
     "output_type": "display_data"
    }
   ],
   "source": [
    "fig=plt.figure(figsize=(12,8))\n",
    "plt.plot([atoms_error[x]for x in atoms_error.keys()])\n",
    "plt.plot([molecule_error[x]for x in molecule_error.keys()])"
   ]
  },
  {
   "cell_type": "code",
   "execution_count": 79,
   "metadata": {},
   "outputs": [
    {
     "data": {
      "text/plain": [
       "[<matplotlib.lines.Line2D at 0x7f6225506208>]"
      ]
     },
     "execution_count": 79,
     "metadata": {},
     "output_type": "execute_result"
    },
    {
     "data": {
      "image/png": "[encoded data removed]",
      "text/plain": [
       "<Figure size 864x576 with 1 Axes>"
      ]
     },
     "metadata": {
      "needs_background": "light"
     },
     "output_type": "display_data"
    }
   ],
   "source": [
    "fig=plt.figure(figsize=(12,8))\n",
    "plt.plot([atoms_error[x]-molecule_error[x] for x in molecule_error.keys()])"
   ]
  },
  {
   "cell_type": "code",
   "execution_count": 47,
   "metadata": {
    "scrolled": true
   },
   "outputs": [
    {
     "name": "stdout",
     "output_type": "stream",
     "text": [
      "converged SCF energy = -53.5545360887047\n",
      "-53.719010162593925\n"
     ]
    }
   ],
   "source": [
    "from pyscf import gto, scf, ao2mo, fci\n",
    "mol = N\n",
    "mf = scf.RHF(mol).run()\n",
    "h1 = mf.mo_coeff.T.dot(mf.get_hcore()).dot(mf.mo_coeff)\n",
    "eri = ao2mo.kernel(mol, mf.mo_coeff)\n",
    "cisolver = fci.direct_spin1.FCI(mol)\n",
    "e, ci = cisolver.kernel(h1, eri, h1.shape[1], mol.nelec, ecore=mol.energy_nuc(),verbose=5)\n",
    "print(e)"
   ]
  },
  {
   "cell_type": "code",
   "execution_count": 50,
   "metadata": {},
   "outputs": [
    {
     "name": "stdout",
     "output_type": "stream",
     "text": [
      "converged SCF energy = -52.4503266150752\n",
      "-52.59540118080676\n"
     ]
    }
   ],
   "source": [
    "mol = C\n",
    "mf = saqmmm(mol,1).run()\n",
    "h1 = mf.mo_coeff.T.dot(mf.get_hcore()).dot(mf.mo_coeff)\n",
    "eri = ao2mo.kernel(mol, mf.mo_coeff)\n",
    "cisolver = fci.direct_spin1.FCI(mol)\n",
    "e, ci = cisolver.kernel(h1, eri, h1.shape[1], mol.nelec, ecore=mol.energy_nuc(),verbose=5)\n",
    "print(e)"
   ]
  },
  {
   "cell_type": "code",
   "execution_count": 51,
   "metadata": {},
   "outputs": [
    {
     "name": "stdout",
     "output_type": "stream",
     "text": [
      "converged SCF energy = -52.3356987471301\n",
      "-52.52547652760362\n"
     ]
    }
   ],
   "source": [
    "mol = O\n",
    "mf = saqmmm(mol,-1).run()\n",
    "h1 = mf.mo_coeff.T.dot(mf.get_hcore()).dot(mf.mo_coeff)\n",
    "eri = ao2mo.kernel(mol, mf.mo_coeff)\n",
    "cisolver = fci.direct_spin1.FCI(mol)\n",
    "e, ci = cisolver.kernel(h1, eri, h1.shape[1], mol.nelec, ecore=mol.energy_nuc(),verbose=5)\n",
    "print(e)"
   ]
  }
 ],
 "metadata": {
  "kernelspec": {
   "display_name": "Python 3",
   "language": "python",
   "name": "python3"
  },
  "language_info": {
   "codemirror_mode": {
    "name": "ipython",
    "version": 3
   },
   "file_extension": ".py",
   "mimetype": "text/x-python",
   "name": "python",
   "nbconvert_exporter": "python",
   "pygments_lexer": "ipython3",
   "version": "3.6.8"
  }
 },
 "nbformat": 4,
 "nbformat_minor": 2
}
