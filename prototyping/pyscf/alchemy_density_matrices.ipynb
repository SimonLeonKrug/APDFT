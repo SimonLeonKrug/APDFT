{
 "cells": [
  {
   "cell_type": "code",
   "execution_count": 1,
   "metadata": {},
   "outputs": [],
   "source": [
    "import pyscf\n",
    "import pyscf.tools\n",
    "import pyscf.cc\n",
    "import pyscf.qmmm\n",
    "from pyscf import lib\n",
    "from pyscf import gto\n",
    "from pyscf import df\n",
    "from pyscf import scf\n",
    "from pyscf import mcscf\n",
    "from pyscf import grad\n",
    "from pyscf.lib import logger\n",
    "from pyscf.scf import RHF\n",
    "import pyscf.lib\n",
    "import numpy as np\n",
    "import numpy\n",
    "import matplotlib.pyplot as plt\n",
    "angstrom=1.889725989"
   ]
  },
  {
   "cell_type": "code",
   "execution_count": 2,
   "metadata": {},
   "outputs": [
    {
     "name": "stdout",
     "output_type": "stream",
     "text": [
      "converged SCF energy = -107.496500511798\n"
     ]
    },
    {
     "data": {
      "text/plain": [
       "-107.4965005117978"
      ]
     },
     "execution_count": 2,
     "metadata": {},
     "output_type": "execute_result"
    }
   ],
   "source": [
    "NN=pyscf.gto.M(atom='N 0 0 1.1; N 0 0 0', basis='sto3G', verbose=3)\n",
    "mf=RHF(NN)\n",
    "mf.scf()"
   ]
  },
  {
   "cell_type": "code",
   "execution_count": 3,
   "metadata": {},
   "outputs": [
    {
     "name": "stdout",
     "output_type": "stream",
     "text": [
      "[-2.75627018e+01 -6.35285045e+00  0.00000000e+00  0.00000000e+00\n",
      "  9.38535097e-02 -3.00178430e-04 -1.39169276e+00  0.00000000e+00\n",
      "  0.00000000e+00 -2.31837148e+00]\n",
      "[ 1.20533259e+01  2.41964519e+00  4.91562321e-18 -6.42030596e-17\n",
      " -6.11342362e-02 -4.79474449e-04  5.24307596e-01 -2.28026399e-19\n",
      " -1.22029623e-17  8.81504407e-01]\n",
      "[ 2.10647611e+00 -4.26665347e-01 -1.92629107e-17  1.27355136e-16\n",
      " -1.06156169e-01  1.33150500e-02  6.20895753e-03  1.15869317e-17\n",
      "  5.33785411e-17 -1.01810643e-01]\n"
     ]
    }
   ],
   "source": [
    "# the operators in 2nd quantiation\n",
    "print(mf.get_hcore()[0])  #monoelettronic NE + kin   \n",
    "print(mf.get_veff()[0])  # bielettronic operator takes as input argument (mol, dm )\n",
    "print(mf.make_rdm1()[0])  # density matrix"
   ]
  },
  {
   "cell_type": "code",
   "execution_count": 4,
   "metadata": {},
   "outputs": [
    {
     "name": "stdout",
     "output_type": "stream",
     "text": [
      "(-131.06893990732507, 61.31408085684189)\n",
      "23.572439395527272 equally 23.572439395527272\n",
      "-107.4965005117978\n",
      "-107.4965005117978\n"
     ]
    }
   ],
   "source": [
    "#get the partial energy\n",
    "print(mf.energy_elec())\n",
    "print(mf.energy_nuc(),'equally',NN.energy_nuc())\n",
    "print(mf.energy_tot())\n",
    "print(mf.energy_elec()[0]+mf.energy_nuc())"
   ]
  },
  {
   "cell_type": "code",
   "execution_count": 5,
   "metadata": {},
   "outputs": [],
   "source": [
    "dm=mf.make_rdm1()\n",
    "h1=mf.get_hcore()\n",
    "h2=mf.get_veff()\n",
    "S=mf.get_ovlp()"
   ]
  },
  {
   "cell_type": "code",
   "execution_count": 6,
   "metadata": {},
   "outputs": [
    {
     "name": "stdout",
     "output_type": "stream",
     "text": [
      "monoelettronic enegy =  -192.38302076416696\n",
      "Bielettronic enegy =  61.31408085684189\n",
      "the sum of those two equals =  -131.06893990732507\n",
      "Total number of electrons=  14.000000000000002\n"
     ]
    }
   ],
   "source": [
    "# examples of contraction\n",
    "print ('monoelettronic enegy = ',np.einsum('ij,ji',h1,dm))\n",
    "print ('Bielettronic enegy = ',np.einsum('ij,ji',h2,dm)/2)\n",
    "print ('the sum of those two equals = ',mf.energy_elec()[0])\n",
    "print('Total number of electrons= ',np.einsum('ij,ji',S,dm))"
   ]
  },
  {
   "cell_type": "code",
   "execution_count": 7,
   "metadata": {},
   "outputs": [
    {
     "data": {
      "text/plain": [
       "'\\n| mf.get_init_guess\\n            | mf.get_hcore\\n            | mf.get_ovlp\\n            | mf.get_veff\\n            | mf.get_fock\\n            | mf.get_grad\\n            | mf.eig\\n            | mf.get_occ\\n            | mf.make_rdm1\\n            | mf.energy_tot\\n            | mf.dump_chk\\n'"
      ]
     },
     "execution_count": 7,
     "metadata": {},
     "output_type": "execute_result"
    }
   ],
   "source": [
    "\"\"\"\n",
    "| mf.get_init_guess\n",
    "            | mf.get_hcore\n",
    "            | mf.get_ovlp\n",
    "            | mf.get_veff\n",
    "            | mf.get_fock\n",
    "            | mf.get_grad\n",
    "            | mf.eig\n",
    "            | mf.get_occ\n",
    "            | mf.make_rdm1\n",
    "            | mf.energy_tot\n",
    "            | mf.dump_chk\n",
    "\"\"\"\n"
   ]
  },
  {
   "cell_type": "code",
   "execution_count": 8,
   "metadata": {},
   "outputs": [
    {
     "data": {
      "text/plain": [
       "<matplotlib.image.AxesImage at 0x7f09185bfe48>"
      ]
     },
     "execution_count": 8,
     "metadata": {},
     "output_type": "execute_result"
    },
    {
     "data": {
      "image/png": "[encoded data removed]",
      "text/plain": [
       "<Figure size 288x288 with 1 Axes>"
      ]
     },
     "metadata": {
      "needs_background": "light"
     },
     "output_type": "display_data"
    }
   ],
   "source": [
    "plt.matshow(NN.intor_symmetric('int1e_nuc'))"
   ]
  },
  {
   "cell_type": "code",
   "execution_count": 9,
   "metadata": {},
   "outputs": [
    {
     "name": "stdout",
     "output_type": "stream",
     "text": [
      "[[ 7 20  1 23  0  0]\n",
      " [ 7 24  1 27  0  0]]\n",
      "converged SCF energy = -107.496500511798\n"
     ]
    },
    {
     "data": {
      "text/plain": [
       "-107.49650051179783"
      ]
     },
     "execution_count": 9,
     "metadata": {},
     "output_type": "execute_result"
    }
   ],
   "source": [
    "print(NN._atm)\n",
    "mf.scf()"
   ]
  },
  {
   "cell_type": "code",
   "execution_count": 23,
   "metadata": {},
   "outputs": [
    {
     "name": "stdout",
     "output_type": "stream",
     "text": [
      "10\n",
      "[[ 0  0  3  1  0 28 31  0]\n",
      " [ 0  0  3  1  0 34 37  0]\n",
      " [ 0  1  3  1  0 40 43  0]\n",
      " [ 1  0  3  1  0 28 31  0]\n",
      " [ 1  0  3  1  0 34 37  0]\n",
      " [ 1  1  3  1  0 40 43  0]]\n",
      "[137.03599968   0.           0.           0.           0.\n",
      "   0.           0.           0.           0.           0.\n",
      "   0.           0.           0.           0.           0.\n",
      "   0.           0.           0.           0.           0.\n",
      "   0.           0.           2.07869874   0.           0.\n",
      "   0.           0.           0.          99.106169    18.052312\n",
      "   4.8856602   12.24723354  11.84499063   3.69156624   3.7804559\n",
      "   0.8784966    0.2857144   -0.68474806   0.91590581   0.69124784\n",
      "   3.7804559    0.8784966    0.2857144    2.39776185   1.50777694\n",
      "   0.23885724]\n"
     ]
    }
   ],
   "source": [
    "print(NN.nao)\n",
    "print(NN._bas)\n",
    "print(NN._env)\n",
    "from pyscf import lib"
   ]
  },
  {
   "cell_type": "code",
   "execution_count": 48,
   "metadata": {},
   "outputs": [
    {
     "name": "stdout",
     "output_type": "stream",
     "text": [
      "angstrom\n",
      "False\n",
      "200\n"
     ]
    }
   ],
   "source": [
    "#copy and paste of the qmm_charge method to obtain the delta V operator on the AO basis \n",
    "\n",
    "print(NN.unit)\n",
    "print(NN.cart)\n",
    "intor = 'int3c2e_sph'\n",
    "cintopt = gto.moleintor.make_cintopt(NN._atm, NN._bas,NN._env, intor)\n",
    "coords,charges=NN.atom_coords(), np.asarray([-1,1])\n",
    "dv = 0\n",
    "blksize = int(min(mf.max_memory*1e6/8/NN.nao**2, 200))\n",
    "print(blksize)\n",
    "for i0, i1 in lib.prange(0, charges.size, blksize):\n",
    "    fakemol = gto.fakemol_for_charges(coords[i0:i1])\n",
    "    j3c = df.incore.aux_e2(NN, fakemol, intor=intor, aosym='s2ij', cintopt=cintopt)\n",
    "    dv += numpy.einsum('xk,k->x', j3c, -charges[i0:i1])"
   ]
  },
  {
   "cell_type": "code",
   "execution_count": 49,
   "metadata": {},
   "outputs": [
    {
     "data": {
      "text/plain": [
       "(10, 10)"
      ]
     },
     "execution_count": 49,
     "metadata": {},
     "output_type": "execute_result"
    }
   ],
   "source": [
    "dv = lib.unpack_tril(dv)\n",
    "dv.shape"
   ]
  },
  {
   "cell_type": "code",
   "execution_count": 51,
   "metadata": {},
   "outputs": [
    {
     "data": {
      "text/plain": [
       "4.773959005888173e-15"
      ]
     },
     "execution_count": 51,
     "metadata": {},
     "output_type": "execute_result"
    }
   ],
   "source": [
    "np.einsum('ij,ji',dv,dm) # the first alchemical derivative is null"
   ]
  },
  {
   "cell_type": "code",
   "execution_count": 55,
   "metadata": {},
   "outputs": [
    {
     "name": "stdout",
     "output_type": "stream",
     "text": [
      "converged SCF energy = -111.219048454705\n"
     ]
    },
    {
     "data": {
      "text/plain": [
       "-111.21904845470533"
      ]
     },
     "execution_count": 55,
     "metadata": {},
     "output_type": "execute_result"
    }
   ],
   "source": [
    "CO=pyscf.gto.M(atom='C 0 0 0;O 0 0 1.1',basis='sto3G')\n",
    "mfc=RHF(CO)\n",
    "mfc.kernel()"
   ]
  },
  {
   "cell_type": "code",
   "execution_count": 56,
   "metadata": {},
   "outputs": [],
   "source": [
    "dmc=mfc.make_rdm1()\n"
   ]
  },
  {
   "cell_type": "code",
   "execution_count": 64,
   "metadata": {},
   "outputs": [],
   "source": [
    "def first_a_der(mol,charges=np.asarray([1,-1])):\n",
    "    intor = 'int3c2e_sph'\n",
    "    cintopt = gto.moleintor.make_cintopt(mol._atm, mol._bas, mol._env, intor)\n",
    "    coords=mol.atom_coords()\n",
    "    dV = 0\n",
    "    blksize = int(min(mf.max_memory*1e6/8/mol.nao**2, 200))\n",
    "    for i0, i1 in lib.prange(0, charges.size, blksize):\n",
    "        fakemol = gto.fakemol_for_charges(coords[i0:i1])\n",
    "        j3c = df.incore.aux_e2(mol, fakemol, intor=intor, aosym='s2ij', cintopt=cintopt)\n",
    "        dV += numpy.einsum('xk,k->x', j3c, -charges[i0:i1])\n",
    "    dV = lib.unpack_tril(dV)\n",
    "    return dV\n"
   ]
  },
  {
   "cell_type": "code",
   "execution_count": 71,
   "metadata": {},
   "outputs": [],
   "source": [
    "dV_CO=first_a_der(CO)"
   ]
  },
  {
   "cell_type": "code",
   "execution_count": 72,
   "metadata": {},
   "outputs": [
    {
     "data": {
      "text/plain": [
       "6.340187073203955"
      ]
     },
     "execution_count": 72,
     "metadata": {},
     "output_type": "execute_result"
    }
   ],
   "source": [
    "np.einsum('ij,ji',first_a_der(CO),dmc)"
   ]
  },
  {
   "cell_type": "code",
   "execution_count": 78,
   "metadata": {},
   "outputs": [],
   "source": [
    "def dens_dh(mol,dh):\n",
    "    deltaZ = np.array((dh,-dh))\n",
    "    mf = pyscf.qmmm.mm_charge(pyscf.scf.RHF(mol), mol.atom_coords()/1.889725989, deltaZ)\n",
    "    class NoSelfQMMM(mf.__class__):\n",
    "        def energy_nuc(self):\n",
    "            e_nuc=self.mol.energy_nuc()\n",
    "            e_nuc-=dh**2/np.linalg.norm(self.mol.atom_coords()[0]-self.mol.atom_coords()[1])\n",
    "            return e_nuc\n",
    "    mf = NoSelfQMMM()\n",
    "    en=mf.scf()\n",
    "    return mf.make_rdm1(),en"
   ]
  },
  {
   "cell_type": "code",
   "execution_count": 79,
   "metadata": {},
   "outputs": [
    {
     "name": "stdout",
     "output_type": "stream",
     "text": [
      "converged SCF energy = -110.599886208879\n"
     ]
    },
    {
     "data": {
      "text/plain": [
       "(array([[ 2.12035010e+00, -4.46878090e-01,  1.05291460e-16,\n",
       "          3.74413100e-17,  1.27357892e-01,  1.40044952e-02,\n",
       "         -2.18328418e-03, -2.17107845e-17,  2.95031684e-17,\n",
       "          1.20998756e-01],\n",
       "        [-4.46878090e-01,  1.85094505e+00, -4.97338852e-16,\n",
       "         -4.40696163e-16, -7.19634444e-01,  9.36277832e-03,\n",
       "         -2.62520639e-01,  8.44289834e-17, -1.96724483e-16,\n",
       "         -1.27658657e-01],\n",
       "        [ 1.05291460e-16, -4.97338852e-16,  4.56364231e-01,\n",
       "         -4.30211422e-16,  2.56498428e-16,  1.27449897e-17,\n",
       "         -1.27167633e-17,  7.27497376e-01, -3.05311332e-16,\n",
       "         -2.70857052e-16],\n",
       "        [ 3.74413100e-17, -4.40696163e-16, -4.30211422e-16,\n",
       "          4.56364231e-01,  1.68591706e-16, -7.41331220e-16,\n",
       "          3.62333502e-16, -1.94289029e-16,  7.27497376e-01,\n",
       "         -6.25678114e-16],\n",
       "        [ 1.27357892e-01, -7.19634444e-01,  2.56498428e-16,\n",
       "          1.68591706e-16,  7.49259873e-01, -8.78793599e-02,\n",
       "          1.39558796e-01, -2.20523998e-16, -5.78090477e-16,\n",
       "         -6.58334373e-01],\n",
       "        [ 1.40044952e-02,  9.36277832e-03,  1.27449897e-17,\n",
       "         -7.41331220e-16, -8.78793599e-02,  2.10780264e+00,\n",
       "         -4.40003019e-01,  3.77808229e-17,  9.49162076e-17,\n",
       "         -9.14977415e-02],\n",
       "        [-2.18328418e-03, -2.62520639e-01, -1.27167633e-17,\n",
       "          3.62333502e-16,  1.39558796e-01, -4.40003019e-01,\n",
       "          1.97415497e+00, -2.07607740e-17,  3.33086243e-17,\n",
       "          5.43883234e-01],\n",
       "        [-2.17107845e-17,  8.44289834e-17,  7.27497376e-01,\n",
       "         -1.94289029e-16, -2.20523998e-16,  3.77808229e-17,\n",
       "         -2.07607740e-17,  1.15971497e+00,  2.91433544e-16,\n",
       "         -1.29733052e-17],\n",
       "        [ 2.95031684e-17, -1.96724483e-16, -3.05311332e-16,\n",
       "          7.27497376e-01, -5.78090477e-16,  9.49162076e-17,\n",
       "          3.33086243e-17,  2.91433544e-16,  1.15971497e+00,\n",
       "         -2.24897139e-16],\n",
       "        [ 1.20998756e-01, -1.27658657e-01, -2.70857052e-16,\n",
       "         -6.25678114e-16, -6.58334373e-01, -9.14977415e-02,\n",
       "          5.43883234e-01, -1.29733052e-17, -2.24897139e-16,\n",
       "          1.25637171e+00]]), -110.59988620887889)"
      ]
     },
     "execution_count": 79,
     "metadata": {},
     "output_type": "execute_result"
    }
   ],
   "source": [
    "dens_dh(CO,.1)"
   ]
  },
  {
   "cell_type": "code",
   "execution_count": 80,
   "metadata": {},
   "outputs": [
    {
     "name": "stdout",
     "output_type": "stream",
     "text": [
      "converged SCF energy = -106.405205737936\n"
     ]
    },
    {
     "data": {
      "text/plain": [
       "(array([[ 2.13232892e+00, -5.11530998e-01, -4.15007279e-17,\n",
       "          1.32632097e-17,  4.00106657e-02,  1.71451985e-02,\n",
       "          5.48760494e-02, -3.99961334e-17,  2.79525018e-17,\n",
       "          7.05546465e-02],\n",
       "        [-5.11530998e-01,  1.92595341e+00, -2.58475379e-17,\n",
       "         -8.10504003e-17, -5.27837524e-01, -1.18439125e-01,\n",
       "         -1.58678198e-01,  7.24869278e-17, -2.06156383e-16,\n",
       "         -1.95794297e-01],\n",
       "        [-4.15007279e-17, -2.58475379e-17,  1.08779929e+00,\n",
       "         -1.22124533e-15, -1.41706301e-18, -3.77113561e-17,\n",
       "          1.86368615e-16,  7.49635729e-01,  6.66133815e-16,\n",
       "         -4.77664125e-16],\n",
       "        [ 1.32632097e-17, -8.10504003e-17, -1.22124533e-15,\n",
       "          1.08779929e+00, -4.73536021e-16, -9.20929217e-17,\n",
       "          8.60090428e-16, -5.55111512e-17,  7.49635729e-01,\n",
       "          4.59245133e-16],\n",
       "        [ 4.00106657e-02, -5.27837524e-01, -1.41706301e-18,\n",
       "         -4.73536021e-16,  1.10072203e+00, -2.23937470e-01,\n",
       "          1.43867021e-01, -1.62211991e-16,  7.24037804e-18,\n",
       "         -6.37983024e-01],\n",
       "        [ 1.71451985e-02, -1.18439125e-01, -3.77113561e-17,\n",
       "         -9.20929217e-17, -2.23937470e-01,  2.06377015e+00,\n",
       "         -2.58404217e-01,  1.11326874e-16, -1.10822163e-16,\n",
       "         -2.42465531e-01],\n",
       "        [ 5.48760494e-02, -1.58678198e-01,  1.86368615e-16,\n",
       "          8.60090428e-16,  1.43867021e-01, -2.58404217e-01,\n",
       "          1.62689145e+00, -1.98247457e-17,  1.80011918e-16,\n",
       "          8.15307449e-01],\n",
       "        [-3.99961334e-17,  7.24869278e-17,  7.49635729e-01,\n",
       "         -5.55111512e-17, -1.62211991e-16,  1.11326874e-16,\n",
       "         -1.98247457e-17,  5.16596886e-01,  9.99200722e-16,\n",
       "         -3.22262236e-16],\n",
       "        [ 2.79525018e-17, -2.06156383e-16,  6.66133815e-16,\n",
       "          7.49635729e-01,  7.24037804e-18, -1.10822163e-16,\n",
       "          1.80011918e-16,  9.99200722e-16,  5.16596886e-01,\n",
       "         -1.20744067e-16],\n",
       "        [ 7.05546465e-02, -1.95794297e-01, -4.77664125e-16,\n",
       "          4.59245133e-16, -6.37983024e-01, -2.42465531e-01,\n",
       "          8.15307449e-01, -3.22262236e-16, -1.20744067e-16,\n",
       "          1.04582459e+00]]), -106.40520573793577)"
      ]
     },
     "execution_count": 80,
     "metadata": {},
     "output_type": "execute_result"
    }
   ],
   "source": [
    "dens_dh(CO,1)"
   ]
  },
  {
   "cell_type": "code",
   "execution_count": null,
   "metadata": {},
   "outputs": [],
   "source": []
  }
 ],
 "metadata": {
  "kernelspec": {
   "display_name": "Python 3",
   "language": "python",
   "name": "python3"
  },
  "language_info": {
   "codemirror_mode": {
    "name": "ipython",
    "version": 3
   },
   "file_extension": ".py",
   "mimetype": "text/x-python",
   "name": "python",
   "nbconvert_exporter": "python",
   "pygments_lexer": "ipython3",
   "version": "3.6.8"
  }
 },
 "nbformat": 4,
 "nbformat_minor": 2
}
