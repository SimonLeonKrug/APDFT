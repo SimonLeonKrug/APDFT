{
 "cells": [
  {
   "cell_type": "code",
   "execution_count": 1,
   "metadata": {},
   "outputs": [],
   "source": [
    "import pyscf\n",
    "import pyscf.tools\n",
    "import pyscf.cc\n",
    "import pyscf.qmmm\n",
    "from pyscf import lib\n",
    "from pyscf import gto\n",
    "from pyscf import df\n",
    "from pyscf import scf\n",
    "from pyscf import mcscf\n",
    "from pyscf import grad\n",
    "from pyscf.lib import logger\n",
    "from pyscf.scf import RHF\n",
    "import pyscf.lib\n",
    "import numpy as np\n",
    "import numpy\n",
    "import matplotlib.pyplot as plt\n",
    "angstrom=1.889725989"
   ]
  },
  {
   "cell_type": "code",
   "execution_count": 31,
   "metadata": {},
   "outputs": [
    {
     "name": "stdout",
     "output_type": "stream",
     "text": [
      "converged SCF energy = -107.496500511798\n",
      "converged SCF energy = -107.496500511798\n"
     ]
    }
   ],
   "source": [
    "NN=pyscf.gto.M(atom='N 0 0 1.1; N 0 0 0', basis='sto3G', verbose=3)\n",
    "mf=RHF(NN)\n",
    "mf.scf()\n",
    "e_NN=mf.scf()"
   ]
  },
  {
   "cell_type": "code",
   "execution_count": 3,
   "metadata": {},
   "outputs": [
    {
     "name": "stdout",
     "output_type": "stream",
     "text": [
      "[-2.75627018e+01 -6.35285045e+00  0.00000000e+00  0.00000000e+00\n",
      "  9.38535097e-02 -3.00178430e-04 -1.39169276e+00  0.00000000e+00\n",
      "  0.00000000e+00 -2.31837148e+00]\n",
      "[ 1.20533259e+01  2.41964519e+00 -2.80291933e-18  4.94352361e-17\n",
      " -6.11342362e-02 -4.79474449e-04  5.24307596e-01  1.96444952e-18\n",
      "  1.63468257e-17  8.81504407e-01]\n",
      "[ 2.10647611e+00 -4.26665347e-01  3.15143677e-17 -6.56116587e-17\n",
      " -1.06156169e-01  1.33150500e-02  6.20895753e-03 -1.93202164e-17\n",
      " -1.85097710e-16 -1.01810643e-01]\n"
     ]
    }
   ],
   "source": [
    "# the operators in 2nd quantiation\n",
    "print(mf.get_hcore()[0])  #monoelettronic NE + kin   \n",
    "print(mf.get_veff()[0])  # bielettronic operator takes as input argument (mol, dm )\n",
    "print(mf.make_rdm1()[0])  # density matrix"
   ]
  },
  {
   "cell_type": "code",
   "execution_count": 4,
   "metadata": {},
   "outputs": [
    {
     "name": "stdout",
     "output_type": "stream",
     "text": [
      "(-131.0689399073251, 61.3140808568419)\n",
      "23.572439395527272 equally 23.572439395527272\n",
      "-107.49650051179783\n",
      "-107.49650051179783\n"
     ]
    }
   ],
   "source": [
    "#get the partial energy\n",
    "print(mf.energy_elec())\n",
    "print(mf.energy_nuc(),'equally',NN.energy_nuc())\n",
    "print(mf.energy_tot())\n",
    "print(mf.energy_elec()[0]+mf.energy_nuc())"
   ]
  },
  {
   "cell_type": "code",
   "execution_count": 5,
   "metadata": {},
   "outputs": [],
   "source": [
    "dm=mf.make_rdm1()\n",
    "h1=mf.get_hcore()\n",
    "h2=mf.get_veff()\n",
    "S=mf.get_ovlp()"
   ]
  },
  {
   "cell_type": "code",
   "execution_count": 6,
   "metadata": {},
   "outputs": [
    {
     "name": "stdout",
     "output_type": "stream",
     "text": [
      "monoelettronic enegy =  -192.38302076416701\n",
      "Bielettronic enegy =  61.3140808568419\n",
      "the sum of those two equals =  -131.0689399073251\n",
      "Total number of electrons=  14.0\n"
     ]
    }
   ],
   "source": [
    "# examples of contraction\n",
    "print ('monoelettronic enegy = ',np.einsum('ij,ji',h1,dm))\n",
    "print ('Bielettronic enegy = ',np.einsum('ij,ji',h2,dm)/2)\n",
    "print ('the sum of those two equals = ',mf.energy_elec()[0])\n",
    "print('Total number of electrons= ',np.einsum('ij,ji',S,dm))"
   ]
  },
  {
   "cell_type": "code",
   "execution_count": 7,
   "metadata": {},
   "outputs": [
    {
     "data": {
      "text/plain": [
       "'\\n| mf.get_init_guess\\n            | mf.get_hcore\\n            | mf.get_ovlp\\n            | mf.get_veff\\n            | mf.get_fock\\n            | mf.get_grad\\n            | mf.eig\\n            | mf.get_occ\\n            | mf.make_rdm1\\n            | mf.energy_tot\\n            | mf.dump_chk\\n'"
      ]
     },
     "execution_count": 7,
     "metadata": {},
     "output_type": "execute_result"
    }
   ],
   "source": [
    "\"\"\"\n",
    "| mf.get_init_guess\n",
    "            | mf.get_hcore\n",
    "            | mf.get_ovlp\n",
    "            | mf.get_veff\n",
    "            | mf.get_fock\n",
    "            | mf.get_grad\n",
    "            | mf.eig\n",
    "            | mf.get_occ\n",
    "            | mf.make_rdm1\n",
    "            | mf.energy_tot\n",
    "            | mf.dump_chk\n",
    "\"\"\"\n"
   ]
  },
  {
   "cell_type": "code",
   "execution_count": 8,
   "metadata": {},
   "outputs": [
    {
     "data": {
      "text/plain": [
       "<matplotlib.image.AxesImage at 0x7f60886f0860>"
      ]
     },
     "execution_count": 8,
     "metadata": {},
     "output_type": "execute_result"
    },
    {
     "data": {
      "image/png": "[encoded data removed]",
      "text/plain": [
       "<Figure size 288x288 with 1 Axes>"
      ]
     },
     "metadata": {
      "needs_background": "light"
     },
     "output_type": "display_data"
    }
   ],
   "source": [
    "plt.matshow(NN.intor_symmetric('int1e_nuc'))"
   ]
  },
  {
   "cell_type": "code",
   "execution_count": 9,
   "metadata": {},
   "outputs": [
    {
     "name": "stdout",
     "output_type": "stream",
     "text": [
      "[[ 7 20  1 23  0  0]\n",
      " [ 7 24  1 27  0  0]]\n",
      "converged SCF energy = -107.496500511798\n"
     ]
    },
    {
     "data": {
      "text/plain": [
       "-107.49650051179789"
      ]
     },
     "execution_count": 9,
     "metadata": {},
     "output_type": "execute_result"
    }
   ],
   "source": [
    "print(NN._atm)\n",
    "mf.scf()"
   ]
  },
  {
   "cell_type": "code",
   "execution_count": 10,
   "metadata": {},
   "outputs": [
    {
     "name": "stdout",
     "output_type": "stream",
     "text": [
      "10\n",
      "[[ 0  0  3  1  0 28 31  0]\n",
      " [ 0  0  3  1  0 34 37  0]\n",
      " [ 0  1  3  1  0 40 43  0]\n",
      " [ 1  0  3  1  0 28 31  0]\n",
      " [ 1  0  3  1  0 34 37  0]\n",
      " [ 1  1  3  1  0 40 43  0]]\n",
      "[137.03599968   0.           0.           0.           0.\n",
      "   0.           0.           0.           0.           0.\n",
      "   0.           0.           0.           0.           0.\n",
      "   0.           0.           0.           0.           0.\n",
      "   0.           0.           2.07869874   0.           0.\n",
      "   0.           0.           0.          99.106169    18.052312\n",
      "   4.8856602   12.24723354  11.84499063   3.69156624   3.7804559\n",
      "   0.8784966    0.2857144   -0.68474806   0.91590581   0.69124784\n",
      "   3.7804559    0.8784966    0.2857144    2.39776185   1.50777694\n",
      "   0.23885724]\n"
     ]
    }
   ],
   "source": [
    "print(NN.nao)\n",
    "print(NN._bas)\n",
    "print(NN._env)\n",
    "from pyscf import lib"
   ]
  },
  {
   "cell_type": "code",
   "execution_count": 11,
   "metadata": {},
   "outputs": [
    {
     "name": "stdout",
     "output_type": "stream",
     "text": [
      "angstrom\n",
      "False\n",
      "200\n"
     ]
    }
   ],
   "source": [
    "#copy and paste of the qmm_charge method to obtain the delta V operator on the AO basis \n",
    "\n",
    "print(NN.unit)\n",
    "print(NN.cart)\n",
    "intor = 'int3c2e_sph'\n",
    "cintopt = gto.moleintor.make_cintopt(NN._atm, NN._bas,NN._env, intor)\n",
    "coords,charges=NN.atom_coords(), np.asarray([-1,1])\n",
    "dv = 0\n",
    "blksize = int(min(mf.max_memory*1e6/8/NN.nao**2, 200))\n",
    "print(blksize)\n",
    "for i0, i1 in lib.prange(0, charges.size, blksize):\n",
    "    fakemol = gto.fakemol_for_charges(coords[i0:i1])\n",
    "    j3c = df.incore.aux_e2(NN, fakemol, intor=intor, aosym='s2ij', cintopt=cintopt)\n",
    "    dv += numpy.einsum('xk,k->x', j3c, -charges[i0:i1])"
   ]
  },
  {
   "cell_type": "code",
   "execution_count": 12,
   "metadata": {},
   "outputs": [
    {
     "data": {
      "text/plain": [
       "(10, 10)"
      ]
     },
     "execution_count": 12,
     "metadata": {},
     "output_type": "execute_result"
    }
   ],
   "source": [
    "dv = lib.unpack_tril(dv)\n",
    "dv.shape"
   ]
  },
  {
   "cell_type": "code",
   "execution_count": 13,
   "metadata": {},
   "outputs": [
    {
     "data": {
      "text/plain": [
       "1.1102230246251565e-16"
      ]
     },
     "execution_count": 13,
     "metadata": {},
     "output_type": "execute_result"
    }
   ],
   "source": [
    "np.einsum('ij,ji',dv,dm) # the first alchemical derivative is null"
   ]
  },
  {
   "cell_type": "code",
   "execution_count": 22,
   "metadata": {},
   "outputs": [
    {
     "name": "stdout",
     "output_type": "stream",
     "text": [
      "converged SCF energy = -111.219048454705\n"
     ]
    }
   ],
   "source": [
    "CO=pyscf.gto.M(atom='C 0 0 0;O 0 0 1.1',basis='sto3G')\n",
    "mfc=RHF(CO)\n",
    "e_CO=mfc.kernel()"
   ]
  },
  {
   "cell_type": "code",
   "execution_count": 15,
   "metadata": {},
   "outputs": [],
   "source": [
    "dmc=mfc.make_rdm1()\n"
   ]
  },
  {
   "cell_type": "code",
   "execution_count": 16,
   "metadata": {},
   "outputs": [],
   "source": [
    "def first_a_der(mol,charges=np.asarray([1,-1])):\n",
    "    intor = 'int3c2e_sph'\n",
    "    cintopt = gto.moleintor.make_cintopt(mol._atm, mol._bas, mol._env, intor)\n",
    "    coords=mol.atom_coords()\n",
    "    dV = 0\n",
    "    blksize = int(min(mf.max_memory*1e6/8/mol.nao**2, 200))\n",
    "    for i0, i1 in lib.prange(0, charges.size, blksize):\n",
    "        fakemol = gto.fakemol_for_charges(coords[i0:i1])\n",
    "        j3c = df.incore.aux_e2(mol, fakemol, intor=intor, aosym='s2ij', cintopt=cintopt)\n",
    "        dV += numpy.einsum('xk,k->x', j3c, -charges[i0:i1])\n",
    "    dV = lib.unpack_tril(dV)\n",
    "    return dV\n"
   ]
  },
  {
   "cell_type": "code",
   "execution_count": 17,
   "metadata": {},
   "outputs": [],
   "source": [
    "dV_CO=first_a_der(CO)"
   ]
  },
  {
   "cell_type": "code",
   "execution_count": 18,
   "metadata": {},
   "outputs": [
    {
     "data": {
      "text/plain": [
       "6.340187073203822"
      ]
     },
     "execution_count": 18,
     "metadata": {},
     "output_type": "execute_result"
    }
   ],
   "source": [
    "np.einsum('ij,ji',first_a_der(CO),dmc)"
   ]
  },
  {
   "cell_type": "code",
   "execution_count": 19,
   "metadata": {},
   "outputs": [],
   "source": [
    "def dens_dh(mol,dh):\n",
    "    deltaZ = np.array((dh,-dh))\n",
    "    mf = pyscf.qmmm.mm_charge(pyscf.scf.RHF(mol), mol.atom_coords()/1.889725989, deltaZ)\n",
    "    class NoSelfQMMM(mf.__class__):\n",
    "        def energy_nuc(self):\n",
    "            e_nuc=self.mol.energy_nuc()\n",
    "            e_nuc-=dh**2/np.linalg.norm(self.mol.atom_coords()[0]-self.mol.atom_coords()[1])\n",
    "            return e_nuc\n",
    "    mf = NoSelfQMMM()\n",
    "    en=mf.scf()\n",
    "    return mf.make_rdm1(),en"
   ]
  },
  {
   "cell_type": "code",
   "execution_count": 21,
   "metadata": {},
   "outputs": [
    {
     "name": "stdout",
     "output_type": "stream",
     "text": [
      "converged SCF energy = -112.545650949194\n",
      "converged SCF energy = -111.867785597183\n",
      "converged SCF energy = -111.219048454705\n",
      "converged SCF energy = -110.599886208879\n",
      "converged SCF energy = -110.010681190845\n"
     ]
    }
   ],
   "source": [
    "dms=[dens_dh(CO,dh)[0] for dh in [-.2,-.1,0,.1,.2]]"
   ]
  },
  {
   "cell_type": "code",
   "execution_count": 24,
   "metadata": {},
   "outputs": [
    {
     "name": "stdout",
     "output_type": "stream",
     "text": [
      "converged SCF energy = -106.405205737936\n",
      "the alchemical shift brings to dE =   4.8138427167694715\n"
     ]
    }
   ],
   "source": [
    "e_NN_at_CO=dens_dh(CO,1)[1]\n",
    "print ('the alchemical shift brings to dE =  ',e_NN_at_CO-e_CO)"
   ]
  },
  {
   "cell_type": "code",
   "execution_count": 53,
   "metadata": {},
   "outputs": [
    {
     "name": "stdout",
     "output_type": "stream",
     "text": [
      "first order alchemy correction =  5.8591168469473685\n",
      "second order alchemy correction =  4.861713665575798\n",
      "third order alchemy correction =  4.792730883417541\n",
      "fourth order alchemy correction =  4.819434471867753\n",
      "fifth order alchemy correction =  4.816123995534059\n",
      "Error due to alchemy =  -0.002281278764587391\n",
      "Error due to basis set (sto3g) =  1.0912947738620602\n",
      "6.34018707320381 -0.9974031813715704 -0.06898278215825714 0.02670358845021252 -0.0033104763336944936\n"
     ]
    }
   ],
   "source": [
    "dVNN=-1/(1.1*angstrom)\n",
    "dE1=np.einsum('ij,ji',dms[2],dV_CO)\n",
    "print ('first order alchemy correction = ', dVNN+dE1)\n",
    "dRho1=(dms[3]-dms[1])/2/.1\n",
    "dE2=np.einsum('ij,ji',dRho1,dV_CO)/2\n",
    "print ('second order alchemy correction = ', dVNN+dE1+dE2)\n",
    "dRho2=(dms[3]-2*dms[2]+dms[1])/.01\n",
    "dE3=np.einsum('ij,ji',dRho2,dV_CO)/6\n",
    "print ('third order alchemy correction = ', dVNN+dE1+dE2+dE3)\n",
    "dRho3=(dms[4]*0.5-dms[3]+dms[1]-dms[0]*0.5)/.001\n",
    "dE4=np.einsum('ij,ji',dRho3,dV_CO)/24\n",
    "print ('fourth order alchemy correction = ', dVNN+dE1+dE2+dE3+dE4)\n",
    "dRho4=(dms[4]-4*dms[3]+6*dms[2]-4*dms[1]+dms[0])/.0001\n",
    "dE5=np.einsum('ij,ji',dRho4,dV_CO)/120\n",
    "print ('fifth order alchemy correction = ', dVNN+dE1+dE2+dE3+dE4+dE5)\n",
    "print ('Error due to alchemy = ', e_NN_at_CO-e_CO-(dVNN+dE1+dE2+dE3+dE4+dE5) )\n",
    "print ('Error due to basis set (sto3g) = ', e_NN_at_CO-e_NN )\n",
    "\n",
    "print(dE1,dE2,dE3,dE4,dE5)"
   ]
  },
  {
   "cell_type": "markdown",
   "metadata": {},
   "source": [
    "3 mHa of error + error due to basis set,\n",
    "In order to get a better precision the coefficient of the finite difference scheme can follow the table: https://en.wikipedia.org/wiki/Finite_difference_coefficient , in which expecially the fist and the second dervtive can b taken exact up to $dh^4$"
   ]
  },
  {
   "cell_type": "code",
   "execution_count": 43,
   "metadata": {},
   "outputs": [],
   "source": [
    "# for a five point scheme \n",
    "coeff5p=np.asarray([[1/12,-2/3,0,2/3,-1/12],[-1/12,4/3,-5/2,4/3,-1/12],[-1/2,1,0,-1,1/2],[1,-4,6,-4,1]])\n",
    "dms_array=np.asarray(dms)"
   ]
  },
  {
   "cell_type": "code",
   "execution_count": 57,
   "metadata": {},
   "outputs": [
    {
     "name": "stdout",
     "output_type": "stream",
     "text": [
      "first order alchemy correction =  5.8591168469473685\n",
      "Error due to alchemy =  -1.045274130177897\n",
      "second order alchemy correction =  4.861179593806798\n",
      "Error due to alchemy =  -0.04733687703732681\n",
      "third order alchemy correction =  4.7922519862540405\n",
      "Error due to alchemy =  0.021590730515431034\n",
      "fourth order alchemy correction =  4.818955574704253\n",
      "Error due to alchemy =  -0.005112857934781445\n",
      "fifth order alchemy correction =  4.815645098370559\n",
      "Error due to alchemy =  -0.001802381601087255\n",
      "Error due to basis set (sto3g) =  1.0912947738620602\n",
      "-0.48107022625644225 6.34018707320381 -0.9979372531405704 -0.0689276075527582 0.02670358845021252 -0.0033104763336944936\n"
     ]
    }
   ],
   "source": [
    "dVNN=-1/(1.1*angstrom)\n",
    "dE1=np.einsum('ij,ji',dms[2],dV_CO)\n",
    "print ('first order alchemy correction = ', dVNN+dE1)\n",
    "print ('Error due to alchemy = ', e_NN_at_CO-e_CO-(dVNN+dE1) )\n",
    "dRho1=0\n",
    "for i in range(5):\n",
    "    dRho1+=dms_array[i]*coeff5p[0][i]\n",
    "dRho1/=.1\n",
    "dE2=np.einsum('ij,ji',dRho1,dV_CO)/2\n",
    "print ('second order alchemy correction = ', dVNN+dE1+dE2)\n",
    "print ('Error due to alchemy = ', e_NN_at_CO-e_CO-(dVNN+dE1+dE2) )\n",
    "dRho2=0\n",
    "for i in range(5):\n",
    "    dRho2+=dms_array[i]*coeff5p[1][i]\n",
    "dRho2/=.01\n",
    "dE3=np.einsum('ij,ji',dRho2,dV_CO)/6\n",
    "print ('third order alchemy correction = ', dVNN+dE1+dE2+dE3)\n",
    "print ('Error due to alchemy = ', e_NN_at_CO-e_CO-(dVNN+dE1+dE2+dE3) )\n",
    "dRho3=(dms[4]*0.5-dms[3]+dms[1]-dms[0]*0.5)/.001\n",
    "dE4=np.einsum('ij,ji',dRho3,dV_CO)/24\n",
    "print ('fourth order alchemy correction = ', dVNN+dE1+dE2+dE3+dE4)\n",
    "print ('Error due to alchemy = ', e_NN_at_CO-e_CO-(dVNN+dE1+dE2+dE3+dE4) )\n",
    "dRho4=(dms[4]-4*dms[3]+6*dms[2]-4*dms[1]+dms[0])/.0001\n",
    "dE5=np.einsum('ij,ji',dRho4,dV_CO)/120\n",
    "print ('fifth order alchemy correction = ', dVNN+dE1+dE2+dE3+dE4+dE5)\n",
    "print ('Error due to alchemy = ', e_NN_at_CO-e_CO-(dVNN+dE1+dE2+dE3+dE4+dE5) )\n",
    "print ('Error due to basis set (sto3g) = ', e_NN_at_CO-e_NN )\n",
    "print(dVNN,dE1,dE2,dE3,dE4,dE5) \n",
    "#notice that now the error in alchemy is the same order of magnitude of dE5 "
   ]
  },
  {
   "cell_type": "code",
   "execution_count": 58,
   "metadata": {},
   "outputs": [
    {
     "name": "stdout",
     "output_type": "stream",
     "text": [
      "[-2.75627018e+01 -6.35285045e+00  0.00000000e+00  0.00000000e+00\n",
      "  9.38535097e-02 -3.00178430e-04 -1.39169276e+00  0.00000000e+00\n",
      "  0.00000000e+00 -2.31837148e+00]\n"
     ]
    },
    {
     "ename": "TypeError",
     "evalue": "'>' not supported between instances of 'NoneType' and 'int'",
     "output_type": "error",
     "traceback": [
      "\u001b[0;31m---------------------------------------------------------------------------\u001b[0m",
      "\u001b[0;31mTypeError\u001b[0m                                 Traceback (most recent call last)",
      "\u001b[0;32m<ipython-input-58-fc5241d170fc>\u001b[0m in \u001b[0;36m<module>\u001b[0;34m\u001b[0m\n\u001b[1;32m      2\u001b[0m \u001b[0mmf2\u001b[0m\u001b[0;34m=\u001b[0m\u001b[0mRHF\u001b[0m\u001b[0;34m(\u001b[0m\u001b[0mNN\u001b[0m\u001b[0;34m)\u001b[0m\u001b[0;34m\u001b[0m\u001b[0;34m\u001b[0m\u001b[0m\n\u001b[1;32m      3\u001b[0m \u001b[0mprint\u001b[0m\u001b[0;34m(\u001b[0m\u001b[0mmf2\u001b[0m\u001b[0;34m.\u001b[0m\u001b[0mget_hcore\u001b[0m\u001b[0;34m(\u001b[0m\u001b[0;34m)\u001b[0m\u001b[0;34m[\u001b[0m\u001b[0;36m0\u001b[0m\u001b[0;34m]\u001b[0m\u001b[0;34m)\u001b[0m  \u001b[0;31m#monoelettronic NE + kin\u001b[0m\u001b[0;34m\u001b[0m\u001b[0;34m\u001b[0m\u001b[0m\n\u001b[0;32m----> 4\u001b[0;31m \u001b[0mprint\u001b[0m\u001b[0;34m(\u001b[0m\u001b[0mmf2\u001b[0m\u001b[0;34m.\u001b[0m\u001b[0mget_veff\u001b[0m\u001b[0;34m(\u001b[0m\u001b[0;34m)\u001b[0m\u001b[0;34m[\u001b[0m\u001b[0;36m0\u001b[0m\u001b[0;34m]\u001b[0m\u001b[0;34m)\u001b[0m  \u001b[0;31m# bielettronic operator takes as input argument (mol, dm )\u001b[0m\u001b[0;34m\u001b[0m\u001b[0;34m\u001b[0m\u001b[0m\n\u001b[0m\u001b[1;32m      5\u001b[0m \u001b[0mprint\u001b[0m\u001b[0;34m(\u001b[0m\u001b[0mmf\u001b[0m\u001b[0;34m.\u001b[0m\u001b[0mmake_rdm1\u001b[0m\u001b[0;34m(\u001b[0m\u001b[0;34m)\u001b[0m\u001b[0;34m[\u001b[0m\u001b[0;36m0\u001b[0m\u001b[0;34m]\u001b[0m\u001b[0;34m)\u001b[0m  \u001b[0;31m# density matrix\u001b[0m\u001b[0;34m\u001b[0m\u001b[0;34m\u001b[0m\u001b[0m\n",
      "\u001b[0;32m~/.local/lib/python3.6/site-packages/pyscf/scf/hf.py\u001b[0m in \u001b[0;36mget_veff\u001b[0;34m(self, mol, dm, dm_last, vhf_last, hermi)\u001b[0m\n\u001b[1;32m   1747\u001b[0m     \u001b[0;32mdef\u001b[0m \u001b[0mget_veff\u001b[0m\u001b[0;34m(\u001b[0m\u001b[0mself\u001b[0m\u001b[0;34m,\u001b[0m \u001b[0mmol\u001b[0m\u001b[0;34m=\u001b[0m\u001b[0;32mNone\u001b[0m\u001b[0;34m,\u001b[0m \u001b[0mdm\u001b[0m\u001b[0;34m=\u001b[0m\u001b[0;32mNone\u001b[0m\u001b[0;34m,\u001b[0m \u001b[0mdm_last\u001b[0m\u001b[0;34m=\u001b[0m\u001b[0;36m0\u001b[0m\u001b[0;34m,\u001b[0m \u001b[0mvhf_last\u001b[0m\u001b[0;34m=\u001b[0m\u001b[0;36m0\u001b[0m\u001b[0;34m,\u001b[0m \u001b[0mhermi\u001b[0m\u001b[0;34m=\u001b[0m\u001b[0;36m1\u001b[0m\u001b[0;34m)\u001b[0m\u001b[0;34m:\u001b[0m\u001b[0;34m\u001b[0m\u001b[0;34m\u001b[0m\u001b[0m\n\u001b[1;32m   1748\u001b[0m         \u001b[0;32mif\u001b[0m \u001b[0mmol\u001b[0m \u001b[0;32mis\u001b[0m \u001b[0;32mNone\u001b[0m\u001b[0;34m:\u001b[0m \u001b[0mmol\u001b[0m \u001b[0;34m=\u001b[0m \u001b[0mself\u001b[0m\u001b[0;34m.\u001b[0m\u001b[0mmol\u001b[0m\u001b[0;34m\u001b[0m\u001b[0;34m\u001b[0m\u001b[0m\n\u001b[0;32m-> 1749\u001b[0;31m         \u001b[0;32mif\u001b[0m \u001b[0mdm\u001b[0m \u001b[0;32mis\u001b[0m \u001b[0;32mNone\u001b[0m\u001b[0;34m:\u001b[0m \u001b[0mdm\u001b[0m \u001b[0;34m=\u001b[0m \u001b[0mself\u001b[0m\u001b[0;34m.\u001b[0m\u001b[0mmake_rdm1\u001b[0m\u001b[0;34m(\u001b[0m\u001b[0;34m)\u001b[0m\u001b[0;34m\u001b[0m\u001b[0;34m\u001b[0m\u001b[0m\n\u001b[0m\u001b[1;32m   1750\u001b[0m         \u001b[0;32mif\u001b[0m \u001b[0mself\u001b[0m\u001b[0;34m.\u001b[0m\u001b[0m_eri\u001b[0m \u001b[0;32mis\u001b[0m \u001b[0;32mnot\u001b[0m \u001b[0;32mNone\u001b[0m \u001b[0;32mor\u001b[0m \u001b[0;32mnot\u001b[0m \u001b[0mself\u001b[0m\u001b[0;34m.\u001b[0m\u001b[0mdirect_scf\u001b[0m\u001b[0;34m:\u001b[0m\u001b[0;34m\u001b[0m\u001b[0;34m\u001b[0m\u001b[0m\n\u001b[1;32m   1751\u001b[0m             \u001b[0mvj\u001b[0m\u001b[0;34m,\u001b[0m \u001b[0mvk\u001b[0m \u001b[0;34m=\u001b[0m \u001b[0mself\u001b[0m\u001b[0;34m.\u001b[0m\u001b[0mget_jk\u001b[0m\u001b[0;34m(\u001b[0m\u001b[0mmol\u001b[0m\u001b[0;34m,\u001b[0m \u001b[0mdm\u001b[0m\u001b[0;34m,\u001b[0m \u001b[0mhermi\u001b[0m\u001b[0;34m)\u001b[0m\u001b[0;34m\u001b[0m\u001b[0;34m\u001b[0m\u001b[0m\n",
      "\u001b[0;32m~/.local/lib/python3.6/site-packages/pyscf/scf/hf.py\u001b[0m in \u001b[0;36mmake_rdm1\u001b[0;34m(self, mo_coeff, mo_occ, **kwargs)\u001b[0m\n\u001b[1;32m   1481\u001b[0m         \u001b[0;32mif\u001b[0m \u001b[0mmo_occ\u001b[0m \u001b[0;32mis\u001b[0m \u001b[0;32mNone\u001b[0m\u001b[0;34m:\u001b[0m \u001b[0mmo_occ\u001b[0m \u001b[0;34m=\u001b[0m \u001b[0mself\u001b[0m\u001b[0;34m.\u001b[0m\u001b[0mmo_occ\u001b[0m\u001b[0;34m\u001b[0m\u001b[0;34m\u001b[0m\u001b[0m\n\u001b[1;32m   1482\u001b[0m         \u001b[0;32mif\u001b[0m \u001b[0mmo_coeff\u001b[0m \u001b[0;32mis\u001b[0m \u001b[0;32mNone\u001b[0m\u001b[0;34m:\u001b[0m \u001b[0mmo_coeff\u001b[0m \u001b[0;34m=\u001b[0m \u001b[0mself\u001b[0m\u001b[0;34m.\u001b[0m\u001b[0mmo_coeff\u001b[0m\u001b[0;34m\u001b[0m\u001b[0;34m\u001b[0m\u001b[0m\n\u001b[0;32m-> 1483\u001b[0;31m         \u001b[0;32mreturn\u001b[0m \u001b[0mmake_rdm1\u001b[0m\u001b[0;34m(\u001b[0m\u001b[0mmo_coeff\u001b[0m\u001b[0;34m,\u001b[0m \u001b[0mmo_occ\u001b[0m\u001b[0;34m,\u001b[0m \u001b[0;34m**\u001b[0m\u001b[0mkwargs\u001b[0m\u001b[0;34m)\u001b[0m\u001b[0;34m\u001b[0m\u001b[0;34m\u001b[0m\u001b[0m\n\u001b[0m\u001b[1;32m   1484\u001b[0m \u001b[0;34m\u001b[0m\u001b[0m\n\u001b[1;32m   1485\u001b[0m     \u001b[0menergy_elec\u001b[0m \u001b[0;34m=\u001b[0m \u001b[0menergy_elec\u001b[0m\u001b[0;34m\u001b[0m\u001b[0;34m\u001b[0m\u001b[0m\n",
      "\u001b[0;32m~/.local/lib/python3.6/site-packages/pyscf/scf/hf.py\u001b[0m in \u001b[0;36mmake_rdm1\u001b[0;34m(mo_coeff, mo_occ, **kwargs)\u001b[0m\n\u001b[1;32m    552\u001b[0m             \u001b[0mOccupancy\u001b[0m\u001b[0;34m\u001b[0m\u001b[0;34m\u001b[0m\u001b[0m\n\u001b[1;32m    553\u001b[0m     '''\n\u001b[0;32m--> 554\u001b[0;31m     \u001b[0mmocc\u001b[0m \u001b[0;34m=\u001b[0m \u001b[0mmo_coeff\u001b[0m\u001b[0;34m[\u001b[0m\u001b[0;34m:\u001b[0m\u001b[0;34m,\u001b[0m\u001b[0mmo_occ\u001b[0m\u001b[0;34m>\u001b[0m\u001b[0;36m0\u001b[0m\u001b[0;34m]\u001b[0m\u001b[0;34m\u001b[0m\u001b[0;34m\u001b[0m\u001b[0m\n\u001b[0m\u001b[1;32m    555\u001b[0m \u001b[0;31m# DO NOT make tag_array for dm1 here because this DM array may be modified and\u001b[0m\u001b[0;34m\u001b[0m\u001b[0;34m\u001b[0m\u001b[0;34m\u001b[0m\u001b[0m\n\u001b[1;32m    556\u001b[0m \u001b[0;31m# passed to functions like get_jk, get_vxc.  These functions may take the tags\u001b[0m\u001b[0;34m\u001b[0m\u001b[0;34m\u001b[0m\u001b[0;34m\u001b[0m\u001b[0m\n",
      "\u001b[0;31mTypeError\u001b[0m: '>' not supported between instances of 'NoneType' and 'int'"
     ]
    }
   ],
   "source": [
    "#for further processes\n",
    "\n",
    "NN=pyscf.gto.M(atom='N 0 0 1.1; N 0 0 0', basis='sto3G', verbose=3)\n",
    "mf2=RHF(NN)\n",
    "print(mf2.get_hcore()[0])  #monoelettronic NE + kin   \n",
    "print(mf2.get_veff()[0])  # bielettronic operator takes as input argument (mol, dm )\n",
    "print(mf2.make_rdm1()[0])  # density matrix"
   ]
  },
  {
   "cell_type": "code",
   "execution_count": null,
   "metadata": {},
   "outputs": [],
   "source": []
  }
 ],
 "metadata": {
  "kernelspec": {
   "display_name": "Python 3",
   "language": "python",
   "name": "python3"
  },
  "language_info": {
   "codemirror_mode": {
    "name": "ipython",
    "version": 3
   },
   "file_extension": ".py",
   "mimetype": "text/x-python",
   "name": "python",
   "nbconvert_exporter": "python",
   "pygments_lexer": "ipython3",
   "version": "3.6.8"
  }
 },
 "nbformat": 4,
 "nbformat_minor": 2
}
