{
 "cells": [
  {
   "cell_type": "code",
   "execution_count": 6,
   "metadata": {},
   "outputs": [
    {
     "name": "stdout",
     "output_type": "stream",
     "text": [
      "TOTAL_ENERGY -110.87228414359406\n",
      "EPN 0 22.058213066869808\n",
      "EPN 1 22.05821306685007\n",
      "DIPOLE 0.07366988509306559 -0.006698368953782549 33.2268131443229\n"
     ]
    }
   ],
   "source": [
    "import numpy as np\n",
    "import numpy\n",
    "import pyscf\n",
    "import pyscf.gto\n",
    "import pyscf.qmmm\n",
    "import pyscf.scf\n",
    "import pyscf.dft\n",
    "import matplotlib.pyplot as plt\n",
    "import basis_set_exchange as bse\n",
    "angstrom = 1 / 0.52917721067\n",
    "\n",
    "mol = pyscf.gto.Mole()\n",
    "mol.atom = 'N 0 0 0.; N 0 0 1.'\n",
    "mol.basis = {'N': bse.get_basis('6-31G', 'N', fmt='nwchem')}\n",
    "mol.verbose = 0\n",
    "mol.build()\n",
    "\n",
    "deltaZ = np.array((0.05,0.05))\n",
    "includeonly = [0, 1]\n",
    "\n",
    "calc = pyscf.scf.RHF(mol)\n",
    "\n",
    "mf = pyscf.qmmm.mm_charge(calc, mol.atom_coords()/angstrom, deltaZ)\n",
    "class NoSelfQMMM(mf.__class__):\n",
    "    def energy_nuc(self):\n",
    "        q = mol.atom_charges().astype(np.float)\n",
    "        q[includeonly] += deltaZ\n",
    "        return mol.energy_nuc(q)\n",
    "mf = NoSelfQMMM()\n",
    "\n",
    "hfe=mf.kernel(verbose=0)\n",
    "mycc = pyscf.cc.CCSD(mf).run()\n",
    "dm1 = mycc.make_rdm1()\n",
    "dm1_ao = np.einsum('pi,ij,qj->pq', mf.mo_coeff, dm1, mf.mo_coeff.conj())\n",
    "\n",
    "# Total energy of SCF run\n",
    "print ('TOTAL_ENERGY', mycc.e_tot)\n",
    "\n",
    "# EPN from electron density\n",
    "for site in includeonly:\n",
    "    mol.set_rinv_orig_(mol.atom_coords()[site])\n",
    "    print ('EPN', site, np.matmul(dm1_ao, mol.intor('int1e_rinv')).trace())\n",
    "\n",
    "# Dipole\n",
    "dipole = calc.dip_moment(dm=dm1, verbose=0)\n",
    "print ('DIPOLE', *dipole)\n",
    "\n",
    "# Ionic Forces\n"
   ]
  },
  {
   "cell_type": "code",
   "execution_count": 23,
   "metadata": {},
   "outputs": [],
   "source": [
    "# grid comparison\n",
    "def get_grid(mol):\n",
    "    grid = pyscf.dft.gen_grid.Grids(mol)\n",
    "    grid.level = 3\n",
    "    grid.build()\n",
    "    return grid.coords, grid.weights\n",
    "gridcoords, gridweights = get_grid(mol)"
   ]
  },
  {
   "cell_type": "code",
   "execution_count": 24,
   "metadata": {},
   "outputs": [],
   "source": [
    "ao_value = pyscf.dft.numint.eval_ao(mol, gridcoords, deriv=0)"
   ]
  },
  {
   "cell_type": "code",
   "execution_count": 25,
   "metadata": {},
   "outputs": [],
   "source": [
    "rho = pyscf.dft.numint.eval_rho(mol, ao_value, dm1_ao, xctype='LDA')"
   ]
  },
  {
   "cell_type": "code",
   "execution_count": 30,
   "metadata": {},
   "outputs": [
    {
     "name": "stdout",
     "output_type": "stream",
     "text": [
      "22.058212704965612\n",
      "22.058212704945873\n"
     ]
    }
   ],
   "source": [
    "def epn_grid(gridcoords, gridweights, rho, mol):\n",
    "    for site in range(2):\n",
    "        ds = np.linalg.norm(gridcoords - mol.atom_coords()[site], axis=1)\n",
    "        print ((rho * gridweights/ds).sum())\n",
    "epn_grid(gridcoords, gridweights, rho,mol)"
   ]
  },
  {
   "cell_type": "code",
   "execution_count": 36,
   "metadata": {},
   "outputs": [
    {
     "name": "stdout",
     "output_type": "stream",
     "text": [
      "[1.1779856604055006e-16, 1.5157146371347352e-16, 1.6506560950760947]\n",
      "[-1.9125326322644298e-16, -5.314759049523943e-16, -1.6506560951706524]\n"
     ]
    }
   ],
   "source": [
    "def force_grid(gridcoords, gridweights, rho, mol):\n",
    "    for site in range(2):\n",
    "        rvec = gridcoords - mol.atom_coords()[site]\n",
    "        print ([(rho*gridweights * rvec[:, _] / np.linalg.norm(rvec, axis=1)**3).sum() for _ in range(3)])\n",
    "force_grid(gridcoords, gridweights, rho,mol)"
   ]
  }
 ],
 "metadata": {
  "kernelspec": {
   "display_name": "Python [conda env:analysis]",
   "language": "python",
   "name": "conda-env-analysis-py"
  },
  "language_info": {
   "codemirror_mode": {
    "name": "ipython",
    "version": 3
   },
   "file_extension": ".py",
   "mimetype": "text/x-python",
   "name": "python",
   "nbconvert_exporter": "python",
   "pygments_lexer": "ipython3",
   "version": "3.6.8"
  }
 },
 "nbformat": 4,
 "nbformat_minor": 2
}
