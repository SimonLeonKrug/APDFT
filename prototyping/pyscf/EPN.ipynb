{
 "cells": [
  {
   "cell_type": "code",
   "execution_count": 65,
   "metadata": {},
   "outputs": [
    {
     "name": "stdout",
     "output_type": "stream",
     "text": [
      "converged SCF energy = -109.750239009996\n",
      "E(CCSD) = -109.9577309332241  E_corr = -0.2074919232279455\n",
      "Energy: -109.95773093322414\n",
      "EPN, method B 21.96999732964793\n",
      "EPN, method B 22.03756637641772\n"
     ]
    }
   ],
   "source": [
    "import numpy as np\n",
    "import pyscf\n",
    "import pyscf.gto\n",
    "import pyscf.qmmm\n",
    "import pyscf.scf\n",
    "import matplotlib.pyplot as plt\n",
    "\n",
    "mol = pyscf.gto.M(atom='N 0 0 0.; N 0 0 1.', basis='6-31G', verbose=3)\n",
    "deltaZ = np.array((0.0,0.05))\n",
    "includeonly = [0, 1]\n",
    "\n",
    "calc = pyscf.scf.RHF(mol)\n",
    "\n",
    "mf = pyscf.qmmm.mm_charge(calc, mol.atom_coords()/(1 / 0.52917721067), deltaZ)  \n",
    "class NoSelfQMMM(mf.__class__):\n",
    "        def energy_nuc(self):\n",
    "                return (7+deltaZ[0])*(7+deltaZ[1])/(1/0.52917721067)\n",
    "mf = NoSelfQMMM()\n",
    "hfe=mf.kernel(verbose=4)\n",
    "mycc = pyscf.cc.CCSD(mf).run()\n",
    "print ('Energy:', mycc.energy() + hfe)\n",
    "\n",
    "dm1 = mycc.make_rdm1()\n",
    "dm1_ao = np.einsum('pi,ij,qj->pq', mf.mo_coeff, dm1, mf.mo_coeff.conj())\n",
    "dm1_ao=mf.make_rdm1()\n",
    "for site in includeonly:\n",
    "    # method A\n",
    "    #q = mol._atm.copy()\n",
    "    #q[site, 0] = 0\n",
    "    #a = pyscf.gto.getints('int1e_nuc_sph', q, mol._bas, mol._env)\n",
    "    #print ('EPN, method A', np.matmul(a, dm1_ao).trace() / mol.atom_charges()[site])\n",
    "    # method B\n",
    "    mol.set_rinv_orig_(mol.atom_coords()[site])\n",
    "    print ('EPN, method B', np.matmul( dm1_ao,mol.intor('int1e_rinv')).trace())\n"
   ]
  },
  {
   "cell_type": "code",
   "execution_count": 71,
   "metadata": {},
   "outputs": [
    {
     "name": "stdout",
     "output_type": "stream",
     "text": [
      "converged SCF energy = -109.750239009996\n",
      "[[ 3.55271368e-15 -4.46864767e-15  7.16648962e-14 -1.63189135e-16\n",
      "   6.33820378e-17  5.27355937e-16 -7.99033084e-17 -4.54553395e-18\n",
      "   3.20993232e-14  7.21644966e-16  5.16947596e-15 -7.04158953e-14\n",
      "   3.85624698e-17 -1.64815668e-17 -9.15933995e-16  6.62210578e-17\n",
      "  -2.08567254e-17  3.40092537e-14]\n",
      " [-4.46864767e-15  1.39332990e-14 -9.25926003e-14  2.90354765e-16\n",
      "  -3.39343390e-17 -1.05263021e-14  9.81008285e-17  2.09316361e-17\n",
      "  -5.19029264e-14 -2.35922393e-16 -1.25524591e-14  1.00447428e-13\n",
      "  -2.09455819e-16  1.18203674e-16  1.49880108e-15 -2.05948784e-16\n",
      "   8.78867908e-17 -5.16531262e-14]\n",
      " [ 7.16648962e-14 -9.25926003e-14 -3.71924713e-13  4.48653581e-15\n",
      "  -1.25326786e-15  7.20534743e-14  2.10600401e-15 -3.83017677e-16\n",
      "  -6.84730050e-14 -2.56045185e-14  5.23747712e-14  3.08197912e-13\n",
      "   3.30059881e-15 -7.41146298e-16  4.11511103e-14  1.33959318e-15\n",
      "  -2.81690204e-16 -9.32171007e-14]\n",
      " [-1.63189135e-16  2.90354765e-16  4.48653581e-15  9.10382880e-15\n",
      "  -1.86588570e-16 -6.14535992e-16  3.16413562e-15 -4.16472327e-16\n",
      "   2.03685354e-15  5.01042677e-16 -2.38587760e-16 -4.92978720e-15\n",
      "  -1.11022302e-15 -1.82447755e-17 -3.98689712e-16  3.05311332e-15\n",
      "  -8.55355798e-17  2.04739786e-15]\n",
      " [ 6.33820378e-17 -3.39343390e-17 -1.25326786e-15 -1.86588570e-16\n",
      "   2.88657986e-15  5.32530528e-16 -3.81243082e-16  3.19189120e-15\n",
      "  -2.14037141e-16 -1.72486800e-16  6.93943145e-17  1.15659964e-15\n",
      "   1.38452077e-16 -1.33226763e-15 -6.97632201e-17  1.38723592e-16\n",
      "  -2.49800181e-16 -4.56947553e-16]\n",
      " [ 5.27355937e-16 -1.05263021e-14  7.20534743e-14 -6.14535992e-16\n",
      "   5.32530528e-16 -8.88178420e-16 -3.39545900e-16 -7.59636802e-17\n",
      "   3.33066907e-14  6.93889390e-17  3.55271368e-15 -6.61502103e-14\n",
      "   9.00789529e-17  7.97497774e-17  1.11022302e-16  1.87685391e-16\n",
      "  -7.34663569e-18  3.59434704e-14]\n",
      " [-7.99033084e-17  9.81008285e-17  2.10600401e-15  3.16413562e-15\n",
      "  -3.81243082e-16 -3.39545900e-16  8.88178420e-16 -3.47690826e-16\n",
      "   9.54171161e-16  1.43840993e-16  1.62062444e-16 -1.96438604e-15\n",
      "  -1.91513472e-15 -3.04570021e-16  5.29922274e-17  8.60422844e-16\n",
      "  -1.81967946e-16  1.08819602e-15]\n",
      " [-4.54553395e-18  2.09316361e-17 -3.83017677e-16 -4.16472327e-16\n",
      "   3.19189120e-15 -7.59636802e-17 -3.47690826e-16  2.44249065e-15\n",
      "  -2.17012065e-16 -1.38892225e-16  8.00005922e-17  8.18533483e-16\n",
      "  -2.67507946e-16  1.13797860e-15  3.13922816e-16 -9.18873382e-17\n",
      "   7.49400542e-16 -1.16688759e-16]\n",
      " [ 3.20993232e-14 -5.19029264e-14 -6.84730050e-14  2.03685354e-15\n",
      "  -2.14037141e-16  3.33066907e-14  9.54171161e-16 -2.17012065e-16\n",
      "   1.53141388e-14 -1.23616395e-14  3.25280167e-14  4.58383331e-14\n",
      "   2.17846627e-15 -3.21850194e-16  1.98174810e-14  1.07531187e-15\n",
      "  -1.63719591e-16  8.28503932e-15]\n",
      " [ 7.21644966e-16 -2.35922393e-16 -2.56045185e-14  5.01042677e-16\n",
      "  -1.72486800e-16  6.93889390e-17  1.43840993e-16 -1.38892225e-16\n",
      "  -1.23616395e-14 -8.88178420e-16 -2.77555756e-16  2.64233080e-14\n",
      "   1.00906007e-16 -7.63735504e-17 -7.84095011e-16 -2.17477968e-17\n",
      "  -2.08643459e-17 -1.18585697e-14]\n",
      " [ 5.16947596e-15 -1.25524591e-14  5.23747712e-14 -2.38587760e-16\n",
      "   6.93943145e-17  3.55271368e-15  1.62062444e-16  8.00005922e-17\n",
      "   3.25280167e-14 -2.77555756e-16  8.54871729e-15 -5.56221735e-14\n",
      "   7.56320261e-16 -2.33298714e-16  6.72378819e-15  5.26716020e-16\n",
      "  -1.58610393e-16  3.15233950e-14]\n",
      " [-7.04158953e-14  1.00447428e-13  3.08197912e-13 -4.92978720e-15\n",
      "   1.15659964e-15 -6.61502103e-14 -1.96438604e-15  8.18533483e-16\n",
      "   4.58383331e-14  2.64233080e-14 -5.56221735e-14 -2.61013433e-13\n",
      "  -3.64946788e-15  9.09336079e-16 -4.29656311e-14 -1.53485729e-15\n",
      "   3.76831892e-16  6.16728890e-14]\n",
      " [ 3.85624698e-17 -2.09455819e-16  3.30059881e-15 -1.11022302e-15\n",
      "   1.38452077e-16  9.00789529e-17 -1.91513472e-15 -2.67507946e-16\n",
      "   2.17846627e-15  1.00906007e-16  7.56320261e-16 -3.64946788e-15\n",
      "  -1.17128529e-14  3.23739585e-16 -1.42542265e-16 -1.97064587e-15\n",
      "   8.42698419e-17  2.14082937e-15]\n",
      " [-1.64815668e-17  1.18203674e-16 -7.41146298e-16 -1.82447755e-17\n",
      "  -1.33226763e-15  7.97497774e-17 -3.04570021e-16  1.13797860e-15\n",
      "  -3.21850194e-16 -7.63735504e-17 -2.33298714e-16  9.09336079e-16\n",
      "   3.23739585e-16 -5.77315973e-15  9.90036286e-17  2.31957451e-16\n",
      "  -2.35922393e-15 -4.08530506e-16]\n",
      " [-9.15933995e-16  1.49880108e-15  4.11511103e-14 -3.98689712e-16\n",
      "  -6.97632201e-17  1.11022302e-16  5.29922274e-17  3.13922816e-16\n",
      "   1.98174810e-14 -7.84095011e-16  6.72378819e-15 -4.29656311e-14\n",
      "  -1.42542265e-16  9.90036286e-17  5.21804822e-15 -3.84076508e-17\n",
      "   4.33821928e-17  2.08999484e-14]\n",
      " [ 6.62210578e-17 -2.05948784e-16  1.33959318e-15  3.05311332e-15\n",
      "   1.38723592e-16  1.87685391e-16  8.60422844e-16 -9.18873382e-17\n",
      "   1.07531187e-15 -2.17477968e-17  5.26716020e-16 -1.53485729e-15\n",
      "  -1.97064587e-15  2.31957451e-16 -3.84076508e-17  8.18789481e-16\n",
      "   7.46082452e-17  1.03257591e-15]\n",
      " [-2.08567254e-17  8.78867908e-17 -2.81690204e-16 -8.55355798e-17\n",
      "  -2.49800181e-16 -7.34663569e-18 -1.81967946e-16  7.49400542e-16\n",
      "  -1.63719591e-16 -2.08643459e-17 -1.58610393e-16  3.76831892e-16\n",
      "   8.42698419e-17 -2.35922393e-15  4.33821928e-17  7.46082452e-17\n",
      "  -9.29811783e-16 -1.95660469e-16]\n",
      " [ 3.40092537e-14 -5.16531262e-14 -9.32171007e-14  2.04739786e-15\n",
      "  -4.56947553e-16  3.59434704e-14  1.08819602e-15 -1.16688759e-16\n",
      "   8.28503932e-15 -1.18585697e-14  3.15233950e-14  6.16728890e-14\n",
      "   2.14082937e-15 -4.08530506e-16  2.08999484e-14  1.03257591e-15\n",
      "  -1.95660469e-16 -2.06779038e-15]]\n"
     ]
    },
    {
     "data": {
      "text/plain": [
       "0.18389847553248018"
      ]
     },
     "execution_count": 71,
     "metadata": {},
     "output_type": "execute_result"
    }
   ],
   "source": [
    "mf.scf()\n",
    "### the problem is that the unrelaxed density matrix in ccsd is the same as \n",
    "##  Hartree Fock density matrix ( a part from a small numerical error)\n",
    "print(mf.make_rdm1()-dm1_ao) "
   ]
  },
  {
   "cell_type": "code",
   "execution_count": 70,
   "metadata": {},
   "outputs": [
    {
     "data": {
      "text/plain": [
       "14.000000000000004"
      ]
     },
     "execution_count": 70,
     "metadata": {},
     "output_type": "execute_result"
    }
   ],
   "source": [
    "np.einsum('ij,ji',mycc.make_rdm1(),np.eye(18))"
   ]
  },
  {
   "cell_type": "code",
   "execution_count": 40,
   "metadata": {},
   "outputs": [
    {
     "data": {
      "text/plain": [
       "array([[ 0.00000000e+00,  1.38777878e-17,  1.38777878e-17,\n",
       "         0.00000000e+00,  0.00000000e+00,  0.00000000e+00,\n",
       "         0.00000000e+00,  0.00000000e+00,  0.00000000e+00,\n",
       "         6.77626358e-21, -3.46944695e-18,  0.00000000e+00,\n",
       "         0.00000000e+00,  0.00000000e+00,  6.93889390e-18,\n",
       "         0.00000000e+00,  0.00000000e+00,  0.00000000e+00],\n",
       "       [-1.38777878e-17,  0.00000000e+00,  0.00000000e+00,\n",
       "         0.00000000e+00,  0.00000000e+00,  2.77555756e-17,\n",
       "         0.00000000e+00,  0.00000000e+00,  0.00000000e+00,\n",
       "         0.00000000e+00,  0.00000000e+00,  5.55111512e-17,\n",
       "         0.00000000e+00,  0.00000000e+00,  0.00000000e+00,\n",
       "         0.00000000e+00,  0.00000000e+00,  5.55111512e-17],\n",
       "       [-1.38777878e-17,  0.00000000e+00,  0.00000000e+00,\n",
       "         0.00000000e+00,  0.00000000e+00,  0.00000000e+00,\n",
       "         0.00000000e+00,  0.00000000e+00,  0.00000000e+00,\n",
       "         0.00000000e+00, -5.55111512e-17,  0.00000000e+00,\n",
       "         0.00000000e+00,  0.00000000e+00, -1.11022302e-16,\n",
       "         0.00000000e+00,  0.00000000e+00,  0.00000000e+00],\n",
       "       [ 0.00000000e+00,  0.00000000e+00,  0.00000000e+00,\n",
       "         0.00000000e+00,  0.00000000e+00,  0.00000000e+00,\n",
       "        -2.77555756e-17,  0.00000000e+00,  0.00000000e+00,\n",
       "         0.00000000e+00,  0.00000000e+00,  0.00000000e+00,\n",
       "         2.77555756e-17,  0.00000000e+00,  0.00000000e+00,\n",
       "         0.00000000e+00,  0.00000000e+00,  0.00000000e+00],\n",
       "       [ 0.00000000e+00,  0.00000000e+00,  0.00000000e+00,\n",
       "         0.00000000e+00,  0.00000000e+00,  0.00000000e+00,\n",
       "         0.00000000e+00, -2.77555756e-17,  0.00000000e+00,\n",
       "         0.00000000e+00,  0.00000000e+00,  0.00000000e+00,\n",
       "         0.00000000e+00,  2.77555756e-17,  0.00000000e+00,\n",
       "         0.00000000e+00,  0.00000000e+00,  0.00000000e+00],\n",
       "       [ 0.00000000e+00, -2.77555756e-17,  0.00000000e+00,\n",
       "         0.00000000e+00,  0.00000000e+00,  0.00000000e+00,\n",
       "         0.00000000e+00,  0.00000000e+00,  0.00000000e+00,\n",
       "        -5.55111512e-17,  1.11022302e-16,  5.55111512e-17,\n",
       "         0.00000000e+00,  0.00000000e+00, -5.55111512e-17,\n",
       "         0.00000000e+00,  0.00000000e+00, -4.16333634e-17],\n",
       "       [ 0.00000000e+00,  0.00000000e+00,  0.00000000e+00,\n",
       "         2.77555756e-17,  0.00000000e+00,  0.00000000e+00,\n",
       "         0.00000000e+00,  0.00000000e+00,  0.00000000e+00,\n",
       "         0.00000000e+00,  0.00000000e+00,  0.00000000e+00,\n",
       "        -5.55111512e-17,  0.00000000e+00,  0.00000000e+00,\n",
       "         0.00000000e+00,  0.00000000e+00,  0.00000000e+00],\n",
       "       [ 0.00000000e+00,  0.00000000e+00,  0.00000000e+00,\n",
       "         0.00000000e+00,  2.77555756e-17,  0.00000000e+00,\n",
       "         0.00000000e+00,  0.00000000e+00,  0.00000000e+00,\n",
       "         0.00000000e+00,  0.00000000e+00,  0.00000000e+00,\n",
       "         0.00000000e+00, -5.55111512e-17,  0.00000000e+00,\n",
       "         0.00000000e+00,  0.00000000e+00,  0.00000000e+00],\n",
       "       [ 0.00000000e+00,  0.00000000e+00,  0.00000000e+00,\n",
       "         0.00000000e+00,  0.00000000e+00,  0.00000000e+00,\n",
       "         0.00000000e+00,  0.00000000e+00,  0.00000000e+00,\n",
       "        -5.55111512e-17,  0.00000000e+00,  0.00000000e+00,\n",
       "         0.00000000e+00,  0.00000000e+00, -2.77555756e-17,\n",
       "         0.00000000e+00,  0.00000000e+00,  6.93889390e-18],\n",
       "       [-6.77626358e-21,  0.00000000e+00,  0.00000000e+00,\n",
       "         0.00000000e+00,  0.00000000e+00,  5.55111512e-17,\n",
       "         0.00000000e+00,  0.00000000e+00,  5.55111512e-17,\n",
       "         0.00000000e+00, -5.55111512e-17,  0.00000000e+00,\n",
       "         0.00000000e+00,  0.00000000e+00,  0.00000000e+00,\n",
       "         0.00000000e+00,  0.00000000e+00,  6.16297582e-33],\n",
       "       [ 3.46944695e-18,  0.00000000e+00,  5.55111512e-17,\n",
       "         0.00000000e+00,  0.00000000e+00, -1.11022302e-16,\n",
       "         0.00000000e+00,  0.00000000e+00,  0.00000000e+00,\n",
       "         5.55111512e-17,  0.00000000e+00,  1.11022302e-16,\n",
       "         0.00000000e+00,  0.00000000e+00,  0.00000000e+00,\n",
       "         0.00000000e+00,  0.00000000e+00,  0.00000000e+00],\n",
       "       [ 0.00000000e+00, -5.55111512e-17,  0.00000000e+00,\n",
       "         0.00000000e+00,  0.00000000e+00, -5.55111512e-17,\n",
       "         0.00000000e+00,  0.00000000e+00,  0.00000000e+00,\n",
       "         0.00000000e+00, -1.11022302e-16,  0.00000000e+00,\n",
       "         0.00000000e+00,  0.00000000e+00,  0.00000000e+00,\n",
       "         0.00000000e+00,  0.00000000e+00,  0.00000000e+00],\n",
       "       [ 0.00000000e+00,  0.00000000e+00,  0.00000000e+00,\n",
       "        -2.77555756e-17,  0.00000000e+00,  0.00000000e+00,\n",
       "         5.55111512e-17,  0.00000000e+00,  0.00000000e+00,\n",
       "         0.00000000e+00,  0.00000000e+00,  0.00000000e+00,\n",
       "         0.00000000e+00,  0.00000000e+00,  0.00000000e+00,\n",
       "        -5.55111512e-17,  0.00000000e+00,  0.00000000e+00],\n",
       "       [ 0.00000000e+00,  0.00000000e+00,  0.00000000e+00,\n",
       "         0.00000000e+00, -2.77555756e-17,  0.00000000e+00,\n",
       "         0.00000000e+00,  5.55111512e-17,  0.00000000e+00,\n",
       "         0.00000000e+00,  0.00000000e+00,  0.00000000e+00,\n",
       "         0.00000000e+00,  0.00000000e+00,  0.00000000e+00,\n",
       "         0.00000000e+00, -5.55111512e-17,  0.00000000e+00],\n",
       "       [-6.93889390e-18,  0.00000000e+00,  1.11022302e-16,\n",
       "         0.00000000e+00,  0.00000000e+00,  5.55111512e-17,\n",
       "         0.00000000e+00,  0.00000000e+00,  2.77555756e-17,\n",
       "         0.00000000e+00,  0.00000000e+00,  0.00000000e+00,\n",
       "         0.00000000e+00,  0.00000000e+00,  0.00000000e+00,\n",
       "         0.00000000e+00,  0.00000000e+00, -5.55111512e-17],\n",
       "       [ 0.00000000e+00,  0.00000000e+00,  0.00000000e+00,\n",
       "         0.00000000e+00,  0.00000000e+00,  0.00000000e+00,\n",
       "         0.00000000e+00,  0.00000000e+00,  0.00000000e+00,\n",
       "         0.00000000e+00,  0.00000000e+00,  0.00000000e+00,\n",
       "         5.55111512e-17,  0.00000000e+00,  0.00000000e+00,\n",
       "         0.00000000e+00,  0.00000000e+00,  0.00000000e+00],\n",
       "       [ 0.00000000e+00,  0.00000000e+00,  0.00000000e+00,\n",
       "         0.00000000e+00,  0.00000000e+00,  0.00000000e+00,\n",
       "         0.00000000e+00,  0.00000000e+00,  0.00000000e+00,\n",
       "         0.00000000e+00,  0.00000000e+00,  0.00000000e+00,\n",
       "         0.00000000e+00,  5.55111512e-17,  0.00000000e+00,\n",
       "         0.00000000e+00,  0.00000000e+00,  0.00000000e+00],\n",
       "       [ 0.00000000e+00, -5.55111512e-17,  0.00000000e+00,\n",
       "         0.00000000e+00,  0.00000000e+00,  4.16333634e-17,\n",
       "         0.00000000e+00,  0.00000000e+00, -6.93889390e-18,\n",
       "        -6.16297582e-33,  0.00000000e+00,  0.00000000e+00,\n",
       "         0.00000000e+00,  0.00000000e+00,  5.55111512e-17,\n",
       "         0.00000000e+00,  0.00000000e+00,  0.00000000e+00]])"
      ]
     },
     "execution_count": 40,
     "metadata": {},
     "output_type": "execute_result"
    },
    {
     "data": {
      "image/png": "[encoded data removed]",
      "text/plain": [
       "<Figure size 288x288 with 1 Axes>"
      ]
     },
     "metadata": {
      "needs_background": "light"
     },
     "output_type": "display_data"
    }
   ],
   "source": [
    "plt.matshow(mol.intor('int1e_rinv'))\n",
    "mol.intor('int1e_rinv')-mol.intor('int1e_rinv').T"
   ]
  },
  {
   "cell_type": "code",
   "execution_count": 32,
   "metadata": {},
   "outputs": [
    {
     "name": "stdout",
     "output_type": "stream",
     "text": [
      "Help on method set_rinv_origin in module pyscf.gto.mole:\n",
      "\n",
      "set_rinv_origin(coord) method of pyscf.gto.mole.Mole instance\n",
      "    Update origin for operator :math:`\\frac{1}{|r-R_O|}`.\n",
      "    **Note** the unit is Bohr\n",
      "    \n",
      "    Examples:\n",
      "    \n",
      "    >>> mol.set_rinv_origin(0)\n",
      "    >>> mol.set_rinv_origin((0,1,0))\n",
      "\n"
     ]
    }
   ],
   "source": [
    "help(mol.set_rinv_orig_)"
   ]
  },
  {
   "cell_type": "code",
   "execution_count": 28,
   "metadata": {},
   "outputs": [
    {
     "data": {
      "text/plain": [
       "array([[0., 0., 0.],\n",
       "       [0., 0., 1.]])"
      ]
     },
     "execution_count": 28,
     "metadata": {},
     "output_type": "execute_result"
    }
   ],
   "source": [
    "mol.atom_coords()/(1 / 0.52917721067)"
   ]
  },
  {
   "cell_type": "code",
   "execution_count": 46,
   "metadata": {},
   "outputs": [
    {
     "data": {
      "text/plain": [
       "array([2.08510789, 0.50211401, 1.05217241, 0.42821792, 0.41463665,\n",
       "       0.6641638 , 0.11165596, 0.17542803, 0.07905939, 2.08510789,\n",
       "       0.50211401, 1.05217241, 0.42821792, 0.41463665, 0.6641638 ,\n",
       "       0.11165596, 0.17542803, 0.07905939])"
      ]
     },
     "execution_count": 46,
     "metadata": {},
     "output_type": "execute_result"
    }
   ],
   "source": []
  },
  {
   "cell_type": "code",
   "execution_count": 47,
   "metadata": {},
   "outputs": [
    {
     "data": {
      "text/plain": [
       "array([1.99993837, 1.99994299, 1.98899603, 1.97588856, 1.9476586 ,\n",
       "       1.9476586 , 1.98092735, 0.04386803, 0.04386803, 0.00602777,\n",
       "       0.00400162, 0.0059458 , 0.0059458 , 0.01215502, 0.00940992,\n",
       "       0.00940992, 0.01007105, 0.00828655])"
      ]
     },
     "execution_count": 47,
     "metadata": {},
     "output_type": "execute_result"
    }
   ],
   "source": []
  },
  {
   "cell_type": "code",
   "execution_count": 48,
   "metadata": {},
   "outputs": [
    {
     "data": {
      "text/plain": [
       "array([[ 5.29177211e-01,  1.17591325e-01,  9.09491487e-02,\n",
       "         0.00000000e+00,  0.00000000e+00,  2.30300834e-02,\n",
       "         0.00000000e+00,  0.00000000e+00,  3.37425082e-03,\n",
       "         5.75757734e-05,  2.32692260e-02,  4.51926896e-02,\n",
       "         0.00000000e+00,  0.00000000e+00, -4.43854682e-02,\n",
       "         0.00000000e+00,  0.00000000e+00, -7.43013701e-02],\n",
       "       [ 1.17591325e-01,  5.28554613e-01,  4.06756179e-01,\n",
       "         0.00000000e+00,  0.00000000e+00,  1.59269386e-01,\n",
       "         0.00000000e+00,  0.00000000e+00,  1.01031049e-01,\n",
       "         1.25363842e-01,  2.60412985e-01,  2.84327331e-01,\n",
       "         0.00000000e+00,  0.00000000e+00, -2.99326727e-01,\n",
       "         0.00000000e+00,  0.00000000e+00, -3.06615213e-01],\n",
       "       [ 9.09491487e-02,  4.06756179e-01,  4.85888913e-01,\n",
       "         0.00000000e+00,  0.00000000e+00,  1.48099628e-01,\n",
       "         0.00000000e+00,  0.00000000e+00,  1.86327523e-01,\n",
       "         2.82410294e-01,  4.12498415e-01,  4.46315998e-01,\n",
       "         0.00000000e+00,  0.00000000e+00, -1.94712635e-01,\n",
       "         0.00000000e+00,  0.00000000e+00, -2.71487861e-01],\n",
       "       [ 0.00000000e+00,  0.00000000e+00,  0.00000000e+00,\n",
       "         4.94817562e-01,  0.00000000e+00,  0.00000000e+00,\n",
       "         2.39507014e-01,  0.00000000e+00,  0.00000000e+00,\n",
       "         0.00000000e+00,  0.00000000e+00,  0.00000000e+00,\n",
       "         1.37903689e-01,  0.00000000e+00,  0.00000000e+00,\n",
       "         1.49960823e-01,  0.00000000e+00,  0.00000000e+00],\n",
       "       [ 0.00000000e+00,  0.00000000e+00,  0.00000000e+00,\n",
       "         0.00000000e+00,  4.94817562e-01,  0.00000000e+00,\n",
       "         0.00000000e+00,  2.39507014e-01,  0.00000000e+00,\n",
       "         0.00000000e+00,  0.00000000e+00,  0.00000000e+00,\n",
       "         0.00000000e+00,  1.37903689e-01,  0.00000000e+00,\n",
       "         0.00000000e+00,  1.49960823e-01,  0.00000000e+00],\n",
       "       [ 2.30300834e-02,  1.59269386e-01,  1.48099628e-01,\n",
       "         0.00000000e+00,  0.00000000e+00,  5.94014636e-01,\n",
       "         0.00000000e+00,  0.00000000e+00,  3.24470968e-01,\n",
       "         2.55270136e-01,  3.74481367e-01,  2.64525447e-01,\n",
       "         0.00000000e+00,  0.00000000e+00, -3.60528651e-01,\n",
       "         0.00000000e+00,  0.00000000e+00, -1.19668302e-01],\n",
       "       [ 0.00000000e+00,  0.00000000e+00,  0.00000000e+00,\n",
       "         2.39507014e-01,  0.00000000e+00,  0.00000000e+00,\n",
       "         3.78823756e-01,  0.00000000e+00,  0.00000000e+00,\n",
       "         0.00000000e+00,  0.00000000e+00,  0.00000000e+00,\n",
       "         2.23766608e-01,  0.00000000e+00,  0.00000000e+00,\n",
       "         3.11997821e-01,  0.00000000e+00,  0.00000000e+00],\n",
       "       [ 0.00000000e+00,  0.00000000e+00,  0.00000000e+00,\n",
       "         0.00000000e+00,  2.39507014e-01,  0.00000000e+00,\n",
       "         0.00000000e+00,  3.78823756e-01,  0.00000000e+00,\n",
       "         0.00000000e+00,  0.00000000e+00,  0.00000000e+00,\n",
       "         0.00000000e+00,  2.23766608e-01,  0.00000000e+00,\n",
       "         0.00000000e+00,  3.11997821e-01,  0.00000000e+00],\n",
       "       [ 3.37425082e-03,  1.01031049e-01,  1.86327523e-01,\n",
       "         0.00000000e+00,  0.00000000e+00,  3.24470968e-01,\n",
       "         0.00000000e+00,  0.00000000e+00,  5.38399634e-01,\n",
       "         4.82925215e-01,  5.95689061e-01,  5.05244331e-01,\n",
       "         0.00000000e+00,  0.00000000e+00, -6.38206172e-02,\n",
       "         0.00000000e+00,  0.00000000e+00,  3.23986188e-02],\n",
       "       [ 5.75757734e-05,  1.25363842e-01,  2.82410294e-01,\n",
       "         0.00000000e+00,  0.00000000e+00,  2.55270136e-01,\n",
       "         0.00000000e+00,  0.00000000e+00,  4.82925215e-01,\n",
       "         6.68919293e+00,  4.77306654e-01,  5.94317958e-01,\n",
       "         0.00000000e+00,  0.00000000e+00,  4.09881849e-16,\n",
       "         0.00000000e+00,  0.00000000e+00,  2.92114647e-17],\n",
       "       [ 2.32692260e-02,  2.60412985e-01,  4.12498415e-01,\n",
       "         0.00000000e+00,  0.00000000e+00,  3.74481367e-01,\n",
       "         0.00000000e+00,  0.00000000e+00,  5.95689061e-01,\n",
       "         4.77306654e-01,  1.13382918e+00,  7.73544237e-01,\n",
       "         0.00000000e+00,  0.00000000e+00, -2.49749610e-16,\n",
       "         0.00000000e+00,  0.00000000e+00,  1.24684083e-17],\n",
       "       [ 4.51926896e-02,  2.84327331e-01,  4.46315998e-01,\n",
       "         0.00000000e+00,  0.00000000e+00,  2.64525447e-01,\n",
       "         0.00000000e+00,  0.00000000e+00,  5.05244331e-01,\n",
       "         5.94317958e-01,  7.73544237e-01,  7.34801519e-01,\n",
       "         0.00000000e+00,  0.00000000e+00, -5.42750947e-17,\n",
       "         0.00000000e+00,  0.00000000e+00,  0.00000000e+00],\n",
       "       [ 0.00000000e+00,  0.00000000e+00,  0.00000000e+00,\n",
       "         1.37903689e-01,  0.00000000e+00,  0.00000000e+00,\n",
       "         2.23766608e-01,  0.00000000e+00,  0.00000000e+00,\n",
       "         0.00000000e+00,  0.00000000e+00,  0.00000000e+00,\n",
       "         1.24822527e+00,  0.00000000e+00,  0.00000000e+00,\n",
       "         4.25955433e-01,  0.00000000e+00,  0.00000000e+00],\n",
       "       [ 0.00000000e+00,  0.00000000e+00,  0.00000000e+00,\n",
       "         0.00000000e+00,  1.37903689e-01,  0.00000000e+00,\n",
       "         0.00000000e+00,  2.23766608e-01,  0.00000000e+00,\n",
       "         0.00000000e+00,  0.00000000e+00,  0.00000000e+00,\n",
       "         0.00000000e+00,  1.24822527e+00,  0.00000000e+00,\n",
       "         0.00000000e+00,  4.25955433e-01,  0.00000000e+00],\n",
       "       [-4.43854682e-02, -2.99326727e-01, -1.94712635e-01,\n",
       "         0.00000000e+00,  0.00000000e+00, -3.60528651e-01,\n",
       "         0.00000000e+00,  0.00000000e+00, -6.38206172e-02,\n",
       "         4.09881849e-16, -2.49749610e-16, -5.42750947e-17,\n",
       "         0.00000000e+00,  0.00000000e+00,  1.24822527e+00,\n",
       "         0.00000000e+00,  0.00000000e+00,  4.25955433e-01],\n",
       "       [ 0.00000000e+00,  0.00000000e+00,  0.00000000e+00,\n",
       "         1.49960823e-01,  0.00000000e+00,  0.00000000e+00,\n",
       "         3.11997821e-01,  0.00000000e+00,  0.00000000e+00,\n",
       "         0.00000000e+00,  0.00000000e+00,  0.00000000e+00,\n",
       "         4.25955433e-01,  0.00000000e+00,  0.00000000e+00,\n",
       "         4.89867679e-01,  0.00000000e+00,  0.00000000e+00],\n",
       "       [ 0.00000000e+00,  0.00000000e+00,  0.00000000e+00,\n",
       "         0.00000000e+00,  1.49960823e-01,  0.00000000e+00,\n",
       "         0.00000000e+00,  3.11997821e-01,  0.00000000e+00,\n",
       "         0.00000000e+00,  0.00000000e+00,  0.00000000e+00,\n",
       "         0.00000000e+00,  4.25955433e-01,  0.00000000e+00,\n",
       "         0.00000000e+00,  4.89867679e-01,  0.00000000e+00],\n",
       "       [-7.43013701e-02, -3.06615213e-01, -2.71487861e-01,\n",
       "         0.00000000e+00,  0.00000000e+00, -1.19668302e-01,\n",
       "         0.00000000e+00,  0.00000000e+00,  3.23986188e-02,\n",
       "         2.92114647e-17,  1.24684083e-17,  0.00000000e+00,\n",
       "         0.00000000e+00,  0.00000000e+00,  4.25955433e-01,\n",
       "         0.00000000e+00,  0.00000000e+00,  4.89867679e-01]])"
      ]
     },
     "execution_count": 48,
     "metadata": {},
     "output_type": "execute_result"
    }
   ],
   "source": [
    "mol.intor('int1e_rinv')"
   ]
  },
  {
   "cell_type": "code",
   "execution_count": null,
   "metadata": {},
   "outputs": [],
   "source": []
  }
 ],
 "metadata": {
  "kernelspec": {
   "display_name": "Python 3",
   "language": "python",
   "name": "python3"
  },
  "language_info": {
   "codemirror_mode": {
    "name": "ipython",
    "version": 3
   },
   "file_extension": ".py",
   "mimetype": "text/x-python",
   "name": "python",
   "nbconvert_exporter": "python",
   "pygments_lexer": "ipython3",
   "version": "3.6.8"
  }
 },
 "nbformat": 4,
 "nbformat_minor": 2
}
