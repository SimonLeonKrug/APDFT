{
 "cells": [
  {
   "cell_type": "code",
   "execution_count": 3,
   "metadata": {},
   "outputs": [
    {
     "name": "stdout",
     "output_type": "stream",
     "text": [
      "converged SCF energy = -107.010579371823\n",
      "E(CCSD) = -107.215386709503  E_corr = -0.2048073376795463\n",
      "Energy: -107.21538670950301\n",
      "EPN, method B 21.926152302753287\n",
      "EPN, method B 21.92615230277287\n"
     ]
    }
   ],
   "source": [
    "import numpy as np\n",
    "import numpy\n",
    "import pyscf\n",
    "import pyscf.gto\n",
    "import pyscf.qmmm\n",
    "import pyscf.scf\n",
    "import matplotlib.pyplot as plt\n",
    "\n",
    "mol = pyscf.gto.M(atom='N 0 0 0.; N 0 0 1.', basis='6-31G', verbose=3)\n",
    "deltaZ = np.array((-0.05,-0.05))\n",
    "includeonly = [0, 1]\n",
    "\n",
    "calc = pyscf.scf.RHF(mol)\n",
    "\n",
    "mf = pyscf.qmmm.mm_charge(calc, mol.atom_coords()/(1 / 0.52917721067), deltaZ)  \n",
    "class NoSelfQMMM(mf.__class__):\n",
    "        def energy_nuc(self):\n",
    "                return (7+deltaZ[0])*(7+deltaZ[1])/(1/0.52917721067)\n",
    "mf = NoSelfQMMM()\n",
    "hfe=mf.kernel(verbose=4)\n",
    "mycc = pyscf.cc.CCSD(mf).run()\n",
    "print ('Energy:', mycc.energy() + hfe)\n",
    "\n",
    "dm1 = mycc.make_rdm1()\n",
    "dm1_ao = np.einsum('pi,ij,qj->pq', mf.mo_coeff, dm1, mf.mo_coeff.conj())\n",
    "#dm1_ao=mf.make_rdm1()\n",
    "for site in includeonly:\n",
    "    # method A\n",
    "    #q = mol._atm.copy()\n",
    "    #q[site, 0] = 0\n",
    "    #a = pyscf.gto.getints('int1e_nuc_sph', q, mol._bas, mol._env)\n",
    "    #print ('EPN, method A', np.matmul(a, dm1_ao).trace() / mol.atom_charges()[site])\n",
    "    # method B\n",
    "    mol.set_rinv_orig_(mol.atom_coords()[site])\n",
    "    print ('EPN, method B', np.matmul( dm1_ao,mol.intor('int1e_rinv')).trace())\n"
   ]
  },
  {
   "cell_type": "code",
   "execution_count": 4,
   "metadata": {},
   "outputs": [
    {
     "name": "stdout",
     "output_type": "stream",
     "text": [
      "[[ 1.08065133e-03 -3.27521333e-03 -4.57493922e-03 -1.28496347e-16\n",
      "   3.91403248e-17  3.81355655e-03 -4.51403461e-17 -2.37233188e-18\n",
      "  -2.05590235e-03 -1.62504271e-05 -2.10852426e-03  5.78232737e-03\n",
      "   4.18654323e-17 -1.03420450e-17  2.68669078e-03  6.85967022e-17\n",
      "  -2.21662097e-17 -2.95582076e-03]\n",
      " [-3.27521333e-03 -1.51062714e-02  3.46085412e-02  8.11644048e-17\n",
      "  -7.51127440e-17 -1.39507198e-02 -2.43776765e-17 -4.12549078e-18\n",
      "  -1.86392906e-03 -2.10852426e-03  7.73413138e-03 -3.26410862e-03\n",
      "  -3.11452969e-16  2.71813139e-19 -9.51981551e-03 -2.66233259e-16\n",
      "   3.54973046e-17  8.97095899e-03]\n",
      " [-4.57493922e-03  3.46085412e-02 -3.93283887e-02  3.50373103e-15\n",
      "  -2.74761249e-17 -3.45538319e-02  1.66760657e-15  1.66087722e-16\n",
      "  -5.16264076e-03  5.78232737e-03 -3.26410861e-03 -1.29601569e-03\n",
      "   2.62597557e-15  3.21914015e-16 -2.74674753e-02  1.19844421e-15\n",
      "   2.70357991e-16 -2.15337216e-02]\n",
      " [-1.28496347e-16  8.11644048e-17  3.50373103e-15 -3.60581518e-02\n",
      "  -3.41553817e-16 -5.19184704e-16  4.18171484e-03 -1.59939434e-16\n",
      "   1.38488705e-15 -5.93809199e-18  1.07674480e-16 -3.71980233e-15\n",
      "   1.42787000e-02 -2.42296759e-16 -2.77712249e-16  1.94073958e-02\n",
      "  -1.50433051e-16  1.50602226e-15]\n",
      " [ 3.91403248e-17 -7.51127440e-17 -2.74761249e-17 -3.45240104e-16\n",
      "  -3.60581518e-02  2.60425924e-16 -2.34125175e-16  4.18171484e-03\n",
      "   9.28862317e-17 -4.53680550e-17  8.54265705e-17 -1.33101452e-16\n",
      "   1.62430286e-16  1.42787000e-02 -1.84460665e-16  2.54228320e-16\n",
      "   1.94073958e-02  1.39890931e-16]\n",
      " [ 3.81355655e-03 -1.39507198e-02 -3.45538319e-02 -5.19184704e-16\n",
      "   2.60425924e-16  1.53046154e-04 -1.37289465e-16 -1.11991589e-18\n",
      "  -5.03569394e-03 -2.68669078e-03  9.51981551e-03  2.74674753e-02\n",
      "  -3.62061299e-17 -5.92897149e-17 -1.99842841e-02  6.55432111e-17\n",
      "  -9.42670527e-17 -7.70420962e-03]\n",
      " [-4.51403461e-17 -2.43776765e-17  1.66760657e-15  4.18171484e-03\n",
      "  -2.32959657e-16 -1.37289465e-16  4.55617960e-03 -1.18877863e-16\n",
      "   7.76433378e-16 -1.21097965e-16  2.20707746e-16 -1.76586028e-15\n",
      "   1.94073958e-02 -2.11033922e-16 -1.24333242e-16  1.49787423e-02\n",
      "  -1.14979640e-16  8.16637404e-16]\n",
      " [-2.37233188e-18 -4.12549078e-18  1.66087722e-16 -1.61619947e-16\n",
      "   4.18171484e-03 -1.11991589e-18 -1.18769443e-16  4.55617960e-03\n",
      "   1.91823286e-17  5.05303508e-17 -4.50738205e-17 -1.85729904e-16\n",
      "   8.86869138e-17  1.94073958e-02 -4.17417821e-17  1.34664900e-16\n",
      "   1.49787423e-02  9.72900100e-17]\n",
      " [-2.05590235e-03 -1.86392906e-03 -5.16264076e-03  1.38488705e-15\n",
      "   9.28862317e-17 -5.03569394e-03  7.76433378e-16  1.91823286e-17\n",
      "  -2.74879947e-02  2.95582076e-03 -8.97095899e-03  2.15337216e-02\n",
      "   1.51900544e-15  8.57234278e-19 -7.70420962e-03  8.34658512e-16\n",
      "  -1.43853905e-17 -1.03109449e-02]\n",
      " [-1.62504271e-05 -2.10852426e-03  5.78232737e-03 -5.93809199e-18\n",
      "  -4.53680550e-17 -2.68669078e-03 -1.21097965e-16  5.05303508e-17\n",
      "   2.95582076e-03  1.08065133e-03 -3.27521333e-03 -4.57493922e-03\n",
      "   2.03174450e-16  1.21640344e-17 -3.81355655e-03 -3.93418841e-17\n",
      "  -3.73407921e-18  2.05590235e-03]\n",
      " [-2.10852426e-03  7.73413138e-03 -3.26410861e-03  1.07674480e-16\n",
      "   8.54265705e-17  9.51981551e-03  2.20707746e-16 -4.50738205e-17\n",
      "  -8.97095899e-03 -3.27521333e-03 -1.51062714e-02  3.46085412e-02\n",
      "   6.95877380e-16  4.20773752e-18  1.39507198e-02  4.69622049e-16\n",
      "  -2.42820003e-17  1.86392906e-03]\n",
      " [ 5.78232737e-03 -3.26410862e-03 -1.29601569e-03 -3.71980233e-15\n",
      "  -1.33101452e-16  2.74674753e-02 -1.76586028e-15 -1.85729904e-16\n",
      "   2.15337216e-02 -4.57493922e-03  3.46085412e-02 -3.93283887e-02\n",
      "  -2.89306202e-15 -1.35868923e-16  3.45538320e-02 -1.35022533e-15\n",
      "  -1.20287088e-16  5.16264076e-03]\n",
      " [ 4.18654323e-17 -3.11452969e-16  2.62597557e-15  1.42787000e-02\n",
      "   1.55247447e-16 -3.62061299e-17  1.94073958e-02  9.12347889e-17\n",
      "   1.51900544e-15  2.03174450e-16  6.95877380e-16 -2.89306202e-15\n",
      "  -3.60581519e-02  3.11506432e-16 -1.08304863e-16  4.18171484e-03\n",
      "   1.27610596e-16  1.57900829e-15]\n",
      " [-1.03420450e-17  2.71813139e-19  3.21914015e-16 -2.46416728e-16\n",
      "   1.42787000e-02 -5.92897149e-17 -2.14882840e-16  1.94073958e-02\n",
      "   8.57234278e-19  1.21640344e-17  4.20773752e-18 -1.35868923e-16\n",
      "   3.15138509e-16 -3.60581519e-02  2.98764298e-17  3.16079801e-16\n",
      "   4.18171484e-03  2.37864580e-16]\n",
      " [ 2.68669078e-03 -9.51981551e-03 -2.74674753e-02 -2.77712249e-16\n",
      "  -1.84460665e-16 -1.99842841e-02 -1.24333242e-16 -4.17417821e-17\n",
      "  -7.70420962e-03 -3.81355655e-03  1.39507198e-02  3.45538320e-02\n",
      "  -1.08304863e-16  2.98764298e-17  1.53046143e-04 -3.77010796e-19\n",
      "   3.95741381e-17 -5.03569394e-03]\n",
      " [ 6.85967022e-17 -2.66233259e-16  1.19844421e-15  1.94073958e-02\n",
      "   2.53171223e-16  6.55432111e-17  1.49787423e-02  1.33797538e-16\n",
      "   8.34658512e-16 -3.93418841e-17  4.69622049e-16 -1.35022533e-15\n",
      "   4.18171484e-03  3.13830081e-16 -3.77010796e-19  4.55617959e-03\n",
      "   1.53360397e-16  8.52098143e-16]\n",
      " [-2.21662097e-17  3.54973046e-17  2.70357991e-16 -1.51328125e-16\n",
      "   1.94073958e-02 -9.42670527e-17 -1.16672462e-16  1.49787423e-02\n",
      "  -1.43853905e-17 -3.73407921e-18 -2.42820003e-17 -1.20287088e-16\n",
      "   1.27303519e-16  4.18171484e-03  3.95741381e-17  1.53079123e-16\n",
      "   4.55617959e-03  1.37873084e-16]\n",
      " [-2.95582076e-03  8.97095899e-03 -2.15337216e-02  1.50602226e-15\n",
      "   1.39890931e-16 -7.70420962e-03  8.16637404e-16  9.72900100e-17\n",
      "  -1.03109449e-02  2.05590235e-03  1.86392906e-03  5.16264076e-03\n",
      "   1.57900829e-15  2.37864580e-16 -5.03569394e-03  8.52098143e-16\n",
      "   1.37873084e-16 -2.74879947e-02]]\n"
     ]
    }
   ],
   "source": [
    "#mf.scf()\n",
    "### the problem is that the unrelaxed density matrix in ccsd is the same as \n",
    "##  Hartree Fock density matrix ( a part from a small numerical error)\n",
    "print(mf.make_rdm1()-dm1_ao) "
   ]
  },
  {
   "cell_type": "code",
   "execution_count": 70,
   "metadata": {},
   "outputs": [
    {
     "data": {
      "text/plain": [
       "14.000000000000004"
      ]
     },
     "execution_count": 70,
     "metadata": {},
     "output_type": "execute_result"
    }
   ],
   "source": [
    "np.einsum('ij,ji',mycc.make_rdm1(),np.eye(18))"
   ]
  },
  {
   "cell_type": "code",
   "execution_count": 40,
   "metadata": {},
   "outputs": [
    {
     "data": {
      "text/plain": [
       "array([[ 0.00000000e+00,  1.38777878e-17,  1.38777878e-17,\n",
       "         0.00000000e+00,  0.00000000e+00,  0.00000000e+00,\n",
       "         0.00000000e+00,  0.00000000e+00,  0.00000000e+00,\n",
       "         6.77626358e-21, -3.46944695e-18,  0.00000000e+00,\n",
       "         0.00000000e+00,  0.00000000e+00,  6.93889390e-18,\n",
       "         0.00000000e+00,  0.00000000e+00,  0.00000000e+00],\n",
       "       [-1.38777878e-17,  0.00000000e+00,  0.00000000e+00,\n",
       "         0.00000000e+00,  0.00000000e+00,  2.77555756e-17,\n",
       "         0.00000000e+00,  0.00000000e+00,  0.00000000e+00,\n",
       "         0.00000000e+00,  0.00000000e+00,  5.55111512e-17,\n",
       "         0.00000000e+00,  0.00000000e+00,  0.00000000e+00,\n",
       "         0.00000000e+00,  0.00000000e+00,  5.55111512e-17],\n",
       "       [-1.38777878e-17,  0.00000000e+00,  0.00000000e+00,\n",
       "         0.00000000e+00,  0.00000000e+00,  0.00000000e+00,\n",
       "         0.00000000e+00,  0.00000000e+00,  0.00000000e+00,\n",
       "         0.00000000e+00, -5.55111512e-17,  0.00000000e+00,\n",
       "         0.00000000e+00,  0.00000000e+00, -1.11022302e-16,\n",
       "         0.00000000e+00,  0.00000000e+00,  0.00000000e+00],\n",
       "       [ 0.00000000e+00,  0.00000000e+00,  0.00000000e+00,\n",
       "         0.00000000e+00,  0.00000000e+00,  0.00000000e+00,\n",
       "        -2.77555756e-17,  0.00000000e+00,  0.00000000e+00,\n",
       "         0.00000000e+00,  0.00000000e+00,  0.00000000e+00,\n",
       "         2.77555756e-17,  0.00000000e+00,  0.00000000e+00,\n",
       "         0.00000000e+00,  0.00000000e+00,  0.00000000e+00],\n",
       "       [ 0.00000000e+00,  0.00000000e+00,  0.00000000e+00,\n",
       "         0.00000000e+00,  0.00000000e+00,  0.00000000e+00,\n",
       "         0.00000000e+00, -2.77555756e-17,  0.00000000e+00,\n",
       "         0.00000000e+00,  0.00000000e+00,  0.00000000e+00,\n",
       "         0.00000000e+00,  2.77555756e-17,  0.00000000e+00,\n",
       "         0.00000000e+00,  0.00000000e+00,  0.00000000e+00],\n",
       "       [ 0.00000000e+00, -2.77555756e-17,  0.00000000e+00,\n",
       "         0.00000000e+00,  0.00000000e+00,  0.00000000e+00,\n",
       "         0.00000000e+00,  0.00000000e+00,  0.00000000e+00,\n",
       "        -5.55111512e-17,  1.11022302e-16,  5.55111512e-17,\n",
       "         0.00000000e+00,  0.00000000e+00, -5.55111512e-17,\n",
       "         0.00000000e+00,  0.00000000e+00, -4.16333634e-17],\n",
       "       [ 0.00000000e+00,  0.00000000e+00,  0.00000000e+00,\n",
       "         2.77555756e-17,  0.00000000e+00,  0.00000000e+00,\n",
       "         0.00000000e+00,  0.00000000e+00,  0.00000000e+00,\n",
       "         0.00000000e+00,  0.00000000e+00,  0.00000000e+00,\n",
       "        -5.55111512e-17,  0.00000000e+00,  0.00000000e+00,\n",
       "         0.00000000e+00,  0.00000000e+00,  0.00000000e+00],\n",
       "       [ 0.00000000e+00,  0.00000000e+00,  0.00000000e+00,\n",
       "         0.00000000e+00,  2.77555756e-17,  0.00000000e+00,\n",
       "         0.00000000e+00,  0.00000000e+00,  0.00000000e+00,\n",
       "         0.00000000e+00,  0.00000000e+00,  0.00000000e+00,\n",
       "         0.00000000e+00, -5.55111512e-17,  0.00000000e+00,\n",
       "         0.00000000e+00,  0.00000000e+00,  0.00000000e+00],\n",
       "       [ 0.00000000e+00,  0.00000000e+00,  0.00000000e+00,\n",
       "         0.00000000e+00,  0.00000000e+00,  0.00000000e+00,\n",
       "         0.00000000e+00,  0.00000000e+00,  0.00000000e+00,\n",
       "        -5.55111512e-17,  0.00000000e+00,  0.00000000e+00,\n",
       "         0.00000000e+00,  0.00000000e+00, -2.77555756e-17,\n",
       "         0.00000000e+00,  0.00000000e+00,  6.93889390e-18],\n",
       "       [-6.77626358e-21,  0.00000000e+00,  0.00000000e+00,\n",
       "         0.00000000e+00,  0.00000000e+00,  5.55111512e-17,\n",
       "         0.00000000e+00,  0.00000000e+00,  5.55111512e-17,\n",
       "         0.00000000e+00, -5.55111512e-17,  0.00000000e+00,\n",
       "         0.00000000e+00,  0.00000000e+00,  0.00000000e+00,\n",
       "         0.00000000e+00,  0.00000000e+00,  6.16297582e-33],\n",
       "       [ 3.46944695e-18,  0.00000000e+00,  5.55111512e-17,\n",
       "         0.00000000e+00,  0.00000000e+00, -1.11022302e-16,\n",
       "         0.00000000e+00,  0.00000000e+00,  0.00000000e+00,\n",
       "         5.55111512e-17,  0.00000000e+00,  1.11022302e-16,\n",
       "         0.00000000e+00,  0.00000000e+00,  0.00000000e+00,\n",
       "         0.00000000e+00,  0.00000000e+00,  0.00000000e+00],\n",
       "       [ 0.00000000e+00, -5.55111512e-17,  0.00000000e+00,\n",
       "         0.00000000e+00,  0.00000000e+00, -5.55111512e-17,\n",
       "         0.00000000e+00,  0.00000000e+00,  0.00000000e+00,\n",
       "         0.00000000e+00, -1.11022302e-16,  0.00000000e+00,\n",
       "         0.00000000e+00,  0.00000000e+00,  0.00000000e+00,\n",
       "         0.00000000e+00,  0.00000000e+00,  0.00000000e+00],\n",
       "       [ 0.00000000e+00,  0.00000000e+00,  0.00000000e+00,\n",
       "        -2.77555756e-17,  0.00000000e+00,  0.00000000e+00,\n",
       "         5.55111512e-17,  0.00000000e+00,  0.00000000e+00,\n",
       "         0.00000000e+00,  0.00000000e+00,  0.00000000e+00,\n",
       "         0.00000000e+00,  0.00000000e+00,  0.00000000e+00,\n",
       "        -5.55111512e-17,  0.00000000e+00,  0.00000000e+00],\n",
       "       [ 0.00000000e+00,  0.00000000e+00,  0.00000000e+00,\n",
       "         0.00000000e+00, -2.77555756e-17,  0.00000000e+00,\n",
       "         0.00000000e+00,  5.55111512e-17,  0.00000000e+00,\n",
       "         0.00000000e+00,  0.00000000e+00,  0.00000000e+00,\n",
       "         0.00000000e+00,  0.00000000e+00,  0.00000000e+00,\n",
       "         0.00000000e+00, -5.55111512e-17,  0.00000000e+00],\n",
       "       [-6.93889390e-18,  0.00000000e+00,  1.11022302e-16,\n",
       "         0.00000000e+00,  0.00000000e+00,  5.55111512e-17,\n",
       "         0.00000000e+00,  0.00000000e+00,  2.77555756e-17,\n",
       "         0.00000000e+00,  0.00000000e+00,  0.00000000e+00,\n",
       "         0.00000000e+00,  0.00000000e+00,  0.00000000e+00,\n",
       "         0.00000000e+00,  0.00000000e+00, -5.55111512e-17],\n",
       "       [ 0.00000000e+00,  0.00000000e+00,  0.00000000e+00,\n",
       "         0.00000000e+00,  0.00000000e+00,  0.00000000e+00,\n",
       "         0.00000000e+00,  0.00000000e+00,  0.00000000e+00,\n",
       "         0.00000000e+00,  0.00000000e+00,  0.00000000e+00,\n",
       "         5.55111512e-17,  0.00000000e+00,  0.00000000e+00,\n",
       "         0.00000000e+00,  0.00000000e+00,  0.00000000e+00],\n",
       "       [ 0.00000000e+00,  0.00000000e+00,  0.00000000e+00,\n",
       "         0.00000000e+00,  0.00000000e+00,  0.00000000e+00,\n",
       "         0.00000000e+00,  0.00000000e+00,  0.00000000e+00,\n",
       "         0.00000000e+00,  0.00000000e+00,  0.00000000e+00,\n",
       "         0.00000000e+00,  5.55111512e-17,  0.00000000e+00,\n",
       "         0.00000000e+00,  0.00000000e+00,  0.00000000e+00],\n",
       "       [ 0.00000000e+00, -5.55111512e-17,  0.00000000e+00,\n",
       "         0.00000000e+00,  0.00000000e+00,  4.16333634e-17,\n",
       "         0.00000000e+00,  0.00000000e+00, -6.93889390e-18,\n",
       "        -6.16297582e-33,  0.00000000e+00,  0.00000000e+00,\n",
       "         0.00000000e+00,  0.00000000e+00,  5.55111512e-17,\n",
       "         0.00000000e+00,  0.00000000e+00,  0.00000000e+00]])"
      ]
     },
     "execution_count": 40,
     "metadata": {},
     "output_type": "execute_result"
    },
    {
     "data": {
      "image/png": "[encoded data removed]",
      "text/plain": [
       "<Figure size 288x288 with 1 Axes>"
      ]
     },
     "metadata": {
      "needs_background": "light"
     },
     "output_type": "display_data"
    }
   ],
   "source": [
    "plt.matshow(mol.intor('int1e_rinv'))\n",
    "mol.intor('int1e_rinv')-mol.intor('int1e_rinv').T"
   ]
  },
  {
   "cell_type": "code",
   "execution_count": 32,
   "metadata": {},
   "outputs": [
    {
     "name": "stdout",
     "output_type": "stream",
     "text": [
      "Help on method set_rinv_origin in module pyscf.gto.mole:\n",
      "\n",
      "set_rinv_origin(coord) method of pyscf.gto.mole.Mole instance\n",
      "    Update origin for operator :math:`\\frac{1}{|r-R_O|}`.\n",
      "    **Note** the unit is Bohr\n",
      "    \n",
      "    Examples:\n",
      "    \n",
      "    >>> mol.set_rinv_origin(0)\n",
      "    >>> mol.set_rinv_origin((0,1,0))\n",
      "\n"
     ]
    }
   ],
   "source": [
    "help(mol.set_rinv_orig_)"
   ]
  },
  {
   "cell_type": "code",
   "execution_count": 28,
   "metadata": {},
   "outputs": [
    {
     "data": {
      "text/plain": [
       "array([[0., 0., 0.],\n",
       "       [0., 0., 1.]])"
      ]
     },
     "execution_count": 28,
     "metadata": {},
     "output_type": "execute_result"
    }
   ],
   "source": [
    "mol.atom_coords()/(1 / 0.52917721067)"
   ]
  },
  {
   "cell_type": "code",
   "execution_count": 46,
   "metadata": {},
   "outputs": [
    {
     "data": {
      "text/plain": [
       "array([2.08510789, 0.50211401, 1.05217241, 0.42821792, 0.41463665,\n",
       "       0.6641638 , 0.11165596, 0.17542803, 0.07905939, 2.08510789,\n",
       "       0.50211401, 1.05217241, 0.42821792, 0.41463665, 0.6641638 ,\n",
       "       0.11165596, 0.17542803, 0.07905939])"
      ]
     },
     "execution_count": 46,
     "metadata": {},
     "output_type": "execute_result"
    }
   ],
   "source": []
  },
  {
   "cell_type": "code",
   "execution_count": 47,
   "metadata": {},
   "outputs": [
    {
     "data": {
      "text/plain": [
       "array([1.99993837, 1.99994299, 1.98899603, 1.97588856, 1.9476586 ,\n",
       "       1.9476586 , 1.98092735, 0.04386803, 0.04386803, 0.00602777,\n",
       "       0.00400162, 0.0059458 , 0.0059458 , 0.01215502, 0.00940992,\n",
       "       0.00940992, 0.01007105, 0.00828655])"
      ]
     },
     "execution_count": 47,
     "metadata": {},
     "output_type": "execute_result"
    }
   ],
   "source": []
  },
  {
   "cell_type": "code",
   "execution_count": 48,
   "metadata": {},
   "outputs": [
    {
     "data": {
      "text/plain": [
       "array([[ 5.29177211e-01,  1.17591325e-01,  9.09491487e-02,\n",
       "         0.00000000e+00,  0.00000000e+00,  2.30300834e-02,\n",
       "         0.00000000e+00,  0.00000000e+00,  3.37425082e-03,\n",
       "         5.75757734e-05,  2.32692260e-02,  4.51926896e-02,\n",
       "         0.00000000e+00,  0.00000000e+00, -4.43854682e-02,\n",
       "         0.00000000e+00,  0.00000000e+00, -7.43013701e-02],\n",
       "       [ 1.17591325e-01,  5.28554613e-01,  4.06756179e-01,\n",
       "         0.00000000e+00,  0.00000000e+00,  1.59269386e-01,\n",
       "         0.00000000e+00,  0.00000000e+00,  1.01031049e-01,\n",
       "         1.25363842e-01,  2.60412985e-01,  2.84327331e-01,\n",
       "         0.00000000e+00,  0.00000000e+00, -2.99326727e-01,\n",
       "         0.00000000e+00,  0.00000000e+00, -3.06615213e-01],\n",
       "       [ 9.09491487e-02,  4.06756179e-01,  4.85888913e-01,\n",
       "         0.00000000e+00,  0.00000000e+00,  1.48099628e-01,\n",
       "         0.00000000e+00,  0.00000000e+00,  1.86327523e-01,\n",
       "         2.82410294e-01,  4.12498415e-01,  4.46315998e-01,\n",
       "         0.00000000e+00,  0.00000000e+00, -1.94712635e-01,\n",
       "         0.00000000e+00,  0.00000000e+00, -2.71487861e-01],\n",
       "       [ 0.00000000e+00,  0.00000000e+00,  0.00000000e+00,\n",
       "         4.94817562e-01,  0.00000000e+00,  0.00000000e+00,\n",
       "         2.39507014e-01,  0.00000000e+00,  0.00000000e+00,\n",
       "         0.00000000e+00,  0.00000000e+00,  0.00000000e+00,\n",
       "         1.37903689e-01,  0.00000000e+00,  0.00000000e+00,\n",
       "         1.49960823e-01,  0.00000000e+00,  0.00000000e+00],\n",
       "       [ 0.00000000e+00,  0.00000000e+00,  0.00000000e+00,\n",
       "         0.00000000e+00,  4.94817562e-01,  0.00000000e+00,\n",
       "         0.00000000e+00,  2.39507014e-01,  0.00000000e+00,\n",
       "         0.00000000e+00,  0.00000000e+00,  0.00000000e+00,\n",
       "         0.00000000e+00,  1.37903689e-01,  0.00000000e+00,\n",
       "         0.00000000e+00,  1.49960823e-01,  0.00000000e+00],\n",
       "       [ 2.30300834e-02,  1.59269386e-01,  1.48099628e-01,\n",
       "         0.00000000e+00,  0.00000000e+00,  5.94014636e-01,\n",
       "         0.00000000e+00,  0.00000000e+00,  3.24470968e-01,\n",
       "         2.55270136e-01,  3.74481367e-01,  2.64525447e-01,\n",
       "         0.00000000e+00,  0.00000000e+00, -3.60528651e-01,\n",
       "         0.00000000e+00,  0.00000000e+00, -1.19668302e-01],\n",
       "       [ 0.00000000e+00,  0.00000000e+00,  0.00000000e+00,\n",
       "         2.39507014e-01,  0.00000000e+00,  0.00000000e+00,\n",
       "         3.78823756e-01,  0.00000000e+00,  0.00000000e+00,\n",
       "         0.00000000e+00,  0.00000000e+00,  0.00000000e+00,\n",
       "         2.23766608e-01,  0.00000000e+00,  0.00000000e+00,\n",
       "         3.11997821e-01,  0.00000000e+00,  0.00000000e+00],\n",
       "       [ 0.00000000e+00,  0.00000000e+00,  0.00000000e+00,\n",
       "         0.00000000e+00,  2.39507014e-01,  0.00000000e+00,\n",
       "         0.00000000e+00,  3.78823756e-01,  0.00000000e+00,\n",
       "         0.00000000e+00,  0.00000000e+00,  0.00000000e+00,\n",
       "         0.00000000e+00,  2.23766608e-01,  0.00000000e+00,\n",
       "         0.00000000e+00,  3.11997821e-01,  0.00000000e+00],\n",
       "       [ 3.37425082e-03,  1.01031049e-01,  1.86327523e-01,\n",
       "         0.00000000e+00,  0.00000000e+00,  3.24470968e-01,\n",
       "         0.00000000e+00,  0.00000000e+00,  5.38399634e-01,\n",
       "         4.82925215e-01,  5.95689061e-01,  5.05244331e-01,\n",
       "         0.00000000e+00,  0.00000000e+00, -6.38206172e-02,\n",
       "         0.00000000e+00,  0.00000000e+00,  3.23986188e-02],\n",
       "       [ 5.75757734e-05,  1.25363842e-01,  2.82410294e-01,\n",
       "         0.00000000e+00,  0.00000000e+00,  2.55270136e-01,\n",
       "         0.00000000e+00,  0.00000000e+00,  4.82925215e-01,\n",
       "         6.68919293e+00,  4.77306654e-01,  5.94317958e-01,\n",
       "         0.00000000e+00,  0.00000000e+00,  4.09881849e-16,\n",
       "         0.00000000e+00,  0.00000000e+00,  2.92114647e-17],\n",
       "       [ 2.32692260e-02,  2.60412985e-01,  4.12498415e-01,\n",
       "         0.00000000e+00,  0.00000000e+00,  3.74481367e-01,\n",
       "         0.00000000e+00,  0.00000000e+00,  5.95689061e-01,\n",
       "         4.77306654e-01,  1.13382918e+00,  7.73544237e-01,\n",
       "         0.00000000e+00,  0.00000000e+00, -2.49749610e-16,\n",
       "         0.00000000e+00,  0.00000000e+00,  1.24684083e-17],\n",
       "       [ 4.51926896e-02,  2.84327331e-01,  4.46315998e-01,\n",
       "         0.00000000e+00,  0.00000000e+00,  2.64525447e-01,\n",
       "         0.00000000e+00,  0.00000000e+00,  5.05244331e-01,\n",
       "         5.94317958e-01,  7.73544237e-01,  7.34801519e-01,\n",
       "         0.00000000e+00,  0.00000000e+00, -5.42750947e-17,\n",
       "         0.00000000e+00,  0.00000000e+00,  0.00000000e+00],\n",
       "       [ 0.00000000e+00,  0.00000000e+00,  0.00000000e+00,\n",
       "         1.37903689e-01,  0.00000000e+00,  0.00000000e+00,\n",
       "         2.23766608e-01,  0.00000000e+00,  0.00000000e+00,\n",
       "         0.00000000e+00,  0.00000000e+00,  0.00000000e+00,\n",
       "         1.24822527e+00,  0.00000000e+00,  0.00000000e+00,\n",
       "         4.25955433e-01,  0.00000000e+00,  0.00000000e+00],\n",
       "       [ 0.00000000e+00,  0.00000000e+00,  0.00000000e+00,\n",
       "         0.00000000e+00,  1.37903689e-01,  0.00000000e+00,\n",
       "         0.00000000e+00,  2.23766608e-01,  0.00000000e+00,\n",
       "         0.00000000e+00,  0.00000000e+00,  0.00000000e+00,\n",
       "         0.00000000e+00,  1.24822527e+00,  0.00000000e+00,\n",
       "         0.00000000e+00,  4.25955433e-01,  0.00000000e+00],\n",
       "       [-4.43854682e-02, -2.99326727e-01, -1.94712635e-01,\n",
       "         0.00000000e+00,  0.00000000e+00, -3.60528651e-01,\n",
       "         0.00000000e+00,  0.00000000e+00, -6.38206172e-02,\n",
       "         4.09881849e-16, -2.49749610e-16, -5.42750947e-17,\n",
       "         0.00000000e+00,  0.00000000e+00,  1.24822527e+00,\n",
       "         0.00000000e+00,  0.00000000e+00,  4.25955433e-01],\n",
       "       [ 0.00000000e+00,  0.00000000e+00,  0.00000000e+00,\n",
       "         1.49960823e-01,  0.00000000e+00,  0.00000000e+00,\n",
       "         3.11997821e-01,  0.00000000e+00,  0.00000000e+00,\n",
       "         0.00000000e+00,  0.00000000e+00,  0.00000000e+00,\n",
       "         4.25955433e-01,  0.00000000e+00,  0.00000000e+00,\n",
       "         4.89867679e-01,  0.00000000e+00,  0.00000000e+00],\n",
       "       [ 0.00000000e+00,  0.00000000e+00,  0.00000000e+00,\n",
       "         0.00000000e+00,  1.49960823e-01,  0.00000000e+00,\n",
       "         0.00000000e+00,  3.11997821e-01,  0.00000000e+00,\n",
       "         0.00000000e+00,  0.00000000e+00,  0.00000000e+00,\n",
       "         0.00000000e+00,  4.25955433e-01,  0.00000000e+00,\n",
       "         0.00000000e+00,  4.89867679e-01,  0.00000000e+00],\n",
       "       [-7.43013701e-02, -3.06615213e-01, -2.71487861e-01,\n",
       "         0.00000000e+00,  0.00000000e+00, -1.19668302e-01,\n",
       "         0.00000000e+00,  0.00000000e+00,  3.23986188e-02,\n",
       "         2.92114647e-17,  1.24684083e-17,  0.00000000e+00,\n",
       "         0.00000000e+00,  0.00000000e+00,  4.25955433e-01,\n",
       "         0.00000000e+00,  0.00000000e+00,  4.89867679e-01]])"
      ]
     },
     "execution_count": 48,
     "metadata": {},
     "output_type": "execute_result"
    }
   ],
   "source": [
    "mol.intor('int1e_rinv')"
   ]
  },
  {
   "cell_type": "code",
   "execution_count": null,
   "metadata": {},
   "outputs": [],
   "source": []
  }
 ],
 "metadata": {
  "kernelspec": {
   "display_name": "Python [conda env:analysis]",
   "language": "python",
   "name": "conda-env-analysis-py"
  },
  "language_info": {
   "codemirror_mode": {
    "name": "ipython",
    "version": 3
   },
   "file_extension": ".py",
   "mimetype": "text/x-python",
   "name": "python",
   "nbconvert_exporter": "python",
   "pygments_lexer": "ipython3",
   "version": "3.6.8"
  }
 },
 "nbformat": 4,
 "nbformat_minor": 2
}
