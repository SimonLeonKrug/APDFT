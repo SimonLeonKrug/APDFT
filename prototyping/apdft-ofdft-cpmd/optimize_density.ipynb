{
 "cells": [
  {
   "cell_type": "code",
   "execution_count": 36,
   "metadata": {},
   "outputs": [],
   "source": [
    "import ase.units as au\n",
    "from matplotlib import pyplot as plt\n",
    "import numpy as np\n",
    "import os\n",
    "import shutil\n",
    "import sys\n",
    "import subprocess\n",
    "\n",
    "sys.path.insert(0, '/home/misa/git_repositories/APDFT/prototyping/apdft-ofdft-cpmd/')\n",
    "import profess_io as pio"
   ]
  },
  {
   "cell_type": "markdown",
   "metadata": {},
   "source": [
    "Problem 1:\n",
    "- energy diverges\n",
    "- lambda is not small\n",
    "- N_p, N_pp are very different from 12\n",
    "\n",
    "reasons:\n",
    "- rescale density before saving?: yes seems to converge\n",
    "\n",
    "Problem 2:\n",
    "- no convergence with velocity verlet\n"
   ]
  },
  {
   "cell_type": "code",
   "execution_count": null,
   "metadata": {},
   "outputs": [],
   "source": []
  },
  {
   "cell_type": "code",
   "execution_count": 48,
   "metadata": {},
   "outputs": [],
   "source": [
    "class DensityOptimizer():\n",
    "    \n",
    "    def __init__(self):\n",
    "        pass\n",
    "    \n",
    "    def initialize(self, workdir, dt, mu):\n",
    "        self.workdir = workdir\n",
    "        #dens = self.read_density(dens_file)\n",
    "        #self.density = self.normalize(dens)\n",
    "        #self.X = np.sqrt(self.density)\n",
    "        \n",
    "        #grad = self.read_gradient(grad_file)\n",
    "        #self.dEdX = self.normalize(grad)\n",
    "        \n",
    "        self.dt = dt\n",
    "        self.mu = mu\n",
    "        self.energies = []\n",
    "        \n",
    "    def calculate_dEdX(self, density_file):\n",
    "        \"\"\"\n",
    "        calculates dEdX for the density specified in density file\n",
    "        \"\"\"\n",
    "        # copy density file to work_dir/density\n",
    "        shutil.copy(density_file, os.path.join(self.workdir, 'density'))\n",
    "        # run PROFESS-1\n",
    "        self.p = self.run_profess()\n",
    "        \n",
    "    def calculate_lambda(self):\n",
    "        Ne = 12.0\n",
    "        N_p = (self.X_p*self.X).sum()\n",
    "        N_pp = (self.X_p*self.X_p).sum()\n",
    "        tau = self.dt**2/self.mu\n",
    "        p2 = N_p/(tau*Ne)\n",
    "        q = (N_pp - Ne)/(tau**2*Ne)\n",
    "        lambda_1 = -p2 - np.sqrt(p2**2 - q)\n",
    "        lambda_2 = -p2 + np.sqrt(p2**2 - q)\n",
    "        #print(f'N_p = {N_p}, N_pp = {N_pp}')\n",
    "        return(lambda_1, lambda_2)\n",
    "        \n",
    "    def normalize(self, dens):\n",
    "        \"\"\"\n",
    "        multiply density with dV per voxel\n",
    "        \"\"\"\n",
    "        V = (3.9691/au.Bohr)**3\n",
    "        dV = V/16**3\n",
    "        density_vox = dens*dV\n",
    "        return(density_vox)\n",
    "    \n",
    "    def optimize(self, nsteps, density_file = None, overwrite = False):\n",
    "        for i in range(nsteps):\n",
    "            \n",
    "            # create path to density file\n",
    "            density_file = os.path.join(self.workdir, f'density_{i}')\n",
    "#             if density_file == None:\n",
    "#                 density_file = os.path.join(self.workdir, f'density_{i}')\n",
    "#             else:\n",
    "                \n",
    "            # calculate gradient for density file\n",
    "            self.calculate_dEdX(density_file)\n",
    "            \n",
    "            # read gradient and density into python\n",
    "            grad_file = os.path.join(self.workdir, 'dEdX')\n",
    "            grad = self.read_gradient(grad_file)\n",
    "            self.dEdX = self.normalize(grad)\n",
    "            dens = self.read_density(density_file)\n",
    "            self.density = self.normalize(dens)\n",
    "            self.X = np.sqrt(self.density)\n",
    "            \n",
    "            # read energy\n",
    "            self.energies.append(pio.parse_out_file(os.path.join(self.workdir, 'job.out'), 'TOTAL ENERGY'))\n",
    "\n",
    "            # propagate density\n",
    "            a = -self.dEdX/self.mu\n",
    "            self.X_p = a*self.dt**2 + self.X\n",
    "#             if i == 0:\n",
    "#                 # first step\n",
    "#                 a = -self.dEdX/self.mu\n",
    "#                 self.X_p = a*self.dt**2 + self.X\n",
    "#             else:\n",
    "#                 self.X_p = self.vv_step()\n",
    "            \n",
    "            # enforce that number of electrons is conserved\n",
    "            lambda_1, lambda_2 = self.calculate_lambda()\n",
    "            #print(f'lambda = {lambda_1}, {lambda_2}')\n",
    "            self.X_p = self.X_p + self.dt**2/self.mu*lambda_2*self.X_p\n",
    "            \n",
    "            # write new density to file\n",
    "            density_p = np.power(self.X_p,2)\n",
    "            #print(f'N_pp = {density_p.sum()}')\n",
    "            \n",
    "            V = (3.9691/au.Bohr)**3\n",
    "            dV = V/16**3\n",
    "            \n",
    "            density_p = density_p/dV\n",
    "            #print(f'N_pp = {density_p.sum()}')\n",
    "            if overwrite:\n",
    "                self.save_density(density_p, os.path.join(self.workdir, f'density'))\n",
    "            else:\n",
    "                self.save_density(density_p, os.path.join(self.workdir, f'density_{i+1}'))\n",
    "            \n",
    "            # update sqrt of density for previous step\n",
    "            self.X_m = self.X\n",
    "            #self.X = self.X_p\n",
    "    \n",
    "    def read_density(self, dens_file):\n",
    "        with open(dens_file, 'r') as f:\n",
    "            file = f.readlines()\n",
    "            density_unparsed = file[0][108:]\n",
    "            density = density_unparsed.split()\n",
    "            density = np.array([float(i) for i in density])\n",
    "            #density = density.reshape((16,16,16))\n",
    "            return(density)\n",
    "\n",
    "    def read_gradient(self, filep):\n",
    "        # load potential\n",
    "        dEdX = []\n",
    "        with open(filep, 'r') as f:\n",
    "            for i, line in enumerate(f):\n",
    "                if i != 0:\n",
    "                    dEdX.append(float(line.strip('\\n')))\n",
    "        dEdX = np.array(dEdX)\n",
    "        #dEdX = dEdX.reshape((16, 16, 16))\n",
    "        return(dEdX)\n",
    "    \n",
    "    def run_profess(self):\n",
    "        os.chdir(self.workdir)\n",
    "        p = subprocess.run(['/home/misa/software/PROFESS-1/PROFESS', 'job'], capture_output = True,  text=True )\n",
    "        return(p)\n",
    "    \n",
    "    def save_density(self, density, density_path):\n",
    "        dens_str = '  x-dimension:          16   y-dimension:          16   z-dimension:          16   # of spins:            1 '\n",
    "        for d in density:\n",
    "            dens_str += \"{:.20E} \".format(d)\n",
    "\n",
    "        new_dens = density_path\n",
    "        with open(new_dens, 'w') as f:\n",
    "            f.write(dens_str)\n",
    "\n",
    "    def vv_step(self):\n",
    "        X_p = 2*self.X - self.X_m - (self.dt**2/self.mu)*self.dEdX\n",
    "        return(X_p)\n",
    "    \n",
    "\n",
    "    "
   ]
  },
  {
   "cell_type": "code",
   "execution_count": 49,
   "metadata": {},
   "outputs": [],
   "source": [
    "OptimizeTest = DensityOptimizer()\n",
    "OptimizeTest.initialize('/home/misa/software/PROFESS-1/calculate_gradient', 0.1, 1)"
   ]
  },
  {
   "cell_type": "code",
   "execution_count": 50,
   "metadata": {},
   "outputs": [],
   "source": [
    "OptimizeTest.optimize(200)"
   ]
  },
  {
   "cell_type": "code",
   "execution_count": 33,
   "metadata": {
    "collapsed": true,
    "jupyter": {
     "outputs_hidden": true
    }
   },
   "outputs": [
    {
     "data": {
      "text/plain": [
       "[-231.2025715191,\n",
       " -231.2317097801,\n",
       " -231.256661708,\n",
       " -231.2782897701,\n",
       " -231.297254996,\n",
       " -231.3140678957,\n",
       " -231.329125557,\n",
       " -231.3427389504,\n",
       " -231.355153222,\n",
       " -231.3665628939,\n",
       " -231.3771233292,\n",
       " -231.3869594302,\n",
       " -231.396172276,\n",
       " -231.4048442133,\n",
       " -231.4130427813,\n",
       " -231.4208237516,\n",
       " -231.4282334948,\n",
       " -231.4353108305,\n",
       " -231.4420884815,\n",
       " -231.4485942206,\n",
       " -231.4548517801,\n",
       " -231.4608815762,\n",
       " -231.4667012884,\n",
       " -231.4723263247,\n",
       " -231.4777701983,\n",
       " -231.4830448314,\n",
       " -231.4881608044,\n",
       " -231.4931275584,\n",
       " -231.4979535631,\n",
       " -231.5026464542,\n",
       " -231.507213148,\n",
       " -231.5116599374,\n",
       " -231.5159925717,\n",
       " -231.5202163238,\n",
       " -231.5243360474,\n",
       " -231.5283562252,\n",
       " -231.5322810106,\n",
       " -231.5361142627,\n",
       " -231.5398595773,\n",
       " -231.5435203127,\n",
       " -231.5470996135,\n",
       " -231.55060043,\n",
       " -231.5540255357,\n",
       " -231.5573775436,\n",
       " -231.5606589189,\n",
       " -231.5638719919,\n",
       " -231.5670189682,\n",
       " -231.5701019387,\n",
       " -231.5731228885,\n",
       " -231.5760837039,\n",
       " -231.5789861804,\n",
       " -231.5818320282,\n",
       " -231.5846228787,\n",
       " -231.5873602891,\n",
       " -231.5900457477,\n",
       " -231.5926806782,\n",
       " -231.5952664435,\n",
       " -231.5978043494,\n",
       " -231.6002956483,\n",
       " -231.6027415422,\n",
       " -231.6051431854,\n",
       " -231.6075016874,\n",
       " -231.6098181153,\n",
       " -231.6120934963,\n",
       " -231.6143288193,\n",
       " -231.6165250377,\n",
       " -231.6186830705,\n",
       " -231.6208038045,\n",
       " -231.6228880958,\n",
       " -231.6249367713,\n",
       " -231.6269506301,\n",
       " -231.6289304448,\n",
       " -231.630876963,\n",
       " -231.632790908,\n",
       " -231.6346729806,\n",
       " -231.6365238593,\n",
       " -231.6383442019,\n",
       " -231.6401346463,\n",
       " -231.6418958111,\n",
       " -231.6436282968,\n",
       " -231.6453326863,\n",
       " -231.6470095456,\n",
       " -231.6486594249,\n",
       " -231.6502828587,\n",
       " -231.6518803668,\n",
       " -231.6534524548,\n",
       " -231.6549996145,\n",
       " -231.6565223247,\n",
       " -231.6580210515,\n",
       " -231.6594962489,\n",
       " -231.6609483591,\n",
       " -231.662377813,\n",
       " -231.6637850307,\n",
       " -231.6651704219,\n",
       " -231.6665343859,\n",
       " -231.6678773127,\n",
       " -231.6691995824,\n",
       " -231.6705015664,\n",
       " -231.6717836271,\n",
       " -231.6730461184]"
      ]
     },
     "execution_count": 33,
     "metadata": {},
     "output_type": "execute_result"
    }
   ],
   "source": [
    "OptimizeTest.energies"
   ]
  },
  {
   "cell_type": "code",
   "execution_count": 51,
   "metadata": {},
   "outputs": [],
   "source": [
    "dE = []\n",
    "for i in range(len(OptimizeTest.energies)-1):\n",
    "    dE.append(OptimizeTest.energies[i] - OptimizeTest.energies[i+1])"
   ]
  },
  {
   "cell_type": "code",
   "execution_count": 52,
   "metadata": {},
   "outputs": [
    {
     "data": {
      "text/plain": [
       "[<matplotlib.lines.Line2D at 0x7f690af75390>]"
      ]
     },
     "execution_count": 52,
     "metadata": {},
     "output_type": "execute_result"
    },
    {
     "data": {
      "image/png": "[encoded data removed]",
      "text/plain": [
       "<Figure size 432x288 with 1 Axes>"
      ]
     },
     "metadata": {
      "needs_background": "light"
     },
     "output_type": "display_data"
    }
   ],
   "source": [
    "plt.plot(OptimizeTest.energies)"
   ]
  },
  {
   "cell_type": "code",
   "execution_count": 53,
   "metadata": {},
   "outputs": [
    {
     "data": {
      "text/plain": [
       "[<matplotlib.lines.Line2D at 0x7f690aef9710>]"
      ]
     },
     "execution_count": 53,
     "metadata": {},
     "output_type": "execute_result"
    },
    {
     "data": {
      "image/png": "[encoded data removed]",
      "text/plain": [
       "<Figure size 432x288 with 1 Axes>"
      ]
     },
     "metadata": {
      "needs_background": "light"
     },
     "output_type": "display_data"
    }
   ],
   "source": [
    "plt.plot(dE)"
   ]
  },
  {
   "cell_type": "code",
   "execution_count": 56,
   "metadata": {},
   "outputs": [],
   "source": [
    "Eh = np.array([-8.4965386685E+00, -8.5165505320E+00, -8.5170003626E+00, -8.5170482810E+00, -8.5170492080E+00, -8.5170492795E+00])\n",
    "E_eV = au.Hartree*Eh"
   ]
  },
  {
   "cell_type": "code",
   "execution_count": 57,
   "metadata": {},
   "outputs": [
    {
     "data": {
      "text/plain": [
       "[<matplotlib.lines.Line2D at 0x7f690af0a630>]"
      ]
     },
     "execution_count": 57,
     "metadata": {},
     "output_type": "execute_result"
    },
    {
     "data": {
      "image/png": "[encoded data removed]",
      "text/plain": [
       "<Figure size 432x288 with 1 Axes>"
      ]
     },
     "metadata": {
      "needs_background": "light"
     },
     "output_type": "display_data"
    }
   ],
   "source": [
    "plt.plot(OptimizeTest.energies)\n",
    "plt.plot(E_eV)"
   ]
  },
  {
   "cell_type": "code",
   "execution_count": null,
   "metadata": {},
   "outputs": [],
   "source": []
  },
  {
   "cell_type": "code",
   "execution_count": null,
   "metadata": {},
   "outputs": [],
   "source": []
  },
  {
   "cell_type": "code",
   "execution_count": null,
   "metadata": {},
   "outputs": [],
   "source": [
    "density_path = '/home/misa/software/PROFESS-1/calculate_gradient/density_0'\n",
    "gradient_path = '/home/misa/software/PROFESS-1/calculate_gradient/dEdX_0'\n",
    "#density_m_path = '/home/misa/software/PROFESS-1/calculate_gradient/density_0'\n",
    "\n",
    "mu = 1\n",
    "dt = 0.1"
   ]
  },
  {
   "cell_type": "code",
   "execution_count": null,
   "metadata": {},
   "outputs": [],
   "source": [
    "density = read_density(density_path)\n",
    "density_normalized = normalize(density)\n",
    "X = np.sqrt(density_normalized)\n",
    "\n",
    "gradient_not_normalized = read_gradient(gradient_path)\n",
    "dEdX = normalize(gradient)"
   ]
  },
  {
   "cell_type": "code",
   "execution_count": null,
   "metadata": {},
   "outputs": [],
   "source": [
    "if step == 0:\n",
    "    # propagate density  first step\n",
    "    a = -dEdX/mu\n",
    "    X_p = a*dt**2 + X\n",
    "else:\n",
    "    read_density()"
   ]
  },
  {
   "cell_type": "markdown",
   "metadata": {},
   "source": [
    "### generate start density\n",
    "- run PROFESS for one step\n",
    "- print density -> initial guess\n",
    "- see /home/misa/git_repositories/PROFESS/test/single_iteration"
   ]
  },
  {
   "cell_type": "markdown",
   "metadata": {},
   "source": [
    "### call profess-1\n",
    "- copy intial density\n",
    "- call profess-1\n",
    "- do it from python"
   ]
  },
  {
   "cell_type": "markdown",
   "metadata": {},
   "source": [
    "### propagate density\n",
    "- load density and gradient into python\n",
    "- reshape\n",
    "- propagate (with velocity verlet)"
   ]
  },
  {
   "cell_type": "code",
   "execution_count": null,
   "metadata": {},
   "outputs": [],
   "source": []
  },
  {
   "cell_type": "code",
   "execution_count": null,
   "metadata": {},
   "outputs": [],
   "source": [
    "def load_density(dens_file):\n",
    "    with open(dens_file, 'r') as f:\n",
    "        file = f.readlines()\n",
    "        density_unparsed = file[0][108:]\n",
    "        density = density_unparsed.split()\n",
    "        density = np.array([float(i) for i in density])\n",
    "        density = density.reshape((16,16,16))\n",
    "        return(density)"
   ]
  },
  {
   "cell_type": "code",
   "execution_count": null,
   "metadata": {},
   "outputs": [],
   "source": [
    "density = load_density('/home/misa/software/PROFESS-1/calculate_gradient/density_0')\n",
    "density2 = load_density('/home/misa/software/PROFESS-1/calculate_gradient/new_density_test')\n",
    "np.array_equal(density, density2)"
   ]
  },
  {
   "cell_type": "code",
   "execution_count": null,
   "metadata": {},
   "outputs": [],
   "source": [
    "# load gradient\n",
    "filep = '/home/misa/software/PROFESS-1/calculate_gradient/dEdX'\n",
    "dEdX = []\n",
    "with open(filep, 'r') as f:\n",
    "    for i, line in enumerate(f):\n",
    "        if i != 0:\n",
    "            dEdX.append(float(line.strip('\\n')))\n",
    "dEdX = np.array(dEdX)\n",
    "dEdX = dEdX.reshape((16, 16, 16))"
   ]
  },
  {
   "cell_type": "code",
   "execution_count": null,
   "metadata": {},
   "outputs": [],
   "source": [
    "# what are the units of density and dE/dX?\n",
    "import ase.units as au\n",
    "V = (3.9691/au.Bohr)**3\n",
    "dV = V/16**3\n",
    "density_vox = density*dV\n",
    "dEdX_vox = dEdX*dV"
   ]
  },
  {
   "cell_type": "code",
   "execution_count": null,
   "metadata": {},
   "outputs": [],
   "source": [
    "print((density*dV).sum())\n",
    "print(\"Density must be converted to Voxel/Bohr^3\")"
   ]
  },
  {
   "cell_type": "markdown",
   "metadata": {},
   "source": [
    "#### What are appropiate values for mu and dt?\n",
    "- $\\mu = 1$ and $dt = 0.1$ (both in a.u.) (10.1103/physrevlett.55.2471)"
   ]
  },
  {
   "cell_type": "code",
   "execution_count": null,
   "metadata": {},
   "outputs": [],
   "source": [
    "mu = 1\n",
    "dt = 0.1"
   ]
  },
  {
   "cell_type": "code",
   "execution_count": null,
   "metadata": {},
   "outputs": [],
   "source": [
    "# propagate density  first step\n",
    "a = -dEdX_vox/mu\n",
    "x_1 = a*dt**2 + np.sqrt(density_vox)"
   ]
  },
  {
   "cell_type": "code",
   "execution_count": null,
   "metadata": {},
   "outputs": [],
   "source": [
    "# propagate density velocity verlet\n",
    "def vv_step(X, X_m, dt, mu, dEdX):\n",
    "    X_p = 2*X - X_m - (dt**2/mu)*dEdX\n",
    "    return(X_p)\n",
    "\n",
    "# load density from previous step\n",
    "dens_prev = load_density('/home/misa/software/PROFESS-1/calculate_gradient/density_0')\n",
    "dens_prev = dens_prev*dV\n",
    "X_minus = np.sqrt(dens_prev)\n",
    "X = np.sqrt(density_vox)"
   ]
  },
  {
   "cell_type": "code",
   "execution_count": null,
   "metadata": {},
   "outputs": [],
   "source": [
    "x_1 = vv_step(X, X_minus, dt, mu, dEdX_vox)"
   ]
  },
  {
   "cell_type": "markdown",
   "metadata": {},
   "source": [
    "### enforce constraint"
   ]
  },
  {
   "cell_type": "code",
   "execution_count": null,
   "metadata": {},
   "outputs": [],
   "source": [
    "Ne = 12.0\n",
    "N_p = (x_1*np.sqrt(density_vox)).sum()\n",
    "N_pp = (x_1*x_1).sum()\n",
    "tau = dt**2/mu"
   ]
  },
  {
   "cell_type": "code",
   "execution_count": null,
   "metadata": {},
   "outputs": [],
   "source": [
    "p2 = N_p/(tau*Ne)\n",
    "q = (N_pp - Ne)/(tau**2*Ne)\n",
    "lambda_2 = -p2 + np.sqrt(p2**2 - q)"
   ]
  },
  {
   "cell_type": "code",
   "execution_count": null,
   "metadata": {},
   "outputs": [],
   "source": [
    "x_1_constr = x_1 + dt**2/mu*lambda_2*x_1\n",
    "density_1 = np.power(x_1_constr,2)"
   ]
  },
  {
   "cell_type": "code",
   "execution_count": null,
   "metadata": {},
   "outputs": [],
   "source": [
    "density_1.sum()"
   ]
  },
  {
   "cell_type": "markdown",
   "metadata": {},
   "source": [
    "### save new density"
   ]
  },
  {
   "cell_type": "code",
   "execution_count": null,
   "metadata": {},
   "outputs": [],
   "source": [
    "start_str = '  x-dimension:          16   y-dimension:          16   z-dimension:          16   # of spins:            1 '\n",
    "density_1_fl = density_1.flatten()/dV\n",
    "for d in density_1_fl:\n",
    "    start_str += \"{:.20E} \".format(d)\n",
    "    \n",
    "new_dens = '/home/misa/software/PROFESS-1/calculate_gradient/new_density'\n",
    "with open(new_dens, 'w') as f:\n",
    "    f.write(start_str)"
   ]
  },
  {
   "cell_type": "code",
   "execution_count": null,
   "metadata": {},
   "outputs": [],
   "source": [
    "# start_str = '  x-dimension:          16   y-dimension:          16   z-dimension:          16   # of spins:            1 '\n",
    "# density_1_fl = density.flatten()\n",
    "# length = len(start_str)\n",
    "# for d in density_1_fl:\n",
    "#     start_str += \"{:.20E} \".format(d)\n",
    "#     length += len(str(d)) + 1\n",
    "    \n",
    "# new_dens = '/home/misa/software/PROFESS-1/calculate_gradient/new_density_test'\n",
    "# with open(new_dens, 'w') as f:\n",
    "#     f.write(start_str)\n",
    "#     #f.write('\\n')"
   ]
  },
  {
   "cell_type": "code",
   "execution_count": null,
   "metadata": {},
   "outputs": [],
   "source": [
    "#len('0.62344209078022891357E-02')\n",
    "#len('3.04456931547079749645E-02')"
   ]
  }
 ],
 "metadata": {
  "kernelspec": {
   "display_name": "Python [conda env:atomic-energies]",
   "language": "python",
   "name": "conda-env-atomic-energies-py"
  },
  "language_info": {
   "codemirror_mode": {
    "name": "ipython",
    "version": 3
   },
   "file_extension": ".py",
   "mimetype": "text/x-python",
   "name": "python",
   "nbconvert_exporter": "python",
   "pygments_lexer": "ipython3",
   "version": "3.7.3"
  }
 },
 "nbformat": 4,
 "nbformat_minor": 4
}
