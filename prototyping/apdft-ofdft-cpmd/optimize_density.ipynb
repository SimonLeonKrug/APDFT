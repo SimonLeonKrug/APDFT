{
 "cells": [
  {
   "cell_type": "code",
   "execution_count": 1,
   "metadata": {},
   "outputs": [],
   "source": [
    "# save new density\n",
    "\n",
    "# repeat from step 2\n",
    "# propagate density with velocity verlet"
   ]
  },
  {
   "cell_type": "markdown",
   "metadata": {},
   "source": [
    "### generate start density\n",
    "- run PROFESS for one step\n",
    "- print density -> initial guess\n",
    "- see /home/misa/git_repositories/PROFESS/test/single_iteration"
   ]
  },
  {
   "cell_type": "markdown",
   "metadata": {},
   "source": [
    "### call profess-1\n",
    "- copy intial density\n",
    "- call profess-1\n",
    "- do it from python"
   ]
  },
  {
   "cell_type": "markdown",
   "metadata": {},
   "source": [
    "### propagate density\n",
    "- load density and gradient into python\n",
    "- reshape\n",
    "- propagate (with velocity verlet)"
   ]
  },
  {
   "cell_type": "code",
   "execution_count": 1,
   "metadata": {},
   "outputs": [],
   "source": [
    "import numpy as np"
   ]
  },
  {
   "cell_type": "markdown",
   "metadata": {},
   "source": [
    "# load density\n",
    "filep = '/home/misa/software/PROFESS-1/calculate_gradient/density'\n",
    "with open(filep, 'r') as f:\n",
    "    file = f.readlines()\n",
    "density_unparsed = file[0][108:]\n",
    "density = density_unparsed.split()\n",
    "density = np.array([float(i) for i in density])\n",
    "density = density.reshape((16,16,16))"
   ]
  },
  {
   "cell_type": "code",
   "execution_count": 3,
   "metadata": {},
   "outputs": [],
   "source": [
    "# load gradient\n",
    "filep = '/home/misa/software/PROFESS-1/calculate_gradient/dEdX'\n",
    "dEdX = []\n",
    "with open(filep, 'r') as f:\n",
    "    for i, line in enumerate(f):\n",
    "        if i != 0:\n",
    "            dEdX.append(float(line.strip('\\n')))\n",
    "dEdX = np.array(dEdX)\n",
    "dEdX = dEdX.reshape((16, 16, 16))"
   ]
  },
  {
   "cell_type": "code",
   "execution_count": 23,
   "metadata": {},
   "outputs": [],
   "source": [
    "# what are the units of density and dE/dX?\n",
    "import ase.units as au\n",
    "V = (3.9691/au.Bohr)**3\n",
    "dV = V/16**3\n",
    "\n",
    "density_vox = density*dV\n",
    "dEdX_vox = dEdX*dV"
   ]
  },
  {
   "cell_type": "code",
   "execution_count": 22,
   "metadata": {},
   "outputs": [
    {
     "name": "stdout",
     "output_type": "stream",
     "text": [
      "11.999999866902229\n",
      "Density must be converted to Voxel/Bohr^3\n"
     ]
    }
   ],
   "source": [
    "print((density*dV).sum())\n",
    "print(\"Density must be converted to Voxel/Bohr^3\")"
   ]
  },
  {
   "cell_type": "markdown",
   "metadata": {},
   "source": [
    "#### What are appropiate values for mu and dt?\n",
    "- $\\mu = 1$ and $dt = 0.1$ (both in a.u.) (10.1103/physrevlett.55.2471)"
   ]
  },
  {
   "cell_type": "code",
   "execution_count": 26,
   "metadata": {},
   "outputs": [],
   "source": [
    "# propagate density\n",
    "mu = 1\n",
    "dt = 0.1\n",
    "a = -dEdX_vox/mu\n",
    "x_1 = a*dt**2 + np.sqrt(density_vox)"
   ]
  },
  {
   "cell_type": "markdown",
   "metadata": {},
   "source": [
    "### enforce constraint"
   ]
  },
  {
   "cell_type": "code",
   "execution_count": 32,
   "metadata": {},
   "outputs": [],
   "source": [
    "Ne = 12.0\n",
    "N_p = (x_1*np.sqrt(density_vox)).sum()\n",
    "N_pp = (x_1*x_1).sum()\n",
    "tau = dt**2/mu"
   ]
  },
  {
   "cell_type": "code",
   "execution_count": 33,
   "metadata": {},
   "outputs": [],
   "source": [
    "p2 = N_p/(tau*Ne)\n",
    "q = (N_pp - Ne)/(tau**2*Ne)\n",
    "lambda_2 = -p2 + np.sqrt(p2**2 - q)"
   ]
  },
  {
   "cell_type": "code",
   "execution_count": 85,
   "metadata": {},
   "outputs": [],
   "source": [
    "x_1_constr = x_1 + dt**2/mu*lambda_2*x_1\n",
    "density_1 = np.power(x_1_constr,2)"
   ]
  },
  {
   "cell_type": "markdown",
   "metadata": {},
   "source": [
    "### save new density"
   ]
  },
  {
   "cell_type": "code",
   "execution_count": 106,
   "metadata": {},
   "outputs": [],
   "source": [
    "start_str = '  x-dimension:          16   y-dimension:          16   z-dimension:          16   # of spins:            1 '\n",
    "density_1_str = np.array_str(density_1.flatten(), precision=22)\n",
    "density_1_str = density_1_str.replace('[', '')\n",
    "density_1_str = density_1_str.replace(']', '')\n",
    "# density_1_str = start_str + density_1_str\n",
    "new_dens = '/home/misa/software/PROFESS-1/calculate_gradient/new_density'\n",
    "with open(new_dens, 'w') as f:\n",
    "    f.write(density_1_str)"
   ]
  },
  {
   "cell_type": "code",
   "execution_count": 107,
   "metadata": {},
   "outputs": [
    {
     "data": {
      "text/plain": [
       "136"
      ]
     },
     "execution_count": 107,
     "metadata": {},
     "output_type": "execute_result"
    }
   ],
   "source": [
    "len(density_1_str)"
   ]
  },
  {
   "cell_type": "code",
   "execution_count": 108,
   "metadata": {},
   "outputs": [
    {
     "data": {
      "text/plain": [
       "'0.0006178628409271254 0.0007710186073295659 0.0017288045802888257 ...\\n 0.0033594210909632916 0.002433282711534812  0.0013635308119290886'"
      ]
     },
     "execution_count": 108,
     "metadata": {},
     "output_type": "execute_result"
    }
   ],
   "source": [
    "density_1_str"
   ]
  }
 ],
 "metadata": {
  "kernelspec": {
   "display_name": "Python [conda env:atomic-energies]",
   "language": "python",
   "name": "conda-env-atomic-energies-py"
  },
  "language_info": {
   "codemirror_mode": {
    "name": "ipython",
    "version": 3
   },
   "file_extension": ".py",
   "mimetype": "text/x-python",
   "name": "python",
   "nbconvert_exporter": "python",
   "pygments_lexer": "ipython3",
   "version": "3.7.3"
  }
 },
 "nbformat": 4,
 "nbformat_minor": 4
}
