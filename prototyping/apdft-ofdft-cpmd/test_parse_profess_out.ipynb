{
 "cells": [
  {
   "cell_type": "markdown",
   "metadata": {},
   "source": [
    "#### read atom positions from .ion file"
   ]
  },
  {
   "cell_type": "code",
   "execution_count": 5,
   "metadata": {},
   "outputs": [],
   "source": [
    "def parse_ion_file(file):\n",
    "    positions = []\n",
    "    with open(file, 'r') as f:\n",
    "        for line in f:\n",
    "            if not 'BLOCK POSITIONS' in line:\n",
    "                pass\n",
    "            else:\n",
    "                positions = parse_position_section(f)\n",
    "                break\n",
    "    return(positions)\n",
    "                \n",
    "def parse_position_section(fs):\n",
    "    pos = []\n",
    "    for line in fs:\n",
    "        if not 'END BLOCK POSITIONS' in line:\n",
    "            coords = line.split()[1:4]\n",
    "            coords = [float(c) for c in coords]\n",
    "            pos.append(coords)\n",
    "        else:\n",
    "            break\n",
    "    return(pos)"
   ]
  },
  {
   "cell_type": "code",
   "execution_count": 6,
   "metadata": {},
   "outputs": [
    {
     "data": {
      "text/plain": [
       "[[-0.997005326, -1.09736017, -0.990137032],\n",
       " [0.994377532, 1.2895429, -0.992233496],\n",
       " [-0.993741539, 0.897105861, 0.984789156],\n",
       " [0.996369333, -1.08928866, 0.997581372]]"
      ]
     },
     "execution_count": 6,
     "metadata": {},
     "output_type": "execute_result"
    }
   ],
   "source": [
    "file = '/home/misa/git_repositories/PROFESS/test/MD_NVE/saved/ion_step0.dat'\n",
    "pos = parse_ion_file(file)\n",
    "pos"
   ]
  },
  {
   "cell_type": "code",
   "execution_count": 7,
   "metadata": {},
   "outputs": [
    {
     "data": {
      "text/plain": [
       "[[0.0, 0.0, 0.0], [0.5, 0.6, 0.0], [0.0, 0.5, 0.5], [0.5, 0.0, 0.5]]"
      ]
     },
     "execution_count": 7,
     "metadata": {},
     "output_type": "execute_result"
    }
   ],
   "source": [
    "file = '/home/misa/git_repositories/PROFESS/test/MD_NVE/md_nve.ion'\n",
    "parse_ion_file(file)"
   ]
  },
  {
   "cell_type": "markdown",
   "metadata": {},
   "source": [
    "#### read velocities from PROFESS"
   ]
  },
  {
   "cell_type": "code",
   "execution_count": 1,
   "metadata": {},
   "outputs": [],
   "source": [
    "def parse_velocity_file(file):\n",
    "    velocities = None\n",
    "    with open(file, 'r') as f:\n",
    "        for line in f:\n",
    "            if not 'ION VELOCITIES (a.u.)' in line:\n",
    "                pass\n",
    "            else:\n",
    "                velocities = parse_velocity_section(f)\n",
    "                break\n",
    "    return(velocities)\n",
    "                \n",
    "def parse_velocity_section(fs):\n",
    "    velocities = []\n",
    "    for line in fs:\n",
    "        velocities_atom = line.split()\n",
    "        velocities_atom = [float(v) for v in velocities_atom]\n",
    "        velocities.append(velocities_atom)\n",
    "    return(velocities)"
   ]
  },
  {
   "cell_type": "code",
   "execution_count": 2,
   "metadata": {},
   "outputs": [
    {
     "data": {
      "text/plain": [
       "[[-0.000205543441, -0.00024810832, 0.000107863699],\n",
       " [8.55258657e-05, -4.88537161e-05, 1.22627558e-05],\n",
       " [-5.66199546e-05, 0.000176480623, -0.000352144786],\n",
       " [0.000176640634, 0.000120470025, 0.000232021838]]"
      ]
     },
     "execution_count": 2,
     "metadata": {},
     "output_type": "execute_result"
    }
   ],
   "source": [
    "file = '/home/misa/git_repositories/PROFESS/test/MD_NVE/saved/vel_step0.dat'\n",
    "vel = parse_velocity_file(file)\n",
    "vel"
   ]
  },
  {
   "cell_type": "markdown",
   "metadata": {},
   "source": [
    "#### read forces from PROFESS"
   ]
  },
  {
   "cell_type": "code",
   "execution_count": 3,
   "metadata": {},
   "outputs": [],
   "source": [
    "def parse_force_file(file):\n",
    "    forces = []\n",
    "    with open(file, 'r') as f:\n",
    "        for line in f:\n",
    "            if not 'TOTAL-FORCE' in line:\n",
    "                pass\n",
    "            else:\n",
    "                f.readline()\n",
    "                f.readline()\n",
    "                forces = parse_force_section(f)\n",
    "                break\n",
    "    return(forces)\n",
    "\n",
    "def parse_force_section(f):\n",
    "    forces = []\n",
    "    for line in f:\n",
    "        if not '........' in line:\n",
    "            forces_atom = line.split()[2:5]\n",
    "            forces_atom = [float(for_a) for for_a in forces_atom]\n",
    "            forces.append(forces_atom)\n",
    "        else:\n",
    "            break\n",
    "    return(forces)"
   ]
  },
  {
   "cell_type": "code",
   "execution_count": 4,
   "metadata": {},
   "outputs": [
    {
     "data": {
      "text/plain": [
       "[[0.04849110742, 1.0197354373, -0.018138677031],\n",
       " [-0.036296786507, -2.0227648075, 0.0098813392233],\n",
       " [0.016044683227, 0.027908589553, 0.039171100695],\n",
       " [-0.02785916093, 0.97409727072, -0.030484722322]]"
      ]
     },
     "execution_count": 4,
     "metadata": {},
     "output_type": "execute_result"
    }
   ],
   "source": [
    "file = '/home/misa/git_repositories/PROFESS/test/MD_NVE/saved/force_step0.dat'\n",
    "parse_force_file(file)"
   ]
  },
  {
   "cell_type": "code",
   "execution_count": null,
   "metadata": {},
   "outputs": [],
   "source": []
  }
 ],
 "metadata": {
  "kernelspec": {
   "display_name": "Python [conda env:atomic-energies]",
   "language": "python",
   "name": "conda-env-atomic-energies-py"
  },
  "language_info": {
   "codemirror_mode": {
    "name": "ipython",
    "version": 3
   },
   "file_extension": ".py",
   "mimetype": "text/x-python",
   "name": "python",
   "nbconvert_exporter": "python",
   "pygments_lexer": "ipython3",
   "version": "3.7.3"
  }
 },
 "nbformat": 4,
 "nbformat_minor": 2
}
