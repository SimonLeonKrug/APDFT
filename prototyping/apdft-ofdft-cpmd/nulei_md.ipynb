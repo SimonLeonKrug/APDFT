{
 "cells": [
  {
   "cell_type": "markdown",
   "metadata": {},
   "source": [
    "- What are the initial velocities? (Can be defined in restart file), set this to the correct intial temperature and set parameter for rescaling to zero\n",
    "- Why are the positions negative after first iteration (MIC?) ? maybe displacement from the initial positions?"
   ]
  },
  {
   "cell_type": "markdown",
   "metadata": {},
   "source": [
    "- run initial MD for 1 step with PROFESS\n",
    "- store geometry, velocity, forces\n",
    "\n",
    "for NSTEPS:\n",
    "    - use geometry and velocity from previous run as restart files \n",
    "    - run MD for 1 step, store geometry, velocity, forces\n",
    "    \n",
    "in ase use geometry, velocity and forces"
   ]
  },
  {
   "cell_type": "markdown",
   "metadata": {},
   "source": [
    "## Simple MD without thermostat"
   ]
  },
  {
   "cell_type": "code",
   "execution_count": 1,
   "metadata": {},
   "outputs": [],
   "source": [
    "from ase import Atoms\n",
    "import numpy as np\n",
    "from ase.calculators.general import Calculator\n",
    "from ase.md.verlet import VelocityVerlet\n",
    "from ase import units\n",
    "import parse_profess_out as ppo"
   ]
  },
  {
   "cell_type": "code",
   "execution_count": 2,
   "metadata": {},
   "outputs": [],
   "source": [
    "# velocities from Bohr/aut (PROFESS) -> Ang/ (Ang sqrt(aum/eV)) (ASE)\n",
    "\n",
    "# Bohr -> Ang = length_in_Bohr*units.Bohr\n",
    "# aut -> Ang sqrt(aum/eV)\n",
    "aut2fs = 2.41888433e-2 # go from aut -> fs\n",
    "aut2aset = aut2fs*units.fs # from aut -> aset (ase time unit)\n",
    "\n",
    "au_vel2ase_vel = units.Bohr/aut2aset # conversion of velocities in a.u. to native ase units"
   ]
  },
  {
   "cell_type": "code",
   "execution_count": 3,
   "metadata": {},
   "outputs": [
    {
     "data": {
      "text/plain": [
       "222.71803270527124"
      ]
     },
     "execution_count": 3,
     "metadata": {},
     "output_type": "execute_result"
    }
   ],
   "source": [
    "au_vel2ase_vel"
   ]
  },
  {
   "cell_type": "code",
   "execution_count": 4,
   "metadata": {},
   "outputs": [],
   "source": [
    "def initialize(pos_file, vel_file, for_file, cell_param):\n",
    "    \"\"\"\n",
    "    generate atoms object with:\n",
    "        - correct positions\n",
    "        - cell paramters\n",
    "        - set initial velocities\n",
    "    set calculator\n",
    "    \"\"\"\n",
    "    positions = ppo.parse_ion_file(pos_file)\n",
    "    \n",
    "    velocities = np.array(ppo.parse_velocity_file(vel_file))*au_vel2ase_vel\n",
    "    \n",
    "    atoms = Atoms('Al4', positions = positions, cell = cell_param, pbc = True)\n",
    "    atoms.set_velocities(velocities)\n",
    "    atoms.set_calculator(OFDFT_calculator(for_file))\n",
    "    return(atoms)\n",
    "    \n",
    "class OFDFT_calculator(Calculator):\n",
    "    name = 'OFDFT_calculator'\n",
    "    implemented_properties = ['forces']\n",
    "\n",
    "    def __init__(self, for_file):\n",
    "        self.forces = np.array(ppo.parse_force_file(for_file))\n",
    "#         self.nAtoms = atoms.get_number_of_atoms()\n",
    "\n",
    "    def get_forces(self, atoms=None):\n",
    "        # call ofdft code via os subprocesses\n",
    "        # input new coords, new density\n",
    "        return(self.forces)"
   ]
  },
  {
   "cell_type": "code",
   "execution_count": 6,
   "metadata": {},
   "outputs": [
    {
     "name": "stdout",
     "output_type": "stream",
     "text": [
      "[[-1.00149331 -1.10260569 -0.98778055]\n",
      " [ 0.99624208  1.28811246 -0.99196346]\n",
      " [-0.99497734  0.9009717   0.97709232]\n",
      " [ 1.0002287  -1.08647898  1.00265184]]\n",
      "[[-0.0456017  -0.05154583  0.02395716]\n",
      " [ 0.01891601 -0.01824453  0.00276711]\n",
      " [-0.01255187  0.03940702 -0.07828639]\n",
      " [ 0.03923963  0.03037707  0.05156447]]\n"
     ]
    }
   ],
   "source": [
    "pos_file = '/home/misa/git_repositories/PROFESS/test/MD_NVE/saved/ion_step0.dat'\n",
    "vel_file = '/home/misa/git_repositories/PROFESS/test/MD_NVE/saved/vel_step0.dat'\n",
    "for_file = '/home/misa/git_repositories/PROFESS/test/MD_NVE/saved/force_step0.dat'\n",
    "cell_param = [[3.97, 0, 0], [0, 3.97, 0], [0, 0, 3.97]]\n",
    "\n",
    "\n",
    "atoms = initialize(pos_file, vel_file, for_file, cell_param)\n",
    "# We want to run MD with constant energy using the VelocityVerlet algorithm.\n",
    "dyn = VelocityVerlet(atoms, 1*units.fs)  # 1 fs time step.\n",
    "\n",
    "# run only for one step\n",
    "f=dyn.run(1)\n",
    "\n",
    "print(atoms.get_positions())\n",
    "print(atoms.get_velocities())"
   ]
  },
  {
   "cell_type": "code",
   "execution_count": 7,
   "metadata": {},
   "outputs": [
    {
     "data": {
      "text/plain": [
       "[[2.9685066882591933, 2.8673943134403506, 2.9822194495411742],\n",
       " [0.9962420840664423, 1.2881124636073888, 2.9780365420083412],\n",
       " [2.975022659972352, 0.9009717021857254, 0.9770923190428329],\n",
       " [1.0002287035256463, 2.8835210196277226, 1.0026518428375466]]"
      ]
     },
     "execution_count": 7,
     "metadata": {},
     "output_type": "execute_result"
    }
   ],
   "source": [
    "length = 3.97\n",
    "new_atoms = []\n",
    "for atom in atoms.get_positions():\n",
    "    tmp = []\n",
    "    for i,c in enumerate(atom):\n",
    "        \n",
    "        if c < 0:\n",
    "            tmp.append(c + length)\n",
    "        else:\n",
    "            tmp.append(c)\n",
    "    new_atoms.append(tmp)\n",
    "new_atoms"
   ]
  },
  {
   "cell_type": "code",
   "execution_count": 9,
   "metadata": {},
   "outputs": [
    {
     "data": {
      "text/plain": [
       "[[0.983506643, 0.882395148, 0.997219443],\n",
       " [2.9812418980000004, 3.2731123610000004, 0.99303638],\n",
       " [0.990022802, 2.88597048, 2.9620923900000005],\n",
       " [2.985228674, 0.898521916, 2.9876517970000003]]"
      ]
     },
     "execution_count": 9,
     "metadata": {},
     "output_type": "execute_result"
    }
   ],
   "source": [
    "pos_file1 = '/home/misa/git_repositories/PROFESS/test/MD_NVE/saved/ion_step1.dat'\n",
    "pos1 = ppo.parse_ion_file(pos_file1)\n",
    "length = 3.97\n",
    "new_atoms = []\n",
    "for atom in pos1:\n",
    "    tmp = []\n",
    "    for i,c in enumerate(atom):\n",
    "        \n",
    "        if c < 0:\n",
    "            tmp.append(c + length)\n",
    "        else:\n",
    "            tmp.append(c)\n",
    "    new_atoms.append(tmp)\n",
    "new_atoms"
   ]
  },
  {
   "cell_type": "markdown",
   "metadata": {},
   "source": [
    "### MD run"
   ]
  },
  {
   "cell_type": "code",
   "execution_count": null,
   "metadata": {},
   "outputs": [],
   "source": [
    "# create atoms object\n",
    "# .ion-file\n",
    "at1 = [0,0,0]\n",
    "at2 = [0.5,0.5,0]\n",
    "at3 = [0,0.5,0.5]\n",
    "at4 = [0.5,0,0.5]\n",
    "cell1 = [3.9691, 0, 0]\n",
    "cell2 = [0, 3.9691, 0]\n",
    "cell3 = [0, 0, 3.9691]\n",
    "\n",
    "atoms = Atoms('Al4',\n",
    "             scaled_positions=[at1,at2, at3, at4],\n",
    "             cell=[cell1, cell2, cell3],\n",
    "             pbc=True)\n",
    "forces_nuclei = np.array([[0.0,0,0],[0,0,0],[0,0,0],[0,0,0]])\n",
    "\n",
    "# set the forces from the OFDFT code\n",
    "# improvement: call ofdft in this function?\n",
    "# get_forces reads forces from file\n",
    "atoms.set_calculator(OFDFT_calculator(forces_nuclei))"
   ]
  },
  {
   "cell_type": "code",
   "execution_count": null,
   "metadata": {},
   "outputs": [],
   "source": []
  },
  {
   "cell_type": "code",
   "execution_count": null,
   "metadata": {},
   "outputs": [],
   "source": [
    "atoms.get_positions()"
   ]
  },
  {
   "cell_type": "code",
   "execution_count": null,
   "metadata": {},
   "outputs": [],
   "source": [
    "# We want to run MD with constant energy using the VelocityVerlet algorithm.\n",
    "dyn = VelocityVerlet(atoms, 5 * units.fs)  # 5 fs time step.\n",
    "\n",
    "# run only for one step\n",
    "f=dyn.run(1)\n",
    "\n",
    "# get new positions for force calculations\n",
    "atoms.get_positions()"
   ]
  },
  {
   "cell_type": "code",
   "execution_count": null,
   "metadata": {},
   "outputs": [],
   "source": [
    "atoms"
   ]
  },
  {
   "cell_type": "code",
   "execution_count": null,
   "metadata": {},
   "outputs": [],
   "source": [
    "pos"
   ]
  },
  {
   "cell_type": "markdown",
   "metadata": {},
   "source": [
    "files for ofdft:\n",
    "- job.inpt (stays the same during CPMD)\n",
    "- job.ion (structure: update position, lattice vectors?)\n",
    "- density (update from CPMD)\n",
    "- al.lda.recpot (pseudopotentials: stay the same during CPMD)\n",
    "\n",
    "Which code to do APDFT calculations? (must support crystal structures)\n",
    "Are local ofdft pseudopotentials compatible with other non-local pseudopotentials?\n",
    "\n",
    "How to do MD runs in OFDFT for comparison?\n",
    "\n",
    "How to run NVE, What is NVT coupled with Nose-Hoover?\n",
    "Why are the positions negative, so close togethcer and different from initial structure?\n",
    "\n",
    "\n",
    "\n",
    "- get forces, velocities from ofdft during python runtime\n",
    "- propagate nuclei\n",
    "\n",
    "\n",
    "            "
   ]
  }
 ],
 "metadata": {
  "kernelspec": {
   "display_name": "Python [conda env:atomic-energies]",
   "language": "python",
   "name": "conda-env-atomic-energies-py"
  },
  "language_info": {
   "codemirror_mode": {
    "name": "ipython",
    "version": 3
   },
   "file_extension": ".py",
   "mimetype": "text/x-python",
   "name": "python",
   "nbconvert_exporter": "python",
   "pygments_lexer": "ipython3",
   "version": "3.7.3"
  }
 },
 "nbformat": 4,
 "nbformat_minor": 2
}
