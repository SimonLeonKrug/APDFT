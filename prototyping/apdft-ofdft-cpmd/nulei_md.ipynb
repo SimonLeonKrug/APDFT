{
 "cells": [
  {
   "cell_type": "markdown",
   "metadata": {},
   "source": [
    "## Simple MD without thermostat"
   ]
  },
  {
   "cell_type": "code",
   "execution_count": 1,
   "metadata": {},
   "outputs": [],
   "source": [
    "from ase import Atoms\n",
    "import numpy as np\n",
    "from ase.calculators.general import Calculator\n",
    "from ase.md.verlet import VelocityVerlet\n",
    "from ase import units"
   ]
  },
  {
   "cell_type": "markdown",
   "metadata": {},
   "source": [
    "### calculator"
   ]
  },
  {
   "cell_type": "code",
   "execution_count": 2,
   "metadata": {},
   "outputs": [],
   "source": [
    "class OFDFT_calculator(Calculator):\n",
    "    name = 'OFDFT_calculator'\n",
    "    implemented_properties = ['forces']\n",
    "\n",
    "    def __init__(self, forces):\n",
    "        self.forces = forces\n",
    "#         self.nAtoms = atoms.get_number_of_atoms()\n",
    "\n",
    "    def get_forces(self, atoms=None):\n",
    "        return(self.forces)"
   ]
  },
  {
   "cell_type": "markdown",
   "metadata": {},
   "source": [
    "### MD run"
   ]
  },
  {
   "cell_type": "code",
   "execution_count": 3,
   "metadata": {},
   "outputs": [],
   "source": [
    "# create atoms object\n",
    "\n",
    "at1 = [0,0,0]\n",
    "at2 = [0.5,0.5,0]\n",
    "at3 = [0,0.5,0.5]\n",
    "at4 = [0.5,0,0.5]\n",
    "cell1 = [3.9691, 0, 0]\n",
    "cell2 = [0, 3.9691, 0]\n",
    "cell3 = [0, 0, 3.9691]\n",
    "\n",
    "atoms = Atoms('Al4',\n",
    "             positions=[at1,at2, at3, at4],\n",
    "             cell=[cell1, cell2, cell3],\n",
    "             pbc=True)\n",
    "\n",
    "# is this correct or must I use something like this for crystals?\n",
    "\n",
    "# # Set up a crystal\n",
    "# atoms = FaceCenteredCubic(directions=[[1, 0, 0], [0, 1, 0], [0, 0, 1]],\n",
    "#                           symbol='Cu',\n",
    "#                           size=(size, size, size),\n",
    "#                           pbc=True)\n",
    "\n",
    "forces_nuclei = np.array([[0.0,0,0],[0,0,0],[0,0,0],[0,0,0]])"
   ]
  },
  {
   "cell_type": "code",
   "execution_count": 4,
   "metadata": {},
   "outputs": [
    {
     "name": "stdout",
     "output_type": "stream",
     "text": [
      "[[0. 0. 0.]\n",
      " [0. 0. 0.]\n",
      " [0. 0. 0.]\n",
      " [0. 0. 0.]]\n"
     ]
    }
   ],
   "source": [
    "# set the forces from the OFDFT code\n",
    "# improvement: call ofdft in this function?\n",
    "# get_forces reads forces from file\n",
    "atoms.set_calculator(OFDFT_calculator(forces_nuclei))"
   ]
  },
  {
   "cell_type": "code",
   "execution_count": 10,
   "metadata": {},
   "outputs": [
    {
     "data": {
      "text/plain": [
       "array([[0. , 0. , 0. ],\n",
       "       [0.5, 0.5, 0. ],\n",
       "       [0. , 0.5, 0.5],\n",
       "       [0.5, 0. , 0.5]])"
      ]
     },
     "execution_count": 10,
     "metadata": {},
     "output_type": "execute_result"
    }
   ],
   "source": [
    "\n",
    "\n",
    "# We want to run MD with constant energy using the VelocityVerlet algorithm.\n",
    "dyn = VelocityVerlet(atoms, 5 * units.fs)  # 5 fs time step.\n",
    "\n",
    "# run only for one step\n",
    "f=dyn.run(1)\n",
    "\n",
    "# get new positions for force calculations\n",
    "atoms.get_positions()"
   ]
  },
  {
   "cell_type": "code",
   "execution_count": 6,
   "metadata": {},
   "outputs": [
    {
     "data": {
      "text/plain": [
       "array([[0., 0., 0.],\n",
       "       [0., 0., 0.],\n",
       "       [0., 0., 0.],\n",
       "       [0., 0., 0.]])"
      ]
     },
     "execution_count": 6,
     "metadata": {},
     "output_type": "execute_result"
    }
   ],
   "source": []
  },
  {
   "cell_type": "code",
   "execution_count": null,
   "metadata": {},
   "outputs": [],
   "source": []
  }
 ],
 "metadata": {
  "kernelspec": {
   "display_name": "Python [conda env:atomic-energies]",
   "language": "python",
   "name": "conda-env-atomic-energies-py"
  },
  "language_info": {
   "codemirror_mode": {
    "name": "ipython",
    "version": 3
   },
   "file_extension": ".py",
   "mimetype": "text/x-python",
   "name": "python",
   "nbconvert_exporter": "python",
   "pygments_lexer": "ipython3",
   "version": "3.7.3"
  }
 },
 "nbformat": 4,
 "nbformat_minor": 2
}
