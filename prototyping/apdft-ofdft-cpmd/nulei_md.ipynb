{
 "cells": [
  {
   "cell_type": "markdown",
   "metadata": {},
   "source": [
    "- What are the initial velocities?: restart with predefined velocities\n",
    "- Why are the positions negative after first iteration (MIC?) ? yes looks like it (addition of cell length gives same result as fractional)\n",
    "\n",
    "- Why jump the coordinates from step 0 to step 1 and back from 1 to 2?\n",
    "velocities seem to be ok and step 2 agrees with step 2 from python\n",
    "\n",
    "Is agreement between curves within numerical precision?"
   ]
  },
  {
   "cell_type": "markdown",
   "metadata": {},
   "source": [
    "## Simple MD without thermostat"
   ]
  },
  {
   "cell_type": "code",
   "execution_count": 37,
   "metadata": {},
   "outputs": [],
   "source": []
  },
  {
   "cell_type": "code",
   "execution_count": 40,
   "metadata": {},
   "outputs": [],
   "source": [
    "run_dir = '/home/misa/git_repositories/PROFESS/test/ase_singlepoint'\n",
    "p=run_profess(run_dir)"
   ]
  },
  {
   "cell_type": "code",
   "execution_count": 39,
   "metadata": {},
   "outputs": [
    {
     "data": {
      "text/plain": [
       "0"
      ]
     },
     "execution_count": 39,
     "metadata": {},
     "output_type": "execute_result"
    }
   ],
   "source": [
    "p.returncode"
   ]
  },
  {
   "cell_type": "code",
   "execution_count": 41,
   "metadata": {},
   "outputs": [],
   "source": [
    "from ase import Atoms\n",
    "import numpy as np\n",
    "# from ase.calculators.calculator import Calculator\n",
    "from ase.calculators.general import Calculator\n",
    "from ase.md.verlet import VelocityVerlet\n",
    "from ase import units\n",
    "import profess_io as pio\n",
    "import subprocess\n",
    "import os\n",
    "\n",
    "\n",
    "from matplotlib import pyplot as plt"
   ]
  },
  {
   "cell_type": "code",
   "execution_count": 2,
   "metadata": {},
   "outputs": [],
   "source": [
    "# velocities from Bohr/aut (PROFESS) -> Ang/ (Ang sqrt(aum/eV)) (ASE)\n",
    "\n",
    "# Bohr -> Ang = length_in_Bohr*units.Bohr\n",
    "# aut -> Ang sqrt(aum/eV)\n",
    "aut2fs = 2.41888433e-2 # go from aut -> fs\n",
    "aut2aset = aut2fs*units.fs # from aut -> aset (ase time unit)\n",
    "\n",
    "au_vel2ase_vel = units.Bohr/aut2aset # conversion of velocities in a.u. to native ase units"
   ]
  },
  {
   "cell_type": "code",
   "execution_count": 3,
   "metadata": {},
   "outputs": [
    {
     "data": {
      "text/plain": [
       "222.71803270527124"
      ]
     },
     "execution_count": 3,
     "metadata": {},
     "output_type": "execute_result"
    }
   ],
   "source": [
    "au_vel2ase_vel"
   ]
  },
  {
   "cell_type": "code",
   "execution_count": 4,
   "metadata": {},
   "outputs": [],
   "source": [
    "def initialize_atoms(pos_file, vel_file, cell_param):\n",
    "    \"\"\"\n",
    "    generate atoms object with:\n",
    "        - correct positions\n",
    "        - cell paramters\n",
    "        - set initial velocities\n",
    "    set calculator\n",
    "    \"\"\"\n",
    "    positions = pio.parse_ion_file(pos_file)\n",
    "#     positions = shift_atoms(positions)\n",
    "\n",
    "            \n",
    "    velocities = np.array(pio.parse_velocity_file(vel_file))*au_vel2ase_vel\n",
    "    \n",
    "    atoms = Atoms('Al4', scaled_positions = positions, cell = cell_param, pbc = True)\n",
    "    atoms.set_velocities(velocities)\n",
    "    return(atoms)\n",
    "    \n",
    "def shift_atoms(positions, length=3.97):\n",
    "    positions_shifted = []\n",
    "    for atom in positions:\n",
    "        atom_shifted = []\n",
    "        for c in atom:\n",
    "            if c < 0:\n",
    "                new_c = c + length\n",
    "            else:\n",
    "                new_c = c\n",
    "            atom_shifted.append(new_c)\n",
    "        positions_shifted.append(atom_shifted)\n",
    "    return(positions_shifted)\n",
    "    \n",
    "class OFDFT_calculator(Calculator):\n",
    "    name = 'OFDFT_calculator'\n",
    "    implemented_properties = ['forces']\n",
    "\n",
    "    def __init__(self, run_dir, for_file, atoms):\n",
    "        self.forces = np.array(pio.parse_force_file(for_file))\n",
    "#         self.nAtoms = atoms.get_number_of_atoms()\n",
    "        self.atoms = atoms.copy()\n",
    "        self.run_dir = run_dir\n",
    "        \n",
    "    def run_profess(self):\n",
    "        os.chdir(run_dir)\n",
    "        p = subprocess.run(['/home/misa/git_repositories/PROFESS/PROFESS', 'sp'])\n",
    "        return(p)\n",
    "\n",
    "    def get_forces(self, atoms=None):\n",
    "        # write new .ion file\n",
    "        cell_par = self.atoms.get_cell()\n",
    "        atom_types = self.atoms.get_chemical_symbols()\n",
    "        positions = self.atoms.get_positions()\n",
    "        pos_type = 'CART'\n",
    "        pp = 'al_HC.lda.recpot'\n",
    "        new_ion = pio.generate_ion_file(cell_par, atom_types, positions, pos_type, pp)\n",
    "        pio.write_file(self.run_dir+'sp_ase.ion', new_ion)\n",
    "        # call profess\n",
    "        completed_p = self.run_profess()\n",
    "        # read forces\n",
    "        self.forces = pio.parse_force_file(self.run_dir + '/sp.force.out')\n",
    "        return(self.forces)\n",
    "    \n",
    "#     def calculate(self, atoms=None, properties=['energy'],\n",
    "#               system_changes=None):\n",
    "#         \"\"\"Do the calculation.\n",
    "\n",
    "#         properties: list of str\n",
    "#             List of what needs to be calculated.  Can be any combination\n",
    "#             of 'energy', 'forces', 'stress', 'dipole', 'charges', 'magmom'\n",
    "#             and 'magmoms'.\n",
    "#         system_changes: list of str\n",
    "#             List of what has changed since last calculation.  Can be\n",
    "#             any combination of these six: 'positions', 'numbers', 'cell',\n",
    "#             'pbc', 'initial_charges' and 'initial_magmoms'.\n",
    "\n",
    "#         Subclasses need to implement this, but can ignore properties\n",
    "#         and system_changes if they want.  Calculated properties should\n",
    "#         be inserted into results dictionary like shown in this dummy\n",
    "#         example::\n",
    "\n",
    "#             self.results = {'energy': 0.0,\n",
    "#                             'forces': np.zeros((len(atoms), 3)),\n",
    "#                             'stress': np.zeros(6),\n",
    "#                             'dipole': np.zeros(3),\n",
    "#                             'charges': np.zeros(len(atoms)),\n",
    "#                             'magmom': 0.0,\n",
    "#                             'magmoms': np.zeros(len(atoms))}\n",
    "\n",
    "#         The subclass implementation should first call this\n",
    "#         implementation to set the atoms attribute and create any missing\n",
    "#         directories.\n",
    "#         \"\"\"\n",
    "\n",
    "#         if atoms is not None:\n",
    "#             self.atoms = atoms.copy()\n",
    "#         if not os.path.isdir(self._directory):\n",
    "#             os.makedirs(self._directory)\n",
    "\n",
    "#         if  'forces' in properties:\n",
    "#             return self.forces\n"
   ]
  },
  {
   "cell_type": "code",
   "execution_count": 5,
   "metadata": {},
   "outputs": [],
   "source": [
    "# atom positions are automatically updated?\n"
   ]
  },
  {
   "cell_type": "code",
   "execution_count": 17,
   "metadata": {},
   "outputs": [],
   "source": [
    "pos_file = '/home/misa/git_repositories/PROFESS/test/MD_NVE/saved/ion_step0.dat'\n",
    "vel_file = '/home/misa/git_repositories/PROFESS/test/MD_NVE/saved/vel_step0.dat'\n",
    "for_file = '/home/misa/git_repositories/PROFESS/test/MD_NVE/saved/force_step0.dat'\n",
    "cell_param = [[3.97, 0, 0], [0, 3.97, 0], [0, 0, 3.97]]\n",
    "\n",
    "work_dir = '/home/misa/git_repositories/PROFESS/test/MD_NVE/sp_ase/'\n",
    "\n",
    "save_pos = []\n",
    "save_vel = []\n",
    "\n",
    "atoms = initialize_atoms(pos_file, vel_file, cell_param)\n",
    "for n in range(0, 21):\n",
    "    atoms.set_calculator(OFDFT_calculator(f'/home/misa/git_repositories/PROFESS/test/MD_NVE/saved/force_step{n}.dat', atoms))\n",
    "    # We want to run MD with constant energy using the VelocityVerlet algorithm.\n",
    "    dyn = VelocityVerlet(atoms, 1*units.fs)  # 1 fs time step.\n",
    "    # run only for one step\n",
    "    f=dyn.run(1)\n",
    "    \n",
    "    save_pos.append(atoms.get_positions())\n",
    "    save_vel.append(atoms.get_velocities())"
   ]
  },
  {
   "cell_type": "code",
   "execution_count": 25,
   "metadata": {},
   "outputs": [
    {
     "data": {
      "text/plain": [
       "array([[3.97, 0.  , 0.  ],\n",
       "       [0.  , 3.97, 0.  ],\n",
       "       [0.  , 0.  , 3.97]])"
      ]
     },
     "execution_count": 25,
     "metadata": {},
     "output_type": "execute_result"
    }
   ],
   "source": [
    "atoms.get_cell()"
   ]
  },
  {
   "cell_type": "code",
   "execution_count": 18,
   "metadata": {},
   "outputs": [
    {
     "data": {
      "text/plain": [
       "['Al', 'Al', 'Al', 'Al']"
      ]
     },
     "execution_count": 18,
     "metadata": {},
     "output_type": "execute_result"
    }
   ],
   "source": [
    "atoms.get_chemical_symbols()\n",
    "# atoms.get_positions()"
   ]
  },
  {
   "cell_type": "markdown",
   "metadata": {},
   "source": [
    "#### compare positions"
   ]
  },
  {
   "cell_type": "code",
   "execution_count": 19,
   "metadata": {},
   "outputs": [],
   "source": [
    "# monitor change of profess structures\n",
    "\n",
    "def get_coord_atom(structure_array, num_atom, name_coord):\n",
    "    coord = []\n",
    "    for s in structure_array:\n",
    "        coord.append(s[num_atom][name_coord])\n",
    "    return(coord)\n",
    "\n",
    "structure_array = []\n",
    "for pf in range(1, 21):\n",
    "    structure_array.append(pio.parse_ion_file(f'/home/misa/git_repositories/PROFESS/test/MD_NVE/saved/ion_step{pf}.dat'))"
   ]
  },
  {
   "cell_type": "code",
   "execution_count": 22,
   "metadata": {},
   "outputs": [
    {
     "data": {
      "text/plain": [
       "<matplotlib.legend.Legend at 0x7fed3f36e7b8>"
      ]
     },
     "execution_count": 22,
     "metadata": {},
     "output_type": "execute_result"
    },
    {
     "data": {
      "image/png": "[encoded data removed]",
      "text/plain": [
       "<Figure size 432x288 with 1 Axes>"
      ]
     },
     "metadata": {
      "needs_background": "light"
     },
     "output_type": "display_data"
    }
   ],
   "source": [
    "num_atom = 0\n",
    "num_coord = 1\n",
    "num_atom = 0\n",
    "num_coord = 0\n",
    "positions_ase = get_coord_atom(save_pos, num_atom, num_coord)\n",
    "positions_profess = get_coord_atom(structure_array, num_atom, num_coord)\n",
    "step = np.arange(1, 21)\n",
    "fig, ax = plt.subplots(1,1)\n",
    "plt.rcParams['font.size'] = 20\n",
    "ax.plot(step, positions_ase[:-1], '-o', label = 'ase')\n",
    "ax.plot(step[1::2], np.array(positions_profess)[1::2]*3.97, '-o', label = 'profess')\n",
    "# ax.plot(step[1:], np.array(positions_profess)[1:]*3.97, '-o', label = 'profess')\n",
    "\n",
    "\n",
    "ax.set_xlabel(r'step $n$')\n",
    "ax.set_ylabel(r'$R_{I, i}$ (Ang)')\n",
    "ax.legend()"
   ]
  },
  {
   "cell_type": "markdown",
   "metadata": {},
   "source": [
    "#### compare velocities"
   ]
  },
  {
   "cell_type": "code",
   "execution_count": 24,
   "metadata": {},
   "outputs": [
    {
     "data": {
      "text/plain": [
       "<matplotlib.legend.Legend at 0x7fed3f4f2668>"
      ]
     },
     "execution_count": 24,
     "metadata": {},
     "output_type": "execute_result"
    },
    {
     "data": {
      "image/png": "[encoded data removed]",
      "text/plain": [
       "<Figure size 432x288 with 1 Axes>"
      ]
     },
     "metadata": {
      "needs_background": "light"
     },
     "output_type": "display_data"
    }
   ],
   "source": [
    "# get velocities from profess\n",
    "vel_array = []\n",
    "for pf in range(1, 21):\n",
    "    vel_array.append(pio.parse_velocity_file(f'/home/misa/git_repositories/PROFESS/test/MD_NVE/saved/vel_step{pf}.dat'))\n",
    "\n",
    "num_atom = 0\n",
    "num_coord = 0\n",
    "num_atom = 0\n",
    "num_coord = 0\n",
    "velocities_ase = get_coord_atom(np.array(save_vel)/au_vel2ase_vel, num_atom, num_coord)\n",
    "velocities_profess = get_coord_atom(vel_array, num_atom, num_coord)\n",
    "\n",
    "step = np.arange(1, 21)\n",
    "\n",
    "plt.rcParams['font.size'] = 15\n",
    "fig, ax = plt.subplots(1,1)\n",
    "\n",
    "ax.plot(step, velocities_ase[:-1], '-o', label = 'ase')\n",
    "ax.plot(step, velocities_profess, '-o', label = 'profess')\n",
    "\n",
    "ax.ticklabel_format(axis=\"y\", style=\"sci\", scilimits=(0,0))\n",
    "ax.set_xlabel(r'step $n$')\n",
    "ax.set_ylabel(r'$v_{I,i}$ (a.u.)')\n",
    "ax.legend()"
   ]
  },
  {
   "cell_type": "markdown",
   "metadata": {},
   "source": [
    "files for ofdft:\n",
    "- job.inpt (stays the same during CPMD)\n",
    "- job.ion (structure: update position, lattice vectors?)\n",
    "- density (update from CPMD)\n",
    "- al.lda.recpot (pseudopotentials: stay the same during CPMD)\n",
    "\n",
    "Which code to do APDFT calculations? (must support crystal structures)\n",
    "Are local ofdft pseudopotentials compatible with other non-local pseudopotentials?\n",
    "\n",
    "How to do MD runs in OFDFT for comparison?\n",
    "\n",
    "How to run NVE, What is NVT coupled with Nose-Hoover?\n",
    "Why are the positions negative, so close togethcer and different from initial structure?\n",
    "\n",
    "\n",
    "\n",
    "- get forces, velocities from ofdft during python runtime\n",
    "- propagate nuclei\n",
    "\n",
    "\n",
    "            "
   ]
  }
 ],
 "metadata": {
  "kernelspec": {
   "display_name": "Python [conda env:atomic-energies]",
   "language": "python",
   "name": "conda-env-atomic-energies-py"
  },
  "language_info": {
   "codemirror_mode": {
    "name": "ipython",
    "version": 3
   },
   "file_extension": ".py",
   "mimetype": "text/x-python",
   "name": "python",
   "nbconvert_exporter": "python",
   "pygments_lexer": "ipython3",
   "version": "3.7.3"
  }
 },
 "nbformat": 4,
 "nbformat_minor": 2
}
