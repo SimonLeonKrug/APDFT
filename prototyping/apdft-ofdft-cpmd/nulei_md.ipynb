{
 "cells": [
  {
   "cell_type": "markdown",
   "metadata": {},
   "source": [
    "- What are the initial velocities?: restart with predefined velocities\n",
    "- Why are the positions negative after first iteration (MIC?) ? yes looks like it (addition of cell length gives same result as fractional)\n",
    "\n",
    "- Why jump the coordinates from step 0 to step 1 and back from 1 to 2?\n",
    "velocities seem to be ok and step 2 agrees with step 2 from python\n",
    "\n",
    "Is agreement between curves within numerical precision?"
   ]
  },
  {
   "cell_type": "markdown",
   "metadata": {},
   "source": [
    "## NVE-MD"
   ]
  },
  {
   "cell_type": "code",
   "execution_count": 1,
   "metadata": {},
   "outputs": [
    {
     "name": "stdout",
     "output_type": "stream",
     "text": [
      "Pixiedust database opened successfully\n"
     ]
    },
    {
     "data": {
      "text/html": [
       "\n",
       "        <div style=\"margin:10px\">\n",
       "            <a href=\"https://github.com/ibm-watson-data-lab/pixiedust\" target=\"_new\">\n",
       "                <img src=\"https://github.com/ibm-watson-data-lab/pixiedust/raw/master/docs/_static/pd_icon32.png\" style=\"float:left;margin-right:10px\"/>\n",
       "            </a>\n",
       "            <span>Pixiedust version 1.1.18</span>\n",
       "        </div>\n",
       "        "
      ],
      "text/plain": [
       "<IPython.core.display.HTML object>"
      ]
     },
     "metadata": {},
     "output_type": "display_data"
    }
   ],
   "source": [
    "from profess_calculator import PROFESS2\n",
    "import profess_io as pio\n",
    "from cpmd import initialize_atoms\n",
    "from ase.md.verlet import VelocityVerlet\n",
    "from ase import units\n",
    "import os\n",
    "import pixiedust\n",
    "import numpy as np\n",
    "from matplotlib import pyplot as plt\n"
   ]
  },
  {
   "cell_type": "code",
   "execution_count": 2,
   "metadata": {},
   "outputs": [],
   "source": [
    "# initialize\n",
    "pos_file = '/home/misa/git_repositories/PROFESS/test/MD_NVE/saved/ion_step0.dat'\n",
    "vel_file = '/home/misa/git_repositories/PROFESS/test/MD_NVE/saved/vel_step0.dat'\n",
    "cell_param = [[3.97, 0, 0], [0, 3.97, 0], [0, 0, 3.97]]\n",
    "atoms = initialize_atoms(pos_file, vel_file, cell_param, pos_type='FRAC')\n",
    "\n",
    "# set parameters for PROFESS calculation\n",
    "run_dir = '/home/misa/git_repositories/PROFESS/test/ase_singlepoint'\n",
    "inpt_name = 'sp'\n",
    "pp_names = ['al_HC.lda.recpot']"
   ]
  },
  {
   "cell_type": "code",
   "execution_count": 4,
   "metadata": {},
   "outputs": [],
   "source": [
    "# %%pixie_debugger\n",
    "save_pos = [atoms.get_positions()]\n",
    "save_vel = [atoms.get_velocities()]\n",
    "save_forces = []\n",
    "total_energy = []\n",
    "e_kin = []\n",
    "\n",
    "e_kin_step = atoms.get_kinetic_energy()\n",
    "e_kin.append(e_kin_step)\n",
    "atoms.set_calculator(PROFESS2(run_dir, inpt_name, pp_names, atoms))\n",
    "# We want to run MD with constant energy using the VelocityVerlet algorithm.\n",
    "dyn = VelocityVerlet(atoms, 1*units.fs, logfile='/home/misa/projects/APDFT-CPMD/data/nuclei_md/Al4_NVE_ase_log')  # 1 fs time step.\n",
    "# run only for one step\n",
    "f=dyn.run(515)\n",
    "\n",
    "# # save_pos.append(atoms.get_positions())\n",
    "# # save_vel.append(atoms.get_velocities())\n",
    "# # # forces and energies belong to step n-1\n",
    "# # e_tot_step = pio.parse_out_file(os.path.join(run_dir, inpt_name+'.out'), 'TOTAL ENERGY')    \n",
    "# # total_energy.append(e_kin_step+e_tot_step)\n",
    "# # save_forces.append(atoms._calc.forces)\n",
    "# # total_energy = np.array(total_energy)\n",
    "# # e_kin = np.array(e_kin)"
   ]
  },
  {
   "cell_type": "code",
   "execution_count": null,
   "metadata": {
    "pixiedust": {
     "displayParams": {}
    }
   },
   "outputs": [],
   "source": [
    "# # %%pixie_debugger\n",
    "# save_pos = [atoms.get_positions()]\n",
    "# save_vel = [atoms.get_velocities()]\n",
    "# save_forces = []\n",
    "# total_energy = []\n",
    "# e_kin = []\n",
    "# for n in range(1, 515):\n",
    "#     # kinetic energy at step n-1\n",
    "#     e_kin_step = atoms.get_kinetic_energy()\n",
    "#     e_kin.append(e_kin_step)\n",
    "#     atoms.set_calculator(PROFESS(run_dir, inpt_name, pp_names, atoms))\n",
    "#     # We want to run MD with constant energy using the VelocityVerlet algorithm.\n",
    "#     dyn = VelocityVerlet(atoms, 1*units.fs)  # 1 fs time step.\n",
    "#     # run only for one step\n",
    "#     f=dyn.run(1)\n",
    "    \n",
    "#     save_pos.append(atoms.get_positions())\n",
    "#     save_vel.append(atoms.get_velocities())\n",
    "#     # forces and energies belong to step n-1\n",
    "#     e_tot_step = pio.parse_out_file(os.path.join(run_dir, inpt_name+'.out'), 'TOTAL ENERGY')    \n",
    "#     total_energy.append(e_kin_step+e_tot_step)\n",
    "#     save_forces.append(atoms._calc.forces)\n",
    "# total_energy = np.array(total_energy)\n",
    "# e_kin = np.array(e_kin)"
   ]
  },
  {
   "cell_type": "code",
   "execution_count": null,
   "metadata": {},
   "outputs": [],
   "source": [
    "total_energy = np.array(total_energy)\n",
    "e_kin = np.array(e_kin)\n",
    "fig,ax = plt.subplots(1,3)\n",
    "ax[0].plot(total_energy)\n",
    "ax[1].plot(total_energy-e_kin)\n",
    "ax[2].plot(e_kin)"
   ]
  },
  {
   "cell_type": "code",
   "execution_count": null,
   "metadata": {},
   "outputs": [],
   "source": [
    "# save data\n",
    "path = '/home/misa/projects/APDFT-CPMD/data/nuclei_md/Al4_NVE_ase_etot_run1step'\n",
    "path_kin= '/home/misa/projects/APDFT-CPMD/data/nuclei_md/Al4_NVE_ase_ekin_run1step'\n",
    "np.savetxt(path, total_energy)\n",
    "np.savetxt(path_kin, e_kin)"
   ]
  },
  {
   "cell_type": "code",
   "execution_count": null,
   "metadata": {},
   "outputs": [],
   "source": [
    "# plot energy vs stepsize for ase and profess"
   ]
  },
  {
   "cell_type": "markdown",
   "metadata": {},
   "source": [
    "#### compare positions"
   ]
  },
  {
   "cell_type": "code",
   "execution_count": null,
   "metadata": {},
   "outputs": [],
   "source": [
    "import numpy as np\n",
    "from matplotlib import pyplot as plt\n",
    "import profess_io as pio\n",
    "from ase import units"
   ]
  },
  {
   "cell_type": "code",
   "execution_count": null,
   "metadata": {},
   "outputs": [],
   "source": [
    "# monitor change of profess structures\n",
    "\n",
    "def get_coord_atom(structure_array, num_atom, name_coord):\n",
    "    coord = []\n",
    "    for s in structure_array:\n",
    "        coord.append(s[num_atom][name_coord])\n",
    "    return(coord)\n",
    "\n",
    "structure_array = []\n",
    "for pf in range(1, 21):\n",
    "    structure_array.append(pio.parse_ion_file(f'/home/misa/git_repositories/PROFESS/test/MD_NVE/saved/ion_step{pf}.dat'))"
   ]
  },
  {
   "cell_type": "code",
   "execution_count": null,
   "metadata": {},
   "outputs": [],
   "source": [
    "num_atom = 3\n",
    "num_coord = 2\n",
    "positions_ase = get_coord_atom(save_pos, num_atom, num_coord)\n",
    "positions_profess = get_coord_atom(structure_array, num_atom, num_coord)\n",
    "step = np.arange(1, 21)\n",
    "fig, ax = plt.subplots(1,1)\n",
    "plt.rcParams['font.size'] = 20\n",
    "ax.plot(step, positions_ase[:-1], '-o', label = 'ase')\n",
    "ax.plot(step[1::2], np.array(positions_profess)[1::2]*3.97, '-o', label = 'profess')\n",
    "# ax.plot(step[1:], np.array(positions_profess)[1:]*3.97, '-o', label = 'profess')\n",
    "\n",
    "\n",
    "ax.set_xlabel(r'step $n$')\n",
    "ax.set_ylabel(r'$R_{I, i}$ (Ang)')\n",
    "ax.legend()"
   ]
  },
  {
   "cell_type": "markdown",
   "metadata": {},
   "source": [
    "#### compare velocities"
   ]
  },
  {
   "cell_type": "code",
   "execution_count": null,
   "metadata": {},
   "outputs": [],
   "source": [
    "# velocities from Bohr/aut (PROFESS) -> Ang/ (Ang sqrt(aum/eV)) (ASE)\n",
    "# Bohr -> Ang = length_in_Bohr*units.Bohr\n",
    "# aut -> Ang sqrt(aum/eV)\n",
    "aut2fs = 2.41888433e-2 # go from aut -> fs\n",
    "aut2aset = aut2fs*units.fs # from aut -> aset (ase time unit)\n",
    "au_vel2ase_vel = units.Bohr/aut2aset # conversion of velocities in a.u. to native ase units\n",
    "\n",
    "# get velocities from profess\n",
    "vel_array = []\n",
    "for pf in range(1, 21):\n",
    "    vel_array.append(pio.parse_velocity_file(f'/home/misa/git_repositories/PROFESS/test/MD_NVE/saved/vel_step{pf}.dat'))\n",
    "\n",
    "num_atom = 0\n",
    "num_coord = 0\n",
    "velocities_ase = get_coord_atom(np.array(save_vel)/au_vel2ase_vel, num_atom, num_coord)\n",
    "velocities_profess = get_coord_atom(vel_array, num_atom, num_coord)\n",
    "\n",
    "step = np.arange(1, 21)\n",
    "\n",
    "plt.rcParams['font.size'] = 15\n",
    "fig, ax = plt.subplots(1,1)\n",
    "\n",
    "ax.plot(step, velocities_ase[:-1], '-o', label = 'ase')\n",
    "ax.plot(step, velocities_profess, '-o', label = 'profess')\n",
    "\n",
    "ax.ticklabel_format(axis=\"y\", style=\"sci\", scilimits=(0,0))\n",
    "ax.set_xlabel(r'step $n$')\n",
    "ax.set_ylabel(r'$v_{I,i}$ (a.u.)')\n",
    "ax.legend()"
   ]
  },
  {
   "cell_type": "markdown",
   "metadata": {},
   "source": [
    "#### compare energies"
   ]
  },
  {
   "cell_type": "code",
   "execution_count": 5,
   "metadata": {},
   "outputs": [],
   "source": [
    "import numpy as np\n",
    "from matplotlib import pyplot as plt\n",
    "from ase import units\n",
    "\n",
    "import sys\n",
    "sys.path.insert(0, '/home/misa/git_repositories/APDFT/prototyping/apdft-ofdft-cpmd/')\n",
    "import profess_io as pio"
   ]
  },
  {
   "cell_type": "code",
   "execution_count": 6,
   "metadata": {},
   "outputs": [],
   "source": [
    "ekin_ref = pio.parse_out_file('/home/misa/git_repositories/PROFESS/test/md_nve_ref/md_nve.out', 'NVE Kinetic energy')\n",
    "ekin_ref = np.array(ekin_ref)*units.Ha\n",
    "\n",
    "epot_ref = pio.parse_out_file('/home/misa/git_repositories/PROFESS/test/md_nve_ref/md_nve.out', 'NVE Potential energy')\n",
    "epot_ref = np.array(epot_ref)*units.Ha\n",
    "etotal_ref = epot_ref + ekin_ref"
   ]
  },
  {
   "cell_type": "code",
   "execution_count": 7,
   "metadata": {},
   "outputs": [],
   "source": [
    "# 1 step MD\n",
    "path_etot = '/home/misa/projects/APDFT-CPMD/data/nuclei_md/Al4_NVE_ase_etot_run1step'\n",
    "path_kin= '/home/misa/projects/APDFT-CPMD/data/nuclei_md/Al4_NVE_ase_ekin_run1step'\n",
    "etot_1step = np.loadtxt(path_etot)\n",
    "ekin_1step = np.loadtxt(path_kin)"
   ]
  },
  {
   "cell_type": "code",
   "execution_count": 8,
   "metadata": {},
   "outputs": [],
   "source": [
    "# all step MD\n",
    "ekin_all = np.loadtxt('/home/misa/projects/APDFT-CPMD/data/nuclei_md/Al4_NVE_ase_log',skiprows=1)"
   ]
  },
  {
   "cell_type": "code",
   "execution_count": 9,
   "metadata": {},
   "outputs": [
    {
     "data": {
      "text/plain": [
       "<matplotlib.legend.Legend at 0x7f8fe8339fd0>"
      ]
     },
     "execution_count": 9,
     "metadata": {},
     "output_type": "execute_result"
    },
    {
     "data": {
      "image/png": "[encoded data removed]",
      "text/plain": [
       "<Figure size 432x288 with 1 Axes>"
      ]
     },
     "metadata": {
      "needs_background": "light"
     },
     "output_type": "display_data"
    }
   ],
   "source": [
    "fig, ax = plt.subplots(1,1)\n",
    "for ekin,l in zip([ekin_ref, ekin_1step, ekin_all[:,3]], ['ref', '1 step', 'all']):\n",
    "    ax.plot(ekin, label = l)\n",
    "ax.legend()"
   ]
  },
  {
   "cell_type": "code",
   "execution_count": 11,
   "metadata": {},
   "outputs": [
    {
     "data": {
      "text/plain": [
       "<matplotlib.legend.Legend at 0x7f8fe8016048>"
      ]
     },
     "execution_count": 11,
     "metadata": {},
     "output_type": "execute_result"
    },
    {
     "data": {
      "image/png": "[encoded data removed]",
      "text/plain": [
       "<Figure size 432x288 with 1 Axes>"
      ]
     },
     "metadata": {
      "needs_background": "light"
     },
     "output_type": "display_data"
    }
   ],
   "source": [
    "fig, ax = plt.subplots(1,1)\n",
    "for ekin,l in zip([etotal_ref, ekin_all[:,1]], ['ref', 'all']):\n",
    "    ax.plot(ekin, label = l)\n",
    "ax.legend()\n",
    "# fig, ax = plt.subplots(1,1)\n",
    "# for ekin,l in zip([etotal_ref, etot_1step, ekin_all[:,1]], ['ref', '1 step', 'all']):\n",
    "#     ax.plot(ekin, label = l)\n",
    "# ax.legend()"
   ]
  },
  {
   "cell_type": "code",
   "execution_count": null,
   "metadata": {},
   "outputs": [],
   "source": [
    "# figure out how to get the correct potential energy for every MD step\n",
    "# compare abinitio start from previous density and from scratch (make sure that indeed start from previous)\n",
    "# plot energy, e_pot, e_kin for many steps\n",
    "# make sure that there are no bugs in parsing of files\n",
    "# explain why1 worse because no cancelling"
   ]
  },
  {
   "cell_type": "markdown",
   "metadata": {},
   "source": [
    "files for ofdft:\n",
    "- job.inpt (stays the same during CPMD)\n",
    "- job.ion (structure: update position, lattice vectors?)\n",
    "- density (update from CPMD)\n",
    "- al.lda.recpot (pseudopotentials: stay the same during CPMD)\n",
    "\n",
    "Which code to do APDFT calculations? (must support crystal structures)\n",
    "Are local ofdft pseudopotentials compatible with other non-local pseudopotentials?\n",
    "\n",
    "How to do MD runs in OFDFT for comparison?\n",
    "\n",
    "How to run NVE, What is NVT coupled with Nose-Hoover?\n",
    "Why are the positions negative, so close togethcer and different from initial structure?\n",
    "\n",
    "\n",
    "\n",
    "- get forces, velocities from ofdft during python runtime\n",
    "- propagate nuclei\n",
    "\n",
    "\n",
    "            "
   ]
  },
  {
   "cell_type": "markdown",
   "metadata": {},
   "source": [
    "#### old version"
   ]
  },
  {
   "cell_type": "code",
   "execution_count": null,
   "metadata": {},
   "outputs": [],
   "source": [
    "pos_file = '/home/misa/git_repositories/PROFESS/test/MD_NVE/saved/ion_step0.dat'\n",
    "vel_file = '/home/misa/git_repositories/PROFESS/test/MD_NVE/saved/vel_step0.dat'\n",
    "for_file = '/home/misa/git_repositories/PROFESS/test/MD_NVE/saved/force_step0.dat'\n",
    "cell_param = [[3.97, 0, 0], [0, 3.97, 0], [0, 0, 3.97]]\n",
    "\n",
    "work_dir = '/home/misa/git_repositories/PROFESS/test/MD_NVE/sp_ase/'\n",
    "\n",
    "save_pos = []\n",
    "save_vel = []\n",
    "\n",
    "atoms = initialize_atoms(pos_file, vel_file, cell_param)\n",
    "for n in range(0, 21):\n",
    "    atoms.set_calculator(OFDFT_calculator(f'/home/misa/git_repositories/PROFESS/test/MD_NVE/saved/force_step{n}.dat', atoms))\n",
    "    # We want to run MD with constant energy using the VelocityVerlet algorithm.\n",
    "    dyn = VelocityVerlet(atoms, 1*units.fs)  # 1 fs time step.\n",
    "    # run only for one step\n",
    "    f=dyn.run(1)\n",
    "    \n",
    "    save_pos.append(atoms.get_positions())\n",
    "    save_vel.append(atoms.get_velocities())"
   ]
  }
 ],
 "metadata": {
  "kernelspec": {
   "display_name": "Python [conda env:atomic-energies]",
   "language": "python",
   "name": "conda-env-atomic-energies-py"
  },
  "language_info": {
   "codemirror_mode": {
    "name": "ipython",
    "version": 3
   },
   "file_extension": ".py",
   "mimetype": "text/x-python",
   "name": "python",
   "nbconvert_exporter": "python",
   "pygments_lexer": "ipython3",
   "version": "3.7.3"
  }
 },
 "nbformat": 4,
 "nbformat_minor": 2
}
