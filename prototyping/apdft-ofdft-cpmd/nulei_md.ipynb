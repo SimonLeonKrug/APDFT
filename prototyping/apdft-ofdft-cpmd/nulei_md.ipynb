{
 "cells": [
  {
   "cell_type": "markdown",
   "metadata": {},
   "source": [
    "## Simple MD without thermostat"
   ]
  },
  {
   "cell_type": "code",
   "execution_count": 1,
   "metadata": {},
   "outputs": [],
   "source": [
    "from ase import Atoms\n",
    "import numpy as np\n",
    "from ase.calculators.general import Calculator\n",
    "from ase.md.verlet import VelocityVerlet\n",
    "from ase import units"
   ]
  },
  {
   "cell_type": "markdown",
   "metadata": {},
   "source": [
    "### calculator"
   ]
  },
  {
   "cell_type": "code",
   "execution_count": 2,
   "metadata": {},
   "outputs": [],
   "source": [
    "class OFDFT_calculator(Calculator):\n",
    "    name = 'OFDFT_calculator'\n",
    "    implemented_properties = ['forces']\n",
    "\n",
    "    def __init__(self, forces):\n",
    "        self.forces = forces\n",
    "#         self.nAtoms = atoms.get_number_of_atoms()\n",
    "\n",
    "    def get_forces(self, atoms=None):\n",
    "        # call ofdft code via os subprocesses\n",
    "        # input new coords, new density\n",
    "        return(self.forces)"
   ]
  },
  {
   "cell_type": "markdown",
   "metadata": {},
   "source": [
    "### MD run"
   ]
  },
  {
   "cell_type": "code",
   "execution_count": 3,
   "metadata": {},
   "outputs": [],
   "source": [
    "# create atoms object\n",
    "\n",
    "at1 = [0,0,0]\n",
    "at2 = [0.5,0.5,0]\n",
    "at3 = [0,0.5,0.5]\n",
    "at4 = [0.5,0,0.5]\n",
    "cell1 = [3.9691, 0, 0]\n",
    "cell2 = [0, 3.9691, 0]\n",
    "cell3 = [0, 0, 3.9691]\n",
    "\n",
    "atoms = Atoms('Al4',\n",
    "             positions=[at1,at2, at3, at4],\n",
    "             cell=[cell1, cell2, cell3],\n",
    "             pbc=True)\n",
    "\n",
    "# is this correct or must I use something like this for crystals?\n",
    "\n",
    "# # Set up a crystal\n",
    "# atoms = FaceCenteredCubic(directions=[[1, 0, 0], [0, 1, 0], [0, 0, 1]],\n",
    "#                           symbol='Cu',\n",
    "#                           size=(size, size, size),\n",
    "#                           pbc=True)\n",
    "\n",
    "forces_nuclei = np.array([[0.0,0,0],[0,0,0],[0,0,0],[0,0,0]])"
   ]
  },
  {
   "cell_type": "code",
   "execution_count": 4,
   "metadata": {},
   "outputs": [],
   "source": [
    "# set the forces from the OFDFT code\n",
    "# improvement: call ofdft in this function?\n",
    "# get_forces reads forces from file\n",
    "atoms.set_calculator(OFDFT_calculator(forces_nuclei))"
   ]
  },
  {
   "cell_type": "code",
   "execution_count": 5,
   "metadata": {},
   "outputs": [
    {
     "data": {
      "text/plain": [
       "array([[0. , 0. , 0. ],\n",
       "       [0.5, 0.5, 0. ],\n",
       "       [0. , 0.5, 0.5],\n",
       "       [0.5, 0. , 0.5]])"
      ]
     },
     "execution_count": 5,
     "metadata": {},
     "output_type": "execute_result"
    }
   ],
   "source": [
    "\n",
    "\n",
    "# We want to run MD with constant energy using the VelocityVerlet algorithm.\n",
    "dyn = VelocityVerlet(atoms, 5 * units.fs)  # 5 fs time step.\n",
    "\n",
    "# run only for one step\n",
    "f=dyn.run(1)\n",
    "\n",
    "# get new positions for force calculations\n",
    "atoms.get_positions()"
   ]
  },
  {
   "cell_type": "code",
   "execution_count": 6,
   "metadata": {},
   "outputs": [],
   "source": [
    "# read atom positions from .ion file\n",
    "\n",
    "file = '/home/misa/git_repositories/PROFESS/test/MD_NVE/ion.restart'\n",
    "content = []\n",
    "with open(file, 'r') as f:\n",
    "    content = f.readlines()\n",
    "    \n",
    "for i,l in enumerate(content):\n",
    "    content[i] = l.strip('%')\n",
    "    content[i] = content[i].strip('\\n')\n",
    "    \n",
    "pos = []\n",
    "for i,l in enumerate(content):\n",
    "    if l != 'BLOCK POSITIONS_CART':\n",
    "        pass\n",
    "    else:\n",
    "        for j in content[i+1:]:\n",
    "            if j !=  'END BLOCK POSITIONS_CART':\n",
    "                coords = j.split()[1:4]\n",
    "                coords = [float(c) for c in coords]\n",
    "                pos.append(coords)\n",
    "            else:\n",
    "                break\n",
    "        break"
   ]
  },
  {
   "cell_type": "code",
   "execution_count": 7,
   "metadata": {},
   "outputs": [
    {
     "data": {
      "text/plain": [
       "[[-1.02429756, -1.1033554, -1.00798242],\n",
       " [0.995740543, 1.26481621, -1.02773597],\n",
       " [-0.977291515, 0.863024832, 0.953715818],\n",
       " [1.00584869, -1.02448542, 1.0820023]]"
      ]
     },
     "execution_count": 7,
     "metadata": {},
     "output_type": "execute_result"
    }
   ],
   "source": [
    "pos"
   ]
  },
  {
   "cell_type": "markdown",
   "metadata": {},
   "source": [
    "files for ofdft:\n",
    "- job.inpt (stays the same during CPMD)\n",
    "- job.ion (structure: update position, lattice vectors?)\n",
    "- density (update from CPMD)\n",
    "- al.lda.recpot (pseudopotentials: stay the same during CPMD)\n",
    "\n",
    "Which code to do APDFT calculations? (must support crystal structures)\n",
    "Are local ofdft pseudopotentials compatible with other non-local pseudopotentials?\n",
    "\n",
    "How to do MD runs in OFDFT for comparison?\n",
    "\n",
    "How to run NVE, What is NVT coupled with Nose-Hoover?\n",
    "Why are the positions negative, so close togethcer and different from initial structure?\n",
    "\n",
    "\n",
    "\n",
    "- get forces, velocities from ofdft during python runtime\n",
    "- propagate nuclei\n",
    "\n",
    "\n",
    "            "
   ]
  }
 ],
 "metadata": {
  "kernelspec": {
   "display_name": "Python [conda env:atomic-energies]",
   "language": "python",
   "name": "conda-env-atomic-energies-py"
  },
  "language_info": {
   "codemirror_mode": {
    "name": "ipython",
    "version": 3
   },
   "file_extension": ".py",
   "mimetype": "text/x-python",
   "name": "python",
   "nbconvert_exporter": "python",
   "pygments_lexer": "ipython3",
   "version": "3.7.3"
  }
 },
 "nbformat": 4,
 "nbformat_minor": 2
}
