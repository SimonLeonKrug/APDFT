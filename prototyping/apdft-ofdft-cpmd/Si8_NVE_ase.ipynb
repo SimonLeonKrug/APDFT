{
 "cells": [
  {
   "cell_type": "code",
   "execution_count": 1,
   "metadata": {},
   "outputs": [
    {
     "name": "stdout",
     "output_type": "stream",
     "text": [
      "Pixiedust database opened successfully\n"
     ]
    },
    {
     "data": {
      "text/html": [
       "\n",
       "        <div style=\"margin:10px\">\n",
       "            <a href=\"https://github.com/ibm-watson-data-lab/pixiedust\" target=\"_new\">\n",
       "                <img src=\"https://github.com/ibm-watson-data-lab/pixiedust/raw/master/docs/_static/pd_icon32.png\" style=\"float:left;margin-right:10px\"/>\n",
       "            </a>\n",
       "            <span>Pixiedust version 1.1.18</span>\n",
       "        </div>\n",
       "        "
      ],
      "text/plain": [
       "<IPython.core.display.HTML object>"
      ]
     },
     "metadata": {},
     "output_type": "display_data"
    }
   ],
   "source": [
    "from profess_calculator import PROFESS\n",
    "import profess_io as pio\n",
    "from cpmd import initialize_atoms\n",
    "from ase.md.verlet import VelocityVerlet\n",
    "from ase import units\n",
    "import os\n",
    "import pixiedust\n",
    "import numpy as np\n",
    "from matplotlib import pyplot as plt\n",
    "\n",
    "from ase import Atoms\n",
    "from ase.io.trajectory import Trajectory"
   ]
  },
  {
   "cell_type": "code",
   "execution_count": 2,
   "metadata": {},
   "outputs": [],
   "source": [
    "# initialize atoms object from PROFESS files\n",
    "pos_file = '/home/misa/projects/APDFT-CPMD/data/BOMD/ase_NVE/Si8_hc/ion.restart_file'\n",
    "vel_file = '/home/misa/projects/APDFT-CPMD/data/BOMD/ase_NVE/Si8_hc/vel.restart_file'\n",
    "atoms = initialize_atoms(pos_file, vel_file, pos_type='CART')"
   ]
  },
  {
   "cell_type": "code",
   "execution_count": null,
   "metadata": {},
   "outputs": [],
   "source": [
    "# set parameters for PROFESS calculation\n",
    "log = '/home/misa/projects/APDFT-CPMD/data/BOMD/ase_NVE/Si8_hc/Si8_nve.log'\n",
    "traj_path = '/home/misa/projects/APDFT-CPMD/data/BOMD/ase_NVE/Si8_hc/Si8_nve.traj'\n",
    "run_dir = '/home/misa/projects/APDFT-CPMD/data/BOMD/ase_NVE/Si8_hc'\n",
    "inpt_name = 'ase_nve.inpt'\n",
    "pp_names = ['si.lda.recpot']\n",
    "dt = 0.1 # time interval in fs\n",
    "t = 3500 # total time in fs\n",
    "steps = int(t/dt)\n",
    "# make empty calculator\n",
    "calc = PROFESS()\n",
    "# pass calculator to atoms object\n",
    "atoms.calc = calc\n",
    "# initialize calc object with correct parameters\n",
    "atoms.calc.initialize(run_dir, inpt_name, pp_names, atoms)"
   ]
  },
  {
   "cell_type": "code",
   "execution_count": null,
   "metadata": {},
   "outputs": [],
   "source": [
    "# %%pixie_debugger\n",
    "# remove old logfile\n",
    "try:\n",
    "    os.remove(log)\n",
    "except FileNotFoundError:\n",
    "    print('Already deleted')\n",
    "\n",
    "dyn = VelocityVerlet(atoms, dt*units.fs, logfile=log)\n",
    "traj = Trajectory(traj_path, 'w', dyn.atoms)\n",
    "dyn.attach(traj.write, interval=10)\n",
    "\n",
    "dyn.run(steps)\n",
    "traj.close()"
   ]
  }
 ],
 "metadata": {
  "kernelspec": {
   "display_name": "Python [conda env:atomic-energies]",
   "language": "python",
   "name": "conda-env-atomic-energies-py"
  },
  "language_info": {
   "codemirror_mode": {
    "name": "ipython",
    "version": 3
   },
   "file_extension": ".py",
   "mimetype": "text/x-python",
   "name": "python",
   "nbconvert_exporter": "python",
   "pygments_lexer": "ipython3",
   "version": "3.7.3"
  }
 },
 "nbformat": 4,
 "nbformat_minor": 4
}
