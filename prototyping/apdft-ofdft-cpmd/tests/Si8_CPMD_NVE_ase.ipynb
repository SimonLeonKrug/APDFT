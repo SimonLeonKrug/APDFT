{
 "cells": [
  {
   "cell_type": "code",
   "execution_count": 1,
   "metadata": {},
   "outputs": [
    {
     "name": "stdout",
     "output_type": "stream",
     "text": [
      "Pixiedust database opened successfully\n"
     ]
    },
    {
     "data": {
      "text/html": [
       "\n",
       "        <div style=\"margin:10px\">\n",
       "            <a href=\"https://github.com/ibm-watson-data-lab/pixiedust\" target=\"_new\">\n",
       "                <img src=\"https://github.com/ibm-watson-data-lab/pixiedust/raw/master/docs/_static/pd_icon32.png\" style=\"float:left;margin-right:10px\"/>\n",
       "            </a>\n",
       "            <span>Pixiedust version 1.1.18</span>\n",
       "        </div>\n",
       "        "
      ],
      "text/plain": [
       "<IPython.core.display.HTML object>"
      ]
     },
     "metadata": {},
     "output_type": "display_data"
    }
   ],
   "source": [
    "import sys\n",
    "sys.path.insert(0, '/home/misa/git_repositories/APDFT/prototyping/apdft-ofdft-cpmd/')\n",
    "\n",
    "from profess_calculator import PROFESS_CPMD\n",
    "import profess_io as pio\n",
    "from cpmd import initialize_atoms\n",
    "from ase.md.verlet import VelocityVerlet\n",
    "from ase import units\n",
    "import os\n",
    "import numpy as np\n",
    "from matplotlib import pyplot as plt\n",
    "\n",
    "from ase import Atoms\n",
    "from ase.io.trajectory import Trajectory\n",
    "\n",
    "import pixiedust"
   ]
  },
  {
   "cell_type": "code",
   "execution_count": 2,
   "metadata": {},
   "outputs": [],
   "source": [
    "# initialize atoms object from PROFESS files\n",
    "pos_file = '/home/misa/projects/APDFT-CPMD/data/BOMD/ase_NVE/Si8_hc/ion.restart_file'\n",
    "vel_file = '/home/misa/projects/APDFT-CPMD/data/BOMD/ase_NVE/Si8_hc/vel.restart_file'\n",
    "atoms = initialize_atoms(pos_file, vel_file, pos_type='CART')"
   ]
  },
  {
   "cell_type": "code",
   "execution_count": 4,
   "metadata": {},
   "outputs": [],
   "source": [
    "# set parameters for PROFESS calculation\n",
    "profess_path = '/home/misa/software/PROFESS-1/PROFESS' # on avl24\n",
    "#profess_path = '/home/misa/opt/PROFESS-1/PROFESS' # on avl51\n",
    "log = '/home/misa/projects/APDFT-CPMD/data/CPMD/debug_Si8/Si8_debug.log'\n",
    "traj_path = '/home/misa/projects/APDFT-CPMD/data/CPMD/debug_Si8/Si8_debug.traj'\n",
    "run_dir = '/home/misa/projects/APDFT-CPMD/data/CPMD/debug_Si8'\n",
    "ini_den = '/home/misa/projects/APDFT-CPMD/data/CPMD/debug_Si8/initial_data/ase_nve.den'\n",
    "ini_ion = '/home/misa/projects/APDFT-CPMD/data/CPMD/debug_Si8/initial_data/ase_nve.ion'\n",
    "inpt_name = 'Si8_debug'\n",
    "pp_names = ['si.lda.recpot']\n",
    "\n",
    "mu = 380\n",
    "dt = 0.0096 # time interval in fs\n",
    "t = 9.6 # total time in fs\n",
    "steps = int(t/dt)\n",
    "# make empty calculator\n",
    "calc = PROFESS_CPMD()\n",
    "# pass calculator to atoms object\n",
    "atoms.calc = calc\n",
    "# initialize calc object with correct parameters\n",
    "atoms.calc.initialize(atoms, dt, ini_den, ini_ion, inpt_name, mu, 'CART', pp_names, profess_path, run_dir, debug=False)"
   ]
  },
  {
   "cell_type": "code",
   "execution_count": null,
   "metadata": {
    "pixiedust": {
     "displayParams": {}
    },
    "scrolled": true
   },
   "outputs": [],
   "source": [
    "#%%pixie_debugger\n",
    "# remove old logfile\n",
    "try:\n",
    "    os.remove(log)\n",
    "except FileNotFoundError:\n",
    "    print('Already deleted')\n",
    "\n",
    "dyn = VelocityVerlet(atoms, dt*units.fs, logfile=log)\n",
    "traj = Trajectory(traj_path, 'w', dyn.atoms)\n",
    "dyn.attach(traj.write, interval=1)\n",
    "\n",
    "dyn.run(steps)\n",
    "traj.close()"
   ]
  },
  {
   "cell_type": "code",
   "execution_count": 5,
   "metadata": {},
   "outputs": [
    {
     "data": {
      "text/plain": [
       "[(-0.3968523153140971, 0.06869371244131223),\n",
       " (-0.3968512554213153, 0.06869460870838412),\n",
       " (-0.39643739360524377, 0.06828604221422216),\n",
       " (nan, nan)]"
      ]
     },
     "execution_count": 5,
     "metadata": {},
     "output_type": "execute_result"
    }
   ],
   "source": [
    "atoms.calc.DensOpt.store_lambdas"
   ]
  },
  {
   "cell_type": "code",
   "execution_count": null,
   "metadata": {},
   "outputs": [],
   "source": [
    "#plt.plot(atoms.calc.DensOpt.store_dEdX[3])\n",
    "\n",
    "plt.plot(atoms.calc.DensOpt.store_dEdX[2])\n",
    "plt.plot(atoms.calc.DensOpt.store_dEdX[0])\n",
    "plt.plot(atoms.calc.DensOpt.store_dEdX[1])\n",
    "\n"
   ]
  },
  {
   "cell_type": "code",
   "execution_count": null,
   "metadata": {},
   "outputs": [],
   "source": [
    "atoms.calc.DensOpt.store_dEdX[1]/atoms.calc.DensOpt.V*(36**3)-atoms.calc.DensOpt.store_dEdX[0]/atoms.calc.DensOpt.V*(36**3)"
   ]
  },
  {
   "cell_type": "code",
   "execution_count": null,
   "metadata": {},
   "outputs": [],
   "source": [
    "log = np.loadtxt('/home/misa/projects/APDFT-CPMD/data/CPMD/debug_Si8/Si8_debug.log', skiprows=1)"
   ]
  },
  {
   "cell_type": "code",
   "execution_count": null,
   "metadata": {},
   "outputs": [],
   "source": [
    "plt.plot(log[:,0]*1000, log[:,1])"
   ]
  },
  {
   "cell_type": "code",
   "execution_count": null,
   "metadata": {
    "scrolled": true
   },
   "outputs": [],
   "source": [
    "plt.plot(log[:,0]*1000, log[:,2])"
   ]
  },
  {
   "cell_type": "code",
   "execution_count": null,
   "metadata": {},
   "outputs": [],
   "source": [
    "plt.plot(log[:,0]*1000, log[:,3])"
   ]
  },
  {
   "cell_type": "code",
   "execution_count": null,
   "metadata": {},
   "outputs": [],
   "source": [
    "plt.plot(log[:,0]*1000, log[:,4])"
   ]
  },
  {
   "cell_type": "code",
   "execution_count": null,
   "metadata": {},
   "outputs": [],
   "source": [
    "dyn.atoms.get_positions()"
   ]
  },
  {
   "cell_type": "code",
   "execution_count": null,
   "metadata": {},
   "outputs": [],
   "source": []
  }
 ],
 "metadata": {
  "kernelspec": {
   "display_name": "Python [conda env:atomic-energies]",
   "language": "python",
   "name": "conda-env-atomic-energies-py"
  },
  "language_info": {
   "codemirror_mode": {
    "name": "ipython",
    "version": 3
   },
   "file_extension": ".py",
   "mimetype": "text/x-python",
   "name": "python",
   "nbconvert_exporter": "python",
   "pygments_lexer": "ipython3",
   "version": "3.7.3"
  }
 },
 "nbformat": 4,
 "nbformat_minor": 4
}
