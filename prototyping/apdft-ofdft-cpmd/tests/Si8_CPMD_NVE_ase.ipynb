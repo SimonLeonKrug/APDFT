{
 "cells": [
  {
   "cell_type": "code",
   "execution_count": 1,
   "metadata": {},
   "outputs": [],
   "source": [
    "import sys\n",
    "sys.path.insert(0, '/home/misa/git_repositories/APDFT/prototyping/apdft-ofdft-cpmd/')\n",
    "\n",
    "from profess_calculator import PROFESS_CPMD\n",
    "import profess_io as pio\n",
    "from cpmd import initialize_atoms\n",
    "from ase.md.verlet import VelocityVerlet\n",
    "from ase import units\n",
    "import os\n",
    "import numpy as np\n",
    "from matplotlib import pyplot as plt\n",
    "\n",
    "from ase import Atoms\n",
    "from ase.io.trajectory import Trajectory"
   ]
  },
  {
   "cell_type": "code",
   "execution_count": 2,
   "metadata": {},
   "outputs": [],
   "source": [
    "# initialize atoms object from PROFESS files\n",
    "pos_file = '/home/misa/projects/APDFT-CPMD/data/BOMD/ase_NVE/Si8_hc/ion.restart_file'\n",
    "vel_file = '/home/misa/projects/APDFT-CPMD/data/BOMD/ase_NVE/Si8_hc/vel.restart_file'\n",
    "atoms = initialize_atoms(pos_file, vel_file, pos_type='CART')"
   ]
  },
  {
   "cell_type": "code",
   "execution_count": 3,
   "metadata": {},
   "outputs": [],
   "source": [
    "# set parameters for PROFESS calculation\n",
    "profess_path = '/home/misa/opt/PROFESS-1/PROFESS'\n",
    "log = '/home/misa/projects/APDFT-CPMD/data/CPMD/debug_Si8/Si8_debug.log'\n",
    "traj_path = '/home/misa/projects/APDFT-CPMD/data/CPMD/debug_Si8/Si8_debug.traj'\n",
    "run_dir = '/home/misa/projects/APDFT-CPMD/data/CPMD/debug_Si8'\n",
    "ini_den = '/home/misa/projects/APDFT-CPMD/data/CPMD/debug_Si8/initial_data/ase_nve.den'\n",
    "ini_ion = '/home/misa/projects/APDFT-CPMD/data/CPMD/debug_Si8/initial_data/ase_nve.ion'\n",
    "inpt_name = 'Si8_debug'\n",
    "pp_names = ['si.lda.recpot']\n",
    "\n",
    "mu = 1\n",
    "dt = 0.01 # time interval in fs\n",
    "t = 0.03 # total time in fs\n",
    "steps = int(t/dt)\n",
    "# make empty calculator\n",
    "calc = PROFESS_CPMD()\n",
    "# pass calculator to atoms object\n",
    "atoms.calc = calc\n",
    "# initialize calc object with correct parameters\n",
    "atoms.calc.initialize(atoms, dt, ini_den, ini_ion, inpt_name, mu, 'CART', pp_names, profess_path, run_dir)"
   ]
  },
  {
   "cell_type": "code",
   "execution_count": 4,
   "metadata": {},
   "outputs": [
    {
     "ename": "FileNotFoundError",
     "evalue": "[Errno 2] No such file or directory: '/home/misa/projects/APDFT-CPMD/data/CPMD/debug_Si8/Si8_debug.force.out'",
     "output_type": "error",
     "traceback": [
      "\u001b[0;31m---------------------------------------------------------------------------\u001b[0m\n\u001b[0;31mFileNotFoundError\u001b[0m                         Traceback (most recent call last)",
      "In  \u001b[0;34m[4]\u001b[0m:\nLine \u001b[0;34m12\u001b[0m:    dyn.run(steps)\n",
      "File \u001b[0;34m/home/misa/opt/miniconda3/envs/jupyterlab-debugger/lib/python3.9/site-packages/ase/md/md.py\u001b[0m, in \u001b[0;32mrun\u001b[0m:\nLine \u001b[0;34m59\u001b[0m:    \u001b[34mreturn\u001b[39;49;00m Dynamics.run(\u001b[36mself\u001b[39;49;00m)\n",
      "File \u001b[0;34m/home/misa/opt/miniconda3/envs/jupyterlab-debugger/lib/python3.9/site-packages/ase/optimize/optimize.py\u001b[0m, in \u001b[0;32mrun\u001b[0m:\nLine \u001b[0;34m162\u001b[0m:   \u001b[34mfor\u001b[39;49;00m converged \u001b[35min\u001b[39;49;00m Dynamics.irun(\u001b[36mself\u001b[39;49;00m):\n",
      "File \u001b[0;34m/home/misa/opt/miniconda3/envs/jupyterlab-debugger/lib/python3.9/site-packages/ase/optimize/optimize.py\u001b[0m, in \u001b[0;32mirun\u001b[0m:\nLine \u001b[0;34m128\u001b[0m:   \u001b[36mself\u001b[39;49;00m.atoms.get_forces()\n",
      "File \u001b[0;34m/home/misa/opt/miniconda3/envs/jupyterlab-debugger/lib/python3.9/site-packages/ase/atoms.py\u001b[0m, in \u001b[0;32mget_forces\u001b[0m:\nLine \u001b[0;34m794\u001b[0m:   forces = \u001b[36mself\u001b[39;49;00m._calc.get_forces(\u001b[36mself\u001b[39;49;00m)\n",
      "File \u001b[0;34m/home/misa/git_repositories/APDFT/prototyping/apdft-ofdft-cpmd/profess_calculator.py\u001b[0m, in \u001b[0;32mget_forces\u001b[0m:\nLine \u001b[0;34m139\u001b[0m:   \u001b[36mself\u001b[39;49;00m.forces = np.array(pio.parse_force_file(\u001b[33mf\u001b[39;49;00m\u001b[33m'\u001b[39;49;00m\u001b[33m{\u001b[39;49;00mos.path.join(\u001b[36mself\u001b[39;49;00m.run_dir, \u001b[36mself\u001b[39;49;00m.inpt_name)\u001b[33m}\u001b[39;49;00m\u001b[33m.force.out\u001b[39;49;00m\u001b[33m'\u001b[39;49;00m))\n",
      "File \u001b[0;34m/home/misa/git_repositories/APDFT/prototyping/apdft-ofdft-cpmd/profess_io.py\u001b[0m, in \u001b[0;32mparse_force_file\u001b[0m:\nLine \u001b[0;34m145\u001b[0m:   \u001b[34mwith\u001b[39;49;00m \u001b[36mopen\u001b[39;49;00m(file, \u001b[33m'\u001b[39;49;00m\u001b[33mr\u001b[39;49;00m\u001b[33m'\u001b[39;49;00m) \u001b[34mas\u001b[39;49;00m f:\n",
      "\u001b[0;31mFileNotFoundError\u001b[0m: [Errno 2] No such file or directory: '/home/misa/projects/APDFT-CPMD/data/CPMD/debug_Si8/Si8_debug.force.out'\n\u001b[0;31m---------------------------------------------------------------------------\u001b[0m"
     ]
    }
   ],
   "source": [
    "# %%pixie_debugger\n",
    "# remove old logfile\n",
    "try:\n",
    "    os.remove(log)\n",
    "except FileNotFoundError:\n",
    "    print('Already deleted')\n",
    "\n",
    "dyn = VelocityVerlet(atoms, dt*units.fs, logfile=log)\n",
    "traj = Trajectory(traj_path, 'w', dyn.atoms)\n",
    "dyn.attach(traj.write, interval=10)\n",
    "\n",
    "dyn.run(steps)\n",
    "traj.close()"
   ]
  },
  {
   "cell_type": "code",
   "execution_count": null,
   "metadata": {},
   "outputs": [],
   "source": []
  }
 ],
 "metadata": {
  "kernelspec": {
   "display_name": "Python 3.9 (XPython)",
   "language": "python",
   "name": "xpython"
  },
  "language_info": {
   "file_extension": ".py",
   "mimetype": "text/x-python",
   "name": "python",
   "version": "3.9.1"
  }
 },
 "nbformat": 4,
 "nbformat_minor": 4
}
