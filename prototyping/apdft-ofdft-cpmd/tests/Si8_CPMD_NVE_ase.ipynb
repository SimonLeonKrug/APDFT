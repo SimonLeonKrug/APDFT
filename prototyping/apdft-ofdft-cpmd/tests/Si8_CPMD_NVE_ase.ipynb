{
 "cells": [
  {
   "cell_type": "code",
   "execution_count": 2,
   "metadata": {},
   "outputs": [],
   "source": [
    "import sys\n",
    "sys.path.insert(0, '/home/misa/git_repositories/APDFT/prototyping/apdft-ofdft-cpmd/')\n",
    "\n",
    "from profess_calculator import PROFESS_CPMD\n",
    "import profess_io as pio\n",
    "from cpmd import initialize_atoms\n",
    "from ase.md.verlet import VelocityVerlet\n",
    "from ase import units\n",
    "import os\n",
    "import numpy as np\n",
    "from matplotlib import pyplot as plt\n",
    "\n",
    "from ase import Atoms\n",
    "from ase.io.trajectory import Trajectory\n",
    "\n",
    "#import pixiedust"
   ]
  },
  {
   "cell_type": "code",
   "execution_count": 3,
   "metadata": {},
   "outputs": [],
   "source": [
    "# initialize atoms object from PROFESS files\n",
    "pos_file = '/home/misa/projects/APDFT-CPMD/data/BOMD/ase_NVE/Si8_hc/ion.restart_file'\n",
    "vel_file = '/home/misa/projects/APDFT-CPMD/data/BOMD/ase_NVE/Si8_hc/vel.restart_file'\n",
    "atoms = initialize_atoms(pos_file, vel_file, pos_type='CART')"
   ]
  },
  {
   "cell_type": "code",
   "execution_count": 4,
   "metadata": {},
   "outputs": [],
   "source": [
    "# set parameters for PROFESS calculation\n",
    "profess_path = '/home/misa/software/PROFESS-1/PROFESS' # on avl24\n",
    "#profess_path = '/home/misa/opt/PROFESS-1/PROFESS' # on avl51\n",
    "log = '/home/misa/projects/APDFT-CPMD/data/CPMD/debug_Si8/Si8_debug.log'\n",
    "traj_path = '/home/misa/projects/APDFT-CPMD/data/CPMD/debug_Si8/Si8_debug.traj'\n",
    "run_dir = '/home/misa/projects/APDFT-CPMD/data/CPMD/debug_Si8'\n",
    "ini_den = '/home/misa/projects/APDFT-CPMD/data/CPMD/debug_Si8/initial_data/ase_nve.den'\n",
    "ini_ion = '/home/misa/projects/APDFT-CPMD/data/CPMD/debug_Si8/initial_data/ase_nve.ion'\n",
    "inpt_name = 'Si8_debug'\n",
    "pp_names = ['si.lda.recpot']\n",
    "\n",
    "mu = 380\n",
    "dt = 0.0096 # time interval in fs\n",
    "t = 9.6 # total time in fs\n",
    "steps = 10#int(t/dt)\n",
    "# make empty calculator\n",
    "calc = PROFESS_CPMD()\n",
    "# pass calculator to atoms object\n",
    "atoms.calc = calc\n",
    "# initialize calc object with correct parameters\n",
    "atoms.calc.initialize(atoms, dt, ini_den, ini_ion, inpt_name, mu, 'CART', pp_names, profess_path, run_dir, debug=False)"
   ]
  },
  {
   "cell_type": "code",
   "execution_count": 5,
   "metadata": {
    "pixiedust": {
     "displayParams": {}
    }
   },
   "outputs": [
    {
     "name": "stdout",
     "output_type": "stream",
     "text": [
      "X= 31.999999645072705\n",
      "X_p= 31.999999999996906\n",
      "X= 31.999999999996906\n",
      "X_m= 31.999999645072705\n",
      "X_p= 31.999999999999993\n",
      "X= 31.999999999999993\n",
      "X_m= 31.999999999996906\n",
      "X_p= 32.0\n",
      "X= 32.0\n",
      "X_m= 31.999999999999993\n",
      "X_p= 32.0\n",
      "X= 32.0\n",
      "X_m= 32.0\n",
      "X_p= 31.999999999999996\n",
      "X= 31.999999999999996\n",
      "X_m= 32.0\n",
      "X_p= 32.0\n",
      "X= 32.0\n",
      "X_m= 31.999999999999996\n",
      "X_p= 32.00000000000001\n",
      "X= 32.00000000000001\n",
      "X_m= 32.0\n",
      "X_p= 32.0\n",
      "X= 32.0\n",
      "X_m= 32.00000000000001\n",
      "X_p= 31.999999999999996\n",
      "X= 31.999999999999996\n",
      "X_m= 32.0\n",
      "X_p= 31.99999999999999\n",
      "X= 31.99999999999999\n",
      "X_m= 31.999999999999996\n",
      "X_p= 32.0\n"
     ]
    }
   ],
   "source": [
    "#%%pixie_debugger\n",
    "# remove old logfile\n",
    "try:\n",
    "    os.remove(log)\n",
    "except FileNotFoundError:\n",
    "    print('Already deleted')\n",
    "\n",
    "dyn = VelocityVerlet(atoms, dt*units.fs, logfile=log)\n",
    "traj = Trajectory(traj_path, 'w', dyn.atoms)\n",
    "dyn.attach(traj.write, interval=1)\n",
    "\n",
    "dyn.run(steps)\n",
    "traj.close()\n",
    "\n",
    "# save kinetic energy of electron density\n",
    "atoms.calc.DensOpt.save_property('ekin_dens')"
   ]
  },
  {
   "cell_type": "code",
   "execution_count": null,
   "metadata": {},
   "outputs": [],
   "source": [
    "plt.plot(atoms.calc.DensOpt.ekin_dens)"
   ]
  },
  {
   "cell_type": "code",
   "execution_count": null,
   "metadata": {},
   "outputs": [],
   "source": [
    "#plt.plot(atoms.calc.DensOpt.store_dEdX[3])\n",
    "\n",
    "plt.plot(atoms.calc.DensOpt.store_dEdX[2])\n",
    "plt.plot(atoms.calc.DensOpt.store_dEdX[0])\n",
    "plt.plot(atoms.calc.DensOpt.store_dEdX[1])\n",
    "\n"
   ]
  },
  {
   "cell_type": "code",
   "execution_count": null,
   "metadata": {},
   "outputs": [],
   "source": [
    "atoms.calc.DensOpt.store_dEdX[1]/atoms.calc.DensOpt.V*(36**3)-atoms.calc.DensOpt.store_dEdX[0]/atoms.calc.DensOpt.V*(36**3)"
   ]
  },
  {
   "cell_type": "code",
   "execution_count": null,
   "metadata": {},
   "outputs": [],
   "source": [
    "log = np.loadtxt('/home/misa/projects/APDFT-CPMD/data/CPMD/debug_Si8/Si8_debug.log', skiprows=1)\n",
    "time = np.linspace(0, 6.2298, 62298)"
   ]
  },
  {
   "cell_type": "code",
   "execution_count": null,
   "metadata": {},
   "outputs": [],
   "source": [
    "plt.plot(time, log[:,1])"
   ]
  },
  {
   "cell_type": "code",
   "execution_count": null,
   "metadata": {},
   "outputs": [],
   "source": [
    "(log[:,1][-1]-log[:,1][0])/8*1000/units.Ha"
   ]
  },
  {
   "cell_type": "code",
   "execution_count": null,
   "metadata": {},
   "outputs": [],
   "source": [
    "plt.plot(time, log[:,2])"
   ]
  },
  {
   "cell_type": "code",
   "execution_count": null,
   "metadata": {},
   "outputs": [],
   "source": [
    "plt.plot(time, log[:,3])"
   ]
  },
  {
   "cell_type": "code",
   "execution_count": null,
   "metadata": {},
   "outputs": [],
   "source": [
    "plt.plot(time, log[:,4])"
   ]
  },
  {
   "cell_type": "code",
   "execution_count": null,
   "metadata": {},
   "outputs": [],
   "source": [
    "dyn.atoms.get_positions()"
   ]
  },
  {
   "cell_type": "code",
   "execution_count": null,
   "metadata": {},
   "outputs": [],
   "source": []
  }
 ],
 "metadata": {
  "kernelspec": {
   "display_name": "Python [conda env:atomic-energies]",
   "language": "python",
   "name": "conda-env-atomic-energies-py"
  },
  "language_info": {
   "codemirror_mode": {
    "name": "ipython",
    "version": 3
   },
   "file_extension": ".py",
   "mimetype": "text/x-python",
   "name": "python",
   "nbconvert_exporter": "python",
   "pygments_lexer": "ipython3",
   "version": "3.7.3"
  }
 },
 "nbformat": 4,
 "nbformat_minor": 4
}
