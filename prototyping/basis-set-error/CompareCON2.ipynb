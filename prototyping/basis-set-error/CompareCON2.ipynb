{
 "cells": [
  {
   "cell_type": "code",
   "execution_count": 5,
   "metadata": {},
   "outputs": [],
   "source": [
    "import horton\n",
    "import numpy as np"
   ]
  },
  {
   "cell_type": "code",
   "execution_count": 10,
   "metadata": {},
   "outputs": [],
   "source": [
    "def get_n2_energy(bond_length, basis_set, use_CO_basis=False):\n",
    "    horton.log.set_level(0)\n",
    "\n",
    "    mol = horton.IOData()\n",
    "    bond_length = float(bond_length)\n",
    "    mol.coordinates = np.array([[0.0, 0.0, -bond_length/2.], [0.0, 0.0, bond_length/2.]]) * horton.angstrom\n",
    "    mol.numbers = np.array([7., 7.])\n",
    "    mol.pseudo_numbers = mol.numbers\n",
    "    \n",
    "    if use_CO_basis:\n",
    "        obasis = horton.get_gobasis(mol.coordinates, np.array([7, 7]), basis_set)\n",
    "    else:\n",
    "        obasis = horton.get_gobasis(mol.coordinates, np.array([8, 6]), basis_set)\n",
    "    \n",
    "    olp = obasis.compute_overlap()\n",
    "    kin = obasis.compute_kinetic()\n",
    "    na = obasis.compute_nuclear_attraction(mol.coordinates, mol.pseudo_numbers)\n",
    "    er = obasis.compute_electron_repulsion()\n",
    "    \n",
    "    orb_alpha = horton.Orbitals(obasis.nbasis)\n",
    "    orb_beta = horton.Orbitals(obasis.nbasis)\n",
    "    \n",
    "    horton.guess_core_hamiltonian(olp, kin + na, orb_alpha, orb_beta)\n",
    "    \n",
    "    external = {'nn': horton.compute_nucnuc(mol.coordinates, mol.pseudo_numbers)}\n",
    "    \n",
    "    terms = [horton.UTwoIndexTerm(kin, 'kin'), horton.UDirectTerm(er, 'hartree'), horton.UExchangeTerm(er, 'x_hf'), horton.UTwoIndexTerm(na, 'ne')]\n",
    "    ham = horton.UEffHam(terms, external)\n",
    "    occ_model = horton.AufbauOccModel(7, 7)\n",
    "    occ_model.assign(orb_alpha, orb_beta)\n",
    "    dm_alpha = orb_alpha.to_dm()\n",
    "    dm_beta = orb_beta.to_dm()\n",
    "    scf_solver = horton.ODASCFSolver(1e-5, maxiter=400)\n",
    "    scf_solver(ham, olp, occ_model, dm_alpha, dm_beta)\n",
    "    \n",
    "    return ham.compute_energy()"
   ]
  },
  {
   "cell_type": "code",
   "execution_count": 15,
   "metadata": {},
   "outputs": [
    {
     "name": "stdout",
     "output_type": "stream",
     "text": [
      "('STO-3G', -1.9490517906819775)\n",
      "('6-31G(d)', -1.7538657427202224)\n",
      "('Def2-TZVP', -0.07845902612203304)\n",
      "('cc-pvtz', -0.6656797254418336)\n"
     ]
    }
   ],
   "source": [
    "for basisset in ('STO-3G', '6-31G(d)', 'Def2-TZVP', 'cc-pvtz'):\n",
    "    print (basisset, get_n2_energy(2., basisset, True) - get_n2_energy(2., basisset, False))"
   ]
  }
 ],
 "metadata": {
  "kernelspec": {
   "display_name": "Python [conda env:py27]",
   "language": "python",
   "name": "conda-env-py27-py"
  },
  "language_info": {
   "codemirror_mode": {
    "name": "ipython",
    "version": 2
   },
   "file_extension": ".py",
   "mimetype": "text/x-python",
   "name": "python",
   "nbconvert_exporter": "python",
   "pygments_lexer": "ipython2",
   "version": "2.7.15"
  }
 },
 "nbformat": 4,
 "nbformat_minor": 2
}
