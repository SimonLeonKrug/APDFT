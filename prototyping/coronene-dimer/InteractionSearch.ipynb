{
 "cells": [
  {
   "cell_type": "code",
   "execution_count": 1,
   "metadata": {},
   "outputs": [
    {
     "name": "stdout",
     "output_type": "stream",
     "text": [
      "The history saving thread hit an unexpected error (DatabaseError('database disk image is malformed',)).History will not be written to the database.\n"
     ]
    }
   ],
   "source": [
    "import numpy as np\n",
    "import matplotlib.pyplot as plt\n",
    "import pandas as pd\n",
    "import sys\n",
    "import configparser"
   ]
  },
  {
   "cell_type": "code",
   "execution_count": 3,
   "metadata": {},
   "outputs": [],
   "source": [
    "sys.path.append('../../src/')\n",
    "import apdft\n",
    "from apdft.calculator.mrcc import MrccCalculator"
   ]
  },
  {
   "cell_type": "code",
   "execution_count": null,
   "metadata": {},
   "outputs": [],
   "source": [
    "def get_modepn(coordinates, fn):\n",
    "    #return np.zeros(len(coordinates))\n",
    "    density = MrccCalculator._parse_densityfile(fn)\n",
    "    modepns = []\n",
    "    for site in coordinates:\n",
    "        ds = np.linalg.norm(density[:, :3] - site* ( 1 / 0.52917721067), axis=1)\n",
    "        \n",
    "        modepns.append(np.sum(density[:, 3] * density[:, 4] / ds))\n",
    "    return modepns\n",
    "def read_meta(basepath):\n",
    "    nuclear_charges, coordinates = apdft.read_xyz('%s/inp.xyz' % basepath)\n",
    "    config = configparser.ConfigParser()\n",
    "    config.read('%s/apdft.conf' % basepath)\n",
    "    includeonly = [int(_) for _ in config['apdft']['apdft_includeonly'].strip('[]').split(', ')]\n",
    "    return nuclear_charges, coordinates, includeonly\n",
    "def read_coefficients(basepath, nuclear_charges, coordinates, includeonly):\n",
    "    N = len(includeonly)\n",
    "    \n",
    "    coefficients = np.zeros((1 + N*2 + N * (N - 1), N))\n",
    "    \n",
    "    # order 0\n",
    "    pos = 0\n",
    "    coefficients[pos, :] = get_modepn(coordinates[includeonly], '%s/QM/order-0/site-all-cc/DENSITY' % basepath)\n",
    "    pos += 1\n",
    "    \n",
    "    # order 1\n",
    "    for site in includeonly:\n",
    "        coefficients[pos, :] = get_modepn(coordinates[includeonly], '%s/QM/order-1/site-%d-up/DENSITY' % (basepath,site))\n",
    "        coefficients[pos+1, :] = get_modepn(coordinates[includeonly], '%s/QM/order-1/site-%d-dn/DENSITY' % (basepath,site))\n",
    "        pos += 2\n",
    "    \n",
    "    # order 2\n",
    "    for site_i in includeonly:\n",
    "        for site_j in includeonly:\n",
    "            if site_j <= site_i:\n",
    "                continue\n",
    "            \n",
    "            coefficients[pos, :] = get_modepn(coordinates[includeonly], '%s/QM/order-2/site-%d-%d-up/DENSITY' % (basepath,site_i, site_j))\n",
    "            coefficients[pos+1, :] = get_modepn(coordinates[includeonly], '%s/QM/order-2/site-%d-%d-dn/DENSITY' % (basepath,site_i, site_j))\n",
    "            pos += 2\n",
    "    \n",
    "    return coefficients\n",
    "\n",
    "basepath = 'data/coronene-dimer/mrcc-monomer-fast'\n",
    "nuclear_charges, coordinates, includeonly = read_meta(basepath)\n",
    "coefficients = read_coefficients(basepath, nuclear_charges, coordinates, includeonly)"
   ]
  },
  {
   "cell_type": "code",
   "execution_count": 98,
   "metadata": {},
   "outputs": [],
   "source": [
    "def predict(deltaZ):\n",
    "    N = len(includeonly)\n",
    "    \n",
    "    # build alphas\n",
    "    alphas = np.zeros((1 + N*2 + N * (N - 1)))\n",
    "    \n",
    "    # order 0\n",
    "    alphas[0] = 1\n",
    "    \n",
    "    # order 1\n",
    "    for siteidx in range(N):\n",
    "        alphas[1 + siteidx*2] += 5 * deltaZ[siteidx]\n",
    "        alphas[1 + siteidx*2+1] -= 5 * deltaZ[siteidx]\n",
    "    \n",
    "    # order 2\n",
    "    pos = 1 + N*2 - 2\n",
    "    for siteidx_i in range(N):\n",
    "        for siteidx_j in range(siteidx_i, N):\n",
    "            if siteidx_i != siteidx_j:\n",
    "                pos += 2\n",
    "            if deltaZ[siteidx_j] == 0 or deltaZ[siteidx_i] == 0:\n",
    "                continue\n",
    "            if includeonly[siteidx_j] > includeonly[siteidx_i]:\n",
    "                prefactor = 2 * (200/6.) * deltaZ[siteidx_i]*deltaZ[siteidx_j]\n",
    "                alphas[pos] += prefactor\n",
    "                alphas[pos+1] += prefactor\n",
    "                alphas[0] += 2*prefactor\n",
    "                alphas[1 + siteidx_i*2] -= prefactor\n",
    "                alphas[1 + siteidx_i*2+1] -= prefactor\n",
    "                alphas[1 + siteidx_j*2] -= prefactor\n",
    "                alphas[1 + siteidx_j*2+1] -= prefactor\n",
    "            if includeonly[siteidx_j] == includeonly[siteidx_i]:\n",
    "                prefactor = (400/6.) * deltaZ[siteidx_i]*deltaZ[siteidx_j]\n",
    "                alphas[0] -= 2*prefactor\n",
    "                alphas[1 + siteidx_i*2] += prefactor\n",
    "                alphas[1 + siteidx_j*2+1] += prefactor\n",
    "    \n",
    "    # calculate energy\n",
    "    return np.sum(np.multiply(np.outer(alphas, deltaZ), coefficients))"
   ]
  },
  {
   "cell_type": "code",
   "execution_count": null,
   "metadata": {},
   "outputs": [],
   "source": []
  }
 ],
 "metadata": {
  "kernelspec": {
   "display_name": "Python [conda env:analysis]",
   "language": "python",
   "name": "conda-env-analysis-py"
  },
  "language_info": {
   "codemirror_mode": {
    "name": "ipython",
    "version": 3
   },
   "file_extension": ".py",
   "mimetype": "text/x-python",
   "name": "python",
   "nbconvert_exporter": "python",
   "pygments_lexer": "ipython3",
   "version": "3.6.8"
  }
 },
 "nbformat": 4,
 "nbformat_minor": 2
}
