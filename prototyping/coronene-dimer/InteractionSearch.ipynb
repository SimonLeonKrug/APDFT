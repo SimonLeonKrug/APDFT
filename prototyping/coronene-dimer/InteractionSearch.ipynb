{
 "cells": [
  {
   "cell_type": "code",
   "execution_count": 132,
   "metadata": {},
   "outputs": [],
   "source": [
    "import numpy as np\n",
    "import matplotlib.pyplot as plt\n",
    "import pandas as pd\n",
    "import sys\n",
    "import configparser\n",
    "from deap import creator, base, tools, algorithms"
   ]
  },
  {
   "cell_type": "code",
   "execution_count": 2,
   "metadata": {},
   "outputs": [],
   "source": [
    "sys.path.append('../../src/')\n",
    "import apdft\n",
    "from apdft.calculator.mrcc import MrccCalculator\n",
    "import apdft.physics as ap"
   ]
  },
  {
   "cell_type": "code",
   "execution_count": 13,
   "metadata": {},
   "outputs": [],
   "source": [
    "def get_modepn(coordinates, fn):\n",
    "    #return np.zeros(len(coordinates))\n",
    "    density = MrccCalculator._parse_densityfile(fn)\n",
    "    modepns = []\n",
    "    for site in coordinates:\n",
    "        ds = np.linalg.norm(density[:, :3] - site* ( 1 / 0.52917721067), axis=1)\n",
    "        \n",
    "        modepns.append(np.sum(density[:, 3] * density[:, 4] / ds))\n",
    "    return modepns\n",
    "def read_meta(basepath):\n",
    "    nuclear_charges, coordinates = apdft.read_xyz('%s/inp.xyz' % basepath)\n",
    "    config = configparser.ConfigParser()\n",
    "    config.read('%s/apdft.conf' % basepath)\n",
    "    includeonly = [int(_) for _ in config['apdft']['apdft_includeonly'].strip('[]').split(', ')]\n",
    "    return nuclear_charges, coordinates, includeonly\n",
    "def read_coefficients(basepath, nuclear_charges, coordinates, includeonly):\n",
    "    N = len(includeonly)\n",
    "    \n",
    "    coefficients = np.zeros((1 + N*2 + N * (N - 1), N))\n",
    "    \n",
    "    # order 0\n",
    "    pos = 0\n",
    "    coefficients[pos, :] = get_modepn(coordinates[includeonly], '%s/QM/order-0/site-all-cc/DENSITY' % basepath)\n",
    "    pos += 1\n",
    "    \n",
    "    # order 1\n",
    "    for site in includeonly:\n",
    "        coefficients[pos, :] = get_modepn(coordinates[includeonly], '%s/QM/order-1/site-%d-up/DENSITY' % (basepath,site))\n",
    "        coefficients[pos+1, :] = get_modepn(coordinates[includeonly], '%s/QM/order-1/site-%d-dn/DENSITY' % (basepath,site))\n",
    "        pos += 2\n",
    "    \n",
    "    # order 2\n",
    "    for site_i in includeonly:\n",
    "        for site_j in includeonly:\n",
    "            if site_j <= site_i:\n",
    "                continue\n",
    "            \n",
    "            coefficients[pos, :] = get_modepn(coordinates[includeonly], '%s/QM/order-2/site-%d-%d-up/DENSITY' % (basepath,site_i, site_j))\n",
    "            coefficients[pos+1, :] = get_modepn(coordinates[includeonly], '%s/QM/order-2/site-%d-%d-dn/DENSITY' % (basepath,site_i, site_j))\n",
    "            pos += 2\n",
    "    \n",
    "    return coefficients\n",
    "\n",
    "basepath = 'data/coronene-dimer/mrcc-monomer-fast'\n",
    "nuclear_charges_part, coordinates_part, includeonly_part = read_meta(basepath)\n",
    "#coefficients = read_coefficients(basepath, nuclear_charges, coordinates, includeonly)\n",
    "coefficients_part = np.load('%s/coefficients.npy' % basepath)\n",
    "basepath = 'data/coronene-dimer/mrcc-fast'\n",
    "nuclear_charges_whole, coordinates_whole, includeonly_whole = read_meta(basepath)\n",
    "#coefficients = read_coefficients(basepath, nuclear_charges, coordinates, includeonly)\n",
    "coefficients_whole = np.load('%s/coefficients.npy' % basepath)"
   ]
  },
  {
   "cell_type": "code",
   "execution_count": 4,
   "metadata": {},
   "outputs": [],
   "source": [
    "def predict_part(includeonly, coefficients, deltaZ):\n",
    "    N = len(includeonly)\n",
    "    \n",
    "    # build alphas\n",
    "    alphas = np.zeros((1 + N*2 + N * (N - 1)))\n",
    "    \n",
    "    # order 0\n",
    "    alphas[0] = 1\n",
    "    \n",
    "    # order 1\n",
    "    for siteidx in range(N):\n",
    "        alphas[1 + siteidx*2] += 5 * deltaZ[siteidx]\n",
    "        alphas[1 + siteidx*2+1] -= 5 * deltaZ[siteidx]\n",
    "    \n",
    "    # order 2\n",
    "    pos = 1 + N*2 - 2\n",
    "    for siteidx_i in range(N):\n",
    "        for siteidx_j in range(siteidx_i, N):\n",
    "            if siteidx_i != siteidx_j:\n",
    "                pos += 2\n",
    "            if deltaZ[siteidx_j] == 0 or deltaZ[siteidx_i] == 0:\n",
    "                continue\n",
    "            if includeonly[siteidx_j] > includeonly[siteidx_i]:\n",
    "                prefactor = 2 * (200/6.) * deltaZ[siteidx_i]*deltaZ[siteidx_j]\n",
    "                alphas[pos] += prefactor\n",
    "                alphas[pos+1] += prefactor\n",
    "                alphas[0] += 2*prefactor\n",
    "                alphas[1 + siteidx_i*2] -= prefactor\n",
    "                alphas[1 + siteidx_i*2+1] -= prefactor\n",
    "                alphas[1 + siteidx_j*2] -= prefactor\n",
    "                alphas[1 + siteidx_j*2+1] -= prefactor\n",
    "            if includeonly[siteidx_j] == includeonly[siteidx_i]:\n",
    "                prefactor = (400/6.) * deltaZ[siteidx_i]*deltaZ[siteidx_j]\n",
    "                alphas[0] -= 2*prefactor\n",
    "                alphas[1 + siteidx_i*2] += prefactor\n",
    "                alphas[1 + siteidx_j*2+1] += prefactor\n",
    "    \n",
    "    # calculate energy\n",
    "    return np.sum(np.multiply(np.outer(alphas, deltaZ), coefficients))"
   ]
  },
  {
   "cell_type": "markdown",
   "metadata": {},
   "source": [
    "## Production"
   ]
  },
  {
   "cell_type": "code",
   "execution_count": 19,
   "metadata": {},
   "outputs": [],
   "source": [
    "def get_dnn(includeonly, coordinates, nuclear_charges):\n",
    "    dnn = []\n",
    "    for site in includeonly:\n",
    "        q = nuclear_charges.copy()\n",
    "        q[site] += 1\n",
    "        dnn.append(ap.Coulomb.nuclei_nuclei(coordinates, q) - ap.Coulomb.nuclei_nuclei(coordinates, nuclear_charges))\n",
    "    return np.array(dnn)\n",
    "dnn_part = get_dnn(includeonly_part, coordinates_part, nuclear_charges_part)\n",
    "dnn_whole = get_dnn(includeonly_whole, coordinates_whole, nuclear_charges_whole)"
   ]
  },
  {
   "cell_type": "code",
   "execution_count": 66,
   "metadata": {},
   "outputs": [],
   "source": [
    "def predict(deltaZ_A):\n",
    "    if abs(sum(deltaZ_A)) > 1e-4:\n",
    "        return 1e6\n",
    "    E_A = predict_part(includeonly_part, coefficients_part, deltaZ_A)+ (dnn_part * deltaZ_A).sum()\n",
    "    E_B = 0\n",
    "    \n",
    "    E_AB = predict_part(includeonly_whole, coefficients_whole, deltaZ_A) + (dnn_whole * deltaZ_A).sum()\n",
    "    \n",
    "    E_int = E_AB - E_A - E_B\n",
    "    \n",
    "    return (E_int,)"
   ]
  },
  {
   "cell_type": "code",
   "execution_count": 36,
   "metadata": {},
   "outputs": [
    {
     "data": {
      "text/plain": [
       "1000000.0"
      ]
     },
     "execution_count": 36,
     "metadata": {},
     "output_type": "execute_result"
    }
   ],
   "source": [
    "predict([1, -1, 1, 0, 0, 0, 0, 0, 0, 0, 0, 0, 0, 0, 0, 0, 0, 0, 0, 0, 0, 0, 0, 0])"
   ]
  },
  {
   "cell_type": "code",
   "execution_count": 135,
   "metadata": {},
   "outputs": [],
   "source": [
    "def optimize(bnpairs, minimize=True):\n",
    "    if minimize:\n",
    "        creator.create(\"FitnessMin\", base.Fitness, weights=(-1.0,))\n",
    "    else:\n",
    "        creator.create(\"FitnessMin\", base.Fitness, weights=(1.0,))\n",
    "    creator.create(\"Individual\", list, fitness=creator.FitnessMin)\n",
    "    def random_individual(nbnpairs):\n",
    "        a = ([1, -1] * nbnpairs + [0, 0] * (12 - nbnpairs))\n",
    "        np.random.shuffle(a)\n",
    "        return creator.Individual(a)\n",
    "    def twoPointExchange(a, b):\n",
    "        def _do(a, b):\n",
    "            vals = [_ for _ in a if _ != 0.]\n",
    "            offspring = []\n",
    "            for idx in range(len(a)):\n",
    "                if b[idx] != 0:\n",
    "                    try:\n",
    "                        offspring.append(vals.pop(0))\n",
    "                    except:\n",
    "                        print (sum(a), sum(b))\n",
    "                        raise\n",
    "                else:\n",
    "                    offspring.append(0)\n",
    "            return offspring\n",
    "        return creator.Individual(_do(a, b)), creator.Individual(_do(b, a))\n",
    "    toolbox = base.Toolbox()\n",
    "    toolbox.register(\"individual\", random_individual, bnpairs)\n",
    "    toolbox.register(\"population\", tools.initRepeat, list, toolbox.individual)\n",
    "\n",
    "    toolbox.register(\"evaluate\", predict)\n",
    "    toolbox.register(\"mate\", twoPointExchange)\n",
    "    toolbox.register(\"mutate\", tools.mutShuffleIndexes, indpb=0.05)\n",
    "    toolbox.register(\"select\", tools.selTournament, tournsize=3)\n",
    "\n",
    "    population = toolbox.population(n=50)\n",
    "    NGEN=200\n",
    "    progress = []\n",
    "    for gen in range(NGEN):\n",
    "        offspring = algorithms.varAnd(population, toolbox, cxpb=0.5, mutpb=0.1)\n",
    "        fits = toolbox.map(toolbox.evaluate, offspring)\n",
    "        for fit, ind in zip(fits, offspring):\n",
    "            ind.fitness.values = fit\n",
    "        population = toolbox.select(offspring, k=len(population))\n",
    "        top = tools.selBest(population, k=1)[0].fitness\n",
    "        progress.append(top.values[0])\n",
    "    return progress, tools.selBest(population, k=10)"
   ]
  },
  {
   "cell_type": "code",
   "execution_count": null,
   "metadata": {},
   "outputs": [],
   "source": [
    "p, r = optimize(2, True)"
   ]
  },
  {
   "cell_type": "code",
   "execution_count": null,
   "metadata": {},
   "outputs": [],
   "source": [
    "plt.plot(p)"
   ]
  },
  {
   "cell_type": "code",
   "execution_count": null,
   "metadata": {},
   "outputs": [],
   "source": [
    "p, r = optimize(2, False)"
   ]
  },
  {
   "cell_type": "code",
   "execution_count": null,
   "metadata": {},
   "outputs": [],
   "source": [
    "plt.plot(p)"
   ]
  },
  {
   "cell_type": "code",
   "execution_count": null,
   "metadata": {},
   "outputs": [],
   "source": []
  }
 ],
 "metadata": {
  "kernelspec": {
   "display_name": "Python [conda env:analysis]",
   "language": "python",
   "name": "conda-env-analysis-py"
  },
  "language_info": {
   "codemirror_mode": {
    "name": "ipython",
    "version": 3
   },
   "file_extension": ".py",
   "mimetype": "text/x-python",
   "name": "python",
   "nbconvert_exporter": "python",
   "pygments_lexer": "ipython3",
   "version": "3.6.8"
  }
 },
 "nbformat": 4,
 "nbformat_minor": 2
}
