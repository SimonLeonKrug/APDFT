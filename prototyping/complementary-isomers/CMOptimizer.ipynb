{
 "cells": [
  {
   "cell_type": "markdown",
   "metadata": {},
   "source": [
    "Purpose:\n",
    "CM gradient optimisation of site similarity"
   ]
  },
  {
   "cell_type": "code",
   "execution_count": 6,
   "metadata": {},
   "outputs": [],
   "source": [
    "# dependencies\n",
    "from rdkit import Chem\n",
    "from rdkit.Chem import AllChem, ChemicalForceFields\n",
    "from rdkit.Chem import rdmolfiles\n",
    "\n",
    "import qml\n",
    "import ase\n",
    "import ase.calculators\n",
    "from ase.optimize import LBFGS\n",
    "\n",
    "import numpy as np\n",
    "\n",
    "import matplotlib.pyplot as plt\n",
    "import pyscf\n",
    "import pyscf.gto\n",
    "import pyscf.qmmm\n",
    "import pyscf.scf\n",
    "import pyscf.dft\n",
    "import pyscf.lib"
   ]
  },
  {
   "cell_type": "code",
   "execution_count": 22,
   "metadata": {},
   "outputs": [],
   "source": [
    "def distance_bn_nb(charges, positions, idxA, idxB):\n",
    "    size = 30\n",
    "    q = charges.copy()\n",
    "    q[[idxA, idxB]] = (5, 7)\n",
    "    a = qml.representations.generate_coulomb_matrix(q, positions, size=size, sorting='row-norm')\n",
    "    q = charges.copy()\n",
    "    q[[idxA, idxB]] = (7, 5)\n",
    "    b = qml.representations.generate_coulomb_matrix(q, positions, size=size, sorting='row-norm')\n",
    "    return np.linalg.norm(a-b)\n",
    "    \n",
    "class CMGapCalc(ase.calculators.calculator.Calculator):\n",
    "    implemented_properties = 'energy forces'.split()\n",
    "    \n",
    "    def __init__(self, pdbfile):\n",
    "        self._pdbfile = pdbfile\n",
    "        self._nevals = 0\n",
    "        self._damping = 1000\n",
    "    \n",
    "    def _do_E(self, positions):\n",
    "        ds = distance_bn_nb(c.nuclear_charges, positions, 4, 2)\n",
    "        \n",
    "        # add UFFs\n",
    "        self._ffmol = Chem.MolFromPDBFile(self._pdbfile, removeHs=False)\n",
    "        self._ffprop = ChemicalForceFields.MMFFGetMoleculeProperties(self._ffmol)\n",
    "        self._ff = ChemicalForceFields.MMFFGetMoleculeForceField(self._ffmol, self._ffprop)\n",
    "        conf = self._ffmol.GetConformer(0)\n",
    "        for atom in range(len(positions)):\n",
    "            conf.SetAtomPosition(atom, positions[atom])\n",
    "        uffE = self._ff.CalcEnergy()\n",
    "        \n",
    "        return uffE/self._damping + ds\n",
    "    \n",
    "    def get_potential_energy(self, atoms=None, force_consistent=False):\n",
    "        positions = atoms.get_positions()\n",
    "        return self._do_E(positions)\n",
    "    \n",
    "    def get_forces(self, atoms=None):\n",
    "        gradient = np.zeros(atoms.get_positions().shape)\n",
    "        delta = 0.05\n",
    "        positions = atoms.get_positions()\n",
    "        for dim in range(3):\n",
    "            for atom in range(len(atoms.get_positions())):\n",
    "                fwd = positions.copy()\n",
    "                fwd[atom, dim] += delta\n",
    "                bwd = positions.copy()\n",
    "                bwd[atom, dim] -= delta\n",
    "                gradient[atom, dim] = (self._do_E(fwd) - self._do_E(bwd))/(2*delta)\n",
    "        return -gradient\n",
    "                \n",
    "        "
   ]
  },
  {
   "cell_type": "code",
   "execution_count": null,
   "metadata": {},
   "outputs": [
    {
     "name": "stdout",
     "output_type": "stream",
     "text": [
      "       Step     Time          Energy         fmax\n",
      "*Force-consistent energies used in optimization.\n",
      "LBFGS:    0 09:27:47       27.514951*      30.2537\n",
      "LBFGS:    1 09:27:48       25.740770*      29.7575\n",
      "LBFGS:    2 09:27:49       23.662487*      29.7389\n",
      "LBFGS:    3 09:27:49       21.228340*      22.8563\n",
      "LBFGS:    4 09:27:51       19.616820*     309.9451\n"
     ]
    }
   ],
   "source": [
    "c = qml.Compound('../../dsgdb9nsd_050720.xyz')\n",
    "atm = ase.Atoms(numbers=c.nuclear_charges, positions=c.coordinates, calculator=CMGapCalc('../../dsgdb9nsd_050720.pdb'))\n",
    "atmref = ase.Atoms(numbers=c.nuclear_charges, positions=c.coordinates, calculator=CMGapCalc('../../dsgdb9nsd_050720.pdb'))\n",
    "dyn = LBFGS(atm, use_line_search=True,)\n",
    "dyn.run(fmax=0.25)"
   ]
  },
  {
   "cell_type": "code",
   "execution_count": null,
   "metadata": {},
   "outputs": [],
   "source": []
  }
 ],
 "metadata": {
  "kernelspec": {
   "display_name": "Python [conda env:analysis]",
   "language": "python",
   "name": "conda-env-analysis-py"
  },
  "language_info": {
   "codemirror_mode": {
    "name": "ipython",
    "version": 3
   },
   "file_extension": ".py",
   "mimetype": "text/x-python",
   "name": "python",
   "nbconvert_exporter": "python",
   "pygments_lexer": "ipython3",
   "version": "3.6.8"
  }
 },
 "nbformat": 4,
 "nbformat_minor": 4
}
