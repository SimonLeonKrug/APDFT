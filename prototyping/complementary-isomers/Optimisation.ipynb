{
 "cells": [
  {
   "cell_type": "code",
   "execution_count": 1,
   "metadata": {},
   "outputs": [
    {
     "name": "stdout",
     "output_type": "stream",
     "text": [
      "The history saving thread hit an unexpected error (DatabaseError('database disk image is malformed',)).History will not be written to the database.\n"
     ]
    }
   ],
   "source": [
    "import qml\n",
    "import numpy as np\n",
    "from qml.representations import generate_fchl_acsf\n",
    "from qml.kernels import get_atomic_local_kernel"
   ]
  },
  {
   "cell_type": "code",
   "execution_count": 2,
   "metadata": {},
   "outputs": [],
   "source": [
    "c = qml.data.compound.Compound('../../test/benzene.xyz')"
   ]
  },
  {
   "cell_type": "code",
   "execution_count": 23,
   "metadata": {},
   "outputs": [
    {
     "data": {
      "text/plain": [
       "1.8346251374335005"
      ]
     },
     "execution_count": 23,
     "metadata": {},
     "output_type": "execute_result"
    }
   ],
   "source": [
    "def distance_sites(repA, repB, siteA, siteB, ZA, ZB):\n",
    "    sigma = 1 # empirical\n",
    "    sliceA = np.array([repA])[:,siteA:siteA+1,:]\n",
    "    sliceB = np.array([repB])[:,siteB:siteB+1,:]\n",
    "    \n",
    "    inv_2sigma2 = -1.0 / (2 * sigma**2)\n",
    "    inv_sigma2 = -1.0 / (sigma**2)\n",
    "    \n",
    "    q = get_atomic_local_kernel(sliceA, sliceB, np.array([ZA[siteA:siteA+1]]), np.array([ZB[siteB:siteB+1]]), sigma)[0][0]\n",
    "    \n",
    "    # revert transformation\n",
    "    return np.log(-q/inv_sigma2)/inv_2sigma2\n",
    "\n",
    "def distance_bn_nb(c, idx_A, idx_B):\n",
    "    A = c.nuclear_charges.copy()\n",
    "    A[[idx_A, idx_B]] = (5, 7)\n",
    "    B = c.nuclear_charges.copy()\n",
    "    B[[idx_A, idx_B]] = (7, 5)\n",
    "    repA, gradA = generate_fchl_acsf(A, c.coordinates, gradients=True, pad=len(c.nuclear_charges), elements=range(1, 10))\n",
    "    repB, gradB = generate_fchl_acsf(B, c.coordinates, gradients=True, pad=len(c.nuclear_charges), elements=range(1, 10))\n",
    "    \n",
    "    return distance_sites(repA, repB, idx_A, idx_B, A, B)\n",
    "\n",
    "distance_bn_nb(c, 0, 11)"
   ]
  },
  {
   "cell_type": "code",
   "execution_count": null,
   "metadata": {},
   "outputs": [],
   "source": [
    "dis"
   ]
  }
 ],
 "metadata": {
  "kernelspec": {
   "display_name": "Python [conda env:qml-dev]",
   "language": "python",
   "name": "conda-env-qml-dev-py"
  },
  "language_info": {
   "codemirror_mode": {
    "name": "ipython",
    "version": 3
   },
   "file_extension": ".py",
   "mimetype": "text/x-python",
   "name": "python",
   "nbconvert_exporter": "python",
   "pygments_lexer": "ipython3",
   "version": "3.6.9"
  }
 },
 "nbformat": 4,
 "nbformat_minor": 2
}
