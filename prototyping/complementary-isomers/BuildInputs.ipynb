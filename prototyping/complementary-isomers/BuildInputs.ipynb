{
 "cells": [
  {
   "cell_type": "code",
   "execution_count": 3,
   "metadata": {},
   "outputs": [],
   "source": [
    "import qml\n",
    "import pandas as pd\n",
    "basepath = '/mnt/c/Users/guido/data/qm9/'"
   ]
  },
  {
   "cell_type": "code",
   "execution_count": 9,
   "metadata": {},
   "outputs": [],
   "source": [
    "fns = pd.read_csv(basepath + 'index', names=['fn']).fn.values"
   ]
  },
  {
   "cell_type": "code",
   "execution_count": 18,
   "metadata": {},
   "outputs": [
    {
     "name": "stdout",
     "output_type": "stream",
     "text": [
      "#UHF 6-31G\n",
      "\n",
      "run\n",
      "\n",
      "0 1\n",
      "6 -0.096928 1.526612 -0.035941\n",
      "6 0.014332 0.019511 -0.007568\n",
      "6 1.337443 -0.669527 -0.219426\n",
      "6 0.694524 -0.690816 1.156837\n",
      "7 1.247343 0.007590 2.274358\n",
      "6 1.125697 -0.710024 3.455691\n",
      "8 1.569266 -0.383706 4.536927\n",
      "6 0.354115 -1.928565 3.078038\n",
      "6 0.127371 -1.916761 1.759312\n",
      "1 0.804627 2.008041 0.355044\n",
      "1 -0.240741 1.883268 -1.061282\n",
      "1 -0.943491 1.872948 0.565220\n",
      "1 -0.854614 -0.501574 -0.401470\n",
      "1 1.377329 -1.596116 -0.781658\n",
      "1 2.217181 -0.042389 -0.328505\n",
      "1 1.876277 0.789143 2.207150\n",
      "1 0.064258 -2.675443 3.802389\n",
      "1 -0.403342 -2.654290 1.170755\n",
      "\n"
     ]
    }
   ],
   "source": [
    "def get_inputfile(charges, coordinates):\n",
    "    lines = []\n",
    "    for idx in range(len(charges)):\n",
    "        lines.append('%d %f %f %f' % (charges[idx], coordinates[idx, 0], coordinates[idx, 1], coordinates[idx, 2]))\n",
    "    \n",
    "    return '''#UHF 6-31G\n",
    "\n",
    "run\n",
    "\n",
    "0 1\n",
    "%s\n",
    "''' % '\\n'.join(lines)\n",
    "\n",
    "def do_molecule(fn):\n",
    "    c = qml.Compound(fn)\n",
    "    midfile = get_inputfile(c.nuclear_charges, c.coordinates)\n",
    "    \n",
    "    \n",
    "    \n",
    "print (do_molecule(basepath + fns[0]))"
   ]
  },
  {
   "cell_type": "code",
   "execution_count": null,
   "metadata": {},
   "outputs": [],
   "source": []
  }
 ],
 "metadata": {
  "kernelspec": {
   "display_name": "Python [conda env:analysis]",
   "language": "python",
   "name": "conda-env-analysis-py"
  },
  "language_info": {
   "codemirror_mode": {
    "name": "ipython",
    "version": 3
   },
   "file_extension": ".py",
   "mimetype": "text/x-python",
   "name": "python",
   "nbconvert_exporter": "python",
   "pygments_lexer": "ipython3",
   "version": "3.6.8"
  }
 },
 "nbformat": 4,
 "nbformat_minor": 2
}
