{
 "cells": [
  {
   "cell_type": "code",
   "execution_count": 1,
   "metadata": {},
   "outputs": [
    {
     "name": "stdout",
     "output_type": "stream",
     "text": [
      "The history saving thread hit an unexpected error (DatabaseError('database disk image is malformed',)).History will not be written to the database.\n"
     ]
    }
   ],
   "source": [
    "import qml\n",
    "import numpy as np"
   ]
  },
  {
   "cell_type": "code",
   "execution_count": 2,
   "metadata": {},
   "outputs": [],
   "source": [
    "c1 = qml.Compound('../../test/c20-opposite.xyz')\n",
    "c2 = qml.Compound('../../test/c20-other.xyz')"
   ]
  },
  {
   "cell_type": "code",
   "execution_count": 13,
   "metadata": {},
   "outputs": [],
   "source": [
    "r1 = qml.fchl.generate_representation(c1.coordinates, c1.nuclear_charges, max_size=23)\n",
    "r2 = qml.fchl.generate_representation(c2.coordinates, c2.nuclear_charges, max_size=23)"
   ]
  },
  {
   "cell_type": "code",
   "execution_count": 14,
   "metadata": {},
   "outputs": [
    {
     "data": {
      "text/plain": [
       "array([0.9998336 , 0.99869457, 0.99869456, 0.9998336 , 0.99412284,\n",
       "       0.99999999, 0.99555625, 0.99570452, 0.99320025, 0.99570451,\n",
       "       0.99555625, 0.99999999, 0.99435597, 0.63519233, 0.99435592,\n",
       "       0.63523849, 0.99306667, 0.99869434, 0.99869433, 0.99306668,\n",
       "       0.01198102, 0.01198102, 0.01198102])"
      ]
     },
     "execution_count": 14,
     "metadata": {},
     "output_type": "execute_result"
    }
   ],
   "source": [
    "b = qml.fchl.get_atomic_kernels(r1, r2, [0.5,])[0][0]\n",
    "b"
   ]
  },
  {
   "cell_type": "code",
   "execution_count": 33,
   "metadata": {},
   "outputs": [],
   "source": [
    "r1 = qml.fchl.generate_representation(c1.coordinates, c1.nuclear_charges, max_size=23)\n",
    "r2 = qml.fchl.generate_representation(c2.coordinates, c2.nuclear_charges, max_size=23)"
   ]
  },
  {
   "cell_type": "code",
   "execution_count": 34,
   "metadata": {},
   "outputs": [
    {
     "data": {
      "text/plain": [
       "array([0.9998336 , 0.99869457, 0.99869456, 0.9998336 , 0.99412284,\n",
       "       0.99999999, 0.99555625, 0.99570452, 0.99320025, 0.99570451,\n",
       "       0.99555625, 0.99999999, 0.99435597, 0.63519233, 0.99435592,\n",
       "       0.63523849, 0.99306667, 0.99869434, 0.99869433, 0.99306668,\n",
       "       0.01198102, 0.01198102, 0.01198102])"
      ]
     },
     "execution_count": 34,
     "metadata": {},
     "output_type": "execute_result"
    }
   ],
   "source": [
    "qml.fchl.get_atomic_kernels(r1, r2, [0.5,])[0][0]"
   ]
  },
  {
   "cell_type": "code",
   "execution_count": 20,
   "metadata": {},
   "outputs": [
    {
     "data": {
      "text/plain": [
       "False"
      ]
     },
     "execution_count": 20,
     "metadata": {},
     "output_type": "execute_result"
    }
   ],
   "source": [
    "np.array_equal(a, b)"
   ]
  },
  {
   "cell_type": "code",
   "execution_count": 35,
   "metadata": {},
   "outputs": [
    {
     "data": {
      "text/plain": [
       "array([0.9998336 , 0.99869457, 0.99869456, 0.9998336 , 0.99412284,\n",
       "       0.99999999, 0.99555625, 0.99570452, 0.99320025, 0.99570451,\n",
       "       0.99555625, 0.99999999, 0.99435597, 0.63519233, 0.99435592,\n",
       "       0.63523849, 0.99306667, 0.99869434, 0.99869433, 0.99306668,\n",
       "              inf,        inf,        inf])"
      ]
     },
     "execution_count": 35,
     "metadata": {},
     "output_type": "execute_result"
    }
   ],
   "source": [
    "a"
   ]
  },
  {
   "cell_type": "code",
   "execution_count": 36,
   "metadata": {},
   "outputs": [
    {
     "data": {
      "text/plain": [
       "array([0.9998336 , 0.99869457, 0.99869456, 0.9998336 , 0.99412284,\n",
       "       0.99999999, 0.99555625, 0.99570452, 0.99320025, 0.99570451,\n",
       "       0.99555625, 0.99999999, 0.99435597, 0.63519233, 0.99435592,\n",
       "       0.63523849, 0.99306667, 0.99869434, 0.99869433, 0.99306668,\n",
       "       0.01198102, 0.01198102, 0.01198102])"
      ]
     },
     "execution_count": 36,
     "metadata": {},
     "output_type": "execute_result"
    }
   ],
   "source": [
    "b"
   ]
  },
  {
   "cell_type": "code",
   "execution_count": null,
   "metadata": {},
   "outputs": [],
   "source": []
  }
 ],
 "metadata": {
  "kernelspec": {
   "display_name": "Python [conda env:qml-env]",
   "language": "python",
   "name": "conda-env-qml-env-py"
  },
  "language_info": {
   "codemirror_mode": {
    "name": "ipython",
    "version": 3
   },
   "file_extension": ".py",
   "mimetype": "text/x-python",
   "name": "python",
   "nbconvert_exporter": "python",
   "pygments_lexer": "ipython3",
   "version": "3.6.8"
  }
 },
 "nbformat": 4,
 "nbformat_minor": 2
}
