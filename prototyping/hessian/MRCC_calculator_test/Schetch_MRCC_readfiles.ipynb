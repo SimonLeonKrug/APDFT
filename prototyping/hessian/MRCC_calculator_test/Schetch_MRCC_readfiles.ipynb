{
 "cells": [
  {
   "cell_type": "code",
   "execution_count": 62,
   "metadata": {},
   "outputs": [],
   "source": [
    "import numpy as np\n",
    "import sys \n",
    "import os\n",
    "sys.path.append('/home/giorgiod/Documents/APDFT/dep')\n",
    "sys.path.append('/home/giorgiod/Documents/APDFT/src')"
   ]
  },
  {
   "cell_type": "code",
   "execution_count": 63,
   "metadata": {
    "scrolled": true
   },
   "outputs": [],
   "source": [
    "from apdft import Calculator"
   ]
  },
  {
   "cell_type": "code",
   "execution_count": 64,
   "metadata": {},
   "outputs": [],
   "source": [
    "calc_path = '/home/giorgiod/MRCC_interface/Diatomics/from_nn_opt_ccsd_ccpvtz_77_to_68_A5_G5/A_2_G_0/'\n",
    "proj_path= '/home/giorgiod/MRCC_interface/Diatomics/from_nn_opt_ccsd_ccpvtz_77_to_68_A5_G5/'\n",
    "grid = Calculator.MrccCalculator.get_grid(None, None, calc_path)"
   ]
  },
  {
   "cell_type": "code",
   "execution_count": 65,
   "metadata": {},
   "outputs": [
    {
     "name": "stdout",
     "output_type": "stream",
     "text": [
      "<class 'tuple'>\n"
     ]
    },
    {
     "data": {
      "text/plain": [
       "((58032, 3), (58032,))"
      ]
     },
     "execution_count": 65,
     "metadata": {},
     "output_type": "execute_result"
    }
   ],
   "source": [
    "print (type(grid))\n",
    "grid[0].shape, grid[1].shape #grid=(array[[x0,y0,z0],...,[xN,yN,zN]], array[w0,...wN])"
   ]
  },
  {
   "cell_type": "code",
   "execution_count": 66,
   "metadata": {},
   "outputs": [],
   "source": [
    "ccdensity = Calculator.MrccCalculator.density_on_grid(calc_path + 'DENSITY', grid[0])"
   ]
  },
  {
   "cell_type": "code",
   "execution_count": 67,
   "metadata": {},
   "outputs": [
    {
     "data": {
      "text/plain": [
       "13.999999245167064"
      ]
     },
     "execution_count": 67,
     "metadata": {},
     "output_type": "execute_result"
    }
   ],
   "source": [
    "(ccdensity * grid[1]).sum()"
   ]
  },
  {
   "cell_type": "code",
   "execution_count": 68,
   "metadata": {},
   "outputs": [
    {
     "name": "stdout",
     "output_type": "stream",
     "text": [
      "{\"filename\": \"/home/giorgiod/MRCC_interface/Diatomics/from_nn_opt_ccsd_ccpvtz_77_to_68_A5_G5/A_2_G_0//run.log\", \"level\": \"error\", \"event\": \"Unable to read energy from log file.\", \"timestamp\": \"2019-06-12 14:10\"}\n"
     ]
    },
    {
     "data": {
      "text/plain": [
       "0"
      ]
     },
     "execution_count": 68,
     "metadata": {},
     "output_type": "execute_result"
    }
   ],
   "source": [
    "Calculator.MrccCalculator.get_total_energy(calc_path)"
   ]
  },
  {
   "cell_type": "code",
   "execution_count": 69,
   "metadata": {},
   "outputs": [],
   "source": [
    "def parse_energy_cc(log_file):\n",
    "    \"\"\"Parse the couple cluster energy from an MRCC output file\"\"\"\n",
    "    with open(log_file,'r') as logf:\n",
    "        while True:\n",
    "            line=logf.readline()\n",
    "            if \"Final results:\" in line:\n",
    "                good_line=logf.readline()\n",
    "                if \"Total CCSD energy\" in good_line:\n",
    "                    for x in good_line.split(' '):\n",
    "                        try:\n",
    "                            float(x)\n",
    "                            return (float(x))\n",
    "                        except:\n",
    "                            pass    "
   ]
  },
  {
   "cell_type": "code",
   "execution_count": 70,
   "metadata": {},
   "outputs": [
    {
     "name": "stdout",
     "output_type": "stream",
     "text": [
      "-109.381056423703\n"
     ]
    }
   ],
   "source": [
    "gl=Calculator.MrccCalculator.parse_energy_cc_Mrcc(calc_path+'/run.log')\n",
    "print(gl)"
   ]
  },
  {
   "cell_type": "code",
   "execution_count": 71,
   "metadata": {},
   "outputs": [],
   "source": [
    "from apdft.physics import Coulomb"
   ]
  },
  {
   "cell_type": "code",
   "execution_count": 72,
   "metadata": {},
   "outputs": [],
   "source": [
    "def get_energy(proj_path,ao,go):\n",
    "    return (parse_energy_cc(\"{}A_{}_G_{}/run.log\".format(proj_path,ao,go)))"
   ]
  },
  {
   "cell_type": "code",
   "execution_count": 73,
   "metadata": {},
   "outputs": [
    {
     "data": {
      "text/plain": [
       "-109.379978610182"
      ]
     },
     "execution_count": 73,
     "metadata": {},
     "output_type": "execute_result"
    }
   ],
   "source": [
    "get_energy(proj_path,2,1)"
   ]
  },
  {
   "cell_type": "code",
   "execution_count": 74,
   "metadata": {},
   "outputs": [],
   "source": [
    "dX= 0.03779452267842504  # bohrs =.02 angstrom\n",
    "dL=0.05  ## delta Lambda = 0.05"
   ]
  },
  {
   "cell_type": "code",
   "execution_count": 75,
   "metadata": {},
   "outputs": [],
   "source": [
    "k= (get_energy(proj_path,0,1)+get_energy(proj_path,0,-1)-2*get_energy(proj_path,0,0))/dX**2"
   ]
  },
  {
   "cell_type": "code",
   "execution_count": 76,
   "metadata": {},
   "outputs": [],
   "source": [
    "#### constants #####\n",
    "angstorm=1.889726133921252\n",
    "N_mass=25532.936684486547\n",
    "centimeter=188972613.39212522\n",
    "light_speed= 137.03599975303575\n",
    "C_mass=21893.98614768941\n",
    "O_mass=29165.124304476205\n",
    "mu_nn=N_mass/2"
   ]
  },
  {
   "cell_type": "code",
   "execution_count": 77,
   "metadata": {},
   "outputs": [],
   "source": [
    "def to_cm(k,mu=mu_nn):\n",
    "    return (k/mu)**0.5*centimeter/light_speed/(2*np.pi)"
   ]
  },
  {
   "cell_type": "code",
   "execution_count": 78,
   "metadata": {},
   "outputs": [
    {
     "data": {
      "text/plain": [
       "2445.175259775592"
      ]
     },
     "execution_count": 78,
     "metadata": {},
     "output_type": "execute_result"
    }
   ],
   "source": [
    "to_cm(k) ### ok good job"
   ]
  },
  {
   "cell_type": "code",
   "execution_count": 79,
   "metadata": {},
   "outputs": [],
   "source": [
    "def common_grid(go):\n",
    "    return (Calculator.MrccCalculator.get_grid(None, None, proj_path+'A_0_G_{}/'.format(go)))"
   ]
  },
  {
   "cell_type": "code",
   "execution_count": 80,
   "metadata": {},
   "outputs": [],
   "source": [
    "####### alchemy expantion ####  COMMON_GRID IS TO BE DEFINED FOR EACH GEOMETRY  \n",
    "def get_ccdensity(ao,go):\n",
    "    return Calculator.MrccCalculator.density_on_grid(\"{}A_{}_G_{}/DENSITY\".format(proj_path,ao,go),common_grid(go)[0])"
   ]
  },
  {
   "cell_type": "code",
   "execution_count": 81,
   "metadata": {},
   "outputs": [
    {
     "data": {
      "text/plain": [
       "array([0., 0., 0., ..., 0., 0., 0.])"
      ]
     },
     "execution_count": 81,
     "metadata": {},
     "output_type": "execute_result"
    }
   ],
   "source": [
    "get_ccdensity(-2,-2)-get_ccdensity(2,-2)"
   ]
  },
  {
   "cell_type": "code",
   "execution_count": 82,
   "metadata": {},
   "outputs": [
    {
     "data": {
      "text/plain": [
       "-109.379978610182"
      ]
     },
     "execution_count": 82,
     "metadata": {},
     "output_type": "execute_result"
    }
   ],
   "source": [
    "get_energy(proj_path,0,1)"
   ]
  },
  {
   "cell_type": "code",
   "execution_count": 83,
   "metadata": {},
   "outputs": [],
   "source": [
    "from apdft.physics import Coulomb"
   ]
  },
  {
   "cell_type": "code",
   "execution_count": 84,
   "metadata": {},
   "outputs": [],
   "source": [
    "### very poor code \n",
    "nn_minR=1.093635097483\n",
    "atoms=np.asarray([7.,7.])\n",
    "def coordinates(go):\n",
    "    return np.asarray([[0.,0.,0.],[ nn_minR+go*dX,0.,0.]])\n",
    "target=np.asarray([6.,8.])"
   ]
  },
  {
   "cell_type": "code",
   "execution_count": 85,
   "metadata": {},
   "outputs": [
    {
     "name": "stdout",
     "output_type": "stream",
     "text": [
      "0.4838699963890157\n",
      "0.4838699963890157\n"
     ]
    }
   ],
   "source": [
    "print(Coulomb.nuclei_nuclei(coordinates(0),atoms)/49)\n",
    "print(Coulomb.nuclei_nuclei(coordinates(0),target)/48)"
   ]
  },
  {
   "cell_type": "code",
   "execution_count": 90,
   "metadata": {},
   "outputs": [],
   "source": [
    "from apdft.physics import angstrom"
   ]
  },
  {
   "cell_type": "code",
   "execution_count": 100,
   "metadata": {},
   "outputs": [],
   "source": [
    "ds = []\n",
    "for site in coordinates(0):\n",
    "    ds.append(np.linalg.norm((common_grid(0)[0] - site)*angstrom,axis=1))\n",
    "\n",
    "# get target predictions\n",
    "\n",
    "deltaV = np.zeros(len(common_grid(0)[1]))\n",
    "for atomidx in range(len(atoms)):\n",
    "    deltaV += (target[atomidx]-atoms[atomidx]) / ds[atomidx]\n"
   ]
  },
  {
   "cell_type": "markdown",
   "metadata": {},
   "source": [
    "$\\tilde{\\rho} = \\rho^0 +\\frac{1}{2}\\rho' +\\frac{1}{6}\\rho \" + \\frac{1}{24}\\rho ^{(3)}+ \\frac{1}{120}\\rho ^{(4)} $ \n",
    "\n",
    "## 5point coefficients <br>\n",
    "0  :      0    :  1    :  0   :     0  <br>\n",
    "1/12 :\t−2/3 :\t0 \t : 2/3 :\t−1/12    for first deriv <br>\n",
    "−1/12 :\t4/3 :\t−5/2 : 4/3 : −1/12  for second deriv <br>\n",
    "−1/2 :\t 1 \t:    0 \t:  −1    :  1/2   for third deriv <br>\n",
    " 1  :\t−4  :\t6 \t:  −4   : 1       for fourth deriv <br>\n",
    " \n",
    " "
   ]
  },
  {
   "cell_type": "code",
   "execution_count": 122,
   "metadata": {},
   "outputs": [
    {
     "name": "stdout",
     "output_type": "stream",
     "text": [
      "[ 0.01527778 -0.10277778  0.63333333  0.48055556 -0.02638889] 1.0000000000000002\n",
      "[ 0.06410256 -0.12820513  0.          1.12820513 -0.06410256] 0.9999999999999998\n"
     ]
    }
   ],
   "source": [
    "coeff0=np.asarray([0,0,1,0,0])\n",
    "coeff1=np.asarray([1/12,-2/3,0,2/3,-1/12])\n",
    "coeff2=np.asarray([-1/12 , 4/3 , -5/2 , 4/3 , -1/12])\n",
    "coeff3=np.asarray([-1/2 , 1 , 0 , -1 , 1/2])\n",
    "coeff4=np.asarray([1 ,-4 , 6 ,-4 , 1])\n",
    "coeff_tilda=coeff0+1/2*coeff1+1/6*coeff2+1/24*coeff3+1/120*coeff4\n",
    "print (coeff_tilda, np.sum(coeff_tilda))\n",
    "coeff_taylor=coeff0+coeff1+1/2*coeff2+1/26*coeff3+1/24*coeff4\n",
    "print (coeff_taylor, np.sum(coeff_taylor))"
   ]
  },
  {
   "cell_type": "code",
   "execution_count": 107,
   "metadata": {},
   "outputs": [
    {
     "ename": "SyntaxError",
     "evalue": "invalid syntax (<ipython-input-107-f71d4dee1edb>, line 2)",
     "output_type": "error",
     "traceback": [
      "\u001b[0;36m  File \u001b[0;32m\"<ipython-input-107-f71d4dee1edb>\"\u001b[0;36m, line \u001b[0;32m2\u001b[0m\n\u001b[0;31m    plt.scatter(common_grid(0)[0]deltaV,projection='3d')\u001b[0m\n\u001b[0m                                      ^\u001b[0m\n\u001b[0;31mSyntaxError\u001b[0m\u001b[0;31m:\u001b[0m invalid syntax\n"
     ]
    }
   ],
   "source": []
  }
 ],
 "metadata": {
  "kernelspec": {
   "display_name": "Python 3",
   "language": "python",
   "name": "python3"
  },
  "language_info": {
   "codemirror_mode": {
    "name": "ipython",
    "version": 3
   },
   "file_extension": ".py",
   "mimetype": "text/x-python",
   "name": "python",
   "nbconvert_exporter": "python",
   "pygments_lexer": "ipython3",
   "version": "3.6.7"
  }
 },
 "nbformat": 4,
 "nbformat_minor": 2
}
