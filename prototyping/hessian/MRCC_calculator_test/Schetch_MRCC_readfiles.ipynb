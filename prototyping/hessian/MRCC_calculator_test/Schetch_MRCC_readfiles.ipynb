{
 "cells": [
  {
   "cell_type": "code",
   "execution_count": 18,
   "metadata": {},
   "outputs": [],
   "source": [
    "import numpy as np\n",
    "import sys \n",
    "import os\n",
    "sys.path.append('/home/giorgiod/Documents/APDFT/dep')\n",
    "sys.path.append('/home/giorgiod/Documents/APDFT/src')"
   ]
  },
  {
   "cell_type": "code",
   "execution_count": 19,
   "metadata": {
    "scrolled": true
   },
   "outputs": [],
   "source": [
    "from apdft import Calculator"
   ]
  },
  {
   "cell_type": "code",
   "execution_count": 20,
   "metadata": {},
   "outputs": [],
   "source": [
    "calc_path = '/home/giorgiod/MRCC_interface/Diatomics/from_co_opt_ccsd_ccpvtz_68_to_77_A5_G5/A_2_G_0/'\n",
    "proj_path= '/home/giorgiod/MRCC_interface/Diatomics/from_co_opt_ccsd_ccpvtz_68_to_77_A5_G5/'\n",
    "grid = Calculator.MrccCalculator.get_grid(None, None, calc_path)"
   ]
  },
  {
   "cell_type": "code",
   "execution_count": 21,
   "metadata": {},
   "outputs": [
    {
     "name": "stdout",
     "output_type": "stream",
     "text": [
      "<class 'tuple'>\n"
     ]
    },
    {
     "data": {
      "text/plain": [
       "((58060, 3), (58060,))"
      ]
     },
     "execution_count": 21,
     "metadata": {},
     "output_type": "execute_result"
    }
   ],
   "source": [
    "print (type(grid))\n",
    "grid[0].shape, grid[1].shape #grid=(array[[x0,y0,z0],...,[xN,yN,zN]], array[w0,...wN])"
   ]
  },
  {
   "cell_type": "code",
   "execution_count": 26,
   "metadata": {},
   "outputs": [],
   "source": [
    "ccdensity = Calculator.MrccCalculator.density_on_grid(calc_path + 'DENSITY', grid[0])"
   ]
  },
  {
   "cell_type": "code",
   "execution_count": 27,
   "metadata": {},
   "outputs": [
    {
     "data": {
      "text/plain": [
       "13.999997492775165"
      ]
     },
     "execution_count": 27,
     "metadata": {},
     "output_type": "execute_result"
    }
   ],
   "source": [
    "(ccdensity * grid[1]).sum()"
   ]
  },
  {
   "cell_type": "code",
   "execution_count": 28,
   "metadata": {},
   "outputs": [
    {
     "name": "stdout",
     "output_type": "stream",
     "text": [
      "{\"filename\": \"/home/giorgiod/MRCC_interface/Diatomics/from_co_opt_ccsd_ccpvtz_68_to_77_A5_G5/A_2_G_0//run.log\", \"level\": \"error\", \"event\": \"Unable to read energy from log file.\", \"timestamp\": \"2019-06-14 09:32\"}\n"
     ]
    },
    {
     "data": {
      "text/plain": [
       "0"
      ]
     },
     "execution_count": 28,
     "metadata": {},
     "output_type": "execute_result"
    }
   ],
   "source": [
    "Calculator.MrccCalculator.get_total_energy(calc_path)"
   ]
  },
  {
   "cell_type": "code",
   "execution_count": 29,
   "metadata": {},
   "outputs": [],
   "source": [
    "def parse_energy_cc(log_file):\n",
    "    \"\"\"Parse the couple cluster energy from an MRCC output file\"\"\"\n",
    "    with open(log_file,'r') as logf:\n",
    "        while True:\n",
    "            line=logf.readline()\n",
    "            if \"Final results:\" in line:\n",
    "                good_line=logf.readline()\n",
    "                if \"Total CCSD energy\" in good_line:\n",
    "                    for x in good_line.split(' '):\n",
    "                        try:\n",
    "                            float(x)\n",
    "                            return (float(x))\n",
    "                        except:\n",
    "                            pass    "
   ]
  },
  {
   "cell_type": "code",
   "execution_count": 30,
   "metadata": {},
   "outputs": [
    {
     "name": "stdout",
     "output_type": "stream",
     "text": [
      "-113.952850161528\n"
     ]
    }
   ],
   "source": [
    "gl=Calculator.MrccCalculator.parse_energy_cc_Mrcc(calc_path+'/run.log')\n",
    "print(gl)"
   ]
  },
  {
   "cell_type": "code",
   "execution_count": 31,
   "metadata": {},
   "outputs": [],
   "source": [
    "from apdft.physics import Coulomb"
   ]
  },
  {
   "cell_type": "code",
   "execution_count": 32,
   "metadata": {},
   "outputs": [],
   "source": [
    "def get_energy(proj_path,ao,go):\n",
    "    return (parse_energy_cc(\"{}A_{}_G_{}/run.log\".format(proj_path,ao,go)))"
   ]
  },
  {
   "cell_type": "code",
   "execution_count": 33,
   "metadata": {},
   "outputs": [
    {
     "data": {
      "text/plain": [
       "False"
      ]
     },
     "execution_count": 33,
     "metadata": {},
     "output_type": "execute_result"
    }
   ],
   "source": [
    "not 'Schetch_MRCC_readfiles.ipynb' in os.listdir('.')"
   ]
  },
  {
   "cell_type": "code",
   "execution_count": 34,
   "metadata": {},
   "outputs": [
    {
     "data": {
      "text/plain": [
       "-113.952527910755"
      ]
     },
     "execution_count": 34,
     "metadata": {},
     "output_type": "execute_result"
    }
   ],
   "source": [
    "get_energy(proj_path,2,1)"
   ]
  },
  {
   "cell_type": "code",
   "execution_count": 56,
   "metadata": {},
   "outputs": [],
   "source": [
    "dX= 0.03779452267842504  # bohrs \n",
    "dXa=.02               # angstroms\n",
    "dL=0.05  ## delta Lambda = 0.05"
   ]
  },
  {
   "cell_type": "code",
   "execution_count": 36,
   "metadata": {},
   "outputs": [],
   "source": [
    "k= (get_energy(proj_path,0,1)+get_energy(proj_path,0,-1)-2*get_energy(proj_path,0,0))/dX**2"
   ]
  },
  {
   "cell_type": "code",
   "execution_count": 38,
   "metadata": {},
   "outputs": [],
   "source": [
    "#### constants #####\n",
    "angstorm=1.889726133921252\n",
    "N_mass=25532.936684486547\n",
    "centimeter=188972613.39212522\n",
    "light_speed= 137.03599975303575\n",
    "C_mass=21893.98614768941\n",
    "O_mass=29165.124304476205\n",
    "mu_nn=N_mass/2\n",
    "mu_co=C_mass*O_mass/(C_mass+O_mass)"
   ]
  },
  {
   "cell_type": "code",
   "execution_count": 39,
   "metadata": {},
   "outputs": [],
   "source": [
    "def to_cm(k,mu=mu_co):\n",
    "    return (k/mu)**0.5*centimeter/light_speed/(2*np.pi)"
   ]
  },
  {
   "cell_type": "code",
   "execution_count": 40,
   "metadata": {},
   "outputs": [
    {
     "data": {
      "text/plain": [
       "2241.120735039024"
      ]
     },
     "execution_count": 40,
     "metadata": {},
     "output_type": "execute_result"
    }
   ],
   "source": [
    "to_cm(k) ### ok good job"
   ]
  },
  {
   "cell_type": "code",
   "execution_count": 41,
   "metadata": {},
   "outputs": [],
   "source": [
    "def common_grid(go):\n",
    "    return (Calculator.MrccCalculator.get_grid(None, None, proj_path+'A_0_G_{}/'.format(go)))"
   ]
  },
  {
   "cell_type": "code",
   "execution_count": 42,
   "metadata": {},
   "outputs": [],
   "source": [
    "####### alchemy expantion ####  COMMON_GRID IS TO BE DEFINED FOR EACH GEOMETRY  \n",
    "def get_ccdensity(ao,go):\n",
    "    return Calculator.MrccCalculator.density_on_grid(\"{}A_{}_G_{}/DENSITY\".format(proj_path,ao,go),common_grid(go)[0])"
   ]
  },
  {
   "cell_type": "code",
   "execution_count": 43,
   "metadata": {},
   "outputs": [
    {
     "data": {
      "text/plain": [
       "array([2.94618559e-22, 3.79179046e-22, 5.17586133e-22, ...,\n",
       "       6.34885971e-27, 3.95003423e-27, 2.96783422e-27])"
      ]
     },
     "execution_count": 43,
     "metadata": {},
     "output_type": "execute_result"
    }
   ],
   "source": [
    "get_ccdensity(-2,-2)-get_ccdensity(2,-2)"
   ]
  },
  {
   "cell_type": "code",
   "execution_count": 44,
   "metadata": {},
   "outputs": [
    {
     "data": {
      "text/plain": [
       "-113.162330773499"
      ]
     },
     "execution_count": 44,
     "metadata": {},
     "output_type": "execute_result"
    }
   ],
   "source": [
    "get_energy(proj_path,0,1)"
   ]
  },
  {
   "cell_type": "code",
   "execution_count": 45,
   "metadata": {},
   "outputs": [],
   "source": [
    "from apdft.physics import Coulomb"
   ]
  },
  {
   "cell_type": "code",
   "execution_count": 57,
   "metadata": {},
   "outputs": [],
   "source": [
    "### very poor code \n",
    "co_minR=1.125614241653 # angstrom\n",
    "atoms=np.asarray([6.,8.])\n",
    "def coordinates(go): ### angstrom \n",
    "    return np.asarray([[0.,0.,0.],[ co_minR+go*dXa,0.,0.]])\n",
    "target=np.asarray([7.,7.])"
   ]
  },
  {
   "cell_type": "code",
   "execution_count": 50,
   "metadata": {},
   "outputs": [
    {
     "name": "stdout",
     "output_type": "stream",
     "text": [
      "0.4701230591156049\n",
      "0.4701230591156049\n"
     ]
    }
   ],
   "source": [
    "print(Coulomb.nuclei_nuclei(coordinates(0),atoms)/48)\n",
    "print(Coulomb.nuclei_nuclei(coordinates(0),target)/49)"
   ]
  },
  {
   "cell_type": "code",
   "execution_count": 58,
   "metadata": {},
   "outputs": [
    {
     "data": {
      "text/plain": [
       "1.8897261254578281"
      ]
     },
     "execution_count": 58,
     "metadata": {},
     "output_type": "execute_result"
    }
   ],
   "source": [
    "from apdft.physics import angstrom\n",
    "angstrom\n"
   ]
  },
  {
   "cell_type": "code",
   "execution_count": 68,
   "metadata": {},
   "outputs": [
    {
     "name": "stdout",
     "output_type": "stream",
     "text": [
      "[ 0.00297449  0.00292255  0.00283501 ... -0.00253396 -0.00259122\n",
      " -0.00262486]\n"
     ]
    }
   ],
   "source": [
    "ds = []\n",
    "for site in coordinates(0):\n",
    "    ds.append(np.linalg.norm((common_grid(0)[0] - site)*angstrom,axis=1))\n",
    "\n",
    "# get target predictions\n",
    "\n",
    "deltaV0 = np.zeros(len(common_grid(0)[1]))\n",
    "for atomidx in range(len(atoms)):\n",
    "    deltaV0 += (target[atomidx]-atoms[atomidx]) / ds[atomidx]\n",
    "print (deltaV0)\n",
    "def deltaV(go):\n",
    "    ds = []\n",
    "    for site in coordinates(go):\n",
    "        ds.append(np.linalg.norm((common_grid(go)[0] - site)*angstrom,axis=1))\n",
    "                #  grid, coordinates in angstrom * 1.88 -> bohr (au) for Hamiltonian calcs.\n",
    "    deltaV = np.zeros(len(common_grid(go)[1]))\n",
    "    for atomidx in range(len(atoms)):\n",
    "        deltaV += (target[atomidx]-atoms[atomidx]) / ds[atomidx]\n",
    "    return (deltaV)\n"
   ]
  },
  {
   "cell_type": "markdown",
   "metadata": {},
   "source": [
    "$\\tilde{\\rho} = \\rho^0 +\\frac{1}{2}\\rho' +\\frac{1}{6}\\rho \" + \\frac{1}{24}\\rho ^{(3)}+ \\frac{1}{120}\\rho ^{(4)} $ \n",
    "\n",
    "## 5point coefficients <br>\n",
    "0  :      0    :  1    :  0   :     0  <br>\n",
    "1/12 :\t−2/3 :\t0 \t : 2/3 :\t−1/12    for first deriv <br>\n",
    "−1/12 :\t4/3 :\t−5/2 : 4/3 : −1/12  for second deriv <br>\n",
    "−1/2 :\t 1 \t:    0 \t:  −1    :  1/2   for third deriv <br>\n",
    " 1  :\t−4  :\t6 \t:  −4   : 1       for fourth deriv <br>\n",
    " \n",
    " "
   ]
  },
  {
   "cell_type": "code",
   "execution_count": 73,
   "metadata": {},
   "outputs": [
    {
     "name": "stdout",
     "output_type": "stream",
     "text": [
      "[ 0.01527778 -0.10277778  0.63333333  0.48055556 -0.02638889] 1.0000000000000002\n",
      "[ 0.06410256 -0.12820513  0.          1.12820513 -0.06410256] 0.9999999999999998\n"
     ]
    }
   ],
   "source": [
    "coeff0=np.asarray([0,0,1,0,0])\n",
    "coeff1=np.asarray([1/12,-2/3,0,2/3,-1/12])\n",
    "coeff2=np.asarray([-1/12 , 4/3 , -5/2 , 4/3 , -1/12])\n",
    "coeff3=np.asarray([-1/2 , 1 , 0 , -1 , 1/2])\n",
    "coeff4=np.asarray([1 ,-4 , 6 ,-4 , 1])\n",
    "coeff_tilda=coeff0+1/2*coeff1+1/6*coeff2+1/24*coeff3+1/120*coeff4\n",
    "print (coeff_tilda, np.sum(coeff_tilda))\n",
    "coeff_taylor=coeff0+coeff1+1/2*coeff2+1/26*coeff3+1/24*coeff4\n",
    "print (coeff_taylor, np.sum(coeff_taylor))"
   ]
  },
  {
   "cell_type": "code",
   "execution_count": 77,
   "metadata": {},
   "outputs": [],
   "source": [
    "def rho_tilda(go):\n",
    "    rho_tilda=np.zeros(len(common_grid(go)[1]))\n",
    "    for x in range(5):\n",
    "        rho_tilda+=get_ccdensity(x-2,go)*coeff_tilda[x]\n",
    "    return rho_tilda"
   ]
  },
  {
   "cell_type": "code",
   "execution_count": 78,
   "metadata": {},
   "outputs": [
    {
     "name": "stdout",
     "output_type": "stream",
     "text": [
      "[2.45577275e-20 2.42795474e-20 2.38214458e-20 ... 3.45432936e-26\n",
      " 2.26405399e-26 1.75975215e-26]\n"
     ]
    }
   ],
   "source": [
    "print (rho_tilda(1))"
   ]
  }
 ],
 "metadata": {
  "kernelspec": {
   "display_name": "Python 3",
   "language": "python",
   "name": "python3"
  },
  "language_info": {
   "codemirror_mode": {
    "name": "ipython",
    "version": 3
   },
   "file_extension": ".py",
   "mimetype": "text/x-python",
   "name": "python",
   "nbconvert_exporter": "python",
   "pygments_lexer": "ipython3",
   "version": "3.6.7"
  }
 },
 "nbformat": 4,
 "nbformat_minor": 2
}
