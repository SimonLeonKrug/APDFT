{
 "cells": [
  {
   "cell_type": "code",
   "execution_count": 1,
   "metadata": {},
   "outputs": [],
   "source": [
    "from pyscf import gto, scf\n",
    "import scipy\n",
    "import pyscf.qmmm\n",
    "import pyscf.dft\n",
    "import numpy as np\n",
    "angstrom = 1 / 0.52917721067\n",
    "from matplotlib import pyplot as plt\n",
    "from functools import reduce\n",
    "from numpy.linalg import inv \n",
    "# ancora il modo migliore per mettere cariche frazionali sulle molecole, se vai a toccare mol.charges si incazza \n",
    "#  quando deve calcolare l' initial guess \n",
    "\n",
    "def fc(calc,deltaZ):\n",
    "    mf = pyscf.qmmm.mm_charge(calc, calc.mol.atom_coords()/angstrom, deltaZ)\n",
    "    class NoSelfQMMM(mf.__class__):\n",
    "        def energy_nuc(self):\n",
    "            q = self.mol.atom_charges().astype(np.float)\n",
    "            for i in range (len(q)):\n",
    "                q[i] += deltaZ[i] \n",
    "            return self.mol.energy_nuc(q)\n",
    "    return(NoSelfQMMM())\n",
    "\n",
    "def DeltaV(mol,dL):\n",
    "    mol.set_rinv_orig_(mol.atom_coords()[0])\n",
    "    dV=mol.intor('int1e_rinv')*dL[0]\n",
    "    mol.set_rinv_orig_(mol.atom_coords()[1]/angstrom)\n",
    "    dV+=mol.intor('int1e_rinv')*dL[1]\n",
    "    return dV"
   ]
  },
  {
   "cell_type": "code",
   "execution_count": 2,
   "metadata": {},
   "outputs": [
    {
     "name": "stdout",
     "output_type": "stream",
     "text": [
      "converged SCF energy = -1.11439653848583\n",
      "converged SCF energy = -2.63149932767394\n"
     ]
    },
    {
     "data": {
      "text/plain": [
       "-2.631499327673943"
      ]
     },
     "execution_count": 2,
     "metadata": {},
     "output_type": "execute_result"
    }
   ],
   "source": [
    "molhh=gto.Mole(atom=\"H 0 0 0 ; H 0 0 .66\",basis=\"sto-3G\")\n",
    "molhh.build()\n",
    "hf=scf.RHF(molhh)\n",
    "hfhe=fc(hf,[1.,-1])\n",
    "hf.scf()\n",
    "hfhe.scf()"
   ]
  },
  {
   "cell_type": "code",
   "execution_count": 3,
   "metadata": {},
   "outputs": [
    {
     "data": {
      "text/plain": [
       "array([[0.58400461, 0.58400461],\n",
       "       [0.58400461, 0.58400461]])"
      ]
     },
     "execution_count": 3,
     "metadata": {},
     "output_type": "execute_result"
    }
   ],
   "source": [
    "hf.make_rdm1()"
   ]
  },
  {
   "cell_type": "code",
   "execution_count": 4,
   "metadata": {},
   "outputs": [
    {
     "name": "stdout",
     "output_type": "stream",
     "text": [
      "[[ 2.31345718 -0.23708116]\n",
      " [-0.23708116  0.02429588]]\n",
      "[[ 1.07551317 -0.93449842]\n",
      " [-0.11021769  1.42051679]]\n"
     ]
    }
   ],
   "source": [
    "print(hfhe.make_rdm1())\n",
    "print(hfhe.mo_coeff)"
   ]
  },
  {
   "cell_type": "code",
   "execution_count": 5,
   "metadata": {},
   "outputs": [
    {
     "name": "stdout",
     "output_type": "stream",
     "text": [
      "COC* = P : True\n",
      "J-K/2 = H2 : True\n",
      "J= sum_ij(g_ijklm P_lm )  True\n",
      "K= sum_ik(g_ijklm P_jm )  True\n",
      "F= H1 +H2 : True\n",
      "numero di elettroni: 2.0\n",
      "FC=SCE : True\n",
      "eig(S-1 F) -> C,E  np.linalg.eig(np.linalg.inv(S).dot(F))\n",
      "C*FC = E :  True\n"
     ]
    }
   ],
   "source": [
    "S=hf.get_ovlp()\n",
    "C=hf.mo_coeff\n",
    "O1=hf.mo_occ\n",
    "O=np.diag(O1)\n",
    "P=hf.make_rdm1()\n",
    "F=hf.get_fock()\n",
    "h1=hf.get_hcore()\n",
    "h2=hf.get_veff()\n",
    "J,K=hf.get_jk()\n",
    "g_ijkl=hf.mol.intor('int2e_sph')\n",
    "E=np.diag(hf.mo_energy)\n",
    "print('COC* = P :', np.allclose(P,C.dot(O.dot(C.T)))) \n",
    "print( \"J-K/2 = H2 :\",np.allclose(h2,J-K/2))\n",
    "print(\"J= sum_ij(g_ijklm P_lm ) \",np.allclose(J,np.einsum('ijkl,kl->ij',g_ijkl,P)))\n",
    "print(\"K= sum_ik(g_ijklm P_jm ) \",np.allclose(K,np.einsum('ijkl,jl->ik',g_ijkl,P)))\n",
    "\n",
    "print( \"F= H1 +H2 :\",np.allclose(F,h1+h2))\n",
    "print (\"numero di elettroni:\", S.dot(P).trace())  # numero di elettroni\n",
    "print(\"FC=SCE :\",np.allclose(np.dot(F,C),S.dot(C.dot(E))))\n",
    "print(\"eig(S-1 F) -> C,E \",\"np.linalg.eig(np.linalg.inv(S).dot(F))\" )\n",
    "print(\"C*FC = E : \",np.allclose(C.T.dot(F.dot(C))/100,E/100))"
   ]
  },
  {
   "cell_type": "code",
   "execution_count": 18,
   "metadata": {},
   "outputs": [
    {
     "name": "stdout",
     "output_type": "stream",
     "text": [
      "[[1.37652363 0.98649238]\n",
      " [0.98649238 1.37652363]]\n"
     ]
    }
   ],
   "source": [
    "print(J)"
   ]
  },
  {
   "cell_type": "markdown",
   "metadata": {},
   "source": [
    "$$ J - K/2 =H_2$$\n",
    "$$H_1+ H_2 = F $$"
   ]
  },
  {
   "cell_type": "markdown",
   "metadata": {},
   "source": [
    "$$ V_{ij}^{\\alpha} = \\sum_{kl} (ij|kl)(\\gamma_{lk}^\\alpha+\\gamma_{lk}^\\beta)- \\sum_{kl} (il|kj) \\gamma_{lk}^{\\alpha} \\\\    V_{ij}^{\\beta}  = \\sum_{kl} (ij|kl)(\\gamma_{lk}^{\\alpha}+\\gamma_{lk}^{\\beta})  - \\sum_{kl} (il|kj)\\gamma_{lk}^\\beta $$\n",
    "\n",
    "Now getting the energies\n",
    "\n",
    "$$  E = \\sum_{ij}h_{ij} \\gamma_{ji} + \\frac{1}{2}\\sum_{ijkl} \\gamma_{ji}\\gamma_{lk} \\langle ik||jl\\rangle $$\n"
   ]
  },
  {
   "cell_type": "code",
   "execution_count": 6,
   "metadata": {},
   "outputs": [],
   "source": [
    "e_tot=hf.e_tot \n",
    "e_nn=hf.energy_nuc() \n",
    "e_ne,e_ee=hf.energy_elec()\n",
    "e_ne-=e_ee"
   ]
  },
  {
   "cell_type": "code",
   "execution_count": 7,
   "metadata": {},
   "outputs": [
    {
     "name": "stdout",
     "output_type": "stream",
     "text": [
      "-1.114396538485826 -1.114396538485826\n",
      "-2.6061863152003397 -2.6061863152003397\n",
      "0.6900061238054227 0.6900061238054227\n"
     ]
    }
   ],
   "source": [
    "print(e_tot,e_nn+e_ee+e_ne)\n",
    "print(e_ne,np.trace(P.dot(h1)))\n",
    "print(e_ee,np.trace(P.dot(h2))/2)"
   ]
  },
  {
   "cell_type": "markdown",
   "metadata": {},
   "source": [
    "Now is to get the alchemical derivatives:\n",
    "$$ $$"
   ]
  },
  {
   "cell_type": "code",
   "execution_count": 8,
   "metadata": {},
   "outputs": [
    {
     "name": "stdout",
     "output_type": "stream",
     "text": [
      "converged SCF energy = -1.11443873633341\n",
      "converged SCF energy = -1.11443873633631\n"
     ]
    }
   ],
   "source": [
    "hf0=fc(hf,[.005,-.005])\n",
    "hf0.scf()\n",
    "C0=hf0.mo_coeff\n",
    "P0=hf0.make_rdm1()\n",
    "\n",
    "hf1=fc(hf,[-.005,.005])\n",
    "hf1.scf()\n",
    "C1=hf1.mo_coeff\n",
    "P1=hf1.make_rdm1()\n",
    "dV=hf1.get_hcore()-hf.get_hcore()"
   ]
  },
  {
   "cell_type": "code",
   "execution_count": 66,
   "metadata": {},
   "outputs": [
    {
     "data": {
      "text/plain": [
       "array([[-0.00396422, -0.00161794],\n",
       "       [ 0.00395934, -0.00162984]])"
      ]
     },
     "execution_count": 66,
     "metadata": {},
     "output_type": "execute_result"
    }
   ],
   "source": [
    "dC=(abs(C1)*C/abs(C)-C)\n",
    "dP=(P1-P)\n",
    "dF=(hf1.get_fock()-F)\n",
    "dC"
   ]
  },
  {
   "cell_type": "code",
   "execution_count": 35,
   "metadata": {},
   "outputs": [
    {
     "name": "stdout",
     "output_type": "stream",
     "text": [
      "[[ 0.54433171 -1.31670758]\n",
      " [ 0.53640816  1.31995537]]\n",
      "[[ 0.54037238 -1.31833743]\n",
      " [ 0.54037238  1.31833743]]\n",
      "[[ 0.53640816 -1.31995537]\n",
      " [ 0.54433171  1.31670758]]\n"
     ]
    }
   ],
   "source": [
    "print(C0)\n",
    "print(C)\n",
    "print(abs(C1)*C/abs(C))"
   ]
  },
  {
   "cell_type": "code",
   "execution_count": 36,
   "metadata": {},
   "outputs": [
    {
     "name": "stdout",
     "output_type": "stream",
     "text": [
      "[[0.59259403 0.58396794]\n",
      " [0.58396794 0.57546742]]\n",
      "[[0.58400461 0.58400461]\n",
      " [0.58400461 0.58400461]]\n",
      "[[0.57546742 0.58396794]\n",
      " [0.58396794 0.59259403]]\n"
     ]
    }
   ],
   "source": [
    "print(P0)\n",
    "print(P)\n",
    "print(P1)"
   ]
  },
  {
   "cell_type": "code",
   "execution_count": 37,
   "metadata": {},
   "outputs": [],
   "source": [
    "J1,K1=hf1.get_jk()"
   ]
  },
  {
   "cell_type": "code",
   "execution_count": 65,
   "metadata": {},
   "outputs": [
    {
     "data": {
      "text/plain": [
       "(array([[-8.53718548e-03, -3.66654087e-05],\n",
       "        [-3.66654087e-05,  8.58942014e-03]]),\n",
       " array([[-8.55290051e-03, -2.09697300e-05],\n",
       "        [-2.09697300e-05,  8.57374379e-03]]))"
      ]
     },
     "execution_count": 65,
     "metadata": {},
     "output_type": "execute_result"
    }
   ],
   "source": [
    "dP,dC.dot(O.dot(C.T))+C.dot(O.dot(dC.T))+0.5*dC.dot(O.dot(dC.T)) #last term is 2nd order will neglet"
   ]
  },
  {
   "cell_type": "code",
   "execution_count": 61,
   "metadata": {},
   "outputs": [
    {
     "name": "stdout",
     "output_type": "stream",
     "text": [
      "[[ 2.90091574e-03  4.38569015e-06]\n",
      " [ 4.38569015e-06 -2.89456664e-03]]\n",
      "[[ 2.90091574e-03  4.38569015e-06]\n",
      " [ 4.38569015e-06 -2.89456664e-03]]\n",
      "------------------------------------\n",
      "[[ 2.90091574e-03  4.38569015e-06]\n",
      " [ 4.38569015e-06 -2.89456664e-03]]\n",
      "[[ 2.89087616e-03 -3.80357809e-06]\n",
      " [-3.80357809e-06 -2.90460902e-03]]\n"
     ]
    },
    {
     "data": {
      "text/plain": [
       "(None, None)"
      ]
     },
     "execution_count": 61,
     "metadata": {},
     "output_type": "execute_result"
    }
   ],
   "source": [
    "#dF=dV+dC*h2\n",
    "print(hf1.get_fock()-F),print(dV+(np.einsum('ijkl,kl->ij',g_ijkl,dP))\\\n",
    "                                  -0.5*np.einsum('ijkl,jl->ik',g_ijkl,dP))\n",
    "print(\"------------------------------------\")\n",
    "print(hf1.get_fock()-F),print(dV+(np.einsum('ijkl,kl->ij',g_ijkl,(dC.dot(O.dot(C.T))+C.dot(O.dot(dC.T))))\\\n",
    "                                  -0.5*np.einsum('ijkl,jl->ik',g_ijkl,(dC.dot(O.dot(C.T))+C.dot(O.dot(dC.T))))))\n"
   ]
  },
  {
   "cell_type": "code",
   "execution_count": 70,
   "metadata": {},
   "outputs": [
    {
     "data": {
      "text/plain": [
       "(array([[ 0.00070542, -0.00211254],\n",
       "        [-0.00069213, -0.00211834]]), array([[ 0.00070132, -0.00211411],\n",
       "        [-0.0006962 , -0.00211672]]))"
      ]
     },
     "execution_count": 70,
     "metadata": {},
     "output_type": "execute_result"
    }
   ],
   "source": [
    "#dF*C+F*dC=SdCE\n",
    "dF.dot(C)+F.dot(dC),S.dot(dC.dot(E))"
   ]
  },
  {
   "cell_type": "code",
   "execution_count": 73,
   "metadata": {},
   "outputs": [
    {
     "data": {
      "text/plain": [
       "(array([[-0.00396422, -0.00161794],\n",
       "        [ 0.00395934, -0.00162984]]), array([[-0.00396422, -0.00161794],\n",
       "        [ 0.00395934, -0.00162984]]))"
      ]
     },
     "execution_count": 73,
     "metadata": {},
     "output_type": "execute_result"
    }
   ],
   "source": [
    "U=np.linalg.inv(C).dot(dC)\n",
    "C.dot(U),dC"
   ]
  },
  {
   "cell_type": "code",
   "execution_count": 75,
   "metadata": {},
   "outputs": [
    {
     "data": {
      "text/plain": [
       "(array([[ 4.41521656e-06, -4.12866182e-03],\n",
       "        [-4.12866182e-03, -4.20994734e-06]]),\n",
       " array([[ 0.        , -0.00412863],\n",
       "        [-0.00412863,  0.        ]]))"
      ]
     },
     "execution_count": 75,
     "metadata": {},
     "output_type": "execute_result"
    }
   ],
   "source": [
    "C.T.dot(dF.dot(C)),U.dot(E)-E.dot(U)"
   ]
  },
  {
   "cell_type": "code",
   "execution_count": 81,
   "metadata": {},
   "outputs": [
    {
     "data": {
      "text/plain": [
       "array([[-7.26633707e-13, -3.68589661e-03],\n",
       "       [-3.68589661e-03,  4.10999835e-13]])"
      ]
     },
     "execution_count": 81,
     "metadata": {},
     "output_type": "execute_result"
    }
   ],
   "source": [
    "C.T.dot(dV.dot(C))"
   ]
  },
  {
   "cell_type": "code",
   "execution_count": 82,
   "metadata": {},
   "outputs": [
    {
     "data": {
      "text/plain": [
       "array([[ 3.03894013e-04, -3.80357741e-06],\n",
       "       [-3.80357741e-06, -3.17626874e-04]])"
      ]
     },
     "execution_count": 82,
     "metadata": {},
     "output_type": "execute_result"
    }
   ],
   "source": [
    "(np.einsum('ijkl,kl->ij',g_ijkl,(dC.dot(O.dot(C.T))+C.dot(O.dot(dC.T))))\\\n",
    "                                  -0.5*np.einsum('ijkl,jl->ik',g_ijkl,(dC.dot(O.dot(C.T))+C.dot(O.dot(dC.T)))))"
   ]
  },
  {
   "cell_type": "code",
   "execution_count": 93,
   "metadata": {},
   "outputs": [
    {
     "data": {
      "text/plain": [
       "(array([[-2.19024700e-07,  2.12579104e-03],\n",
       "        [ 2.12579104e-03,  6.29563776e-07]]),\n",
       " array([[-6.17657763e-06, -4.98783131e-18],\n",
       "        [-4.77048956e-18, -6.27921263e-06]]))"
      ]
     },
     "execution_count": 93,
     "metadata": {},
     "output_type": "execute_result"
    }
   ],
   "source": [
    "C.T.dot(np.einsum('ijkl,kl->ij',g_ijkl,dP).dot(C)),\\\n",
    "np.einsum('ijkl,kl->ij',G_mo,U)"
   ]
  },
  {
   "cell_type": "code",
   "execution_count": 92,
   "metadata": {},
   "outputs": [
    {
     "data": {
      "text/plain": [
       "array([[[[ 6.90006124e-01,  5.55111512e-17],\n",
       "         [ 0.00000000e+00,  6.77879609e-01]],\n",
       "\n",
       "        [[ 1.11022302e-16,  1.76847528e-01],\n",
       "         [ 1.76847528e-01,  0.00000000e+00]]],\n",
       "\n",
       "\n",
       "       [[[ 0.00000000e+00,  1.76847528e-01],\n",
       "         [ 1.76847528e-01, -2.22044605e-16]],\n",
       "\n",
       "        [[ 6.77879609e-01,  1.11022302e-16],\n",
       "         [ 3.33066907e-16,  7.12736018e-01]]]])"
      ]
     },
     "execution_count": 92,
     "metadata": {},
     "output_type": "execute_result"
    }
   ],
   "source": [
    "G_mo=np.zeros(g_ijkl.shape)\n",
    "for a in range(2):\n",
    "    for b in range(2):\n",
    "        for c in range(2):\n",
    "            for d in range(2):\n",
    "                for i in range(2):\n",
    "                    for j in range(2):\n",
    "                        for k in range(2):\n",
    "                            for l in range(2):\n",
    "                                G_mo[a][b][c][d]+= C[i][a]*C[j][b]*C[k][c]*C[l][d]*g_ijkl[i][j][k][l]\n",
    "G_mo"
   ]
  },
  {
   "cell_type": "markdown",
   "metadata": {},
   "source": [
    "$$ P+\\Delta P = (P+\\Delta P)S_N(P+\\Delta P)/2$$\n",
    "At the first order in $\\Delta P$\n",
    "$$(P-PS_NP)/2 + \\Delta P = PS_N \\Delta P$$\n",
    "$$ \\Delta P = (1-PS_N)^{-1} (PS_NP-P) /2 $$ \n",
    "<br>oppure :\n",
    "$$ \\Delta P = (PS_N \\Delta P + \\Delta PS_NP )/2 $$\n",
    "se $P=P^\\dagger$\n",
    "$$ \\Delta P =\\Delta PS_NP$$\n",
    "$$ \\Delta P = \\alpha (S_NP-1)^{-1} $$\n",
    "and from \n",
    "$$ tr(PS)=N_e$$\n",
    "$$ tr(\\Delta P S )=0 $$\n",
    "$$P_{purified} = 3P^2 -2P^3 $$\n"
   ]
  },
  {
   "cell_type": "code",
   "execution_count": 12,
   "metadata": {},
   "outputs": [
    {
     "name": "stdout",
     "output_type": "stream",
     "text": [
      "[[-0.01712661  0.        ]\n",
      " [ 0.          0.01712661]]\n",
      "-4.440892098500626e-16\n"
     ]
    }
   ],
   "source": [
    "print(dP)\n",
    "print((S.dot(dP).trace()))"
   ]
  },
  {
   "cell_type": "code",
   "execution_count": 13,
   "metadata": {},
   "outputs": [
    {
     "data": {
      "text/plain": [
       "(array([[0.58400461, 0.58400461],\n",
       "        [0.58400461, 0.58400461]]), array([[0.58400461, 0.58400461],\n",
       "        [0.58400461, 0.58400461]]))"
      ]
     },
     "execution_count": 13,
     "metadata": {},
     "output_type": "execute_result"
    }
   ],
   "source": [
    "P,3*P.dot(S.dot(P/2))-2*P.dot((S.dot(P.dot(S.dot(P/4)))))"
   ]
  },
  {
   "cell_type": "code",
   "execution_count": 15,
   "metadata": {},
   "outputs": [
    {
     "data": {
      "text/plain": [
       "array([[-0.00480544, -0.00580661],\n",
       "       [ 0.00465664, -0.00171916]])"
      ]
     },
     "execution_count": 15,
     "metadata": {},
     "output_type": "execute_result"
    }
   ],
   "source": [
    "dV+dC.dot(h2)"
   ]
  },
  {
   "cell_type": "code",
   "execution_count": 16,
   "metadata": {},
   "outputs": [
    {
     "data": {
      "text/plain": [
       "array([[ 2.58698215e-03, -6.81232848e-13],\n",
       "       [-6.81232848e-13, -2.58698215e-03]])"
      ]
     },
     "execution_count": 16,
     "metadata": {},
     "output_type": "execute_result"
    }
   ],
   "source": [
    "hf1.get_hcore()-hf.get_hcore()"
   ]
  },
  {
   "cell_type": "code",
   "execution_count": 17,
   "metadata": {},
   "outputs": [
    {
     "data": {
      "text/plain": [
       "array([[ 2.58698215e-03, -6.81232848e-13],\n",
       "       [-6.81232848e-13, -2.58698215e-03]])"
      ]
     },
     "execution_count": 17,
     "metadata": {},
     "output_type": "execute_result"
    }
   ],
   "source": [
    "dV"
   ]
  }
 ],
 "metadata": {
  "kernelspec": {
   "display_name": "Python 3",
   "language": "python",
   "name": "python3"
  },
  "language_info": {
   "codemirror_mode": {
    "name": "ipython",
    "version": 3
   },
   "file_extension": ".py",
   "mimetype": "text/x-python",
   "name": "python",
   "nbconvert_exporter": "python",
   "pygments_lexer": "ipython3",
   "version": "3.6.9"
  }
 },
 "nbformat": 4,
 "nbformat_minor": 2
}
