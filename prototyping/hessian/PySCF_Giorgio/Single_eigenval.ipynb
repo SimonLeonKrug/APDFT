{
 "cells": [
  {
   "cell_type": "code",
   "execution_count": 49,
   "metadata": {},
   "outputs": [],
   "source": [
    "from pyscf import gto, scf\n",
    "import scipy\n",
    "import pyscf.qmmm\n",
    "import pyscf.dft\n",
    "import numpy as np\n",
    "angstrom = 1 / 0.52917721067\n",
    "from matplotlib import pyplot as plt\n",
    "from functools import reduce\n",
    "from numpy.linalg import inv \n",
    "\n",
    "# ancora il modo migliore per mettere cariche frazionali sulle molecole, se vai a toccare mol.charges si incazza \n",
    "#  quando deve calcolare l' initial guess \n",
    "def fc(calc,deltaZ):\n",
    "    mf = pyscf.qmmm.mm_charge(calc, calc.mol.atom_coords()/angstrom, deltaZ)\n",
    "    class NoSelfQMMM(mf.__class__):\n",
    "        def energy_nuc(self):\n",
    "            q = self.mol.atom_charges().astype(np.float)\n",
    "            for i in range (len(q)):\n",
    "                q[i] += deltaZ[i] \n",
    "            return self.mol.energy_nuc(q)\n",
    "    return(NoSelfQMMM())\n",
    "\n",
    "def eig(h, s):\n",
    "    '''Solver for generalized eigenvalue problem\n",
    "    .. math:: HC = SCE\n",
    "    '''\n",
    "    e, c = scipy.linalg.eigh(h, s)\n",
    "    idx = np.argmax(abs(c.real), axis=0)\n",
    "    c[:,c[idx,np.arange(len(e))].real<0] *= -1\n",
    "    return e, c"
   ]
  },
  {
   "cell_type": "code",
   "execution_count": 104,
   "metadata": {},
   "outputs": [
    {
     "name": "stdout",
     "output_type": "stream",
     "text": [
      "converged SCF energy = -112.743889237045\n"
     ]
    },
    {
     "data": {
      "text/plain": [
       "-112.74388923704477"
      ]
     },
     "execution_count": 104,
     "metadata": {},
     "output_type": "execute_result"
    }
   ],
   "source": [
    "molco=gto.Mole(atom=\"C 0 0 0 ; O 0 0 1\",basis=\"ccpVTZ\")\n",
    "molco.build()\n",
    "hf=scf.RHF(molco)\n",
    "hf.scf()"
   ]
  },
  {
   "cell_type": "code",
   "execution_count": 105,
   "metadata": {},
   "outputs": [],
   "source": [
    "S=hf.get_ovlp()\n",
    "F=hf.get_fock()\n",
    "P=hf.make_rdm1()\n",
    "C=hf.mo_coeff\n",
    "O=np.diag(hf.mo_occ)\n",
    "h1=hf.get_hcore()\n",
    "g_ijkl=hf.mol.intor('int2e_sph')\n",
    "def buildF(P):\n",
    "    return h1+np.einsum('ijkl,kl->ij',g_ijkl,P)-0.5*(np.einsum('ijkl,jl->ik',g_ijkl,P))"
   ]
  },
  {
   "cell_type": "code",
   "execution_count": 106,
   "metadata": {},
   "outputs": [
    {
     "name": "stdout",
     "output_type": "stream",
     "text": [
      "CPU times: user 346 ms, sys: 75.3 ms, total: 421 ms\n",
      "Wall time: 121 ms\n"
     ]
    },
    {
     "data": {
      "text/plain": [
       "-107.62473443000178"
      ]
     },
     "execution_count": 106,
     "metadata": {},
     "output_type": "execute_result"
    }
   ],
   "source": [
    "%%time\n",
    "hft=fc(hf,[1,-1])\n",
    "dV=hft.get_hcore()-h1\n",
    "C1=eig(F+dV,S)[1]\n",
    "P1=C1.dot(O.dot(C1.T))\n",
    "np.trace((h1+dV+np.einsum('ijkl,kl->ij',g_ijkl,P1)/2-np.einsum('ijkl,jl->ik',g_ijkl,P1)/4).dot(P1))+hft.energy_nuc()"
   ]
  },
  {
   "cell_type": "code",
   "execution_count": 107,
   "metadata": {},
   "outputs": [
    {
     "name": "stdout",
     "output_type": "stream",
     "text": [
      "converged SCF energy = -108.502933576739\n",
      "CPU times: user 2.4 s, sys: 747 ms, total: 3.15 s\n",
      "Wall time: 806 ms\n"
     ]
    },
    {
     "data": {
      "text/plain": [
       "-108.50293357673905"
      ]
     },
     "execution_count": 107,
     "metadata": {},
     "output_type": "execute_result"
    }
   ],
   "source": [
    "%%time\n",
    "hft=fc(hf,[1,-1])\n",
    "hft.scf()\n"
   ]
  },
  {
   "cell_type": "code",
   "execution_count": null,
   "metadata": {},
   "outputs": [],
   "source": []
  }
 ],
 "metadata": {
  "kernelspec": {
   "display_name": "Python 3",
   "language": "python",
   "name": "python3"
  },
  "language_info": {
   "codemirror_mode": {
    "name": "ipython",
    "version": 3
   },
   "file_extension": ".py",
   "mimetype": "text/x-python",
   "name": "python",
   "nbconvert_exporter": "python",
   "pygments_lexer": "ipython3",
   "version": "3.7.4"
  }
 },
 "nbformat": 4,
 "nbformat_minor": 2
}
