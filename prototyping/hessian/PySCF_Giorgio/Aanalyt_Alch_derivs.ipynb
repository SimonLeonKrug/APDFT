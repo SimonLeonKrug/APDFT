{
 "cells": [
  {
   "cell_type": "code",
   "execution_count": 1,
   "metadata": {},
   "outputs": [],
   "source": [
    "from pyscf import gto, scf\n",
    "import pyscf.qmmm\n",
    "import pyscf.dft\n",
    "import numpy as np\n",
    "angstrom = 1 / 0.52917721067\n",
    "from matplotlib import pyplot as plt\n",
    "\n",
    "# ancora il modo migliore per mettere cariche frazionali sulle molecole, se vai a toccare mol.charges si incazza \n",
    "#  quando deve calcolare l' initial guess \n",
    "\n",
    "def fc(calc,deltaZ):\n",
    "    mf = pyscf.qmmm.mm_charge(calc, calc.mol.atom_coords()/angstrom, deltaZ)\n",
    "    class NoSelfQMMM(mf.__class__):\n",
    "        def energy_nuc(self):\n",
    "            q = self.mol.atom_charges().astype(np.float)\n",
    "            for i in range (len(q)):\n",
    "                q[i] += deltaZ[i] \n",
    "            return self.mol.energy_nuc(q)\n",
    "    return(NoSelfQMMM())"
   ]
  },
  {
   "cell_type": "code",
   "execution_count": 2,
   "metadata": {},
   "outputs": [
    {
     "name": "stdout",
     "output_type": "stream",
     "text": [
      "converged SCF energy = -111.200776611731\n",
      "converged SCF energy = -105.427838127191\n"
     ]
    },
    {
     "data": {
      "text/plain": [
       "-105.42783812719127"
      ]
     },
     "execution_count": 2,
     "metadata": {},
     "output_type": "execute_result"
    }
   ],
   "source": [
    "molCO=gto.Mole(atom=\"C 0 0 0 ; O 0 0 1.06\",basis=\"sto-3G\")# basis={'C': gto.basis.load(\"sto-3G \",'N'),'O': gto.basis.load(\"sto-3G \",'N')})\n",
    "molCO.build()\n",
    "hf=scf.RHF(molCO)\n",
    "hfnn=fc(hf,[1.,-1])\n",
    "hf.scf()\n",
    "hfnn.scf()"
   ]
  },
  {
   "cell_type": "code",
   "execution_count": 3,
   "metadata": {},
   "outputs": [
    {
     "data": {
      "text/plain": [
       "-105.42783812719127"
      ]
     },
     "execution_count": 3,
     "metadata": {},
     "output_type": "execute_result"
    },
    {
     "data": {
      "image/png": "[encoded data removed]",
      "text/plain": [
       "<Figure size 288x288 with 1 Axes>"
      ]
     },
     "metadata": {
      "needs_background": "light"
     },
     "output_type": "display_data"
    }
   ],
   "source": [
    "plt.matshow(hf.make_rdm1())\n",
    "hfnn.e_tot"
   ]
  },
  {
   "cell_type": "code",
   "execution_count": 4,
   "metadata": {},
   "outputs": [
    {
     "data": {
      "text/plain": [
       "<matplotlib.image.AxesImage at 0x7f56fc0ecef0>"
      ]
     },
     "execution_count": 4,
     "metadata": {},
     "output_type": "execute_result"
    },
    {
     "data": {
      "image/png": "[encoded data removed]",
      "text/plain": [
       "<Figure size 288x288 with 1 Axes>"
      ]
     },
     "metadata": {
      "needs_background": "light"
     },
     "output_type": "display_data"
    }
   ],
   "source": [
    "plt.matshow(hfnn.make_rdm1())"
   ]
  },
  {
   "cell_type": "code",
   "execution_count": 5,
   "metadata": {},
   "outputs": [
    {
     "name": "stdout",
     "output_type": "stream",
     "text": [
      "['CASCI', 'CASSCF', 'CCSD', 'CISD', 'DFMP2', 'DIIS', 'Gradients', 'MP2', 'QMMM', 'TDA', 'TDHF', '__class__', '__delattr__', '__dict__', '__dir__', '__doc__', '__eq__', '__format__', '__ge__', '__getattribute__', '__gt__', '__hash__', '__init__', '__init_subclass__', '__le__', '__lt__', '__module__', '__ne__', '__new__', '__reduce__', '__reduce_ex__', '__repr__', '__setattr__', '__sizeof__', '__str__', '__subclasshook__', '__weakref__', '_chkfile', '_eigh', '_eri', '_finalize', '_is_mem_enough', '_keys', '_t0', '_w0', 'analyze', 'apply', 'as_scanner', 'build', 'callback', 'canonicalize', 'check_convergence', 'check_sanity', 'chkfile', 'conv_check', 'conv_tol', 'conv_tol_grad', 'converged', 'convert_from_', 'damp', 'damp_factor', 'density_fit', 'diis', 'diis_file', 'diis_space', 'diis_space_rollback', 'diis_start_cycle', 'dip_moment', 'direct_scf', 'direct_scf_tol', 'dump_chk', 'dump_flags', 'e_tot', 'eig', 'energy_elec', 'energy_nuc', 'energy_tot', 'from_chk', 'get_fock', 'get_grad', 'get_hcore', 'get_init_guess', 'get_j', 'get_jk', 'get_k', 'get_occ', 'get_ovlp', 'get_veff', 'hf_energy', 'init_direct_scf', 'init_guess', 'init_guess_by_1e', 'init_guess_by_atom', 'init_guess_by_chkfile', 'init_guess_by_minao', 'kernel', 'level_shift', 'level_shift_factor', 'make_rdm1', 'max_cycle', 'max_memory', 'mo_coeff', 'mo_energy', 'mo_occ', 'mol', 'mulliken_meta', 'mulliken_pop', 'mulliken_pop_meta_lowdin_ao', 'newton', 'nuc_grad_method', 'opt', 'pop', 'post_kernel', 'pre_kernel', 'run', 'scf', 'set', 'sfx2c1e', 'spin_square', 'stability', 'stdout', 'update', 'update_', 'update_from_chk', 'update_from_chk_', 'verbose', 'view', 'x2c', 'x2c1e']\n"
     ]
    }
   ],
   "source": [
    "print(dir(hf))"
   ]
  },
  {
   "cell_type": "code",
   "execution_count": 6,
   "metadata": {},
   "outputs": [
    {
     "name": "stdout",
     "output_type": "stream",
     "text": [
      "COC* = P : True\n",
      "J-K/2 = H2 : True\n",
      "J= sum_ij(g_ijklm P_lm )  True\n",
      "K= sum_ik(g_ijklm P_jm )  True\n",
      "F= H1 +H2 : True\n",
      "numero di elettroni: 13.999999999999996\n",
      "FC=SCE : True\n",
      "eig(S-1 F) -> C,E  np.linalg.eig(np.linalg.inv(S).dot(F))\n",
      "C*FC = E :  True\n"
     ]
    }
   ],
   "source": [
    "S=hf.get_ovlp()\n",
    "C=hf.mo_coeff\n",
    "O1=hf.mo_occ\n",
    "O=np.diag(O1)\n",
    "P=hf.make_rdm1()\n",
    "F=hf.get_fock()\n",
    "h1=hf.get_hcore()\n",
    "h2=hf.get_veff()\n",
    "J,K=hf.get_jk()\n",
    "g_ijkl=hf.mol.intor('int2e_sph')\n",
    "E=np.diag(hf.mo_energy)\n",
    "print('COC* = P :', np.allclose(P,C.dot(O.dot(C.T)))) \n",
    "print( \"J-K/2 = H2 :\",np.allclose(h2,J-K/2))\n",
    "print(\"J= sum_ij(g_ijklm P_lm ) \",np.allclose(J,np.einsum('ijkl,kl->ij',g_ijkl,P)))\n",
    "print(\"K= sum_ik(g_ijklm P_jm ) \",np.allclose(K,np.einsum('ijkl,jl->ik',g_ijkl,P)))\n",
    "\n",
    "print( \"F= H1 +H2 :\",np.allclose(F,h1+h2))\n",
    "print (\"numero di elettroni:\", S.dot(P).trace())  # numero di elettroni\n",
    "print(\"FC=SCE :\",np.allclose(np.dot(F,C),S.dot(C.dot(E))))\n",
    "print(\"eig(S-1 F) -> C,E \",\"np.linalg.eig(np.linalg.inv(S).dot(F))\" )\n",
    "print(\"C*FC = E : \",np.allclose(C.T.dot(F.dot(C))/100,E/100))"
   ]
  },
  {
   "cell_type": "markdown",
   "metadata": {},
   "source": [
    "$$ J - K/2 =H_2$$\n",
    "$$H_1+ H_2 = F $$"
   ]
  },
  {
   "cell_type": "markdown",
   "metadata": {},
   "source": [
    "$$ V_{ij}^{\\alpha} = \\sum_{kl} (ij|kl)(\\gamma_{lk}^\\alpha+\\gamma_{lk}^\\beta)- \\sum_{kl} (il|kj) \\gamma_{lk}^{\\alpha} \\\\    V_{ij}^{\\beta}  = \\sum_{kl} (ij|kl)(\\gamma_{lk}^{\\alpha}+\\gamma_{lk}^{\\beta})  - \\sum_{kl} (il|kj)\\gamma_{lk}^\\beta $$\n",
    "\n",
    "Now getting the energies\n",
    "\n",
    "$$  E = \\sum_{ij}h_{ij} \\gamma_{ji} + \\frac{1}{2}\\sum_{ijkl} \\gamma_{ji}\\gamma_{lk} \\langle ik||jl\\rangle $$\n"
   ]
  },
  {
   "cell_type": "code",
   "execution_count": 7,
   "metadata": {},
   "outputs": [],
   "source": [
    "e_tot=hf.e_tot \n",
    "e_nn=hf.energy_nuc() \n",
    "e_ne,e_ee=hf.energy_elec()\n",
    "e_ne-=e_ee"
   ]
  },
  {
   "cell_type": "code",
   "execution_count": 8,
   "metadata": {},
   "outputs": [
    {
     "name": "stdout",
     "output_type": "stream",
     "text": [
      "-111.20077661173107 -111.20077661173106\n",
      "-199.4486598443554 -199.44865984435543\n",
      "64.2851416060583 64.2851416060583\n"
     ]
    }
   ],
   "source": [
    "print(e_tot,e_nn+e_ee+e_ne)\n",
    "print(e_ne,np.trace(P.dot(h1)))\n",
    "print(e_ee,np.trace(P.dot(h2))/2)"
   ]
  },
  {
   "cell_type": "markdown",
   "metadata": {},
   "source": [
    "Now is to get the alchemical derivatives:\n",
    "$$ $$"
   ]
  },
  {
   "cell_type": "code",
   "execution_count": 224,
   "metadata": {},
   "outputs": [
    {
     "name": "stdout",
     "output_type": "stream",
     "text": [
      "converged SCF energy = -111.197134960877\n",
      "converged SCF energy = -111.204418995007\n"
     ]
    }
   ],
   "source": [
    "hf0=fc(hf,[.0005,-.0005])\n",
    "hf0.scf()\n",
    "C0=hf0.mo_coeff\n",
    "P0=hf0.make_rdm1()\n",
    "\n",
    "hf1=fc(hf,[-.0005,.0005])\n",
    "hf1.scf()\n",
    "C1=hf1.mo_coeff\n",
    "P1=hf1.make_rdm1()"
   ]
  },
  {
   "cell_type": "code",
   "execution_count": 231,
   "metadata": {},
   "outputs": [],
   "source": [
    "dC=(C1-C0)/.001\n",
    "U=np.dot(np.linalg.inv(C),dC)\n",
    "dP=(P1-P0)/.001"
   ]
  },
  {
   "cell_type": "code",
   "execution_count": 193,
   "metadata": {},
   "outputs": [
    {
     "name": "stdout",
     "output_type": "stream",
     "text": [
      "True\n",
      "True\n"
     ]
    }
   ],
   "source": [
    "print(np.allclose(dC,C.dot(U)))\n",
    "print(np.allclose(dC.T,U.T.dot(C.T)))"
   ]
  },
  {
   "cell_type": "code",
   "execution_count": 194,
   "metadata": {},
   "outputs": [
    {
     "name": "stdout",
     "output_type": "stream",
     "text": [
      "True\n",
      "True\n",
      "True\n",
      "True\n"
     ]
    }
   ],
   "source": [
    "print(np.allclose(P,C.dot(O.dot(C.T))))                        #P = COC*\n",
    "print(np.allclose(P0,C0.dot(O.dot(C0.T))))\n",
    "print(np.allclose(P1,C1.dot(O.dot(C1.T))))\n",
    "print(np.allclose(P1-P0,C1.dot(O.dot(C1.T))-C0.dot(O.dot(C0.T))))  # P1-P0 = C_1 O C_1* - C_0 O C_0*"
   ]
  },
  {
   "cell_type": "code",
   "execution_count": 235,
   "metadata": {},
   "outputs": [
    {
     "name": "stdout",
     "output_type": "stream",
     "text": [
      "True\n",
      "True\n",
      "True\n",
      "True\n",
      "1388.1665105900229\n",
      "8.481375935576129e-13\n"
     ]
    }
   ],
   "source": [
    "print(np.allclose(P1-P0,(C1-C0).dot(O.dot(C1.T))+C0.dot(O.dot((C1-C0).T)))) \n",
    "print(np.allclose(dP,dC.dot(O.dot(C1.T))+C0.dot(O.dot(dC.T))))\n",
    "print(np.allclose(dP,dC.dot(O.dot(C1.T))+C0.dot(O.dot(dC.T))))\n",
    "print(np.allclose(dP,dC.dot(O.dot(C1.T))+C0.dot(O.dot(dC.T))))\n",
    "print(np.linalg.norm(dP-dC.dot(O.dot(C.T))-C.dot(O.dot(dC.T))))\n",
    "print(np.linalg.norm(dP-dC.dot(O.dot(C1.T))-C0.dot(O.dot(dC.T))))"
   ]
  },
  {
   "cell_type": "code",
   "execution_count": 226,
   "metadata": {},
   "outputs": [
    {
     "data": {
      "text/plain": [
       "<matplotlib.image.AxesImage at 0x7f56eb1fcfd0>"
      ]
     },
     "execution_count": 226,
     "metadata": {},
     "output_type": "execute_result"
    },
    {
     "data": {
      "image/png": "[encoded data removed]",
      "text/plain": [
       "<Figure size 288x288 with 1 Axes>"
      ]
     },
     "metadata": {
      "needs_background": "light"
     },
     "output_type": "display_data"
    },
    {
     "data": {
      "image/png": "[encoded data removed]",
      "text/plain": [
       "<Figure size 288x288 with 1 Axes>"
      ]
     },
     "metadata": {
      "needs_background": "light"
     },
     "output_type": "display_data"
    },
    {
     "data": {
      "image/png": "[encoded data removed]",
      "text/plain": [
       "<Figure size 288x288 with 1 Axes>"
      ]
     },
     "metadata": {
      "needs_background": "light"
     },
     "output_type": "display_data"
    }
   ],
   "source": [
    "plt.matshow(C0)\n",
    "plt.matshow(C)\n",
    "plt.matshow(C1)\n",
    "#C1[[7,8]]=C1[[8,7]]"
   ]
  },
  {
   "cell_type": "code",
   "execution_count": 236,
   "metadata": {
    "scrolled": true
   },
   "outputs": [
    {
     "name": "stdout",
     "output_type": "stream",
     "text": [
      "1.6683167644857304\n",
      "0.416705096781726\n",
      "1.0335785759478864\n",
      "1.2809017284952677\n",
      "0.0008940620472015519\n",
      "1.6227303980801532e-07\n",
      "0.0008941168118909115\n"
     ]
    },
    {
     "data": {
      "image/png": "[encoded data removed]",
      "text/plain": [
       "<Figure size 288x288 with 1 Axes>"
      ]
     },
     "metadata": {
      "needs_background": "light"
     },
     "output_type": "display_data"
    },
    {
     "data": {
      "image/png": "[encoded data removed]",
      "text/plain": [
       "<Figure size 288x288 with 1 Axes>"
      ]
     },
     "metadata": {
      "needs_background": "light"
     },
     "output_type": "display_data"
    },
    {
     "data": {
      "image/png": "[encoded data removed]",
      "text/plain": [
       "<Figure size 288x288 with 1 Axes>"
      ]
     },
     "metadata": {
      "needs_background": "light"
     },
     "output_type": "display_data"
    }
   ],
   "source": [
    "plt.matshow((C-C0))\n",
    "plt.matshow((C1-C))\n",
    "plt.matshow(((C-C1)+(C-C0))/2)\n",
    "print(np.linalg.norm((C-C0)))\n",
    "print(np.linalg.norm((C1-C)))\n",
    "print(np.linalg.norm(((C-C1)+(C-C0))/2))\n",
    "print(np.linalg.norm(C0-C1))\n",
    "\n",
    "print(np.linalg.norm(P-P0))\n",
    "print(np.linalg.norm((P1+P0)/2-P))\n",
    "print(np.linalg.norm(P-P1))"
   ]
  },
  {
   "cell_type": "code",
   "execution_count": 247,
   "metadata": {},
   "outputs": [
    {
     "data": {
      "text/plain": [
       "True"
      ]
     },
     "execution_count": 247,
     "metadata": {},
     "output_type": "execute_result"
    }
   ],
   "source": [
    "np.allclose(F.dot(C),S.dot(C.dot(E)))"
   ]
  },
  {
   "cell_type": "code",
   "execution_count": 250,
   "metadata": {},
   "outputs": [
    {
     "data": {
      "text/plain": [
       "-6.285586854969709"
      ]
     },
     "execution_count": 250,
     "metadata": {},
     "output_type": "execute_result"
    }
   ],
   "source": [
    "dV=(hf1.get_hcore()-hf0.get_hcore())/.001\n"
   ]
  }
 ],
 "metadata": {
  "kernelspec": {
   "display_name": "Python 3",
   "language": "python",
   "name": "python3"
  },
  "language_info": {
   "codemirror_mode": {
    "name": "ipython",
    "version": 3
   },
   "file_extension": ".py",
   "mimetype": "text/x-python",
   "name": "python",
   "nbconvert_exporter": "python",
   "pygments_lexer": "ipython3",
   "version": "3.6.9"
  }
 },
 "nbformat": 4,
 "nbformat_minor": 2
}
