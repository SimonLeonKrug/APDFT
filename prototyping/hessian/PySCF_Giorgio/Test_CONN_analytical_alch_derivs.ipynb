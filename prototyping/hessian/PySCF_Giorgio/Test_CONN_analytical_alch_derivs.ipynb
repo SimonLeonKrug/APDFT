{
 "cells": [
  {
   "cell_type": "markdown",
   "metadata": {},
   "source": [
    "$$ \\frac{\\partial C}{\\partial Z}= CU , \\frac{\\partial E}{\\partial Z} =0, \\frac{\\partial S}{\\partial Z} =0$$\n",
    "$$FC=SCE $$\n",
    "$$\\frac{\\partial F}{\\partial Z}C + FCU =SCUE $$\n",
    "\n",
    "$$C^\\dagger \\frac{\\partial F}{\\partial Z_\\alpha} C =C^\\dagger SCUE - C^\\dagger FCU $$\n",
    "$$C^\\dagger \\frac{\\partial F}{\\partial Z_\\alpha} C = UE -EU $$"
   ]
  },
  {
   "cell_type": "markdown",
   "metadata": {},
   "source": [
    "Prima approsimazione stupida è di fare dF==dV e scrivere\n",
    "$$ C^\\dagger \\frac{\\partial F}{\\partial Z_\\alpha} C =C^\\dagger \\frac{\\partial V_{ne}}{\\partial Z_\\alpha} C = UE - EU $$\n",
    "E poi posso anche scomporre:\n",
    "$$ \\left( UE - EU \\right)_{ij} = \\sum_k U_{ik}\\delta_{kj} \\epsilon_j - \\epsilon_i \\delta_{ik} U_{kj} = U_{ij}(\\epsilon_j - \\epsilon_i)$$\n",
    "e quindi:\n",
    "$$ U_{ij} \\approx \\left ( C^\\dagger \\frac{\\partial V_{ne}}{\\partial Z_\\alpha} C \\right)_{ij} / (\\epsilon_j - \\epsilon_i) $$\n",
    "ove $(\\epsilon_j - \\epsilon_i) \\ne 0 $"
   ]
  },
  {
   "cell_type": "markdown",
   "metadata": {},
   "source": [
    "For the derivatives of the density matrix, using the skew symmetry of the response matrix $U=-U^\\dagger$:\n",
    "$$ P=COC^\\dagger$$\n",
    "$$\\frac{\\partial P}{\\partial Z_\\alpha}=CUOC^\\dagger + COU^\\dagger C^\\dagger = C(UO-OU)C^\\dagger $$"
   ]
  },
  {
   "cell_type": "markdown",
   "metadata": {},
   "source": [
    "Then use this expression to solve iteratively:\n",
    "$$ C^\\dagger \\frac{\\partial F}{\\partial Z_\\alpha} C =C^\\dagger  \\frac{\\partial \\left( V_{ne}+ V_{ee} \\right ) }{\\partial Z_\\alpha} C = UE - EU $$\n",
    "Where:\n",
    "$$ \\frac{\\partial V_{ee}}{\\partial Z_\\alpha} = \\sum_{kl}\\left( g_{ikjl} - g_{ijkl}/2 \\right ) \\left( \\frac{\\partial P}{\\partial Z_\\alpha} \\right ) _{kl} $$\n",
    "And if $E$ is diagonal:\n",
    "$$ \\left( UE -EU   \\right)_{ij}= \\sum_k\\left( U_{ik}E_{kj} -E_{ik}U_{kj} \\right)= U_{ij}\\left( \\epsilon_j -\\epsilon_i  \\right) $$"
   ]
  },
  {
   "cell_type": "markdown",
   "metadata": {},
   "source": [
    "$$ C^\\dagger  \\left(dV+ \\sum_{kl}(G_{ikjl} dP_{kl}) \\right)C = U_{ij}\\left( \\epsilon_j -\\epsilon_i  \\right) $$\n",
    "$$ dP= C(UO-OU)C^\\dagger $$"
   ]
  },
  {
   "cell_type": "code",
   "execution_count": 68,
   "metadata": {},
   "outputs": [],
   "source": [
    "from pyscf import gto, scf\n",
    "import scipy\n",
    "import inspect\n",
    "import pyscf.qmmm\n",
    "import pyscf.dft\n",
    "import numpy as np\n",
    "angstrom = 1 / 0.52917721067\n",
    "from matplotlib import pyplot as plt\n",
    "from functools import reduce\n",
    "from numpy.linalg import inv \n",
    "# ancora il modo migliore per mettere cariche frazionali sulle molecole, se vai a toccare mol.charges si incazza \n",
    "#  quando deve calcolare l' initial guess \n",
    "def fc(calc,deltaZ):\n",
    "    mf = pyscf.qmmm.mm_charge(calc, calc.mol.atom_coords()/angstrom, deltaZ)  # now is add_mm_charge\n",
    "    class NoSelfQMMM(mf.__class__):\n",
    "        def energy_nuc(self):\n",
    "            q = self.mol.atom_charges().astype(np.float).copy()\n",
    "            q1 =q+ np.asarray(deltaZ) \n",
    "            return self.mol.energy_nuc(q1)\n",
    "    return(NoSelfQMMM(mf,mf.mm_mol))\n",
    "\n",
    "def DeltaV(mol,dL):\n",
    "    mol.set_rinv_orig_(mol.atom_coords()[0])\n",
    "    dV=mol.intor('int1e_rinv')*dL[0]\n",
    "    mol.set_rinv_orig_(mol.atom_coords()[1])\n",
    "    dV+=mol.intor('int1e_rinv')*dL[1]\n",
    "    return -dV"
   ]
  },
  {
   "cell_type": "code",
   "execution_count": 69,
   "metadata": {},
   "outputs": [
    {
     "name": "stderr",
     "output_type": "stream",
     "text": [
      "Warning: <pyscf.gto.mole.Mole object at 0x7f0311ecccd0> must be initialized before calling SCF.\n",
      "Initialize <pyscf.gto.mole.Mole object at 0x7f0311ecccd0> in <pyscf.scf.hf.RHF object at 0x7f0317247310>\n"
     ]
    },
    {
     "name": "stdout",
     "output_type": "stream",
     "text": [
      "converged SCF energy = -112.344165614949\n"
     ]
    },
    {
     "data": {
      "text/plain": [
       "-112.34416561494943"
      ]
     },
     "execution_count": 69,
     "metadata": {},
     "output_type": "execute_result"
    }
   ],
   "source": [
    "co=gto.Mole(atom=\"C 0 0 0 ;O 0 0 2.1\", basis= \"cc-pvtz\",units=\"Bohr\",maxit=100)\n",
    "hfco=scf.RHF(co)\n",
    "hfco.scf()"
   ]
  },
  {
   "cell_type": "code",
   "execution_count": 70,
   "metadata": {},
   "outputs": [
    {
     "name": "stdout",
     "output_type": "stream",
     "text": [
      "converged SCF energy = -112.343388907244\n",
      "converged SCF energy = -112.344942384869\n",
      "True\n"
     ]
    }
   ],
   "source": [
    "dL=.0001\n",
    "hf1=fc(hfco,[dL,-dL])\n",
    "hf1.scf()\n",
    "hf2=fc(hfco,[-dL,dL])\n",
    "hf2.scf()\n",
    "dV=DeltaV(co,[dL,-dL])\n",
    "print(np.allclose(dV,hf1.get_hcore()-hfco.get_hcore()))"
   ]
  },
  {
   "cell_type": "code",
   "execution_count": 71,
   "metadata": {},
   "outputs": [
    {
     "name": "stderr",
     "output_type": "stream",
     "text": [
      "/home/giorgiod/miniconda3/lib/python3.7/site-packages/ipykernel_launcher.py:11: RuntimeWarning: invalid value encountered in true_divide\n",
      "  # This is added back by InteractiveShellApp.init_path()\n"
     ]
    }
   ],
   "source": [
    "C=hfco.mo_coeff\n",
    "S=hfco.get_ovlp()\n",
    "e=hfco.mo_energy\n",
    "E=np.diag(e)\n",
    "O=np.diag(hfco.mo_occ)\n",
    "C1=hf1.mo_coeff\n",
    "P=hfco.make_rdm1()\n",
    "P1=hf1.make_rdm1()\n",
    "P2=hf2.make_rdm1()\n",
    "dP=(P1-P2)/2\n",
    "dC=(abs(C1)*C/abs(C)-C)"
   ]
  },
  {
   "cell_type": "code",
   "execution_count": 72,
   "metadata": {},
   "outputs": [
    {
     "name": "stdout",
     "output_type": "stream",
     "text": [
      "J-K/2 = H2 : True\n"
     ]
    }
   ],
   "source": [
    "h2=hfco.get_veff()\n",
    "J,K=hfco.get_jk()\n",
    "g_ijkl=hfco.mol.intor('int2e_sph')\n",
    "print( \"J-K/2 = H2 :\",np.allclose(h2,J-K/2))"
   ]
  },
  {
   "cell_type": "code",
   "execution_count": 73,
   "metadata": {},
   "outputs": [
    {
     "name": "stdout",
     "output_type": "stream",
     "text": [
      "True\n",
      "True\n"
     ]
    }
   ],
   "source": [
    "print(np.allclose(np.einsum('ijkl,kl->ij',g_ijkl,P ),J))\n",
    "print(np.allclose(np.einsum('ijkl,jl->ik',g_ijkl,P ),K))"
   ]
  },
  {
   "cell_type": "code",
   "execution_count": 74,
   "metadata": {},
   "outputs": [
    {
     "name": "stdout",
     "output_type": "stream",
     "text": [
      "True\n"
     ]
    }
   ],
   "source": [
    "g_h2=g_ijkl-np.swapaxes(g_ijkl,1,2)/2\n",
    "print(np.allclose(np.einsum('ijkl,kl->ij',g_h2,P ),h2))\n"
   ]
  },
  {
   "cell_type": "code",
   "execution_count": 75,
   "metadata": {},
   "outputs": [
    {
     "name": "stdout",
     "output_type": "stream",
     "text": [
      "0.00026285014957900106\n",
      "0.0003110698009103365\n",
      "0.00010017252890256193\n"
     ]
    }
   ],
   "source": [
    "U_app=C.T.dot(dV.dot(C))  # approximate value of U\n",
    "for i in range(co.nao):\n",
    "    for j in range(co.nao):\n",
    "        if e[i]!=e[j]:\n",
    "            U_app[i][j]/=(e[j]-e[i])\n",
    "dP_app=C.dot(U_app.dot(O)-O.dot(U_app)).dot(C.T)\n",
    "#plt.matshow(dP_app)\n",
    "#plt.matshow(dP)\n",
    "print(np.linalg.norm(dP))\n",
    "print(np.linalg.norm(dP_app))\n",
    "print(np.linalg.norm(dP_app-dP))"
   ]
  },
  {
   "cell_type": "code",
   "execution_count": 80,
   "metadata": {},
   "outputs": [
    {
     "data": {
      "text/plain": [
       "True"
      ]
     },
     "execution_count": 80,
     "metadata": {},
     "output_type": "execute_result"
    }
   ],
   "source": [
    "TM= (U_app.dot(O)-O.dot(U_app))\n",
    "np.allclose(TM,TM.T)"
   ]
  },
  {
   "cell_type": "code",
   "execution_count": 66,
   "metadata": {},
   "outputs": [
    {
     "name": "stdout",
     "output_type": "stream",
     "text": [
      "0.00026285014958914664\n",
      "0.00026278924131348545\n",
      "1.589157256454941e-07\n",
      "0.00026285014958914664\n",
      "0.0002628989832604594\n",
      "1.1212802049821637e-07\n",
      "0.00026285014958914664\n",
      "0.00026281842150069503\n",
      "9.255032749652943e-08\n",
      "0.00026285014958914664\n",
      "0.0002628776499222679\n",
      "6.57851838004388e-08\n",
      "0.00026285014958914664\n",
      "0.00026283416263212585\n",
      "5.969920732378586e-08\n",
      "0.00026285014958914664\n",
      "0.00026286612900117715\n",
      "4.511099729641424e-08\n",
      "0.00026285014958914664\n",
      "0.00026284265487781387\n",
      "4.50601460401495e-08\n",
      "0.00026285014958914664\n",
      "0.00026285990781325794\n",
      "3.775953698072597e-08\n",
      "0.00026285014958914664\n",
      "0.00026284723683841024\n",
      "3.926848105654408e-08\n",
      "0.00026285014958914664\n",
      "0.00026285654874734786\n",
      "3.5774955670255216e-08\n"
     ]
    }
   ],
   "source": [
    "for i in range(10):\n",
    "    U_app=C.T.dot((dV+np.einsum('ijkl,kl->ij',g_h2,dP_app)).dot(C)) # approximate value of U\n",
    "    for i in range(co.nao):\n",
    "        for j in range(co.nao):\n",
    "            if e[i]!=e[j]:\n",
    "                U_app[i][j]/=(e[j]-e[i])\n",
    "    dP_app=C.dot(U_app.dot(O)-O.dot(U_app)).dot(C.T)\n",
    "    #plt.matshow(dP_app)\n",
    "    #plt.matshow(dP)\n",
    "    print(np.linalg.norm(dP))\n",
    "    print(np.linalg.norm(dP_app))\n",
    "    print(np.linalg.norm(dP_app-dP))"
   ]
  },
  {
   "cell_type": "code",
   "execution_count": 67,
   "metadata": {},
   "outputs": [
    {
     "name": "stdout",
     "output_type": "stream",
     "text": [
      "converged SCF energy = -107.659464415009\n",
      "true target energy:  -107.65946441500944\n",
      "CO energy =  -112.34416561494926\n",
      "APDFT1 energy = -104.6045652752867\n",
      "APDFT2 energy = -107.46337612914532\n",
      "APDFT2 energy approx.= -107.4634327704485\n"
     ]
    }
   ],
   "source": [
    "dEnn=(49-48)/2.1\n",
    "print(\"true target energy: \",fc(hfco,[1,-1]).scf())\n",
    "print(\"CO energy = \",hfco.e_tot)\n",
    "print(\"APDFT1 energy =\", hfco.e_tot+dEnn+np.trace(P.dot(dV/dL)))\n",
    "print(\"APDFT2 energy =\", hfco.e_tot+dEnn+np.trace((P+0.5*dP/dL).dot(dV/dL)))\n",
    "print(\"APDFT2 energy approx.=\", hfco.e_tot+dEnn+np.trace((P+0.5*dP_app/dL).dot(dV/dL)))"
   ]
  },
  {
   "cell_type": "code",
   "execution_count": 80,
   "metadata": {},
   "outputs": [
    {
     "data": {
      "text/plain": [
       "13.999999999999993"
      ]
     },
     "execution_count": 80,
     "metadata": {},
     "output_type": "execute_result"
    }
   ],
   "source": [
    "np.trace((P+dP_app).dot(S))"
   ]
  },
  {
   "cell_type": "markdown",
   "metadata": {},
   "source": [
    "#### Comments\n",
    "It works pretty well for minimal basis set, good results were obtained with few iterations. <br>\n",
    "For larger basis set an acceptable convergence can be obtained only after 20-30 iterations <br>\n",
    "dL affects the results for dP calculated numerically, but not analytically, thus is to be chosen a small dL ($10^{-3} / 10^{-4} $) in order to compare dP_approximated with a proper numerical dP.\n"
   ]
  },
  {
   "cell_type": "code",
   "execution_count": null,
   "metadata": {},
   "outputs": [],
   "source": []
  }
 ],
 "metadata": {
  "kernelspec": {
   "display_name": "Python 3",
   "language": "python",
   "name": "python3"
  },
  "language_info": {
   "codemirror_mode": {
    "name": "ipython",
    "version": 3
   },
   "file_extension": ".py",
   "mimetype": "text/x-python",
   "name": "python",
   "nbconvert_exporter": "python",
   "pygments_lexer": "ipython3",
   "version": "3.7.6"
  }
 },
 "nbformat": 4,
 "nbformat_minor": 4
}
