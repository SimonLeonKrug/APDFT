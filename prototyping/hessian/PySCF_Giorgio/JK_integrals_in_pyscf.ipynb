{
 "cells": [
  {
   "cell_type": "code",
   "execution_count": 1,
   "metadata": {},
   "outputs": [
    {
     "data": {
      "text/plain": [
       "array([[0.70375769, 0.79173595],\n",
       "       [0.10458461, 0.65677868]])"
      ]
     },
     "execution_count": 1,
     "metadata": {},
     "output_type": "execute_result"
    }
   ],
   "source": [
    "import numpy\n",
    "from pyscf import lib\n",
    "from pyscf import gto\n",
    "from pyscf import gto, scf\n",
    "mol = gto.M(atom='H 0 0 0; H 0 0 1.1')\n",
    "dms = numpy.random.random((mol.nao_nr(),mol.nao_nr()))\n",
    "dms"
   ]
  },
  {
   "cell_type": "code",
   "execution_count": 2,
   "metadata": {},
   "outputs": [
    {
     "name": "stdout",
     "output_type": "stream",
     "text": [
      "[[1.0765465  0.46947095]\n",
      " [0.46947095 1.06114187]]\n",
      "[[0.86242096 0.72759578]\n",
      " [0.50356803 0.83170004]]\n"
     ]
    }
   ],
   "source": [
    "# call scf \n",
    "j, k = scf.hf.get_jk(mol, dms, hermi=0)\n",
    "print(j)\n",
    "print(k)"
   ]
  },
  {
   "cell_type": "code",
   "execution_count": 3,
   "metadata": {},
   "outputs": [
    {
     "name": "stdout",
     "output_type": "stream",
     "text": [
      "[[1.0765465  0.46947095]\n",
      " [0.46947095 1.06114187]]\n",
      "[[0.86242096 0.72759578]\n",
      " [0.50356803 0.83170004]]\n"
     ]
    }
   ],
   "source": [
    "mol.intor('int2e_sph')\n",
    "print(numpy.einsum('ijkl,kl->ij',mol.intor('int2e_sph'),dms ))\n",
    "print(numpy.einsum('ijkl,jl->ik',mol.intor('int2e_sph'),dms ))"
   ]
  },
  {
   "cell_type": "code",
   "execution_count": 4,
   "metadata": {},
   "outputs": [
    {
     "data": {
      "text/plain": [
       "array([[[[0.77460594, 0.26556095],\n",
       "         [0.26556095, 0.44670128]],\n",
       "\n",
       "        [[0.26556095, 0.12067738],\n",
       "         [0.12067738, 0.26556095]]],\n",
       "\n",
       "\n",
       "       [[[0.26556095, 0.12067738],\n",
       "         [0.12067738, 0.26556095]],\n",
       "\n",
       "        [[0.44670128, 0.26556095],\n",
       "         [0.26556095, 0.77460594]]]])"
      ]
     },
     "execution_count": 4,
     "metadata": {},
     "output_type": "execute_result"
    }
   ],
   "source": [
    "mol.intor('int2e_sph')"
   ]
  }
 ],
 "metadata": {
  "kernelspec": {
   "display_name": "Python 3",
   "language": "python",
   "name": "python3"
  },
  "language_info": {
   "codemirror_mode": {
    "name": "ipython",
    "version": 3
   },
   "file_extension": ".py",
   "mimetype": "text/x-python",
   "name": "python",
   "nbconvert_exporter": "python",
   "pygments_lexer": "ipython3",
   "version": "3.6.9"
  }
 },
 "nbformat": 4,
 "nbformat_minor": 2
}
