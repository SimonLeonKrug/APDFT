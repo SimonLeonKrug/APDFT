{
 "cells": [
  {
   "cell_type": "code",
   "execution_count": 2,
   "metadata": {},
   "outputs": [],
   "source": [
    "import pyscf\n",
    "import pyscf.qmmm\n",
    "from pyscf import gto, scf\n",
    "import numpy as np\n",
    "import matplotlib.pyplot as plt\n",
    "from pyscf.geomopt.berny_solver import optimize\n",
    "from pyscf.grad import rhf as grhf\n",
    "from pyscf.hessian import rhf as hrhf\n",
    "from pyscf import lib\n",
    "import inspect\n",
    "from functools import reduce\n",
    "from pyscf.scf import cphf\n",
    "angstrom = 1 / 0.52917721067\n",
    "from pyscf.scf._response_functions import _gen_rhf_response \n",
    "def DeltaV(mol,dL):\n",
    "    mol.set_rinv_orig_(mol.atom_coords()[0])\n",
    "    dV=mol.intor('int1e_rinv')*dL[0]\n",
    "    mol.set_rinv_orig_(mol.atom_coords()[1])\n",
    "    dV+=mol.intor('int1e_rinv')*dL[1]\n",
    "    return -dV"
   ]
  },
  {
   "cell_type": "code",
   "execution_count": 3,
   "metadata": {},
   "outputs": [
    {
     "name": "stdout",
     "output_type": "stream",
     "text": [
      "converged SCF energy = -1.11033388268018\n"
     ]
    }
   ],
   "source": [
    "mol = gto.M(atom='H 0 0 0; H 0 0 1.2', unit=\"Bohr\",basis=\"sto-3g\")\n",
    "mf = scf.RHF(mol)\n",
    "e=mf.scf()"
   ]
  },
  {
   "cell_type": "code",
   "execution_count": 4,
   "metadata": {},
   "outputs": [
    {
     "name": "stdout",
     "output_type": "stream",
     "text": [
      "--------------- RHF gradients ---------------\n",
      "         x                y                z\n",
      "0 H     0.0000000000     0.0000000000     0.1065855689\n",
      "1 H     0.0000000000     0.0000000000    -0.1065855689\n",
      "----------------------------------------------\n"
     ]
    },
    {
     "data": {
      "text/plain": [
       "array([[ 0.        ,  0.        ,  0.10658557],\n",
       "       [ 0.        ,  0.        , -0.10658557]])"
      ]
     },
     "execution_count": 4,
     "metadata": {},
     "output_type": "execute_result"
    }
   ],
   "source": [
    "g = mf.Gradients()\n",
    "g.kernel()"
   ]
  },
  {
   "cell_type": "markdown",
   "metadata": {},
   "source": [
    "The formula for the gradient is stated in Pople's article (Eq.21) as: \n",
    "$$ \\frac{\\partial E}{\\partial x}= \\sum_{\\mu\\nu}P_{\\mu\\nu}\\frac{\\partial H_{\\mu\\nu}}{\\partial x}+\\frac{1}{2}\\sum_{\\mu\\nu\\lambda\\sigma}\n",
    "P_{\\mu\\nu}P_{\\lambda\\sigma}\\frac{\\partial}{\\partial x}(\\mu \\lambda | | \\nu\\sigma)+\\frac{\\partial V_{nuc}}{\\partial x} \n",
    "-\\sum_{\\mu\\nu}W_{\\mu\\nu}\\frac{\\partial S_{\\mu\\nu}}{\\partial x}\n",
    "$$\n",
    "$W$ is an energy weighted density matrix:\n",
    "$$ W_{\\mu\\nu}= \\sum_i ^{mo.occ.} \\epsilon_i c_{\\mu i}^\\dagger c_{\\nu i}\n",
    "$$"
   ]
  },
  {
   "cell_type": "markdown",
   "metadata": {},
   "source": [
    " In order to evaluate the mixed derivative $\\frac {\\partial^2 E}{\\partial Z \\partial x } $we need to :<br>\n",
    " 1)Build the gradient from scratch and understand each individual piece <br>\n",
    " 2)Derive the expression with respect to $Z$. Will require the $\\frac{\\partial P}{\\partial Z} $ that can be obtained analytically through CPHF once for all normal modes. Might be non trivial $\\frac {\\partial^2 H}{\\partial Z \\partial x}$ element. $\\partial_Z \\partial_x V_{nuc}$ is classical mechanics. $\\partial_Z W$ is also easy through the $U$ matrix response of CPHF. $\\partial_Z \\partial_x(\\mu \\lambda | | \\nu\\sigma)=0$ as well as $\\partial_Z S=0$"
   ]
  },
  {
   "cell_type": "markdown",
   "metadata": {},
   "source": [
    "# Let's start inspecting the explicit gradient expression from PySCF"
   ]
  },
  {
   "cell_type": "code",
   "execution_count": 8,
   "metadata": {},
   "outputs": [
    {
     "name": "stdout",
     "output_type": "stream",
     "text": [
      "    def kernel(self, mo_energy=None, mo_coeff=None, mo_occ=None, atmlst=None):\n",
      "        cput0 = (time.clock(), time.time())\n",
      "        if mo_energy is None: mo_energy = self.base.mo_energy\n",
      "        if mo_coeff is None: mo_coeff = self.base.mo_coeff\n",
      "        if mo_occ is None: mo_occ = self.base.mo_occ\n",
      "        if atmlst is None:\n",
      "            atmlst = self.atmlst\n",
      "        else:\n",
      "            self.atmlst = atmlst\n",
      "\n",
      "        if self.verbose >= logger.WARN:\n",
      "            self.check_sanity()\n",
      "        if self.verbose >= logger.INFO:\n",
      "            self.dump_flags()\n",
      "\n",
      "        de = self.grad_elec(mo_energy, mo_coeff, mo_occ, atmlst)\n",
      "        self.de = de + self.grad_nuc(atmlst=atmlst)\n",
      "        if self.mol.symmetry:\n",
      "            self.de = self.symmetrize(self.de, atmlst)\n",
      "        logger.timer(self, 'SCF gradients', *cput0)\n",
      "        self._finalize()\n",
      "        return self.de\n",
      "\n",
      "def grad_elec(mf_grad, mo_energy=None, mo_coeff=None, mo_occ=None, atmlst=None):\n",
      "    '''\n",
      "    Electronic part of RHF/RKS gradients\n",
      "\n",
      "    Args:\n",
      "        mf_grad : grad.rhf.Gradients or grad.rks.Gradients object\n",
      "    '''\n",
      "    mf = mf_grad.base\n",
      "    mol = mf_grad.mol\n",
      "    if mo_energy is None: mo_energy = mf.mo_energy\n",
      "    if mo_occ is None:    mo_occ = mf.mo_occ\n",
      "    if mo_coeff is None:  mo_coeff = mf.mo_coeff\n",
      "    log = logger.Logger(mf_grad.stdout, mf_grad.verbose)\n",
      "\n",
      "    hcore_deriv = mf_grad.hcore_generator(mol)\n",
      "    s1 = mf_grad.get_ovlp(mol)\n",
      "    dm0 = mf.make_rdm1(mo_coeff, mo_occ)\n",
      "\n",
      "    t0 = (time.clock(), time.time())\n",
      "    log.debug('Computing Gradients of NR-HF Coulomb repulsion')\n",
      "    vhf = mf_grad.get_veff(mol, dm0)\n",
      "    log.timer('gradients of 2e part', *t0)\n",
      "\n",
      "    dme0 = mf_grad.make_rdm1e(mo_energy, mo_coeff, mo_occ)\n",
      "\n",
      "    if atmlst is None:\n",
      "        atmlst = range(mol.natm)\n",
      "    aoslices = mol.aoslice_by_atom()\n",
      "    de = numpy.zeros((len(atmlst),3))\n",
      "    for k, ia in enumerate(atmlst):\n",
      "        p0, p1 = aoslices [ia,2:]\n",
      "        h1ao = hcore_deriv(ia)\n",
      "        de[k] += numpy.einsum('xij,ij->x', h1ao, dm0)\n",
      "# nabla was applied on bra in vhf, *2 for the contributions of nabla|ket>\n",
      "        de[k] += numpy.einsum('xij,ij->x', vhf[:,p0:p1], dm0[p0:p1]) * 2\n",
      "        de[k] -= numpy.einsum('xij,ij->x', s1[:,p0:p1], dme0[p0:p1]) * 2\n",
      "\n",
      "        de[k] += mf_grad.extra_force(ia, locals())\n",
      "\n",
      "    if log.verbose >= logger.DEBUG:\n",
      "        log.debug('gradients of electronic part')\n",
      "        _write(log, mol, de, atmlst)\n",
      "    return de\n",
      "\n"
     ]
    }
   ],
   "source": [
    "print(inspect.getsource(g.kernel))\n",
    "print(inspect.getsource(g.grad_elec))"
   ]
  },
  {
   "cell_type": "code",
   "execution_count": null,
   "metadata": {},
   "outputs": [],
   "source": [
    "\"\"\"\n",
    "This is the important code ----------------------------------------------------------------\n",
    "\n",
    "hcore_deriv = mf_grad.hcore_generator(mol)                  dH/dx\n",
    "s1 = mf_grad.get_ovlp(mol)%autocall                         dS/dx   \n",
    "dm0 = mf.make_rdm1(mo_coeff, mo_occ)                          P\n",
    "\n",
    "vhf = mf_grad.get_veff(mol, dm0)                           P ( d/dx(ml) || ns )\n",
    "\n",
    "dme0 = mf_grad.make_rdm1e(mo_energy, mo_coeff, mo_occ)        W\n",
    "\n",
    "aoslices = mol.aoslice_by_atom()\n",
    "de = numpy.zeros((len(atmlst),3))\n",
    "for k, ia in enumerate(atmlst):\n",
    "    p0, p1 = aoslices [ia,2:]\n",
    "    h1ao = hcore_deriv(ia) \n",
    "    de[k] += numpy.einsum('xij,ij->x', h1ao, dm0)                                    P*dH/dx\n",
    "# nabla was applied on bra in vhf, *2 for the contributions of nabla|ket>\n",
    "    de[k] += numpy.einsum('xij,ij->x', vhf[:,p0:p1], dm0[p0:p1]) * 2           P (Pd/dx(ml||ns))    -as constraction on dm0\n",
    "    de[k] -= numpy.einsum('xij,ij->x', s1[:,p0:p1], dme0[p0:p1]) * 2        W dS/dx\n",
    "\n",
    "    de[k] += mf_grad.extra_force(ia, locals())   # grid reponce for DFT only\n",
    "\n",
    "return de\n",
    "\"\"\""
   ]
  },
  {
   "cell_type": "code",
   "execution_count": 16,
   "metadata": {},
   "outputs": [
    {
     "name": "stdout",
     "output_type": "stream",
     "text": [
      "    def extra_force(self, atom_id, envs):\n",
      "        '''Hook for extra contributions in analytical gradients.\n",
      "\n",
      "        Contributions like the response of auxiliary basis in density fitting\n",
      "        method, the grid response in DFT numerical integration can be put in\n",
      "        this function.\n",
      "        '''\n",
      "        return 0\n",
      "\n"
     ]
    }
   ],
   "source": [
    "print(inspect.getsource(g.extra_force))"
   ]
  },
  {
   "cell_type": "markdown",
   "metadata": {},
   "source": [
    " Think how to get $\\frac{\\partial^2 H}{\\partial Z \\partial x}$"
   ]
  },
  {
   "cell_type": "code",
   "execution_count": 19,
   "metadata": {},
   "outputs": [
    {
     "name": "stdout",
     "output_type": "stream",
     "text": [
      "def hcore_generator(mf, mol=None):\n",
      "    if mol is None: mol = mf.mol\n",
      "    with_x2c = getattr(mf.base, 'with_x2c', None)\n",
      "    if with_x2c:\n",
      "        hcore_deriv = with_x2c.hcore_deriv_generator(deriv=1)\n",
      "    else:\n",
      "        with_ecp = mol.has_ecp()\n",
      "        if with_ecp:\n",
      "            ecp_atoms = set(mol._ecpbas[:,gto.ATOM_OF])\n",
      "        else:\n",
      "            ecp_atoms = ()\n",
      "        aoslices = mol.aoslice_by_atom()\n",
      "        h1 = mf.get_hcore(mol)\n",
      "        def hcore_deriv(atm_id):\n",
      "            shl0, shl1, p0, p1 = aoslices[atm_id]\n",
      "            with mol.with_rinv_at_nucleus(atm_id):\n",
      "                vrinv = mol.intor('int1e_iprinv', comp=3) # <\\nabla|1/r|>\n",
      "                vrinv *= -mol.atom_charge(atm_id)\n",
      "                if with_ecp and atm_id in ecp_atoms:\n",
      "                    vrinv += mol.intor('ECPscalar_iprinv', comp=3)\n",
      "            vrinv[:,p0:p1] += h1[:,p0:p1]\n",
      "            return vrinv + vrinv.transpose(0,2,1)\n",
      "    return hcore_deriv\n",
      "\n"
     ]
    }
   ],
   "source": [
    "print(inspect.getsource(g.hcore_generator))"
   ]
  }
 ],
 "metadata": {
  "kernelspec": {
   "display_name": "Python 3",
   "language": "python",
   "name": "python3"
  },
  "language_info": {
   "codemirror_mode": {
    "name": "ipython",
    "version": 3
   },
   "file_extension": ".py",
   "mimetype": "text/x-python",
   "name": "python",
   "nbconvert_exporter": "python",
   "pygments_lexer": "ipython3",
   "version": "3.7.6"
  }
 },
 "nbformat": 4,
 "nbformat_minor": 4
}
