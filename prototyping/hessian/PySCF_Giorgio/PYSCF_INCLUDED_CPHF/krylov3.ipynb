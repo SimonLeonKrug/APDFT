{
 "cells": [
  {
   "cell_type": "code",
   "execution_count": 1,
   "metadata": {},
   "outputs": [],
   "source": [
    "from pyscf.lib import krylov\n",
    "from pyscf import gto, scf\n",
    "import scipy\n",
    "import inspect\n",
    "import pyscf.qmmm\n",
    "import pyscf.dft\n",
    "import numpy as np\n",
    "angstrom = 1 / 0.52917721067\n",
    "from matplotlib import pyplot as plt\n",
    "from functools import reduce\n",
    "from numpy.linalg import inv \n",
    "from pyscf.scf import cphf \n",
    "\n",
    "def fc(calc,deltaZ):\n",
    "    mf = pyscf.qmmm.mm_charge(calc, calc.mol.atom_coords(), deltaZ)  # now is add_mm_charge\n",
    "    class NoSelfQMMM(mf.__class__):\n",
    "        def energy_nuc(self):\n",
    "            q = self.mol.atom_charges().astype(np.float).copy()\n",
    "            q1 =q+ np.asarray(deltaZ) \n",
    "            return self.mol.energy_nuc(q1)\n",
    "    return(NoSelfQMMM(mf,mf.mm_mol))\n",
    "\n",
    "def DeltaV(mol,dL):\n",
    "    mol.set_rinv_orig_(mol.atom_coords()[0])\n",
    "    dV=mol.intor('int1e_rinv')*dL[0]\n",
    "    mol.set_rinv_orig_(mol.atom_coords()[1])\n",
    "    dV+=mol.intor('int1e_rinv')*dL[1]\n",
    "    return -dV"
   ]
  },
  {
   "cell_type": "code",
   "execution_count": 54,
   "metadata": {},
   "outputs": [
    {
     "name": "stdout",
     "output_type": "stream",
     "text": [
      "converged SCF energy = -111.199724042754\n",
      "converged SCF energy = -111.127037547302\n",
      "converged SCF energy = -111.272703385098\n"
     ]
    },
    {
     "name": "stderr",
     "output_type": "stream",
     "text": [
      "Warning: <pyscf.gto.mole.Mole object at 0x7f19c80bb048> must be initialized before calling SCF.\n",
      "Initialize <pyscf.gto.mole.Mole object at 0x7f19c80bb048> in <pyscf.scf.hf.RHF object at 0x7f19fc5d2b38>\n"
     ]
    }
   ],
   "source": [
    "mol=gto.Mole(atom=\"C 0 0 0 ;O 0 0 2.\", unit=\"Bohr\", basis= \"sto-3g\")\n",
    "mf=scf.RHF(mol)\n",
    "mf.scf()\n",
    "dL=.01\n",
    "mf1=fc(mf,[dL,-dL])\n",
    "mf1.scf()\n",
    "mf2=fc(mf,[-dL,dL])\n",
    "mf2.scf()\n",
    "dV=DeltaV(mol,[dL,-dL])\n",
    "h2=mf.get_veff()\n",
    "dh2=(mf1.get_veff()-mf2.get_veff())/2\n",
    "J,K=mf.get_jk()\n",
    "g_ijkl=mf.mol.intor('int2e_sph')\n",
    "g_h2=g_ijkl-np.swapaxes(g_ijkl,1,2)/2\n",
    "nocc= mol.nelec[0]\n",
    "\n",
    "\n",
    "C=mf.mo_coeff\n",
    "nmo=C.shape[0]\n",
    "nvir=nmo-nocc\n",
    "S=mf.get_ovlp()\n",
    "e=mf.mo_energy\n",
    "E=np.diag(e)\n",
    "O=np.diag(mf.mo_occ)\n",
    "C1=mf1.mo_coeff\n",
    "P=mf.make_rdm1()\n",
    "P1=mf1.make_rdm1()\n",
    "P2=mf2.make_rdm1() \n",
    "dP=(P1-P2)/2\n",
    "dP2=(P1-2*P+P2)/dL**2\n",
    "dC=(abs(C1)*C/abs(C)-C)\n",
    "dV_mo=C.T@dV@C"
   ]
  },
  {
   "cell_type": "code",
   "execution_count": 55,
   "metadata": {},
   "outputs": [],
   "source": [
    "def test(u_): # check density matrices comparing to the one ontained by FD\n",
    "    ut=np.zeros((nmo,nmo))\n",
    "    ut[nocc:,:nocc]=u_.reshape(nvir,nocc)\n",
    "    ut[:nocc,nocc:]=-u_.reshape(nvir,nocc).T\n",
    "    dP_app=C@(ut@O-O@ut)@C.T    \n",
    "    print(np.linalg.norm(dP))\n",
    "    print(np.linalg.norm(dP_app))\n",
    "    print(np.linalg.norm(dP_app-dP))"
   ]
  },
  {
   "cell_type": "code",
   "execution_count": 56,
   "metadata": {},
   "outputs": [],
   "source": [
    "em1,em2=np.meshgrid(e,e)\n",
    "emeshvo=(em1-em2)[nocc:,:nocc]\n",
    "emeshf=emeshvo.flatten()\n",
    "G_cphf=g_ijkl.copy()\n",
    "G_cphf=4*G_cphf -G_cphf.swapaxes(3,1)-G_cphf.swapaxes(1,2)\n",
    "G_cphf=G_cphf@C\n",
    "G_cphf=(G_cphf.swapaxes(2,3)@C).swapaxes(3,2)\n",
    "G_cphf=(G_cphf.swapaxes(1,3)@C).swapaxes(3,1)\n",
    "G_cphf=(G_cphf.swapaxes(0,3)@C).swapaxes(3,0)\n",
    "\n",
    "G_cphfvovo=G_cphf.copy()[nocc:,:nocc,nocc:,:nocc]    #aibj"
   ]
  },
  {
   "cell_type": "code",
   "execution_count": 57,
   "metadata": {},
   "outputs": [],
   "source": [
    "dVvo=(dV_mo[nocc:,:nocc])\n",
    "dVf=dVvo.flatten()"
   ]
  },
  {
   "cell_type": "code",
   "execution_count": 58,
   "metadata": {},
   "outputs": [],
   "source": [
    "def emul(_u):\n",
    "    return _u*emeshf-_u #from U gives dV"
   ]
  },
  {
   "cell_type": "code",
   "execution_count": 59,
   "metadata": {},
   "outputs": [],
   "source": [
    "def gmul(_u):\n",
    "    return np.einsum('ijkl,kl->ij',G_cphfvovo,_u.reshape(nvir,nocc)).flatten()"
   ]
  },
  {
   "cell_type": "code",
   "execution_count": 60,
   "metadata": {},
   "outputs": [],
   "source": [
    "def amul(_u):\n",
    "    return emul(_u)-gmul(_u)"
   ]
  },
  {
   "cell_type": "code",
   "execution_count": 61,
   "metadata": {},
   "outputs": [],
   "source": [
    "uk=krylov(amul,dVf, max_cycle=100)"
   ]
  },
  {
   "cell_type": "code",
   "execution_count": 62,
   "metadata": {},
   "outputs": [
    {
     "data": {
      "text/plain": [
       "6.84001466577655e-15"
      ]
     },
     "execution_count": 62,
     "metadata": {},
     "output_type": "execute_result"
    }
   ],
   "source": [
    "np.max(amul(uk)+uk-dVf)"
   ]
  },
  {
   "cell_type": "code",
   "execution_count": 63,
   "metadata": {},
   "outputs": [
    {
     "data": {
      "text/plain": [
       "1.2242083042477324e-14"
      ]
     },
     "execution_count": 63,
     "metadata": {},
     "output_type": "execute_result"
    }
   ],
   "source": [
    "np.linalg.norm(amul(uk)+uk-dVf)"
   ]
  },
  {
   "cell_type": "code",
   "execution_count": 64,
   "metadata": {},
   "outputs": [
    {
     "data": {
      "text/plain": [
       "0.005638559281012129"
      ]
     },
     "execution_count": 64,
     "metadata": {},
     "output_type": "execute_result"
    }
   ],
   "source": [
    "np.max(dVf)"
   ]
  },
  {
   "cell_type": "code",
   "execution_count": 65,
   "metadata": {},
   "outputs": [
    {
     "name": "stdout",
     "output_type": "stream",
     "text": [
      "0.017892688180805253\n",
      "0.017892788637837286\n",
      "2.5716355479147853e-07\n"
     ]
    }
   ],
   "source": [
    "test(uk)"
   ]
  },
  {
   "cell_type": "code",
   "execution_count": 14,
   "metadata": {},
   "outputs": [
    {
     "name": "stdout",
     "output_type": "stream",
     "text": [
      "Help on function krylov in module pyscf.lib.linalg_helper:\n",
      "\n",
      "krylov(aop, b, x0=None, tol=1e-10, max_cycle=30, dot=<function dot at 0x7f19fc255d08>, lindep=1e-15, callback=None, hermi=False, max_memory=2000, verbose=2)\n",
      "    Krylov subspace method to solve  (1+a) x = b.  Ref:\n",
      "    J. A. Pople et al, Int. J.  Quantum. Chem.  Symp. 13, 225 (1979).\n",
      "    \n",
      "    Args:\n",
      "        aop : function(x) => array_like_x\n",
      "            aop(x) to mimic the matrix vector multiplication :math:`\\sum_{j}a_{ij} x_j`.\n",
      "            The argument is a 1D array.  The returned value is a 1D array.\n",
      "        b : a vector or a list of vectors\n",
      "    \n",
      "    Kwargs:\n",
      "        x0 : 1D array\n",
      "            Initial guess\n",
      "        tol : float\n",
      "            Tolerance to terminate the operation aop(x).\n",
      "        max_cycle : int\n",
      "            max number of iterations.\n",
      "        lindep : float\n",
      "            Linear dependency threshold.  The function is terminated when the\n",
      "            smallest eigenvalue of the metric of the trial vectors is lower\n",
      "            than this threshold.\n",
      "        dot : function(x, y) => scalar\n",
      "            Inner product\n",
      "        callback : function(envs_dict) => None\n",
      "            callback function takes one dict as the argument which is\n",
      "            generated by the builtin function :func:`locals`, so that the\n",
      "            callback function can access all local variables in the current\n",
      "            envrionment.\n",
      "    \n",
      "    Returns:\n",
      "        x : ndarray like b\n",
      "    \n",
      "    Examples:\n",
      "    \n",
      "    >>> from pyscf import lib\n",
      "    >>> a = numpy.random.random((10,10)) * 1e-2\n",
      "    >>> b = numpy.random.random(10)\n",
      "    >>> aop = lambda x: numpy.dot(a,x)\n",
      "    >>> x = lib.krylov(aop, b)\n",
      "    >>> numpy.allclose(numpy.dot(a,x)+x, b)\n",
      "    True\n",
      "\n"
     ]
    }
   ],
   "source": [
    "help(krylov)"
   ]
  },
  {
   "cell_type": "code",
   "execution_count": null,
   "metadata": {},
   "outputs": [],
   "source": []
  }
 ],
 "metadata": {
  "kernelspec": {
   "display_name": "Python 3",
   "language": "python",
   "name": "python3"
  },
  "language_info": {
   "codemirror_mode": {
    "name": "ipython",
    "version": 3
   },
   "file_extension": ".py",
   "mimetype": "text/x-python",
   "name": "python",
   "nbconvert_exporter": "python",
   "pygments_lexer": "ipython3",
   "version": "3.6.8"
  }
 },
 "nbformat": 4,
 "nbformat_minor": 2
}
