{
 "cells": [
  {
   "cell_type": "markdown",
   "metadata": {},
   "source": [
    "Goal of this notebook is to understand how to call cphf.solve_nos1(fvind, mo_energy, mo_occ, h1,max_cycle=20, tol=1e-9, hermi=False)  (better the shape of the arrays passed as arguments)"
   ]
  },
  {
   "cell_type": "code",
   "execution_count": 6,
   "metadata": {},
   "outputs": [],
   "source": [
    "import pyscf\n",
    "import pyscf.qmmm\n",
    "from pyscf import gto, scf\n",
    "import numpy as np\n",
    "import matplotlib.pyplot as plt\n",
    "from pyscf.geomopt.berny_solver import optimize\n",
    "from pyscf.grad import rhf as grhf\n",
    "from pyscf.hessian import rhf as hrhf\n",
    "from pyscf import lib\n",
    "import inspect\n",
    "from functools import reduce\n",
    "from pyscf.scf import cphf\n",
    "angstrom = 1 / 0.52917721067\n",
    "#from pyscf.scf._response_functions import _gen_rhf_response "
   ]
  },
  {
   "cell_type": "code",
   "execution_count": 7,
   "metadata": {},
   "outputs": [],
   "source": [
    "def DeltaV(mol,dL):\n",
    "    mol.set_rinv_orig_(mol.atom_coords()[0])\n",
    "    dV=mol.intor('int1e_rinv')*dL[0]\n",
    "    mol.set_rinv_orig_(mol.atom_coords()[1])\n",
    "    dV+=mol.intor('int1e_rinv')*dL[1]\n",
    "    return -dV\n",
    "def fc(calc,deltaZ):\n",
    "    mf = pyscf.qmmm.mm_charge(calc, calc.mol.atom_coords(), deltaZ)  # now is add_mm_charge\n",
    "    class NoSelfQMMM(mf.__class__):\n",
    "        def energy_nuc(self):\n",
    "            q = self.mol.atom_charges().astype(np.float).copy()\n",
    "            q1 =q+ np.asarray(deltaZ) \n",
    "            return self.mol.energy_nuc(q1)\n",
    "    return(NoSelfQMMM(mf,mf.mm_mol))"
   ]
  },
  {
   "cell_type": "code",
   "execution_count": 13,
   "metadata": {},
   "outputs": [],
   "source": [
    "import time\n",
    "from functools import reduce\n",
    "import numpy\n",
    "from pyscf import lib\n",
    "from pyscf.lib import logger\n",
    "from pyscf.scf import cphf\n",
    "#from pyscf.soscf.newton_ah import _gen_rhf_response\n",
    "\n",
    "\n",
    "def dipole(mf):\n",
    "    return mf.dip_moment(mf.mol, mf.make_rdm1())\n",
    "\n",
    "\n",
    "def polarizability(polobj, with_cphf=True):\n",
    "    from pyscf.prop.nmr import rhf as rhf_nmr\n",
    "    log = logger.new_logger(polobj)\n",
    "    mf = polobj._scf\n",
    "    mol = mf.mol\n",
    "    mo_energy = mf.mo_energy\n",
    "    mo_coeff = mf.mo_coeff\n",
    "    mo_occ = mf.mo_occ\n",
    "    occidx = mo_occ > 0\n",
    "    orbo = mo_coeff[:, occidx]\n",
    "    orbv = mo_coeff[:,~occidx]\n",
    "\n",
    "    charges = mol.atom_charges()\n",
    "    coords  = mol.atom_coords()\n",
    "    charge_center = numpy.einsum('i,ix->x', charges, coords) / charges.sum()\n",
    "    with mol.with_common_orig(charge_center):\n",
    "        int_r = mol.intor_symmetric('int1e_r', comp=3)\n",
    "    h1 = lib.einsum('xpq,pi,qj->xij', int_r, mo_coeff.conj(), orbo)\n",
    "    print(h1.shape)\n",
    "    print(mo_energy, mo_occ,h1)\n",
    "    s1 = numpy.zeros_like(h1)\n",
    "    vind = polobj.gen_vind(mf, mo_coeff, mo_occ)\n",
    "    if with_cphf:\n",
    "        mo1 = cphf.solve(vind, mo_energy, mo_occ, h1, s1,\n",
    "                         polobj.max_cycle_cphf, polobj.conv_tol,\n",
    "                         verbose=log)[0]\n",
    "    else:\n",
    "        mo1 = rhf_nmr._solve_mo1_uncoupled(mo_energy, mo_occ, h1, s1)[0]\n",
    "\n",
    "    e2 = numpy.einsum('xpi,ypi->xy', h1, mo1)\n",
    "    # *-1 from the definition of dipole moment. *2 for double occupancy\n",
    "    e2 = (e2 + e2.T) * -2\n",
    "    return e2\n"
   ]
  },
  {
   "cell_type": "code",
   "execution_count": 20,
   "metadata": {},
   "outputs": [
    {
     "name": "stdout",
     "output_type": "stream",
     "text": [
      "converged SCF energy = -4.99200502849037\n"
     ]
    }
   ],
   "source": [
    "mol = gto.M(atom='He 0 0 0; He 0 0 1.2', unit=\"Bohr\",basis=\"3-21g\")\n",
    "mf = scf.RHF(mol)\n",
    "e=mf.scf()"
   ]
  },
  {
   "cell_type": "code",
   "execution_count": 21,
   "metadata": {},
   "outputs": [],
   "source": [
    "from pyscf.prop.polarizability.rhf import Polarizability\n",
    "plo=Polarizability(mf)"
   ]
  },
  {
   "cell_type": "code",
   "execution_count": 22,
   "metadata": {
    "scrolled": true
   },
   "outputs": [
    {
     "name": "stdout",
     "output_type": "stream",
     "text": [
      "(3, 4, 2)\n",
      "[-1.50533059 -0.3966134   1.83544158  2.19029745] [2. 2. 0. 0.] [[[ 0.00000000e+00  0.00000000e+00]\n",
      "  [ 0.00000000e+00  0.00000000e+00]\n",
      "  [ 0.00000000e+00  0.00000000e+00]\n",
      "  [ 0.00000000e+00  0.00000000e+00]]\n",
      "\n",
      " [[ 0.00000000e+00  0.00000000e+00]\n",
      "  [ 0.00000000e+00  0.00000000e+00]\n",
      "  [ 0.00000000e+00  0.00000000e+00]\n",
      "  [ 0.00000000e+00  0.00000000e+00]]\n",
      "\n",
      " [[ 2.77555756e-17 -7.44003543e-01]\n",
      "  [-7.44003543e-01 -1.22124533e-15]\n",
      "  [-1.16573418e-15  3.90037923e-01]\n",
      "  [ 2.18186488e-02  4.99600361e-16]]]\n"
     ]
    },
    {
     "data": {
      "text/plain": [
       "array([[-0.        , -0.        , -0.        ],\n",
       "       [-0.        , -0.        , -0.        ],\n",
       "       [-0.        , -0.        ,  0.34145845]])"
      ]
     },
     "execution_count": 22,
     "metadata": {},
     "output_type": "execute_result"
    }
   ],
   "source": [
    "polarizability(plo)"
   ]
  },
  {
   "cell_type": "code",
   "execution_count": null,
   "metadata": {},
   "outputs": [],
   "source": []
  },
  {
   "cell_type": "code",
   "execution_count": null,
   "metadata": {},
   "outputs": [],
   "source": []
  }
 ],
 "metadata": {
  "kernelspec": {
   "display_name": "Python 3",
   "language": "python",
   "name": "python3"
  },
  "language_info": {
   "codemirror_mode": {
    "name": "ipython",
    "version": 3
   },
   "file_extension": ".py",
   "mimetype": "text/x-python",
   "name": "python",
   "nbconvert_exporter": "python",
   "pygments_lexer": "ipython3",
   "version": "3.6.8"
  }
 },
 "nbformat": 4,
 "nbformat_minor": 2
}
