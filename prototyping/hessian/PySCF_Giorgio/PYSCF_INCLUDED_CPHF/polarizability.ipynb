{
 "cells": [
  {
   "cell_type": "markdown",
   "metadata": {},
   "source": [
    "Goal of this notebook is to understand how to call cphf.solve_nos1(fvind, mo_energy, mo_occ, h1,max_cycle=20, tol=1e-9, hermi=False)  (better the shape of the arrays passed as arguments)"
   ]
  },
  {
   "cell_type": "code",
   "execution_count": 8,
   "metadata": {},
   "outputs": [],
   "source": [
    "import pyscf\n",
    "import pyscf.qmmm\n",
    "from pyscf import gto, scf\n",
    "import numpy as np\n",
    "import matplotlib.pyplot as plt\n",
    "import inspect\n",
    "#from pyscf.geomopt.berny_solver import optimize\n",
    "#from pyscf.grad import rhf as grhf\n",
    "from pyscf.hessian import rhf as hrhf\n",
    "from pyscf import lib\n",
    "import inspect\n",
    "from functools import reduce\n",
    "from pyscf.scf import cphf\n",
    "from pyscf.prop.polarizability.rhf import Polarizability\n",
    "angstrom = 1 / 0.52917721067\n",
    "#from pyscf.scf._response_functions import _gen_rhf_response "
   ]
  },
  {
   "cell_type": "code",
   "execution_count": 9,
   "metadata": {},
   "outputs": [],
   "source": [
    "def DeltaV(mol,dL):\n",
    "    mol.set_rinv_orig_(mol.atom_coords()[0])\n",
    "    dV=mol.intor('int1e_rinv')*dL[0]\n",
    "    mol.set_rinv_orig_(mol.atom_coords()[1])\n",
    "    dV+=mol.intor('int1e_rinv')*dL[1]\n",
    "    return -dV.reshape((1,dV.shape[0],dV.shape[1]))\n",
    "\n",
    "def fc(calc,deltaZ):\n",
    "    mf = pyscf.qmmm.mm_charge(calc, calc.mol.atom_coords(), deltaZ)  # now is add_mm_charge\n",
    "    class NoSelfQMMM(mf.__class__):\n",
    "        def energy_nuc(self):\n",
    "            q = self.mol.atom_charges().astype(np.float).copy()\n",
    "            q1 =q+ np.asarray(deltaZ) \n",
    "            return self.mol.energy_nuc(q1)\n",
    "    return(NoSelfQMMM(mf,mf.mm_mol))"
   ]
  },
  {
   "cell_type": "code",
   "execution_count": 118,
   "metadata": {},
   "outputs": [],
   "source": [
    "import time\n",
    "from functools import reduce\n",
    "import numpy\n",
    "from pyscf import lib\n",
    "from pyscf.lib import logger\n",
    "from pyscf.scf import cphf\n",
    "from pyscf.prop.nmr import rhf as rhf_nmr\n",
    "#from pyscf.scf import _gen_rhf_response\n",
    "\n",
    "def dipole(mf):\n",
    "    return mf.dip_moment(mf.mol, mf.make_rdm1())\n",
    "\n",
    "\n",
    "def polarizability(polobj, with_cphf=True):\n",
    "    \n",
    "    log = logger.new_logger(polobj)\n",
    "    mf = polobj._scf\n",
    "    mol = mf.mol\n",
    "    mo_energy = mf.mo_energy\n",
    "    mo_coeff = mf.mo_coeff\n",
    "    mo_occ = mf.mo_occ\n",
    "    occidx = mo_occ > 0\n",
    "    orbo = mo_coeff[:, occidx]\n",
    "    orbv = mo_coeff[:,~occidx]\n",
    "\n",
    "    charges = mol.atom_charges()\n",
    "    coords  = mol.atom_coords()\n",
    "    charge_center = numpy.einsum('i,ix->x', charges, coords) / charges.sum()\n",
    "    int_r=DeltaV(mol,[.001,-.001])\n",
    "    h1 = lib.einsum('xpq,pi,qj->xij', int_r, mo_coeff.conj(), orbo) #going to molecular orbitals?\n",
    "    print(h1.shape, \"shape (1, n ao, nocc)\" )\n",
    "    #print(mo_energy, mo_occ,h1)\n",
    "    s1 = numpy.zeros_like(h1)\n",
    "    vind = polobj.gen_vind(mf, mo_coeff, mo_occ)\n",
    "    if with_cphf:\n",
    "        mo1 = cphf.solve(vind, mo_energy, mo_occ, h1, s1, polobj.max_cycle_cphf, polobj.conv_tol,verbose=log)[0]\n",
    "    else:\n",
    "        mo1 = rhf_nmr._solve_mo1_uncoupled(mo_energy, mo_occ, h1, s1)[0]\n",
    "    #e2 = numpy.einsum('xpi,ypi->xy', h1, mo1)\n",
    "    # *-1 from the definition of dipole moment. *2 for double occupancy\n",
    "    #e2 = (e2 + e2.T) * -2\n",
    "    #return e2\n",
    "    return mo1\n",
    "\n",
    "def gen_vind(self, mf, mo_coeff, mo_occ):  #polarizability\n",
    "        '''Induced potential'''\n",
    "        vresp = mf.gen_response(hermi=1)\n",
    "        occidx = mo_occ > 0\n",
    "        orbo = mo_coeff[:, occidx]\n",
    "        nocc = orbo.shape[1]\n",
    "        nao, nmo = mo_coeff.shape\n",
    "        def vind(mo1):\n",
    "            dm1 = lib.einsum('xai,pa,qi->xpq', mo1.reshape(-1,nmo,nocc), mo_coeff,orbo.conj())\n",
    "            dm1 = (dm1 + dm1.transpose(0,2,1).conj()) * 2\n",
    "            v1mo = lib.einsum('xpq,pi,qj->xij', vresp(dm1), mo_coeff.conj(), orbo)\n",
    "            return v1mo.ravel()\n",
    "        return vind"
   ]
  },
  {
   "cell_type": "code",
   "execution_count": 179,
   "metadata": {},
   "outputs": [
    {
     "name": "stderr",
     "output_type": "stream",
     "text": [
      "Warning: <pyscf.gto.mole.Mole object at 0x7fc2c09c45d0> must be initialized before calling SCF.\n",
      "Initialize <pyscf.gto.mole.Mole object at 0x7fc2c09c45d0> in <pyscf.scf.hf.RHF object at 0x7fc2c0a0a6d0>\n"
     ]
    },
    {
     "name": "stdout",
     "output_type": "stream",
     "text": [
      "converged SCF energy = -1.11033388268018\n"
     ]
    }
   ],
   "source": [
    "mol = gto.Mole(atom='H 0 0 0; H 0 0 1.2', unit=\"Bohr\",basis=\"STO-3G\")\n",
    "#mol=gto.Mole(atom=\"C 0 0 0 ;O 0 0 2.\", unit=\"Bohr\", basis= \"3-21G\")\n",
    "mf = scf.RHF(mol)\n",
    "e=mf.scf()"
   ]
  },
  {
   "cell_type": "code",
   "execution_count": 180,
   "metadata": {},
   "outputs": [],
   "source": [
    "plo=Polarizability(mf) #polariz obj"
   ]
  },
  {
   "cell_type": "code",
   "execution_count": 181,
   "metadata": {
    "scrolled": true
   },
   "outputs": [
    {
     "name": "stdout",
     "output_type": "stream",
     "text": [
      "(1, 2, 1) shape (1, n ao, nocc)\n"
     ]
    }
   ],
   "source": [
    "pa=polarizability(plo)"
   ]
  },
  {
   "cell_type": "code",
   "execution_count": 182,
   "metadata": {},
   "outputs": [
    {
     "name": "stdout",
     "output_type": "stream",
     "text": [
      "converged SCF energy = -1.1103355584584\n"
     ]
    },
    {
     "data": {
      "text/plain": [
       "-1.1103355584583992"
      ]
     },
     "execution_count": 182,
     "metadata": {},
     "output_type": "execute_result"
    }
   ],
   "source": [
    "hf1=fc(mf,[.001,-0.001])\n",
    "hf1.scf()"
   ]
  },
  {
   "cell_type": "code",
   "execution_count": 183,
   "metadata": {},
   "outputs": [
    {
     "data": {
      "text/plain": [
       "array([[ 0.53859761, -1.35712572],\n",
       "       [ 0.53702883,  1.35774726]])"
      ]
     },
     "execution_count": 183,
     "metadata": {},
     "output_type": "execute_result"
    }
   ],
   "source": [
    "C1= hf1.mo_coeff\n",
    "C1"
   ]
  },
  {
   "cell_type": "code",
   "execution_count": 196,
   "metadata": {},
   "outputs": [],
   "source": [
    "C=np.flip(mf.mo_coeff.copy(),axis=0)"
   ]
  },
  {
   "cell_type": "code",
   "execution_count": 197,
   "metadata": {},
   "outputs": [
    {
     "data": {
      "text/plain": [
       "array([[ 0.53781331, -1.35743672],\n",
       "       [ 0.53781331,  1.35743672]])"
      ]
     },
     "execution_count": 197,
     "metadata": {},
     "output_type": "execute_result"
    }
   ],
   "source": [
    "C"
   ]
  },
  {
   "cell_type": "code",
   "execution_count": 198,
   "metadata": {},
   "outputs": [
    {
     "data": {
      "text/plain": [
       "array([[ 0.0007843 ,  0.000311  ],\n",
       "       [-0.00078448,  0.00031055]])"
      ]
     },
     "execution_count": 198,
     "metadata": {},
     "output_type": "execute_result"
    }
   ],
   "source": [
    "C1-C"
   ]
  },
  {
   "cell_type": "code",
   "execution_count": 201,
   "metadata": {},
   "outputs": [
    {
     "data": {
      "text/plain": [
       "array([[ 0.        ,  0.00057807],\n",
       "       [-0.00057807,  0.        ]])"
      ]
     },
     "execution_count": 201,
     "metadata": {},
     "output_type": "execute_result"
    }
   ],
   "source": [
    "nao=mol.nao\n",
    "nocc=mol.nelectron//2 #RHF\n",
    "U=np.zeros((nao,nao))\n",
    "U[:,:nocc]=pa[0,:,:nocc]\n",
    "U=U.T-U\n",
    "U"
   ]
  },
  {
   "cell_type": "code",
   "execution_count": 202,
   "metadata": {},
   "outputs": [
    {
     "data": {
      "text/plain": [
       "array([[ 3.96287780e-07, -1.05195689e-07],\n",
       "       [-2.16707694e-07,  3.48063087e-07]])"
      ]
     },
     "execution_count": 202,
     "metadata": {},
     "output_type": "execute_result"
    }
   ],
   "source": [
    "C@U-(C1-C)"
   ]
  },
  {
   "cell_type": "code",
   "execution_count": 203,
   "metadata": {},
   "outputs": [
    {
     "data": {
      "text/plain": [
       "(array([[ 0.53859801, -1.35712582],\n",
       "        [ 0.53702861,  1.35774761]]),\n",
       " array([[ 0.53859761, -1.35712572],\n",
       "        [ 0.53702883,  1.35774726]]))"
      ]
     },
     "execution_count": 203,
     "metadata": {},
     "output_type": "execute_result"
    }
   ],
   "source": [
    "C+C@U,C1"
   ]
  },
  {
   "cell_type": "code",
   "execution_count": 244,
   "metadata": {},
   "outputs": [
    {
     "name": "stderr",
     "output_type": "stream",
     "text": [
      "Warning: <pyscf.gto.mole.Mole object at 0x7fc2c0a77b90> must be initialized before calling SCF.\n",
      "Initialize <pyscf.gto.mole.Mole object at 0x7fc2c0a77b90> in <pyscf.scf.hf.RHF object at 0x7fc2c0a77a90>\n"
     ]
    },
    {
     "name": "stdout",
     "output_type": "stream",
     "text": [
      "converged SCF energy = -112.786331647844\n"
     ]
    }
   ],
   "source": [
    "mol=gto.Mole(atom=\"C 0 0 0 ;O 0 0 2.\", unit=\"Bohr\", basis= \"def2-QZVPP\")\n",
    "mf = scf.RHF(mol)\n",
    "e=mf.scf()\n",
    "C=mf.mo_coeff\n",
    "P=mf.make_rdm1()"
   ]
  },
  {
   "cell_type": "code",
   "execution_count": 245,
   "metadata": {},
   "outputs": [],
   "source": [
    "plo=Polarizability(mf)"
   ]
  },
  {
   "cell_type": "code",
   "execution_count": 246,
   "metadata": {},
   "outputs": [
    {
     "name": "stdout",
     "output_type": "stream",
     "text": [
      "(1, 114, 7) shape (1, n ao, nocc)\n",
      "converged SCF energy = -112.778763010131\n"
     ]
    }
   ],
   "source": [
    "pa=polarizability(plo)\n",
    "hf1=fc(mf,[.001,-0.001])\n",
    "hf1.scf()\n",
    "P1=hf1.make_rdm1()"
   ]
  },
  {
   "cell_type": "code",
   "execution_count": 247,
   "metadata": {},
   "outputs": [],
   "source": [
    "nao=mol.nao\n",
    "nocc=mol.nelectron//2 #RHF\n",
    "U=np.zeros((nao,nao))\n",
    "U[:,:nocc]=pa[0,:,:nocc]\n",
    "U=U-U.T\n",
    "O=np.diag(mf.mo_occ)"
   ]
  },
  {
   "cell_type": "code",
   "execution_count": 248,
   "metadata": {},
   "outputs": [],
   "source": [
    "dP_app=C@(U@O-O@U)@C.T"
   ]
  },
  {
   "cell_type": "code",
   "execution_count": 249,
   "metadata": {},
   "outputs": [
    {
     "data": {
      "text/plain": [
       "0.0005164201220738684"
      ]
     },
     "execution_count": 249,
     "metadata": {},
     "output_type": "execute_result"
    }
   ],
   "source": [
    "np.max(P1-P)"
   ]
  },
  {
   "cell_type": "code",
   "execution_count": 250,
   "metadata": {},
   "outputs": [
    {
     "data": {
      "text/plain": [
       "0.0005162556296109519"
      ]
     },
     "execution_count": 250,
     "metadata": {},
     "output_type": "execute_result"
    }
   ],
   "source": [
    "np.max(dP_app)"
   ]
  },
  {
   "cell_type": "code",
   "execution_count": 251,
   "metadata": {},
   "outputs": [
    {
     "data": {
      "text/plain": [
       "3.139931471496382e-07"
      ]
     },
     "execution_count": 251,
     "metadata": {},
     "output_type": "execute_result"
    }
   ],
   "source": [
    "np.max(dP_app-P1+P)"
   ]
  },
  {
   "cell_type": "code",
   "execution_count": null,
   "metadata": {},
   "outputs": [],
   "source": []
  }
 ],
 "metadata": {
  "kernelspec": {
   "display_name": "Python 3",
   "language": "python",
   "name": "python3"
  },
  "language_info": {
   "codemirror_mode": {
    "name": "ipython",
    "version": 3
   },
   "file_extension": ".py",
   "mimetype": "text/x-python",
   "name": "python",
   "nbconvert_exporter": "python",
   "pygments_lexer": "ipython3",
   "version": "3.7.6"
  }
 },
 "nbformat": 4,
 "nbformat_minor": 2
}
