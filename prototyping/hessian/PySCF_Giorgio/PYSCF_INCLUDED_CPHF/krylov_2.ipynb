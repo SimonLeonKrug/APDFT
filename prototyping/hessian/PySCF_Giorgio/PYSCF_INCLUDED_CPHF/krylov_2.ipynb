{
 "cells": [
  {
   "cell_type": "code",
   "execution_count": 281,
   "metadata": {},
   "outputs": [],
   "source": [
    "from pyscf.lib import krylov\n",
    "from pyscf import gto, scf\n",
    "import scipy\n",
    "import inspect\n",
    "import pyscf.qmmm\n",
    "import pyscf.dft\n",
    "import numpy as np\n",
    "angstrom = 1 / 0.52917721067\n",
    "from matplotlib import pyplot as plt\n",
    "from functools import reduce\n",
    "from numpy.linalg import inv \n",
    "from pyscf.scf import cphf \n",
    "\n",
    "def fc(calc,deltaZ):\n",
    "    mf = pyscf.qmmm.mm_charge(calc, calc.mol.atom_coords(), deltaZ)  # now is add_mm_charge\n",
    "    class NoSelfQMMM(mf.__class__):\n",
    "        def energy_nuc(self):\n",
    "            q = self.mol.atom_charges().astype(np.float).copy()\n",
    "            q1 =q+ np.asarray(deltaZ) \n",
    "            return self.mol.energy_nuc(q1)\n",
    "    return(NoSelfQMMM(mf,mf.mm_mol))\n",
    "\n",
    "def DeltaV(mol,dL):\n",
    "    mol.set_rinv_orig_(mol.atom_coords()[0])\n",
    "    dV=mol.intor('int1e_rinv')*dL[0]\n",
    "    mol.set_rinv_orig_(mol.atom_coords()[1])\n",
    "    dV+=mol.intor('int1e_rinv')*dL[1]\n",
    "    return -dV"
   ]
  },
  {
   "cell_type": "code",
   "execution_count": 282,
   "metadata": {},
   "outputs": [
    {
     "name": "stdout",
     "output_type": "stream",
     "text": [
      "converged SCF energy = -1.04917090198581\n",
      "converged SCF energy = -1.06995377385842\n"
     ]
    },
    {
     "name": "stderr",
     "output_type": "stream",
     "text": [
      "Warning: <pyscf.gto.mole.Mole object at 0x7feb103a8470> must be initialized before calling SCF.\n",
      "Initialize <pyscf.gto.mole.Mole object at 0x7feb103a8470> in <pyscf.scf.hf.RHF object at 0x7feb103a8668>\n"
     ]
    },
    {
     "name": "stdout",
     "output_type": "stream",
     "text": [
      "converged SCF energy = -1.06995377385842\n"
     ]
    }
   ],
   "source": [
    "mol=gto.Mole(atom=\"H 0 0 0 ;H 0 0 2.\", unit=\"Bohr\", basis= \"sto-3g\")\n",
    "mf=scf.RHF(mol)\n",
    "mf.scf()\n",
    "dL=.1\n",
    "mf1=fc(mf,[dL,-dL])\n",
    "mf1.scf()\n",
    "mf2=fc(mf,[-dL,dL])\n",
    "mf2.scf()\n",
    "dV=DeltaV(mol,[dL,-dL])\n",
    "h2=mf.get_veff()\n",
    "dh2=(mf1.get_veff()-mf2.get_veff())/2\n",
    "J,K=mf.get_jk()\n",
    "g_ijkl=mf.mol.intor('int2e_sph')\n",
    "g_h2=g_ijkl-np.swapaxes(g_ijkl,1,2)/2\n",
    "nocc= mol.nelec[0]\n",
    "\n",
    "\n",
    "C=mf.mo_coeff\n",
    "nmo=C.shape[0]\n",
    "nvir=nmo-nocc\n",
    "S=mf.get_ovlp()\n",
    "e=mf.mo_energy\n",
    "E=np.diag(e)\n",
    "O=np.diag(mf.mo_occ)\n",
    "C1=mf1.mo_coeff\n",
    "P=mf.make_rdm1()\n",
    "P1=mf1.make_rdm1()\n",
    "P2=mf2.make_rdm1() \n",
    "dP=(P1-P2)/2\n",
    "dP2=(P1-2*P+P2)/dL**2\n",
    "dC=(abs(C1)*C/abs(C)-C)\n",
    "dV_mo=C.T@dV@C"
   ]
  },
  {
   "cell_type": "code",
   "execution_count": 283,
   "metadata": {},
   "outputs": [],
   "source": [
    "def test(u_):\n",
    "    ut=np.zeros((nmo,nmo))\n",
    "    ut[nocc:,:nocc]=u_.reshape(nvir,nocc)\n",
    "    ut[:nocc,nocc:]=-u_.reshape(nvir,nocc).T\n",
    "    dP_app=C@(ut@O-O@ut)@C.T    \n",
    "    print(np.linalg.norm(dP_app-dP))\n",
    "    print(np.linalg.norm(dP))\n",
    "    print(np.linalg.norm(dP_app))"
   ]
  },
  {
   "cell_type": "code",
   "execution_count": 284,
   "metadata": {},
   "outputs": [
    {
     "data": {
      "text/plain": [
       "(2, 1, 1)"
      ]
     },
     "execution_count": 284,
     "metadata": {},
     "output_type": "execute_result"
    }
   ],
   "source": [
    "nmo,nocc,nvir"
   ]
  },
  {
   "cell_type": "code",
   "execution_count": 285,
   "metadata": {},
   "outputs": [
    {
     "name": "stdout",
     "output_type": "stream",
     "text": [
      "[[ 2.90549984e-17 -6.36855833e-02  9.33170824e-18 -5.08273736e-02\n",
      "  -2.11212132e-02  3.20978999e-17]\n",
      " [ 6.36855833e-02 -2.42910985e-17  5.20971529e-02 -4.16726069e-17\n",
      "   8.06869771e-18  1.46532364e-02]\n",
      " [-1.58124069e-17 -5.20971529e-02 -1.05793416e-17  1.55452391e-01\n",
      "   1.93098118e-02 -5.05612630e-17]\n",
      " [ 5.08273736e-02  1.18199917e-17 -1.55452391e-01  5.53990589e-17\n",
      "   8.32873306e-17  2.94187529e-02]\n",
      " [ 2.11212132e-02 -4.59328442e-18 -1.93098118e-02 -7.54070774e-17\n",
      "   5.74897298e-16  1.07541470e+00]\n",
      " [-2.94250095e-17 -1.46532364e-02  4.89789727e-17 -2.94187529e-02\n",
      "  -1.07541470e+00 -5.70319181e-16]]\n"
     ]
    }
   ],
   "source": [
    "print(U_0)"
   ]
  },
  {
   "cell_type": "code",
   "execution_count": 286,
   "metadata": {},
   "outputs": [
    {
     "data": {
      "text/plain": [
       "array([ 6.36855833e-02, -1.58124069e-17,  5.08273736e-02,  2.11212132e-02,\n",
       "       -2.94250095e-17])"
      ]
     },
     "execution_count": 286,
     "metadata": {},
     "output_type": "execute_result"
    }
   ],
   "source": [
    "U_0f"
   ]
  },
  {
   "cell_type": "code",
   "execution_count": null,
   "metadata": {},
   "outputs": [],
   "source": []
  },
  {
   "cell_type": "code",
   "execution_count": 287,
   "metadata": {},
   "outputs": [],
   "source": [
    "em1,em2=np.meshgrid(e,e)\n",
    "emeshvo=(em1-em2)[nocc:,:nocc]\n",
    "emeshf=emeshvo.flatten()\n",
    "G_cphf=g_ijkl.copy()\n",
    "G_cphf=4*G_cphf -G_cphf.swapaxes(3,1)-G_cphf.swapaxes(1,2)\n",
    "G_cphf=G_cphf@C\n",
    "G_cphf=(G_cphf.swapaxes(2,3)@C).swapaxes(3,2)\n",
    "G_cphf=(G_cphf.swapaxes(1,3)@C).swapaxes(3,1)\n",
    "G_cphf=(G_cphf.swapaxes(0,3)@C).swapaxes(3,0)\n",
    "G_cphfvovo=G_cphf.copy()[nocc:,:nocc,nocc:,:nocc]    #aibj"
   ]
  },
  {
   "cell_type": "code",
   "execution_count": 288,
   "metadata": {},
   "outputs": [],
   "source": [
    "U_0=dV_mo.copy()\n",
    "for i in range(mol.nao):\n",
    "    for a in range(mol.nao):\n",
    "        if e[i] !=e[a] :\n",
    "            U_0[i,a]/=(e[a]-e[i])"
   ]
  },
  {
   "cell_type": "code",
   "execution_count": 289,
   "metadata": {
    "scrolled": true
   },
   "outputs": [],
   "source": [
    "U_0vo=U_0[nocc:,:nocc]\n",
    "U_0f=U_0vo.flatten()"
   ]
  },
  {
   "cell_type": "code",
   "execution_count": 290,
   "metadata": {},
   "outputs": [],
   "source": [
    "dVvo=(dV_mo[nocc:,:nocc])\n",
    "dVf=dVvo.flatten()"
   ]
  },
  {
   "cell_type": "code",
   "execution_count": 291,
   "metadata": {},
   "outputs": [
    {
     "name": "stdout",
     "output_type": "stream",
     "text": [
      "[[0.09391977]] \n",
      "\n",
      "[[0.09391977]]\n"
     ]
    }
   ],
   "source": [
    "print(dVvo/emeshvo,'\\n')\n",
    "print(U_0vo)"
   ]
  },
  {
   "cell_type": "code",
   "execution_count": 292,
   "metadata": {},
   "outputs": [
    {
     "name": "stdout",
     "output_type": "stream",
     "text": [
      "[0.09391977] \n",
      "\n",
      "[0.09391977]\n"
     ]
    }
   ],
   "source": [
    "print(dVf/emeshf,'\\n')\n",
    "print(U_0f)"
   ]
  },
  {
   "cell_type": "code",
   "execution_count": 293,
   "metadata": {},
   "outputs": [],
   "source": [
    "def emul(_u):\n",
    "    return _u/emeshf"
   ]
  },
  {
   "cell_type": "code",
   "execution_count": 294,
   "metadata": {},
   "outputs": [
    {
     "data": {
      "text/plain": [
       "array([0.09391977])"
      ]
     },
     "execution_count": 294,
     "metadata": {},
     "output_type": "execute_result"
    }
   ],
   "source": [
    "emul(dVf)"
   ]
  },
  {
   "cell_type": "markdown",
   "metadata": {},
   "source": [
    "Now the inverse"
   ]
  },
  {
   "cell_type": "code",
   "execution_count": 295,
   "metadata": {},
   "outputs": [
    {
     "name": "stdout",
     "output_type": "stream",
     "text": [
      "[-0.0833446] \n",
      "\n",
      "[-0.0833446]\n"
     ]
    }
   ],
   "source": [
    "print(dVf,'\\n')\n",
    "print(U_0f*emeshf)"
   ]
  },
  {
   "cell_type": "code",
   "execution_count": 296,
   "metadata": {},
   "outputs": [],
   "source": [
    "def emul2(_u):\n",
    "    return _u*emeshf #from U gives dV"
   ]
  },
  {
   "cell_type": "code",
   "execution_count": 297,
   "metadata": {},
   "outputs": [
    {
     "name": "stdout",
     "output_type": "stream",
     "text": [
      "[-0.0833446] \n",
      "\n",
      "[-0.0833446]\n"
     ]
    }
   ],
   "source": [
    "print(dVf,'\\n')\n",
    "print(emul2(U_0f))"
   ]
  },
  {
   "cell_type": "code",
   "execution_count": 298,
   "metadata": {},
   "outputs": [],
   "source": [
    "def emul3(_u):\n",
    "    return _u*emeshf-_u #from U gives dV"
   ]
  },
  {
   "cell_type": "code",
   "execution_count": 299,
   "metadata": {},
   "outputs": [],
   "source": [
    "uk=krylov(emul3,dVf)"
   ]
  },
  {
   "cell_type": "code",
   "execution_count": 300,
   "metadata": {},
   "outputs": [
    {
     "name": "stdout",
     "output_type": "stream",
     "text": [
      "[0.09391977]\n",
      "[0.09391977]\n"
     ]
    },
    {
     "data": {
      "text/plain": [
       "True"
      ]
     },
     "execution_count": 300,
     "metadata": {},
     "output_type": "execute_result"
    }
   ],
   "source": [
    "print(U_0f)\n",
    "print(uk)\n",
    "np.allclose(uk,U_0f)"
   ]
  },
  {
   "cell_type": "markdown",
   "metadata": {},
   "source": [
    "now add the electronic repulsion response other part !!!!"
   ]
  },
  {
   "cell_type": "code",
   "execution_count": 301,
   "metadata": {},
   "outputs": [],
   "source": [
    "def gmul(_u):\n",
    "    return np.einsum('ijkl,kl->ij',G_cphfvovo,_u.reshape(nvir,nocc)).flatten()"
   ]
  },
  {
   "cell_type": "code",
   "execution_count": 302,
   "metadata": {},
   "outputs": [
    {
     "data": {
      "text/plain": [
       "array([0.00096938])"
      ]
     },
     "execution_count": 302,
     "metadata": {},
     "output_type": "execute_result"
    }
   ],
   "source": [
    "amuk(dVf)"
   ]
  },
  {
   "cell_type": "code",
   "execution_count": 313,
   "metadata": {},
   "outputs": [],
   "source": [
    "def amul(_u):\n",
    "    return emul3(_u)+gmul(_u)/2"
   ]
  },
  {
   "cell_type": "code",
   "execution_count": 315,
   "metadata": {},
   "outputs": [],
   "source": [
    "uk=krylov(amul,dVf)"
   ]
  },
  {
   "cell_type": "code",
   "execution_count": 316,
   "metadata": {},
   "outputs": [
    {
     "name": "stdout",
     "output_type": "stream",
     "text": [
      "[0.09330829]\n",
      "[0.09391977]\n"
     ]
    }
   ],
   "source": [
    "print(uk)\n",
    "print(U_0f)"
   ]
  },
  {
   "cell_type": "code",
   "execution_count": 317,
   "metadata": {
    "scrolled": true
   },
   "outputs": [
    {
     "name": "stdout",
     "output_type": "stream",
     "text": [
      "0.0009032652882911935\n",
      "0.3005681473646777\n",
      "0.29966488207638653\n"
     ]
    }
   ],
   "source": [
    "test(U_0f)"
   ]
  },
  {
   "cell_type": "code",
   "execution_count": 318,
   "metadata": {},
   "outputs": [
    {
     "name": "stdout",
     "output_type": "stream",
     "text": [
      "0.0028543013674316854\n",
      "0.3005681473646777\n",
      "0.29771384599724604\n"
     ]
    }
   ],
   "source": [
    "test(uk)"
   ]
  },
  {
   "cell_type": "code",
   "execution_count": 307,
   "metadata": {},
   "outputs": [
    {
     "name": "stdout",
     "output_type": "stream",
     "text": [
      "0.0009032652882911935\n",
      "0.3005681473646777\n",
      "0.29966488207638653\n"
     ]
    }
   ],
   "source": [
    "dP_app=C@(U_0@O-O@U_0)@C.T    \n",
    "print(np.linalg.norm(dP_app-dP))\n",
    "print(np.linalg.norm(dP))\n",
    "print(np.linalg.norm(dP_app))"
   ]
  }
 ],
 "metadata": {
  "kernelspec": {
   "display_name": "Python 3",
   "language": "python",
   "name": "python3"
  },
  "language_info": {
   "codemirror_mode": {
    "name": "ipython",
    "version": 3
   },
   "file_extension": ".py",
   "mimetype": "text/x-python",
   "name": "python",
   "nbconvert_exporter": "python",
   "pygments_lexer": "ipython3",
   "version": "3.6.8"
  }
 },
 "nbformat": 4,
 "nbformat_minor": 2
}
