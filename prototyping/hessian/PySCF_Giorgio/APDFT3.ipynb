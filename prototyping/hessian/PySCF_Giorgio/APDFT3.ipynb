{
 "cells": [
  {
   "cell_type": "code",
   "execution_count": 44,
   "metadata": {},
   "outputs": [],
   "source": [
    "from pyscf import gto, scf\n",
    "import scipy\n",
    "import inspect\n",
    "import pyscf.qmmm\n",
    "import pyscf.dft\n",
    "import numpy as np\n",
    "angstrom = 1 / 0.52917721067\n",
    "from matplotlib import pyplot as plt\n",
    "from functools import reduce\n",
    "from numpy.linalg import inv \n",
    "from pyscf.scf import cphf \n",
    "# ancora il modo migliore per mettere cariche frazionali sulle molecole, se vai a toccare mol.charges si incazza \n",
    "#  quando deve calcolare l' initial guess \n",
    "def fc(calc,deltaZ):\n",
    "    mf = pyscf.qmmm.mm_charge(calc, calc.mol.atom_coords()/angstrom, deltaZ)  # now is add_mm_charge\n",
    "    class NoSelfQMMM(mf.__class__):\n",
    "        def energy_nuc(self):\n",
    "            q = self.mol.atom_charges().astype(np.float).copy()\n",
    "            q1 =q+ np.asarray(deltaZ) \n",
    "            return self.mol.energy_nuc(q1)\n",
    "    return(NoSelfQMMM(mf,mf.mm_mol))\n",
    "\n",
    "def DeltaV(mol,dL):\n",
    "    mol.set_rinv_orig_(mol.atom_coords()[0])\n",
    "    dV=mol.intor('int1e_rinv')*dL[0]\n",
    "    mol.set_rinv_orig_(mol.atom_coords()[1])\n",
    "    dV+=mol.intor('int1e_rinv')*dL[1]\n",
    "    return -dV"
   ]
  },
  {
   "cell_type": "code",
   "execution_count": 245,
   "metadata": {},
   "outputs": [
    {
     "name": "stderr",
     "output_type": "stream",
     "text": [
      "Warning: <pyscf.gto.mole.Mole object at 0x7f80e54d81d0> must be initialized before calling SCF.\n",
      "Initialize <pyscf.gto.mole.Mole object at 0x7f80e54d81d0> in <pyscf.scf.hf.RHF object at 0x7f80e54a3150>\n"
     ]
    },
    {
     "name": "stdout",
     "output_type": "stream",
     "text": [
      "converged SCF energy = -112.078731735567\n",
      "converged SCF energy = -112.003586765744\n",
      "converged SCF energy = -112.15425516577\n"
     ]
    }
   ],
   "source": [
    "co=gto.Mole(atom=\"C 0 0 0 ;O 0 0 {}\".format(2/angstrom), basis= \"3-21g\")\n",
    "hfco=scf.RHF(co)\n",
    "hfco.scf()\n",
    "dL=.01\n",
    "hf1=fc(hfco,[dL,-dL])\n",
    "hf1.scf()\n",
    "hf2=fc(hfco,[-dL,dL])\n",
    "hf2.scf()\n",
    "dV=DeltaV(co,[dL,-dL])\n",
    "h2=hfco.get_veff()\n",
    "dh2=(hf1.get_veff()-hf2.get_veff())/2\n",
    "J,K=hfco.get_jk()\n",
    "g_ijkl=hfco.mol.intor('int2e_sph')\n",
    "g_h2=g_ijkl-np.swapaxes(g_ijkl,1,2)/2\n",
    "nocc= co.nelec[0]\n",
    "\n",
    "C=hfco.mo_coeff\n",
    "S=hfco.get_ovlp()\n",
    "e=hfco.mo_energy\n",
    "E=np.diag(e)\n",
    "O=np.diag(hfco.mo_occ)\n",
    "C1=hf1.mo_coeff\n",
    "P=hfco.make_rdm1()\n",
    "P1=hf1.make_rdm1()\n",
    "P2=hf2.make_rdm1() \n",
    "dP=(P1-P2)/2\n",
    "dP2=(P1-2*P+P2)/dL**2\n",
    "dC=(abs(C1)*C/abs(C)-C)"
   ]
  },
  {
   "cell_type": "code",
   "execution_count": 246,
   "metadata": {},
   "outputs": [],
   "source": [
    "G_mo=g_ijkl.copy()\n",
    "G_mo=G_mo@C\n",
    "G_mo=(G_mo.swapaxes(2,3)@C).swapaxes(3,2)\n",
    "G_mo=(G_mo.swapaxes(1,3)@C).swapaxes(3,1)\n",
    "G_mo=(G_mo.swapaxes(0,3)@C).swapaxes(3,0)"
   ]
  },
  {
   "cell_type": "code",
   "execution_count": 247,
   "metadata": {},
   "outputs": [],
   "source": [
    "G_cphf=g_ijkl.copy()\n",
    "G_cphf=4*G_cphf -G_cphf.swapaxes(3,1)-G_cphf.swapaxes(1,2)\n",
    "G_cphf=G_cphf@C\n",
    "G_cphf=(G_cphf.swapaxes(2,3)@C).swapaxes(3,2)\n",
    "G_cphf=(G_cphf.swapaxes(1,3)@C).swapaxes(3,1)\n",
    "G_cphf=(G_cphf.swapaxes(0,3)@C).swapaxes(3,0)\n",
    "A=G_cphf.copy()\n",
    "for i in range(co.nao):\n",
    "    for a in range(co.nao):\n",
    "        if e[i] !=e[a] :\n",
    "            A[i,a,:,:]/=(e[a]-e[i])"
   ]
  },
  {
   "cell_type": "code",
   "execution_count": 248,
   "metadata": {},
   "outputs": [
    {
     "name": "stdout",
     "output_type": "stream",
     "text": [
      "0.011662644865576813\n",
      "0.009309368387769615\n",
      "0.00752775512272306\n",
      "0.006123426158900554\n",
      "0.004972592461064877\n",
      "0.004041268530716813\n",
      "0.003283659072246086\n",
      "0.00266818390033354\n",
      "0.002168135990979001\n",
      "0.0017616987285573483\n",
      "0.0014315639025042257\n",
      "0.0011631820502966451\n",
      "0.0009452275913460928\n",
      "0.0007680006204149282\n",
      "0.0006241152742649916\n",
      "0.0005070748372643435\n",
      "0.0004120950657715292\n",
      "0.00033479383627614594\n",
      "0.00027210488501997604\n",
      "0.00022104218341870147\n",
      "0.00017967384143492734\n",
      "0.00014593560796427357\n",
      "0.00011864459225001017\n",
      "9.634516048626248e-05\n",
      "7.834896381175076e-05\n",
      "6.360221913517575e-05\n",
      "5.1743108122284945e-05\n",
      "4.198317800797395e-05\n",
      "3.41762079148833e-05\n",
      "2.7708936506546167e-05\n",
      "2.2577493850241497e-05\n"
     ]
    },
    {
     "name": "stderr",
     "output_type": "stream",
     "text": [
      "/home/giorgiod/miniconda3/lib/python3.7/site-packages/ipykernel_launcher.py:10: DeprecationWarning: Calling np.sum(generator) is deprecated, and in the future will give a different result. Use np.sum(np.fromiter(generator)) or the python sum builtin instead.\n",
      "  # Remove the CWD from sys.path while we load stuff.\n",
      "/home/giorgiod/miniconda3/lib/python3.7/site-packages/ipykernel_launcher.py:14: DeprecationWarning: Calling np.sum(generator) is deprecated, and in the future will give a different result. Use np.sum(np.fromiter(generator)) or the python sum builtin instead.\n",
      "  \n"
     ]
    }
   ],
   "source": [
    "dV_mo=C.T@dV@C\n",
    "U_0= dV_mo.copy()\n",
    "for i in range(co.nao):\n",
    "    for j in range(co.nao):\n",
    "        if e[i]!=e[j]:\n",
    "            U_0[i][j]/=(e[j]-e[i])\n",
    "Us=[]\n",
    "Us.append(U_0)\n",
    "for k in range(30):\n",
    "    U=np.sum(u for u in Us)\n",
    "    dP_app=C@(U@O-O@U)@C.T\n",
    "    print(np.linalg.norm(dP_app-dP))\n",
    "    Us.append(np.einsum('ijkl,kl->ij',A[:,:,nocc:,:nocc],Us[k][nocc:,:nocc])) # approximate value of U\n",
    "    U=np.sum(u for u in Us)\n",
    "    dP_app=C@(U@O-O@U)@C.T\n",
    "    \n",
    "print(np.linalg.norm(dP_app-dP))"
   ]
  },
  {
   "cell_type": "code",
   "execution_count": 249,
   "metadata": {},
   "outputs": [
    {
     "data": {
      "text/plain": [
       "24.000000011338358"
      ]
     },
     "execution_count": 249,
     "metadata": {},
     "output_type": "execute_result"
    }
   ],
   "source": [
    "co.energy_nuc()"
   ]
  },
  {
   "cell_type": "code",
   "execution_count": 250,
   "metadata": {},
   "outputs": [
    {
     "name": "stdout",
     "output_type": "stream",
     "text": [
      "converged SCF energy = -106.480338236127\n",
      "true target energy:  -106.48033823612661\n",
      "CO energy =  -112.07873173556735\n",
      "APDFT1 energy = -105.04530939648711\n",
      "APDFT2 energy = -106.43761472926309\n",
      "APDFT2 energy approx.= -106.43949971906133\n",
      "APDFT3 energy = -106.45761188502304\n",
      "2nd deriv = -2.784610665551977\n",
      "3rd deriv = -0.11998293455964376\n"
     ]
    }
   ],
   "source": [
    "dEnn=1/2.\n",
    "print(\"true target energy: \",fc(hfco,[1,-1]).scf())\n",
    "print(\"CO energy = \",hfco.e_tot)\n",
    "print(\"APDFT1 energy =\", hfco.e_tot+dEnn+np.trace(P.dot(dV/dL)))\n",
    "print(\"APDFT2 energy =\", hfco.e_tot+dEnn+np.trace((P+0.5*dP/dL).dot(dV/dL)))\n",
    "print(\"APDFT2 energy approx.=\", hfco.e_tot+dEnn+np.trace((P+ 0.5*dP_app/dL).dot(dV/dL)))\n",
    "print(\"APDFT3 energy =\", hfco.e_tot+dEnn+np.trace((P+0.5*dP/dL+(1/6)*dP2).dot(dV/dL)))\n",
    "print(\"2nd deriv =\", np.trace(dP.dot(dV/dL)/dL))\n",
    "print(\"3rd deriv =\", np.trace(dP2.dot(dV/dL)))"
   ]
  },
  {
   "cell_type": "code",
   "execution_count": 251,
   "metadata": {},
   "outputs": [
    {
     "data": {
      "text/plain": [
       "2.7883806451484627"
      ]
     },
     "execution_count": 251,
     "metadata": {},
     "output_type": "execute_result"
    }
   ],
   "source": [
    "4*np.trace(U[:nocc,nocc:]@dV_mo[nocc:,:nocc])/dL**2"
   ]
  },
  {
   "cell_type": "markdown",
   "metadata": {},
   "source": [
    "$$ \\frac {\\partial^2 E}{\\partial Z^2}= 4 \\sum_a \\sum_i U_{ia} \\Delta V^{mo}_{ai}\n",
    "$$"
   ]
  },
  {
   "cell_type": "code",
   "execution_count": null,
   "metadata": {},
   "outputs": [],
   "source": []
  },
  {
   "cell_type": "code",
   "execution_count": null,
   "metadata": {},
   "outputs": [],
   "source": []
  },
  {
   "cell_type": "code",
   "execution_count": null,
   "metadata": {},
   "outputs": [],
   "source": []
  },
  {
   "cell_type": "code",
   "execution_count": null,
   "metadata": {},
   "outputs": [],
   "source": []
  },
  {
   "cell_type": "code",
   "execution_count": 259,
   "metadata": {},
   "outputs": [
    {
     "name": "stdout",
     "output_type": "stream",
     "text": [
      "-0.0023158023459398354\n",
      "-0.003171393079384398\n",
      "-0.0031687190522628594\n",
      "-0.11875449349820695\n",
      "-0.11945753780946976\n"
     ]
    }
   ],
   "source": [
    "B_aa= np.einsum('ijkl,kl->ij',4*G_mo- G_mo.swapaxes(1,3)-G_mo.swapaxes(1,3).swapaxes(1,2),U[:,:nocc]@U.T[:nocc,:])/dL\n",
    "print(-4*(B_aa[nocc:,:nocc]@U.T[:nocc,:nocc]).trace())\n",
    "B_aa-=2*dV_mo@U /dL**2\n",
    "print(-4*(B_aa[nocc:,:nocc]@U.T[:nocc,:nocc]).trace())\n",
    "B_aa-=2*np.einsum('ijkl,kl->ij',(4*G_mo-G_mo.swapaxes(1,2)-G_mo.swapaxes(1,3))[:,:,:,:nocc],U[:,:nocc])@U\n",
    "print(-4*(B_aa[nocc:,:nocc]@U.T[:nocc,:nocc]).trace())\n",
    "B_aa+=0.5*np.einsum('ijkl,kl->ij',(4*G_mo -G_mo.swapaxes(1,3)-G_mo.swapaxes(1,2) )[:,:,:nocc,:],(U@U.T)[:nocc,:])/dL**2\n",
    "print(-4*(B_aa[nocc:,:nocc]@U.T[:nocc,:nocc]).trace())\n",
    "C=np.ones((e.size,e.size))\n",
    "C[:,:]*=e\n",
    "C.T[:,:]-=e\n",
    "B_aa+=(U@U).T*C/dL**2\n",
    "print(-4*(B_aa[nocc:,:nocc]@U.T[:nocc,:nocc]).trace())\n"
   ]
  },
  {
   "cell_type": "code",
   "execution_count": 262,
   "metadata": {},
   "outputs": [
    {
     "data": {
      "text/plain": [
       "-11.886692111599727"
      ]
     },
     "execution_count": 262,
     "metadata": {},
     "output_type": "execute_result"
    }
   ],
   "source": [
    "-4*(B_aa[nocc:,:nocc]@U.T[:nocc,:nocc]).trace()/dL+4*(U.T[:nocc,nocc:]@dV_mo[nocc:,nocc:]@U[nocc:,:nocc]).trace()/dL**3"
   ]
  },
  {
   "cell_type": "code",
   "execution_count": 254,
   "metadata": {},
   "outputs": [
    {
     "data": {
      "text/plain": [
       "0.05906166934724887"
      ]
     },
     "execution_count": 254,
     "metadata": {},
     "output_type": "execute_result"
    }
   ],
   "source": [
    "4*(U.T[:nocc,nocc:]@dV_mo[nocc:,nocc:]@U[nocc:,:nocc]).trace()/dL**3"
   ]
  },
  {
   "cell_type": "code",
   "execution_count": null,
   "metadata": {},
   "outputs": [],
   "source": []
  }
 ],
 "metadata": {
  "kernelspec": {
   "display_name": "Python 3",
   "language": "python",
   "name": "python3"
  },
  "language_info": {
   "codemirror_mode": {
    "name": "ipython",
    "version": 3
   },
   "file_extension": ".py",
   "mimetype": "text/x-python",
   "name": "python",
   "nbconvert_exporter": "python",
   "pygments_lexer": "ipython3",
   "version": "3.7.6"
  }
 },
 "nbformat": 4,
 "nbformat_minor": 4
}
