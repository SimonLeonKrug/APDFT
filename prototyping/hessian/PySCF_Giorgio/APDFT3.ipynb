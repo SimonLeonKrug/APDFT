{
 "cells": [
  {
   "cell_type": "code",
   "execution_count": 1,
   "metadata": {},
   "outputs": [],
   "source": [
    "from pyscf import gto, scf\n",
    "import scipy\n",
    "import inspect\n",
    "import pyscf.qmmm\n",
    "import pyscf.dft\n",
    "import numpy as np\n",
    "angstrom = 1 / 0.52917721067\n",
    "from matplotlib import pyplot as plt\n",
    "from functools import reduce\n",
    "from numpy.linalg import inv \n",
    "from pyscf.scf import cphf \n",
    "# ancora il modo migliore per mettere cariche frazionali sulle molecole, se vai a toccare mol.charges si incazza \n",
    "#  quando deve calcolare l' initial guess \n",
    "def fc(calc,deltaZ):\n",
    "    mf = pyscf.qmmm.mm_charge(calc, calc.mol.atom_coords()/angstrom, deltaZ)  # now is add_mm_charge\n",
    "    class NoSelfQMMM(mf.__class__):\n",
    "        def energy_nuc(self):\n",
    "            q = self.mol.atom_charges().astype(np.float).copy()\n",
    "            q1 =q+ np.asarray(deltaZ) \n",
    "            return self.mol.energy_nuc(q1)\n",
    "    return(NoSelfQMMM(mf,mf.mm_mol))\n",
    "\n",
    "def DeltaV(mol,dL):\n",
    "    mol.set_rinv_orig_(mol.atom_coords()[0])\n",
    "    dV=mol.intor('int1e_rinv')*dL[0]\n",
    "    mol.set_rinv_orig_(mol.atom_coords()[1])\n",
    "    dV+=mol.intor('int1e_rinv')*dL[1]\n",
    "    return -dV"
   ]
  },
  {
   "cell_type": "code",
   "execution_count": 2,
   "metadata": {},
   "outputs": [
    {
     "name": "stderr",
     "output_type": "stream",
     "text": [
      "Warning: <pyscf.gto.mole.Mole object at 0x7f81a3412d10> must be initialized before calling SCF.\n",
      "Initialize <pyscf.gto.mole.Mole object at 0x7f81a3412d10> in <pyscf.scf.hf.RHF object at 0x7f81a39f8810>\n",
      "<class 'pyscf.gto.mole.Mole'> does not have attributes  maxit units\n"
     ]
    },
    {
     "name": "stdout",
     "output_type": "stream",
     "text": [
      "converged SCF energy = -110.811052248023\n",
      "converged SCF energy = -110.803479299976\n",
      "converged SCF energy = -110.818627452765\n"
     ]
    }
   ],
   "source": [
    "co=gto.Mole(atom=\"C 0 0 0 ;O 0 0 2.\", basis= \"sto-3g\",units=\"Bohr\",maxit=100)\n",
    "hfco=scf.RHF(co)\n",
    "hfco.scf()\n",
    "dL=.001\n",
    "hf1=fc(hfco,[dL,-dL])\n",
    "hf1.scf()\n",
    "hf2=fc(hfco,[-dL,dL])\n",
    "hf2.scf()\n",
    "dV=DeltaV(co,[dL,-dL])\n",
    "h2=hfco.get_veff()\n",
    "dh2=(hf1.get_veff()-hf2.get_veff())/2\n",
    "J,K=hfco.get_jk()\n",
    "g_ijkl=hfco.mol.intor('int2e_sph')\n",
    "g_h2=g_ijkl-np.swapaxes(g_ijkl,1,2)/2\n",
    "\n",
    "C=hfco.mo_coeff\n",
    "S=hfco.get_ovlp()\n",
    "e=hfco.mo_energy\n",
    "E=np.diag(e)\n",
    "O=np.diag(hfco.mo_occ)\n",
    "C1=hf1.mo_coeff\n",
    "P=hfco.make_rdm1()\n",
    "P1=hf1.make_rdm1()\n",
    "P2=hf2.make_rdm1() \n",
    "dP=(P1-P2)/2\n",
    "dP2=(P1-2*P+P2)/2/dL**2\n",
    "dC=(abs(C1)*C/abs(C)-C)"
   ]
  },
  {
   "cell_type": "code",
   "execution_count": 3,
   "metadata": {},
   "outputs": [],
   "source": [
    "G_cphf=g_ijkl.copy()\n",
    "G_cphf=4*G_cphf -G_cphf.swapaxes(3,1)-G_cphf.swapaxes(1,2)\n",
    "G_cphf=G_cphf@C\n",
    "G_cphf=(G_cphf.swapaxes(2,3)@C).swapaxes(3,2)\n",
    "G_cphf=(G_cphf.swapaxes(1,3)@C).swapaxes(3,1)\n",
    "G_cphf=(G_cphf.swapaxes(0,3)@C).swapaxes(3,0)\n",
    "A=G_cphf.copy()\n",
    "for i in range(co.nao):\n",
    "    for a in range(co.nao):\n",
    "        if e[i] !=e[a] :\n",
    "            A[i,a,:,:]/=(e[a]-e[i])"
   ]
  },
  {
   "cell_type": "code",
   "execution_count": 4,
   "metadata": {},
   "outputs": [
    {
     "name": "stdout",
     "output_type": "stream",
     "text": [
      "0.00039868625143894804\n",
      "0.00013173347206543834\n",
      "7.681573703356613e-05\n",
      "4.475225066090898e-05\n",
      "2.6357152978804786e-05\n",
      "1.549265259427724e-05\n",
      "9.11425504589184e-06\n",
      "5.366134288911784e-06\n",
      "3.1645709419431844e-06\n",
      "1.8715606515800586e-06\n",
      "1.1124340604063202e-06\n"
     ]
    },
    {
     "name": "stderr",
     "output_type": "stream",
     "text": [
      "/home/giorgiod/miniconda3/lib/python3.7/site-packages/ipykernel_launcher.py:11: DeprecationWarning: Calling np.sum(generator) is deprecated, and in the future will give a different result. Use np.sum(np.fromiter(generator)) or the python sum builtin instead.\n",
      "  # This is added back by InteractiveShellApp.init_path()\n",
      "/home/giorgiod/miniconda3/lib/python3.7/site-packages/ipykernel_launcher.py:15: DeprecationWarning: Calling np.sum(generator) is deprecated, and in the future will give a different result. Use np.sum(np.fromiter(generator)) or the python sum builtin instead.\n",
      "  from ipykernel import kernelapp as app\n"
     ]
    }
   ],
   "source": [
    "dV_mo=C.T@dV@C\n",
    "\n",
    "U_0= dV_mo.copy()\n",
    "for i in range(co.nao):\n",
    "    for j in range(co.nao):\n",
    "        if e[i]!=e[j]:\n",
    "            U_0[i][j]/=(e[j]-e[i])\n",
    "Us=[]\n",
    "Us.append(U_0)\n",
    "for k in range(10):\n",
    "    U=np.sum(u for u in Us)\n",
    "    dP_app=C@(U@O-O@U)@C.T\n",
    "    print(np.linalg.norm(dP_app-dP))\n",
    "    Us.append(np.einsum('ijkl,kl->ij',A[:,:,co.nelec[0]:,:co.nelec[0]],Us[k][co.nelec[0]:,:co.nelec[0]])) # approximate value of U\n",
    "    U=np.sum(u for u in Us)\n",
    "    dP_app=C@(U@O-O@U)@C.T\n",
    "    \n",
    "print(np.linalg.norm(dP_app-dP))"
   ]
  },
  {
   "cell_type": "code",
   "execution_count": 5,
   "metadata": {},
   "outputs": [
    {
     "name": "stdout",
     "output_type": "stream",
     "text": [
      "converged SCF energy = -104.823560975956\n",
      "true target energy:  -104.8235609759558\n",
      "CO energy =  -110.81105224802306\n",
      "APDFT1 energy = -104.26615335785836\n",
      "APDFT2 energy = -105.12993171823632\n",
      "APDFT2 energy approx.= -105.12988869744264\n",
      "APDFT3 energy = -104.9945636667493\n"
     ]
    }
   ],
   "source": [
    "dEnn=-1/2.\n",
    "print(\"true target energy: \",fc(hfco,[1,-1]).scf())\n",
    "print(\"CO energy = \",hfco.e_tot)\n",
    "print(\"APDFT1 energy =\", hfco.e_tot+dEnn+np.trace(P.dot(dV/dL)))\n",
    "print(\"APDFT2 energy =\", hfco.e_tot+dEnn+np.trace((P+0.5*dP/dL).dot(dV/dL)))\n",
    "print(\"APDFT2 energy approx.=\", hfco.e_tot+dEnn+np.trace((P+ 0.5*dP_app/dL).dot(dV/dL)))\n",
    "print(\"APDFT3 energy =\", hfco.e_tot+dEnn+np.trace((P+0.5*dP/dL+(1/6)*dP2).dot(dV/dL)))\n"
   ]
  },
  {
   "cell_type": "code",
   "execution_count": 6,
   "metadata": {},
   "outputs": [
    {
     "data": {
      "text/plain": [
       "-1.7274706791685661"
      ]
     },
     "execution_count": 6,
     "metadata": {},
     "output_type": "execute_result"
    }
   ],
   "source": [
    "np.trace( dP_app/dL@dV/dL)"
   ]
  },
  {
   "cell_type": "code",
   "execution_count": 7,
   "metadata": {},
   "outputs": [
    {
     "data": {
      "text/plain": [
       "1.7274706791685661"
      ]
     },
     "execution_count": 7,
     "metadata": {},
     "output_type": "execute_result"
    }
   ],
   "source": [
    "4*np.trace(U[:co.nelec[0],co.nelec[0]:]@dV_mo[co.nelec[0]:,:co.nelec[0]])/dL**2"
   ]
  },
  {
   "cell_type": "markdown",
   "metadata": {},
   "source": [
    "$$ \\frac {\\partial^2 E}{\\partial Z^2}= 4 \\sum_a \\sum_i U_{ia} \\Delta V^{mo}_{ai}\n",
    "$$"
   ]
  },
  {
   "cell_type": "code",
   "execution_count": null,
   "metadata": {},
   "outputs": [],
   "source": []
  }
 ],
 "metadata": {
  "kernelspec": {
   "display_name": "Python 3",
   "language": "python",
   "name": "python3"
  },
  "language_info": {
   "codemirror_mode": {
    "name": "ipython",
    "version": 3
   },
   "file_extension": ".py",
   "mimetype": "text/x-python",
   "name": "python",
   "nbconvert_exporter": "python",
   "pygments_lexer": "ipython3",
   "version": "3.7.6"
  }
 },
 "nbformat": 4,
 "nbformat_minor": 4
}
