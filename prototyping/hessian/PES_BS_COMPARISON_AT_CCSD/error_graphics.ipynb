{
 "cells": [
  {
   "cell_type": "code",
   "execution_count": 1,
   "metadata": {},
   "outputs": [],
   "source": [
    "import pandas as pd \n",
    "import numpy as np\n",
    "import matplotlib.pyplot as plt\n",
    "#from bokeh.io import output_notebook, show \n",
    "#from bokeh.plotting import figure\n",
    "#from bokeh.models import HoverTool,ColumnDataSource"
   ]
  },
  {
   "cell_type": "code",
   "execution_count": 16,
   "metadata": {},
   "outputs": [
    {
     "data": {
      "text/html": [
       "<div>\n",
       "<style scoped>\n",
       "    .dataframe tbody tr th:only-of-type {\n",
       "        vertical-align: middle;\n",
       "    }\n",
       "\n",
       "    .dataframe tbody tr th {\n",
       "        vertical-align: top;\n",
       "    }\n",
       "\n",
       "    .dataframe thead th {\n",
       "        text-align: right;\n",
       "    }\n",
       "</style>\n",
       "<table border=\"1\" class=\"dataframe\">\n",
       "  <thead>\n",
       "    <tr style=\"text-align: right;\">\n",
       "      <th></th>\n",
       "      <th>calc</th>\n",
       "      <th>distance</th>\n",
       "      <th>energy</th>\n",
       "      <th>mol</th>\n",
       "    </tr>\n",
       "  </thead>\n",
       "  <tbody>\n",
       "    <tr>\n",
       "      <td>0</td>\n",
       "      <td>PBE</td>\n",
       "      <td>1.3</td>\n",
       "      <td>-123.006279</td>\n",
       "      <td>BF</td>\n",
       "    </tr>\n",
       "    <tr>\n",
       "      <td>20</td>\n",
       "      <td>PBE</td>\n",
       "      <td>1.3</td>\n",
       "      <td>-111.804457</td>\n",
       "      <td>CO</td>\n",
       "    </tr>\n",
       "    <tr>\n",
       "      <td>40</td>\n",
       "      <td>PBE</td>\n",
       "      <td>1.3</td>\n",
       "      <td>-108.070578</td>\n",
       "      <td>NN</td>\n",
       "    </tr>\n",
       "    <tr>\n",
       "      <td>60</td>\n",
       "      <td>B3LYP</td>\n",
       "      <td>1.3</td>\n",
       "      <td>-123.111032</td>\n",
       "      <td>BF</td>\n",
       "    </tr>\n",
       "    <tr>\n",
       "      <td>80</td>\n",
       "      <td>B3LYP</td>\n",
       "      <td>1.3</td>\n",
       "      <td>-111.903071</td>\n",
       "      <td>CO</td>\n",
       "    </tr>\n",
       "    <tr>\n",
       "      <td>100</td>\n",
       "      <td>B3LYP</td>\n",
       "      <td>1.3</td>\n",
       "      <td>-108.166322</td>\n",
       "      <td>NN</td>\n",
       "    </tr>\n",
       "    <tr>\n",
       "      <td>120</td>\n",
       "      <td>HF</td>\n",
       "      <td>1.3</td>\n",
       "      <td>-122.601752</td>\n",
       "      <td>BF</td>\n",
       "    </tr>\n",
       "    <tr>\n",
       "      <td>140</td>\n",
       "      <td>HF</td>\n",
       "      <td>1.3</td>\n",
       "      <td>-111.397840</td>\n",
       "      <td>CO</td>\n",
       "    </tr>\n",
       "    <tr>\n",
       "      <td>160</td>\n",
       "      <td>HF</td>\n",
       "      <td>1.3</td>\n",
       "      <td>-107.662961</td>\n",
       "      <td>NN</td>\n",
       "    </tr>\n",
       "    <tr>\n",
       "      <td>180</td>\n",
       "      <td>MP2</td>\n",
       "      <td>1.3</td>\n",
       "      <td>-122.927030</td>\n",
       "      <td>BF</td>\n",
       "    </tr>\n",
       "    <tr>\n",
       "      <td>200</td>\n",
       "      <td>MP2</td>\n",
       "      <td>1.3</td>\n",
       "      <td>-111.727865</td>\n",
       "      <td>CO</td>\n",
       "    </tr>\n",
       "    <tr>\n",
       "      <td>220</td>\n",
       "      <td>MP2</td>\n",
       "      <td>1.3</td>\n",
       "      <td>-107.994357</td>\n",
       "      <td>NN</td>\n",
       "    </tr>\n",
       "  </tbody>\n",
       "</table>\n",
       "</div>"
      ],
      "text/plain": [
       "      calc  distance      energy mol\n",
       "0      PBE       1.3 -123.006279  BF\n",
       "20     PBE       1.3 -111.804457  CO\n",
       "40     PBE       1.3 -108.070578  NN\n",
       "60   B3LYP       1.3 -123.111032  BF\n",
       "80   B3LYP       1.3 -111.903071  CO\n",
       "100  B3LYP       1.3 -108.166322  NN\n",
       "120     HF       1.3 -122.601752  BF\n",
       "140     HF       1.3 -111.397840  CO\n",
       "160     HF       1.3 -107.662961  NN\n",
       "180    MP2       1.3 -122.927030  BF\n",
       "200    MP2       1.3 -111.727865  CO\n",
       "220    MP2       1.3 -107.994357  NN"
      ]
     },
     "execution_count": 16,
     "metadata": {},
     "output_type": "execute_result"
    }
   ],
   "source": [
    "dt_qzvpp=pd.read_pickle('data_def2_qzvpp')\n",
    "dt_qzvpp2=pd.read_pickle('hfmp2dft_def2qzvpp')\n",
    "dt_qzvpp2[::20]"
   ]
  },
  {
   "cell_type": "code",
   "execution_count": 2,
   "metadata": {},
   "outputs": [],
   "source": [
    "dt_qzvpp=pd.read_pickle('data_def2_qzvpp')\n",
    "dt_tzvp=pd.read_pickle('data_def2_tzvp')\n",
    "dt_sto3g=pd.read_pickle(\"data_sto3G\")\n",
    "dt_sto6g=pd.read_pickle(\"data_sto6G\")\n",
    "dt_321g=pd.read_pickle(\"data_321G\")\n",
    "dt_631g=pd.read_pickle(\"data_631G\")\n",
    "dt_aug=pd.read_pickle(\"data_aug\")\n",
    "dt_ccpvtz=pd.read_pickle(\"data_ccpvtz\")"
   ]
  },
  {
   "cell_type": "code",
   "execution_count": 3,
   "metadata": {},
   "outputs": [
    {
     "data": {
      "text/plain": [
       "'dfp=dt_qzvpp.query(\"alchemy==4\").copy()   #Bokeh plot\\np = figure(title=\"Def2-QZVPP\",plot_width=1800, plot_height=1000)\\nalcolor={0:\\'purple\\',1:\\'blue\\',2:\\'green\\',3:\\'black\\',4:\\'red\\'}\\ndef alcol(ao):\\n    return alcolor[ao]\\nAlcol=[alcol(x) for x in list(dfp.alchemy)]\\ndfp[\\'alcol\\']=Alcol\\ndrdV=[]\\n#dfp[\\'err_alch\\']=np.abs(dfp[\\'err_alch\\'])\\nsource = ColumnDataSource(dfp)\\np.cross(\\'delta_rho\\', \\'err_alch\\', source=source,color=\\'alcol\\')\\n#p.line(dfp.delta_rho)\\nhover = HoverTool()\\nhover.tooltips = [(\"Reference\",\"@ref\"), (\"Target\", \"@target\"),(\"Distance\",\\'@distance\\'),                  (\\'Alchemy\\',\\'@alchemy\\'),(\\'Alchemy error\\',\\'@err_alch\\'),(\\'delta_Rho\\',\\'@delta_rho\\')]#,(\\'Total error\\',\\'@tot_err\\')]\\nhover.mode = \\'mouse\\'\\np.add_tools(hover)\\np.xaxis.axis_label = \\'delta_Rho\\'\\np.yaxis.axis_label = \\'Alchemy error\\'\\nshow(p)'"
      ]
     },
     "execution_count": 3,
     "metadata": {},
     "output_type": "execute_result"
    }
   ],
   "source": [
    "\"\"\"dfp=dt_qzvpp.query(\"alchemy==4\").copy()   #Bokeh plot\n",
    "p = figure(title=\"Def2-QZVPP\",plot_width=1800, plot_height=1000)\n",
    "alcolor={0:'purple',1:'blue',2:'green',3:'black',4:'red'}\n",
    "def alcol(ao):\n",
    "    return alcolor[ao]\n",
    "Alcol=[alcol(x) for x in list(dfp.alchemy)]\n",
    "dfp['alcol']=Alcol\n",
    "drdV=[]\n",
    "#dfp['err_alch']=np.abs(dfp['err_alch'])\n",
    "source = ColumnDataSource(dfp)\n",
    "p.cross('delta_rho', 'err_alch', source=source,color='alcol')\n",
    "#p.line(dfp.delta_rho)\n",
    "hover = HoverTool()\n",
    "hover.tooltips = [(\"Reference\",\"@ref\"), (\"Target\", \"@target\"),(\"Distance\",'@distance'),\\\n",
    "                  ('Alchemy','@alchemy'),('Alchemy error','@err_alch'),('delta_Rho','@delta_rho')]#,('Total error','@tot_err')]\n",
    "hover.mode = 'mouse'\n",
    "p.add_tools(hover)\n",
    "p.xaxis.axis_label = 'delta_Rho'\n",
    "p.yaxis.axis_label = 'Alchemy error'\n",
    "show(p)\"\"\""
   ]
  },
  {
   "cell_type": "code",
   "execution_count": 4,
   "metadata": {},
   "outputs": [],
   "source": [
    "#proj_path=\"/home/giorgiod/MRCC_interface/PES-BS-ALCHEMY/\""
   ]
  },
  {
   "cell_type": "code",
   "execution_count": 5,
   "metadata": {},
   "outputs": [
    {
     "data": {
      "text/plain": [
       "\"\\n    try:\\n        with open(log_file,'r') as logf:\\n            while True:\\n                line=logf.readline()\\n                if calc_str[calc] in line:\\n                    good_line=line\\n                    for x in good_line.split(' '):\\n                        try:\\n                            float(x)\\n                            return (float(x))\\n                        except:\\n                            pass    \\n    except:\\n        print('couldn't parse energy return 0 for: '+log_file)\\n        return 0\""
      ]
     },
     "execution_count": 5,
     "metadata": {},
     "output_type": "execute_result"
    }
   ],
   "source": [
    "\"\"\"def parse_energy(log_file,calc):\n",
    "    calc_str={\"hf\":\"FINAL HARTREE-FOCK ENERGY\",\"ccsd\" : \"Total CCSD energy\", \"mp2\":\"Total MP2 energy [au]\" }\n",
    "    \"\"\"#Parse the hartree Fock energy from an MRCC output file\n",
    "\"\"\"\n",
    "    try:\n",
    "        with open(log_file,'r') as logf:\n",
    "            while True:\n",
    "                line=logf.readline()\n",
    "                if calc_str[calc] in line:\n",
    "                    good_line=line\n",
    "                    for x in good_line.split(' '):\n",
    "                        try:\n",
    "                            float(x)\n",
    "                            return (float(x))\n",
    "                        except:\n",
    "                            pass    \n",
    "    except:\n",
    "        print('couldn\\'t parse energy return 0 for: '+log_file)\n",
    "        return 0\"\"\""
   ]
  },
  {
   "cell_type": "code",
   "execution_count": 6,
   "metadata": {},
   "outputs": [
    {
     "data": {
      "text/plain": [
       "'def dirName(basis_set,molecule,point,alchemy=0):\\n    return proj_path+basis_set+\\'/\\'+molecule+\"/A{}_Radius:{}\".format(alchemy,str(point)[0:3])+\\'/\\''"
      ]
     },
     "execution_count": 6,
     "metadata": {},
     "output_type": "execute_result"
    }
   ],
   "source": [
    "\"\"\"def dirName(basis_set,molecule,point,alchemy=0):\n",
    "    return proj_path+basis_set+'/'+molecule+\"/A{}_Radius:{}\".format(alchemy,str(point)[0:3])+'/'\"\"\""
   ]
  },
  {
   "cell_type": "code",
   "execution_count": 7,
   "metadata": {},
   "outputs": [
    {
     "data": {
      "text/plain": [
       "\"def energy(bs,mol,pt,calc,al=0):\\n    return parse_energy(dirName(bs,mol,pt,al)+'run.log',calc)\\nbasisSets=['sto3G', 'sto6G', '321G','631G*','def2-TZVP','def2-QZVPP','cc-pVTZ','aug-cc-pVQZ']\\nmolecules=['HAl','HeMg','LiNa','BeNe','BF','CO','NN']\""
      ]
     },
     "execution_count": 7,
     "metadata": {},
     "output_type": "execute_result"
    }
   ],
   "source": [
    "\"\"\"def energy(bs,mol,pt,calc,al=0):\n",
    "    return parse_energy(dirName(bs,mol,pt,al)+'run.log',calc)\n",
    "basisSets=['sto3G', 'sto6G', '321G','631G*','def2-TZVP','def2-QZVPP','cc-pVTZ','aug-cc-pVQZ']\n",
    "molecules=['HAl','HeMg','LiNa','BeNe','BF','CO','NN']\"\"\""
   ]
  },
  {
   "cell_type": "code",
   "execution_count": 8,
   "metadata": {},
   "outputs": [],
   "source": [
    "#energy(\"sto3G\",\"CO\",2.4,\"mp2\")-energy(\"sto3G\",\"CO\",2.4,\"ccsd\")"
   ]
  },
  {
   "cell_type": "code",
   "execution_count": 10,
   "metadata": {},
   "outputs": [
    {
     "data": {
      "text/html": [
       "<div>\n",
       "<style scoped>\n",
       "    .dataframe tbody tr th:only-of-type {\n",
       "        vertical-align: middle;\n",
       "    }\n",
       "\n",
       "    .dataframe tbody tr th {\n",
       "        vertical-align: top;\n",
       "    }\n",
       "\n",
       "    .dataframe thead th {\n",
       "        text-align: right;\n",
       "    }\n",
       "</style>\n",
       "<table border=\"1\" class=\"dataframe\">\n",
       "  <thead>\n",
       "    <tr style=\"text-align: right;\">\n",
       "      <th></th>\n",
       "      <th>alchemy</th>\n",
       "      <th>distance</th>\n",
       "      <th>basis_set</th>\n",
       "      <th>e_alch</th>\n",
       "      <th>e_ccsd</th>\n",
       "      <th>ref</th>\n",
       "      <th>target</th>\n",
       "      <th>abs_err</th>\n",
       "      <th>delta_rho</th>\n",
       "      <th>e_at_ref_bs</th>\n",
       "      <th>err_alch</th>\n",
       "    </tr>\n",
       "  </thead>\n",
       "  <tbody>\n",
       "    <tr>\n",
       "      <td>0</td>\n",
       "      <td>0</td>\n",
       "      <td>1.3</td>\n",
       "      <td>sto3G</td>\n",
       "      <td>-195.799703</td>\n",
       "      <td>-198.025411</td>\n",
       "      <td>HAl</td>\n",
       "      <td>HeMg</td>\n",
       "      <td>2.225708</td>\n",
       "      <td>3.368281</td>\n",
       "      <td>-196.696725</td>\n",
       "      <td>0.897022</td>\n",
       "    </tr>\n",
       "    <tr>\n",
       "      <td>1</td>\n",
       "      <td>1</td>\n",
       "      <td>1.3</td>\n",
       "      <td>sto3G</td>\n",
       "      <td>-196.515815</td>\n",
       "      <td>-198.025411</td>\n",
       "      <td>HAl</td>\n",
       "      <td>HeMg</td>\n",
       "      <td>1.509596</td>\n",
       "      <td>3.368281</td>\n",
       "      <td>-196.696725</td>\n",
       "      <td>0.180910</td>\n",
       "    </tr>\n",
       "    <tr>\n",
       "      <td>2</td>\n",
       "      <td>2</td>\n",
       "      <td>1.3</td>\n",
       "      <td>sto3G</td>\n",
       "      <td>-196.700337</td>\n",
       "      <td>-198.025411</td>\n",
       "      <td>HAl</td>\n",
       "      <td>HeMg</td>\n",
       "      <td>1.325074</td>\n",
       "      <td>3.368281</td>\n",
       "      <td>-196.696725</td>\n",
       "      <td>-0.003611</td>\n",
       "    </tr>\n",
       "    <tr>\n",
       "      <td>3</td>\n",
       "      <td>3</td>\n",
       "      <td>1.3</td>\n",
       "      <td>sto3G</td>\n",
       "      <td>-196.721348</td>\n",
       "      <td>-198.025411</td>\n",
       "      <td>HAl</td>\n",
       "      <td>HeMg</td>\n",
       "      <td>1.304063</td>\n",
       "      <td>3.368281</td>\n",
       "      <td>-196.696725</td>\n",
       "      <td>-0.024623</td>\n",
       "    </tr>\n",
       "    <tr>\n",
       "      <td>4</td>\n",
       "      <td>4</td>\n",
       "      <td>1.3</td>\n",
       "      <td>sto3G</td>\n",
       "      <td>-196.722524</td>\n",
       "      <td>-198.025411</td>\n",
       "      <td>HAl</td>\n",
       "      <td>HeMg</td>\n",
       "      <td>1.302887</td>\n",
       "      <td>3.368281</td>\n",
       "      <td>-196.696725</td>\n",
       "      <td>-0.025799</td>\n",
       "    </tr>\n",
       "    <tr>\n",
       "      <td>5</td>\n",
       "      <td>0</td>\n",
       "      <td>1.4</td>\n",
       "      <td>sto3G</td>\n",
       "      <td>-196.141896</td>\n",
       "      <td>-198.407369</td>\n",
       "      <td>HAl</td>\n",
       "      <td>HeMg</td>\n",
       "      <td>2.265473</td>\n",
       "      <td>3.397046</td>\n",
       "      <td>-197.068530</td>\n",
       "      <td>0.926634</td>\n",
       "    </tr>\n",
       "    <tr>\n",
       "      <td>6</td>\n",
       "      <td>1</td>\n",
       "      <td>1.4</td>\n",
       "      <td>sto3G</td>\n",
       "      <td>-196.918408</td>\n",
       "      <td>-198.407369</td>\n",
       "      <td>HAl</td>\n",
       "      <td>HeMg</td>\n",
       "      <td>1.488961</td>\n",
       "      <td>3.397046</td>\n",
       "      <td>-197.068530</td>\n",
       "      <td>0.150122</td>\n",
       "    </tr>\n",
       "    <tr>\n",
       "      <td>7</td>\n",
       "      <td>2</td>\n",
       "      <td>1.4</td>\n",
       "      <td>sto3G</td>\n",
       "      <td>-197.106868</td>\n",
       "      <td>-198.407369</td>\n",
       "      <td>HAl</td>\n",
       "      <td>HeMg</td>\n",
       "      <td>1.300501</td>\n",
       "      <td>3.397046</td>\n",
       "      <td>-197.068530</td>\n",
       "      <td>-0.038338</td>\n",
       "    </tr>\n",
       "    <tr>\n",
       "      <td>8</td>\n",
       "      <td>3</td>\n",
       "      <td>1.4</td>\n",
       "      <td>sto3G</td>\n",
       "      <td>-197.112780</td>\n",
       "      <td>-198.407369</td>\n",
       "      <td>HAl</td>\n",
       "      <td>HeMg</td>\n",
       "      <td>1.294589</td>\n",
       "      <td>3.397046</td>\n",
       "      <td>-197.068530</td>\n",
       "      <td>-0.044250</td>\n",
       "    </tr>\n",
       "    <tr>\n",
       "      <td>9</td>\n",
       "      <td>4</td>\n",
       "      <td>1.4</td>\n",
       "      <td>sto3G</td>\n",
       "      <td>-197.093848</td>\n",
       "      <td>-198.407369</td>\n",
       "      <td>HAl</td>\n",
       "      <td>HeMg</td>\n",
       "      <td>1.313521</td>\n",
       "      <td>3.397046</td>\n",
       "      <td>-197.068530</td>\n",
       "      <td>-0.025318</td>\n",
       "    </tr>\n",
       "  </tbody>\n",
       "</table>\n",
       "</div>"
      ],
      "text/plain": [
       "   alchemy  distance basis_set      e_alch      e_ccsd  ref target   abs_err  \\\n",
       "0        0       1.3     sto3G -195.799703 -198.025411  HAl   HeMg  2.225708   \n",
       "1        1       1.3     sto3G -196.515815 -198.025411  HAl   HeMg  1.509596   \n",
       "2        2       1.3     sto3G -196.700337 -198.025411  HAl   HeMg  1.325074   \n",
       "3        3       1.3     sto3G -196.721348 -198.025411  HAl   HeMg  1.304063   \n",
       "4        4       1.3     sto3G -196.722524 -198.025411  HAl   HeMg  1.302887   \n",
       "5        0       1.4     sto3G -196.141896 -198.407369  HAl   HeMg  2.265473   \n",
       "6        1       1.4     sto3G -196.918408 -198.407369  HAl   HeMg  1.488961   \n",
       "7        2       1.4     sto3G -197.106868 -198.407369  HAl   HeMg  1.300501   \n",
       "8        3       1.4     sto3G -197.112780 -198.407369  HAl   HeMg  1.294589   \n",
       "9        4       1.4     sto3G -197.093848 -198.407369  HAl   HeMg  1.313521   \n",
       "\n",
       "   delta_rho  e_at_ref_bs  err_alch  \n",
       "0   3.368281  -196.696725  0.897022  \n",
       "1   3.368281  -196.696725  0.180910  \n",
       "2   3.368281  -196.696725 -0.003611  \n",
       "3   3.368281  -196.696725 -0.024623  \n",
       "4   3.368281  -196.696725 -0.025799  \n",
       "5   3.397046  -197.068530  0.926634  \n",
       "6   3.397046  -197.068530  0.150122  \n",
       "7   3.397046  -197.068530 -0.038338  \n",
       "8   3.397046  -197.068530 -0.044250  \n",
       "9   3.397046  -197.068530 -0.025318  "
      ]
     },
     "execution_count": 10,
     "metadata": {},
     "output_type": "execute_result"
    }
   ],
   "source": [
    "dt_sto3g[:10]"
   ]
  },
  {
   "cell_type": "code",
   "execution_count": 11,
   "metadata": {},
   "outputs": [],
   "source": [
    "dts=[dt_sto3g,dt_sto6g,dt_321g,dt_631g,dt_ccpvtz,dt_aug,dt_tzvp,dt_qzvpp]"
   ]
  },
  {
   "cell_type": "code",
   "execution_count": 12,
   "metadata": {},
   "outputs": [],
   "source": [
    "dt=dt_sto3g.copy()"
   ]
  },
  {
   "cell_type": "code",
   "execution_count": 14,
   "metadata": {
    "scrolled": true
   },
   "outputs": [
    {
     "data": {
      "text/plain": [
       "'for dt in dts:\\n    qhf=[]\\n    qmp=[]\\n    for i in range(dt.ref.size):\\n        qmp.append(energy(dt.basis_set[i],dt.target[i],dt.distance[i],\"mp2\"))\\n        qhf.append(energy(dt.basis_set[i],dt.target[i],dt.distance[i],\"hf\"))\\n    dt[\\'e_HF\\']=np.asarray(qhf)\\n    dt[\\'e_mp2\\']=np.asarray(qmp)'"
      ]
     },
     "execution_count": 14,
     "metadata": {},
     "output_type": "execute_result"
    }
   ],
   "source": [
    "\"\"\"for dt in dts:\n",
    "    qhf=[]\n",
    "    qmp=[]\n",
    "    for i in range(dt.ref.size):\n",
    "        qmp.append(energy(dt.basis_set[i],dt.target[i],dt.distance[i],\"mp2\"))\n",
    "        qhf.append(energy(dt.basis_set[i],dt.target[i],dt.distance[i],\"hf\"))\n",
    "    dt['e_HF']=np.asarray(qhf)\n",
    "    dt['e_mp2']=np.asarray(qmp)\"\"\""
   ]
  },
  {
   "cell_type": "code",
   "execution_count": 15,
   "metadata": {},
   "outputs": [
    {
     "ename": "AttributeError",
     "evalue": "'DataFrame' object has no attribute 'e_HF'",
     "output_type": "error",
     "traceback": [
      "\u001b[1;31m---------------------------------------------------------------------------\u001b[0m",
      "\u001b[1;31mAttributeError\u001b[0m                            Traceback (most recent call last)",
      "\u001b[1;32m<ipython-input-15-6d3c03d9dd91>\u001b[0m in \u001b[0;36m<module>\u001b[1;34m\u001b[0m\n\u001b[1;32m----> 1\u001b[1;33m \u001b[0mdt_qzvpp\u001b[0m\u001b[1;33m.\u001b[0m\u001b[0me_HF\u001b[0m\u001b[1;33m.\u001b[0m\u001b[0mmean\u001b[0m\u001b[1;33m(\u001b[0m\u001b[1;33m)\u001b[0m\u001b[1;33m-\u001b[0m\u001b[0mdt_qzvpp\u001b[0m\u001b[1;33m.\u001b[0m\u001b[0me_ccsd\u001b[0m\u001b[1;33m.\u001b[0m\u001b[0mmean\u001b[0m\u001b[1;33m(\u001b[0m\u001b[1;33m)\u001b[0m\u001b[1;33m\u001b[0m\u001b[1;33m\u001b[0m\u001b[0m\n\u001b[0m",
      "\u001b[1;32m~\\Anaconda3\\lib\\site-packages\\pandas\\core\\generic.py\u001b[0m in \u001b[0;36m__getattr__\u001b[1;34m(self, name)\u001b[0m\n\u001b[0;32m   5177\u001b[0m             \u001b[1;32mif\u001b[0m \u001b[0mself\u001b[0m\u001b[1;33m.\u001b[0m\u001b[0m_info_axis\u001b[0m\u001b[1;33m.\u001b[0m\u001b[0m_can_hold_identifiers_and_holds_name\u001b[0m\u001b[1;33m(\u001b[0m\u001b[0mname\u001b[0m\u001b[1;33m)\u001b[0m\u001b[1;33m:\u001b[0m\u001b[1;33m\u001b[0m\u001b[1;33m\u001b[0m\u001b[0m\n\u001b[0;32m   5178\u001b[0m                 \u001b[1;32mreturn\u001b[0m \u001b[0mself\u001b[0m\u001b[1;33m[\u001b[0m\u001b[0mname\u001b[0m\u001b[1;33m]\u001b[0m\u001b[1;33m\u001b[0m\u001b[1;33m\u001b[0m\u001b[0m\n\u001b[1;32m-> 5179\u001b[1;33m             \u001b[1;32mreturn\u001b[0m \u001b[0mobject\u001b[0m\u001b[1;33m.\u001b[0m\u001b[0m__getattribute__\u001b[0m\u001b[1;33m(\u001b[0m\u001b[0mself\u001b[0m\u001b[1;33m,\u001b[0m \u001b[0mname\u001b[0m\u001b[1;33m)\u001b[0m\u001b[1;33m\u001b[0m\u001b[1;33m\u001b[0m\u001b[0m\n\u001b[0m\u001b[0;32m   5180\u001b[0m \u001b[1;33m\u001b[0m\u001b[0m\n\u001b[0;32m   5181\u001b[0m     \u001b[1;32mdef\u001b[0m \u001b[0m__setattr__\u001b[0m\u001b[1;33m(\u001b[0m\u001b[0mself\u001b[0m\u001b[1;33m,\u001b[0m \u001b[0mname\u001b[0m\u001b[1;33m,\u001b[0m \u001b[0mvalue\u001b[0m\u001b[1;33m)\u001b[0m\u001b[1;33m:\u001b[0m\u001b[1;33m\u001b[0m\u001b[1;33m\u001b[0m\u001b[0m\n",
      "\u001b[1;31mAttributeError\u001b[0m: 'DataFrame' object has no attribute 'e_HF'"
     ]
    }
   ],
   "source": [
    "dt_qzvpp.e_HF.mean()-dt_qzvpp.e_ccsd.mean()"
   ]
  },
  {
   "cell_type": "code",
   "execution_count": 15,
   "metadata": {},
   "outputs": [
    {
     "data": {
      "text/plain": [
       "0.2423935831653044"
      ]
     },
     "execution_count": 15,
     "metadata": {},
     "output_type": "execute_result"
    }
   ],
   "source": [
    "np.abs(dt_qzvpp.e_HF-dt_qzvpp.e_ccsd).mean()"
   ]
  },
  {
   "cell_type": "code",
   "execution_count": 16,
   "metadata": {},
   "outputs": [
    {
     "data": {
      "text/plain": [
       "0.004903803612364754"
      ]
     },
     "execution_count": 16,
     "metadata": {},
     "output_type": "execute_result"
    }
   ],
   "source": [
    "dt_qzvpp.e_mp2.mean()-dt_qzvpp.e_ccsd.mean()  # E-mp2 may be lower than CCSD energy"
   ]
  },
  {
   "cell_type": "code",
   "execution_count": 17,
   "metadata": {},
   "outputs": [
    {
     "data": {
      "text/plain": [
       "0.017716353046586367"
      ]
     },
     "execution_count": 17,
     "metadata": {},
     "output_type": "execute_result"
    }
   ],
   "source": [
    "np.abs(dt_qzvpp.e_mp2-dt_qzvpp.e_ccsd).mean()"
   ]
  },
  {
   "cell_type": "code",
   "execution_count": 16,
   "metadata": {},
   "outputs": [],
   "source": [
    "def plot(ax,dfp,title):\n",
    "    dfp['err_alch']=np.abs(dfp['err_alch'])\n",
    "    dfp['delta_rho_int']=np.asarray((dfp.delta_rho),dtype=int)\n",
    "    dfp=dfp.sort_values(by='delta_rho')\n",
    "    for name, group in dfp.groupby('alchemy'):\n",
    "        x_pl=[]\n",
    "        y_pl=[]\n",
    "        for name2,group2 in group.groupby('delta_rho_int'):\n",
    "            x_pl.append(name2)\n",
    "            y_pl.append(group2.err_alch.median())\n",
    "        ax.plot(x_pl,y_pl,label=name)\n",
    "        #ax.scatter(group.delta_rho,group.err_alch, color='C%d' % int(name), s=2) \n",
    "    ax.set_yscale('log')\n",
    "    ax.set_ylim(3*1e-4,100)\n",
    "    xmaxhf={\"STO-3G\":.45,\"STO-6G\":.45,\"3-21G\":.45,\"6-31G*\":.45,\"cc-pVTZ\":.7,\"aug-ccpVQZ\":.7,\"def2-TZVP\":.7,\"def2-QZVPP\":.7}\n",
    "    xmaxmp2={\"STO-3G\":.35,\"STO-6G\":.35,\"3-21G\":.35,\"6-31G*\":.35,\"cc-pVTZ\":.35,\"aug-ccpVQZ\":.35,\"def2-TZVP\":.35,\"def2-QZVPP\":.7}\n",
    "    xmaxca={\"STO-3G\":.25,\"STO-6G\":.25,\"3-21G\":.25,\"6-31G*\":.25,\"cc-pVTZ\":.25,\"aug-ccpVQZ\":.25,\"def2-TZVP\":.25,\"def2-QZVPP\":.7}\n",
    "\n",
    "    ax.axhline(np.abs(dfp.e_HF-dfp.e_ccsd).mean(),ls='-',xmax=xmaxhf[title],label='HF MAE',color='C7')\n",
    "    ax.axhline(np.abs(dfp.e_mp2-dfp.e_ccsd).mean(),ls='.-',xmax=xmaxmp2[title],label='MP2 MAE',color='C8')\n",
    "    ax.axhline(1/630,ls=':',xmax=xmaxca[title],label=\"1 kcal/mol\",color='C6')\n",
    "    \n",
    "    \n",
    "    #ax.set_yticklabels(np.logspace(-3,1,5) ,minor=False,fontsize=20)\n",
    "    #ax.tick_params(labelsize=15)\n",
    "    \n",
    "    ax.set_title(title,fontsize=17)"
   ]
  },
  {
   "cell_type": "code",
   "execution_count": 17,
   "metadata": {
    "scrolled": false
   },
   "outputs": [
    {
     "name": "stderr",
     "output_type": "stream",
     "text": [
      "C:\\Users\\zorzo\\Anaconda3\\lib\\site-packages\\ipykernel_launcher.py:3: MatplotlibDeprecationWarning: Adding an axes using the same arguments as a previous axes currently reuses the earlier instance.  In a future version, a new instance will always be created and returned.  Meanwhile, this warning can be suppressed, and the future behavior ensured, by passing a unique label to each axes instance.\n",
      "  This is separate from the ipykernel package so we can avoid doing imports until\n",
      "C:\\Users\\zorzo\\Anaconda3\\lib\\site-packages\\ipykernel_launcher.py:4: MatplotlibDeprecationWarning: Adding an axes using the same arguments as a previous axes currently reuses the earlier instance.  In a future version, a new instance will always be created and returned.  Meanwhile, this warning can be suppressed, and the future behavior ensured, by passing a unique label to each axes instance.\n",
      "  after removing the cwd from sys.path.\n",
      "C:\\Users\\zorzo\\Anaconda3\\lib\\site-packages\\ipykernel_launcher.py:5: MatplotlibDeprecationWarning: Adding an axes using the same arguments as a previous axes currently reuses the earlier instance.  In a future version, a new instance will always be created and returned.  Meanwhile, this warning can be suppressed, and the future behavior ensured, by passing a unique label to each axes instance.\n",
      "  \"\"\"\n"
     ]
    },
    {
     "ename": "AttributeError",
     "evalue": "'DataFrame' object has no attribute 'e_HF'",
     "output_type": "error",
     "traceback": [
      "\u001b[1;31m---------------------------------------------------------------------------\u001b[0m",
      "\u001b[1;31mAttributeError\u001b[0m                            Traceback (most recent call last)",
      "\u001b[1;32m<ipython-input-17-1ecbd74888ff>\u001b[0m in \u001b[0;36m<module>\u001b[1;34m\u001b[0m\n\u001b[0;32m      7\u001b[0m \u001b[0maxs\u001b[0m \u001b[1;33m=\u001b[0m \u001b[0mfig\u001b[0m\u001b[1;33m.\u001b[0m\u001b[0msubplots\u001b[0m\u001b[1;33m(\u001b[0m\u001b[1;36m2\u001b[0m\u001b[1;33m,\u001b[0m \u001b[1;36m4\u001b[0m\u001b[1;33m,\u001b[0m\u001b[0msharex\u001b[0m\u001b[1;33m=\u001b[0m\u001b[1;32mTrue\u001b[0m\u001b[1;33m,\u001b[0m \u001b[0msharey\u001b[0m\u001b[1;33m=\u001b[0m\u001b[1;32mTrue\u001b[0m\u001b[1;33m)\u001b[0m\u001b[1;33m\u001b[0m\u001b[1;33m\u001b[0m\u001b[0m\n\u001b[0;32m      8\u001b[0m \u001b[1;33m\u001b[0m\u001b[0m\n\u001b[1;32m----> 9\u001b[1;33m \u001b[0mplot\u001b[0m\u001b[1;33m(\u001b[0m\u001b[0maxs\u001b[0m\u001b[1;33m[\u001b[0m\u001b[1;36m0\u001b[0m\u001b[1;33m,\u001b[0m\u001b[1;36m0\u001b[0m\u001b[1;33m]\u001b[0m\u001b[1;33m,\u001b[0m\u001b[0mdt_sto3g\u001b[0m\u001b[1;33m,\u001b[0m\u001b[1;34m\"STO-3G\"\u001b[0m\u001b[1;33m)\u001b[0m\u001b[1;33m\u001b[0m\u001b[1;33m\u001b[0m\u001b[0m\n\u001b[0m\u001b[0;32m     10\u001b[0m \u001b[0mplot\u001b[0m\u001b[1;33m(\u001b[0m\u001b[0maxs\u001b[0m\u001b[1;33m[\u001b[0m\u001b[1;36m1\u001b[0m\u001b[1;33m,\u001b[0m\u001b[1;36m0\u001b[0m\u001b[1;33m]\u001b[0m\u001b[1;33m,\u001b[0m\u001b[0mdt_sto6g\u001b[0m\u001b[1;33m,\u001b[0m\u001b[1;34m\"STO-6G\"\u001b[0m\u001b[1;33m)\u001b[0m\u001b[1;33m\u001b[0m\u001b[1;33m\u001b[0m\u001b[0m\n\u001b[0;32m     11\u001b[0m \u001b[0mplot\u001b[0m\u001b[1;33m(\u001b[0m\u001b[0maxs\u001b[0m\u001b[1;33m[\u001b[0m\u001b[1;36m0\u001b[0m\u001b[1;33m,\u001b[0m\u001b[1;36m1\u001b[0m\u001b[1;33m]\u001b[0m\u001b[1;33m,\u001b[0m\u001b[0mdt_321g\u001b[0m\u001b[1;33m,\u001b[0m\u001b[1;34m\"3-21G\"\u001b[0m\u001b[1;33m)\u001b[0m\u001b[1;33m\u001b[0m\u001b[1;33m\u001b[0m\u001b[0m\n",
      "\u001b[1;32m<ipython-input-16-47a0782a81c3>\u001b[0m in \u001b[0;36mplot\u001b[1;34m(ax, dfp, title)\u001b[0m\n\u001b[0;32m     17\u001b[0m     \u001b[0mxmaxca\u001b[0m\u001b[1;33m=\u001b[0m\u001b[1;33m{\u001b[0m\u001b[1;34m\"STO-3G\"\u001b[0m\u001b[1;33m:\u001b[0m\u001b[1;36m.25\u001b[0m\u001b[1;33m,\u001b[0m\u001b[1;34m\"STO-6G\"\u001b[0m\u001b[1;33m:\u001b[0m\u001b[1;36m.25\u001b[0m\u001b[1;33m,\u001b[0m\u001b[1;34m\"3-21G\"\u001b[0m\u001b[1;33m:\u001b[0m\u001b[1;36m.25\u001b[0m\u001b[1;33m,\u001b[0m\u001b[1;34m\"6-31G*\"\u001b[0m\u001b[1;33m:\u001b[0m\u001b[1;36m.25\u001b[0m\u001b[1;33m,\u001b[0m\u001b[1;34m\"cc-pVTZ\"\u001b[0m\u001b[1;33m:\u001b[0m\u001b[1;36m.25\u001b[0m\u001b[1;33m,\u001b[0m\u001b[1;34m\"aug-ccpVQZ\"\u001b[0m\u001b[1;33m:\u001b[0m\u001b[1;36m.25\u001b[0m\u001b[1;33m,\u001b[0m\u001b[1;34m\"def2-TZVP\"\u001b[0m\u001b[1;33m:\u001b[0m\u001b[1;36m.25\u001b[0m\u001b[1;33m,\u001b[0m\u001b[1;34m\"def2-QZVPP\"\u001b[0m\u001b[1;33m:\u001b[0m\u001b[1;36m.7\u001b[0m\u001b[1;33m}\u001b[0m\u001b[1;33m\u001b[0m\u001b[1;33m\u001b[0m\u001b[0m\n\u001b[0;32m     18\u001b[0m \u001b[1;33m\u001b[0m\u001b[0m\n\u001b[1;32m---> 19\u001b[1;33m     \u001b[0max\u001b[0m\u001b[1;33m.\u001b[0m\u001b[0maxhline\u001b[0m\u001b[1;33m(\u001b[0m\u001b[0mnp\u001b[0m\u001b[1;33m.\u001b[0m\u001b[0mabs\u001b[0m\u001b[1;33m(\u001b[0m\u001b[0mdfp\u001b[0m\u001b[1;33m.\u001b[0m\u001b[0me_HF\u001b[0m\u001b[1;33m-\u001b[0m\u001b[0mdfp\u001b[0m\u001b[1;33m.\u001b[0m\u001b[0me_ccsd\u001b[0m\u001b[1;33m)\u001b[0m\u001b[1;33m.\u001b[0m\u001b[0mmean\u001b[0m\u001b[1;33m(\u001b[0m\u001b[1;33m)\u001b[0m\u001b[1;33m,\u001b[0m\u001b[0mls\u001b[0m\u001b[1;33m=\u001b[0m\u001b[1;34m'-'\u001b[0m\u001b[1;33m,\u001b[0m\u001b[0mxmax\u001b[0m\u001b[1;33m=\u001b[0m\u001b[0mxmaxhf\u001b[0m\u001b[1;33m[\u001b[0m\u001b[0mtitle\u001b[0m\u001b[1;33m]\u001b[0m\u001b[1;33m,\u001b[0m\u001b[0mlabel\u001b[0m\u001b[1;33m=\u001b[0m\u001b[1;34m'HF MAE'\u001b[0m\u001b[1;33m,\u001b[0m\u001b[0mcolor\u001b[0m\u001b[1;33m=\u001b[0m\u001b[1;34m'C7'\u001b[0m\u001b[1;33m)\u001b[0m\u001b[1;33m\u001b[0m\u001b[1;33m\u001b[0m\u001b[0m\n\u001b[0m\u001b[0;32m     20\u001b[0m     \u001b[0max\u001b[0m\u001b[1;33m.\u001b[0m\u001b[0maxhline\u001b[0m\u001b[1;33m(\u001b[0m\u001b[0mnp\u001b[0m\u001b[1;33m.\u001b[0m\u001b[0mabs\u001b[0m\u001b[1;33m(\u001b[0m\u001b[0mdfp\u001b[0m\u001b[1;33m.\u001b[0m\u001b[0me_mp2\u001b[0m\u001b[1;33m-\u001b[0m\u001b[0mdfp\u001b[0m\u001b[1;33m.\u001b[0m\u001b[0me_ccsd\u001b[0m\u001b[1;33m)\u001b[0m\u001b[1;33m.\u001b[0m\u001b[0mmean\u001b[0m\u001b[1;33m(\u001b[0m\u001b[1;33m)\u001b[0m\u001b[1;33m,\u001b[0m\u001b[0mls\u001b[0m\u001b[1;33m=\u001b[0m\u001b[1;34m'.-'\u001b[0m\u001b[1;33m,\u001b[0m\u001b[0mxmax\u001b[0m\u001b[1;33m=\u001b[0m\u001b[0mxmaxmp2\u001b[0m\u001b[1;33m[\u001b[0m\u001b[0mtitle\u001b[0m\u001b[1;33m]\u001b[0m\u001b[1;33m,\u001b[0m\u001b[0mlabel\u001b[0m\u001b[1;33m=\u001b[0m\u001b[1;34m'MP2 MAE'\u001b[0m\u001b[1;33m,\u001b[0m\u001b[0mcolor\u001b[0m\u001b[1;33m=\u001b[0m\u001b[1;34m'C8'\u001b[0m\u001b[1;33m)\u001b[0m\u001b[1;33m\u001b[0m\u001b[1;33m\u001b[0m\u001b[0m\n\u001b[0;32m     21\u001b[0m     \u001b[0max\u001b[0m\u001b[1;33m.\u001b[0m\u001b[0maxhline\u001b[0m\u001b[1;33m(\u001b[0m\u001b[1;36m1\u001b[0m\u001b[1;33m/\u001b[0m\u001b[1;36m630\u001b[0m\u001b[1;33m,\u001b[0m\u001b[0mls\u001b[0m\u001b[1;33m=\u001b[0m\u001b[1;34m':'\u001b[0m\u001b[1;33m,\u001b[0m\u001b[0mxmax\u001b[0m\u001b[1;33m=\u001b[0m\u001b[0mxmaxca\u001b[0m\u001b[1;33m[\u001b[0m\u001b[0mtitle\u001b[0m\u001b[1;33m]\u001b[0m\u001b[1;33m,\u001b[0m\u001b[0mlabel\u001b[0m\u001b[1;33m=\u001b[0m\u001b[1;34m\"1 kcal/mol\"\u001b[0m\u001b[1;33m,\u001b[0m\u001b[0mcolor\u001b[0m\u001b[1;33m=\u001b[0m\u001b[1;34m'C6'\u001b[0m\u001b[1;33m)\u001b[0m\u001b[1;33m\u001b[0m\u001b[1;33m\u001b[0m\u001b[0m\n",
      "\u001b[1;32m~\\Anaconda3\\lib\\site-packages\\pandas\\core\\generic.py\u001b[0m in \u001b[0;36m__getattr__\u001b[1;34m(self, name)\u001b[0m\n\u001b[0;32m   5177\u001b[0m             \u001b[1;32mif\u001b[0m \u001b[0mself\u001b[0m\u001b[1;33m.\u001b[0m\u001b[0m_info_axis\u001b[0m\u001b[1;33m.\u001b[0m\u001b[0m_can_hold_identifiers_and_holds_name\u001b[0m\u001b[1;33m(\u001b[0m\u001b[0mname\u001b[0m\u001b[1;33m)\u001b[0m\u001b[1;33m:\u001b[0m\u001b[1;33m\u001b[0m\u001b[1;33m\u001b[0m\u001b[0m\n\u001b[0;32m   5178\u001b[0m                 \u001b[1;32mreturn\u001b[0m \u001b[0mself\u001b[0m\u001b[1;33m[\u001b[0m\u001b[0mname\u001b[0m\u001b[1;33m]\u001b[0m\u001b[1;33m\u001b[0m\u001b[1;33m\u001b[0m\u001b[0m\n\u001b[1;32m-> 5179\u001b[1;33m             \u001b[1;32mreturn\u001b[0m \u001b[0mobject\u001b[0m\u001b[1;33m.\u001b[0m\u001b[0m__getattribute__\u001b[0m\u001b[1;33m(\u001b[0m\u001b[0mself\u001b[0m\u001b[1;33m,\u001b[0m \u001b[0mname\u001b[0m\u001b[1;33m)\u001b[0m\u001b[1;33m\u001b[0m\u001b[1;33m\u001b[0m\u001b[0m\n\u001b[0m\u001b[0;32m   5180\u001b[0m \u001b[1;33m\u001b[0m\u001b[0m\n\u001b[0;32m   5181\u001b[0m     \u001b[1;32mdef\u001b[0m \u001b[0m__setattr__\u001b[0m\u001b[1;33m(\u001b[0m\u001b[0mself\u001b[0m\u001b[1;33m,\u001b[0m \u001b[0mname\u001b[0m\u001b[1;33m,\u001b[0m \u001b[0mvalue\u001b[0m\u001b[1;33m)\u001b[0m\u001b[1;33m:\u001b[0m\u001b[1;33m\u001b[0m\u001b[1;33m\u001b[0m\u001b[0m\n",
      "\u001b[1;31mAttributeError\u001b[0m: 'DataFrame' object has no attribute 'e_HF'"
     ]
    },
    {
     "data": {
      "image/png": "[encoded data removed]",
      "text/plain": [
       "<Figure size 1008x576 with 9 Axes>"
      ]
     },
     "metadata": {
      "needs_background": "light"
     },
     "output_type": "display_data"
    }
   ],
   "source": [
    "fig= plt.figure(figsize=(14,8))\n",
    "plt.tick_params(labelcolor='none', top=False, bottom=False, left=False, right=False)\n",
    "plt.axes().set_ylabel(\"absolute truncation error  [Ha] \",fontsize=22,labelpad=35)\n",
    "plt.axes().set_xlabel('Integrated density overlap [e] ' , fontsize=22,labelpad=20)\n",
    "plt.axes().set_frame_on(False) \n",
    "\n",
    "axs = fig.subplots(2, 4,sharex=True, sharey=True)\n",
    "\n",
    "plot(axs[0,0],dt_sto3g,\"STO-3G\")\n",
    "plot(axs[1,0],dt_sto6g,\"STO-6G\")\n",
    "plot(axs[0,1],dt_321g,\"3-21G\")\n",
    "plot(axs[1,1],dt_631g,\"6-31G*\")\n",
    "plot(axs[0,2],dt_ccpvtz,\"cc-pVTZ\")\n",
    "plot(axs[1,2],dt_aug,\"aug-ccpVQZ\")\n",
    "plot(axs[0,3],dt_tzvp,\"def2-TZVP\") \n",
    "plot(axs[1,3],dt_qzvpp,\"def2-QZVPP\")\n",
    "plt.subplots_adjust(hspace=0.15,wspace=0)\n",
    "axs[0,0].legend(loc=4,ncol=2,fontsize=10)\n",
    "\n",
    "\n",
    "\n",
    "axs[1,0].axvspan(2.0, 3.5, color='grey', alpha=0.5, lw=0)\n",
    "axs[1,0].text(7.9,.5,\"$ \\Delta Z = \\pm 1 $\",fontsize=14)\n",
    "z1='\\n'.join((r'HAl $ \\longleftrightarrow $ HeMg ',r'HeMg $ \\longleftrightarrow $ LiNa ',r'LiNa $ \\longleftrightarrow$ BeNe  '\\\n",
    "             ,r'BeNe $ \\longleftrightarrow $ BF ',r'BF $ \\longleftrightarrow $ CO ',r'CO $ \\longleftrightarrow$ N$_2$' ))\n",
    "axs[1,0].text(7.7,0.001,z1,fontsize=12)\n",
    "\n",
    "axs[0,1].axvspan(4.9, 7.1, color='grey', alpha=0.5, lw=0)\n",
    "axs[0,1].text(8.2,0.3,\"$ \\Delta Z = \\pm 2 $\",fontsize=14)\n",
    "z2='\\n'.join((r'HAl $ \\longleftrightarrow $ LiNa ',r'HeMg $ \\longleftrightarrow $ BeNe ',r'LiNa $ \\longleftrightarrow $ BF',\\\n",
    "              r'BeNe $ \\longleftrightarrow CO$'\\\n",
    "             ,r'BF $ \\longleftrightarrow $ N$_2$  '))\n",
    "axs[0,1].text(7.7,0.001,z2,fontsize=12)\n",
    "\n",
    "axs[1,1].axvspan(7.5,9., color='grey', alpha=0.5, lw=0)\n",
    "axs[1,1].text(8.2,0.1,\"$ \\Delta Z = \\pm 3 $\",fontsize=14)\n",
    "z3='\\n'.join((r'  HAl $ \\longleftrightarrow $ BeNe',r'HeMg$\\longleftrightarrow $ BF','LiNa  $ \\longleftrightarrow $ CO',\\\n",
    "              r'BeNe$\\longleftrightarrow$ N$_2$  '))\n",
    "axs[1,1].text(8.1,0.001,z3,multialignment='left',fontsize=12)\n",
    "\n",
    "axs[0,2].axvspan(9.4,11.5, color='grey', alpha=0.5, lw=0)\n",
    "axs[0,2].text(6.,0.05,\"$ \\Delta Z = \\pm 4 $\",fontsize=14)\n",
    "z4='\\n'.join((r' HAl $ \\longleftrightarrow $ BF',r'HeMg$ \\longleftrightarrow $ CO',' LiNa $ \\longleftrightarrow$ N$_2$'))\n",
    "axs[0,2].text(4.8,0.001,z4,multialignment='right',fontsize=12)\n",
    "\n",
    "axs[1,2].axvspan(10.5,12.5, color='grey', alpha=0.5, lw=0)\n",
    "axs[1,2].text(6.5,0.009,\"$ \\Delta Z = \\pm 5 $\",fontsize=14)\n",
    "z5='\\n'.join((r'  HAl $ \\longleftrightarrow $ CO',r'HeMg$ \\longleftrightarrow $ N$_2$'))\n",
    "axs[1,2].text(6.,0.001,z5,fontsize=12)\n",
    "\n",
    "axs[0,3].axvspan(12,13.5, color='grey', alpha=0.5, lw=0)\n",
    "axs[0,3].text(7.2,0.01,\"$ \\Delta Z = \\pm 6 $\",fontsize=14)\n",
    "axs[0,3].text(7.1,0.0025,r'HAl $ \\longleftrightarrow $ N$_2$ ',fontsize=12)\n",
    "\n",
    "\n",
    "axs[1,3].text(8.,5.e-4,r'CO $ \\longleftrightarrow$ BF ',fontsize=12)\n",
    "\n",
    "axs[1,3].text(8.,2.e-3,r'CO $\\longleftrightarrow$ BeNe ',fontsize=12)\n",
    "axs[1,3].text(8.,6.e-3,r'N$_2$  $ \\longleftrightarrow$ BF ',fontsize=12)\n",
    "\n",
    "axs[1,3].text(8.,.08,r'N$_2$  $ \\longleftrightarrow$ BeNe ',fontsize=12)\n",
    "axs[1,3].text(8.,.032,r'CO $ \\longleftrightarrow$ LiNa ',fontsize=12)\n",
    "\n",
    "axs[1,3].text(8.,.3,r'CO $ \\longleftrightarrow$ HeMg ',fontsize=12)\n",
    "\n",
    "for ax in axs.flatten():\n",
    "    ax.set_yticklabels(ax.get_yticks(),fontsize=15)\n",
    "    ax.set_xticklabels(ax.get_xticks(),fontsize=15)\n",
    "plt.savefig(\"median_error.pdf\")"
   ]
  },
  {
   "cell_type": "code",
   "execution_count": null,
   "metadata": {},
   "outputs": [],
   "source": []
  }
 ],
 "metadata": {
  "kernelspec": {
   "display_name": "Python 3",
   "language": "python",
   "name": "python3"
  },
  "language_info": {
   "codemirror_mode": {
    "name": "ipython",
    "version": 3
   },
   "file_extension": ".py",
   "mimetype": "text/x-python",
   "name": "python",
   "nbconvert_exporter": "python",
   "pygments_lexer": "ipython3",
   "version": "3.7.4"
  }
 },
 "nbformat": 4,
 "nbformat_minor": 2
}
