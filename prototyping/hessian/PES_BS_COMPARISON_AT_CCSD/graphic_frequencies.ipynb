{
 "cells": [
  {
   "cell_type": "code",
   "execution_count": 2,
   "metadata": {},
   "outputs": [
    {
     "data": {
      "text/plain": [
       "0.01234583452800564"
      ]
     },
     "execution_count": 2,
     "metadata": {},
     "output_type": "execute_result"
    }
   ],
   "source": [
    "import pandas as pd \n",
    "import numpy as np\n",
    "import matplotlib.pyplot as plt\n",
    "from pes_bs_utils import parse_energy_cc, parse_energy_hf,parse_energy\n",
    "from scipy.interpolate import InterpolatedUnivariateSpline as sp\n",
    "df_sa_bsc=pd.read_pickle(\"./df_sa_bsc\")\n",
    "#atoms_path=\"/home/giorgiod/MRCC_interface/Atoms/\"  \n",
    "basisSets=['sto-3G', 'sto-6G','3-21G','6-31G*','def2-TZVP','def2-QZVPP','cc-pvtz','aug-cc-pVQZ']\n",
    "atoms=\"H,He,Li,Be,B,C,N,O,F,Ne,Na,Mg,Al\"\n",
    "atoms=atoms.split(',')\n",
    "\n",
    "atoms_mol={'HAl':['H','Al'],'HeMg':['He','Mg'],'LiNa':['Li','Na'],\\\n",
    "           'BeNe':['Be','Ne'],'BF':['B','F'],'CO':['C','O'],'NN':['N','N']}\n",
    "\"\"\"def energy(bs,targ,ref,hf=False,mp2=False):\n",
    "    logfile=atoms_path+'{}/{}/{}_at_{}/run.log'.format(bs,targ,targ,ref)\n",
    "    if hf:\n",
    "            return parse_energy_hf(logfile)\n",
    "    return parse_energy_cc(logfile)\"\"\"\n",
    "def bsc(ref,target):\n",
    "    return float(df_sa_bsc.query(\"basis_set=='def2-QZVPP'&ref==@ref&target==@target\").bsc )\n",
    "    \"\"\"return \\\n",
    "    energy('def2-QZVPP',atoms_mol[target][0],atoms_mol[ref][0])\\\n",
    "    +energy('def2-QZVPP',atoms_mol[target][1],atoms_mol[ref][1]) \\\n",
    "    -energy('def2-QZVPP',atoms_mol[target][0],atoms_mol[target][0])\\\n",
    "    -energy('def2-QZVPP',atoms_mol[target][1],atoms_mol[target][1])\"\"\"\n",
    "bsc('NN','CO')"
   ]
  },
  {
   "cell_type": "code",
   "execution_count": 10,
   "metadata": {},
   "outputs": [
    {
     "data": {
      "text/plain": [
       "array([-0.07659199, -0.07385297, -0.07227073, -0.07132193, -0.07084806,\n",
       "       -0.07078547, -0.07091321, -0.07108709, -0.07123193, -0.07133677,\n",
       "       -0.07137496, -0.07132881, -0.07121734, -0.07109933, -0.07112004,\n",
       "       -0.07155984, -0.07290076, -0.07596497, -0.08207828, -0.09304793])"
      ]
     },
     "execution_count": 10,
     "metadata": {},
     "output_type": "execute_result"
    }
   ],
   "source": [
    "dt_qzvpp=pd.read_pickle('data_def2_qzvpp')\n",
    "hfmp2dft=pd.read_pickle('hfmp2dft_def2qzvpp')  #pes at hf, mp2 ,PBE and B3LYP\n",
    "#hfmp2dft.query(\"calc=='PBE' & mol=='CO' \").energy-\n",
    "np.asarray(hfmp2dft.query(\"calc=='PBE' & mol=='CO' \").energy)-np.asarray(hfmp2dft.query(\"calc=='MP2' & mol=='CO' \").energy)"
   ]
  },
  {
   "cell_type": "code",
   "execution_count": 3,
   "metadata": {},
   "outputs": [
    {
     "data": {
      "text/plain": [
       "'path_atoms_dft=\"/home/giorgiod/Desktop/MRCC_interface/DFT_BFCONN/Atoms/{}_{}/run.log\" #.format(atom,{PBE,B3LYP})\\npath_atoms_ccsd=\"/home/giorgiod/Desktop/MRCC_interface/Atoms/def2-QZVPP/{}/{}_at_{}/run.log\" #.format(targ,targ,ref) \\nparse_energy(path_atoms_ccsd.format(\"O\",\"O\",\"C\"),\"ccsd\")'"
      ]
     },
     "execution_count": 3,
     "metadata": {},
     "output_type": "execute_result"
    }
   ],
   "source": [
    "\"\"\"path_atoms_dft=\"/home/giorgiod/Desktop/MRCC_interface/DFT_BFCONN/Atoms/{}_{}/run.log\" #.format(atom,{PBE,B3LYP})\n",
    "path_atoms_ccsd=\"/home/giorgiod/Desktop/MRCC_interface/Atoms/def2-QZVPP/{}/{}_at_{}/run.log\" #.format(targ,targ,ref) \n",
    "parse_energy(path_atoms_ccsd.format(\"O\",\"O\",\"C\"),\"ccsd\")\"\"\""
   ]
  },
  {
   "cell_type": "markdown",
   "metadata": {},
   "source": [
    "Now we only consider alchemies from NN to CO :: from CO to NN and BF :: from BF to CO <br>\n",
    "2^nd and 4^th order alchemy VS HF and MP2, true CCSD of the target as a reference.\n",
    "\n"
   ]
  },
  {
   "cell_type": "code",
   "execution_count": 5,
   "metadata": {},
   "outputs": [],
   "source": [
    "def atoms_energy(mol,calc,ref=\"ref\"):\n",
    "    a1,a2=atoms_mol[mol][0],atoms_mol[mol][1]\n",
    "    if ref != \"ref\":\n",
    "        r1,r2=atoms_mol[ref][0],atoms_mol[ref][1]\n",
    "    if calc==\"ccsd\" or calc==\"HF\" or calc==\"MP2\":\n",
    "        return parse_energy(path_atoms_ccsd.format(a1,a1,a1),calc)+parse_energy(path_atoms_ccsd.format(a2,a2,a2),calc)\n",
    "    if calc==\"PBE\" or calc==\"B3LYP\":\n",
    "        return parse_energy(path_atoms_dft.format(a1,calc),calc)+parse_energy(path_atoms_dft.format(a2,calc),calc)\n",
    "    if calc==\"alchemy\":\n",
    "        return parse_energy(path_atoms_ccsd.format(a1,a1,r1),\"ccsd\")+parse_energy(path_atoms_ccsd.format(a2,a2,r2),\"ccsd\")"
   ]
  },
  {
   "cell_type": "code",
   "execution_count": 6,
   "metadata": {},
   "outputs": [
    {
     "name": "stdout",
     "output_type": "stream",
     "text": [
      "couldn't parse energy return 0 for: /home/giorgiod/Desktop/MRCC_interface/DFT_BFCONN/Atoms/B_PBE/run.log_calc__PBE\n",
      "couldn't parse energy return 0 for: /home/giorgiod/Desktop/MRCC_interface/DFT_BFCONN/Atoms/F_PBE/run.log_calc__PBE\n"
     ]
    },
    {
     "data": {
      "text/plain": [
       "0"
      ]
     },
     "execution_count": 6,
     "metadata": {},
     "output_type": "execute_result"
    }
   ],
   "source": [
    "atoms_energy(\"BF\",\"PBE\")"
   ]
  },
  {
   "cell_type": "code",
   "execution_count": 7,
   "metadata": {},
   "outputs": [
    {
     "name": "stdout",
     "output_type": "stream",
     "text": [
      "12762.081457898783 12552.657457934376 12501.650854791682\n"
     ]
    }
   ],
   "source": [
    "# for masses reference  https://physics.nist.gov/cgi-bin/Compositions/stand_alone.pl\n",
    "m_B=10.806\n",
    "m_C=12.0096\n",
    "m_N=14.006\n",
    "m_O=15.999\n",
    "m_F=18.998\n",
    "\n",
    "# https://physics.nist.gov/cgi-bin/cuu/Value?u|search_for=physchem_in! ++ https://physics.nist.gov/cgi-bin/cuu/Value?me  \n",
    "dalton_to_au=  1.660e-27 / 9.109e-31\n",
    "\n",
    "mu_nn=12766.4683422\n",
    "mu_nn=m_N/2 *dalton_to_au\n",
    "mu_co=m_C*m_O/(m_C+m_O)*dalton_to_au\n",
    "mu_bf=m_B*m_F/(m_B+m_F)*dalton_to_au\n",
    "lightspeed=137.035999753\n",
    "planck=6.28318530718\n",
    "centimeter=188972613.392\n",
    "kcal_mol=627.509\n",
    "def to_cm(k,Mu):\n",
    "    return (k/Mu)**0.5*centimeter/planck/lightspeed\n",
    "print(mu_nn,mu_bf,mu_co)"
   ]
  },
  {
   "cell_type": "code",
   "execution_count": 6,
   "metadata": {},
   "outputs": [],
   "source": [
    "def sppes(scan):\n",
    "    points=np.linspace(1.3,3.2,20)\n",
    "    target_pts=np.linspace (1.3,3.2,1901) # points 20 in 1.3-3.2 (1.9bohrs)\n",
    "    bspline=sp(points,scan)\n",
    "    return bspline(target_pts)"
   ]
  },
  {
   "cell_type": "code",
   "execution_count": 7,
   "metadata": {},
   "outputs": [],
   "source": [
    "#frequencies !!! only for linspace of e-3 bohr  !!!\n",
    "def freq(spline,mol):\n",
    "    red_masses={'NN':mu_nn,'CO':mu_co,'BF':mu_bf}\n",
    "    Mu=red_masses[mol]\n",
    "    min_true=np.argmin(spline)\n",
    "    k_true=(spline[min_true-1]+spline[min_true+1]-2*spline[min_true])*1.e+6\n",
    "    return to_cm(k_true,Mu)"
   ]
  },
  {
   "cell_type": "code",
   "execution_count": 8,
   "metadata": {},
   "outputs": [],
   "source": [
    "#This was for seminar _ cancel line for NC\n",
    "\n",
    "def Plot(ax,ref,target):\n",
    "    target_pts=np.linspace (1.3,3.2,1901)\n",
    "    spline_ccsd=sppes(dt_qzvpp.query(\"alchemy==0 &ref==@ref & target==@target\").e_ccsd)-atoms_energy(target,\"ccsd\")\n",
    "    spline_alch2=sppes(dt_qzvpp.query(\"alchemy==2 &ref==@ref & target==@target\").e_alch)-atoms_energy(target,\"alchemy\",ref=ref)\n",
    "    spline_alch4=sppes(dt_qzvpp.query(\"alchemy==4 &ref==@ref & target==@target\").e_alch)-atoms_energy(target,\"alchemy\",ref=ref)\n",
    "    spline_alch4_NC=sppes(dt_qzvpp.query(\"alchemy==4 &ref==@ref & target==@target\").e_alch)-atoms_energy(target,\"ccsd\")\n",
    "    spline_hf=sppes(hfmp2dft.query(\"calc=='HF' & mol==@target\").energy)-atoms_energy(target,\"HF\")\n",
    "    spline_mp2=sppes(hfmp2dft.query(\"calc=='MP2' & mol==@target\").energy)-atoms_energy(target,\"MP2\")\n",
    "    spline_pbe=sppes(hfmp2dft.query(\"calc=='PBE' & mol==@target\").energy)-atoms_energy(target,\"PBE\")\n",
    "    spline_b3lyp=sppes(hfmp2dft.query(\"calc=='B3LYP' & mol==@target\").energy)-atoms_energy(target,\"B3LYP\")\n",
    "    \n",
    "    ax[0].plot(target_pts,spline_ccsd*kcal_mol,label='CCSD',color='C0',lw=3.)\n",
    "    ax[0].plot(target_pts,spline_alch4*kcal_mol,label='With correction ',color='C1',lw=3.,ls='-.' )\n",
    "    ax[0].plot(target_pts,spline_mp2*kcal_mol,label=\"MP2\",color='C2',lw=3.,ls='--')\n",
    "    ax[0].plot(target_pts,spline_pbe*kcal_mol,label='PBE',color='C3',lw=3.,ls=':')\n",
    "    ax[0].plot(target_pts,spline_b3lyp*kcal_mol,label='B3LYP',color='C4',lw=3.,ls=':')\n",
    "    ax[0].plot(target_pts,spline_alch4_NC*kcal_mol,label='Alchemy $4^{th}$ ',color='C5',lw=3.,ls='-.' )\n",
    "    \n",
    "# [ '-' | '--' | '-.' | ':' | 'steps' | ...]\n",
    "\n",
    "    minim=min([min(spline_alch4),min(spline_mp2),min(spline_alch4),min(spline_pbe),min(spline_b3lyp)])\n",
    "    ax[0].set(xlim=(1.8,2.6),ylim=(minim*kcal_mol-5, minim*kcal_mol+60 ))\n",
    "\n",
    "    ax[1].bar(0,freq(spline_ccsd,target),color='C0',label='CCSD')\n",
    "    ax[1].bar(1,freq(spline_alch4,target),color='C1',label='Alchemy $4^{th}$')\n",
    "    ax[1].bar(2,freq(spline_mp2,target),color='C2',label='MP2')    \n",
    "    ax[1].bar(3,freq(spline_pbe,target),color='C3',label='PBE')    \n",
    "    ax[1].bar(4,freq(spline_b3lyp,target),color='C4',label=\"B3LYP\")    \n",
    "    "
   ]
  },
  {
   "cell_type": "code",
   "execution_count": 11,
   "metadata": {},
   "outputs": [
    {
     "name": "stderr",
     "output_type": "stream",
     "text": [
      "C:\\Users\\zorzo\\Anaconda3\\lib\\site-packages\\ipykernel_launcher.py:4: MatplotlibDeprecationWarning: Adding an axes using the same arguments as a previous axes currently reuses the earlier instance.  In a future version, a new instance will always be created and returned.  Meanwhile, this warning can be suppressed, and the future behavior ensured, by passing a unique label to each axes instance.\n",
      "  after removing the cwd from sys.path.\n",
      "C:\\Users\\zorzo\\Anaconda3\\lib\\site-packages\\ipykernel_launcher.py:5: MatplotlibDeprecationWarning: Adding an axes using the same arguments as a previous axes currently reuses the earlier instance.  In a future version, a new instance will always be created and returned.  Meanwhile, this warning can be suppressed, and the future behavior ensured, by passing a unique label to each axes instance.\n",
      "  \"\"\"\n",
      "C:\\Users\\zorzo\\Anaconda3\\lib\\site-packages\\ipykernel_launcher.py:6: MatplotlibDeprecationWarning: Adding an axes using the same arguments as a previous axes currently reuses the earlier instance.  In a future version, a new instance will always be created and returned.  Meanwhile, this warning can be suppressed, and the future behavior ensured, by passing a unique label to each axes instance.\n",
      "  \n"
     ]
    },
    {
     "ename": "NameError",
     "evalue": "name 'atoms_energy' is not defined",
     "output_type": "error",
     "traceback": [
      "\u001b[1;31m---------------------------------------------------------------------------\u001b[0m",
      "\u001b[1;31mNameError\u001b[0m                                 Traceback (most recent call last)",
      "\u001b[1;32m<ipython-input-11-e86f3e405c68>\u001b[0m in \u001b[0;36m<module>\u001b[1;34m\u001b[0m\n\u001b[0;32m     12\u001b[0m \u001b[1;33m\u001b[0m\u001b[0m\n\u001b[0;32m     13\u001b[0m \u001b[1;32mfor\u001b[0m \u001b[0max\u001b[0m \u001b[1;32min\u001b[0m \u001b[0maxs\u001b[0m\u001b[1;33m.\u001b[0m\u001b[0mT\u001b[0m\u001b[1;33m[\u001b[0m\u001b[1;33m:\u001b[0m\u001b[1;33m]\u001b[0m\u001b[1;33m[\u001b[0m\u001b[1;36m1\u001b[0m\u001b[1;33m]\u001b[0m\u001b[1;33m:\u001b[0m \u001b[0max\u001b[0m\u001b[1;33m.\u001b[0m\u001b[0myaxis\u001b[0m\u001b[1;33m.\u001b[0m\u001b[0mtick_right\u001b[0m\u001b[1;33m(\u001b[0m\u001b[1;33m)\u001b[0m\u001b[1;33m,\u001b[0m\u001b[0max\u001b[0m\u001b[1;33m.\u001b[0m\u001b[0mxaxis\u001b[0m\u001b[1;33m.\u001b[0m\u001b[0mset_ticks\u001b[0m\u001b[1;33m(\u001b[0m\u001b[1;33m[\u001b[0m\u001b[1;33m]\u001b[0m\u001b[1;33m)\u001b[0m\u001b[1;33m\u001b[0m\u001b[1;33m\u001b[0m\u001b[0m\n\u001b[1;32m---> 14\u001b[1;33m \u001b[0mPlot\u001b[0m\u001b[1;33m(\u001b[0m\u001b[0maxs\u001b[0m\u001b[1;33m[\u001b[0m\u001b[1;36m0\u001b[0m\u001b[1;33m]\u001b[0m\u001b[1;33m,\u001b[0m\u001b[1;34m'CO'\u001b[0m\u001b[1;33m,\u001b[0m\u001b[1;34m'NN'\u001b[0m\u001b[1;33m)\u001b[0m\u001b[1;33m\u001b[0m\u001b[1;33m\u001b[0m\u001b[0m\n\u001b[0m\u001b[0;32m     15\u001b[0m \u001b[0mPlot\u001b[0m\u001b[1;33m(\u001b[0m\u001b[0maxs\u001b[0m\u001b[1;33m[\u001b[0m\u001b[1;36m1\u001b[0m\u001b[1;33m]\u001b[0m\u001b[1;33m,\u001b[0m\u001b[1;34m'NN'\u001b[0m\u001b[1;33m,\u001b[0m\u001b[1;34m'CO'\u001b[0m\u001b[1;33m)\u001b[0m\u001b[1;33m\u001b[0m\u001b[1;33m\u001b[0m\u001b[0m\n\u001b[0;32m     16\u001b[0m \u001b[0mPlot\u001b[0m\u001b[1;33m(\u001b[0m\u001b[0maxs\u001b[0m\u001b[1;33m[\u001b[0m\u001b[1;36m2\u001b[0m\u001b[1;33m]\u001b[0m\u001b[1;33m,\u001b[0m\u001b[1;34m'BF'\u001b[0m\u001b[1;33m,\u001b[0m\u001b[1;34m'CO'\u001b[0m\u001b[1;33m)\u001b[0m\u001b[1;33m\u001b[0m\u001b[1;33m\u001b[0m\u001b[0m\n",
      "\u001b[1;32m<ipython-input-8-37250702eac6>\u001b[0m in \u001b[0;36mPlot\u001b[1;34m(ax, ref, target)\u001b[0m\n\u001b[0;32m      3\u001b[0m \u001b[1;32mdef\u001b[0m \u001b[0mPlot\u001b[0m\u001b[1;33m(\u001b[0m\u001b[0max\u001b[0m\u001b[1;33m,\u001b[0m\u001b[0mref\u001b[0m\u001b[1;33m,\u001b[0m\u001b[0mtarget\u001b[0m\u001b[1;33m)\u001b[0m\u001b[1;33m:\u001b[0m\u001b[1;33m\u001b[0m\u001b[1;33m\u001b[0m\u001b[0m\n\u001b[0;32m      4\u001b[0m     \u001b[0mtarget_pts\u001b[0m\u001b[1;33m=\u001b[0m\u001b[0mnp\u001b[0m\u001b[1;33m.\u001b[0m\u001b[0mlinspace\u001b[0m \u001b[1;33m(\u001b[0m\u001b[1;36m1.3\u001b[0m\u001b[1;33m,\u001b[0m\u001b[1;36m3.2\u001b[0m\u001b[1;33m,\u001b[0m\u001b[1;36m1901\u001b[0m\u001b[1;33m)\u001b[0m\u001b[1;33m\u001b[0m\u001b[1;33m\u001b[0m\u001b[0m\n\u001b[1;32m----> 5\u001b[1;33m     \u001b[0mspline_ccsd\u001b[0m\u001b[1;33m=\u001b[0m\u001b[0msppes\u001b[0m\u001b[1;33m(\u001b[0m\u001b[0mdt_qzvpp\u001b[0m\u001b[1;33m.\u001b[0m\u001b[0mquery\u001b[0m\u001b[1;33m(\u001b[0m\u001b[1;34m\"alchemy==0 &ref==@ref & target==@target\"\u001b[0m\u001b[1;33m)\u001b[0m\u001b[1;33m.\u001b[0m\u001b[0me_ccsd\u001b[0m\u001b[1;33m)\u001b[0m\u001b[1;33m-\u001b[0m\u001b[0matoms_energy\u001b[0m\u001b[1;33m(\u001b[0m\u001b[0mtarget\u001b[0m\u001b[1;33m,\u001b[0m\u001b[1;34m\"ccsd\"\u001b[0m\u001b[1;33m)\u001b[0m\u001b[1;33m\u001b[0m\u001b[1;33m\u001b[0m\u001b[0m\n\u001b[0m\u001b[0;32m      6\u001b[0m     \u001b[0mspline_alch2\u001b[0m\u001b[1;33m=\u001b[0m\u001b[0msppes\u001b[0m\u001b[1;33m(\u001b[0m\u001b[0mdt_qzvpp\u001b[0m\u001b[1;33m.\u001b[0m\u001b[0mquery\u001b[0m\u001b[1;33m(\u001b[0m\u001b[1;34m\"alchemy==2 &ref==@ref & target==@target\"\u001b[0m\u001b[1;33m)\u001b[0m\u001b[1;33m.\u001b[0m\u001b[0me_alch\u001b[0m\u001b[1;33m)\u001b[0m\u001b[1;33m-\u001b[0m\u001b[0matoms_energy\u001b[0m\u001b[1;33m(\u001b[0m\u001b[0mtarget\u001b[0m\u001b[1;33m,\u001b[0m\u001b[1;34m\"alchemy\"\u001b[0m\u001b[1;33m,\u001b[0m\u001b[0mref\u001b[0m\u001b[1;33m=\u001b[0m\u001b[0mref\u001b[0m\u001b[1;33m)\u001b[0m\u001b[1;33m\u001b[0m\u001b[1;33m\u001b[0m\u001b[0m\n\u001b[0;32m      7\u001b[0m     \u001b[0mspline_alch4\u001b[0m\u001b[1;33m=\u001b[0m\u001b[0msppes\u001b[0m\u001b[1;33m(\u001b[0m\u001b[0mdt_qzvpp\u001b[0m\u001b[1;33m.\u001b[0m\u001b[0mquery\u001b[0m\u001b[1;33m(\u001b[0m\u001b[1;34m\"alchemy==4 &ref==@ref & target==@target\"\u001b[0m\u001b[1;33m)\u001b[0m\u001b[1;33m.\u001b[0m\u001b[0me_alch\u001b[0m\u001b[1;33m)\u001b[0m\u001b[1;33m-\u001b[0m\u001b[0matoms_energy\u001b[0m\u001b[1;33m(\u001b[0m\u001b[0mtarget\u001b[0m\u001b[1;33m,\u001b[0m\u001b[1;34m\"alchemy\"\u001b[0m\u001b[1;33m,\u001b[0m\u001b[0mref\u001b[0m\u001b[1;33m=\u001b[0m\u001b[0mref\u001b[0m\u001b[1;33m)\u001b[0m\u001b[1;33m\u001b[0m\u001b[1;33m\u001b[0m\u001b[0m\n",
      "\u001b[1;31mNameError\u001b[0m: name 'atoms_energy' is not defined"
     ]
    },
    {
     "data": {
      "image/png": "[encoded data removed]",
      "text/plain": [
       "<Figure size 720x1080 with 9 Axes>"
      ]
     },
     "metadata": {
      "needs_background": "light"
     },
     "output_type": "display_data"
    }
   ],
   "source": [
    "fig=plt.figure(figsize=(10,15))\n",
    "\n",
    "plt.tick_params(labelcolor='none', top=False, bottom=False, left=False, right=False)\n",
    "plt.axes().set_ylabel(\"Dissociation energy in Kcal/mol\",fontsize=30,labelpad=55)\n",
    "plt.axes().set_xlabel(r'Bond length in Bohr - Stretching wavenumber in $cm^{-1}$',fontsize=25,labelpad=20)\n",
    "plt.axes().set_frame_on(False)\n",
    "\n",
    "\n",
    "subplspec={'width_ratios' :[4,1], 'wspace':0,'hspace':0}\n",
    "axs=fig.subplots(4,2,gridspec_kw=subplspec)\n",
    "\n",
    "\n",
    "for ax in axs.T[:][1]: ax.yaxis.tick_right(),ax.xaxis.set_ticks([])\n",
    "Plot(axs[0],'CO','NN')\n",
    "Plot(axs[1],'NN','CO')\n",
    "Plot(axs[2],'BF','CO')\n",
    "Plot(axs[3],'CO','BF')\n",
    "axs[0][0].xaxis.set_ticks([]),axs[1][0].xaxis.set_ticks([]),axs[2][0].xaxis.set_ticks([])\n",
    "\n",
    "#axs[0][0].yaxis.set_ticks([]),axs[1][0].yaxis.set_ticks([]),axs[2][0].yaxis.set_ticks([])\n",
    "\n",
    "axs[0][1].set(ylim=(2050,2800)),axs[1][1].set(ylim=(2050,2500)),axs[2][1].set(ylim=(2050,2500)),axs[3][1].set(ylim=(1200,1600))\n",
    "\n",
    "for ax in axs:\n",
    "    for axg in ax:\n",
    "        axg.tick_params(labelsize=25)\n",
    "        axg.yaxis.set_ticks(axg.get_yticks()[1:-1])\n",
    "        \n",
    "box_prop=dict(boxstyle='round', facecolor='white', alpha=1.)\n",
    "axs[0][0].text(2.0,-194, r'CO $\\rightarrow$ NN',fontsize=25,bbox=box_prop)\n",
    "axs[1][0].text(2.0,-220, r'NN $\\rightarrow$ CO',fontsize=25,bbox=box_prop)\n",
    "axs[2][0].text(2.0,-220, r'BF $\\rightarrow$ CO',fontsize=25,bbox=box_prop)\n",
    "axs[3][0].text(2.3,-140, r'CO $\\rightarrow$ BF',fontsize=25,bbox=box_prop)\n",
    "\n",
    "#axs[0][1].legend(ncol=3,bbox_to_anchor=(0.25,1.21,.8,.2),fontsize=20,markerscale=.05)\n",
    "axs[0][0].legend(ncol=3,fontsize=20,bbox_to_anchor=(0.3,1.1,.8,.2))\n",
    "plt.savefig('freq_PhD_sem.png',bbox_inches=\"tight\",dpi=150)"
   ]
  },
  {
   "cell_type": "code",
   "execution_count": null,
   "metadata": {},
   "outputs": [],
   "source": [
    "\"\"\"subplspec={'width_ratios' :[4,1], 'wspace':0,'hspace':0}\n",
    "fig,axs=plt.subplots(4,2,figsize=(10,15),gridspec_kw=subplspec)\n",
    "for ax in axs.T[:][1]: ax.yaxis.tick_right()\n",
    "Plot(axs[0],'CO','NN')\n",
    "Plot(axs[1],'BF','NN')\n",
    "Plot(axs[2],'NN','CO')\n",
    "Plot(axs[3],'BF','CO')\n",
    "Plot(axs[4],'CO','BF')\n",
    "Plot(axs[5],'NN','BF')\n",
    "plt.savefig('freq_2.png') \"\"\""
   ]
  },
  {
   "cell_type": "code",
   "execution_count": null,
   "metadata": {},
   "outputs": [],
   "source": [
    "\"\"\"def Plot(ax,ref,target):\n",
    "    target_pts=np.linspace (1.3,3.2,1901)\n",
    "    spline_ccsd=sppes(dt_qzvpp.query(\"alchemy==0 &ref==@ref & target==@target\").e_ccsd )\n",
    "    spline_alch2=sppes(dt_qzvpp.query(\"alchemy==2 &ref==@ref & target==@target\").e_alch )-bsc('NN','CO')\n",
    "    spline_alch4_noc=sppes(dt_qzvpp.query(\"alchemy==4 &ref==@ref & target==@target \").e_alch )\n",
    "    spline_alch4=sppes(dt_qzvpp.query(\"alchemy==4 &ref==@ref & target==@target\").e_alch )-bsc('NN','CO')\n",
    "    spline_hf=sppes(hfmp2dft.query(\"calc=='HF' & mol==@target\").energy)\n",
    "    spline_mp2=sppes(hfmp2dft.query(\"calc=='MP2' & mol==@target\").energy)\n",
    "    spline_pbe=sppes(hfmp2dft.query(\"calc=='PBE' & mol==@target\").energy)\n",
    "    spline_b3lyp=sppes(hfmp2dft.query(\"calc=='B3LYP' & mol==@target\").energy)\n",
    "    \"\"\""
   ]
  },
  {
   "cell_type": "code",
   "execution_count": null,
   "metadata": {},
   "outputs": [],
   "source": [
    "def Plot2(ax,ref,target):\n",
    "    target_pts=np.linspace (1.3,3.2,1901)\n",
    "    spline_ccsd=sppes(dt_qzvpp.query(\"alchemy==0 &ref==@ref & target==@target\").e_ccsd)\n",
    "    spline_alch2=sppes(dt_qzvpp.query(\"alchemy==2 &ref==@ref & target==@target\").e_alch)-bsc(ref,target)\n",
    "    spline_alch4_noc=sppes(dt_qzvpp.query(\"alchemy==4 &ref==@ref & target==@target\").e_alch)\n",
    "    spline_alch4=sppes(dt_qzvpp.query(\"alchemy==4 &ref==@ref & target==@target\").e_alch)-bsc(ref,target)\n",
    "    spline_hf=sppes(hfmp2dft.query(\"calc=='HF' & mol==@target\").energy)\n",
    "    spline_mp2=sppes(hfmp2dft.query(\"calc=='MP2' & mol==@target\").energy)\n",
    "    spline_pbe=sppes(hfmp2dft.query(\"calc=='PBE' & mol==@target\").energy)\n",
    "    spline_b3lyp=sppes(hfmp2dft.query(\"calc=='B3LYP' & mol==@target\").energy)\n",
    "    \n",
    "    ax[0].plot(target_pts,spline_ccsd,label='CCSD',color='C0')\n",
    "    ax[0].plot(target_pts,spline_alch2,label='Alchemy $2^{nd}$ order',color='C1')\n",
    "    ax[0].plot(target_pts,spline_alch4_noc,':',label='Alchemy $4^{nd}$ order no C',color='C2')\n",
    "    ax[0].plot(target_pts,spline_alch4,label='Alchemy $4^{th}$ order',color='C3')\n",
    "    ax[0].plot(target_pts,spline_hf,label=\"HF\",color='C4')\n",
    "    ax[0].plot(target_pts,spline_mp2,label=\"MP2\",color='C5')\n",
    "    ax[0].plot(target_pts,spline_pbe,label='PBE',color='C6')\n",
    "    ax[0].plot(target_pts,spline_b3lyp,label='B3LYP',color='C7')\n",
    "        \n",
    "    ax[0].set(xlim=(1.8,2.6),ylim=(min(spline_b3lyp)-.005, spline_alch4_noc[np.argmin(spline_ccsd)-300]))\n",
    "\n",
    "    ax[1].bar(0,freq(spline_ccsd,target),color='C0',label='CCSD')\n",
    "    ax[1].bar(1,freq(spline_alch2,target),color='C1',label='Alchemy $2^{nd}$ order')\n",
    "    ax[1].bar(2,freq(spline_alch4,target),color='C3',label='Alchemy $4^{th}$ order')\n",
    "    ax[1].bar(3,freq(spline_hf,target),color='C4',label='HF')\n",
    "    ax[1].bar(4,freq(spline_mp2,target),color='C5',label='MP2')    \n",
    "    ax[1].bar(5,freq(spline_pbe,target),color='C6',label='PBE')    \n",
    "    ax[1].bar(6,freq(spline_b3lyp,target),color='C7',label=\"B3LYP\")    \n",
    "    "
   ]
  }
 ],
 "metadata": {
  "kernelspec": {
   "display_name": "Python 3",
   "language": "python",
   "name": "python3"
  },
  "language_info": {
   "codemirror_mode": {
    "name": "ipython",
    "version": 3
   },
   "file_extension": ".py",
   "mimetype": "text/x-python",
   "name": "python",
   "nbconvert_exporter": "python",
   "pygments_lexer": "ipython3",
   "version": "3.7.4"
  }
 },
 "nbformat": 4,
 "nbformat_minor": 2
}
