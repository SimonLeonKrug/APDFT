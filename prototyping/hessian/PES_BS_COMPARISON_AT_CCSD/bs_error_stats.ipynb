{
 "cells": [
  {
   "cell_type": "code",
   "execution_count": 1,
   "metadata": {},
   "outputs": [],
   "source": [
    "import pandas as pd \n",
    "import numpy as np\n",
    "import matplotlib.pyplot as plt\n",
    "\n",
    "dt_qzvpp=pd.read_pickle('data_def2_qzvpp')\n",
    "dt_tzvp=pd.read_pickle('data_def2_tzvp')\n",
    "dt_sto3g=pd.read_pickle(\"data_sto3G\")\n",
    "dt_sto6g=pd.read_pickle(\"data_sto6G\")\n",
    "dt_321g=pd.read_pickle(\"data_321G\")\n",
    "dt_631g=pd.read_pickle(\"data_631G\")\n",
    "dt_aug=pd.read_pickle(\"data_aug\")\n",
    "dt_ccpvtz=pd.read_pickle(\"data_ccpvtz\")"
   ]
  },
  {
   "cell_type": "code",
   "execution_count": 5,
   "metadata": {},
   "outputs": [],
   "source": [
    "basisSets=['sto3G', 'sto6G', '321G','631G*','def2-TZVP','def2-QZVPP','cc-pVTZ','aug-cc-pVQZ']\n",
    "molecule_list=['HAl','HeMg','LiNa','BeNe','BF','CO','NN']\n",
    "molecules={'HAl':1,'HeMg':2,'LiNa':3,'BeNe':4,'BF':5,'CO':6,'NN':7}\n",
    "datasets=[dt_sto3g,dt_sto6g,dt_321g,dt_631g,dt_ccpvtz,dt_aug,dt_tzvp,dt_qzvpp]"
   ]
  },
  {
   "cell_type": "code",
   "execution_count": 3,
   "metadata": {},
   "outputs": [
    {
     "name": "stdout",
     "output_type": "stream",
     "text": [
      "1\n",
      "2\n",
      "3\n",
      "4\n",
      "5\n",
      "6\n",
      "7\n"
     ]
    }
   ],
   "source": [
    "for mol in molecule_list:\n",
    "    print(molecules[mol])"
   ]
  },
  {
   "cell_type": "code",
   "execution_count": 4,
   "metadata": {},
   "outputs": [
    {
     "data": {
      "text/html": [
       "<div>\n",
       "<style scoped>\n",
       "    .dataframe tbody tr th:only-of-type {\n",
       "        vertical-align: middle;\n",
       "    }\n",
       "\n",
       "    .dataframe tbody tr th {\n",
       "        vertical-align: top;\n",
       "    }\n",
       "\n",
       "    .dataframe thead th {\n",
       "        text-align: right;\n",
       "    }\n",
       "</style>\n",
       "<table border=\"1\" class=\"dataframe\">\n",
       "  <thead>\n",
       "    <tr style=\"text-align: right;\">\n",
       "      <th></th>\n",
       "      <th>alchemy</th>\n",
       "      <th>distance</th>\n",
       "      <th>basis_set</th>\n",
       "      <th>e_alch</th>\n",
       "      <th>e_ccsd</th>\n",
       "      <th>ref</th>\n",
       "      <th>target</th>\n",
       "      <th>abs_err</th>\n",
       "      <th>delta_rho</th>\n",
       "      <th>e_at_ref_bs</th>\n",
       "      <th>err_alch</th>\n",
       "    </tr>\n",
       "  </thead>\n",
       "  <tbody>\n",
       "    <tr>\n",
       "      <th>0</th>\n",
       "      <td>0</td>\n",
       "      <td>1.3</td>\n",
       "      <td>def2-TZVP</td>\n",
       "      <td>-198.264071</td>\n",
       "      <td>-200.900798</td>\n",
       "      <td>HAl</td>\n",
       "      <td>HeMg</td>\n",
       "      <td>2.636727</td>\n",
       "      <td>3.75217</td>\n",
       "      <td>-199.911285</td>\n",
       "      <td>1.647214</td>\n",
       "    </tr>\n",
       "    <tr>\n",
       "      <th>1</th>\n",
       "      <td>1</td>\n",
       "      <td>1.3</td>\n",
       "      <td>def2-TZVP</td>\n",
       "      <td>-199.783769</td>\n",
       "      <td>-200.900798</td>\n",
       "      <td>HAl</td>\n",
       "      <td>HeMg</td>\n",
       "      <td>1.117029</td>\n",
       "      <td>3.75217</td>\n",
       "      <td>-199.911285</td>\n",
       "      <td>0.127516</td>\n",
       "    </tr>\n",
       "    <tr>\n",
       "      <th>2</th>\n",
       "      <td>2</td>\n",
       "      <td>1.3</td>\n",
       "      <td>def2-TZVP</td>\n",
       "      <td>-199.933676</td>\n",
       "      <td>-200.900798</td>\n",
       "      <td>HAl</td>\n",
       "      <td>HeMg</td>\n",
       "      <td>0.967122</td>\n",
       "      <td>3.75217</td>\n",
       "      <td>-199.911285</td>\n",
       "      <td>-0.022391</td>\n",
       "    </tr>\n",
       "    <tr>\n",
       "      <th>3</th>\n",
       "      <td>3</td>\n",
       "      <td>1.3</td>\n",
       "      <td>def2-TZVP</td>\n",
       "      <td>-199.924468</td>\n",
       "      <td>-200.900798</td>\n",
       "      <td>HAl</td>\n",
       "      <td>HeMg</td>\n",
       "      <td>0.976330</td>\n",
       "      <td>3.75217</td>\n",
       "      <td>-199.911285</td>\n",
       "      <td>-0.013183</td>\n",
       "    </tr>\n",
       "    <tr>\n",
       "      <th>4</th>\n",
       "      <td>4</td>\n",
       "      <td>1.3</td>\n",
       "      <td>def2-TZVP</td>\n",
       "      <td>-199.911379</td>\n",
       "      <td>-200.900798</td>\n",
       "      <td>HAl</td>\n",
       "      <td>HeMg</td>\n",
       "      <td>0.989419</td>\n",
       "      <td>3.75217</td>\n",
       "      <td>-199.911285</td>\n",
       "      <td>-0.000095</td>\n",
       "    </tr>\n",
       "    <tr>\n",
       "      <th>5</th>\n",
       "      <td>0</td>\n",
       "      <td>1.4</td>\n",
       "      <td>def2-TZVP</td>\n",
       "      <td>-198.574939</td>\n",
       "      <td>-201.247330</td>\n",
       "      <td>HAl</td>\n",
       "      <td>HeMg</td>\n",
       "      <td>2.672391</td>\n",
       "      <td>3.80592</td>\n",
       "      <td>-200.258950</td>\n",
       "      <td>1.684010</td>\n",
       "    </tr>\n",
       "    <tr>\n",
       "      <th>6</th>\n",
       "      <td>1</td>\n",
       "      <td>1.4</td>\n",
       "      <td>def2-TZVP</td>\n",
       "      <td>-200.135536</td>\n",
       "      <td>-201.247330</td>\n",
       "      <td>HAl</td>\n",
       "      <td>HeMg</td>\n",
       "      <td>1.111794</td>\n",
       "      <td>3.80592</td>\n",
       "      <td>-200.258950</td>\n",
       "      <td>0.123413</td>\n",
       "    </tr>\n",
       "    <tr>\n",
       "      <th>7</th>\n",
       "      <td>2</td>\n",
       "      <td>1.4</td>\n",
       "      <td>def2-TZVP</td>\n",
       "      <td>-200.285113</td>\n",
       "      <td>-201.247330</td>\n",
       "      <td>HAl</td>\n",
       "      <td>HeMg</td>\n",
       "      <td>0.962218</td>\n",
       "      <td>3.80592</td>\n",
       "      <td>-200.258950</td>\n",
       "      <td>-0.026163</td>\n",
       "    </tr>\n",
       "    <tr>\n",
       "      <th>8</th>\n",
       "      <td>3</td>\n",
       "      <td>1.4</td>\n",
       "      <td>def2-TZVP</td>\n",
       "      <td>-200.270706</td>\n",
       "      <td>-201.247330</td>\n",
       "      <td>HAl</td>\n",
       "      <td>HeMg</td>\n",
       "      <td>0.976625</td>\n",
       "      <td>3.80592</td>\n",
       "      <td>-200.258950</td>\n",
       "      <td>-0.011756</td>\n",
       "    </tr>\n",
       "    <tr>\n",
       "      <th>9</th>\n",
       "      <td>4</td>\n",
       "      <td>1.4</td>\n",
       "      <td>def2-TZVP</td>\n",
       "      <td>-200.258703</td>\n",
       "      <td>-201.247330</td>\n",
       "      <td>HAl</td>\n",
       "      <td>HeMg</td>\n",
       "      <td>0.988627</td>\n",
       "      <td>3.80592</td>\n",
       "      <td>-200.258950</td>\n",
       "      <td>0.000246</td>\n",
       "    </tr>\n",
       "  </tbody>\n",
       "</table>\n",
       "</div>"
      ],
      "text/plain": [
       "   alchemy  distance  basis_set      e_alch      e_ccsd  ref target   abs_err  \\\n",
       "0        0       1.3  def2-TZVP -198.264071 -200.900798  HAl   HeMg  2.636727   \n",
       "1        1       1.3  def2-TZVP -199.783769 -200.900798  HAl   HeMg  1.117029   \n",
       "2        2       1.3  def2-TZVP -199.933676 -200.900798  HAl   HeMg  0.967122   \n",
       "3        3       1.3  def2-TZVP -199.924468 -200.900798  HAl   HeMg  0.976330   \n",
       "4        4       1.3  def2-TZVP -199.911379 -200.900798  HAl   HeMg  0.989419   \n",
       "5        0       1.4  def2-TZVP -198.574939 -201.247330  HAl   HeMg  2.672391   \n",
       "6        1       1.4  def2-TZVP -200.135536 -201.247330  HAl   HeMg  1.111794   \n",
       "7        2       1.4  def2-TZVP -200.285113 -201.247330  HAl   HeMg  0.962218   \n",
       "8        3       1.4  def2-TZVP -200.270706 -201.247330  HAl   HeMg  0.976625   \n",
       "9        4       1.4  def2-TZVP -200.258703 -201.247330  HAl   HeMg  0.988627   \n",
       "\n",
       "   delta_rho  e_at_ref_bs  err_alch  \n",
       "0    3.75217  -199.911285  1.647214  \n",
       "1    3.75217  -199.911285  0.127516  \n",
       "2    3.75217  -199.911285 -0.022391  \n",
       "3    3.75217  -199.911285 -0.013183  \n",
       "4    3.75217  -199.911285 -0.000095  \n",
       "5    3.80592  -200.258950  1.684010  \n",
       "6    3.80592  -200.258950  0.123413  \n",
       "7    3.80592  -200.258950 -0.026163  \n",
       "8    3.80592  -200.258950 -0.011756  \n",
       "9    3.80592  -200.258950  0.000246  "
      ]
     },
     "execution_count": 4,
     "metadata": {},
     "output_type": "execute_result"
    }
   ],
   "source": [
    "dt_tzvp[:10]"
   ]
  },
  {
   "cell_type": "code",
   "execution_count": 25,
   "metadata": {},
   "outputs": [
    {
     "data": {
      "text/plain": [
       "-8.074244956965076"
      ]
     },
     "execution_count": 25,
     "metadata": {},
     "output_type": "execute_result"
    }
   ],
   "source": [
    "df=dt_tzvp.query(\"alchemy==0 \").copy()\n",
    "df['deltaZ']=[molecules[x] for x in df.target]\n",
    "df['deltaZ']-=[molecules[x] for x in df.ref]\n",
    "df['deltaZ']=np.abs(df['deltaZ'])\n",
    "df[::100]\n",
    "(df.query(\"deltaZ==4\").e_ccsd-df.query(\"deltaZ==4\").e_at_ref_bs).mean()"
   ]
  },
  {
   "cell_type": "code",
   "execution_count": 29,
   "metadata": {},
   "outputs": [
    {
     "name": "stdout",
     "output_type": "stream",
     "text": [
      "-8.182009810586093 0    sto3G\n",
      "5    sto3G\n",
      "Name: basis_set, dtype: object\n",
      "-8.144018344689483 0    sto6G\n",
      "5    sto6G\n",
      "Name: basis_set, dtype: object\n",
      "-6.96925357091947 0    321G\n",
      "5    321G\n",
      "Name: basis_set, dtype: object\n",
      "-6.629205529433562 0    631G*\n",
      "5    631G*\n",
      "Name: basis_set, dtype: object\n",
      "-3.3426289911569556 0    cc-pVTZ\n",
      "5    cc-pVTZ\n",
      "Name: basis_set, dtype: object\n",
      "-1.7581575803318352 0    aug-cc-pVQZ\n",
      "5    aug-cc-pVQZ\n",
      "Name: basis_set, dtype: object\n",
      "-2.02842382516014 0    def2-TZVP\n",
      "5    def2-TZVP\n",
      "Name: basis_set, dtype: object\n",
      "-0.3372842677378665 0    def2-QZVPP\n",
      "5    def2-QZVPP\n",
      "Name: basis_set, dtype: object\n"
     ]
    }
   ],
   "source": [
    "for dt in datasets:\n",
    "    df=dt.query(\"alchemy==0 \").copy()\n",
    "    df['deltaZ']=[molecules[x] for x in df.target]\n",
    "    df['deltaZ']-=[molecules[x] for x in df.ref]\n",
    "    df['deltaZ']=np.abs(df['deltaZ'])\n",
    "    df[::100]\n",
    "    print((df.query(\"deltaZ==2\").e_ccsd-df.query(\"deltaZ==2\").e_at_ref_bs).mean(),df.basis_set[:2])"
   ]
  },
  {
   "cell_type": "code",
   "execution_count": 55,
   "metadata": {},
   "outputs": [],
   "source": [
    "def plot(dt,ax):\n",
    "    for i in range(1,5):\n",
    "        df=dt.query(\"alchemy==0 \").copy()\n",
    "        df['deltaZ']=[molecules[x] for x in df.target]\n",
    "        df['deltaZ']-=[molecules[x] for x in df.ref]\n",
    "        df['deltaZ']=np.abs(df['deltaZ'])\n",
    "        df[::100]\n",
    "        ax.bar(i,(df.query(\"deltaZ==@i\").e_at_ref_bs-df.query(\"deltaZ==@i\").e_ccsd).mean())\n",
    "    ax.set_title(df.basis_set.to_list()[3])"
   ]
  },
  {
   "cell_type": "code",
   "execution_count": 60,
   "metadata": {},
   "outputs": [
    {
     "data": {
      "image/png": "[encoded data removed]",
      "text/plain": [
       "<Figure size 1152x576 with 8 Axes>"
      ]
     },
     "metadata": {
      "needs_background": "light"
     },
     "output_type": "display_data"
    }
   ],
   "source": [
    "fig,axs=plt.subplots(2,4,figsize=(16,8))\n",
    "\n",
    "plot(dt_sto3g,axs[0][0])\n",
    "plot(dt_sto6g,axs[1][0])\n",
    "\n",
    "plot(dt_321g,axs[0][1])\n",
    "plot(dt_631g,axs[1][1])\n",
    "\n",
    "plot(dt_ccpvtz,axs[0][2])\n",
    "plot(dt_aug,axs[1][2])\n",
    "\n",
    "plot(dt_tzvp,axs[0][3])\n",
    "plot(dt_qzvpp,axs[1][3])\n",
    "\n",
    "\n",
    "plt.savefig('bs_error_stats.png')"
   ]
  }
 ],
 "metadata": {
  "kernelspec": {
   "display_name": "Python 3",
   "language": "python",
   "name": "python3"
  },
  "language_info": {
   "codemirror_mode": {
    "name": "ipython",
    "version": 3
   },
   "file_extension": ".py",
   "mimetype": "text/x-python",
   "name": "python",
   "nbconvert_exporter": "python",
   "pygments_lexer": "ipython3",
   "version": "3.6.8"
  }
 },
 "nbformat": 4,
 "nbformat_minor": 2
}
