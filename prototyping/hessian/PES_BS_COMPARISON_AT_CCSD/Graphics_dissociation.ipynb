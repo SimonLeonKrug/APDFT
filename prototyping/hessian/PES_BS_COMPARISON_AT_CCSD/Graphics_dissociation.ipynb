{
 "cells": [
  {
   "cell_type": "code",
   "execution_count": 1,
   "metadata": {},
   "outputs": [],
   "source": [
    "import pandas as pd \n",
    "import numpy as np\n",
    "import matplotlib.pyplot as plt"
   ]
  },
  {
   "cell_type": "code",
   "execution_count": 2,
   "metadata": {},
   "outputs": [],
   "source": [
    "dt_qzvpp=pd.read_pickle('data_def2_qzvpp')\n",
    "dt_tzvp=pd.read_pickle('data_def2_tzvp')\n",
    "dt_sto3g=pd.read_pickle(\"data_sto3G\")\n",
    "dt_sto6g=pd.read_pickle(\"data_sto6G\")\n",
    "dt_321g=pd.read_pickle(\"data_321G\")\n",
    "dt_631g=pd.read_pickle(\"data_631G\")\n",
    "dt_aug=pd.read_pickle(\"data_aug\")\n",
    "dt_ccpvtz=pd.read_pickle(\"data_ccpvtz\")"
   ]
  },
  {
   "cell_type": "code",
   "execution_count": 3,
   "metadata": {},
   "outputs": [],
   "source": [
    "def plot_err(ax1,ax2,df,title,target,ref):\n",
    "    ds0=df.query(\"alchemy==0 &ref==@ref[0] &target==@target &distance>1.5\")\n",
    "    ds1=df.query(\"alchemy==0 &ref==@ref[1] &target==@target&distance>1.5\")\n",
    "    ds2=df.query(\"alchemy==0 &ref==@ref[2] &target==@target&distance>1.5\")\n",
    "    ax1.set_title(title)\n",
    "    ax2.set_title(title)\n",
    "\n",
    "    ax1.plot(ds0.distance,ds0.e_ccsd,label='{}@{}'.format(target,target))\n",
    "    ax1.plot(ds0.distance,ds0.e_at_ref_bs,label='{}@{}'.format(target,ref[0]))\n",
    "    ax1.plot(ds1.distance,ds1.e_at_ref_bs,label='{}@{}'.format(target,ref[1]))\n",
    "    ax1.plot(ds2.distance,ds2.e_at_ref_bs,label='{}@{}'.format(target,ref[2]))\n",
    "    ax2.plot(ds0.distance,ds0.e_at_ref_bs-ds0.e_ccsd,lw=2.5,label='{}@{}'.format(target,ref[0]))\n",
    "    ax2.plot(ds1.distance,ds1.e_at_ref_bs-ds1.e_ccsd,lw=2.5,label='{}@{}'.format(target,ref[1]))\n",
    "    ax2.plot(ds2.distance,ds2.e_at_ref_bs-ds2.e_ccsd,lw=2.5,label='{}@{}'.format(target,ref[2]))\n",
    "    ax2.axhline((ds0.e_at_ref_bs-ds0.e_ccsd).mean(),color='black',ls='--',lw=1)\n",
    "    ax2.axhline((ds1.e_at_ref_bs-ds1.e_ccsd).mean(),color='black',ls='--',lw=1)\n",
    "    ax2.axhline((ds2.e_at_ref_bs-ds2.e_ccsd).mean(),color='black',ls='--',lw=1)\n",
    "    ax1.legend()\n",
    "    ax2.legend()"
   ]
  },
  {
   "cell_type": "code",
   "execution_count": 4,
   "metadata": {},
   "outputs": [],
   "source": [
    "def plot_curve(ax,df,title,target,ref):\n",
    "    ds0=df.query(\"alchemy==0 &ref==@ref[0] &target==@target\")\n",
    "    ds1=df.query(\"alchemy==0 &ref==@ref[1] &target==@target\")\n",
    "    ds2=df.query(\"alchemy==0 &ref==@ref[2] &target==@target\")\n",
    "    ax.set_title(\"Dissociation curve of {}\".format(target))\n",
    "    ax.set_xlim(1.3,3.2)\n",
    "    ax.plot(ds0.distance,ds0.e_ccsd,label='with {} Basis Set'.format(target))\n",
    "    ax.plot(ds0.distance,ds0.e_at_ref_bs,label='with {} Basis Set'.format(ref[0]))\n",
    "    ax.plot(ds1.distance,ds1.e_at_ref_bs,label='with {} Basis Set'.format(ref[1]))\n",
    "    ax.plot(ds2.distance,ds2.e_at_ref_bs,label='with {} Basis Set'.format(ref[2]))\n",
    "    ax.legend()\n"
   ]
  },
  {
   "cell_type": "code",
   "execution_count": 5,
   "metadata": {},
   "outputs": [
    {
     "data": {
      "text/plain": [
       "'fig,axs=plt.subplots(4,4,figsize=(12,12))\\nplot_err(axs[0,0],axs[0,1],dt_sto3g,\"STO 3G\",\\'NN\\',[\\'CO\\',\\'BF\\',\\'BeNe\\'])\\nplot_err(axs[1,0],axs[1,1],dt_sto6g,\"STO 6G\",\\'NN\\',[\\'CO\\',\\'BF\\',\\'BeNe\\'])\\nplot_err(axs[0,2],axs[0,3],dt_321g,\"dt_321g\",\\'NN\\',[\\'CO\\',\\'BF\\',\\'BeNe\\'])\\nplot_err(axs[1,2],axs[1,3],dt_631g,\"dt_631g\",\\'NN\\',[\\'CO\\',\\'BF\\',\\'BeNe\\'])\\nplot_err(axs[2,0],axs[3,0],dt_ccpvtz,\"dt_ccpvtz\",\\'NN\\',[\\'CO\\',\\'BF\\',\\'BeNe\\'])\\nplot_err(axs[2,1],axs[3,1],dt_aug,\"dt_aug\",\\'NN\\',[\\'CO\\',\\'BF\\',\\'BeNe\\'])\\nplot_err(axs[2,2],axs[2,3],dt_tzvp,\"dt_tzvp\",\\'NN\\',[\\'CO\\',\\'BF\\',\\'BeNe\\'])\\nplot_err(axs[3,2],axs[3,3],dt_qzvpp,\"dt_qzvpp\",\\'NN\\',[\\'CO\\',\\'BF\\',\\'BeNe\\'])'"
      ]
     },
     "execution_count": 5,
     "metadata": {},
     "output_type": "execute_result"
    }
   ],
   "source": [
    "\"\"\"fig,axs=plt.subplots(4,4,figsize=(12,12))\n",
    "plot_err(axs[0,0],axs[0,1],dt_sto3g,\"STO 3G\",'NN',['CO','BF','BeNe'])\n",
    "plot_err(axs[1,0],axs[1,1],dt_sto6g,\"STO 6G\",'NN',['CO','BF','BeNe'])\n",
    "plot_err(axs[0,2],axs[0,3],dt_321g,\"dt_321g\",'NN',['CO','BF','BeNe'])\n",
    "plot_err(axs[1,2],axs[1,3],dt_631g,\"dt_631g\",'NN',['CO','BF','BeNe'])\n",
    "plot_err(axs[2,0],axs[3,0],dt_ccpvtz,\"dt_ccpvtz\",'NN',['CO','BF','BeNe'])\n",
    "plot_err(axs[2,1],axs[3,1],dt_aug,\"dt_aug\",'NN',['CO','BF','BeNe'])\n",
    "plot_err(axs[2,2],axs[2,3],dt_tzvp,\"dt_tzvp\",'NN',['CO','BF','BeNe'])\n",
    "plot_err(axs[3,2],axs[3,3],dt_qzvpp,\"dt_qzvpp\",'NN',['CO','BF','BeNe'])\"\"\""
   ]
  },
  {
   "cell_type": "code",
   "execution_count": 6,
   "metadata": {},
   "outputs": [
    {
     "data": {
      "text/plain": [
       "'fig,axs=plt.subplots(2,4,figsize=(12,6))\\nplot_err(axs[0,0],axs[1,0],dt_qzvpp,\"def2-QZVPP\",\\'NN\\',[\\'CO\\',\\'BF\\',\\'BeNe\\'])\\nplot_err(axs[0,1],axs[1,1],dt_qzvpp,\"def2-QZVPP\",\\'CO\\',[\\'NN\\',\\'BF\\',\\'BeNe\\'])\\nplot_err(axs[0,2],axs[1,2],dt_qzvpp,\"def2-QZVPP\",\\'BF\\',[\\'NN\\',\\'CO\\',\\'BeNe\\'])\\nplot_err(axs[0,3],axs[1,3],dt_qzvpp,\"def2-QZVPP\",\\'BeNe\\',[\\'NN\\',\\'CO\\',\\'BF\\'])'"
      ]
     },
     "execution_count": 6,
     "metadata": {},
     "output_type": "execute_result"
    }
   ],
   "source": [
    "\"\"\"fig,axs=plt.subplots(2,4,figsize=(12,6))\n",
    "plot_err(axs[0,0],axs[1,0],dt_qzvpp,\"def2-QZVPP\",'NN',['CO','BF','BeNe'])\n",
    "plot_err(axs[0,1],axs[1,1],dt_qzvpp,\"def2-QZVPP\",'CO',['NN','BF','BeNe'])\n",
    "plot_err(axs[0,2],axs[1,2],dt_qzvpp,\"def2-QZVPP\",'BF',['NN','CO','BeNe'])\n",
    "plot_err(axs[0,3],axs[1,3],dt_qzvpp,\"def2-QZVPP\",'BeNe',['NN','CO','BF'])\"\"\""
   ]
  },
  {
   "cell_type": "code",
   "execution_count": 7,
   "metadata": {},
   "outputs": [
    {
     "data": {
      "text/plain": [
       "'\\nfig= plt.figure(figsize=(12,6),frameon=False)\\nplt.tick_params(labelcolor=\\'none\\', top=False, bottom=False, left=False, right=False)\\nplt.axes().set_xlabel(\"interatomic distance $Bohrs$ \",fontsize=15,labelpad=25)\\nplt.axes().set_ylabel(\"total electronic energy $Ha $\",fontsize=15,labelpad=35)\\nplt.tick_params(labelcolor=\\'none\\', top=False, bottom=False, left=False, right=False)\\nplt.axes().set_frame_on(False)\\n\\naxs=fig.subplots(2,2,sharex=True)\\nplot_curve(axs[0,0],dt_qzvpp,\"def2-QZVPP\",\\'NN\\',[\\'CO\\',\\'BF\\',\\'BeNe\\'])\\naxs[0,0].tick_params(bottom=False)\\nplot_curve(axs[0,1],dt_qzvpp,\"def2-QZVPP\",\\'CO\\',[\\'NN\\',\\'BF\\',\\'BeNe\\'])\\naxs[0,1].tick_params(bottom=False)\\nplot_curve(axs[1,0],dt_qzvpp,\"def2-QZVPP\",\\'BF\\',[\\'NN\\',\\'CO\\',\\'BeNe\\'])\\nplot_curve(axs[1,1],dt_qzvpp,\"def2-QZVPP\",\\'BeNe\\',[\\'NN\\',\\'CO\\',\\'BF\\'])'"
      ]
     },
     "execution_count": 7,
     "metadata": {},
     "output_type": "execute_result"
    }
   ],
   "source": [
    "###    FOR def2-QZVPP\n",
    "\"\"\"\n",
    "fig= plt.figure(figsize=(12,6),frameon=False)\n",
    "plt.tick_params(labelcolor='none', top=False, bottom=False, left=False, right=False)\n",
    "plt.axes().set_xlabel(\"interatomic distance $Bohrs$ \",fontsize=15,labelpad=25)\n",
    "plt.axes().set_ylabel(\"total electronic energy $Ha $\",fontsize=15,labelpad=35)\n",
    "plt.tick_params(labelcolor='none', top=False, bottom=False, left=False, right=False)\n",
    "plt.axes().set_frame_on(False)\n",
    "\n",
    "axs=fig.subplots(2,2,sharex=True)\n",
    "plot_curve(axs[0,0],dt_qzvpp,\"def2-QZVPP\",'NN',['CO','BF','BeNe'])\n",
    "axs[0,0].tick_params(bottom=False)\n",
    "plot_curve(axs[0,1],dt_qzvpp,\"def2-QZVPP\",'CO',['NN','BF','BeNe'])\n",
    "axs[0,1].tick_params(bottom=False)\n",
    "plot_curve(axs[1,0],dt_qzvpp,\"def2-QZVPP\",'BF',['NN','CO','BeNe'])\n",
    "plot_curve(axs[1,1],dt_qzvpp,\"def2-QZVPP\",'BeNe',['NN','CO','BF'])\"\"\"\n",
    "#plt.savefig(\"Dissociation\")"
   ]
  },
  {
   "cell_type": "code",
   "execution_count": 8,
   "metadata": {},
   "outputs": [
    {
     "data": {
      "text/plain": [
       "'fig= plt.figure(figsize=(12,6),frameon=False)\\nplt.tick_params(labelcolor=\\'none\\', top=False, bottom=False, left=False, right=False)\\nplt.axes().set_xlabel(\"interatomic distance $Bohrs$ \",fontsize=15,labelpad=25)\\nplt.axes().set_ylabel(\"total electronic energy $Ha $\",fontsize=15,labelpad=35)\\nplt.tick_params(labelcolor=\\'none\\', top=False, bottom=False, left=False, right=False)\\nplt.axes().set_frame_on(False)\\n\\naxs=fig.subplots(2,2,sharex=True)\\nplot_curve(axs[0,0],dt_tzvp,\"def2-QZVPP\",\\'NN\\',[\\'CO\\',\\'BF\\',\\'BeNe\\'])\\naxs[0,0].tick_params(bottom=False)\\nplot_curve(axs[0,1],dt_tzvp,\"def2-QZVPP\",\\'CO\\',[\\'NN\\',\\'BF\\',\\'BeNe\\'])\\naxs[0,1].tick_params(bottom=False)\\nplot_curve(axs[1,0],dt_tzvp,\"def2-QZVPP\",\\'BF\\',[\\'NN\\',\\'CO\\',\\'BeNe\\'])\\nplot_curve(axs[1,1],dt_tzvp,\"def2-QZVPP\",\\'BeNe\\',[\\'NN\\',\\'CO\\',\\'BF\\'])'"
      ]
     },
     "execution_count": 8,
     "metadata": {},
     "output_type": "execute_result"
    }
   ],
   "source": [
    "###    FOR def2-TZVP \n",
    "\"\"\"fig= plt.figure(figsize=(12,6),frameon=False)\n",
    "plt.tick_params(labelcolor='none', top=False, bottom=False, left=False, right=False)\n",
    "plt.axes().set_xlabel(\"interatomic distance $Bohrs$ \",fontsize=15,labelpad=25)\n",
    "plt.axes().set_ylabel(\"total electronic energy $Ha $\",fontsize=15,labelpad=35)\n",
    "plt.tick_params(labelcolor='none', top=False, bottom=False, left=False, right=False)\n",
    "plt.axes().set_frame_on(False)\n",
    "\n",
    "axs=fig.subplots(2,2,sharex=True)\n",
    "plot_curve(axs[0,0],dt_tzvp,\"def2-QZVPP\",'NN',['CO','BF','BeNe'])\n",
    "axs[0,0].tick_params(bottom=False)\n",
    "plot_curve(axs[0,1],dt_tzvp,\"def2-QZVPP\",'CO',['NN','BF','BeNe'])\n",
    "axs[0,1].tick_params(bottom=False)\n",
    "plot_curve(axs[1,0],dt_tzvp,\"def2-QZVPP\",'BF',['NN','CO','BeNe'])\n",
    "plot_curve(axs[1,1],dt_tzvp,\"def2-QZVPP\",'BeNe',['NN','CO','BF'])\"\"\""
   ]
  },
  {
   "cell_type": "markdown",
   "metadata": {},
   "source": [
    "Then for a big enoght basis set the shape of the curves are not affected by the basis set.\n",
    "Put some data to prove this, the idea is a table with rows for each target molecule and columns for each reference.\n",
    "We can \n"
   ]
  },
  {
   "cell_type": "code",
   "execution_count": 21,
   "metadata": {},
   "outputs": [
    {
     "data": {
      "text/html": [
       "<div>\n",
       "<style scoped>\n",
       "    .dataframe tbody tr th:only-of-type {\n",
       "        vertical-align: middle;\n",
       "    }\n",
       "\n",
       "    .dataframe tbody tr th {\n",
       "        vertical-align: top;\n",
       "    }\n",
       "\n",
       "    .dataframe thead th {\n",
       "        text-align: right;\n",
       "    }\n",
       "</style>\n",
       "<table border=\"1\" class=\"dataframe\">\n",
       "  <thead>\n",
       "    <tr style=\"text-align: right;\">\n",
       "      <th></th>\n",
       "      <th>target</th>\n",
       "      <th>MAE_NN_bs</th>\n",
       "      <th>STD_NN_bs</th>\n",
       "      <th>MAE_CO_bs</th>\n",
       "      <th>STD_CO_bs</th>\n",
       "      <th>MAE_BF_bs</th>\n",
       "      <th>STD_BF_bs</th>\n",
       "      <th>MAE_BeNe_bs</th>\n",
       "      <th>STD_BeNe_bs</th>\n",
       "    </tr>\n",
       "  </thead>\n",
       "  <tbody>\n",
       "    <tr>\n",
       "      <td>0</td>\n",
       "      <td>NN</td>\n",
       "      <td>0.000000</td>\n",
       "      <td>0.000000</td>\n",
       "      <td>0.009305</td>\n",
       "      <td>6.869782</td>\n",
       "      <td>0.057822</td>\n",
       "      <td>5.124855</td>\n",
       "      <td>0.267486</td>\n",
       "      <td>9.295090</td>\n",
       "    </tr>\n",
       "    <tr>\n",
       "      <td>1</td>\n",
       "      <td>CO</td>\n",
       "      <td>0.011679</td>\n",
       "      <td>6.632543</td>\n",
       "      <td>0.000000</td>\n",
       "      <td>0.000000</td>\n",
       "      <td>0.010362</td>\n",
       "      <td>27.022311</td>\n",
       "      <td>0.091263</td>\n",
       "      <td>7.849421</td>\n",
       "    </tr>\n",
       "    <tr>\n",
       "      <td>2</td>\n",
       "      <td>BF</td>\n",
       "      <td>0.086153</td>\n",
       "      <td>10.272116</td>\n",
       "      <td>0.015553</td>\n",
       "      <td>10.409293</td>\n",
       "      <td>0.000000</td>\n",
       "      <td>0.000000</td>\n",
       "      <td>0.025792</td>\n",
       "      <td>19.289004</td>\n",
       "    </tr>\n",
       "    <tr>\n",
       "      <td>3</td>\n",
       "      <td>BeNe</td>\n",
       "      <td>0.325569</td>\n",
       "      <td>12.123460</td>\n",
       "      <td>0.104404</td>\n",
       "      <td>10.486394</td>\n",
       "      <td>0.015207</td>\n",
       "      <td>18.378996</td>\n",
       "      <td>0.000000</td>\n",
       "      <td>0.000000</td>\n",
       "    </tr>\n",
       "  </tbody>\n",
       "</table>\n",
       "</div>"
      ],
      "text/plain": [
       "  target  MAE_NN_bs  STD_NN_bs  MAE_CO_bs  STD_CO_bs  MAE_BF_bs  STD_BF_bs  \\\n",
       "0     NN   0.000000   0.000000   0.009305   6.869782   0.057822   5.124855   \n",
       "1     CO   0.011679   6.632543   0.000000   0.000000   0.010362  27.022311   \n",
       "2     BF   0.086153  10.272116   0.015553  10.409293   0.000000   0.000000   \n",
       "3   BeNe   0.325569  12.123460   0.104404  10.486394   0.015207  18.378996   \n",
       "\n",
       "   MAE_BeNe_bs  STD_BeNe_bs  \n",
       "0     0.267486     9.295090  \n",
       "1     0.091263     7.849421  \n",
       "2     0.025792    19.289004  \n",
       "3     0.000000     0.000000  "
      ]
     },
     "execution_count": 21,
     "metadata": {},
     "output_type": "execute_result"
    }
   ],
   "source": [
    "molecules=['NN','CO','BF','BeNe']\n",
    "table=pd.DataFrame()\n",
    "table['target']=molecules\n",
    "mae=np.zeros((4,4))\n",
    "std=np.zeros((4,4))\n",
    "\n",
    "for i in range (4):\n",
    "    for j in range(4):\n",
    "        if j==i: continue \n",
    "        dt=dt_qzvpp.query(\"alchemy==0 &ref==@molecules[@i] &target==@molecules[@j]\")\n",
    "        mae[i][j]=(dt.e_at_ref_bs-dt.e_ccsd).mean()\n",
    "        std[i][j]=(dt.e_at_ref_bs-dt.e_ccsd).std()/mae[i][j]*100\n",
    "        \n",
    "table['MAE_NN_bs']= mae[0]\n",
    "table['STD_NN_bs']= std[0]\n",
    "table['MAE_CO_bs']= mae[1]\n",
    "table['STD_CO_bs']= std[1]\n",
    "table['MAE_BF_bs']= mae[2]\n",
    "table['STD_BF_bs']= std[2]\n",
    "table['MAE_BeNe_bs']= mae[3]\n",
    "table['STD_BeNe_bs']= std[3]\n",
    "table"
   ]
  },
  {
   "cell_type": "code",
   "execution_count": 10,
   "metadata": {},
   "outputs": [
    {
     "data": {
      "text/plain": [
       "1"
      ]
     },
     "execution_count": 10,
     "metadata": {},
     "output_type": "execute_result"
    }
   ],
   "source": [
    "molecules.index('CO')"
   ]
  },
  {
   "cell_type": "code",
   "execution_count": 11,
   "metadata": {},
   "outputs": [
    {
     "data": {
      "text/plain": [
       "'from pes_bs_utils import parse_energy_cc, parse_energy_hf\\n\\natoms_path=\"/home/giorgiod/MRCC_interface/Atoms/\"\\nbasisSets=[\\'sto-3G\\', \\'sto-6G\\',\\'3-21G\\',\\'6-31G*\\',\\'def2-TZVP\\',\\'def2-QZVPP\\',\\'cc-pvtz\\',\\'aug-cc-pVQZ\\']\\natoms=\"H,He,Li,Be,B,C,N,O,F,Ne,Na,Mg,Al\"\\natoms=atoms.split(\\',\\')\\n\\natoms_mol={\\'HAl\\':[\\'H\\',\\'Al\\'],\\'HeMg\\':[\\'He\\',\\'Mg\\'],\\'LiNa\\':[\\'Li\\',\\'Na\\'],           \\'BeNe\\':[\\'Be\\',\\'Ne\\'],\\'BF\\':[\\'B\\',\\'F\\'],\\'CO\\':[\\'C\\',\\'O\\'],\\'NN\\':[\\'N\\',\\'N\\']}\\ndef energy(bs,targ,ref,hf=False):\\n    logfile=atoms_path+\\'{}/{}/{}_at_{}/run.log\\'.format(bs,targ,targ,ref)\\n    if hf:\\n            return parse_energy_hf(logfile)\\n    return parse_energy_cc(logfile)\\ndef bsc(ref,target):\\n    return     energy(\\'def2-QZVPP\\',atoms_mol[target][0],atoms_mol[ref][0])    +energy(\\'def2-QZVPP\\',atoms_mol[target][1],atoms_mol[ref][1])     -energy(\\'def2-QZVPP\\',atoms_mol[target][0],atoms_mol[target][0])    -energy(\\'def2-QZVPP\\',atoms_mol[target][1],atoms_mol[target][1])\\nbsc(\\'NN\\',\\'CO\\')'"
      ]
     },
     "execution_count": 11,
     "metadata": {},
     "output_type": "execute_result"
    }
   ],
   "source": [
    "\"\"\"from pes_bs_utils import parse_energy_cc, parse_energy_hf\n",
    "\n",
    "atoms_path=\"/home/giorgiod/MRCC_interface/Atoms/\"\n",
    "basisSets=['sto-3G', 'sto-6G','3-21G','6-31G*','def2-TZVP','def2-QZVPP','cc-pvtz','aug-cc-pVQZ']\n",
    "atoms=\"H,He,Li,Be,B,C,N,O,F,Ne,Na,Mg,Al\"\n",
    "atoms=atoms.split(',')\n",
    "\n",
    "atoms_mol={'HAl':['H','Al'],'HeMg':['He','Mg'],'LiNa':['Li','Na'],\\\n",
    "           'BeNe':['Be','Ne'],'BF':['B','F'],'CO':['C','O'],'NN':['N','N']}\n",
    "def energy(bs,targ,ref,hf=False):\n",
    "    logfile=atoms_path+'{}/{}/{}_at_{}/run.log'.format(bs,targ,targ,ref)\n",
    "    if hf:\n",
    "            return parse_energy_hf(logfile)\n",
    "    return parse_energy_cc(logfile)\n",
    "def bsc(ref,target):\n",
    "    return \\\n",
    "    energy('def2-QZVPP',atoms_mol[target][0],atoms_mol[ref][0])\\\n",
    "    +energy('def2-QZVPP',atoms_mol[target][1],atoms_mol[ref][1]) \\\n",
    "    -energy('def2-QZVPP',atoms_mol[target][0],atoms_mol[target][0])\\\n",
    "    -energy('def2-QZVPP',atoms_mol[target][1],atoms_mol[target][1])\n",
    "bsc('NN','CO')\"\"\""
   ]
  },
  {
   "cell_type": "code",
   "execution_count": 12,
   "metadata": {},
   "outputs": [
    {
     "data": {
      "text/plain": [
       "0.01234583452800564"
      ]
     },
     "execution_count": 12,
     "metadata": {},
     "output_type": "execute_result"
    }
   ],
   "source": [
    "\"\"\"def bscwbs(bs,ref,target):\n",
    "    return \\\n",
    "    energy(bs,atoms_mol[target][0],atoms_mol[ref][0])\\\n",
    "    +energy(bs,atoms_mol[target][1],atoms_mol[ref][1]) \\\n",
    "    -energy(bs,atoms_mol[target][0],atoms_mol[target][0])\\\n",
    "    -energy(bs,atoms_mol[target][1],atoms_mol[target][1])\n",
    "bscwbs(basisSets[5],'NN','CO')\"\"\""
   ]
  },
  {
   "cell_type": "code",
   "execution_count": 17,
   "metadata": {},
   "outputs": [],
   "source": [
    "\"\"\"q=[]\n",
    "for bs in basisSets:\n",
    "    for ref in molecules:\n",
    "        for target in molecules:\n",
    "            if target!=ref:\n",
    "                q.append({'basis_set':bs,'ref':ref,'target':target,'bsc':bscwbs(bs,ref,target)})\"\"\""
   ]
  },
  {
   "cell_type": "code",
   "execution_count": 32,
   "metadata": {},
   "outputs": [
    {
     "data": {
      "text/plain": [
       "68    1.018585\n",
       "Name: bsc, dtype: float64"
      ]
     },
     "execution_count": 32,
     "metadata": {},
     "output_type": "execute_result"
    }
   ],
   "source": [
    "\"\"\"\n",
    "df_sa_bsc=pd.DataFrame(q)\n",
    "df_sa_bsc.to_pickle(\"./df_sa_bsc\") \n",
    "\"\"\"\n",
    "df_sa_bsc=pd.read_pickle(\"./df_sa_bsc\")\n",
    "i=2 \n",
    "j=3 \n",
    "df_sa_bsc.query(\"basis_set=='def2-QZVPP'&ref==@molecules[@i] &target==@molecules[@j] \")['bsc']+1"
   ]
  },
  {
   "cell_type": "code",
   "execution_count": 46,
   "metadata": {},
   "outputs": [
    {
     "name": "stderr",
     "output_type": "stream",
     "text": [
      "C:\\Users\\zorzo\\Anaconda3\\lib\\site-packages\\ipykernel_launcher.py:5: MatplotlibDeprecationWarning: Adding an axes using the same arguments as a previous axes currently reuses the earlier instance.  In a future version, a new instance will always be created and returned.  Meanwhile, this warning can be suppressed, and the future behavior ensured, by passing a unique label to each axes instance.\n",
      "  \"\"\"\n",
      "C:\\Users\\zorzo\\Anaconda3\\lib\\site-packages\\ipykernel_launcher.py:7: MatplotlibDeprecationWarning: Adding an axes using the same arguments as a previous axes currently reuses the earlier instance.  In a future version, a new instance will always be created and returned.  Meanwhile, this warning can be suppressed, and the future behavior ensured, by passing a unique label to each axes instance.\n",
      "  import sys\n"
     ]
    },
    {
     "data": {
      "image/png": "[encoded data removed]",
      "text/plain": [
       "<Figure size 864x864 with 4 Axes>"
      ]
     },
     "metadata": {
      "needs_background": "light"
     },
     "output_type": "display_data"
    }
   ],
   "source": [
    "#fig,axs=plt.subplots(3,1,figsize=(15,12))\n",
    "#default boxplot is median\n",
    "fig= plt.figure(figsize=(12,12),frameon=False)\n",
    "plt.tick_params(labelcolor='none', top=False, bottom=False, left=False, right=False)\n",
    "plt.axes().set_ylabel(\" basis set error [mHa]\",fontsize=30,labelpad=65)\n",
    "plt.tick_params(labelcolor='none', top=False, bottom=False, left=False, right=False)\n",
    "plt.axes().set_frame_on(False)\n",
    "\n",
    "axs=[]\n",
    "axs.append(fig.add_axes([.1,.5,.8,.3]))\n",
    "axs.append(fig.add_axes([.1,.14,.47,.3]))\n",
    "axs.append(fig.add_axes([.6,.14,.3,.3]))\n",
    "\n",
    "axs[2].yaxis.tick_right()\n",
    "\n",
    "k=[0.,0.,0.]\n",
    "data=[[],[],[]]\n",
    "texts=[[],[],[]]\n",
    "positions=[[0],[0],[0]]\n",
    "for i in range (4):\n",
    "    for j in range(4):\n",
    "        if j==i: continue \n",
    "        dt=dt_qzvpp.query(\"alchemy==0 &ref==@molecules[@i] &target==@molecules[@j]\")\n",
    "        data[abs(j-i)-1].append((dt.e_at_ref_bs-dt.e_ccsd)*1000)\n",
    "        data[abs(j-i)-1].append((dt.e_at_ref_bs-dt.e_ccsd-\\\n",
    "                float(df_sa_bsc.query(\"basis_set=='def2-QZVPP'&ref==@molecules[@i] &target==@molecules[@j]\").bsc))*1000)\n",
    "        positions[abs(j-i)-1].append(positions[abs(j-i)-1][-1]+.8)\n",
    "        positions[abs(j-i)-1].append(positions[abs(j-i)-1][-1])\n",
    "        texts[abs(j-i)-1].append((molecules[i],molecules[j]))\n",
    "        \n",
    "for i in range(3):\n",
    "    positions[i].pop(0)\n",
    "    axs[i].boxplot(data[i],sym='r+',positions=positions[i],widths=.3)\n",
    "    axs[i].set_title('$\\Delta$ Z = $\\pm {}$'.format(i+1),fontsize=30,pad=10)\n",
    "    axs[i].axhline(0,ls='--')\n",
    "    axs[i].tick_params(labelsize=25)\n",
    "    axs[i].set_xticks([])\n",
    "    lims=axs[i].get_ylim()\n",
    "    axs[i].set_ylim(lims[0],(lims[1]-lims[0])*1.2+lims[0])\n",
    "    #arrows\n",
    "    for j in range(len(data[i])//2):\n",
    "        m1=data[i][j*2].median()\n",
    "        m2=data[i][j*2+1].median()\n",
    "        if i==0:\n",
    "            axs[i].arrow(positions[i][2*j]+.22,m1,0.,m2-m1, head_width=.1, head_length=0.12*(lims[1]-lims[0]), fc='k',\\\n",
    "                     length_includes_head=True, ec='k') \n",
    "            continue\n",
    "        axs[i].arrow(positions[i][2*j]+.22,m1,0.,m2-m1, head_width=.15, head_length=0.15*(lims[1]-lims[0]), fc='k',\\\n",
    "                     length_includes_head=True, ec='k')         ##### add arrow style\n",
    "     \n",
    "##texts \n",
    "    if i==2:continue  \n",
    "    for j in range(len(texts[i])):\n",
    "        if j//2==j/2: \n",
    "            axs[i].text(positions[i][j*2],(lims[1]-lims[0])*.9+lims[0],r\"{}/{}\".format(texts[i][j][0],\\\n",
    "                                                        texts[i][j][1]),fontsize=20,horizontalalignment='center')\n",
    "        else:\n",
    "            axs[i].text(positions[i][j*2],(lims[1]-lims[0])*1.08+lims[0],r\"{}/{}\".format(texts[i][j][0],\\\n",
    "                                                        texts[i][j][1]),fontsize=20,horizontalalignment='center')\n",
    "\n",
    "axs[2].text(positions[2][0]-.45,(lims[1]-lims[0])*1.06+lims[0],r\"{}/{}\".format(texts[2][0][0],texts[2][0][1]),fontsize=20)\n",
    "axs[2].text(positions[2][2]-.4,(lims[1]-lims[0])*.93+lims[0],r\"{}/{}\".format(texts[2][1][0],texts[2][1][1]),fontsize=20)\n",
    "\n",
    "plt.savefig('boxplot.pdf',bbox_inches='tight')"
   ]
  },
  {
   "cell_type": "code",
   "execution_count": 16,
   "metadata": {},
   "outputs": [
    {
     "data": {
      "text/plain": [
       "'for i in range (4):\\n    for j in range(4):\\n        if j==i: continue \\n        dt=dt_qzvpp.query(\"alchemy==2 &ref==@molecules[@i] &target==@molecules[@j]\")\\n        plt.plot(dt.distance,dt.e_alch)\\n        plt.title(\"ref={} target={}\".format(molecules[i],molecules[j]))\\n        plt.show() '"
      ]
     },
     "execution_count": 16,
     "metadata": {},
     "output_type": "execute_result"
    }
   ],
   "source": [
    "\"\"\"for i in range (4):\n",
    "    for j in range(4):\n",
    "        if j==i: continue \n",
    "        dt=dt_qzvpp.query(\"alchemy==2 &ref==@molecules[@i] &target==@molecules[@j]\")\n",
    "        plt.plot(dt.distance,dt.e_alch)\n",
    "        plt.title(\"ref={} target={}\".format(molecules[i],molecules[j]))\n",
    "        plt.show() \"\"\""
   ]
  }
 ],
 "metadata": {
  "kernelspec": {
   "display_name": "Python 3",
   "language": "python",
   "name": "python3"
  },
  "language_info": {
   "codemirror_mode": {
    "name": "ipython",
    "version": 3
   },
   "file_extension": ".py",
   "mimetype": "text/x-python",
   "name": "python",
   "nbconvert_exporter": "python",
   "pygments_lexer": "ipython3",
   "version": "3.7.4"
  }
 },
 "nbformat": 4,
 "nbformat_minor": 2
}
