{
 "cells": [
  {
   "cell_type": "code",
   "execution_count": 1,
   "metadata": {},
   "outputs": [],
   "source": [
    "import numpy as np\n",
    "import sys \n",
    "import os\n",
    "import shutil\n",
    "import matplotlib.pyplot as plt\n",
    "import scipy.interpolate as sp\n",
    "import ipyvolume as ipv\n",
    "sys.path.append('/home/giorgiod/Documents/APDFT/dep')\n",
    "sys.path.append('/home/giorgiod/Documents/APDFT/src')"
   ]
  },
  {
   "cell_type": "code",
   "execution_count": 2,
   "metadata": {},
   "outputs": [],
   "source": [
    "from apdft import Calculator"
   ]
  },
  {
   "cell_type": "code",
   "execution_count": 3,
   "metadata": {},
   "outputs": [
    {
     "data": {
      "text/plain": [
       "['def2-QZVPP',\n",
       " 'LiNa_fixed_scf',\n",
       " '631G*',\n",
       " 'def2-TZVP',\n",
       " 'sto3G',\n",
       " 'sto6G',\n",
       " '321G',\n",
       " 'cc-pVTZ',\n",
       " 'aug-cc-pVQZ',\n",
       " 'LiNa-def2TZVP-rerun']"
      ]
     },
     "execution_count": 3,
     "metadata": {},
     "output_type": "execute_result"
    }
   ],
   "source": [
    "proj_path='/home/giorgiod/MRCC_interface/PES-BS-ALCHEMY/'\n",
    "os.listdir(proj_path)"
   ]
  },
  {
   "cell_type": "code",
   "execution_count": 68,
   "metadata": {},
   "outputs": [
    {
     "name": "stdout",
     "output_type": "stream",
     "text": [
      "True\n",
      "/home/giorgiod/MRCC_interface/PES-BS-ALCHEMY/631G*/LiNa/A0_Radius:1.6/\n"
     ]
    }
   ],
   "source": [
    "basisSets=['sto3G', 'sto6G', '321G','631G*','def2-TZVP','def2-QZVPP','cc-pVTZ','aug-cc-pVQZ']\n",
    "molecules=['HAl','HeMg','LiNa','BeNe','BF','CO','NN']\n",
    "alchemy=[-2,-1,0,1,2]\n",
    "Nums={\n",
    "    \"NN\":[7,7],\n",
    "    \"CO\":[6,8],\n",
    "    \"BF\":[5,9],\n",
    "    \"BeNe\":[4,10],\n",
    "    \"LiNa\":[3,11],\n",
    "    \"HeMg\":[2,12],\n",
    "    \"HAl\":[1,13]\n",
    "}\n",
    "points= np.linspace(1.30,3.20,20)\n",
    "def dirName(basis_set,molecule,point,alchemy=0):\n",
    "    return proj_path+basis_set+'/'+molecule+\"/A{}_Radius:{}\".format(alchemy,str(point)[0:3])+'/'\n",
    "print (os.path.isdir(dirName(basisSets[3],molecules[2],points[3])))\n",
    "print (dirName(basisSets[3],molecules[2],points[3]))"
   ]
  },
  {
   "cell_type": "code",
   "execution_count": 5,
   "metadata": {},
   "outputs": [],
   "source": [
    "def parse_energy_cc(log_file):\n",
    "    \"\"\"Parse the couple cluster energy from an MRCC output file\"\"\"\n",
    "    try:\n",
    "        with open(log_file,'r') as logf:\n",
    "            while True:\n",
    "                line=logf.readline()\n",
    "                if \"Final results:\" in line:\n",
    "                    good_line=logf.readline()\n",
    "                    if \"Total CCSD energy\" in good_line:\n",
    "                        for x in good_line.split(' '):\n",
    "                            try:\n",
    "                                float(x)\n",
    "                                return (float(x))\n",
    "                            except:\n",
    "                                pass    \n",
    "    except:\n",
    "        print('couldn\\'t parse energy return 0 for: '+log_file)\n",
    "        return 0"
   ]
  },
  {
   "cell_type": "code",
   "execution_count": 6,
   "metadata": {},
   "outputs": [],
   "source": [
    "def energy(bs,mol,pt,al=0):\n",
    "    return parse_energy_cc(dirName(bs,mol,pt,al)+'run.log')"
   ]
  },
  {
   "cell_type": "code",
   "execution_count": 7,
   "metadata": {},
   "outputs": [],
   "source": [
    "def parse_energy_hf(log_file):\n",
    "    \"\"\"Parse the hartree Fock energy from an MRCC output file\"\"\"\n",
    "    try:\n",
    "        with open(log_file,'r') as logf:\n",
    "            while True:\n",
    "                line=logf.readline()\n",
    "                if \"FINAL HARTREE-FOCK ENERGY:\" in line:\n",
    "                    good_line=line\n",
    "                    for x in good_line.split(' '):\n",
    "                        try:\n",
    "                            float(x)\n",
    "                            return (float(x))\n",
    "                        except:\n",
    "                            pass    \n",
    "    except:\n",
    "        print('couldn\\'t parse energy return 0 for: '+log_file)\n",
    "        return 0"
   ]
  },
  {
   "cell_type": "code",
   "execution_count": 8,
   "metadata": {},
   "outputs": [],
   "source": [
    "def energy_hf(bs,mol,pt,al=0):\n",
    "    return parse_energy_hf(dirName(bs,mol,pt,al)+'run.log')"
   ]
  },
  {
   "cell_type": "code",
   "execution_count": 9,
   "metadata": {},
   "outputs": [
    {
     "data": {
      "text/plain": [
       "-241.3704735798517"
      ]
     },
     "execution_count": 9,
     "metadata": {},
     "output_type": "execute_result"
    }
   ],
   "source": [
    "energy_hf('sto6G','HAl',2.2)"
   ]
  },
  {
   "cell_type": "code",
   "execution_count": 10,
   "metadata": {},
   "outputs": [],
   "source": [
    "#for bs in basisSets:\n",
    "#    for mol in molecules:\n",
    "#        print (energy(bs,mol,2.1))\n",
    "    #    print (dirName(bs,mol,2.1))"
   ]
  },
  {
   "cell_type": "code",
   "execution_count": null,
   "metadata": {},
   "outputs": [],
   "source": [
    "\"\"\"\n",
    "# Overview of all molecules all BS at 0th order alchemy (or a given one)\n",
    "for mol in molecules:\n",
    "    for bs in basisSets:\n",
    "        plt.plot(points,[energy(bs,mol,pt,-2) for pt in points],label=bs)\n",
    "    plt.title(mol)\n",
    "    plt.legend()\n",
    "    plt.show()\n",
    "\"\"\""
   ]
  },
  {
   "cell_type": "code",
   "execution_count": 12,
   "metadata": {
    "scrolled": true
   },
   "outputs": [
    {
     "data": {
      "text/plain": [
       "\"\\n# CC energies for LiNa\\nfor ao in range(-2,3):\\n    for bs in basisSets:\\n        plt.plot(points,[energy(bs,'LiNa',pt,ao) for pt in points],label=bs)\\n    plt.title('LiNa '+' Alchemy '+ str(ao))\\n    plt.axvline(1.5)\\n    plt.axvline(1.8)\\n    plt.legend()\\n    plt.show()\\n    \""
      ]
     },
     "execution_count": 12,
     "metadata": {},
     "output_type": "execute_result"
    }
   ],
   "source": [
    "\"\"\"\n",
    "# CC energies for LiNa\n",
    "for ao in range(-2,3):\n",
    "    for bs in basisSets:\n",
    "        plt.plot(points,[energy(bs,'LiNa',pt,ao) for pt in points],label=bs)\n",
    "    plt.title('LiNa '+' Alchemy '+ str(ao))\n",
    "    plt.axvline(1.5)\n",
    "    plt.axvline(1.8)\n",
    "    plt.legend()\n",
    "    plt.show()\n",
    "    \"\"\""
   ]
  },
  {
   "cell_type": "code",
   "execution_count": 13,
   "metadata": {},
   "outputs": [
    {
     "data": {
      "text/plain": [
       "\"# On LiNa Hartree Fock energies\\nfor ao in range(-2,3):\\n    for bs in basisSets:\\n        plt.plot(points,[energy_hf(bs,'LiNa',pt,ao) for pt in points],label=bs)\\n    plt.title('LiNa '+' Alchemy '+ str(ao))\\n    plt.axvline(1.5)\\n    plt.axvline(1.8)\\n    plt.legend()\\n    plt.show() \""
      ]
     },
     "execution_count": 13,
     "metadata": {},
     "output_type": "execute_result"
    }
   ],
   "source": [
    "\"\"\"# On LiNa Hartree Fock energies\n",
    "for ao in range(-2,3):\n",
    "    for bs in basisSets:\n",
    "        plt.plot(points,[energy_hf(bs,'LiNa',pt,ao) for pt in points],label=bs)\n",
    "    plt.title('LiNa '+' Alchemy '+ str(ao))\n",
    "    plt.axvline(1.5)\n",
    "    plt.axvline(1.8)\n",
    "    plt.legend()\n",
    "    plt.show() \"\"\""
   ]
  },
  {
   "cell_type": "code",
   "execution_count": 14,
   "metadata": {},
   "outputs": [
    {
     "data": {
      "text/plain": [
       "\"ao=2\\nplt.plot(points,[energy_hf('def2-TZVP','LiNa',pt,ao) for pt in points],label='def2-TZVP')\\nplt.scatter(1.3,parse_energy_hf(proj_path+'/LiNa-def2TZVP-rerun/A'+str(ao)+'_Radius:1.3/run.log'))\\nplt.scatter(1.4,parse_energy_hf(proj_path+'/LiNa-def2TZVP-rerun/A'+str(ao)+'_Radius:1.4/run.log'))\\nplt.scatter(1.5,parse_energy_hf(proj_path+'/LiNa-def2TZVP-rerun/A'+str(ao)+'_Radius:1.5/run.log'))\\nplt.scatter(1.6,parse_energy_hf(proj_path+'/LiNa-def2TZVP-rerun/A'+str(ao)+'_Radius:1.6/run.log'))\\nplt.scatter(1.7,parse_energy_hf(proj_path+'/LiNa-def2TZVP-rerun/A'+str(ao)+'_Radius:1.7/run.log'))\\nplt.scatter(1.8,parse_energy_hf(proj_path+'/LiNa-def2TZVP-rerun/A'+str(ao)+'_Radius:1.8/run.log'))\\nplt.scatter(1.9,parse_energy_hf(proj_path+'/LiNa-def2TZVP-rerun/A'+str(ao)+'_Radius:1.9/run.log'))\\n\\nplt.title('LiNa '+' Alchemy '+str(ao))\\nplt.axvline(1.5)\\nplt.axvline(1.8)\\nplt.legend()\\nplt.show()\""
      ]
     },
     "execution_count": 14,
     "metadata": {},
     "output_type": "execute_result"
    }
   ],
   "source": [
    "\"\"\"ao=2\n",
    "plt.plot(points,[energy_hf('def2-TZVP','LiNa',pt,ao) for pt in points],label='def2-TZVP')\n",
    "plt.scatter(1.3,parse_energy_hf(proj_path+'/LiNa-def2TZVP-rerun/A'+str(ao)+'_Radius:1.3/run.log'))\n",
    "plt.scatter(1.4,parse_energy_hf(proj_path+'/LiNa-def2TZVP-rerun/A'+str(ao)+'_Radius:1.4/run.log'))\n",
    "plt.scatter(1.5,parse_energy_hf(proj_path+'/LiNa-def2TZVP-rerun/A'+str(ao)+'_Radius:1.5/run.log'))\n",
    "plt.scatter(1.6,parse_energy_hf(proj_path+'/LiNa-def2TZVP-rerun/A'+str(ao)+'_Radius:1.6/run.log'))\n",
    "plt.scatter(1.7,parse_energy_hf(proj_path+'/LiNa-def2TZVP-rerun/A'+str(ao)+'_Radius:1.7/run.log'))\n",
    "plt.scatter(1.8,parse_energy_hf(proj_path+'/LiNa-def2TZVP-rerun/A'+str(ao)+'_Radius:1.8/run.log'))\n",
    "plt.scatter(1.9,parse_energy_hf(proj_path+'/LiNa-def2TZVP-rerun/A'+str(ao)+'_Radius:1.9/run.log'))\n",
    "\n",
    "plt.title('LiNa '+' Alchemy '+str(ao))\n",
    "plt.axvline(1.5)\n",
    "plt.axvline(1.8)\n",
    "plt.legend()\n",
    "plt.show()\"\"\""
   ]
  },
  {
   "cell_type": "code",
   "execution_count": 15,
   "metadata": {},
   "outputs": [
    {
     "data": {
      "text/plain": [
       "\"ao=1\\nplt.plot(points,[energy('def2-TZVP','LiNa',pt,ao) for pt in points],label='def2-TZVP')\\n#plt.scatter(1.3,parse_energy_cc(proj_path+'/LiNa_fixed_scf/A'+str(ao)+'_Radius:1.3/run.log'))\\nplt.scatter(1.4,parse_energy_cc(proj_path+'/LiNa_fixed_scf/A'+str(ao)+'_Radius:1.4/run.log'))\\nplt.scatter(1.5,parse_energy_cc(proj_path+'/LiNa_fixed_scf/A'+str(ao)+'_Radius:1.5/run.log'))\\nplt.scatter(1.6,parse_energy_cc(proj_path+'/LiNa_fixed_scf/A'+str(ao)+'_Radius:1.6/run.log'))\\nplt.scatter(1.7,parse_energy_cc(proj_path+'/LiNa_fixed_scf/A'+str(ao)+'_Radius:1.7/run.log'))\\nplt.scatter(1.8,parse_energy_cc(proj_path+'/LiNa_fixed_scf/A'+str(ao)+'_Radius:1.8/run.log'))\\n#plt.scatter(1.9,parse_energy_cc(proj_path+'/LiNa_fixed_scf/A'+str(ao)+'_Radius:1.9/run.log'))\\n\\nplt.title('LiNa '+' Alchemy '+str(ao))\\nplt.axvline(1.4)\\nplt.axvline(1.8)\\nplt.legend()\\nplt.show()\""
      ]
     },
     "execution_count": 15,
     "metadata": {},
     "output_type": "execute_result"
    }
   ],
   "source": [
    "\"\"\"ao=1\n",
    "plt.plot(points,[energy('def2-TZVP','LiNa',pt,ao) for pt in points],label='def2-TZVP')\n",
    "#plt.scatter(1.3,parse_energy_cc(proj_path+'/LiNa_fixed_scf/A'+str(ao)+'_Radius:1.3/run.log'))\n",
    "plt.scatter(1.4,parse_energy_cc(proj_path+'/LiNa_fixed_scf/A'+str(ao)+'_Radius:1.4/run.log'))\n",
    "plt.scatter(1.5,parse_energy_cc(proj_path+'/LiNa_fixed_scf/A'+str(ao)+'_Radius:1.5/run.log'))\n",
    "plt.scatter(1.6,parse_energy_cc(proj_path+'/LiNa_fixed_scf/A'+str(ao)+'_Radius:1.6/run.log'))\n",
    "plt.scatter(1.7,parse_energy_cc(proj_path+'/LiNa_fixed_scf/A'+str(ao)+'_Radius:1.7/run.log'))\n",
    "plt.scatter(1.8,parse_energy_cc(proj_path+'/LiNa_fixed_scf/A'+str(ao)+'_Radius:1.8/run.log'))\n",
    "#plt.scatter(1.9,parse_energy_cc(proj_path+'/LiNa_fixed_scf/A'+str(ao)+'_Radius:1.9/run.log'))\n",
    "\n",
    "plt.title('LiNa '+' Alchemy '+str(ao))\n",
    "plt.axvline(1.4)\n",
    "plt.axvline(1.8)\n",
    "plt.legend()\n",
    "plt.show()\"\"\""
   ]
  },
  {
   "cell_type": "code",
   "execution_count": 16,
   "metadata": {
    "scrolled": true
   },
   "outputs": [
    {
     "data": {
      "text/plain": [
       "\"for bs in basisSets: \\n    apes=[]\\n    for mol in molecules:\\n        apes.append(energy('cc-pVTZ',mol,2.))\\n    plt.plot(apes,label=bs)\\nplt.legend()\""
      ]
     },
     "execution_count": 16,
     "metadata": {},
     "output_type": "execute_result"
    }
   ],
   "source": [
    "\"\"\"for bs in basisSets: \n",
    "    apes=[]\n",
    "    for mol in molecules:\n",
    "        apes.append(energy('cc-pVTZ',mol,2.))\n",
    "    plt.plot(apes,label=bs)\n",
    "plt.legend()\"\"\""
   ]
  },
  {
   "cell_type": "markdown",
   "metadata": {},
   "source": [
    "# get minimun and vibrational frequency"
   ]
  },
  {
   "cell_type": "code",
   "execution_count": 17,
   "metadata": {},
   "outputs": [
    {
     "name": "stderr",
     "output_type": "stream",
     "text": [
      "/home/giorgiod/.local/lib/python3.6/site-packages/ipykernel_launcher.py:3: DeprecationWarning: `spline` is deprecated!\n",
      "spline is deprecated in scipy 0.19.0, use Bspline class instead.\n",
      "  This is separate from the ipykernel package so we can avoid doing imports until\n"
     ]
    }
   ],
   "source": [
    "nn_scan=np.asarray([energy('def2-TZVP','NN',pt) for pt in points])\n",
    "NN_spline_pes=np.linspace (1.3,3.2,1000) # points 20 in 1.3-3.2 (1.9bohrs)\n",
    "NN_spline=sp.spline(points,nn_scan,NN_spline_pes, order=3)\n",
    "m=NN_spline.argmin()\n",
    "k=(NN_spline[m+1]+NN_spline[m-1]-2*NN_spline[m])/(1.9e-3)**2\n",
    "Rmin=1.3+m*1.9e-3"
   ]
  },
  {
   "cell_type": "code",
   "execution_count": 18,
   "metadata": {},
   "outputs": [],
   "source": [
    "mu_nn=12766.4683422\n",
    "lightspeed=137.035999753\n",
    "planck=6.28318530718\n",
    "centimeter=188972613.392\n",
    "def to_cm(k,Mu):\n",
    "    return (k/Mu)**0.5*centimeter/planck/lightspeed"
   ]
  },
  {
   "cell_type": "code",
   "execution_count": 19,
   "metadata": {},
   "outputs": [
    {
     "data": {
      "text/plain": [
       "(2435.177842315386, 2.0695)"
      ]
     },
     "execution_count": 19,
     "metadata": {},
     "output_type": "execute_result"
    }
   ],
   "source": [
    "to_cm(k,mu_nn),Rmin"
   ]
  },
  {
   "cell_type": "code",
   "execution_count": 20,
   "metadata": {},
   "outputs": [
    {
     "data": {
      "text/plain": [
       "[<matplotlib.lines.Line2D at 0x7fda7991c390>]"
      ]
     },
     "execution_count": 20,
     "metadata": {},
     "output_type": "execute_result"
    },
    {
     "data": {
      "image/png": "[encoded data removed]",
      "text/plain": [
       "<Figure size 432x288 with 1 Axes>"
      ]
     },
     "metadata": {
      "needs_background": "light"
     },
     "output_type": "display_data"
    }
   ],
   "source": [
    "plt.plot(NN_spline_pes,NN_spline)\n",
    "plt.plot(points,nn_scan)"
   ]
  },
  {
   "cell_type": "code",
   "execution_count": 21,
   "metadata": {},
   "outputs": [],
   "source": [
    "def sppes(bs,mol,ao=0):\n",
    "    points=np.linspace(1.3,3.2,20)\n",
    "    scan=np.asarray([energy(bs,mol,pt) for pt in points])\n",
    "    target_pts=np.linspace (1.3,3.2,1000) # points 20 in 1.3-3.2 (1.9bohrs)\n",
    "    return sp.spline(points,nn_scan,target_pts, order=3)"
   ]
  },
  {
   "cell_type": "code",
   "execution_count": 118,
   "metadata": {},
   "outputs": [],
   "source": [
    "def get_grid(basis_set,molecule,point,alchemy=0):\n",
    "    return (Calculator.MrccCalculator.get_grid(None, None, dirName(basis_set,molecule,point,alchemy=0)))\n",
    "def get_ccdensity(basis_set,molecule,point,alchemy=0):\n",
    "    return Calculator.MrccCalculator.density_on_grid(dirName(basis_set,molecule,point,alchemy)+'DENSITY',get_grid(basis_set,molecule,point,alchemy)[0])"
   ]
  },
  {
   "cell_type": "code",
   "execution_count": 23,
   "metadata": {},
   "outputs": [
    {
     "data": {
      "text/plain": [
       "array([0., 0., 0., 0., 0., 0., 0., 0., 0., 0., 0., 0., 0., 0., 0., 0., 0.,\n",
       "       0., 0., 0.])"
      ]
     },
     "execution_count": 23,
     "metadata": {},
     "output_type": "execute_result"
    }
   ],
   "source": [
    "(get_grid('sto3G','BeNe',2.0)[1]-get_grid('aug-cc-pVQZ','BeNe',2.0)[1])[:20]"
   ]
  },
  {
   "cell_type": "code",
   "execution_count": 24,
   "metadata": {},
   "outputs": [],
   "source": [
    "def deltaV(ref,targ,r,bs='sto3G'):\n",
    "    \"\"\"Function for diatomics, from a couple of molecules reference target with identical geometry returns the \n",
    "    DV on the grid of the reference molecule, also the basis set needs to be specified \n",
    "    note the use of Nums to get the atomic numbers\"\"\"\n",
    "    coordinates=np.asarray([[0,0,0],[r,0,0]])\n",
    "    deltaCharge=np.asarray(Nums[targ])-np.asarray(Nums[ref])\n",
    "    grid=get_grid(bs,ref,r)\n",
    "    ds=[]\n",
    "    ds.append(np.linalg.norm((grid[0] - coordinates[0]),axis=1))\n",
    "    ds.append(np.linalg.norm((grid[0] - coordinates[1]),axis=1))\n",
    "                #  grid, coordinates in angstrom * 1.88 -> bohr (au) for Hamiltonian calcs.\n",
    "    deltaV = np.zeros(len(grid[1]))\n",
    "    for atomidx in range(2):\n",
    "        deltaV += (-deltaCharge[atomidx])/ ds[atomidx] # the minus is due to the charge of the electron=-1\n",
    "    return (deltaV)"
   ]
  },
  {
   "cell_type": "markdown",
   "metadata": {},
   "source": [
    "$\\tilde{\\rho} = \\rho^0 +\\frac{1}{2}\\rho' +\\frac{1}{6}\\rho \" + \\frac{1}{24}\\rho ^{(3)}+ \\frac{1}{120}\\rho ^{(4)} $ \n",
    "\n",
    "## 5point coefficients <br>\n",
    "0  :      0    :  1    :  0   :     0  <br>\n",
    "1/12 :\t−2/3 :\t0 \t : 2/3 :\t−1/12    for first deriv <br>\n",
    "−1/12 :\t4/3 :\t−5/2 : 4/3 : −1/12  for second deriv <br>\n",
    "−1/2 :\t 1 \t:    0 \t:  −1    :  1/2   for third deriv <br>\n",
    " 1  :\t−4  :\t6 \t:  −4   : 1       for fourth deriv <br>"
   ]
  },
  {
   "cell_type": "code",
   "execution_count": 25,
   "metadata": {},
   "outputs": [
    {
     "name": "stdout",
     "output_type": "stream",
     "text": [
      "[[ 0.00000000e+00  0.00000000e+00  1.00000000e+00  0.00000000e+00\n",
      "   0.00000000e+00]\n",
      " [ 4.16666667e-02 -3.33333333e-01  0.00000000e+00  3.33333333e-01\n",
      "  -4.16666667e-02]\n",
      " [-5.55555556e+00  8.88888889e+01 -1.66666667e+02  8.88888889e+01\n",
      "  -5.55555556e+00]\n",
      " [-1.66666667e+02  3.33333333e+02  0.00000000e+00 -3.33333333e+02\n",
      "   1.66666667e+02]\n",
      " [ 1.33333333e+03 -5.33333333e+03  8.00000000e+03 -5.33333333e+03\n",
      "   1.33333333e+03]] 1.0000000000009095\n",
      "[  -5.51388889   88.55555556 -165.66666667   89.22222222   -5.59722222]\n"
     ]
    }
   ],
   "source": [
    "# Finite difference coefficients \n",
    "dh=0.05  # \n",
    "coeff0=np.asarray([0,0,1,0,0])\n",
    "coeff1=np.asarray([1/12,-2/3,0,2/3,-1/12])\n",
    "#coeff1=np.asarray([0,-1/2,0,1/2,0])\n",
    "coeff2=np.asarray([-1/12 , 4/3 , -5/2 , 4/3 , -1/12])\n",
    "coeff3=np.asarray([-1/2 , 1 , 0 , -1 , 1/2])\n",
    "coeff4=np.asarray([1 ,-4 , 6 ,-4 , 1])\n",
    "coeffs=[coeff0,coeff1,coeff2,coeff3,coeff4]\n",
    "coeff_tilda=np.asarray([coeff0,1/2*coeff1,1/6*coeff2/dh**2,1/24*coeff3/dh**3,1/120*coeff4/dh**4])\n",
    "print (coeff_tilda, np.sum(coeff_tilda))\n",
    "ao=2\n",
    "rt=np.zeros(5)\n",
    "for x in range(ao+1):\n",
    "    rt+=coeff_tilda[x]\n",
    "print (rt)"
   ]
  },
  {
   "cell_type": "code",
   "execution_count": 139,
   "metadata": {},
   "outputs": [],
   "source": [
    "def rho_tilda(mol,bs,r,ao):\n",
    "    \"\"\"returns rho tilda on the reference mol grid for given (mol,bs,r,ao) \"\"\"\n",
    "    rho_tilda=np.zeros(len(get_grid(bs,mol,r)[1]))\n",
    "    rtc=np.zeros(5)\n",
    "    for x in range(ao+1):\n",
    "        rtc+=coeff_tilda[x]\n",
    "#    print ('RTC =' , rtc)\n",
    "    for x in range(5):\n",
    "        rho_tilda+=get_ccdensity(bs,mol,r,x-2)*rtc[x]   ### note error in defining alchemy order \n",
    "    return rho_tilda"
   ]
  },
  {
   "cell_type": "code",
   "execution_count": 142,
   "metadata": {},
   "outputs": [],
   "source": [
    "def rho_deriv(mol,bs,r,deriv):\n",
    "    dh=0.05\n",
    "    rho_deriv=np.zeros(len(get_grid(bs,mol,r)[1]))\n",
    "    for x in range(5):\n",
    "        rho_deriv+=get_ccdensity(bs,mol,r,x-2)*coeffs[deriv][x]\n",
    "    return rho_deriv/dh**deriv"
   ]
  },
  {
   "cell_type": "code",
   "execution_count": 143,
   "metadata": {},
   "outputs": [
    {
     "data": {
      "text/plain": [
       "array([-6.13854076e-24, -6.13878561e-24, -6.13733503e-24, ...,\n",
       "       -7.03468320e-30, -4.39497166e-30,  0.00000000e+00])"
      ]
     },
     "execution_count": 143,
     "metadata": {},
     "output_type": "execute_result"
    }
   ],
   "source": [
    "rho_deriv('CO','sto6G',1.8,3)-rho_deriv('CO','sto6G',1.8,0)"
   ]
  },
  {
   "cell_type": "code",
   "execution_count": 29,
   "metadata": {},
   "outputs": [],
   "source": [
    "def alchem_predict2(ref,targ,r,bs,ao):\n",
    "    Pred_energy=energy(bs,ref,r,0)  # energy of reference\n",
    "    print (str(Pred_energy)+'   ___ reference energy')\n",
    "    #adding the Nuclear nuclear interaction (only diatomics)\n",
    "    Pred_energy+=(Nums[targ][0]*Nums[targ][1]-Nums[ref][0]*Nums[ref][1])/r\n",
    "    print (str(Pred_energy)+'   ___ added Nuc-Nuc')\n",
    "    \n",
    "    Pred_energy-=np.sum(deltaV(ref,targ,r)*rho_tilda(ref,bs,r,ao)*get_grid(bs,ref,r)[1]) # Integral of dV * Rho tilda * grid Weghts \n",
    "    \n",
    "    print (str(Pred_energy)+' __return value')"
   ]
  },
  {
   "cell_type": "code",
   "execution_count": 88,
   "metadata": {},
   "outputs": [],
   "source": [
    "#@functools.lru_cache\n",
    "def alchem_predict(ref,targ,r,bs,ao):\n",
    "    \"\"\"Returns the energy predicted by alchemy for a given pair of reference and target molecules\n",
    "    The atom distance, the basis set and the alchemical order needs to be specified \"\"\"\n",
    "    Pred_energy=energy(bs,ref,r,0)  # energy of reference\n",
    "    #print (str(Pred_energy)+'   ___ reference energy')\n",
    "    #adding the Nuclear nuclear interaction (only diatomics)\n",
    "    Pred_energy+=(Nums[targ][0]*Nums[targ][1]-Nums[ref][0]*Nums[ref][1])/r\n",
    "    #print (str(Pred_energy)+'   ___ added Nuc-Nuc')\n",
    "    Pred_energy+=np.sum(deltaV(ref,targ,r)*rho_deriv(ref,bs,r,0)*get_grid(bs,ref,r)[1])\n",
    "    #print (str(Pred_energy)+'   ___ 0th order ')\n",
    "    if ao==0: return Pred_energy\n",
    "    Pred_energy+=np.sum(deltaV(ref,targ,r)*rho_deriv(ref,bs,r,1)*get_grid(bs,ref,r)[1])/2*(Nums[targ][0]-Nums[ref][0])**1\n",
    "    #print (str(Pred_energy)+'   ___ 1st order ')\n",
    "    if ao==1: return Pred_energy\n",
    "    Pred_energy+=np.sum(deltaV(ref,targ,r)*rho_deriv(ref,bs,r,2)*get_grid(bs,ref,r)[1])/6*(Nums[targ][0]-Nums[ref][0])**2\n",
    "    #print (str(Pred_energy)+'   ___ 2nd order ')\n",
    "    if ao==2: return Pred_energy\n",
    "    Pred_energy+=np.sum(deltaV(ref,targ,r)*rho_deriv(ref,bs,r,3)*get_grid(bs,ref,r)[1])/24*(Nums[targ][0]-Nums[ref][0])**3\n",
    "    #print (str(Pred_energy)+'   ___ 3rd order ')\n",
    "    if ao==3: return Pred_energy\n",
    "    Pred_energy+=np.sum(deltaV(ref,targ,r)*rho_deriv(ref,bs,r,4)*get_grid(bs,ref,r)[1])/120*(Nums[targ][0]-Nums[ref][0])**4\n",
    "    #print (str(Pred_energy)+'   ___ 4th order ')\n",
    "    \n",
    "   \n",
    "    return (Pred_energy)"
   ]
  },
  {
   "cell_type": "code",
   "execution_count": 93,
   "metadata": {
    "scrolled": true
   },
   "outputs": [
    {
     "name": "stdout",
     "output_type": "stream",
     "text": [
      "CPU times: user 34.5 ms, sys: 17.1 ms, total: 51.6 ms\n",
      "Wall time: 50.8 ms\n"
     ]
    },
    {
     "data": {
      "text/plain": [
       "-106.11150135245407"
      ]
     },
     "execution_count": 93,
     "metadata": {},
     "output_type": "execute_result"
    }
   ],
   "source": [
    "#alchem_predict2('BF','NN',2.0,'aug-cc-pVQZ',2)\n",
    "%time alchem_predict('CO','NN',2.0,'aug-cc-pVQZ',0)"
   ]
  },
  {
   "cell_type": "code",
   "execution_count": 63,
   "metadata": {},
   "outputs": [
    {
     "data": {
      "text/plain": [
       "-113.159782548132"
      ]
     },
     "execution_count": 63,
     "metadata": {},
     "output_type": "execute_result"
    }
   ],
   "source": [
    "energy('aug-cc-pVQZ','CO',2.0)"
   ]
  },
  {
   "cell_type": "code",
   "execution_count": 33,
   "metadata": {},
   "outputs": [
    {
     "data": {
      "text/plain": [
       "array([1.62705876e-32, 1.52717154e-32, 1.36369928e-32, ...,\n",
       "       2.68291941e-41, 1.47103805e-41, 1.02691888e-41])"
      ]
     },
     "execution_count": 33,
     "metadata": {},
     "output_type": "execute_result"
    }
   ],
   "source": [
    "rho_tilda('CO','321G',2.0,0)-rho_tilda('CO','321G',2.0,1)"
   ]
  },
  {
   "cell_type": "markdown",
   "metadata": {},
   "source": [
    "# Tabular Data Format \n",
    "We want $E^{CCSD}, E_A \\ and \\  | \\Delta E| $ <br> \n",
    "for every  1)basis  set [8],   2)Geometry [20],   3)Ref [7],  4)Target [6]  5) Alchemy order 0-4 [5]  <br>\n",
    "8*20*7*6 *5 = 33600  Data Points"
   ]
  },
  {
   "cell_type": "code",
   "execution_count": 151,
   "metadata": {},
   "outputs": [
    {
     "data": {
      "text/plain": [
       "33600"
      ]
     },
     "execution_count": 151,
     "metadata": {},
     "output_type": "execute_result"
    }
   ],
   "source": [
    "8*20*7*6 *5"
   ]
  },
  {
   "cell_type": "code",
   "execution_count": 42,
   "metadata": {},
   "outputs": [],
   "source": [
    "import pandas as pd\n",
    "import pickle"
   ]
  },
  {
   "cell_type": "code",
   "execution_count": 69,
   "metadata": {},
   "outputs": [
    {
     "name": "stdout",
     "output_type": "stream",
     "text": [
      "['sto3G', 'sto6G', '321G', '631G*', 'def2-TZVP', 'def2-QZVPP', 'cc-pVTZ', 'aug-cc-pVQZ']\n",
      "['HAl', 'HeMg', 'LiNa', 'BeNe', 'BF', 'CO', 'NN']\n",
      "[1.3 1.4 1.5 1.6 1.7 1.8 1.9 2.  2.1 2.2 2.3 2.4 2.5 2.6 2.7 2.8 2.9 3.\n",
      " 3.1 3.2]\n"
     ]
    }
   ],
   "source": [
    "#the choices are among the following lists\n",
    "print (basisSets)\n",
    "print (molecules)\n",
    "print (points)"
   ]
  },
  {
   "cell_type": "code",
   "execution_count": 83,
   "metadata": {},
   "outputs": [
    {
     "name": "stdout",
     "output_type": "stream",
     "text": [
      "-113.171215583245   ___ reference energy\n",
      "-116.98073939276881   ___ added Nuc-Nuc\n",
      "-130.20683184563316   ___ 0th order \n",
      "-143.34917561531518   ___ 1st order \n",
      "-143.28433595344538   ___ 2nd order \n",
      "-143.0537067673999   ___ 3rd order \n",
      "-143.05734900793394   ___ 4th order \n"
     ]
    },
    {
     "data": {
      "text/plain": [
       "(-143.249341172668, -143.05734900793394)"
      ]
     },
     "execution_count": 83,
     "metadata": {},
     "output_type": "execute_result"
    }
   ],
   "source": [
    "## eg-predicting \n",
    "energy(basisSets[7],molecules[3],points[8]),alchem_predict(molecules[5],molecules[3],points[8],basisSets[7],4)"
   ]
  },
  {
   "cell_type": "code",
   "execution_count": 107,
   "metadata": {},
   "outputs": [],
   "source": [
    "def tab_line(bs,d,ref,targ,ao):\n",
    "    line={'Basis Set':bs,'Atoms distance':d,'Reference mol.':ref,'Target mol.':targ,'Alchemy exp.order':ao}\n",
    "    line.update({'E.ccsd':energy(bs,targ,d)})\n",
    "    line.update({'E.alch': alchem_predict(ref,targ,d,bs,ao)})\n",
    "    line.update ({'abs.err.':abs(line['E.ccsd']-line['E.alch'])})\n",
    "    return line"
   ]
  },
  {
   "cell_type": "code",
   "execution_count": 120,
   "metadata": {},
   "outputs": [
    {
     "name": "stdout",
     "output_type": "stream",
     "text": [
      "{'Basis Set': 'aug-cc-pVQZ', 'Atoms distance': 2.0, 'Reference mol.': 'BF', 'Target mol.': 'CO', 'Alchemy exp.order': 4, 'E.ccsd': -113.159782548132, 'E.alch': -113.12750367573994, 'abs.err.': 0.03227887239205529}\n",
      "CPU times: user 119 ms, sys: 69.4 ms, total: 189 ms\n",
      "Wall time: 198 ms\n"
     ]
    }
   ],
   "source": [
    "%time print(tab_line('aug-cc-pVQZ',2.0,'BF','CO',4))"
   ]
  },
  {
   "cell_type": "code",
   "execution_count": 114,
   "metadata": {},
   "outputs": [
    {
     "data": {
      "text/plain": [
       "True"
      ]
     },
     "execution_count": 114,
     "metadata": {},
     "output_type": "execute_result"
    }
   ],
   "source": [
    "molecules[2] != molecules[1]"
   ]
  },
  {
   "cell_type": "code",
   "execution_count": 144,
   "metadata": {},
   "outputs": [
    {
     "name": "stdout",
     "output_type": "stream",
     "text": [
      "HAl\n",
      "HeMg\n",
      "LiNa\n",
      "BeNe\n",
      "BF\n",
      "CO\n",
      "NN\n"
     ]
    }
   ],
   "source": [
    "tab_sto3g=[]\n",
    "#for bs in basisSets:\n",
    "bs='sto3G'\n",
    "for ref in molecules:\n",
    "    print (ref)\n",
    "    for targ in molecules:\n",
    "        if ref != targ:\n",
    "            for d in points:\n",
    "                for ao in range(5):\n",
    "                    tab_sto3g.append(tab_line(bs,d,ref,targ,ao))"
   ]
  },
  {
   "cell_type": "code",
   "execution_count": 149,
   "metadata": {},
   "outputs": [],
   "source": [
    "df_sto3G=pd.DataFrame(tab_sto3g)\n",
    "df_sto3G.to_pickle('./sto3G_data')"
   ]
  },
  {
   "cell_type": "code",
   "execution_count": 169,
   "metadata": {},
   "outputs": [
    {
     "data": {
      "text/plain": [
       "['sto3G',\n",
       " 'sto6G',\n",
       " '321G',\n",
       " '631G*',\n",
       " 'def2-TZVP',\n",
       " 'def2-QZVPP',\n",
       " 'cc-pVTZ',\n",
       " 'aug-cc-pVQZ']"
      ]
     },
     "execution_count": 169,
     "metadata": {},
     "output_type": "execute_result"
    }
   ],
   "source": [
    "x='buffalo'    \n",
    "exec(\"%s = %d\" % (x,2))\n",
    "buffalo\n",
    "basisSets"
   ]
  },
  {
   "cell_type": "code",
   "execution_count": 170,
   "metadata": {},
   "outputs": [
    {
     "name": "stdout",
     "output_type": "stream",
     "text": [
      "631G*-HAl\n",
      "631G*-HeMg\n",
      "631G*-LiNa\n",
      "631G*-BeNe\n",
      "631G*-BF\n",
      "631G*-CO\n",
      "631G*-NN\n",
      "def2-QZVPP-HAl\n",
      "def2-QZVPP-HeMg\n",
      "def2-QZVPP-LiNa\n",
      "def2-QZVPP-BeNe\n",
      "def2-QZVPP-BF\n",
      "def2-QZVPP-CO\n",
      "def2-QZVPP-NN\n",
      "cc-pVTZ-HAl\n",
      "cc-pVTZ-HeMg\n",
      "cc-pVTZ-LiNa\n",
      "cc-pVTZ-BeNe\n",
      "cc-pVTZ-BF\n",
      "cc-pVTZ-CO\n",
      "cc-pVTZ-NN\n",
      "aug-cc-pVQZ-HAl\n",
      "aug-cc-pVQZ-HeMg\n",
      "aug-cc-pVQZ-LiNa\n",
      "aug-cc-pVQZ-BeNe\n",
      "aug-cc-pVQZ-BF\n",
      "aug-cc-pVQZ-CO\n",
      "aug-cc-pVQZ-NN\n"
     ]
    }
   ],
   "source": [
    "bs='631G*'\n",
    "tab=[]\n",
    "for ref in molecules:\n",
    "    print (bs+'-'+ref)\n",
    "    for targ in molecules:\n",
    "        if ref != targ:\n",
    "            for d in points:\n",
    "                for ao in range(5):\n",
    "                    tab.append(tab_line(bs,d,ref,targ,ao))\n",
    "df_631G=pd.DataFrame(tab)\n",
    "df_631G.to_pickle('./631G_data')\n",
    "\n",
    "bs='def2-QZVPP'\n",
    "tab=[]\n",
    "for ref in molecules:\n",
    "    print (bs+'-'+ref)\n",
    "    for targ in molecules:\n",
    "        if ref != targ:\n",
    "            for d in points:\n",
    "                for ao in range(5):\n",
    "                    tab.append(tab_line(bs,d,ref,targ,ao))\n",
    "df_def2_QZVPP=pd.DataFrame(tab)\n",
    "df_def2_QZVPP.to_pickle('./def2-QZVPP_data')\n",
    "\n",
    "bs='cc-pVTZ'\n",
    "tab=[]\n",
    "for ref in molecules:\n",
    "    print (bs+'-'+ref)\n",
    "    for targ in molecules:\n",
    "        if ref != targ:\n",
    "            for d in points:\n",
    "                for ao in range(5):\n",
    "                    tab.append(tab_line(bs,d,ref,targ,ao))\n",
    "df_cc_pVTZ=pd.DataFrame(tab)\n",
    "df_cc_pVTZ.to_pickle('./cc-pVTZ_data')\n",
    "\n",
    "\n",
    "bs='aug-cc-pVQZ'\n",
    "tab=[]\n",
    "for ref in molecules:\n",
    "    print (bs+'-'+ref)\n",
    "    for targ in molecules:\n",
    "        if ref != targ:\n",
    "            for d in points:\n",
    "                for ao in range(5):\n",
    "                    tab.append(tab_line(bs,d,ref,targ,ao))\n",
    "df_aug_cc_pVQZ=pd.DataFrame(tab)\n",
    "df_aug_cc_pVQZ.to_pickle('./aug-cc-pVQZ_data')"
   ]
  },
  {
   "cell_type": "code",
   "execution_count": 172,
   "metadata": {},
   "outputs": [
    {
     "name": "stdout",
     "output_type": "stream",
     "text": [
      "def2-TZVP HAl HeMg 1.3\n",
      "def2-TZVP HAl HeMg 1.4000000000000001\n",
      "def2-TZVP HAl HeMg 1.5\n",
      "def2-TZVP HAl HeMg 1.6\n",
      "def2-TZVP HAl HeMg 1.7000000000000002\n",
      "def2-TZVP HAl HeMg 1.8\n",
      "def2-TZVP HAl HeMg 1.9000000000000001\n",
      "def2-TZVP HAl HeMg 2.0\n",
      "def2-TZVP HAl HeMg 2.1\n",
      "def2-TZVP HAl HeMg 2.2\n",
      "def2-TZVP HAl HeMg 2.3\n",
      "def2-TZVP HAl HeMg 2.4000000000000004\n",
      "def2-TZVP HAl HeMg 2.5\n",
      "def2-TZVP HAl HeMg 2.6\n",
      "def2-TZVP HAl HeMg 2.7\n",
      "def2-TZVP HAl HeMg 2.8\n",
      "def2-TZVP HAl HeMg 2.9000000000000004\n",
      "def2-TZVP HAl HeMg 3.0\n",
      "def2-TZVP HAl HeMg 3.1\n",
      "def2-TZVP HAl HeMg 3.2\n",
      "def2-TZVP HAl LiNa 1.3\n",
      "def2-TZVP HAl LiNa 1.4000000000000001\n",
      "def2-TZVP HAl LiNa 1.5\n",
      "def2-TZVP HAl LiNa 1.6\n",
      "def2-TZVP HAl LiNa 1.7000000000000002\n",
      "def2-TZVP HAl LiNa 1.8\n",
      "def2-TZVP HAl LiNa 1.9000000000000001\n",
      "def2-TZVP HAl LiNa 2.0\n",
      "def2-TZVP HAl LiNa 2.1\n",
      "def2-TZVP HAl LiNa 2.2\n",
      "def2-TZVP HAl LiNa 2.3\n",
      "def2-TZVP HAl LiNa 2.4000000000000004\n",
      "def2-TZVP HAl LiNa 2.5\n",
      "def2-TZVP HAl LiNa 2.6\n",
      "def2-TZVP HAl LiNa 2.7\n",
      "def2-TZVP HAl LiNa 2.8\n",
      "def2-TZVP HAl LiNa 2.9000000000000004\n",
      "def2-TZVP HAl LiNa 3.0\n",
      "def2-TZVP HAl LiNa 3.1\n",
      "def2-TZVP HAl LiNa 3.2\n",
      "def2-TZVP HAl BeNe 1.3\n",
      "def2-TZVP HAl BeNe 1.4000000000000001\n",
      "def2-TZVP HAl BeNe 1.5\n",
      "def2-TZVP HAl BeNe 1.6\n",
      "def2-TZVP HAl BeNe 1.7000000000000002\n",
      "def2-TZVP HAl BeNe 1.8\n",
      "def2-TZVP HAl BeNe 1.9000000000000001\n",
      "def2-TZVP HAl BeNe 2.0\n",
      "def2-TZVP HAl BeNe 2.1\n",
      "def2-TZVP HAl BeNe 2.2\n",
      "def2-TZVP HAl BeNe 2.3\n",
      "def2-TZVP HAl BeNe 2.4000000000000004\n",
      "def2-TZVP HAl BeNe 2.5\n",
      "def2-TZVP HAl BeNe 2.6\n",
      "def2-TZVP HAl BeNe 2.7\n",
      "def2-TZVP HAl BeNe 2.8\n",
      "def2-TZVP HAl BeNe 2.9000000000000004\n",
      "def2-TZVP HAl BeNe 3.0\n",
      "def2-TZVP HAl BeNe 3.1\n",
      "def2-TZVP HAl BeNe 3.2\n",
      "def2-TZVP HAl BF 1.3\n",
      "def2-TZVP HAl BF 1.4000000000000001\n",
      "def2-TZVP HAl BF 1.5\n",
      "def2-TZVP HAl BF 1.6\n",
      "def2-TZVP HAl BF 1.7000000000000002\n",
      "def2-TZVP HAl BF 1.8\n",
      "def2-TZVP HAl BF 1.9000000000000001\n",
      "def2-TZVP HAl BF 2.0\n",
      "def2-TZVP HAl BF 2.1\n",
      "def2-TZVP HAl BF 2.2\n",
      "def2-TZVP HAl BF 2.3\n",
      "def2-TZVP HAl BF 2.4000000000000004\n",
      "def2-TZVP HAl BF 2.5\n",
      "def2-TZVP HAl BF 2.6\n",
      "def2-TZVP HAl BF 2.7\n",
      "def2-TZVP HAl BF 2.8\n",
      "def2-TZVP HAl BF 2.9000000000000004\n",
      "def2-TZVP HAl BF 3.0\n",
      "def2-TZVP HAl BF 3.1\n",
      "def2-TZVP HAl BF 3.2\n",
      "def2-TZVP HAl CO 1.3\n",
      "def2-TZVP HAl CO 1.4000000000000001\n",
      "def2-TZVP HAl CO 1.5\n",
      "def2-TZVP HAl CO 1.6\n",
      "def2-TZVP HAl CO 1.7000000000000002\n",
      "def2-TZVP HAl CO 1.8\n",
      "def2-TZVP HAl CO 1.9000000000000001\n",
      "def2-TZVP HAl CO 2.0\n",
      "def2-TZVP HAl CO 2.1\n",
      "def2-TZVP HAl CO 2.2\n",
      "def2-TZVP HAl CO 2.3\n",
      "def2-TZVP HAl CO 2.4000000000000004\n",
      "def2-TZVP HAl CO 2.5\n",
      "def2-TZVP HAl CO 2.6\n",
      "def2-TZVP HAl CO 2.7\n",
      "def2-TZVP HAl CO 2.8\n",
      "def2-TZVP HAl CO 2.9000000000000004\n",
      "def2-TZVP HAl CO 3.0\n",
      "def2-TZVP HAl CO 3.1\n",
      "def2-TZVP HAl CO 3.2\n",
      "def2-TZVP HAl NN 1.3\n",
      "def2-TZVP HAl NN 1.4000000000000001\n",
      "def2-TZVP HAl NN 1.5\n",
      "def2-TZVP HAl NN 1.6\n",
      "def2-TZVP HAl NN 1.7000000000000002\n",
      "def2-TZVP HAl NN 1.8\n",
      "def2-TZVP HAl NN 1.9000000000000001\n",
      "def2-TZVP HAl NN 2.0\n",
      "def2-TZVP HAl NN 2.1\n",
      "def2-TZVP HAl NN 2.2\n",
      "def2-TZVP HAl NN 2.3\n",
      "def2-TZVP HAl NN 2.4000000000000004\n",
      "def2-TZVP HAl NN 2.5\n",
      "def2-TZVP HAl NN 2.6\n",
      "def2-TZVP HAl NN 2.7\n",
      "def2-TZVP HAl NN 2.8\n",
      "def2-TZVP HAl NN 2.9000000000000004\n",
      "def2-TZVP HAl NN 3.0\n",
      "def2-TZVP HAl NN 3.1\n",
      "def2-TZVP HAl NN 3.2\n",
      "def2-TZVP HeMg HAl 1.3\n",
      "def2-TZVP HeMg HAl 1.4000000000000001\n",
      "def2-TZVP HeMg HAl 1.5\n",
      "def2-TZVP HeMg HAl 1.6\n",
      "def2-TZVP HeMg HAl 1.7000000000000002\n",
      "def2-TZVP HeMg HAl 1.8\n",
      "def2-TZVP HeMg HAl 1.9000000000000001\n",
      "def2-TZVP HeMg HAl 2.0\n",
      "def2-TZVP HeMg HAl 2.1\n",
      "def2-TZVP HeMg HAl 2.2\n",
      "def2-TZVP HeMg HAl 2.3\n",
      "def2-TZVP HeMg HAl 2.4000000000000004\n",
      "def2-TZVP HeMg HAl 2.5\n",
      "def2-TZVP HeMg HAl 2.6\n",
      "def2-TZVP HeMg HAl 2.7\n",
      "def2-TZVP HeMg HAl 2.8\n",
      "def2-TZVP HeMg HAl 2.9000000000000004\n",
      "def2-TZVP HeMg HAl 3.0\n",
      "def2-TZVP HeMg HAl 3.1\n",
      "def2-TZVP HeMg HAl 3.2\n",
      "def2-TZVP HeMg LiNa 1.3\n",
      "def2-TZVP HeMg LiNa 1.4000000000000001\n",
      "def2-TZVP HeMg LiNa 1.5\n",
      "def2-TZVP HeMg LiNa 1.6\n",
      "def2-TZVP HeMg LiNa 1.7000000000000002\n",
      "def2-TZVP HeMg LiNa 1.8\n",
      "def2-TZVP HeMg LiNa 1.9000000000000001\n",
      "def2-TZVP HeMg LiNa 2.0\n",
      "def2-TZVP HeMg LiNa 2.1\n",
      "def2-TZVP HeMg LiNa 2.2\n",
      "def2-TZVP HeMg LiNa 2.3\n",
      "def2-TZVP HeMg LiNa 2.4000000000000004\n",
      "def2-TZVP HeMg LiNa 2.5\n",
      "def2-TZVP HeMg LiNa 2.6\n",
      "def2-TZVP HeMg LiNa 2.7\n",
      "def2-TZVP HeMg LiNa 2.8\n",
      "def2-TZVP HeMg LiNa 2.9000000000000004\n",
      "def2-TZVP HeMg LiNa 3.0\n",
      "def2-TZVP HeMg LiNa 3.1\n",
      "def2-TZVP HeMg LiNa 3.2\n",
      "def2-TZVP HeMg BeNe 1.3\n",
      "def2-TZVP HeMg BeNe 1.4000000000000001\n",
      "def2-TZVP HeMg BeNe 1.5\n",
      "def2-TZVP HeMg BeNe 1.6\n",
      "def2-TZVP HeMg BeNe 1.7000000000000002\n",
      "def2-TZVP HeMg BeNe 1.8\n",
      "def2-TZVP HeMg BeNe 1.9000000000000001\n",
      "def2-TZVP HeMg BeNe 2.0\n",
      "def2-TZVP HeMg BeNe 2.1\n",
      "def2-TZVP HeMg BeNe 2.2\n",
      "def2-TZVP HeMg BeNe 2.3\n",
      "def2-TZVP HeMg BeNe 2.4000000000000004\n",
      "def2-TZVP HeMg BeNe 2.5\n",
      "def2-TZVP HeMg BeNe 2.6\n",
      "def2-TZVP HeMg BeNe 2.7\n",
      "def2-TZVP HeMg BeNe 2.8\n",
      "def2-TZVP HeMg BeNe 2.9000000000000004\n",
      "def2-TZVP HeMg BeNe 3.0\n",
      "def2-TZVP HeMg BeNe 3.1\n",
      "def2-TZVP HeMg BeNe 3.2\n",
      "def2-TZVP HeMg BF 1.3\n",
      "def2-TZVP HeMg BF 1.4000000000000001\n",
      "def2-TZVP HeMg BF 1.5\n",
      "def2-TZVP HeMg BF 1.6\n",
      "def2-TZVP HeMg BF 1.7000000000000002\n",
      "def2-TZVP HeMg BF 1.8\n",
      "def2-TZVP HeMg BF 1.9000000000000001\n",
      "def2-TZVP HeMg BF 2.0\n",
      "def2-TZVP HeMg BF 2.1\n",
      "def2-TZVP HeMg BF 2.2\n",
      "def2-TZVP HeMg BF 2.3\n",
      "def2-TZVP HeMg BF 2.4000000000000004\n",
      "def2-TZVP HeMg BF 2.5\n",
      "def2-TZVP HeMg BF 2.6\n",
      "def2-TZVP HeMg BF 2.7\n",
      "def2-TZVP HeMg BF 2.8\n",
      "def2-TZVP HeMg BF 2.9000000000000004\n",
      "def2-TZVP HeMg BF 3.0\n",
      "def2-TZVP HeMg BF 3.1\n",
      "def2-TZVP HeMg BF 3.2\n",
      "def2-TZVP HeMg CO 1.3\n",
      "def2-TZVP HeMg CO 1.4000000000000001\n",
      "def2-TZVP HeMg CO 1.5\n",
      "def2-TZVP HeMg CO 1.6\n",
      "def2-TZVP HeMg CO 1.7000000000000002\n",
      "def2-TZVP HeMg CO 1.8\n",
      "def2-TZVP HeMg CO 1.9000000000000001\n",
      "def2-TZVP HeMg CO 2.0\n",
      "def2-TZVP HeMg CO 2.1\n",
      "def2-TZVP HeMg CO 2.2\n",
      "def2-TZVP HeMg CO 2.3\n",
      "def2-TZVP HeMg CO 2.4000000000000004\n",
      "def2-TZVP HeMg CO 2.5\n",
      "def2-TZVP HeMg CO 2.6\n",
      "def2-TZVP HeMg CO 2.7\n",
      "def2-TZVP HeMg CO 2.8\n",
      "def2-TZVP HeMg CO 2.9000000000000004\n",
      "def2-TZVP HeMg CO 3.0\n",
      "def2-TZVP HeMg CO 3.1\n",
      "def2-TZVP HeMg CO 3.2\n",
      "def2-TZVP HeMg NN 1.3\n",
      "def2-TZVP HeMg NN 1.4000000000000001\n",
      "def2-TZVP HeMg NN 1.5\n",
      "def2-TZVP HeMg NN 1.6\n",
      "def2-TZVP HeMg NN 1.7000000000000002\n",
      "def2-TZVP HeMg NN 1.8\n",
      "def2-TZVP HeMg NN 1.9000000000000001\n",
      "def2-TZVP HeMg NN 2.0\n",
      "def2-TZVP HeMg NN 2.1\n",
      "def2-TZVP HeMg NN 2.2\n",
      "def2-TZVP HeMg NN 2.3\n",
      "def2-TZVP HeMg NN 2.4000000000000004\n",
      "def2-TZVP HeMg NN 2.5\n",
      "def2-TZVP HeMg NN 2.6\n",
      "def2-TZVP HeMg NN 2.7\n",
      "def2-TZVP HeMg NN 2.8\n",
      "def2-TZVP HeMg NN 2.9000000000000004\n",
      "def2-TZVP HeMg NN 3.0\n",
      "def2-TZVP HeMg NN 3.1\n",
      "def2-TZVP HeMg NN 3.2\n",
      "def2-TZVP LiNa HAl 1.3\n",
      "def2-TZVP LiNa HAl 1.4000000000000001\n",
      "def2-TZVP LiNa HAl 1.5\n",
      "def2-TZVP LiNa HAl 1.6\n",
      "def2-TZVP LiNa HAl 1.7000000000000002\n",
      "def2-TZVP LiNa HAl 1.8\n",
      "def2-TZVP LiNa HAl 1.9000000000000001\n",
      "def2-TZVP LiNa HAl 2.0\n",
      "def2-TZVP LiNa HAl 2.1\n",
      "def2-TZVP LiNa HAl 2.2\n",
      "def2-TZVP LiNa HAl 2.3\n",
      "def2-TZVP LiNa HAl 2.4000000000000004\n",
      "def2-TZVP LiNa HAl 2.5\n",
      "def2-TZVP LiNa HAl 2.6\n",
      "def2-TZVP LiNa HAl 2.7\n",
      "def2-TZVP LiNa HAl 2.8\n",
      "def2-TZVP LiNa HAl 2.9000000000000004\n",
      "def2-TZVP LiNa HAl 3.0\n",
      "def2-TZVP LiNa HAl 3.1\n",
      "def2-TZVP LiNa HAl 3.2\n",
      "def2-TZVP LiNa HeMg 1.3\n",
      "def2-TZVP LiNa HeMg 1.4000000000000001\n",
      "def2-TZVP LiNa HeMg 1.5\n",
      "def2-TZVP LiNa HeMg 1.6\n",
      "def2-TZVP LiNa HeMg 1.7000000000000002\n",
      "def2-TZVP LiNa HeMg 1.8\n",
      "def2-TZVP LiNa HeMg 1.9000000000000001\n",
      "def2-TZVP LiNa HeMg 2.0\n",
      "def2-TZVP LiNa HeMg 2.1\n",
      "def2-TZVP LiNa HeMg 2.2\n",
      "def2-TZVP LiNa HeMg 2.3\n",
      "def2-TZVP LiNa HeMg 2.4000000000000004\n",
      "def2-TZVP LiNa HeMg 2.5\n",
      "def2-TZVP LiNa HeMg 2.6\n",
      "def2-TZVP LiNa HeMg 2.7\n",
      "def2-TZVP LiNa HeMg 2.8\n",
      "def2-TZVP LiNa HeMg 2.9000000000000004\n",
      "def2-TZVP LiNa HeMg 3.0\n",
      "def2-TZVP LiNa HeMg 3.1\n",
      "def2-TZVP LiNa HeMg 3.2\n",
      "def2-TZVP LiNa BeNe 1.3\n",
      "def2-TZVP LiNa BeNe 1.4000000000000001\n",
      "def2-TZVP LiNa BeNe 1.5\n",
      "def2-TZVP LiNa BeNe 1.6\n",
      "def2-TZVP LiNa BeNe 1.7000000000000002\n",
      "def2-TZVP LiNa BeNe 1.8\n",
      "def2-TZVP LiNa BeNe 1.9000000000000001\n",
      "def2-TZVP LiNa BeNe 2.0\n",
      "def2-TZVP LiNa BeNe 2.1\n",
      "def2-TZVP LiNa BeNe 2.2\n",
      "def2-TZVP LiNa BeNe 2.3\n",
      "def2-TZVP LiNa BeNe 2.4000000000000004\n",
      "def2-TZVP LiNa BeNe 2.5\n",
      "def2-TZVP LiNa BeNe 2.6\n",
      "def2-TZVP LiNa BeNe 2.7\n",
      "def2-TZVP LiNa BeNe 2.8\n",
      "def2-TZVP LiNa BeNe 2.9000000000000004\n",
      "def2-TZVP LiNa BeNe 3.0\n",
      "def2-TZVP LiNa BeNe 3.1\n",
      "def2-TZVP LiNa BeNe 3.2\n",
      "def2-TZVP LiNa BF 1.3\n",
      "def2-TZVP LiNa BF 1.4000000000000001\n",
      "def2-TZVP LiNa BF 1.5\n",
      "def2-TZVP LiNa BF 1.6\n",
      "def2-TZVP LiNa BF 1.7000000000000002\n",
      "def2-TZVP LiNa BF 1.8\n",
      "def2-TZVP LiNa BF 1.9000000000000001\n",
      "def2-TZVP LiNa BF 2.0\n",
      "def2-TZVP LiNa BF 2.1\n",
      "def2-TZVP LiNa BF 2.2\n"
     ]
    },
    {
     "name": "stdout",
     "output_type": "stream",
     "text": [
      "def2-TZVP LiNa BF 2.3\n",
      "def2-TZVP LiNa BF 2.4000000000000004\n",
      "def2-TZVP LiNa BF 2.5\n",
      "def2-TZVP LiNa BF 2.6\n",
      "def2-TZVP LiNa BF 2.7\n",
      "def2-TZVP LiNa BF 2.8\n",
      "def2-TZVP LiNa BF 2.9000000000000004\n",
      "def2-TZVP LiNa BF 3.0\n",
      "def2-TZVP LiNa BF 3.1\n",
      "def2-TZVP LiNa BF 3.2\n",
      "def2-TZVP LiNa CO 1.3\n",
      "def2-TZVP LiNa CO 1.4000000000000001\n",
      "def2-TZVP LiNa CO 1.5\n",
      "def2-TZVP LiNa CO 1.6\n",
      "def2-TZVP LiNa CO 1.7000000000000002\n",
      "def2-TZVP LiNa CO 1.8\n",
      "def2-TZVP LiNa CO 1.9000000000000001\n",
      "def2-TZVP LiNa CO 2.0\n",
      "def2-TZVP LiNa CO 2.1\n",
      "def2-TZVP LiNa CO 2.2\n",
      "def2-TZVP LiNa CO 2.3\n",
      "def2-TZVP LiNa CO 2.4000000000000004\n",
      "def2-TZVP LiNa CO 2.5\n",
      "def2-TZVP LiNa CO 2.6\n",
      "def2-TZVP LiNa CO 2.7\n",
      "def2-TZVP LiNa CO 2.8\n",
      "def2-TZVP LiNa CO 2.9000000000000004\n",
      "def2-TZVP LiNa CO 3.0\n",
      "def2-TZVP LiNa CO 3.1\n",
      "def2-TZVP LiNa CO 3.2\n",
      "def2-TZVP LiNa NN 1.3\n",
      "def2-TZVP LiNa NN 1.4000000000000001\n",
      "def2-TZVP LiNa NN 1.5\n",
      "def2-TZVP LiNa NN 1.6\n",
      "def2-TZVP LiNa NN 1.7000000000000002\n",
      "def2-TZVP LiNa NN 1.8\n",
      "def2-TZVP LiNa NN 1.9000000000000001\n",
      "def2-TZVP LiNa NN 2.0\n",
      "def2-TZVP LiNa NN 2.1\n",
      "def2-TZVP LiNa NN 2.2\n",
      "def2-TZVP LiNa NN 2.3\n",
      "def2-TZVP LiNa NN 2.4000000000000004\n",
      "def2-TZVP LiNa NN 2.5\n",
      "def2-TZVP LiNa NN 2.6\n",
      "def2-TZVP LiNa NN 2.7\n",
      "def2-TZVP LiNa NN 2.8\n",
      "def2-TZVP LiNa NN 2.9000000000000004\n",
      "def2-TZVP LiNa NN 3.0\n",
      "def2-TZVP LiNa NN 3.1\n",
      "def2-TZVP LiNa NN 3.2\n",
      "def2-TZVP BeNe HAl 1.3\n",
      "def2-TZVP BeNe HAl 1.4000000000000001\n",
      "def2-TZVP BeNe HAl 1.5\n",
      "def2-TZVP BeNe HAl 1.6\n",
      "def2-TZVP BeNe HAl 1.7000000000000002\n",
      "def2-TZVP BeNe HAl 1.8\n",
      "def2-TZVP BeNe HAl 1.9000000000000001\n",
      "def2-TZVP BeNe HAl 2.0\n",
      "def2-TZVP BeNe HAl 2.1\n",
      "def2-TZVP BeNe HAl 2.2\n",
      "def2-TZVP BeNe HAl 2.3\n",
      "def2-TZVP BeNe HAl 2.4000000000000004\n",
      "def2-TZVP BeNe HAl 2.5\n",
      "def2-TZVP BeNe HAl 2.6\n",
      "def2-TZVP BeNe HAl 2.7\n",
      "def2-TZVP BeNe HAl 2.8\n",
      "def2-TZVP BeNe HAl 2.9000000000000004\n",
      "def2-TZVP BeNe HAl 3.0\n",
      "def2-TZVP BeNe HAl 3.1\n",
      "def2-TZVP BeNe HAl 3.2\n",
      "def2-TZVP BeNe HeMg 1.3\n",
      "def2-TZVP BeNe HeMg 1.4000000000000001\n",
      "def2-TZVP BeNe HeMg 1.5\n",
      "def2-TZVP BeNe HeMg 1.6\n",
      "def2-TZVP BeNe HeMg 1.7000000000000002\n",
      "def2-TZVP BeNe HeMg 1.8\n",
      "def2-TZVP BeNe HeMg 1.9000000000000001\n",
      "def2-TZVP BeNe HeMg 2.0\n",
      "def2-TZVP BeNe HeMg 2.1\n",
      "def2-TZVP BeNe HeMg 2.2\n",
      "def2-TZVP BeNe HeMg 2.3\n",
      "def2-TZVP BeNe HeMg 2.4000000000000004\n",
      "def2-TZVP BeNe HeMg 2.5\n",
      "def2-TZVP BeNe HeMg 2.6\n",
      "def2-TZVP BeNe HeMg 2.7\n",
      "def2-TZVP BeNe HeMg 2.8\n",
      "def2-TZVP BeNe HeMg 2.9000000000000004\n",
      "def2-TZVP BeNe HeMg 3.0\n",
      "def2-TZVP BeNe HeMg 3.1\n",
      "def2-TZVP BeNe HeMg 3.2\n",
      "def2-TZVP BeNe LiNa 1.3\n",
      "def2-TZVP BeNe LiNa 1.4000000000000001\n",
      "def2-TZVP BeNe LiNa 1.5\n",
      "def2-TZVP BeNe LiNa 1.6\n",
      "def2-TZVP BeNe LiNa 1.7000000000000002\n",
      "def2-TZVP BeNe LiNa 1.8\n",
      "def2-TZVP BeNe LiNa 1.9000000000000001\n",
      "def2-TZVP BeNe LiNa 2.0\n",
      "def2-TZVP BeNe LiNa 2.1\n",
      "def2-TZVP BeNe LiNa 2.2\n",
      "def2-TZVP BeNe LiNa 2.3\n",
      "def2-TZVP BeNe LiNa 2.4000000000000004\n",
      "def2-TZVP BeNe LiNa 2.5\n",
      "def2-TZVP BeNe LiNa 2.6\n",
      "def2-TZVP BeNe LiNa 2.7\n",
      "def2-TZVP BeNe LiNa 2.8\n",
      "def2-TZVP BeNe LiNa 2.9000000000000004\n",
      "def2-TZVP BeNe LiNa 3.0\n",
      "def2-TZVP BeNe LiNa 3.1\n",
      "def2-TZVP BeNe LiNa 3.2\n",
      "def2-TZVP BeNe BF 1.3\n",
      "def2-TZVP BeNe BF 1.4000000000000001\n",
      "def2-TZVP BeNe BF 1.5\n",
      "def2-TZVP BeNe BF 1.6\n",
      "def2-TZVP BeNe BF 1.7000000000000002\n",
      "def2-TZVP BeNe BF 1.8\n",
      "def2-TZVP BeNe BF 1.9000000000000001\n",
      "def2-TZVP BeNe BF 2.0\n",
      "def2-TZVP BeNe BF 2.1\n",
      "def2-TZVP BeNe BF 2.2\n",
      "def2-TZVP BeNe BF 2.3\n",
      "def2-TZVP BeNe BF 2.4000000000000004\n",
      "def2-TZVP BeNe BF 2.5\n",
      "def2-TZVP BeNe BF 2.6\n",
      "def2-TZVP BeNe BF 2.7\n",
      "def2-TZVP BeNe BF 2.8\n",
      "def2-TZVP BeNe BF 2.9000000000000004\n",
      "def2-TZVP BeNe BF 3.0\n",
      "def2-TZVP BeNe BF 3.1\n",
      "def2-TZVP BeNe BF 3.2\n",
      "def2-TZVP BeNe CO 1.3\n",
      "def2-TZVP BeNe CO 1.4000000000000001\n",
      "def2-TZVP BeNe CO 1.5\n",
      "def2-TZVP BeNe CO 1.6\n",
      "def2-TZVP BeNe CO 1.7000000000000002\n",
      "def2-TZVP BeNe CO 1.8\n",
      "def2-TZVP BeNe CO 1.9000000000000001\n",
      "def2-TZVP BeNe CO 2.0\n",
      "def2-TZVP BeNe CO 2.1\n",
      "def2-TZVP BeNe CO 2.2\n",
      "def2-TZVP BeNe CO 2.3\n",
      "def2-TZVP BeNe CO 2.4000000000000004\n",
      "def2-TZVP BeNe CO 2.5\n",
      "def2-TZVP BeNe CO 2.6\n",
      "def2-TZVP BeNe CO 2.7\n",
      "def2-TZVP BeNe CO 2.8\n",
      "def2-TZVP BeNe CO 2.9000000000000004\n",
      "def2-TZVP BeNe CO 3.0\n",
      "def2-TZVP BeNe CO 3.1\n",
      "def2-TZVP BeNe CO 3.2\n",
      "def2-TZVP BeNe NN 1.3\n",
      "def2-TZVP BeNe NN 1.4000000000000001\n",
      "def2-TZVP BeNe NN 1.5\n",
      "def2-TZVP BeNe NN 1.6\n",
      "def2-TZVP BeNe NN 1.7000000000000002\n",
      "def2-TZVP BeNe NN 1.8\n",
      "def2-TZVP BeNe NN 1.9000000000000001\n",
      "def2-TZVP BeNe NN 2.0\n",
      "def2-TZVP BeNe NN 2.1\n",
      "def2-TZVP BeNe NN 2.2\n",
      "def2-TZVP BeNe NN 2.3\n",
      "def2-TZVP BeNe NN 2.4000000000000004\n",
      "def2-TZVP BeNe NN 2.5\n",
      "def2-TZVP BeNe NN 2.6\n",
      "def2-TZVP BeNe NN 2.7\n",
      "def2-TZVP BeNe NN 2.8\n",
      "def2-TZVP BeNe NN 2.9000000000000004\n",
      "def2-TZVP BeNe NN 3.0\n",
      "def2-TZVP BeNe NN 3.1\n",
      "def2-TZVP BeNe NN 3.2\n",
      "def2-TZVP BF HAl 1.3\n",
      "def2-TZVP BF HAl 1.4000000000000001\n",
      "def2-TZVP BF HAl 1.5\n",
      "def2-TZVP BF HAl 1.6\n",
      "def2-TZVP BF HAl 1.7000000000000002\n",
      "def2-TZVP BF HAl 1.8\n",
      "def2-TZVP BF HAl 1.9000000000000001\n",
      "def2-TZVP BF HAl 2.0\n",
      "def2-TZVP BF HAl 2.1\n",
      "def2-TZVP BF HAl 2.2\n",
      "def2-TZVP BF HAl 2.3\n",
      "def2-TZVP BF HAl 2.4000000000000004\n",
      "def2-TZVP BF HAl 2.5\n",
      "def2-TZVP BF HAl 2.6\n",
      "def2-TZVP BF HAl 2.7\n",
      "def2-TZVP BF HAl 2.8\n",
      "def2-TZVP BF HAl 2.9000000000000004\n",
      "def2-TZVP BF HAl 3.0\n",
      "def2-TZVP BF HAl 3.1\n",
      "def2-TZVP BF HAl 3.2\n",
      "def2-TZVP BF HeMg 1.3\n",
      "def2-TZVP BF HeMg 1.4000000000000001\n",
      "def2-TZVP BF HeMg 1.5\n",
      "def2-TZVP BF HeMg 1.6\n",
      "def2-TZVP BF HeMg 1.7000000000000002\n",
      "def2-TZVP BF HeMg 1.8\n",
      "def2-TZVP BF HeMg 1.9000000000000001\n",
      "def2-TZVP BF HeMg 2.0\n",
      "def2-TZVP BF HeMg 2.1\n",
      "def2-TZVP BF HeMg 2.2\n",
      "def2-TZVP BF HeMg 2.3\n",
      "def2-TZVP BF HeMg 2.4000000000000004\n",
      "def2-TZVP BF HeMg 2.5\n",
      "def2-TZVP BF HeMg 2.6\n",
      "def2-TZVP BF HeMg 2.7\n",
      "def2-TZVP BF HeMg 2.8\n",
      "def2-TZVP BF HeMg 2.9000000000000004\n",
      "def2-TZVP BF HeMg 3.0\n",
      "def2-TZVP BF HeMg 3.1\n",
      "def2-TZVP BF HeMg 3.2\n",
      "def2-TZVP BF LiNa 1.3\n",
      "def2-TZVP BF LiNa 1.4000000000000001\n",
      "def2-TZVP BF LiNa 1.5\n",
      "def2-TZVP BF LiNa 1.6\n",
      "def2-TZVP BF LiNa 1.7000000000000002\n",
      "def2-TZVP BF LiNa 1.8\n",
      "def2-TZVP BF LiNa 1.9000000000000001\n",
      "def2-TZVP BF LiNa 2.0\n",
      "def2-TZVP BF LiNa 2.1\n",
      "def2-TZVP BF LiNa 2.2\n",
      "def2-TZVP BF LiNa 2.3\n",
      "def2-TZVP BF LiNa 2.4000000000000004\n",
      "def2-TZVP BF LiNa 2.5\n",
      "def2-TZVP BF LiNa 2.6\n",
      "def2-TZVP BF LiNa 2.7\n",
      "def2-TZVP BF LiNa 2.8\n",
      "def2-TZVP BF LiNa 2.9000000000000004\n",
      "def2-TZVP BF LiNa 3.0\n",
      "def2-TZVP BF LiNa 3.1\n",
      "def2-TZVP BF LiNa 3.2\n",
      "def2-TZVP BF BeNe 1.3\n",
      "def2-TZVP BF BeNe 1.4000000000000001\n",
      "def2-TZVP BF BeNe 1.5\n",
      "def2-TZVP BF BeNe 1.6\n",
      "def2-TZVP BF BeNe 1.7000000000000002\n",
      "def2-TZVP BF BeNe 1.8\n",
      "def2-TZVP BF BeNe 1.9000000000000001\n",
      "def2-TZVP BF BeNe 2.0\n",
      "def2-TZVP BF BeNe 2.1\n",
      "def2-TZVP BF BeNe 2.2\n",
      "def2-TZVP BF BeNe 2.3\n",
      "def2-TZVP BF BeNe 2.4000000000000004\n",
      "def2-TZVP BF BeNe 2.5\n",
      "def2-TZVP BF BeNe 2.6\n",
      "def2-TZVP BF BeNe 2.7\n",
      "def2-TZVP BF BeNe 2.8\n",
      "def2-TZVP BF BeNe 2.9000000000000004\n",
      "def2-TZVP BF BeNe 3.0\n",
      "def2-TZVP BF BeNe 3.1\n",
      "def2-TZVP BF BeNe 3.2\n",
      "def2-TZVP BF CO 1.3\n",
      "def2-TZVP BF CO 1.4000000000000001\n",
      "def2-TZVP BF CO 1.5\n",
      "def2-TZVP BF CO 1.6\n",
      "def2-TZVP BF CO 1.7000000000000002\n",
      "def2-TZVP BF CO 1.8\n",
      "def2-TZVP BF CO 1.9000000000000001\n",
      "def2-TZVP BF CO 2.0\n",
      "def2-TZVP BF CO 2.1\n",
      "def2-TZVP BF CO 2.2\n",
      "def2-TZVP BF CO 2.3\n",
      "def2-TZVP BF CO 2.4000000000000004\n",
      "def2-TZVP BF CO 2.5\n",
      "def2-TZVP BF CO 2.6\n",
      "def2-TZVP BF CO 2.7\n",
      "def2-TZVP BF CO 2.8\n",
      "def2-TZVP BF CO 2.9000000000000004\n",
      "def2-TZVP BF CO 3.0\n",
      "def2-TZVP BF CO 3.1\n",
      "def2-TZVP BF CO 3.2\n",
      "def2-TZVP BF NN 1.3\n",
      "def2-TZVP BF NN 1.4000000000000001\n",
      "def2-TZVP BF NN 1.5\n",
      "def2-TZVP BF NN 1.6\n",
      "def2-TZVP BF NN 1.7000000000000002\n",
      "def2-TZVP BF NN 1.8\n",
      "def2-TZVP BF NN 1.9000000000000001\n",
      "def2-TZVP BF NN 2.0\n",
      "def2-TZVP BF NN 2.1\n",
      "def2-TZVP BF NN 2.2\n",
      "def2-TZVP BF NN 2.3\n",
      "def2-TZVP BF NN 2.4000000000000004\n",
      "def2-TZVP BF NN 2.5\n",
      "def2-TZVP BF NN 2.6\n",
      "def2-TZVP BF NN 2.7\n",
      "def2-TZVP BF NN 2.8\n",
      "def2-TZVP BF NN 2.9000000000000004\n",
      "def2-TZVP BF NN 3.0\n",
      "def2-TZVP BF NN 3.1\n",
      "def2-TZVP BF NN 3.2\n",
      "def2-TZVP CO HAl 1.3\n",
      "def2-TZVP CO HAl 1.4000000000000001\n",
      "def2-TZVP CO HAl 1.5\n",
      "def2-TZVP CO HAl 1.6\n",
      "def2-TZVP CO HAl 1.7000000000000002\n",
      "def2-TZVP CO HAl 1.8\n",
      "def2-TZVP CO HAl 1.9000000000000001\n",
      "def2-TZVP CO HAl 2.0\n",
      "def2-TZVP CO HAl 2.1\n",
      "def2-TZVP CO HAl 2.2\n",
      "def2-TZVP CO HAl 2.3\n",
      "def2-TZVP CO HAl 2.4000000000000004\n",
      "def2-TZVP CO HAl 2.5\n",
      "def2-TZVP CO HAl 2.6\n",
      "def2-TZVP CO HAl 2.7\n",
      "def2-TZVP CO HAl 2.8\n",
      "def2-TZVP CO HAl 2.9000000000000004\n",
      "def2-TZVP CO HAl 3.0\n",
      "def2-TZVP CO HAl 3.1\n",
      "def2-TZVP CO HAl 3.2\n",
      "def2-TZVP CO HeMg 1.3\n",
      "def2-TZVP CO HeMg 1.4000000000000001\n",
      "def2-TZVP CO HeMg 1.5\n",
      "def2-TZVP CO HeMg 1.6\n",
      "def2-TZVP CO HeMg 1.7000000000000002\n",
      "def2-TZVP CO HeMg 1.8\n",
      "def2-TZVP CO HeMg 1.9000000000000001\n",
      "def2-TZVP CO HeMg 2.0\n"
     ]
    },
    {
     "name": "stdout",
     "output_type": "stream",
     "text": [
      "def2-TZVP CO HeMg 2.1\n",
      "def2-TZVP CO HeMg 2.2\n",
      "def2-TZVP CO HeMg 2.3\n",
      "def2-TZVP CO HeMg 2.4000000000000004\n",
      "def2-TZVP CO HeMg 2.5\n",
      "def2-TZVP CO HeMg 2.6\n",
      "def2-TZVP CO HeMg 2.7\n",
      "def2-TZVP CO HeMg 2.8\n",
      "def2-TZVP CO HeMg 2.9000000000000004\n",
      "def2-TZVP CO HeMg 3.0\n",
      "def2-TZVP CO HeMg 3.1\n",
      "def2-TZVP CO HeMg 3.2\n",
      "def2-TZVP CO LiNa 1.3\n",
      "def2-TZVP CO LiNa 1.4000000000000001\n",
      "def2-TZVP CO LiNa 1.5\n",
      "def2-TZVP CO LiNa 1.6\n",
      "def2-TZVP CO LiNa 1.7000000000000002\n",
      "def2-TZVP CO LiNa 1.8\n",
      "def2-TZVP CO LiNa 1.9000000000000001\n",
      "def2-TZVP CO LiNa 2.0\n",
      "def2-TZVP CO LiNa 2.1\n",
      "def2-TZVP CO LiNa 2.2\n",
      "def2-TZVP CO LiNa 2.3\n",
      "def2-TZVP CO LiNa 2.4000000000000004\n",
      "def2-TZVP CO LiNa 2.5\n",
      "def2-TZVP CO LiNa 2.6\n",
      "def2-TZVP CO LiNa 2.7\n",
      "def2-TZVP CO LiNa 2.8\n",
      "def2-TZVP CO LiNa 2.9000000000000004\n",
      "def2-TZVP CO LiNa 3.0\n",
      "def2-TZVP CO LiNa 3.1\n",
      "def2-TZVP CO LiNa 3.2\n",
      "def2-TZVP CO BeNe 1.3\n",
      "def2-TZVP CO BeNe 1.4000000000000001\n",
      "def2-TZVP CO BeNe 1.5\n",
      "def2-TZVP CO BeNe 1.6\n",
      "def2-TZVP CO BeNe 1.7000000000000002\n",
      "def2-TZVP CO BeNe 1.8\n",
      "def2-TZVP CO BeNe 1.9000000000000001\n",
      "def2-TZVP CO BeNe 2.0\n",
      "def2-TZVP CO BeNe 2.1\n",
      "def2-TZVP CO BeNe 2.2\n",
      "def2-TZVP CO BeNe 2.3\n",
      "def2-TZVP CO BeNe 2.4000000000000004\n",
      "def2-TZVP CO BeNe 2.5\n",
      "def2-TZVP CO BeNe 2.6\n",
      "def2-TZVP CO BeNe 2.7\n",
      "def2-TZVP CO BeNe 2.8\n",
      "def2-TZVP CO BeNe 2.9000000000000004\n",
      "def2-TZVP CO BeNe 3.0\n",
      "def2-TZVP CO BeNe 3.1\n",
      "def2-TZVP CO BeNe 3.2\n",
      "def2-TZVP CO BF 1.3\n",
      "def2-TZVP CO BF 1.4000000000000001\n",
      "def2-TZVP CO BF 1.5\n",
      "def2-TZVP CO BF 1.6\n",
      "def2-TZVP CO BF 1.7000000000000002\n",
      "def2-TZVP CO BF 1.8\n",
      "def2-TZVP CO BF 1.9000000000000001\n",
      "def2-TZVP CO BF 2.0\n",
      "def2-TZVP CO BF 2.1\n",
      "def2-TZVP CO BF 2.2\n",
      "def2-TZVP CO BF 2.3\n",
      "def2-TZVP CO BF 2.4000000000000004\n",
      "def2-TZVP CO BF 2.5\n",
      "def2-TZVP CO BF 2.6\n",
      "def2-TZVP CO BF 2.7\n",
      "def2-TZVP CO BF 2.8\n",
      "def2-TZVP CO BF 2.9000000000000004\n",
      "def2-TZVP CO BF 3.0\n",
      "def2-TZVP CO BF 3.1\n",
      "def2-TZVP CO BF 3.2\n",
      "def2-TZVP CO NN 1.3\n",
      "def2-TZVP CO NN 1.4000000000000001\n",
      "def2-TZVP CO NN 1.5\n",
      "def2-TZVP CO NN 1.6\n",
      "def2-TZVP CO NN 1.7000000000000002\n",
      "def2-TZVP CO NN 1.8\n",
      "def2-TZVP CO NN 1.9000000000000001\n",
      "def2-TZVP CO NN 2.0\n",
      "def2-TZVP CO NN 2.1\n",
      "def2-TZVP CO NN 2.2\n",
      "def2-TZVP CO NN 2.3\n",
      "def2-TZVP CO NN 2.4000000000000004\n",
      "def2-TZVP CO NN 2.5\n",
      "def2-TZVP CO NN 2.6\n",
      "def2-TZVP CO NN 2.7\n",
      "def2-TZVP CO NN 2.8\n",
      "def2-TZVP CO NN 2.9000000000000004\n",
      "def2-TZVP CO NN 3.0\n",
      "def2-TZVP CO NN 3.1\n",
      "def2-TZVP CO NN 3.2\n",
      "def2-TZVP NN HAl 1.3\n",
      "def2-TZVP NN HAl 1.4000000000000001\n",
      "def2-TZVP NN HAl 1.5\n",
      "def2-TZVP NN HAl 1.6\n",
      "def2-TZVP NN HAl 1.7000000000000002\n",
      "def2-TZVP NN HAl 1.8\n",
      "def2-TZVP NN HAl 1.9000000000000001\n",
      "def2-TZVP NN HAl 2.0\n",
      "def2-TZVP NN HAl 2.1\n",
      "def2-TZVP NN HAl 2.2\n",
      "def2-TZVP NN HAl 2.3\n",
      "def2-TZVP NN HAl 2.4000000000000004\n",
      "def2-TZVP NN HAl 2.5\n",
      "def2-TZVP NN HAl 2.6\n",
      "def2-TZVP NN HAl 2.7\n",
      "def2-TZVP NN HAl 2.8\n",
      "def2-TZVP NN HAl 2.9000000000000004\n",
      "def2-TZVP NN HAl 3.0\n",
      "def2-TZVP NN HAl 3.1\n",
      "def2-TZVP NN HAl 3.2\n",
      "def2-TZVP NN HeMg 1.3\n",
      "def2-TZVP NN HeMg 1.4000000000000001\n",
      "def2-TZVP NN HeMg 1.5\n",
      "def2-TZVP NN HeMg 1.6\n",
      "def2-TZVP NN HeMg 1.7000000000000002\n",
      "def2-TZVP NN HeMg 1.8\n",
      "def2-TZVP NN HeMg 1.9000000000000001\n",
      "def2-TZVP NN HeMg 2.0\n",
      "def2-TZVP NN HeMg 2.1\n",
      "def2-TZVP NN HeMg 2.2\n",
      "def2-TZVP NN HeMg 2.3\n",
      "def2-TZVP NN HeMg 2.4000000000000004\n",
      "def2-TZVP NN HeMg 2.5\n",
      "def2-TZVP NN HeMg 2.6\n",
      "def2-TZVP NN HeMg 2.7\n",
      "def2-TZVP NN HeMg 2.8\n",
      "def2-TZVP NN HeMg 2.9000000000000004\n",
      "def2-TZVP NN HeMg 3.0\n",
      "def2-TZVP NN HeMg 3.1\n",
      "def2-TZVP NN HeMg 3.2\n",
      "def2-TZVP NN LiNa 1.3\n",
      "def2-TZVP NN LiNa 1.4000000000000001\n",
      "def2-TZVP NN LiNa 1.5\n",
      "def2-TZVP NN LiNa 1.6\n",
      "def2-TZVP NN LiNa 1.7000000000000002\n",
      "def2-TZVP NN LiNa 1.8\n",
      "def2-TZVP NN LiNa 1.9000000000000001\n",
      "def2-TZVP NN LiNa 2.0\n",
      "def2-TZVP NN LiNa 2.1\n",
      "def2-TZVP NN LiNa 2.2\n",
      "def2-TZVP NN LiNa 2.3\n",
      "def2-TZVP NN LiNa 2.4000000000000004\n",
      "def2-TZVP NN LiNa 2.5\n",
      "def2-TZVP NN LiNa 2.6\n",
      "def2-TZVP NN LiNa 2.7\n",
      "def2-TZVP NN LiNa 2.8\n",
      "def2-TZVP NN LiNa 2.9000000000000004\n",
      "def2-TZVP NN LiNa 3.0\n",
      "def2-TZVP NN LiNa 3.1\n",
      "def2-TZVP NN LiNa 3.2\n",
      "def2-TZVP NN BeNe 1.3\n",
      "def2-TZVP NN BeNe 1.4000000000000001\n",
      "def2-TZVP NN BeNe 1.5\n",
      "def2-TZVP NN BeNe 1.6\n",
      "def2-TZVP NN BeNe 1.7000000000000002\n",
      "def2-TZVP NN BeNe 1.8\n",
      "def2-TZVP NN BeNe 1.9000000000000001\n",
      "def2-TZVP NN BeNe 2.0\n",
      "def2-TZVP NN BeNe 2.1\n",
      "def2-TZVP NN BeNe 2.2\n",
      "def2-TZVP NN BeNe 2.3\n",
      "def2-TZVP NN BeNe 2.4000000000000004\n",
      "def2-TZVP NN BeNe 2.5\n",
      "def2-TZVP NN BeNe 2.6\n",
      "def2-TZVP NN BeNe 2.7\n",
      "def2-TZVP NN BeNe 2.8\n",
      "def2-TZVP NN BeNe 2.9000000000000004\n",
      "def2-TZVP NN BeNe 3.0\n",
      "def2-TZVP NN BeNe 3.1\n",
      "def2-TZVP NN BeNe 3.2\n",
      "def2-TZVP NN BF 1.3\n",
      "def2-TZVP NN BF 1.4000000000000001\n",
      "def2-TZVP NN BF 1.5\n",
      "def2-TZVP NN BF 1.6\n",
      "def2-TZVP NN BF 1.7000000000000002\n",
      "def2-TZVP NN BF 1.8\n",
      "def2-TZVP NN BF 1.9000000000000001\n",
      "def2-TZVP NN BF 2.0\n",
      "def2-TZVP NN BF 2.1\n",
      "def2-TZVP NN BF 2.2\n",
      "def2-TZVP NN BF 2.3\n",
      "def2-TZVP NN BF 2.4000000000000004\n",
      "def2-TZVP NN BF 2.5\n",
      "def2-TZVP NN BF 2.6\n",
      "def2-TZVP NN BF 2.7\n",
      "def2-TZVP NN BF 2.8\n",
      "def2-TZVP NN BF 2.9000000000000004\n",
      "def2-TZVP NN BF 3.0\n",
      "def2-TZVP NN BF 3.1\n",
      "def2-TZVP NN BF 3.2\n",
      "def2-TZVP NN CO 1.3\n",
      "def2-TZVP NN CO 1.4000000000000001\n",
      "def2-TZVP NN CO 1.5\n",
      "def2-TZVP NN CO 1.6\n",
      "def2-TZVP NN CO 1.7000000000000002\n",
      "def2-TZVP NN CO 1.8\n",
      "def2-TZVP NN CO 1.9000000000000001\n",
      "def2-TZVP NN CO 2.0\n",
      "def2-TZVP NN CO 2.1\n",
      "def2-TZVP NN CO 2.2\n",
      "def2-TZVP NN CO 2.3\n",
      "def2-TZVP NN CO 2.4000000000000004\n",
      "def2-TZVP NN CO 2.5\n",
      "def2-TZVP NN CO 2.6\n",
      "def2-TZVP NN CO 2.7\n",
      "def2-TZVP NN CO 2.8\n",
      "def2-TZVP NN CO 2.9000000000000004\n",
      "def2-TZVP NN CO 3.0\n",
      "def2-TZVP NN CO 3.1\n",
      "def2-TZVP NN CO 3.2\n"
     ]
    }
   ],
   "source": [
    "bs='def2-TZVP'\n",
    "tab=[]\n",
    "for ref in molecules:\n",
    "    for targ in molecules:\n",
    "        if ref != targ:\n",
    "            for d in points:\n",
    "                print (bs,ref,targ,d)\n",
    "                for ao in range(5):\n",
    "                    tab.append(tab_line(bs,d,ref,targ,ao))\n",
    "df_def2_TZVP=pd.DataFrame(tab)\n",
    "df_def2_TZVP.to_pickle('./def2_TZVP_data')"
   ]
  },
  {
   "cell_type": "code",
   "execution_count": 178,
   "metadata": {},
   "outputs": [
    {
     "name": "stdout",
     "output_type": "stream",
     "text": [
      "['Calculator', 'In', 'NN_spline', 'NN_spline_pes', 'Nums', 'Out', 'Rmin', '_', '_11', '_113', '_114', '_12', '_123', '_124', '_126', '_127', '_13', '_130', '_134', '_14', '_141', '_143', '_148', '_15', '_150', '_151', '_152', '_156', '_16', '_164', '_166', '_169', '_173', '_174', '_175', '_176', '_19', '_20', '_23', '_28', '_3', '_31', '_32', '_33', '_35', '_36', '_37', '_38', '_39', '_40', '_41', '_43', '_44', '_49', '_60', '_61', '_62', '_63', '_64', '_65', '_66', '_67', '_70', '_71', '_72', '_73', '_74', '_75', '_76', '_77', '_78', '_79', '_80', '_81', '_82', '_83', '_84', '_85', '_86', '_87', '_89', '_9', '_90', '_91', '_92', '_93', '__', '___', '__builtin__', '__builtins__', '__doc__', '__loader__', '__name__', '__package__', '__spec__', '_dh', '_i', '_i1', '_i10', '_i100', '_i101', '_i102', '_i103', '_i104', '_i105', '_i106', '_i107', '_i108', '_i109', '_i11', '_i110', '_i111', '_i112', '_i113', '_i114', '_i115', '_i116', '_i117', '_i118', '_i119', '_i12', '_i120', '_i121', '_i122', '_i123', '_i124', '_i125', '_i126', '_i127', '_i128', '_i129', '_i13', '_i130', '_i131', '_i132', '_i133', '_i134', '_i135', '_i136', '_i137', '_i138', '_i139', '_i14', '_i140', '_i141', '_i142', '_i143', '_i144', '_i145', '_i146', '_i147', '_i148', '_i149', '_i15', '_i150', '_i151', '_i152', '_i153', '_i154', '_i155', '_i156', '_i157', '_i158', '_i159', '_i16', '_i160', '_i161', '_i162', '_i163', '_i164', '_i165', '_i166', '_i167', '_i168', '_i169', '_i17', '_i170', '_i171', '_i172', '_i173', '_i174', '_i175', '_i176', '_i177', '_i178', '_i18', '_i19', '_i2', '_i20', '_i21', '_i22', '_i23', '_i24', '_i25', '_i26', '_i27', '_i28', '_i29', '_i3', '_i30', '_i31', '_i32', '_i33', '_i34', '_i35', '_i36', '_i37', '_i38', '_i39', '_i4', '_i40', '_i41', '_i42', '_i43', '_i44', '_i45', '_i46', '_i47', '_i48', '_i49', '_i5', '_i50', '_i51', '_i52', '_i53', '_i54', '_i55', '_i56', '_i57', '_i58', '_i59', '_i6', '_i60', '_i61', '_i62', '_i63', '_i64', '_i65', '_i66', '_i67', '_i68', '_i69', '_i7', '_i70', '_i71', '_i72', '_i73', '_i74', '_i75', '_i76', '_i77', '_i78', '_i79', '_i8', '_i80', '_i81', '_i82', '_i83', '_i84', '_i85', '_i86', '_i87', '_i88', '_i89', '_i9', '_i90', '_i91', '_i92', '_i93', '_i94', '_i95', '_i96', '_i97', '_i98', '_i99', '_ih', '_ii', '_iii', '_oh', 'alchem_predict', 'alchem_predict2', 'alchemy', 'ao', 'basisSets', 'bs', 'buffalo', 'centimeter', 'coeff0', 'coeff1', 'coeff2', 'coeff3', 'coeff4', 'coeff_tilda', 'coeffs', 'd', 'deltaV', 'df_321G', 'df_631G', 'df_aug_cc_pVQZ', 'df_cc_pVTZ', 'df_def2_QZVPP', 'df_def2_TZVP', 'df_sto3G', 'df_sto6G', 'dh', 'dirName', 'energy', 'energy_hf', 'exit', 'get_ccdensity', 'get_grid', 'get_ipython', 'ipv', 'k', 'lightspeed', 'm', 'mol', 'molecules', 'mu_nn', 'nn_scan', 'np', 'os', 'parse_energy_cc', 'parse_energy_hf', 'pd', 'pickle', 'planck', 'plt', 'points', 'proj_path', 'quit', 'ref', 'rho_deriv', 'rho_tilda', 'rt', 'shutil', 'sp', 'sppes', 'sys', 'tab', 'tab_line', 'tab_sto3g', 'targ', 'to_cm', 'x']\n"
     ]
    }
   ],
   "source": [
    "print (dir())"
   ]
  },
  {
   "cell_type": "code",
   "execution_count": 180,
   "metadata": {},
   "outputs": [
    {
     "name": "stdout",
     "output_type": "stream",
     "text": [
      "Stored 'dfs' (list)\n"
     ]
    }
   ],
   "source": [
    "dfs=['df_sto3G','df_sto6G','df_321G','df_631G','df_def2_TZVP', 'df_def2_QZVPP','df_cc_pVTZ', 'df_aug_cc_pVQZ']\n",
    "%store dfs"
   ]
  },
  {
   "cell_type": "code",
   "execution_count": 182,
   "metadata": {},
   "outputs": [
    {
     "data": {
      "text/plain": [
       "8"
      ]
     },
     "execution_count": 182,
     "metadata": {},
     "output_type": "execute_result"
    }
   ],
   "source": [
    "len(dfs)"
   ]
  }
 ],
 "metadata": {
  "kernelspec": {
   "display_name": "Python 3",
   "language": "python",
   "name": "python3"
  },
  "language_info": {
   "codemirror_mode": {
    "name": "ipython",
    "version": 3
   },
   "file_extension": ".py",
   "mimetype": "text/x-python",
   "name": "python",
   "nbconvert_exporter": "python",
   "pygments_lexer": "ipython3",
   "version": "3.6.8"
  }
 },
 "nbformat": 4,
 "nbformat_minor": 2
}
