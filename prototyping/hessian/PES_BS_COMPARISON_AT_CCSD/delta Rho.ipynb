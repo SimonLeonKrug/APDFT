{
 "cells": [
  {
   "cell_type": "markdown",
   "metadata": {},
   "source": [
    "# get $\\Delta \\rho $ for differents grids"
   ]
  },
  {
   "cell_type": "code",
   "execution_count": 1,
   "metadata": {},
   "outputs": [],
   "source": [
    "import numpy as np\n",
    "import sys \n",
    "import os\n",
    "import shutil\n",
    "import matplotlib.pyplot as plt\n",
    "import scipy.interpolate as sp\n",
    "import ipyvolume as ipv\n",
    "sys.path.append('/home/giorgiod/Documents/APDFT/dep')\n",
    "sys.path.append('/home/giorgiod/Documents/APDFT/src')"
   ]
  },
  {
   "cell_type": "code",
   "execution_count": 2,
   "metadata": {},
   "outputs": [],
   "source": [
    "from apdft import Calculator"
   ]
  },
  {
   "cell_type": "code",
   "execution_count": 3,
   "metadata": {},
   "outputs": [
    {
     "data": {
      "text/plain": [
       "['def2-QZVPP',\n",
       " 'LiNa_fixed_scf',\n",
       " '631G*',\n",
       " 'def2-TZVP',\n",
       " 'sto3G',\n",
       " 'sto6G',\n",
       " '321G',\n",
       " 'cc-pVTZ',\n",
       " 'aug-cc-pVQZ',\n",
       " 'LiNa-def2TZVP-rerun']"
      ]
     },
     "execution_count": 3,
     "metadata": {},
     "output_type": "execute_result"
    }
   ],
   "source": [
    "proj_path='/home/giorgiod/MRCC_interface/PES-BS-ALCHEMY/'\n",
    "os.listdir(proj_path)"
   ]
  },
  {
   "cell_type": "code",
   "execution_count": 4,
   "metadata": {},
   "outputs": [],
   "source": [
    "basisSets=[ 'def2-TZVP','def2-QZVPP','aug-ccpVQZ', 'sto3G', 'sto6G', '321G','631G*','cc-pVTZ']\n",
    "molecules=['NN','CO','BF','BeNe','LiNa','HeMg','HAl']\n",
    "alchemy=[-2,-1,0,1,2]\n",
    "points= np.linspace(1.30,3.20,20)\n",
    "def dirName(basis_set,molecule,point,alchemy=0):\n",
    "    return proj_path+basis_set+'/'+molecule+\"/A{}_Radius:{}\".format(alchemy,str(point)[0:3])+'/'"
   ]
  },
  {
   "cell_type": "code",
   "execution_count": 5,
   "metadata": {},
   "outputs": [],
   "source": [
    "def parse_energy_cc(log_file):\n",
    "    \"\"\"Parse the couple cluster energy from an MRCC output file\"\"\"\n",
    "    try:\n",
    "        with open(log_file,'r') as logf:\n",
    "            while True:\n",
    "                line=logf.readline()\n",
    "                if \"Final results:\" in line:\n",
    "                    good_line=logf.readline()\n",
    "                    if \"Total CCSD energy\" in good_line:\n",
    "                        for x in good_line.split(' '):\n",
    "                            try:\n",
    "                                float(x)\n",
    "                                return (float(x))\n",
    "                            except:\n",
    "                                pass    \n",
    "    except:\n",
    "        print('couldn\\'t parse energy return 0 for: '+log_file)\n",
    "        return 0"
   ]
  },
  {
   "cell_type": "code",
   "execution_count": 6,
   "metadata": {},
   "outputs": [],
   "source": [
    "def energy(bs,mol,pt,al=0):\n",
    "    return parse_energy_cc(dirName(bs,mol,pt,al)+'run.log')"
   ]
  },
  {
   "cell_type": "code",
   "execution_count": 7,
   "metadata": {},
   "outputs": [],
   "source": [
    "def get_grid(basis_set,molecule,point,alchemy=0):\n",
    "    return (Calculator.MrccCalculator.get_grid(None, None, dirName(basis_set,molecule,point,alchemy=0)))"
   ]
  },
  {
   "cell_type": "code",
   "execution_count": 8,
   "metadata": {},
   "outputs": [],
   "source": [
    "def get_ccdensity(basis_set,molecule,point,alchemy=0):\n",
    "    return Calculator.MrccCalculator.density_on_grid(dirName(basis_set,molecule,point,alchemy=0)+'DENSITY',get_grid(basis_set,molecule,point,alchemy=0)[0])"
   ]
  },
  {
   "cell_type": "code",
   "execution_count": 9,
   "metadata": {},
   "outputs": [],
   "source": [
    "def get_grid(basis_set,molecule,point,alchemy=0):\n",
    "    return (Calculator.MrccCalculator.get_grid(None, None, dirName(basis_set,molecule,point,alchemy=0)))\n",
    "def get_ccdensity(basis_set,molecule,point,alchemy=0):\n",
    "\n",
    "    return Calculator.MrccCalculator.density_on_grid(dirName(basis_set,molecule,point,alchemy=0)+'DENSITY',get_grid(basis_set,molecule,point,alchemy=0)[0])\n",
    "gnn,wnn=get_grid('sto3G','NN',2.3)[0],get_grid('sto3G','NN',2.3)[1]\n",
    "dnn=get_ccdensity('sto3G','NN',2.3)\n",
    "gbne,wbne=get_grid('sto3G','BeNe',2.3)[0],get_grid('sto3G','BeNe',2.3)[1]\n",
    "dbne=get_ccdensity('sto3G','BeNe',2.3)\n",
    "\n",
    "def Colour(a):\n",
    "    colour=[]\n",
    "    mina=min(a)\n",
    "    maxa=max(a)\n",
    "    for i in range (len(a)):\n",
    "        colour.append((((a[i]-mina)/(maxa-mina))**0.5*256,0,0))#((maxa-dw[i])/(maxa-mina))**0.5*256))\n",
    "        #colour.append((256,0,0))\n",
    "    return colour\n",
    "#ipv.quickscatter(gbne[:,0],gbne[:,1],gbne[:,2],size=0.05,color=Colour(dbne))\n",
    "#ipv.show()"
   ]
  },
  {
   "cell_type": "code",
   "execution_count": 10,
   "metadata": {},
   "outputs": [],
   "source": [
    "import numpy as np\n",
    "import scipy\n",
    "import scipy.ndimage as snd\n",
    "import matplotlib.pyplot as plt"
   ]
  },
  {
   "cell_type": "code",
   "execution_count": 11,
   "metadata": {},
   "outputs": [
    {
     "name": "stdout",
     "output_type": "stream",
     "text": [
      "13.999998443815755\n",
      "14.000487120251636\n",
      "13.999022401627077\n",
      "9.258590291895935\n",
      "0.0009760421886811385\n"
     ]
    }
   ],
   "source": [
    "a=scipy.interpolate.griddata(gbne[:],dbne[:],gnn[:],method='nearest')\n",
    "b=scipy.interpolate.griddata(gnn[:],a[:],gbne[:],method='nearest')\n",
    "print(np.sum(wbne*dbne))\n",
    "print(np.sum(wnn*a))\n",
    "print(np.sum(wbne*b))\n",
    "print(np.sum(wnn*abs(a-dnn))/np.sum(wnn*a)*14)\n",
    "print(np.sum(wbne*(dbne-b)))\n",
    "\n",
    "#ipv.quickscatter(gnn[:,0],gnn[:,1],gnn[:,2],size=0.05,color=Colour(abs(a-dnn)))\n",
    "#ipv.show()"
   ]
  },
  {
   "cell_type": "code",
   "execution_count": 12,
   "metadata": {},
   "outputs": [
    {
     "name": "stdout",
     "output_type": "stream",
     "text": [
      "14.000000000000002\n",
      "9.435371250944442\n"
     ]
    }
   ],
   "source": [
    "a=scipy.interpolate.griddata(gnn[:],dnn[:],gbne[:],method='nearest')\n",
    "a =a/np.sum(wbne*a)*14\n",
    "#b=scipy.interpolate.griddata(gnn[:],a[:],gbne[:],method='nearest')\n",
    "#print(np.sum(wbne*dbne))\n",
    "print(np.sum(wbne*a))\n",
    "#print(np.sum(wbne*b))\n",
    "print(np.sum(wbne*abs(a-dbne)))\n",
    "#print(np.sum(wbne*(dbne-b)))"
   ]
  },
  {
   "cell_type": "code",
   "execution_count": 13,
   "metadata": {},
   "outputs": [
    {
     "name": "stdout",
     "output_type": "stream",
     "text": [
      "grid points 1st grid= (90806, 3)\n",
      "grid points 2nd grid= (58072, 3)\n"
     ]
    },
    {
     "data": {
      "text/plain": [
       "\"\\na=scipy.interpolate.griddata(gbne[:gnn.shape[0]],dbne[:gnn.shape[0]],gnn,method='linear')\\nprint(np.sum(wbne*dbne))\\nprint(np.sum(wnn*a))\\nprint(np.sum(wnn*abs(a-dnn)))\\n## outputs nan\\ngrid points 1st grid= (90806, 3)\\ngrid points 2nd grid= (58072, 3)\\n13.999998443815755\\nnan\\nnan\\n\""
      ]
     },
     "execution_count": 13,
     "metadata": {},
     "output_type": "execute_result"
    }
   ],
   "source": [
    "# method='linear' didn't work , memory problem???\n",
    "print ('grid points 1st grid=', gbne.shape)\n",
    "print ('grid points 2nd grid=', gnn.shape)\n",
    "\"\"\"\n",
    "%time\n",
    "a=scipy.interpolate.griddata(gbne[:1000],dbne[:1000],gnn[:1000],method='linear')\n",
    "%time\n",
    "a=scipy.interpolate.griddata(gbne[:10000],dbne[:10000],gnn[:10000],method='linear')\n",
    "%time\n",
    "a=scipy.interpolate.griddata(gbne[:20000],dbne[:20000],gnn[:20000],method='linear')\n",
    "%time\n",
    "\"\"\"\n",
    "###seems not hard,though \n",
    "\"\"\"\n",
    "a=scipy.interpolate.griddata(gbne[:gnn.shape[0]],dbne[:gnn.shape[0]],gnn,method='linear')\n",
    "print(np.sum(wbne*dbne))\n",
    "print(np.sum(wnn*a))\n",
    "print(np.sum(wnn*abs(a-dnn)))\n",
    "## outputs nan\n",
    "grid points 1st grid= (90806, 3)\n",
    "grid points 2nd grid= (58072, 3)\n",
    "13.999998443815755\n",
    "nan\n",
    "nan\n",
    "\\\n",
    "\"\"\"\n",
    "##better use method='nearest'"
   ]
  },
  {
   "cell_type": "code",
   "execution_count": 14,
   "metadata": {},
   "outputs": [],
   "source": [
    "def delta_Rho(bs,dist,mol1,mol2): \n",
    "    gg1=get_grid(bs,mol1,dist)\n",
    "    g1,w1=gg1[0],gg1[1]\n",
    "    gg2=get_grid(bs,mol2,dist)\n",
    "    g2,w2=gg2[0],gg2[1]    \n",
    "    d1=get_ccdensity(bs,mol1,dist)\n",
    "    d2=get_ccdensity(bs,mol2,dist)\n",
    "    p1_2=scipy.interpolate.griddata(g1[:],d1[:],g2[:],method='nearest')\n",
    "    #print(np.sum(w2*abs(p1_2-d2)))\n",
    "    p2_1=scipy.interpolate.griddata(g2[:],d2[:],g1[:],method='nearest')\n",
    "    #print(np.sum(w1*abs(p2_1-d1)))\n",
    "    return (np.sum(w1*abs(p2_1-d1))+np.sum(w2*abs(p1_2-d2)))/2"
   ]
  },
  {
   "cell_type": "code",
   "execution_count": 22,
   "metadata": {},
   "outputs": [
    {
     "name": "stdout",
     "output_type": "stream",
     "text": [
      "CPU times: user 173 ms, sys: 12.3 ms, total: 185 ms\n",
      "Wall time: 203 ms\n"
     ]
    },
    {
     "data": {
      "text/plain": [
       "3.0693181594717016"
      ]
     },
     "execution_count": 22,
     "metadata": {},
     "output_type": "execute_result"
    }
   ],
   "source": [
    "%time delta_Rho('aug-cc-pVQZ',3.0,'CO','NN')"
   ]
  },
  {
   "cell_type": "code",
   "execution_count": 34,
   "metadata": {},
   "outputs": [
    {
     "data": {
      "text/plain": [
       "['def2-TZVP',\n",
       " 'def2-QZVPP',\n",
       " 'aug-ccpVQZ',\n",
       " 'sto3G',\n",
       " 'sto6G',\n",
       " '321G',\n",
       " '631G*',\n",
       " 'cc-pVTZ']"
      ]
     },
     "execution_count": 34,
     "metadata": {},
     "output_type": "execute_result"
    }
   ],
   "source": [
    "import pandas as pd\n",
    "basisSets"
   ]
  },
  {
   "cell_type": "code",
   "execution_count": 31,
   "metadata": {},
   "outputs": [],
   "source": [
    "q=[]\n",
    "for x in range(6):\n",
    "    m1=molecules[x]\n",
    "    for y in range(x+1,7):\n",
    "        m2=molecules[y]\n",
    "        for d in points:\n",
    "            dR=delta_Rho('sto3G',d,m1,m2)\n",
    "            q.append({'Reference mol.':m1,'Target mol.':m2,'Atoms distance':d,'delta Rho':dR})\n",
    "            q.append({'Reference mol.':m2,'Target mol.':m1,'Atoms distance':d,'delta Rho':dR})\n",
    "df_dRho_sto3G=pd.DataFrame(q)"
   ]
  },
  {
   "cell_type": "code",
   "execution_count": 38,
   "metadata": {},
   "outputs": [],
   "source": [
    "\"\"\"\n",
    "q=[]\n",
    "for x in range(6):\n",
    "    m1=molecules[x]\n",
    "    for y in range(x+1,7):\n",
    "        m2=molecules[y]\n",
    "        for d in points:\n",
    "            dR=delta_Rho('sto6G',d,m1,m2)\n",
    "            q.append({'Reference mol.':m1,'Target mol.':m2,'Atoms distance':d,'delta Rho':dR})\n",
    "            q.append({'Reference mol.':m2,'Target mol.':m1,'Atoms distance':d,'delta Rho':dR})\n",
    "df_dRho_sto6G=pd.DataFrame(q)\n",
    "\n",
    "q=[]\n",
    "for x in range(6):\n",
    "    m1=molecules[x]\n",
    "    for y in range(x+1,7):\n",
    "        m2=molecules[y]\n",
    "        for d in points:\n",
    "            dR=delta_Rho('321G',d,m1,m2)\n",
    "            q.append({'Reference mol.':m1,'Target mol.':m2,'Atoms distance':d,'delta Rho':dR})\n",
    "            q.append({'Reference mol.':m2,'Target mol.':m1,'Atoms distance':d,'delta Rho':dR})\n",
    "df_dRho_321G=pd.DataFrame(q)\n",
    "q=[]\n",
    "for x in range(6):\n",
    "    m1=molecules[x]\n",
    "    for y in range(x+1,7):\n",
    "        m2=molecules[y]\n",
    "        for d in points:\n",
    "            dR=delta_Rho('631G*',d,m1,m2)\n",
    "            q.append({'Reference mol.':m1,'Target mol.':m2,'Atoms distance':d,'delta Rho':dR})\n",
    "            q.append({'Reference mol.':m2,'Target mol.':m1,'Atoms distance':d,'delta Rho':dR})\n",
    "df_dRho_631G=pd.DataFrame(q)\n",
    "\n",
    "q=[]\n",
    "for x in range(6):\n",
    "    m1=molecules[x]\n",
    "    for y in range(x+1,7):\n",
    "        m2=molecules[y]\n",
    "        for d in points:\n",
    "            dR=delta_Rho('cc-pVTZ',d,m1,m2)\n",
    "            q.append({'Reference mol.':m1,'Target mol.':m2,'Atoms distance':d,'delta Rho':dR})\n",
    "            q.append({'Reference mol.':m2,'Target mol.':m1,'Atoms distance':d,'delta Rho':dR})\n",
    "df_dRho_ccpvtz=pd.DataFrame(q)\n",
    "\n",
    "q=[]\n",
    "for x in range(6):\n",
    "    m1=molecules[x]\n",
    "    for y in range(x+1,7):\n",
    "        m2=molecules[y]\n",
    "        for d in points:\n",
    "            dR=delta_Rho('aug-cc-pVQZ',d,m1,m2)\n",
    "            q.append({'Reference mol.':m1,'Target mol.':m2,'Atoms distance':d,'delta Rho':dR})\n",
    "            q.append({'Reference mol.':m2,'Target mol.':m1,'Atoms distance':d,'delta Rho':dR})\n",
    "df_dRho_aug=pd.DataFrame(q)\n",
    "q=[]\n",
    "for x in range(6):\n",
    "    m1=molecules[x]\n",
    "    for y in range(x+1,7):\n",
    "        m2=molecules[y]\n",
    "        for d in points:\n",
    "            dR=delta_Rho('def2-TZVP',d,m1,m2)\n",
    "            q.append({'Reference mol.':m1,'Target mol.':m2,'Atoms distance':d,'delta Rho':dR})\n",
    "            q.append({'Reference mol.':m2,'Target mol.':m1,'Atoms distance':d,'delta Rho':dR})\n",
    "df_dRho_def2_tzvp=pd.DataFrame(q)\n",
    "\n",
    "q=[]\n",
    "for x in range(6):\n",
    "    m1=molecules[x]\n",
    "    for y in range(x+1,7):\n",
    "        m2=molecules[y]\n",
    "        for d in points:\n",
    "            dR=delta_Rho('def2-QZVPP',d,m1,m2)\n",
    "            q.append({'Reference mol.':m1,'Target mol.':m2,'Atoms distance':d,'delta Rho':dR})\n",
    "            q.append({'Reference mol.':m2,'Target mol.':m1,'Atoms distance':d,'delta Rho':dR})\n",
    "df_dRho_def2_qzvpp=pd.DataFrame(q)\n",
    "\"\"\"  \"\"\"   ### storing dataframes\n",
    "df_dRho_sto3G.to_pickle('./df_dRho_sto3G')  \n",
    "df_dRho_sto6G.to_pickle('./df_dRho_sto6G')\n",
    "df_dRho_321G.to_pickle('./df_dRho_sto321G')\n",
    "df_dRho_631G.to_pickle('./df_dRho_631G')\n",
    "df_dRho_ccpvtz.to_pickle('./df_dRho_ccpvtz')\n",
    "df_dRho_aug.to_pickle('./df_dRho_aug')\n",
    "df_dRho_def2_tzvp.to_pickle('./df_dRho_def2_tzvp')\n",
    "df_dRho_def2_qzvpp.to_pickle('./df_dRho_def2_qzvpp')\n",
    "\"\"\"   ### reading dataframes\n",
    "df_dRho_sto3G=pd.read_pickle('./df_dRho_sto3G')\n",
    "df_dRho_sto6G=pd.read_pickle('./df_dRho_sto6G')\n",
    "df_dRho_321G=pd.read_pickle('./df_dRho_sto321G')\n",
    "df_dRho_631G=pd.read_pickle('./df_dRho_631G')\n",
    "df_dRho_ccpvtz=pd.read_pickle('./df_dRho_ccpvtz')\n",
    "df_dRho_aug=pd.read_pickle('./df_dRho_aug')\n",
    "df_dRho_def2_tzvp=pd.read_pickle('./df_dRho_def2_tzvp')\n",
    "df_dRho_def2_qzvpp=pd.read_pickle('./df_dRho_def2_qzvpp')"
   ]
  },
  {
   "cell_type": "code",
   "execution_count": 17,
   "metadata": {},
   "outputs": [],
   "source": [
    "df_321G=pd.read_pickle('./321G_data')\n",
    "df_631G=pd.read_pickle('./631G_data')\n",
    "df_sto3G=pd.read_pickle('./sto3G_data')\n",
    "df_sto6G=pd.read_pickle('./sto6G_data')\n",
    "\n",
    "df_cc_pvtz=pd.read_pickle('./cc-pVTZ_data')\n",
    "df_aug_ccpvqz=pd.read_pickle('./aug-cc-pVQZ_data')\n",
    "df_def2_tzvp=pd.read_pickle('./def2_TZVP_data')\n",
    "df_def2_qzvpp=pd.read_pickle('./def2-QZVPP_data')"
   ]
  },
  {
   "cell_type": "code",
   "execution_count": 18,
   "metadata": {},
   "outputs": [],
   "source": [
    "basisSets=[ 'def2-TZVP','def2-QZVPP','aug-ccpVQZ', 'sto3G', 'sto6G', '321G','631G*','cc-pVTZ']\n",
    "molecules=['NN','CO','BF','BeNe','LiNa','HeMg','HAl']\n",
    "alchemy=[-2,-1,0,1,2]\n",
    "points= np.linspace(1.30,3.20,20)"
   ]
  },
  {
   "cell_type": "code",
   "execution_count": 19,
   "metadata": {},
   "outputs": [
    {
     "name": "stdout",
     "output_type": "stream",
     "text": [
      "      Alchemy exp.order  Atoms distance Basis Set     E.alch      E.ccsd  \\\n",
      "3541                  1             2.1     sto3G -105.59242 -107.655465   \n",
      "\n",
      "     Reference mol. Target mol.  abs.err.  \n",
      "3541             CO          NN  2.063044  \n"
     ]
    },
    {
     "data": {
      "text/plain": [
       "3541    2.063044\n",
       "Name: abs.err., dtype: float64"
      ]
     },
     "execution_count": 19,
     "metadata": {},
     "output_type": "execute_result"
    }
   ],
   "source": [
    "df_sto3G.dtypes\n",
    "print(df_sto3G[(df_sto3G['Reference mol.']=='CO')&(df_sto3G['Target mol.']=='NN')&(df_sto3G['Atoms distance']== 2.1) \\\n",
    "        & (df_sto3G['Alchemy exp.order']== 1)])\n",
    "df_sto3G[(df_sto3G['Reference mol.']=='CO')&(df_sto3G['Target mol.']=='NN')&(df_sto3G['Atoms distance']== 2.1) \\\n",
    "        & (df_sto3G['Alchemy exp.order']== 1)]['abs.err.']"
   ]
  },
  {
   "cell_type": "code",
   "execution_count": 20,
   "metadata": {},
   "outputs": [
    {
     "data": {
      "image/png": "[encoded data removed]",
      "text/plain": [
       "<Figure size 432x288 with 1 Axes>"
      ]
     },
     "metadata": {
      "needs_background": "light"
     },
     "output_type": "display_data"
    }
   ],
   "source": [
    "# for sto3G\n",
    "# for each AO:\n",
    "# build graph dE(ref,targ,Atoms distance,ao) vs dRho(ref,targ,Atoms distance)\n",
    "#print(dir(df_sto3G))\n",
    "ao=4\n",
    "#for d in points:\n",
    "d=2.0\n",
    "for ref in molecules:\n",
    "    for targ in molecules:\n",
    "        if targ != ref:\n",
    "            ae=float(df_sto3G[(df_sto3G['Reference mol.']==ref)&(df_sto3G['Target mol.']==targ)&\\\n",
    "                        (df_sto3G['Atoms distance']==d) & (df_sto3G['Alchemy exp.order']== ao)]['abs.err.'])\n",
    "            if (ae<50):\n",
    "                plt.scatter(delta_Rho('sto3G',d,ref,targ),ae)\n",
    "plt.title('sto3G d=2.0 Bohrs' )\n",
    "plt.xlabel('delta Rho')\n",
    "plt.ylabel('Abs.Error (Hartree)')\n",
    "plt.savefig('sto3G_d_2.png')"
   ]
  },
  {
   "cell_type": "code",
   "execution_count": 30,
   "metadata": {},
   "outputs": [
    {
     "name": "stdout",
     "output_type": "stream",
     "text": [
      "10.1 s ± 262 ms per loop (mean ± std. dev. of 7 runs, 1 loop each)\n"
     ]
    },
    {
     "data": {
      "image/png": "[encoded data removed]",
      "text/plain": [
       "<Figure size 432x288 with 1 Axes>"
      ]
     },
     "metadata": {
      "needs_background": "light"
     },
     "output_type": "display_data"
    }
   ],
   "source": [
    "ao=4\n",
    "#for d in points:\n",
    "d=2.0\n",
    "for ref in molecules:\n",
    "    for targ in molecules:\n",
    "        if targ != ref:\n",
    "            ae=float(df_def2_tzvp[(df_def2_tzvp['Reference mol.']==ref)&(df_def2_tzvp['Target mol.']==targ)&\\\n",
    "                        (df_def2_tzvp['Atoms distance']==d) & (df_def2_tzvp['Alchemy exp.order']== ao)]['abs.err.'])\n",
    "            if (ae<50):\n",
    "                plt.scatter(delta_Rho('sto3G',d,ref,targ),ae)\n",
    "plt.title('def2_tzvp d=2.0 Bohrs' )\n",
    "plt.xlabel('delta Rho')\n",
    "plt.ylabel('Abs.Error (Hartree)')\n",
    "plt.savefig('def2_tzvp_d_2.png')"
   ]
  },
  {
   "cell_type": "code",
   "execution_count": null,
   "metadata": {},
   "outputs": [],
   "source": []
  }
 ],
 "metadata": {
  "kernelspec": {
   "display_name": "Python 3",
   "language": "python",
   "name": "python3"
  },
  "language_info": {
   "codemirror_mode": {
    "name": "ipython",
    "version": 3
   },
   "file_extension": ".py",
   "mimetype": "text/x-python",
   "name": "python",
   "nbconvert_exporter": "python",
   "pygments_lexer": "ipython3",
   "version": "3.6.8"
  }
 },
 "nbformat": 4,
 "nbformat_minor": 2
}
