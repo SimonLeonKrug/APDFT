{
 "cells": [
  {
   "cell_type": "markdown",
   "metadata": {},
   "source": [
    "# get $\\Delta \\rho $ for differents grids"
   ]
  },
  {
   "cell_type": "code",
   "execution_count": 1,
   "metadata": {},
   "outputs": [],
   "source": [
    "import numpy as np\n",
    "import sys \n",
    "import os\n",
    "import shutil\n",
    "import matplotlib.pyplot as plt\n",
    "import scipy.interpolate as sp\n",
    "import ipyvolume as ipv\n",
    "sys.path.append('/home/giorgiod/Documents/APDFT/dep')\n",
    "sys.path.append('/home/giorgiod/Documents/APDFT/src')"
   ]
  },
  {
   "cell_type": "code",
   "execution_count": 2,
   "metadata": {},
   "outputs": [],
   "source": [
    "from apdft import Calculator"
   ]
  },
  {
   "cell_type": "code",
   "execution_count": 3,
   "metadata": {},
   "outputs": [
    {
     "data": {
      "text/plain": [
       "['def2-QZVPP',\n",
       " 'cpfl.sh',\n",
       " '631G*',\n",
       " 'def2-TZVP',\n",
       " 'sto3G',\n",
       " 'sto6G',\n",
       " '321G',\n",
       " 'cc-pVTZ',\n",
       " 'aug-cc-pVQZ']"
      ]
     },
     "execution_count": 3,
     "metadata": {},
     "output_type": "execute_result"
    }
   ],
   "source": [
    "proj_path='/home/giorgiod/MRCC_interface/PES-BS-ALCHEMY/'\n",
    "os.listdir(proj_path)"
   ]
  },
  {
   "cell_type": "code",
   "execution_count": 5,
   "metadata": {},
   "outputs": [],
   "source": [
    "basisSets=[ 'def2-TZVP','def2-QZVPP','aug-ccpVQZ', 'sto3G', 'sto6G', '321G','631G*','cc-pVTZ']\n",
    "molecules=['NN','CO','BF','BeNe','LiNa','HeMg','HAl']\n",
    "alchemy=[-2,-1,0,1,2]\n",
    "points= np.linspace(1.30,3.20,20)\n",
    "def dirName(basis_set,molecule,point,alchemy=0):\n",
    "    return proj_path+basis_set+'/'+molecule+\"/A{}_Radius:{}\".format(alchemy,str(point)[0:3])+'/'"
   ]
  },
  {
   "cell_type": "code",
   "execution_count": 6,
   "metadata": {},
   "outputs": [],
   "source": [
    "def parse_energy_cc(log_file):\n",
    "    \"\"\"Parse the couple cluster energy from an MRCC output file\"\"\"\n",
    "    try:\n",
    "        with open(log_file,'r') as logf:\n",
    "            while True:\n",
    "                line=logf.readline()\n",
    "                if \"Final results:\" in line:\n",
    "                    good_line=logf.readline()\n",
    "                    if \"Total CCSD energy\" in good_line:\n",
    "                        for x in good_line.split(' '):\n",
    "                            try:\n",
    "                                float(x)\n",
    "                                return (float(x))\n",
    "                            except:\n",
    "                                pass    \n",
    "    except:\n",
    "        print('couldn\\'t parse energy return 0 for: '+log_file)\n",
    "        return 0"
   ]
  },
  {
   "cell_type": "code",
   "execution_count": 7,
   "metadata": {},
   "outputs": [],
   "source": [
    "def energy(bs,mol,pt,al=0):\n",
    "    return parse_energy_cc(dirName(bs,mol,pt,al)+'run.log')"
   ]
  },
  {
   "cell_type": "code",
   "execution_count": 8,
   "metadata": {},
   "outputs": [],
   "source": [
    "def get_grid(basis_set,molecule,point,alchemy=0):\n",
    "    return (Calculator.MrccCalculator.get_grid(None, None, dirName(basis_set,molecule,point,alchemy=0)))"
   ]
  },
  {
   "cell_type": "code",
   "execution_count": 9,
   "metadata": {},
   "outputs": [],
   "source": [
    "def get_ccdensity(basis_set,molecule,point,alchemy=0):\n",
    "    return Calculator.MrccCalculator.density_on_grid(dirName(basis_set,molecule,point,alchemy=0)+'DENSITY',get_grid(basis_set,molecule,point,alchemy=0)[0])"
   ]
  },
  {
   "cell_type": "code",
   "execution_count": 14,
   "metadata": {},
   "outputs": [],
   "source": [
    "def get_grid(basis_set,molecule,point,alchemy=0):\n",
    "    return (Calculator.MrccCalculator.get_grid(None, None, dirName(basis_set,molecule,point,alchemy=0)))\n",
    "def get_ccdensity(basis_set,molecule,point,alchemy=0):\n",
    "\n",
    "    return Calculator.MrccCalculator.density_on_grid(dirName(basis_set,molecule,point,alchemy=0)+'DENSITY',get_grid(basis_set,molecule,point,alchemy=0)[0])\n",
    "gnn,wnn=get_grid('sto3G','NN',2.3)[0],get_grid('sto3G','NN',2.3)[1]\n",
    "dnn=get_ccdensity('sto3G','NN',2.3)\n",
    "gbne,wbne=get_grid('sto3G','BeNe',2.3)[0],get_grid('sto3G','BeNe',2.3)[1]\n",
    "dbne=get_ccdensity('sto3G','BeNe',2.3)\n",
    "\n",
    "def Colour(a):\n",
    "    colour=[]\n",
    "    mina=min(a)\n",
    "    maxa=max(a)\n",
    "    for i in range (len(a)):\n",
    "        colour.append((((a[i]-mina)/(maxa-mina))**0.5*256,0,0))#((maxa-dw[i])/(maxa-mina))**0.5*256))\n",
    "        #colour.append((256,0,0))\n",
    "    return colour\n",
    "#ipv.quickscatter(gbne[:,0],gbne[:,1],gbne[:,2],size=0.05,color=Colour(dbne))\n",
    "#ipv.show()"
   ]
  },
  {
   "cell_type": "code",
   "execution_count": 11,
   "metadata": {},
   "outputs": [],
   "source": [
    "import numpy as np\n",
    "import scipy\n",
    "import scipy.ndimage as snd\n",
    "import matplotlib.pyplot as plt"
   ]
  },
  {
   "cell_type": "code",
   "execution_count": 11,
   "metadata": {},
   "outputs": [],
   "source": [
    "def resample(rho, npoints, bX,bY,bZ, X, Y, Z):\n",
    "    Xs, Ys, Zs = np.mgrid[bX[0]:bX[1]:complex(npoints), bY[0]:bY[1]:complex(npoints), bZ[0]:bZ[1]:complex(npoints)]\n",
    "    positions = np.vstack([Xs.ravel(), Ys.ravel(), Zs.ravel()])\n",
    "    newrho = snd.map_coordinates(rho, positions, mode='nearest', order=3)\n",
    "    return newrho.reshape(npoints, npoints, npoints), npoints, npoints, npoints, X*NX/npoints, Y*NY/npoints, Z*NZ/npoints  "
   ]
  },
  {
   "cell_type": "code",
   "execution_count": 18,
   "metadata": {},
   "outputs": [
    {
     "name": "stdout",
     "output_type": "stream",
     "text": [
      "13.999998443815755\n",
      "14.000487120251636\n",
      "13.999022401627077\n",
      "9.258590291895935\n",
      "0.0009760421886811385\n"
     ]
    }
   ],
   "source": [
    "a=scipy.interpolate.griddata(gbne[:],dbne[:],gnn[:],method='nearest')\n",
    "b=scipy.interpolate.griddata(gnn[:],a[:],gbne[:],method='nearest')\n",
    "print(np.sum(wbne*dbne))\n",
    "print(np.sum(wnn*a))\n",
    "print(np.sum(wbne*b))\n",
    "print(np.sum(wnn*abs(a-dnn))/np.sum(wnn*a)*14)\n",
    "print(np.sum(wbne*(dbne-b)))\n",
    "\n",
    "#ipv.quickscatter(gnn[:,0],gnn[:,1],gnn[:,2],size=0.05,color=Colour(abs(a-dnn)))\n",
    "#ipv.show()"
   ]
  },
  {
   "cell_type": "code",
   "execution_count": 20,
   "metadata": {},
   "outputs": [
    {
     "name": "stdout",
     "output_type": "stream",
     "text": [
      "14.000000000000002\n",
      "9.435371250944442\n"
     ]
    }
   ],
   "source": [
    "a=scipy.interpolate.griddata(gnn[:],dnn[:],gbne[:],method='nearest')\n",
    "a =a/np.sum(wbne*a)*14\n",
    "#b=scipy.interpolate.griddata(gnn[:],a[:],gbne[:],method='nearest')\n",
    "#print(np.sum(wbne*dbne))\n",
    "print(np.sum(wbne*a))\n",
    "#print(np.sum(wbne*b))\n",
    "print(np.sum(wbne*abs(a-dbne)))\n",
    "#print(np.sum(wbne*(dbne-b)))"
   ]
  },
  {
   "cell_type": "code",
   "execution_count": 25,
   "metadata": {},
   "outputs": [
    {
     "name": "stdout",
     "output_type": "stream",
     "text": [
      "grid points 1st grid= (90806, 3)\n",
      "grid points 2nd grid= (58072, 3)\n"
     ]
    },
    {
     "data": {
      "text/plain": [
       "\"\\na=scipy.interpolate.griddata(gbne[:gnn.shape[0]],dbne[:gnn.shape[0]],gnn,method='linear')\\nprint(np.sum(wbne*dbne))\\nprint(np.sum(wnn*a))\\nprint(np.sum(wnn*abs(a-dnn)))\\n## outputs nan\\ngrid points 1st grid= (90806, 3)\\ngrid points 2nd grid= (58072, 3)\\n13.999998443815755\\nnan\\nnan\\n\""
      ]
     },
     "execution_count": 25,
     "metadata": {},
     "output_type": "execute_result"
    }
   ],
   "source": [
    "# method='linear' didn't work , memory problem???\n",
    "print ('grid points 1st grid=', gbne.shape)\n",
    "print ('grid points 2nd grid=', gnn.shape)\n",
    "\"\"\"\n",
    "%time\n",
    "a=scipy.interpolate.griddata(gbne[:1000],dbne[:1000],gnn[:1000],method='linear')\n",
    "%time\n",
    "a=scipy.interpolate.griddata(gbne[:10000],dbne[:10000],gnn[:10000],method='linear')\n",
    "%time\n",
    "a=scipy.interpolate.griddata(gbne[:20000],dbne[:20000],gnn[:20000],method='linear')\n",
    "%time\n",
    "\"\"\"\n",
    "###seems not hard,though \n",
    "\"\"\"\n",
    "a=scipy.interpolate.griddata(gbne[:gnn.shape[0]],dbne[:gnn.shape[0]],gnn,method='linear')\n",
    "print(np.sum(wbne*dbne))\n",
    "print(np.sum(wnn*a))\n",
    "print(np.sum(wnn*abs(a-dnn)))\n",
    "## outputs nan\n",
    "grid points 1st grid= (90806, 3)\n",
    "grid points 2nd grid= (58072, 3)\n",
    "13.999998443815755\n",
    "nan\n",
    "nan\n",
    "\\\n",
    "\"\"\"\n",
    "##better use method='nearest'"
   ]
  },
  {
   "cell_type": "code",
   "execution_count": 21,
   "metadata": {},
   "outputs": [],
   "source": [
    "def delta_Rho(bs,dist,mol1,mol2): \n",
    "    gg1=get_grid(bs,mol1,dist)\n",
    "    g1,w1=gg1[0],gg1[1]\n",
    "    gg2=get_grid(bs,mol2,dist)\n",
    "    g2,w2=gg2[0],gg2[1]    \n",
    "    d1=get_ccdensity(bs,mol1,dist)\n",
    "    d2=get_ccdensity(bs,mol2,dist)\n",
    "    p1_2=scipy.interpolate.griddata(g1[:],d1[:],g2[:],method='nearest')\n",
    "    print(np.sum(w2*abs(p1_2-d2)))\n",
    "    p2_1=scipy.interpolate.griddata(g2[:],d2[:],g1[:],method='nearest')\n",
    "    print(np.sum(w1*abs(p2_1-d1)))"
   ]
  },
  {
   "cell_type": "code",
   "execution_count": 22,
   "metadata": {},
   "outputs": [
    {
     "name": "stdout",
     "output_type": "stream",
     "text": [
      "0.0\n",
      "0.0\n"
     ]
    }
   ],
   "source": [
    "delta_Rho('sto3G',3.0,'NN','NN')"
   ]
  },
  {
   "cell_type": "code",
   "execution_count": 25,
   "metadata": {},
   "outputs": [
    {
     "name": "stdout",
     "output_type": "stream",
     "text": [
      "3.277756133394246\n",
      "3.277802467724164\n"
     ]
    }
   ],
   "source": [
    "delta_Rho('sto3G',3.0,'CO','NN')"
   ]
  },
  {
   "cell_type": "code",
   "execution_count": 26,
   "metadata": {},
   "outputs": [
    {
     "name": "stdout",
     "output_type": "stream",
     "text": [
      "6.551141689773403\n",
      "6.552254276047702\n"
     ]
    }
   ],
   "source": [
    "delta_Rho('sto3G',3.0,'BF','NN')"
   ]
  },
  {
   "cell_type": "code",
   "execution_count": 32,
   "metadata": {},
   "outputs": [
    {
     "name": "stdout",
     "output_type": "stream",
     "text": [
      "13.184437136864975\n",
      "12.781120832061298\n"
     ]
    }
   ],
   "source": [
    "delta_Rho('aug-cc-pVQZ',3.0,'HAl','NN')"
   ]
  },
  {
   "cell_type": "code",
   "execution_count": 28,
   "metadata": {
    "scrolled": true
   },
   "outputs": [
    {
     "name": "stdout",
     "output_type": "stream",
     "text": [
      "3.0802084526835567\n",
      "3.395346620111522\n"
     ]
    }
   ],
   "source": [
    "delta_Rho('cc-pVTZ',2.0,'BeNe','BF')"
   ]
  }
 ],
 "metadata": {
  "kernelspec": {
   "display_name": "Python 3",
   "language": "python",
   "name": "python3"
  },
  "language_info": {
   "codemirror_mode": {
    "name": "ipython",
    "version": 3
   },
   "file_extension": ".py",
   "mimetype": "text/x-python",
   "name": "python",
   "nbconvert_exporter": "python",
   "pygments_lexer": "ipython3",
   "version": "3.6.8"
  }
 },
 "nbformat": 4,
 "nbformat_minor": 2
}
