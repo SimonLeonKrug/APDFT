{
 "cells": [
  {
   "cell_type": "code",
   "execution_count": 1,
   "metadata": {},
   "outputs": [],
   "source": [
    "import numpy as np\n",
    "from matplotlib.backends.backend_pdf import PdfPages\n",
    "#from pyscf import gto, scf\n",
    "#import pyscf.cc\n",
    "#import pyscf.qmmm\n",
    "angstrom = 1 / 0.52917721067"
   ]
  },
  {
   "cell_type": "code",
   "execution_count": 2,
   "metadata": {},
   "outputs": [],
   "source": [
    "Energy_Benzene=-231.7425726453491\n",
    "Energy_Pyridine=-247.761849080993\n",
    "Energy_Pyrimidine=-263.7827135573776\n",
    "Energy_Triazine=-279.80511862026054\n",
    "Energy_Pyridine_b=-247.70676381635442\n",
    "Energy_Pyrimidine_b=-263.67234456355345\n",
    "Energy_Triazine_b=-279.639214010391"
   ]
  },
  {
   "cell_type": "code",
   "execution_count": 3,
   "metadata": {},
   "outputs": [
    {
     "name": "stdout",
     "output_type": "stream",
     "text": [
      "55.08526463856356 110.36899382412457 165.90460986952849\n"
     ]
    }
   ],
   "source": [
    "print((Energy_Pyridine_b-Energy_Pyridine)*1000,(Energy_Pyrimidine_b-Energy_Pyrimidine)*1000,(Energy_Triazine_b-Energy_Triazine)*1000 )"
   ]
  },
  {
   "cell_type": "code",
   "execution_count": 4,
   "metadata": {},
   "outputs": [],
   "source": [
    "dV1=np.load('dV1.npy')\n",
    "dV2=np.load('dV2.npy')\n",
    "dV3=np.load('dV3.npy')"
   ]
  },
  {
   "cell_type": "code",
   "execution_count": 5,
   "metadata": {},
   "outputs": [],
   "source": [
    "dm12mm=np.load(\"dm12mm.npy\")\n",
    "dm12pp=np.load(\"dm12pp.npy\")\n",
    "dm1m=np.load(\"dm1m.npy\")\n",
    "dm1p=np.load(\"dm1p.npy\")\n",
    "dmBenz=np.load(\"dmBenz.npy\")"
   ]
  },
  {
   "cell_type": "markdown",
   "metadata": {},
   "source": [
    "V nuc nuc "
   ]
  },
  {
   "cell_type": "code",
   "execution_count": 6,
   "metadata": {},
   "outputs": [
    {
     "data": {
      "text/plain": [
       "\"\\nmol = gto.M(atom=benz_atom, basis='def2-TZVP',unit='au')\\nb_nn= (mol.energy_nuc())\\np1_nn=(mol.energy_nuc([7,0,6,1,6,1,6,1,6,1,6,1]))\\np2_nn=(mol.energy_nuc([7,0,6,1,7,0,6,1,6,1,6,1]))\\np3_nn=(mol.energy_nuc([7,0,6,1,7,0,6,1,7,0,6,1]))\\nnp.save('nn_energies.npy',np.asarray([b_nn,p1_nn,p2_nn,p3_nn]))\""
      ]
     },
     "execution_count": 6,
     "metadata": {},
     "output_type": "execute_result"
    }
   ],
   "source": [
    "benz_atom=\"\"\"C 0.0 2.6196127020137916 0.0;\n",
    "H 0.0 4.652157753665769 0.0;\n",
    "C 2.268651148020338 1.309806351006896 0.0;\n",
    "H 4.028886797087305 2.326078876832885 0.0;\n",
    "C 2.2686511480203384 -1.3098063510068951 0.0;\n",
    "H 4.028886797087305 -2.3260788768328835 0.0;\n",
    "C 3.208100310526939e-16 -2.6196127020137916 0.0;\n",
    "H 5.697250102155325e-16 -4.652157753665769 0.0;\n",
    "C -2.2686511480203375 -1.309806351006897 0.0;\n",
    "H -4.028886797087303 -2.3260788768328866 0.0;\n",
    "C -2.2686511480203393 1.309806351006894 0.0;\n",
    "H -4.028886797087306 2.3260788768328813 0.0\n",
    "\"\"\"\n",
    "\"\"\"\n",
    "mol = gto.M(atom=benz_atom, basis='def2-TZVP',unit='au')\n",
    "b_nn= (mol.energy_nuc())\n",
    "p1_nn=(mol.energy_nuc([7,0,6,1,6,1,6,1,6,1,6,1]))\n",
    "p2_nn=(mol.energy_nuc([7,0,6,1,7,0,6,1,6,1,6,1]))\n",
    "p3_nn=(mol.energy_nuc([7,0,6,1,7,0,6,1,7,0,6,1]))\n",
    "np.save('nn_energies.npy',np.asarray([b_nn,p1_nn,p2_nn,p3_nn]))\"\"\""
   ]
  },
  {
   "cell_type": "code",
   "execution_count": 7,
   "metadata": {},
   "outputs": [],
   "source": [
    "nn_energies=np.load('nn_energies.npy')\n",
    "b_nn=nn_energies[0]\n",
    "p1_nn=nn_energies[1]\n",
    "p2_nn=nn_energies[2]\n",
    "p3_nn=nn_energies[3]"
   ]
  },
  {
   "cell_type": "markdown",
   "metadata": {},
   "source": [
    "Pyridine Prediction"
   ]
  },
  {
   "cell_type": "code",
   "execution_count": 8,
   "metadata": {},
   "outputs": [
    {
     "name": "stdout",
     "output_type": "stream",
     "text": [
      "Predicted =  -247.71548886494048  ///  true _BBS =  -247.70676381635442  ///  true  =  -247.761849080993\n",
      "-231.7425726453491 -14.059558753257999 -1.9378992293532227 0.12206279419629039\n"
     ]
    }
   ],
   "source": [
    "p1_d0=np.einsum('ij,ji',dmBenz,dV1)\n",
    "p1_d1=np.einsum('ij,ji',dm1p-dm1m,dV1)/.1/2\n",
    "p1_d2=np.einsum('ij,ji',dm1p-2*dmBenz+dm1m,dV1)/(.05**2)/6\n",
    "\n",
    "print('Predicted = ',Energy_Benzene+p1_d0+p1_d1+p1_d2 +p1_nn-b_nn, ' ///  true _BBS = ',Energy_Pyridine_b, ' ///  true  = ',Energy_Pyridine)\n",
    "print(Energy_Benzene,p1_d0,p1_d1,p1_d2)"
   ]
  },
  {
   "cell_type": "code",
   "execution_count": 9,
   "metadata": {},
   "outputs": [
    {
     "data": {
      "text/plain": [
       "-46.35000000000002"
      ]
     },
     "execution_count": 9,
     "metadata": {},
     "output_type": "execute_result"
    }
   ],
   "source": [
    "715.49-761.84"
   ]
  },
  {
   "cell_type": "markdown",
   "metadata": {},
   "source": [
    "Pyrimidine prediction <br>\n",
    "$$f_{xy}(x,y)\\approx {\\frac {f(x+h,y+k)-f(x+h,y)-f(x,y+k)+2f(x,y)-f(x-h,y)-f(x,y-k)+f(x-h,y-k)}{2hk}}$$"
   ]
  },
  {
   "cell_type": "code",
   "execution_count": 10,
   "metadata": {},
   "outputs": [
    {
     "name": "stdout",
     "output_type": "stream",
     "text": [
      "Predicted =  -263.6903287642914  ///  true  =  -263.67234456355345  ///  true  =  -263.7827135573776\n",
      "-231.7425726453491 -28.11911750651597 -3.910004770722951 0.24543735965143335\n"
     ]
    }
   ],
   "source": [
    "p2_d0=np.einsum('ij,ji',dmBenz,dV2)\n",
    "p2_d1=np.einsum('ij,ji',dm1p-dm1m,dV2)/.1/2*2\n",
    "p2_d2=np.einsum('ij,ji',dm1p-2*dmBenz+dm1m,dV2)/(.05**2)/6*2\n",
    "p2_d2+=np.einsum('ij,ji',dm12pp-2*dm1p-2*dm1m+2*dmBenz+dm12mm,dV2)/(.05**2)/2/6*2\n",
    "\n",
    "print('Predicted = ',Energy_Benzene+p2_d0+p2_d1+p2_d2 +p2_nn-b_nn, ' ///  true  = ',Energy_Pyrimidine_b, ' ///  true  = ',Energy_Pyrimidine)\n",
    "print(Energy_Benzene,p2_d0,p2_d1,p2_d2)"
   ]
  },
  {
   "cell_type": "markdown",
   "metadata": {},
   "source": [
    "Triazine Prediction "
   ]
  },
  {
   "cell_type": "code",
   "execution_count": 11,
   "metadata": {},
   "outputs": [
    {
     "name": "stdout",
     "output_type": "stream",
     "text": [
      "Predicted =  -279.6669568658532  ///  true_b  =  -279.639214010391  ///  true  =  -279.80511862026054\n",
      "-231.7425726453491 -42.17867625977398 -5.9163166241090925 0.3702591739141132\n"
     ]
    }
   ],
   "source": [
    "p3_d0=np.einsum('ij,ji',dmBenz,dV3)\n",
    "p3_d1=np.einsum('ij,ji',dm1p-dm1m,dV3)/.1/2*3\n",
    "p3_d2=np.einsum('ij,ji',dm1p-2*dmBenz+dm1m,dV3)/(.05**2)/6*3\n",
    "p3_d2+=np.einsum('ij,ji',dm12pp-2*dm1p-2*dm1m+2*dmBenz+dm12mm,dV3)/(.05**2)/2/6*2*3\n",
    "\n",
    "print('Predicted = ',Energy_Benzene+p3_d0+p3_d1+p3_d2 +p3_nn-b_nn, ' ///  true_b  = ',Energy_Triazine_b , ' ///  true  = ',Energy_Triazine )\n",
    "print(Energy_Benzene,p3_d0,p3_d1,p3_d2)"
   ]
  },
  {
   "cell_type": "code",
   "execution_count": 12,
   "metadata": {},
   "outputs": [
    {
     "data": {
      "text/plain": [
       "-0.19691791965887973"
      ]
     },
     "execution_count": 12,
     "metadata": {},
     "output_type": "execute_result"
    }
   ],
   "source": [
    "E_N_CH= -54.46590003755885\n",
    "E_N=-54.53153934411181\n",
    "correct=E_N-E_N_CH\n",
    "correct*3"
   ]
  },
  {
   "cell_type": "code",
   "execution_count": 13,
   "metadata": {},
   "outputs": [
    {
     "name": "stdout",
     "output_type": "stream",
     "text": [
      "Predicted =  -247.78112817149344  ///  true  =  -247.761849080993\n",
      "Predicted =  -263.8216073773973  ///  true  =  -263.7827135573776\n",
      "Predicted =  -279.86387478551205  ///  true  =  -279.80511862026054\n",
      "######  without correct ########\n",
      "Predicted =  -247.71548886494048  ///  true  =  -247.761849080993\n",
      "Predicted =  -263.6903287642914  ///  true  =  -263.7827135573776\n",
      "Predicted =  -279.6669568658532  ///  true  =  -279.80511862026054\n"
     ]
    }
   ],
   "source": [
    "print('Predicted = ',Energy_Benzene+p1_d0+p1_d1+p1_d2 +p1_nn-b_nn+correct,  ' ///  true  = ',Energy_Pyridine)\n",
    "print('Predicted = ',Energy_Benzene+p2_d0+p2_d1+p2_d2 +p2_nn-b_nn+correct*2,  ' ///  true  = ',Energy_Pyrimidine)\n",
    "print('Predicted = ',Energy_Benzene+p3_d0+p3_d1+p3_d2 +p3_nn-b_nn+correct*3, ' ///  true  = ',Energy_Triazine )\n",
    "\n",
    "print(\"######  without correct ########\")\n",
    "print('Predicted = ',Energy_Benzene+p1_d0+p1_d1+p1_d2 +p1_nn-b_nn, ' ///  true  = ',Energy_Pyridine)\n",
    "print('Predicted = ',Energy_Benzene+p2_d0+p2_d1+p2_d2 +p2_nn-b_nn,  ' ///  true  = ',Energy_Pyrimidine)\n",
    "print('Predicted = ',Energy_Benzene+p3_d0+p3_d1+p3_d2 +p3_nn-b_nn, ' ///  true  = ',Energy_Triazine )\n"
   ]
  },
  {
   "cell_type": "code",
   "execution_count": 14,
   "metadata": {},
   "outputs": [
    {
     "name": "stdout",
     "output_type": "stream",
     "text": [
      "Predicted =  -0.019279090500447182\n",
      "Predicted =  -0.03889382001972308\n",
      "Predicted =  -0.058756165251509174\n",
      "\n",
      "Predicted =  0.04636021605250562\n",
      "Predicted =  0.09238479308618253\n",
      "Predicted =  0.13816175440734924\n"
     ]
    }
   ],
   "source": [
    "print('Predicted = ',Energy_Benzene+p1_d0+p1_d1+p1_d2 +p1_nn-b_nn+correct-Energy_Pyridine)\n",
    "print('Predicted = ',Energy_Benzene+p2_d0+p2_d1+p2_d2 +p2_nn-b_nn+correct*2-Energy_Pyrimidine)\n",
    "print('Predicted = ',Energy_Benzene+p3_d0+p3_d1+p3_d2 +p3_nn-b_nn+correct*3-Energy_Triazine )\n",
    "print (\"\")\n",
    "print('Predicted = ',Energy_Benzene+p1_d0+p1_d1+p1_d2 +p1_nn-b_nn-Energy_Pyridine)\n",
    "print('Predicted = ',Energy_Benzene+p2_d0+p2_d1+p2_d2 +p2_nn-b_nn-Energy_Pyrimidine)\n",
    "print('Predicted = ',Energy_Benzene+p3_d0+p3_d1+p3_d2 +p3_nn-b_nn-Energy_Triazine )\n"
   ]
  },
  {
   "cell_type": "code",
   "execution_count": 15,
   "metadata": {},
   "outputs": [],
   "source": [
    "p1epc=Energy_Benzene+p1_d0+p1_d1+p1_d2 +p1_nn-b_nn+correct \n",
    "p2epc=Energy_Benzene+p2_d0+p2_d1+p2_d2 +p2_nn-b_nn+correct*2\n",
    "p3epc=Energy_Benzene+p3_d0+p3_d1+p3_d2 +p3_nn-b_nn+correct*3\n",
    "\n",
    "p1ep=Energy_Benzene+p1_d0+p1_d1+p1_d2 +p1_nn-b_nn\n",
    "p2ep=Energy_Benzene+p2_d0+p2_d1+p2_d2 +p2_nn-b_nn\n",
    "p3ep=Energy_Benzene+p3_d0+p3_d1+p3_d2 +p3_nn-b_nn "
   ]
  },
  {
   "cell_type": "code",
   "execution_count": 16,
   "metadata": {},
   "outputs": [
    {
     "name": "stdout",
     "output_type": "stream",
     "text": [
      "2.0002649786125755\n",
      "2.000497851452198\n",
      "2.000704115787813\n"
     ]
    }
   ],
   "source": [
    "print(p1epc/p1ep+1)\n",
    "print(p2epc/p2ep+1)\n",
    "print(p3epc/p3ep+1)"
   ]
  },
  {
   "cell_type": "code",
   "execution_count": 17,
   "metadata": {},
   "outputs": [],
   "source": [
    "import matplotlib.pyplot as plt\n",
    "import matplotlib.image as image\n",
    "from matplotlib.offsetbox import OffsetImage,AnnotationBbox\n",
    "import matplotlib.lines as lines"
   ]
  },
  {
   "cell_type": "code",
   "execution_count": 18,
   "metadata": {},
   "outputs": [
    {
     "data": {
      "text/plain": [
       "'fig, ax = plt.subplots(figsize=(12,6))\\nplt.xlabels=[]\\nplt.scatter([0,1,2,3],[Energy_Benzene,p1epc,p2epc,p3epc],marker=\\'o\\')\\nplt.scatter([0,1,2,3],[Energy_Benzene,Energy_Pyridine,Energy_Pyrimidine,Energy_Triazine],marker=\\'x\\')\\n\\nbenzfig=image.imread(\\'./benz.png\\', format=\\'png\\')\\np1fig=image.imread(\\'./p1.png\\', format=\\'png\\')\\np2fig=image.imread(\\'./p2.png\\', format=\\'png\\')\\np3fig=image.imread(\\'./p3.png\\', format=\\'png\\')\\n\\nimagebox = OffsetImage(benzfig, zoom=1.)\\nimagebox.image.axes = ax\\nab = AnnotationBbox(imagebox, [-0.125,-225],xybox=(20., 20.),xycoords=\\'data\\',\\n                    frameon=False,boxcoords=\"offset points\",pad=0.)\\nax.add_artist(ab)\\n\\nimagebox = OffsetImage(p1fig, zoom=1.)\\nimagebox.image.axes = ax\\nab = AnnotationBbox(imagebox, [0.875,-225],xybox=(20., 20.),xycoords=\\'data\\',\\n                    frameon=False,boxcoords=\"offset points\",pad=0.)\\nax.add_artist(ab)\\n\\nimagebox = OffsetImage(p2fig, zoom=1.)\\nimagebox.image.axes = ax\\nab = AnnotationBbox(imagebox, [1.875,-225],xybox=(20., 20.),xycoords=\\'data\\',\\n                    frameon=False,boxcoords=\"offset points\",pad=0.)\\nax.add_artist(ab)\\n\\nimagebox = OffsetImage(p3fig, zoom=1.)\\nimagebox.image.axes = ax\\nab = AnnotationBbox(imagebox, [2.875,-225],xybox=(20., 20.),xycoords=\\'data\\',\\n                    frameon=False,boxcoords=\"offset points\",pad=0.)\\n\\nax.add_artist(ab)\\nplt.xlim(-0.5,3.5)\\nplt.ylim(-285,-210)\\nplt.xlabel([])'"
      ]
     },
     "execution_count": 18,
     "metadata": {},
     "output_type": "execute_result"
    }
   ],
   "source": [
    "\"\"\"fig, ax = plt.subplots(figsize=(12,6))\n",
    "plt.xlabels=[]\n",
    "plt.scatter([0,1,2,3],[Energy_Benzene,p1epc,p2epc,p3epc],marker='o')\n",
    "plt.scatter([0,1,2,3],[Energy_Benzene,Energy_Pyridine,Energy_Pyrimidine,Energy_Triazine],marker='x')\n",
    "\n",
    "benzfig=image.imread('./benz.png', format='png')\n",
    "p1fig=image.imread('./p1.png', format='png')\n",
    "p2fig=image.imread('./p2.png', format='png')\n",
    "p3fig=image.imread('./p3.png', format='png')\n",
    "\n",
    "imagebox = OffsetImage(benzfig, zoom=1.)\n",
    "imagebox.image.axes = ax\n",
    "ab = AnnotationBbox(imagebox, [-0.125,-225],xybox=(20., 20.),xycoords='data',\n",
    "                    frameon=False,boxcoords=\"offset points\",pad=0.)\n",
    "ax.add_artist(ab)\n",
    "\n",
    "imagebox = OffsetImage(p1fig, zoom=1.)\n",
    "imagebox.image.axes = ax\n",
    "ab = AnnotationBbox(imagebox, [0.875,-225],xybox=(20., 20.),xycoords='data',\n",
    "                    frameon=False,boxcoords=\"offset points\",pad=0.)\n",
    "ax.add_artist(ab)\n",
    "\n",
    "imagebox = OffsetImage(p2fig, zoom=1.)\n",
    "imagebox.image.axes = ax\n",
    "ab = AnnotationBbox(imagebox, [1.875,-225],xybox=(20., 20.),xycoords='data',\n",
    "                    frameon=False,boxcoords=\"offset points\",pad=0.)\n",
    "ax.add_artist(ab)\n",
    "\n",
    "imagebox = OffsetImage(p3fig, zoom=1.)\n",
    "imagebox.image.axes = ax\n",
    "ab = AnnotationBbox(imagebox, [2.875,-225],xybox=(20., 20.),xycoords='data',\n",
    "                    frameon=False,boxcoords=\"offset points\",pad=0.)\n",
    "\n",
    "ax.add_artist(ab)\n",
    "plt.xlim(-0.5,3.5)\n",
    "plt.ylim(-285,-210)\n",
    "plt.xlabel([])\"\"\"\n",
    "#plt.savefig('benz_pyr.png',bbox='tight')"
   ]
  },
  {
   "cell_type": "code",
   "execution_count": 22,
   "metadata": {
    "scrolled": true
   },
   "outputs": [
    {
     "data": {
      "image/png": "[encoded data removed]",
      "text/plain": [
       "<Figure size 864x432 with 1 Axes>"
      ]
     },
     "metadata": {
      "needs_background": "light"
     },
     "output_type": "display_data"
    }
   ],
   "source": [
    "benzfig=image.imread('./benz.png', format='png')\n",
    "p1fig=image.imread('./p1.png', format='png')\n",
    "p2fig=image.imread('./p2.png', format='png')\n",
    "p3fig=image.imread('./p3.png', format='png')\n",
    "\n",
    "fig, ax = plt.subplots(figsize=(10,5))\n",
    "peec=[p1epc,p2epc,p3epc]\n",
    "pee=[p1ep,p2ep,p3ep]\n",
    "true_en=[Energy_Benzene,Energy_Pyridine,Energy_Pyrimidine,Energy_Triazine]\n",
    "en_benzbs=[Energy_Pyridine_b,Energy_Pyrimidine_b,Energy_Triazine_b]\n",
    "\n",
    "\n",
    "for i in range(2):\n",
    "    ax.plot([i+.7,i+1.3],1000*np.asarray([en_benzbs[i]-true_en[i+1],en_benzbs[i]-true_en[i+1]]),color ='C1',ls='-',lw=2)\n",
    "for i in range(2):\n",
    "    ax.plot([i+.7,i+1.3],1000*np.asarray([pee[i]-true_en[i+1],pee[i]-true_en[i+1]]),color ='C3',ls='-.',lw=2.)\n",
    "for i in range(2):\n",
    "    ax.plot([i+.7,i+1.3],1000*np.asarray([peec[i]-true_en[i+1],peec[i]-true_en[i+1]]),color ='C2',ls='--',lw=2.)\n",
    "\n",
    "ax.plot([2+.7,2+1.3],1000*np.asarray([en_benzbs[2]-true_en[2+1],en_benzbs[2]-true_en[2+1]]),color ='C1',lw=2.,ls='-',label=\"$E^{\\mathrm{T[R]}}$\")\n",
    "ax.plot([2+.7,2+1.3],1000*np.asarray([pee[2]-true_en[2+1],pee[2]-true_en[2+1]]),color ='C3',ls='-.',lw=2.,label=\"APDFT3\")\n",
    "ax.plot([.6,3.4],[0,0],color ='C0',ls=':',label=\"CCSD\",lw=3.)\n",
    "ax.plot([2+.7,2+1.3],1000*np.asarray([peec[2]-true_en[2+1],peec[2]-true_en[2+1]]),color='C2',ls='--',lw=2.,\n",
    "        label=\"APDFT3-BSC\")\n",
    "\n",
    "\n",
    "imagebox = OffsetImage(p1fig, zoom=.7)\n",
    "imagebox.image.axes = ax\n",
    "ab = AnnotationBbox(imagebox, [0.9,-220],xybox=(20., 20.),xycoords='data',frameon=False,boxcoords=\"offset points\",pad=0.)\n",
    "ax.add_artist(ab)\n",
    "\n",
    "imagebox = OffsetImage(p2fig, zoom=.7)\n",
    "imagebox.image.axes = ax\n",
    "ab = AnnotationBbox(imagebox, [1.9,-220],xybox=(20.,20.),xycoords='data', frameon=False,boxcoords=\"offset points\",pad=0.)\n",
    "ax.add_artist(ab)\n",
    "\n",
    "imagebox = OffsetImage(p3fig, zoom=.7)\n",
    "imagebox.image.axes = ax\n",
    "ab = AnnotationBbox(imagebox, [2.9,-225],xybox=(20., 20.),xycoords='data', frameon=False,boxcoords=\"offset points\",pad=0.)\n",
    "\n",
    "ax.arrow( 1,(pee[0]-true_en[1])*1000 ,0,(peec[0]-pee[0])*1000+30 , head_width=.04, head_length=30,color='black')\n",
    "ax.arrow( 1+1,(pee[1]-true_en[1+1])*1000 ,0,(peec[1]-pee[1])*1000+35 , head_width=.05, head_length=35,color='black')\n",
    "ax.arrow( 2+1,(pee[2]-true_en[2+1])*1000 ,0,(peec[2]-pee[2])*1000+40 , head_width=.05, head_length=40,color='black')\n",
    "\n",
    "ax.add_artist(ab)  \n",
    "ax.set_xticks([])\n",
    "ax.tick_params(axis=\"y\",labelsize=22)\n",
    "plt.ylim(-300,300)\n",
    "plt.xlim(.6,3.4)\n",
    "plt.legend(fontsize=25,loc=[.02,.75],frameon=False,ncol=2)\n",
    "ax.set_yticks([-100,0,100,200,-200])\n",
    "\n",
    "ax.set_ylabel( r\"$\\Delta E$  [mHa]\", fontsize=35)\n",
    "fig.set_size_inches(12,6)\n",
    "#plt.savefig('benz_pyr.pdf',bbox='lose',dpi=500)\n",
    "pp = PdfPages(\"benz_pyr.pdf\")\n",
    "pp.savefig(fig, bbox_inches='tight',dpi=500)\n",
    "pp.close() "
   ]
  },
  {
   "cell_type": "code",
   "execution_count": null,
   "metadata": {},
   "outputs": [],
   "source": []
  }
 ],
 "metadata": {
  "kernelspec": {
   "display_name": "Python 3",
   "language": "python",
   "name": "python3"
  },
  "language_info": {
   "codemirror_mode": {
    "name": "ipython",
    "version": 3
   },
   "file_extension": ".py",
   "mimetype": "text/x-python",
   "name": "python",
   "nbconvert_exporter": "python",
   "pygments_lexer": "ipython3",
   "version": "3.7.4"
  }
 },
 "nbformat": 4,
 "nbformat_minor": 2
}
