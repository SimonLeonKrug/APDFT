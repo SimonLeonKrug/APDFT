{
 "cells": [
  {
   "cell_type": "code",
   "execution_count": 5,
   "metadata": {},
   "outputs": [],
   "source": [
    "import numpy as np\n",
    "from pyscf import gto,scf\n",
    "from pyscf.grad import rhf as grhf\n",
    "from pyscf.hessian import rhf as hrhf"
   ]
  },
  {
   "cell_type": "markdown",
   "metadata": {},
   "source": [
    "### Morse potential\n",
    "The Morse potential is the best fit for the binding potential of a diatomic molecule. <br>\n",
    "It's parameters are: $D_e$ , the positive Dissociation Energy, $r_e$ the distance of equilibrium, and $a$ a parameter that gives the width of the energy hole.<br>\n",
    "$a$ is correlated to the second derivative $k$ in the minum bt the relationship:\n",
    "$ a = \\sqrt{k_e/2D_e} $ and at reverse $ k_e = 2D_e a^2 $ <br>\n",
    "If we assume the energy in the minimum to be zero we use the following expression:\n",
    "$$ V_{Morse}(r)= D_e (1-e^{-a(r-r_e)})^2\n",
    "$$\n",
    "If other wise we chose to fit the total elettrostatic plus kinetic energy of the system, than we can express the potential as :\n",
    "$$  V_{Morse}(r)= D_e (e^{-a2(r-r_e)}-2e^{-a(r-r_e)})+V(r=\\infty)\n",
    "$$\n",
    "Such expression can be usefull because the V at infinite can be estimate accuratly from QM calculation for separated atoms (as long as the method chosen is size-consistent) , once for all. <br>\n",
    "what we are left with is an expression of the potential in terms of only three parameters. <br>\n",
    "If a method posses analytical first and second derivative we can fit with one single scf the whole potential energy curve of the biatomic dissociation. <br>\n",
    "Such a scf can also come from an alchemycal perturbed density functional calculation... <br>\n",
    "If this thing will in future be implemented, would be usefull the expression for the first and second derivatives of the Morse potential: \n",
    "$$  V_{Morse}(r)= D_e (e^{-2a(r-r_e)}-2e^{-a(r-r_e)})+D_e\n",
    "$$ <br>\n",
    "$$ \\frac{dV_{Morse}}{dr}= -2a D_e(e^{-2a(r-r_e)}-e^{-a(r-r_e)}) \n",
    "$$ <br>\n",
    "$$ \\frac{dV_{Morse}^2}{dr^2}= -2a^2 D_e(e^{-a(r-r_e)}-2e^{-2a(r-r_e)})\n",
    "$$ \n",
    "if $t=e^{-a(r-r_e)}$"
   ]
  },
  {
   "cell_type": "markdown",
   "metadata": {},
   "source": [
    "$$ \\frac{dV_{Morse}}{dr}= 2D_e a (t-t^2) \n",
    "$$ <br>\n",
    "$$ \\frac{dV_{Morse}^2}{dr^2}= 2 D_e a^2 (2t^2-t)\n",
    "$$ "
   ]
  },
  {
   "cell_type": "markdown",
   "metadata": {},
   "source": [
    "$$ \\tilde g = \\frac{g}{2D_e} $$<br>\n",
    "$$\\tilde h = \\frac{h}{2D_e}$$"
   ]
  },
  {
   "cell_type": "markdown",
   "metadata": {},
   "source": [
    "$$ \\tilde{g}= a t(1-t) \n",
    "$$ <br>\n",
    "$$  \\tilde h = a^2 t(2t-1)\n",
    "$$ <br>\n",
    "$$ \\frac{\\tilde g ^2}{\\tilde h} =Z= \\frac{ t(1-t)^2}{2t-1}\n",
    "$$"
   ]
  },
  {
   "cell_type": "markdown",
   "metadata": {},
   "source": [
    "$$ t^3 -2t^2+t =Z(2t-1) $$ <br>$$\n",
    "t^3-2t^2+(1-2Z)t-Z=0\n",
    "$$\n",
    "To be solved for t>0"
   ]
  },
  {
   "cell_type": "code",
   "execution_count": 121,
   "metadata": {},
   "outputs": [],
   "source": [
    "def MorseV(r,D,a,re):\n",
    "    return D*(np.exp(-2*a*(r-re))-2*np.exp(-a*(r-re)))+D"
   ]
  },
  {
   "cell_type": "code",
   "execution_count": 3,
   "metadata": {},
   "outputs": [
    {
     "data": {
      "text/plain": [
       "array([ 2.91433544e-16+1.j,  2.91433544e-16-1.j, -5.00000000e-01+0.j])"
      ]
     },
     "execution_count": 3,
     "metadata": {},
     "output_type": "execute_result"
    }
   ],
   "source": [
    "np.roots([2,1,2,1])"
   ]
  },
  {
   "cell_type": "code",
   "execution_count": 28,
   "metadata": {},
   "outputs": [
    {
     "name": "stdout",
     "output_type": "stream",
     "text": [
      "converged SCF energy = -107.500654261793\n",
      "--------------- RHF gradients ---------------\n",
      "         x                y                z\n",
      "0 N    -0.0000000000     0.0000000000    -0.0000601570\n",
      "1 N     0.0000000000    -0.0000000000     0.0000601570\n",
      "----------------------------------------------\n"
     ]
    },
    {
     "data": {
      "text/plain": [
       "6.0156999309057824e-05"
      ]
     },
     "execution_count": 28,
     "metadata": {},
     "output_type": "execute_result"
    }
   ],
   "source": [
    "mol=gto.M(atom=\"N 0 0 0;N 0 0 2.1427\", unit=\"Bohr\")\n",
    "mf=scf.RHF(mol)\n",
    "mf.scf()\n",
    "mf.Gradients().grad()[1,2]"
   ]
  },
  {
   "cell_type": "code",
   "execution_count": 225,
   "metadata": {},
   "outputs": [
    {
     "name": "stdout",
     "output_type": "stream",
     "text": [
      "converged SCF energy = -107.478024957254\n",
      "--------------- RHF gradients ---------------\n",
      "         x                y                z\n",
      "0 N    -0.0000000000    -0.0000000000     0.3437319967\n",
      "1 N     0.0000000000     0.0000000000    -0.3437319967\n",
      "----------------------------------------------\n"
     ]
    }
   ],
   "source": [
    "R0=2\n",
    "mol=gto.M(atom=\"N 0 0 0;N 0 0 {}\".format(R0), unit=\"Bohr\")\n",
    "mf=scf.RHF(mol)\n",
    "mf.scf()\n",
    "g=mf.Gradients().grad()[1,2]\n",
    "h=mf.Hessian().hess()[1,1,2,2]"
   ]
  },
  {
   "cell_type": "code",
   "execution_count": 226,
   "metadata": {},
   "outputs": [
    {
     "data": {
      "text/plain": [
       "(-0.3437319966680974, 3.0061360153677725)"
      ]
     },
     "execution_count": 226,
     "metadata": {},
     "output_type": "execute_result"
    }
   ],
   "source": [
    "g,h"
   ]
  },
  {
   "cell_type": "code",
   "execution_count": 227,
   "metadata": {},
   "outputs": [],
   "source": [
    "De=1\n",
    "Z=g**2/(2*De)/h"
   ]
  },
  {
   "cell_type": "markdown",
   "metadata": {},
   "source": [
    "$$ t^3 -2t^2+t =Z(2t-1) $$ <br>$$\n",
    "t^3-2t^2+(1-2Z)t+Z=0\n",
    "$$\n",
    "To be solved for t>0"
   ]
  },
  {
   "cell_type": "code",
   "execution_count": 228,
   "metadata": {},
   "outputs": [
    {
     "data": {
      "text/plain": [
       "array([ 1.14899701,  0.87064745, -0.01964446])"
      ]
     },
     "execution_count": 228,
     "metadata": {},
     "output_type": "execute_result"
    }
   ],
   "source": [
    "np.roots([1,-2,1-2*Z,+Z])"
   ]
  },
  {
   "cell_type": "code",
   "execution_count": 229,
   "metadata": {},
   "outputs": [
    {
     "data": {
      "text/plain": [
       "1.1489970074166884"
      ]
     },
     "execution_count": 229,
     "metadata": {},
     "output_type": "execute_result"
    }
   ],
   "source": [
    "t=float(np.roots([1,-2,1-2*Z,+Z])[0])\n",
    "t"
   ]
  },
  {
   "cell_type": "markdown",
   "metadata": {},
   "source": [
    "$$ a=\\frac{\\tilde g}{t(1-t)}$$"
   ]
  },
  {
   "cell_type": "code",
   "execution_count": 230,
   "metadata": {},
   "outputs": [
    {
     "data": {
      "text/plain": [
       "1.0039070909328547"
      ]
     },
     "execution_count": 230,
     "metadata": {},
     "output_type": "execute_result"
    }
   ],
   "source": [
    "a=g/(2*De)/(t*(1-t))\n",
    "a"
   ]
  },
  {
   "cell_type": "markdown",
   "metadata": {},
   "source": [
    "$$ t=e^{-a(r-r_e)}\n",
    "$$"
   ]
  },
  {
   "cell_type": "code",
   "execution_count": 231,
   "metadata": {},
   "outputs": [],
   "source": [
    "dX=np.log(t)/a"
   ]
  },
  {
   "cell_type": "code",
   "execution_count": 232,
   "metadata": {},
   "outputs": [
    {
     "data": {
      "text/plain": [
       "2.1383488528037162"
      ]
     },
     "execution_count": 232,
     "metadata": {},
     "output_type": "execute_result"
    }
   ],
   "source": [
    "R0+dX"
   ]
  },
  {
   "cell_type": "code",
   "execution_count": 233,
   "metadata": {},
   "outputs": [
    {
     "data": {
      "text/plain": [
       "2.114343461144437"
      ]
     },
     "execution_count": 233,
     "metadata": {},
     "output_type": "execute_result"
    }
   ],
   "source": [
    "R0-g/h"
   ]
  },
  {
   "cell_type": "code",
   "execution_count": null,
   "metadata": {},
   "outputs": [],
   "source": []
  },
  {
   "cell_type": "code",
   "execution_count": null,
   "metadata": {},
   "outputs": [],
   "source": []
  }
 ],
 "metadata": {
  "kernelspec": {
   "display_name": "Python 3",
   "language": "python",
   "name": "python3"
  },
  "language_info": {
   "codemirror_mode": {
    "name": "ipython",
    "version": 3
   },
   "file_extension": ".py",
   "mimetype": "text/x-python",
   "name": "python",
   "nbconvert_exporter": "python",
   "pygments_lexer": "ipython3",
   "version": "3.7.3"
  }
 },
 "nbformat": 4,
 "nbformat_minor": 2
}
