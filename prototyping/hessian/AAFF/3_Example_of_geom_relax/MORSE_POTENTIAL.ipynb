{
 "cells": [
  {
   "cell_type": "code",
   "execution_count": 1,
   "metadata": {},
   "outputs": [],
   "source": [
    "import numpy as np\n",
    "from pyscf import gto,scf\n",
    "from pyscf.grad import rhf as grhf\n",
    "from pyscf.hessian import rhf as hrhf"
   ]
  },
  {
   "cell_type": "markdown",
   "metadata": {},
   "source": [
    "### Morse potential\n",
    "The Morse potential is the best fit for the binding potential of a diatomic molecule. <br>\n",
    "It's parameters are: $D_e$ , the positive Dissociation Energy, $r_e$ the distance of equilibrium, and $a$ a parameter that gives the width of the energy hole.<br>\n",
    "$a$ is correlated to the second derivative $k$ in the minum bt the relationship:\n",
    "$ a = \\sqrt{k_e/2D_e} $ and at reverse $ k_e = 2D_e a^2 $ <br>\n",
    "If we assume the energy in the minimum to be zero we use the following expression:\n",
    "$$ V_{Morse}(r)= D_e (1-e^{-a(r-r_e)})^2\n",
    "$$\n",
    "If other wise we chose to fit the total elettrostatic plus kinetic energy of the system, than we can express the potential as :\n",
    "$$  V_{Morse}(r)= D_e (e^{-a2(r-r_e)}-2e^{-a(r-r_e)})+V(r=\\infty)\n",
    "$$\n",
    "Such expression can be usefull because the V at infinite can be estimate accuratly from QM calculation for separated atoms (as long as the method chosen is size-consistent) , once for all. <br>\n",
    "what we are left with is an expression of the potential in terms of only three parameters. <br>\n",
    "If a method posses analytical first and second derivative we can fit with one single scf the whole potential energy curve of the biatomic dissociation. <br>\n",
    "Such a scf can also come from an alchemycal perturbed density functional calculation... <br>\n",
    "If this thing will in future be implemented, would be usefull the expression for the first and second derivatives of the Morse potential: \n",
    "$$  V_{Morse}(r)= D_e (e^{-2a(r-r_e)}-2e^{-a(r-r_e)})+D_e\n",
    "$$ <br>\n",
    "$$ \\frac{dV_{Morse}}{dr}= -2a D_e(e^{-2a(r-r_e)}-e^{-a(r-r_e)}) \n",
    "$$ <br>\n",
    "$$ \\frac{dV_{Morse}^2}{dr^2}= -2a^2 D_e(e^{-a(r-r_e)}-2e^{-2a(r-r_e)})\n",
    "$$ \n",
    "if $t=e^{-a(r-r_e)}$"
   ]
  },
  {
   "cell_type": "markdown",
   "metadata": {},
   "source": [
    "$$ \\frac{dV_{Morse}}{dr}= 2D_e a (t-t^2) \n",
    "$$ <br>\n",
    "$$ \\frac{dV_{Morse}^2}{dr^2}= 2 D_e a^2 (2t^2-t)\n",
    "$$ "
   ]
  },
  {
   "cell_type": "markdown",
   "metadata": {},
   "source": [
    "$$ \\tilde g = \\frac{g}{2D_e} $$<br>\n",
    "$$\\tilde h = \\frac{h}{2D_e}$$"
   ]
  },
  {
   "cell_type": "markdown",
   "metadata": {},
   "source": [
    "$$ \\tilde{g}= a t(1-t) \n",
    "$$ <br>\n",
    "$$  \\tilde h = a^2 t(2t-1)\n",
    "$$ <br>\n",
    "$$ \\frac{\\tilde g ^2}{\\tilde h} =Z= \\frac{ t(1-t)^2}{2t-1}\n",
    "$$"
   ]
  },
  {
   "cell_type": "markdown",
   "metadata": {},
   "source": [
    "$$ t^3 -2t^2+t =Z(2t-1) $$ <br>$$\n",
    "t^3-2t^2+(1-2Z)t-Z=0\n",
    "$$\n",
    "To be solved for t>0"
   ]
  },
  {
   "cell_type": "code",
   "execution_count": 2,
   "metadata": {},
   "outputs": [],
   "source": [
    "def MorseV(r,D,a,re):\n",
    "    return D*(np.exp(-2*a*(r-re))-2*np.exp(-a*(r-re)))+D"
   ]
  },
  {
   "cell_type": "code",
   "execution_count": 3,
   "metadata": {},
   "outputs": [
    {
     "data": {
      "text/plain": [
       "array([ 2.91433544e-16+1.j,  2.91433544e-16-1.j, -5.00000000e-01+0.j])"
      ]
     },
     "execution_count": 3,
     "metadata": {},
     "output_type": "execute_result"
    }
   ],
   "source": [
    "np.roots([2,1,2,1])"
   ]
  },
  {
   "cell_type": "code",
   "execution_count": 4,
   "metadata": {},
   "outputs": [
    {
     "name": "stdout",
     "output_type": "stream",
     "text": [
      "converged SCF energy = -107.500654261793\n",
      "--------------- RHF gradients ---------------\n",
      "         x                y                z\n",
      "0 N    -0.0000000000    -0.0000000000    -0.0000601570\n",
      "1 N     0.0000000000     0.0000000000     0.0000601570\n",
      "----------------------------------------------\n"
     ]
    },
    {
     "data": {
      "text/plain": [
       "6.015699931083418e-05"
      ]
     },
     "execution_count": 4,
     "metadata": {},
     "output_type": "execute_result"
    }
   ],
   "source": [
    "mol=gto.M(atom=\"N 0 0 0;N 0 0 2.1427\", unit=\"Bohr\")\n",
    "mf=scf.RHF(mol)\n",
    "mf.scf()\n",
    "mf.Gradients().grad()[1,2]"
   ]
  },
  {
   "cell_type": "code",
   "execution_count": 39,
   "metadata": {},
   "outputs": [
    {
     "name": "stdout",
     "output_type": "stream",
     "text": [
      "converged SCF energy = -111.225449512559\n",
      "--------------- RHF gradients ---------------\n",
      "         x                y                z\n",
      "0 C     0.0000000000     0.0000000000     0.0000706232\n",
      "1 O    -0.0000000000    -0.0000000000    -0.0000706232\n",
      "----------------------------------------------\n"
     ]
    },
    {
     "data": {
      "text/plain": [
       "-7.062321091133583e-05"
      ]
     },
     "execution_count": 39,
     "metadata": {},
     "output_type": "execute_result"
    }
   ],
   "source": [
    "mol=gto.M(atom=\"C 0 0 0;O 0 0 2.1646\", unit=\"Bohr\")\n",
    "mf=scf.RHF(mol)\n",
    "mf.scf()\n",
    "mf.Gradients().grad()[1,2]"
   ]
  },
  {
   "cell_type": "code",
   "execution_count": 27,
   "metadata": {},
   "outputs": [
    {
     "name": "stdout",
     "output_type": "stream",
     "text": [
      "converged SCF energy = -111.179064277324\n",
      "--------------- RHF gradients ---------------\n",
      "         x                y                z\n",
      "0 C    -0.0000000000    -0.0000000000     0.4875603410\n",
      "1 O     0.0000000000     0.0000000000    -0.4875603410\n",
      "----------------------------------------------\n"
     ]
    }
   ],
   "source": [
    "R0=1.95\n",
    "mol=gto.M(atom=\"C 0 0 0;O 0 0 {}\".format(R0), unit=\"Bohr\")\n",
    "mf=scf.RHF(mol)\n",
    "e_co=mf.scf()\n",
    "g=mf.Gradients().grad()[1,2]\n",
    "h=mf.Hessian().hess()[1,1,2,2]"
   ]
  },
  {
   "cell_type": "code",
   "execution_count": 26,
   "metadata": {},
   "outputs": [
    {
     "name": "stdout",
     "output_type": "stream",
     "text": [
      "converged SCF energy = -37.0895866394329\n",
      "converged SCF energy = -73.6618168979007\n"
     ]
    }
   ],
   "source": [
    "ec=scf.RHF(gto.M(atom=\"C 0 0 0\")).scf()\n",
    "eo=scf.RHF(gto.M(atom=\"O 0 0 0\")).scf()"
   ]
  },
  {
   "cell_type": "code",
   "execution_count": 29,
   "metadata": {},
   "outputs": [],
   "source": [
    "bde=ec+eo-e_co"
   ]
  },
  {
   "cell_type": "code",
   "execution_count": 30,
   "metadata": {},
   "outputs": [
    {
     "data": {
      "text/plain": [
       "(-0.4875603410073399, 3.1323209757043315, 0.42766073999034404)"
      ]
     },
     "execution_count": 30,
     "metadata": {},
     "output_type": "execute_result"
    }
   ],
   "source": [
    "g,h,bde"
   ]
  },
  {
   "cell_type": "code",
   "execution_count": 8,
   "metadata": {},
   "outputs": [],
   "source": [
    "De=227/627\n",
    "Z=g**2/(2*De)/h"
   ]
  },
  {
   "cell_type": "markdown",
   "metadata": {},
   "source": [
    "$$ t^3 -2t^2+t =Z(2t-1) $$ <br>$$\n",
    "t^3-2t^2+(1-2Z)t+Z=0\n",
    "$$\n",
    "To be solved for t>0"
   ]
  },
  {
   "cell_type": "code",
   "execution_count": 9,
   "metadata": {},
   "outputs": [
    {
     "data": {
      "text/plain": [
       "array([ 1.36442204,  0.73945964, -0.10388168])"
      ]
     },
     "execution_count": 9,
     "metadata": {},
     "output_type": "execute_result"
    }
   ],
   "source": [
    "np.roots([1,-2,1-2*Z,+Z])"
   ]
  },
  {
   "cell_type": "code",
   "execution_count": 10,
   "metadata": {},
   "outputs": [
    {
     "data": {
      "text/plain": [
       "1.3644220421049187"
      ]
     },
     "execution_count": 10,
     "metadata": {},
     "output_type": "execute_result"
    }
   ],
   "source": [
    "t=float(np.roots([1,-2,1-2*Z,+Z])[0])\n",
    "t"
   ]
  },
  {
   "cell_type": "markdown",
   "metadata": {},
   "source": [
    "$$ a=\\frac{\\tilde g}{t(1-t)}$$"
   ]
  },
  {
   "cell_type": "code",
   "execution_count": 11,
   "metadata": {},
   "outputs": [
    {
     "data": {
      "text/plain": [
       "1.354212118535271"
      ]
     },
     "execution_count": 11,
     "metadata": {},
     "output_type": "execute_result"
    }
   ],
   "source": [
    "a=g/(2*De)/(t*(1-t))\n",
    "a"
   ]
  },
  {
   "cell_type": "markdown",
   "metadata": {},
   "source": [
    "$$ t=e^{-a(r-r_e)}\n",
    "$$"
   ]
  },
  {
   "cell_type": "code",
   "execution_count": 12,
   "metadata": {},
   "outputs": [],
   "source": [
    "dX=np.log(t)/a"
   ]
  },
  {
   "cell_type": "code",
   "execution_count": 13,
   "metadata": {},
   "outputs": [
    {
     "data": {
      "text/plain": [
       "2.17945513656408"
      ]
     },
     "execution_count": 13,
     "metadata": {},
     "output_type": "execute_result"
    }
   ],
   "source": [
    "R0+dX"
   ]
  },
  {
   "cell_type": "code",
   "execution_count": 14,
   "metadata": {},
   "outputs": [
    {
     "data": {
      "text/plain": [
       "2.105654655059019"
      ]
     },
     "execution_count": 14,
     "metadata": {},
     "output_type": "execute_result"
    }
   ],
   "source": [
    "R0-g/h"
   ]
  },
  {
   "cell_type": "code",
   "execution_count": 22,
   "metadata": {},
   "outputs": [],
   "source": [
    "def mpa(g,h,R0,De): # Morse Potential Approximation\n",
    "    Z=g**2/(2*De)/h\n",
    "    for i in range(3):\n",
    "        t=float(np.roots([1,-2,1-2*Z,+Z])[i])\n",
    "        print(np.roots([1,-2,1-2*Z,+Z]))\n",
    "        a=g/(2*De)/(t*(1-t))\n",
    "        print(a)\n",
    "        dX=np.log(t)/a\n",
    "        if a>0 and t>0:\n",
    "            return R0+dX\n",
    "    return -1"
   ]
  },
  {
   "cell_type": "code",
   "execution_count": 37,
   "metadata": {},
   "outputs": [
    {
     "name": "stdout",
     "output_type": "stream",
     "text": [
      "[ 1.33300725  0.75513861 -0.08814586]\n",
      "1.2841412495833624\n"
     ]
    },
    {
     "data": {
      "text/plain": [
       "2.173836340804822"
      ]
     },
     "execution_count": 37,
     "metadata": {},
     "output_type": "execute_result"
    }
   ],
   "source": [
    "mpa(g,h,R0,bde)"
   ]
  },
  {
   "cell_type": "code",
   "execution_count": null,
   "metadata": {},
   "outputs": [],
   "source": []
  },
  {
   "cell_type": "code",
   "execution_count": null,
   "metadata": {},
   "outputs": [],
   "source": []
  }
 ],
 "metadata": {
  "kernelspec": {
   "display_name": "Python 3",
   "language": "python",
   "name": "python3"
  },
  "language_info": {
   "codemirror_mode": {
    "name": "ipython",
    "version": 3
   },
   "file_extension": ".py",
   "mimetype": "text/x-python",
   "name": "python",
   "nbconvert_exporter": "python",
   "pygments_lexer": "ipython3",
   "version": "3.7.3"
  }
 },
 "nbformat": 4,
 "nbformat_minor": 2
}
