{
 "cells": [
  {
   "cell_type": "code",
   "execution_count": 33,
   "metadata": {},
   "outputs": [],
   "source": [
    "from aaff import aaff,alc_deriv_grad_nuc,alc_differential_grad_nuc\n",
    "from FcMole import FcM\n",
    "from alch_deriv import alch_deriv\n",
    "from pyscf import gto,scf\n",
    "import numpy as np \n",
    "from numpy.linalg import norm as norm\n",
    "from scipy.spatial.transform import Rotation as R\n",
    "import matplotlib.pyplot as plt\n",
    "from pyscf.grad import rhf as grhf\n",
    "from pyscf.hessian import rhf as hrhf\n",
    "import basis_set_exchange as bse\n",
    "from FDcoeffs import *\n",
    "from pyscf.geomopt.berny_solver import optimize\n",
    "ang2bohr=1.8897261246\n",
    "bohr2ang=.5291772109"
   ]
  },
  {
   "cell_type": "code",
   "execution_count": 34,
   "metadata": {},
   "outputs": [],
   "source": [
    "l=3.3376\n",
    "x=-(1/24)**.5*l\n",
    "z=(2/3)**.5*l+x\n",
    "ch4str=\"C 0 0 0; H 0 0  {}; H  0  {} {}; H {} {} {}; H {} {} {}\".format(z,l/3**.5,x,l/2,-l*3**.5/6,x,-l/2,-l*3**.5/6,x)"
   ]
  },
  {
   "cell_type": "code",
   "execution_count": 35,
   "metadata": {},
   "outputs": [
    {
     "name": "stdout",
     "output_type": "stream",
     "text": [
      "converged SCF energy = -40.2151804034983\n",
      "--------------- RHF gradients ---------------\n",
      "         x                y                z\n",
      "0 C    -0.0000000000    -0.0000000000     0.0000000000\n",
      "1 H    -0.0000000000    -0.0000000000    -0.0000007926\n",
      "2 H    -0.0000000000    -0.0000007473     0.0000002642\n",
      "3 H    -0.0000006472     0.0000003736     0.0000002642\n",
      "4 H     0.0000006472     0.0000003736     0.0000002642\n",
      "----------------------------------------------\n"
     ]
    }
   ],
   "source": [
    "CH4=gto.M(atom=ch4str,unit=\"bohr\",basis={\"H\":\"pc-2\",'C':bse.get_basis(\"pcX-2\",fmt=\"nwchem\",elements=[6])})\n",
    "mf = scf.RHF(CH4)\n",
    "mf.scf()\n",
    "ge0=mf.Gradients().grad_elec()\n",
    "g0=mf.Gradients().grad()"
   ]
  },
  {
   "cell_type": "code",
   "execution_count": 36,
   "metadata": {},
   "outputs": [],
   "source": [
    "ch4coords=CH4.atom_coords()"
   ]
  },
  {
   "cell_type": "code",
   "execution_count": 37,
   "metadata": {},
   "outputs": [
    {
     "name": "stdout",
     "output_type": "stream",
     "text": [
      "converged SCF energy = -37.589225638503\n",
      "converged SCF energy = -38.8771643174894\n",
      "converged SCF energy = -40.2151804034971\n",
      "converged SCF energy = -41.6026363391304\n",
      "converged SCF energy = -43.0388427656976\n"
     ]
    }
   ],
   "source": [
    "ges=[]\n",
    "af=[]\n",
    "dl=.1\n",
    "for i in range(-2,3):\n",
    "    CH4_p=FcM(fcs=[i*dl,0,0,0,-i*dl],atom=ch4str,unit=\"bohr\",basis={\"H\":\"pc-2\",'C':bse.get_basis(\"pcX-2\",fmt=\"nwchem\",elements=[6])})\n",
    "    mf_p = scf.RHF(CH4_p)\n",
    "    mf_p.scf(dm0=mf_p.init_guess_by_1e())\n",
    "    ges.append(mf_p.Gradients().grad_elec())\n",
    "    af.append(aaff(mf_p,[1,0,0,0,-1]))"
   ]
  },
  {
   "cell_type": "code",
   "execution_count": 38,
   "metadata": {},
   "outputs": [
    {
     "name": "stdout",
     "output_type": "stream",
     "text": [
      "converged SCF energy = -56.2053208898246\n"
     ]
    }
   ],
   "source": [
    "CH4_T=FcM(fcs=[1,0,0,0,-1],atom=ch4str,unit=\"bohr\",basis={\"H\":\"pc-2\",'C':bse.get_basis(\"pcX-2\",fmt=\"nwchem\",elements=[6])})\n",
    "mf_T = scf.RHF(CH4_T)\n",
    "mf_T.scf(dm0=mf_T.init_guess_by_1e())\n",
    "geT=mf_T.Gradients().grad_elec()\n",
    "afT=aaff(mf_T,[1,0,0,0,-1])"
   ]
  },
  {
   "cell_type": "code",
   "execution_count": 39,
   "metadata": {},
   "outputs": [
    {
     "data": {
      "text/plain": [
       "[<matplotlib.lines.Line2D at 0x7f3c9cf10dd8>]"
      ]
     },
     "execution_count": 39,
     "metadata": {},
     "output_type": "execute_result"
    },
    {
     "data": {
      "image/png": "[encoded data removed]",
      "text/plain": [
       "<Figure size 432x288 with 1 Axes>"
      ]
     },
     "metadata": {
      "needs_background": "light"
     },
     "output_type": "display_data"
    }
   ],
   "source": [
    "plt.plot([x[1,2]for x in af] )"
   ]
  },
  {
   "cell_type": "code",
   "execution_count": 40,
   "metadata": {},
   "outputs": [
    {
     "data": {
      "text/plain": [
       "array([[-1.1981676 , -0.69176239, -0.48914987],\n",
       "       [-0.05738844, -0.03313323,  0.23400893],\n",
       "       [-0.05738844,  0.20958132, -0.10924128],\n",
       "       [ 0.15280853, -0.1544905 , -0.10924128],\n",
       "       [ 1.16013594,  0.6698048 ,  0.47362351]])"
      ]
     },
     "execution_count": 40,
     "metadata": {},
     "output_type": "execute_result"
    }
   ],
   "source": [
    "af[2]"
   ]
  },
  {
   "cell_type": "code",
   "execution_count": 41,
   "metadata": {},
   "outputs": [
    {
     "data": {
      "text/plain": [
       "array([[-1.19757899, -0.69142255, -0.48890958],\n",
       "       [-0.05737371, -0.03312473,  0.23398994],\n",
       "       [-0.05737371,  0.20956626, -0.10922694],\n",
       "       [ 0.15280285, -0.15447022, -0.10922694],\n",
       "       [ 1.15952356,  0.66945124,  0.47337351]])"
      ]
     },
     "execution_count": 41,
     "metadata": {},
     "output_type": "execute_result"
    }
   ],
   "source": [
    "(ges[3]-ges[1])/2/dl"
   ]
  },
  {
   "cell_type": "code",
   "execution_count": 42,
   "metadata": {},
   "outputs": [
    {
     "data": {
      "text/plain": [
       "array([[-1.40613462e+00, -8.11832199e-01, -5.74052053e-01],\n",
       "       [-5.00934672e-02, -2.89214768e-02,  1.88573378e+00],\n",
       "       [-5.00934672e-02,  1.76824637e+00, -6.55845358e-01],\n",
       "       [ 1.50629954e+00, -9.27505400e-01, -6.55845358e-01],\n",
       "       [ 2.20071915e-05,  1.27058580e-05,  8.98439833e-06]])"
      ]
     },
     "execution_count": 42,
     "metadata": {},
     "output_type": "execute_result"
    }
   ],
   "source": [
    "geT"
   ]
  },
  {
   "cell_type": "code",
   "execution_count": 49,
   "metadata": {},
   "outputs": [
    {
     "data": {
      "text/plain": [
       "1.7702829824072344"
      ]
     },
     "execution_count": 49,
     "metadata": {},
     "output_type": "execute_result"
    }
   ],
   "source": [
    "norm((geT-ge0)[:4])"
   ]
  },
  {
   "cell_type": "code",
   "execution_count": 50,
   "metadata": {},
   "outputs": [
    {
     "data": {
      "text/plain": [
       "0.2552423433575969"
      ]
     },
     "execution_count": 50,
     "metadata": {},
     "output_type": "execute_result"
    }
   ],
   "source": [
    "ge1=ge0+af[2]\n",
    "norm((geT-ge1)[:4])"
   ]
  },
  {
   "cell_type": "code",
   "execution_count": 45,
   "metadata": {},
   "outputs": [],
   "source": [
    "ge2=ge1+(af[3]-af[1])/(2*dl)/2"
   ]
  },
  {
   "cell_type": "code",
   "execution_count": 46,
   "metadata": {},
   "outputs": [
    {
     "data": {
      "text/plain": [
       "0.09864932729207143"
      ]
     },
     "execution_count": 46,
     "metadata": {},
     "output_type": "execute_result"
    }
   ],
   "source": [
    "norm((geT-ge2)[:4])"
   ]
  },
  {
   "cell_type": "code",
   "execution_count": 53,
   "metadata": {},
   "outputs": [],
   "source": [
    "ge3=ge2+(af[3]-2*af[2]+af[1])/dl**2/6"
   ]
  },
  {
   "cell_type": "code",
   "execution_count": 54,
   "metadata": {},
   "outputs": [
    {
     "data": {
      "text/plain": [
       "0.027083563405324928"
      ]
     },
     "execution_count": 54,
     "metadata": {},
     "output_type": "execute_result"
    }
   ],
   "source": [
    "norm((geT-ge3)[:4])"
   ]
  },
  {
   "cell_type": "code",
   "execution_count": 55,
   "metadata": {},
   "outputs": [
    {
     "data": {
      "text/plain": [
       "(array([[-1.40613462e+00, -8.11832199e-01, -5.74052053e-01],\n",
       "        [-5.00934672e-02, -2.89214768e-02,  1.88573378e+00],\n",
       "        [-5.00934672e-02,  1.76824637e+00, -6.55845358e-01],\n",
       "        [ 1.50629954e+00, -9.27505400e-01, -6.55845358e-01],\n",
       "        [ 2.20071915e-05,  1.27058580e-05,  8.98439833e-06]]),\n",
       " array([[-1.42815428, -0.82454526, -0.58304154],\n",
       "        [-0.0489097 , -0.02823803,  1.88618681],\n",
       "        [-0.0489097 ,  1.7689013 , -0.655352  ],\n",
       "        [ 1.50745861, -0.92680769, -0.655352  ],\n",
       "        [ 0.01851507,  0.01068968,  0.00755874]]))"
      ]
     },
     "execution_count": 55,
     "metadata": {},
     "output_type": "execute_result"
    }
   ],
   "source": [
    "geT,ge3"
   ]
  },
  {
   "cell_type": "code",
   "execution_count": null,
   "metadata": {},
   "outputs": [],
   "source": []
  }
 ],
 "metadata": {
  "kernelspec": {
   "display_name": "Python 3",
   "language": "python",
   "name": "python3"
  },
  "language_info": {
   "codemirror_mode": {
    "name": "ipython",
    "version": 3
   },
   "file_extension": ".py",
   "mimetype": "text/x-python",
   "name": "python",
   "nbconvert_exporter": "python",
   "pygments_lexer": "ipython3",
   "version": "3.7.3"
  }
 },
 "nbformat": 4,
 "nbformat_minor": 2
}
