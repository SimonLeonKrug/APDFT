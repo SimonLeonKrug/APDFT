{
 "cells": [
  {
   "cell_type": "code",
   "execution_count": 163,
   "metadata": {},
   "outputs": [],
   "source": [
    "import inspect\n",
    "from berny import Berny, geomlib, coords,Geometry,Math\n",
    "from aaff import aaff,alc_deriv_grad_nuc,alc_differential_grad_nuc\n",
    "from FcMole import FcM\n",
    "from alch_deriv import alch_deriv\n",
    "from pyscf import gto,scf\n",
    "import numpy as np\n",
    "import ipyvolume as ipv\n",
    "from numpy.linalg import norm as norm\n",
    "from scipy.optimize import  minimize\n",
    "from scipy.spatial.transform import Rotation as R\n",
    "import matplotlib.pyplot as plt\n",
    "from mpl_toolkits import mplot3d\n",
    "from pyscf.grad import rhf as grhf\n",
    "from pyscf.hessian import rhf as hrhf\n",
    "import basis_set_exchange as bse\n",
    "from FDcoeffs import *\n",
    "from pyscf.geomopt.berny_solver import optimize\n",
    "ang2bohr=1.8897261246\n",
    "bohr2ang=.5291772109"
   ]
  },
  {
   "cell_type": "code",
   "execution_count": 164,
   "metadata": {},
   "outputs": [],
   "source": [
    "def mpa(g,h,R0,De): # Morse Potential Approximation\n",
    "    Z=g**2/(2*De)/h\n",
    "    for i in range(3):\n",
    "        t=float(np.roots([1,-2,1-2*Z,+Z])[i])\n",
    "        print(np.roots([1,-2,1-2*Z,+Z]))\n",
    "        a=g/(2*De)/(t*(1-t))\n",
    "        print(a)\n",
    "        dX=np.log(t)/a\n",
    "        if a>0 and t>0:\n",
    "            return R0+dX\n",
    "    return -1"
   ]
  },
  {
   "cell_type": "code",
   "execution_count": 165,
   "metadata": {},
   "outputs": [],
   "source": [
    "def anglecenter(coords):\n",
    "    return np.around(np.arccos(coords[1].dot(coords[2])/norm(coords[1])/norm(coords[2]))*180/np.pi,decimals=3)"
   ]
  },
  {
   "cell_type": "code",
   "execution_count": 166,
   "metadata": {},
   "outputs": [],
   "source": [
    "h2o=gto.M(atom=\"O 0 0 0; H 0 -0.7 .3; H 0 0.7 .3\",basis=\"def2-TZVP\")"
   ]
  },
  {
   "cell_type": "code",
   "execution_count": 167,
   "metadata": {},
   "outputs": [
    {
     "name": "stdout",
     "output_type": "stream",
     "text": [
      "converged SCF energy = -75.9417083056576\n",
      "--------------- RHF gradients ---------------\n",
      "         x                y                z\n",
      "0 O     0.0000000000    -0.0000000000     0.3591502074\n",
      "1 H    -0.0000000000     0.3476755730    -0.1795751037\n",
      "2 H     0.0000000000    -0.3476755730    -0.1795751037\n",
      "----------------------------------------------\n"
     ]
    }
   ],
   "source": [
    "mf=scf.RHF(h2o)\n",
    "E0=mf.scf()\n",
    "g0=mf.Gradients().grad()"
   ]
  },
  {
   "cell_type": "code",
   "execution_count": 168,
   "metadata": {},
   "outputs": [],
   "source": [
    "geom2=Geometry([h2o.atom_symbol(x) for x in range(h2o.natm)],h2o.atom_coords()*bohr2ang)"
   ]
  },
  {
   "cell_type": "code",
   "execution_count": 169,
   "metadata": {},
   "outputs": [
    {
     "data": {
      "text/plain": [
       "(133.603, -1.6969520201507642)"
      ]
     },
     "execution_count": 169,
     "metadata": {},
     "output_type": "execute_result"
    }
   ],
   "source": [
    "anglecenter(h2o.atom_coords()) ,-0.0296174*180/np.pi"
   ]
  },
  {
   "cell_type": "code",
   "execution_count": 170,
   "metadata": {},
   "outputs": [],
   "source": [
    "b2=Berny(geom2)"
   ]
  },
  {
   "cell_type": "code",
   "execution_count": 171,
   "metadata": {},
   "outputs": [
    {
     "data": {
      "text/plain": [
       "{'geom': <Geometry 'H2O'>,\n",
       " 'params': {'gradientmax': 0.00045,\n",
       "  'gradientrms': 0.00015,\n",
       "  'stepmax': 0.0018,\n",
       "  'steprms': 0.0012,\n",
       "  'trust': 0.3,\n",
       "  'dihedral': True,\n",
       "  'superweakdih': False},\n",
       " 'trust': 0.3,\n",
       " 'coords': <InternalCoords \"bonds: 2, angles: 1, dihedrals: 0\">,\n",
       " 'H': array([[0.61593528, 0.        , 0.        ],\n",
       "        [0.        , 0.61593528, 0.        ],\n",
       "        [0.        , 0.        , 0.28101946]]),\n",
       " 'weights': array([1.36874507, 1.36874507, 1.03647041]),\n",
       " 'future': Point(q=array([1.43917254, 1.43917254, 2.33180908]), E=None, g=None),\n",
       " 'first': True}"
      ]
     },
     "execution_count": 171,
     "metadata": {},
     "output_type": "execute_result"
    }
   ],
   "source": [
    "s=b2._state\n",
    "vars(b2._state)"
   ]
  },
  {
   "cell_type": "code",
   "execution_count": 172,
   "metadata": {},
   "outputs": [
    {
     "name": "stdout",
     "output_type": "stream",
     "text": [
      "['__class__', '__delattr__', '__dict__', '__dir__', '__doc__', '__eq__', '__format__', '__ge__', '__getattribute__', '__gt__', '__hash__', '__init__', '__init_subclass__', '__iter__', '__le__', '__len__', '__lt__', '__module__', '__ne__', '__new__', '__reduce__', '__reduce_ex__', '__repr__', '__setattr__', '__sizeof__', '__str__', '__subclasshook__', '__weakref__', 'bondmatrix', 'cms', 'coords', 'copy', 'dist', 'dist_diff', 'dump', 'dumps', 'formula', 'from_atoms', 'inertia', 'lattice', 'masses', 'rho', 'species', 'super_circum', 'supercell', 'write']\n"
     ]
    }
   ],
   "source": [
    "print(dir(b2._state.geom))"
   ]
  },
  {
   "cell_type": "code",
   "execution_count": 173,
   "metadata": {},
   "outputs": [
    {
     "data": {
      "text/plain": [
       "{'_coords': [Bond(0, 1, weak=0), Bond(0, 2, weak=0), Angle(1, 0, 2, weak=0)],\n",
       " 'fragments': [[0, 1, 2]]}"
      ]
     },
     "execution_count": 173,
     "metadata": {},
     "output_type": "execute_result"
    }
   ],
   "source": [
    "vars(b2._state.coords)"
   ]
  },
  {
   "cell_type": "code",
   "execution_count": 174,
   "metadata": {},
   "outputs": [
    {
     "data": {
      "text/plain": [
       "[Bond(0, 1, weak=0), Bond(0, 2, weak=0), Angle(1, 0, 2, weak=0)]"
      ]
     },
     "execution_count": 174,
     "metadata": {},
     "output_type": "execute_result"
    }
   ],
   "source": [
    "b2._state.coords._coords"
   ]
  },
  {
   "cell_type": "code",
   "execution_count": 175,
   "metadata": {},
   "outputs": [
    {
     "data": {
      "text/plain": [
       "{'i': 0, 'j': 1, 'idx': (0, 1), 'weak': 0}"
      ]
     },
     "execution_count": 175,
     "metadata": {},
     "output_type": "execute_result"
    }
   ],
   "source": [
    "vars(b2._state.coords._coords[0])"
   ]
  },
  {
   "cell_type": "code",
   "execution_count": 176,
   "metadata": {},
   "outputs": [
    {
     "data": {
      "text/plain": [
       "array([[0.61593528, 0.        , 0.        ],\n",
       "       [0.        , 0.61593528, 0.        ],\n",
       "       [0.        , 0.        , 0.28101946]])"
      ]
     },
     "execution_count": 176,
     "metadata": {},
     "output_type": "execute_result"
    }
   ],
   "source": [
    "b2._state.H  #use to get second derivs "
   ]
  },
  {
   "cell_type": "code",
   "execution_count": 177,
   "metadata": {},
   "outputs": [
    {
     "data": {
      "text/plain": [
       "{'species': ['O', 'H', 'H'], 'coords': array([[ 0. ,  0. ,  0. ],\n",
       "        [ 0. , -0.7,  0.3],\n",
       "        [ 0. ,  0.7,  0.3]]), 'lattice': None}"
      ]
     },
     "execution_count": 177,
     "metadata": {},
     "output_type": "execute_result"
    }
   ],
   "source": [
    "vars(geom2)"
   ]
  },
  {
   "cell_type": "code",
   "execution_count": 178,
   "metadata": {},
   "outputs": [
    {
     "data": {
      "text/plain": [
       "array([1.43917254, 1.43917254, 2.33180908])"
      ]
     },
     "execution_count": 178,
     "metadata": {},
     "output_type": "execute_result"
    }
   ],
   "source": [
    "b2._state.future.q"
   ]
  },
  {
   "cell_type": "code",
   "execution_count": 179,
   "metadata": {},
   "outputs": [
    {
     "data": {
      "text/plain": [
       "(2.3318090810196264, 1.4391725397177106)"
      ]
     },
     "execution_count": 179,
     "metadata": {},
     "output_type": "execute_result"
    }
   ],
   "source": [
    "np.arccos(-.40/0.58),(.58)**.5*ang2bohr"
   ]
  },
  {
   "cell_type": "code",
   "execution_count": 180,
   "metadata": {},
   "outputs": [],
   "source": [
    "# get derivatives angles independently\n",
    "# "
   ]
  },
  {
   "cell_type": "code",
   "execution_count": 181,
   "metadata": {},
   "outputs": [
    {
     "data": {
      "text/plain": [
       "Point(q=array([1.43917254, 1.43917254, 2.33180908]), E=None, g=None)"
      ]
     },
     "execution_count": 181,
     "metadata": {},
     "output_type": "execute_result"
    }
   ],
   "source": [
    "b2._state.future"
   ]
  },
  {
   "cell_type": "code",
   "execution_count": 182,
   "metadata": {},
   "outputs": [
    {
     "name": "stdout",
     "output_type": "stream",
     "text": [
      "[[ 0.          0.91914503 -0.3939193   0.         -0.91914503  0.3939193\n",
      "   0.          0.          0.        ]\n",
      " [ 0.         -0.91914503 -0.3939193   0.          0.          0.\n",
      "   0.          0.91914503  0.3939193 ]\n",
      " [ 0.          0.          1.2773243   0.         -0.27371235 -0.63866215\n",
      "   0.          0.27371235 -0.63866215]]\n"
     ]
    }
   ],
   "source": [
    "print(s.coords.B_matrix(s.geom))"
   ]
  },
  {
   "cell_type": "code",
   "execution_count": 183,
   "metadata": {},
   "outputs": [],
   "source": [
    "gsc=b2._state.geom.supercell()"
   ]
  },
  {
   "cell_type": "code",
   "execution_count": 184,
   "metadata": {},
   "outputs": [
    {
     "data": {
      "text/plain": [
       "({'species': ['O', 'H', 'H'], 'coords': array([[ 0. ,  0. ,  0. ],\n",
       "         [ 0. , -0.7,  0.3],\n",
       "         [ 0. ,  0.7,  0.3]]), 'lattice': None},\n",
       " {'species': ['O', 'H', 'H'], 'coords': array([[ 0. ,  0. ,  0. ],\n",
       "         [ 0. , -0.7,  0.3],\n",
       "         [ 0. ,  0.7,  0.3]]), 'lattice': None})"
      ]
     },
     "execution_count": 184,
     "metadata": {},
     "output_type": "execute_result"
    }
   ],
   "source": [
    "vars(gsc),vars(s.geom)"
   ]
  },
  {
   "cell_type": "code",
   "execution_count": 185,
   "metadata": {},
   "outputs": [
    {
     "name": "stdout",
     "output_type": "stream",
     "text": [
      "(0, Bond(0, 1, weak=0))\n",
      "(1, Bond(0, 2, weak=0))\n",
      "(2, Angle(1, 0, 2, weak=0))\n"
     ]
    },
    {
     "data": {
      "text/plain": [
       "[None, None, None]"
      ]
     },
     "execution_count": 185,
     "metadata": {},
     "output_type": "execute_result"
    }
   ],
   "source": [
    "[print(x) for x in enumerate(s.coords)]"
   ]
  },
  {
   "cell_type": "code",
   "execution_count": 186,
   "metadata": {},
   "outputs": [],
   "source": [
    "B=s.coords.B_matrix(gsc)"
   ]
  },
  {
   "cell_type": "code",
   "execution_count": 187,
   "metadata": {},
   "outputs": [
    {
     "name": "stdout",
     "output_type": "stream",
     "text": [
      "[array([ 0.        ,  0.91914503, -0.3939193 ]), array([-0.        , -0.91914503,  0.3939193 ])] \n",
      " \n",
      "\n",
      "[array([ 0.        , -0.91914503, -0.3939193 ]), array([-0.        ,  0.91914503,  0.3939193 ])] \n",
      " \n",
      "\n",
      "[array([-0.        , -0.27371235, -0.63866215]), array([0.       , 0.       , 1.2773243]), array([-0.        ,  0.27371235, -0.63866215])] \n",
      " \n",
      "\n"
     ]
    }
   ],
   "source": [
    "for i,x in enumerate(s.coords):\n",
    "    print(x.eval(gsc.coords, grad=True)[1],\"\\n \\n\")"
   ]
  },
  {
   "cell_type": "markdown",
   "metadata": {},
   "source": [
    "### praticamente qua mi d una proiezione dei modi normali sulle coordinate cartesiane della molecola, tutti insieme formano la B_matrix"
   ]
  },
  {
   "cell_type": "code",
   "execution_count": 188,
   "metadata": {},
   "outputs": [],
   "source": [
    "a=np.array([-0.        , -0.91914503,  0.3939193 ])"
   ]
  },
  {
   "cell_type": "code",
   "execution_count": 189,
   "metadata": {},
   "outputs": [
    {
     "data": {
      "text/plain": [
       "1.0000000005430953"
      ]
     },
     "execution_count": 189,
     "metadata": {},
     "output_type": "execute_result"
    }
   ],
   "source": [
    "norm(a)"
   ]
  },
  {
   "cell_type": "code",
   "execution_count": 190,
   "metadata": {},
   "outputs": [],
   "source": [
    "B_inv = B.T.dot(Math.pinv(np.dot(B, B.T)))"
   ]
  },
  {
   "cell_type": "code",
   "execution_count": 191,
   "metadata": {},
   "outputs": [
    {
     "data": {
      "text/plain": [
       "(array([[ 0.00000000e+00,  0.00000000e+00,  0.00000000e+00],\n",
       "        [ 3.41733409e-01, -3.41733409e-01, -1.11022302e-16],\n",
       "        [-1.31306433e-01, -1.31306433e-01,  4.40936096e-01],\n",
       "        [ 0.00000000e+00,  0.00000000e+00,  0.00000000e+00],\n",
       "        [-6.30439219e-01, -2.88705811e-01, -2.83458919e-01],\n",
       "        [ 1.38881804e-01, -7.57537113e-03, -2.20468048e-01],\n",
       "        [ 0.00000000e+00,  0.00000000e+00,  0.00000000e+00],\n",
       "        [ 2.88705811e-01,  6.30439219e-01,  2.83458919e-01],\n",
       "        [-7.57537113e-03,  1.38881804e-01, -2.20468048e-01]]), (9, 3), (3, 9))"
      ]
     },
     "execution_count": 191,
     "metadata": {},
     "output_type": "execute_result"
    }
   ],
   "source": [
    "B_inv,B_inv.shape,B.shape"
   ]
  },
  {
   "cell_type": "code",
   "execution_count": 192,
   "metadata": {},
   "outputs": [
    {
     "data": {
      "text/plain": [
       "array([-0.39030237, -0.39030237,  0.04043995])"
      ]
     },
     "execution_count": 192,
     "metadata": {},
     "output_type": "execute_result"
    }
   ],
   "source": [
    "np.dot(B_inv.T, g0.reshape(-1))"
   ]
  },
  {
   "cell_type": "code",
   "execution_count": 193,
   "metadata": {},
   "outputs": [
    {
     "data": {
      "text/plain": [
       "array([[0.61593528, 0.        , 0.        ],\n",
       "       [0.        , 0.61593528, 0.        ],\n",
       "       [0.        , 0.        , 0.28101946]])"
      ]
     },
     "execution_count": 193,
     "metadata": {},
     "output_type": "execute_result"
    }
   ],
   "source": [
    "s.H"
   ]
  },
  {
   "cell_type": "markdown",
   "metadata": {},
   "source": [
    "I can have the projection of the gradient in the internal coordinates as well as the approximated hessian matrix."
   ]
  },
  {
   "cell_type": "code",
   "execution_count": 194,
   "metadata": {},
   "outputs": [
    {
     "data": {
      "text/plain": [
       "(array([[1.00000000e+00, 3.88578059e-16, 1.80411242e-16],\n",
       "        [1.97758476e-16, 1.00000000e+00, 4.85722573e-16],\n",
       "        [8.93382590e-17, 2.63677968e-16, 1.00000000e+00]]),\n",
       " array([[1.00000000e+00, 3.88578059e-16, 1.80411242e-16],\n",
       "        [1.97758476e-16, 1.00000000e+00, 4.85722573e-16],\n",
       "        [8.93382590e-17, 2.63677968e-16, 1.00000000e+00]]))"
      ]
     },
     "execution_count": 194,
     "metadata": {},
     "output_type": "execute_result"
    }
   ],
   "source": [
    "proj = np.dot(B, B_inv)\n",
    "proj,B@B_inv"
   ]
  },
  {
   "cell_type": "code",
   "execution_count": 195,
   "metadata": {},
   "outputs": [
    {
     "data": {
      "text/plain": [
       "array([[ 0.00000000e+00, -3.88578059e-13, -1.80411242e-13],\n",
       "       [-1.97758476e-13, -2.22044605e-13, -4.85722573e-13],\n",
       "       [-8.93382590e-14, -2.63677968e-13,  0.00000000e+00]])"
      ]
     },
     "execution_count": 195,
     "metadata": {},
     "output_type": "execute_result"
    }
   ],
   "source": [
    "H_proj = proj.dot(s.H).dot(proj) + 1000 * (np.eye(len(s.coords)) - proj)\n",
    "1000 * (np.eye(len(s.coords)) - proj)  #perhaps to avoid zeros in matrix inversion"
   ]
  },
  {
   "cell_type": "code",
   "execution_count": 196,
   "metadata": {},
   "outputs": [
    {
     "data": {
      "text/plain": [
       "(array([[ 6.15935283e-01, -3.88099381e-13, -1.80249421e-13],\n",
       "        [-1.97514863e-13,  6.15935283e-01, -4.85286902e-13],\n",
       "        [-8.92581266e-14, -2.63441461e-13,  2.81019461e-01]]),\n",
       " array([[0.61593528, 0.        , 0.        ],\n",
       "        [0.        , 0.61593528, 0.        ],\n",
       "        [0.        , 0.        , 0.28101946]]))"
      ]
     },
     "execution_count": 196,
     "metadata": {},
     "output_type": "execute_result"
    }
   ],
   "source": [
    "H_proj,s.H #differiscono per una manciata di infinesimi"
   ]
  },
  {
   "cell_type": "code",
   "execution_count": 197,
   "metadata": {},
   "outputs": [],
   "source": [
    "def quadratic_step(g, H, w, trust):\n",
    "    ev = np.linalg.eigvalsh((H + H.T) / 2)\n",
    "    rfo = np.vstack((np.hstack((H, g[:, None])), np.hstack((g, 0))[None, :]))\n",
    "    D, V = np.linalg.eigh((rfo + rfo.T) / 2)\n",
    "    dq = V[:-1, 0] / V[-1, 0]\n",
    "    l = D[0]\n",
    "    if norm(dq) <= trust:\n",
    "        print('Pure RFO step was performed:')\n",
    "        on_sphere = False\n",
    "    else:\n",
    "        def steplength(l):\n",
    "            return norm(np.linalg.solve(l * np.eye(H.shape[0]) - H, g)) - trust\n",
    "        l = Math.findroot(steplength, ev[0])  # minimization on sphere\n",
    "        dq = np.linalg.solve(l * np.eye(H.shape[0]) - H, g)\n",
    "        on_sphere = True\n",
    "        print('Minimization on sphere was performed:')\n",
    "    dE = np.dot(g, dq) + 0.5 * dq.dot(H).dot(dq)\n",
    "    return dq, dE, on_sphere"
   ]
  },
  {
   "cell_type": "code",
   "execution_count": 198,
   "metadata": {},
   "outputs": [],
   "source": [
    "current = Berny.Point(s.future.q, mf.e_tot, np.dot(B_inv.T, np.asarray(g0*bohr2ang).reshape(-1)))"
   ]
  },
  {
   "cell_type": "code",
   "execution_count": 199,
   "metadata": {},
   "outputs": [
    {
     "data": {
      "text/plain": [
       "array([-0.20653912, -0.20653912,  0.0213999 ])"
      ]
     },
     "execution_count": 199,
     "metadata": {},
     "output_type": "execute_result"
    }
   ],
   "source": [
    "current.g # also np.dot(B_inv.T, np.asarray(g0).reshape(-1)) is g in internal coords"
   ]
  },
  {
   "cell_type": "code",
   "execution_count": 200,
   "metadata": {},
   "outputs": [
    {
     "name": "stdout",
     "output_type": "stream",
     "text": [
      "Minimization on sphere was performed:\n"
     ]
    }
   ],
   "source": [
    " dq, dE, on_sphere = quadratic_step(np.dot(proj, current.g), H_proj, s.weights, s.trust)"
   ]
  },
  {
   "cell_type": "code",
   "execution_count": 201,
   "metadata": {},
   "outputs": [
    {
     "data": {
      "text/plain": [
       "array([ 0.21082967,  0.21082967, -0.03319186])"
      ]
     },
     "execution_count": 201,
     "metadata": {},
     "output_type": "execute_result"
    }
   ],
   "source": [
    "dq # change dq to the one from Morse potential fitting "
   ]
  },
  {
   "cell_type": "code",
   "execution_count": 204,
   "metadata": {},
   "outputs": [
    {
     "data": {
      "text/plain": [
       "1.4391725396367097"
      ]
     },
     "execution_count": 204,
     "metadata": {},
     "output_type": "execute_result"
    }
   ],
   "source": [
    "current.q[0]"
   ]
  },
  {
   "cell_type": "code",
   "execution_count": 226,
   "metadata": {},
   "outputs": [
    {
     "name": "stdout",
     "output_type": "stream",
     "text": [
      "[ 1.34939895  0.74682489 -0.09622384]\n",
      "1.1590749037528087\n"
     ]
    },
    {
     "data": {
      "text/plain": [
       "0.8983871543287781"
      ]
     },
     "execution_count": 226,
     "metadata": {},
     "output_type": "execute_result"
    }
   ],
   "source": [
    "mpa(current.g[0]*bohr2ang,s.H[0,0],current.q[0],.1)*bohr2ang"
   ]
  },
  {
   "cell_type": "markdown",
   "metadata": {},
   "source": [
    "## from dq in internal coords to dq in cartesian coords"
   ]
  },
  {
   "cell_type": "code",
   "execution_count": 214,
   "metadata": {},
   "outputs": [],
   "source": [
    "q, a = s.coords.update_geom(s.geom, current.q, dq, B_inv)"
   ]
  },
  {
   "cell_type": "code",
   "execution_count": 215,
   "metadata": {},
   "outputs": [
    {
     "data": {
      "text/plain": [
       "array([1.65000222, 1.65000222, 2.29861736])"
      ]
     },
     "execution_count": 215,
     "metadata": {},
     "output_type": "execute_result"
    }
   ],
   "source": [
    "q"
   ]
  },
  {
   "cell_type": "code",
   "execution_count": 216,
   "metadata": {},
   "outputs": [
    {
     "data": {
      "text/plain": [
       "array([[ 0.00000000e+00,  5.19744548e-16, -3.81460429e-02],\n",
       "       [ 0.00000000e+00, -7.96727207e-01,  3.19073021e-01],\n",
       "       [ 0.00000000e+00,  7.96727207e-01,  3.19073021e-01]])"
      ]
     },
     "execution_count": 216,
     "metadata": {},
     "output_type": "execute_result"
    }
   ],
   "source": [
    "a.coords"
   ]
  },
  {
   "cell_type": "code",
   "execution_count": 217,
   "metadata": {},
   "outputs": [
    {
     "data": {
      "text/plain": [
       "0.8731435747133777"
      ]
     },
     "execution_count": 217,
     "metadata": {},
     "output_type": "execute_result"
    }
   ],
   "source": [
    "b=a.coords\n",
    "norm(b[1]-b[0]) #is angstrom"
   ]
  },
  {
   "cell_type": "code",
   "execution_count": 218,
   "metadata": {},
   "outputs": [],
   "source": [
    "h2o=gto.M(atom=\"O {} {} {};H {} {} {}; H {} {} {}\".format(*b.reshape(-1).tolist()),basis=\"def2-TZVP\")"
   ]
  },
  {
   "cell_type": "code",
   "execution_count": 219,
   "metadata": {},
   "outputs": [
    {
     "name": "stdout",
     "output_type": "stream",
     "text": [
      "converged SCF energy = -76.0365645692517\n"
     ]
    }
   ],
   "source": [
    "mf=scf.RHF(h2o)\n",
    "E0=mf.scf()"
   ]
  },
  {
   "cell_type": "code",
   "execution_count": 220,
   "metadata": {},
   "outputs": [
    {
     "data": {
      "text/plain": [
       "(-0.06026685324900208, -0.09461943397390371)"
      ]
     },
     "execution_count": 220,
     "metadata": {},
     "output_type": "execute_result"
    }
   ],
   "source": [
    "dE , 75.9417083056576 -76.0363277396315"
   ]
  },
  {
   "cell_type": "code",
   "execution_count": 221,
   "metadata": {},
   "outputs": [
    {
     "name": "stdout",
     "output_type": "stream",
     "text": [
      "\n",
      "Geometry optimization cycle 1\n",
      "Cartesian coordinates (Angstrom)\n",
      " Atom        New coordinates             dX        dY        dZ\n",
      "   O   0.000000   0.000000  -0.038146    0.000000  0.000000  0.000000\n",
      "   H   0.000000  -0.796727   0.319073    0.000000  0.000000  0.000000\n",
      "   H   0.000000   0.796727   0.319073    0.000000  0.000000  0.000000\n",
      "converged SCF energy = -76.0365645692529\n",
      "--------------- SCF_Scanner gradients ---------------\n",
      "         x                y                z\n",
      "0 O     0.0000000000     0.0000000000     0.1276700592\n",
      "1 H    -0.0000000000     0.0695784153    -0.0638350296\n",
      "2 H    -0.0000000000    -0.0695784153    -0.0638350296\n",
      "----------------------------------------------\n",
      "cycle 1: E = -76.0365645693  dE = -76.0366  norm(grad) = 0.184748\n",
      "\n",
      "Geometry optimization cycle 2\n",
      "Cartesian coordinates (Angstrom)\n",
      " Atom        New coordinates             dX        dY        dZ\n",
      "   O   0.000000  -0.000000  -0.112319    0.000000 -0.000000 -0.074173\n",
      "   H   0.000000  -0.829993   0.356160    0.000000 -0.033266  0.037087\n",
      "   H   0.000000   0.829993   0.356160    0.000000  0.033266  0.037087\n",
      "\n",
      "WARN: Large deviations found between the input molecule and the molecule from chkfile\n",
      "Initial guess density matrix may have large error.\n",
      "\n",
      "converged SCF energy = -76.05398703663\n",
      "--------------- SCF_Scanner gradients ---------------\n",
      "         x                y                z\n",
      "0 O     0.0000000000    -0.0000000000     0.0186608701\n",
      "1 H    -0.0000000000    -0.0269159379    -0.0093304350\n",
      "2 H     0.0000000000     0.0269159379    -0.0093304350\n",
      "----------------------------------------------\n",
      "cycle 2: E = -76.0539870366  dE = -0.0174225  norm(grad) = 0.0443991\n",
      "\n",
      "Geometry optimization cycle 3\n",
      "Cartesian coordinates (Angstrom)\n",
      " Atom        New coordinates             dX        dY        dZ\n",
      "   O   0.000000  -0.000000  -0.165728    0.000000  0.000000 -0.053409\n",
      "   H   0.000000  -0.776362   0.382864    0.000000  0.053630  0.026704\n",
      "   H   0.000000   0.776362   0.382864    0.000000 -0.053630  0.026704\n",
      "\n",
      "WARN: Large deviations found between the input molecule and the molecule from chkfile\n",
      "Initial guess density matrix may have large error.\n",
      "\n",
      "converged SCF energy = -76.0591409136477\n",
      "--------------- SCF_Scanner gradients ---------------\n",
      "         x                y                z\n",
      "0 O    -0.0000000000    -0.0000000000    -0.0041868680\n",
      "1 H     0.0000000000    -0.0122378732     0.0020934340\n",
      "2 H    -0.0000000000     0.0122378732     0.0020934340\n",
      "----------------------------------------------\n",
      "cycle 3: E = -76.0591409136  dE = -0.00515388  norm(grad) = 0.0180506\n",
      "\n",
      "Geometry optimization cycle 4\n",
      "Cartesian coordinates (Angstrom)\n",
      " Atom        New coordinates             dX        dY        dZ\n",
      "   O   0.000000  -0.000000  -0.179257    0.000000  0.000000 -0.013529\n",
      "   H   0.000000  -0.752756   0.389628    0.000000  0.023606  0.006764\n",
      "   H   0.000000   0.752756   0.389628    0.000000 -0.023606  0.006764\n",
      "\n",
      "WARN: Large deviations found between the input molecule and the molecule from chkfile\n",
      "Initial guess density matrix may have large error.\n",
      "\n",
      "converged SCF energy = -76.0595642241149\n",
      "--------------- SCF_Scanner gradients ---------------\n",
      "         x                y                z\n",
      "0 O     0.0000000000     0.0000000000    -0.0033219145\n",
      "1 H    -0.0000000000    -0.0004914090     0.0016609573\n",
      "2 H     0.0000000000     0.0004914090     0.0016609573\n",
      "----------------------------------------------\n",
      "cycle 4: E = -76.0595642241  dE = -0.00042331  norm(grad) = 0.00412743\n",
      "\n",
      "Geometry optimization cycle 5\n",
      "Cartesian coordinates (Angstrom)\n",
      " Atom        New coordinates             dX        dY        dZ\n",
      "   O   0.000000  -0.000000  -0.175958    0.000000 -0.000000  0.003298\n",
      "   H   0.000000  -0.754886   0.387979    0.000000 -0.002131 -0.001649\n",
      "   H   0.000000   0.754886   0.387979    0.000000  0.002131 -0.001649\n",
      "\n",
      "WARN: Large deviations found between the input molecule and the molecule from chkfile\n",
      "Initial guess density matrix may have large error.\n",
      "\n",
      "converged SCF energy = -76.059578700974\n",
      "--------------- SCF_Scanner gradients ---------------\n",
      "         x                y                z\n",
      "0 O     0.0000000000    -0.0000000000    -0.0003540081\n",
      "1 H    -0.0000000000    -0.0001745820     0.0001770040\n",
      "2 H     0.0000000000     0.0001745820     0.0001770040\n",
      "----------------------------------------------\n",
      "cycle 5: E = -76.059578701  dE = -1.44769e-05  norm(grad) = 0.000498939\n",
      "\n",
      "Geometry optimization cycle 6\n",
      "Cartesian coordinates (Angstrom)\n",
      " Atom        New coordinates             dX        dY        dZ\n",
      "   O   0.000000  -0.000000  -0.175735    0.000000  0.000000  0.000224\n",
      "   H   0.000000  -0.754857   0.387867    0.000000  0.000030 -0.000112\n",
      "   H   0.000000   0.754857   0.387867    0.000000 -0.000030 -0.000112\n",
      "converged SCF energy = -76.0595788230111\n",
      "--------------- SCF_Scanner gradients ---------------\n",
      "         x                y                z\n",
      "0 O     0.0000000000     0.0000000000     0.0000023707\n",
      "1 H    -0.0000000000     0.0000014590    -0.0000011854\n",
      "2 H     0.0000000000    -0.0000014590    -0.0000011854\n",
      "----------------------------------------------\n",
      "cycle 6: E = -76.059578823  dE = -1.22037e-07  norm(grad) = 3.56196e-06\n"
     ]
    }
   ],
   "source": [
    "eq_h2o=optimize(mf)"
   ]
  },
  {
   "cell_type": "code",
   "execution_count": 222,
   "metadata": {},
   "outputs": [
    {
     "data": {
      "text/plain": [
       "0.9420488553881738"
      ]
     },
     "execution_count": 222,
     "metadata": {},
     "output_type": "execute_result"
    }
   ],
   "source": [
    "norm(eq_h2o.atom_coords()[1]-eq_h2o.atom_coords()[0])*bohr2ang"
   ]
  },
  {
   "cell_type": "code",
   "execution_count": 223,
   "metadata": {},
   "outputs": [],
   "source": [
    "ecoords=eq_h2o.atom_coords()-eq_h2o.atom_coords()[0]"
   ]
  },
  {
   "cell_type": "code",
   "execution_count": 224,
   "metadata": {},
   "outputs": [
    {
     "data": {
      "text/plain": [
       "106.507"
      ]
     },
     "execution_count": 224,
     "metadata": {},
     "output_type": "execute_result"
    }
   ],
   "source": [
    "anglecenter(ecoords)"
   ]
  },
  {
   "cell_type": "code",
   "execution_count": null,
   "metadata": {},
   "outputs": [],
   "source": []
  }
 ],
 "metadata": {
  "kernelspec": {
   "display_name": "Python 3",
   "language": "python",
   "name": "python3"
  },
  "language_info": {
   "codemirror_mode": {
    "name": "ipython",
    "version": 3
   },
   "file_extension": ".py",
   "mimetype": "text/x-python",
   "name": "python",
   "nbconvert_exporter": "python",
   "pygments_lexer": "ipython3",
   "version": "3.7.3"
  }
 },
 "nbformat": 4,
 "nbformat_minor": 2
}
