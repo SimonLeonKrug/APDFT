{
 "cells": [
  {
   "cell_type": "code",
   "execution_count": 1,
   "metadata": {},
   "outputs": [],
   "source": [
    "from aaff import aaff,alc_deriv_grad_nuc,alc_differential_grad_nuc\n",
    "from FcMole import FcM\n",
    "from alch_deriv import alch_deriv\n",
    "from pyscf import gto,scf\n",
    "import numpy as np \n",
    "from numpy.linalg import norm as norm\n",
    "import matplotlib.pyplot as plt\n",
    "from pyscf.grad import rhf as grhf\n",
    "from pyscf.hessian import rhf as hrhf\n",
    "import basis_set_exchange as bse\n",
    "from FDcoeffs import *\n",
    "from pyscf.geomopt.berny_solver import optimize\n",
    "ang2bohr=1.8897261246\n",
    "bohr2ang=.5291772109"
   ]
  },
  {
   "cell_type": "code",
   "execution_count": 61,
   "metadata": {},
   "outputs": [],
   "source": [
    "import ipyvolume as ipv\n",
    "from mpl_toolkits.mplot3d import Axes3D"
   ]
  },
  {
   "cell_type": "code",
   "execution_count": 3,
   "metadata": {},
   "outputs": [],
   "source": [
    "l=3.3376\n",
    "x=-(1/24)**.5*l\n",
    "z=(2/3)**.5*l+x\n",
    "ch4str=\"C 0 0 0; H 0 0  {}; H  0  {} {}; H {} {} {}; H {} {} {}\".format(z,l/3**.5,x,l/2,-l*3**.5/6,x,-l/2,-l*3**.5/6,x)"
   ]
  },
  {
   "cell_type": "code",
   "execution_count": 4,
   "metadata": {},
   "outputs": [
    {
     "name": "stdout",
     "output_type": "stream",
     "text": [
      "converged SCF energy = -40.2151804034983\n"
     ]
    },
    {
     "data": {
      "text/plain": [
       "-40.215180403498316"
      ]
     },
     "execution_count": 4,
     "metadata": {},
     "output_type": "execute_result"
    }
   ],
   "source": [
    "CH4=gto.M(atom=ch4str,unit=\"bohr\",basis={\"H\":\"pc-2\",'C':bse.get_basis(\"pcX-2\",fmt=\"nwchem\",elements=[6])})\n",
    "mf = scf.RHF(CH4)\n",
    "mf.scf()"
   ]
  },
  {
   "cell_type": "code",
   "execution_count": 5,
   "metadata": {},
   "outputs": [
    {
     "name": "stdout",
     "output_type": "stream",
     "text": [
      "--------------- RHF gradients ---------------\n",
      "         x                y                z\n",
      "0 C     0.0000000000     0.0000000000    -0.0000000000\n",
      "1 H     0.0000000000     0.0000000000    -0.0000007926\n",
      "2 H     0.0000000000    -0.0000007473     0.0000002642\n",
      "3 H    -0.0000006472     0.0000003736     0.0000002642\n",
      "4 H     0.0000006472     0.0000003736     0.0000002642\n",
      "----------------------------------------------\n"
     ]
    }
   ],
   "source": [
    "g0=mf.Gradients().grad()"
   ]
  },
  {
   "cell_type": "code",
   "execution_count": 6,
   "metadata": {},
   "outputs": [],
   "source": [
    "h0=mf.Hessian().hess()"
   ]
  },
  {
   "cell_type": "code",
   "execution_count": 7,
   "metadata": {},
   "outputs": [],
   "source": [
    "ch4coords=CH4.atom_coords()"
   ]
  },
  {
   "cell_type": "code",
   "execution_count": 8,
   "metadata": {},
   "outputs": [],
   "source": [
    "afC=aaff(mf,[1,0,0,0,0])+alc_deriv_grad_nuc(CH4,[1,0,0,0,0])\n",
    "afH1=aaff(mf,[0,0,0,0,-1])+alc_deriv_grad_nuc(CH4,[0,0,0,0,-1])\n",
    "afH2=aaff(mf,[0,0,0,-1,0])+alc_deriv_grad_nuc(CH4,[0,0,0,-1,0])\n",
    "afH3=aaff(mf,[0,0,-1,0,0])+alc_deriv_grad_nuc(CH4,[0,0,-1,0,0])"
   ]
  },
  {
   "cell_type": "code",
   "execution_count": 108,
   "metadata": {},
   "outputs": [
    {
     "name": "stdout",
     "output_type": "stream",
     "text": [
      "0.031128756364070555\n",
      "0.06943666146070895\n",
      "0.06943666146072365\n",
      "0.06943666146070766\n",
      "0.004045775548146742\n"
     ]
    }
   ],
   "source": [
    "for i in (afH1+afC):\n",
    "    print(norm(i))"
   ]
  },
  {
   "cell_type": "code",
   "execution_count": 103,
   "metadata": {},
   "outputs": [
    {
     "name": "stdout",
     "output_type": "stream",
     "text": [
      "1.0345685841823444\n",
      "0.3759748931763909\n",
      "0.3759748931766301\n",
      "0.37597489317657506\n",
      "0.37597489317647576\n"
     ]
    }
   ],
   "source": [
    "for i in range(5):\n",
    "    print(norm(h0[i,i]))"
   ]
  },
  {
   "cell_type": "code",
   "execution_count": 106,
   "metadata": {},
   "outputs": [
    {
     "data": {
      "text/plain": [
       "0.006824285336527222"
      ]
     },
     "execution_count": 106,
     "metadata": {},
     "output_type": "execute_result"
    }
   ],
   "source": [
    ".37597489317647576*.01815090704294456"
   ]
  },
  {
   "cell_type": "code",
   "execution_count": 9,
   "metadata": {},
   "outputs": [
    {
     "data": {
      "text/plain": [
       "array([[-0.02541652, -0.01467424, -0.01037625],\n",
       "       [-0.01250345, -0.00721887, -0.01100032],\n",
       "       [-0.01250345, -0.01277749, -0.00313924],\n",
       "       [-0.01731736, -0.00443956, -0.00313924],\n",
       "       [ 0.06774078,  0.03911016,  0.02765506]])"
      ]
     },
     "execution_count": 9,
     "metadata": {},
     "output_type": "execute_result"
    }
   ],
   "source": [
    "afH1"
   ]
  },
  {
   "cell_type": "code",
   "execution_count": 10,
   "metadata": {},
   "outputs": [
    {
     "name": "stdout",
     "output_type": "stream",
     "text": [
      "0.03112875636405699\n",
      "0.0181509070428613\n",
      "0.018150907042978618\n",
      "0.018150907042945207\n",
      "0.0829651766433216\n"
     ]
    }
   ],
   "source": [
    "for i in afH1:\n",
    "    print(norm(i))"
   ]
  },
  {
   "cell_type": "code",
   "execution_count": 12,
   "metadata": {},
   "outputs": [],
   "source": [
    "nh3str=\"\"\"N  -0.000000  -0.128885  -0.043079;   H   0.000000   0.067780   0.935168;   \n",
    "   H   0.808204   0.295141  -0.446045;  \n",
    "   H  -0.808204   0.295141  -0.446045;\n",
    "   \"\"\""
   ]
  },
  {
   "cell_type": "code",
   "execution_count": 13,
   "metadata": {},
   "outputs": [
    {
     "name": "stdout",
     "output_type": "stream",
     "text": [
      "converged SCF energy = -56.2221835947891\n"
     ]
    },
    {
     "data": {
      "text/plain": [
       "-56.22218359478907"
      ]
     },
     "execution_count": 13,
     "metadata": {},
     "output_type": "execute_result"
    }
   ],
   "source": [
    "#NH3=gto.M(atom=\"N 0 0 0;H 0 0 1.8; H 0.9 0.5 -.9; H -0.9 0.5 -.9\",unit=\"bohr\",\n",
    "NH3=gto.M(atom=nh3str,\n",
    "            basis={\"H\":\"pc-2\",'N':bse.get_basis(\"pcX-2\",fmt=\"nwchem\",elements=[7])})\n",
    "mfnh3 = scf.RHF(NH3)\n",
    "mfnh3.scf()"
   ]
  },
  {
   "cell_type": "code",
   "execution_count": 206,
   "metadata": {},
   "outputs": [
    {
     "name": "stdout",
     "output_type": "stream",
     "text": [
      "\n",
      "Geometry optimization cycle 1\n",
      "Cartesian coordinates (Angstrom)\n",
      " Atom        New coordinates             dX        dY        dZ\n",
      "   N   0.000000  -0.128885  -0.043079    0.000000  0.000000  0.000000\n",
      "   H   0.000000   0.067780   0.935168    0.000000  0.000000  0.000000\n",
      "   H   0.808204   0.295141  -0.446045    0.000000  0.000000  0.000000\n",
      "   H  -0.808204   0.295141  -0.446045    0.000000  0.000000  0.000000\n",
      "converged SCF energy = -56.2221835947893\n",
      "--------------- SCF_Scanner gradients ---------------\n",
      "         x                y                z\n",
      "0 N    -0.0000000000     0.0000180215    -0.0001418129\n",
      "1 H     0.0000000000     0.0000355138     0.0000167934\n",
      "2 H    -0.0000802417    -0.0000267677     0.0000625097\n",
      "3 H     0.0000802417    -0.0000267677     0.0000625097\n",
      "----------------------------------------------\n",
      "cycle 1: E = -56.2221835948  dE = -56.2222  norm(grad) = 0.00021001\n"
     ]
    }
   ],
   "source": [
    "nh3_eq=optimize(mfnh3)"
   ]
  },
  {
   "cell_type": "code",
   "execution_count": 15,
   "metadata": {},
   "outputs": [],
   "source": [
    "nh3optg=nh3_eq.atom_coords()"
   ]
  },
  {
   "cell_type": "code",
   "execution_count": 16,
   "metadata": {},
   "outputs": [
    {
     "data": {
      "text/plain": [
       "1.8856061076490165"
      ]
     },
     "execution_count": 16,
     "metadata": {},
     "output_type": "execute_result"
    }
   ],
   "source": [
    "norm(nh3optg[1]-nh3optg[0])"
   ]
  },
  {
   "cell_type": "code",
   "execution_count": 17,
   "metadata": {},
   "outputs": [
    {
     "name": "stdout",
     "output_type": "stream",
     "text": [
      "converged SCF energy = -76.0484179890986\n"
     ]
    },
    {
     "data": {
      "text/plain": [
       "-76.04841798909857"
      ]
     },
     "execution_count": 17,
     "metadata": {},
     "output_type": "execute_result"
    }
   ],
   "source": [
    "OH2=gto.M(atom=\"O 0 0 0;H 0 0 1.9; H 1.5 1.2 0\",unit=\"bohr\",\n",
    "            basis={\"H\":\"pc-2\",'O':bse.get_basis(\"pcX-2\",fmt=\"nwchem\",elements=[8])})\n",
    "mfoh2 = scf.RHF(OH2)\n",
    "mfoh2.scf()"
   ]
  },
  {
   "cell_type": "code",
   "execution_count": 18,
   "metadata": {},
   "outputs": [
    {
     "name": "stdout",
     "output_type": "stream",
     "text": [
      "\n",
      "Geometry optimization cycle 1\n",
      "Cartesian coordinates (Angstrom)\n",
      " Atom        New coordinates             dX        dY        dZ\n",
      "   O   0.000000   0.000000   0.000000    0.000000  0.000000  0.000000\n",
      "   H   0.000000   0.000000   1.005437    0.000000  0.000000  0.000000\n",
      "   H   0.793766   0.635013   0.000000    0.000000  0.000000  0.000000\n",
      "converged SCF energy = -76.0484179891083\n",
      "--------------- SCF_Scanner gradients ---------------\n",
      "         x                y                z\n",
      "0 O    -0.0666055947    -0.0532844757    -0.0771424082\n",
      "1 H     0.0183892681     0.0147114144     0.0538493386\n",
      "2 H     0.0482163266     0.0385730613     0.0232930696\n",
      "----------------------------------------------\n",
      "cycle 1: E = -76.0484179891  dE = -76.0484  norm(grad) = 0.145038\n",
      "\n",
      "Geometry optimization cycle 2\n",
      "Cartesian coordinates (Angstrom)\n",
      " Atom        New coordinates             dX        dY        dZ\n",
      "   O   0.046012   0.036810   0.054596    0.046012  0.036810  0.054596\n",
      "   H  -0.037910  -0.030328   0.998860   -0.037910 -0.030328 -0.006576\n",
      "   H   0.785663   0.628531  -0.048019   -0.008102 -0.006482 -0.048019\n",
      "\n",
      "WARN: Large deviations found between the input molecule and the molecule from chkfile\n",
      "Initial guess density matrix may have large error.\n",
      "\n",
      "converged SCF energy = -76.0627222501648\n",
      "--------------- SCF_Scanner gradients ---------------\n",
      "         x                y                z\n",
      "0 O    -0.0140043294    -0.0112034635    -0.0151064040\n",
      "1 H     0.0034647389     0.0027717911     0.0109077954\n",
      "2 H     0.0105395905     0.0084316724     0.0041986087\n",
      "----------------------------------------------\n",
      "cycle 2: E = -76.0627222502  dE = -0.0143043  norm(grad) = 0.0298046\n",
      "\n",
      "Geometry optimization cycle 3\n",
      "Cartesian coordinates (Angstrom)\n",
      " Atom        New coordinates             dX        dY        dZ\n",
      "   O   0.058899   0.047119   0.069389    0.012887  0.010310  0.014793\n",
      "   H  -0.047696  -0.038157   0.996409   -0.009786 -0.007829 -0.002452\n",
      "   H   0.782563   0.626050  -0.060361   -0.003101 -0.002480 -0.012342\n",
      "\n",
      "WARN: Large deviations found between the input molecule and the molecule from chkfile\n",
      "Initial guess density matrix may have large error.\n",
      "\n",
      "converged SCF energy = -76.06329499405\n",
      "--------------- SCF_Scanner gradients ---------------\n",
      "         x                y                z\n",
      "0 O     0.0029591425     0.0023673140     0.0021020110\n",
      "1 H     0.0005728556     0.0004582845    -0.0030237143\n",
      "2 H    -0.0035319981    -0.0028255985     0.0009217033\n",
      "----------------------------------------------\n",
      "cycle 3: E = -76.0632949941  dE = -0.000572744  norm(grad) = 0.0070547\n",
      "\n",
      "Geometry optimization cycle 4\n",
      "Cartesian coordinates (Angstrom)\n",
      " Atom        New coordinates             dX        dY        dZ\n",
      "   O   0.058193   0.046554   0.069208   -0.000706 -0.000565 -0.000181\n",
      "   H  -0.049507  -0.039605   0.998981   -0.001810 -0.001448  0.002573\n",
      "   H   0.785080   0.628064  -0.062753    0.002517  0.002013 -0.002391\n",
      "converged SCF energy = -76.0633184344092\n",
      "--------------- SCF_Scanner gradients ---------------\n",
      "         x                y                z\n",
      "0 O    -0.0003273629    -0.0002618903    -0.0001127460\n",
      "1 H    -0.0002152368    -0.0001721894     0.0004237428\n",
      "2 H     0.0005425997     0.0004340797    -0.0003109968\n",
      "----------------------------------------------\n",
      "cycle 4: E = -76.0633184344  dE = -2.34404e-05  norm(grad) = 0.00101171\n",
      "\n",
      "Geometry optimization cycle 5\n",
      "Cartesian coordinates (Angstrom)\n",
      " Atom        New coordinates             dX        dY        dZ\n",
      "   O   0.058062   0.046449   0.068928   -0.000131 -0.000105 -0.000280\n",
      "   H  -0.048917  -0.039134   0.998496    0.000589  0.000472 -0.000485\n",
      "   H   0.784622   0.627697  -0.061987   -0.000458 -0.000366  0.000765\n",
      "converged SCF energy = -76.063319332776\n",
      "--------------- SCF_Scanner gradients ---------------\n",
      "         x                y                z\n",
      "0 O    -0.0000165983    -0.0000132787    -0.0000140492\n",
      "1 H     0.0000059165     0.0000047332     0.0000073238\n",
      "2 H     0.0000106818     0.0000085454     0.0000067254\n",
      "----------------------------------------------\n",
      "cycle 5: E = -76.0633193328  dE = -8.98367e-07  norm(grad) = 3.15057e-05\n"
     ]
    }
   ],
   "source": [
    "oh2_eq=optimize(mfoh2)"
   ]
  },
  {
   "cell_type": "code",
   "execution_count": 195,
   "metadata": {},
   "outputs": [],
   "source": [
    "oh2optg=oh2_eq.atom_coords()"
   ]
  },
  {
   "cell_type": "code",
   "execution_count": 196,
   "metadata": {},
   "outputs": [
    {
     "name": "stdout",
     "output_type": "stream",
     "text": [
      "converged SCF energy = -100.065539071209\n",
      "\n",
      "Geometry optimization cycle 1\n",
      "Cartesian coordinates (Angstrom)\n",
      " Atom        New coordinates             dX        dY        dZ\n",
      "   F   0.000000   0.000000   0.000000    0.000000  0.000000  0.000000\n",
      "   H   0.000000   0.000000   0.896426    0.000000  0.000000  0.000000\n",
      "converged SCF energy = -100.065539071209\n",
      "--------------- SCF_Scanner gradients ---------------\n",
      "         x                y                z\n",
      "0 F    -0.0000000000     0.0000000000     0.0012631602\n",
      "1 H     0.0000000000    -0.0000000000    -0.0012631602\n",
      "----------------------------------------------\n",
      "cycle 1: E = -100.065539071  dE = -100.066  norm(grad) = 0.00178638\n",
      "\n",
      "Geometry optimization cycle 2\n",
      "Cartesian coordinates (Angstrom)\n",
      " Atom        New coordinates             dX        dY        dZ\n",
      "   F   0.000000   0.000000  -0.000622    0.000000  0.000000 -0.000622\n",
      "   H   0.000000   0.000000   0.897048    0.000000  0.000000  0.000622\n",
      "converged SCF energy = -100.065540033925\n",
      "--------------- SCF_Scanner gradients ---------------\n",
      "         x                y                z\n",
      "0 F     0.0000000000    -0.0000000000    -0.0004416622\n",
      "1 H    -0.0000000000     0.0000000000     0.0004416622\n",
      "----------------------------------------------\n",
      "cycle 2: E = -100.065540034  dE = -9.62717e-07  norm(grad) = 0.000624605\n",
      "\n",
      "Geometry optimization cycle 3\n",
      "Cartesian coordinates (Angstrom)\n",
      " Atom        New coordinates             dX        dY        dZ\n",
      "   F   0.000000   0.000000  -0.000461    0.000000  0.000000  0.000161\n",
      "   H   0.000000   0.000000   0.896887    0.000000  0.000000 -0.000161\n",
      "converged SCF energy = -100.065540168731\n",
      "--------------- SCF_Scanner gradients ---------------\n",
      "         x                y                z\n",
      "0 F     0.0000000000     0.0000000000    -0.0000009447\n",
      "1 H    -0.0000000000    -0.0000000000     0.0000009447\n",
      "----------------------------------------------\n",
      "cycle 3: E = -100.065540169  dE = -1.34805e-07  norm(grad) = 1.33605e-06\n"
     ]
    }
   ],
   "source": [
    "FH=gto.M(atom=\"F 0 0 0;H 0 0 1.694\",unit=\"bohr\",\n",
    "            basis={\"H\":\"pc-2\",'F':bse.get_basis(\"pcX-2\",fmt=\"nwchem\",elements=[9])})\n",
    "mffh = scf.RHF(FH)\n",
    "mffh.scf()\n",
    "fh_eq=optimize(mffh)"
   ]
  },
  {
   "cell_type": "code",
   "execution_count": 197,
   "metadata": {},
   "outputs": [],
   "source": [
    "fhoptg=fh_eq.atom_coords()"
   ]
  },
  {
   "cell_type": "code",
   "execution_count": 198,
   "metadata": {},
   "outputs": [],
   "source": [
    "#ch4coords,h0,afC,afH1,nh3optg,oh2optg,fhoptg"
   ]
  },
  {
   "cell_type": "code",
   "execution_count": 199,
   "metadata": {},
   "outputs": [],
   "source": [
    "#getting inverse of the hessian matrix\n",
    "H1=np.linalg.inv((np.swapaxes(h0,1,2)).reshape(15,15))\n",
    "h1=H1.reshape(5,3,5,3)"
   ]
  },
  {
   "cell_type": "code",
   "execution_count": 200,
   "metadata": {},
   "outputs": [],
   "source": [
    "nh3predictg=(ch4coords-np.einsum('ijkl,kl->ij',h1,  afC+afH1))[:4]\n",
    "oh2predictg=(ch4coords-np.einsum('ijkl,kl->ij',h1,  2*afC+afH1+afH2))[:3]\n",
    "fhpredictg=(ch4coords- np.einsum('ijkl,kl->ij',h1,  3*afC+afH1+afH2+afH3))[:2]"
   ]
  },
  {
   "cell_type": "code",
   "execution_count": 209,
   "metadata": {},
   "outputs": [],
   "source": [
    "#place non H atom in the origin\n",
    "nh3predictg-=nh3predictg[0]\n",
    "oh2predictg-=oh2predictg[0]\n",
    "fhpredictg-=fhpredictg[0]\n",
    "nh3optg-=nh3optg[0]\n",
    "oh2optg-=oh2optg[0]\n",
    "fhoptg-=fhoptg[0]"
   ]
  },
  {
   "cell_type": "code",
   "execution_count": 210,
   "metadata": {},
   "outputs": [
    {
     "name": "stdout",
     "output_type": "stream",
     "text": [
      "2.043854241378284\n",
      "1.877102663549633 1.8856061076490165\n",
      "1.7017429259632093 1.7756053637844755\n",
      "1.514804368989727 1.6957413905223016\n"
     ]
    }
   ],
   "source": [
    "#bond lengths\n",
    "print(norm(ch4coords[1]))\n",
    "print(norm(nh3predictg[1]),norm(nh3optg[1]))\n",
    "print(norm(oh2predictg[1]),norm(oh2optg[1]))\n",
    "print(norm(fhpredictg[1]),norm(fhoptg[1]))"
   ]
  },
  {
   "cell_type": "code",
   "execution_count": 223,
   "metadata": {},
   "outputs": [],
   "source": [
    "def anglecenter(coords):\n",
    "    return np.around(np.arccos(coords[1].dot(coords[2])/norm(coords[1])/norm(coords[2]))*180/np.pi,decimals=3)"
   ]
  },
  {
   "cell_type": "code",
   "execution_count": 224,
   "metadata": {},
   "outputs": [
    {
     "name": "stdout",
     "output_type": "stream",
     "text": [
      "109.471\n",
      "103.102 108.193\n",
      "96.677 106.393\n"
     ]
    }
   ],
   "source": [
    "#angles\n",
    "print(anglecenter(ch4coords))\n",
    "print(anglecenter(nh3predictg),anglecenter(nh3optg))\n",
    "print(anglecenter(oh2predictg),anglecenter(oh2optg))"
   ]
  },
  {
   "cell_type": "code",
   "execution_count": 193,
   "metadata": {},
   "outputs": [
    {
     "data": {
      "text/plain": [
       "1.8594905066063998"
      ]
     },
     "execution_count": 193,
     "metadata": {},
     "output_type": "execute_result"
    }
   ],
   "source": [
    ".984*ang2bohr"
   ]
  },
  {
   "cell_type": "code",
   "execution_count": 217,
   "metadata": {},
   "outputs": [
    {
     "data": {
      "application/vnd.jupyter.widget-view+json": {
       "model_id": "fe2159a7786446bca12edac3509dc26d",
       "version_major": 2,
       "version_minor": 0
      },
      "text/plain": [
       "VBox(children=(Figure(camera=PerspectiveCamera(fov=46.0, position=(0.0, 0.0, 2.0), projectionMatrix=(1.0, 0.0,…"
      ]
     },
     "metadata": {},
     "output_type": "display_data"
    }
   ],
   "source": [
    "ipv.figure()\n",
    "ipv.scatter(ch4coords[:,0],ch4coords[:,1],ch4coords[:,2],color=\"black\",marker='sphere',size=12)\n",
    "ipv.scatter(nh3predictg[:,0],nh3predictg[:,1],nh3predictg[:,2],color=\"blue\",marker='sphere',size=12)\n",
    "ipv.scatter(oh2predictg[:,0],oh2predictg[:,1],oh2predictg[:,2],color=\"green\",marker='sphere',size=12)\n",
    "ipv.scatter(fhpredictg[:,0],fhpredictg[:,1],fhpredictg[:,2],color=\"yellow\",marker='sphere',size=12)\n",
    "ipv.scatter(np.asarray([0.]),np.asarray([0.]),np.asarray([0.]),color=\"red\",marker='sphere',size=12)\n",
    "ipv.show()"
   ]
  },
  {
   "cell_type": "code",
   "execution_count": 166,
   "metadata": {},
   "outputs": [
    {
     "data": {
      "application/vnd.jupyter.widget-view+json": {
       "model_id": "18187cc90cc648cfbadd228bee8d6c27",
       "version_major": 2,
       "version_minor": 0
      },
      "text/plain": [
       "VBox(children=(Figure(camera=PerspectiveCamera(fov=46.0, position=(0.0, 0.0, 2.0), projectionMatrix=(1.0, 0.0,…"
      ]
     },
     "metadata": {},
     "output_type": "display_data"
    }
   ],
   "source": [
    "ipv.figure()\n",
    "ipv.scatter(ch4coords[:,0],ch4coords[:,1],ch4coords[:,2],color=\"black\",marker='sphere',size=12)\n",
    "ipv.scatter(nh3optg[:,0],nh3optg[:,1],nh3optg[:,2],color=\"blue\",marker='sphere',size=12)\n",
    "ipv.scatter(oh2optg[:,0],oh2optg[:,1],oh2optg[:,2],color=\"green\",marker='sphere',size=12)\n",
    "ipv.scatter(fhoptg[:,0],fhoptg[:,1],fhoptg[:,2],color=\"yellow\",marker='sphere',size=12)\n",
    "ipv.show()"
   ]
  },
  {
   "cell_type": "code",
   "execution_count": 94,
   "metadata": {},
   "outputs": [
    {
     "data": {
      "text/plain": [
       "True"
      ]
     },
     "execution_count": 94,
     "metadata": {},
     "output_type": "execute_result"
    }
   ],
   "source": []
  },
  {
   "cell_type": "code",
   "execution_count": null,
   "metadata": {},
   "outputs": [],
   "source": []
  }
 ],
 "metadata": {
  "kernelspec": {
   "display_name": "Python 3",
   "language": "python",
   "name": "python3"
  },
  "language_info": {
   "codemirror_mode": {
    "name": "ipython",
    "version": 3
   },
   "file_extension": ".py",
   "mimetype": "text/x-python",
   "name": "python",
   "nbconvert_exporter": "python",
   "pygments_lexer": "ipython3",
   "version": "3.7.3"
  }
 },
 "nbformat": 4,
 "nbformat_minor": 2
}
