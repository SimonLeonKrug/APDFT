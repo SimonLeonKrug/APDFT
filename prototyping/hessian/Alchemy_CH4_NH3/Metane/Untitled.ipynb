{
 "cells": [
  {
   "cell_type": "code",
   "execution_count": 164,
   "metadata": {},
   "outputs": [
    {
     "name": "stdout",
     "output_type": "stream",
     "text": [
      "norm 0.33333476481294655 0.8165006240876843 0.4713965055359655\n",
      "norm 0.3333425118045121 0.8164872971051805 0.4714141104058462\n",
      "norm 0.33333476481294655 0.8165006240876842 0.47139650553596574\n",
      "norm 0.33334251180451197 0.8164872971051805 0.47141411040584624\n",
      "norm 0.33333476481294655 0.8165006240876841 0.471396505535966\n",
      "norm 0.33334251180451197 0.8164872971051808 0.47141411040584597\n",
      "norm 0.33333476481294655 0.8165006240876841 0.471396505535966\n",
      "norm 0.333342511804512 0.8164872971051808 0.4714141104058459\n",
      "norm 0.33333476481294655 0.8165006240876841 0.471396505535966\n",
      "norm 0.333342511804512 0.8164872971051809 0.4714141104058457\n",
      "norm 0.33333476481294655 0.8165006240876841 0.471396505535966\n",
      "norm 0.3333425118045122 0.816487297105181 0.47141411040584547\n",
      "************************\n",
      "[[0.0, 0.0, 0.0], [2.0639588834687914, 0.0, 0.0], [-0.6879736963153711, 1.9459287311285804, 0.0], [1.1466216253066386, -0.3243350568299266, 1.6852160510581893], [-1.9110616619063265, 0.5405704591161778, 0.5617023355754027]]\n",
      "************************\n",
      "[[0.0, 0.0, 0.0], [2.0639588834687914, 0.0, 0.0], [-0.6879736963153711, 1.9459287311285804, 0.0], [1.1466216253066395, -0.32433505682992625, 1.6852160510581888], [-1.9110616619063272, 0.5405704591161764, 0.5617023355754032]]\n",
      "[ 2.06395888  2.06396377 -0.33332644  2.0639495  -0.33333476 -0.81650062\n",
      "  2.06394831 -0.33334251  0.8164873 ]\n"
     ]
    }
   ],
   "source": [
    "from horton import *\n",
    "import numpy as np\n",
    "from numpy.linalg import norm\n",
    "from numpy import dot,cross\n",
    "Methane=IOData.from_file('Methane.xyz')\n",
    "#print Methane.numbers\n",
    "arrayGeom= np.asarray(Methane.coordinates)\n",
    "#for i in range(len(Methane.numbers)):\n",
    "#    print periodic[Methane.numbers[i]].mass\n",
    "\n",
    "#\n",
    "#Methane.coordinates[0]+=[1,0,0.]\n",
    "#print Methane.coordinates\n",
    "\n",
    "class repres:\n",
    "    cartesian=np.ndarray\n",
    "    nucl_masses=[]\n",
    "#    Internal=np.array\n",
    "    def __init__(self,molecule):\n",
    "        self.molecule=molecule\n",
    "        self.cartesian=np.asarray(molecule.coordinates)\n",
    "        self.cartesian-=self.cartesian[0]\n",
    "        self.Internal=np.zeros(self.cartesian.shape[0]*3-6)  ### for the future check linearity of the molecule \n",
    "        self.total_mass=0.\n",
    "        for i in range(len(molecule.numbers)):\n",
    "            self.nucl_masses.append(periodic[molecule.numbers[i]].mass)\n",
    "            self.total_mass+=periodic[molecule.numbers[i]].mass\n",
    "    def get_center_of_mass(self):\n",
    "        mass_center=np.zeros(3)\n",
    "        for i in range(len(self.nucl_masses)):\n",
    "            mass_center+=self.nucl_masses[i]/self.total_mass*self.cartesian[i]\n",
    "        return mass_center\n",
    "    def center(self):\n",
    "        cm=self.get_center_of_mass()\n",
    "        for i in self.cartesian:\n",
    "            i-=cm\n",
    "    def update_IC(self):\n",
    "        i=self.cartesian.shape[0]\n",
    "        if i==2:\n",
    "            self.Internal[0]=np.linalg.norm(self.cartesian[1]-self.cartesian[0])\n",
    "            return\n",
    "        elif i==3:\n",
    "            self.Internal[0]=np.linalg.norm(self.cartesian[1])\n",
    "            self.Internal[1]=np.linalg.norm(self.cartesian[2])\n",
    "            self.Internal[2]=np.dot(self.cartesian[2],self.cartesian[1])\n",
    "            return\n",
    "        elif i>=4:\n",
    "            self.Internal[0]=np.linalg.norm(self.cartesian[1])\n",
    "            self.Internal[1]=np.linalg.norm(self.cartesian[2])\n",
    "            self.Internal[2]=np.dot(self.cartesian[2],self.cartesian[1])/self.Internal[0]/self.Internal[1]\n",
    "            for j in range(3,i):\n",
    "                self.Internal[3*(j-2)]=norm(self.cartesian[j])\n",
    "                self.Internal[3*(j-2)+1]=np.dot(self.cartesian[j],self.cartesian[j-1])\\\n",
    "                /norm(self.cartesian[j])/norm(self.cartesian[j-1])\n",
    "                self.Internal[3*(j-2)+2]=dot(self.cartesian[j],cross(self.cartesian[j-1],self.cartesian[j-2]))\\\n",
    "                /norm(self.cartesian[j])/norm(cross(self.cartesian[j-1],self.cartesian[j-2]))   \n",
    "    def update_Cart(self):\n",
    "        self.cartesian[0]=[0,0,0]\n",
    "        self.cartesian[1]=[self.Internal[0],0,0]\n",
    "        self.cartesian[2]=[self.Internal[1]*self.Internal[2],self.Internal[1]*(1-self.Internal[2]**2)**0.5,0]\n",
    "        \n",
    "        for i in range (3,self.cartesian.shape[0]):\n",
    "            a=self.cartesian[i-1]/norm(self.cartesian[i-1])*self.Internal[3*(i-2)+1]\n",
    "            b=cross(self.cartesian[i-1],self.cartesian[i-2])/norm(cross(self.cartesian[i-1],self.cartesian[i-2]))*self.Internal[3*(i-2)+2]\n",
    "            c=cross(cross(self.cartesian[i-1],self.cartesian[i-2]),self.cartesian[i-1])*(1-self.Internal[3*(i-2)+2]**2-self.Internal[3*(i-2)+1]**2)**0.5\\\n",
    "                                          /norm(cross(cross(self.cartesian[i-1],self.cartesian[i-2]),self.cartesian[i-1]))\n",
    "            self.cartesian[i]=self.Internal[3*(i-2)]*(a+b+c)\n",
    "        \n",
    "            print \"norm\",norm(a),norm(b),norm(c)\n",
    "         \n",
    " \n",
    "    def get_cartesian(self):\n",
    "        return self.cartesian.tolist()\n",
    "    \n",
    "    \n",
    "    \n",
    "\n",
    "r=repres(Methane)\n",
    "\n",
    "r.update_IC()\n",
    "r.update_Cart()\n",
    "iniz= r.get_cartesian()\n",
    "r.update_IC()\n",
    "r.update_Cart()\n",
    "r.update_IC()\n",
    "r.update_Cart()\n",
    "r.update_IC()\n",
    "r.update_Cart()\n",
    "r.update_IC()\n",
    "r.update_Cart()\n",
    "r.update_IC()\n",
    "r.update_Cart()\n",
    "print \"************************\"\n",
    "print iniz\n",
    "print \"************************\"\n",
    "print r.get_cartesian()\n",
    "print r.Internal"
   ]
  },
  {
   "cell_type": "code",
   "execution_count": 162,
   "metadata": {},
   "outputs": [
    {
     "data": {
      "text/plain": [
       "[3]"
      ]
     },
     "execution_count": 162,
     "metadata": {},
     "output_type": "execute_result"
    }
   ],
   "source": [
    "range(3,4)"
   ]
  },
  {
   "cell_type": "code",
   "execution_count": null,
   "metadata": {},
   "outputs": [],
   "source": []
  }
 ],
 "metadata": {
  "kernelspec": {
   "display_name": "Python 2",
   "language": "python",
   "name": "python2"
  },
  "language_info": {
   "codemirror_mode": {
    "name": "ipython",
    "version": 2
   },
   "file_extension": ".py",
   "mimetype": "text/x-python",
   "name": "python",
   "nbconvert_exporter": "python",
   "pygments_lexer": "ipython2",
   "version": "2.7.15rc1"
  }
 },
 "nbformat": 4,
 "nbformat_minor": 2
}
