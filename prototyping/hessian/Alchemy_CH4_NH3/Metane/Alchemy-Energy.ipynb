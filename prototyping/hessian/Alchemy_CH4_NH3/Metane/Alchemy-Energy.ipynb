{
 "cells": [
  {
   "cell_type": "code",
   "execution_count": 80,
   "metadata": {},
   "outputs": [],
   "source": [
    "from horton import *\n",
    "import numpy as np\n",
    "from numpy.linalg import norm\n",
    "from numpy import dot,cross\n",
    "Methane=IOData.from_file('opt_uhf_631g.xyz')\n",
    "#print Methane.numbers\n",
    "#Methane.coordinates*=angstrom"
   ]
  },
  {
   "cell_type": "code",
   "execution_count": 86,
   "metadata": {},
   "outputs": [],
   "source": [
    "def uhf (mol,obasis):\n",
    "    lf=DenseLinalgFactory(obasis.nbasis)\n",
    "    #orbital integrals\n",
    "    olp=obasis.compute_overlap(lf)\n",
    "    kin=obasis.compute_kinetic(lf)\n",
    "    na=obasis.compute_nuclear_attraction(mol.coordinates,mol.pseudo_numbers,lf)\n",
    "    er=obasis.compute_electron_repulsion(lf)\n",
    "    \n",
    "    exp_alpha=lf.create_expansion()\n",
    "    exp_beta=lf.create_expansion()\n",
    "\n",
    "    guess_core_hamiltonian(olp, kin, na, exp_alpha,exp_beta)\n",
    "    occ_model=AufbauOccModel(5,5)\n",
    "    occ_model.assign(exp_alpha, exp_beta)\n",
    "    \n",
    "    external = {'nn': compute_nucnuc(mol.coordinates, mol.pseudo_numbers)}\n",
    "    terms = [\n",
    "        UTwoIndexTerm(kin, 'kin'),\n",
    "        UDirectTerm(er, 'hartree'),\n",
    "        UExchangeTerm(er, 'x_hf'),\n",
    "        UTwoIndexTerm(na, 'ne'),\n",
    "    ]\n",
    "    ham = UEffHam(terms, external)\n",
    "    dm_alpha = exp_alpha.to_dm()\n",
    "    dm_beta = exp_beta.to_dm()\n",
    "    # - SCF solver\n",
    "    scf_solver = EDIIS2SCFSolver(1e-10,maxiter=200)\n",
    "    scf_solver(ham, lf, olp, occ_model, dm_alpha, dm_beta)\n",
    "    \n",
    "    grid=BeckeMolGrid(mol.coordinates,mol.numbers,mol.numbers, random_rotate=False,agspec='insane')\n",
    "    rho_alpha = obasis.compute_grid_density_dm(dm_alpha, grid.points)\n",
    "    rho_beta = obasis.compute_grid_density_dm(dm_beta, grid.points)\n",
    "    rho=rho_alpha+rho_beta\n",
    "    \n",
    "    return ham.cache['energy'],rho "
   ]
  },
  {
   "cell_type": "code",
   "execution_count": 87,
   "metadata": {},
   "outputs": [],
   "source": [
    "basis_set='6-31G'\n",
    "ch4_basis=get_gobasis(Methane.coordinates,Methane.numbers,basis_set)\n",
    "N_basis=get_gobasis(Methane.coordinates[0:1],np.array([7]),basis_set)\n",
    "alc_basis=GOBasis.concatenate(ch4_basis,N_basis)"
   ]
  },
  {
   "cell_type": "code",
   "execution_count": 88,
   "metadata": {},
   "outputs": [
    {
     "data": {
      "text/plain": [
       "(-40.18179111538183,\n",
       " array([1.18254112e+02, 1.18254112e+02, 1.18254112e+02, ...,\n",
       "        1.90724716e-59, 2.53810766e-67, 3.07801270e-51]))"
      ]
     },
     "execution_count": 88,
     "metadata": {},
     "output_type": "execute_result"
    }
   ],
   "source": [
    "uhf(Methane,alc_basis)"
   ]
  },
  {
   "cell_type": "code",
   "execution_count": 89,
   "metadata": {},
   "outputs": [],
   "source": [
    "gridc=BeckeMolGrid(Methane.coordinates,Methane.numbers,Methane.numbers, random_rotate=False,agspec='insane')"
   ]
  },
  {
   "cell_type": "code",
   "execution_count": 90,
   "metadata": {},
   "outputs": [],
   "source": [
    "e0,rho0=uhf(Methane,alc_basis)"
   ]
  },
  {
   "cell_type": "code",
   "execution_count": 91,
   "metadata": {},
   "outputs": [],
   "source": [
    "h=0.05\n",
    "Methane.pseudo_numbers[0]+=h\n",
    "Methane.pseudo_numbers[4]-=h\n",
    "e1,rho1=uhf(Methane,alc_basis)"
   ]
  },
  {
   "cell_type": "code",
   "execution_count": 92,
   "metadata": {},
   "outputs": [],
   "source": [
    "Methane.pseudo_numbers[0]-=2*h\n",
    "Methane.pseudo_numbers[4]+=2*h\n",
    "e2,rho2=uhf(Methane,alc_basis)"
   ]
  },
  {
   "cell_type": "code",
   "execution_count": 93,
   "metadata": {},
   "outputs": [
    {
     "data": {
      "text/plain": [
       "array([5.95, 1.  , 1.  , 1.  , 1.05])"
      ]
     },
     "execution_count": 93,
     "metadata": {},
     "output_type": "execute_result"
    }
   ],
   "source": [
    "Methane.pseudo_numbers"
   ]
  },
  {
   "cell_type": "code",
   "execution_count": 94,
   "metadata": {},
   "outputs": [],
   "source": [
    "Ammonia=IOData()\n",
    "Ammonia.coordinates=Methane.coordinates[:-1]\n",
    "Ammonia.numbers=numbers=np.array([7,1,1,1])\n",
    "Ammonia.pseudo_numbers=np.array([7.,1.,1.,1.])\n",
    "nh3_basis=get_gobasis(Ammonia.coordinates,Ammonia.numbers,basis_set)\n",
    "C_basis=get_gobasis(Methane.coordinates[0:1],np.array([6]),basis_set)\n",
    "nh3c_basis=GOBasis.concatenate(nh3_basis,C_basis)"
   ]
  },
  {
   "cell_type": "code",
   "execution_count": 101,
   "metadata": {},
   "outputs": [
    {
     "data": {
      "text/plain": [
       "-2.458099230232188"
      ]
     },
     "execution_count": 101,
     "metadata": {},
     "output_type": "execute_result"
    }
   ],
   "source": [
    "DVNN=compute_nucnuc(Ammonia.coordinates,Ammonia.pseudo_numbers)\\\n",
    "-compute_nucnuc(Methane.coordinates, Methane.pseudo_numbers)\n",
    "DVNN"
   ]
  },
  {
   "cell_type": "code",
   "execution_count": 96,
   "metadata": {},
   "outputs": [
    {
     "data": {
      "text/plain": [
       "(-56.148064068857224, -56.15385511303025)"
      ]
     },
     "execution_count": 96,
     "metadata": {},
     "output_type": "execute_result"
    }
   ],
   "source": [
    "e_nh3,rho_nh3 = uhf(Ammonia,nh3_basis)\n",
    "e_nh3c,rho_nh3c = uhf(Ammonia,nh3c_basis)\n",
    "e_nh3,e_nh3c"
   ]
  },
  {
   "cell_type": "code",
   "execution_count": 97,
   "metadata": {},
   "outputs": [],
   "source": [
    "# alchemy second order in energy- first in density \n",
    "coordinates=Methane.coordinates\n",
    "V1=((gridc.points[:, 0]-coordinates[0][0])**2+(gridc.points[:, 1]-coordinates[0][1])**2+\\\n",
    "    (gridc.points[:, 2]-coordinates[0][2])**2)**-0.5\n",
    "V2=((gridc.points[:, 0]-coordinates[4][0])**2+(gridc.points[:, 1]-coordinates[4][1])**2+\\\n",
    "    (gridc.points[:, 2]-coordinates[4][2])**2)**-0.5\n",
    "DV=V2-V1"
   ]
  },
  {
   "cell_type": "code",
   "execution_count": 102,
   "metadata": {},
   "outputs": [
    {
     "data": {
      "text/plain": [
       "(-53.91419787274343, -56.372297102975615)"
      ]
     },
     "execution_count": 102,
     "metadata": {},
     "output_type": "execute_result"
    }
   ],
   "source": [
    "E_est=e0+gridc.integrate(rho0,DV)+0.5*gridc.integrate(rho1-rho2,DV)/2./h\n",
    "E_est,E_est+DVNN"
   ]
  },
  {
   "cell_type": "code",
   "execution_count": 103,
   "metadata": {},
   "outputs": [
    {
     "data": {
      "text/plain": [
       "(-53.79752044795264, -56.25561967818483)"
      ]
     },
     "execution_count": 103,
     "metadata": {},
     "output_type": "execute_result"
    }
   ],
   "source": [
    "E_est=e0+gridc.integrate(rho0,DV)+0.5*gridc.integrate(rho1-rho2,DV)/2/h\\\n",
    "+1/6.*gridc.integrate(rho1-2*rho0+rho2,DV)/h**2\n",
    "E_est,E_est+DVNN"
   ]
  },
  {
   "cell_type": "markdown",
   "metadata": {},
   "source": [
    ".1 Angstrom of error  -56.25561967818483 vs -56.15385511303025 "
   ]
  }
 ],
 "metadata": {
  "kernelspec": {
   "display_name": "Python 2",
   "language": "python",
   "name": "python2"
  },
  "language_info": {
   "codemirror_mode": {
    "name": "ipython",
    "version": 2
   },
   "file_extension": ".py",
   "mimetype": "text/x-python",
   "name": "python",
   "nbconvert_exporter": "python",
   "pygments_lexer": "ipython2",
   "version": "2.7.15rc1"
  }
 },
 "nbformat": 4,
 "nbformat_minor": 2
}
