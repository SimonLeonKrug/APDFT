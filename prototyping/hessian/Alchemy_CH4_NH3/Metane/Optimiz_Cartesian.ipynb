{
 "cells": [
  {
   "cell_type": "code",
   "execution_count": 25,
   "metadata": {},
   "outputs": [],
   "source": [
    "from horton import *\n",
    "import numpy as np\n",
    "from numpy.linalg import norm\n",
    "from numpy import dot,cross\n",
    "Methane=IOData.from_file('Methane.xyz')\n",
    "#print Methane.numbers\n",
    "#Methane.coordinates*=angstrom"
   ]
  },
  {
   "cell_type": "code",
   "execution_count": 19,
   "metadata": {},
   "outputs": [],
   "source": [
    "def uhf(mol,basis_set='sto-3g'):\n",
    "    obasis=get_gobasis(mol.coordinates,mol.numbers,basis_set)\n",
    "\n",
    "    lf=DenseLinalgFactory(obasis.nbasis)\n",
    "    #orbital integrals\n",
    "    olp=obasis.compute_overlap(lf)\n",
    "    kin=obasis.compute_kinetic(lf)\n",
    "    na=obasis.compute_nuclear_attraction(mol.coordinates,mol.pseudo_numbers,lf)\n",
    "    er=obasis.compute_electron_repulsion(lf)\n",
    "    \n",
    "    exp_alpha=lf.create_expansion()\n",
    "    exp_beta=lf.create_expansion()\n",
    "\n",
    "    guess_core_hamiltonian(olp, kin, na, exp_alpha,exp_beta)\n",
    "    occ_model=AufbauOccModel(5,5)\n",
    "    occ_model.assign(exp_alpha, exp_beta)\n",
    "\n",
    "    external = {'nn': compute_nucnuc(mol.coordinates, mol.pseudo_numbers)}\n",
    "    terms = [\n",
    "        UTwoIndexTerm(kin, 'kin'),\n",
    "        UDirectTerm(er, 'hartree'),\n",
    "        UExchangeTerm(er, 'x_hf'),\n",
    "        UTwoIndexTerm(na, 'ne'),\n",
    "    ]\n",
    "    ham = UEffHam(terms, external)\n",
    "    dm_alpha = exp_alpha.to_dm()\n",
    "    dm_beta = exp_beta.to_dm()\n",
    "    # - SCF solver\n",
    "    scf_solver = EDIIS2SCFSolver(1e-5,maxiter=300)\n",
    "    scf_solver(ham, lf, olp, occ_model, dm_alpha, dm_beta)\n",
    "    return ham.cache['energy']"
   ]
  },
  {
   "cell_type": "code",
   "execution_count": 26,
   "metadata": {},
   "outputs": [
    {
     "name": "stdout",
     "output_type": "stream",
     "text": [
      "Initialized: <horton.gbasis.cext.GOBasis object at 0x7f9cee92b738>\n",
      "  Number of basis functions         : 9\n",
      "  Number of normalization constants : 27\n",
      "  Maximum shell type                : 1\n",
      "  Center     0 :  S3 S3 P3\n",
      "  Center     1 :  S3\n",
      "  Center     2 :  S3\n",
      "  Center     3 :  S3\n",
      "  Center     4 :  S3\n",
      "\n",
      "Performing a core Hamiltonian guess.\n",
      "\n",
      "Starting restricted closed-shell EDIIS+DIIS-SCF\n",
      "~~~~~~~~~~~~~~~~~~~~~~~~~~~~~~~~~~~~~~~~~~~~~~~~~~~~~~~~~~~~~~~~~~~~~~~~~~~~~~~~~~~~~~~~~~~~~~~~~~~~\n",
      "Iter         Error        CN         Last nv Method          Energy       Change\n",
      "~~~~~~~~~~~~~~~~~~~~~~~~~~~~~~~~~~~~~~~~~~~~~~~~~~~~~~~~~~~~~~~~~~~~~~~~~~~~~~~~~~~~~~~~~~~~~~~~~~~~\n",
      "   0  1.52536e+00                          1      -36.0772803908943\n",
      "   0  5.16863e-01                          2      -39.5538437115363\n",
      "   0               0.000e+00    1.0000000  2 E                         0.0000000\n",
      "   1  9.58034e-02                          3      -39.7209216931104\n",
      "   1               0.000e+00    1.0000000  3 E                         0.0000000\n",
      "   2  1.73349e-02                          4      -39.7263936850619\n",
      "   2               0.000e+00    1.0000000  4 E                         0.0000000\n",
      "   3  3.18937e-03                          5      -39.7265756568609\n",
      "   3               0.000e+00    1.0000000  5 E                         0.0000000\n",
      "   4  5.76898e-04                          6      -39.7265817281480\n",
      "   4               0.000e+00    1.0000000  6 E                         0.0000000\n",
      "   5  1.08091e-04                          6      -39.7265819328662\n",
      "   5               0.000e+00    1.0000000  6 E                         0.0000000\n",
      "   6  1.97208e-05                          6      -39.7265819398906\n",
      "   6               2.571e+19    1.4883002  6 M                                  \n",
      "   7  3.54380e-07 (converged)\n",
      "\n",
      "Contributions to the energy:\n",
      "~~~~~~~~~~~~~~~~~~~~~~~~~~~~~~~~~~~~~~~~~~~~~~~~~~~~~~~~~~~~~~~~~~~~~~~~~~~~~~~~~~~~~~~~~~~~~~~~~~~~\n",
      "                                              term                 Value\n",
      "~~~~~~~~~~~~~~~~~~~~~~~~~~~~~~~~~~~~~~~~~~~~~~~~~~~~~~~~~~~~~~~~~~~~~~~~~~~~~~~~~~~~~~~~~~~~~~~~~~~~\n",
      "                                               kin       39.437448048513\n",
      "                                           hartree       32.771072727297\n",
      "                                              x_hf       -6.613097476504\n",
      "                                                ne     -118.730356243998\n",
      "                                                nn       13.408351004544\n",
      "                                             total      -39.726581940149\n",
      "~~~~~~~~~~~~~~~~~~~~~~~~~~~~~~~~~~~~~~~~~~~~~~~~~~~~~~~~~~~~~~~~~~~~~~~~~~~~~~~~~~~~~~~~~~~~~~~~~~~~\n",
      "\n"
     ]
    },
    {
     "data": {
      "text/plain": [
       "-39.72658194014869"
      ]
     },
     "execution_count": 26,
     "metadata": {},
     "output_type": "execute_result"
    }
   ],
   "source": [
    "uhf(Methane)"
   ]
  }
 ],
 "metadata": {
  "kernelspec": {
   "display_name": "Python 2",
   "language": "python",
   "name": "python2"
  },
  "language_info": {
   "codemirror_mode": {
    "name": "ipython",
    "version": 2
   },
   "file_extension": ".py",
   "mimetype": "text/x-python",
   "name": "python",
   "nbconvert_exporter": "python",
   "pygments_lexer": "ipython2",
   "version": "2.7.15rc1"
  }
 },
 "nbformat": 4,
 "nbformat_minor": 2
}
