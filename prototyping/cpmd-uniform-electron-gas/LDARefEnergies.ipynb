{
 "cells": [
  {
   "cell_type": "code",
   "execution_count": 1,
   "metadata": {},
   "outputs": [
    {
     "name": "stdout",
     "output_type": "stream",
     "text": [
      "The history saving thread hit an unexpected error (DatabaseError('database disk image is malformed',)).History will not be written to the database.\n"
     ]
    }
   ],
   "source": [
    "import horton\n",
    "import numpy as np\n",
    "import pandas as pd\n",
    "import matplotlib.pyplot as plt\n",
    "import scipy.spatial as scs\n",
    "from scipy.interpolate import CubicSpline"
   ]
  },
  {
   "cell_type": "code",
   "execution_count": 2,
   "metadata": {},
   "outputs": [
    {
     "name": "stderr",
     "output_type": "stream",
     "text": [
      "/home/guido/miniconda3/envs/py27/lib/python2.7/site-packages/ipykernel_launcher.py:41: RuntimeWarning: divide by zero encountered in divide\n"
     ]
    }
   ],
   "source": [
    "def read_input():\n",
    "    lines = open('results').readlines()\n",
    "    results = []\n",
    "    coordinates = []\n",
    "    for line in lines:\n",
    "        parts = line.strip().split()\n",
    "        row = {}\n",
    "        if parts[0] == '#R':\n",
    "            q = parts[1].strip('/').split('/')\n",
    "            row['target'] = q[-2]\n",
    "            if row['target'] == 'NN-2':\n",
    "                row['target'] = 'N2-2'\n",
    "            row['box'] = int(q[-1].split('-')[-1])\n",
    "            row['energies'] = np.array([float(_) for _ in parts[2:]])\n",
    "            row['numatoms'] = len(row['energies'])\n",
    "            results.append(row)\n",
    "        if parts[0] == '#C':\n",
    "            numatoms = int(parts[1])\n",
    "            row['numatoms'] = numatoms\n",
    "            row['zs'] = [int(float(_)) for _ in parts[2:2+numatoms]]\n",
    "            row['coords'] = np.array([float(_) for _ in parts[-3*numatoms:]]).reshape(-1, 3)\n",
    "            coordinates.append(row)\n",
    "    return pd.DataFrame(results), pd.DataFrame(coordinates)\n",
    "r, c = read_input()\n",
    "def read_energies():\n",
    "    lines = open('results-energies').readlines()\n",
    "    energies = []\n",
    "    for line in lines:\n",
    "        parts = line.strip().split()\n",
    "        row = {}\n",
    "        row['energy'] = float(parts[-2])\n",
    "        parts = parts[0].split('/')\n",
    "        row['target'] = parts[0]\n",
    "        if row['target'] == 'NN-2':\n",
    "            row['target'] = 'N2-2'\n",
    "        row['box'] = int(parts[1].split('-')[-1])\n",
    "        energies.append(row)\n",
    "    return pd.DataFrame(energies)\n",
    "def get_nuc_nuc_energy():\n",
    "    def _get_e(row):\n",
    "        e = np.outer(row.zs, row.zs)/ scs.distance.squareform(scs.distance.pdist(row.coords))\n",
    "        np.fill_diagonal(e, 0)\n",
    "        return e.sum(axis=0)/2    \n",
    "    q = pd.merge(c, r, left_index=True, right_index=True)['coords zs target'.split()].drop_duplicates('target')\n",
    "    q['enn'] = q.apply(_get_e, axis=1)\n",
    "    return q['target enn zs'.split()]\n",
    "    \n",
    "energy_data = pd.merge(read_energies(), get_nuc_nuc_energy())\n",
    "\n",
    "# extrapolate for infinite box size (in df as 1000)\n",
    "# alchemical energies: extrapolation for 1/box size at 0 via linreg\n",
    "# total energies: already converged at box site 20\n",
    "rows = []\n",
    "for name, group in r.sort_values('box').groupby('target'):\n",
    "    extrapolated = []\n",
    "    for site in range(group.numatoms.values[0]):\n",
    "        es = np.array(group.energies.values.tolist())\n",
    "        #plt.plot(1/group.box, es[:, site], label=name)\n",
    "        try:\n",
    "            extrapolated.append(np.polyfit(1/group.box, es[:, site], 1)[1])\n",
    "        except:\n",
    "            extrapolated.append(es[-1, site])\n",
    "    row = {}\n",
    "    row['box'] = 1000\n",
    "    row['energies'] = extrapolated\n",
    "    row['numatoms'] = len(extrapolated)\n",
    "    row['target'] = name\n",
    "    rows.append(row)\n",
    "r = pd.concat((r,pd.DataFrame(rows)))\n",
    "q = energy_data.query('box == 20').copy()\n",
    "q.box = 1000\n",
    "energy_data = pd.concat((energy_data, q))"
   ]
  },
  {
   "cell_type": "code",
   "execution_count": 3,
   "metadata": {},
   "outputs": [],
   "source": [
    "targets = r[r.numatoms==12].target.unique()"
   ]
  },
  {
   "cell_type": "code",
   "execution_count": 5,
   "metadata": {},
   "outputs": [
    {
     "name": "stdout",
     "output_type": "stream",
     "text": [
      "('5-7-6-7-5-6', -114.88736934215373)\n",
      "('5-7-7-5-6-6', -115.06375403902655)\n",
      "('7-5-7-5-7-5', -117.41027962252605)\n",
      "('5-6-6-7-6-6', -112.26455370811442)\n",
      "('5-7-7-7-5-5', -117.33373980193085)\n",
      "('5-7-5-7-6-6', -114.82707934496077)\n",
      "('5-7-6-5-7-6', -114.82709681464456)\n",
      "('5-7-6-6-7-5', -114.71188029558954)\n",
      "('6-6-6-6-6-6', -109.29208625782164)\n"
     ]
    },
    {
     "name": "stderr",
     "output_type": "stream",
     "text": [
      "/home/guido/.local/lib/python2.7/site-packages/horton/quadprog.py:621: FutureWarning: `rcond` parameter will change to the default of machine precision times ``max(M, N)`` where M and N are the input matrix dimensions.\n",
      "To use the future default and silence this warning we advise to pass `rcond=None`, to keep using the old, explicitly pass `rcond=-1`.\n",
      "  lagrange = np.linalg.lstsq(r_free.T, -g_free)[0]\n"
     ]
    },
    {
     "name": "stdout",
     "output_type": "stream",
     "text": [
      "('5-7-5-6-7-6', -114.84358799751243)\n",
      "('5-7-6-6-6-6', -112.1427817066122)\n",
      "('5-7-6-5-6-7', -114.83797887802262)\n",
      "('5-6-7-6-6-6', -112.23310920136197)\n",
      "('5-7-6-7-6-5', -114.75306886820667)\n",
      "('5-7-5-7-7-5', -117.47885738543968)\n",
      "('5-6-7-7-6-5', -114.89466516338837)\n",
      "('5-7-7-6-6-5', -114.92423286443136)\n",
      "('5-7-7-6-5-6', -115.06124537125811)\n"
     ]
    }
   ],
   "source": [
    "for tidx, target in enumerate(targets):\n",
    "        q = pd.merge(r[r.target.str.startswith(target)], energy_data[energy_data.target.str.startswith(target)])\n",
    "        q = q[q.box == 1000]\n",
    "        qq = c.iloc[r[r.target.str.startswith(target)].index[0]]\n",
    "\n",
    "        coords = qq.coords\n",
    "        zs = qq.zs\n",
    "        try:\n",
    "            print (target, do_mol(coords, zs))\n",
    "        except:\n",
    "            print (target, 'MISS')"
   ]
  },
  {
   "cell_type": "code",
   "execution_count": 4,
   "metadata": {},
   "outputs": [],
   "source": [
    "def do_mol(coords, zs):\n",
    "    horton.log.set_level(0)\n",
    "    mol = horton.IOData(title='test')\n",
    "    mol.coordinates = np.array(coords)\n",
    "    mol.numbers = np.array(zs)\n",
    "    mol.pseudo_numbers = mol.numbers\n",
    "    \n",
    "    basisset = '6-31G'\n",
    "    obasis = horton.get_gobasis(mol.coordinates, mol.numbers, basisset)\n",
    "    \n",
    "    olp = obasis.compute_overlap()\n",
    "    kin = obasis.compute_kinetic()\n",
    "    na = obasis.compute_nuclear_attraction(mol.coordinates, mol.pseudo_numbers)\n",
    "    er = obasis.compute_electron_repulsion()\n",
    "    \n",
    "    orb_alpha = horton.Orbitals(obasis.nbasis)\n",
    "    orb_beta = horton.Orbitals(obasis.nbasis)\n",
    "\n",
    "    # Initial guess\n",
    "    one = kin + na\n",
    "    horton.guess_core_hamiltonian(olp, one, orb_alpha, orb_beta)\n",
    "    \n",
    "    grid = horton.BeckeMolGrid(mol.coordinates, mol.numbers, mol.numbers, 'fine', mode='keep', random_rotate=False)\n",
    "    terms = [\n",
    "        horton.UTwoIndexTerm(kin, 'kin'),\n",
    "        horton.UGridGroup(obasis, grid, [\n",
    "            horton.UBeckeHartree(lmax=8),\n",
    "            horton.ULibXCLDA('x'),\n",
    "            horton.ULibXCLDA('c_vwn'),\n",
    "        ]),\n",
    "        horton.UTwoIndexTerm(na, 'ne'),\n",
    "    ]\n",
    "    external = {'nn': horton.compute_nucnuc(mol.coordinates, mol.pseudo_numbers)}\n",
    "    ham = horton.UEffHam(terms, external)\n",
    "    converged = False\n",
    "    for solver in (horton.CDIISSCFSolver, horton.EDIIS2SCFSolver,horton.ODASCFSolver,  horton.EDIISSCFSolver, ):\n",
    "        try:\n",
    "            occ_model = horton.AufbauOccModel(7, 7)\n",
    "        \n",
    "            occ_model.assign(orb_alpha, orb_beta)\n",
    "            dm_alpha = orb_alpha.to_dm()\n",
    "            dm_beta = orb_beta.to_dm()\n",
    "            scf_solver = solver(1e-7, maxiter=100)\n",
    "            scf_solver(ham, olp, occ_model, dm_alpha, dm_beta)\n",
    "            converged = True\n",
    "        except:\n",
    "            continue\n",
    "        if converged:\n",
    "            break\n",
    "    return ham.cache['energy']\n",
    "#h = do_mol(coords, zs)"
   ]
  },
  {
   "cell_type": "code",
   "execution_count": 6,
   "metadata": {},
   "outputs": [],
   "source": [
    "targets = r[r.numatoms!=12].target.unique()"
   ]
  },
  {
   "cell_type": "code",
   "execution_count": 7,
   "metadata": {},
   "outputs": [
    {
     "name": "stdout",
     "output_type": "stream",
     "text": [
      "('CO-1.5', -112.25762155428822)\n",
      "('N2-1.7', -108.3374409872409)\n",
      "('CO-1.0', -112.29253162092893)\n",
      "('CO-1.7', -112.17455034438892)\n",
      "('BF-0.8', -122.89870483065577)\n",
      "('BF-1.7', -123.64370973838675)\n",
      "('methane', -37.711208714214955)\n",
      "('BF-1.0', -123.543254539585)\n",
      "('N2-1.5', -108.43433510724338)\n",
      "('N2-0.8', -107.97350025783689)\n",
      "('CO-2', -112.07104110035469)\n",
      "('HCN', -92.57897122218719)\n",
      "('acetylene', -76.53790559955262)\n",
      "('ethylene', -76.63078265404748)\n",
      "('BF-1.2', -123.68349181639539)\n",
      "('N2-2', -108.2224710958616)\n",
      "('N2-1.2', -108.57627681143988)\n",
      "('N2-1.0', -108.53406576353363)\n",
      "('CO-1.2', -112.36176330752325)\n",
      "('BF-2', -123.58589519212933)\n",
      "('BF-1.5', -123.68045678379329)\n",
      "('CO-0.8', -111.70980841158416)\n"
     ]
    }
   ],
   "source": [
    "for tidx, target in enumerate(targets):\n",
    "        q = pd.merge(r[r.target.str.startswith(target)], energy_data[energy_data.target.str.startswith(target)])\n",
    "        q = q[q.box == 1000]\n",
    "        qq = c.iloc[r[r.target.str.startswith(target)].index[0]]\n",
    "\n",
    "        coords = qq.coords\n",
    "        zs = qq.zs\n",
    "        try:\n",
    "            print (target, do_mol(coords, zs))\n",
    "        except:\n",
    "            print (target, 'MISS')"
   ]
  },
  {
   "cell_type": "code",
   "execution_count": null,
   "metadata": {},
   "outputs": [],
   "source": []
  }
 ],
 "metadata": {
  "kernelspec": {
   "display_name": "Python [conda env:py27]",
   "language": "python",
   "name": "conda-env-py27-py"
  },
  "language_info": {
   "codemirror_mode": {
    "name": "ipython",
    "version": 2
   },
   "file_extension": ".py",
   "mimetype": "text/x-python",
   "name": "python",
   "nbconvert_exporter": "python",
   "pygments_lexer": "ipython2",
   "version": "2.7.15"
  }
 },
 "nbformat": 4,
 "nbformat_minor": 2
}
