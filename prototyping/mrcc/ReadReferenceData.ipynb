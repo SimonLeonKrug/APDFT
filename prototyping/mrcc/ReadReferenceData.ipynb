{
 "cells": [
  {
   "cell_type": "code",
   "execution_count": 138,
   "metadata": {},
   "outputs": [],
   "source": [
    "import numpy as np\n",
    "import pandas as pd\n",
    "import datetime\n",
    "import functools"
   ]
  },
  {
   "cell_type": "code",
   "execution_count": 3,
   "metadata": {},
   "outputs": [],
   "source": [
    "targets = [_.strip() for _ in open('validation/targets').readlines()]"
   ]
  },
  {
   "cell_type": "code",
   "execution_count": 83,
   "metadata": {},
   "outputs": [],
   "source": [
    "def read_ccsd_result(target):\n",
    "    lines = open('validation/CCSD/%s/run.log' % target).readlines()\n",
    "    for line in lines:\n",
    "        if ' ***FINAL HARTREE-FOCK ENERGY' in line:\n",
    "            E_HF = float(line.strip().split()[-2])\n",
    "        if 'MP2 energy' in line:\n",
    "            E_MP2 = float(line.strip().split()[-1])\n",
    "        if 'Total CCSD energy' in line:\n",
    "            E_CCSD = float(line.strip().split()[-1])\n",
    "\n",
    "    times = [datetime.datetime.strptime(_[26:45], '%Y-%m-%d %H:%M:%S') for _ in lines if '************************ ' in _]\n",
    "    ccsd_time = (times[-1]-times[0]).seconds/60\n",
    "    mp2_time = (times[-2]-times[0]).seconds/60\n",
    "    hf_time = (times[-3]-times[0]).seconds/60\n",
    "    return {'target': target, 'hf_time': hf_time, 'mp2_time': mp2_time, 'ccsd_time': ccsd_time, 'HF_T': E_HF, 'MP2_T': E_MP2, 'CCSD_T': E_CCSD}"
   ]
  },
  {
   "cell_type": "code",
   "execution_count": 93,
   "metadata": {},
   "outputs": [],
   "source": [
    "def read_results(fn):\n",
    "    ccsd_result = []\n",
    "    for target in targets:\n",
    "        try:\n",
    "            r = fn(target)\n",
    "        except:\n",
    "            continue\n",
    "        ccsd_result.append(r)\n",
    "    return pd.DataFrame(ccsd_result)\n",
    "ccsd_df = read_results(read_ccsd_result)"
   ]
  },
  {
   "cell_type": "code",
   "execution_count": 85,
   "metadata": {},
   "outputs": [
    {
     "data": {
      "text/plain": [
       "CCSD_T      -7.036894e+05\n",
       "HF_T        -7.020499e+05\n",
       "MP2_T       -7.036807e+05\n",
       "ccsd_time    1.514472e+04\n",
       "hf_time      2.470150e+03\n",
       "mp2_time     7.492833e+03\n",
       "target                inf\n",
       "dtype: float64"
      ]
     },
     "execution_count": 85,
     "metadata": {},
     "output_type": "execute_result"
    }
   ],
   "source": [
    "ccsd_df.sum()"
   ]
  },
  {
   "cell_type": "code",
   "execution_count": 99,
   "metadata": {},
   "outputs": [],
   "source": [
    "def read_pbe_result(target):\n",
    "    lines = open('validation/PBE/%s/run.log' % target).readlines()\n",
    "    for line in lines:\n",
    "        if 'ENERGY| Total FORCE_EVAL' in line:\n",
    "            epbe = float(line.strip().split()[-1])\n",
    "        if 'CP2K                                 1' in line:\n",
    "            pbetime = float(line.strip().split()[-1])/60\n",
    "    return {'target': target, 'PBE_T': epbe, 'pbe_time': pbetime}\n",
    "            \n",
    "pbe_df = read_results(read_pbe_result)\n",
    "-9.772560266932857"
   ]
  },
  {
   "cell_type": "code",
   "execution_count": 127,
   "metadata": {},
   "outputs": [
    {
     "data": {
      "text/plain": [
       "(-1.8204383143239997, -4.162351033113, -6.282762491054)"
      ]
     },
     "execution_count": 127,
     "metadata": {},
     "output_type": "execute_result"
    }
   ],
   "source": [
    "pm6_df = pd.read_csv('validation/PM6.results', sep='\\s+', names='target a b c PM6_T'.split())['target PM6_T'.split()]\n",
    "pm6_df['PM6_T'] *= 0.0367493"
   ]
  },
  {
   "cell_type": "code",
   "execution_count": 128,
   "metadata": {},
   "outputs": [],
   "source": [
    "uff_df = pd.read_csv('validation/UFF.results', sep=' ', names='target a b c UFF_T d'.split())['target UFF_T'.split()]\n",
    "uff_df['UFF_T'] /= 2625.50"
   ]
  },
  {
   "cell_type": "code",
   "execution_count": 129,
   "metadata": {},
   "outputs": [],
   "source": [
    "apdft_df = pd.read_csv('validation/APDFT.csv')['target APDFT0_T APDFT1_T'.split()]\n",
    "combined = pd.merge(pd.merge(pd.merge(pd.merge(pbe_df, ccsd_df), uff_df), pm6_df), apdft_df)"
   ]
  },
  {
   "cell_type": "code",
   "execution_count": 140,
   "metadata": {},
   "outputs": [
    {
     "data": {
      "text/plain": [
       "-109.62130618445514"
      ]
     },
     "execution_count": 140,
     "metadata": {},
     "output_type": "execute_result"
    }
   ],
   "source": [
    "@functools.lru_cache(200)\n",
    "def get_atomisation_offset(method, bnpairs):\n",
    "    atom = pd.read_csv('validation/atom', sep=' ')\n",
    "    q = atom.query('method == @method').iloc[0]\n",
    "    return (q.B + q.N)*bnpairs + 2*q.C * (10-bnpairs)\n",
    "get_atomisation_offset('PBE', 2)"
   ]
  },
  {
   "cell_type": "code",
   "execution_count": 142,
   "metadata": {},
   "outputs": [],
   "source": [
    "def decorate(row):\n",
    "    row['bnpairs'] = len([_ for _ in row['target'] if _ == '5'])\n",
    "    for method in 'PBE CCSD HF MP2 UFF PM6 APDFT0 APDFT1'.split():\n",
    "        row['%s_A' % method] = row['%s_T' % method] - get_atomisation_offset(method, row['bnpairs'])\n",
    "    return row\n",
    "combined = combined.apply(decorate, axis=1)"
   ]
  },
  {
   "cell_type": "code",
   "execution_count": 143,
   "metadata": {},
   "outputs": [],
   "source": [
    "import matplotlib.pyplot as plt"
   ]
  },
  {
   "cell_type": "code",
   "execution_count": 145,
   "metadata": {},
   "outputs": [
    {
     "data": {
      "text/plain": [
       "<matplotlib.legend.Legend at 0x7fda4aa4f2b0>"
      ]
     },
     "execution_count": 145,
     "metadata": {},
     "output_type": "execute_result"
    },
    {
     "data": {
      "image/png": "[encoded data removed]",
      "text/plain": [
       "<Figure size 432x288 with 1 Axes>"
      ]
     },
     "metadata": {
      "needs_background": "light"
     },
     "output_type": "display_data"
    }
   ],
   "source": [
    "for method in 'PBE HF MP2 UFF PM6 APDFT0 APDFT1'.split():\n",
    "    combined['deltaE'] = np.abs(combined.CCSD_A - combined['%s_A' % method])\n",
    "    q = combined.groupby('bnpairs').mean().reset_index()\n",
    "    plt.plot(q.bnpairs, q.deltaE, label=method)\n",
    "plt.legend()"
   ]
  },
  {
   "cell_type": "code",
   "execution_count": null,
   "metadata": {},
   "outputs": [],
   "source": []
  }
 ],
 "metadata": {
  "kernelspec": {
   "display_name": "Python [conda env:analysis]",
   "language": "python",
   "name": "conda-env-analysis-py"
  },
  "language_info": {
   "codemirror_mode": {
    "name": "ipython",
    "version": 3
   },
   "file_extension": ".py",
   "mimetype": "text/x-python",
   "name": "python",
   "nbconvert_exporter": "python",
   "pygments_lexer": "ipython3",
   "version": "3.6.8"
  }
 },
 "nbformat": 4,
 "nbformat_minor": 2
}
