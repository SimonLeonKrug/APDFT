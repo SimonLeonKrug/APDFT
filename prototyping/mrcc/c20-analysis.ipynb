{
 "cells": [
  {
   "cell_type": "code",
   "execution_count": 8,
   "metadata": {},
   "outputs": [],
   "source": [
    "# read list of nuclear charges, give energy predictions up to nth order"
   ]
  },
  {
   "cell_type": "code",
   "execution_count": 74,
   "metadata": {},
   "outputs": [],
   "source": [
    "import numpy as np\n",
    "import pandas as pd\n",
    "import qml\n",
    "import scipy.spatial as scs\n",
    "import scipy.interpolate as sci"
   ]
  },
  {
   "cell_type": "code",
   "execution_count": null,
   "metadata": {},
   "outputs": [
    {
     "name": "stderr",
     "output_type": "stream",
     "text": [
      "/home/guido/miniconda3/envs/analysis/lib/python3.6/site-packages/ipykernel_launcher.py:3: RuntimeWarning: divide by zero encountered in true_divide\n",
      "  This is separate from the ipykernel package so we can avoid doing imports until\n",
      "/home/guido/miniconda3/envs/analysis/lib/python3.6/site-packages/ipykernel_launcher.py:28: RuntimeWarning: invalid value encountered in true_divide\n"
     ]
    },
    {
     "name": "stdout",
     "output_type": "stream",
     "text": [
      "1 15 0 8\n",
      "6 11 0 16\n",
      "11 6 0 16\n",
      "12 0 0 8\n"
     ]
    }
   ],
   "source": [
    "def get_predictions(comb = [6, 6, 6, 6, 6, 6, 6, 6, 6, 6, 6, 6, 6, 6, 6, 6, 6, 6, 5, 7]):\n",
    "    #rho, dsingle, dneigh1, dneigh2, dneigh3, dneigh4, dneigh5 = read_densities()\n",
    "        \n",
    "    E =0 #-758.072029908548 # base energy\n",
    "    deltaZ = np.array(comb) - 6\n",
    "        \n",
    "    zs = np.array([int(_) for _ in comb])\n",
    "    zsref = np.zeros(20) + 6\n",
    "    \n",
    "    E -= get_nucnuc(zsref)\n",
    "    E += get_nucnuc(zs)\n",
    "    \n",
    "    # 0-th order, no rotation necessary, should be hard zero\n",
    "    #ds = np.linalg.norm(grid_points - c.coordinates[0], axis=1)\n",
    "    #es = (rho * grid_weights / ds).sum()\n",
    "    #for idx, Z in enumerate(comb):\n",
    "    #    if deltaZ[idx] == 0:\n",
    "    #        continue\n",
    "    #    E += np.sum(deltaZ[idx] * rho * grid_weights / ds)\n",
    "    \n",
    "    # 1st order\n",
    "    changed_site, grid_points, grid_densweight = read_grid_first_order()\n",
    "    for idx, Z in enumerate(comb):\n",
    "        if deltaZ[idx] == 0:\n",
    "            continue\n",
    "        mapping = build_reindexing_1(idx, changed_site)\n",
    "        \n",
    "        for j in range(20): \n",
    "            if deltaZ[mapping[j]] == 0:\n",
    "                continue\n",
    "            ds = np.linalg.norm(grid_points - c.coordinates[j], axis=1)*1.8897259885789\n",
    "            E += np.sum(deltaZ[idx] * deltaZ[mapping[j]] * grid_densweight / ds)/2\n",
    "    \n",
    "    # 2nd order\n",
    "    for idx_i, Z_i in enumerate(comb):\n",
    "        if deltaZ[idx_i] == 0:\n",
    "            continue\n",
    "        for idx_j, Z_j in enumerate(comb):\n",
    "            if deltaZ[idx_j] == 0:\n",
    "                continue\n",
    "            \n",
    "            # t_i: target for idx_i after rotation\n",
    "            # deriv_pair: part of derivative after pair-mapping\n",
    "            # deriv_single: part of derivative after single-mapping\n",
    "            t_i, t_j, deriv_pair, deriv_single = get_deriv(idx_i, idx_j)\n",
    "            \n",
    "            # pairwise mapping\n",
    "            if idx_i != idx_j:\n",
    "                try:\n",
    "                    mapping = build_reindexing_2_merged(idx_i, idx_j, t_i, t_j)\n",
    "                except:\n",
    "                    print (idx_i, idx_j, t_i, t_j)\n",
    "                for j in range(20): \n",
    "                    if deltaZ[mapping[j]] == 0:\n",
    "                        continue\n",
    "                    ds = np.linalg.norm(grid_points - c.coordinates[j], axis=1)\n",
    "                    E += np.sum(deltaZ[idx] * deltaZ[mapping[j]] * grid_densweight / ds) / 6\n",
    "            \n",
    "            # single mapping\n",
    "            mapping = build_reindexing_1(idx_j, 0)\n",
    "            for j in range(20): \n",
    "                if deltaZ[mapping[j]] == 0:\n",
    "                    continue\n",
    "                ds = np.linalg.norm(grid_points - c.coordinates[j], axis=1)\n",
    "                E += np.sum(deltaZ[idx] * deltaZ[mapping[j]] * grid_densweight / ds) / 6\n",
    "            \n",
    "    return E\n",
    "    # 0-1 neigh1\n",
    "    # 0-2 neigh2\n",
    "    # 0-8 neigh3\n",
    "    # 0-10 neigh4\n",
    "    # 0-16 neigh5\n",
    "get_predictions([int(_) for _ in '57766576666555776675'])"
   ]
  },
  {
   "cell_type": "code",
   "execution_count": 4,
   "metadata": {},
   "outputs": [],
   "source": [
    "c = qml.Compound('../../test/c20.xyz')"
   ]
  },
  {
   "cell_type": "code",
   "execution_count": 84,
   "metadata": {},
   "outputs": [
    {
     "data": {
      "text/plain": [
       "[4, 3, 11, 12, 13, 0, 1, 2, 9, 10, 16, 17, 18, 14, 5, 8, 15, 19, 6, 7]"
      ]
     },
     "execution_count": 84,
     "metadata": {},
     "output_type": "execute_result"
    }
   ],
   "source": [
    "def _get_nn(refsite):\n",
    "    distances = np.linalg.norm(c.coordinates - c.coordinates[refsite], axis=1)\n",
    "    return np.argsort(distances)[1:4]\n",
    "def build_reindexing_1(refsite, ontosite):\n",
    "    cog = np.mean(c.coordinates, axis=0)\n",
    "    valid = False\n",
    "    for Ann in _get_nn(refsite):\n",
    "        for Bnn in _get_nn(ontosite):\n",
    "            A = c.coordinates[[refsite, Ann]]\n",
    "            B = c.coordinates[[ontosite, Bnn]]\n",
    "            rot = scs.transform.Rotation.match_vectors(A, B)[0]\n",
    "            transformed = rot.apply(c.coordinates)\n",
    "            found = []\n",
    "            for site in range(len(c.coordinates)):\n",
    "                ds = np.linalg.norm(transformed - c.coordinates[site], axis=1)\n",
    "                if min(ds) < 1e-5:\n",
    "                    found.append(np.argmin(ds))\n",
    "            if set(found) == set([_ for _ in range(len(c.coordinates))]) and found[refsite] == ontosite:\n",
    "                valid = True\n",
    "                break\n",
    "        if valid:\n",
    "            break\n",
    "    if not valid:\n",
    "        raise ValueError('no solution')\n",
    "    return found\n",
    "\n",
    "build_reindexing_1(5, 0)"
   ]
  },
  {
   "cell_type": "code",
   "execution_count": 209,
   "metadata": {},
   "outputs": [
    {
     "ename": "ValueError",
     "evalue": "no rotation",
     "output_type": "error",
     "traceback": [
      "\u001b[0;31m---------------------------------------------------------------------------\u001b[0m",
      "\u001b[0;31mValueError\u001b[0m                                Traceback (most recent call last)",
      "\u001b[0;32m<ipython-input-209-b0ba351ef62a>\u001b[0m in \u001b[0;36m<module>\u001b[0;34m\u001b[0m\n\u001b[1;32m     78\u001b[0m     \u001b[0;32mreturn\u001b[0m \u001b[0mbuild_reindexing_2_inverse\u001b[0m\u001b[0;34m(\u001b[0m\u001b[0ma\u001b[0m\u001b[0;34m,\u001b[0m \u001b[0mb\u001b[0m\u001b[0;34m,\u001b[0m \u001b[0mc\u001b[0m\u001b[0;34m,\u001b[0m \u001b[0md\u001b[0m\u001b[0;34m)\u001b[0m\u001b[0;34m\u001b[0m\u001b[0;34m\u001b[0m\u001b[0m\n\u001b[1;32m     79\u001b[0m \u001b[0;31m#build_reindexing_2(1, 5, 0, 2)\u001b[0m\u001b[0;34m\u001b[0m\u001b[0;34m\u001b[0m\u001b[0;34m\u001b[0m\u001b[0m\n\u001b[0;32m---> 80\u001b[0;31m \u001b[0mbuild_reindexing_2_both\u001b[0m\u001b[0;34m(\u001b[0m\u001b[0;36m0\u001b[0m\u001b[0;34m,\u001b[0m \u001b[0;36m6\u001b[0m\u001b[0;34m,\u001b[0m \u001b[0;36m0\u001b[0m\u001b[0;34m,\u001b[0m \u001b[0;36m2\u001b[0m\u001b[0;34m)\u001b[0m\u001b[0;34m\u001b[0m\u001b[0;34m\u001b[0m\u001b[0m\n\u001b[0m",
      "\u001b[0;32m<ipython-input-209-b0ba351ef62a>\u001b[0m in \u001b[0;36mbuild_reindexing_2_both\u001b[0;34m(a, b, c, d)\u001b[0m\n\u001b[1;32m     76\u001b[0m     \u001b[0;32mexcept\u001b[0m \u001b[0mValueError\u001b[0m\u001b[0;34m:\u001b[0m\u001b[0;34m\u001b[0m\u001b[0;34m\u001b[0m\u001b[0m\n\u001b[1;32m     77\u001b[0m         \u001b[0;32mpass\u001b[0m\u001b[0;34m\u001b[0m\u001b[0;34m\u001b[0m\u001b[0m\n\u001b[0;32m---> 78\u001b[0;31m     \u001b[0;32mreturn\u001b[0m \u001b[0mbuild_reindexing_2_inverse\u001b[0m\u001b[0;34m(\u001b[0m\u001b[0ma\u001b[0m\u001b[0;34m,\u001b[0m \u001b[0mb\u001b[0m\u001b[0;34m,\u001b[0m \u001b[0mc\u001b[0m\u001b[0;34m,\u001b[0m \u001b[0md\u001b[0m\u001b[0;34m)\u001b[0m\u001b[0;34m\u001b[0m\u001b[0;34m\u001b[0m\u001b[0m\n\u001b[0m\u001b[1;32m     79\u001b[0m \u001b[0;31m#build_reindexing_2(1, 5, 0, 2)\u001b[0m\u001b[0;34m\u001b[0m\u001b[0;34m\u001b[0m\u001b[0;34m\u001b[0m\u001b[0m\n\u001b[1;32m     80\u001b[0m \u001b[0mbuild_reindexing_2_both\u001b[0m\u001b[0;34m(\u001b[0m\u001b[0;36m0\u001b[0m\u001b[0;34m,\u001b[0m \u001b[0;36m6\u001b[0m\u001b[0;34m,\u001b[0m \u001b[0;36m0\u001b[0m\u001b[0;34m,\u001b[0m \u001b[0;36m2\u001b[0m\u001b[0;34m)\u001b[0m\u001b[0;34m\u001b[0m\u001b[0;34m\u001b[0m\u001b[0m\n",
      "\u001b[0;32m<ipython-input-209-b0ba351ef62a>\u001b[0m in \u001b[0;36mbuild_reindexing_2_inverse\u001b[0;34m(refsite1, refsite2, ontosite1, ontosite2)\u001b[0m\n\u001b[1;32m     19\u001b[0m     \u001b[0mtransformed\u001b[0m \u001b[0;34m=\u001b[0m \u001b[0mtransformed2\u001b[0m\u001b[0;34m\u001b[0m\u001b[0;34m\u001b[0m\u001b[0m\n\u001b[1;32m     20\u001b[0m     \u001b[0;32mif\u001b[0m \u001b[0mmax\u001b[0m\u001b[0;34m(\u001b[0m\u001b[0mnp\u001b[0m\u001b[0;34m.\u001b[0m\u001b[0mlinalg\u001b[0m\u001b[0;34m.\u001b[0m\u001b[0mnorm\u001b[0m\u001b[0;34m(\u001b[0m\u001b[0mc\u001b[0m\u001b[0;34m.\u001b[0m\u001b[0mcoordinates\u001b[0m\u001b[0;34m[\u001b[0m\u001b[0;34m[\u001b[0m\u001b[0mrefsite1\u001b[0m\u001b[0;34m,\u001b[0m \u001b[0mrefsite2\u001b[0m\u001b[0;34m]\u001b[0m\u001b[0;34m]\u001b[0m \u001b[0;34m-\u001b[0m \u001b[0mtransformed\u001b[0m\u001b[0;34m[\u001b[0m\u001b[0;34m[\u001b[0m\u001b[0montosite1\u001b[0m\u001b[0;34m,\u001b[0m \u001b[0montosite2\u001b[0m\u001b[0;34m]\u001b[0m\u001b[0;34m]\u001b[0m \u001b[0;34m,\u001b[0m \u001b[0maxis\u001b[0m\u001b[0;34m=\u001b[0m\u001b[0;36m1\u001b[0m\u001b[0;34m)\u001b[0m\u001b[0;34m)\u001b[0m \u001b[0;34m>\u001b[0m \u001b[0;36m1e-5\u001b[0m\u001b[0;34m:\u001b[0m\u001b[0;34m\u001b[0m\u001b[0;34m\u001b[0m\u001b[0m\n\u001b[0;32m---> 21\u001b[0;31m         \u001b[0;32mraise\u001b[0m \u001b[0mValueError\u001b[0m\u001b[0;34m(\u001b[0m\u001b[0;34m'no rotation'\u001b[0m\u001b[0;34m)\u001b[0m\u001b[0;34m\u001b[0m\u001b[0;34m\u001b[0m\u001b[0m\n\u001b[0m\u001b[1;32m     22\u001b[0m     \u001b[0mfound\u001b[0m \u001b[0;34m=\u001b[0m \u001b[0;34m[\u001b[0m\u001b[0;34m]\u001b[0m\u001b[0;34m\u001b[0m\u001b[0;34m\u001b[0m\u001b[0m\n\u001b[1;32m     23\u001b[0m     \u001b[0;31m#for site in range(20):\u001b[0m\u001b[0;34m\u001b[0m\u001b[0;34m\u001b[0m\u001b[0;34m\u001b[0m\u001b[0m\n",
      "\u001b[0;31mValueError\u001b[0m: no rotation"
     ]
    }
   ],
   "source": [
    "def build_reindexing_2_inverse(refsite1, refsite2, ontosite1, ontosite2):\n",
    "    valid = False\n",
    "    coordinates = np.copy(c.coordinates)*(-1)\n",
    "    A = c.coordinates[[refsite1, refsite2]]\n",
    "    B = coordinates[[ontosite1, ontosite2]]\n",
    "    # rotate one first\n",
    "    a = np.cross(A[0], (0,0,1))\n",
    "    b = np.cross(B[0], (0, 0, 1))\n",
    "    rot = scs.transform.Rotation.match_vectors([A[0], a], [B[0], b])[0]\n",
    "    transformed = rot.apply(c.coordinates)\n",
    "    #print ('step1', np.linalg.norm(c.coordinates[[refsite1, refsite2]] - transformed[[ontosite1, ontosite2]] , axis=1))\n",
    "\n",
    "    # rotate second\n",
    "    A = c.coordinates[[refsite1, refsite2]]\n",
    "    B = transformed[[ontosite1, ontosite2]]\n",
    "    rot = scs.transform.Rotation.match_vectors(A, B)[0]\n",
    "    transformed2 = rot.apply(transformed)\n",
    "    #print ('step2', np.linalg.norm(c.coordinates[[refsite1, refsite2]] - transformed2[[ontosite1, ontosite2]] , axis=1))\n",
    "    transformed = transformed2\n",
    "    if max(np.linalg.norm(c.coordinates[[refsite1, refsite2]] - transformed[[ontosite1, ontosite2]] , axis=1)) > 1e-5:\n",
    "        raise ValueError('no rotation')\n",
    "    found = []\n",
    "    #for site in range(20):\n",
    "    #    if site in (refsite1, refsite2, ontosite1, ontosite2):\n",
    "    #        print ('B', *c.coordinates[site])\n",
    "    #        print ('N', *transformed[site])\n",
    "    #    else:\n",
    "    #        print ('C', *c.coordinates[site])\n",
    "    #        print ('C', *transformed[site])\n",
    "    for site in range(len(coordinates)):\n",
    "        ds = np.linalg.norm(transformed - c.coordinates[site], axis=1)\n",
    "        if min(ds) < 1e-5:\n",
    "            found.append(np.argmin(ds))\n",
    "    #print (set(found))\n",
    "    if set(found) == set([_ for _ in range(len(coordinates))]) and found[refsite1] == ontosite1 and found[refsite2] == ontosite2:\n",
    "        pass\n",
    "    else:\n",
    "        raise ValueError('no solution')\n",
    "    return found\n",
    "def build_reindexing_2(refsite1, refsite2, ontosite1, ontosite2):\n",
    "    valid = False\n",
    "    \n",
    "    A = c.coordinates[[refsite1, refsite2]]\n",
    "    B = c.coordinates[[ontosite1, ontosite2]]\n",
    "\n",
    "    # rotate one first\n",
    "    a = np.cross(A[0], (0,0,1))\n",
    "    b = np.cross(B[0], (0, 0, 1))\n",
    "    rot = scs.transform.Rotation.match_vectors([A[0], a], [B[0], b])[0]\n",
    "    transformed = rot.apply(c.coordinates)\n",
    "    #print ('step1', np.linalg.norm(c.coordinates[[refsite1, refsite2]] - transformed[[ontosite1, ontosite2]] , axis=1))\n",
    "\n",
    "    # rotate second\n",
    "    A = c.coordinates[[refsite1, refsite2]]\n",
    "    B = transformed[[ontosite1, ontosite2]]\n",
    "    rot = scs.transform.Rotation.match_vectors(A, B)[0]\n",
    "    transformed2 = rot.apply(transformed)\n",
    "    #print ('step2', np.linalg.norm(c.coordinates[[refsite1, refsite2]] - transformed2[[ontosite1, ontosite2]] , axis=1))\n",
    "    transformed = transformed2\n",
    "    if max(np.linalg.norm(c.coordinates[[refsite1, refsite2]] - transformed[[ontosite1, ontosite2]] , axis=1)) > 1e-5:\n",
    "        raise ValueError('no rotation')\n",
    "\n",
    "    found = []\n",
    "    for site in range(len(c.coordinates)):\n",
    "        ds = np.linalg.norm(transformed - c.coordinates[site], axis=1)\n",
    "        if min(ds) < 1e-5:\n",
    "            found.append(np.argmin(ds))\n",
    "    if set(found) == set([_ for _ in range(len(c.coordinates))]) and found[refsite1] == ontosite1 and found[refsite2] == ontosite2:\n",
    "        pass\n",
    "    else:\n",
    "        raise ValueError('no solution')\n",
    "    return found\n",
    "def build_reindexing_2_both(a, b, c, d):\n",
    "    try:\n",
    "        return build_reindexing_2(a, b, c, d)\n",
    "    except ValueError:\n",
    "        pass\n",
    "    return build_reindexing_2_inverse(a, b, c, d)\n",
    "#build_reindexing_2(1, 5, 0, 2)\n",
    "build_reindexing_2_merged(0, 6, 0, 2)"
   ]
  },
  {
   "cell_type": "code",
   "execution_count": 28,
   "metadata": {},
   "outputs": [
    {
     "data": {
      "text/plain": [
       "(0, array([[-14.45979167,  -7.67919738,  -4.7844303 ],\n",
       "        [-14.12594505,  -6.47848004,  -4.16214482],\n",
       "        [-13.98485046,  -7.04498829,  -6.58628751],\n",
       "        ...,\n",
       "        [ 14.12594505,   6.47848004,   4.16214293],\n",
       "        [ 14.45978978,   7.67920116,   4.78443219],\n",
       "        [ 15.35325833,   6.6146531 ,   3.73665988]]), array([7.80818106e-25, 6.67525811e-23, 2.61010655e-25, ...,\n",
       "        0.00000000e+00, 0.00000000e+00, 0.00000000e+00]))"
      ]
     },
     "execution_count": 28,
     "metadata": {},
     "output_type": "execute_result"
    }
   ],
   "source": [
    "def read_DENSITY(fn):\n",
    "    with open(fn, 'r') as fh:\n",
    "        _ = np.fromfile(fh, 'i4')\n",
    "        q = _[3:-1].view(np.float64)\n",
    "        ccdensity = q.reshape((-1, 10))\n",
    "    ccdensity = ccdensity[:, 1:6]\n",
    "    return ccdensity[:, :3], ccdensity[:, 3], ccdensity[:, 4]\n",
    "\n",
    "def read_grid_first_order():\n",
    "    changed_site = 0\n",
    "    delta = 0.1\n",
    "    \n",
    "    upgrid, upweight, updens = read_DENSITY('c20-data/derivatives/order-1/site-0-up/DENSITY')\n",
    "    dngrid, dnweight, dndens = read_DENSITY('c20-data/derivatives/order-1/site-0-dn/DENSITY')\n",
    "    \n",
    "    if not np.allclose(upgrid, dngrid):\n",
    "        raise ValueError('Grid?')\n",
    "        \n",
    "    if not np.allclose(upweight, dnweight):\n",
    "        raise ValueError('Grid?')\n",
    "    \n",
    "    return changed_site, upgrid, ((updens - dndens) / delta)*upweight"
   ]
  },
  {
   "cell_type": "code",
   "execution_count": 58,
   "metadata": {},
   "outputs": [],
   "source": [
    "def get_nucnuc(zs):\n",
    "    ds = scs.distance.squareform(scs.distance.pdist(c.coordinates))*1.8897259885789\n",
    "    q = np.outer(zs, zs)/ds\n",
    "    np.fill_diagonal(q, 0)\n",
    "    return q.sum()/2    "
   ]
  },
  {
   "cell_type": "code",
   "execution_count": 81,
   "metadata": {},
   "outputs": [
    {
     "data": {
      "text/plain": [
       "(0, 1, array([-2.99319507e-24, -1.92319235e-20, -4.45285633e-24, ...,\n",
       "         0.00000000e+00,  0.00000000e+00,  0.00000000e+00]), array([-1.40363029e-23, -7.45965882e-20, -1.46127557e-23, ...,\n",
       "        -0.00000000e+00, -0.00000000e+00, -0.00000000e+00]))"
      ]
     },
     "execution_count": 81,
     "metadata": {},
     "output_type": "execute_result"
    }
   ],
   "source": [
    "def rotate_density(origgrid, origdens, target):\n",
    "    rot = get_rotation_1(target, 0)\n",
    "    newgrid = rot.apply(origgrid)\n",
    "    transform = sci.Rbf(newgrid[:, 0], newgrid[:, 1], newgrid[:, 2], origdens, function='thin_plate')\n",
    "    return transform(origgrid[:, 0], origgrid[:, 1], origgrid[:, 2])\n",
    "    \n",
    "def get_deriv(i, j):\n",
    "    \"\"\" Returns \n",
    "    t_i : atom index of i after rotation\n",
    "    t_j : atom index of j after rotation\n",
    "    deriv_pair : the density to be integrated after pairwise rotation\n",
    "    deriv_single : density to be integrated after single rotation \"\"\"\n",
    "    \n",
    "    d = np.linalg.norm(c.coordinates[i] - c.coordinates[j])\n",
    "    geo = np.argmin(np.abs(np.array(sorted(set(np.round(scs.distance.pdist(c.coordinates), 2)))) - d))\n",
    "    sites = (0, (1, 2, 8, 10, 16)[geo])\n",
    "    i, j = sites\n",
    "    delta = 0.05\n",
    "    \n",
    "    assert i == 0\n",
    "    midgrid, midweight, middens = read_DENSITY('c20-data/derivatives/order-0/site-all-cc/DENSITY')\n",
    "    # prefill output\n",
    "    deriv_single = np.zeros(middens.shape)\n",
    "    deriv_pair = np.zeros(middens.shape)\n",
    "    \n",
    "    iupgrid, iupweight, iupdens = read_DENSITY('c20-data/derivatives/order-1/site-0-up/DENSITY')\n",
    "    idngrid, idnweight, idndens = read_DENSITY('c20-data/derivatives/order-1/site-0-dn/DENSITY')\n",
    "    \n",
    "    if i == j:\n",
    "        deriv_single = (iupdens + idndens - 2 * middens)/(delta**2)\n",
    "    else:\n",
    "        rhojup = iupdens\n",
    "        rhojdn = idndens\n",
    "        upgrid, upweight, updens = read_DENSITY('c20-data/derivatives/order-2/site-0-%d-up/DENSITY' % j)\n",
    "        dngrid, dnweight, dndens = read_DENSITY('c20-data/derivatives/order-2/site-0-%d-dn/DENSITY' % j)\n",
    "        \n",
    "        deriv_pair = (updens + dndens + 2 * middens - iupdens - idndens) / (2 * delta**2)\n",
    "        deriv_single = (- rhojup - rhojdn) / (2 * delta**2)\n",
    "    \n",
    "    return i, j, deriv_pair, deriv_single\n",
    "get_deriv(0, 1)"
   ]
  },
  {
   "cell_type": "code",
   "execution_count": 103,
   "metadata": {},
   "outputs": [
    {
     "data": {
      "text/plain": [
       "1.4941261703959974"
      ]
     },
     "execution_count": 103,
     "metadata": {},
     "output_type": "execute_result"
    }
   ],
   "source": [
    "np.linalg.norm(c.coordinates[0] - c.coordinates[1])"
   ]
  },
  {
   "cell_type": "code",
   "execution_count": 216,
   "metadata": {},
   "outputs": [
    {
     "name": "stdout",
     "output_type": "stream",
     "text": [
      "step1 [3.75594755 3.01252493]\n",
      "[[-0.74706308 -1.02824412  1.66373333]\n",
      " [-1.9558366  -0.63548844 -0.39275372]] [[-0.6715409  -0.1181836  -1.97951087]\n",
      " [-0.40292391  1.92557024 -0.71640031]]\n",
      "[  57.1037555    14.32654329 -129.55207668]\n",
      "step2 [4.67027847e-07 4.67101023e-07]\n"
     ]
    }
   ],
   "source": [
    "# 1, 5, 0, 2\n",
    "refsite1, refsite2, ontosite1, ontosite2 = 0,6,0,2\n",
    "#coordinates = np.copy(c.coordinates)*(-1)\n",
    "A = c.coordinates[[refsite1, refsite2]]\n",
    "B = c.coordinates[[ontosite1, ontosite2]]\n",
    "\n",
    "# rotate one first\n",
    "a = np.cross(A[1], (0,0,1))\n",
    "b = np.cross(B[1], (0, 0, 1))\n",
    "rot = scs.transform.Rotation.match_vectors([A[1], a], [B[1], b])[0]\n",
    "transformed = rot.apply(c.coordinates)\n",
    "print ('step1', np.linalg.norm(c.coordinates[[refsite1, refsite2]] - transformed[[ontosite1, ontosite2]] , axis=1))\n",
    "\n",
    "# rotate second\n",
    "A = c.coordinates[[refsite1, refsite2]]\n",
    "B = transformed[[ontosite1, ontosite2]]\n",
    "print (A, B)\n",
    "rot = scs.transform.Rotation.match_vectors(A, B)[0]\n",
    "print (rot.as_euler('zyx', degrees=True))\n",
    "transformed2 = rot.apply(transformed)\n",
    "print ('step2', np.linalg.norm(c.coordinates[[refsite1, refsite2]] - transformed2[[ontosite1, ontosite2]] , axis=1))\n",
    "\n"
   ]
  },
  {
   "cell_type": "code",
   "execution_count": 180,
   "metadata": {},
   "outputs": [
    {
     "data": {
      "text/plain": [
       "array([[-7.47063080e-01, -1.02824412e+00,  1.66373333e+00],\n",
       "       [-1.20877346e+00,  3.92754310e-01,  1.66373333e+00],\n",
       "       [-0.00000000e+00,  1.27097963e+00,  1.66373333e+00],\n",
       "       [ 1.20877346e+00,  3.92754310e-01,  1.66373333e+00],\n",
       "       [ 7.47063080e-01, -1.02824412e+00,  1.66373333e+00],\n",
       "       [-1.20877187e+00, -1.66373428e+00,  3.92755160e-01],\n",
       "       [-1.95583660e+00, -6.35488440e-01, -3.92753720e-01],\n",
       "       [-1.95583588e+00,  6.35490290e-01,  3.92754300e-01],\n",
       "       [-1.20877295e+00,  1.66373389e+00, -3.92753530e-01],\n",
       "       [-1.30000000e-07,  2.05648767e+00,  3.92754760e-01],\n",
       "       [ 1.20877402e+00,  1.66373326e+00, -3.92752910e-01],\n",
       "       [ 1.95583604e+00,  6.35489520e-01,  3.92754760e-01],\n",
       "       [ 1.95583634e+00, -6.35489350e-01, -3.92753530e-01],\n",
       "       [ 1.20877248e+00, -1.66373345e+00,  3.92756830e-01],\n",
       "       [ 9.80000000e-07, -2.05648829e+00, -3.92751510e-01],\n",
       "       [-7.47061760e-01,  1.02824567e+00, -1.66373297e+00],\n",
       "       [ 7.47063080e-01,  1.02824565e+00, -1.66373239e+00],\n",
       "       [ 1.20877513e+00, -3.92754350e-01, -1.66373211e+00],\n",
       "       [ 8.50000000e-07, -1.27097969e+00, -1.66373329e+00],\n",
       "       [-1.20877308e+00, -3.92753670e-01, -1.66373376e+00]])"
      ]
     },
     "execution_count": 180,
     "metadata": {},
     "output_type": "execute_result"
    }
   ],
   "source": [
    "#  c' = (-a*a - b*b)/c\n",
    "c.coordinates"
   ]
  },
  {
   "cell_type": "code",
   "execution_count": 319,
   "metadata": {},
   "outputs": [],
   "source": [
    "def build_reindexing_2_merged(refsite1, refsite2, ontosite1, ontosite2):\n",
    "    for inverse in (True, False):\n",
    "        for asc in (True, False):\n",
    "            for mirror in (True, False):\n",
    "                for mirrorafter in (True, False):\n",
    "                    try:\n",
    "                        return do_it(refsite1, refsite2, ontosite1, ontosite2, inverse, asc, mirror, mirrorafter)\n",
    "                    except ValueError:\n",
    "                        continue\n",
    "    raise ValueError('No luck.')\n",
    "def do_it(refsite1, refsite2, ontosite1, ontosite2, inverse, asc, mirror, mirrorafter):\n",
    "    #print (inverse, asc, mirror)\n",
    "    valid = False\n",
    "    if inverse:\n",
    "        coordinates = np.copy(c.coordinates)*(-1)\n",
    "    else:\n",
    "        coordinates = np.copy(c.coordinates)\n",
    "    \n",
    "    A = c.coordinates[[refsite1, refsite2]]\n",
    "    B = coordinates[[ontosite1, ontosite2]]\n",
    "    \n",
    "    if mirror:\n",
    "        ax1 = A.sum(axis=0)\n",
    "        ax2 = B.sum(axis=0)\n",
    "        a = ax1 - ax2\n",
    "        for site in range(20):\n",
    "            v = coordinates[site].copy()\n",
    "            coordinates[site] = v- 2*a*np.dot(v, a) / np.dot(a, a)\n",
    "        transformed = coordinates\n",
    "    else:\n",
    "        A = c.coordinates[[refsite1, refsite2]]\n",
    "        B = coordinates[[ontosite1, ontosite2]]\n",
    "        #print (np.linalg.norm(c.coordinates[[refsite1, refsite2]] - coordinates[[ontosite1, ontosite2]] , axis=1))\n",
    "        if asc:\n",
    "            index = 0\n",
    "        else:\n",
    "            index = 1\n",
    "\n",
    "        # rotate first\n",
    "        a = np.cross(A[index], (0,0,1))\n",
    "        b = np.cross(B[index], (0, 0, 1))\n",
    "        rot = scs.transform.Rotation.match_vectors([A[index], a], [B[index], b])[0]\n",
    "        transformed = rot.apply(c.coordinates)\n",
    "        #print (np.linalg.norm(c.coordinates[[refsite1, refsite2]] - transformed[[ontosite1, ontosite2]] , axis=1))\n",
    "\n",
    "        # rotate second\n",
    "        A = c.coordinates[[refsite1, refsite2]]\n",
    "        B = transformed[[ontosite1, ontosite2]]\n",
    "        rot = scs.transform.Rotation.match_vectors(A, B)[0]\n",
    "        transformed2 = rot.apply(transformed)\n",
    "        transformed = transformed2\n",
    "        #print (np.linalg.norm(c.coordinates[[refsite1, refsite2]] - transformed[[ontosite1, ontosite2]] , axis=1))\n",
    "        if max(np.linalg.norm(c.coordinates[[refsite1, refsite2]] - transformed[[ontosite1, ontosite2]] , axis=1)) > 1e-5:\n",
    "            raise ValueError('no rotation')\n",
    "    \n",
    "    if mirrorafter:\n",
    "        a = transformed[ontosite1] - transformed[ontosite2]\n",
    "        for site in range(20):\n",
    "            v = transformed[site].copy()\n",
    "            transformed[site] = v- 2*a*np.dot(v, a) / np.dot(a, a)\n",
    "            \n",
    "        a = transformed[ontosite1] + transformed[ontosite2]\n",
    "        a = a/np.linalg.norm(a)*np.pi\n",
    "        rot = scs.transform.Rotation.from_rotvec(a)\n",
    "        transformed = rot.apply(transformed)\n",
    "        #print (np.linalg.norm(c.coordinates[[refsite1, refsite2]] - transformed[[ontosite1, ontosite2]] , axis=1))\n",
    "        \n",
    "    found = []\n",
    "    for site in range(len(c.coordinates)):\n",
    "        ds = np.linalg.norm(transformed - c.coordinates[site], axis=1)\n",
    "        if min(ds) < 1e-5:\n",
    "            found.append(np.argmin(ds))\n",
    "    #print (set(found))\n",
    "    if set(found) == set([_ for _ in range(len(c.coordinates))]) and found[refsite1] == ontosite1 and found[refsite2] == ontosite2:\n",
    "        pass\n",
    "    else:\n",
    "        raise ValueError('no solution')\n",
    "    return found"
   ]
  },
  {
   "cell_type": "code",
   "execution_count": 320,
   "metadata": {},
   "outputs": [
    {
     "data": {
      "text/plain": [
       "[4, 0, 5, 14, 13, 3, 2, 1, 7, 6, 19, 18, 17, 12, 11, 8, 15, 16, 10, 9]"
      ]
     },
     "execution_count": 320,
     "metadata": {},
     "output_type": "execute_result"
    }
   ],
   "source": [
    "build_reindexing_2_merged(1, 6, 0, 2)"
   ]
  },
  {
   "cell_type": "code",
   "execution_count": 247,
   "metadata": {},
   "outputs": [
    {
     "data": {
      "text/plain": [
       "array([-1.20877346,  1.66373394,  3.32746666])"
      ]
     },
     "execution_count": 247,
     "metadata": {},
     "output_type": "execute_result"
    }
   ],
   "source": [
    "c.coordinates[[1, 2]].sum(axis=0)"
   ]
  },
  {
   "cell_type": "code",
   "execution_count": null,
   "metadata": {},
   "outputs": [],
   "source": []
  }
 ],
 "metadata": {
  "kernelspec": {
   "display_name": "Python [conda env:analysis]",
   "language": "python",
   "name": "conda-env-analysis-py"
  },
  "language_info": {
   "codemirror_mode": {
    "name": "ipython",
    "version": 3
   },
   "file_extension": ".py",
   "mimetype": "text/x-python",
   "name": "python",
   "nbconvert_exporter": "python",
   "pygments_lexer": "ipython3",
   "version": "3.6.8"
  }
 },
 "nbformat": 4,
 "nbformat_minor": 2
}
