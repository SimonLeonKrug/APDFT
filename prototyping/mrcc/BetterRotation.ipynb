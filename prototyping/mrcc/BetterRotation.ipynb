{
 "cells": [
  {
   "cell_type": "code",
   "execution_count": 1,
   "metadata": {},
   "outputs": [
    {
     "name": "stdout",
     "output_type": "stream",
     "text": [
      "The history saving thread hit an unexpected error (DatabaseError('database disk image is malformed',)).History will not be written to the database.\n"
     ]
    }
   ],
   "source": [
    "import numpy as np\n",
    "import pandas as pd\n",
    "import qml\n",
    "import scipy.spatial as scs\n",
    "import glob\n",
    "import scipy.interpolate as sci\n",
    "import functools\n",
    "import matplotlib.pyplot as plt\n",
    "%load_ext line_profiler\n",
    "c = qml.Compound('../../test/c20.xyz')"
   ]
  },
  {
   "cell_type": "code",
   "execution_count": 70,
   "metadata": {},
   "outputs": [
    {
     "data": {
      "text/plain": [
       "array([[-7.47063080e-01, -1.02824412e+00,  1.66373333e+00],\n",
       "       [-1.20877346e+00,  3.92754310e-01,  1.66373333e+00],\n",
       "       [-0.00000000e+00,  1.27097963e+00,  1.66373333e+00],\n",
       "       [ 1.20877346e+00,  3.92754310e-01,  1.66373333e+00],\n",
       "       [ 7.47063080e-01, -1.02824412e+00,  1.66373333e+00],\n",
       "       [-1.20877187e+00, -1.66373428e+00,  3.92755160e-01],\n",
       "       [-1.95583660e+00, -6.35488440e-01, -3.92753720e-01],\n",
       "       [-1.95583588e+00,  6.35490290e-01,  3.92754300e-01],\n",
       "       [-1.20877295e+00,  1.66373389e+00, -3.92753530e-01],\n",
       "       [-1.30000000e-07,  2.05648767e+00,  3.92754760e-01],\n",
       "       [ 1.20877402e+00,  1.66373326e+00, -3.92752910e-01],\n",
       "       [ 1.95583604e+00,  6.35489520e-01,  3.92754760e-01],\n",
       "       [ 1.95583634e+00, -6.35489350e-01, -3.92753530e-01],\n",
       "       [ 1.20877248e+00, -1.66373345e+00,  3.92756830e-01],\n",
       "       [ 9.80000000e-07, -2.05648829e+00, -3.92751510e-01],\n",
       "       [-7.47061760e-01,  1.02824567e+00, -1.66373297e+00],\n",
       "       [ 7.47063080e-01,  1.02824565e+00, -1.66373239e+00],\n",
       "       [ 1.20877513e+00, -3.92754350e-01, -1.66373211e+00],\n",
       "       [ 8.50000000e-07, -1.27097969e+00, -1.66373329e+00],\n",
       "       [-1.20877308e+00, -3.92753670e-01, -1.66373376e+00]])"
      ]
     },
     "execution_count": 70,
     "metadata": {},
     "output_type": "execute_result"
    }
   ],
   "source": [
    "def rotate_2(refsite1, refsite2, ontosite1, ontosite2, coords = c.coordinates):\n",
    "    coordinates = np.copy(coords)\n",
    "    if refsite1 == ontosite1 and refsite2 == ontosite2:\n",
    "        return coordinates\n",
    "    \n",
    "    # distances are similar and large enough?\n",
    "    d1 = np.linalg.norm(coordinates[refsite1] - coordinates[refsite2])\n",
    "    d2 = np.linalg.norm(coordinates[ontosite1] - coordinates[ontosite2])\n",
    "    assert (d1 > 0.1)\n",
    "    assert (d2 > 0.1)\n",
    "    assert (abs(d1-d2)< 1e-2)\n",
    "    \n",
    "    # rotate site 1\n",
    "    if refsite1 != ontosite1:\n",
    "        a, b = coordinates[refsite1], coordinates[ontosite1]\n",
    "        cross = np.cross(a, b)\n",
    "        #print (cross)\n",
    "        cross /= np.linalg.norm(cross)\n",
    "\n",
    "        angle = np.arccos(np.dot(a, b) / (np.linalg.norm(a)*np.linalg.norm(b)))\n",
    "        cross *= angle\n",
    "        rot = scs.transform.Rotation.from_rotvec(cross)\n",
    "\n",
    "        transformed = rot.apply(coordinates)\n",
    "    else:\n",
    "        transformed = coordinates.copy()\n",
    "    \n",
    "    # rotation matches site 1\n",
    "    assert (np.linalg.norm(transformed[refsite1] - coordinates[ontosite1]) < 1e-4)\n",
    "    # center of geometry has not moved\n",
    "    assert (np.linalg.norm(coordinates.sum(axis=0) - transformed.sum(axis=0)) < 1e-4)\n",
    "    \n",
    "    # rotate site 2\n",
    "    if (np.linalg.norm(coordinates[ontosite2] - transformed[refsite2]) < 1e-4):\n",
    "        # coincidently already rotated in place\n",
    "        transformed2 = transformed\n",
    "    else:\n",
    "        cross = coordinates[ontosite1]\n",
    "        cross /= np.linalg.norm(cross)\n",
    "\n",
    "        a = transformed[refsite2]\n",
    "        aprime = a - np.dot(a, cross)*cross\n",
    "        b = coordinates[ontosite2]\n",
    "        bprime = b - np.dot(b, cross)*cross\n",
    "\n",
    "        # left or right rotation\n",
    "        if np.dot(np.cross(aprime, bprime), cross) > 0:\n",
    "            sign = 1\n",
    "        else:\n",
    "            sign = -1\n",
    "\n",
    "        # machine precision can bring |cos| > 1.\n",
    "        cosangle = np.dot(aprime, bprime) / (np.linalg.norm(aprime)*np.linalg.norm(bprime))\n",
    "        cosangle = np.sign(cosangle) * min(1., abs(cosangle))\n",
    "\n",
    "        angle = sign*np.arccos(cosangle)\n",
    "        #print (np.degrees(angle), sign, np.dot(aprime, bprime) / (np.linalg.norm(aprime)*np.linalg.norm(bprime)))\n",
    "        cross *= angle\n",
    "        rot = scs.transform.Rotation.from_rotvec(cross)\n",
    "\n",
    "        # mapping vectors are nonzero\n",
    "        assert (np.linalg.norm(aprime) > 0.1)\n",
    "        assert (np.linalg.norm(bprime) > 0.1)\n",
    "\n",
    "        transformed2 = rot.apply(transformed)\n",
    "    \n",
    "    # site 1 has not changed\n",
    "    assert (np.linalg.norm(transformed[refsite1] - transformed2[refsite1]) < 1e-4)\n",
    "    \n",
    "    # rotation matches site 2\n",
    "    #print (np.linalg.norm(coordinates[ontosite2] - transformed2[refsite2]))\n",
    "    assert (np.linalg.norm(coordinates[ontosite2] - transformed2[refsite2]) < 1e-4)\n",
    "    \n",
    "    return coordinates\n",
    "rotate_2(0, 16, 1, 17)"
   ]
  },
  {
   "cell_type": "code",
   "execution_count": 71,
   "metadata": {},
   "outputs": [],
   "source": [
    "def test_rotate_2():\n",
    "    for i in range(20):\n",
    "        for j in range(20):\n",
    "            if i == j:\n",
    "                continue\n",
    "            for k in range(20):\n",
    "                for l in range(20):\n",
    "                    if k == l:\n",
    "                        continue\n",
    "                    d1 = np.linalg.norm(c.coordinates[i] - c.coordinates[j])\n",
    "                    d2 = np.linalg.norm(c.coordinates[k] - c.coordinates[l])\n",
    "                    if abs(d1-d2) > 1e-2:\n",
    "                        continue\n",
    "                    try:\n",
    "                        rotate_2(i, j, k, l)\n",
    "                    except:\n",
    "                        print (i, j, k, l)\n",
    "                        raise\n",
    "test_rotate_2()"
   ]
  },
  {
   "cell_type": "code",
   "execution_count": 48,
   "metadata": {},
   "outputs": [
    {
     "data": {
      "text/plain": [
       "1"
      ]
     },
     "execution_count": 48,
     "metadata": {},
     "output_type": "execute_result"
    }
   ],
   "source": [
    "np.sign(10)"
   ]
  },
  {
   "cell_type": "code",
   "execution_count": null,
   "metadata": {},
   "outputs": [],
   "source": []
  }
 ],
 "metadata": {
  "kernelspec": {
   "display_name": "Python [conda env:analysis]",
   "language": "python",
   "name": "conda-env-analysis-py"
  },
  "language_info": {
   "codemirror_mode": {
    "name": "ipython",
    "version": 3
   },
   "file_extension": ".py",
   "mimetype": "text/x-python",
   "name": "python",
   "nbconvert_exporter": "python",
   "pygments_lexer": "ipython3",
   "version": "3.6.8"
  }
 },
 "nbformat": 4,
 "nbformat_minor": 2
}
