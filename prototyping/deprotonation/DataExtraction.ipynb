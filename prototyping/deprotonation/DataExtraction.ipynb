{
 "cells": [
  {
   "cell_type": "code",
   "execution_count": 202,
   "metadata": {},
   "outputs": [],
   "source": [
    "import glob\n",
    "import pandas as pd\n",
    "import numpy as np\n",
    "import matplotlib.pyplot as plt\n",
    "import scipy.stats as sts"
   ]
  },
  {
   "cell_type": "code",
   "execution_count": 10,
   "metadata": {},
   "outputs": [],
   "source": [
    "fns = glob.glob('calc/*/energies.csv')"
   ]
  },
  {
   "cell_type": "code",
   "execution_count": 14,
   "metadata": {},
   "outputs": [],
   "source": [
    "def read_file(fn):\n",
    "    molid = fn.split('/')[1].strip('0')\n",
    "    df = pd.read_csv(fn)\n",
    "    df['molid'] = int(molid)\n",
    "    df = df[~np.isnan(df.reference_energy)] # no missing reference values\n",
    "    df = df[~df.targets.str.contains('He')] # no He in sites\n",
    "    df = df[df.total_energy != df.reference_energy] # no identity operation\n",
    "    return df.copy()\n",
    "dfs = [read_file(_) for _ in fns]"
   ]
  },
  {
   "cell_type": "code",
   "execution_count": 21,
   "metadata": {},
   "outputs": [],
   "source": [
    "df = pd.concat(dfs).reset_index(drop=True)"
   ]
  },
  {
   "cell_type": "code",
   "execution_count": 27,
   "metadata": {},
   "outputs": [
    {
     "data": {
      "text/html": [
       "<div>\n",
       "<style scoped>\n",
       "    .dataframe tbody tr th:only-of-type {\n",
       "        vertical-align: middle;\n",
       "    }\n",
       "\n",
       "    .dataframe tbody tr th {\n",
       "        vertical-align: top;\n",
       "    }\n",
       "\n",
       "    .dataframe thead th {\n",
       "        text-align: right;\n",
       "    }\n",
       "</style>\n",
       "<table border=\"1\" class=\"dataframe\">\n",
       "  <thead>\n",
       "    <tr style=\"text-align: right;\">\n",
       "      <th></th>\n",
       "      <th>molid</th>\n",
       "      <th>targets</th>\n",
       "    </tr>\n",
       "  </thead>\n",
       "  <tbody>\n",
       "    <tr>\n",
       "      <th>525</th>\n",
       "      <td>60128</td>\n",
       "      <td>16</td>\n",
       "    </tr>\n",
       "    <tr>\n",
       "      <th>877</th>\n",
       "      <td>113927</td>\n",
       "      <td>17</td>\n",
       "    </tr>\n",
       "    <tr>\n",
       "      <th>793</th>\n",
       "      <td>101717</td>\n",
       "      <td>17</td>\n",
       "    </tr>\n",
       "    <tr>\n",
       "      <th>854</th>\n",
       "      <td>110138</td>\n",
       "      <td>18</td>\n",
       "    </tr>\n",
       "    <tr>\n",
       "      <th>905</th>\n",
       "      <td>118466</td>\n",
       "      <td>20</td>\n",
       "    </tr>\n",
       "  </tbody>\n",
       "</table>\n",
       "</div>"
      ],
      "text/plain": [
       "      molid  targets\n",
       "525   60128       16\n",
       "877  113927       17\n",
       "793  101717       17\n",
       "854  110138       18\n",
       "905  118466       20"
      ]
     },
     "execution_count": 27,
     "metadata": {},
     "output_type": "execute_result"
    }
   ],
   "source": [
    "df.groupby('molid').count()['targets'].reset_index().sort_values('targets').tail()"
   ]
  },
  {
   "cell_type": "code",
   "execution_count": 53,
   "metadata": {},
   "outputs": [
    {
     "data": {
      "text/html": [
       "<div>\n",
       "<style scoped>\n",
       "    .dataframe tbody tr th:only-of-type {\n",
       "        vertical-align: middle;\n",
       "    }\n",
       "\n",
       "    .dataframe tbody tr th {\n",
       "        vertical-align: top;\n",
       "    }\n",
       "\n",
       "    .dataframe thead th {\n",
       "        text-align: right;\n",
       "    }\n",
       "</style>\n",
       "<table border=\"1\" class=\"dataframe\">\n",
       "  <thead>\n",
       "    <tr style=\"text-align: right;\">\n",
       "      <th></th>\n",
       "      <th>targets</th>\n",
       "      <th>total_energy</th>\n",
       "      <th>reference_energy</th>\n",
       "      <th>molid</th>\n",
       "    </tr>\n",
       "  </thead>\n",
       "  <tbody>\n",
       "    <tr>\n",
       "      <th>6103</th>\n",
       "      <td>10.0</td>\n",
       "      <td>1.0</td>\n",
       "      <td>1.0</td>\n",
       "      <td>6.0</td>\n",
       "    </tr>\n",
       "    <tr>\n",
       "      <th>6101</th>\n",
       "      <td>8.0</td>\n",
       "      <td>2.0</td>\n",
       "      <td>2.0</td>\n",
       "      <td>6.0</td>\n",
       "    </tr>\n",
       "    <tr>\n",
       "      <th>6102</th>\n",
       "      <td>9.0</td>\n",
       "      <td>4.0</td>\n",
       "      <td>3.0</td>\n",
       "      <td>6.0</td>\n",
       "    </tr>\n",
       "    <tr>\n",
       "      <th>6100</th>\n",
       "      <td>7.0</td>\n",
       "      <td>3.0</td>\n",
       "      <td>4.0</td>\n",
       "      <td>6.0</td>\n",
       "    </tr>\n",
       "    <tr>\n",
       "      <th>6097</th>\n",
       "      <td>4.0</td>\n",
       "      <td>9.0</td>\n",
       "      <td>5.0</td>\n",
       "      <td>6.0</td>\n",
       "    </tr>\n",
       "    <tr>\n",
       "      <th>6099</th>\n",
       "      <td>6.0</td>\n",
       "      <td>6.0</td>\n",
       "      <td>6.0</td>\n",
       "      <td>6.0</td>\n",
       "    </tr>\n",
       "    <tr>\n",
       "      <th>6098</th>\n",
       "      <td>5.0</td>\n",
       "      <td>7.0</td>\n",
       "      <td>7.0</td>\n",
       "      <td>6.0</td>\n",
       "    </tr>\n",
       "    <tr>\n",
       "      <th>6104</th>\n",
       "      <td>11.0</td>\n",
       "      <td>5.0</td>\n",
       "      <td>8.0</td>\n",
       "      <td>6.0</td>\n",
       "    </tr>\n",
       "    <tr>\n",
       "      <th>6095</th>\n",
       "      <td>2.0</td>\n",
       "      <td>8.0</td>\n",
       "      <td>9.0</td>\n",
       "      <td>6.0</td>\n",
       "    </tr>\n",
       "    <tr>\n",
       "      <th>6094</th>\n",
       "      <td>1.0</td>\n",
       "      <td>10.0</td>\n",
       "      <td>10.0</td>\n",
       "      <td>6.0</td>\n",
       "    </tr>\n",
       "    <tr>\n",
       "      <th>6096</th>\n",
       "      <td>3.0</td>\n",
       "      <td>11.0</td>\n",
       "      <td>11.0</td>\n",
       "      <td>6.0</td>\n",
       "    </tr>\n",
       "  </tbody>\n",
       "</table>\n",
       "</div>"
      ],
      "text/plain": [
       "      targets  total_energy  reference_energy  molid\n",
       "6103     10.0           1.0               1.0    6.0\n",
       "6101      8.0           2.0               2.0    6.0\n",
       "6102      9.0           4.0               3.0    6.0\n",
       "6100      7.0           3.0               4.0    6.0\n",
       "6097      4.0           9.0               5.0    6.0\n",
       "6099      6.0           6.0               6.0    6.0\n",
       "6098      5.0           7.0               7.0    6.0\n",
       "6104     11.0           5.0               8.0    6.0\n",
       "6095      2.0           8.0               9.0    6.0\n",
       "6094      1.0          10.0              10.0    6.0\n",
       "6096      3.0          11.0              11.0    6.0"
      ]
     },
     "execution_count": 53,
     "metadata": {},
     "output_type": "execute_result"
    }
   ],
   "source": [
    "df.query('molid == 92').sort_values('reference_energy').rank()"
   ]
  },
  {
   "cell_type": "code",
   "execution_count": 97,
   "metadata": {},
   "outputs": [],
   "source": [
    "def analyse_rank(targetrank):\n",
    "    molids = []\n",
    "    poss = []\n",
    "    for name, group in df.groupby('molid'):\n",
    "        try:\n",
    "            poss.append(np.where(group.sort_values('reference_energy').rank(numeric_only=True, method='first')['total_energy'].values == targetrank)[0][0]+1)\n",
    "            molids.append(name)\n",
    "        except:\n",
    "            pass\n",
    "    return molids, poss\n",
    "def rank_everything(df):\n",
    "    dfs = []\n",
    "    for name, group in df.groupby('molid'):\n",
    "        s = group.sort_values('reference_energy').rank(numeric_only=True, method='first')\n",
    "        s.columns = 'total_rank reference_rank molid'.split()\n",
    "        s.molid = name\n",
    "        dfs.append(s.copy())\n",
    "    return pd.concat(dfs)\n",
    "        "
   ]
  },
  {
   "cell_type": "code",
   "execution_count": 134,
   "metadata": {},
   "outputs": [
    {
     "data": {
      "image/png": "[encoded data removed]",
      "text/plain": [
       "<Figure size 432x288 with 1 Axes>"
      ]
     },
     "metadata": {
      "needs_background": "light"
     },
     "output_type": "display_data"
    }
   ],
   "source": [
    "for targetrank in (1, 2, 3, 4, 5):\n",
    "    molids, poss = analyse_rank(targetrank)\n",
    "    bins = np.linspace(1, max(poss)+1, max(poss)+1)-0.5\n",
    "    plt.hist(poss, bins=bins, histtype='step')"
   ]
  },
  {
   "cell_type": "code",
   "execution_count": 98,
   "metadata": {},
   "outputs": [],
   "source": [
    "df_rank = rank_everything(df)"
   ]
  },
  {
   "cell_type": "code",
   "execution_count": 133,
   "metadata": {},
   "outputs": [
    {
     "data": {
      "image/png": "[encoded data removed]",
      "text/plain": [
       "<Figure size 432x288 with 1 Axes>"
      ]
     },
     "metadata": {
      "needs_background": "light"
     },
     "output_type": "display_data"
    }
   ],
   "source": [
    "base = np.zeros(20)\n",
    "for target_rank in sorted(df_rank.total_rank.unique()):\n",
    "    thisvector = np.zeros(base.shape)\n",
    "    s = df_rank.query('total_rank == @target_rank').groupby('reference_rank').count().reset_index()\n",
    "    thisvector[s.reference_rank.values.astype(np.int)-1] = s.total_rank.values\n",
    "    plt.bar(range(base.shape[0]), thisvector, bottom=base)\n",
    "    base += thisvector"
   ]
  },
  {
   "cell_type": "code",
   "execution_count": 143,
   "metadata": {},
   "outputs": [],
   "source": [
    "def find_correct_ones(real_position, max_deviation=0):\n",
    "    total = df_rank.query('reference_rank == @real_position')\n",
    "    match = total.query('abs(total_rank - reference_rank) <= @max_deviation')\n",
    "    return len(match) / len(total)"
   ]
  },
  {
   "cell_type": "code",
   "execution_count": 199,
   "metadata": {},
   "outputs": [
    {
     "data": {
      "text/plain": [
       "Text(0, 0.5, '% correctly assigned\\n from APDFT')"
      ]
     },
     "execution_count": 199,
     "metadata": {},
     "output_type": "execute_result"
    },
    {
     "data": {
      "image/png": "[encoded data removed]",
      "text/plain": [
       "<Figure size 432x288 with 1 Axes>"
      ]
     },
     "metadata": {
      "needs_background": "light"
     },
     "output_type": "display_data"
    }
   ],
   "source": [
    "plt.rc('font', size=14)\n",
    "xs = range(1, 11)\n",
    "base = np.zeros(len(xs))\n",
    "labels = {0: 'correct', 1:r'$\\pm$ 1 rank',2:r'$\\pm$ 2 rank'}\n",
    "for delta in (0, 1,):\n",
    "    ys = [find_correct_ones(_, delta) for _ in xs]\n",
    "    plt.bar(xs, np.array(ys)*100, bottom=base, zorder=-delta, color='white')\n",
    "    plt.bar(xs, np.array(ys)*100, bottom=base, zorder=-delta, alpha=0.3, color='C%d' % delta)\n",
    "    d = plt.bar(xs, np.array(ys)*100, bottom=base, zorder=-delta, label=labels[delta], edgecolor='C%d' % delta, color='none')\n",
    "plt.legend(frameon=False)\n",
    "plt.xlabel('Actual rank')\n",
    "plt.ylabel('% correctly assigned\\n from APDFT')"
   ]
  },
  {
   "cell_type": "code",
   "execution_count": 208,
   "metadata": {},
   "outputs": [],
   "source": [
    "counts = {}\n",
    "for name, group in df_rank.groupby('molid'):\n",
    "    count = len(group)\n",
    "    rank = sts.spearmanr(group.total_rank, group.reference_rank)\n",
    "    if count not in counts:\n",
    "        counts[count] = []\n",
    "    counts[count].append(rank[0])"
   ]
  },
  {
   "cell_type": "code",
   "execution_count": 220,
   "metadata": {},
   "outputs": [],
   "source": [
    "xs = []\n",
    "ys = []\n",
    "for nhydrogens in sorted(counts.keys()):\n",
    "    xs.append(nhydrogens)\n",
    "    ys.append(np.median(counts[nhydrogens]))"
   ]
  },
  {
   "cell_type": "code",
   "execution_count": 230,
   "metadata": {},
   "outputs": [
    {
     "data": {
      "text/plain": [
       "<matplotlib.legend.Legend at 0x7fa29adfe5c0>"
      ]
     },
     "execution_count": 230,
     "metadata": {},
     "output_type": "execute_result"
    },
    {
     "data": {
      "image/png": "[encoded data removed]",
      "text/plain": [
       "<Figure size 432x288 with 1 Axes>"
      ]
     },
     "metadata": {
      "needs_background": "light"
     },
     "output_type": "display_data"
    }
   ],
   "source": [
    "plt.plot(xs, ys, label='APDFT')\n",
    "plt.xlim(2, 10)\n",
    "plt.ylim(0.5, 1.05)\n",
    "plt.xlabel('Number of sites to rank')\n",
    "plt.ylabel(r'Median Spearman $\\rho$')\n",
    "plt.legend(frameon=False)"
   ]
  },
  {
   "cell_type": "code",
   "execution_count": null,
   "metadata": {},
   "outputs": [],
   "source": []
  }
 ],
 "metadata": {
  "kernelspec": {
   "display_name": "Python [conda env:analysis]",
   "language": "python",
   "name": "conda-env-analysis-py"
  },
  "language_info": {
   "codemirror_mode": {
    "name": "ipython",
    "version": 3
   },
   "file_extension": ".py",
   "mimetype": "text/x-python",
   "name": "python",
   "nbconvert_exporter": "python",
   "pygments_lexer": "ipython3",
   "version": "3.6.8"
  }
 },
 "nbformat": 4,
 "nbformat_minor": 4
}
