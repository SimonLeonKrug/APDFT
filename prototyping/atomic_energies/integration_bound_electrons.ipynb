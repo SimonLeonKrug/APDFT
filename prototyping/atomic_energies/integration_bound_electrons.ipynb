{
 "cells": [
  {
   "cell_type": "markdown",
   "metadata": {},
   "source": [
    "# Determine volume of bound electrons - density extraction"
   ]
  },
  {
   "cell_type": "markdown",
   "metadata": {},
   "source": [
    "Preparation of data, such that only density in spheres around nuclei is used for calculation of atomic energies\n",
    "\n",
    "strategy: set density out side of radii to zero, then these gridpoints do not contribute to the integral $\\int d\\vec{r} \\frac{\\tilde{\\rho}}{|\\vec{r}-\\vec{R_I}|}$\n",
    "\n",
    "this way after loading the density files; an additional step is carried out as implemented in this notebook\n",
    "in this step the density array is changed as described above; then the atomic energies can be calculated as already implemented without any changes to the existing code"
   ]
  },
  {
   "cell_type": "code",
   "execution_count": 85,
   "metadata": {},
   "outputs": [],
   "source": [
    "import numpy as np\n",
    "import scipy.spatial as scsp\n",
    "\n",
    "import sys\n",
    "sys.path.insert(0, '/home/misa/APDFT/prototyping/atomic_energies/')\n",
    "\n",
    "import parse_density_files as pdf"
   ]
  },
  {
   "cell_type": "code",
   "execution_count": 86,
   "metadata": {},
   "outputs": [],
   "source": [
    "def meshgrid2vector(grid):\n",
    "    \"\"\"\n",
    "    convert components of meshgrid into set of vectors; every vector is a point of the grid\n",
    "    e.g. a 3D grid is converted in a numpy array of shape (number gridpoints, 3)\n",
    "    \"\"\"\n",
    "    flattened_grid = []\n",
    "    for c in grid:\n",
    "        flattened_grid.append(c.flatten())\n",
    "        \n",
    "    return(np.array(flattened_grid).T)\n",
    "    \n",
    "\n",
    "# get grid points lying in sphere with radius r_vdW\n",
    "\n",
    "def get_idc_rvdW(center, rvdw, gpts):\n",
    "    \"\"\"\n",
    "    returns indices of grid points lying in a sphere around center with radius rdwV\n",
    "    \n",
    "    center: center of sphere\n",
    "    rdvw: radius of sphere\n",
    "    coordinates of grid as flattened numpy array, shape (number of grid points, dimension of grid)\n",
    "    \"\"\"\n",
    "    \n",
    "    # distance of every gridpoint from center\n",
    "    distance_array = scsp.distance.cdist(gpts, center)\n",
    "    \n",
    "    \n",
    "    idc_in_sphere = np.where(distance_array[:, 0] <= rvdw)[0] # indices of points within sphere with vdW radius\n",
    "    idc_out_sphere = np.where(distance_array[:, 0] > rvdw)[0] # indices of points out of sphere with vdW radius\n",
    "    \n",
    "    return(idc_in_sphere, idc_out_sphere)"
   ]
  },
  {
   "cell_type": "code",
   "execution_count": 87,
   "metadata": {},
   "outputs": [],
   "source": [
    "# load data"
   ]
  },
  {
   "cell_type": "code",
   "execution_count": 88,
   "metadata": {},
   "outputs": [],
   "source": [
    "path = '/home/misa/APDFT/prototyping/atomic_energies/results/slice_ve38/dsgdb9nsd_002626/cube-files/ve_8.cube'\n",
    "cube = pdf.CUBE(path)"
   ]
  },
  {
   "cell_type": "code",
   "execution_count": 89,
   "metadata": {},
   "outputs": [],
   "source": [
    "# prepare data"
   ]
  },
  {
   "cell_type": "code",
   "execution_count": 90,
   "metadata": {},
   "outputs": [
    {
     "data": {
      "text/plain": [
       "0.0004897465005113976"
      ]
     },
     "execution_count": 90,
     "metadata": {},
     "output_type": "execute_result"
    }
   ],
   "source": [
    "grid = cube.get_grid()\n",
    "density = cube.data_scaled\n",
    "np.amax(density)"
   ]
  },
  {
   "cell_type": "code",
   "execution_count": 91,
   "metadata": {},
   "outputs": [],
   "source": [
    "nucleus = np.array([[10.0, 10.0, 10.0]])\n",
    "radius = 5.0\n",
    "\n",
    "nucleus2 = np.array([[20.0, 10.0, 10.0]])\n",
    "radius2 = 7.0"
   ]
  },
  {
   "cell_type": "code",
   "execution_count": 92,
   "metadata": {},
   "outputs": [],
   "source": [
    "# get indices within and out of radius around nuclei"
   ]
  },
  {
   "cell_type": "code",
   "execution_count": 93,
   "metadata": {},
   "outputs": [],
   "source": [
    "idc_in, idc_out = get_idc_rvdW(nucleus, radius, meshgrid2vector(grid))\n",
    "idc_in2, idc_out2 = get_idc_rvdW(nucleus2, radius2, meshgrid2vector(grid))"
   ]
  },
  {
   "cell_type": "code",
   "execution_count": 94,
   "metadata": {},
   "outputs": [
    {
     "data": {
      "text/plain": [
       "array([ 742219,  742220,  742221, ..., 2121921, 2121922, 2121923])"
      ]
     },
     "execution_count": 94,
     "metadata": {},
     "output_type": "execute_result"
    }
   ],
   "source": [
    "idc_in"
   ]
  },
  {
   "cell_type": "code",
   "execution_count": 95,
   "metadata": {},
   "outputs": [],
   "source": [
    "# select all indices that are within at least one radius for one nucleus"
   ]
  },
  {
   "cell_type": "code",
   "execution_count": 96,
   "metadata": {},
   "outputs": [
    {
     "name": "stdout",
     "output_type": "stream",
     "text": [
      "(51978,)\n",
      "(142632,)\n",
      "194610\n",
      "(194610,)\n"
     ]
    }
   ],
   "source": [
    "print(idc_in.shape)\n",
    "print(idc_in2.shape)\n",
    "print(idc_in.shape[0]+idc_in2.shape[0])\n",
    "print(np.concatenate((idc_in, idc_in2)).shape)"
   ]
  },
  {
   "cell_type": "code",
   "execution_count": 97,
   "metadata": {},
   "outputs": [
    {
     "name": "stdout",
     "output_type": "stream",
     "text": [
      "(191186,)\n"
     ]
    }
   ],
   "source": [
    "all_idc_in = np.concatenate((idc_in, idc_in2))\n",
    "all_idc_in = np.unique(all_idc_in)\n",
    "print(all_idc_in.shape)"
   ]
  },
  {
   "cell_type": "code",
   "execution_count": 98,
   "metadata": {},
   "outputs": [],
   "source": [
    "# select all indices that are NOT within at least one radius for one nucleus"
   ]
  },
  {
   "cell_type": "code",
   "execution_count": 99,
   "metadata": {},
   "outputs": [],
   "source": [
    "all_idc_out = np.setdiff1d(np.arange(np.prod(density.shape)), all_idc_in, assume_unique=True)"
   ]
  },
  {
   "cell_type": "code",
   "execution_count": 100,
   "metadata": {},
   "outputs": [],
   "source": [
    "# set density around nuclei to zero"
   ]
  },
  {
   "cell_type": "code",
   "execution_count": 101,
   "metadata": {},
   "outputs": [],
   "source": [
    "density_flattened = density.flatten()\n",
    "density_flattened[all_idc_out] = 0.0"
   ]
  },
  {
   "cell_type": "code",
   "execution_count": 102,
   "metadata": {},
   "outputs": [
    {
     "data": {
      "text/plain": [
       "1.1308351258260211e-05"
      ]
     },
     "execution_count": 102,
     "metadata": {},
     "output_type": "execute_result"
    }
   ],
   "source": [
    "density = density_flattened.reshape(density.shape)\n",
    "np.amax(density)"
   ]
  },
  {
   "cell_type": "markdown",
   "metadata": {},
   "source": [
    "# Some tests"
   ]
  },
  {
   "cell_type": "code",
   "execution_count": null,
   "metadata": {},
   "outputs": [],
   "source": [
    "import numpy as np\n",
    "import scipy.spatial as scsp\n",
    "\n",
    "import sys\n",
    "sys.path.insert(0, '/home/misa/APDFT/prototyping/atomic_energies/')\n",
    "\n",
    "import parse_density_files as pdf"
   ]
  },
  {
   "cell_type": "code",
   "execution_count": null,
   "metadata": {},
   "outputs": [],
   "source": [
    "# import test data"
   ]
  },
  {
   "cell_type": "code",
   "execution_count": null,
   "metadata": {},
   "outputs": [],
   "source": [
    "path = '/home/misa/APDFT/prototyping/atomic_energies/results/slice_ve38/dsgdb9nsd_002626/cube-files/ve_8.cube'\n",
    "cube = pdf.CUBE(path)"
   ]
  },
  {
   "cell_type": "code",
   "execution_count": null,
   "metadata": {},
   "outputs": [],
   "source": [
    "# calculate distance between center point in cell and gridpoints"
   ]
  },
  {
   "cell_type": "code",
   "execution_count": null,
   "metadata": {},
   "outputs": [],
   "source": [
    "grid = cube.get_grid()\n",
    "x = grid[0].flatten()\n",
    "y = grid[1].flatten()\n",
    "z = grid[2].flatten()\n",
    "\n",
    "distance_array = scsp.distance.cdist(np.array([x,y,z]).T, np.array([[10,10,10]]))"
   ]
  },
  {
   "cell_type": "code",
   "execution_count": null,
   "metadata": {},
   "outputs": [],
   "source": [
    "# select points within certain distance from center point"
   ]
  },
  {
   "cell_type": "code",
   "execution_count": null,
   "metadata": {},
   "outputs": [],
   "source": [
    "np.where(distance_array[:,0] <= 5)[0]"
   ]
  },
  {
   "cell_type": "code",
   "execution_count": null,
   "metadata": {},
   "outputs": [],
   "source": [
    "distance_array[:,0]"
   ]
  },
  {
   "cell_type": "code",
   "execution_count": null,
   "metadata": {},
   "outputs": [],
   "source": [
    "np.where(distance_array <= 5)[0].shape"
   ]
  },
  {
   "cell_type": "code",
   "execution_count": null,
   "metadata": {},
   "outputs": [],
   "source": [
    "np.where(distance_array <= 5)"
   ]
  },
  {
   "cell_type": "code",
   "execution_count": null,
   "metadata": {},
   "outputs": [],
   "source": [
    "# make sure that shapes of inputs are equal"
   ]
  },
  {
   "cell_type": "code",
   "execution_count": null,
   "metadata": {},
   "outputs": [],
   "source": [
    "np.array([[10,10,10]]).shape # shape center point"
   ]
  },
  {
   "cell_type": "code",
   "execution_count": null,
   "metadata": {},
   "outputs": [],
   "source": [
    "np.array([x,y,z]).T.shape # shape grid"
   ]
  },
  {
   "cell_type": "code",
   "execution_count": null,
   "metadata": {},
   "outputs": [],
   "source": [
    "scsp.distance.cdist(np.array([x,y,z]).T, np.array([[10,10,10]])).shape"
   ]
  },
  {
   "cell_type": "code",
   "execution_count": null,
   "metadata": {},
   "outputs": [],
   "source": [
    "# Test if correct distance"
   ]
  },
  {
   "cell_type": "code",
   "execution_count": null,
   "metadata": {},
   "outputs": [],
   "source": [
    "np.linalg.norm(np.array([37.578606, 37.578606, 37.578606]) - np.array([[10,10,10]]))"
   ]
  },
  {
   "cell_type": "code",
   "execution_count": null,
   "metadata": {},
   "outputs": [],
   "source": [
    "np.sqrt(3*27**2)"
   ]
  },
  {
   "cell_type": "code",
   "execution_count": null,
   "metadata": {},
   "outputs": [],
   "source": [
    "def meshgrid2vector(grid):\n",
    "    \"\"\"\n",
    "    convert components of meshgrid into set of vectors; every vector is a point of the grid\n",
    "    e.g. a 3D grid is converted in a numpy array of shape (number gridpoints, 3)\n",
    "    \"\"\"\n",
    "    flattened_grid = []\n",
    "    for c in grid:\n",
    "        flattened_grid.append(c.flatten())\n",
    "        \n",
    "    return(np.array(flattened_grid).T)\n",
    "    \n",
    "\n",
    "# get grid points lying in sphere with radius r_vdW\n",
    "\n",
    "def get_idc_rvdW(center, rvdw, gpts):\n",
    "    \"\"\"\n",
    "    returns indices of grid points lying in a sphere around center with radius rdwV\n",
    "    \n",
    "    center: center of sphere\n",
    "    rdvw: radius of sphere\n",
    "    coordinates of grid as flattened numpy array, shape (number of grid points, dimension of grid)\n",
    "    \"\"\"\n",
    "    \n",
    "    # distance of every gridpoint from center\n",
    "    distance_array = scsp.distance.cdist(gpts, center)\n",
    "    \n",
    "    \n",
    "    idc_in_sphere = np.where(distance_array[:, 0] <= rvdw) # indices of points within sphere with vdW radius\n",
    "    idc_out_sphere = np.where(distance_array[:, 0] > rvdw) # indices of points out of sphere with vdW radius\n",
    "    \n",
    "    return(idc_in_sphere, idc_out_sphere)\n",
    "    "
   ]
  },
  {
   "cell_type": "code",
   "execution_count": null,
   "metadata": {},
   "outputs": [],
   "source": [
    "# set density for points out of distance to center point to zero"
   ]
  },
  {
   "cell_type": "code",
   "execution_count": null,
   "metadata": {},
   "outputs": [],
   "source": [
    "density_flattened = np.reshape(cube.data, 175**3)\n",
    "idc_in, idc_out = get_idc_rvdW(np.array([[10,10,10]]), 5.0, meshgrid2vector(grid))\n",
    "density_flattened[idc_out] = 0.0"
   ]
  },
  {
   "cell_type": "code",
   "execution_count": null,
   "metadata": {},
   "outputs": [],
   "source": [
    "density_flattened.reshape((175, 175, 175))"
   ]
  },
  {
   "cell_type": "code",
   "execution_count": null,
   "metadata": {},
   "outputs": [],
   "source": [
    "# make sure that reshaping is fine"
   ]
  },
  {
   "cell_type": "code",
   "execution_count": null,
   "metadata": {},
   "outputs": [],
   "source": [
    "np.array_equal(np.array([np.reshape(grid[0], 175**3), np.reshape(grid[1], 175**3), np.reshape(grid[2], 175**3)]).T, meshgrid2vector(grid))"
   ]
  },
  {
   "cell_type": "code",
   "execution_count": null,
   "metadata": {},
   "outputs": [],
   "source": [
    "np.array_equal(meshgrid2vector(grid),np.array([x,y,z]).T)"
   ]
  }
 ],
 "metadata": {
  "kernelspec": {
   "display_name": "Python [conda env:atomic-energies]",
   "language": "python",
   "name": "conda-env-atomic-energies-py"
  },
  "language_info": {
   "codemirror_mode": {
    "name": "ipython",
    "version": 3
   },
   "file_extension": ".py",
   "mimetype": "text/x-python",
   "name": "python",
   "nbconvert_exporter": "python",
   "pygments_lexer": "ipython3",
   "version": "3.7.3"
  }
 },
 "nbformat": 4,
 "nbformat_minor": 2
}
