{
 "cells": [
  {
   "cell_type": "markdown",
   "metadata": {},
   "source": [
    "\n",
    " "
   ]
  },
  {
   "cell_type": "code",
   "execution_count": 12,
   "metadata": {},
   "outputs": [],
   "source": [
    "import numpy as np\n",
    "import scipy.spatial as scsp\n",
    "\n",
    "import sys\n",
    "sys.path.insert(0, '/home/misa/APDFT/prototyping/atomic_energies/')\n",
    "\n",
    "import parse_density_files as pdf\n",
    "import alchemy_tools2 as at\n",
    "\n",
    "import matplotlib\n",
    "matplotlib.use('Qt5Agg')\n",
    "from matplotlib import pyplot as plt\n",
    "matplotlib.rcParams[\"font.size\"] = 20"
   ]
  },
  {
   "cell_type": "code",
   "execution_count": 2,
   "metadata": {},
   "outputs": [],
   "source": [
    "# for every box size\n",
    "\n",
    "    # load vasp file\n",
    "\n",
    "    # for every radius\n",
    "        # extract density\n",
    "        # calculate integral for electrostatic interaction\n",
    "        # store value of integral"
   ]
  },
  {
   "cell_type": "code",
   "execution_count": 3,
   "metadata": {},
   "outputs": [],
   "source": [
    "def get_integrals_box(density, gpts, nuclei, radii):\n",
    "    \"\"\"\n",
    "    return value of integrals for different vdW for one boxsize\n",
    "    \"\"\"\n",
    "    estat_int = []\n",
    "    for r in radii:\n",
    "        estat_int.append( get_integral_radius(density, gpts, nuclei, r) )\n",
    "    return(np.array(estat_int))\n",
    "        \n",
    "def get_integral_radius(density, gpts, nuclei, radius):\n",
    "    \"\"\"\n",
    "    return value of integral for one multiple of the vdW radii\n",
    "    \"\"\"\n",
    "    \n",
    "    # set density to zero outside of integration radius\n",
    "    density_bound = generate_bound_density(density, nuclei, radius, gpts)\n",
    "\n",
    "    # calculate integral for new density\n",
    "    estat_int = at.calculate_atomic_energies(density_bound, nuclei, gpts, h_matrix)\n",
    "    \n",
    "    return(estat_int)\n",
    "    \n",
    "def generate_bound_density(density, nuclei, radius, gpts):\n",
    "    # reshape into vectors\n",
    "    density_flattened = density.flatten()\n",
    "    gpts_flattened = at.meshgrid2vector(gpts)\n",
    "    \n",
    "    # get density grid points lying within the weighted vdW radii\n",
    "    all_idc_in = get_all_idc_in(nuclei, radius, gpts_flattened)\n",
    "    # get indices of all gridpoints as flattened 1D-array\n",
    "    all_idc = np.arange(len(density_flattened))\n",
    "     # get density grid points lying out of the weighted vdW radii\n",
    "    all_idc_out = at.get_all_idc_out(all_idc_in, all_idc)\n",
    "    \n",
    "    # set density out of weighted vdW radii to zero\n",
    "    density_flattened[all_idc_out] = 0.0\n",
    "    # reshape flattened density to grid\n",
    "    density_bound = density_flattened.reshape((density.shape))\n",
    "    return(density_bound)\n",
    "        \n",
    "def get_all_idc_in(nuclei, radius, gpts_flattened):\n",
    "    all_idc_in = []\n",
    "    for n in nuclei:\n",
    "        r_vdW = lookup_vdW(n[0])\n",
    "        all_idc_in.append(at.get_idc_rvdW(np.array([n[1:4]]), r_vdW*radius, gpts_flattened))\n",
    "    return(all_idc_in)\n",
    "   \n",
    "from ase.units import Bohr\n",
    "def lookup_vdW(Z, unit = 'Bohr'):\n",
    "    \"\"\"\n",
    "    return van der Waals radius for element\n",
    "    from Bondi J. Phys. Chem 68, 1964\n",
    "    \"\"\"\n",
    "    \n",
    "    if Z == 1:\n",
    "        r_w = 1.2\n",
    "    elif Z == 6:\n",
    "        r_w = 1.7\n",
    "    elif Z == 7:\n",
    "        r_w = 1.55\n",
    "    elif Z == 8:\n",
    "        r_w = 1.52\n",
    "    else:\n",
    "        raise Exception(\"r_w not implemented for Z = {}\".format(Z))\n",
    "        \n",
    "    if unit == 'Bohr':\n",
    "        r_w /= Bohr\n",
    "    return(r_w)\n",
    "    "
   ]
  },
  {
   "cell_type": "code",
   "execution_count": 46,
   "metadata": {},
   "outputs": [],
   "source": [
    "boxes = ['/home/misa/APDFT/prototyping/atomic_energies/results/slice_ve38/dsgdb9nsd_002626/cube-files/ve_8.cube']\n",
    "# boxes = ['/home/misa/APDFT/prototyping/atomic_energies/results/test_calculations/vasp/dsgdb9nsd_001212/box20.0/CHG']\n",
    "\n",
    "lam_vals, dens, nuclei, gpts, h_matrix = at.load_cube_data(boxes)\n",
    "# for b in boxes:\n",
    "#     dens, nuclei, gpts, h_matrix = at.load_vasp_dens([b])\n",
    "#     estat_int = get_integrals_box(dens, gpts, nuclei, radii)"
   ]
  },
  {
   "cell_type": "code",
   "execution_count": 47,
   "metadata": {},
   "outputs": [
    {
     "data": {
      "text/plain": [
       "array([[ 6.      , 19.979529, 22.784627, 18.908058],\n",
       "       [ 6.      , 20.35982 , 19.964565, 18.890009],\n",
       "       [ 8.      , 22.344159, 18.857926, 18.863323],\n",
       "       [ 8.      , 18.092893, 18.74945 , 18.905025],\n",
       "       [ 6.      , 18.285827, 16.053484, 18.887816],\n",
       "       [ 6.      , 15.726597, 15.015175, 18.906865],\n",
       "       [ 7.      , 13.735016, 14.125508, 18.920052],\n",
       "       [ 1.      , 21.813395, 23.718436, 18.8968  ],\n",
       "       [ 1.      , 18.878631, 23.358359, 17.25609 ],\n",
       "       [ 1.      , 18.90752 , 23.341078, 20.584704],\n",
       "       [ 1.      , 19.30598 , 15.408752, 17.207074],\n",
       "       [ 1.      , 19.337767, 15.389776, 20.541321]])"
      ]
     },
     "execution_count": 47,
     "metadata": {},
     "output_type": "execute_result"
    }
   ],
   "source": [
    "nuclei"
   ]
  },
  {
   "cell_type": "code",
   "execution_count": 48,
   "metadata": {},
   "outputs": [],
   "source": [
    "fig, ax = plt.subplots(1,3)\n",
    "energies = []\n",
    "radii = [0.5, 1, 1.5, 2.0, 2.5, 3.0, 3.5, 4.0, 4.5, 5.0, 7.0]\n",
    "for r in radii:\n",
    "    dens_b = generate_bound_density(dens, nuclei, r, gpts)[0]\n",
    "    estat_int = at.calculate_atomic_energies(dens_b, nuclei, gpts, h_matrix)\n",
    "    energies.append(estat_int[2])\n",
    "#     pr01 = dens_b.sum(axis=(0,1))\n",
    "    ax[0].plot(dens_b.sum(axis=(0,1)), label = 'vdW multiple = {}'.format(r))\n",
    "    ax[1].plot(dens_b.sum(axis=(0,2)), label = 'vdW multiple = {}'.format(r))\n",
    "    ax[2].plot(dens_b.sum(axis=(1,2)), label = 'vdW multiple = {}'.format(r))\n",
    "for i in range(3):\n",
    "    ax[i].legend()"
   ]
  },
  {
   "cell_type": "code",
   "execution_count": null,
   "metadata": {},
   "outputs": [],
   "source": [
    "# estat_int = at.calculate_atomic_energies(dens_b, nuclei, gpts, h_matrix)\n",
    "# estat_int = get_integrals_box(dens, gpts, nuclei, radii)"
   ]
  },
  {
   "cell_type": "code",
   "execution_count": 49,
   "metadata": {},
   "outputs": [],
   "source": [
    "en2=np.load('/home/misa/APDFT/prototyping/atomic_energies/results/slice_ve38/dsgdb9nsd_001212/radius_alchpots.npy')"
   ]
  },
  {
   "cell_type": "code",
   "execution_count": null,
   "metadata": {},
   "outputs": [],
   "source": []
  },
  {
   "cell_type": "code",
   "execution_count": 50,
   "metadata": {
    "scrolled": true
   },
   "outputs": [
    {
     "name": "stderr",
     "output_type": "stream",
     "text": [
      "No handles with labels found to put in legend.\n"
     ]
    },
    {
     "data": {
      "text/plain": [
       "<matplotlib.legend.Legend at 0x7fd6cdcf3da0>"
      ]
     },
     "execution_count": 50,
     "metadata": {},
     "output_type": "execute_result"
    }
   ],
   "source": [
    "energies = np.array(energies)\n",
    "delta_e = []\n",
    "fig, ax = plt.subplots(1,1)\n",
    "for e in range(len(energies[0])):\n",
    "    ax.plot(radii, energies[:,e], '-o')\n",
    "\n",
    "ax.set_xlabel('multiple of vdW radius')\n",
    "ax.set_ylabel(r'$\\int_{V_{\\rm{bound}}} d\\vec{r} \\frac{\\rho(\\vec{r})}{|\\vec{r}-\\vec{R_I}|} $')\n",
    "ax.legend()"
   ]
  },
  {
   "cell_type": "code",
   "execution_count": 40,
   "metadata": {},
   "outputs": [
    {
     "data": {
      "text/plain": [
       "<matplotlib.legend.Legend at 0x7fd6cda09ba8>"
      ]
     },
     "execution_count": 40,
     "metadata": {},
     "output_type": "execute_result"
    }
   ],
   "source": [
    "energies_norm = energies-energies[5]\n",
    "delta_e = []\n",
    "fig, ax = plt.subplots(1,1)\n",
    "for e in range(len(energies[0])):\n",
    "    line = '-'\n",
    "    if e > 9:\n",
    "        line=':'\n",
    "    ax.plot(radii, energies_norm[:,e], f'{line}o', label=\"atom index {}\".format(e))\n",
    "    \n",
    "ax.set_xlabel('multiple of vdW radius')\n",
    "ax.set_ylabel(r'$\\int_{V_{\\rm{bound}}} d\\vec{r} \\frac{\\rho(\\vec{r})}{|\\vec{r}-\\vec{R_I}|} $')\n",
    "ax.legend()"
   ]
  },
  {
   "cell_type": "code",
   "execution_count": 33,
   "metadata": {},
   "outputs": [
    {
     "data": {
      "text/plain": [
       "15"
      ]
     },
     "execution_count": 33,
     "metadata": {},
     "output_type": "execute_result"
    }
   ],
   "source": [
    "len(energies[0])"
   ]
  },
  {
   "cell_type": "code",
   "execution_count": null,
   "metadata": {},
   "outputs": [],
   "source": [
    "for i in range(len(energies[0])-1):\n",
    "    print(radii[i])\n",
    "    print(abs(energies[0][i] - energies[0][i+1]))"
   ]
  },
  {
   "cell_type": "code",
   "execution_count": null,
   "metadata": {},
   "outputs": [],
   "source": []
  },
  {
   "cell_type": "code",
   "execution_count": null,
   "metadata": {},
   "outputs": [],
   "source": [
    "density_extracted = dens.flatten()\n",
    "gpts_flattened = at.meshgrid2vector(gpts)"
   ]
  },
  {
   "cell_type": "code",
   "execution_count": null,
   "metadata": {},
   "outputs": [],
   "source": [
    "density_extracted.shape"
   ]
  },
  {
   "cell_type": "code",
   "execution_count": null,
   "metadata": {},
   "outputs": [],
   "source": [
    "cextr = pdf.CUBE(boxes[0])"
   ]
  },
  {
   "cell_type": "code",
   "execution_count": null,
   "metadata": {},
   "outputs": [],
   "source": [
    "density_extracted = dens.flatten()\n",
    "gpts_flattened = at.meshgrid2vector(gpts)\n",
    "density_extracted = extract_density(density_extracted, nuclei, 2.0, gpts_flattened)\n",
    "density_extracted = density_extracted.reshape(dens.shape)[0]"
   ]
  },
  {
   "cell_type": "code",
   "execution_count": null,
   "metadata": {},
   "outputs": [],
   "source": [
    "density_extracted.shape"
   ]
  },
  {
   "cell_type": "code",
   "execution_count": null,
   "metadata": {},
   "outputs": [],
   "source": [
    "cextr.data = density_extracted"
   ]
  },
  {
   "cell_type": "code",
   "execution_count": null,
   "metadata": {},
   "outputs": [],
   "source": [
    "cextr.data.shape"
   ]
  },
  {
   "cell_type": "code",
   "execution_count": null,
   "metadata": {},
   "outputs": [],
   "source": [
    "pr_ex = cextr.project((0,1))/cextr.dv\n",
    "pr = dens[0].sum(axis=(0,1))\n",
    "plt.plot(pr_ex)\n",
    "plt.plot(pr)"
   ]
  },
  {
   "cell_type": "code",
   "execution_count": null,
   "metadata": {},
   "outputs": [],
   "source": [
    "cextr.plot_projection((0,2))"
   ]
  },
  {
   "cell_type": "code",
   "execution_count": null,
   "metadata": {},
   "outputs": [],
   "source": [
    "cextr.plot_projection((1,2))"
   ]
  },
  {
   "cell_type": "markdown",
   "metadata": {},
   "source": [
    "# Implementation prototype"
   ]
  },
  {
   "cell_type": "markdown",
   "metadata": {},
   "source": [
    "## Determine volume of bound electrons - density extraction"
   ]
  },
  {
   "cell_type": "markdown",
   "metadata": {},
   "source": [
    "Preparation of data, such that only density in spheres around nuclei is used for calculation of atomic energies\n",
    "\n",
    "strategy: set density out side of radii to zero, then these gridpoints do not contribute to the integral $\\int d\\vec{r} \\frac{\\tilde{\\rho}}{|\\vec{r}-\\vec{R_I}|}$\n",
    "\n",
    "this way after loading the density files; an additional step is carried out as implemented in this notebook\n",
    "in this step the density array is changed as described above; then the atomic energies can be calculated as already implemented without any changes to the existing code"
   ]
  },
  {
   "cell_type": "code",
   "execution_count": null,
   "metadata": {},
   "outputs": [],
   "source": [
    "import numpy as np\n",
    "import scipy.spatial as scsp\n",
    "\n",
    "import sys\n",
    "sys.path.insert(0, '/home/misa/APDFT/prototyping/atomic_energies/')\n",
    "\n",
    "import parse_density_files as pdf"
   ]
  },
  {
   "cell_type": "code",
   "execution_count": null,
   "metadata": {},
   "outputs": [],
   "source": [
    "def meshgrid2vector(grid):\n",
    "    \"\"\"\n",
    "    convert components of meshgrid into set of vectors; every vector is a point of the grid\n",
    "    e.g. a 3D grid is converted in a numpy array of shape (number gridpoints, 3)\n",
    "    \"\"\"\n",
    "    flattened_grid = []\n",
    "    for c in grid:\n",
    "        flattened_grid.append(c.flatten())\n",
    "        \n",
    "    return(np.array(flattened_grid).T)\n",
    "    \n",
    "\n",
    "# get grid points lying in sphere with radius r_vdW\n",
    "\n",
    "def get_idc_rvdW(center, rvdw, gpts):\n",
    "    \"\"\"\n",
    "    returns indices of grid points lying in a sphere around center with radius rdwV\n",
    "    \n",
    "    center: center of sphere\n",
    "    rdvw: radius of sphere\n",
    "    coordinates of grid as flattened numpy array, shape (number of grid points, dimension of grid)\n",
    "    \"\"\"\n",
    "    \n",
    "    # distance of every gridpoint from center\n",
    "    distance_array = scsp.distance.cdist(gpts, center)\n",
    "    \n",
    "    \n",
    "    idc_in_sphere = np.where(distance_array[:, 0] <= rvdw)[0] # indices of points within sphere with vdW radius\n",
    "    idc_out_sphere = np.where(distance_array[:, 0] > rvdw)[0] # indices of points out of sphere with vdW radius\n",
    "    \n",
    "    return(idc_in_sphere, idc_out_sphere)"
   ]
  },
  {
   "cell_type": "code",
   "execution_count": null,
   "metadata": {},
   "outputs": [],
   "source": [
    "# load data"
   ]
  },
  {
   "cell_type": "code",
   "execution_count": null,
   "metadata": {},
   "outputs": [],
   "source": [
    "path = '/home/misa/APDFT/prototyping/atomic_energies/results/slice_ve38/dsgdb9nsd_002626/cube-files/ve_8.cube'\n",
    "cube = pdf.CUBE(path)"
   ]
  },
  {
   "cell_type": "code",
   "execution_count": null,
   "metadata": {},
   "outputs": [],
   "source": [
    "# prepare data"
   ]
  },
  {
   "cell_type": "code",
   "execution_count": null,
   "metadata": {},
   "outputs": [],
   "source": [
    "grid = cube.get_grid()\n",
    "density = cube.data_scaled\n",
    "np.amax(density)"
   ]
  },
  {
   "cell_type": "code",
   "execution_count": null,
   "metadata": {},
   "outputs": [],
   "source": [
    "nucleus = np.array([[10.0, 10.0, 10.0]])\n",
    "radius = 5.0\n",
    "\n",
    "nucleus2 = np.array([[20.0, 10.0, 10.0]])\n",
    "radius2 = 7.0"
   ]
  },
  {
   "cell_type": "code",
   "execution_count": null,
   "metadata": {},
   "outputs": [],
   "source": [
    "# get indices within and out of radius around nuclei"
   ]
  },
  {
   "cell_type": "code",
   "execution_count": null,
   "metadata": {},
   "outputs": [],
   "source": [
    "idc_in, idc_out = get_idc_rvdW(nucleus, radius, meshgrid2vector(grid))\n",
    "idc_in2, idc_out2 = get_idc_rvdW(nucleus2, radius2, meshgrid2vector(grid))"
   ]
  },
  {
   "cell_type": "code",
   "execution_count": null,
   "metadata": {},
   "outputs": [],
   "source": [
    "idc_in"
   ]
  },
  {
   "cell_type": "code",
   "execution_count": null,
   "metadata": {},
   "outputs": [],
   "source": [
    "# select all indices that are within at least one radius for one nucleus"
   ]
  },
  {
   "cell_type": "code",
   "execution_count": null,
   "metadata": {},
   "outputs": [],
   "source": [
    "print(idc_in.shape)\n",
    "print(idc_in2.shape)\n",
    "print(idc_in.shape[0]+idc_in2.shape[0])\n",
    "print(np.concatenate([idc_in, idc_in2]).shape)"
   ]
  },
  {
   "cell_type": "code",
   "execution_count": null,
   "metadata": {},
   "outputs": [],
   "source": [
    "all_idc_in = np.concatenate((idc_in, idc_in2))\n",
    "all_idc_in = np.unique(all_idc_in)\n",
    "print(all_idc_in.shape)"
   ]
  },
  {
   "cell_type": "code",
   "execution_count": null,
   "metadata": {},
   "outputs": [],
   "source": [
    "# select all indices that are NOT within at least one radius for one nucleus"
   ]
  },
  {
   "cell_type": "code",
   "execution_count": null,
   "metadata": {},
   "outputs": [],
   "source": [
    "all_idc_out = np.setdiff1d(np.arange(np.prod(density.shape)), all_idc_in, assume_unique=True)"
   ]
  },
  {
   "cell_type": "code",
   "execution_count": null,
   "metadata": {},
   "outputs": [],
   "source": [
    "# set density around nuclei to zero"
   ]
  },
  {
   "cell_type": "code",
   "execution_count": null,
   "metadata": {},
   "outputs": [],
   "source": [
    "density_flattened = density.flatten()\n",
    "density_flattened[all_idc_out] = 0.0"
   ]
  },
  {
   "cell_type": "code",
   "execution_count": null,
   "metadata": {},
   "outputs": [],
   "source": [
    "density = density_flattened.reshape(density.shape)\n",
    "np.amax(density)"
   ]
  },
  {
   "cell_type": "markdown",
   "metadata": {},
   "source": [
    "# Some tests"
   ]
  },
  {
   "cell_type": "code",
   "execution_count": null,
   "metadata": {},
   "outputs": [],
   "source": [
    "import numpy as np\n",
    "import scipy.spatial as scsp\n",
    "\n",
    "import sys\n",
    "sys.path.insert(0, '/home/misa/APDFT/prototyping/atomic_energies/')\n",
    "\n",
    "import parse_density_files as pdf"
   ]
  },
  {
   "cell_type": "code",
   "execution_count": null,
   "metadata": {},
   "outputs": [],
   "source": [
    "# import test data"
   ]
  },
  {
   "cell_type": "code",
   "execution_count": null,
   "metadata": {},
   "outputs": [],
   "source": [
    "path = '/home/misa/APDFT/prototyping/atomic_energies/results/slice_ve38/dsgdb9nsd_002626/cube-files/ve_8.cube'\n",
    "cube = pdf.CUBE(path)"
   ]
  },
  {
   "cell_type": "code",
   "execution_count": null,
   "metadata": {},
   "outputs": [],
   "source": [
    "# calculate distance between center point in cell and gridpoints"
   ]
  },
  {
   "cell_type": "code",
   "execution_count": null,
   "metadata": {},
   "outputs": [],
   "source": [
    "grid = cube.get_grid()\n",
    "x = grid[0].flatten()\n",
    "y = grid[1].flatten()\n",
    "z = grid[2].flatten()\n",
    "\n",
    "distance_array = scsp.distance.cdist(np.array([x,y,z]).T, np.array([[10,10,10]]))"
   ]
  },
  {
   "cell_type": "code",
   "execution_count": null,
   "metadata": {},
   "outputs": [],
   "source": [
    "# select points within certain distance from center point"
   ]
  },
  {
   "cell_type": "code",
   "execution_count": null,
   "metadata": {},
   "outputs": [],
   "source": [
    "np.where(distance_array[:,0] <= 5)[0]"
   ]
  },
  {
   "cell_type": "code",
   "execution_count": null,
   "metadata": {},
   "outputs": [],
   "source": [
    "distance_array[:,0]"
   ]
  },
  {
   "cell_type": "code",
   "execution_count": null,
   "metadata": {},
   "outputs": [],
   "source": [
    "np.where(distance_array <= 5)[0].shape"
   ]
  },
  {
   "cell_type": "code",
   "execution_count": null,
   "metadata": {},
   "outputs": [],
   "source": [
    "np.where(distance_array <= 5)"
   ]
  },
  {
   "cell_type": "code",
   "execution_count": null,
   "metadata": {},
   "outputs": [],
   "source": [
    "# make sure that shapes of inputs are equal"
   ]
  },
  {
   "cell_type": "code",
   "execution_count": null,
   "metadata": {},
   "outputs": [],
   "source": [
    "np.array([[10,10,10]]).shape # shape center point"
   ]
  },
  {
   "cell_type": "code",
   "execution_count": null,
   "metadata": {},
   "outputs": [],
   "source": [
    "np.array([x,y,z]).T.shape # shape grid"
   ]
  },
  {
   "cell_type": "code",
   "execution_count": null,
   "metadata": {},
   "outputs": [],
   "source": [
    "scsp.distance.cdist(np.array([x,y,z]).T, np.array([[10,10,10]])).shape"
   ]
  },
  {
   "cell_type": "code",
   "execution_count": null,
   "metadata": {},
   "outputs": [],
   "source": [
    "# Test if correct distance"
   ]
  },
  {
   "cell_type": "code",
   "execution_count": null,
   "metadata": {},
   "outputs": [],
   "source": [
    "np.linalg.norm(np.array([37.578606, 37.578606, 37.578606]) - np.array([[10,10,10]]))"
   ]
  },
  {
   "cell_type": "code",
   "execution_count": null,
   "metadata": {},
   "outputs": [],
   "source": [
    "np.sqrt(3*27**2)"
   ]
  },
  {
   "cell_type": "code",
   "execution_count": null,
   "metadata": {},
   "outputs": [],
   "source": [
    "def meshgrid2vector(grid):\n",
    "    \"\"\"\n",
    "    convert components of meshgrid into set of vectors; every vector is a point of the grid\n",
    "    e.g. a 3D grid is converted in a numpy array of shape (number gridpoints, 3)\n",
    "    \"\"\"\n",
    "    flattened_grid = []\n",
    "    for c in grid:\n",
    "        flattened_grid.append(c.flatten())\n",
    "        \n",
    "    return(np.array(flattened_grid).T)\n",
    "    \n",
    "\n",
    "# get grid points lying in sphere with radius r_vdW\n",
    "\n",
    "def get_idc_rvdW(center, rvdw, gpts):\n",
    "    \"\"\"\n",
    "    returns indices of grid points lying in a sphere around center with radius rdwV\n",
    "    \n",
    "    center: center of sphere\n",
    "    rdvw: radius of sphere\n",
    "    coordinates of grid as flattened numpy array, shape (number of grid points, dimension of grid)\n",
    "    \"\"\"\n",
    "    \n",
    "    # distance of every gridpoint from center\n",
    "    distance_array = scsp.distance.cdist(gpts, center)\n",
    "    \n",
    "    \n",
    "    idc_in_sphere = np.where(distance_array[:, 0] <= rvdw) # indices of points within sphere with vdW radius\n",
    "    idc_out_sphere = np.where(distance_array[:, 0] > rvdw) # indices of points out of sphere with vdW radius\n",
    "    \n",
    "    return(idc_in_sphere, idc_out_sphere)\n",
    "    "
   ]
  },
  {
   "cell_type": "code",
   "execution_count": null,
   "metadata": {},
   "outputs": [],
   "source": [
    "# set density for points out of distance to center point to zero"
   ]
  },
  {
   "cell_type": "code",
   "execution_count": null,
   "metadata": {},
   "outputs": [],
   "source": [
    "density_flattened = np.reshape(cube.data, 175**3)\n",
    "idc_in, idc_out = get_idc_rvdW(np.array([[10,10,10]]), 5.0, meshgrid2vector(grid))\n",
    "density_flattened[idc_out] = 0.0"
   ]
  },
  {
   "cell_type": "code",
   "execution_count": null,
   "metadata": {},
   "outputs": [],
   "source": [
    "density_flattened.reshape((175, 175, 175))"
   ]
  },
  {
   "cell_type": "code",
   "execution_count": null,
   "metadata": {},
   "outputs": [],
   "source": [
    "# make sure that reshaping is fine"
   ]
  },
  {
   "cell_type": "code",
   "execution_count": null,
   "metadata": {},
   "outputs": [],
   "source": [
    "np.array_equal(np.array([np.reshape(grid[0], 175**3), np.reshape(grid[1], 175**3), np.reshape(grid[2], 175**3)]).T, meshgrid2vector(grid))"
   ]
  },
  {
   "cell_type": "code",
   "execution_count": null,
   "metadata": {},
   "outputs": [],
   "source": [
    "np.array_equal(meshgrid2vector(grid),np.array([x,y,z]).T)"
   ]
  }
 ],
 "metadata": {
  "kernelspec": {
   "display_name": "Python (atmoic-energies)",
   "language": "python",
   "name": "atomic-energies"
  },
  "language_info": {
   "codemirror_mode": {
    "name": "ipython",
    "version": 3
   },
   "file_extension": ".py",
   "mimetype": "text/x-python",
   "name": "python",
   "nbconvert_exporter": "python",
   "pygments_lexer": "ipython3",
   "version": "3.7.3"
  }
 },
 "nbformat": 4,
 "nbformat_minor": 2
}
