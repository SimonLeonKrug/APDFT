{
 "cells": [
  {
   "cell_type": "markdown",
   "metadata": {},
   "source": [
    "# Choice of $\\lambda$-values\n",
    "The number and distribution of $\\lambda$-values influences the error in the calculation of atomic energies. This notebook investigates how the much the ML-error changes if \n",
    "- the number of $\\lambda$-values is changed (adding/removing densities at certain $\\lambda$-values)\n",
    "\n",
    "The code for the generation of the data can be found in:\n",
    "\n",
    "alchemy_tools.test_impact_lambda: calculates the atomic energies where always one $\\lambda$-value (of 0.2, 0.4, 0.6, 0.8) is neglected. The data is stored in /home/misa/APDFT/prototyping/atomic_energies/results/slice_ve38/compound/no_*ve*.txt (where the neglected $\\lambda = \\frac{ve}{38}$\n",
    "\n",
    "crossvalidate.choose_different_lambdas: generates crossvalidated learning curves using the atomic energies created by test_impact_lambda; the hyperparameters are the same as for the data where all $\\lambda$-values are used\n"
   ]
  },
  {
   "cell_type": "markdown",
   "metadata": {},
   "source": [
    "## ML-Error if one $\\lambda$-value is left out\n",
    "The plot shows learning curves if one $\\lambda$-value is left out and the learning curve where all $\\lambda$-values are used. ~The error is for all curves in the same range which shows that an unsufficient number of $\\lambda$-values is not the main contributor to the error. (In principle using all $\\lambda$-values should give the lowest error, this is not for every training set size the case. The reason for this behaviour is probably, that the number of crossvalidation samples (=10) is not large enough).~"
   ]
  },
  {
   "cell_type": "code",
   "execution_count": 80,
   "metadata": {},
   "outputs": [],
   "source": [
    "import matplotlib\n",
    "matplotlib.use('Qt5Agg')\n",
    "from matplotlib import pyplot as plt\n",
    "plt.rcParams.update({'font.size': 22})\n",
    "import numpy as np"
   ]
  },
  {
   "cell_type": "code",
   "execution_count": 81,
   "metadata": {},
   "outputs": [],
   "source": [
    "# load learning curves\n",
    "\n",
    "base_path = '/home/misa/APDFT/prototyping/atomic_energies/results/analyse_learning/'\n",
    "l_curves_data = ['learning_curves.tab', 'no_8.tab', 'no_15.tab', 'no_23.tab', 'no_30.tab']\n",
    "\n",
    "l_curves = np.empty((5,10,3))\n",
    "\n",
    "for idx, lc in enumerate(l_curves_data):\n",
    "    l_curves[idx] = np.loadtxt(base_path+lc)\n"
   ]
  },
  {
   "cell_type": "code",
   "execution_count": 82,
   "metadata": {},
   "outputs": [
    {
     "data": {
      "text/plain": [
       "<matplotlib.legend.Legend at 0x7f39dba7d2b0>"
      ]
     },
     "execution_count": 82,
     "metadata": {},
     "output_type": "execute_result"
    }
   ],
   "source": [
    "# plot results\n",
    "labels = ['all', 'no $\\lambda_{0.2}$', 'no $\\lambda_{0.4}$', 'no $\\lambda_{0.6}$', 'no $\\lambda_{0.8}$']\n",
    "\n",
    "fig, ax = plt.subplots(1,1)\n",
    "\n",
    "for idx, l in enumerate(labels):\n",
    "    ax.plot(l_curves[idx][:,0], l_curves[idx][:,1], '-o', label = l)\n",
    "\n",
    "ax.set_xscale('log')\n",
    "ax.set_yscale('log')\n",
    "\n",
    "ax.set_xlabel('Training set size')\n",
    "ax.set_ylabel('Mean error  (Ha)')\n",
    "\n",
    "ax.legend()"
   ]
  },
  {
   "cell_type": "markdown",
   "metadata": {},
   "source": [
    "## Change in atomisation energy if one $\\lambda$-value is left out\n",
    "The difference between the integrals where all $\\lambda$-values are used and where $\\lambda \\approx 0.8$ is left out is $\\approx 0.05$ Ha. This value is in the order of the minimum error that we obtain for our learning curves (0.02 Ha). This suggest, that the number of $\\lambda$-values is insufficient."
   ]
  },
  {
   "cell_type": "code",
   "execution_count": 4,
   "metadata": {},
   "outputs": [],
   "source": [
    "import sys\n",
    "sys.path.insert(0, '/home/misa/APDFT/prototyping/atomic_energies')\n",
    "import qml_interface as qi\n",
    "import numpy as np\n",
    "\n",
    "import matplotlib\n",
    "matplotlib.use('Qt5Agg')\n",
    "from matplotlib import pyplot as plt\n",
    "plt.rcParams.update({'font.size': 22})"
   ]
  },
  {
   "cell_type": "code",
   "execution_count": 5,
   "metadata": {},
   "outputs": [],
   "source": [
    "p_all = '/home/misa/APDFT/prototyping/atomic_energies/results/slice_ve38/finished_abs'\n",
    "paths_all = qi.wrapper_alch_data(p_all)\n",
    "\n",
    "p_no30 = '/home/misa/APDFT/prototyping/atomic_energies/results/slice_ve38/paths_no_30'\n",
    "paths_no30 = qi.wrapper_alch_data(p_no30)\n"
   ]
  },
  {
   "cell_type": "code",
   "execution_count": 6,
   "metadata": {},
   "outputs": [],
   "source": [
    "# verify that same order\n",
    "a=[el.rstrip('no_30.txt') for el in paths_no30]\n",
    "b=[el.rstrip('atomic_energies.txt') for el in paths_all]\n",
    "\n",
    "for idx in range(len(a)):\n",
    "    assert a[idx]==b[idx]"
   ]
  },
  {
   "cell_type": "code",
   "execution_count": 7,
   "metadata": {},
   "outputs": [],
   "source": [
    "data_all, msize_all = qi.load_alchemy_data(paths_all)\n",
    "data_no_30, msize_no30 = qi.load_alchemy_data(paths_no30)"
   ]
  },
  {
   "cell_type": "code",
   "execution_count": 83,
   "metadata": {},
   "outputs": [],
   "source": [
    "diff = []\n",
    "for idx in range(len(data_all)):\n",
    "    diff.extend(data_all[idx][:,5] - data_no_30[idx][:,5])\n",
    "diff = np.array(diff)\n",
    "mean_diff = np.abs(diff).mean()"
   ]
  },
  {
   "cell_type": "code",
   "execution_count": 84,
   "metadata": {},
   "outputs": [
    {
     "data": {
      "text/plain": [
       "Text(0, 0.5, '$\\\\overline{\\\\Delta E}_{atomic}$ (Ha)')"
      ]
     },
     "execution_count": 84,
     "metadata": {},
     "output_type": "execute_result"
    }
   ],
   "source": [
    "fig, ax = plt.subplots(1,2)\n",
    "mean=[]\n",
    "std = []\n",
    "idx_per_charge = qi.partition_idx_by_charge(data_all, range(len(data_all)))\n",
    "for i in range(len(idx_per_charge)):\n",
    "    ax[0].scatter(range(len(idx_per_charge[i][1][0])),diff[idx_per_charge[i][1]], label = 'Z = {}'.format(idx_per_charge[i][0]))\n",
    "#     ax[1].bar(i, np.abs(diff[idx_per_charge[i][1]]).mean()  )\n",
    "    mean.append(np.abs(diff[idx_per_charge[i][1]]).mean())\n",
    "    std.append(np.abs(diff[idx_per_charge[i][1]]).std())\n",
    "    \n",
    "ax[0].set_xlabel('atom ID')\n",
    "ax[0].set_ylabel(r'$\\Delta E_{atomic}$ (Ha)')\n",
    "ax[0].legend()\n",
    "\n",
    "mean.append(np.abs(diff).mean())\n",
    "std.append(np.abs(diff).std())\n",
    "\n",
    "prop_cycle = plt.rcParams['axes.prop_cycle']\n",
    "colors = prop_cycle.by_key()['color']\n",
    "ax[1].bar(range(len(idx_per_charge)+1),mean, yerr=std, tick_label=['Z = 1', 'Z = 6', 'Z = 7', 'Z = 8', 'all'], color = colors[0:len(idx_per_charge)+1])\n",
    "ax[1].set_ylabel(r'$\\overline{\\Delta E}_{atomic}$ (Ha)')"
   ]
  },
  {
   "cell_type": "markdown",
   "metadata": {},
   "source": [
    "## Convergence of the integral $\\int d\\lambda$\n",
    "We calculate the integral for different amounts of $\\lambda$-values and plot how the integral changes if more values are added."
   ]
  },
  {
   "cell_type": "code",
   "execution_count": 13,
   "metadata": {},
   "outputs": [],
   "source": [
    "import sys\n",
    "sys.path.insert(0, '/home/misa/APDFT/prototyping/atomic_energies')\n",
    "\n",
    "import alchemy_tools as at\n",
    "import glob\n"
   ]
  },
  {
   "cell_type": "code",
   "execution_count": 109,
   "metadata": {},
   "outputs": [],
   "source": [
    "def get_paths(directory):\n",
    "    # load data from cube files\n",
    "    paths_cubes = ['/home/misa/APDFT/prototyping/atomic_energies/results/slice_ve38/ueg/ve_00.cube']\n",
    "    paths2 = glob.glob(directory+'/cube-files/*')\n",
    "    paths2.sort()\n",
    "    paths_cubes.extend(paths2)\n",
    "    return(paths_cubes)\n",
    "    "
   ]
  },
  {
   "cell_type": "markdown",
   "metadata": {},
   "source": [
    "### $\\Delta E_{atomic} = E(\\text{the original 6}) - E(\\text{all} \\lambda)$"
   ]
  },
  {
   "cell_type": "code",
   "execution_count": 108,
   "metadata": {},
   "outputs": [
    {
     "data": {
      "text/plain": [
       "['/home/misa/APDFT/prototyping/atomic_energies/results/slice_ve38/dsgdb9nsd_003712',\n",
       " '/home/misa/APDFT/prototyping/atomic_energies/results/slice_ve38/dsgdb9nsd_003886',\n",
       " '/home/misa/APDFT/prototyping/atomic_energies/results/slice_ve38/dsgdb9nsd_001212']"
      ]
     },
     "execution_count": 108,
     "metadata": {},
     "output_type": "execute_result"
    }
   ],
   "source": [
    "directories = ['/home/misa/APDFT/prototyping/atomic_energies/results/slice_ve38/dsgdb9nsd_003712',\n",
    " '/home/misa/APDFT/prototyping/atomic_energies/results/slice_ve38/dsgdb9nsd_003886',\n",
    " '/home/misa/APDFT/prototyping/atomic_energies/results/slice_ve38/dsgdb9nsd_001212']"
   ]
  },
  {
   "cell_type": "code",
   "execution_count": 110,
   "metadata": {},
   "outputs": [],
   "source": [
    "diff_en = []\n",
    "diff_alch = []\n",
    "\n",
    "for d in directories:\n",
    "    paths_cubes = get_paths(d)\n",
    "    # all lambda values\n",
    "    lam_vals, densities, nuclei, gpts = at.load_cube_data(paths_cubes)\n",
    "    av_dens = at.integrate_lambda_density(densities, lam_vals, method='trapz')\n",
    "    atomic_energies, alch_pots = at.calculate_atomic_energies(av_dens, nuclei, gpts)\n",
    "    \n",
    "    # the orginal 6\n",
    "    old_densities = []\n",
    "    old_lam_vals = []\n",
    "\n",
    "    for i in range(len(lam_vals)):\n",
    "        if lam_vals[i] in [0, 8/38, 15/38, 23/38, 30/38, 38/38]:\n",
    "            old_lam_vals.append(lam_vals[i])\n",
    "            old_densities.append(densities[i])\n",
    "            \n",
    "    av_dens_old = at.integrate_lambda_density(old_densities, old_lam_vals, method='trapz')\n",
    "    atomic_energies_old, alch_pots_old = at.calculate_atomic_energies(av_dens_old, nuclei, gpts)\n",
    "    \n",
    "    diff_en.append(atomic_energies_old-atomic_energies)\n",
    "    diff_alch.append(alch_pots_old - alch_pots)"
   ]
  },
  {
   "cell_type": "code",
   "execution_count": 111,
   "metadata": {},
   "outputs": [
    {
     "data": {
      "text/plain": [
       "[array([ 0.00959746,  0.01364483, -0.02457503,  0.0033201 ,  0.01778172,\n",
       "        -0.02563588, -0.01011724,  0.01298866,  0.00245047,  0.02051527,\n",
       "         0.01231401,  0.02036384,  0.01007422,  0.01840382,  0.01525411]),\n",
       " array([-0.03078194,  0.02812559, -0.02890459, -0.11024495,  0.02720261,\n",
       "        -0.04471018, -0.08504432,  0.01274703,  0.01292123,  0.00984363]),\n",
       " array([ 0.00198757, -0.00104597, -0.15993516, -0.08758155,  0.03307746,\n",
       "         0.01495659, -0.02957475,  0.01221636,  0.00955504,  0.00863894,\n",
       "         0.01659848,  0.016055  ])]"
      ]
     },
     "execution_count": 111,
     "metadata": {},
     "output_type": "execute_result"
    }
   ],
   "source": [
    "diff_en"
   ]
  },
  {
   "cell_type": "code",
   "execution_count": 122,
   "metadata": {},
   "outputs": [
    {
     "name": "stdout",
     "output_type": "stream",
     "text": [
      "0.014469110157744975\n",
      "0.03905260699764899\n",
      "0.03260190620883215\n"
     ]
    }
   ],
   "source": [
    "for i in range(3):\n",
    "    print(np.abs(diff_en[i]).mean())"
   ]
  },
  {
   "cell_type": "code",
   "execution_count": 112,
   "metadata": {},
   "outputs": [
    {
     "data": {
      "text/plain": [
       "[array([ 0.00159958,  0.00227414, -0.00409584,  0.00055335,  0.00296362,\n",
       "        -0.00366227, -0.00144532,  0.01298866,  0.00245047,  0.02051527,\n",
       "         0.01231401,  0.02036384,  0.01007422,  0.01840382,  0.01525411]),\n",
       " array([-0.00439742,  0.0046876 , -0.00412923, -0.01378062,  0.00453377,\n",
       "        -0.00638717, -0.01063054,  0.01274703,  0.01292123,  0.00984363]),\n",
       " array([ 0.00033126, -0.00017433, -0.0199919 , -0.01094769,  0.00551291,\n",
       "         0.00249276, -0.00422496,  0.01221636,  0.00955504,  0.00863894,\n",
       "         0.01659848,  0.016055  ])]"
      ]
     },
     "execution_count": 112,
     "metadata": {},
     "output_type": "execute_result"
    }
   ],
   "source": [
    "diff_alch"
   ]
  },
  {
   "cell_type": "code",
   "execution_count": 123,
   "metadata": {},
   "outputs": [
    {
     "name": "stdout",
     "output_type": "stream",
     "text": [
      "0.008597234344947325\n",
      "0.00840582285041629\n",
      "0.008894970509579622\n"
     ]
    }
   ],
   "source": [
    "for i in range(3):\n",
    "    print(np.abs(diff_alch[i]).mean())"
   ]
  },
  {
   "cell_type": "markdown",
   "metadata": {},
   "source": [
    "## $ \\frac{d}{d \\lambda} \\rho$"
   ]
  },
  {
   "cell_type": "code",
   "execution_count": 96,
   "metadata": {},
   "outputs": [],
   "source": [
    "def get_derivatives(lam_vals, densities):\n",
    "    derivatives = []\n",
    "    for idx in range(1, len(densities)):\n",
    "        d_dens_lam = (densities[idx] - densities[idx-1])/(lam_vals[idx]-lam_vals[idx-1])\n",
    "        derivatives.append(d_dens_lam)\n",
    "    \n",
    "    derivatives = np.array(derivatives)\n",
    "    return(derivatives)\n",
    "\n",
    "def sum_gradients(derivatives):\n",
    "    gradients = []\n",
    "    for idx in range(len(derivatives)):\n",
    "        sum_gradients = np.abs(derivatives[idx]).sum()\n",
    "        gradients.append(sum_gradients)\n",
    "    return(np.array(gradients))"
   ]
  },
  {
   "cell_type": "code",
   "execution_count": 97,
   "metadata": {},
   "outputs": [],
   "source": [
    "derivatives = get_derivatives(lam_vals, densities)"
   ]
  },
  {
   "cell_type": "code",
   "execution_count": 98,
   "metadata": {},
   "outputs": [],
   "source": [
    "gradients_sum = sum_gradients(derivatives)"
   ]
  },
  {
   "cell_type": "code",
   "execution_count": 99,
   "metadata": {},
   "outputs": [
    {
     "data": {
      "text/plain": [
       "array([ 82.88549193,  82.67519794,  86.16749275,  90.10449409,\n",
       "        97.79197916,  94.6862974 ,  91.19729829, 107.21152492,\n",
       "        99.57975493, 103.35557286,  92.4498429 ,  89.35113404,\n",
       "        89.90858836,  89.17835445,  94.97777587,  94.29996967,\n",
       "        89.23052011,  89.7250754 ,  83.68187086,  68.40971137])"
      ]
     },
     "execution_count": 99,
     "metadata": {},
     "output_type": "execute_result"
    }
   ],
   "source": [
    "gradients_sum"
   ]
  },
  {
   "cell_type": "code",
   "execution_count": 100,
   "metadata": {},
   "outputs": [],
   "source": [
    "old_derivatives = get_derivatives(old_lam_vals, old_densities)\n",
    "old_gradients_sum = sum_gradients(old_derivatives)"
   ]
  },
  {
   "cell_type": "code",
   "execution_count": 101,
   "metadata": {},
   "outputs": [
    {
     "data": {
      "text/plain": [
       "array([80.05959928, 80.92979938, 77.8198165 , 83.75354686, 77.22147903])"
      ]
     },
     "execution_count": 101,
     "metadata": {},
     "output_type": "execute_result"
    }
   ],
   "source": [
    "old_gradients_sum"
   ]
  },
  {
   "cell_type": "markdown",
   "metadata": {},
   "source": [
    "## Example plot for projected densities at different $\\lambda$-values"
   ]
  },
  {
   "cell_type": "code",
   "execution_count": 7,
   "metadata": {},
   "outputs": [],
   "source": [
    "import glob\n",
    "import sys\n",
    "sys.path.insert(0, '/home/misa/APDFT/prototyping/atomic_energies')\n",
    "from parse_cube_files import CUBE\n",
    "import numpy as np\n",
    "\n",
    "import matplotlib\n",
    "matplotlib.use('Qt5Agg')\n",
    "from matplotlib import pyplot as plt\n",
    "plt.rcParams.update({'font.size': 22})"
   ]
  },
  {
   "cell_type": "code",
   "execution_count": 21,
   "metadata": {},
   "outputs": [],
   "source": [
    "p = '/home/misa/APDFT/prototyping/atomic_energies/results/slice_ve38/dsgdb9nsd_001212/cube-files'\n",
    "paths = glob.glob(p+'/*.cube')\n",
    "paths.sort()\n",
    "\n",
    "cubes = []\n",
    "for path in paths:\n",
    "    cubes.append(CUBE(path))"
   ]
  },
  {
   "cell_type": "code",
   "execution_count": 41,
   "metadata": {},
   "outputs": [
    {
     "data": {
      "text/plain": [
       "4.0"
      ]
     },
     "execution_count": 41,
     "metadata": {},
     "output_type": "execute_result"
    }
   ],
   "source": [
    "float(paths[0].split('/')[-1].split('.')[0].split('_')[1])"
   ]
  }
 ],
 "metadata": {
  "kernelspec": {
   "display_name": "Python [conda env:atomic-energies]",
   "language": "python",
   "name": "conda-env-atomic-energies-py"
  },
  "language_info": {
   "codemirror_mode": {
    "name": "ipython",
    "version": 3
   },
   "file_extension": ".py",
   "mimetype": "text/x-python",
   "name": "python",
   "nbconvert_exporter": "python",
   "pygments_lexer": "ipython3",
   "version": "3.7.3"
  }
 },
 "nbformat": 4,
 "nbformat_minor": 2
}
