{
 "cells": [
  {
   "cell_type": "markdown",
   "metadata": {},
   "source": [
    "# Choice of $\\lambda$-values\n",
    "The number and distribution of $\\lambda$-values influences the error in the calculation of atomic energies. This notebook investigates how the much the ML-error changes if \n",
    "- the number of $\\lambda$-values is changed (adding/removing densities at certain $\\lambda$-values)\n",
    "\n",
    "The code for the generation of the data can be found in:\n",
    "\n",
    "alchemy_tools.test_impact_lambda: calculates the atomic energies where always one $\\lambda$-value (of 0.2, 0.4, 0.6, 0.8) is neglected. The data is stored in /home/misa/APDFT/prototyping/atomic_energies/results/slice_ve38/compound/no_*ve*.txt (where the neglected $\\lambda = \\frac{ve}{38}$\n",
    "\n",
    "crossvalidate.choose_different_lambdas: generates crossvalidated learning curves using the atomic energies created by test_impact_lambda; the hyperparameters are the same as for the data where all $\\lambda$-values are used\n"
   ]
  },
  {
   "cell_type": "markdown",
   "metadata": {},
   "source": [
    "## ML-Error if one $\\lambda$-value is left out\n",
    "The plot shows learning curves if one $\\lambda$-value is left out and the learning curve where all $\\lambda$-values are used. The error is for all curves in the same range which shows that an unsufficient number of $\\lambda$-values is not the main contributor to the error. (In principle using all $\\lambda$-values should give the lowest error, this is not for every training set size the case. The reason for this behaviour is probably, that the number of crossvalidation samples (=10) is not large enough)."
   ]
  },
  {
   "cell_type": "code",
   "execution_count": 1,
   "metadata": {},
   "outputs": [],
   "source": [
    "import matplotlib\n",
    "matplotlib.use('Qt5Agg')\n",
    "from matplotlib import pyplot as plt\n",
    "plt.rcParams.update({'font.size': 22})\n",
    "import numpy as np"
   ]
  },
  {
   "cell_type": "code",
   "execution_count": 4,
   "metadata": {},
   "outputs": [],
   "source": [
    "# load learning curves\n",
    "\n",
    "base_path = '/home/misa/APDFT/prototyping/atomic_energies/results/analyse_learning/'\n",
    "l_curves_data = ['learning_curves.tab', 'no_8.tab', 'no_15.tab', 'no_23.tab', 'no_30.tab']\n",
    "\n",
    "l_curves = np.empty((5,10,3))\n",
    "\n",
    "for idx, lc in enumerate(l_curves_data):\n",
    "    l_curves[idx] = np.loadtxt(base_path+lc)\n"
   ]
  },
  {
   "cell_type": "code",
   "execution_count": 19,
   "metadata": {},
   "outputs": [
    {
     "data": {
      "text/plain": [
       "<matplotlib.legend.Legend at 0x7f172905b898>"
      ]
     },
     "execution_count": 19,
     "metadata": {},
     "output_type": "execute_result"
    }
   ],
   "source": [
    "# plot results\n",
    "labels = ['all', 'no $\\lambda_{0.2}$', 'no $\\lambda_{0.4}$', 'no $\\lambda_{0.6}$', 'no $\\lambda_{0.8}$']\n",
    "\n",
    "fig, ax = plt.subplots(1,1)\n",
    "\n",
    "for idx, l in enumerate(labels):\n",
    "    ax.plot(l_curves[idx][:,0], l_curves[idx][:,1], '-o', label = l)\n",
    "\n",
    "ax.set_xscale('log')\n",
    "ax.set_yscale('log')\n",
    "\n",
    "ax.set_xlabel('Training set size')\n",
    "ax.set_ylabel('Mean error  (Ha)')\n",
    "\n",
    "ax.legend()"
   ]
  }
 ],
 "metadata": {
  "kernelspec": {
   "display_name": "Python [conda env:atomic-energies]",
   "language": "python",
   "name": "conda-env-atomic-energies-py"
  },
  "language_info": {
   "codemirror_mode": {
    "name": "ipython",
    "version": 3
   },
   "file_extension": ".py",
   "mimetype": "text/x-python",
   "name": "python",
   "nbconvert_exporter": "python",
   "pygments_lexer": "ipython3",
   "version": "3.7.3"
  }
 },
 "nbformat": 4,
 "nbformat_minor": 2
}
