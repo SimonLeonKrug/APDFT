{
 "cells": [
  {
   "cell_type": "code",
   "execution_count": 2,
   "metadata": {},
   "outputs": [],
   "source": [
    "import matplotlib\n",
    "matplotlib.use('Qt5Agg')\n",
    "from matplotlib import pyplot as plt\n",
    "plt.rcParams.update({'font.size': 22})\n",
    "\n",
    "import numpy as np\n",
    "import itertools\n",
    "import glob\n",
    "\n",
    "import sys\n",
    "sys.path.insert(0, '/home/misa/APDFT/prototyping/atomic_energies/')\n",
    "from parse_cube_files import CUBE\n",
    "import alchemy_tools as at\n"
   ]
  },
  {
   "cell_type": "markdown",
   "metadata": {},
   "source": [
    "# Import data into cube objects"
   ]
  },
  {
   "cell_type": "code",
   "execution_count": 5,
   "metadata": {},
   "outputs": [],
   "source": [
    "paths = glob.glob('/home/misa/APDFT/prototyping/atomic_energies/results/slice_ve38/dsgdb9nsd_001212/cube-files/*.cube')\n",
    "paths.sort()\n",
    "\n",
    "cube_obj = []\n",
    "for p in paths:\n",
    "    cube_obj.append(CUBE(p))"
   ]
  },
  {
   "cell_type": "code",
   "execution_count": 6,
   "metadata": {},
   "outputs": [],
   "source": [
    "# uniform electron gas\n",
    "path_ueg = '/home/misa/APDFT/prototyping/atomic_energies/results/slice_ve38/ueg/ve_00.cube'\n",
    "cube_obj.insert(0, CUBE(path_ueg))"
   ]
  },
  {
   "cell_type": "markdown",
   "metadata": {},
   "source": [
    "# Example 1D"
   ]
  },
  {
   "cell_type": "code",
   "execution_count": 203,
   "metadata": {},
   "outputs": [
    {
     "data": {
      "text/plain": [
       "<matplotlib.legend.Legend at 0x7efc83391278>"
      ]
     },
     "execution_count": 203,
     "metadata": {},
     "output_type": "execute_result"
    }
   ],
   "source": [
    "ve_ex = cube_obj[len(cube_obj)-2]\n",
    "\n",
    "fig_m, ax_m = plt.subplots(1,2)\n",
    "x = np.linspace(0, 20, 175)\n",
    "pr = ve_ex.project((0,2))\n",
    "# ax_m.plot(x, pr, label='full')\n",
    "\n",
    "fft = np.fft.fft(pr)\n",
    "fft_scaled = fft.copy()\n",
    "fft_scaled[0] = fft_scaled[0]\n",
    "fft_scaled[1] = fft_scaled[1]*1.5\n",
    "fft_scaled[2] = fft_scaled[2]*0.75\n",
    "\n",
    "# fft_scaled[5] = 0.079#fft_scaled[5]\n",
    "# fft_scaled[6] = 0.0721#fft_scaled[6]\n",
    "# fft_scaled[7] = 0.070#fft_scaled[7]\n",
    "\n",
    "ifft= np.fft.ifft(fft_scaled)\n",
    "\n",
    "ax_m[0].plot(np.arange(len(fft))[0:25],np.abs(fft)[0:25], '-o', label='original')\n",
    "ax_m[0].plot(np.arange(len(fft))[0:25],np.abs(fft_scaled)[0:25], '-o', label='rescaled')\n",
    "\n",
    "ax_m[1].plot(x, pr, label=\"original\")\n",
    "ax_m[1].plot(x, ifft.real, label=\"rescaled\")\n",
    "\n",
    "\n",
    "\n",
    "\n",
    "ax_m[0].legend()\n",
    "ax_m[1].legend()"
   ]
  },
  {
   "cell_type": "code",
   "execution_count": 204,
   "metadata": {},
   "outputs": [
    {
     "data": {
      "text/plain": [
       "<matplotlib.legend.Legend at 0x7efc8c8eba90>"
      ]
     },
     "execution_count": 204,
     "metadata": {},
     "output_type": "execute_result"
    }
   ],
   "source": [
    "ve_ex = cube_obj[1]\n",
    "fig_i, ax_i = plt.subplots()\n",
    "x = np.linspace(0, 20, 175)\n",
    "pr = ve_ex.project((0,2))\n",
    "ax_i.plot(x, pr, label='full')\n",
    "for idx in range(0,3):\n",
    "    pr = ve_ex.project((0,1))\n",
    "    fft = np.fft.fft(pr)\n",
    "    fft[idx] = 0.0\n",
    "    ifft= np.fft.ifft(fft)\n",
    "    ax_i.plot(x, ifft.real, label=\"without freq {}\".format(idx))\n",
    "ax_i.set_title('projection (0,1)')\n",
    "ax_i.legend()"
   ]
  },
  {
   "cell_type": "code",
   "execution_count": 215,
   "metadata": {},
   "outputs": [
    {
     "data": {
      "text/plain": [
       "Text(0.5, 1.0, '1D projection of density for different $\\\\lambda$')"
      ]
     },
     "execution_count": 215,
     "metadata": {},
     "output_type": "execute_result"
    }
   ],
   "source": [
    "# density for different lambda-values\n",
    "# and absolute of fourier coefficients for the first 25 frequencies at every density\n",
    "\n",
    "fig_m, ax_m = plt.subplots(1,2)\n",
    "x = np.linspace(0, 20, 175)\n",
    "fft_freqs = np.empty((len(cube_obj), 25), dtype='complex128')\n",
    "n = 5\n",
    "lam_val = np.array([0, 4, 6, 8, 10, 12, 14, 15, 16, 18, 20, 22, 23, 24, 26, 28, 29, 30, 32, 34, 36, 38])/38\n",
    "for i in range(len(cube_obj)):\n",
    "    ve_ex = cube_obj[i]\n",
    "    pr = ve_ex.project((1,2))\n",
    "\n",
    "    fft = np.fft.fft(pr)\n",
    "    fft_scaled = fft.copy()\n",
    "\n",
    "    ifft= np.fft.ifft(fft_scaled)\n",
    "\n",
    "    ax_m[0].plot(np.arange(len(fft))[0:25],np.abs(fft)[0:25], '-o')\n",
    "\n",
    "    ax_m[1].plot(x, pr)\n",
    "    \n",
    "    fft_freqs[i] = fft[0:25]\n",
    "\n",
    "\n",
    "ax_m[0].set_xlabel(r'frequency $\\nu$')\n",
    "ax_m[0].set_ylabel(r'$|c_{\\nu}|$')\n",
    "ax_m[0].set_title(r'Absolute of fourier coefficents for $\\rho(\\lambda)$')\n",
    "\n",
    "ax_m[1].set_xlabel(r'cell coordinate $x_{1,2}$')\n",
    "ax_m[1].set_ylabel(r'$\\rho(x_{1,2})$')\n",
    "ax_m[1].set_title(r'1D projection of density for different $\\lambda$')\n",
    "\n",
    "\n",
    "# only densities\n",
    "# fig_m, ax_m = plt.subplots(1,1)\n",
    "# x = np.linspace(0, 20, 175)\n",
    "# fft_freqs = np.empty((len(cube_obj), 25), dtype='complex128')\n",
    "# n = 5\n",
    "# lam_val = np.array([0, 4, 6, 8, 10, 12, 14, 15, 16, 18, 20, 22, 23, 24, 26, 28, 29, 30, 32, 34, 36, 38])/38\n",
    "# for i in range(len(cube_obj)):\n",
    "#     ve_ex = cube_obj[i]\n",
    "#     pr = ve_ex.project((1,2))\n",
    "#     ax_m.plot(x, pr)\n",
    "\n",
    "# ax_m.set_xlabel(r'cell coordinate $x_{1,2}$')\n",
    "# ax_m.set_ylabel(r'$\\rho(x_{1,2})$')\n",
    "# ax_m.set_title(r'1D projection of density for different $\\lambda$')"
   ]
  },
  {
   "cell_type": "code",
   "execution_count": 233,
   "metadata": {},
   "outputs": [
    {
     "data": {
      "text/plain": [
       "Text(0, 0.5, '$|c_{\\\\nu}(\\\\lambda)|$')"
      ]
     },
     "execution_count": 233,
     "metadata": {},
     "output_type": "execute_result"
    }
   ],
   "source": [
    "# fourier coefficients real, imag, absolute at every lambda value\n",
    "\n",
    "fig_coeff, ax_coeff = plt.subplots(1,3)\n",
    "plt.rcParams.update({'font.size': 18})\n",
    "fig_coeff.suptitle(r'Fourier coefficients of the 5 lowest frequencies as a function of $\\lambda$' + '\\n' + 'for the 1D-projected densities of dsgdb9nsd_001212')\n",
    "plt.rcParams.update({'font.size': 22})\n",
    "for i in range(0,5):#(len(cube_obj)):\n",
    "    ax_coeff[0].plot(lam_val, fft_freqs.real[:,i], '-o', label = r'$\\nu = ${}'.format(i))\n",
    "    ax_coeff[1].plot(lam_val, fft_freqs.imag[:,i], '-o', label = r'$\\nu = ${}'.format(i))\n",
    "    ax_coeff[2].plot(lam_val, np.abs(fft_freqs[:,i]), '-o', label = r'$\\nu = ${}'.format(i))\n",
    "\n",
    "ax_coeff[0].set_xlabel(r'$\\lambda$')\n",
    "ax_coeff[0].set_ylabel(r'$c_{\\nu, real}(\\lambda)$')\n",
    "ax_coeff[0].legend()\n",
    "\n",
    "ax_coeff[1].set_xlabel(r'$\\lambda$')\n",
    "ax_coeff[1].set_ylabel(r'$c_{\\nu, im}(\\lambda)$')\n",
    "ax_coeff[1].legend()\n",
    "\n",
    "ax_coeff[2].set_xlabel(r'$\\lambda$')\n",
    "ax_coeff[2].set_ylabel(r'$|c_{\\nu}(\\lambda)|$')\n",
    "# ax_coeff[2].legend()"
   ]
  },
  {
   "cell_type": "code",
   "execution_count": null,
   "metadata": {},
   "outputs": [],
   "source": []
  }
 ],
 "metadata": {
  "kernelspec": {
   "display_name": "Python [conda env:atomic-energies]",
   "language": "python",
   "name": "conda-env-atomic-energies-py"
  },
  "language_info": {
   "codemirror_mode": {
    "name": "ipython",
    "version": 3
   },
   "file_extension": ".py",
   "mimetype": "text/x-python",
   "name": "python",
   "nbconvert_exporter": "python",
   "pygments_lexer": "ipython3",
   "version": "3.7.3"
  }
 },
 "nbformat": 4,
 "nbformat_minor": 2
}
