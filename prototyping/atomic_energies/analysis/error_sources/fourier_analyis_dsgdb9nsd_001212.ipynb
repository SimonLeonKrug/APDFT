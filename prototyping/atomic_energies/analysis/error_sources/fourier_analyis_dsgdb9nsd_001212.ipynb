{
 "cells": [
  {
   "cell_type": "code",
   "execution_count": 1,
   "metadata": {},
   "outputs": [],
   "source": [
    "import matplotlib\n",
    "matplotlib.use('Qt5Agg')\n",
    "from matplotlib import pyplot as plt\n",
    "plt.rcParams.update({'font.size': 22})\n",
    "\n",
    "import numpy as np\n",
    "import itertools\n",
    "import glob\n",
    "\n",
    "import sys\n",
    "sys.path.insert(0, '/home/misa/APDFT/prototyping/atomic_energies/')\n",
    "from parse_cube_files import CUBE\n",
    "import alchemy_tools as at\n"
   ]
  },
  {
   "cell_type": "code",
   "execution_count": 2,
   "metadata": {},
   "outputs": [],
   "source": [
    "# linear fit through origin\n",
    "def linear_m(x, y):\n",
    "    xy_av = np.dot(x,y)\n",
    "    x2_av = np.dot(x,x)\n",
    "    return(xy_av/x2_av)\n"
   ]
  },
  {
   "cell_type": "markdown",
   "metadata": {},
   "source": [
    "# Import data into cube objects"
   ]
  },
  {
   "cell_type": "code",
   "execution_count": 3,
   "metadata": {},
   "outputs": [],
   "source": [
    "paths = glob.glob('/home/misa/APDFT/prototyping/atomic_energies/results/slice_ve38/dsgdb9nsd_001212/cube-files/*.cube')\n",
    "paths.sort()\n",
    "\n",
    "cube_obj = []\n",
    "for p in paths:\n",
    "    cube_obj.append(CUBE(p))"
   ]
  },
  {
   "cell_type": "code",
   "execution_count": 4,
   "metadata": {},
   "outputs": [],
   "source": [
    "# uniform electron gas\n",
    "path_ueg = '/home/misa/APDFT/prototyping/atomic_energies/results/slice_ve38/ueg/ve_00.cube'\n",
    "cube_obj.insert(0, CUBE(path_ueg))"
   ]
  },
  {
   "cell_type": "markdown",
   "metadata": {},
   "source": [
    "# Example 1D"
   ]
  },
  {
   "cell_type": "code",
   "execution_count": 72,
   "metadata": {},
   "outputs": [],
   "source": [
    "# fft of all densities\n",
    "# store coefficients for all lambda-values\n",
    "\n",
    "# fourier coefficients for every lambda value\n",
    "fft_freqs = np.empty((len(cube_obj), cube_obj[0].data_scaled.shape[0]), dtype='complex128')\n",
    "\n",
    "# density before scaling\n",
    "dens_unscaled = np.zeros((len(cube_obj), len(cube_obj[0].data_scaled)))\n",
    "\n",
    "lam_val = np.array([0, 4, 6, 8, 10, 12, 14, 15, 16, 18, 20, 22, 23, 24, 26, 28, 29, 30, 32, 34, 36, 38])/38\n",
    "for i in range(len(cube_obj)):\n",
    "    ve_ex = cube_obj[i]\n",
    "    pr = ve_ex.project((1,2))\n",
    "    dens_unscaled[i] = pr\n",
    "\n",
    "    # fft for one specific lambda value\n",
    "    fft = np.fft.fft(pr)\n",
    "    fft_freqs[i] = fft"
   ]
  },
  {
   "cell_type": "code",
   "execution_count": 66,
   "metadata": {},
   "outputs": [],
   "source": [
    "# rescaling of frequencies\n",
    "\n",
    "fft_freqs_scaled = fft_freqs.copy()\n",
    "\n",
    "# do not rescale the coefficients at lambda = 1\n",
    "end_idx = len(lam_val)-1\n",
    "\n",
    "scaled_freqs = range(1,5)\n",
    "\n",
    "for f in scaled_freqs:\n",
    "    # scale imaginary part\n",
    "    m_imag = linear_m(lam_val[:end_idx], fft_freqs.imag[:end_idx,f])\n",
    "    fft_freqs_scaled.imag[:end_idx,f] = lam_val[:end_idx]*m_imag\n",
    "    # scale real part\n",
    "    m_real = linear_m(lam_val[:end_idx], fft_freqs.real[:end_idx,f])\n",
    "    fft_freqs_scaled.real[:end_idx,f] = lam_val[:end_idx]*m_real\n",
    "    "
   ]
  },
  {
   "cell_type": "code",
   "execution_count": 67,
   "metadata": {},
   "outputs": [
    {
     "data": {
      "text/plain": [
       "Text(0, 0.5, '$|c_{\\\\nu}(\\\\lambda)|$')"
      ]
     },
     "execution_count": 67,
     "metadata": {},
     "output_type": "execute_result"
    }
   ],
   "source": [
    "# plot frequencies before and after rescaling\n",
    "\n",
    "fig_coeff, ax_coeff = plt.subplots(1,3)\n",
    "plt.rcParams.update({'font.size': 18})\n",
    "fig_coeff.suptitle(r'Fourier coefficients of the 5 lowest frequencies as a function of $\\lambda$' + '\\n' + 'for the 1D-projected densities of dsgdb9nsd_001212')\n",
    "plt.rcParams.update({'font.size': 22})\n",
    "\n",
    "# same colors for fit and original data\n",
    "prop_cycle = plt.rcParams['axes.prop_cycle']\n",
    "colors = prop_cycle.by_key()['color']\n",
    "\n",
    "for i in range(0,5):\n",
    "    # original values\n",
    "    ax_coeff[0].plot(lam_val, fft_freqs.real[:,i], '-o', label = r'$\\nu = ${}'.format(i), color=colors[i])\n",
    "    ax_coeff[1].plot(lam_val, fft_freqs.imag[:,i], '-o', label = r'$\\nu = ${}'.format(i), color=colors[i])\n",
    "    ax_coeff[2].plot(lam_val, np.abs(fft_freqs[:,i]), '-o', label = r'$\\nu = ${}'.format(i), color=colors[i])\n",
    "    # after rescaling\n",
    "    ax_coeff[0].plot(lam_val, fft_freqs_scaled.real[:,i], '--', color=colors[i])\n",
    "    ax_coeff[1].plot(lam_val, fft_freqs_scaled.imag[:,i], '--', color=colors[i])\n",
    "    ax_coeff[2].plot(lam_val, np.abs(fft_freqs_scaled[:,i]), '--', color=colors[i])\n",
    "\n",
    "ax_coeff[0].set_xlabel(r'$\\lambda$')\n",
    "ax_coeff[0].set_ylabel(r'$c_{\\nu, real}(\\lambda)$')\n",
    "ax_coeff[0].legend()\n",
    "\n",
    "ax_coeff[1].set_xlabel(r'$\\lambda$')\n",
    "ax_coeff[1].set_ylabel(r'$c_{\\nu, im}(\\lambda)$')\n",
    "ax_coeff[1].legend()\n",
    "\n",
    "ax_coeff[2].set_xlabel(r'$\\lambda$')\n",
    "ax_coeff[2].set_ylabel(r'$|c_{\\nu}(\\lambda)|$')"
   ]
  },
  {
   "cell_type": "code",
   "execution_count": 68,
   "metadata": {},
   "outputs": [
    {
     "name": "stdout",
     "output_type": "stream",
     "text": [
      "4.360595673352785e-06\n",
      "3.7755281011520037e-05\n",
      "6.416373028950151e-05\n",
      "1.7859890254379174e-05\n",
      "2.0778774865143346e-05\n",
      "1.685419595831572e-05\n",
      "4.1873553230625804e-05\n",
      "3.563925757449349e-05\n",
      "3.144131658147642e-05\n",
      "6.229712086479322e-05\n",
      "5.480544719273228e-05\n",
      "5.5948641548980715e-05\n",
      "4.309352345907569e-05\n",
      "3.087351369801539e-05\n",
      "1.8205497506279533e-05\n",
      "5.4883729209892484e-05\n",
      "0.00015518850438134973\n",
      "0.00010866984782700179\n",
      "5.597431262313948e-05\n",
      "0.00020802540353079095\n",
      "0.0016909305290532563\n"
     ]
    }
   ],
   "source": [
    "rescaled_dens = np.zeros((len(cube_obj), len(cube_obj[0].data_scaled)))\n",
    "\n",
    "for i in range(len(cube_obj)):\n",
    "\n",
    "    ve_ex = cube_obj[i]\n",
    "    pr = ve_ex.project((1,2))\n",
    "    \n",
    "    ifft = np.fft.ifft(fft_freqs_scaled[i])\n",
    "    if not np.allclose(np.abs(ifft), np.abs(ifft.real)):\n",
    "        print(max(np.abs(ifft) - np.abs(ifft.real)))\n",
    "    rescaled_dens[i] = ifft.real"
   ]
  },
  {
   "cell_type": "code",
   "execution_count": 69,
   "metadata": {},
   "outputs": [
    {
     "data": {
      "text/plain": [
       "Text(0, 0.5, '1D-Projected Density')"
      ]
     },
     "execution_count": 69,
     "metadata": {},
     "output_type": "execute_result"
    }
   ],
   "source": [
    "# plot density after and before rescaling\n",
    "\n",
    "# same colors for fit and original data\n",
    "from matplotlib import cm\n",
    "colors = cm.jet(np.linspace(0, 1, len(cube_obj)))\n",
    "\n",
    "x = np.linspace(0, 20, cube_obj[0].data_scaled.shape[0])\n",
    "\n",
    "fig, ax = plt.subplots(1,1)\n",
    "\n",
    "for i in range(len(cube_obj)):\n",
    "\n",
    "    ve_ex = cube_obj[i]\n",
    "    pr = ve_ex.project((1,2))\n",
    "    \n",
    "    ifft = np.fft.ifft(fft_freqs_scaled[i])\n",
    "    \n",
    "    ax.plot(x, rescaled_dens[i], '--', color = colors[i])\n",
    "    ax.plot(x, pr, color = colors[i])\n",
    "ax.set_xlabel('Cell coordinate (Ang)')\n",
    "ax.set_ylabel('1D-Projected Density')"
   ]
  },
  {
   "cell_type": "code",
   "execution_count": 88,
   "metadata": {},
   "outputs": [
    {
     "data": {
      "text/plain": [
       "<matplotlib.legend.Legend at 0x7f5191e3ea20>"
      ]
     },
     "execution_count": 88,
     "metadata": {},
     "output_type": "execute_result"
    }
   ],
   "source": [
    "# plot density at box edges as a function of lambda after and before rescaling\n",
    "\n",
    "x = np.linspace(0, 20, cube_obj[0].data_scaled.shape[0])\n",
    "\n",
    "fig, ax = plt.subplots(1,1)\n",
    "\n",
    "ax.plot(lam_val, dens_unscaled[:,0], '-o', label = 'unscaled, left')\n",
    "ax.plot(lam_val, rescaled_dens[:,0], '-o', label = 'scaled, left')\n",
    "ax.legend()\n",
    "fig, ax = plt.subplots(1,1)\n",
    "ax.plot(lam_val, dens_unscaled[:,dens_unscaled.shape[1]-1], '-o', label = 'unscaled, rigth')\n",
    "ax.plot(lam_val, rescaled_dens[:,rescaled_dens.shape[1]-1], '-o', label = 'scaled, right')\n",
    "\n",
    "ax.legend()\n",
    "# for i in range(len(cube_obj)):\n",
    "\n",
    "#     rescaled_dens[i][0]\n",
    "    \n",
    "#     ax.plot(x, ifft.real, '--', color = colors[i])\n",
    "#     ax.plot(x, pr, color = colors[i])\n",
    "# ax.set_xlabel('Cell coordinate (Ang)')\n",
    "# ax.set_ylabel('1D-Projected Density')"
   ]
  },
  {
   "cell_type": "code",
   "execution_count": 85,
   "metadata": {},
   "outputs": [
    {
     "data": {
      "text/plain": [
       "array([ 2.17561191e-01,  1.95191796e-01,  1.84142293e-01,  1.68924052e-01,\n",
       "        1.59537668e-01,  1.48212904e-01,  1.36417398e-01,  1.31125364e-01,\n",
       "        1.26509477e-01,  1.15690073e-01,  1.05859624e-01,  9.47912460e-02,\n",
       "        8.81823277e-02,  8.19872962e-02,  6.91103131e-02,  5.80973633e-02,\n",
       "        5.67101003e-02,  4.99717361e-02,  3.55992734e-02,  2.18056533e-02,\n",
       "        5.33349877e-03, -2.32032080e-08])"
      ]
     },
     "execution_count": 85,
     "metadata": {},
     "output_type": "execute_result"
    }
   ],
   "source": [
    "dens_unscaled[:,dens_unscaled.shape[1]-1]"
   ]
  },
  {
   "cell_type": "code",
   "execution_count": 71,
   "metadata": {},
   "outputs": [
    {
     "data": {
      "text/plain": [
       "array([[0., 0., 0., ..., 0., 0., 0.],\n",
       "       [0., 0., 0., ..., 0., 0., 0.],\n",
       "       [0., 0., 0., ..., 0., 0., 0.],\n",
       "       ...,\n",
       "       [0., 0., 0., ..., 0., 0., 0.],\n",
       "       [0., 0., 0., ..., 0., 0., 0.],\n",
       "       [0., 0., 0., ..., 0., 0., 0.]])"
      ]
     },
     "execution_count": 71,
     "metadata": {},
     "output_type": "execute_result"
    }
   ],
   "source": [
    "dens_unscaled"
   ]
  }
 ],
 "metadata": {
  "kernelspec": {
   "display_name": "Python [conda env:atomic-energies]",
   "language": "python",
   "name": "conda-env-atomic-energies-py"
  },
  "language_info": {
   "codemirror_mode": {
    "name": "ipython",
    "version": 3
   },
   "file_extension": ".py",
   "mimetype": "text/x-python",
   "name": "python",
   "nbconvert_exporter": "python",
   "pygments_lexer": "ipython3",
   "version": "3.7.3"
  }
 },
 "nbformat": 4,
 "nbformat_minor": 2
}
