{
 "cells": [
  {
   "cell_type": "code",
   "execution_count": 1,
   "metadata": {},
   "outputs": [],
   "source": [
    "import qml\n",
    "import numpy as np\n",
    "import itertools\n",
    "import sys\n",
    "sys.path.insert(0, '/home/misa/APDFT/prototyping/atomic_energies/')\n",
    "from parse_cube_files import CUBE\n",
    "import alchemy_tools as alch\n",
    "import qml_interface as qi\n",
    "import matplotlib\n",
    "matplotlib.use('Qt5Agg')\n",
    "from matplotlib import pyplot as plt\n",
    "plt.rcParams.update({'font.size': 22})"
   ]
  },
  {
   "cell_type": "code",
   "execution_count": 2,
   "metadata": {},
   "outputs": [],
   "source": [
    "# Import data\n",
    "paths=qi.wrapper_alch_data(path='/home/misa/APDFT/prototyping/atomic_energies/results/slice_ve38/finished_abs')\n",
    "alchemy_data, molecule_size = qi.load_alchemy_data(paths)\n"
   ]
  },
  {
   "cell_type": "code",
   "execution_count": 3,
   "metadata": {},
   "outputs": [],
   "source": [
    "# np.savetxt('/home/misa/APDFT/prototyping/atomic_energies/analysis/global_idc_test_analyse_errors.txt', global_idc[1])\n",
    "g_tr = np.loadtxt('/home/misa/APDFT/prototyping/atomic_energies/analysis/global_idc_tr_analyse_errors.txt').astype(int)\n",
    "g_test = np.loadtxt('/home/misa/APDFT/prototyping/atomic_energies/analysis/global_idc_test_analyse_errors.txt').astype(int)"
   ]
  },
  {
   "cell_type": "code",
   "execution_count": 4,
   "metadata": {},
   "outputs": [],
   "source": [
    "# select training and validation set\n",
    "training_set_size = 100\n",
    "global_idc = g_tr, g_test#qi.get_indices(len(alchemy_data), training_set_size)\n",
    "local_idc = qi.get_local_idx(global_idc[0], molecule_size), qi.get_local_idx(global_idc[1], molecule_size)\n",
    "\n",
    "# build representations and labels\n",
    "local_reps = qi.generate_atomic_representations(alchemy_data, molecule_size)\n",
    "local_labels = qi.generate_label_vector(alchemy_data, molecule_size.sum())\n",
    "\n",
    "# optimize model\n",
    "rep = local_reps[local_idc[0]], local_reps[local_idc[1]] # select the representations\n",
    "labels = local_labels[local_idc[0]], local_labels[local_idc[1]] # select the labels\n",
    "sigmas = np.logspace(-1, 4, 12) # list of hyperparameters for optimization\n",
    "lams = np.logspace(-15, 0, 16)\n",
    "opt_data, coeffs, errors = qi.optimize_hypar(rep, labels, sigmas, lams)\n",
    "\n",
    "best_sigma = opt_data[np.where(opt_data[:,2]==np.amin(opt_data[:,2]))][0][0]\n",
    "best_lambda = opt_data[np.where(opt_data[:,2]==np.amin(opt_data[:,2]))][0][1]"
   ]
  },
  {
   "cell_type": "code",
   "execution_count": 20,
   "metadata": {},
   "outputs": [
    {
     "data": {
      "text/plain": [
       "array([[1.00000000e-01, 1.00000000e-15, 4.39087537e+00],\n",
       "       [1.00000000e-01, 1.00000000e-14, 4.39087537e+00],\n",
       "       [1.00000000e-01, 1.00000000e-13, 4.39087537e+00],\n",
       "       [1.00000000e-01, 1.00000000e-12, 4.39087537e+00],\n",
       "       [1.00000000e-01, 1.00000000e-11, 4.39087537e+00],\n",
       "       [1.00000000e-01, 1.00000000e-10, 4.39087537e+00],\n",
       "       [1.00000000e-01, 1.00000000e-09, 4.39087537e+00],\n",
       "       [1.00000000e-01, 1.00000000e-08, 4.39087537e+00],\n",
       "       [1.00000000e-01, 1.00000000e-07, 4.39087537e+00],\n",
       "       [1.00000000e-01, 1.00000000e-06, 4.39087537e+00],\n",
       "       [1.00000000e-01, 1.00000000e-05, 4.39087537e+00],\n",
       "       [1.00000000e-01, 1.00000000e-04, 4.39087537e+00],\n",
       "       [1.00000000e-01, 1.00000000e-03, 4.39087537e+00],\n",
       "       [1.00000000e-01, 1.00000000e-02, 4.39087537e+00],\n",
       "       [1.00000000e-01, 1.00000000e-01, 4.39087537e+00],\n",
       "       [1.00000000e-01, 1.00000000e+00, 4.39087537e+00],\n",
       "       [2.84803587e-01, 1.00000000e-15, 4.39087537e+00],\n",
       "       [2.84803587e-01, 1.00000000e-14, 4.39087537e+00],\n",
       "       [2.84803587e-01, 1.00000000e-13, 4.39087537e+00],\n",
       "       [2.84803587e-01, 1.00000000e-12, 4.39087537e+00],\n",
       "       [2.84803587e-01, 1.00000000e-11, 4.39087537e+00],\n",
       "       [2.84803587e-01, 1.00000000e-10, 4.39087537e+00],\n",
       "       [2.84803587e-01, 1.00000000e-09, 4.39087537e+00],\n",
       "       [2.84803587e-01, 1.00000000e-08, 4.39087537e+00],\n",
       "       [2.84803587e-01, 1.00000000e-07, 4.39087537e+00],\n",
       "       [2.84803587e-01, 1.00000000e-06, 4.39087537e+00],\n",
       "       [2.84803587e-01, 1.00000000e-05, 4.39087537e+00],\n",
       "       [2.84803587e-01, 1.00000000e-04, 4.39087537e+00],\n",
       "       [2.84803587e-01, 1.00000000e-03, 4.39087537e+00],\n",
       "       [2.84803587e-01, 1.00000000e-02, 4.39087537e+00],\n",
       "       [2.84803587e-01, 1.00000000e-01, 4.39087537e+00],\n",
       "       [2.84803587e-01, 1.00000000e+00, 4.39087537e+00],\n",
       "       [8.11130831e-01, 1.00000000e-15, 4.39087503e+00],\n",
       "       [8.11130831e-01, 1.00000000e-14, 4.39087503e+00],\n",
       "       [8.11130831e-01, 1.00000000e-13, 4.39087503e+00],\n",
       "       [8.11130831e-01, 1.00000000e-12, 4.39087503e+00],\n",
       "       [8.11130831e-01, 1.00000000e-11, 4.39087503e+00],\n",
       "       [8.11130831e-01, 1.00000000e-10, 4.39087503e+00],\n",
       "       [8.11130831e-01, 1.00000000e-09, 4.39087503e+00],\n",
       "       [8.11130831e-01, 1.00000000e-08, 4.39087503e+00],\n",
       "       [8.11130831e-01, 1.00000000e-07, 4.39087503e+00],\n",
       "       [8.11130831e-01, 1.00000000e-06, 4.39087503e+00],\n",
       "       [8.11130831e-01, 1.00000000e-05, 4.39087503e+00],\n",
       "       [8.11130831e-01, 1.00000000e-04, 4.39087503e+00],\n",
       "       [8.11130831e-01, 1.00000000e-03, 4.39087503e+00],\n",
       "       [8.11130831e-01, 1.00000000e-02, 4.39087504e+00],\n",
       "       [8.11130831e-01, 1.00000000e-01, 4.39087506e+00],\n",
       "       [8.11130831e-01, 1.00000000e+00, 4.39087520e+00],\n",
       "       [2.31012970e+00, 1.00000000e-15, 4.38388343e+00],\n",
       "       [2.31012970e+00, 1.00000000e-14, 4.38388343e+00],\n",
       "       [2.31012970e+00, 1.00000000e-13, 4.38388343e+00],\n",
       "       [2.31012970e+00, 1.00000000e-12, 4.38388343e+00],\n",
       "       [2.31012970e+00, 1.00000000e-11, 4.38388343e+00],\n",
       "       [2.31012970e+00, 1.00000000e-10, 4.38388343e+00],\n",
       "       [2.31012970e+00, 1.00000000e-09, 4.38388343e+00],\n",
       "       [2.31012970e+00, 1.00000000e-08, 4.38388343e+00],\n",
       "       [2.31012970e+00, 1.00000000e-07, 4.38388343e+00],\n",
       "       [2.31012970e+00, 1.00000000e-06, 4.38388342e+00],\n",
       "       [2.31012970e+00, 1.00000000e-05, 4.38388335e+00],\n",
       "       [2.31012970e+00, 1.00000000e-04, 4.38388340e+00],\n",
       "       [2.31012970e+00, 1.00000000e-03, 4.38388878e+00],\n",
       "       [2.31012970e+00, 1.00000000e-02, 4.38394368e+00],\n",
       "       [2.31012970e+00, 1.00000000e-01, 4.38444130e+00],\n",
       "       [2.31012970e+00, 1.00000000e+00, 4.38707779e+00],\n",
       "       [6.57933225e+00, 1.00000000e-15, 3.76502761e+00],\n",
       "       [6.57933225e+00, 1.00000000e-14, 3.76502750e+00],\n",
       "       [6.57933225e+00, 1.00000000e-13, 3.76502638e+00],\n",
       "       [6.57933225e+00, 1.00000000e-12, 3.76501527e+00],\n",
       "       [6.57933225e+00, 1.00000000e-11, 3.76490890e+00],\n",
       "       [6.57933225e+00, 1.00000000e-10, 3.76416981e+00],\n",
       "       [6.57933225e+00, 1.00000000e-09, 3.76266542e+00],\n",
       "       [6.57933225e+00, 1.00000000e-08, 3.76188075e+00],\n",
       "       [6.57933225e+00, 1.00000000e-07, 3.76168490e+00],\n",
       "       [6.57933225e+00, 1.00000000e-06, 3.76165716e+00],\n",
       "       [6.57933225e+00, 1.00000000e-05, 3.76162922e+00],\n",
       "       [6.57933225e+00, 1.00000000e-04, 3.76160507e+00],\n",
       "       [6.57933225e+00, 1.00000000e-03, 3.76173869e+00],\n",
       "       [6.57933225e+00, 1.00000000e-02, 3.76453032e+00],\n",
       "       [6.57933225e+00, 1.00000000e-01, 3.79384057e+00],\n",
       "       [6.57933225e+00, 1.00000000e+00, 3.96614576e+00],\n",
       "       [1.87381742e+01, 1.00000000e-15, 1.11025690e+00],\n",
       "       [1.87381742e+01, 1.00000000e-14, 1.10997714e+00],\n",
       "       [1.87381742e+01, 1.00000000e-13, 1.10712506e+00],\n",
       "       [1.87381742e+01, 1.00000000e-12, 1.08102890e+00],\n",
       "       [1.87381742e+01, 1.00000000e-11, 9.35317703e-01],\n",
       "       [1.87381742e+01, 1.00000000e-10, 7.37802484e-01],\n",
       "       [1.87381742e+01, 1.00000000e-09, 6.82756506e-01],\n",
       "       [1.87381742e+01, 1.00000000e-08, 6.75314640e-01],\n",
       "       [1.87381742e+01, 1.00000000e-07, 6.74469791e-01],\n",
       "       [1.87381742e+01, 1.00000000e-06, 6.74242180e-01],\n",
       "       [1.87381742e+01, 1.00000000e-05, 6.74089182e-01],\n",
       "       [1.87381742e+01, 1.00000000e-04, 6.73775719e-01],\n",
       "       [1.87381742e+01, 1.00000000e-03, 6.75267332e-01],\n",
       "       [1.87381742e+01, 1.00000000e-02, 6.81503518e-01],\n",
       "       [1.87381742e+01, 1.00000000e-01, 7.18056293e-01],\n",
       "       [1.87381742e+01, 1.00000000e+00, 9.25120473e-01],\n",
       "       [5.33669923e+01, 1.00000000e-15, 3.02582755e+00],\n",
       "       [5.33669923e+01, 1.00000000e-14, 2.95198185e+00],\n",
       "       [5.33669923e+01, 1.00000000e-13, 2.45575582e+00],\n",
       "       [5.33669923e+01, 1.00000000e-12, 1.19064966e+00],\n",
       "       [5.33669923e+01, 1.00000000e-11, 4.40956490e-01],\n",
       "       [5.33669923e+01, 1.00000000e-10, 1.89046202e-01],\n",
       "       [5.33669923e+01, 1.00000000e-09, 1.55625661e-01],\n",
       "       [5.33669923e+01, 1.00000000e-08, 1.47617355e-01],\n",
       "       [5.33669923e+01, 1.00000000e-07, 1.41924404e-01],\n",
       "       [5.33669923e+01, 1.00000000e-06, 1.30165489e-01],\n",
       "       [5.33669923e+01, 1.00000000e-05, 1.24137016e-01],\n",
       "       [5.33669923e+01, 1.00000000e-04, 1.26661429e-01],\n",
       "       [5.33669923e+01, 1.00000000e-03, 1.34616045e-01],\n",
       "       [5.33669923e+01, 1.00000000e-02, 1.71630110e-01],\n",
       "       [5.33669923e+01, 1.00000000e-01, 2.80111014e-01],\n",
       "       [5.33669923e+01, 1.00000000e+00, 5.65928193e-01],\n",
       "       [1.51991108e+02, 1.00000000e-15, 3.99345147e+00],\n",
       "       [1.51991108e+02, 1.00000000e-14, 2.03358473e+00],\n",
       "       [1.51991108e+02, 1.00000000e-13, 7.46688256e-01],\n",
       "       [1.51991108e+02, 1.00000000e-12, 2.21318313e-01],\n",
       "       [1.51991108e+02, 1.00000000e-11, 1.27745300e-01],\n",
       "       [1.51991108e+02, 1.00000000e-10, 1.06868958e-01],\n",
       "       [1.51991108e+02, 1.00000000e-09, 9.90802996e-02],\n",
       "       [1.51991108e+02, 1.00000000e-08, 8.02360667e-02],\n",
       "       [1.51991108e+02, 1.00000000e-07, 6.26455522e-02],\n",
       "       [1.51991108e+02, 1.00000000e-06, 5.72581922e-02],\n",
       "       [1.51991108e+02, 1.00000000e-05, 5.60682924e-02],\n",
       "       [1.51991108e+02, 1.00000000e-04, 6.41029323e-02],\n",
       "       [1.51991108e+02, 1.00000000e-03, 1.01594327e-01],\n",
       "       [1.51991108e+02, 1.00000000e-02, 2.05223812e-01],\n",
       "       [1.51991108e+02, 1.00000000e-01, 4.44117322e-01],\n",
       "       [1.51991108e+02, 1.00000000e+00, 1.32302856e+00],\n",
       "       [4.32876128e+02, 1.00000000e-15, 7.61372933e+14],\n",
       "       [4.32876128e+02, 1.00000000e-14, 3.06060772e-01],\n",
       "       [4.32876128e+02, 1.00000000e-13, 1.43335231e-01],\n",
       "       [4.32876128e+02, 1.00000000e-12, 1.18303691e-01],\n",
       "       [4.32876128e+02, 1.00000000e-11, 1.10630266e-01],\n",
       "       [4.32876128e+02, 1.00000000e-10, 9.01475321e-02],\n",
       "       [4.32876128e+02, 1.00000000e-09, 6.46427971e-02],\n",
       "       [4.32876128e+02, 1.00000000e-08, 5.56148528e-02],\n",
       "       [4.32876128e+02, 1.00000000e-07, 5.00900075e-02],\n",
       "       [4.32876128e+02, 1.00000000e-06, 5.13730770e-02],\n",
       "       [4.32876128e+02, 1.00000000e-05, 7.01168809e-02],\n",
       "       [4.32876128e+02, 1.00000000e-04, 1.09365380e-01],\n",
       "       [4.32876128e+02, 1.00000000e-03, 1.98175456e-01],\n",
       "       [4.32876128e+02, 1.00000000e-02, 4.48402900e-01],\n",
       "       [4.32876128e+02, 1.00000000e-01, 1.31095651e+00],\n",
       "       [4.32876128e+02, 1.00000000e+00, 2.39439581e+00],\n",
       "       [1.23284674e+03, 1.00000000e-15, 6.77420135e+13],\n",
       "       [1.23284674e+03, 1.00000000e-14, 1.37923649e-01],\n",
       "       [1.23284674e+03, 1.00000000e-13, 1.29740602e-01],\n",
       "       [1.23284674e+03, 1.00000000e-12, 1.11370091e-01],\n",
       "       [1.23284674e+03, 1.00000000e-11, 7.81430512e-02],\n",
       "       [1.23284674e+03, 1.00000000e-10, 6.38235854e-02],\n",
       "       [1.23284674e+03, 1.00000000e-09, 5.51185441e-02],\n",
       "       [1.23284674e+03, 1.00000000e-08, 5.12813426e-02],\n",
       "       [1.23284674e+03, 1.00000000e-07, 6.26114075e-02],\n",
       "       [1.23284674e+03, 1.00000000e-06, 9.01735919e-02],\n",
       "       [1.23284674e+03, 1.00000000e-05, 1.25631238e-01],\n",
       "       [1.23284674e+03, 1.00000000e-04, 1.97919835e-01],\n",
       "       [1.23284674e+03, 1.00000000e-03, 4.37275156e-01],\n",
       "       [1.23284674e+03, 1.00000000e-02, 1.22351329e+00],\n",
       "       [1.23284674e+03, 1.00000000e-01, 2.33736020e+00],\n",
       "       [1.23284674e+03, 1.00000000e+00, 3.14089055e+00],\n",
       "       [3.51119173e+03, 1.00000000e-15, 8.16186359e+14],\n",
       "       [3.51119173e+03, 1.00000000e-14, 1.40172525e-01],\n",
       "       [3.51119173e+03, 1.00000000e-13, 9.95754631e-02],\n",
       "       [3.51119173e+03, 1.00000000e-12, 7.93004849e-02],\n",
       "       [3.51119173e+03, 1.00000000e-11, 6.72830154e-02],\n",
       "       [3.51119173e+03, 1.00000000e-10, 5.90649956e-02],\n",
       "       [3.51119173e+03, 1.00000000e-09, 6.39385039e-02],\n",
       "       [3.51119173e+03, 1.00000000e-08, 8.45698207e-02],\n",
       "       [3.51119173e+03, 1.00000000e-07, 1.11731294e-01],\n",
       "       [3.51119173e+03, 1.00000000e-06, 1.39278340e-01],\n",
       "       [3.51119173e+03, 1.00000000e-05, 1.91862444e-01],\n",
       "       [3.51119173e+03, 1.00000000e-04, 4.07939831e-01],\n",
       "       [3.51119173e+03, 1.00000000e-03, 1.11997400e+00],\n",
       "       [3.51119173e+03, 1.00000000e-02, 2.26822569e+00],\n",
       "       [3.51119173e+03, 1.00000000e-01, 3.02773973e+00],\n",
       "       [3.51119173e+03, 1.00000000e+00, 4.05395109e+00],\n",
       "       [1.00000000e+04, 1.00000000e-15, 6.71603301e+13],\n",
       "       [1.00000000e+04, 1.00000000e-14, 1.18982909e-01],\n",
       "       [1.00000000e+04, 1.00000000e-13, 8.66536976e-02],\n",
       "       [1.00000000e+04, 1.00000000e-12, 7.59274345e-02],\n",
       "       [1.00000000e+04, 1.00000000e-11, 7.58538566e-02],\n",
       "       [1.00000000e+04, 1.00000000e-10, 8.96954745e-02],\n",
       "       [1.00000000e+04, 1.00000000e-09, 1.12111450e-01],\n",
       "       [1.00000000e+04, 1.00000000e-08, 1.31877913e-01],\n",
       "       [1.00000000e+04, 1.00000000e-07, 1.44716610e-01],\n",
       "       [1.00000000e+04, 1.00000000e-06, 1.84719862e-01],\n",
       "       [1.00000000e+04, 1.00000000e-05, 3.77877609e-01],\n",
       "       [1.00000000e+04, 1.00000000e-04, 1.01915171e+00],\n",
       "       [1.00000000e+04, 1.00000000e-03, 2.19021097e+00],\n",
       "       [1.00000000e+04, 1.00000000e-02, 2.92073151e+00],\n",
       "       [1.00000000e+04, 1.00000000e-01, 3.99996255e+00],\n",
       "       [1.00000000e+04, 1.00000000e+00, 4.28414332e+00]])"
      ]
     },
     "execution_count": 20,
     "metadata": {},
     "output_type": "execute_result"
    }
   ],
   "source": [
    "errors.mean()\n",
    "opt_data"
   ]
  },
  {
   "cell_type": "markdown",
   "metadata": {},
   "source": [
    "# The error in atomisation energy per molecule"
   ]
  },
  {
   "cell_type": "code",
   "execution_count": 17,
   "metadata": {},
   "outputs": [
    {
     "data": {
      "text/plain": [
       "0.4509086224586748"
      ]
     },
     "execution_count": 17,
     "metadata": {},
     "output_type": "execute_result"
    }
   ],
   "source": [
    "# predicted atomic energergies\n",
    "atomic_energies = qi.predict_labels(rep[1], rep[0], best_sigma, coeffs)\n",
    "# true atomisation energies\n",
    "ref_atomisation_en = np.empty(len(global_idc[1]))\n",
    "for j,i in enumerate(global_idc[1]):\n",
    "    ref_atomisation_en[j] = alchemy_data[i][:,6].sum()\n",
    "\n",
    "# molecule size of molecules in test set\n",
    "molecule_size_test = molecule_size[global_idc[1]]\n",
    "\n",
    "# error per molecule\n",
    "error_molecules = qi.calculate_error_atomisation_energy(atomic_energies, molecule_size_test, labels[1])\n",
    "# error_molecules_cspline = qi.calculate_error_atomisation_energy(atomic_energies, molecule_size_test, ref_atomisation_en)\n",
    "\n",
    "error_molecules.mean()"
   ]
  },
  {
   "cell_type": "code",
   "execution_count": null,
   "metadata": {},
   "outputs": [],
   "source": [
    "0.4509086224586748"
   ]
  },
  {
   "cell_type": "code",
   "execution_count": 16,
   "metadata": {},
   "outputs": [
    {
     "data": {
      "text/plain": [
       "'/home/misa/APDFT/prototyping/atomic_energies/results/slice_ve38/dsgdb9nsd_003701/atomic_energies.txt'"
      ]
     },
     "execution_count": 16,
     "metadata": {},
     "output_type": "execute_result"
    }
   ],
   "source": [
    "paths[np.where(error_molecules==np.max(error_molecules))[0][0]]\n",
    "# np.max(error_molecules_cspline)"
   ]
  },
  {
   "cell_type": "code",
   "execution_count": 17,
   "metadata": {},
   "outputs": [],
   "source": [
    "# test calculate_error_atomisation_energy\n",
    "\n",
    "# predict the energies for one molecule ('/home/misa/APDFT/prototyping/atomic_energies/results/slice_ve38/dsgdb9nsd_000275/atomic_energies.txt')\n",
    "# ae = qi.predict_labels(local_reps[qi.get_local_idx([global_idc[1][2]], molecule_size)], rep[0], best_sigma, coeffs)\n",
    "# # subtract the sum of the predicted energies from the sum of the correct atomic energies\n",
    "# np.abs(ae.sum()-alchemy_data[4][:,6].sum())\n",
    "# error_molecules\n",
    "# compare value to the value in error molecules the third element for this random subset both values are the same\n",
    "# indicating that the scheme works correctly"
   ]
  },
  {
   "cell_type": "markdown",
   "metadata": {},
   "source": [
    "# Error Integration"
   ]
  },
  {
   "cell_type": "code",
   "execution_count": 18,
   "metadata": {},
   "outputs": [],
   "source": [
    "trapz= error_molecules"
   ]
  },
  {
   "cell_type": "code",
   "execution_count": 19,
   "metadata": {},
   "outputs": [],
   "source": [
    "cspline = error_molecules_cspline.copy()"
   ]
  },
  {
   "cell_type": "code",
   "execution_count": 20,
   "metadata": {},
   "outputs": [
    {
     "name": "stdout",
     "output_type": "stream",
     "text": [
      "0.4509086224586748\n",
      "0.4509086224586748\n"
     ]
    }
   ],
   "source": [
    "print(cspline.mean())\n",
    "print(trapz.mean())"
   ]
  },
  {
   "cell_type": "code",
   "execution_count": 21,
   "metadata": {},
   "outputs": [
    {
     "data": {
      "text/plain": [
       "Text(0, 0.5, 'Error(trapz) - Error(cspline)')"
      ]
     },
     "execution_count": 21,
     "metadata": {},
     "output_type": "execute_result"
    }
   ],
   "source": [
    "plt.plot(np.arange(len(trapz)),trapz - cspline, 'o')\n",
    "plt.plot(np.arange(len(trapz)), np.zeros(len(trapz)), color='black')\n",
    "plt.xlabel('Molecule ID')\n",
    "plt.ylabel(r'Error(trapz) - Error(cspline)')\n"
   ]
  },
  {
   "cell_type": "markdown",
   "metadata": {},
   "source": [
    "# Error distribution per molecule"
   ]
  },
  {
   "cell_type": "code",
   "execution_count": 24,
   "metadata": {},
   "outputs": [
    {
     "data": {
      "text/plain": [
       "Text(0, 0.5, 'Frequency')"
      ]
     },
     "execution_count": 24,
     "metadata": {},
     "output_type": "execute_result"
    }
   ],
   "source": [
    "# histogram\n",
    "import pandas as pd\n",
    "import matplotlib\n",
    "matplotlib.use('Qt5Agg')\n",
    "from matplotlib import pyplot as plt\n",
    "plt.rcParams.update({'font.size': 22})\n",
    "\n",
    "binwidth = error_molecules.std()/5\n",
    "total_width = np.amax(error_molecules)-np.amin(error_molecules)\n",
    "\n",
    "fhist, axhist = plt.subplots(1,1)\n",
    "axhist.hist(error_molecules, bins = 2*int(total_width/binwidth), edgecolor='black', density=True)\n",
    "s = pd.Series(error_molecules)\n",
    "axhist = s.plot.kde(bw_method=0.07)\n",
    "axhist.set_xlabel('Error per molecule [Ha]')\n",
    "axhist.set_ylabel('Frequency')"
   ]
  },
  {
   "cell_type": "markdown",
   "metadata": {},
   "source": [
    "# Mean distance of validation molecules to training molecules"
   ]
  },
  {
   "cell_type": "code",
   "execution_count": 25,
   "metadata": {},
   "outputs": [],
   "source": [
    "# average distance of validation to training representations\n",
    "mean_d = np.zeros(len(local_idc[1]))\n",
    "\n",
    "for j,i in enumerate(local_idc[1]):\n",
    "    mean_d[j] = qml.distance.l2_distance(rep[0], np.array([local_reps[i]])).mean()"
   ]
  },
  {
   "cell_type": "code",
   "execution_count": 26,
   "metadata": {},
   "outputs": [
    {
     "data": {
      "text/plain": [
       "array([68.30826312, 69.76273813, 68.31539198, ..., 66.42159341,\n",
       "       75.40267779, 75.41466228])"
      ]
     },
     "execution_count": 26,
     "metadata": {},
     "output_type": "execute_result"
    }
   ],
   "source": [
    "mean_d"
   ]
  },
  {
   "cell_type": "code",
   "execution_count": 27,
   "metadata": {},
   "outputs": [],
   "source": [
    "# average distance of validation molecules to training molecules\n",
    "\n",
    "# molecule size of molecules in test set\n",
    "molecule_size_test = molecule_size[global_idc[1]]\n",
    "\n",
    "# sum up atomic energies\n",
    "mean_d_molecule = np.zeros(len(molecule_size_test))\n",
    "start = 0\n",
    "for idx, size in enumerate(molecule_size_test):\n",
    "    mean_d_molecule[idx] = mean_d[start:start+size].sum()/size\n",
    "    start += size"
   ]
  },
  {
   "cell_type": "code",
   "execution_count": 28,
   "metadata": {},
   "outputs": [
    {
     "data": {
      "text/plain": [
       "[<matplotlib.lines.Line2D at 0x7fb7d804f668>]"
      ]
     },
     "execution_count": 28,
     "metadata": {},
     "output_type": "execute_result"
    }
   ],
   "source": [
    "plt.plot(molecule_size_test, error_molecules/molecule_size_test, 'o')"
   ]
  },
  {
   "cell_type": "code",
   "execution_count": 29,
   "metadata": {},
   "outputs": [
    {
     "data": {
      "text/plain": [
       "131.97387739632134"
      ]
     },
     "execution_count": 29,
     "metadata": {},
     "output_type": "execute_result"
    }
   ],
   "source": [
    "\n",
    "local_reps_89 =  qml.representations.generate_atomic_coulomb_matrix(alchemy_data[285][:,0], alchemy_data[285][:,[1,2,3]], size=np.amax(molecule_size), sorting='distance')\n",
    "\n",
    "# average distance of validation to training representations\n",
    "qml.distance.l2_distance(rep[0], np.array(local_reps_89)).mean()"
   ]
  },
  {
   "cell_type": "code",
   "execution_count": 30,
   "metadata": {},
   "outputs": [
    {
     "data": {
      "text/plain": [
       "(11, 210)"
      ]
     },
     "execution_count": 30,
     "metadata": {},
     "output_type": "execute_result"
    }
   ],
   "source": [
    "local_reps_89 =  qml.representations.generate_atomic_coulomb_matrix(alchemy_data[285][:,0], alchemy_data[285][:,[1,2,3]], size=np.amax(molecule_size), sorting='distance')\n",
    "\n",
    "local_reps_89.shape"
   ]
  },
  {
   "cell_type": "markdown",
   "metadata": {},
   "source": [
    "# select similiar molecules with different error"
   ]
  },
  {
   "cell_type": "code",
   "execution_count": 31,
   "metadata": {},
   "outputs": [],
   "source": [
    "# select four molecules around distance = 143\n",
    "sel_y=mean_d_molecule[np.where( (mean_d_molecule<143.5) & (mean_d_molecule>142.3) )]\n",
    "sel_x=trapz[np.where( (mean_d_molecule<143.5) & (mean_d_molecule>142.3) )]"
   ]
  },
  {
   "cell_type": "code",
   "execution_count": 32,
   "metadata": {},
   "outputs": [
    {
     "data": {
      "text/plain": [
       "(array([], dtype=int64),)"
      ]
     },
     "execution_count": 32,
     "metadata": {},
     "output_type": "execute_result"
    }
   ],
   "source": [
    "np.where( (mean_d_molecule<143.5) & (mean_d_molecule>142.3) )"
   ]
  },
  {
   "cell_type": "code",
   "execution_count": 33,
   "metadata": {},
   "outputs": [
    {
     "data": {
      "text/plain": [
       "array([], dtype=float64)"
      ]
     },
     "execution_count": 33,
     "metadata": {},
     "output_type": "execute_result"
    }
   ],
   "source": [
    "sel_x"
   ]
  },
  {
   "cell_type": "code",
   "execution_count": 34,
   "metadata": {},
   "outputs": [
    {
     "data": {
      "text/plain": [
       "array([0.5222294 , 1.19946553, 1.10293152, 1.4159522 ])"
      ]
     },
     "execution_count": 34,
     "metadata": {},
     "output_type": "execute_result"
    }
   ],
   "source": [
    "idx=[0, 72, 229, 424]\n",
    "trapz[idx]"
   ]
  },
  {
   "cell_type": "code",
   "execution_count": 35,
   "metadata": {},
   "outputs": [
    {
     "ename": "IndexError",
     "evalue": "index 0 is out of bounds for axis 0 with size 0",
     "output_type": "error",
     "traceback": [
      "\u001b[0;31m---------------------------------------------------------------------------\u001b[0m",
      "\u001b[0;31mIndexError\u001b[0m                                Traceback (most recent call last)",
      "\u001b[0;32m<ipython-input-35-60d4bcf7856a>\u001b[0m in \u001b[0;36m<module>\u001b[0;34m\u001b[0m\n\u001b[1;32m      3\u001b[0m \u001b[0msmall_error\u001b[0m \u001b[0;34m=\u001b[0m \u001b[0mnp\u001b[0m\u001b[0;34m.\u001b[0m\u001b[0mwhere\u001b[0m\u001b[0;34m(\u001b[0m \u001b[0;34m(\u001b[0m\u001b[0mmean_d_molecule\u001b[0m\u001b[0;34m<\u001b[0m\u001b[0;36m129.5\u001b[0m\u001b[0;34m)\u001b[0m \u001b[0;34m&\u001b[0m \u001b[0;34m(\u001b[0m\u001b[0mmean_d_molecule\u001b[0m\u001b[0;34m>\u001b[0m\u001b[0;36m128\u001b[0m\u001b[0;34m)\u001b[0m \u001b[0;34m&\u001b[0m \u001b[0;34m(\u001b[0m\u001b[0merror_molecules\u001b[0m\u001b[0;34m<\u001b[0m\u001b[0;36m0.01\u001b[0m\u001b[0;34m)\u001b[0m \u001b[0;34m)\u001b[0m\u001b[0;34m\u001b[0m\u001b[0;34m\u001b[0m\u001b[0m\n\u001b[1;32m      4\u001b[0m \u001b[0mnp\u001b[0m\u001b[0;34m.\u001b[0m\u001b[0marray\u001b[0m\u001b[0;34m(\u001b[0m\u001b[0;34m[\u001b[0m\u001b[0mlarge_error\u001b[0m\u001b[0;34m[\u001b[0m\u001b[0;36m0\u001b[0m\u001b[0;34m]\u001b[0m\u001b[0;34m,\u001b[0m\u001b[0msmall_error\u001b[0m\u001b[0;34m[\u001b[0m\u001b[0;36m0\u001b[0m\u001b[0;34m]\u001b[0m\u001b[0;34m]\u001b[0m\u001b[0;34m)\u001b[0m\u001b[0;34m\u001b[0m\u001b[0;34m\u001b[0m\u001b[0m\n\u001b[0;32m----> 5\u001b[0;31m \u001b[0midx_128\u001b[0m\u001b[0;34m=\u001b[0m \u001b[0mnp\u001b[0m\u001b[0;34m.\u001b[0m\u001b[0marray\u001b[0m\u001b[0;34m(\u001b[0m\u001b[0;34m[\u001b[0m\u001b[0msmall_error\u001b[0m\u001b[0;34m[\u001b[0m\u001b[0;36m0\u001b[0m\u001b[0;34m]\u001b[0m\u001b[0;34m[\u001b[0m\u001b[0;36m0\u001b[0m\u001b[0;34m]\u001b[0m\u001b[0;34m,\u001b[0m \u001b[0mlarge_error\u001b[0m\u001b[0;34m[\u001b[0m\u001b[0;36m0\u001b[0m\u001b[0;34m]\u001b[0m\u001b[0;34m[\u001b[0m\u001b[0;36m0\u001b[0m\u001b[0;34m]\u001b[0m\u001b[0;34m,\u001b[0m \u001b[0mlarge_error\u001b[0m\u001b[0;34m[\u001b[0m\u001b[0;36m0\u001b[0m\u001b[0;34m]\u001b[0m\u001b[0;34m[\u001b[0m\u001b[0;36m1\u001b[0m\u001b[0;34m]\u001b[0m\u001b[0;34m]\u001b[0m\u001b[0;34m)\u001b[0m\u001b[0;34m\u001b[0m\u001b[0;34m\u001b[0m\u001b[0m\n\u001b[0m",
      "\u001b[0;31mIndexError\u001b[0m: index 0 is out of bounds for axis 0 with size 0"
     ]
    }
   ],
   "source": [
    "# select 3 molecules around distance = 128 (normalized error)\n",
    "large_error = np.where( (mean_d_molecule<129.5) & (mean_d_molecule>128) & (error_molecules>2) )\n",
    "small_error = np.where( (mean_d_molecule<129.5) & (mean_d_molecule>128) & (error_molecules<0.01) )\n",
    "np.array([large_error[0],small_error[0]])\n",
    "idx_128= np.array([small_error[0][0], large_error[0][0], large_error[0][1]])"
   ]
  },
  {
   "cell_type": "code",
   "execution_count": 39,
   "metadata": {},
   "outputs": [
    {
     "data": {
      "text/plain": [
       "Text(0, 0.5, 'Mean distance of test molecule to the training molecules')"
      ]
     },
     "execution_count": 39,
     "metadata": {},
     "output_type": "execute_result"
    }
   ],
   "source": [
    "fig, ax = plt.subplots(1,1)\n",
    "ax.plot(trapz,mean_d_molecule, 'o')\n",
    "# ax.plot(trapz[idx]/molecule_size_test[idx],mean_d_molecule[idx], 'o')\n",
    "# ax.plot(trapz[idx_128]/molecule_size_test[idx_128],mean_d_molecule[idx_128], 'o')\n",
    "\n",
    "# ax.plot(cspline[idx], mean_d_molecule[idx], 'o', label='cspline integration')\n",
    "h_high = np.zeros(len(np.linspace(-10,10, 20)))\n",
    "h_high.fill(143)\n",
    "h_low = np.zeros(len(np.linspace(-10,10, 20)))\n",
    "h_low.fill(1300)\n",
    "ax.plot(np.linspace(-0,0.5, 20), h_high, color='darkorange')\n",
    "# ax.plot(np.linspace(-0,5, 20), h_low)\n",
    "ax.set_xlabel('Error per molecule [Ha]')\n",
    "ax.set_ylabel('Mean distance of test molecule to the training molecules')"
   ]
  },
  {
   "cell_type": "code",
   "execution_count": 182,
   "metadata": {},
   "outputs": [
    {
     "data": {
      "text/plain": [
       "array([  0,  89, 285, 515])"
      ]
     },
     "execution_count": 182,
     "metadata": {},
     "output_type": "execute_result"
    }
   ],
   "source": [
    "# global index of molecules\n",
    "global_idc[1][idx]"
   ]
  },
  {
   "cell_type": "code",
   "execution_count": 188,
   "metadata": {},
   "outputs": [
    {
     "data": {
      "text/plain": [
       "array([3.70468391, 1.15594204, 0.05434429, 2.33831833])"
      ]
     },
     "execution_count": 188,
     "metadata": {},
     "output_type": "execute_result"
    }
   ],
   "source": [
    "idx=[0, 72, 229, 424]\n",
    "trapz[idx]"
   ]
  },
  {
   "cell_type": "code",
   "execution_count": 37,
   "metadata": {},
   "outputs": [
    {
     "name": "stdout",
     "output_type": "stream",
     "text": [
      "Comopund dsgdb9nsd_002967\n",
      "Error = 164.39049788656334\n",
      "Error per atom = 14.944590716960304\n",
      "Mean distance = 131.97387739632134\n",
      "\n",
      "\n",
      "Comopund dsgdb9nsd_001212\n",
      "Error = 21.679475304025345\n",
      "Error per atom = 1.806622942002112\n",
      "Mean distance = 124.14146840146303\n",
      "\n",
      "\n",
      "Comopund dsgdb9nsd_003886\n",
      "Error = 8.277254076763917\n",
      "Error per atom = 0.8277254076763917\n",
      "Mean distance = 107.67810591276006\n",
      "\n",
      "\n",
      "Comopund dsgdb9nsd_000227\n",
      "Error = 17.62633994275511\n",
      "Error per atom = 1.1016462464221943\n",
      "Mean distance = 136.88548444560212\n",
      "\n",
      "\n"
     ]
    }
   ],
   "source": [
    "# test if selected molecules have indeed same distance but different errors\n",
    "max_size = np.amax(molecule_size)\n",
    "idx_selected = [285, 89, 515, 0]\n",
    "for i in idx_selected:\n",
    "    molecule = alchemy_data[i]\n",
    "    # make rep\n",
    "    rep_selected = qml.representations.generate_atomic_coulomb_matrix(molecule[:,0], molecule[:,[1,2,3]], size=max_size, sorting='distance')\n",
    "    # error per molecule\n",
    "    en_selected = qi.predict_labels(rep_selected, rep[0], best_sigma, coeffs).sum()\n",
    "    error = np.abs(molecule[:,6].sum()-en_selected)\n",
    "    # error normalized by molecule size\n",
    "    error_norml = error/molecule_size[i]\n",
    "    # mean distance to training data\n",
    "    mean_dist = qml.distance.l2_distance(rep_selected, rep[0]).mean()\n",
    "    \n",
    "    print('Comopund {}'.format(paths[i].split('/')[-2]))\n",
    "    print('Error = {}'.format(error))\n",
    "    print('Error per atom = {}'.format(error_norml))\n",
    "    print('Mean distance = {}'.format(mean_dist))\n",
    "    print('\\n')"
   ]
  },
  {
   "cell_type": "code",
   "execution_count": 104,
   "metadata": {},
   "outputs": [
    {
     "name": "stdout",
     "output_type": "stream",
     "text": [
      "Comopund dsgdb9nsd_003335\n",
      "Error = 0.007379768052611091\n",
      "Error per atom = 0.0004919845368407394\n",
      "Mean distance = 128.67216927871743\n",
      "\n",
      "\n",
      "Comopund dsgdb9nsd_009030\n",
      "Error = 2.451976110556201\n",
      "Error per atom = 0.24519761105562007\n",
      "Mean distance = 129.00704793136768\n",
      "\n",
      "\n",
      "Comopund dsgdb9nsd_021325\n",
      "Error = 4.078284198416049\n",
      "Error per atom = 0.4078284198416049\n",
      "Mean distance = 128.60324895674344\n",
      "\n",
      "\n"
     ]
    }
   ],
   "source": [
    "# molecule 128\n",
    "\n",
    "idx_selected = global_idc[1][idx_128]\n",
    "for i in idx_selected:\n",
    "    molecule = alchemy_data[i]\n",
    "    # make rep\n",
    "    rep_selected = qml.representations.generate_atomic_coulomb_matrix(molecule[:,0], molecule[:,[1,2,3]], size=max_size, sorting='distance')\n",
    "    # error per molecule\n",
    "    en_selected = qi.predict_labels(rep_selected, rep[0], best_sigma, coeffs).sum()\n",
    "    error = np.abs(molecule[:,6].sum()-en_selected)\n",
    "    # error normalized by molecule size\n",
    "    error_norml = error/molecule_size[i]\n",
    "    # mean distance to training data\n",
    "    mean_dist = qml.distance.l2_distance(rep_selected, rep[0]).mean()\n",
    "    \n",
    "    print('Comopund {}'.format(paths[i].split('/')[-2]))\n",
    "    print('Error = {}'.format(error))\n",
    "    print('Error per atom = {}'.format(error_norml))\n",
    "    print('Mean distance = {}'.format(mean_dist))\n",
    "    print('\\n')"
   ]
  },
  {
   "cell_type": "markdown",
   "metadata": {},
   "source": [
    "# Error vs mean distance from training data"
   ]
  },
  {
   "cell_type": "code",
   "execution_count": 67,
   "metadata": {},
   "outputs": [
    {
     "data": {
      "text/plain": [
       "Text(0.5, 0, 'Mean distance of test molecule to the training molecules')"
      ]
     },
     "execution_count": 67,
     "metadata": {},
     "output_type": "execute_result"
    }
   ],
   "source": [
    "fig, ax = plt.subplots(1,1)\n",
    "ax.plot(mean_d_molecule, trapz, 'o')\n",
    "ax.set_ylabel('Error per molecule [Ha]')\n",
    "ax.set_xlabel('Mean distance of test molecule to the training molecules')"
   ]
  },
  {
   "cell_type": "code",
   "execution_count": 43,
   "metadata": {},
   "outputs": [
    {
     "data": {
      "text/plain": [
       "[<matplotlib.lines.Line2D at 0x7f7aa5dfe240>]"
      ]
     },
     "execution_count": 43,
     "metadata": {},
     "output_type": "execute_result"
    }
   ],
   "source": [
    "err = trapz-cspline\n",
    "x=np.arange(len(err))\n",
    "plt.plot(mean_d_molecule, err, 'o')"
   ]
  },
  {
   "cell_type": "markdown",
   "metadata": {},
   "source": [
    "# Molecules with biggest Error"
   ]
  },
  {
   "cell_type": "code",
   "execution_count": 12,
   "metadata": {},
   "outputs": [
    {
     "name": "stdout",
     "output_type": "stream",
     "text": [
      "0 /home/misa/APDFT/prototyping/atomic_energies/results/slice_ve38/dsgdb9nsd_000227/atomic_energies_cspline.txt\n",
      "2 /home/misa/APDFT/prototyping/atomic_energies/results/slice_ve38/dsgdb9nsd_000272/atomic_energies_cspline.txt\n",
      "209 /home/misa/APDFT/prototyping/atomic_energies/results/slice_ve38/dsgdb9nsd_002308/atomic_energies_cspline.txt\n",
      "556 /home/misa/APDFT/prototyping/atomic_energies/results/slice_ve38/dsgdb9nsd_021325/atomic_energies_cspline.txt\n"
     ]
    }
   ],
   "source": [
    "# molecules with biggest error\n",
    "error_molecules[np.where(error_molecules>3.0)]\n",
    "idx_largest_error = global_idc[1][np.where(error_molecules>3.0)]\n",
    "\n",
    "#\n",
    "for i in idx_largest_error:\n",
    "    print(i, paths[i])"
   ]
  },
  {
   "cell_type": "markdown",
   "metadata": {},
   "source": [
    "# Error distribution atomic energies"
   ]
  },
  {
   "cell_type": "code",
   "execution_count": 1,
   "metadata": {},
   "outputs": [],
   "source": [
    "import qml\n",
    "import numpy as np\n",
    "import itertools\n",
    "import sys\n",
    "sys.path.insert(0, '/home/misa/APDFT/prototyping/atomic_energies/')\n",
    "from parse_cube_files import CUBE\n",
    "import alchemy_tools as alch\n",
    "import qml_interface as qi\n",
    "import matplotlib\n",
    "matplotlib.use('Qt5Agg')\n",
    "from matplotlib import pyplot as plt\n",
    "plt.rcParams.update({'font.size': 22})"
   ]
  },
  {
   "cell_type": "code",
   "execution_count": 105,
   "metadata": {},
   "outputs": [],
   "source": [
    "# Import data\n",
    "paths=qi.wrapper_alch_data(path='/home/misa/APDFT/prototyping/atomic_energies/results/slice_ve38/finished_abs')\n",
    "alchemy_data, molecule_size = qi.load_alchemy_data(paths)\n",
    "# local data\n",
    "local_reps = qi.generate_atomic_representations(alchemy_data, molecule_size)\n",
    "local_labels = qi.generate_label_vector(alchemy_data, molecule_size.sum(), value='atomisation')\n",
    "\n",
    "# optimized hyperparameters\n",
    "hypar = '/home/misa/APDFT/prototyping/atomic_energies/results/analyse_learning/optimized_hyperparameters.txt'\n",
    "with open(hypar, 'r') as f:\n",
    "    lines = f.readlines()\n",
    "sigma = float(lines[3].split('\\t')[0])\n",
    "lam = float(lines[3].split('\\t')[1])\n",
    "sigma_h = float(lines[4].split('\\t')[0])\n",
    "lam_h = float(lines[4].split('\\t')[1])"
   ]
  },
  {
   "cell_type": "code",
   "execution_count": 106,
   "metadata": {},
   "outputs": [],
   "source": [
    "errors = []\n",
    "nuc_charges = []\n",
    "num_cross = 30\n",
    "tr_set_size = 500\n",
    "\n",
    "for i in range(0, num_cross):\n",
    "    # select random data points\n",
    "    # split data into training and validation set\n",
    "    global_idc_tr, global_idc_val = qi.get_indices(len(molecule_size), tr_set_size)\n",
    "    local_idc_tr, local_idc_val = qi.get_local_idx(global_idc_tr, molecule_size), qi.get_local_idx(global_idc_val, molecule_size)\n",
    "    for idx in global_idc_val:\n",
    "        nuc_charges.extend(alchemy_data[idx][:,0])\n",
    "    \n",
    "    \n",
    "    rep_tr, rep_test = local_reps[local_idc_tr], local_reps[local_idc_val] # select the representations\n",
    "    labels_tr, labels_test = local_labels[local_idc_tr], local_labels[local_idc_val] # select the labels\n",
    "    \n",
    "    # train and predict\n",
    "    coeffs = qi.train_kernel(rep_tr, labels_tr, sigma, lam)\n",
    "    labels_pred = qi.predict_labels(rep_test, rep_tr, sigma, coeffs)\n",
    "    # calculate errors\n",
    "    errors.extend(labels_test - labels_pred)"
   ]
  },
  {
   "cell_type": "markdown",
   "metadata": {},
   "source": [
    "# Crossvalidation only Hydrogen"
   ]
  },
  {
   "cell_type": "code",
   "execution_count": 71,
   "metadata": {
    "scrolled": true
   },
   "outputs": [],
   "source": [
    "# # learn only hydrogen energies from hydrogen\n",
    "# h_errors = []\n",
    "\n",
    "# num_cv = 10\n",
    "# tr_set_size = 500\n",
    "\n",
    "# sigmas = np.logspace(-1, 4, 12).tolist()\n",
    "# lams = np.logspace(-15, 0, 16).tolist()\n",
    "# opt_data = np.zeros((num_cv, len(sigmas)*len(lams), 3))\n",
    "\n",
    "# for i in range(0, num_cv):\n",
    "#     # select random data points\n",
    "#     # split data into training and validation set\n",
    "#     global_idc_tr, global_idc_val = qi.get_indices(len(molecule_size), tr_set_size)\n",
    "#     local_idc_tr, local_idc_val = qi.get_local_idx(global_idc_tr, molecule_size), qi.get_local_idx(global_idc_val, molecule_size)\n",
    "    \n",
    "#     # get indices of hydrogen in training and test set\n",
    "#     nuc_charges_test = []\n",
    "#     for idx in global_idc_val:\n",
    "#         nuc_charges_test.extend(alchemy_data[idx][:,0])\n",
    "#     nuc_charges_test = np.array(nuc_charges_test).astype(int)\n",
    "    \n",
    "#     nuc_charges_tr = []\n",
    "#     for idx in global_idc_tr:\n",
    "#         nuc_charges_tr.extend(alchemy_data[idx][:,0])\n",
    "#     nuc_charges_tr = np.array(nuc_charges_tr).astype(int)\n",
    "    \n",
    "    \n",
    "#     rep_tr, rep_test = local_reps[local_idc_tr], local_reps[local_idc_val] # select the representations\n",
    "#     labels_tr, labels_test = local_labels[local_idc_tr], local_labels[local_idc_val] # select the labels\n",
    "    \n",
    "#     rep_tr_h, rep_test_h = rep_tr[np.where(nuc_charges_tr==1)], rep_test[np.where(nuc_charges_test==1)]\n",
    "#     labels_tr_h, labels_test_h = labels_tr[np.where(nuc_charges_tr==1)], labels_test[np.where(nuc_charges_test==1)]\n",
    "    \n",
    "#     # optimize hyperparamters\n",
    "#     results = qi.optimize_hypar((rep_tr_h, rep_test_h), (labels_tr_h, labels_test_h), sigmas, lams)\n",
    "#     opt_data[i] = results[0]"
   ]
  },
  {
   "cell_type": "code",
   "execution_count": 72,
   "metadata": {},
   "outputs": [],
   "source": [
    "# # find set of hyperparameters with minimum mean error\n",
    "# mean_errors = opt_data.mean(axis=0)[:,2] # mean error for every set of hyper-paramters\n",
    "# std = opt_data.std(axis=0)[:,2]\n",
    "# min_error = np.amin(mean_errors) # minimum mean error\n",
    "# idx_opt = np.where(mean_errors==min_error) # idx of set of hyperparameters with lowest mean error\n",
    "# opt_sigma = opt_data[0][idx_opt][0,0] # sigma value for minimum error\n",
    "# opt_lambda = opt_data[0][idx_opt][0,1] # lambda value for minimum error"
   ]
  },
  {
   "cell_type": "code",
   "execution_count": 94,
   "metadata": {},
   "outputs": [],
   "source": [
    "# learn only hydrogen energies from hydrogen\n",
    "h_errors = []\n",
    "\n",
    "num_cv = 10\n",
    "tr_set_size = 500\n",
    "\n",
    "for i in range(0, num_cv):\n",
    "    # select random data points\n",
    "    # split data into training and validation set\n",
    "    global_idc_tr, global_idc_val = qi.get_indices(len(molecule_size), tr_set_size)\n",
    "    local_idc_tr, local_idc_val = qi.get_local_idx(global_idc_tr, molecule_size), qi.get_local_idx(global_idc_val, molecule_size)\n",
    "    \n",
    "    # get indices of hydrogen in training and test set\n",
    "    nuc_charges_test = []\n",
    "    for idx in global_idc_val:\n",
    "        nuc_charges_test.extend(alchemy_data[idx][:,0])\n",
    "    nuc_charges_test = np.array(nuc_charges_test).astype(int)\n",
    "    \n",
    "    nuc_charges_tr = []\n",
    "    for idx in global_idc_tr:\n",
    "        nuc_charges_tr.extend(alchemy_data[idx][:,0])\n",
    "    nuc_charges_tr = np.array(nuc_charges_tr).astype(int)\n",
    "    \n",
    "    \n",
    "    rep_tr, rep_test = local_reps[local_idc_tr], local_reps[local_idc_val] # select the representations\n",
    "    labels_tr, labels_test = local_labels[local_idc_tr], local_labels[local_idc_val] # select the labels\n",
    "    \n",
    "    rep_tr_h, rep_test_h = rep_tr[np.where(nuc_charges_tr==1)], rep_test[np.where(nuc_charges_test==1)]\n",
    "    labels_tr_h, labels_test_h = labels_tr[np.where(nuc_charges_tr==1)], labels_test[np.where(nuc_charges_test==1)]\n",
    "   \n",
    "    # train and predict\n",
    "    coeffs = qi.train_kernel(rep_tr_h, labels_tr_h, sigma_h, lam_h)\n",
    "    labels_pred = qi.predict_labels(rep_test_h, rep_tr_h, sigma_h, coeffs)\n",
    "    # calculate errors\n",
    "    h_errors.extend(labels_test_h - labels_pred)"
   ]
  },
  {
   "cell_type": "code",
   "execution_count": 87,
   "metadata": {},
   "outputs": [],
   "source": [
    "h_errors = np.array(h_errors)"
   ]
  },
  {
   "cell_type": "code",
   "execution_count": 107,
   "metadata": {},
   "outputs": [],
   "source": [
    "atomic_errors = np.array(errors)\n",
    "nuc_charges = np.array(nuc_charges).astype(int)"
   ]
  },
  {
   "cell_type": "code",
   "execution_count": 120,
   "metadata": {},
   "outputs": [
    {
     "data": {
      "text/plain": [
       "<matplotlib.legend.Legend at 0x7f4543ab1b00>"
      ]
     },
     "execution_count": 120,
     "metadata": {},
     "output_type": "execute_result"
    }
   ],
   "source": [
    "# histogram\n",
    "import pandas as pd\n",
    "import scipy as sp\n",
    "import matplotlib\n",
    "matplotlib.use('Qt5Agg')\n",
    "from matplotlib import pyplot as plt\n",
    "plt.rcParams.update({'font.size': 22})\n",
    "\n",
    "binwidth = atomic_errors.std()/20\n",
    "total_width = np.amax(atomic_errors)-np.amin(atomic_errors)\n",
    "\n",
    "# complete graph\n",
    "fhist, axhist = plt.subplots(1,1)\n",
    "axhist.hist(atomic_errors, bins = int(total_width/binwidth), density=False, label = 'combined error')\n",
    "axhist.set_xlabel('Error per atom [Ha]')\n",
    "axhist.set_ylabel('Frequency')\n",
    "axhist.set_xlim(-0.75,0.75)\n",
    "# axhist.set_ylim(0,20)\n",
    "\n",
    "# split up by element\n",
    "elements = list(set(nuc_charges))\n",
    "elements.sort()\n",
    "\n",
    "for el in elements:\n",
    "    errors_element = atomic_errors[np.where(nuc_charges==el)]\n",
    "\n",
    "    binwidth = atomic_errors.std()/10\n",
    "    total_width = np.amax(atomic_errors)-np.amin(atomic_errors)\n",
    "    axhist.hist(errors_element, bins = int(total_width/binwidth), density=False, label = 'Z = {}'.format(el))\n",
    "    \n",
    "axhist.legend()\n",
    "\n"
   ]
  },
  {
   "cell_type": "code",
   "execution_count": 122,
   "metadata": {},
   "outputs": [
    {
     "name": "stdout",
     "output_type": "stream",
     "text": [
      "Number training points Z = 1: 11458\n",
      "Number training points Z = 6: 8151\n",
      "Number training points Z = 7: 2038\n",
      "Number training points Z = 8: 1788\n"
     ]
    }
   ],
   "source": [
    "for el in elements:\n",
    "    errors_element = atomic_errors[np.where(nuc_charges==el)]\n",
    "    print('Number training points Z = {}: {}'.format(el, len(errors_element)))"
   ]
  },
  {
   "cell_type": "code",
   "execution_count": 121,
   "metadata": {},
   "outputs": [
    {
     "name": "stdout",
     "output_type": "stream",
     "text": [
      "Mean error Z = 1 : 0.022683072608262557 \n",
      "Mean error Z = 6 : 0.026399119228504152 \n",
      "Mean error Z = 7 : 0.02416342475412897 \n",
      "Mean error Z = 8 : 0.03130922331882009 \n",
      "Mean error only hydrogen: 0.02049115737838308\n"
     ]
    }
   ],
   "source": [
    "# Mean errors\n",
    "for el in elements:\n",
    "    errors_element = atomic_errors[np.where(nuc_charges==el)]\n",
    "    print('Mean error Z = {} : {} '.format(el, np.abs(errors_element).mean()))\n",
    "    \n",
    "print('Mean error only hydrogen: {}'.format(np.abs(h_errors).mean()))"
   ]
  },
  {
   "cell_type": "code",
   "execution_count": 109,
   "metadata": {},
   "outputs": [],
   "source": [
    "# only kde distribution function\n",
    "fhist, axhist = plt.subplots(1,1)\n",
    "s = pd.Series(atomic_errors)\n",
    "axhist = s.plot.kde(bw_method=0.1)\n",
    "axhist.set_xlabel('Error per atom [Ha]')\n",
    "axhist.set_xlim(-0.3,0.3)\n",
    "axhist.set_ylabel('Frequency')\n",
    "axhist.set_ylim(0,20)\n",
    "\n",
    "# split up by element\n",
    "for el in set(nuc_charges):\n",
    "    errors_element = atomic_errors[np.where(nuc_charges==el)]\n",
    "\n",
    "    s = pd.Series(errors_element)\n",
    "    axhist = s.plot.kde()"
   ]
  },
  {
   "cell_type": "code",
   "execution_count": 30,
   "metadata": {},
   "outputs": [
    {
     "data": {
      "text/plain": [
       "0.001377106970476065"
      ]
     },
     "execution_count": 30,
     "metadata": {},
     "output_type": "execute_result"
    }
   ],
   "source": [
    "atomic_errors.mean()"
   ]
  },
  {
   "cell_type": "code",
   "execution_count": 116,
   "metadata": {},
   "outputs": [
    {
     "data": {
      "text/plain": [
       "<matplotlib.legend.Legend at 0x7f452d1bec18>"
      ]
     },
     "execution_count": 116,
     "metadata": {},
     "output_type": "execute_result"
    }
   ],
   "source": [
    "# cumulated error distribution function\n",
    "atomic_errors_sorted = atomic_errors.copy()\n",
    "atomic_errors_sorted.sort()\n",
    "\n",
    "fig_cum, ax_cum = plt.subplots(1,1)\n",
    "out = sp.stats.cumfreq(atomic_errors_sorted,20*int(total_width/binwidth))\n",
    "x = np.arange(len(out.cumcount))*out.binsize+(out.lowerlimit+out.binsize/2)\n",
    "ax_cum.plot(x,out.cumcount/np.amax(out.cumcount), label='combined error')\n",
    "\n",
    "# show center for ideal function\n",
    "horizontal_x = np.linspace(np.amin(x), 0.0, 50)\n",
    "horizontal_y = np.array([0.5]*len(horizontal_x))\n",
    "ax_cum.plot(horizontal_x, horizontal_y, '--', color='grey')\n",
    "\n",
    "vertical_y = np.linspace(0.0, 0.5, 50)\n",
    "vertical_x = np.zeros(len(vertical_y))\n",
    "ax_cum.plot(vertical_x, vertical_y, '--', color='grey')\n",
    "ax_cum.scatter(0.0, 0.5, color='grey', marker='x')\n",
    "\n",
    "# plt.xlim(-0.2,0.2)\n",
    "# plt.ylim(0,1)\n",
    "\n",
    "plt.xlabel('Error (Ha)')\n",
    "plt.ylabel('CDF(Error)')\n",
    "\n",
    "# show center of our function\n",
    "x0=np.where(out.cumcount/np.amax(out.cumcount)<0.5)[0][-1]\n",
    "normalized=out.cumcount/np.amax(out.cumcount)\n",
    "m=(normalized[x0+1]-normalized[x0])/(x[x0+1]-x[x0])\n",
    "b = normalized[x0]-m*x[x0]\n",
    "ax_cum.scatter((0.5-b)/m, 0.5, color='red', marker='x')\n",
    "\n",
    "# split up by element\n",
    "elements = list(set(nuc_charges))\n",
    "elements.sort()\n",
    "\n",
    "# split up by element\n",
    "for el in elements:\n",
    "    errors_element = atomic_errors[np.where(nuc_charges==el)]\n",
    "\n",
    "    errors_element_sorted = errors_element.copy()\n",
    "    errors_element_sorted.sort()\n",
    "    \n",
    "    # cumulated error distribution function\n",
    "    out = sp.stats.cumfreq(errors_element_sorted,20*int(total_width/binwidth))\n",
    "    x = np.arange(len(out.cumcount))*out.binsize+(out.lowerlimit+out.binsize/2)\n",
    "    ax_cum.plot(x,out.cumcount/np.amax(out.cumcount), label = 'Z = {}'.format(el) )\n",
    "    \n",
    "    x0=np.where(out.cumcount/np.amax(out.cumcount)<0.5)[0][-1]\n",
    "    normalized=out.cumcount/np.amax(out.cumcount)\n",
    "    m=(normalized[x0+1]-normalized[x0])/(x[x0+1]-x[x0])\n",
    "    b = normalized[x0]-m*x[x0]\n",
    "    ax_cum.scatter((0.5-b)/m, 0.5, color='red', marker='x')\n",
    "    \n",
    "ax_cum.set_xlim(-0.2, 0.2)\n",
    "ax_cum.set_ylim(0, 1.0)\n",
    "ax_cum.legend()"
   ]
  },
  {
   "cell_type": "code",
   "execution_count": 33,
   "metadata": {},
   "outputs": [
    {
     "name": "stdout",
     "output_type": "stream",
     "text": [
      "8 -0.15617902160135344\n",
      "8 0.280493528890851\n",
      "1 -0.7606715243325972\n",
      "1 0.393937035884278\n",
      "6 -0.31361923303495587\n",
      "6 1.0770471856376886\n",
      "7 -0.12186312642192831\n",
      "7 0.15640181369006712\n"
     ]
    }
   ],
   "source": [
    "for el in set(nuc_charges):\n",
    "    print(el, np.amin(atomic_errors[np.where(nuc_charges==el)]))\n",
    "    print(el, np.amax(atomic_errors[np.where(nuc_charges==el)]))"
   ]
  },
  {
   "cell_type": "code",
   "execution_count": 32,
   "metadata": {},
   "outputs": [
    {
     "data": {
      "text/plain": [
       "(0, 20)"
      ]
     },
     "execution_count": 32,
     "metadata": {},
     "output_type": "execute_result"
    }
   ],
   "source": [
    "# zoom in main peak\n",
    "fhist, axhist = plt.subplots(1,1)\n",
    "axhist.hist(atomic_errors, bins = 20*int(total_width/binwidth), density=True)\n",
    "s = pd.Series(atomic_errors)\n",
    "axhist = s.plot.kde(bw_method=0.07)\n",
    "axhist.set_xlabel('Error per atom [Ha]')\n",
    "axhist.set_xlim(-0.1,0.1)\n",
    "axhist.set_ylabel('Frequency')\n",
    "axhist.set_ylim(0,20)\n",
    "# only kde distribution function\n",
    "fhist, axhist = plt.subplots(1,1)\n",
    "s = pd.Series(atomic_errors)\n",
    "axhist = s.plot.kde(bw_method=0.1)\n",
    "axhist.set_xlabel('Error per atom [Ha]')\n",
    "axhist.set_xlim(-0.3,0.3)\n",
    "axhist.set_ylabel('Frequency')\n",
    "axhist.set_ylim(0,20)"
   ]
  },
  {
   "cell_type": "code",
   "execution_count": null,
   "metadata": {},
   "outputs": [],
   "source": []
  }
 ],
 "metadata": {
  "kernelspec": {
   "display_name": "Python (atmoic-energies)",
   "language": "python",
   "name": "atomic-energies"
  },
  "language_info": {
   "codemirror_mode": {
    "name": "ipython",
    "version": 3
   },
   "file_extension": ".py",
   "mimetype": "text/x-python",
   "name": "python",
   "nbconvert_exporter": "python",
   "pygments_lexer": "ipython3",
   "version": "3.7.3"
  }
 },
 "nbformat": 4,
 "nbformat_minor": 2
}
