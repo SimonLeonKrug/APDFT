{
 "cells": [
  {
   "cell_type": "code",
   "execution_count": 8,
   "metadata": {},
   "outputs": [],
   "source": [
    "import numpy as np\n",
    "import numpy\n",
    "import pyscf\n",
    "import pyscf.gto\n",
    "import pyscf.qmmm\n",
    "import pyscf.scf\n",
    "import pyscf.dft\n",
    "import pyscf.lib\n",
    "from pyscf.data import nist\n",
    "import qml\n",
    "\n",
    "angstrom = 1 / 0.52917721067"
   ]
  },
  {
   "cell_type": "code",
   "execution_count": 9,
   "metadata": {},
   "outputs": [
    {
     "data": {
      "text/plain": [
       "2.5384615384615383"
      ]
     },
     "execution_count": 9,
     "metadata": {},
     "output_type": "execute_result"
    }
   ],
   "source": [
    "22/52*6"
   ]
  },
  {
   "cell_type": "code",
   "execution_count": 15,
   "metadata": {},
   "outputs": [
    {
     "name": "stdout",
     "output_type": "stream",
     "text": [
      "System: uname_result(system='Linux', node='pc-avl24', release='4.15.0-108-generic', version='#109-Ubuntu SMP Fri Jun 19 11:33:10 UTC 2020', machine='x86_64', processor='x86_64')  Threads 8\n",
      "Python 3.7.3 (default, Mar 27 2019, 22:11:17) \n",
      "[GCC 7.3.0]\n",
      "numpy 1.16.4  scipy 1.2.1\n",
      "Date: Mon Jul  6 23:24:02 2020\n",
      "PySCF version 1.7.1\n",
      "PySCF path  /home/misa/anaconda3/envs/atomic-energies/lib/python3.7/site-packages/pyscf\n",
      "\n",
      "[CONFIG] conf_file None\n",
      "[INPUT] verbose = 4\n",
      "[INPUT] num. atoms = 12\n",
      "[INPUT] num. electrons = 2\n",
      "[INPUT] charge = 0\n",
      "[INPUT] spin (= nelec alpha-beta = 2S) = 0\n",
      "[INPUT] symmetry False subgroup None\n",
      "[INPUT] Mole.unit = angstrom\n",
      "[INPUT]  1 C     -0.136883959200   1.448579793000   0.011368940800 AA   -0.258673193734   2.737419078349   0.021484184438 Bohr\n",
      "[INPUT]  2 C      0.064357729200  -0.043732595200   0.001817971000 AA    0.121618482187  -0.082642627644   0.003435467292 Bohr\n",
      "[INPUT]  3 O      1.114424575900  -0.629340888600  -0.012303871000 AA    2.105957234936  -1.189281918444  -0.023250946462 Bohr\n",
      "[INPUT]  4 O     -1.135248696300  -0.686743985600   0.009763782500 AA   -2.145309119277  -1.297758050476   0.018450874865 Bohr\n",
      "[INPUT]  5 C     -1.033152198500  -2.113387585300   0.000657206000 AA   -1.952374700157  -3.993723731273   0.001241939347 Bohr\n",
      "[INPUT]  6 C     -2.387438364700  -2.662837133200   0.010737799500 AA   -4.511604648562  -5.032032896070   0.020291500235 Bohr\n",
      "[INPUT]  7 N     -3.441337794300  -3.133628807800   0.017715779200 AA   -6.503185933342  -5.921700222789   0.033477970771 Bohr\n",
      "[INPUT]  8 H      0.833556394000   1.942730205800   0.005411445200 AA    1.575193294040   3.671228022882   0.010226149366 Bohr\n",
      "[INPUT]  9 H     -0.719454128400   1.752185637600  -0.862814629400 AA   -1.359571261864   3.311150974460  -1.630483345834 Bohr\n",
      "[INPUT] 10 H     -0.704166636200   1.743041276700   0.898611613800 AA   -1.330682088474   3.293870636775   1.698129842435 Bohr\n",
      "[INPUT] 11 H     -0.493310839700  -2.454565179600  -0.888753155200 AA   -0.932222381312  -4.638455944338  -1.679500055671 Bohr\n",
      "[INPUT] 12 H     -0.476489531700  -2.464606897800   0.875654367600 AA   -0.900434716135  -4.657432041556   1.654746934543 Bohr\n",
      "\n",
      "nuclear repulsion = 272.530449705102\n",
      "number of shells = 97\n",
      "number of NR pGTOs = 362\n",
      "number of NR cGTOs = 247\n",
      "basis = def2-tzvp\n",
      "ecp = {}\n",
      "CPU time:       173.63\n"
     ]
    }
   ],
   "source": [
    "com = qml.Compound(xyz='/home/misa/datasets/qm9/dsgdb9nsd_001212.xyz')\n",
    "\n",
    "\n",
    "\n",
    "mol = pyscf.gto.Mole()\n",
    "for ch, coords in zip(com.nuclear_charges, com.coordinates):\n",
    "    mol.atom.append([ch, coords])\n",
    "\n",
    "mol.basis = 'def2-tzvp'\n",
    "# print(total_elec - num_elec)\n",
    "mol.verbose = 4\n",
    "mol.nelectron = 2\n",
    "mol.build()\n",
    "mrhf = pyscf.scf.RHF(mol)"
   ]
  },
  {
   "cell_type": "code",
   "execution_count": 20,
   "metadata": {},
   "outputs": [
    {
     "name": "stdout",
     "output_type": "stream",
     "text": [
      "Calculating 2\n",
      "50\n",
      "System: uname_result(system='Linux', node='pc-avl24', release='4.15.0-108-generic', version='#109-Ubuntu SMP Fri Jun 19 11:33:10 UTC 2020', machine='x86_64', processor='x86_64')  Threads 8\n",
      "Python 3.7.3 (default, Mar 27 2019, 22:11:17) \n",
      "[GCC 7.3.0]\n",
      "numpy 1.16.4  scipy 1.2.1\n",
      "Date: Mon Jul  6 23:30:49 2020\n",
      "PySCF version 1.7.1\n",
      "PySCF path  /home/misa/anaconda3/envs/atomic-energies/lib/python3.7/site-packages/pyscf\n",
      "\n",
      "[CONFIG] conf_file None\n",
      "[INPUT] verbose = 4\n",
      "[INPUT] num. atoms = 12\n",
      "[INPUT] num. electrons = 2\n",
      "[INPUT] charge = 50\n",
      "[INPUT] spin (= nelec alpha-beta = 2S) = 0\n",
      "[INPUT] symmetry False subgroup None\n",
      "[INPUT] Mole.unit = angstrom\n",
      "[INPUT]  1 C     -0.136883959200   1.448579793000   0.011368940800 AA   -0.258673193734   2.737419078349   0.021484184438 Bohr\n",
      "[INPUT]  2 C      0.064357729200  -0.043732595200   0.001817971000 AA    0.121618482187  -0.082642627644   0.003435467292 Bohr\n",
      "[INPUT]  3 O      1.114424575900  -0.629340888600  -0.012303871000 AA    2.105957234936  -1.189281918444  -0.023250946462 Bohr\n",
      "[INPUT]  4 O     -1.135248696300  -0.686743985600   0.009763782500 AA   -2.145309119277  -1.297758050476   0.018450874865 Bohr\n",
      "[INPUT]  5 C     -1.033152198500  -2.113387585300   0.000657206000 AA   -1.952374700157  -3.993723731273   0.001241939347 Bohr\n",
      "[INPUT]  6 C     -2.387438364700  -2.662837133200   0.010737799500 AA   -4.511604648562  -5.032032896070   0.020291500235 Bohr\n",
      "[INPUT]  7 N     -3.441337794300  -3.133628807800   0.017715779200 AA   -6.503185933342  -5.921700222789   0.033477970771 Bohr\n",
      "[INPUT]  8 H      0.833556394000   1.942730205800   0.005411445200 AA    1.575193294040   3.671228022882   0.010226149366 Bohr\n",
      "[INPUT]  9 H     -0.719454128400   1.752185637600  -0.862814629400 AA   -1.359571261864   3.311150974460  -1.630483345834 Bohr\n",
      "[INPUT] 10 H     -0.704166636200   1.743041276700   0.898611613800 AA   -1.330682088474   3.293870636775   1.698129842435 Bohr\n",
      "[INPUT] 11 H     -0.493310839700  -2.454565179600  -0.888753155200 AA   -0.932222381312  -4.638455944338  -1.679500055671 Bohr\n",
      "[INPUT] 12 H     -0.476489531700  -2.464606897800   0.875654367600 AA   -0.900434716135  -4.657432041556   1.654746934543 Bohr\n",
      "\n",
      "nuclear repulsion = 272.530449705102\n",
      "number of shells = 97\n",
      "number of NR pGTOs = 362\n",
      "number of NR cGTOs = 247\n",
      "basis = def2-tzvp\n",
      "ecp = {}\n",
      "CPU time:      2016.37\n",
      "\n",
      "\n",
      "******** <class 'pyscf.qmmm.itrf.qmmm_for_scf.<locals>.QMMM'> ********\n",
      "method = QMMM-RHF\n",
      "initial guess = minao\n",
      "damping factor = 0\n",
      "level_shift factor = 0\n",
      "DIIS = <class 'pyscf.scf.diis.CDIIS'>\n",
      "diis_start_cycle = 1\n",
      "diis_space = 8\n",
      "SCF conv_tol = 1e-09\n",
      "SCF conv_tol_grad = None\n",
      "SCF max_cycles = 50\n",
      "direct_scf = True\n",
      "direct_scf_tol = 1e-13\n",
      "chkfile to save SCF result = /home/misa/git_repositories/APDFT/prototyping/atomic_energies/analysis/tmp7tsf4n1u\n",
      "max_memory 4000 MB (current use 206 MB)\n",
      "** Add background charges for <class 'pyscf.scf.hf.RHF'> **\n",
      "Set gradient conv threshold to 3.16228e-05\n",
      "init E= 702.472915728949\n",
      "  HOMO = 6.52351709948211  LUMO = 6.72826112958299\n"
     ]
    },
    {
     "name": "stderr",
     "output_type": "stream",
     "text": [
      "/home/misa/anaconda3/envs/atomic-energies/lib/python3.7/site-packages/pyscf/gto/mole.py:1047: UserWarning: Function mol.dumps drops attribute charge because it is not JSON-serializable\n",
      "  warnings.warn(msg)\n"
     ]
    },
    {
     "name": "stdout",
     "output_type": "stream",
     "text": [
      "cycle= 1 E= 0.740642695328886  delta_E= -702  |g|= 0.585  |ddm|=  836\n",
      "  HOMO = -0.236688626949668  LUMO = -0.149210306217129\n",
      "cycle= 2 E= -0.166381149495714  delta_E= -0.907  |g|= 0.165  |ddm|=  836\n",
      "  HOMO = -0.229732912204457  LUMO = -0.133913320544895\n",
      "cycle= 3 E= -0.174823880766266  delta_E= -0.00844  |g|= 0.153  |ddm|= 0.198\n",
      "  HOMO = -0.22618723497895  LUMO = -0.122680186864529\n",
      "cycle= 4 E= -0.185911112344096  delta_E= -0.0111  |g|= 0.137  |ddm|= 0.284\n",
      "  HOMO = -0.214519259339234  LUMO = -0.0986352417799118\n",
      "cycle= 5 E= -0.203890005049614  delta_E= -0.018  |g|= 0.11  |ddm|= 0.594\n",
      "  HOMO = -0.214069038106361  LUMO = -0.0842302934705603\n",
      "cycle= 6 E= -0.213268898658577  delta_E= -0.00938  |g|= 0.0905  |ddm|= 0.432\n",
      "  HOMO = -0.190929874401075  LUMO = -0.0236314569885834\n",
      "cycle= 7 E= -0.229909345968174  delta_E= -0.0166  |g|= 0.0313  |ddm|= 1.67\n",
      "  HOMO = -0.192629164694698  LUMO = -0.000654678353916344\n",
      "cycle= 8 E= -0.232094721738326  delta_E= -0.00219  |g|= 0.00525  |ddm|= 0.445\n",
      "  HOMO = -0.190740830156745  LUMO = 0.00203649011266056\n",
      "cycle= 9 E= -0.232159167686029  delta_E= -6.44e-05  |g|= 0.000573  |ddm|= 0.211\n",
      "  HOMO = -0.190960989187186  LUMO = 0.00228734027535808\n",
      "cycle= 10 E= -0.232159817796611  delta_E= -6.5e-07  |g|= 6.08e-05  |ddm|= 0.0546\n",
      "  HOMO = -0.190937617032497  LUMO = 0.00227299519012729\n",
      "cycle= 11 E= -0.23215982331178  delta_E= -5.52e-09  |g|= 1.35e-05  |ddm|= 0.00418\n",
      "  HOMO = -0.190950923396117  LUMO = 0.00227313326404113\n",
      "cycle= 12 E= -0.232159823601264  delta_E= -2.89e-10  |g|= 1.82e-06  |ddm|= 0.00161\n",
      "  HOMO = -0.190950002109647  LUMO = 0.00227287263076541\n",
      "Extra cycle  E= -0.232159823606461  delta_E= -5.2e-12  |g|= 5.99e-07  |ddm|= 0.000119\n",
      "converged SCF energy = -0.232159823606461\n",
      "TOTAL_ENERGY -0.2321598236064607\n"
     ]
    }
   ],
   "source": [
    "com = qml.Compound(xyz='/home/misa/datasets/qm9/dsgdb9nsd_001212.xyz')\n",
    "total_elec = com.nuclear_charges.sum()\n",
    "num_elecs = [2]#[22, 30, 38, 44, 52]\n",
    "alchemical_potentials = []\n",
    "e_homo = []\n",
    "e_lumo = []\n",
    "\n",
    "for num_elec in num_elecs:\n",
    "    print(f'Calculating {num_elec}')\n",
    "    lam_val = num_elec/total_elec\n",
    "    # core_elec = com.nuclear_charges.sum() - total_num_ve\n",
    "\n",
    "    mol = pyscf.gto.Mole()\n",
    "    for ch, coords in zip(com.nuclear_charges, com.coordinates):\n",
    "        mol.atom.append([ch, coords])\n",
    "\n",
    "    mol.basis = 'def2-tzvp'\n",
    "    print(total_elec - num_elec)\n",
    "    mol.charge = total_elec - num_elec\n",
    "#     mol.nelectron = num_elec\n",
    "    mol.verbose = 4\n",
    "    mol.build()\n",
    "\n",
    "    method = \"HF\"\n",
    "    if method not in [\"CCSD\", \"HF\"]:\n",
    "        raise NotImplementedError(\"Method %s not supported.\" % method)\n",
    "\n",
    "    deltaZ = -com.nuclear_charges*(1-lam_val)\n",
    "    includeonly = np.arange(len(mol.atom_coords()))\n",
    "\n",
    "\n",
    "    def add_qmmm(calc, mol, deltaZ):\n",
    "        mf = pyscf.qmmm.mm_charge(calc, mol.atom_coords()[includeonly]/ angstrom, deltaZ)\n",
    "\n",
    "        def energy_nuc(self):\n",
    "            q = mol.atom_charges().astype(np.float)\n",
    "            q[includeonly] += deltaZ\n",
    "            return mol.energy_nuc(q)\n",
    "\n",
    "        mf.energy_nuc = energy_nuc.__get__(mf, mf.__class__)\n",
    "\n",
    "        return mf\n",
    "\n",
    "    if method == \"HF\":\n",
    "        calc = add_qmmm(pyscf.scf.RHF(mol), mol, deltaZ)\n",
    "        hfe = calc.kernel(verbose=0)\n",
    "        dm1_ao = calc.make_rdm1()\n",
    "        total_energy = calc.e_tot\n",
    "    if method == \"CCSD\":\n",
    "        calc = add_qmmm(pyscf.scf.RHF(mol), mol, deltaZ)\n",
    "        hfe = calc.kernel(verbose=0)\n",
    "        mycc = pyscf.cc.CCSD(calc).run()\n",
    "        dm1 = mycc.make_rdm1()\n",
    "        dm1_ao = np.einsum(\"pi,ij,qj->pq\", calc.mo_coeff, dm1, calc.mo_coeff.conj())\n",
    "        total_energy = mycc.e_tot\n",
    "\n",
    "    # GRIDLESS, as things should be ############################\n",
    "    # Total energy of SCF run\n",
    "\n",
    "    print(\"TOTAL_ENERGY\", total_energy)\n",
    "\n",
    "    # Electronic EPN from electron density\n",
    "    alch_pot_tmp = []\n",
    "    for site in includeonly:\n",
    "        mol.set_rinv_orig_(mol.atom_coords()[site])\n",
    "#         print(\"ELECTRONIC_EPN\", site, np.matmul(dm1_ao, mol.intor(\"int1e_rinv\")).trace())\n",
    "        alch_pot_tmp.append(np.matmul(dm1_ao, mol.intor(\"int1e_rinv\")).trace())\n",
    "    alchemical_potentials.append(alch_pot_tmp)\n",
    "    \n",
    "    # energy of HOMO and LUMO\n",
    "    nocc = int((total_elec - mol.charge)/2)\n",
    "    e_homo.append(calc.mo_energy[nocc-1])\n",
    "    e_lumo.append(calc.mo_energy[nocc])"
   ]
  },
  {
   "cell_type": "code",
   "execution_count": 19,
   "metadata": {},
   "outputs": [
    {
     "data": {
      "text/plain": [
       "[[0.46489912573415476,\n",
       "  0.6752561816462017,\n",
       "  0.5498145824722707,\n",
       "  0.6996510402289364,\n",
       "  0.622724210717711,\n",
       "  0.4853744748005261,\n",
       "  0.35351764384412754,\n",
       "  0.36053399749821086,\n",
       "  0.3863027335607996,\n",
       "  0.3862965523847989,\n",
       "  0.5007048644328371,\n",
       "  0.5006793398776028]]"
      ]
     },
     "execution_count": 19,
     "metadata": {},
     "output_type": "execute_result"
    }
   ],
   "source": [
    "alchemical_potentials"
   ]
  },
  {
   "cell_type": "code",
   "execution_count": null,
   "metadata": {},
   "outputs": [],
   "source": [
    "e_homo"
   ]
  },
  {
   "cell_type": "code",
   "execution_count": null,
   "metadata": {},
   "outputs": [],
   "source": [
    "e_lumo"
   ]
  },
  {
   "cell_type": "code",
   "execution_count": null,
   "metadata": {},
   "outputs": [],
   "source": [
    "base = '/home/misa/APDFT/prototyping/atomic_energies/results/different_resevoir/pyscf/com_001212/'\n",
    "save_obj(alchemical_potentials, base+'alch_pots')\n",
    "save_obj(e_homo, base+'e_homo')\n",
    "save_obj(e_lumo, base+'e_lumo')"
   ]
  },
  {
   "cell_type": "markdown",
   "metadata": {},
   "source": [
    "### Plot results"
   ]
  },
  {
   "cell_type": "code",
   "execution_count": null,
   "metadata": {},
   "outputs": [],
   "source": [
    "from matplotlib import pyplot as plt\n",
    "import numpy as np\n",
    "import scipy as sp\n",
    "import qml\n",
    "from ase.units import Bohr\n",
    "\n",
    "import sys\n",
    "sys.path.insert(0,'/home/misa/git_repositories/APDFT/prototyping/atomic_energies/')\n",
    "import alchemy_tools2 as at\n",
    "import utils_qm as ut"
   ]
  },
  {
   "cell_type": "code",
   "execution_count": null,
   "metadata": {},
   "outputs": [],
   "source": [
    "# load data\n",
    "com = qml.Compound(xyz='/home/misa/datasets/qm9/dsgdb9nsd_001212.xyz')\n",
    "\n",
    "base = '/home/misa/APDFT/prototyping/atomic_energies/results/different_resevoir/pyscf/com_001212/'\n",
    "alchs = ut.load_obj(base+'alch_pots')\n",
    "alch_pots = np.array(alchs)\n",
    "alch_pots = np.concatenate((np.array([np.zeros(12)]), alch_pots))\n",
    "homos = ut.load_obj(base+'e_homo')\n",
    "homos.insert(0,0.0)\n",
    "homos = np.array(homos)\n",
    "\n",
    "lam_vals = np.array([0, 22, 30, 38, 44, 52])/52"
   ]
  },
  {
   "cell_type": "code",
   "execution_count": null,
   "metadata": {},
   "outputs": [],
   "source": [
    "# # for guido\n",
    "# np.savetxt('/home/misa/APDFT/prototyping/atomic_energies/results/different_resevoir/pyscf/com_001212/alch_pots.txt', alch_pots)\n",
    "# np.savetxt('/home/misa/APDFT/prototyping/atomic_energies/results/different_resevoir/pyscf/com_001212/e_homos.txt', homos)\n",
    "# np.savetxt('/home/misa/APDFT/prototyping/atomic_energies/results/different_resevoir/pyscf/com_001212/lam_vals.txt', lam_vals)"
   ]
  },
  {
   "cell_type": "markdown",
   "metadata": {},
   "source": [
    "### Calculation of atomic energies"
   ]
  },
  {
   "cell_type": "markdown",
   "metadata": {},
   "source": [
    "integrate $\\mu_I$ over lambda"
   ]
  },
  {
   "cell_type": "code",
   "execution_count": null,
   "metadata": {},
   "outputs": [],
   "source": [
    "alch_pots_integrated = []\n",
    "for i in range(alch_pots.shape[1]):\n",
    "    alch_pots_integrated.append(np.trapz(alch_pots[:,i], x=lam_vals, axis=0))"
   ]
  },
  {
   "cell_type": "code",
   "execution_count": null,
   "metadata": {},
   "outputs": [],
   "source": [
    "alch_pots_integrated"
   ]
  },
  {
   "cell_type": "markdown",
   "metadata": {},
   "source": [
    "multiply by nuclear charge"
   ]
  },
  {
   "cell_type": "code",
   "execution_count": null,
   "metadata": {},
   "outputs": [],
   "source": [
    "atomic_energies_without_rep = -(alch_pots_integrated*com.nuclear_charges)"
   ]
  },
  {
   "cell_type": "code",
   "execution_count": null,
   "metadata": {},
   "outputs": [],
   "source": [
    "atomic_energies_without_rep.sum()"
   ]
  },
  {
   "cell_type": "markdown",
   "metadata": {},
   "source": [
    "subtract nuclear repulsion"
   ]
  },
  {
   "cell_type": "code",
   "execution_count": null,
   "metadata": {},
   "outputs": [],
   "source": [
    "nuc_rep_atomic = []\n",
    "for i in lam_vals:\n",
    "    nucs = i*com.nuclear_charges\n",
    "    nuc_rep_atomic.append(at.nuclear_repulsion(nucs, com.coordinates/Bohr))\n",
    "\n",
    "nuc_rep_atomic[-1]"
   ]
  },
  {
   "cell_type": "code",
   "execution_count": null,
   "metadata": {},
   "outputs": [],
   "source": [
    "com.nuclear_charges"
   ]
  },
  {
   "cell_type": "code",
   "execution_count": null,
   "metadata": {},
   "outputs": [],
   "source": [
    "nuc_rep_atomic[-1].sum() + atomic_energies_without_rep.sum()"
   ]
  },
  {
   "cell_type": "code",
   "execution_count": null,
   "metadata": {},
   "outputs": [],
   "source": [
    "52*np.trapz(homos, x=lam_vals, axis=0)"
   ]
  },
  {
   "cell_type": "code",
   "execution_count": null,
   "metadata": {},
   "outputs": [],
   "source": [
    "homos"
   ]
  },
  {
   "cell_type": "code",
   "execution_count": null,
   "metadata": {},
   "outputs": [],
   "source": [
    "nuc_rep_atomic[-1].sum() + atomic_energies_without_rep.sum() + np.trapz(homos, x=lam_vals, axis=0)"
   ]
  },
  {
   "cell_type": "code",
   "execution_count": null,
   "metadata": {},
   "outputs": [],
   "source": [
    "-360.6847443060918 + 358.7"
   ]
  },
  {
   "cell_type": "code",
   "execution_count": null,
   "metadata": {},
   "outputs": [],
   "source": [
    "com.nuclear_charges"
   ]
  },
  {
   "cell_type": "code",
   "execution_count": null,
   "metadata": {},
   "outputs": [],
   "source": [
    "for alch, nuc_charge in alch_pots:"
   ]
  },
  {
   "cell_type": "markdown",
   "metadata": {},
   "source": [
    "calculation of $\\sum_I \\mu_I(\\lambda)$, $\\sum_I E_I(\\lambda)$ and $\\lambda$"
   ]
  },
  {
   "cell_type": "code",
   "execution_count": null,
   "metadata": {},
   "outputs": [],
   "source": [
    "com = qml.Compound(xyz='/home/misa/datasets/qm9/dsgdb9nsd_001212.xyz')\n",
    "total_elec = com.nuclear_charges.sum()\n",
    "\n",
    "alch_pots_sum = []\n",
    "atomic_energies_sum = []\n",
    "for i in alch_pots:\n",
    "    atomic_energies_sum.append((i*com.nuclear_charges).sum())\n",
    "    print((i*com.nuclear_charges).sum())\n",
    "    alch_pots_sum.append(i.sum())\n",
    "\n",
    "alch_pots_sum.insert(0,0.0)  \n",
    "atomic_energies_sum.insert(0,0.0) \n"
   ]
  },
  {
   "cell_type": "markdown",
   "metadata": {},
   "source": [
    "calculation of atomic nuclear repulsion at every lambda $E_{I, \\rm{NN}}(\\lambda)$ and atomic energy with repulsion"
   ]
  },
  {
   "cell_type": "code",
   "execution_count": null,
   "metadata": {},
   "outputs": [],
   "source": [
    "nuc_rep_atomic = []\n",
    "for i in lam_vals:\n",
    "    nucs = i*com.nuclear_charges\n",
    "    nuc_rep_atomic.append(at.nuclear_repulsion(nucs, com.coordinates/Bohr))"
   ]
  },
  {
   "cell_type": "code",
   "execution_count": null,
   "metadata": {},
   "outputs": [],
   "source": [
    "atomic_en_with_nuc_rep = []\n",
    "for alch, nuc_rep, nuc_charge in zip(alch_pots, nuc_rep_atomic):\n",
    "    atomic_minus_nu.append(alch-nuc)\n"
   ]
  },
  {
   "cell_type": "code",
   "execution_count": null,
   "metadata": {},
   "outputs": [],
   "source": [
    "sum_at = []\n",
    "for i in atomic_minus_nu:\n",
    "    sum_at.append(i.sum())"
   ]
  },
  {
   "cell_type": "code",
   "execution_count": null,
   "metadata": {},
   "outputs": [],
   "source": [
    "np.array(sum_at).sum()"
   ]
  },
  {
   "cell_type": "code",
   "execution_count": null,
   "metadata": {},
   "outputs": [],
   "source": [
    "np.trapz(sum_at, x=lam_vals, axis=0)"
   ]
  },
  {
   "cell_type": "code",
   "execution_count": null,
   "metadata": {
    "scrolled": true
   },
   "outputs": [],
   "source": [
    "fig, ax = plt.subplots(1,1)\n",
    "plt.rcParams['font.size'] = 18\n",
    "ax.plot(lam_vals, alch_pots_sum, '-o', label='$\\sum_I \\mu_I$')\n",
    "ax.plot(lam_vals, atomic_energies_sum, '-o', label='$\\sum_I Z_I \\mu_I$')\n",
    "\n",
    "ax.legend()\n",
    "ax.set_ylabel('$\\sum_I \\mathcal{P}_I$')\n",
    "ax.set_xlabel('$\\lambda$')\n",
    "# plt.savefig('/home/misa/projects/Atomic-Energies/figures/different_resevoir/com_001212_alch_pot_atomic_en.png', bbox_inches='tight')"
   ]
  },
  {
   "cell_type": "markdown",
   "metadata": {},
   "source": [
    "- Why is integral over not equal to total energy at lambda=1? Is the nuc-nuc repulsion included?\n",
    "What is the expression for $E(\\lambda)$, what is the integral over the whole path?\n",
    "- When/How to add e homo? For every lambda or only lambda = 1?\n",
    "- Are there still some bugs in the code?\n",
    "- Are the EPN's equal to the alchemical potential or the atomic energy?\n",
    "- Calculate some lower values for lambda?"
   ]
  },
  {
   "cell_type": "markdown",
   "metadata": {},
   "source": [
    "Plots vs $\\lambda$:\n",
    "- $E(\\lambda)$ \n",
    "- $\\sum_I \\mu_I(\\lambda)$\n",
    "- $\\sum_I E_I(\\lambda)$\n",
    "- $\\int_0^\\lambda E_I(\\lambda') d\\lambda'$"
   ]
  },
  {
   "cell_type": "code",
   "execution_count": null,
   "metadata": {},
   "outputs": [],
   "source": [
    "# com = qml.Compound(xyz='/home/misa/datasets/qm9/dsgdb9nsd_001212.xyz')\n",
    "# total_elec = com.nuclear_charges.sum()\n",
    "# total_num_ve = 38\n",
    "# num_ves = [8, 16, 24, 30, 38]\n",
    "# alchemical_potentials = []\n",
    "# e_homo = []\n",
    "# e_lumo = []\n",
    "\n",
    "# for num_ve in num_ves:\n",
    "#     print(f'Calculating {num_ve}')\n",
    "#     lam_val = num_ve/total_num_ve\n",
    "#     # core_elec = com.nuclear_charges.sum() - total_num_ve\n",
    "\n",
    "#     mol = pyscf.gto.Mole()\n",
    "#     for ch, coords in zip(com.nuclear_charges, com.coordinates):\n",
    "#         mol.atom.append([ch, coords])\n",
    "\n",
    "#     mol.basis = 'def2-tzvp'\n",
    "#     mol.charge = total_num_ve - num_ve\n",
    "#     mol.verbose = 0\n",
    "#     mol.build()\n",
    "\n",
    "#     method = \"HF\"\n",
    "#     if method not in [\"CCSD\", \"HF\"]:\n",
    "#         raise NotImplementedError(\"Method %s not supported.\" % method)\n",
    "\n",
    "#     deltaZ = -com.nuclear_charges*(1-lam_val)\n",
    "#     includeonly = np.arange(len(mol.atom_coords()))\n",
    "\n",
    "\n",
    "#     def add_qmmm(calc, mol, deltaZ):\n",
    "#         mf = pyscf.qmmm.mm_charge(calc, mol.atom_coords()[includeonly]/ angstrom, deltaZ)\n",
    "\n",
    "#         def energy_nuc(self):\n",
    "#             q = mol.atom_charges().astype(np.float)\n",
    "#             q[includeonly] += deltaZ\n",
    "#             return mol.energy_nuc(q)\n",
    "\n",
    "#         mf.energy_nuc = energy_nuc.__get__(mf, mf.__class__)\n",
    "\n",
    "#         return mf\n",
    "\n",
    "#     if method == \"HF\":\n",
    "#         calc = add_qmmm(pyscf.scf.RHF(mol), mol, deltaZ)\n",
    "#         hfe = calc.kernel(verbose=0)\n",
    "#         dm1_ao = calc.make_rdm1()\n",
    "#         total_energy = calc.e_tot\n",
    "#     if method == \"CCSD\":\n",
    "#         calc = add_qmmm(pyscf.scf.RHF(mol), mol, deltaZ)\n",
    "#         hfe = calc.kernel(verbose=0)\n",
    "#         mycc = pyscf.cc.CCSD(calc).run()\n",
    "#         dm1 = mycc.make_rdm1()\n",
    "#         dm1_ao = np.einsum(\"pi,ij,qj->pq\", calc.mo_coeff, dm1, calc.mo_coeff.conj())\n",
    "#         total_energy = mycc.e_tot\n",
    "\n",
    "#     # GRIDLESS, as things should be ############################\n",
    "#     # Total energy of SCF run\n",
    "\n",
    "#     print(\"TOTAL_ENERGY\", total_energy)\n",
    "\n",
    "#     # Electronic EPN from electron density\n",
    "#     alch_pot_tmp = []\n",
    "#     for site in includeonly:\n",
    "#         mol.set_rinv_orig_(mol.atom_coords()[site])\n",
    "# #         print(\"ELECTRONIC_EPN\", site, np.matmul(dm1_ao, mol.intor(\"int1e_rinv\")).trace())\n",
    "#         alch_pot_tmp.append(np.matmul(dm1_ao, mol.intor(\"int1e_rinv\")).trace())\n",
    "#     alchemical_potentials.append(alch_pot_tmp)\n",
    "    \n",
    "#     # energy of HOMO and LUMO\n",
    "#     nocc = int((total_elec - mol.charge)/2)\n",
    "#     e_homo.append(calc.mo_energy[nocc-1])\n",
    "#     e_lumo.append(calc.mo_energy[nocc])"
   ]
  }
 ],
 "metadata": {
  "kernelspec": {
   "display_name": "Python [conda env:atomic-energies]",
   "language": "python",
   "name": "conda-env-atomic-energies-py"
  },
  "language_info": {
   "codemirror_mode": {
    "name": "ipython",
    "version": 3
   },
   "file_extension": ".py",
   "mimetype": "text/x-python",
   "name": "python",
   "nbconvert_exporter": "python",
   "pygments_lexer": "ipython3",
   "version": "3.7.3"
  }
 },
 "nbformat": 4,
 "nbformat_minor": 2
}
