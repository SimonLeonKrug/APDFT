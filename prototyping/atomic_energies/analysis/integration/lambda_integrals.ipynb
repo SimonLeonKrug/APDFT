{
 "cells": [
  {
   "cell_type": "code",
   "execution_count": 2,
   "metadata": {},
   "outputs": [],
   "source": [
    "import matplotlib\n",
    "matplotlib.use('Qt5Agg')\n",
    "from matplotlib import pyplot as plt\n",
    "plt.rcParams.update({'font.size': 22})\n",
    "import numpy as np\n",
    "import sys\n",
    "sys.path.insert(0, '/home/misa/APDFT/prototyping/atomic_energies/')\n",
    "from parse_cube_files import CUBE"
   ]
  },
  {
   "cell_type": "markdown",
   "metadata": {},
   "source": [
    "# dsgdb9nsd_002626"
   ]
  },
  {
   "cell_type": "code",
   "execution_count": 3,
   "metadata": {},
   "outputs": [],
   "source": [
    "ve38 = CUBE(r'/home/misa/APDFT/prototyping/atomic_energies/results/test_calculations/lambda_integrals/dsgdb9nsd_002626/DENS_38.cube')\n",
    "ve30 = CUBE(r'/home/misa/APDFT/prototyping/atomic_energies/results/test_calculations/lambda_integrals/dsgdb9nsd_002626/DENS_30.cube')\n",
    "ve23 = CUBE(r'/home/misa/APDFT/prototyping/atomic_energies/results/test_calculations/lambda_integrals/dsgdb9nsd_002626/DENS_23.cube')\n",
    "ve15 = CUBE(r'/home/misa/APDFT/prototyping/atomic_energies/results/test_calculations/lambda_integrals/dsgdb9nsd_002626/DENS_15.cube')\n",
    "ve8 = CUBE(r'/home/misa/APDFT/prototyping/atomic_energies/results/test_calculations/lambda_integrals/dsgdb9nsd_002626/DENS_8.cube')\n",
    "ve0 = CUBE(r'/home/misa/APDFT/prototyping/atomic_energies/results/test_calculations/lambda_integrals/free_electron_gas.cube')"
   ]
  },
  {
   "cell_type": "code",
   "execution_count": 18,
   "metadata": {},
   "outputs": [],
   "source": [
    "import sys\n",
    "sys.path.insert(0, '/home/misa/APDFT/prototyping/atomic_energies/')\n",
    "from alchemy_tools import atomic_energy_decomposition\n",
    "p38 = '/home/misa/APDFT/prototyping/atomic_energies/results/test_calculations/lambda_integrals/dsgdb9nsd_002626/DENS_38.cube'\n",
    "p30 = '/home/misa/APDFT/prototyping/atomic_energies/results/test_calculations/lambda_integrals/dsgdb9nsd_002626/DENS_30.cube'\n",
    "p23 = '/home/misa/APDFT/prototyping/atomic_energies/results/test_calculations/lambda_integrals/dsgdb9nsd_002626/DENS_23.cube'\n",
    "p15 = '/home/misa/APDFT/prototyping/atomic_energies/results/test_calculations/lambda_integrals/dsgdb9nsd_002626/DENS_15.cube'\n",
    "p8 = '/home/misa/APDFT/prototyping/atomic_energies/results/test_calculations/lambda_integrals/dsgdb9nsd_002626/DENS_8.cube'\n",
    "p0 = '/home/misa/APDFT/prototyping/atomic_energies/results/test_calculations/lambda_integrals/free_electron_gas.cube'\n",
    "cubes = [(p0, 0), (p8, 8/38), (p15, 15/38), (p23, 23/38), (p30, 30/38), (p38, 1)]\n",
    "# ae, alchpots = atomic_energy_decomposition(cubes)\n",
    "atomic_energy_decomposition(cubes, '/home/misa/APDFT/prototyping/atomic_energies/results/test_calculations/lambda_integrals/output')"
   ]
  },
  {
   "cell_type": "code",
   "execution_count": 4,
   "metadata": {},
   "outputs": [
    {
     "name": "stdout",
     "output_type": "stream",
     "text": [
      "[-52.41941963 -38.81593713 -39.49926896 -39.88880231 -38.57914187\n",
      " -36.29823107 -32.4020716   -5.39594217  -5.70814393  -5.64600143\n",
      "  -5.78079931  -5.79580329  -5.5379296   -5.53118386  -4.54357057]\n"
     ]
    }
   ],
   "source": [
    "print(ae)"
   ]
  },
  {
   "cell_type": "markdown",
   "metadata": {},
   "source": [
    "# Integration"
   ]
  },
  {
   "cell_type": "code",
   "execution_count": 5,
   "metadata": {},
   "outputs": [],
   "source": [
    "from alchemy_tools import integrate_lambda_density, calculate_atomic_energies, calculate_alchemical_potential"
   ]
  },
  {
   "cell_type": "code",
   "execution_count": 6,
   "metadata": {},
   "outputs": [],
   "source": [
    "lambda_densities = [ve0, ve8, ve15, ve23, ve30, ve38]\n",
    "density_arrays = []\n",
    "for dens in lambda_densities:\n",
    "    dens.scale()\n",
    "    density_arrays.append(dens.data_scaled)\n",
    "lam_vals = [0, 8/38, 15/38, 23/38, 30/38, 1]"
   ]
  },
  {
   "cell_type": "code",
   "execution_count": 7,
   "metadata": {},
   "outputs": [],
   "source": [
    "av_dens = integrate_lambda_density(density_arrays, lam_vals)"
   ]
  },
  {
   "cell_type": "markdown",
   "metadata": {},
   "source": [
    "# Plots"
   ]
  },
  {
   "cell_type": "code",
   "execution_count": 8,
   "metadata": {},
   "outputs": [
    {
     "data": {
      "text/plain": [
       "<matplotlib.legend.Legend at 0x7f8505772668>"
      ]
     },
     "execution_count": 8,
     "metadata": {},
     "output_type": "execute_result"
    }
   ],
   "source": [
    "# projection on line\n",
    "x = np.linspace(0, 20, 175)\n",
    "sa = (1,2)\n",
    "av_dens_1D = av_dens.sum(axis=sa)\n",
    "pd_1D = [ve38.project(sa), ve30.project(sa), ve23.project(sa), ve15.project(sa), ve8.project(sa), ve0.project(sa), av_dens_1D]\n",
    "label = [r'$\\rho(\\lambda = 1.0)$',r'$\\rho(\\lambda \\approx 0.79)$', r'$\\rho(\\lambda \\approx 0.61)$', r'$\\rho(\\lambda \\approx 0.39)$', r'$\\rho(\\lambda \\approx 0.21)$', r'$\\rho(\\lambda = 0)$', r'$\\tilde{\\rho} \\approx \\int_0^1 d\\lambda \\rho(\\lambda, r)$']\n",
    "fig, ax = plt.subplots(1,1)\n",
    "for idx, pd in enumerate(pd_1D):\n",
    "    # bigger linewidth for lambda-averaged density\n",
    "    if idx == len(pd_1D)-1:\n",
    "        ax.plot(x, pd, '--', label=label[idx])\n",
    "    else:\n",
    "        ax.plot(x, pd, label=label[idx])\n",
    "\n",
    "ax.set_title('Boxsize = 20 Ang')\n",
    "ax.set_xlabel('Cell coordinate (Ang)')\n",
    "ax.set_xlim(0.5, 19.5)\n",
    "ax.set_ylabel(r'Projected Density $\\rho(x_0)$ (Bohr$^{-3}$) ')\n",
    "\n",
    "ax.legend()"
   ]
  },
  {
   "cell_type": "markdown",
   "metadata": {},
   "source": [
    "# Alchemical Potential and Atomic Energies"
   ]
  },
  {
   "cell_type": "code",
   "execution_count": 9,
   "metadata": {},
   "outputs": [],
   "source": [
    "nuclei = ve38.atoms\n",
    "meshgrid = ve38.get_grid()\n",
    "meshgrid_xyz = np.vstack([_.flatten() for _ in meshgrid]).T"
   ]
  },
  {
   "cell_type": "code",
   "execution_count": 10,
   "metadata": {},
   "outputs": [],
   "source": [
    "nuc=np.array(ve38.atoms)[0][1:].T"
   ]
  },
  {
   "cell_type": "code",
   "execution_count": 11,
   "metadata": {},
   "outputs": [
    {
     "data": {
      "text/plain": [
       "array([14.673877, 14.892382, 22.556505])"
      ]
     },
     "execution_count": 11,
     "metadata": {},
     "output_type": "execute_result"
    }
   ],
   "source": [
    "np.array(ve38.atoms)[0][1:4]"
   ]
  },
  {
   "cell_type": "code",
   "execution_count": 12,
   "metadata": {},
   "outputs": [
    {
     "data": {
      "text/plain": [
       "-6.552427453817083"
      ]
     },
     "execution_count": 12,
     "metadata": {},
     "output_type": "execute_result"
    }
   ],
   "source": [
    "calculate_alchemical_potential(av_dens, meshgrid, nuc)"
   ]
  },
  {
   "cell_type": "code",
   "execution_count": 13,
   "metadata": {},
   "outputs": [],
   "source": [
    "# %timeit atomic_energies = get_atomic_energies(av_dens, nuclei, meshgrid)\n",
    "atomic_energies = calculate_atomic_energies(av_dens, nuclei, meshgrid)"
   ]
  },
  {
   "cell_type": "code",
   "execution_count": 14,
   "metadata": {},
   "outputs": [],
   "source": [
    "# %timeit dist_gpt_nuc = np.linalg.norm(meshgrid_xyz - nuclei[0][1:], axis=1)\n",
    "#(density.flatten()/dist_gpt_nuc).sum()\n"
   ]
  },
  {
   "cell_type": "code",
   "execution_count": 15,
   "metadata": {},
   "outputs": [
    {
     "data": {
      "text/plain": [
       "(array([-52.41941963, -38.81593713, -39.49926896, -39.88880231,\n",
       "        -38.57914187, -36.29823107, -32.4020716 ,  -5.39594217,\n",
       "         -5.70814393,  -5.64600143,  -5.78079931,  -5.79580329,\n",
       "         -5.5379296 ,  -5.53118386,  -4.54357057]),\n",
       " array([-6.55242745, -6.46932286, -6.58321149, -6.64813372, -6.42985698,\n",
       "        -6.04970518, -5.40034527, -5.39594217, -5.70814393, -5.64600143,\n",
       "        -5.78079931, -5.79580329, -5.5379296 , -5.53118386, -4.54357057]))"
      ]
     },
     "execution_count": 15,
     "metadata": {},
     "output_type": "execute_result"
    }
   ],
   "source": [
    "atomic_energies"
   ]
  },
  {
   "cell_type": "markdown",
   "metadata": {},
   "source": [
    "# Atomisation Energies"
   ]
  },
  {
   "cell_type": "code",
   "execution_count": 1,
   "metadata": {},
   "outputs": [],
   "source": [
    "import sys\n",
    "sys.path.insert(0, '/home/misa/APDFT/prototyping/atomic_energies/')\n",
    "from alchemy_tools import atomic_energy_decomposition\n",
    "p38 = '/home/misa/APDFT/prototyping/atomic_energies/results/test_calculations/lambda_integrals/dsgdb9nsd_002626/DENS_38.cube'\n",
    "p30 = '/home/misa/APDFT/prototyping/atomic_energies/results/test_calculations/lambda_integrals/dsgdb9nsd_002626/DENS_30.cube'\n",
    "p23 = '/home/misa/APDFT/prototyping/atomic_energies/results/test_calculations/lambda_integrals/dsgdb9nsd_002626/DENS_23.cube'\n",
    "p15 = '/home/misa/APDFT/prototyping/atomic_energies/results/test_calculations/lambda_integrals/dsgdb9nsd_002626/DENS_15.cube'\n",
    "p8 = '/home/misa/APDFT/prototyping/atomic_energies/results/test_calculations/lambda_integrals/dsgdb9nsd_002626/DENS_8.cube'\n",
    "p0 = '/home/misa/APDFT/prototyping/atomic_energies/results/test_calculations/lambda_integrals/free_electron_gas.cube'\n",
    "cubes = [(p0, 0), (p8, 8/38), (p15, 15/38), (p23, 23/38), (p30, 30/38), (p38, 1)]\n",
    "# cubes = [(p0, 0)]\n",
    "# atomic energies and alchemical potentials\n",
    "nuclei, ae, ap = atomic_energy_decomposition(cubes, '/home/misa/APDFT/prototyping/atomic_energies/results/test_calculations/lambda_integrals/output')"
   ]
  },
  {
   "cell_type": "code",
   "execution_count": 2,
   "metadata": {},
   "outputs": [
    {
     "name": "stdout",
     "output_type": "stream",
     "text": [
      "[[ 8.       14.673877 14.892382 22.556505]\n",
      " [ 6.       15.987601 15.23968  20.733272]\n",
      " [ 6.       18.417982 16.742994 20.722894]\n",
      " [ 6.       18.355279 18.881106 18.757507]\n",
      " [ 6.       20.904635 20.281293 18.574689]\n",
      " [ 6.       20.870138 22.316401 16.719434]\n",
      " [ 6.       20.787734 23.981867 15.177496]\n",
      " [ 1.       15.461396 14.442354 18.85286 ]\n",
      " [ 1.       18.756163 17.463877 22.630985]\n",
      " [ 1.       19.958001 15.428753 20.248224]\n",
      " [ 1.       17.872555 18.116434 16.893851]\n",
      " [ 1.       16.869849 20.238529 19.241177]\n",
      " [ 1.       21.40558  21.047592 20.43611 ]\n",
      " [ 1.       22.399672 18.92563  18.092346]\n",
      " [ 1.       20.738454 25.460024 13.821571]] \n",
      " [-52.41941963 -38.81593713 -39.49926896 -39.88880231 -38.57914187\n",
      " -36.29823107 -32.4020716   -5.39594217  -5.70814393  -5.64600143\n",
      "  -5.78079931  -5.79580329  -5.5379296   -5.53118386  -4.54357057] \n",
      " [-6.55242745 -6.46932286 -6.58321149 -6.64813372 -6.42985698 -6.04970518\n",
      " -5.40034527 -5.39594217 -5.70814393 -5.64600143 -5.78079931 -5.79580329\n",
      " -5.5379296  -5.53118386 -4.54357057]\n"
     ]
    }
   ],
   "source": [
    "print(nuclei, '\\n', ae, '\\n', ap)"
   ]
  },
  {
   "cell_type": "code",
   "execution_count": 4,
   "metadata": {},
   "outputs": [],
   "source": [
    "from explore_qml_data import get_property, get_free_atom_data\n",
    "from alchemy_tools import get_free_atom_energies\n",
    "# total energy from B3LYP\n",
    "total_energy = get_property('/home/misa/datasets/qm9/dsgdb9nsd_002626.xyz', 'U0')\n",
    "# energies of the free atoms in qm9\n",
    "free_atoms = get_free_atom_data()\n",
    "# free atom energy for every atom in compound\n",
    "free_en = get_free_atom_energies(nuclei[:,0], free_atoms)"
   ]
  },
  {
   "cell_type": "code",
   "execution_count": 5,
   "metadata": {},
   "outputs": [
    {
     "name": "stdout",
     "output_type": "stream",
     "text": [
      "-308.496367 \n",
      " {'H': -0.500273, 'C': -37.846772, 'N': -54.583861, 'O': -75.064579, 'F': -99.71873} \n",
      " [-75.064579 -37.846772 -37.846772 -37.846772 -37.846772 -37.846772\n",
      " -37.846772  -0.500273  -0.500273  -0.500273  -0.500273  -0.500273\n",
      "  -0.500273  -0.500273  -0.500273]\n"
     ]
    }
   ],
   "source": [
    "print(total_energy, '\\n', free_atoms, '\\n', free_en)"
   ]
  },
  {
   "cell_type": "code",
   "execution_count": 6,
   "metadata": {},
   "outputs": [
    {
     "data": {
      "text/plain": [
       "array([23.53488468, -0.07943982, -0.76277164, -1.152305  ,  0.15735545,\n",
       "        2.43826624,  6.33442572, -4.00594386, -4.31814562, -4.25600311,\n",
       "       -4.39080099, -4.40580498, -4.14793128, -4.14118554, -3.15357225])"
      ]
     },
     "execution_count": 6,
     "metadata": {},
     "output_type": "execute_result"
    }
   ],
   "source": [
    "from alchemy_tools import calculate_atomisation_energies \n",
    "# calculate atomisation energies\n",
    "at=calculate_atomisation_energies(ae, total_energy, free_en)\n",
    "at"
   ]
  },
  {
   "cell_type": "code",
   "execution_count": 7,
   "metadata": {},
   "outputs": [
    {
     "name": "stdout",
     "output_type": "stream",
     "text": [
      "Atomisation energy decomposition = -2.348972\n",
      "Atomisation energy qm9 = -2.348972 \n"
     ]
    }
   ],
   "source": [
    "print('Atomisation energy decomposition = %f' %calculate_atomisation_energies(ae, total_energy, free_en).sum())\n",
    "print('Atomisation energy qm9 = %f ' % (total_energy - (free_atoms['O']+6*free_atoms['C']+8*free_atoms['H'])) )"
   ]
  },
  {
   "cell_type": "code",
   "execution_count": 26,
   "metadata": {
    "scrolled": true
   },
   "outputs": [
    {
     "data": {
      "text/plain": [
       "array([[ 7.7650813 ,  7.88070917, 11.9363884 ],\n",
       "       [ 8.4602741 ,  8.06449135, 10.97157504],\n",
       "       [ 9.74637634,  8.86001086, 10.96608324],\n",
       "       [ 9.71319534,  9.99145101,  9.92604523],\n",
       "       [11.06225644, 10.73239806,  9.82930211],\n",
       "       [11.04400141, 11.80933083,  8.84754345],\n",
       "       [11.00039509, 12.69065748,  8.031585  ],\n",
       "       [ 8.18181841,  7.6425646 ,  9.97650387],\n",
       "       [ 9.92533402,  9.24148572, 11.97580151],\n",
       "       [10.5613193 ,  8.16454448, 10.7148987 ],\n",
       "       [ 9.4577488 ,  9.58680401,  8.93984095],\n",
       "       [ 8.92713964, 10.70976832, 10.18199237],\n",
       "       [11.32734511, 11.13790602, 10.81432368],\n",
       "       [11.85339595, 10.01501209,  9.57405719],\n",
       "       [10.97431724, 13.47286448,  7.31406039]])"
      ]
     },
     "execution_count": 26,
     "metadata": {},
     "output_type": "execute_result"
    }
   ],
   "source": [
    "from ase.units import Bohr\n",
    "nuclei[:,[1,2,3]]*Bohr"
   ]
  },
  {
   "cell_type": "code",
   "execution_count": 32,
   "metadata": {},
   "outputs": [
    {
     "data": {
      "text/plain": [
       "array([[  8.        , -52.41941963,  23.53488468],\n",
       "       [  6.        , -38.81593713,  -0.07943982],\n",
       "       [  6.        , -39.49926896,  -0.76277164],\n",
       "       [  6.        , -39.88880231,  -1.152305  ],\n",
       "       [  6.        , -38.57914187,   0.15735545],\n",
       "       [  6.        , -36.29823107,   2.43826624],\n",
       "       [  6.        , -32.4020716 ,   6.33442572],\n",
       "       [  1.        ,  -5.39594217,  -4.00594386],\n",
       "       [  1.        ,  -5.70814393,  -4.31814562],\n",
       "       [  1.        ,  -5.64600143,  -4.25600311],\n",
       "       [  1.        ,  -5.78079931,  -4.39080099],\n",
       "       [  1.        ,  -5.79580329,  -4.40580498],\n",
       "       [  1.        ,  -5.5379296 ,  -4.14793128],\n",
       "       [  1.        ,  -5.53118386,  -4.14118554],\n",
       "       [  1.        ,  -4.54357057,  -3.15357225]])"
      ]
     },
     "execution_count": 32,
     "metadata": {},
     "output_type": "execute_result"
    }
   ],
   "source": [
    "import numpy as np\n",
    "np.array([nuclei[:,0],ae,at]).T"
   ]
  }
 ],
 "metadata": {
  "kernelspec": {
   "display_name": "Python [conda env:atomic-energies]",
   "language": "python",
   "name": "conda-env-atomic-energies-py"
  },
  "language_info": {
   "codemirror_mode": {
    "name": "ipython",
    "version": 3
   },
   "file_extension": ".py",
   "mimetype": "text/x-python",
   "name": "python",
   "nbconvert_exporter": "python",
   "pygments_lexer": "ipython3",
   "version": "3.7.3"
  }
 },
 "nbformat": 4,
 "nbformat_minor": 2
}
