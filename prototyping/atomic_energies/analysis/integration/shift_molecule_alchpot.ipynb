{
 "cells": [
  {
   "cell_type": "code",
   "execution_count": 1,
   "metadata": {},
   "outputs": [],
   "source": [
    "# calculate alchpot for every cube file along axis\n",
    "# plot \\mu vs shift"
   ]
  },
  {
   "cell_type": "code",
   "execution_count": 2,
   "metadata": {},
   "outputs": [],
   "source": [
    "import sys\n",
    "sys.path.insert(0, '/home/misa/git_repositories/APDFT/prototyping/atomic_energies/')\n",
    "import alchemy_tools2 as at\n",
    "from parse_density_files import CUBE\n",
    "import glob\n",
    "import numpy as np\n",
    "from matplotlib import pyplot as plt"
   ]
  },
  {
   "cell_type": "code",
   "execution_count": 5,
   "metadata": {},
   "outputs": [],
   "source": [
    "cube_paths = glob.glob('/home/misa/APDFT/prototyping/atomic_energies/results/slice_ve38/dsgdb9nsd_001212/shift_molecule/shift_*')\n",
    "cube_paths.sort()\n",
    "# cube_paths"
   ]
  },
  {
   "cell_type": "markdown",
   "metadata": {},
   "source": [
    "### calculate alchemical potentials"
   ]
  },
  {
   "cell_type": "code",
   "execution_count": 4,
   "metadata": {},
   "outputs": [
    {
     "ename": "AttributeError",
     "evalue": "'CUBE' object has no attribute 'get_hmatrix'",
     "output_type": "error",
     "traceback": [
      "\u001b[0;31m---------------------------------------------------------------------------\u001b[0m",
      "\u001b[0;31mAttributeError\u001b[0m                            Traceback (most recent call last)",
      "\u001b[0;32m<ipython-input-4-c3b6b0e75141>\u001b[0m in \u001b[0;36m<module>\u001b[0;34m\u001b[0m\n\u001b[1;32m      3\u001b[0m     \u001b[0mdensity\u001b[0m \u001b[0;34m=\u001b[0m \u001b[0mcube\u001b[0m\u001b[0;34m.\u001b[0m\u001b[0mdata_scaled\u001b[0m\u001b[0;34m\u001b[0m\u001b[0;34m\u001b[0m\u001b[0m\n\u001b[1;32m      4\u001b[0m     \u001b[0mmeshgrid\u001b[0m \u001b[0;34m=\u001b[0m \u001b[0mcube\u001b[0m\u001b[0;34m.\u001b[0m\u001b[0mget_grid\u001b[0m\u001b[0;34m(\u001b[0m\u001b[0;34m)\u001b[0m\u001b[0;34m\u001b[0m\u001b[0;34m\u001b[0m\u001b[0m\n\u001b[0;32m----> 5\u001b[0;31m     \u001b[0mh_mat\u001b[0m \u001b[0;34m=\u001b[0m \u001b[0mcube\u001b[0m\u001b[0;34m.\u001b[0m\u001b[0mget_hmatrix\u001b[0m\u001b[0;34m(\u001b[0m\u001b[0;34m)\u001b[0m\u001b[0;34m\u001b[0m\u001b[0;34m\u001b[0m\u001b[0m\n\u001b[0m\u001b[1;32m      6\u001b[0m     \u001b[0mnuclei\u001b[0m \u001b[0;34m=\u001b[0m \u001b[0mcube\u001b[0m\u001b[0;34m.\u001b[0m\u001b[0matoms\u001b[0m\u001b[0;34m\u001b[0m\u001b[0;34m\u001b[0m\u001b[0m\n\u001b[1;32m      7\u001b[0m     \u001b[0mae_rep\u001b[0m\u001b[0;34m,\u001b[0m \u001b[0mae\u001b[0m\u001b[0;34m,\u001b[0m \u001b[0malch_pots\u001b[0m \u001b[0;34m=\u001b[0m \u001b[0mat\u001b[0m\u001b[0;34m.\u001b[0m\u001b[0mcalculate_atomic_energies\u001b[0m\u001b[0;34m(\u001b[0m\u001b[0mdensity\u001b[0m\u001b[0;34m,\u001b[0m \u001b[0mnuclei\u001b[0m\u001b[0;34m,\u001b[0m \u001b[0mmeshgrid\u001b[0m\u001b[0;34m,\u001b[0m \u001b[0mh_mat\u001b[0m\u001b[0;34m)\u001b[0m\u001b[0;34m\u001b[0m\u001b[0;34m\u001b[0m\u001b[0m\n",
      "\u001b[0;31mAttributeError\u001b[0m: 'CUBE' object has no attribute 'get_hmatrix'"
     ]
    }
   ],
   "source": [
    "for path in cube_paths[0:3]:\n",
    "    cube = CUBE(path + '/DENSITY.cube')\n",
    "    density = cube.data_scaled\n",
    "    meshgrid = cube.get_grid()\n",
    "    h_mat = cube.get_hmatrix()\n",
    "    nuclei = cube.atoms\n",
    "    ae_rep, ae, alch_pots = at.calculate_atomic_energies(density, nuclei, meshgrid, h_mat)\n",
    "    \n",
    "    save = np.array([nuclei, alch_pots]).T\n",
    "    header = 'charge\\t x_coord\\t y_coord\\t z_coord\\t alchemical_potential'\n",
    "    save_dir = os.path.join(path, 'alchpots.txt')\n",
    "    np.savetxt(save_dir, store, delimiter='\\t', header = header)"
   ]
  },
  {
   "cell_type": "markdown",
   "metadata": {},
   "source": [
    "### plot results"
   ]
  },
  {
   "cell_type": "code",
   "execution_count": 7,
   "metadata": {},
   "outputs": [],
   "source": [
    "c = CUBE(path + '/DENSITY.cube')"
   ]
  },
  {
   "cell_type": "code",
   "execution_count": 8,
   "metadata": {},
   "outputs": [
    {
     "ename": "AttributeError",
     "evalue": "'CUBE' object has no attribute 'get_hmatrix'",
     "output_type": "error",
     "traceback": [
      "\u001b[0;31m---------------------------------------------------------------------------\u001b[0m",
      "\u001b[0;31mAttributeError\u001b[0m                            Traceback (most recent call last)",
      "\u001b[0;32m<ipython-input-8-2d6ea082da7a>\u001b[0m in \u001b[0;36m<module>\u001b[0;34m\u001b[0m\n\u001b[0;32m----> 1\u001b[0;31m \u001b[0mc\u001b[0m\u001b[0;34m.\u001b[0m\u001b[0mget_hmatrix\u001b[0m\u001b[0;34m(\u001b[0m\u001b[0;34m)\u001b[0m\u001b[0;34m\u001b[0m\u001b[0;34m\u001b[0m\u001b[0m\n\u001b[0m",
      "\u001b[0;31mAttributeError\u001b[0m: 'CUBE' object has no attribute 'get_hmatrix'"
     ]
    }
   ],
   "source": [
    "c.get_hmatrix()"
   ]
  },
  {
   "cell_type": "code",
   "execution_count": 9,
   "metadata": {},
   "outputs": [],
   "source": [
    "class CUBE(object):\n",
    "    \n",
    "    def __init__(self, fname):\n",
    "        f = open(fname, 'r')\n",
    "        for i in range(2): f.readline() # echo comment\n",
    "        tkns = f.readline().split() # number of atoms included in the file followed by the position of the origin of the volumetric data\n",
    "        self.natoms = int(tkns[0])\n",
    "        self.origin = np.array([float(tkns[1]),float(tkns[2]),float(tkns[3])])\n",
    "        tkns = f.readline().split() #\n",
    "        self.NX = int(tkns[0])\n",
    "        self.X = np.array([float(tkns[1]),float(tkns[2]),float(tkns[3])])\n",
    "        tkns = f.readline().split() #\n",
    "        self.NY = int(tkns[0])\n",
    "        self.Y = np.array([float(tkns[1]),float(tkns[2]),float(tkns[3])])\n",
    "        tkns = f.readline().split() #\n",
    "        self.NZ = int(tkns[0])\n",
    "        self.Z = np.array([float(tkns[1]),float(tkns[2]),float(tkns[3])])\n",
    "        \n",
    "        self.dv = np.linalg.det(np.array([self.X, self.Y, self.Z])) # volume per gridpoint\n",
    "        \n",
    "        self.atoms = []\n",
    "        for i in range(self.natoms):\n",
    "          tkns = f.readline().split()\n",
    "          self.atoms.append([float(tkns[0]), float(tkns[2]), float(tkns[3]), float(tkns[4])])\n",
    "          \n",
    "        self.atoms = np.array(self.atoms)\n",
    "        \n",
    "        self.data = np.zeros((self.NX,self.NY,self.NZ))\n",
    "        i=0\n",
    "        for s in f:\n",
    "          for v in s.split():\n",
    "            self.data[i//(self.NY*self.NZ), (i//self.NZ)%self.NY, i%self.NZ] = float(v)\n",
    "            i+=1\n",
    "        if i != self.NX*self.NY*self.NZ: raise NameError(\"FSCK!\")\n",
    "        \n",
    "        self.scale() # values scaled by volume\n",
    "        \n",
    "    def project(self, axes):\n",
    "        \"\"\"\n",
    "        scales density by gridvolume and projects density on specified axes (1D or 2D)\n",
    "        \"\"\"\n",
    "        projected_density = np.sum(self.data*self.dv, axis=axes)\n",
    "        return(projected_density)\n",
    "        \n",
    "    def get_axis(self, axis, unit='Ang'):\n",
    "        \"\"\"\n",
    "        returns cell coordinates in Angstrom or Bohr\n",
    "        \"\"\"\n",
    "        if axis == 'x' or axis == 0:\n",
    "            l_x = self.X[0]*self.NX\n",
    "            coords = np.linspace(self.origin[0], l_x-self.X[0], self.NX)\n",
    "            \n",
    "        if axis == 'y' or axis == 1:\n",
    "            l_y = self.Y[1]*self.NY\n",
    "            coords = np.linspace(self.origin[1], l_y-self.Y[1], self.NY)\n",
    "            \n",
    "        if axis == 'z' or axis == 2:\n",
    "            l_z = self.Z[2]*self.NZ\n",
    "            coords = np.linspace(self.origin[2], l_z-self.Z[2], self.NZ)\n",
    "            \n",
    "        if unit=='Ang':\n",
    "            coords *= Bohr\n",
    "        elif unit=='Bohr':\n",
    "            pass\n",
    "        else:\n",
    "            raise Exception('Unknown unit')\n",
    "            \n",
    "        return(coords)\n",
    "        \n",
    "        \n",
    "    def get_grid(self):\n",
    "        \"\"\"\n",
    "        returns the coordinates of the grid points where the density values are given as a meshgrid\n",
    "        works so far only for orthogonal coordinate axes\n",
    "        \"\"\"\n",
    "        # length along the axes\n",
    "        l_x = self.X[0]*self.NX\n",
    "        l_y = self.Y[1]*self.NY\n",
    "        l_z = self.Z[2]*self.NZ\n",
    "        # gpts along every axis\n",
    "        x_coords = np.linspace(self.origin[0], l_x-self.X[0], self.NX)\n",
    "        y_coords = np.linspace(self.origin[1], l_y-self.Y[1], self.NY)\n",
    "        z_coords = np.linspace(self.origin[2], l_z-self.Z[2], self.NZ)\n",
    "        # create gridpoints\n",
    "        meshgrid = np.meshgrid(x_coords, y_coords, z_coords, indexing='ij')\n",
    "        return(meshgrid)\n",
    "    \n",
    "    def get_hmatrix(self):\n",
    "        h_x = self.X*self.NX\n",
    "        h_y = self.Y*self.NY\n",
    "        h_z = self.Z*self.NZ\n",
    "        return(np.array([h_x, h_y, h_z]))\n",
    "        \n",
    "        \n",
    "    def scale(self):\n",
    "        \"\"\"\n",
    "        calculate density scaled by volume of gridpoints\n",
    "        \"\"\"\n",
    "        self.data_scaled = (self.data*self.dv).copy()\n",
    "        \n",
    "    def plot_projection(self, axes):\n",
    "        \"\"\"\n",
    "        plot scaled projection of density along specified projection axis (1D, 2D)\n",
    "        \"\"\"\n",
    "        projected_density = self.project(axes)\n",
    "        \n",
    "        if type(axes) == tuple:\n",
    "            coordinate = np.linspace(self.origin[0], self.X[0]*self.NX*Bohr, self.NX)\n",
    "            fig, ax = plt.subplots(1,1)\n",
    "            ax.plot(coordinate, projected_density)\n",
    "            ax.set_xlabel(r'Cell coordinate $x_0$ (Ang)')\n",
    "            ax.set_ylabel(r'$\\rho (x_0)$')\n",
    "            \n",
    "        if type(axes) == int:\n",
    "            coordinate0 = np.linspace(self.origin[0]+0.5, self.X[0]*self.NX*Bohr-0.5, self.NX)\n",
    "            coordinate1 = np.linspace(self.origin[0], self.X[0]*self.NX*Bohr, self.NX)\n",
    "            fig, ax = plt.subplots(1,1)\n",
    "            ax.contour(coordinate0, coordinate1, projected_density)"
   ]
  }
 ],
 "metadata": {
  "kernelspec": {
   "display_name": "Python [conda env:atomic-energies]",
   "language": "python",
   "name": "conda-env-atomic-energies-py"
  },
  "language_info": {
   "codemirror_mode": {
    "name": "ipython",
    "version": 3
   },
   "file_extension": ".py",
   "mimetype": "text/x-python",
   "name": "python",
   "nbconvert_exporter": "python",
   "pygments_lexer": "ipython3",
   "version": "3.7.3"
  }
 },
 "nbformat": 4,
 "nbformat_minor": 2
}
