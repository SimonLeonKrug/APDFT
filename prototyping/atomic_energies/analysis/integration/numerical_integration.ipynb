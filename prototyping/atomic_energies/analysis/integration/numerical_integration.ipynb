{
 "cells": [
  {
   "cell_type": "markdown",
   "metadata": {},
   "source": [
    "# Newton-Cotes Integration"
   ]
  },
  {
   "cell_type": "code",
   "execution_count": 1,
   "metadata": {},
   "outputs": [],
   "source": [
    "import sys\n",
    "sys.path.insert(0, '/home/misa/git_repositories/APDFT/prototyping/atomic_energies/')\n",
    "\n",
    "from parse_density_files import CUBE\n",
    "import numpy as np\n",
    "from matplotlib import pyplot as plt\n",
    "import alchemy_tools2 as at\n",
    "import scipy.integrate as intg\n",
    "\n",
    "def get_alchpot_vals(cube, nucleus_pos):\n",
    "    \"\"\"\n",
    "    calculate \\rho/|r-R|\n",
    "    \"\"\"\n",
    "    meshgrid = cube.get_grid()\n",
    "    h_matrix = cube.get_hmatrix()\n",
    "    distance_nuc_grid = at.distance_MIC2(nucleus_pos, meshgrid, h_matrix) # calculate distance of gpts to nucleus with MIC\n",
    "    alch_pot_vals = -cube.data_scaled/distance_nuc_grid # integrate over position of electron density\n",
    "    return(alch_pot_vals)"
   ]
  },
  {
   "cell_type": "code",
   "execution_count": 2,
   "metadata": {},
   "outputs": [],
   "source": [
    "# get function at points in space\n",
    "cube_x0 = CUBE('/home/misa/APDFT/prototyping/atomic_energies/results/slice_ve38/dsgdb9nsd_001212/cube-files/ve_38.cube')\n",
    "cube_x5 = CUBE('/home/misa/APDFT/prototyping/atomic_energies/results/slice_ve38/dsgdb9nsd_001212/shift_molecule/shift_x5/DENSITY.cube')"
   ]
  },
  {
   "cell_type": "code",
   "execution_count": 13,
   "metadata": {},
   "outputs": [],
   "source": [
    "# # calculate \\rho/|r-R|\n",
    "alch_pot_vals_x0 = get_alchpot_vals(cube_x0, cube_x0.atoms[8][1:4])\n",
    "alch_pot_vals_x5 = get_alchpot_vals(cube_x5, cube_x5.atoms[8][1:4])"
   ]
  },
  {
   "cell_type": "code",
   "execution_count": 28,
   "metadata": {},
   "outputs": [],
   "source": [
    "ax1 = 0\n",
    "ax2 = 1\n",
    "i_ax1 = np.where(cube_x0.get_axis(ax1, 'Bohr') < cube_x0.atoms[8][ax1 + 1])[0][-1]\n",
    "i_ax2 = np.where(cube_x0.get_axis(ax2, 'Bohr') < cube_x0.atoms[8][ax2+1])[0][-1]\n",
    "slice_dens = cube_x0.data_scaled[i_ax1, i_ax2]\n",
    "slice_alchpot_x0 = alch_pot_vals_x0[i_ax1, i_ax2]\n",
    "slice_alchpot_x5 = alch_pot_vals_x5[i_ax1, i_ax2]"
   ]
  },
  {
   "cell_type": "code",
   "execution_count": 29,
   "metadata": {},
   "outputs": [
    {
     "data": {
      "text/plain": [
       "[<matplotlib.lines.Line2D at 0x7fa4750db668>]"
      ]
     },
     "execution_count": 29,
     "metadata": {},
     "output_type": "execute_result"
    },
    {
     "data": {
      "image/png": "[encoded data removed]",
      "text/plain": [
       "<Figure size 432x288 with 1 Axes>"
      ]
     },
     "metadata": {
      "needs_background": "light"
     },
     "output_type": "display_data"
    }
   ],
   "source": [
    "fig, ax =plt.subplots(1,1)\n",
    "ax.plot(cube_x0.get_axis('z', 'Bohr'), slice_alchpot_x0)\n",
    "ax.plot(cube_x5.get_axis('z', 'Bohr'), slice_alchpot_x5)"
   ]
  },
  {
   "cell_type": "code",
   "execution_count": 30,
   "metadata": {},
   "outputs": [],
   "source": [
    "# integrals\n",
    "def get_ints(sli):\n",
    "    \n",
    "    I0 = np.sum(sli)\n",
    "    I1 = np.trapz(sli, cube_x0.get_axis('z', 'Bohr'))\n",
    "    I2 = intg.simps(sli, cube_x0.get_axis('z', 'Bohr'))\n",
    "    return(I0, I1, I2)\n",
    "\n",
    "x0 = get_ints(slice_alchpot_x0)\n",
    "x5 = get_ints(slice_alchpot_x5)"
   ]
  },
  {
   "cell_type": "code",
   "execution_count": 31,
   "metadata": {},
   "outputs": [
    {
     "name": "stdout",
     "output_type": "stream",
     "text": [
      "(-0.08781213337776429, -0.018964698633429523, -0.017757940401901092) (-0.05312612673917484, -0.01147359646571345, -0.011320007940306694)\n"
     ]
    }
   ],
   "source": [
    "print(x0, x5)\n"
   ]
  },
  {
   "cell_type": "markdown",
   "metadata": {},
   "source": [
    "# Calculation of the second derivative between two points"
   ]
  },
  {
   "cell_type": "code",
   "execution_count": null,
   "metadata": {},
   "outputs": [],
   "source": [
    "import matplotlib\n",
    "matplotlib.use('Qt5Agg')\n",
    "from matplotlib import pyplot as plt\n",
    "plt.rcParams.update({'font.size': 22})\n",
    "import numpy as np"
   ]
  },
  {
   "cell_type": "markdown",
   "metadata": {},
   "source": [
    "second derivative at x = 0.5 is according to finite difference scheme\n",
    "\\begin{equation}\n",
    "    f''(x_i) = \\frac{ f_{i+1} - 2 f_i + f_{i-1} }{h}\n",
    "\\end{equation}\n",
    "\n",
    "$f_i$ is unkown. We estimate it by linear interpolation between $x_{i+1}, x_{i-1}$.\n",
    "$ m = \\frac{f_{i+1}-f_{i-1}}{x_{i+1} - x_{i-1}} $ but the second derivative of a first order polynomial is zero therefore this is not helpful\n",
    "\n",
    "Instead we can use the average of the second derivatives of the enclosing points. The motivation is, that these values should become more similiar as the points come closer together.\n"
   ]
  },
  {
   "cell_type": "code",
   "execution_count": null,
   "metadata": {},
   "outputs": [],
   "source": [
    "def linear_eq(x, y):\n",
    "    m = (y[1]-y[0])/(x[1]-x[0])\n",
    "    b = y[0] - m*x[0]\n",
    "    return(m,b)\n",
    "\n",
    "def d2_finite_diff(x,y):\n",
    "    return((y[2] - 2*y[1] + y[0])/((x[2]-x[1])**2))\n",
    "\n",
    "def predictor(x):\n",
    "    x_vals = np.array([x-0.2, x, x+0.2])\n",
    "    y_vals = np.exp(x_vals)\n",
    "    return(x_vals, y_vals)"
   ]
  },
  {
   "cell_type": "code",
   "execution_count": null,
   "metadata": {},
   "outputs": [],
   "source": [
    "x_1 = np.array([0.3, 0.4, 0.5])\n",
    "y_1 = np.exp(x_1)\n",
    "d2_finite_diff(x_1, y_1)"
   ]
  },
  {
   "cell_type": "code",
   "execution_count": null,
   "metadata": {},
   "outputs": [],
   "source": [
    "x_2 = np.array([0.4, 0.5, 0.6])\n",
    "y_2 = np.exp(x_2)\n",
    "d2_finite_diff(x_2, y_2)"
   ]
  },
  {
   "cell_type": "code",
   "execution_count": null,
   "metadata": {},
   "outputs": [],
   "source": [
    "(d2_finite_diff(x_1, y_1) + d2_finite_diff(x_2, y_2))/2"
   ]
  },
  {
   "cell_type": "code",
   "execution_count": null,
   "metadata": {},
   "outputs": [],
   "source": [
    "np.exp(0.5)"
   ]
  },
  {
   "cell_type": "code",
   "execution_count": null,
   "metadata": {},
   "outputs": [],
   "source": [
    "for i in [0.2, 0.4, 0.6]:\n",
    "    x1,y1 = predictor(i)\n",
    "    x2, y2 = predictor(i+0.2)\n",
    "    print('Second derivative at x = {}'.format(i+0.1))\n",
    "    f1 = d2_finite_diff(x1,y1)\n",
    "    f2 = d2_finite_diff(x2,y2)\n",
    "    mf = (f2+f1)/2\n",
    "    print(mf)\n",
    "    \n",
    "    print(np.exp(i+0.1))\n",
    "    print('Error = {}'.format(np.abs(mf-np.exp(i+0.1))))"
   ]
  },
  {
   "cell_type": "code",
   "execution_count": null,
   "metadata": {},
   "outputs": [],
   "source": []
  },
  {
   "cell_type": "code",
   "execution_count": null,
   "metadata": {},
   "outputs": [],
   "source": [
    "x_exact = np.linspace(0, 1, 100)\n",
    "f_exact = np.exp(x_exact)\n",
    "\n",
    "x_calc = np.linspace(0, 1, 6)\n",
    "f_calc = np.exp(x_calc)\n",
    "\n",
    "fig, ax = plt.subplots(1,1)\n",
    "ax.plot(x_exact, f_exact)\n",
    "ax.scatter(x_calc, f_calc)"
   ]
  }
 ],
 "metadata": {
  "kernelspec": {
   "display_name": "Python [conda env:atomic-energies]",
   "language": "python",
   "name": "conda-env-atomic-energies-py"
  },
  "language_info": {
   "codemirror_mode": {
    "name": "ipython",
    "version": 3
   },
   "file_extension": ".py",
   "mimetype": "text/x-python",
   "name": "python",
   "nbconvert_exporter": "python",
   "pygments_lexer": "ipython3",
   "version": "3.7.3"
  }
 },
 "nbformat": 4,
 "nbformat_minor": 2
}
