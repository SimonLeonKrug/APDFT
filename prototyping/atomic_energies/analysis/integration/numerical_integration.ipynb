{
 "cells": [
  {
   "cell_type": "markdown",
   "metadata": {},
   "source": [
    "# Newton-Cotes Integration"
   ]
  },
  {
   "cell_type": "code",
   "execution_count": 1,
   "metadata": {},
   "outputs": [],
   "source": [
    "import sys\n",
    "sys.path.insert(0, '/home/misa/git_repositories/APDFT/prototyping/atomic_energies/')\n",
    "\n",
    "from parse_density_files import CUBE\n",
    "import numpy as np\n",
    "from matplotlib import pyplot as plt\n",
    "import alchemy_tools2 as at\n",
    "import scipy.integrate as intg\n",
    "\n",
    "def get_alchpot_vals(cube, nucleus_pos, scaled = False):\n",
    "    \"\"\"\n",
    "    calculate \\rho/|r-R|\n",
    "    \"\"\"\n",
    "    meshgrid = cube.get_grid()\n",
    "    h_matrix = cube.get_hmatrix()\n",
    "    distance_nuc_grid = at.distance_MIC2(nucleus_pos, meshgrid, h_matrix) # calculate distance of gpts to nucleus with MIC\n",
    "    if scaled:\n",
    "        alch_pot_vals = -cube.data_scaled/distance_nuc_grid # integrate over position of electron density\n",
    "    else:\n",
    "        alch_pot_vals = -cube.data/distance_nuc_grid # integrate over position of electron density\n",
    "    return(alch_pot_vals)\n",
    "\n",
    "def multidim_int(f, dx, mode):\n",
    "    \n",
    "    I_z = np.zeros((f.shape[0], f.shape[1]))\n",
    "    for i in range(f.shape[0]):\n",
    "        for j in range(f.shape[1]):\n",
    "            if mode == 'trapz':\n",
    "                I_z[i,j] = np.trapz(f[i,j], dx = dx)\n",
    "            elif mode == 'simps':\n",
    "                I_z[i,j] = intg.simps(f[i,j], dx = dx)\n",
    "            else:\n",
    "                I_z[i,j] = nc_integration(f[i,j], dx, mode)\n",
    "            \n",
    "    I_yz = np.zeros(f.shape[0])\n",
    "    for i in range(f.shape[0]):\n",
    "        if mode == 'trapz':\n",
    "            I_yz[i] = np.trapz(I_z[i], dx = dx)\n",
    "        elif mode == 'simps':\n",
    "            I_yz[i] = intg.simps(I_z[i], dx = dx)\n",
    "        else:\n",
    "            I_yz[i] = nc_integration(I_z[i], dx, mode)\n",
    "    \n",
    "    if mode == 'trapz':\n",
    "        I_xyz = np.trapz(I_yz, dx = dx)\n",
    "    elif mode == 'simps':\n",
    "        I_xyz = intg.simps(I_yz, dx = dx)\n",
    "    else:\n",
    "        I_xyz = nc_integration(I_yz, dx, mode)\n",
    "        \n",
    "    return(I_xyz)\n",
    "\n",
    "def get_composite_coeffs(order, length):\n",
    "    num_ints = lambda pts_tot, pts_int: (pts_tot - 1)/(pts_int-1)\n",
    "    ni = int(num_ints(length, order+1)) # number of intervals\n",
    "    \n",
    "    nc_coeffs = intg.newton_cotes(order, 1)[0]\n",
    "    weights = np.zeros(length)\n",
    "    start = 0\n",
    "    for i in range(ni):\n",
    "        weights[start:start+len(nc_coeffs)] = weights[start:start+len(nc_coeffs)] + nc_coeffs\n",
    "        start += order\n",
    "    return(weights)\n",
    "    \n",
    "def nc_integration(f, d, order):\n",
    "    num_ints = lambda pts_tot, pts_int: (pts_tot - 1)/(pts_int-1)\n",
    "    ni = int(num_ints(len(f), order+1))\n",
    "    if ni == num_ints(len(f), order+1): # total interval can be divided in subintervall\n",
    "        weights = get_composite_coeffs(order, len(f))\n",
    "    elif len(f) == 175 and order == 4:\n",
    "        weights = get_composite_coeffs(order, len(f)-2)\n",
    "        weights = np.concatenate((np.array([1.0]), weights, np.array([1.0])))\n",
    "        weights[1] = weights[1] + 1\n",
    "        weights[-2] = weights[-2]\n",
    "        \n",
    "    return(np.dot(weights, f)*d)"
   ]
  },
  {
   "cell_type": "code",
   "execution_count": 2,
   "metadata": {},
   "outputs": [],
   "source": [
    "# get cube files\n",
    "cube_x0 = CUBE('/home/misa/APDFT/prototyping/atomic_energies/results/slice_ve38/dsgdb9nsd_001212/cube-files/ve_38.cube')\n",
    "cube_x5 = CUBE('/home/misa/APDFT/prototyping/atomic_energies/results/slice_ve38/dsgdb9nsd_001212/shift_molecule/shift_x5/DENSITY.cube')"
   ]
  },
  {
   "cell_type": "code",
   "execution_count": 3,
   "metadata": {},
   "outputs": [],
   "source": [
    "# # calculate \\rho/|r-R|\n",
    "alch_pot_vals_x0 = get_alchpot_vals(cube_x0, cube_x0.atoms[8][1:4])\n",
    "alch_pot_vals_x5 = get_alchpot_vals(cube_x5, cube_x5.atoms[8][1:4])"
   ]
  },
  {
   "cell_type": "markdown",
   "metadata": {},
   "source": [
    "#### Integral of density only"
   ]
  },
  {
   "cell_type": "code",
   "execution_count": null,
   "metadata": {},
   "outputs": [],
   "source": [
    "dens_x0_trapz = multidim_int(cube_x0.data, cube_x0.X[0], 'trapz')\n",
    "dens_x0_simps = multidim_int(cube_x0.data, cube_x0.X[0], 'simps')\n",
    "dens_x0_3 = multidim_int(cube_x0.data, cube_x0.X[0], 3)\n",
    "dens_x0_4 = multidim_int(cube_x0.data, cube_x0.X[0], 4)\n",
    "\n",
    "dens_x5_trapz = multidim_int(cube_x5.data, cube_x5.X[0], 'trapz')\n",
    "dens_x5_simps = multidim_int(cube_x5.data, cube_x5.X[0], 'simps')\n",
    "dens_x5_3 = multidim_int(cube_x5.data, cube_x5.X[0], 3)\n",
    "dens_x5_4 = multidim_int(cube_x5.data, cube_x5.X[0], 4)"
   ]
  },
  {
   "cell_type": "code",
   "execution_count": null,
   "metadata": {},
   "outputs": [],
   "source": [
    "for d in [cube_x0.data_scaled.sum(), dens_x0_trapz, dens_x0_simps, dens_x0_3, dens_x0_4, cube_x5.data_scaled.sum(), dens_x5_trapz, dens_x5_simps, dens_x5_3, dens_x5_4]:\n",
    "    print(f'fraction of exact density {d/38}')"
   ]
  },
  {
   "cell_type": "markdown",
   "metadata": {},
   "source": [
    "trapezoidal and simple sum are most accurate for density integration?"
   ]
  },
  {
   "cell_type": "markdown",
   "metadata": {},
   "source": [
    "#### Integral of alchemical potential 1D slice"
   ]
  },
  {
   "cell_type": "code",
   "execution_count": null,
   "metadata": {},
   "outputs": [],
   "source": [
    "# slice along z-axis close to selected hydrogen atom\n",
    "ax1 = 0\n",
    "ax2 = 1\n",
    "i_ax1 = np.where(cube_x0.get_axis(ax1, 'Bohr') < cube_x0.atoms[8][ax1 + 1])[0][-1]\n",
    "i_ax2 = np.where(cube_x0.get_axis(ax2, 'Bohr') < cube_x0.atoms[8][ax2+1])[0][-1]\n",
    "slice_alchpot_x0 = alch_pot_vals_x0[i_ax1, i_ax2]\n",
    "slice_alchpot_x5 = alch_pot_vals_x5[i_ax1, i_ax2]"
   ]
  },
  {
   "cell_type": "code",
   "execution_count": null,
   "metadata": {},
   "outputs": [],
   "source": [
    "fig, ax =plt.subplots(1,1)\n",
    "ax.plot(cube_x0.get_axis('z', 'Bohr'), slice_alchpot_x0)\n",
    "ax.plot(cube_x5.get_axis('z', 'Bohr'), slice_alchpot_x5)"
   ]
  },
  {
   "cell_type": "code",
   "execution_count": null,
   "metadata": {},
   "outputs": [],
   "source": [
    "slice_alchpot_x0_sum = slice_alchpot_x0.sum()*cube_x0.dv\n",
    "slice_alchpot_x0_trapz = np.trapz(slice_alchpot_x0, dx=cube_x0.X[0])*cube_x0.dv/cube_x0.X[0]\n",
    "slice_alchpot_x0_simps = intg.simps(slice_alchpot_x0, dx=cube_x0.X[0])*cube_x0.dv/cube_x0.X[0]\n",
    "slice_alchpot_x0_3 = nc_integration(slice_alchpot_x0, cube_x0.X[0], 3)*cube_x0.dv/cube_x0.X[0]\n",
    "slice_alchpot_x0_4 = nc_integration(slice_alchpot_x0, cube_x0.X[0], 4)*cube_x0.dv/cube_x0.X[0]\n",
    "\n",
    "# slice_alchpot_x5_sum = slice_alchpot_x5.sum()*cube_x5.dv\n",
    "# slice_alchpot_x5_trapz = np.trapz(slice_alchpot_x5, dx=cube_x5.X[0])*cube_x5.dv/cube_x5.X[0]\n",
    "# slice_alchpot_x5_simps = intg.simps(slice_alchpot_x5, dx=cube_x5.X[0])*cube_x5.dv/cube_x5.X[0]\n",
    "# slice_alchpot_x5_3 = nc_integration(slice_alchpot_x5, cube_x5.X[0], 3)*cube_x5.dv/cube_x5.X[0]\n",
    "# slice_alchpot_x5_4 = nc_integration(slice_alchpot_x5, cube_x5.X[0], 4)*cube_x5.dv/cube_x5.X[0]"
   ]
  },
  {
   "cell_type": "code",
   "execution_count": null,
   "metadata": {},
   "outputs": [],
   "source": [
    "for x0 in [slice_alchpot_x0_sum, slice_alchpot_x0_trapz, slice_alchpot_x0_simps, slice_alchpot_x0_3, slice_alchpot_x0_4]:\n",
    "    print(f'Integral = {x0}')"
   ]
  },
  {
   "cell_type": "markdown",
   "metadata": {},
   "source": [
    "integral similar for trapz and sum but different for simpsons"
   ]
  },
  {
   "cell_type": "markdown",
   "metadata": {},
   "source": [
    "#### Integral of alchemical potential for different positions of atom to grid"
   ]
  },
  {
   "cell_type": "code",
   "execution_count": 7,
   "metadata": {},
   "outputs": [],
   "source": [
    "d = cube_x0.X[0]\n",
    "\n",
    "alchpot_x0_sum = alch_pot_vals_x0.sum()*cube_x0.dv\n",
    "alchpot_x0_trapz = multidim_int(alch_pot_vals_x0, d, 'trapz')\n",
    "alchpot_x0_simps = multidim_int(alch_pot_vals_x0, d, 'simps')\n",
    "alchpot_x0_3 = multidim_int(alch_pot_vals_x0, d, 3)\n",
    "alchpot_x0_4 = multidim_int(alch_pot_vals_x0, d, 4)\n",
    "\n",
    "alchpot_x5_sum = alch_pot_vals_x5.sum()*cube_x5.dv\n",
    "alchpot_x5_trapz = multidim_int(alch_pot_vals_x5, d, 'trapz')\n",
    "alchpot_x5_simps = multidim_int(alch_pot_vals_x5, d, 'simps')\n",
    "alchpot_x5_3 = multidim_int(alch_pot_vals_x5, d, 3)\n",
    "alchpot_x5_4 = multidim_int(alch_pot_vals_x5, d, 4)"
   ]
  },
  {
   "cell_type": "code",
   "execution_count": null,
   "metadata": {},
   "outputs": [],
   "source": [
    "labels = ['sum', 'trapz', 'simps', '3rd', '4th']\n",
    "Intsx0 = [alchpot_x0_sum, alchpot_x0_trapz, alchpot_x0_simps, alchpot_x0_3, alchpot_x0_4]\n",
    "Intsx5 = [alchpot_x5_sum, alchpot_x5_trapz, alchpot_x5_simps, alchpot_x5_3, alchpot_x5_4]\n",
    "for l, Ix0, Ix5 in zip(labels, Intsx0, Intsx5):\n",
    "    print(f'Difference x0 - x5 {l} = {Ix0 - Ix5}')"
   ]
  },
  {
   "cell_type": "markdown",
   "metadata": {},
   "source": [
    "- difference between alchemical reduced by one order of magnitude if simpsons rule is used\n",
    "- no improvement from sum to trapz due to symmetry induced error cancelling for sum?\n",
    "- performance worse than simple sum for 3rd, 4th order integration, bug or numerical instabilities?"
   ]
  },
  {
   "cell_type": "markdown",
   "metadata": {},
   "source": [
    "#### test imported function"
   ]
  },
  {
   "cell_type": "code",
   "execution_count": 6,
   "metadata": {},
   "outputs": [
    {
     "data": {
      "text/plain": [
       "0.0"
      ]
     },
     "execution_count": 6,
     "metadata": {},
     "output_type": "execute_result"
    }
   ],
   "source": [
    "d = cube_x0.X[0]\n",
    "at.multidim_int(alch_pot_vals_x0, d, 'simps') - multidim_int(alch_pot_vals_x0, d, 'simps')"
   ]
  },
  {
   "cell_type": "markdown",
   "metadata": {},
   "source": [
    "#### test higher order integration"
   ]
  },
  {
   "cell_type": "code",
   "execution_count": null,
   "metadata": {},
   "outputs": [],
   "source": [
    "# slice along z-axis close to selected hydrogen atom\n",
    "ax1 = 0\n",
    "ax2 = 1\n",
    "i_ax1 = np.where(cube_x0.get_axis(ax1, 'Bohr') < cube_x0.atoms[8][ax1 + 1])[0][-1]\n",
    "i_ax2 = np.where(cube_x0.get_axis(ax2, 'Bohr') < cube_x0.atoms[8][ax2+1])[0][-1]\n",
    "slice_alchpot_x0 = alch_pot_vals_x0[i_ax1, i_ax2]\n",
    "d = cube_x0.X[0]"
   ]
  },
  {
   "cell_type": "code",
   "execution_count": null,
   "metadata": {},
   "outputs": [],
   "source": [
    "print(nc_integration(slice_alchpot_x0, d, 1) - np.trapz(slice_alchpot_x0,dx=d))\n",
    "print(nc_integration(slice_alchpot_x0, d, 2) - intg.simps(slice_alchpot_x0,dx=d))"
   ]
  },
  {
   "cell_type": "markdown",
   "metadata": {},
   "source": [
    "integrals agree for trapezoidal and simpsons rule"
   ]
  },
  {
   "cell_type": "code",
   "execution_count": null,
   "metadata": {},
   "outputs": [],
   "source": []
  },
  {
   "cell_type": "code",
   "execution_count": null,
   "metadata": {},
   "outputs": [],
   "source": []
  },
  {
   "cell_type": "markdown",
   "metadata": {},
   "source": [
    "# Calculation of the second derivative between two points"
   ]
  },
  {
   "cell_type": "code",
   "execution_count": null,
   "metadata": {},
   "outputs": [],
   "source": [
    "import matplotlib\n",
    "matplotlib.use('Qt5Agg')\n",
    "from matplotlib import pyplot as plt\n",
    "plt.rcParams.update({'font.size': 22})\n",
    "import numpy as np"
   ]
  },
  {
   "cell_type": "markdown",
   "metadata": {},
   "source": [
    "second derivative at x = 0.5 is according to finite difference scheme\n",
    "\\begin{equation}\n",
    "    f''(x_i) = \\frac{ f_{i+1} - 2 f_i + f_{i-1} }{h}\n",
    "\\end{equation}\n",
    "\n",
    "$f_i$ is unkown. We estimate it by linear interpolation between $x_{i+1}, x_{i-1}$.\n",
    "$ m = \\frac{f_{i+1}-f_{i-1}}{x_{i+1} - x_{i-1}} $ but the second derivative of a first order polynomial is zero therefore this is not helpful\n",
    "\n",
    "Instead we can use the average of the second derivatives of the enclosing points. The motivation is, that these values should become more similiar as the points come closer together.\n"
   ]
  },
  {
   "cell_type": "code",
   "execution_count": null,
   "metadata": {},
   "outputs": [],
   "source": [
    "def linear_eq(x, y):\n",
    "    m = (y[1]-y[0])/(x[1]-x[0])\n",
    "    b = y[0] - m*x[0]\n",
    "    return(m,b)\n",
    "\n",
    "def d2_finite_diff(x,y):\n",
    "    return((y[2] - 2*y[1] + y[0])/((x[2]-x[1])**2))\n",
    "\n",
    "def predictor(x):\n",
    "    x_vals = np.array([x-0.2, x, x+0.2])\n",
    "    y_vals = np.exp(x_vals)\n",
    "    return(x_vals, y_vals)"
   ]
  },
  {
   "cell_type": "code",
   "execution_count": null,
   "metadata": {},
   "outputs": [],
   "source": [
    "x_1 = np.array([0.3, 0.4, 0.5])\n",
    "y_1 = np.exp(x_1)\n",
    "d2_finite_diff(x_1, y_1)"
   ]
  },
  {
   "cell_type": "code",
   "execution_count": null,
   "metadata": {},
   "outputs": [],
   "source": [
    "x_2 = np.array([0.4, 0.5, 0.6])\n",
    "y_2 = np.exp(x_2)\n",
    "d2_finite_diff(x_2, y_2)"
   ]
  },
  {
   "cell_type": "code",
   "execution_count": null,
   "metadata": {},
   "outputs": [],
   "source": [
    "(d2_finite_diff(x_1, y_1) + d2_finite_diff(x_2, y_2))/2"
   ]
  },
  {
   "cell_type": "code",
   "execution_count": null,
   "metadata": {},
   "outputs": [],
   "source": [
    "np.exp(0.5)"
   ]
  },
  {
   "cell_type": "code",
   "execution_count": null,
   "metadata": {},
   "outputs": [],
   "source": [
    "for i in [0.2, 0.4, 0.6]:\n",
    "    x1,y1 = predictor(i)\n",
    "    x2, y2 = predictor(i+0.2)\n",
    "    print('Second derivative at x = {}'.format(i+0.1))\n",
    "    f1 = d2_finite_diff(x1,y1)\n",
    "    f2 = d2_finite_diff(x2,y2)\n",
    "    mf = (f2+f1)/2\n",
    "    print(mf)\n",
    "    \n",
    "    print(np.exp(i+0.1))\n",
    "    print('Error = {}'.format(np.abs(mf-np.exp(i+0.1))))"
   ]
  },
  {
   "cell_type": "code",
   "execution_count": null,
   "metadata": {},
   "outputs": [],
   "source": []
  },
  {
   "cell_type": "code",
   "execution_count": null,
   "metadata": {},
   "outputs": [],
   "source": [
    "x_exact = np.linspace(0, 1, 100)\n",
    "f_exact = np.exp(x_exact)\n",
    "\n",
    "x_calc = np.linspace(0, 1, 6)\n",
    "f_calc = np.exp(x_calc)\n",
    "\n",
    "fig, ax = plt.subplots(1,1)\n",
    "ax.plot(x_exact, f_exact)\n",
    "ax.scatter(x_calc, f_calc)"
   ]
  }
 ],
 "metadata": {
  "kernelspec": {
   "display_name": "Python [conda env:atomic-energies]",
   "language": "python",
   "name": "conda-env-atomic-energies-py"
  },
  "language_info": {
   "codemirror_mode": {
    "name": "ipython",
    "version": 3
   },
   "file_extension": ".py",
   "mimetype": "text/x-python",
   "name": "python",
   "nbconvert_exporter": "python",
   "pygments_lexer": "ipython3",
   "version": "3.7.3"
  }
 },
 "nbformat": 4,
 "nbformat_minor": 2
}
