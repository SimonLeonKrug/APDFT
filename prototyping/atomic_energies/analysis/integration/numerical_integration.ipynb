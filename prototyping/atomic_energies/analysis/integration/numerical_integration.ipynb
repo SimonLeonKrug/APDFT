{
 "cells": [
  {
   "cell_type": "code",
   "execution_count": 1,
   "metadata": {},
   "outputs": [],
   "source": [
    "import matplotlib\n",
    "matplotlib.use('Qt5Agg')\n",
    "from matplotlib import pyplot as plt\n",
    "plt.rcParams.update({'font.size': 22})\n",
    "import numpy as np"
   ]
  },
  {
   "cell_type": "markdown",
   "metadata": {},
   "source": [
    "# Calculation of the second derivative between two points"
   ]
  },
  {
   "cell_type": "markdown",
   "metadata": {},
   "source": [
    "second derivative at x = 0.5 is according to finite difference scheme\n",
    "\\begin{equation}\n",
    "    f''(x_i) = \\frac{ f_{i+1} - 2 f_i + f_{i-1} }{h}\n",
    "\\end{equation}\n",
    "\n",
    "$f_i$ is unkown. We estimate it by linear interpolation between $x_{i+1}, x_{i-1}$.\n",
    "$ m = \\frac{f_{i+1}-f_{i-1}}{x_{i+1} - x_{i-1}} $ but the second derivative of a first order polynomial is zero therefore this is not helpful\n",
    "\n",
    "Instead we can use the average of the second derivatives of the enclosing points. The motivation is, that these values should become more similiar as the points come closer together.\n"
   ]
  },
  {
   "cell_type": "code",
   "execution_count": 39,
   "metadata": {},
   "outputs": [],
   "source": [
    "def linear_eq(x, y):\n",
    "    m = (y[1]-y[0])/(x[1]-x[0])\n",
    "    b = y[0] - m*x[0]\n",
    "    return(m,b)\n",
    "\n",
    "def d2_finite_diff(x,y):\n",
    "    return((y[2] - 2*y[1] + y[0])/((x[2]-x[1])**2))\n",
    "\n",
    "def predictor(x):\n",
    "    x_vals = np.array([x-0.2, x, x+0.2])\n",
    "    y_vals = np.exp(x_vals)\n",
    "    return(x_vals, y_vals)"
   ]
  },
  {
   "cell_type": "code",
   "execution_count": 35,
   "metadata": {},
   "outputs": [
    {
     "data": {
      "text/plain": [
       "1.493068299359069"
      ]
     },
     "execution_count": 35,
     "metadata": {},
     "output_type": "execute_result"
    }
   ],
   "source": [
    "x_1 = np.array([0.3, 0.4, 0.5])\n",
    "y_1 = np.exp(x_1)\n",
    "d2_finite_diff(x_1, y_1)"
   ]
  },
  {
   "cell_type": "code",
   "execution_count": 36,
   "metadata": {},
   "outputs": [
    {
     "data": {
      "text/plain": [
       "1.6500956631522854"
      ]
     },
     "execution_count": 36,
     "metadata": {},
     "output_type": "execute_result"
    }
   ],
   "source": [
    "x_2 = np.array([0.4, 0.5, 0.6])\n",
    "y_2 = np.exp(x_2)\n",
    "d2_finite_diff(x_2, y_2)"
   ]
  },
  {
   "cell_type": "code",
   "execution_count": 38,
   "metadata": {},
   "outputs": [
    {
     "data": {
      "text/plain": [
       "1.5715819812556773"
      ]
     },
     "execution_count": 38,
     "metadata": {},
     "output_type": "execute_result"
    }
   ],
   "source": [
    "(d2_finite_diff(x_1, y_1) + d2_finite_diff(x_2, y_2))/2"
   ]
  },
  {
   "cell_type": "code",
   "execution_count": 37,
   "metadata": {},
   "outputs": [
    {
     "data": {
      "text/plain": [
       "1.6487212707001282"
      ]
     },
     "execution_count": 37,
     "metadata": {},
     "output_type": "execute_result"
    }
   ],
   "source": [
    "np.exp(0.5)"
   ]
  },
  {
   "cell_type": "code",
   "execution_count": 42,
   "metadata": {},
   "outputs": [
    {
     "name": "stdout",
     "output_type": "stream",
     "text": [
      "Second derivative at x = 0.30000000000000004\n",
      "1.3577446162450935\n",
      "1.3498588075760032\n",
      "Error = 0.007885808669090277\n",
      "Second derivative at x = 0.5\n",
      "1.6583530191588767\n",
      "1.6487212707001282\n",
      "Error = 0.00963174845874848\n",
      "Second derivative at x = 0.7\n",
      "2.0255169516038904\n",
      "2.0137527074704766\n",
      "Error = 0.011764244133413815\n"
     ]
    }
   ],
   "source": [
    "for i in [0.2, 0.4, 0.6]:\n",
    "    x1,y1 = predictor(i)\n",
    "    x2, y2 = predictor(i+0.2)\n",
    "    print('Second derivative at x = {}'.format(i+0.1))\n",
    "    f1 = d2_finite_diff(x1,y1)\n",
    "    f2 = d2_finite_diff(x2,y2)\n",
    "    mf = (f2+f1)/2\n",
    "    print(mf)\n",
    "    \n",
    "    print(np.exp(i+0.1))\n",
    "    print('Error = {}'.format(np.abs(mf-np.exp(i+0.1))))"
   ]
  },
  {
   "cell_type": "code",
   "execution_count": null,
   "metadata": {},
   "outputs": [],
   "source": []
  },
  {
   "cell_type": "code",
   "execution_count": null,
   "metadata": {},
   "outputs": [],
   "source": [
    "x_exact = np.linspace(0, 1, 100)\n",
    "f_exact = np.exp(x_exact)\n",
    "\n",
    "x_calc = np.linspace(0, 1, 6)\n",
    "f_calc = np.exp(x_calc)\n",
    "\n",
    "fig, ax = plt.subplots(1,1)\n",
    "ax.plot(x_exact, f_exact)\n",
    "ax.scatter(x_calc, f_calc)"
   ]
  }
 ],
 "metadata": {
  "kernelspec": {
   "display_name": "Python [conda env:atomic-energies]",
   "language": "python",
   "name": "conda-env-atomic-energies-py"
  },
  "language_info": {
   "codemirror_mode": {
    "name": "ipython",
    "version": 3
   },
   "file_extension": ".py",
   "mimetype": "text/x-python",
   "name": "python",
   "nbconvert_exporter": "python",
   "pygments_lexer": "ipython3",
   "version": "3.7.3"
  }
 },
 "nbformat": 4,
 "nbformat_minor": 2
}
