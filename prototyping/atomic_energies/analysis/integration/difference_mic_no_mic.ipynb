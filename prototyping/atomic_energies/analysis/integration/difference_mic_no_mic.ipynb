{
 "cells": [
  {
   "cell_type": "code",
   "execution_count": 2,
   "metadata": {},
   "outputs": [],
   "source": [
    "import matplotlib\n",
    "matplotlib.use('Qt5Agg')\n",
    "from matplotlib import pyplot as plt\n",
    "plt.rcParams.update({'font.size': 22})\n",
    "\n",
    "import numpy as np"
   ]
  },
  {
   "cell_type": "code",
   "execution_count": 3,
   "metadata": {},
   "outputs": [],
   "source": [
    "parent_path = '/home/misa/APDFT/prototyping/atomic_energies/results/test_calculations/integration/'\n",
    "filenames = ['ae_small_MIC_trapz.txt',\n",
    "'ae_small_trapz.txt',\n",
    "'ae_small_cs.txt',\n",
    "'ae_small_MIC_cs.txt',\n",
    "'ae_trapz.txt',\n",
    "'ae_MIC_trapz.txt',\n",
    "'ae_cs.txt',\n",
    "'ae_MIC_cs.txt']\n",
    "\n",
    "integration_results = {}\n",
    "\n",
    "for i in range(len(filenames)):\n",
    "    \n",
    "    integration_results.update({filenames[i][:-4]:np.loadtxt(parent_path + filenames[i], delimiter='\\t')})\n",
    "    \n",
    "lam_vals_large = np.loadtxt(parent_path+'lam_vals_large.txt', delimiter='\\t')\n",
    "lam_vals_small = np.loadtxt(parent_path+'lam_vals_small.txt', delimiter='\\t')"
   ]
  },
  {
   "cell_type": "code",
   "execution_count": 4,
   "metadata": {},
   "outputs": [],
   "source": [
    "trapz = integration_results['ae_small_trapz']\n",
    "mic_trapz = integration_results['ae_small_MIC_trapz']"
   ]
  },
  {
   "cell_type": "code",
   "execution_count": 5,
   "metadata": {},
   "outputs": [
    {
     "data": {
      "text/plain": [
       "array([0.07883857, 0.01724942, 0.07498714, 0.00290845, 0.03503685,\n",
       "       0.10616818, 0.24685949, 0.02508083, 0.01752502, 0.01803871,\n",
       "       0.01064804, 0.01118809])"
      ]
     },
     "execution_count": 5,
     "metadata": {},
     "output_type": "execute_result"
    }
   ],
   "source": [
    "trapz.sum(axis=0)-mic_trapz.sum(axis=0)"
   ]
  },
  {
   "cell_type": "code",
   "execution_count": 6,
   "metadata": {},
   "outputs": [
    {
     "data": {
      "text/plain": [
       "array([0.07827645, 0.01719286, 0.0748203 , 0.00290157, 0.03498515,\n",
       "       0.10599883, 0.24639321, 0.02492006, 0.017407  , 0.01792565,\n",
       "       0.01065053, 0.0111938 ])"
      ]
     },
     "execution_count": 6,
     "metadata": {},
     "output_type": "execute_result"
    }
   ],
   "source": [
    "trapz = integration_results['ae_trapz']\n",
    "mic_trapz = integration_results['ae_MIC_trapz']\n",
    "trapz.sum(axis=0)-mic_trapz.sum(axis=0)"
   ]
  },
  {
   "cell_type": "code",
   "execution_count": 7,
   "metadata": {},
   "outputs": [],
   "source": [
    "nuclei = np.array([[ 6.      , 19.979529, 22.784627, 18.908058],\n",
    "       [ 6.      , 20.35982 , 19.964565, 18.890009],\n",
    "       [ 8.      , 22.344159, 18.857926, 18.863323],\n",
    "       [ 8.      , 18.092893, 18.74945 , 18.905025],\n",
    "       [ 6.      , 18.285827, 16.053484, 18.887816],\n",
    "       [ 6.      , 15.726597, 15.015175, 18.906865],\n",
    "       [ 7.      , 13.735016, 14.125508, 18.920052],\n",
    "       [ 1.      , 21.813395, 23.718436, 18.8968  ],\n",
    "       [ 1.      , 18.878631, 23.358359, 17.25609 ],\n",
    "       [ 1.      , 18.90752 , 23.341078, 20.584704],\n",
    "       [ 1.      , 19.30598 , 15.408752, 17.207074],\n",
    "       [ 1.      , 19.337767, 15.389776, 20.541321]])"
   ]
  },
  {
   "cell_type": "code",
   "execution_count": 8,
   "metadata": {},
   "outputs": [
    {
     "data": {
      "text/plain": [
       "Text(0, 0.5, '$\\\\Delta$Atomic energy (no MIC - MIC) [Ha]')"
      ]
     },
     "execution_count": 8,
     "metadata": {},
     "output_type": "execute_result"
    }
   ],
   "source": [
    "import matplotlib.cm as cm\n",
    "from matplotlib.colors import Normalize\n",
    "\n",
    "# Get a color map\n",
    "my_cmap = cm.get_cmap('inferno')\n",
    " \n",
    "# Get normalize function (takes data in range [vmin, vmax] -> [0, 1])\n",
    "my_norm = Normalize(vmin=0, vmax=len(nuclei))\n",
    "data = [2, 3, 5, 6, 8, 12, 7, 5]\n",
    "\n",
    "\n",
    "fig, ax = plt.subplots(1,1)\n",
    "ax.bar(nuclei[:,0], trapz.sum(axis=0)-mic_trapz.sum(axis=0), width = 0.5, color=my_cmap((50,200)), alpha=0.5)\n",
    "\n",
    "ax.set_xlabel('Nuclear charge')\n",
    "ax.set_ylabel(r'$\\Delta$Atomic energy (no MIC - MIC) [Ha]')"
   ]
  },
  {
   "cell_type": "code",
   "execution_count": null,
   "metadata": {},
   "outputs": [],
   "source": []
  }
 ],
 "metadata": {
  "kernelspec": {
   "display_name": "Python [conda env:atomic-energies]",
   "language": "python",
   "name": "conda-env-atomic-energies-py"
  },
  "language_info": {
   "codemirror_mode": {
    "name": "ipython",
    "version": 3
   },
   "file_extension": ".py",
   "mimetype": "text/x-python",
   "name": "python",
   "nbconvert_exporter": "python",
   "pygments_lexer": "ipython3",
   "version": "3.7.3"
  }
 },
 "nbformat": 4,
 "nbformat_minor": 2
}
