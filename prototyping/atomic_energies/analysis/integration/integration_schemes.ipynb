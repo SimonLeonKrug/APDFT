{
 "cells": [
  {
   "cell_type": "code",
   "execution_count": 1,
   "metadata": {},
   "outputs": [],
   "source": [
    "import matplotlib\n",
    "matplotlib.use('Qt5Agg')\n",
    "from matplotlib import pyplot as plt\n",
    "plt.rcParams.update({'font.size': 22})\n",
    "import numpy as np\n",
    "import sys\n",
    "sys.path.insert(0, '/home/misa/APDFT/prototyping/atomic_energies/')\n",
    "from parse_cube_files import CUBE\n",
    "import alchemy_tools as at"
   ]
  },
  {
   "cell_type": "code",
   "execution_count": 2,
   "metadata": {},
   "outputs": [],
   "source": [
    "p38 = '/home/misa/APDFT/prototyping/atomic_energies/results/test_calculations/lambda_integrals/dsgdb9nsd_002626/DENS_38.cube'\n",
    "p30 = '/home/misa/APDFT/prototyping/atomic_energies/results/test_calculations/lambda_integrals/dsgdb9nsd_002626/DENS_30.cube'\n",
    "p23 = '/home/misa/APDFT/prototyping/atomic_energies/results/test_calculations/lambda_integrals/dsgdb9nsd_002626/DENS_23.cube'\n",
    "p15 = '/home/misa/APDFT/prototyping/atomic_energies/results/test_calculations/lambda_integrals/dsgdb9nsd_002626/DENS_15.cube'\n",
    "p8 = '/home/misa/APDFT/prototyping/atomic_energies/results/test_calculations/lambda_integrals/dsgdb9nsd_002626/DENS_8.cube'\n",
    "p0 = '/home/misa/APDFT/prototyping/atomic_energies/results/test_calculations/lambda_integrals/free_electron_gas.cube'\n",
    "cubes = [(p0, 0), (p8, 8/38), (p15, 15/38), (p23, 23/38), (p30, 30/38), (p38, 1)]\n",
    "# ae, alchpots = atomic_energy_decomposition(cubes)\n",
    "trapz = at.atomic_energy_decomposition(cubes)\n",
    "cpsline = at.atomic_energy_decomposition(cubes, intgr_method='cspline')"
   ]
  },
  {
   "cell_type": "code",
   "execution_count": 3,
   "metadata": {},
   "outputs": [
    {
     "data": {
      "text/plain": [
       "array([-52.41941963, -38.81593713, -39.49926896, -39.88880231,\n",
       "       -38.57914187, -36.29823107, -32.4020716 ,  -5.39594217,\n",
       "        -5.70814393,  -5.64600143,  -5.78079931,  -5.79580329,\n",
       "        -5.5379296 ,  -5.53118386,  -4.54357057])"
      ]
     },
     "execution_count": 3,
     "metadata": {},
     "output_type": "execute_result"
    }
   ],
   "source": [
    "trapz[1]"
   ]
  },
  {
   "cell_type": "code",
   "execution_count": 4,
   "metadata": {},
   "outputs": [
    {
     "data": {
      "text/plain": [
       "array([-52.0147958 , -38.62132686, -39.29116795, -39.67074209,\n",
       "       -38.38228372, -36.10844065, -32.22907745,  -5.3742636 ,\n",
       "        -5.69021731,  -5.62843331,  -5.76003602,  -5.77317121,\n",
       "        -5.5175211 ,  -5.51003831,  -4.52988219])"
      ]
     },
     "execution_count": 4,
     "metadata": {},
     "output_type": "execute_result"
    }
   ],
   "source": [
    "cpsline[1]"
   ]
  },
  {
   "cell_type": "code",
   "execution_count": 5,
   "metadata": {},
   "outputs": [
    {
     "data": {
      "text/plain": [
       "array([-0.40462383, -0.19461027, -0.20810101, -0.21806022, -0.19685814,\n",
       "       -0.18979042, -0.17299415, -0.02167857, -0.01792662, -0.01756812,\n",
       "       -0.02076329, -0.02263208, -0.0204085 , -0.02114555, -0.01368837])"
      ]
     },
     "execution_count": 5,
     "metadata": {},
     "output_type": "execute_result"
    }
   ],
   "source": [
    "trapz[1]-cpsline[1]"
   ]
  },
  {
   "cell_type": "code",
   "execution_count": 6,
   "metadata": {},
   "outputs": [],
   "source": [
    "ve38 = CUBE(r'/home/misa/APDFT/prototyping/atomic_energies/results/slice_ve38/dsgdb9nsd_000227/cube-files/ve_38.cube')\n",
    "ve30 = CUBE(r'/home/misa/APDFT/prototyping/atomic_energies/results/slice_ve38/dsgdb9nsd_000227/cube-files/ve_30.cube')\n",
    "ve23 = CUBE(r'/home/misa/APDFT/prototyping/atomic_energies/results/slice_ve38/dsgdb9nsd_000227/cube-files/ve_23.cube')\n",
    "ve15 = CUBE(r'/home/misa/APDFT/prototyping/atomic_energies/results/slice_ve38/dsgdb9nsd_000227/cube-files/ve_15.cube')\n",
    "ve8 = CUBE(r'/home/misa/APDFT/prototyping/atomic_energies/results/slice_ve38/dsgdb9nsd_000227/cube-files/ve_8.cube')\n",
    "ve0 = CUBE(r'/home/misa/APDFT/prototyping/atomic_energies/results/slice_ve38/ueg/ueg.cube')"
   ]
  },
  {
   "cell_type": "code",
   "execution_count": 7,
   "metadata": {},
   "outputs": [],
   "source": [
    "lambda_densities = [ve0, ve8, ve15, ve23, ve30, ve38]\n",
    "density_arrays = []\n",
    "for dens in lambda_densities:\n",
    "    dens.scale()\n",
    "    density_arrays.append(dens.data_scaled)\n",
    "lam_vals = [0, 8/38, 15/38, 23/38, 30/38, 1]"
   ]
  },
  {
   "cell_type": "code",
   "execution_count": 8,
   "metadata": {},
   "outputs": [],
   "source": [
    "density_arrays[1].shape\n",
    "densities = np.array([ve0.data_scaled, ve8.data_scaled, ve15.data_scaled, ve23.data_scaled, ve30.data_scaled, ve38.data_scaled])"
   ]
  },
  {
   "cell_type": "code",
   "execution_count": 9,
   "metadata": {},
   "outputs": [
    {
     "name": "stdout",
     "output_type": "stream",
     "text": [
      "38.000158111702206\n",
      "38.00015814223458\n"
     ]
    }
   ],
   "source": [
    "av_dens_trapz = at.integrate_lambda_density(density_arrays, lam_vals)\n",
    "\n",
    "av_dens_cspl = at.integrate_lambda_density(density_arrays, lam_vals, method='cspline')\n",
    "print(av_dens_trapz.sum())\n",
    "print(av_dens_cspl.sum())"
   ]
  },
  {
   "cell_type": "code",
   "execution_count": null,
   "metadata": {},
   "outputs": [],
   "source": []
  },
  {
   "cell_type": "code",
   "execution_count": 10,
   "metadata": {},
   "outputs": [
    {
     "data": {
      "text/plain": [
       "<matplotlib.legend.Legend at 0x7f9ed79665f8>"
      ]
     },
     "execution_count": 10,
     "metadata": {},
     "output_type": "execute_result"
    }
   ],
   "source": [
    "# projection on line\n",
    "x = np.linspace(0, 20, 175)\n",
    "sa = (1,2)\n",
    "av_dens_1D = av_dens_cspl.sum(axis=sa)\n",
    "trpz = av_dens_trapz.sum(axis=sa)\n",
    "pd_1D = [ve38.project(sa), ve30.project(sa), ve23.project(sa), ve15.project(sa), ve8.project(sa), ve0.project(sa), av_dens_1D, trpz]\n",
    "label = [r'$\\rho(\\lambda = 1.0)$',r'$\\rho(\\lambda \\approx 0.79)$', r'$\\rho(\\lambda \\approx 0.61)$', r'$\\rho(\\lambda \\approx 0.39)$', r'$\\rho(\\lambda \\approx 0.21)$', r'$\\rho(\\lambda = 0)$', r'$\\tilde{\\rho} \\approx \\int_0^1 d\\lambda \\rho(\\lambda, r)$', 'trpz']\n",
    "fig, ax = plt.subplots(1,1)\n",
    "for idx, pd in enumerate(pd_1D):\n",
    "    # bigger linewidth for lambda-averaged density\n",
    "    if idx == len(pd_1D)-1:\n",
    "        ax.plot(x, pd, '--', label=label[idx])\n",
    "    else:\n",
    "        ax.plot(x, pd, label=label[idx])\n",
    "\n",
    "ax.set_title('Boxsize = 20 Ang')\n",
    "ax.set_xlabel('Cell coordinate (Ang)')\n",
    "ax.set_xlim(0.5, 19.5)\n",
    "ax.set_ylabel(r'Projected Density $\\rho(x_0)$ (Bohr$^{-3}$) ')\n",
    "\n",
    "ax.legend()"
   ]
  },
  {
   "cell_type": "code",
   "execution_count": 11,
   "metadata": {},
   "outputs": [
    {
     "data": {
      "text/plain": [
       "<mpl_toolkits.mplot3d.art3d.Line3DCollection at 0x7f9ecc038eb8>"
      ]
     },
     "execution_count": 11,
     "metadata": {},
     "output_type": "execute_result"
    }
   ],
   "source": [
    "from mpl_toolkits.mplot3d import Axes3D\n",
    "X = np.array([x, x, x, x, x, x])\n",
    "Y = np.array([ve0.project(sa), ve8.project(sa), ve15.project(sa), ve23.project(sa), ve30.project(sa), ve38.project(sa)])\n",
    "Z = np.empty((6, 175))\n",
    "for idx, val in enumerate(lam_vals):\n",
    "    tmp = np.zeros(175)\n",
    "    tmp.fill(val)\n",
    "    Z[idx] = tmp\n",
    "\n",
    "fig = plt.figure()\n",
    "ax = fig.add_subplot(111, projection='3d')\n",
    "ax.plot_wireframe(X, Y, Z)"
   ]
  },
  {
   "cell_type": "code",
   "execution_count": 12,
   "metadata": {},
   "outputs": [
    {
     "data": {
      "text/plain": [
       "(2, 175, 175, 175)"
      ]
     },
     "execution_count": 12,
     "metadata": {},
     "output_type": "execute_result"
    }
   ],
   "source": [
    "np.array([ve0.data_scaled, ve0.data_scaled]).shape"
   ]
  },
  {
   "cell_type": "code",
   "execution_count": 13,
   "metadata": {},
   "outputs": [],
   "source": [
    "densities[3][86][86][87]\n",
    "# np.where(densities[0]==np.amax(densities[0]))\n",
    "f = np.empty(len(densities))\n",
    "for idx in range(0, len(densities)):\n",
    "    f[idx] = densities[idx][86][86][87]\n"
   ]
  },
  {
   "cell_type": "code",
   "execution_count": 14,
   "metadata": {},
   "outputs": [
    {
     "data": {
      "text/plain": [
       "[<mpl_toolkits.mplot3d.art3d.Line3D at 0x7f9eda5a7438>]"
      ]
     },
     "execution_count": 14,
     "metadata": {},
     "output_type": "execute_result"
    }
   ],
   "source": [
    "plt.plot(lam_vals,f, 'o')"
   ]
  },
  {
   "cell_type": "code",
   "execution_count": 15,
   "metadata": {},
   "outputs": [],
   "source": [
    "import scipy\n",
    "interp= scipy.interpolate.CubicSpline(lam_vals, f, bc_type=('clamped', 'not-a-knot'))\n",
    "interp.c\n",
    "\n",
    "f2=interp.__call__(np.linspace(0, 1, 100))"
   ]
  },
  {
   "cell_type": "code",
   "execution_count": 16,
   "metadata": {},
   "outputs": [
    {
     "data": {
      "text/plain": [
       "[<mpl_toolkits.mplot3d.art3d.Line3D at 0x7f9e9407d400>]"
      ]
     },
     "execution_count": 16,
     "metadata": {},
     "output_type": "execute_result"
    }
   ],
   "source": [
    "plt.plot(lam_vals,f, '-o')\n",
    "plt.plot(np.linspace(0, 1, 100),f2)"
   ]
  }
 ],
 "metadata": {
  "kernelspec": {
   "display_name": "Python [conda env:atomic-energies]",
   "language": "python",
   "name": "conda-env-atomic-energies-py"
  },
  "language_info": {
   "codemirror_mode": {
    "name": "ipython",
    "version": 3
   },
   "file_extension": ".py",
   "mimetype": "text/x-python",
   "name": "python",
   "nbconvert_exporter": "python",
   "pygments_lexer": "ipython3",
   "version": "3.7.3"
  }
 },
 "nbformat": 4,
 "nbformat_minor": 2
}
