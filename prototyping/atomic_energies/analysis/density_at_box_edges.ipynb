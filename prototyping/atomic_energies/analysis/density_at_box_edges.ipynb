{
 "cells": [
  {
   "cell_type": "code",
   "execution_count": 13,
   "metadata": {},
   "outputs": [],
   "source": [
    "import matplotlib\n",
    "matplotlib.use('Qt5Agg')\n",
    "from matplotlib import pyplot as plt\n",
    "plt.rcParams.update({'font.size': 22})\n",
    "import numpy as np\n",
    "import itertools\n",
    "import sys\n",
    "sys.path.insert(0, '/home/misa/APDFT/prototyping/atomic_energies/')\n",
    "from parse_cube_files import CUBE\n",
    "import alchemy_tools as at"
   ]
  },
  {
   "cell_type": "markdown",
   "metadata": {},
   "source": [
    "# Load cube-files"
   ]
  },
  {
   "cell_type": "code",
   "execution_count": 14,
   "metadata": {},
   "outputs": [],
   "source": [
    "'/home/misa/APDFT/prototyping/atomic_energies/results/slice_ve38/dsgdb9nsd_000227/cube-files/ve_38.cube'\n",
    "base_path = '/home/misa/APDFT/prototyping/atomic_energies/results/slice_ve38/'\n",
    "compounds = ['dsgdb9nsd_003585/cube-files/','dsgdb9nsd_002967/cube-files/', 'dsgdb9nsd_001212/cube-files/', 'dsgdb9nsd_003886/cube-files/', 'dsgdb9nsd_000227/cube-files/', 'dsgdb9nsd_003712/cube-files/']\n",
    "# compounds = ['dsgdb9nsd_003335/cube-files/', 'dsgdb9nsd_009030/cube-files/', 'dsgdb9nsd_021325/cube-files/']\n",
    "lam_vals = ['ve_38.cube', 've_30.cube', 've_23.cube', 've_15.cube', 've_8.cube']"
   ]
  },
  {
   "cell_type": "code",
   "execution_count": 15,
   "metadata": {},
   "outputs": [],
   "source": [
    "paths = []\n",
    "# build paths to cube-files\n",
    "for com in compounds:\n",
    "    paths_compound = []\n",
    "    for lam in lam_vals:\n",
    "        paths_compound.append(base_path + com + lam)\n",
    "    paths.append(paths_compound)"
   ]
  },
  {
   "cell_type": "code",
   "execution_count": 16,
   "metadata": {},
   "outputs": [],
   "source": [
    "cubes = []\n",
    "for p in paths:\n",
    "    cubes_compound = []\n",
    "    for cube in p:\n",
    "        cubes_compound.append(CUBE(cube))\n",
    "    cubes.append(cubes_compound)\n",
    "        "
   ]
  },
  {
   "cell_type": "code",
   "execution_count": 17,
   "metadata": {},
   "outputs": [],
   "source": [
    "new_cubes = []\n",
    "for lam in lam_vals:\n",
    "    new_cubes.append(CUBE(base_path + compounds[-1] + lam))\n",
    "cubes.append(new_cubes)"
   ]
  },
  {
   "cell_type": "markdown",
   "metadata": {},
   "source": [
    "# Plot densities"
   ]
  },
  {
   "cell_type": "code",
   "execution_count": 18,
   "metadata": {},
   "outputs": [
    {
     "ename": "IndexError",
     "evalue": "list index out of range",
     "output_type": "error",
     "traceback": [
      "\u001b[0;31m---------------------------------------------------------------------------\u001b[0m",
      "\u001b[0;31mIndexError\u001b[0m                                Traceback (most recent call last)",
      "\u001b[0;32m<ipython-input-18-cf38fcf1df3a>\u001b[0m in \u001b[0;36m<module>\u001b[0;34m\u001b[0m\n\u001b[1;32m      8\u001b[0m     \u001b[0;32mfor\u001b[0m \u001b[0mcube_file\u001b[0m \u001b[0;32min\u001b[0m \u001b[0mcom\u001b[0m\u001b[0;34m:\u001b[0m\u001b[0;34m\u001b[0m\u001b[0;34m\u001b[0m\u001b[0m\n\u001b[1;32m      9\u001b[0m         \u001b[0mx\u001b[0m \u001b[0;34m=\u001b[0m \u001b[0mnp\u001b[0m\u001b[0;34m.\u001b[0m\u001b[0mlinspace\u001b[0m\u001b[0;34m(\u001b[0m\u001b[0;36m0\u001b[0m\u001b[0;34m,\u001b[0m \u001b[0;36m20\u001b[0m\u001b[0;34m,\u001b[0m \u001b[0;36m175\u001b[0m\u001b[0;34m)\u001b[0m\u001b[0;34m\u001b[0m\u001b[0;34m\u001b[0m\u001b[0m\n\u001b[0;32m---> 10\u001b[0;31m         \u001b[0max\u001b[0m\u001b[0;34m[\u001b[0m\u001b[0midc\u001b[0m\u001b[0;34m[\u001b[0m\u001b[0midx\u001b[0m\u001b[0;34m]\u001b[0m\u001b[0;34m]\u001b[0m\u001b[0;34m.\u001b[0m\u001b[0mplot\u001b[0m\u001b[0;34m(\u001b[0m\u001b[0mx\u001b[0m\u001b[0;34m,\u001b[0m \u001b[0mcube_file\u001b[0m\u001b[0;34m.\u001b[0m\u001b[0mproject\u001b[0m\u001b[0;34m(\u001b[0m\u001b[0msa\u001b[0m\u001b[0;34m)\u001b[0m\u001b[0;34m)\u001b[0m\u001b[0;31m#, label=label[idx])\u001b[0m\u001b[0;34m\u001b[0m\u001b[0;34m\u001b[0m\u001b[0m\n\u001b[0m\u001b[1;32m     11\u001b[0m         \u001b[0max\u001b[0m\u001b[0;34m[\u001b[0m\u001b[0midc\u001b[0m\u001b[0;34m[\u001b[0m\u001b[0midx\u001b[0m\u001b[0;34m]\u001b[0m\u001b[0;34m]\u001b[0m\u001b[0;34m.\u001b[0m\u001b[0mset_title\u001b[0m\u001b[0;34m(\u001b[0m\u001b[0merrors\u001b[0m\u001b[0;34m[\u001b[0m\u001b[0midx\u001b[0m\u001b[0;34m]\u001b[0m\u001b[0;34m)\u001b[0m\u001b[0;34m\u001b[0m\u001b[0;34m\u001b[0m\u001b[0m\n\u001b[1;32m     12\u001b[0m         \u001b[0;32mif\u001b[0m \u001b[0midx\u001b[0m \u001b[0;34m==\u001b[0m \u001b[0;36m2\u001b[0m\u001b[0;34m:\u001b[0m\u001b[0;34m\u001b[0m\u001b[0;34m\u001b[0m\u001b[0m\n",
      "\u001b[0;31mIndexError\u001b[0m: list index out of range"
     ]
    }
   ],
   "source": [
    "# plot density 1D projections\n",
    "errors = ['Error = 0.005 Ha', 'Error = 0.05 Ha', 'Error = 1.16 Ha', 'Error = 2.34 Ha', 'Error = 3.70 Ha', 'Error = 4.08 Ha']\n",
    "\n",
    "sa = (0,1)\n",
    "fig, ax = plt.subplots(3,2)\n",
    "idc = list(itertools.product([0,1,2],[0,1]))\n",
    "for idx, com in enumerate(cubes):\n",
    "    for cube_file in com:\n",
    "        x = np.linspace(0, 20, 175)\n",
    "        ax[idc[idx]].plot(x, cube_file.project(sa))#, label=label[idx])\n",
    "        ax[idc[idx]].set_title(errors[idx])\n",
    "        if idx == 2:\n",
    "            ax[idc[idx]].set_xlabel('Cell coordinate (Ang)')\n",
    "        ax[idc[idx]].set_xlim(0.5, 19.5)\n",
    "        if idx ==0:\n",
    "            ax[idc[idx]].set_ylabel(r'Projected Density $\\rho(x_0)$ (Bohr$^{-3}$) ')\n",
    "\n"
   ]
  },
  {
   "cell_type": "code",
   "execution_count": null,
   "metadata": {},
   "outputs": [],
   "source": [
    "plt.plot(np.linspace(0,20,175),cubes[0][1].project((0,1)))\n",
    "plt.xlabel('Cell coordinate (Ang)')\n",
    "plt.ylabel(r'Projected Density $\\rho(x_0)$ (Bohr$^{-3}$) ')\n",
    "plt.xlim(0, 20)"
   ]
  },
  {
   "cell_type": "code",
   "execution_count": null,
   "metadata": {},
   "outputs": [],
   "source": [
    "change_dens = []\n",
    "for com in cubes:\n",
    "    ve30 = com[[0][1]]\n",
    "    delta = []\n",
    "    for perm in itertools.combinations([0,1,2], 2):\n",
    "        # project\n",
    "        pr = ve30.project(perm)\n",
    "        # divide in middle\n",
    "        div_idx = int(len(pr)/2)\n",
    "        # calculate increase towards border\n",
    "        delta1 = pr[0] - np.amin(pr[0:div_idx])\n",
    "        delta2 = pr[len(pr)-1] - np.amin(pr[div_idx:len(pr)-1])\n",
    "        delta.extend([delta1, delta2])\n",
    "    mean = np.array(delta).mean()\n",
    "    std = np.array(delta).std()\n",
    "    change_dens.append([mean, std])"
   ]
  },
  {
   "cell_type": "code",
   "execution_count": null,
   "metadata": {},
   "outputs": [],
   "source": [
    "error128 = [0.0004919845368407394, 0.24519761105562007, 0.4078284198416049]\n",
    "mean128 = np.array(change_dens)[:,0]\n",
    "std128 = np.array(change_dens)[:,1]"
   ]
  },
  {
   "cell_type": "code",
   "execution_count": null,
   "metadata": {
    "scrolled": true
   },
   "outputs": [],
   "source": [
    "error143 = np.array([0.004940390267178882, 0.09632850314161116, 0.23383183313433378, 0.2315427443636624])\n",
    "mean143 = np.array(change_dens)[1:5,0]\n",
    "std143 = np.array(change_dens)[1:5,1]\n"
   ]
  },
  {
   "cell_type": "code",
   "execution_count": null,
   "metadata": {},
   "outputs": [],
   "source": [
    "plt.errorbar(error128, mean128, yerr=std128, marker='.', linestyle='', label = 'd = 128')\n",
    "plt.errorbar(error143, mean143, yerr=std143, marker='.', linestyle='', label = 'd = 143')\n",
    "plt.legend(loc='lower right')\n",
    "plt.xlabel('Mean error per molecule (Ha)')\n",
    "plt.ylabel(r'$\\Delta \\rho(\\lambda = 0.8)$')\n",
    "plt.show()"
   ]
  },
  {
   "cell_type": "markdown",
   "metadata": {},
   "source": [
    "# FFT"
   ]
  },
  {
   "cell_type": "code",
   "execution_count": 47,
   "metadata": {},
   "outputs": [],
   "source": []
  },
  {
   "cell_type": "code",
   "execution_count": 48,
   "metadata": {},
   "outputs": [
    {
     "data": {
      "text/plain": [
       "<BarContainer object of 175 artists>"
      ]
     },
     "execution_count": 48,
     "metadata": {},
     "output_type": "execute_result"
    }
   ],
   "source": [
    "fig, ax = plt.subplots(1, 2)\n",
    "\n"
   ]
  },
  {
   "cell_type": "code",
   "execution_count": 106,
   "metadata": {},
   "outputs": [
    {
     "data": {
      "text/plain": [
       "[<matplotlib.lines.Line2D at 0x7f93871e8ba8>]"
      ]
     },
     "execution_count": 106,
     "metadata": {},
     "output_type": "execute_result"
    }
   ],
   "source": [
    "y=cubes[0][1].project((1,2))\n",
    "fig2, ax2 = plt.subplots()\n",
    "ax2.plot(np.linspace(0,20,175),y)"
   ]
  },
  {
   "cell_type": "code",
   "execution_count": 186,
   "metadata": {},
   "outputs": [
    {
     "data": {
      "text/plain": [
       "<matplotlib.legend.Legend at 0x7f9391efbc88>"
      ]
     },
     "execution_count": 186,
     "metadata": {},
     "output_type": "execute_result"
    }
   ],
   "source": [
    "ve30 = cubes[0][1]\n",
    "fig, ax = plt.subplots(1, 2)\n",
    "x = np.linspace(0, 20, 175)\n",
    "for perm in itertools.combinations([0,1,2], 2):\n",
    "        # project\n",
    "        pr = ve30.project(perm)\n",
    "        fft = np.fft.fft(pr)\n",
    "        ax[0].plot(np.arange(len(fft))[0:25],np.abs(fft)[0:25], '-o', label=str(perm))\n",
    "        ax[1].plot(x, pr, label=str(perm))\n",
    "        \n",
    "ax[0].legend()"
   ]
  },
  {
   "cell_type": "code",
   "execution_count": 187,
   "metadata": {},
   "outputs": [
    {
     "data": {
      "text/plain": [
       "<matplotlib.legend.Legend at 0x7f9391f9ff98>"
      ]
     },
     "execution_count": 187,
     "metadata": {},
     "output_type": "execute_result"
    }
   ],
   "source": [
    "fig_i, ax_i = plt.subplots()\n",
    "x = np.linspace(0, 20, 175)\n",
    "pr = ve30.project((0,1))\n",
    "ax_i.plot(x, pr, label='full')\n",
    "for idx in range(0,3):\n",
    "    pr = ve30.project((0,1))\n",
    "    fft = np.fft.fft(pr)\n",
    "    fft[idx] = 0.0\n",
    "    ifft= np.fft.ifft(fft)\n",
    "    ax_i.plot(x, ifft.real, label=\"without freq {}\".format(idx))\n",
    "ax_i.set_title('projection (0,1)')\n",
    "ax_i.legend()"
   ]
  },
  {
   "cell_type": "code",
   "execution_count": 188,
   "metadata": {},
   "outputs": [
    {
     "data": {
      "text/plain": [
       "<matplotlib.legend.Legend at 0x7f93906fddd8>"
      ]
     },
     "execution_count": 188,
     "metadata": {},
     "output_type": "execute_result"
    }
   ],
   "source": [
    "# rescale frequencies\n",
    "ve30 = cubes[0][1]\n",
    "fig, ax = plt.subplots(1, 2)\n",
    "x = np.linspace(0, 20, 175)\n",
    "\n",
    "# linear fit\n",
    "import scipy.stats\n",
    "# linear regression\n",
    "pr = ve30.project((0,1))\n",
    "fft = np.fft.fft(pr)\n",
    "lin_fit = scipy.stats.linregress(np.arange(6), np.abs(fft[0:6]))\n",
    "x_fit = np.linspace(-0.5, 7, 10)\n",
    "y_fit = lin_fit[1] + lin_fit[0]*x_fit\n",
    "y_scale = lin_fit[1] + lin_fit[0]*np.arange(6)\n",
    "\n",
    "\n",
    "for idx in range(0,1):\n",
    "        # project\n",
    "        pr = ve30.project((0,1))\n",
    "        fft = np.fft.fft(pr)\n",
    "        ax[0].plot(np.arange(len(fft))[0:25],np.abs(fft)[0:25], '-o', label='original')\n",
    "        ax[0].plot(np.arange(6), y_scale, '--o', label='fit', color='red')\n",
    "        \n",
    "        fft[0:6] = y_scale/np.abs(fft[0:6])*fft[0:6]\n",
    "        ifft = np.fft.ifft(fft)\n",
    "        \n",
    "        ax[1].plot(x, pr, label='original')\n",
    "        ax[1].plot(x, ifft.real, label='rescaled', color='red')\n",
    "        \n",
    "ax[0].set_ylim(-0.5, 40)     \n",
    "ax[0].legend()\n",
    "ax[1].legend()"
   ]
  },
  {
   "cell_type": "code",
   "execution_count": 189,
   "metadata": {},
   "outputs": [
    {
     "data": {
      "text/plain": [
       "<matplotlib.legend.Legend at 0x7f93942ad080>"
      ]
     },
     "execution_count": 189,
     "metadata": {},
     "output_type": "execute_result"
    }
   ],
   "source": [
    "fig_m, ax_m = plt.subplots(1,2)\n",
    "x = np.linspace(0, 20, 175)\n",
    "pr = ve30.project((0,1))\n",
    "# ax_m.plot(x, pr, label='full')\n",
    "\n",
    "fft = np.fft.fft(pr)\n",
    "fft_scaled = fft.copy()\n",
    "fft_scaled[1] = fft_scaled[1]*1.08\n",
    "fft_scaled[2] = fft_scaled[2]*0.92\n",
    "ifft= np.fft.ifft(fft_scaled)\n",
    "\n",
    "ax_m[0].plot(np.arange(len(fft))[0:25],np.abs(fft)[0:25], '-o', label='original')\n",
    "ax_m[0].plot(np.arange(len(fft))[0:25],np.abs(fft_scaled)[0:25], '-o', label='rescaled')\n",
    "\n",
    "ax_m[1].plot(x, pr.real, label=\"original\")\n",
    "ax_m[1].plot(x, ifft.real, label=\"rescaled\")\n",
    "\n",
    "\n",
    "\n",
    "\n",
    "ax_m[0].legend()\n",
    "ax_m[1].legend()"
   ]
  },
  {
   "cell_type": "code",
   "execution_count": null,
   "metadata": {},
   "outputs": [],
   "source": []
  }
 ],
 "metadata": {
  "kernelspec": {
   "display_name": "Python [conda env:atomic-energies]",
   "language": "python",
   "name": "conda-env-atomic-energies-py"
  },
  "language_info": {
   "codemirror_mode": {
    "name": "ipython",
    "version": 3
   },
   "file_extension": ".py",
   "mimetype": "text/x-python",
   "name": "python",
   "nbconvert_exporter": "python",
   "pygments_lexer": "ipython3",
   "version": "3.7.3"
  }
 },
 "nbformat": 4,
 "nbformat_minor": 2
}
