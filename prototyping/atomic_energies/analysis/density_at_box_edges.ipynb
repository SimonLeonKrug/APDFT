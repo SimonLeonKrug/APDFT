{
 "cells": [
  {
   "cell_type": "code",
   "execution_count": 11,
   "metadata": {},
   "outputs": [],
   "source": [
    "import matplotlib\n",
    "matplotlib.use('Qt5Agg')\n",
    "from matplotlib import pyplot as plt\n",
    "plt.rcParams.update({'font.size': 22})\n",
    "import numpy as np\n",
    "import itertools\n",
    "import sys\n",
    "sys.path.insert(0, '/home/misa/APDFT/prototyping/atomic_energies/')\n",
    "from parse_cube_files import CUBE\n",
    "import alchemy_tools as at"
   ]
  },
  {
   "cell_type": "markdown",
   "metadata": {},
   "source": [
    "# Load cube-files"
   ]
  },
  {
   "cell_type": "code",
   "execution_count": 148,
   "metadata": {},
   "outputs": [],
   "source": [
    "'/home/misa/APDFT/prototyping/atomic_energies/results/slice_ve38/dsgdb9nsd_000227/cube-files/ve_38.cube'\n",
    "base_path = '/home/misa/APDFT/prototyping/atomic_energies/results/slice_ve38/'\n",
    "compounds = ['dsgdb9nsd_003585/cube-files/','dsgdb9nsd_002967/cube-files/', 'dsgdb9nsd_001212/cube-files/', 'dsgdb9nsd_003886/cube-files/', 'dsgdb9nsd_000227/cube-files/', 'dsgdb9nsd_003712/cube-files/']\n",
    "# compounds = ['dsgdb9nsd_003335/cube-files/', 'dsgdb9nsd_009030/cube-files/', 'dsgdb9nsd_021325/cube-files/']\n",
    "lam_vals = ['ve_38.cube', 've_30.cube', 've_23.cube', 've_15.cube', 've_8.cube']"
   ]
  },
  {
   "cell_type": "code",
   "execution_count": 149,
   "metadata": {},
   "outputs": [],
   "source": [
    "paths = []\n",
    "# build paths to cube-files\n",
    "for com in compounds:\n",
    "    paths_compound = []\n",
    "    for lam in lam_vals:\n",
    "        paths_compound.append(base_path + com + lam)\n",
    "    paths.append(paths_compound)"
   ]
  },
  {
   "cell_type": "code",
   "execution_count": 150,
   "metadata": {},
   "outputs": [],
   "source": [
    "cubes = []\n",
    "for p in paths:\n",
    "    cubes_compound = []\n",
    "    for cube in p:\n",
    "        cubes_compound.append(CUBE(cube))\n",
    "    cubes.append(cubes_compound)\n",
    "        "
   ]
  },
  {
   "cell_type": "code",
   "execution_count": 68,
   "metadata": {},
   "outputs": [],
   "source": [
    "new_cubes = []\n",
    "for lam in lam_vals:\n",
    "    new_cubes.append(CUBE(base_path + compounds[-1] + lam))\n",
    "cubes.append(new_cubes)"
   ]
  },
  {
   "cell_type": "markdown",
   "metadata": {},
   "source": [
    "# Plot densities"
   ]
  },
  {
   "cell_type": "code",
   "execution_count": 161,
   "metadata": {},
   "outputs": [],
   "source": [
    "# plot density 1D projections\n",
    "# errors = ['Error = 0.005 Ha', 'Error = 0.05 Ha', 'Error = 1.16 Ha', 'Error = 2.34 Ha', 'Error = 3.70 Ha', 'Error = 4.08 Ha']\n",
    "\n",
    "sa = (1,2)\n",
    "fig, ax = plt.subplots(3,2)\n",
    "idc = list(itertools.product([0,1,2],[0,1]))\n",
    "for idx, com in enumerate(cubes):\n",
    "    for cube_file in com:\n",
    "        x = np.linspace(0, 20, 175)\n",
    "        ax[idc[idx]].plot(x, cube_file.project(sa))#, label=label[idx])\n",
    "#         ax[idc[idx]].set_title(errors[idx])\n",
    "        if idx == 2:\n",
    "            ax[idc[idx]].set_xlabel('Cell coordinate (Ang)')\n",
    "        ax[idc[idx]].set_xlim(0.5, 19.5)\n",
    "        if idx ==0:\n",
    "            ax[idc[idx]].set_ylabel(r'Projected Density $\\rho(x_0)$ (Bohr$^{-3}$) ')\n",
    "\n"
   ]
  },
  {
   "cell_type": "code",
   "execution_count": 167,
   "metadata": {},
   "outputs": [
    {
     "data": {
      "text/plain": [
       "(0, 20)"
      ]
     },
     "execution_count": 167,
     "metadata": {},
     "output_type": "execute_result"
    }
   ],
   "source": [
    "plt.plot(np.linspace(0,20,175),cubes[0][1].project((0,1)))\n",
    "plt.xlabel('Cell coordinate (Ang)')\n",
    "plt.ylabel(r'Projected Density $\\rho(x_0)$ (Bohr$^{-3}$) ')\n",
    "plt.xlim(0, 20)"
   ]
  },
  {
   "cell_type": "code",
   "execution_count": 151,
   "metadata": {},
   "outputs": [],
   "source": [
    "change_dens = []\n",
    "for com in cubes:\n",
    "    ve30 = com[[0][1]]\n",
    "    delta = []\n",
    "    for perm in itertools.combinations([0,1,2], 2):\n",
    "        # project\n",
    "        pr = ve30.project(perm)\n",
    "        # divide in middle\n",
    "        div_idx = int(len(pr)/2)\n",
    "        # calculate increase towards border\n",
    "        delta1 = pr[0] - np.amin(pr[0:div_idx])\n",
    "        delta2 = pr[len(pr)-1] - np.amin(pr[div_idx:len(pr)-1])\n",
    "        delta.extend([delta1, delta2])\n",
    "    mean = np.array(delta).mean()\n",
    "    std = np.array(delta).std()\n",
    "    change_dens.append([mean, std])"
   ]
  },
  {
   "cell_type": "code",
   "execution_count": 145,
   "metadata": {},
   "outputs": [],
   "source": [
    "error128 = [0.0004919845368407394, 0.24519761105562007, 0.4078284198416049]\n",
    "mean128 = np.array(change_dens)[:,0]\n",
    "std128 = np.array(change_dens)[:,1]"
   ]
  },
  {
   "cell_type": "code",
   "execution_count": 152,
   "metadata": {
    "scrolled": true
   },
   "outputs": [],
   "source": [
    "error143 = np.array([0.004940390267178882, 0.09632850314161116, 0.23383183313433378, 0.2315427443636624])\n",
    "mean143 = np.array(change_dens)[1:5,0]\n",
    "std143 = np.array(change_dens)[1:5,1]\n"
   ]
  },
  {
   "cell_type": "code",
   "execution_count": 160,
   "metadata": {},
   "outputs": [],
   "source": [
    "plt.errorbar(error128, mean128, yerr=std128, marker='.', linestyle='', label = 'd = 128')\n",
    "plt.errorbar(error143, mean143, yerr=std143, marker='.', linestyle='', label = 'd = 143')\n",
    "plt.legend(loc='lower right')\n",
    "plt.xlabel('Mean error per molecule (Ha)')\n",
    "plt.ylabel(r'$\\Delta \\rho(\\lambda = 0.8)$')\n",
    "plt.show()"
   ]
  },
  {
   "cell_type": "code",
   "execution_count": null,
   "metadata": {},
   "outputs": [],
   "source": []
  }
 ],
 "metadata": {
  "kernelspec": {
   "display_name": "Python [conda env:atomic-energies]",
   "language": "python",
   "name": "conda-env-atomic-energies-py"
  },
  "language_info": {
   "codemirror_mode": {
    "name": "ipython",
    "version": 3
   },
   "file_extension": ".py",
   "mimetype": "text/x-python",
   "name": "python",
   "nbconvert_exporter": "python",
   "pygments_lexer": "ipython3",
   "version": "3.7.3"
  }
 },
 "nbformat": 4,
 "nbformat_minor": 2
}
