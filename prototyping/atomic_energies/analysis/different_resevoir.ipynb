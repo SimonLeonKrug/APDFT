{
 "cells": [
  {
   "cell_type": "markdown",
   "metadata": {},
   "source": [
    "# GPAW"
   ]
  },
  {
   "cell_type": "code",
   "execution_count": null,
   "metadata": {},
   "outputs": [],
   "source": [
    "from ase import Atoms\n",
    "from gpaw import GPAW\n",
    "import numpy as np\n",
    "\n",
    "import matplotlib\n",
    "matplotlib.use('Qt5Agg')\n",
    "from matplotlib import pyplot as plt\n",
    "plt.rcParams['font.size'] = 20"
   ]
  },
  {
   "cell_type": "code",
   "execution_count": null,
   "metadata": {},
   "outputs": [],
   "source": [
    "basepath = '/home/misa/APDFT/prototyping/atomic_energies/results/different_resevoir/GPAW/'\n",
    "# cell parameters\n",
    "boxsize = 10.0\n",
    "d = 1.12\n",
    "pos1 = [boxsize/2, boxsize/2, boxsize/2-d/2]\n",
    "pos2 = [boxsize/2, boxsize/2, boxsize/2+d/2]\n",
    "molecules = ['H2', 'He2', 'Li2', 'Be2', 'B2', 'C2', 'N2']"
   ]
  },
  {
   "cell_type": "code",
   "execution_count": null,
   "metadata": {},
   "outputs": [],
   "source": [
    "for mol in molecules:\n",
    "    molecule = Atoms(mol, positions=[pos1, pos2], cell=(boxsize, boxsize, boxsize), pbc=False)\n",
    "    calc = GPAW(mode='fd', h = 0.1, xc='LDA', nbands=-4)\n",
    "    molecule.set_calculator(calc)\n",
    "    molecule.get_total_energy()\n",
    "    n = calc.get_all_electron_density()\n",
    "    ev = calc.get_eigenvalues()\n",
    "    hl = calc.get_homo_lumo()\n",
    "    occ = calc.get_occupation_numbers()\n",
    "    \n",
    "    np.save(basepath+mol+'_dens', n)\n",
    "    np.savetxt(basepath+mol+'_ev', ev)\n",
    "    np.savetxt(basepath+mol+'_hl', hl)\n",
    "    np.savetxt(basepath+mol+'_occ', occ)\n",
    "    "
   ]
  },
  {
   "cell_type": "code",
   "execution_count": null,
   "metadata": {},
   "outputs": [],
   "source": [
    "# test"
   ]
  },
  {
   "cell_type": "code",
   "execution_count": null,
   "metadata": {},
   "outputs": [],
   "source": [
    "molecule = Atoms(molecules[1], positions=[pos1, pos2], cell=(boxsize, boxsize, boxsize), pbc=False)\n",
    "calc = GPAW(mode='fd', h = 0.5, xc='LDA', txt='H2.txt', nbands=-4)\n",
    "molecule.set_calculator(calc)\n",
    "molecule.get_total_energy()"
   ]
  },
  {
   "cell_type": "code",
   "execution_count": null,
   "metadata": {},
   "outputs": [],
   "source": [
    "n = calc.get_all_electron_density()\n",
    "n_ps = calc.get_pseudo_density()"
   ]
  },
  {
   "cell_type": "code",
   "execution_count": null,
   "metadata": {},
   "outputs": [],
   "source": [
    "plt.plot(n.sum(axis=(0,1)))\n",
    "plt.plot(n_ps.sum(axis=(0,1)))"
   ]
  },
  {
   "cell_type": "code",
   "execution_count": null,
   "metadata": {},
   "outputs": [],
   "source": [
    "n.shape[0]"
   ]
  },
  {
   "cell_type": "code",
   "execution_count": null,
   "metadata": {},
   "outputs": [],
   "source": [
    "1/n.shape[0]**3*n.sum()*1000"
   ]
  },
  {
   "cell_type": "code",
   "execution_count": null,
   "metadata": {},
   "outputs": [],
   "source": [
    "calc.get_eigenvalues()"
   ]
  },
  {
   "cell_type": "code",
   "execution_count": null,
   "metadata": {},
   "outputs": [],
   "source": [
    "calc.get_homo_lumo()"
   ]
  },
  {
   "cell_type": "code",
   "execution_count": null,
   "metadata": {},
   "outputs": [],
   "source": [
    "calc.get_occupation_numbers()"
   ]
  },
  {
   "cell_type": "markdown",
   "metadata": {},
   "source": [
    "# VASP"
   ]
  },
  {
   "cell_type": "code",
   "execution_count": null,
   "metadata": {},
   "outputs": [],
   "source": [
    "import sys\n",
    "sys.path.insert(0, '/home/misa/APDFT/prototyping/atomic_energies/')\n",
    "\n",
    "import alchemy_tools2 as at\n",
    "import numpy as np\n",
    "from explore_qml_data import get_free_atom_data\n",
    "\n",
    "import matplotlib\n",
    "matplotlib.use('Qt5Agg')\n",
    "from matplotlib import pyplot as plt\n",
    "plt.rcParams['font.size'] = 20"
   ]
  },
  {
   "cell_type": "code",
   "execution_count": null,
   "metadata": {},
   "outputs": [],
   "source": [
    "basepath = '/home/misa/APDFT/prototyping/atomic_energies/results/different_resevoir/'\n",
    "subpath = ['H2', 'He2', 'Li2', 'Be2', 'B2', 'C2', 'N2']\n",
    "paths = []\n",
    "for sp in subpath:\n",
    "    paths.append(basepath + sp + '/' + 'CHG')\n"
   ]
  },
  {
   "cell_type": "markdown",
   "metadata": {},
   "source": [
    "# $\\partial_{\\lambda} E$"
   ]
  },
  {
   "cell_type": "code",
   "execution_count": null,
   "metadata": {},
   "outputs": [],
   "source": [
    "densities, nuclei, gpts, h_matrix = at.load_vasp_dens(paths)"
   ]
  },
  {
   "cell_type": "code",
   "execution_count": null,
   "metadata": {},
   "outputs": [],
   "source": [
    "lam_vals = np.array([0,1,2,3,4,5,6,7])/7"
   ]
  },
  {
   "cell_type": "code",
   "execution_count": null,
   "metadata": {},
   "outputs": [],
   "source": [
    "nuclei, atomic_energies_with_repulsion, atomic_energies, alch_pots = at.atomic_energy_decomposition(lam_vals, densities, nuclei, gpts, h_matrix)"
   ]
  },
  {
   "cell_type": "code",
   "execution_count": null,
   "metadata": {},
   "outputs": [],
   "source": [
    "dEdlam = []\n",
    "for d in densities:\n",
    "    aer, atomic_energies, alch_pots = at.calculate_atomic_energies(d, nuclei, gpts, h_matrix)\n",
    "    dEdlam.append(atomic_energies[0])\n",
    "dEdlam = np.array(dEdlam)"
   ]
  },
  {
   "cell_type": "code",
   "execution_count": null,
   "metadata": {},
   "outputs": [],
   "source": [
    "# # without electronic potential\n",
    "# fig, ax = plt.subplots(1,1)\n",
    "# plt.plot(lam_vals, dEdlam, '-o')\n",
    "# ax.set_xlabel(r'$\\lambda$')\n",
    "# ax.set_ylabel(r'$\\partial_{\\lambda} E$')"
   ]
  },
  {
   "cell_type": "code",
   "execution_count": null,
   "metadata": {},
   "outputs": [],
   "source": [
    "e_lumo = {'non':0.0, 'H2':-1.2080, 'He2':-0.1406 , 'Li2':-3.2962, 'Be2': -4.4627, 'B2':-6.1195, 'C2':-7.9358, 'N2':-2.0942}\n",
    "# e_homo = {'H2':-8.8894, 'He2':}"
   ]
  },
  {
   "cell_type": "code",
   "execution_count": null,
   "metadata": {},
   "outputs": [],
   "source": [
    "dElam_epot = dEdlam.copy()\n",
    "for i,k in enumerate(e_lumo):\n",
    "    dElam_epot[i] += e_lumo[k]\n",
    "    print(e_lumo[k])"
   ]
  },
  {
   "cell_type": "code",
   "execution_count": null,
   "metadata": {},
   "outputs": [],
   "source": [
    "# without electronic potential\n",
    "fig, ax = plt.subplots(1,1)\n",
    "plt.plot(lam_vals, dEdlam, '-o', label='without electronic potential')\n",
    "plt.plot(lam_vals, dElam_epot, '-o', label='with electronic potential')\n",
    "ax.set_xlabel(r'$\\lambda$')\n",
    "ax.set_ylabel(r'$\\partial_{\\lambda} E$')\n",
    "ax.legend()"
   ]
  },
  {
   "cell_type": "code",
   "execution_count": null,
   "metadata": {},
   "outputs": [],
   "source": []
  }
 ],
 "metadata": {
  "kernelspec": {
   "display_name": "Python [conda env:atomic-energies]",
   "language": "python",
   "name": "conda-env-atomic-energies-py"
  },
  "language_info": {
   "codemirror_mode": {
    "name": "ipython",
    "version": 3
   },
   "file_extension": ".py",
   "mimetype": "text/x-python",
   "name": "python",
   "nbconvert_exporter": "python",
   "pygments_lexer": "ipython3",
   "version": "3.7.3"
  }
 },
 "nbformat": 4,
 "nbformat_minor": 2
}
