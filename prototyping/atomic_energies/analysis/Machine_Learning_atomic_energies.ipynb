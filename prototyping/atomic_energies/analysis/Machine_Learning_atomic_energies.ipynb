{
 "cells": [
  {
   "cell_type": "code",
   "execution_count": 2,
   "metadata": {},
   "outputs": [],
   "source": [
    "import qml\n",
    "import numpy as np\n",
    "\n",
    "import sys\n",
    "sys.path.insert(0, '/home/misa/APDFT/prototyping/atomic_energies/')\n",
    "import qml_interface as qi"
   ]
  },
  {
   "cell_type": "markdown",
   "metadata": {},
   "source": [
    "# Import data"
   ]
  },
  {
   "cell_type": "code",
   "execution_count": 3,
   "metadata": {},
   "outputs": [],
   "source": [
    "paths=qi.wrapper_alch_data()"
   ]
  },
  {
   "cell_type": "code",
   "execution_count": 4,
   "metadata": {},
   "outputs": [],
   "source": [
    "# paths"
   ]
  },
  {
   "cell_type": "code",
   "execution_count": 5,
   "metadata": {},
   "outputs": [],
   "source": [
    "# load data into list, count number of atoms per molecule\n",
    "alchemy_data, molecule_size = qi.load_alchemy_data(paths)\n",
    "max_size = np.amax(molecule_size)"
   ]
  },
  {
   "cell_type": "markdown",
   "metadata": {},
   "source": [
    "# Generate Representation"
   ]
  },
  {
   "cell_type": "code",
   "execution_count": 6,
   "metadata": {},
   "outputs": [],
   "source": [
    "full_matrix = qi.generate_atomic_representations(alchemy_data, molecule_size)"
   ]
  },
  {
   "cell_type": "code",
   "execution_count": 7,
   "metadata": {
    "scrolled": true
   },
   "outputs": [
    {
     "data": {
      "text/plain": [
       "(7584, 210)"
      ]
     },
     "execution_count": 7,
     "metadata": {},
     "output_type": "execute_result"
    }
   ],
   "source": [
    "full_matrix.shape\n"
   ]
  },
  {
   "cell_type": "markdown",
   "metadata": {},
   "source": [
    "# Calculate distance between representations"
   ]
  },
  {
   "cell_type": "code",
   "execution_count": 8,
   "metadata": {},
   "outputs": [],
   "source": [
    "dist = qi.calculate_distances(full_matrix)"
   ]
  },
  {
   "cell_type": "markdown",
   "metadata": {},
   "source": [
    "# Generate Label vector"
   ]
  },
  {
   "cell_type": "code",
   "execution_count": 9,
   "metadata": {},
   "outputs": [],
   "source": [
    "energies = qi.generate_label_vector(alchemy_data, molecule_size.sum())"
   ]
  },
  {
   "cell_type": "markdown",
   "metadata": {},
   "source": [
    "# Difference between labels"
   ]
  },
  {
   "cell_type": "code",
   "execution_count": 10,
   "metadata": {},
   "outputs": [],
   "source": [
    "diff_shape = int(len(full_matrix)*(len(full_matrix)+1)/2)\n",
    "start=0\n",
    "width = len(full_matrix)\n",
    "en_diff = np.empty(diff_shape)\n",
    "for idx in range(0, len(full_matrix)):\n",
    "    en_diff[start:start+width] = np.abs(energies[idx]-energies[idx:])\n",
    "    start = start+width\n",
    "    width -= 1"
   ]
  },
  {
   "cell_type": "markdown",
   "metadata": {},
   "source": [
    "# Plots"
   ]
  },
  {
   "cell_type": "code",
   "execution_count": 11,
   "metadata": {},
   "outputs": [],
   "source": [
    "import matplotlib\n",
    "matplotlib.use('Qt5Agg')\n",
    "from matplotlib import pyplot as plt\n",
    "plt.rcParams.update({'font.size': 22})\n"
   ]
  },
  {
   "cell_type": "code",
   "execution_count": 12,
   "metadata": {},
   "outputs": [
    {
     "data": {
      "text/plain": [
       "Text(0, 0.5, '$|e_i - e_j|$')"
      ]
     },
     "execution_count": 12,
     "metadata": {},
     "output_type": "execute_result"
    }
   ],
   "source": [
    "# select random indices\n",
    "indices = np.random.choice(len(dist), 100000)\n",
    "indices = np.sort(indices)\n",
    "\n",
    "fig, ax = plt.subplots(1,1)\n",
    "\n",
    "ax.plot(np.take(dist, indices), np.take(en_diff, indices), 'o')\n",
    "ax.set_xlabel(r'$d_{ij} $')\n",
    "ax.set_ylabel('$|e_i - e_j|$')"
   ]
  },
  {
   "cell_type": "markdown",
   "metadata": {},
   "source": [
    "# Generate Kernel"
   ]
  },
  {
   "cell_type": "code",
   "execution_count": 13,
   "metadata": {},
   "outputs": [],
   "source": [
    "import qml.kernels"
   ]
  },
  {
   "cell_type": "code",
   "execution_count": 14,
   "metadata": {},
   "outputs": [
    {
     "data": {
      "text/plain": [
       "array([[36.8581052 ,  2.90564209,  0.5       , ...,  0.        ,\n",
       "         0.        ,  0.        ],\n",
       "       [36.8581052 , 17.73882949, 73.51669472, ...,  0.        ,\n",
       "         0.        ,  0.        ],\n",
       "       [36.8581052 ,  2.90563574,  0.5       , ...,  0.        ,\n",
       "         0.        ,  0.        ],\n",
       "       ...,\n",
       "       [53.3587074 , 19.54993299, 53.3587074 , ...,  0.        ,\n",
       "         0.        ,  0.        ],\n",
       "       [ 0.5       ,  2.92143402, 36.8581052 , ...,  0.        ,\n",
       "         0.        ,  0.        ],\n",
       "       [ 0.5       ,  2.92677017, 36.8581052 , ...,  0.        ,\n",
       "         0.        ,  0.        ]])"
      ]
     },
     "execution_count": 14,
     "metadata": {},
     "output_type": "execute_result"
    }
   ],
   "source": [
    "full_matrix"
   ]
  },
  {
   "cell_type": "code",
   "execution_count": 30,
   "metadata": {},
   "outputs": [],
   "source": [
    "gaussian_kernel = qml.kernels.gaussian_kernel(full_matrix, full_matrix, 50)"
   ]
  },
  {
   "cell_type": "code",
   "execution_count": 31,
   "metadata": {},
   "outputs": [
    {
     "data": {
      "text/plain": [
       "array([[1.        , 0.00261597, 1.        , ..., 0.02186433, 0.00887465,\n",
       "        0.01125817],\n",
       "       [0.00261597, 1.        , 0.00261597, ..., 0.04485299, 0.00696276,\n",
       "        0.00694635],\n",
       "       [1.        , 0.00261597, 1.        , ..., 0.02186432, 0.00887465,\n",
       "        0.01125817],\n",
       "       ...,\n",
       "       [0.02186433, 0.04485299, 0.02186432, ..., 1.        , 0.06050074,\n",
       "        0.08728541],\n",
       "       [0.00887465, 0.00696276, 0.00887465, ..., 0.06050074, 1.        ,\n",
       "        0.88190044],\n",
       "       [0.01125817, 0.00694635, 0.01125817, ..., 0.08728541, 0.88190044,\n",
       "        1.        ]])"
      ]
     },
     "execution_count": 31,
     "metadata": {},
     "output_type": "execute_result"
    }
   ],
   "source": [
    "gaussian_kernel"
   ]
  },
  {
   "cell_type": "code",
   "execution_count": 17,
   "metadata": {},
   "outputs": [],
   "source": [
    "# test if kernels.gaussian_kernel does what we want by comparing the kernel elements\n",
    "# to manually computed elements"
   ]
  },
  {
   "cell_type": "code",
   "execution_count": 18,
   "metadata": {},
   "outputs": [],
   "source": [
    "def kernel_element(rep_matrix, i, j, sigma):\n",
    "    d = np.linalg.norm(rep_matrix[i]-rep_matrix[j])\n",
    "    element = np.exp(-np.power(d,2)/(2*sigma**2))\n",
    "    return(element)"
   ]
  },
  {
   "cell_type": "code",
   "execution_count": 24,
   "metadata": {},
   "outputs": [
    {
     "data": {
      "text/plain": [
       "True"
      ]
     },
     "execution_count": 24,
     "metadata": {},
     "output_type": "execute_result"
    }
   ],
   "source": [
    "import math\n",
    "math.isclose(kernel_element(full_matrix, 0, 5, 100), gaussian_kernel[0,5])"
   ]
  },
  {
   "cell_type": "markdown",
   "metadata": {},
   "source": [
    "# Calculate Regression Coefficients"
   ]
  },
  {
   "cell_type": "code",
   "execution_count": 25,
   "metadata": {},
   "outputs": [],
   "source": [
    "import qml.math"
   ]
  },
  {
   "cell_type": "code",
   "execution_count": 33,
   "metadata": {},
   "outputs": [],
   "source": [
    "coefficients = qml.math.cho_solve(gaussian_kernel, energies)"
   ]
  },
  {
   "cell_type": "code",
   "execution_count": 34,
   "metadata": {},
   "outputs": [
    {
     "data": {
      "text/plain": [
       "(7584,)"
      ]
     },
     "execution_count": 34,
     "metadata": {},
     "output_type": "execute_result"
    }
   ],
   "source": [
    "coefficients.shape"
   ]
  },
  {
   "cell_type": "markdown",
   "metadata": {},
   "source": [
    "# Prediction"
   ]
  },
  {
   "cell_type": "code",
   "execution_count": null,
   "metadata": {},
   "outputs": [],
   "source": [
    "# build training kernel by selecting elements from full kernel and their labels\n",
    "# solve for training kernel, labels to get coefficients\n",
    "# pick test data by selecting elements from full kernel that contain test element and training elements\n",
    "# predict label and compare"
   ]
  }
 ],
 "metadata": {
  "kernelspec": {
   "display_name": "Python (atmoic-energies)",
   "language": "python",
   "name": "atomic-energies"
  },
  "language_info": {
   "codemirror_mode": {
    "name": "ipython",
    "version": 3
   },
   "file_extension": ".py",
   "mimetype": "text/x-python",
   "name": "python",
   "nbconvert_exporter": "python",
   "pygments_lexer": "ipython3",
   "version": "3.7.3"
  }
 },
 "nbformat": 4,
 "nbformat_minor": 2
}
