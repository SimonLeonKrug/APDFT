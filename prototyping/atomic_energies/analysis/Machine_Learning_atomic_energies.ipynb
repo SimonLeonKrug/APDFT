{
 "cells": [
  {
   "cell_type": "code",
   "execution_count": 1,
   "metadata": {},
   "outputs": [],
   "source": [
    "import qml\n",
    "import numpy as np\n",
    "\n",
    "import sys\n",
    "sys.path.insert(0, '/home/misa/APDFT/prototyping/atomic_energies/')\n",
    "import qml_interface as qi"
   ]
  },
  {
   "cell_type": "markdown",
   "metadata": {},
   "source": [
    "# Import data"
   ]
  },
  {
   "cell_type": "code",
   "execution_count": 2,
   "metadata": {},
   "outputs": [],
   "source": [
    "paths=qi.wrapper_alch_data()"
   ]
  },
  {
   "cell_type": "code",
   "execution_count": 47,
   "metadata": {},
   "outputs": [],
   "source": [
    "# paths"
   ]
  },
  {
   "cell_type": "code",
   "execution_count": 3,
   "metadata": {},
   "outputs": [],
   "source": [
    "# load data into list, count number of atoms per molecule\n",
    "alchemy_data, molecule_size = qi.load_alchemy_data(paths)\n",
    "max_size = np.amax(molecule_size)"
   ]
  },
  {
   "cell_type": "markdown",
   "metadata": {},
   "source": [
    "# Generate Representation"
   ]
  },
  {
   "cell_type": "code",
   "execution_count": 4,
   "metadata": {},
   "outputs": [],
   "source": [
    "full_matrix = qi.generate_atomic_representations(alchemy_data, molecule_size)"
   ]
  },
  {
   "cell_type": "code",
   "execution_count": 5,
   "metadata": {
    "scrolled": true
   },
   "outputs": [
    {
     "data": {
      "text/plain": [
       "array([[36.8581052 ,  2.90564209,  0.5       , ...,  0.        ,\n",
       "         0.        ,  0.        ],\n",
       "       [36.8581052 , 17.73882949, 73.51669472, ...,  0.        ,\n",
       "         0.        ,  0.        ],\n",
       "       [36.8581052 ,  2.90563574,  0.5       , ...,  0.        ,\n",
       "         0.        ,  0.        ],\n",
       "       ...,\n",
       "       [53.3587074 , 19.54993299, 53.3587074 , ...,  0.        ,\n",
       "         0.        ,  0.        ],\n",
       "       [ 0.5       ,  2.92143402, 36.8581052 , ...,  0.        ,\n",
       "         0.        ,  0.        ],\n",
       "       [ 0.5       ,  2.92677017, 36.8581052 , ...,  0.        ,\n",
       "         0.        ,  0.        ]])"
      ]
     },
     "execution_count": 5,
     "metadata": {},
     "output_type": "execute_result"
    }
   ],
   "source": [
    "full_matrix\n"
   ]
  },
  {
   "cell_type": "markdown",
   "metadata": {},
   "source": [
    "# Calculate distance between representations"
   ]
  },
  {
   "cell_type": "code",
   "execution_count": 19,
   "metadata": {},
   "outputs": [],
   "source": [
    "dist_shape = int(len(full_matrix)*(len(full_matrix)+1)/2)\n",
    "start=0\n",
    "width = len(full_matrix)\n",
    "dist = np.empty(dist_shape)\n",
    "for idx in range(0, len(full_matrix)):\n",
    "    dist[start:start+width] = np.linalg.norm(full_matrix[idx]-full_matrix[idx:], axis=1)\n",
    "    start = start+width\n",
    "    width -= 1"
   ]
  },
  {
   "cell_type": "markdown",
   "metadata": {},
   "source": [
    "# Generate Label vector"
   ]
  },
  {
   "cell_type": "code",
   "execution_count": 8,
   "metadata": {},
   "outputs": [],
   "source": [
    "energies = np.zeros(len(full_matrix))\n",
    "start = 0\n",
    "for idx, mol in enumerate(alchemy_data):\n",
    "    length = len(alchemy_data[idx][:,6])\n",
    "    energies[start:length+start] = alchemy_data[idx][:,6]\n",
    "    start += length"
   ]
  },
  {
   "cell_type": "markdown",
   "metadata": {},
   "source": [
    "# Difference between labels"
   ]
  },
  {
   "cell_type": "code",
   "execution_count": 9,
   "metadata": {},
   "outputs": [],
   "source": [
    "diff_shape = int(len(full_matrix)*(len(full_matrix)+1)/2)\n",
    "start=0\n",
    "width = len(full_matrix)\n",
    "en_diff = np.empty(diff_shape)\n",
    "for idx in range(0, len(full_matrix)):\n",
    "    en_diff[start:start+width] = np.abs(energies[idx]-energies[idx:])\n",
    "    start = start+width\n",
    "    width -= 1"
   ]
  },
  {
   "cell_type": "markdown",
   "metadata": {},
   "source": [
    "# Plots"
   ]
  },
  {
   "cell_type": "code",
   "execution_count": 16,
   "metadata": {},
   "outputs": [],
   "source": [
    "import matplotlib\n",
    "matplotlib.use('Qt5Agg')\n",
    "from matplotlib import pyplot as plt\n",
    "plt.rcParams.update({'font.size': 22})\n"
   ]
  },
  {
   "cell_type": "code",
   "execution_count": 44,
   "metadata": {},
   "outputs": [
    {
     "data": {
      "text/plain": [
       "Text(0, 0.5, '$|e_i - e_j|$')"
      ]
     },
     "execution_count": 44,
     "metadata": {},
     "output_type": "execute_result"
    }
   ],
   "source": [
    "# select random indices\n",
    "indices = np.random.choice(len(dist), 100000)\n",
    "indices = np.sort(indices)\n",
    "\n",
    "fig, ax = plt.subplots(1,1)\n",
    "\n",
    "ax.plot(np.take(dist, indices), np.take(en_diff, indices), 'o')\n",
    "ax.set_xlabel(r'$d_{ij} $')\n",
    "ax.set_ylabel('$|e_i - e_j|$')"
   ]
  }
 ],
 "metadata": {
  "kernelspec": {
   "display_name": "Python (atmoic-energies)",
   "language": "python",
   "name": "atomic-energies"
  },
  "language_info": {
   "codemirror_mode": {
    "name": "ipython",
    "version": 3
   },
   "file_extension": ".py",
   "mimetype": "text/x-python",
   "name": "python",
   "nbconvert_exporter": "python",
   "pygments_lexer": "ipython3",
   "version": "3.7.3"
  }
 },
 "nbformat": 4,
 "nbformat_minor": 2
}
