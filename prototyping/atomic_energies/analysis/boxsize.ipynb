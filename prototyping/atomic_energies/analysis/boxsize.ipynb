{
 "cells": [
  {
   "cell_type": "code",
   "execution_count": 1,
   "metadata": {},
   "outputs": [],
   "source": [
    "import matplotlib\n",
    "matplotlib.use('Qt5Agg')\n",
    "from matplotlib import pyplot as plt\n",
    "plt.rcParams.update({'font.size': 22})\n",
    "\n",
    "import numpy as np\n",
    "\n",
    "import sys\n",
    "sys.path.insert(0, '/home/misa/APDFT/prototyping/atomic_energies/')\n",
    "\n",
    "from parse_cube_files import CUBE"
   ]
  },
  {
   "cell_type": "markdown",
   "metadata": {},
   "source": [
    "# Boxsize = 20 Ang"
   ]
  },
  {
   "cell_type": "code",
   "execution_count": 2,
   "metadata": {},
   "outputs": [],
   "source": [
    "Dens_38val = CUBE(r'/home/misa/APDFT/prototyping/atomic_energies/results/calculations/converge_lambda_test/initial_conditions/val_el_30/approach_a2/initial_run/DENSITY.cube')\n",
    "Dens_30val = CUBE(r'/home/misa/APDFT/prototyping/atomic_energies/results/calculations/converge_lambda_test/optimizer/val_el_30/cg_step_5/DENSITY.cube')\n",
    "Dens_8val = CUBE(r'/home/misa/APDFT/prototyping/atomic_energies/results/calculations/converge_lambda_test/optimizer/val_el_8/cg_step_5/DENSITY.cube')\n",
    "coordinate_b20 = np.linspace(0.5, 20-0.5, 180)"
   ]
  },
  {
   "cell_type": "code",
   "execution_count": 7,
   "metadata": {},
   "outputs": [],
   "source": [
    "# projection on plane\n",
    "projected_densities_2D_b20 = [Dens_38val.project(0), Dens_30val.project(0), Dens_8val.project(0)]\n",
    "label = [r'$\\lambda = 1.0$',r'$\\lambda \\approx 0.79$', r'$\\lambda \\approx 0.21$']\n",
    "for idx, pd in enumerate(projected_densities_2D_b20):\n",
    "    fig_2D, ax_2D = plt.subplots(1,1)\n",
    "    ax_2D.contour(coordinate_b20, coordinate_b20, pd)\n",
    "    ax_2D.set_title(r'Boxsize = 20, ' + label[idx])\n",
    "    ax_2D.set_xlabel(r'Cell coordinate $x_0$')\n",
    "    ax_2D.set_ylabel(r'Cell coordinate $x_1$')\n",
    "\n"
   ]
  },
  {
   "cell_type": "code",
   "execution_count": 8,
   "metadata": {},
   "outputs": [
    {
     "data": {
      "text/plain": [
       "<matplotlib.legend.Legend at 0x7f1986a330f0>"
      ]
     },
     "execution_count": 8,
     "metadata": {},
     "output_type": "execute_result"
    }
   ],
   "source": [
    "# projection on line\n",
    "projected_densities_1D_b20 = [Dens_38val.project((0,1)), Dens_30val.project((0,1)), Dens_8val.project((0,1))]\n",
    "label = [r'$\\lambda = 1.0$',r'$\\lambda \\approx 0.79$', r'$\\lambda \\approx 0.21$']\n",
    "fig_1D_b20, ax_1D_b20 = plt.subplots(1,1)\n",
    "for idx, pd in enumerate(projected_densities_1D_b20):\n",
    "    ax_1D_b20.plot(coordinate_b20, pd, label=label[idx])\n",
    "\n",
    "ax_1D_b20.set_title('Boxsize = 20 Ang')\n",
    "ax_1D_b20.set_xlabel('Cell coordinate (Ang)')\n",
    "ax_1D_b20.set_xlim(0.5, 19.5)\n",
    "ax_1D_b20.set_ylabel(r'Projected Density $\\rho(x_0)$ (Bohr$^{-3}$) ')\n",
    "\n",
    "ax_1D_b20.legend()"
   ]
  }
 ],
 "metadata": {
  "kernelspec": {
   "display_name": "Python (atmoic-energies)",
   "language": "python",
   "name": "atomic-energies"
  },
  "language_info": {
   "codemirror_mode": {
    "name": "ipython",
    "version": 3
   },
   "file_extension": ".py",
   "mimetype": "text/x-python",
   "name": "python",
   "nbconvert_exporter": "python",
   "pygments_lexer": "ipython3",
   "version": "3.7.3"
  }
 },
 "nbformat": 4,
 "nbformat_minor": 2
}
