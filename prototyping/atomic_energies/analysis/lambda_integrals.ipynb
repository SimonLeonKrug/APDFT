{
 "cells": [
  {
   "cell_type": "code",
   "execution_count": 1,
   "metadata": {},
   "outputs": [],
   "source": [
    "import matplotlib\n",
    "matplotlib.use('Qt5Agg')\n",
    "from matplotlib import pyplot as plt\n",
    "plt.rcParams.update({'font.size': 22})\n",
    "import numpy as np\n",
    "import sys\n",
    "sys.path.insert(0, '/home/misa/APDFT/prototyping/atomic_energies/')\n",
    "from parse_cube_files import CUBE"
   ]
  },
  {
   "cell_type": "markdown",
   "metadata": {},
   "source": [
    "# dsgdb9nsd_002626"
   ]
  },
  {
   "cell_type": "code",
   "execution_count": 2,
   "metadata": {},
   "outputs": [],
   "source": [
    "ve38 = CUBE(r'/home/misa/APDFT/prototyping/atomic_energies/results/test_calculations/lambda_integrals/dsgdb9nsd_002626/DENS_38.cube')\n",
    "ve30 = CUBE(r'/home/misa/APDFT/prototyping/atomic_energies/results/test_calculations/lambda_integrals/dsgdb9nsd_002626/DENS_30.cube')\n",
    "ve23 = CUBE(r'/home/misa/APDFT/prototyping/atomic_energies/results/test_calculations/lambda_integrals/dsgdb9nsd_002626/DENS_23.cube')\n",
    "ve15 = CUBE(r'/home/misa/APDFT/prototyping/atomic_energies/results/test_calculations/lambda_integrals/dsgdb9nsd_002626/DENS_15.cube')\n",
    "ve8 = CUBE(r'/home/misa/APDFT/prototyping/atomic_energies/results/test_calculations/lambda_integrals/dsgdb9nsd_002626/DENS_8.cube')\n",
    "ve0 = CUBE(r'/home/misa/APDFT/prototyping/atomic_energies/results/test_calculations/lambda_integrals/free_electron_gas.cube')"
   ]
  },
  {
   "cell_type": "code",
   "execution_count": 18,
   "metadata": {},
   "outputs": [],
   "source": [
    "from alchemy_tools import atomic_energy_decomposition\n",
    "p38 = '/home/misa/APDFT/prototyping/atomic_energies/results/test_calculations/lambda_integrals/dsgdb9nsd_002626/DENS_38.cube'\n",
    "p30 = '/home/misa/APDFT/prototyping/atomic_energies/results/test_calculations/lambda_integrals/dsgdb9nsd_002626/DENS_30.cube'\n",
    "p23 = '/home/misa/APDFT/prototyping/atomic_energies/results/test_calculations/lambda_integrals/dsgdb9nsd_002626/DENS_23.cube'\n",
    "p15 = '/home/misa/APDFT/prototyping/atomic_energies/results/test_calculations/lambda_integrals/dsgdb9nsd_002626/DENS_15.cube'\n",
    "p8 = '/home/misa/APDFT/prototyping/atomic_energies/results/test_calculations/lambda_integrals/dsgdb9nsd_002626/DENS_8.cube'\n",
    "p0 = '/home/misa/APDFT/prototyping/atomic_energies/results/test_calculations/lambda_integrals/free_electron_gas.cube'\n",
    "cubes = [(p0, 0), (p8, 8/38), (p15, 15/38), (p23, 23/38), (p30, 30/38), (p38, 1)]\n",
    "# ae, alchpots = atomic_energy_decomposition(cubes)\n",
    "atomic_energy_decomposition(cubes, '/home/misa/APDFT/prototyping/atomic_energies/results/test_calculations/lambda_integrals/output')"
   ]
  },
  {
   "cell_type": "code",
   "execution_count": 4,
   "metadata": {},
   "outputs": [
    {
     "name": "stdout",
     "output_type": "stream",
     "text": [
      "[-52.41941963 -38.81593713 -39.49926896 -39.88880231 -38.57914187\n",
      " -36.29823107 -32.4020716   -5.39594217  -5.70814393  -5.64600143\n",
      "  -5.78079931  -5.79580329  -5.5379296   -5.53118386  -4.54357057]\n"
     ]
    }
   ],
   "source": [
    "print(ae)"
   ]
  },
  {
   "cell_type": "markdown",
   "metadata": {},
   "source": [
    "# Integration"
   ]
  },
  {
   "cell_type": "code",
   "execution_count": 5,
   "metadata": {},
   "outputs": [],
   "source": [
    "from alchemy_tools import integrate_lambda_density, calculate_atomic_energies, calculate_alchemical_potential"
   ]
  },
  {
   "cell_type": "code",
   "execution_count": 6,
   "metadata": {},
   "outputs": [],
   "source": [
    "lambda_densities = [ve0, ve8, ve15, ve23, ve30, ve38]\n",
    "density_arrays = []\n",
    "for dens in lambda_densities:\n",
    "    dens.scale()\n",
    "    density_arrays.append(dens.data_scaled)\n",
    "lam_vals = [0, 8/38, 15/38, 23/38, 30/38, 1]"
   ]
  },
  {
   "cell_type": "code",
   "execution_count": 7,
   "metadata": {},
   "outputs": [],
   "source": [
    "av_dens = integrate_lambda_density(density_arrays, lam_vals)"
   ]
  },
  {
   "cell_type": "markdown",
   "metadata": {},
   "source": [
    "# Plots"
   ]
  },
  {
   "cell_type": "code",
   "execution_count": 8,
   "metadata": {},
   "outputs": [
    {
     "data": {
      "text/plain": [
       "<matplotlib.legend.Legend at 0x7f05b45d6630>"
      ]
     },
     "execution_count": 8,
     "metadata": {},
     "output_type": "execute_result"
    }
   ],
   "source": [
    "# projection on line\n",
    "x = np.linspace(0, 20, 175)\n",
    "sa = (1,2)\n",
    "av_dens_1D = av_dens.sum(axis=sa)\n",
    "pd_1D = [ve38.project(sa), ve30.project(sa), ve23.project(sa), ve15.project(sa), ve8.project(sa), ve0.project(sa), av_dens_1D]\n",
    "label = [r'$\\rho(\\lambda = 1.0)$',r'$\\rho(\\lambda \\approx 0.79)$', r'$\\rho(\\lambda \\approx 0.61)$', r'$\\rho(\\lambda \\approx 0.39)$', r'$\\rho(\\lambda \\approx 0.21)$', r'$\\rho(\\lambda = 0)$', r'$\\tilde{\\rho} \\approx \\int_0^1 d\\lambda \\rho(\\lambda, r)$']\n",
    "fig, ax = plt.subplots(1,1)\n",
    "for idx, pd in enumerate(pd_1D):\n",
    "    # bigger linewidth for lambda-averaged density\n",
    "    if idx == len(pd_1D)-1:\n",
    "        ax.plot(x, pd, '--', label=label[idx])\n",
    "    else:\n",
    "        ax.plot(x, pd, label=label[idx])\n",
    "\n",
    "ax.set_title('Boxsize = 20 Ang')\n",
    "ax.set_xlabel('Cell coordinate (Ang)')\n",
    "ax.set_xlim(0.5, 19.5)\n",
    "ax.set_ylabel(r'Projected Density $\\rho(x_0)$ (Bohr$^{-3}$) ')\n",
    "\n",
    "ax.legend()"
   ]
  },
  {
   "cell_type": "markdown",
   "metadata": {},
   "source": [
    "# Alchemical Potential and Atomic Energies"
   ]
  },
  {
   "cell_type": "code",
   "execution_count": 9,
   "metadata": {},
   "outputs": [],
   "source": [
    "nuclei = ve38.atoms\n",
    "meshgrid = ve38.get_grid()\n",
    "meshgrid_xyz = np.vstack([_.flatten() for _ in meshgrid]).T"
   ]
  },
  {
   "cell_type": "code",
   "execution_count": 10,
   "metadata": {},
   "outputs": [],
   "source": [
    "nuc=np.array(ve38.atoms)[0][1:].T"
   ]
  },
  {
   "cell_type": "code",
   "execution_count": 11,
   "metadata": {},
   "outputs": [
    {
     "data": {
      "text/plain": [
       "array([14.673877, 14.892382, 22.556505])"
      ]
     },
     "execution_count": 11,
     "metadata": {},
     "output_type": "execute_result"
    }
   ],
   "source": [
    "np.array(ve38.atoms)[0][1:4]"
   ]
  },
  {
   "cell_type": "code",
   "execution_count": 12,
   "metadata": {},
   "outputs": [
    {
     "data": {
      "text/plain": [
       "-6.552427453817083"
      ]
     },
     "execution_count": 12,
     "metadata": {},
     "output_type": "execute_result"
    }
   ],
   "source": [
    "calculate_alchemical_potential(av_dens, meshgrid, nuc)"
   ]
  },
  {
   "cell_type": "code",
   "execution_count": 13,
   "metadata": {},
   "outputs": [],
   "source": [
    "# %timeit atomic_energies = get_atomic_energies(av_dens, nuclei, meshgrid)\n",
    "atomic_energies = calculate_atomic_energies(av_dens, nuclei, meshgrid)"
   ]
  },
  {
   "cell_type": "code",
   "execution_count": 14,
   "metadata": {},
   "outputs": [],
   "source": [
    "# %timeit dist_gpt_nuc = np.linalg.norm(meshgrid_xyz - nuclei[0][1:], axis=1)\n",
    "#(density.flatten()/dist_gpt_nuc).sum()\n"
   ]
  },
  {
   "cell_type": "code",
   "execution_count": 15,
   "metadata": {},
   "outputs": [
    {
     "data": {
      "text/plain": [
       "(array([-52.41941963, -38.81593713, -39.49926896, -39.88880231,\n",
       "        -38.57914187, -36.29823107, -32.4020716 ,  -5.39594217,\n",
       "         -5.70814393,  -5.64600143,  -5.78079931,  -5.79580329,\n",
       "         -5.5379296 ,  -5.53118386,  -4.54357057]),\n",
       " array([-6.55242745, -6.46932286, -6.58321149, -6.64813372, -6.42985698,\n",
       "        -6.04970518, -5.40034527, -5.39594217, -5.70814393, -5.64600143,\n",
       "        -5.78079931, -5.79580329, -5.5379296 , -5.53118386, -4.54357057]))"
      ]
     },
     "execution_count": 15,
     "metadata": {},
     "output_type": "execute_result"
    }
   ],
   "source": [
    "atomic_energies"
   ]
  },
  {
   "cell_type": "code",
   "execution_count": null,
   "metadata": {},
   "outputs": [],
   "source": []
  }
 ],
 "metadata": {
  "kernelspec": {
   "display_name": "Python [conda env:atomic-energies]",
   "language": "python",
   "name": "conda-env-atomic-energies-py"
  },
  "language_info": {
   "codemirror_mode": {
    "name": "ipython",
    "version": 3
   },
   "file_extension": ".py",
   "mimetype": "text/x-python",
   "name": "python",
   "nbconvert_exporter": "python",
   "pygments_lexer": "ipython3",
   "version": "3.7.3"
  }
 },
 "nbformat": 4,
 "nbformat_minor": 2
}
