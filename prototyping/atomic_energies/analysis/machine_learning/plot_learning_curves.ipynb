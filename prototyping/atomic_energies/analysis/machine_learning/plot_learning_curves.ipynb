{
 "cells": [
  {
   "cell_type": "code",
   "execution_count": null,
   "metadata": {},
   "outputs": [],
   "source": [
    "import matplotlib\n",
    "matplotlib.use('Qt5Agg')\n",
    "from matplotlib import pyplot as plt\n",
    "plt.rcParams.update({'font.size': 22})\n",
    "import numpy as np"
   ]
  },
  {
   "cell_type": "code",
   "execution_count": null,
   "metadata": {},
   "outputs": [],
   "source": [
    "p = '/home/misa/APDFT/prototyping/atomic_energies/results/analyse_learning/'\n",
    "l_curve_global_global = np.loadtxt(p+'l_curve_global_global.tab')\n",
    "l_curve_local_global = np.loadtxt(p+'l_curve_local_rep_global_label.tab')\n",
    "l_curve_local_local_atomic = np.loadtxt(p+'l_curve_local_local_atomic.tab')\n",
    "l_curve_local_local_mol = np.loadtxt(p+'l_curve_local_local_mol.tab')"
   ]
  },
  {
   "cell_type": "code",
   "execution_count": null,
   "metadata": {},
   "outputs": [],
   "source": [
    "l_curve_local_local_mol"
   ]
  },
  {
   "cell_type": "code",
   "execution_count": null,
   "metadata": {},
   "outputs": [],
   "source": [
    "fig, ax = plt.subplots(1,1)\n",
    "\n",
    "ax.plot(l_curve_global_global[:,0], l_curve_global_global[:,1], '-o', label='rep: global coulomb mat, label: atomisation energy')\n",
    "ax.plot(l_curve_local_global[:,0], l_curve_local_global[:,1], '-o', label='rep: local coulomb mat, label: atomisation energy')\n",
    "ax.plot(l_curve_local_local_mol[:,0], l_curve_local_local_mol[:,1], '-o', color='red', label='rep: atomic coulomb, label: atomic energy (molecule)')\n",
    "\n",
    "ax.plot(l_curve_local_local_atomic[:,0], l_curve_local_local_atomic[:,1], '--o', color='red', label='rep: atomic coulomb, label: atomic energy')\n",
    "ax.set_xscale('log')\n",
    "ax.set_yscale('log')\n",
    "\n",
    "ax.set_xlabel('Training set size')\n",
    "ax.set_ylabel('Mean error (Ha)')\n",
    "ax.legend()"
   ]
  },
  {
   "cell_type": "code",
   "execution_count": 45,
   "metadata": {},
   "outputs": [
    {
     "data": {
      "text/plain": [
       "array([[1.00000000e+00, 3.20991913e+00, 3.40548526e-01],\n",
       "       [2.00000000e+00, 2.30935299e+00, 5.12133015e-01],\n",
       "       [4.00000000e+00, 1.50326417e+00, 4.00629724e-01],\n",
       "       [8.00000000e+00, 7.34340015e-01, 9.24998439e-02],\n",
       "       [1.60000000e+01, 3.96633871e-01, 6.24257434e-02],\n",
       "       [3.20000000e+01, 1.83543784e-01, 2.54720939e-02],\n",
       "       [6.40000000e+01, 9.12141837e-02, 1.19250908e-02],\n",
       "       [1.28000000e+02, 5.50920637e-02, 1.09329483e-02],\n",
       "       [2.56000000e+02, 3.25245707e-02, 2.16244095e-03],\n",
       "       [5.12000000e+02, 2.56087259e-02, 4.00768602e-03]])"
      ]
     },
     "execution_count": 45,
     "metadata": {},
     "output_type": "execute_result"
    }
   ],
   "source": [
    "l_curve_local_local_atomic"
   ]
  },
  {
   "cell_type": "code",
   "execution_count": null,
   "metadata": {},
   "outputs": [],
   "source": []
  }
 ],
 "metadata": {
  "kernelspec": {
   "display_name": "Python [conda env:atomic-energies]",
   "language": "python",
   "name": "conda-env-atomic-energies-py"
  },
  "language_info": {
   "codemirror_mode": {
    "name": "ipython",
    "version": 3
   },
   "file_extension": ".py",
   "mimetype": "text/x-python",
   "name": "python",
   "nbconvert_exporter": "python",
   "pygments_lexer": "ipython3",
   "version": "3.7.3"
  }
 },
 "nbformat": 4,
 "nbformat_minor": 2
}
