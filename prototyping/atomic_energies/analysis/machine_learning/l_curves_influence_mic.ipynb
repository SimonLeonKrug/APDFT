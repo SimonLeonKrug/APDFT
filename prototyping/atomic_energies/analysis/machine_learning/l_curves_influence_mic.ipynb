{
 "cells": [
  {
   "cell_type": "code",
   "execution_count": 42,
   "metadata": {},
   "outputs": [],
   "source": [
    "import numpy as np\n",
    "\n",
    "import matplotlib\n",
    "matplotlib.use('Qt5Agg')\n",
    "from matplotlib import pyplot as plt\n",
    "plt.rcParams.update({'font.size': 22})\n",
    "\n",
    "\n",
    "import sys\n",
    "sys.path.insert(0, '/home/misa/APDFT/prototyping/atomic_energies/')\n",
    "import qml_interface as qi"
   ]
  },
  {
   "cell_type": "code",
   "execution_count": 43,
   "metadata": {},
   "outputs": [],
   "source": [
    "mic_path = '/home/misa/APDFT/prototyping/atomic_energies/results/analyse_learning/l_curve_local_rep_label_atomic_mic.tab'\n",
    "no_mic_path = '/home/misa/APDFT/prototyping/atomic_energies/results/analyse_learning/l_curve_local_local_atomic.tab'\n",
    "\n",
    "no_mic = np.loadtxt(no_mic_path, delimiter='\\t')\n",
    "mic = np.loadtxt(mic_path, delimiter='\\t')"
   ]
  },
  {
   "cell_type": "code",
   "execution_count": 44,
   "metadata": {},
   "outputs": [
    {
     "data": {
      "text/plain": [
       "Text(0, 0.5, 'MAE atomic energy')"
      ]
     },
     "execution_count": 44,
     "metadata": {},
     "output_type": "execute_result"
    }
   ],
   "source": [
    "fig, ax = plt.subplots(1,1)\n",
    "ax.errorbar(mic[:,0], mic[:,1], yerr=mic[:,2], marker='o', label='MIC')\n",
    "ax.errorbar(no_mic[:,0], no_mic[:,1], yerr=mic[:,2], marker= 'o', label='no MIC')\n",
    "ax.set_xscale('log')\n",
    "ax.set_yscale('log')\n",
    "ax.legend()\n",
    "ax.set_xlabel('# Training points')\n",
    "ax.set_ylabel('MAE atomic energy')"
   ]
  },
  {
   "cell_type": "code",
   "execution_count": null,
   "metadata": {},
   "outputs": [],
   "source": []
  }
 ],
 "metadata": {
  "kernelspec": {
   "display_name": "Python [conda env:atomic-energies]",
   "language": "python",
   "name": "conda-env-atomic-energies-py"
  },
  "language_info": {
   "codemirror_mode": {
    "name": "ipython",
    "version": 3
   },
   "file_extension": ".py",
   "mimetype": "text/x-python",
   "name": "python",
   "nbconvert_exporter": "python",
   "pygments_lexer": "ipython3",
   "version": "3.7.3"
  }
 },
 "nbformat": 4,
 "nbformat_minor": 2
}
