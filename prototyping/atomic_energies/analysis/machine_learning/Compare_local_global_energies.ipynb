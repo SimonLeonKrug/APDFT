{
 "cells": [
  {
   "cell_type": "code",
   "execution_count": 1,
   "metadata": {},
   "outputs": [],
   "source": [
    "import qml\n",
    "import numpy as np\n",
    "\n",
    "import sys\n",
    "sys.path.insert(0, '/home/misa/APDFT/prototyping/atomic_energies/')\n",
    "import alchemy_tools as alch\n",
    "import qml_interface as qi"
   ]
  },
  {
   "cell_type": "markdown",
   "metadata": {},
   "source": [
    "# Import data"
   ]
  },
  {
   "cell_type": "code",
   "execution_count": 2,
   "metadata": {},
   "outputs": [],
   "source": [
    "paths=qi.wrapper_alch_data()\n",
    "# load data into list, count number of atoms per molecule\n",
    "alchemy_data, molecule_size = qi.load_alchemy_data(paths)"
   ]
  },
  {
   "cell_type": "markdown",
   "metadata": {},
   "source": [
    "# Select training and validation set"
   ]
  },
  {
   "cell_type": "code",
   "execution_count": 53,
   "metadata": {},
   "outputs": [],
   "source": [
    "training_set_size = 512\n",
    "global_idc = qi.get_indices(len(alchemy_data), training_set_size)\n",
    "local_idc = qi.get_local_idx(global_idc[0], molecule_size), qi.get_local_idx(global_idc[1], molecule_size)"
   ]
  },
  {
   "cell_type": "markdown",
   "metadata": {},
   "source": [
    "# Global Model"
   ]
  },
  {
   "cell_type": "code",
   "execution_count": 54,
   "metadata": {},
   "outputs": [],
   "source": [
    "global_reps = qi.wrapper_global_representations(alchemy_data, molecule_size) # all global representations\n",
    "\n",
    "global_labels = np.zeros(len(global_reps)) # all global labels\n",
    "for idx, mol in enumerate(alchemy_data):\n",
    "    global_labels[idx] = alchemy_data[idx][:,6].sum()"
   ]
  },
  {
   "cell_type": "code",
   "execution_count": 55,
   "metadata": {},
   "outputs": [],
   "source": [
    "# Optimization\n",
    "gl_reps_tr = global_reps[global_idc[0]] # representations\n",
    "gl_reps_val = global_reps[global_idc[1]]\n",
    "\n",
    "gl_labs_tr = global_labels[global_idc[0]] # labels\n",
    "gl_labs_val = global_labels[global_idc[1]]\n",
    "\n",
    "sigmas = np.logspace(-1, 4, 12) # hyperparameter\n",
    "lams = np.logspace(-15, 0, 16)\n",
    "\n",
    "gl_opt = qi.optimize_hypar((gl_reps_tr, gl_reps_val), (gl_labs_tr, gl_labs_val), sigmas, lams )\n"
   ]
  },
  {
   "cell_type": "code",
   "execution_count": 56,
   "metadata": {},
   "outputs": [
    {
     "data": {
      "text/plain": [
       "array([[4.32876128e+02, 1.00000000e-06, 2.54011603e-02]])"
      ]
     },
     "execution_count": 56,
     "metadata": {},
     "output_type": "execute_result"
    }
   ],
   "source": [
    "idx_opt = np.where(gl_opt[0][:,2]==np.amin(gl_opt[0][:,2]) )\n",
    "gl_opt[0][idx_opt]"
   ]
  },
  {
   "cell_type": "code",
   "execution_count": 57,
   "metadata": {},
   "outputs": [
    {
     "data": {
      "text/plain": [
       "0.02540116028513328"
      ]
     },
     "execution_count": 57,
     "metadata": {},
     "output_type": "execute_result"
    }
   ],
   "source": [
    "gl_opt[2].mean()"
   ]
  },
  {
   "cell_type": "markdown",
   "metadata": {},
   "source": [
    "# Generate labels"
   ]
  },
  {
   "cell_type": "code",
   "execution_count": 58,
   "metadata": {},
   "outputs": [],
   "source": [
    "global_labels = np.zeros(len(alchemy_data))\n",
    "for idx, mol in enumerate(alchemy_data):\n",
    "    global_labels[idx] = alchemy_data[idx][:,6].sum()\n",
    "    \n",
    "local_labels = qi.generate_label_vector(alchemy_data, molecule_size.sum())"
   ]
  },
  {
   "cell_type": "markdown",
   "metadata": {},
   "source": [
    "# Select training and test set"
   ]
  },
  {
   "cell_type": "code",
   "execution_count": 13,
   "metadata": {},
   "outputs": [],
   "source": [
    "training_set_size = 400\n",
    "global_idc = qi.get_indices(len(global_reps), training_set_size)\n",
    "local_idc = qi.get_local_idx(global_idc[0], molecule_size), qi.get_local_idx(global_idc[1], molecule_size)"
   ]
  },
  {
   "cell_type": "code",
   "execution_count": 14,
   "metadata": {},
   "outputs": [
    {
     "data": {
      "text/plain": [
       "5403"
      ]
     },
     "execution_count": 14,
     "metadata": {},
     "output_type": "execute_result"
    }
   ],
   "source": [
    "len(local_idc[0])"
   ]
  },
  {
   "cell_type": "markdown",
   "metadata": {},
   "source": [
    "# Predictions"
   ]
  },
  {
   "cell_type": "code",
   "execution_count": 15,
   "metadata": {},
   "outputs": [
    {
     "data": {
      "text/plain": [
       "0.031565410971827745"
      ]
     },
     "execution_count": 15,
     "metadata": {},
     "output_type": "execute_result"
    }
   ],
   "source": [
    "# global\n",
    "pred,tr=qi.test(global_reps, global_idc[0], global_idc[1], global_labels, 70, 1e-10)\n",
    "pred[1]"
   ]
  },
  {
   "cell_type": "code",
   "execution_count": 16,
   "metadata": {},
   "outputs": [
    {
     "ename": "NameError",
     "evalue": "name 'local_reps' is not defined",
     "output_type": "error",
     "traceback": [
      "\u001b[0;31m---------------------------------------------------------------------------\u001b[0m",
      "\u001b[0;31mNameError\u001b[0m                                 Traceback (most recent call last)",
      "\u001b[0;32m<ipython-input-16-daee352fa267>\u001b[0m in \u001b[0;36m<module>\u001b[0;34m\u001b[0m\n\u001b[1;32m      2\u001b[0m \u001b[0mlocal_sigma\u001b[0m \u001b[0;34m=\u001b[0m \u001b[0;36m278.2559402207126\u001b[0m\u001b[0;34m\u001b[0m\u001b[0;34m\u001b[0m\u001b[0m\n\u001b[1;32m      3\u001b[0m \u001b[0mlocal_lambda\u001b[0m \u001b[0;34m=\u001b[0m \u001b[0;36m1e-8\u001b[0m\u001b[0;34m\u001b[0m\u001b[0;34m\u001b[0m\u001b[0m\n\u001b[0;32m----> 4\u001b[0;31m \u001b[0mcoeffs\u001b[0m \u001b[0;34m=\u001b[0m \u001b[0mqi\u001b[0m\u001b[0;34m.\u001b[0m\u001b[0mtrain_kernel\u001b[0m\u001b[0;34m(\u001b[0m\u001b[0mlocal_reps\u001b[0m\u001b[0;34m,\u001b[0m \u001b[0mlocal_idc\u001b[0m\u001b[0;34m[\u001b[0m\u001b[0;36m0\u001b[0m\u001b[0;34m]\u001b[0m\u001b[0;34m,\u001b[0m \u001b[0mlocal_labels\u001b[0m\u001b[0;34m,\u001b[0m \u001b[0mlocal_sigma\u001b[0m\u001b[0;34m,\u001b[0m \u001b[0mlocal_lambda\u001b[0m\u001b[0;34m)\u001b[0m\u001b[0;34m\u001b[0m\u001b[0;34m\u001b[0m\u001b[0m\n\u001b[0m\u001b[1;32m      5\u001b[0m \u001b[0mtest_kernel\u001b[0m \u001b[0;34m=\u001b[0m \u001b[0mqml\u001b[0m\u001b[0;34m.\u001b[0m\u001b[0mkernels\u001b[0m\u001b[0;34m.\u001b[0m\u001b[0mgaussian_kernel\u001b[0m\u001b[0;34m(\u001b[0m\u001b[0mlocal_reps\u001b[0m\u001b[0;34m[\u001b[0m\u001b[0mlocal_idc\u001b[0m\u001b[0;34m[\u001b[0m\u001b[0;36m1\u001b[0m\u001b[0;34m]\u001b[0m\u001b[0;34m]\u001b[0m\u001b[0;34m,\u001b[0m \u001b[0mlocal_reps\u001b[0m\u001b[0;34m[\u001b[0m\u001b[0mlocal_idc\u001b[0m\u001b[0;34m[\u001b[0m\u001b[0;36m0\u001b[0m\u001b[0;34m]\u001b[0m\u001b[0;34m]\u001b[0m\u001b[0;34m,\u001b[0m \u001b[0mlocal_sigma\u001b[0m\u001b[0;34m)\u001b[0m\u001b[0;34m\u001b[0m\u001b[0;34m\u001b[0m\u001b[0m\n\u001b[1;32m      6\u001b[0m \u001b[0mlocal_pred\u001b[0m \u001b[0;34m=\u001b[0m \u001b[0mnp\u001b[0m\u001b[0;34m.\u001b[0m\u001b[0mdot\u001b[0m\u001b[0;34m(\u001b[0m\u001b[0mtest_kernel\u001b[0m\u001b[0;34m,\u001b[0m \u001b[0mcoeffs\u001b[0m\u001b[0;34m)\u001b[0m\u001b[0;34m\u001b[0m\u001b[0;34m\u001b[0m\u001b[0m\n",
      "\u001b[0;31mNameError\u001b[0m: name 'local_reps' is not defined"
     ]
    }
   ],
   "source": [
    "# train and test local kernel\n",
    "local_sigma = 278.2559402207126\n",
    "local_lambda = 1e-8\n",
    "coeffs = qi.train_kernel(local_reps, local_idc[0], local_labels, local_sigma, local_lambda)\n",
    "test_kernel = qml.kernels.gaussian_kernel(local_reps[local_idc[1]], local_reps[local_idc[0]], local_sigma)\n",
    "local_pred = np.dot(test_kernel, coeffs)"
   ]
  },
  {
   "cell_type": "code",
   "execution_count": 13,
   "metadata": {},
   "outputs": [
    {
     "data": {
      "text/plain": [
       "0.062429233755284225"
      ]
     },
     "execution_count": 13,
     "metadata": {},
     "output_type": "execute_result"
    }
   ],
   "source": [
    "# local: average error per atom\n",
    "err_atom = np.abs(local_pred - local_labels[local_idc[1]]).mean()\n",
    "err_atom"
   ]
  },
  {
   "cell_type": "code",
   "execution_count": 14,
   "metadata": {},
   "outputs": [
    {
     "data": {
      "text/plain": [
       "array([0.2396297 , 0.17921321, 1.15942151, ..., 0.03772702, 0.05933936,\n",
       "       0.25829823])"
      ]
     },
     "execution_count": 14,
     "metadata": {},
     "output_type": "execute_result"
    }
   ],
   "source": [
    "np.abs(local_pred - local_labels[local_idc[1]])"
   ]
  },
  {
   "cell_type": "code",
   "execution_count": 15,
   "metadata": {},
   "outputs": [
    {
     "name": "stdout",
     "output_type": "stream",
     "text": [
      "sigma = 100.0, error = 0.1347183068451219\n",
      "sigma = 166.81005372000593, error = 0.07422798631823654\n",
      "sigma = 278.2559402207126, error = 0.062429233755284225\n",
      "sigma = 464.15888336127773, error = 0.06337876391970347\n",
      "sigma = 774.263682681127, error = 0.06538078246263897\n",
      "sigma = 1291.549665014884, error = 0.06723602863631163\n",
      "sigma = 2154.4346900318824, error = 0.06952301099459512\n",
      "sigma = 3593.813663804626, error = 0.07642523818787635\n",
      "sigma = 5994.8425031894085, error = 0.08822980693055098\n",
      "sigma = 10000.0, error = 0.11103506099189916\n"
     ]
    }
   ],
   "source": [
    "# train and test local kernel\n",
    "for s in np.logspace(2, 4, 10):\n",
    "    local_sigma = s\n",
    "    local_lambda = 1e-8\n",
    "    coeffs = qi.train_kernel(local_reps, local_idc[0], local_labels, local_sigma, local_lambda)\n",
    "    test_kernel = qml.kernels.gaussian_kernel(local_reps[local_idc[1]], local_reps[local_idc[0]], local_sigma)\n",
    "    local_pred = np.dot(test_kernel, coeffs)\n",
    "    err_atom = np.abs(local_pred - local_labels[local_idc[1]]).mean()\n",
    "    print('sigma = {}, error = {}'.format(s, err_atom))"
   ]
  },
  {
   "cell_type": "code",
   "execution_count": 16,
   "metadata": {},
   "outputs": [],
   "source": [
    "# local: average error per element\n",
    "\n",
    "# nuclear charge of atoms in test set\n",
    "nuc_charges = np.power(local_reps[local_idc[1]]*2, 1/2.4)[:,0].astype(int)\n",
    "tmp = np.array([nuc_charges, np.abs(local_pred - local_labels[local_idc[1]])])\n",
    "err_h = tmp[1][np.where(tmp[0]==1)].mean()\n",
    "err_c = tmp[1][np.where(tmp[0]==6)].mean()\n",
    "err_n = tmp[1][np.where(tmp[0]==7)].mean()\n",
    "err_o = tmp[1][np.where(tmp[0]==8)].mean()"
   ]
  },
  {
   "cell_type": "code",
   "execution_count": 17,
   "metadata": {},
   "outputs": [
    {
     "name": "stdout",
     "output_type": "stream",
     "text": [
      "Error H = 0.110701\n",
      "Error C = 0.102225\n",
      "Error N = 0.124877\n",
      "Error O = 0.136253\n"
     ]
    }
   ],
   "source": [
    "print('Error H = %f' % err_h)\n",
    "print('Error C = %f' % err_c)\n",
    "print('Error N = %f' % err_n)\n",
    "print('Error O = %f' % err_o)"
   ]
  },
  {
   "cell_type": "code",
   "execution_count": 18,
   "metadata": {},
   "outputs": [
    {
     "data": {
      "text/plain": [
       "0.7326610419096422"
      ]
     },
     "execution_count": 18,
     "metadata": {},
     "output_type": "execute_result"
    }
   ],
   "source": [
    "# local: average error per molecule\n",
    "loc_ae = np.empty(len(global_idc[1]))\n",
    "start = 0\n",
    "for i,gl in enumerate(global_idc[1]):\n",
    "    length = molecule_size[gl]\n",
    "    loc_ae[i] = local_pred[start:start+length].sum()\n",
    "    start += length\n",
    "err_mol = (np.abs(loc_ae-global_labels[global_idc[1]])).mean()\n",
    "err_mol"
   ]
  },
  {
   "cell_type": "code",
   "execution_count": null,
   "metadata": {},
   "outputs": [],
   "source": []
  },
  {
   "cell_type": "code",
   "execution_count": 19,
   "metadata": {},
   "outputs": [],
   "source": [
    "nuc_charges = np.power(local_reps*2, 1/2.4)[:,0].astype(int)\n",
    "# tmp = np.array([nuc_charges, local_reps])\n",
    "h_reps = local_reps[np.where(nuc_charges==8)]\n",
    "h_labels = local_labels[np.where(nuc_charges==8)]"
   ]
  },
  {
   "cell_type": "code",
   "execution_count": 20,
   "metadata": {},
   "outputs": [
    {
     "data": {
      "text/plain": [
       "0.119441133494717"
      ]
     },
     "execution_count": 20,
     "metadata": {},
     "output_type": "execute_result"
    }
   ],
   "source": [
    "hidc = qi.get_indices(len(h_reps), 500)\n",
    "hwerr=qi.test(h_reps, hidc[0], hidc[1], h_labels, 5000, 1e-7)\n",
    "hwerr[0][1]"
   ]
  },
  {
   "cell_type": "code",
   "execution_count": null,
   "metadata": {},
   "outputs": [],
   "source": []
  },
  {
   "cell_type": "markdown",
   "metadata": {},
   "source": [
    "# Shift atomic energies"
   ]
  },
  {
   "cell_type": "code",
   "execution_count": 21,
   "metadata": {},
   "outputs": [],
   "source": [
    "mean_en_c = local_labels[np.where(nuc_charges==6)].mean()\n",
    "mean_en_h = local_labels[np.where(nuc_charges==1)].mean()\n",
    "mean_en_n = local_labels[np.where(nuc_charges==7)].mean()\n",
    "\n",
    "mean_energies = []\n",
    "\n",
    "loc_lab_shifted = local_labels.copy()\n",
    "for z in set(nuc_charges):\n",
    "    mean_en = local_labels[np.where(nuc_charges==z)].mean()\n",
    "    loc_lab_shifted[np.where(nuc_charges==z)] = loc_lab_shifted[np.where(nuc_charges==z)]-mean_en\n",
    "    \n",
    "    mean_energies.append(mean_en)\n"
   ]
  },
  {
   "cell_type": "code",
   "execution_count": 22,
   "metadata": {},
   "outputs": [
    {
     "data": {
      "text/plain": [
       "[17.1494293260661, -3.225397881686621, -1.4809653483760876, 6.585366400315472]"
      ]
     },
     "execution_count": 22,
     "metadata": {},
     "output_type": "execute_result"
    }
   ],
   "source": [
    "mean_energies"
   ]
  },
  {
   "cell_type": "code",
   "execution_count": 23,
   "metadata": {},
   "outputs": [
    {
     "data": {
      "text/plain": [
       "9.1834438079634"
      ]
     },
     "execution_count": 23,
     "metadata": {},
     "output_type": "execute_result"
    }
   ],
   "source": [
    "np.amax(loc_lab_shifted)"
   ]
  },
  {
   "cell_type": "code",
   "execution_count": 24,
   "metadata": {},
   "outputs": [
    {
     "data": {
      "text/plain": [
       "array([ 1.74453595, -3.98236013,  1.74135824, ..., -3.47852322,\n",
       "       -2.1354231 , -2.0876744 ])"
      ]
     },
     "execution_count": 24,
     "metadata": {},
     "output_type": "execute_result"
    }
   ],
   "source": [
    "loc_lab_shifted"
   ]
  },
  {
   "cell_type": "code",
   "execution_count": 25,
   "metadata": {},
   "outputs": [
    {
     "data": {
      "text/plain": [
       "1.7532894620948312"
      ]
     },
     "execution_count": 25,
     "metadata": {},
     "output_type": "execute_result"
    }
   ],
   "source": [
    "fast=qi.test_fast(local_reps, local_idc[0], local_idc[1], loc_lab_shifted, 5, 1e-8)\n",
    "fast[0][1]"
   ]
  },
  {
   "cell_type": "code",
   "execution_count": 26,
   "metadata": {},
   "outputs": [
    {
     "data": {
      "text/plain": [
       "1.1575834355302914"
      ]
     },
     "execution_count": 26,
     "metadata": {},
     "output_type": "execute_result"
    }
   ],
   "source": [
    "fast=qi.test_fast(local_reps, local_idc[0], local_idc[1], loc_lab_shifted, 20, 1e-8)\n",
    "fast[0][1]"
   ]
  },
  {
   "cell_type": "code",
   "execution_count": null,
   "metadata": {},
   "outputs": [],
   "source": []
  }
 ],
 "metadata": {
  "kernelspec": {
   "display_name": "Python (atmoic-energies)",
   "language": "python",
   "name": "atomic-energies"
  },
  "language_info": {
   "codemirror_mode": {
    "name": "ipython",
    "version": 3
   },
   "file_extension": ".py",
   "mimetype": "text/x-python",
   "name": "python",
   "nbconvert_exporter": "python",
   "pygments_lexer": "ipython3",
   "version": "3.7.3"
  }
 },
 "nbformat": 4,
 "nbformat_minor": 2
}
