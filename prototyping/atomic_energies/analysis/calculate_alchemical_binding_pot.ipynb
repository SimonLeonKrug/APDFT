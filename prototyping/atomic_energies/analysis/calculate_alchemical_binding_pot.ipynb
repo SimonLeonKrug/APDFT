{
 "cells": [
  {
   "cell_type": "markdown",
   "metadata": {},
   "source": [
    "# The electrostatic potential of free atoms"
   ]
  },
  {
   "cell_type": "code",
   "execution_count": 1,
   "metadata": {},
   "outputs": [],
   "source": [
    "import sys\n",
    "sys.path.insert(0, '/home/misa/git_repositories/APDFT/prototyping/atomic_energies/')\n",
    "\n",
    "import numpy as np\n",
    "import scipy as sc\n",
    "from parse_density_files import CUBE\n",
    "import alchemy_tools2 as at\n",
    "import qml_interface as qmi\n",
    "import utils_qm as uq\n",
    "import glob\n",
    "from matplotlib import pyplot as plt\n",
    "\n",
    "from ase.units import Bohr"
   ]
  },
  {
   "cell_type": "code",
   "execution_count": 2,
   "metadata": {},
   "outputs": [],
   "source": [
    "def get_paths():\n",
    "    pass\n",
    "\n",
    "def load_cube_data(paths_cubes):\n",
    "    \"\"\"\n",
    "    returns the data necessary to calculate the atomic energies from the cube-files\n",
    "    for different lambda values\n",
    "    \n",
    "    paths_cubes: paths to cubes files\n",
    "    densities: densities given in different cube files\n",
    "    lam_vals: lambda value for cube file, obtained by parsing filename\n",
    "    nuclei: charges and coordinates of the nuclei\n",
    "    gpts: the gridpoints where density values are given\n",
    "    \"\"\"\n",
    "    \n",
    "    densities = []\n",
    "    nuclei = None # nuclear charges and their positions\n",
    "    gpts = None # gridpoints where density values are given\n",
    "    h_matrix = np.zeros((3,3)) # needed for the calculation of the distance of the nuclei to the gridpoints with MIC\n",
    "    \n",
    "    for idx, path in enumerate(paths_cubes):\n",
    "        cube = CUBE(path)\n",
    "        \n",
    "        densities.append(cube.data_scaled) # density\n",
    "        \n",
    "        if idx==len(paths_cubes)-1:\n",
    "            nuclei = cube.atoms\n",
    "            gpts = cube.get_grid()\n",
    "            h_matrix = [cube.X*cube.NX, cube.Y*cube.NY, cube.Z*cube.NZ]\n",
    "    \n",
    "    return(densities, nuclei, gpts, h_matrix)\n",
    "\n",
    "def get_alchpot(density, nuc_pos, meshgrid, h_matrix):\n",
    "    dist = at.distance_MIC2(nuc_pos, meshgrid, h_matrix)\n",
    "    alch_pot = -(density/dist).sum()\n",
    "    return(alch_pot)\n",
    "\n",
    "def generate_ueg(num_elec, shape):\n",
    "    volume = 1\n",
    "    for s in shape:\n",
    "        volume *= s\n",
    "    return(np.full(shape, num_elec/volume))"
   ]
  },
  {
   "cell_type": "markdown",
   "metadata": {},
   "source": [
    "### Maximum distance between two atoms in a molecule"
   ]
  },
  {
   "cell_type": "code",
   "execution_count": null,
   "metadata": {},
   "outputs": [],
   "source": [
    "def get_largest_distance(coords):\n",
    "    distances = sc.spatial.distance.cdist(coords, coords)\n",
    "    max_dist = []\n",
    "    for d in distances:\n",
    "        max_dist.append(np.max(d))\n",
    "    return(np.amax(max_dist))"
   ]
  },
  {
   "cell_type": "code",
   "execution_count": null,
   "metadata": {},
   "outputs": [],
   "source": [
    "paths = qmi.wrapper_alch_data()\n",
    "data, msize = qmi.load_alchemy_data(paths)\n",
    "\n",
    "largest_dist = []\n",
    "for mol in data:\n",
    "    largest_dist.append(get_largest_distance(mol[:,1:4]))"
   ]
  },
  {
   "cell_type": "code",
   "execution_count": null,
   "metadata": {},
   "outputs": [],
   "source": [
    "np.amax(largest_dist)"
   ]
  },
  {
   "cell_type": "code",
   "execution_count": null,
   "metadata": {},
   "outputs": [],
   "source": [
    "np.linalg.norm( np.array([20,20,20])-np.array([10,10,10]) )"
   ]
  },
  {
   "cell_type": "markdown",
   "metadata": {},
   "source": [
    "### Load and prepare data"
   ]
  },
  {
   "cell_type": "code",
   "execution_count": null,
   "metadata": {},
   "outputs": [],
   "source": [
    "# #################################\n",
    "# #          HYDROGEN\n",
    "# #################################\n",
    "# # load paths to H\n",
    "# paths = glob.glob('/home/misa/APDFT/prototyping/atomic_energies/results/slice_ve38/free_atoms/H/*/DENSITY.cube')\n",
    "# paths.append(paths[0])\n",
    "# del(paths[0])\n",
    "# # generate lam_vals H\n",
    "# lam_vals = np.array([0.0, 23/38, 0.7, 30/38, 1])\n",
    "\n",
    "# #################################\n",
    "# #          CARBON\n",
    "# #################################\n",
    "# # load paths to C\n",
    "# paths = glob.glob('/home/misa/APDFT/prototyping/atomic_energies/results/slice_ve38/free_atoms/C/*/DENSITY.cube')\n",
    "# paths.append(paths[0])\n",
    "# del(paths[0])\n",
    "# # generate lam_vals C\n",
    "# lam_vals = np.array([0.0, 8/38, 30/38, 1])\n",
    "\n",
    "# #################################\n",
    "# #          NITROGEN\n",
    "# #################################\n",
    "# # load paths to N\n",
    "# paths = glob.glob('/home/misa/APDFT/prototyping/atomic_energies/results/slice_ve38/free_atoms/N/*/DENSITY.cube')\n",
    "# paths.append(paths[0])\n",
    "# del(paths[0])\n",
    "# # generate lam_vals N\n",
    "# lam_vals = np.array([0.0, 15/38, 1])\n",
    "\n",
    "#################################\n",
    "#          OXYGEN\n",
    "#################################\n",
    "# load paths to O\n",
    "paths = ['/home/misa/APDFT/prototyping/atomic_energies/results/slice_ve38/free_atoms/O/ve_0p2/DENSITY.cube',\n",
    "'/home/misa/APDFT/prototyping/atomic_energies/results/slice_ve38/free_atoms/O/ve_0p4/DENSITY.cube',\n",
    "'/home/misa/APDFT/prototyping/atomic_energies/results/slice_ve38/free_atoms/O/ve_0p8/DENSITY.cube',\n",
    "'/home/misa/APDFT/prototyping/atomic_energies/results/slice_ve38/free_atoms/O/ve_1/DENSITY.cube']\n",
    "# generate lam_vals O\n",
    "lam_vals = np.array([0.0, 8/38, 15/38, 30/38, 1])\n"
   ]
  },
  {
   "cell_type": "code",
   "execution_count": null,
   "metadata": {},
   "outputs": [],
   "source": [
    "# load cube files\n",
    "densities, nuclei, gpts, h_matrix = load_cube_data(paths)\n",
    "shape = densities[0].shape\n",
    "\n",
    "# # generate cube file for ueg H\n",
    "# ueg = generate_ueg(1, shape)\n",
    "\n",
    "# # generate cube file for ueg C\n",
    "# ueg = generate_ueg(4, shape)\n",
    "\n",
    "# generate cube file for ueg N\n",
    "ueg = generate_ueg(5, shape)\n",
    "\n",
    "# # generate cube file for ueg O\n",
    "# ueg = generate_ueg(6, shape)\n",
    "\n",
    "\n",
    "densities.insert(0, ueg)"
   ]
  },
  {
   "cell_type": "markdown",
   "metadata": {},
   "source": [
    "### Calculate averaged density"
   ]
  },
  {
   "cell_type": "code",
   "execution_count": null,
   "metadata": {},
   "outputs": [],
   "source": [
    "# calculate averaged density\n",
    "average_density = at.integrate_lambda_density(densities, lam_vals)"
   ]
  },
  {
   "cell_type": "markdown",
   "metadata": {},
   "source": [
    "### Calculate electrostatic potential\n",
    "\\begin{equation}\n",
    "\\int d\\vec{r} \\frac{\\tilde{\\rho}_{J, \\text{free}}}{|\\vec{r}-\\vec{R}_I|}\n",
    "\\end{equation}\n",
    "for different positions $\\vec{R}_I$"
   ]
  },
  {
   "cell_type": "code",
   "execution_count": null,
   "metadata": {},
   "outputs": [],
   "source": [
    "# prepare positions R_I\n",
    "# dist1 = np.arange(0, 5, 0.25)\n",
    "# dist2 = np.arange(5.5, 17.5/Bohr, 1.0)\n",
    "# dist = np.concatenate((dist1, dist2))\n",
    "dist = np.arange(0, 17.5/Bohr, 0.25)\n",
    "dvecs = dist/np.sqrt(3)\n",
    "center = 10.0/Bohr\n",
    "pos_R_I = []\n",
    "\n",
    "for dvec in dvecs:\n",
    "    pos_R_I.append([center+dvec, center+dvec, center+dvec])\n",
    "pos_R_I = np.array(pos_R_I)\n",
    "\n",
    "# calculate integrals\n",
    "integrals = []\n",
    "for pos in pos_R_I:\n",
    "    integrals.append(get_alchpot(average_density, pos, gpts, h_matrix))\n"
   ]
  },
  {
   "cell_type": "code",
   "execution_count": null,
   "metadata": {},
   "outputs": [],
   "source": [
    "# fit potential\n",
    "poly_obj = sc.interpolate.CubicSpline(dist, integrals)\n",
    "eval_x = np.arange(0, 21/Bohr, 0.1)\n",
    "integral_fit = poly_obj.__call__(eval_x)"
   ]
  },
  {
   "cell_type": "code",
   "execution_count": null,
   "metadata": {},
   "outputs": [],
   "source": [
    "fig, ax = plt.subplots(1,1)\n",
    "plt.rcParams['font.size'] = 20\n",
    "ax.plot(dist, integrals, '-o')\n",
    "ax.plot(eval_x, integral_fit)\n",
    "ax.set_xlabel(r'$|\\vec{R}_J - \\vec{R}_I|$ (Bohr)')\n",
    "ax.set_ylabel(r'$\\int d\\vec{r} \\frac{\\tilde{\\rho}_{J, \\rm{at}}}{|\\vec{r}-\\vec{R}_I|}$')"
   ]
  },
  {
   "cell_type": "code",
   "execution_count": null,
   "metadata": {},
   "outputs": [],
   "source": [
    "# save result\n",
    "save_path = '/home/misa/APDFT/prototyping/atomic_energies/results/slice_ve38/free_atoms/O/'\n",
    "uq.save_obj(poly_obj, save_path+'poly_O_fine')"
   ]
  },
  {
   "cell_type": "markdown",
   "metadata": {},
   "source": [
    "# The atomic alchemical binding potential"
   ]
  },
  {
   "cell_type": "code",
   "execution_count": 1,
   "metadata": {},
   "outputs": [],
   "source": [
    "import numpy as np\n",
    "from ase.units import Bohr\n",
    "\n",
    "import sys\n",
    "sys.path.insert(0, '/home/misa/git_repositories/APDFT/prototyping/atomic_energies/')\n",
    "\n",
    "import numpy as np\n",
    "import qml_interface as qmi\n",
    "import utils_qm as uq\n",
    "import geometry_euston as ge\n",
    "import glob"
   ]
  },
  {
   "cell_type": "code",
   "execution_count": 2,
   "metadata": {},
   "outputs": [],
   "source": [
    "def get_alch_bind_pot(molecule, poly_obs):\n",
    "    \"\"\"\n",
    "    calculates the alchemical binding potential for every atom in molecule\n",
    "    \"\"\"\n",
    "    # construct h matrix\n",
    "    h_mat = ge.abc_to_hmatrix(20,20,20,90,90,90)\n",
    "    # get alchpot of free atoms\n",
    "    alch_pot_free = []\n",
    "    for atom_I in molecule:\n",
    "        alch_pot_free_I = 0\n",
    "        for atom_J in molecule:\n",
    "            dist = ge.distance_pbc(atom_I[1:4], atom_J[1:4], h_mat)/Bohr\n",
    "            nuc_charge = atom_J[0]\n",
    "            poly_obj = poly_obs[nuc_charge] # dictionary\n",
    "            elec_pot = poly_obj.__call__([dist])[0]\n",
    "            alch_pot_free_I += elec_pot\n",
    "        alch_pot_free.append(alch_pot_free_I)\n",
    "    alch_pot_free = np.array(alch_pot_free)\n",
    "    alch_pot_bind = molecule[:, 4] - alch_pot_free\n",
    "    return(alch_pot_bind)\n",
    "\n",
    "def get_element_charge(el):\n",
    "    if el == 'H':\n",
    "        return(1)\n",
    "    elif el == 'C':\n",
    "        return(6)\n",
    "    elif el == 'N':\n",
    "        return(7)\n",
    "    elif el == 'O':\n",
    "        return(8)\n",
    "    else:\n",
    "        raise ValueError('Symbol for given charge not available')\n",
    "\n",
    "def load_poly_objs(paths_poly):\n",
    "    poly_objs = dict()\n",
    "    for p in paths_poly:\n",
    "        el = p.split('/')[-1].split('_')[-1]\n",
    "        charge = get_element_charge(el)\n",
    "        poly_objs[charge] = uq.load_obj(p)\n",
    "    return(poly_objs)"
   ]
  },
  {
   "cell_type": "code",
   "execution_count": 3,
   "metadata": {},
   "outputs": [],
   "source": [
    "# load molecule data and electrostatic potentials\n",
    "paths = qmi.wrapper_alch_data()\n",
    "basepath = [p.strip('atomic_energies_with_mic.txt') for p in paths]\n",
    "data, msize = qmi.load_alchemy_data(paths)\n",
    "\n",
    "# paths_poly = glob.glob('/home/misa/APDFT/prototyping/atomic_energies/results/slice_ve38/free_atoms/*/poly_*_fine')\n",
    "# poly_objs = load_poly_objs(paths_poly)\n",
    "paths_poly = ['/home/misa/APDFT/prototyping/atomic_energies/results/slice_ve38/free_atoms/H/poly_H_fine',\n",
    "              '/home/misa/APDFT/prototyping/atomic_energies/results/slice_ve38/free_atoms/C/poly_C_fine',\n",
    "              '/home/misa/APDFT/prototyping/atomic_energies/results/slice_ve38/free_atoms/N/poly_N_fine',\n",
    "              '/home/misa/APDFT/prototyping/atomic_energies/results/slice_ve38/free_atoms/O/poly_O_fine']\n",
    "\n",
    "poly_objs = dict()\n",
    "for k,p in zip([1.0, 6.0, 7.0, 8.0], paths_poly):\n",
    "    poly_objs[k] = uq.load_obj(p)"
   ]
  },
  {
   "cell_type": "code",
   "execution_count": 4,
   "metadata": {},
   "outputs": [],
   "source": [
    "# calculate potentials\n",
    "for molecule, path in zip(data, basepath):\n",
    "    # calculate binding values\n",
    "    alch_pot_bind = get_alch_bind_pot(molecule, poly_objs)\n",
    "    atomic_atomisation = alch_pot_bind*molecule[:,0]\n",
    "    # save data\n",
    "    save_arr = np.concatenate( (molecule[:,0:5], np.array([alch_pot_bind]).T, np.array([atomic_atomisation]).T), axis=1)\n",
    "    h = 'charge\\t x_coord\\t y_coord\\t z_coord\\t alchemical_potential\\t alchemical_binding_potential\\t atomisation_energies'\n",
    "    np.savetxt(path+'atomic_binding_energies.txt', save_arr, delimiter='\\t', header=h)"
   ]
  },
  {
   "cell_type": "code",
   "execution_count": null,
   "metadata": {},
   "outputs": [],
   "source": []
  }
 ],
 "metadata": {
  "kernelspec": {
   "display_name": "Python [conda env:atomic-energies]",
   "language": "python",
   "name": "conda-env-atomic-energies-py"
  },
  "language_info": {
   "codemirror_mode": {
    "name": "ipython",
    "version": 3
   },
   "file_extension": ".py",
   "mimetype": "text/x-python",
   "name": "python",
   "nbconvert_exporter": "python",
   "pygments_lexer": "ipython3",
   "version": "3.7.3"
  }
 },
 "nbformat": 4,
 "nbformat_minor": 2
}
