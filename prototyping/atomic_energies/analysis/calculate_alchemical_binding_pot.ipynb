{
 "cells": [
  {
   "cell_type": "code",
   "execution_count": null,
   "metadata": {},
   "outputs": [],
   "source": [
    "# get lambda density for free atoms\n",
    "# calculate integral for specific distance between R_I, R_J\n",
    "# fit integral or calculate directly?\n",
    "# calculate alchemical binding potentials"
   ]
  },
  {
   "cell_type": "code",
   "execution_count": 4,
   "metadata": {},
   "outputs": [],
   "source": [
    "import sys\n",
    "sys.path.insert(0, '/home/misa/git_repositories/APDFT/prototyping/atomic_energies/')\n",
    "import alchemy_tools2 as at\n",
    "\n",
    "import numpy as np"
   ]
  },
  {
   "cell_type": "code",
   "execution_count": 2,
   "metadata": {},
   "outputs": [],
   "source": [
    "def get_paths():\n",
    "    pass\n",
    "\n",
    "def load_cube_data(paths_cubes):\n",
    "    \"\"\"\n",
    "    returns the data necessary to calculate the atomic energies from the cube-files\n",
    "    for different lambda values\n",
    "    \n",
    "    paths_cubes: paths to cubes files\n",
    "    densities: densities given in different cube files\n",
    "    lam_vals: lambda value for cube file, obtained by parsing filename\n",
    "    nuclei: charges and coordinates of the nuclei\n",
    "    gpts: the gridpoints where density values are given\n",
    "    \"\"\"\n",
    "    \n",
    "    densities = []\n",
    "    nuclei = None # nuclear charges and their positions\n",
    "    gpts = None # gridpoints where density values are given\n",
    "    h_matrix = np.zeros((3,3)) # needed for the calculation of the distance of the nuclei to the gridpoints with MIC\n",
    "    \n",
    "    for idx, path in enumerate(paths_cubes):\n",
    "        cube = CUBE(path)\n",
    "        \n",
    "        densities.append(cube.data_scaled) # density\n",
    "        \n",
    "        if idx==len(paths_cubes)-1:\n",
    "            nuclei = cube.atoms\n",
    "            gpts = cube.get_grid()\n",
    "            h_matrix = [cube.X*cube.NX, cube.Y*cube.NY, cube.Z*cube.NZ]\n",
    "    \n",
    "    return(np.array(densities), nuclei, gpts, h_matrix)"
   ]
  },
  {
   "cell_type": "code",
   "execution_count": 5,
   "metadata": {},
   "outputs": [
    {
     "ename": "TypeError",
     "evalue": "'NoneType' object is not iterable",
     "output_type": "error",
     "traceback": [
      "\u001b[0;31m---------------------------------------------------------------------------\u001b[0m",
      "\u001b[0;31mTypeError\u001b[0m                                 Traceback (most recent call last)",
      "\u001b[0;32m<ipython-input-5-29307384d16d>\u001b[0m in \u001b[0;36m<module>\u001b[0;34m\u001b[0m\n\u001b[1;32m      1\u001b[0m \u001b[0mpaths_atom\u001b[0m \u001b[0;34m=\u001b[0m \u001b[0mget_paths\u001b[0m\u001b[0;34m(\u001b[0m\u001b[0;34m)\u001b[0m\u001b[0;34m\u001b[0m\u001b[0;34m\u001b[0m\u001b[0m\n\u001b[0;32m----> 2\u001b[0;31m \u001b[0mdensities\u001b[0m\u001b[0;34m,\u001b[0m \u001b[0mnucleus\u001b[0m\u001b[0;34m,\u001b[0m \u001b[0mgpts\u001b[0m\u001b[0;34m,\u001b[0m \u001b[0mh_matrix\u001b[0m \u001b[0;34m=\u001b[0m \u001b[0mload_cube_data\u001b[0m\u001b[0;34m(\u001b[0m\u001b[0mpaths_atom\u001b[0m\u001b[0;34m)\u001b[0m\u001b[0;34m\u001b[0m\u001b[0;34m\u001b[0m\u001b[0m\n\u001b[0m",
      "\u001b[0;32m<ipython-input-2-02e302b2f4b4>\u001b[0m in \u001b[0;36mload_cube_data\u001b[0;34m(paths_cubes)\u001b[0m\n\u001b[1;32m     19\u001b[0m     \u001b[0mh_matrix\u001b[0m \u001b[0;34m=\u001b[0m \u001b[0mnp\u001b[0m\u001b[0;34m.\u001b[0m\u001b[0mzeros\u001b[0m\u001b[0;34m(\u001b[0m\u001b[0;34m(\u001b[0m\u001b[0;36m3\u001b[0m\u001b[0;34m,\u001b[0m\u001b[0;36m3\u001b[0m\u001b[0;34m)\u001b[0m\u001b[0;34m)\u001b[0m \u001b[0;31m# needed for the calculation of the distance of the nuclei to the gridpoints with MIC\u001b[0m\u001b[0;34m\u001b[0m\u001b[0;34m\u001b[0m\u001b[0m\n\u001b[1;32m     20\u001b[0m \u001b[0;34m\u001b[0m\u001b[0m\n\u001b[0;32m---> 21\u001b[0;31m     \u001b[0;32mfor\u001b[0m \u001b[0midx\u001b[0m\u001b[0;34m,\u001b[0m \u001b[0mpath\u001b[0m \u001b[0;32min\u001b[0m \u001b[0menumerate\u001b[0m\u001b[0;34m(\u001b[0m\u001b[0mpaths_cubes\u001b[0m\u001b[0;34m)\u001b[0m\u001b[0;34m:\u001b[0m\u001b[0;34m\u001b[0m\u001b[0;34m\u001b[0m\u001b[0m\n\u001b[0m\u001b[1;32m     22\u001b[0m         \u001b[0mcube\u001b[0m \u001b[0;34m=\u001b[0m \u001b[0mCUBE\u001b[0m\u001b[0;34m(\u001b[0m\u001b[0mpath\u001b[0m\u001b[0;34m)\u001b[0m\u001b[0;34m\u001b[0m\u001b[0;34m\u001b[0m\u001b[0m\n\u001b[1;32m     23\u001b[0m \u001b[0;34m\u001b[0m\u001b[0m\n",
      "\u001b[0;31mTypeError\u001b[0m: 'NoneType' object is not iterable"
     ]
    }
   ],
   "source": [
    "# load density files\n",
    "paths_atom = get_paths()\n",
    "densities, nucleus, gpts, h_matrix = load_cube_data(paths_atom)\n",
    "lam_vals = []"
   ]
  },
  {
   "cell_type": "code",
   "execution_count": null,
   "metadata": {},
   "outputs": [],
   "source": [
    "# add density for lambda = 0"
   ]
  },
  {
   "cell_type": "code",
   "execution_count": null,
   "metadata": {},
   "outputs": [],
   "source": [
    "# calculate averaged density\n",
    "average_density = at.integrate_lambda_density(densities, lam_vals)"
   ]
  },
  {
   "cell_type": "code",
   "execution_count": null,
   "metadata": {},
   "outputs": [],
   "source": []
  },
  {
   "cell_type": "code",
   "execution_count": null,
   "metadata": {},
   "outputs": [],
   "source": [
    "dist_nuclei = []"
   ]
  }
 ],
 "metadata": {
  "kernelspec": {
   "display_name": "Python [conda env:atomic-energies]",
   "language": "python",
   "name": "conda-env-atomic-energies-py"
  },
  "language_info": {
   "codemirror_mode": {
    "name": "ipython",
    "version": 3
   },
   "file_extension": ".py",
   "mimetype": "text/x-python",
   "name": "python",
   "nbconvert_exporter": "python",
   "pygments_lexer": "ipython3",
   "version": "3.7.3"
  }
 },
 "nbformat": 4,
 "nbformat_minor": 2
}
