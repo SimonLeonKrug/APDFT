{
 "cells": [
  {
   "cell_type": "code",
   "execution_count": 40,
   "metadata": {},
   "outputs": [],
   "source": [
    "import qml\n",
    "import numpy as np\n",
    "from parse_cube_files import CUBE\n",
    "import itertools\n",
    "import sys\n",
    "sys.path.insert(0, '/home/misa/APDFT/prototyping/atomic_energies/')\n",
    "import alchemy_tools as alch\n",
    "import qml_interface as qi\n",
    "import matplotlib\n",
    "matplotlib.use('Qt5Agg')\n",
    "from matplotlib import pyplot as plt\n",
    "plt.rcParams.update({'font.size': 22})"
   ]
  },
  {
   "cell_type": "code",
   "execution_count": 106,
   "metadata": {},
   "outputs": [],
   "source": [
    "# Import data\n",
    "paths=qi.wrapper_alch_data(path='/home/misa/APDFT/prototyping/atomic_energies/results/slice_ve38/cspline')\n",
    "alchemy_data, molecule_size = qi.load_alchemy_data(paths)\n"
   ]
  },
  {
   "cell_type": "code",
   "execution_count": 107,
   "metadata": {},
   "outputs": [],
   "source": [
    "# np.savetxt('/home/misa/APDFT/prototyping/atomic_energies/analysis/global_idc_test_analyse_errors.txt', global_idc[1])\n",
    "g_tr = np.loadtxt('/home/misa/APDFT/prototyping/atomic_energies/analysis/global_idc_tr_analyse_errors.txt').astype(int)\n",
    "g_test = np.loadtxt('/home/misa/APDFT/prototyping/atomic_energies/analysis/global_idc_test_analyse_errors.txt').astype(int)"
   ]
  },
  {
   "cell_type": "code",
   "execution_count": 108,
   "metadata": {},
   "outputs": [],
   "source": [
    "# select training and validation set\n",
    "training_set_size = 100\n",
    "global_idc = g_tr, g_test#qi.get_indices(len(alchemy_data), training_set_size)\n",
    "local_idc = qi.get_local_idx(global_idc[0], molecule_size), qi.get_local_idx(global_idc[1], molecule_size)\n",
    "\n",
    "# build representations and labels\n",
    "local_reps = qi.generate_atomic_representations(alchemy_data, molecule_size)\n",
    "local_labels = qi.generate_label_vector(alchemy_data, molecule_size.sum())\n",
    "\n",
    "# optimize model\n",
    "rep = local_reps[local_idc[0]], local_reps[local_idc[1]] # select the representations\n",
    "labels = local_labels[local_idc[0]], local_labels[local_idc[1]] # select the labels\n",
    "sigmas = np.logspace(-1, 4, 12) # list of hyperparameters for optimization\n",
    "lams = np.logspace(-15, 0, 16)\n",
    "opt_data, coeffs, errors = qi.optimize_hypar(rep, labels, sigmas, lams)\n",
    "\n",
    "best_sigma = opt_data[np.where(opt_data[:,2]==np.amin(opt_data[:,2]))][0][0]\n",
    "best_lambda = opt_data[np.where(opt_data[:,2]==np.amin(opt_data[:,2]))][0][1]"
   ]
  },
  {
   "cell_type": "markdown",
   "metadata": {},
   "source": [
    "# The error in atomisation energy per molecule"
   ]
  },
  {
   "cell_type": "code",
   "execution_count": 110,
   "metadata": {},
   "outputs": [
    {
     "data": {
      "text/plain": [
       "0.6866674183169938"
      ]
     },
     "execution_count": 110,
     "metadata": {},
     "output_type": "execute_result"
    }
   ],
   "source": [
    "# predicted atomic energergies\n",
    "atomic_energies = qi.predict_labels(rep[1], rep[0], best_sigma, coeffs)\n",
    "# true atomisation energies\n",
    "ref_atomisation_en = np.empty(len(global_idc[1]))\n",
    "for j,i in enumerate(global_idc[1]):\n",
    "    ref_atomisation_en[j] = alchemy_data[i][:,6].sum()\n",
    "\n",
    "# molecule size of molecules in test set\n",
    "molecule_size_test = molecule_size[global_idc[1]]\n",
    "\n",
    "# error per molecule\n",
    "# error_molecules = qi.calculate_error_atomisation_energy(atomic_energies, molecule_size_test, ref_atomisation_en)\n",
    "error_molecules_cspline = qi.calculate_error_atomisation_energy(atomic_energies, molecule_size_test, ref_atomisation_en)\n",
    "\n",
    "error_molecules_cspline.mean()"
   ]
  },
  {
   "cell_type": "code",
   "execution_count": 55,
   "metadata": {},
   "outputs": [
    {
     "data": {
      "text/plain": [
       "4.078284197615917"
      ]
     },
     "execution_count": 55,
     "metadata": {},
     "output_type": "execute_result"
    }
   ],
   "source": [
    "paths[np.where(error_molecules==np.max(error_molecules))[0][0]]\n",
    "np.max(error_molecules)"
   ]
  },
  {
   "cell_type": "code",
   "execution_count": 22,
   "metadata": {},
   "outputs": [],
   "source": [
    "# test calculate_error_atomisation_energy\n",
    "\n",
    "# predict the energies for one molecule ('/home/misa/APDFT/prototyping/atomic_energies/results/slice_ve38/dsgdb9nsd_000275/atomic_energies.txt')\n",
    "# ae = qi.predict_labels(local_reps[qi.get_local_idx([global_idc[1][2]], molecule_size)], rep[0], best_sigma, coeffs)\n",
    "# # subtract the sum of the predicted energies from the sum of the correct atomic energies\n",
    "# np.abs(ae.sum()-alchemy_data[4][:,6].sum())\n",
    "# error_molecules\n",
    "# compare value to the value in error molecules the third element for this random subset both values are the same\n",
    "# indicating that the scheme works correctly"
   ]
  },
  {
   "cell_type": "markdown",
   "metadata": {},
   "source": [
    "# Error Integration"
   ]
  },
  {
   "cell_type": "code",
   "execution_count": 23,
   "metadata": {},
   "outputs": [],
   "source": [
    "trapz= error_molecules"
   ]
  },
  {
   "cell_type": "code",
   "execution_count": 111,
   "metadata": {},
   "outputs": [],
   "source": [
    "cspline = error_molecules_cspline.copy()"
   ]
  },
  {
   "cell_type": "code",
   "execution_count": 112,
   "metadata": {},
   "outputs": [
    {
     "name": "stdout",
     "output_type": "stream",
     "text": [
      "0.6866674183169938\n",
      "0.6918728401035154\n"
     ]
    }
   ],
   "source": [
    "print(cspline.mean())\n",
    "print(trapz.mean())"
   ]
  },
  {
   "cell_type": "code",
   "execution_count": 117,
   "metadata": {},
   "outputs": [
    {
     "data": {
      "text/plain": [
       "Text(0, 0.5, 'Error(trapz) - Error(cspline)')"
      ]
     },
     "execution_count": 117,
     "metadata": {},
     "output_type": "execute_result"
    }
   ],
   "source": [
    "plt.plot(np.arange(len(trapz)),trapz - cspline, 'o')\n",
    "plt.plot(np.arange(len(trapz)), np.zeros(len(trapz)), color='black')\n",
    "plt.xlabel('Molecule ID')\n",
    "plt.ylabel(r'Error(trapz) - Error(cspline)')\n"
   ]
  },
  {
   "cell_type": "markdown",
   "metadata": {},
   "source": [
    "# Error distribution per molecule"
   ]
  },
  {
   "cell_type": "code",
   "execution_count": 26,
   "metadata": {},
   "outputs": [
    {
     "data": {
      "text/plain": [
       "Text(0, 0.5, 'Frequency')"
      ]
     },
     "execution_count": 26,
     "metadata": {},
     "output_type": "execute_result"
    }
   ],
   "source": [
    "# histogram\n",
    "import pandas as pd\n",
    "import matplotlib\n",
    "matplotlib.use('Qt5Agg')\n",
    "from matplotlib import pyplot as plt\n",
    "plt.rcParams.update({'font.size': 22})\n",
    "\n",
    "binwidth = error_molecules.std()/5\n",
    "total_width = np.amax(error_molecules)-np.amin(error_molecules)\n",
    "\n",
    "fhist, axhist = plt.subplots(1,1)\n",
    "axhist.hist(error_molecules, bins = 2*int(total_width/binwidth), edgecolor='black', density=True)\n",
    "s = pd.Series(error_molecules)\n",
    "axhist = s.plot.kde(bw_method=0.07)\n",
    "axhist.set_xlabel('Error per molecule [Ha]')\n",
    "axhist.set_ylabel('Frequency')"
   ]
  },
  {
   "cell_type": "markdown",
   "metadata": {},
   "source": [
    "# Mean distance of validation molecules to training molecules"
   ]
  },
  {
   "cell_type": "code",
   "execution_count": 27,
   "metadata": {},
   "outputs": [],
   "source": [
    "# average distance of validation to training representations\n",
    "mean_d = np.zeros(len(local_idc[1]))\n",
    "\n",
    "for j,i in enumerate(local_idc[1]):\n",
    "    mean_d[j] = qml.distance.l2_distance(rep[0], np.array([local_reps[i]])).mean()"
   ]
  },
  {
   "cell_type": "code",
   "execution_count": 28,
   "metadata": {},
   "outputs": [
    {
     "data": {
      "text/plain": [
       "array([147.52750347, 144.95658528, 147.52750837, ..., 126.37090842,\n",
       "       130.09914829, 130.48050634])"
      ]
     },
     "execution_count": 28,
     "metadata": {},
     "output_type": "execute_result"
    }
   ],
   "source": [
    "mean_d"
   ]
  },
  {
   "cell_type": "code",
   "execution_count": 29,
   "metadata": {},
   "outputs": [],
   "source": [
    "# average distance of validation molecules to training molecules\n",
    "\n",
    "# molecule size of molecules in test set\n",
    "molecule_size_test = molecule_size[global_idc[1]]\n",
    "\n",
    "# sum up atomic energies\n",
    "mean_d_molecule = np.zeros(len(molecule_size_test))\n",
    "start = 0\n",
    "for idx, size in enumerate(molecule_size_test):\n",
    "    mean_d_molecule[idx] = mean_d[start:start+size].sum()/size\n",
    "    start += size"
   ]
  },
  {
   "cell_type": "code",
   "execution_count": 60,
   "metadata": {},
   "outputs": [
    {
     "data": {
      "text/plain": [
       "[<matplotlib.lines.Line2D at 0x7f3d8423f2e8>]"
      ]
     },
     "execution_count": 60,
     "metadata": {},
     "output_type": "execute_result"
    }
   ],
   "source": [
    "plt.plot(molecule_size_test, error_molecules/molecule_size_test, 'o')"
   ]
  },
  {
   "cell_type": "code",
   "execution_count": 31,
   "metadata": {},
   "outputs": [
    {
     "data": {
      "text/plain": [
       "143.1042598019563"
      ]
     },
     "execution_count": 31,
     "metadata": {},
     "output_type": "execute_result"
    }
   ],
   "source": [
    "\n",
    "local_reps_89 =  qml.representations.generate_atomic_coulomb_matrix(alchemy_data[285][:,0], alchemy_data[285][:,[1,2,3]], size=np.amax(molecule_size), sorting='distance')\n",
    "\n",
    "# average distance of validation to training representations\n",
    "qml.distance.l2_distance(rep[0], np.array(local_reps_89)).mean()"
   ]
  },
  {
   "cell_type": "code",
   "execution_count": 32,
   "metadata": {},
   "outputs": [
    {
     "data": {
      "text/plain": [
       "(11, 210)"
      ]
     },
     "execution_count": 32,
     "metadata": {},
     "output_type": "execute_result"
    }
   ],
   "source": [
    "local_reps_89 =  qml.representations.generate_atomic_coulomb_matrix(alchemy_data[285][:,0], alchemy_data[285][:,[1,2,3]], size=np.amax(molecule_size), sorting='distance')\n",
    "\n",
    "local_reps_89.shape"
   ]
  },
  {
   "cell_type": "markdown",
   "metadata": {},
   "source": [
    "# select similiar molecules with different error"
   ]
  },
  {
   "cell_type": "code",
   "execution_count": 33,
   "metadata": {},
   "outputs": [],
   "source": [
    "# select four molecules around distance = 143\n",
    "sel_y=mean_d_molecule[np.where( (mean_d_molecule<143.5) & (mean_d_molecule>142.3) )]\n",
    "sel_x=trapz[np.where( (mean_d_molecule<143.5) & (mean_d_molecule>142.3) )]"
   ]
  },
  {
   "cell_type": "code",
   "execution_count": 34,
   "metadata": {},
   "outputs": [
    {
     "data": {
      "text/plain": [
       "(array([  0,  27,  72,  79,  84, 130, 206, 229, 424, 429]),)"
      ]
     },
     "execution_count": 34,
     "metadata": {},
     "output_type": "execute_result"
    }
   ],
   "source": [
    "np.where( (mean_d_molecule<143.5) & (mean_d_molecule>142.3) )"
   ]
  },
  {
   "cell_type": "code",
   "execution_count": 35,
   "metadata": {},
   "outputs": [
    {
     "data": {
      "text/plain": [
       "array([3.70468391, 0.86805304, 1.15594204, 1.07574091, 1.4992409 ,\n",
       "       0.95394156, 0.69862475, 0.05434429, 2.33831833, 1.88909508])"
      ]
     },
     "execution_count": 35,
     "metadata": {},
     "output_type": "execute_result"
    }
   ],
   "source": [
    "sel_x"
   ]
  },
  {
   "cell_type": "code",
   "execution_count": 36,
   "metadata": {},
   "outputs": [
    {
     "data": {
      "text/plain": [
       "array([3.70468391, 1.15594204, 0.05434429, 2.33831833])"
      ]
     },
     "execution_count": 36,
     "metadata": {},
     "output_type": "execute_result"
    }
   ],
   "source": [
    "idx=[0, 72, 229, 424]\n",
    "trapz[idx]"
   ]
  },
  {
   "cell_type": "code",
   "execution_count": 101,
   "metadata": {},
   "outputs": [],
   "source": [
    "# select 3 molecules around distance = 128 (normalized error)\n",
    "large_error = np.where( (mean_d_molecule<129.5) & (mean_d_molecule>128) & (error_molecules>2) )\n",
    "small_error = np.where( (mean_d_molecule<129.5) & (mean_d_molecule>128) & (error_molecules<0.01) )\n",
    "np.array([large_error[0],small_error[0]])\n",
    "idx_128= np.array([small_error[0][0], large_error[0][0], large_error[0][1]])"
   ]
  },
  {
   "cell_type": "code",
   "execution_count": 102,
   "metadata": {},
   "outputs": [
    {
     "data": {
      "text/plain": [
       "Text(0, 0.5, 'Mean distance of test molecule to the training molecules')"
      ]
     },
     "execution_count": 102,
     "metadata": {},
     "output_type": "execute_result"
    }
   ],
   "source": [
    "fig, ax = plt.subplots(1,1)\n",
    "ax.plot(trapz/molecule_size_test,mean_d_molecule, 'o')\n",
    "ax.plot(trapz[idx]/molecule_size_test[idx],mean_d_molecule[idx], 'o')\n",
    "ax.plot(trapz[idx_128]/molecule_size_test[idx_128],mean_d_molecule[idx_128], 'o')\n",
    "\n",
    "# ax.plot(cspline[idx], mean_d_molecule[idx], 'o', label='cspline integration')\n",
    "h_high = np.zeros(len(np.linspace(-10,10, 20)))\n",
    "h_high.fill(143)\n",
    "h_low = np.zeros(len(np.linspace(-10,10, 20)))\n",
    "h_low.fill(1300)\n",
    "ax.plot(np.linspace(-0,0.5, 20), h_high, color='darkorange')\n",
    "# ax.plot(np.linspace(-0,5, 20), h_low)\n",
    "ax.set_xlabel('Error per molecule [Ha]')\n",
    "ax.set_ylabel('Mean distance of test molecule to the training molecules')"
   ]
  },
  {
   "cell_type": "code",
   "execution_count": 182,
   "metadata": {},
   "outputs": [
    {
     "data": {
      "text/plain": [
       "array([  0,  89, 285, 515])"
      ]
     },
     "execution_count": 182,
     "metadata": {},
     "output_type": "execute_result"
    }
   ],
   "source": [
    "# global index of molecules\n",
    "global_idc[1][idx]"
   ]
  },
  {
   "cell_type": "code",
   "execution_count": 188,
   "metadata": {},
   "outputs": [
    {
     "data": {
      "text/plain": [
       "array([3.70468391, 1.15594204, 0.05434429, 2.33831833])"
      ]
     },
     "execution_count": 188,
     "metadata": {},
     "output_type": "execute_result"
    }
   ],
   "source": [
    "idx=[0, 72, 229, 424]\n",
    "trapz[idx]"
   ]
  },
  {
   "cell_type": "code",
   "execution_count": 61,
   "metadata": {},
   "outputs": [
    {
     "name": "stdout",
     "output_type": "stream",
     "text": [
      "Comopund dsgdb9nsd_002967\n",
      "Error = 0.0543442929389677\n",
      "Error per atom = 0.004940390267178882\n",
      "Mean distance = 143.1042598019563\n",
      "\n",
      "\n",
      "Comopund dsgdb9nsd_001212\n",
      "Error = 1.155942037699334\n",
      "Error per atom = 0.09632850314161116\n",
      "Mean distance = 142.83199543243526\n",
      "\n",
      "\n",
      "Comopund dsgdb9nsd_003886\n",
      "Error = 2.3383183313433378\n",
      "Error per atom = 0.23383183313433378\n",
      "Mean distance = 142.41730418263174\n",
      "\n",
      "\n",
      "Comopund dsgdb9nsd_000227\n",
      "Error = 3.7046839098185984\n",
      "Error per atom = 0.2315427443636624\n",
      "Mean distance = 143.44335817649247\n",
      "\n",
      "\n"
     ]
    }
   ],
   "source": [
    "# test if selected molecules have indeed same distance but different errors\n",
    "max_size = np.amax(molecule_size)\n",
    "idx_selected = [285, 89, 515, 0]\n",
    "for i in idx_selected:\n",
    "    molecule = alchemy_data[i]\n",
    "    # make rep\n",
    "    rep_selected = qml.representations.generate_atomic_coulomb_matrix(molecule[:,0], molecule[:,[1,2,3]], size=max_size, sorting='distance')\n",
    "    # error per molecule\n",
    "    en_selected = qi.predict_labels(rep_selected, rep[0], best_sigma, coeffs).sum()\n",
    "    error = np.abs(molecule[:,6].sum()-en_selected)\n",
    "    # error normalized by molecule size\n",
    "    error_norml = error/molecule_size[i]\n",
    "    # mean distance to training data\n",
    "    mean_dist = qml.distance.l2_distance(rep_selected, rep[0]).mean()\n",
    "    \n",
    "    print('Comopund {}'.format(paths[i].split('/')[-2]))\n",
    "    print('Error = {}'.format(error))\n",
    "    print('Error per atom = {}'.format(error_norml))\n",
    "    print('Mean distance = {}'.format(mean_dist))\n",
    "    print('\\n')"
   ]
  },
  {
   "cell_type": "code",
   "execution_count": 104,
   "metadata": {},
   "outputs": [
    {
     "name": "stdout",
     "output_type": "stream",
     "text": [
      "Comopund dsgdb9nsd_003335\n",
      "Error = 0.007379768052611091\n",
      "Error per atom = 0.0004919845368407394\n",
      "Mean distance = 128.67216927871743\n",
      "\n",
      "\n",
      "Comopund dsgdb9nsd_009030\n",
      "Error = 2.451976110556201\n",
      "Error per atom = 0.24519761105562007\n",
      "Mean distance = 129.00704793136768\n",
      "\n",
      "\n",
      "Comopund dsgdb9nsd_021325\n",
      "Error = 4.078284198416049\n",
      "Error per atom = 0.4078284198416049\n",
      "Mean distance = 128.60324895674344\n",
      "\n",
      "\n"
     ]
    }
   ],
   "source": [
    "# molecule 128\n",
    "\n",
    "idx_selected = global_idc[1][idx_128]\n",
    "for i in idx_selected:\n",
    "    molecule = alchemy_data[i]\n",
    "    # make rep\n",
    "    rep_selected = qml.representations.generate_atomic_coulomb_matrix(molecule[:,0], molecule[:,[1,2,3]], size=max_size, sorting='distance')\n",
    "    # error per molecule\n",
    "    en_selected = qi.predict_labels(rep_selected, rep[0], best_sigma, coeffs).sum()\n",
    "    error = np.abs(molecule[:,6].sum()-en_selected)\n",
    "    # error normalized by molecule size\n",
    "    error_norml = error/molecule_size[i]\n",
    "    # mean distance to training data\n",
    "    mean_dist = qml.distance.l2_distance(rep_selected, rep[0]).mean()\n",
    "    \n",
    "    print('Comopund {}'.format(paths[i].split('/')[-2]))\n",
    "    print('Error = {}'.format(error))\n",
    "    print('Error per atom = {}'.format(error_norml))\n",
    "    print('Mean distance = {}'.format(mean_dist))\n",
    "    print('\\n')"
   ]
  },
  {
   "cell_type": "markdown",
   "metadata": {},
   "source": [
    "# Error vs mean distance from training data"
   ]
  },
  {
   "cell_type": "code",
   "execution_count": 67,
   "metadata": {},
   "outputs": [
    {
     "data": {
      "text/plain": [
       "Text(0.5, 0, 'Mean distance of test molecule to the training molecules')"
      ]
     },
     "execution_count": 67,
     "metadata": {},
     "output_type": "execute_result"
    }
   ],
   "source": [
    "fig, ax = plt.subplots(1,1)\n",
    "ax.plot(mean_d_molecule, trapz, 'o')\n",
    "ax.set_ylabel('Error per molecule [Ha]')\n",
    "ax.set_xlabel('Mean distance of test molecule to the training molecules')"
   ]
  },
  {
   "cell_type": "code",
   "execution_count": 43,
   "metadata": {},
   "outputs": [
    {
     "data": {
      "text/plain": [
       "[<matplotlib.lines.Line2D at 0x7f7aa5dfe240>]"
      ]
     },
     "execution_count": 43,
     "metadata": {},
     "output_type": "execute_result"
    }
   ],
   "source": [
    "err = trapz-cspline\n",
    "x=np.arange(len(err))\n",
    "plt.plot(mean_d_molecule, err, 'o')"
   ]
  },
  {
   "cell_type": "markdown",
   "metadata": {},
   "source": [
    "# Molecules with biggest Error"
   ]
  },
  {
   "cell_type": "code",
   "execution_count": 12,
   "metadata": {},
   "outputs": [
    {
     "name": "stdout",
     "output_type": "stream",
     "text": [
      "0 /home/misa/APDFT/prototyping/atomic_energies/results/slice_ve38/dsgdb9nsd_000227/atomic_energies_cspline.txt\n",
      "2 /home/misa/APDFT/prototyping/atomic_energies/results/slice_ve38/dsgdb9nsd_000272/atomic_energies_cspline.txt\n",
      "209 /home/misa/APDFT/prototyping/atomic_energies/results/slice_ve38/dsgdb9nsd_002308/atomic_energies_cspline.txt\n",
      "556 /home/misa/APDFT/prototyping/atomic_energies/results/slice_ve38/dsgdb9nsd_021325/atomic_energies_cspline.txt\n"
     ]
    }
   ],
   "source": [
    "# molecules with biggest error\n",
    "error_molecules[np.where(error_molecules>3.0)]\n",
    "idx_largest_error = global_idc[1][np.where(error_molecules>3.0)]\n",
    "\n",
    "#\n",
    "for i in idx_largest_error:\n",
    "    print(i, paths[i])"
   ]
  },
  {
   "cell_type": "markdown",
   "metadata": {},
   "source": [
    "# Error distribution per atom"
   ]
  },
  {
   "cell_type": "code",
   "execution_count": 13,
   "metadata": {},
   "outputs": [
    {
     "data": {
      "text/plain": [
       "Text(0, 0.5, 'Frequency')"
      ]
     },
     "execution_count": 13,
     "metadata": {},
     "output_type": "execute_result"
    }
   ],
   "source": [
    "# histogram\n",
    "import pandas as pd\n",
    "import matplotlib\n",
    "matplotlib.use('Qt5Agg')\n",
    "from matplotlib import pyplot as plt\n",
    "plt.rcParams.update({'font.size': 22})\n",
    "\n",
    "binwidth = errors.std()/5\n",
    "total_width = np.amax(errors)-np.amin(errors)\n",
    "\n",
    "fhist, axhist = plt.subplots(1,1)\n",
    "axhist.hist(errors, bins = 20*int(total_width/binwidth), density=True)\n",
    "s = pd.Series(errors)\n",
    "axhist = s.plot.kde(bw_method=0.07)\n",
    "axhist.set_xlabel('Error per atom [Ha]')\n",
    "axhist.set_ylabel('Frequency')"
   ]
  },
  {
   "cell_type": "code",
   "execution_count": null,
   "metadata": {},
   "outputs": [],
   "source": []
  }
 ],
 "metadata": {
  "kernelspec": {
   "display_name": "Python (atmoic-energies)",
   "language": "python",
   "name": "atomic-energies"
  },
  "language_info": {
   "codemirror_mode": {
    "name": "ipython",
    "version": 3
   },
   "file_extension": ".py",
   "mimetype": "text/x-python",
   "name": "python",
   "nbconvert_exporter": "python",
   "pygments_lexer": "ipython3",
   "version": "3.7.3"
  }
 },
 "nbformat": 4,
 "nbformat_minor": 2
}
