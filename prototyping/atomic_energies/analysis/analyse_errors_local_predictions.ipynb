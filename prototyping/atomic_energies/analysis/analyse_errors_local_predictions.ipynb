{
 "cells": [
  {
   "cell_type": "code",
   "execution_count": 1,
   "metadata": {},
   "outputs": [],
   "source": [
    "import qml\n",
    "import numpy as np\n",
    "\n",
    "import sys\n",
    "sys.path.insert(0, '/home/misa/APDFT/prototyping/atomic_energies/')\n",
    "import alchemy_tools as alch\n",
    "import qml_interface as qi"
   ]
  },
  {
   "cell_type": "code",
   "execution_count": 2,
   "metadata": {},
   "outputs": [],
   "source": [
    "# Import data\n",
    "paths=qi.wrapper_alch_data()\n",
    "alchemy_data, molecule_size = qi.load_alchemy_data(paths)\n"
   ]
  },
  {
   "cell_type": "code",
   "execution_count": 32,
   "metadata": {},
   "outputs": [
    {
     "data": {
      "text/plain": [
       "'/home/misa/APDFT/prototyping/atomic_energies/results/slice_ve38/dsgdb9nsd_000275/atomic_energies.txt'"
      ]
     },
     "execution_count": 32,
     "metadata": {},
     "output_type": "execute_result"
    }
   ],
   "source": [
    "paths[4]"
   ]
  },
  {
   "cell_type": "code",
   "execution_count": 3,
   "metadata": {},
   "outputs": [],
   "source": [
    "# select training and validation set\n",
    "training_set_size = 100\n",
    "global_idc = qi.get_indices(len(alchemy_data), training_set_size)\n",
    "local_idc = qi.get_local_idx(global_idc[0], molecule_size), qi.get_local_idx(global_idc[1], molecule_size)\n",
    "\n",
    "# build representations and labels\n",
    "local_reps = qi.generate_atomic_representations(alchemy_data, molecule_size)\n",
    "local_labels = qi.generate_label_vector(alchemy_data, molecule_size.sum())\n",
    "\n",
    "# optimize model\n",
    "rep = local_reps[local_idc[0]], local_reps[local_idc[1]] # select the representations\n",
    "labels = local_labels[local_idc[0]], local_labels[local_idc[1]] # select the labels\n",
    "sigmas = np.logspace(-1, 4, 12) # list of hyperparameters for optimization\n",
    "lams = np.logspace(-15, 0, 16)\n",
    "opt_data, coeffs, errors = qi.optimize_hypar(rep, labels, sigmas, lams)\n",
    "\n",
    "best_sigma = opt_data[np.where(opt_data[:,2]==np.amin(opt_data[:,2]))][0][0]\n",
    "best_lambda = opt_data[np.where(opt_data[:,2]==np.amin(opt_data[:,2]))][0][1]"
   ]
  },
  {
   "cell_type": "markdown",
   "metadata": {},
   "source": [
    "# The error in atomisation energy per molecule"
   ]
  },
  {
   "cell_type": "code",
   "execution_count": 17,
   "metadata": {},
   "outputs": [],
   "source": [
    "# predicted atomic energergies\n",
    "atomic_energies = qi.predict_labels(rep[1], rep[0], best_sigma, coeffs)\n",
    "# true atomisation energies\n",
    "ref_atomisation_en = np.empty(len(global_idc[1]))\n",
    "for j,i in enumerate(global_idc[1]):\n",
    "    ref_atomisation_en[j] = alchemy_data[i][:,6].sum()\n",
    "\n",
    "# molecule size of molecules in test set\n",
    "molecule_size_test = molecule_size[global_idc[1]]\n",
    "\n",
    "# error per molecule\n",
    "error_molecules = qi.calculate_error_atomisation_energy(atomic_energies, molecule_size_test, ref_atomisation_en)\n"
   ]
  },
  {
   "cell_type": "code",
   "execution_count": 47,
   "metadata": {},
   "outputs": [
    {
     "data": {
      "text/plain": [
       "0.22224555062354234"
      ]
     },
     "execution_count": 47,
     "metadata": {},
     "output_type": "execute_result"
    }
   ],
   "source": [
    "# test calculate_error_atomisation_energy\n",
    "\n",
    "# predict the energies for one molecule ('/home/misa/APDFT/prototyping/atomic_energies/results/slice_ve38/dsgdb9nsd_000275/atomic_energies.txt')\n",
    "ae = qi.predict_labels(local_reps[qi.get_local_idx([global_idc[1][2]], molecule_size)], rep[0], best_sigma, coeffs)\n",
    "# subtract the sum of the predicted energies from the sum of the correct atomic energies\n",
    "np.abs(ae.sum()-alchemy_data[4][:,6].sum())\n",
    "\n",
    "# compare value to the value in error molecules the third element for this random subset both values are the same\n",
    "# indicating that the scheme works correctly"
   ]
  },
  {
   "cell_type": "code",
   "execution_count": 48,
   "metadata": {},
   "outputs": [
    {
     "data": {
      "text/plain": [
       "array([3.70468391, 3.8963704 , 0.22224555, 1.55482573])"
      ]
     },
     "execution_count": 48,
     "metadata": {},
     "output_type": "execute_result"
    }
   ],
   "source": [
    "error_molecules[0:4]"
   ]
  },
  {
   "cell_type": "code",
   "execution_count": null,
   "metadata": {},
   "outputs": [],
   "source": []
  }
 ],
 "metadata": {
  "kernelspec": {
   "display_name": "Python (atmoic-energies)",
   "language": "python",
   "name": "atomic-energies"
  },
  "language_info": {
   "codemirror_mode": {
    "name": "ipython",
    "version": 3
   },
   "file_extension": ".py",
   "mimetype": "text/x-python",
   "name": "python",
   "nbconvert_exporter": "python",
   "pygments_lexer": "ipython3",
   "version": "3.7.3"
  }
 },
 "nbformat": 4,
 "nbformat_minor": 2
}
