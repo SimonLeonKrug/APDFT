{
 "cells": [
  {
   "cell_type": "code",
   "execution_count": 6,
   "metadata": {},
   "outputs": [],
   "source": [
    "import numpy as np\n",
    "import os\n",
    "from matplotlib import pyplot as plt"
   ]
  },
  {
   "cell_type": "code",
   "execution_count": 2,
   "metadata": {},
   "outputs": [],
   "source": [
    "def get_energy(lam_vals, alchemical_potentials, nuc_rep, e_homos, dZ, dN, int_rule = 'simp'):\n",
    "    if int_rule == 'simp':\n",
    "        mu_I = sc.integrate.simps(alchemical_potentials, lam_vals)\n",
    "    elif int_rule == 'trapz':\n",
    "        mu_I = np.trapz(alchemical_potentials, lam_vals)\n",
    "    e_homo = np.trapz(e_homos, lam_vals)\n",
    "    \n",
    "    return(mu_I * dZ + e_homo*dN + nuc_rep)\n",
    "\n",
    "def get_num_occupied(mo_occupancies):\n",
    "    return(np.where(mo_occupancies != 0)[0].shape[0])\n",
    "def get_homo(mo_energies, num_occupied):\n",
    "    mo_energies.sort()\n",
    "    e_homo = mo_energies[num_occupied-1]\n",
    "    return(e_homo)\n",
    "def wrapper_get_e_homos(mo_energies, mo_occupancies):\n",
    "    e_homos = []\n",
    "    for moe, moo in zip (mo_energies, mo_occupancies):\n",
    "        num_occ = get_num_occupied(moo)\n",
    "        ehomo = get_homo(moe, num_occ)\n",
    "        e_homos.append(ehomo)\n",
    "    return(np.array(e_homos))"
   ]
  },
  {
   "cell_type": "code",
   "execution_count": 3,
   "metadata": {},
   "outputs": [],
   "source": [
    "base = '/home/misa/projects/Atomic-Energies/data/vacuum_reference/qm9_data/dsgdb9nsd_003664'\n",
    "\n",
    "lam_vals = np.loadtxt(os.path.join(base, 'lam_vals.txt'))\n",
    "alchpots = np.load(os.path.join(base, 'alchpots.npy'))\n",
    "mo_energies = np.load(os.path.join(base, 'mo_energies.npy'))\n",
    "mo_occupancies = np.load(os.path.join(base, 'mo_occupancies.npy'))"
   ]
  },
  {
   "cell_type": "code",
   "execution_count": 4,
   "metadata": {},
   "outputs": [],
   "source": [
    "e_homos = wrapper_get_e_homos(mo_energies, mo_occupancies)"
   ]
  },
  {
   "cell_type": "code",
   "execution_count": 7,
   "metadata": {},
   "outputs": [
    {
     "data": {
      "text/plain": [
       "[<matplotlib.lines.Line2D at 0x7f3c7ffd5ef0>]"
      ]
     },
     "execution_count": 7,
     "metadata": {},
     "output_type": "execute_result"
    },
    {
     "data": {
      "image/png": "[encoded data removed]",
      "text/plain": [
       "<Figure size 432x288 with 1 Axes>"
      ]
     },
     "metadata": {
      "needs_background": "light"
     },
     "output_type": "display_data"
    }
   ],
   "source": [
    "plt.plot(e_homos)"
   ]
  },
  {
   "cell_type": "code",
   "execution_count": 17,
   "metadata": {},
   "outputs": [
    {
     "data": {
      "text/plain": [
       "array([2., 2., 2., 2., 2., 2., 2., 2., 2., 2., 2., 2., 2., 2., 2., 2., 2.,\n",
       "       2., 2., 2., 2., 2., 2., 2., 2., 2., 0., 0., 0., 0., 0., 0., 0., 0.,\n",
       "       0., 0., 0., 0., 0., 0., 0., 0., 0., 0., 0., 0., 0., 0., 0., 0., 0.,\n",
       "       0., 0., 0., 0., 0., 0., 0., 0., 0., 0., 0., 0., 0., 0., 0., 0., 0.,\n",
       "       0., 0., 0., 0., 0., 0., 0., 0., 0., 0., 0., 0., 0., 0., 0., 0., 0.,\n",
       "       0., 0., 0., 0., 0., 0., 0., 0., 0., 0., 0., 0., 0., 0., 0., 0., 0.,\n",
       "       0., 0., 0., 0., 0., 0., 0., 0., 0., 0., 0., 0., 0., 0., 0., 0., 0.,\n",
       "       0., 0., 0., 0., 0., 0., 0., 0., 0., 0., 0., 0., 0., 0., 0., 0., 0.,\n",
       "       0., 0., 0., 0., 0., 0., 0., 0., 0., 0., 0., 0., 0., 0., 0., 0., 0.,\n",
       "       0., 0., 0., 0., 0., 0., 0., 0., 0., 0., 0., 0., 0., 0., 0., 0., 0.,\n",
       "       0., 0., 0., 0., 0., 0., 0., 0., 0., 0., 0., 0., 0., 0., 0., 0., 0.,\n",
       "       0., 0., 0., 0., 0., 0., 0., 0., 0., 0., 0., 0., 0., 0., 0., 0., 0.,\n",
       "       0., 0., 0., 0., 0., 0., 0., 0., 0., 0., 0., 0., 0., 0., 0., 0., 0.,\n",
       "       0., 0., 0., 0., 0., 0., 0., 0., 0., 0., 0., 0., 0., 0., 0., 0., 0.,\n",
       "       0., 0., 0., 0., 0., 0., 0., 0., 0., 0., 0., 0., 0., 0., 0., 0., 0.,\n",
       "       0., 0., 0., 0., 0., 0., 0., 0., 0., 0., 0., 0., 0., 0., 0., 0., 0.,\n",
       "       0., 0., 0., 0., 0., 0., 0., 0., 0., 0., 0., 0., 0., 0., 0., 0., 0.,\n",
       "       0., 0., 0., 0., 0., 0., 0., 0., 0., 0., 0., 0., 0., 0., 0., 0., 0.,\n",
       "       0., 0., 0., 0., 0., 0., 0., 0., 0., 0., 0., 0., 0., 0., 0., 0., 0.,\n",
       "       0., 0., 0., 0., 0., 0., 0., 0., 0., 0., 0., 0., 0., 0., 0., 0., 0.,\n",
       "       0., 0., 0., 0., 0., 0., 0., 0., 0., 0., 0., 0., 0., 0., 0., 0., 0.,\n",
       "       0., 0., 0., 0., 0., 0., 0., 0., 0., 0., 0., 0., 0., 0., 0., 0., 0.,\n",
       "       0., 0., 0., 0., 0., 0., 0., 0., 0., 0., 0., 0., 0., 0., 0., 0., 0.,\n",
       "       0., 0., 0., 0., 0., 0., 0., 0., 0., 0., 0., 0., 0., 0., 0., 0., 0.,\n",
       "       0., 0., 0., 0., 0., 0., 0., 0., 0., 0., 0., 0., 0., 0., 0., 0., 0.,\n",
       "       0., 0., 0., 0., 0., 0., 0., 0., 0., 0., 0., 0., 0., 0., 0., 0., 0.,\n",
       "       0., 0., 0., 0., 0., 0., 0., 0., 0., 0., 0., 0., 0., 0., 0., 0., 0.,\n",
       "       0., 0., 0., 0., 0., 0., 0., 0., 0., 0., 0., 0., 0., 0., 0., 0., 0.,\n",
       "       0., 0., 0., 0., 0., 0., 0., 0., 0., 0., 0., 0., 0., 0., 0., 0., 0.,\n",
       "       0., 0., 0., 0., 0., 0., 0., 0., 0., 0., 0., 0., 0., 0., 0., 0., 0.,\n",
       "       0., 0., 0., 0., 0., 0., 0., 0., 0., 0., 0., 0., 0., 0., 0., 0., 0.,\n",
       "       0., 0., 0., 0., 0., 0., 0., 0., 0., 0., 0., 0., 0., 0., 0., 0., 0.,\n",
       "       0., 0., 0., 0., 0., 0., 0., 0., 0., 0., 0., 0., 0., 0., 0., 0., 0.,\n",
       "       0., 0., 0., 0., 0., 0., 0., 0., 0., 0., 0., 0., 0., 0., 0., 0., 0.,\n",
       "       0.])"
      ]
     },
     "execution_count": 17,
     "metadata": {},
     "output_type": "execute_result"
    }
   ],
   "source": [
    "mo_occupancies[-1]"
   ]
  },
  {
   "cell_type": "code",
   "execution_count": 11,
   "metadata": {},
   "outputs": [],
   "source": [
    "mo_energies[7].sort()"
   ]
  },
  {
   "cell_type": "code",
   "execution_count": 12,
   "metadata": {},
   "outputs": [
    {
     "data": {
      "text/plain": [
       "array([-1.59228675e+00, -1.29319721e+00, -1.11884476e+00, -9.92728101e-01,\n",
       "       -9.31876297e-01, -7.95064935e-01, -6.78853660e-01, -8.64542380e-02,\n",
       "        2.03740760e-02,  4.52240623e-02,  6.24149924e-02,  8.97332030e-02,\n",
       "        9.73464993e-02,  1.17838837e-01,  1.52940810e-01,  1.59199169e-01,\n",
       "        1.65508251e-01,  1.90538601e-01,  2.09419354e-01,  2.24250664e-01,\n",
       "        2.39434613e-01,  2.47831786e-01,  2.54615523e-01,  2.69544672e-01,\n",
       "        2.86911363e-01,  2.93256267e-01,  3.12996878e-01,  3.30429614e-01,\n",
       "        3.48370163e-01,  3.51953906e-01,  3.61461458e-01,  3.72805067e-01,\n",
       "        3.80665378e-01,  3.90703875e-01,  3.99802689e-01,  4.17946003e-01,\n",
       "        4.45011939e-01,  4.54511916e-01,  4.65167880e-01,  4.78006540e-01,\n",
       "        5.16022457e-01,  5.31031880e-01,  5.53140095e-01,  5.68296915e-01,\n",
       "        5.73995063e-01,  5.74505442e-01,  6.05003137e-01,  6.08359032e-01,\n",
       "        6.27416412e-01,  6.54025964e-01,  6.64842679e-01,  6.75127223e-01,\n",
       "        6.76402496e-01,  6.86287271e-01,  7.14869647e-01,  7.19151900e-01,\n",
       "        7.44624848e-01,  7.69406977e-01,  7.83440405e-01,  7.85226491e-01,\n",
       "        7.89210645e-01,  8.10238084e-01,  8.35758056e-01,  8.55910718e-01,\n",
       "        8.66701055e-01,  8.67558505e-01,  8.81546134e-01,  9.03837494e-01,\n",
       "        9.15154329e-01,  9.35842393e-01,  9.52093546e-01,  9.54046921e-01,\n",
       "        9.65026333e-01,  9.80514508e-01,  9.87266314e-01,  9.94867456e-01,\n",
       "        9.96967694e-01,  1.00574188e+00,  1.02706487e+00,  1.05292019e+00,\n",
       "        1.06751546e+00,  1.07962782e+00,  1.09233371e+00,  1.14553281e+00,\n",
       "        1.15800468e+00,  1.17300223e+00,  1.19715568e+00,  1.20863658e+00,\n",
       "        1.20925939e+00,  1.23375261e+00,  1.24268540e+00,  1.25542771e+00,\n",
       "        1.27772678e+00,  1.28962170e+00,  1.30776204e+00,  1.30955840e+00,\n",
       "        1.32127360e+00,  1.32924230e+00,  1.35050979e+00,  1.38582315e+00,\n",
       "        1.38619260e+00,  1.41057210e+00,  1.43517771e+00,  1.46631707e+00,\n",
       "        1.46906382e+00,  1.49449043e+00,  1.49697122e+00,  1.52055890e+00,\n",
       "        1.52633469e+00,  1.54697456e+00,  1.56035975e+00,  1.57581124e+00,\n",
       "        1.58405496e+00,  1.59850572e+00,  1.61231570e+00,  1.62123242e+00,\n",
       "        1.64807384e+00,  1.67512385e+00,  1.70942655e+00,  1.71279372e+00,\n",
       "        1.73547337e+00,  1.76598579e+00,  1.77083024e+00,  1.77492258e+00,\n",
       "        1.79549373e+00,  1.80758640e+00,  1.85101013e+00,  1.90529281e+00,\n",
       "        1.95754994e+00,  1.95905864e+00,  2.01860505e+00,  2.05106077e+00,\n",
       "        2.05342342e+00,  2.06551289e+00,  2.09385225e+00,  2.11342842e+00,\n",
       "        2.15479192e+00,  2.16186474e+00,  2.18776618e+00,  2.20016090e+00,\n",
       "        2.21130252e+00,  2.22297422e+00,  2.23240081e+00,  2.26574108e+00,\n",
       "        2.26769914e+00,  2.29241500e+00,  2.29572451e+00,  2.31403567e+00,\n",
       "        2.34622724e+00,  2.35474999e+00,  2.37764702e+00,  2.38195515e+00,\n",
       "        2.38299785e+00,  2.39742726e+00,  2.40676247e+00,  2.41147000e+00,\n",
       "        2.42450997e+00,  2.46942303e+00,  2.47080436e+00,  2.48629540e+00,\n",
       "        2.49764955e+00,  2.51094504e+00,  2.51853269e+00,  2.52831081e+00,\n",
       "        2.53612232e+00,  2.54126803e+00,  2.56318644e+00,  2.57713170e+00,\n",
       "        2.59956075e+00,  2.60281429e+00,  2.63933558e+00,  2.64534975e+00,\n",
       "        2.65847890e+00,  2.66516796e+00,  2.67538474e+00,  2.69036651e+00,\n",
       "        2.69073068e+00,  2.71056533e+00,  2.71683015e+00,  2.74540272e+00,\n",
       "        2.75165633e+00,  2.75939623e+00,  2.80027674e+00,  2.80860188e+00,\n",
       "        2.82460165e+00,  2.83303874e+00,  2.83430455e+00,  2.84394052e+00,\n",
       "        2.88831432e+00,  2.90388890e+00,  2.92361031e+00,  2.94269988e+00,\n",
       "        2.95105327e+00,  2.95433158e+00,  3.00157527e+00,  3.02584741e+00,\n",
       "        3.03302776e+00,  3.05639796e+00,  3.05758219e+00,  3.08312603e+00,\n",
       "        3.11051513e+00,  3.14541840e+00,  3.14832073e+00,  3.15616620e+00,\n",
       "        3.17196160e+00,  3.20331538e+00,  3.21002689e+00,  3.22016489e+00,\n",
       "        3.22404226e+00,  3.23691869e+00,  3.24003909e+00,  3.26866099e+00,\n",
       "        3.29361649e+00,  3.32165266e+00,  3.34332748e+00,  3.36482291e+00,\n",
       "        3.38350452e+00,  3.39566802e+00,  3.42856101e+00,  3.43479039e+00,\n",
       "        3.44735440e+00,  3.48034285e+00,  3.49565373e+00,  3.51474710e+00,\n",
       "        3.51991304e+00,  3.53223811e+00,  3.60859468e+00,  3.61607002e+00,\n",
       "        3.62889930e+00,  3.66457902e+00,  3.69542483e+00,  3.70299899e+00,\n",
       "        3.73968602e+00,  3.80408286e+00,  3.83905885e+00,  3.84191117e+00,\n",
       "        3.84758123e+00,  3.89487978e+00,  3.91754495e+00,  3.92881991e+00,\n",
       "        3.93199180e+00,  3.98272937e+00,  3.99296267e+00,  4.03070421e+00,\n",
       "        4.06598174e+00,  4.11698263e+00,  4.13529491e+00,  4.18167817e+00,\n",
       "        4.18620963e+00,  4.23277058e+00,  4.26001572e+00,  4.28566290e+00,\n",
       "        4.30158621e+00,  4.33564465e+00,  4.37499470e+00,  4.38681332e+00,\n",
       "        4.40553422e+00,  4.46185668e+00,  4.47154259e+00,  4.48908339e+00,\n",
       "        4.54977115e+00,  4.55090607e+00,  4.55203501e+00,  4.62464781e+00,\n",
       "        4.73227275e+00,  4.75683479e+00,  4.81839460e+00,  4.82222151e+00,\n",
       "        4.85939336e+00,  4.88441453e+00,  4.91811799e+00,  4.99877956e+00,\n",
       "        5.01033539e+00,  5.06685946e+00,  5.09075927e+00,  5.09543794e+00,\n",
       "        5.13687148e+00,  5.15083672e+00,  5.29308942e+00,  5.30397655e+00,\n",
       "        5.36583813e+00,  5.37651899e+00,  5.41389005e+00,  5.47618232e+00,\n",
       "        5.52297926e+00,  5.54121801e+00,  5.57332041e+00,  5.61369122e+00,\n",
       "        5.64358593e+00,  5.67134491e+00,  5.72813346e+00,  5.75053195e+00,\n",
       "        5.78567208e+00,  5.79799518e+00,  5.84361052e+00,  5.86541003e+00,\n",
       "        5.86941618e+00,  5.90831517e+00,  5.94956013e+00,  5.98199873e+00,\n",
       "        6.00663873e+00,  6.00915107e+00,  6.02378997e+00,  6.06396760e+00,\n",
       "        6.10879063e+00,  6.11956583e+00,  6.14803954e+00,  6.17620806e+00,\n",
       "        6.18910055e+00,  6.21594221e+00,  6.23482991e+00,  6.24393030e+00,\n",
       "        6.28681431e+00,  6.29834957e+00,  6.31493625e+00,  6.31997517e+00,\n",
       "        6.32921329e+00,  6.34840196e+00,  6.36326327e+00,  6.38934619e+00,\n",
       "        6.41859644e+00,  6.44366725e+00,  6.46155120e+00,  6.48297203e+00,\n",
       "        6.57864484e+00,  6.61736541e+00,  6.61796413e+00,  6.66428816e+00,\n",
       "        6.69159649e+00,  6.70645589e+00,  6.71897973e+00,  6.73148847e+00,\n",
       "        6.76610373e+00,  6.76980616e+00,  6.78318416e+00,  6.81345591e+00,\n",
       "        6.82044787e+00,  6.83942775e+00,  6.87824979e+00,  6.91421252e+00,\n",
       "        6.91931695e+00,  6.95249588e+00,  6.98883675e+00,  6.99909416e+00,\n",
       "        7.01261491e+00,  7.04278037e+00,  7.06499660e+00,  7.10930432e+00,\n",
       "        7.12132086e+00,  7.13607276e+00,  7.14894320e+00,  7.18386873e+00,\n",
       "        7.26234044e+00,  7.28118407e+00,  7.29138688e+00,  7.30070211e+00,\n",
       "        7.32436134e+00,  7.36348991e+00,  7.38042375e+00,  7.39443357e+00,\n",
       "        7.44096389e+00,  7.44927139e+00,  7.49672173e+00,  7.50951207e+00,\n",
       "        7.54958872e+00,  7.57682732e+00,  7.60397044e+00,  7.61096661e+00,\n",
       "        7.61852194e+00,  7.63752745e+00,  7.64924572e+00,  7.67345076e+00,\n",
       "        7.68799170e+00,  7.70879839e+00,  7.74224985e+00,  7.75860995e+00,\n",
       "        7.76454802e+00,  7.79433603e+00,  7.80427449e+00,  7.84337858e+00,\n",
       "        7.85592322e+00,  7.88647341e+00,  7.94236410e+00,  7.96752173e+00,\n",
       "        8.01377617e+00,  8.02602755e+00,  8.03455353e+00,  8.06103424e+00,\n",
       "        8.06964510e+00,  8.08224548e+00,  8.11892596e+00,  8.12917729e+00,\n",
       "        8.13039035e+00,  8.15069703e+00,  8.18680054e+00,  8.21088441e+00,\n",
       "        8.22746042e+00,  8.25639911e+00,  8.25916514e+00,  8.27672579e+00,\n",
       "        8.28280626e+00,  8.30318530e+00,  8.31074596e+00,  8.32771012e+00,\n",
       "        8.34968119e+00,  8.37418952e+00,  8.38492387e+00,  8.42618360e+00,\n",
       "        8.43693213e+00,  8.46772641e+00,  8.47401293e+00,  8.47476748e+00,\n",
       "        8.49888085e+00,  8.52247881e+00,  8.53237461e+00,  8.57451826e+00,\n",
       "        8.57980222e+00,  8.58554412e+00,  8.61467036e+00,  8.62129561e+00,\n",
       "        8.62631967e+00,  8.65719516e+00,  8.67293110e+00,  8.68161861e+00,\n",
       "        8.72380569e+00,  8.73758330e+00,  8.74371284e+00,  8.78176425e+00,\n",
       "        8.80773555e+00,  8.81280248e+00,  8.86302621e+00,  8.89712202e+00,\n",
       "        8.91740923e+00,  8.92810710e+00,  8.97202951e+00,  8.99754834e+00,\n",
       "        9.00608781e+00,  9.01855439e+00,  9.03659451e+00,  9.05307772e+00,\n",
       "        9.07376995e+00,  9.11780009e+00,  9.12972455e+00,  9.19221428e+00,\n",
       "        9.22490048e+00,  9.26343094e+00,  9.27120518e+00,  9.28262727e+00,\n",
       "        9.30090174e+00,  9.34038628e+00,  9.36451815e+00,  9.39301684e+00,\n",
       "        9.41095380e+00,  9.42948040e+00,  9.48723606e+00,  9.48732027e+00,\n",
       "        9.50918960e+00,  9.54144557e+00,  9.56832221e+00,  9.59671986e+00,\n",
       "        9.62879793e+00,  9.64927882e+00,  9.65729526e+00,  9.71112053e+00,\n",
       "        9.76467120e+00,  9.77531255e+00,  9.80830929e+00,  9.85526095e+00,\n",
       "        9.86954822e+00,  9.89730143e+00,  9.97952831e+00,  1.00200704e+01,\n",
       "        1.00238566e+01,  1.00691667e+01,  1.00846838e+01,  1.01161679e+01,\n",
       "        1.01442302e+01,  1.01484445e+01,  1.02381866e+01,  1.02776338e+01,\n",
       "        1.03240109e+01,  1.04398938e+01,  1.04633124e+01,  1.04892887e+01,\n",
       "        1.05055520e+01,  1.05837574e+01,  1.05862177e+01,  1.06191712e+01,\n",
       "        1.06437653e+01,  1.06484621e+01,  1.06875432e+01,  1.06909151e+01,\n",
       "        1.07311987e+01,  1.07854825e+01,  1.08117561e+01,  1.08404065e+01,\n",
       "        1.08495136e+01,  1.08718145e+01,  1.09111454e+01,  1.09448340e+01,\n",
       "        1.09834428e+01,  1.10434501e+01,  1.10542896e+01,  1.11110727e+01,\n",
       "        1.11479665e+01,  1.11867632e+01,  1.11927847e+01,  1.12027028e+01,\n",
       "        1.12596018e+01,  1.14139549e+01,  1.14487819e+01,  1.14836170e+01,\n",
       "        1.14907880e+01,  1.15441524e+01,  1.15854606e+01,  1.16848000e+01,\n",
       "        1.17505764e+01,  1.17992907e+01,  1.18219219e+01,  1.19649426e+01,\n",
       "        1.20213850e+01,  1.21747341e+01,  1.21900990e+01,  1.22590447e+01,\n",
       "        1.24535312e+01,  1.24929486e+01,  1.25587079e+01,  1.26740221e+01,\n",
       "        1.28532250e+01,  1.28583176e+01,  1.30386227e+01,  1.32329710e+01,\n",
       "        1.32783860e+01,  1.33348435e+01,  1.33680245e+01,  1.34414865e+01,\n",
       "        1.35088960e+01,  1.35172801e+01,  1.35268301e+01,  1.35998489e+01,\n",
       "        1.36497716e+01,  1.37882774e+01,  1.38783186e+01,  1.39125174e+01,\n",
       "        1.39924386e+01,  1.41558352e+01,  1.43009026e+01,  1.43243567e+01,\n",
       "        1.44817029e+01,  1.47609828e+01,  1.54259836e+01,  1.57552760e+01,\n",
       "        1.58699870e+01,  1.59551036e+01,  1.62072895e+01,  1.65536059e+01,\n",
       "        1.67270997e+01,  1.68004620e+01,  1.68097915e+01,  1.70691032e+01,\n",
       "        1.75856436e+01,  1.94709583e+01,  2.01089223e+01,  2.09750141e+01,\n",
       "        2.58116351e+01,  4.39540414e+01,  4.44587132e+01,  4.45928197e+01,\n",
       "        4.46376178e+01,  5.90830443e+01,  5.95228010e+01,  7.63234320e+01,\n",
       "        2.07747851e+02,  2.08344418e+02,  2.08469611e+02,  2.08616876e+02,\n",
       "        2.78954297e+02,  2.79515903e+02,  3.60158377e+02])"
      ]
     },
     "execution_count": 12,
     "metadata": {},
     "output_type": "execute_result"
    }
   ],
   "source": [
    "mo_energies[7]"
   ]
  }
 ],
 "metadata": {
  "kernelspec": {
   "display_name": "Python [conda env:atomic-energies]",
   "language": "python",
   "name": "conda-env-atomic-energies-py"
  },
  "language_info": {
   "codemirror_mode": {
    "name": "ipython",
    "version": 3
   },
   "file_extension": ".py",
   "mimetype": "text/x-python",
   "name": "python",
   "nbconvert_exporter": "python",
   "pygments_lexer": "ipython3",
   "version": "3.7.3"
  }
 },
 "nbformat": 4,
 "nbformat_minor": 4
}
