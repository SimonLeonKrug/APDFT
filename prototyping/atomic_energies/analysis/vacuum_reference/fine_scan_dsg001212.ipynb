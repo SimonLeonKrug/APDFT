{
 "cells": [
  {
   "cell_type": "code",
   "execution_count": null,
   "metadata": {},
   "outputs": [],
   "source": [
    "import sys\n",
    "sys.path.insert(0, '/home/misa/git_repositories/APDFT/prototyping/atomic_energies/')\n",
    "\n",
    "import alchemy_tools_pyscf as atp\n",
    "import numpy as np\n",
    "import qml\n",
    "import utils_qm as ut"
   ]
  },
  {
   "cell_type": "code",
   "execution_count": null,
   "metadata": {},
   "outputs": [],
   "source": [
    "lam_vals = np.arange(2, 54, 2)/52\n",
    "basis = 'def2-tzvp'\n",
    "com = qml.Compound(xyz='/home/misa/datasets/qm9/dsgdb9nsd_001212.xyz')\n",
    "alchemical_potentials = []\n",
    "\n",
    "\n",
    "for lam in lam_vals:\n",
    "    num_elec = atp.get_num_elec(lam, com.nuclear_charges.sum())\n",
    "    print('preparing input')\n",
    "    deltaZ, includeonly, mol = atp.prepare_input(com.coordinates, com.nuclear_charges, num_elec, basis)\n",
    "    print('Doing SCF calculation')\n",
    "    dm, e_tot = atp.make_apdft_calc(deltaZ, includeonly, mol, method = \"HF\")\n",
    "    print('Calculating alchemical potentials')\n",
    "    alchpots_lambda = atp.calculate_alchpot(dm, includeonly, mol)\n",
    "\n",
    "    alchemical_potentials.append(alchpots_lambda)"
   ]
  },
  {
   "cell_type": "code",
   "execution_count": null,
   "metadata": {},
   "outputs": [],
   "source": [
    "alchemical_potentials = np.array(alchemical_potentials)"
   ]
  },
  {
   "cell_type": "code",
   "execution_count": null,
   "metadata": {},
   "outputs": [],
   "source": [
    "base = '/home/misa/APDFT/prototyping/atomic_energies/results/different_resevoir/pyscf/com_001212/'\n",
    "ut.save_obj(alchemical_potentials, base+'alch_pots_fine')"
   ]
  },
  {
   "cell_type": "markdown",
   "metadata": {},
   "source": [
    "#### Plot results"
   ]
  },
  {
   "cell_type": "code",
   "execution_count": 1,
   "metadata": {},
   "outputs": [],
   "source": [
    "import sys\n",
    "sys.path.insert(0, '/home/misa/git_repositories/APDFT/prototyping/atomic_energies/')\n",
    "from matplotlib import pyplot as plt\n",
    "import utils_qm as ut\n",
    "import numpy as np\n",
    "import qml\n",
    "import alchemy_tools_pyscf as atp\n"
   ]
  },
  {
   "cell_type": "code",
   "execution_count": 2,
   "metadata": {},
   "outputs": [],
   "source": [
    "base = '/home/misa/APDFT/prototyping/atomic_energies/results/different_resevoir/pyscf/com_001212/'\n",
    "\n",
    "alchpots = ut.load_obj(base+'alch_pots_fine')\n",
    "lam_vals = np.arange(2, 54, 2)/52\n",
    "com = qml.Compound(xyz='/home/misa/datasets/qm9/dsgdb9nsd_001212.xyz')\n"
   ]
  },
  {
   "cell_type": "code",
   "execution_count": 32,
   "metadata": {},
   "outputs": [],
   "source": [
    "long_conv_file = '/home/misa/projects/Atomic-Energies/data/vacuum_reference/qm9_data/dsgdb9nsd_001212/alchpots_raw_restart.npy'\n",
    "alchpots_long = np.load(long_conv_file)\n",
    "corrected_file = '/home/misa/projects/Atomic-Energies/data/vacuum_reference/qm9_data/dsgdb9nsd_001212/alchpots_ig_atom.npy'\n",
    "alchpots_atom = np.load(corrected_file)\n",
    "\n"
   ]
  },
  {
   "cell_type": "code",
   "execution_count": 41,
   "metadata": {},
   "outputs": [
    {
     "data": {
      "text/plain": [
       "array([0.03846154, 0.07692308, 0.11538462, 0.15384615, 0.19230769,\n",
       "       0.23076923, 0.26923077, 0.30769231, 0.34615385, 0.38461538,\n",
       "       0.42307692, 0.46153846, 0.5       , 0.53846154, 0.57692308,\n",
       "       0.61538462, 0.65384615, 0.69230769, 0.73076923, 0.76923077,\n",
       "       0.80769231, 0.84615385, 0.88461538, 0.92307692, 0.96153846,\n",
       "       1.        ])"
      ]
     },
     "execution_count": 41,
     "metadata": {},
     "output_type": "execute_result"
    }
   ],
   "source": [
    "lam_vals"
   ]
  },
  {
   "cell_type": "code",
   "execution_count": 45,
   "metadata": {},
   "outputs": [
    {
     "data": {
      "text/plain": [
       "<matplotlib.legend.Legend at 0x7f08b9c7eef0>"
      ]
     },
     "execution_count": 45,
     "metadata": {},
     "output_type": "execute_result"
    },
    {
     "data": {
      "image/png": "[encoded data removed]",
      "text/plain": [
       "<Figure size 432x288 with 1 Axes>"
      ]
     },
     "metadata": {
      "needs_background": "light"
     },
     "output_type": "display_data"
    }
   ],
   "source": [
    "fig, ax = plt.subplots(1,1)\n",
    "color_dict = {1.0:'tab:blue', 6.0:'tab:green', 7.0:'tab:orange', 8.0:'tab:red'}\n",
    "for i in range(len(com.nuclear_charges)):\n",
    "    if com.nuclear_charges[i] == 1:\n",
    "        ax.plot(lam_vals, alchpots[:,i]+lam_vals*12, label = com.nuclear_charges[i], color=color_dict[com.nuclear_charges[i]])\n",
    "        ax.plot(lam_vals, alchpots_long[1:,i]+lam_vals*12, '--')\n",
    "#         ax.plot(lam_vals, alchpots_atom[1:,i]+lam_vals*12, '-*')\n",
    "ax.legend(bbox_to_anchor=(1.05, 1), loc='upper left', borderaxespad=0.)"
   ]
  },
  {
   "cell_type": "code",
   "execution_count": 4,
   "metadata": {},
   "outputs": [],
   "source": [
    "alchpots = np.concatenate((np.zeros( (1, len(alchpots[0])) ), alchpots), axis = 0)\n",
    "lam_vals = np.concatenate((np.zeros(1), lam_vals))"
   ]
  },
  {
   "cell_type": "code",
   "execution_count": 5,
   "metadata": {},
   "outputs": [
    {
     "data": {
      "text/plain": [
       "array([22., 24., 26., 28., 30., 32., 34., 36., 38., 40., 42., 44., 46.,\n",
       "       48., 50., 52.])"
      ]
     },
     "execution_count": 5,
     "metadata": {},
     "output_type": "execute_result"
    }
   ],
   "source": [
    "lam_vals[11:]*52"
   ]
  },
  {
   "cell_type": "markdown",
   "metadata": {},
   "source": [
    "#### Compare integrals"
   ]
  },
  {
   "cell_type": "code",
   "execution_count": 23,
   "metadata": {},
   "outputs": [],
   "source": [
    "av_fine = atp.calculate_average_alchpots(alchpots, lam_vals, 'trapz')"
   ]
  },
  {
   "cell_type": "code",
   "execution_count": 24,
   "metadata": {},
   "outputs": [
    {
     "data": {
      "text/plain": [
       "array([-10.97652637, -12.61107642, -13.94288071, -14.8702864 ,\n",
       "       -12.06260189, -11.45298996, -11.55899154,  -5.38326971,\n",
       "        -5.54716269,  -5.54717882,  -6.34097854,  -6.3407903 ])"
      ]
     },
     "execution_count": 24,
     "metadata": {},
     "output_type": "execute_result"
    }
   ],
   "source": [
    "av_fine"
   ]
  },
  {
   "cell_type": "code",
   "execution_count": 25,
   "metadata": {},
   "outputs": [],
   "source": [
    "# load reference data from different_resevoir_pyscf.ipynb\n",
    "alchs_ref = ut.load_obj(base+'alch_pots')\n",
    "alch_pots_reference = -np.array(alchs_ref)\n",
    "alch_pots_reference = np.concatenate((np.zeros( (1, len(alch_pots_reference[0])) ), alch_pots_reference), axis = 0)\n",
    "lam_vals_ref = np.array([0, 22, 30, 38, 44, 52])/52"
   ]
  },
  {
   "cell_type": "code",
   "execution_count": 26,
   "metadata": {},
   "outputs": [
    {
     "data": {
      "text/plain": [
       "array([ 0., 22., 30., 38., 44., 52.])"
      ]
     },
     "execution_count": 26,
     "metadata": {},
     "output_type": "execute_result"
    }
   ],
   "source": [
    "lam_vals_ref*52"
   ]
  },
  {
   "cell_type": "code",
   "execution_count": 27,
   "metadata": {},
   "outputs": [
    {
     "data": {
      "text/plain": [
       "array([  0.        ,  -8.53109377, -12.48194451, -16.72787267,\n",
       "       -19.83084076, -24.26343672])"
      ]
     },
     "execution_count": 27,
     "metadata": {},
     "output_type": "execute_result"
    }
   ],
   "source": [
    "alch_pots_reference[:,0]"
   ]
  },
  {
   "cell_type": "code",
   "execution_count": 28,
   "metadata": {},
   "outputs": [],
   "source": [
    "av_coarse = atp.calculate_average_alchpots(alch_pots_reference, lam_vals_ref, 'trapz')"
   ]
  },
  {
   "cell_type": "code",
   "execution_count": 29,
   "metadata": {},
   "outputs": [
    {
     "data": {
      "text/plain": [
       "array([-11.16897507, -12.77872974, -14.20859509, -15.11004852,\n",
       "       -12.26253009, -11.62288839, -11.74960303,  -5.38749346,\n",
       "        -5.54044003,  -5.54051814,  -6.36671697,  -6.36653952])"
      ]
     },
     "execution_count": 29,
     "metadata": {},
     "output_type": "execute_result"
    }
   ],
   "source": [
    "av_coarse"
   ]
  },
  {
   "cell_type": "code",
   "execution_count": 31,
   "metadata": {},
   "outputs": [
    {
     "name": "stdout",
     "output_type": "stream",
     "text": [
      "0.12459261675718698\n",
      "0.09727825094279796\n"
     ]
    }
   ],
   "source": [
    "print(np.abs((av_fine - av_coarse)).mean())\n",
    "print(np.abs((av_fine - av_coarse)).std())"
   ]
  },
  {
   "cell_type": "markdown",
   "metadata": {},
   "source": [
    "some potentials differ quite a lot (>100mHa) -> also small lambda values important\n",
    "\n",
    "What is the best spacing (cost vs accuracy)?\n",
    "- equally spaced -> simpsons rule\n",
    "- compare every 2, 4, 6, 8, 10"
   ]
  },
  {
   "cell_type": "markdown",
   "metadata": {},
   "source": [
    "#### Trapezoidal vs Simpsons"
   ]
  },
  {
   "cell_type": "code",
   "execution_count": 12,
   "metadata": {},
   "outputs": [],
   "source": [
    "import sys\n",
    "sys.path.insert(0, '/home/misa/git_repositories/APDFT/prototyping/atomic_energies/')\n",
    "\n",
    "import alchemy_tools_pyscf as atp\n",
    "import numpy as np\n",
    "import qml\n",
    "import utils_qm as ut"
   ]
  },
  {
   "cell_type": "code",
   "execution_count": 13,
   "metadata": {},
   "outputs": [],
   "source": [
    "base = '/home/misa/APDFT/prototyping/atomic_energies/results/different_resevoir/pyscf/com_001212/'\n",
    "alchpots = ut.load_obj(base+'alch_pots_fine')\n",
    "lam_vals = np.arange(2, 54, 2)/52\n",
    "alchpots = np.concatenate((np.zeros( (1, len(alchpots[0])) ), alchpots), axis = 0)\n",
    "lam_vals = np.concatenate((np.zeros(1), lam_vals))"
   ]
  },
  {
   "cell_type": "code",
   "execution_count": 14,
   "metadata": {},
   "outputs": [],
   "source": [
    "av2_trapz = atp.calculate_average_alchpots(alchpots, lam_vals, 'trapz')\n",
    "av2_simps = atp.calculate_average_alchpots(alchpots, lam_vals, 'simps')\n"
   ]
  },
  {
   "cell_type": "code",
   "execution_count": 15,
   "metadata": {},
   "outputs": [
    {
     "data": {
      "text/plain": [
       "array([-0.00233282, -0.00427446, -0.00797825,  0.00076161,  0.00279349,\n",
       "        0.00061471, -0.00249642,  0.0046545 , -0.00201606, -0.00204067,\n",
       "        0.00325231,  0.00322552])"
      ]
     },
     "execution_count": 15,
     "metadata": {},
     "output_type": "execute_result"
    }
   ],
   "source": [
    "av2_trapz - av2_simps"
   ]
  },
  {
   "cell_type": "code",
   "execution_count": 16,
   "metadata": {},
   "outputs": [
    {
     "data": {
      "text/plain": [
       "14"
      ]
     },
     "execution_count": 16,
     "metadata": {},
     "output_type": "execute_result"
    }
   ],
   "source": [
    "len(lam_vals[::2])"
   ]
  },
  {
   "cell_type": "code",
   "execution_count": 16,
   "metadata": {},
   "outputs": [],
   "source": [
    "av4_trapz = atp.calculate_average_alchpots(alchpots[::2], lam_vals[::2], 'trapz')\n",
    "av4_simps = atp.calculate_average_alchpots(alchpots[::2], lam_vals[::2], 'simps', 'first')"
   ]
  },
  {
   "cell_type": "code",
   "execution_count": 17,
   "metadata": {},
   "outputs": [
    {
     "data": {
      "text/plain": [
       "array([-0.01736299, -0.00661817, -0.01755904, -0.01258776, -0.00338907,\n",
       "       -0.00872064, -0.00614399, -0.00632665, -0.0073069 , -0.00723812,\n",
       "        0.00614106,  0.00616014])"
      ]
     },
     "execution_count": 17,
     "metadata": {},
     "output_type": "execute_result"
    }
   ],
   "source": [
    "av4_trapz - av4_simps"
   ]
  },
  {
   "cell_type": "code",
   "execution_count": 20,
   "metadata": {},
   "outputs": [
    {
     "data": {
      "text/plain": [
       "0.0098600326191877"
      ]
     },
     "execution_count": 20,
     "metadata": {},
     "output_type": "execute_result"
    }
   ],
   "source": [
    "np.abs((av2_simps - av4_simps)).mean()"
   ]
  },
  {
   "cell_type": "code",
   "execution_count": 21,
   "metadata": {},
   "outputs": [
    {
     "data": {
      "text/plain": [
       "0.006622336257144421"
      ]
     },
     "execution_count": 21,
     "metadata": {},
     "output_type": "execute_result"
    }
   ],
   "source": [
    "np.abs((av2_simps - av4_simps)).std()"
   ]
  }
 ],
 "metadata": {
  "kernelspec": {
   "display_name": "Python [conda env:atomic-energies]",
   "language": "python",
   "name": "conda-env-atomic-energies-py"
  },
  "language_info": {
   "codemirror_mode": {
    "name": "ipython",
    "version": 3
   },
   "file_extension": ".py",
   "mimetype": "text/x-python",
   "name": "python",
   "nbconvert_exporter": "python",
   "pygments_lexer": "ipython3",
   "version": "3.7.3"
  }
 },
 "nbformat": 4,
 "nbformat_minor": 4
}
