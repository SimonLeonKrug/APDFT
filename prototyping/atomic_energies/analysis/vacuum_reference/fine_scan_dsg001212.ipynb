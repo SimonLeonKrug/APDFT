{
 "cells": [
  {
   "cell_type": "code",
   "execution_count": null,
   "metadata": {},
   "outputs": [],
   "source": [
    "import sys\n",
    "sys.path.insert(0, '/home/misa/git_repositories/APDFT/prototyping/atomic_energies/')\n",
    "\n",
    "import alchemy_tools_pyscf as atp\n",
    "import numpy as np\n",
    "import qml\n",
    "import utils_qm as ut"
   ]
  },
  {
   "cell_type": "code",
   "execution_count": null,
   "metadata": {},
   "outputs": [],
   "source": [
    "lam_vals = np.arange(2, 54, 2)/52\n",
    "basis = 'def2-tzvp'\n",
    "com = qml.Compound(xyz='/home/misa/datasets/qm9/dsgdb9nsd_001212.xyz')\n",
    "alchemical_potentials = []\n",
    "\n",
    "\n",
    "for lam in lam_vals:\n",
    "    num_elec = atp.get_num_elec(lam, com.nuclear_charges.sum())\n",
    "    print('preparing input')\n",
    "    deltaZ, includeonly, mol = atp.prepare_input(com.coordinates, com.nuclear_charges, num_elec, basis)\n",
    "    print('Doing SCF calculation')\n",
    "    dm, e_tot = atp.make_apdft_calc(deltaZ, includeonly, mol, method = \"HF\")\n",
    "    print('Calculating alchemical potentials')\n",
    "    alchpots_lambda = atp.calculate_alchpot(dm, includeonly, mol)\n",
    "\n",
    "    alchemical_potentials.append(alchpots_lambda)"
   ]
  },
  {
   "cell_type": "code",
   "execution_count": null,
   "metadata": {},
   "outputs": [],
   "source": [
    "alchemical_potentials = np.array(alchemical_potentials)"
   ]
  },
  {
   "cell_type": "code",
   "execution_count": null,
   "metadata": {},
   "outputs": [],
   "source": [
    "base = '/home/misa/APDFT/prototyping/atomic_energies/results/different_resevoir/pyscf/com_001212/'\n",
    "ut.save_obj(alchemical_potentials, base+'alch_pots_fine')"
   ]
  },
  {
   "cell_type": "markdown",
   "metadata": {},
   "source": [
    "#### Plot results"
   ]
  },
  {
   "cell_type": "code",
   "execution_count": null,
   "metadata": {},
   "outputs": [],
   "source": [
    "from matplotlib import pyplot as plt"
   ]
  },
  {
   "cell_type": "code",
   "execution_count": null,
   "metadata": {},
   "outputs": [],
   "source": [
    "alchpots = ut.load_obj(base+'alch_pots_fine')\n",
    "lam_vals = np.arange(2, 54, 2)/52"
   ]
  },
  {
   "cell_type": "code",
   "execution_count": null,
   "metadata": {},
   "outputs": [],
   "source": [
    "fig, ax = plt.subplots(1,1)\n",
    "color_dict = {1.0:'tab:blue', 6.0:'tab:green', 7.0:'tab:orange', 8.0:'tab:red'}\n",
    "for i in range(len(com.nuclear_charges)):\n",
    "    \n",
    "    ax.plot(lam_vals, alchpots[:,i], '-o', label = com.nuclear_charges[i], color=color_dict[com.nuclear_charges[i]])\n",
    "ax.legend(bbox_to_anchor=(1.05, 1), loc='upper left', borderaxespad=0.)"
   ]
  },
  {
   "cell_type": "code",
   "execution_count": null,
   "metadata": {},
   "outputs": [],
   "source": [
    "alchpots = np.concatenate((np.zeros( (1, len(alchpots[0])) ), alchpots), axis = 0)\n",
    "lam_vals = np.concatenate((np.zeros(1), lam_vals))"
   ]
  },
  {
   "cell_type": "code",
   "execution_count": null,
   "metadata": {},
   "outputs": [],
   "source": [
    "lam_vals[11:]*52"
   ]
  },
  {
   "cell_type": "markdown",
   "metadata": {},
   "source": [
    "#### Compare integrals"
   ]
  },
  {
   "cell_type": "code",
   "execution_count": null,
   "metadata": {},
   "outputs": [],
   "source": [
    "av_fine = atp.calculate_average_alchpots(alchpots[11:], lam_vals[11:], 'trapz')"
   ]
  },
  {
   "cell_type": "code",
   "execution_count": null,
   "metadata": {},
   "outputs": [],
   "source": [
    "av_fine"
   ]
  },
  {
   "cell_type": "code",
   "execution_count": null,
   "metadata": {},
   "outputs": [],
   "source": [
    "# load reference data from different_resevoir_pyscf.ipynb\n",
    "import utils_qm as ut\n",
    "com = qml.Compound(xyz='/home/misa/datasets/qm9/dsgdb9nsd_001212.xyz')\n",
    "\n",
    "base = '/home/misa/APDFT/prototyping/atomic_energies/results/different_resevoir/pyscf/com_001212/'\n",
    "alchs_ref = ut.load_obj(base+'alch_pots')\n",
    "alch_pots_reference = -np.array(alchs_ref)\n",
    "alch_pots_reference = np.concatenate((np.zeros( (1, len(alch_pots_reference[0])) ), alch_pots_reference), axis = 0)\n",
    "lam_vals_ref = np.array([0, 22, 30, 38, 44, 52])/52"
   ]
  },
  {
   "cell_type": "code",
   "execution_count": null,
   "metadata": {},
   "outputs": [],
   "source": [
    "alch_pots_reference[:,0]"
   ]
  },
  {
   "cell_type": "code",
   "execution_count": null,
   "metadata": {},
   "outputs": [],
   "source": [
    "av_coarse = atp.calculate_average_alchpots(alch_pots_reference[1:], lam_vals_ref[1:], 'trapz')"
   ]
  },
  {
   "cell_type": "code",
   "execution_count": null,
   "metadata": {},
   "outputs": [],
   "source": [
    "av_coarse"
   ]
  },
  {
   "cell_type": "code",
   "execution_count": null,
   "metadata": {},
   "outputs": [],
   "source": [
    "av_fine - av_coarse"
   ]
  },
  {
   "cell_type": "markdown",
   "metadata": {},
   "source": [
    "some potentials differ quite a lot (>100mHa) -> also small lambda values important\n",
    "\n",
    "What is the best spacing (cost vs accuracy)?\n",
    "- equally spaced -> simpsons rule\n",
    "- compare every 2, 4, 6, 8, 10"
   ]
  },
  {
   "cell_type": "markdown",
   "metadata": {},
   "source": [
    "#### Trapezoidal vs Simpsons"
   ]
  },
  {
   "cell_type": "code",
   "execution_count": 1,
   "metadata": {},
   "outputs": [],
   "source": [
    "import sys\n",
    "sys.path.insert(0, '/home/misa/git_repositories/APDFT/prototyping/atomic_energies/')\n",
    "\n",
    "import alchemy_tools_pyscf as atp\n",
    "import numpy as np\n",
    "import qml\n",
    "import utils_qm as ut"
   ]
  },
  {
   "cell_type": "code",
   "execution_count": 2,
   "metadata": {},
   "outputs": [],
   "source": [
    "base = '/home/misa/APDFT/prototyping/atomic_energies/results/different_resevoir/pyscf/com_001212/'\n",
    "alchpots = ut.load_obj(base+'alch_pots_fine')\n",
    "lam_vals = np.arange(2, 54, 2)/52\n",
    "alchpots = np.concatenate((np.zeros( (1, len(alchpots[0])) ), alchpots), axis = 0)\n",
    "lam_vals = np.concatenate((np.zeros(1), lam_vals))"
   ]
  },
  {
   "cell_type": "code",
   "execution_count": 3,
   "metadata": {},
   "outputs": [],
   "source": [
    "av2_trapz = atp.calculate_average_alchpots(alchpots, lam_vals, 'trapz')\n",
    "av2_simps = atp.calculate_average_alchpots(alchpots, lam_vals, 'simps')\n"
   ]
  },
  {
   "cell_type": "code",
   "execution_count": 4,
   "metadata": {},
   "outputs": [
    {
     "data": {
      "text/plain": [
       "array([-0.00233282, -0.00427446, -0.00797825,  0.00076161,  0.00279349,\n",
       "        0.00061471, -0.00249642,  0.0046545 , -0.00201606, -0.00204067,\n",
       "        0.00325231,  0.00322552])"
      ]
     },
     "execution_count": 4,
     "metadata": {},
     "output_type": "execute_result"
    }
   ],
   "source": [
    "av2_trapz - av2_simps"
   ]
  },
  {
   "cell_type": "code",
   "execution_count": null,
   "metadata": {},
   "outputs": [],
   "source": [
    "len(lam_vals[::2])"
   ]
  },
  {
   "cell_type": "code",
   "execution_count": 5,
   "metadata": {},
   "outputs": [],
   "source": [
    "av4_trapz = atp.calculate_average_alchpots(alchpots[::2], lam_vals[::2], 'trapz')\n",
    "av4_simps = atp.calculate_average_alchpots(alchpots[::2], lam_vals[::2], 'simps', 'first')"
   ]
  },
  {
   "cell_type": "code",
   "execution_count": 6,
   "metadata": {},
   "outputs": [
    {
     "data": {
      "text/plain": [
       "array([-0.01736299, -0.00661817, -0.01755904, -0.01258776, -0.00338907,\n",
       "       -0.00872064, -0.00614399, -0.00632665, -0.0073069 , -0.00723812,\n",
       "        0.00614106,  0.00616014])"
      ]
     },
     "execution_count": 6,
     "metadata": {},
     "output_type": "execute_result"
    }
   ],
   "source": [
    "av4_trapz - av4_simps"
   ]
  },
  {
   "cell_type": "code",
   "execution_count": 7,
   "metadata": {},
   "outputs": [
    {
     "data": {
      "text/plain": [
       "array([-0.00803169,  0.01047966,  0.01435398, -0.01563419, -0.01456303,\n",
       "       -0.01117948,  0.00384171, -0.02494466,  0.00075734,  0.00092454,\n",
       "       -0.00686816, -0.00674194])"
      ]
     },
     "execution_count": 7,
     "metadata": {},
     "output_type": "execute_result"
    }
   ],
   "source": [
    "av2_simps - av4_simps"
   ]
  },
  {
   "cell_type": "code",
   "execution_count": null,
   "metadata": {},
   "outputs": [],
   "source": []
  }
 ],
 "metadata": {
  "kernelspec": {
   "display_name": "Python [conda env:atomic-energies]",
   "language": "python",
   "name": "conda-env-atomic-energies-py"
  },
  "language_info": {
   "codemirror_mode": {
    "name": "ipython",
    "version": 3
   },
   "file_extension": ".py",
   "mimetype": "text/x-python",
   "name": "python",
   "nbconvert_exporter": "python",
   "pygments_lexer": "ipython3",
   "version": "3.7.3"
  }
 },
 "nbformat": 4,
 "nbformat_minor": 2
}
