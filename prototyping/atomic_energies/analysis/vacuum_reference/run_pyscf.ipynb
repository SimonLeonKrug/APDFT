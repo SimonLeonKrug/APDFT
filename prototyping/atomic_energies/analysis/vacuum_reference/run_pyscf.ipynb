{
 "cells": [
  {
   "cell_type": "markdown",
   "metadata": {},
   "source": [
    "\n",
    "- call run_pyscf for all of them via slurm\n",
    "\n",
    "which python is used?\n",
    "in which directory is python called?\n",
    "\n",
    "sbatch shell-script\n",
    "\n",
    "shell-script:\n",
    "python path_to/run_pyscf.py\n"
   ]
  },
  {
   "cell_type": "code",
   "execution_count": null,
   "metadata": {},
   "outputs": [],
   "source": [
    "# get git rep on alchemy\n",
    "# get all conda packages\n",
    "# write shell-script\n",
    "# write submission script\n",
    "# check for bugs\n",
    "# to test run"
   ]
  },
  {
   "cell_type": "code",
   "execution_count": 2,
   "metadata": {},
   "outputs": [
    {
     "name": "stdout",
     "output_type": "stream",
     "text": [
      "Initializing\n",
      "lambda = 0.038461538461538464, number of electrons = 2\n"
     ]
    },
    {
     "name": "stderr",
     "output_type": "stream",
     "text": [
      "Overwritten attributes  energy_nuc  of <class 'pyscf.qmmm.itrf.qmmm_for_scf.<locals>.QMMM'>\n",
      "/home/misa/anaconda3/envs/atomic-energies/lib/python3.7/site-packages/pyscf/gto/mole.py:1047: UserWarning: Function mol.dumps drops attribute charge because it is not JSON-serializable\n",
      "  warnings.warn(msg)\n"
     ]
    },
    {
     "name": "stdout",
     "output_type": "stream",
     "text": [
      "converged SCF energy = -0.232159821133858\n",
      "lambda = 0.07692307692307693, number of electrons = 4\n",
      "converged SCF energy = -0.919938538568863\n",
      "lambda = 0.11538461538461539, number of electrons = 6\n",
      "converged SCF energy = -2.09261278055069\n",
      "lambda = 0.15384615384615385, number of electrons = 8\n",
      "converged SCF energy = -4.11315838940698\n",
      "lambda = 0.19230769230769232, number of electrons = 10\n",
      "converged SCF energy = -6.99133297311365\n",
      "lambda = 0.23076923076923078, number of electrons = 12\n",
      "converged SCF energy = -10.617286532963\n",
      "lambda = 0.2692307692307692, number of electrons = 14\n",
      "converged SCF energy = -15.8349247747161\n",
      "lambda = 0.3076923076923077, number of electrons = 16\n",
      "converged SCF energy = -21.7315483088705\n",
      "lambda = 0.34615384615384615, number of electrons = 18\n",
      "converged SCF energy = -28.6779257727854\n",
      "lambda = 0.38461538461538464, number of electrons = 20\n",
      "converged SCF energy = -36.6795553995718\n",
      "lambda = 0.4230769230769231, number of electrons = 22\n",
      "converged SCF energy = -45.8737560361991\n",
      "lambda = 0.46153846153846156, number of electrons = 24\n",
      "converged SCF energy = -56.3161927448821\n",
      "lambda = 0.5, number of electrons = 26\n",
      "converged SCF energy = -68.0117527192096\n",
      "lambda = 0.5384615384615384, number of electrons = 28\n",
      "converged SCF energy = -81.1729129799713\n",
      "lambda = 0.5769230769230769, number of electrons = 30\n",
      "converged SCF energy = -95.7523041762682\n",
      "lambda = 0.6153846153846154, number of electrons = 32\n",
      "converged SCF energy = -111.877980677551\n",
      "lambda = 0.6538461538461539, number of electrons = 34\n",
      "SCF not converged.\n",
      "SCF energy = -129.41016883765\n",
      "lambda = 0.6923076923076923, number of electrons = 36\n",
      "converged SCF energy = -148.46390724719\n",
      "lambda = 0.7307692307692307, number of electrons = 38\n",
      "converged SCF energy = -169.211824078922\n",
      "lambda = 0.7692307692307693, number of electrons = 40\n",
      "converged SCF energy = -191.367607806928\n",
      "lambda = 0.8076923076923077, number of electrons = 42\n",
      "converged SCF energy = -215.103400687901\n",
      "lambda = 0.8461538461538461, number of electrons = 44\n",
      "converged SCF energy = -240.547176827327\n",
      "lambda = 0.8846153846153846, number of electrons = 46\n",
      "converged SCF energy = -267.617271407761\n",
      "lambda = 0.9230769230769231, number of electrons = 48\n",
      "converged SCF energy = -296.255930010511\n",
      "lambda = 0.9615384615384616, number of electrons = 50\n",
      "converged SCF energy = -326.554737933141\n",
      "lambda = 1.0, number of electrons = 52\n",
      "converged SCF energy = -358.701270383694\n",
      "Saving results\n"
     ]
    }
   ],
   "source": [
    "import sys\n",
    "sys.path.insert(0,'/home/misa/git_repositories/APDFT/prototyping/atomic_energies')\n",
    "import alchemy_tools_pyscf as atp\n",
    "from parse_pyscf import read_input\n",
    "import qml\n",
    "import numpy as np\n",
    "import os\n",
    "import utils_qm as uqm\n",
    "\n",
    "# get current directory\n",
    "run_dir = '/home/misa/projects/Atomic-Energies/data/vacuum_reference/qm9_data/dsgdb9nsd_001212'  #os.getcwd()\n",
    "os.chdir(run_dir)\n",
    "print('Initializing')\n",
    "input_parameters = read_input(os.path.join(run_dir, 'input_parameters'))\n",
    "inputfile = input_parameters['structure_file']#os.path.join(basepath, com+'.xyz')\n",
    "intg_meth = input_parameters['intg_meth']\n",
    "basis = input_parameters['basis'] # 'def2-qzvp'\n",
    "com = qml.Compound(xyz=inputfile)\n",
    "\n",
    "lam_vals = np.arange(2, 54, 2)/52\n",
    "#lam_vals = np.concatenate((np.zeros(1), lam_vals))\n",
    "alchemical_potentials = []\n",
    "#alchemical_potentials.append(np.zeros(len(com.nuclear_charges)).tolist())\n",
    "mo_energies = []\n",
    "mo_occs = []\n",
    "dm_restart = None\n",
    "\n",
    "# print('Starting calculations')\n",
    "for lam in lam_vals: #np.flip(lam_vals)[:-1]:\n",
    "    num_elec = atp.get_num_elec(lam, com.nuclear_charges.sum())\n",
    "    print(f'Doing calculation for lambda = {lam}, number of electrons = {num_elec}')\n",
    "    print('Preparing input')\n",
    "    deltaZ, includeonly, mol = atp.prepare_input(com.coordinates, com.nuclear_charges, num_elec, basis)\n",
    "    print('Doing SCF calculation')\n",
    "    dm, e_tot, mo_energy, mo_occ = atp.make_apdft_calc(deltaZ, dm_restart, includeonly, mol, method = \"HF\", **{'max_cycle':300, 'init_guess':'atom'})\n",
    "#     dm_restart = dm\n",
    "    mo_energies.append(mo_energy)\n",
    "    mo_occs.append(mo_occ)\n",
    "    print('Calculating alchemical potentials')\n",
    "    alchpots_lambda = atp.calculate_alchpot(dm, includeonly, mol)\n",
    "    alchemical_potentials.append(alchpots_lambda) \n",
    "#   saving results\n",
    "    uqm.save_obj(alchemical_potentials, os.path.join(run_dir, 'alchemical_potentials_tmp'))\n",
    "    uqm.save_obj(mo_energies, os.path.join(run_dir, 'mo_energies_tmp'))\n",
    "    uqm.save_obj(mo_occs, os.path.join(run_dir, 'mo_occupancies_tmp'))\n",
    "    uqm.save_obj(lam_vals[:np.where(lam_vals==lam)[0][0]+1], os.path.join(run_dir, 'lam_vals_tmp'))\n",
    "    \n",
    "alchemical_potentials = np.array(alchemical_potentials)\n",
    "# average_potentials = atp.calculate_average_alchpots(alchemical_potentials, lam_vals, intg_meth)\n",
    "\n",
    "print('Saving results')\n",
    "# save alchemical_potentials\n",
    "file_raw = os.path.join(run_dir, 'alchpots')\n",
    "np.save(file_raw, alchemical_potentials, allow_pickle=False)\n",
    "# save mo energies\n",
    "file_moen = os.path.join(run_dir, 'mo_energies')\n",
    "np.save(file_moen, mo_energies, allow_pickle=False)\n",
    "# save mo occupancies\n",
    "file_moocc = os.path.join(run_dir, 'mo_occupancies')\n",
    "np.save(file_moocc, mo_occs, allow_pickle=False)\n",
    "# save lam_vals\n",
    "np.savetxt(os.path.join(run_dir, 'lam_vals.txt'),lam_vals)"
   ]
  },
  {
   "cell_type": "code",
   "execution_count": null,
   "metadata": {},
   "outputs": [],
   "source": [
    "# single lambda"
   ]
  },
  {
   "cell_type": "code",
   "execution_count": 4,
   "metadata": {},
   "outputs": [
    {
     "data": {
      "text/plain": [
       "(array([17]),)"
      ]
     },
     "execution_count": 4,
     "metadata": {},
     "output_type": "execute_result"
    }
   ],
   "source": [
    "np.where(52*lam_vals==34)"
   ]
  },
  {
   "cell_type": "code",
   "execution_count": 3,
   "metadata": {},
   "outputs": [
    {
     "data": {
      "text/plain": [
       "34.0"
      ]
     },
     "execution_count": 3,
     "metadata": {},
     "output_type": "execute_result"
    }
   ],
   "source": [
    "0.6538461538461539*52"
   ]
  },
  {
   "cell_type": "code",
   "execution_count": 15,
   "metadata": {},
   "outputs": [
    {
     "name": "stdout",
     "output_type": "stream",
     "text": [
      "0.6538461538461539\n"
     ]
    },
    {
     "name": "stderr",
     "output_type": "stream",
     "text": [
      "/home/misa/anaconda3/envs/atomic-energies/lib/python3.7/site-packages/pyscf/gto/mole.py:1047: UserWarning: Function mol.dumps drops attribute charge because it is not JSON-serializable\n",
      "  warnings.warn(msg)\n"
     ]
    },
    {
     "name": "stdout",
     "output_type": "stream",
     "text": [
      "converged SCF energy = -129.437787525085\n"
     ]
    }
   ],
   "source": [
    "import sys\n",
    "sys.path.insert(0,'/home/misa/git_repositories/APDFT/prototyping/atomic_energies')\n",
    "import alchemy_tools_pyscf as atp\n",
    "from parse_pyscf import read_input\n",
    "import qml\n",
    "import numpy as np\n",
    "import os\n",
    "\n",
    "# get current directory\n",
    "run_dir = '/home/misa/projects/Atomic-Energies/data/vacuum_reference/qm9_data/dsgdb9nsd_001212'  #os.getcwd()\n",
    "os.chdir(run_dir)\n",
    "#print('Initializing')\n",
    "input_parameters = read_input(os.path.join(run_dir, 'input_parameters'))\n",
    "inputfile = input_parameters['structure_file']#os.path.join(basepath, com+'.xyz')\n",
    "intg_meth = input_parameters['intg_meth']\n",
    "basis = input_parameters['basis'] # 'def2-qzvp'\n",
    "com = qml.Compound(xyz=inputfile)\n",
    "\n",
    "lam_vals = np.arange(2, 54, 2)/52\n",
    "lam_vals = np.concatenate((np.zeros(1), lam_vals))\n",
    "alchemical_potentials = []\n",
    "alchemical_potentials.append(np.zeros(len(com.nuclear_charges)).tolist())\n",
    "mo_energies = []\n",
    "mo_occs = []\n",
    "dm_restart = None\n",
    "\n",
    "#print('Starting calculations')\n",
    "for lam in lam_vals[17:18]: #np.flip(lam_vals)[:-1]:\n",
    "    print(lam)\n",
    "    num_elec = atp.get_num_elec(lam, com.nuclear_charges.sum())\n",
    "    #print('Preparing input')\n",
    "    deltaZ, includeonly, mol = atp.prepare_input(com.coordinates, com.nuclear_charges, num_elec, basis)\n",
    "    #print('Doing SCF calculation')\n",
    "    dm, e_tot, mo_energy, mo_occ = atp.make_apdft_calc(deltaZ, dm_restart, includeonly, mol, method = \"HF\", **{'max_cycle':300, 'diis':True, 'init_guess': '1e'})\n",
    "    #dm_restart = dm\n",
    "    mo_energies.append(mo_energy)\n",
    "    mo_occs.append(mo_occ)\n",
    "    #print('Calculating alchemical potentials')\n",
    "    alchpots_lambda = atp.calculate_alchpot(dm, includeonly, mol)\n",
    "    alchemical_potentials.append(alchpots_lambda)"
   ]
  },
  {
   "cell_type": "code",
   "execution_count": 12,
   "metadata": {},
   "outputs": [],
   "source": [
    "# run_dir = '/home/misa/projects/Atomic-Energies/data/vacuum_reference/qm9_data/dsgdb9nsd_001212'"
   ]
  },
  {
   "cell_type": "code",
   "execution_count": 18,
   "metadata": {},
   "outputs": [],
   "source": [
    "# file_raw = os.path.join(run_dir, 'alchpots_ig_atom.npy')\n",
    "# alchemical_potentials_loaded = np.load(file_raw)\n",
    "\n",
    "# # save mo energies\n",
    "# file_moen = os.path.join(run_dir, 'mo_energies_ig_atom.npy')\n",
    "# mo_en_loaded = np.load(file_moen)\n",
    "# # save mo occupancies\n",
    "# file_moocc = os.path.join(run_dir, 'mo_occupancies_ig_atom.npy')\n",
    "# mo_occ_loaded = np.load(file_moocc)"
   ]
  },
  {
   "cell_type": "code",
   "execution_count": 25,
   "metadata": {},
   "outputs": [],
   "source": [
    "# alchemical_potentials_loaded[17] = alchemical_potentials[1]"
   ]
  },
  {
   "cell_type": "code",
   "execution_count": 34,
   "metadata": {},
   "outputs": [],
   "source": [
    "# mo_en_loaded[16] = mo_energies[0]"
   ]
  },
  {
   "cell_type": "code",
   "execution_count": 35,
   "metadata": {},
   "outputs": [],
   "source": [
    "# # save alchemical_potentials\n",
    "# file_raw = os.path.join(run_dir, 'alchpots_ig_atom')\n",
    "# np.save(file_raw, alchemical_potentials_loaded, allow_pickle=False)\n",
    "# # save mo energies\n",
    "# file_moen = os.path.join(run_dir, 'mo_energies_ig_atom')\n",
    "# np.save(file_moen, mo_en_loaded, allow_pickle=False)"
   ]
  },
  {
   "cell_type": "code",
   "execution_count": null,
   "metadata": {},
   "outputs": [],
   "source": []
  }
 ],
 "metadata": {
  "kernelspec": {
   "display_name": "Python [conda env:atomic-energies]",
   "language": "python",
   "name": "conda-env-atomic-energies-py"
  },
  "language_info": {
   "codemirror_mode": {
    "name": "ipython",
    "version": 3
   },
   "file_extension": ".py",
   "mimetype": "text/x-python",
   "name": "python",
   "nbconvert_exporter": "python",
   "pygments_lexer": "ipython3",
   "version": "3.7.3"
  }
 },
 "nbformat": 4,
 "nbformat_minor": 4
}
