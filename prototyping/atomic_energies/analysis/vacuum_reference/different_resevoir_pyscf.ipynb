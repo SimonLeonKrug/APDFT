{
 "cells": [
  {
   "cell_type": "markdown",
   "metadata": {},
   "source": [
    "- mu_I only zero for # e- = 0\n",
    "- no frozen core approximation/pseudopotentials (pp only for pbc)\n",
    "- h_core in code = e_kin + e_nuc_e\n",
    "\n",
    "\n",
    "- N2 as reference system: E(\\lambda) = diatomics from H2 to N2 (no basis set, core potential etc. problem)\n",
    "- N2 from diatomics 3.56 Ha to low, N2 from APDFT implementation differs 230mH from N2 from diatomics\n",
    "\n",
    "- N2 mean of lumo homo very close to N2 reference (coincidence, for qm9 molecule both are bad)\n",
    "\n",
    "- deviation from true energy might be systematic -> could be corrected by using atomisation energies where energies of atoms are calculated from alchemy"
   ]
  },
  {
   "cell_type": "code",
   "execution_count": null,
   "metadata": {},
   "outputs": [],
   "source": [
    "import numpy as np\n",
    "import scipy as sc\n",
    "import numpy\n",
    "import pyscf\n",
    "import pyscf.gto\n",
    "import pyscf.qmmm\n",
    "import pyscf.scf\n",
    "import pyscf.dft\n",
    "import pyscf.lib\n",
    "from pyscf.data import nist\n",
    "import qml\n",
    "\n",
    "angstrom = 1 / 0.52917721067"
   ]
  },
  {
   "cell_type": "code",
   "execution_count": 83,
   "metadata": {},
   "outputs": [
    {
     "name": "stdout",
     "output_type": "stream",
     "text": [
      "Calculating 22\n",
      "30\n",
      "System: uname_result(system='Linux', node='pc-avl24', release='4.15.0-108-generic', version='#109-Ubuntu SMP Fri Jun 19 11:33:10 UTC 2020', machine='x86_64', processor='x86_64')  Threads 8\n",
      "Python 3.7.3 (default, Mar 27 2019, 22:11:17) \n",
      "[GCC 7.3.0]\n",
      "numpy 1.16.4  scipy 1.2.1\n",
      "Date: Wed Jul  8 00:11:18 2020\n",
      "PySCF version 1.7.1\n",
      "PySCF path  /home/misa/anaconda3/envs/atomic-energies/lib/python3.7/site-packages/pyscf\n",
      "\n",
      "[CONFIG] conf_file None\n",
      "[INPUT] verbose = 4\n",
      "[INPUT] num. atoms = 12\n",
      "[INPUT] num. electrons = 22\n",
      "[INPUT] charge = 30\n",
      "[INPUT] spin (= nelec alpha-beta = 2S) = 0\n",
      "[INPUT] symmetry False subgroup None\n",
      "[INPUT] Mole.unit = angstrom\n",
      "[INPUT]  1 C     -0.136883959200   1.448579793000   0.011368940800 AA   -0.258673193734   2.737419078349   0.021484184438 Bohr\n",
      "[INPUT]  2 C      0.064357729200  -0.043732595200   0.001817971000 AA    0.121618482187  -0.082642627644   0.003435467292 Bohr\n",
      "[INPUT]  3 O      1.114424575900  -0.629340888600  -0.012303871000 AA    2.105957234936  -1.189281918444  -0.023250946462 Bohr\n",
      "[INPUT]  4 O     -1.135248696300  -0.686743985600   0.009763782500 AA   -2.145309119277  -1.297758050476   0.018450874865 Bohr\n",
      "[INPUT]  5 C     -1.033152198500  -2.113387585300   0.000657206000 AA   -1.952374700157  -3.993723731273   0.001241939347 Bohr\n",
      "[INPUT]  6 C     -2.387438364700  -2.662837133200   0.010737799500 AA   -4.511604648562  -5.032032896070   0.020291500235 Bohr\n",
      "[INPUT]  7 N     -3.441337794300  -3.133628807800   0.017715779200 AA   -6.503185933342  -5.921700222789   0.033477970771 Bohr\n",
      "[INPUT]  8 H      0.833556394000   1.942730205800   0.005411445200 AA    1.575193294040   3.671228022882   0.010226149366 Bohr\n",
      "[INPUT]  9 H     -0.719454128400   1.752185637600  -0.862814629400 AA   -1.359571261864   3.311150974460  -1.630483345834 Bohr\n",
      "[INPUT] 10 H     -0.704166636200   1.743041276700   0.898611613800 AA   -1.330682088474   3.293870636775   1.698129842435 Bohr\n",
      "[INPUT] 11 H     -0.493310839700  -2.454565179600  -0.888753155200 AA   -0.932222381312  -4.638455944338  -1.679500055671 Bohr\n",
      "[INPUT] 12 H     -0.476489531700  -2.464606897800   0.875654367600 AA   -0.900434716135  -4.657432041556   1.654746934543 Bohr\n",
      "\n",
      "nuclear repulsion = 272.530449705102\n",
      "number of shells = 97\n",
      "number of NR pGTOs = 362\n",
      "number of NR cGTOs = 247\n",
      "basis = def2-tzvp\n",
      "ecp = {}\n",
      "CPU time:        85.12\n",
      "\n",
      "\n",
      "******** <class 'pyscf.qmmm.itrf.qmmm_for_scf.<locals>.QMMM'> ********\n",
      "method = QMMM-RHF\n",
      "initial guess = minao\n",
      "damping factor = 0\n",
      "level_shift factor = 0\n",
      "DIIS = <class 'pyscf.scf.diis.CDIIS'>\n",
      "diis_start_cycle = 1\n",
      "diis_space = 8\n",
      "SCF conv_tol = 1e-09\n",
      "SCF conv_tol_grad = None\n",
      "SCF max_cycles = 50\n",
      "direct_scf = True\n",
      "direct_scf_tol = 1e-13\n",
      "chkfile to save SCF result = /home/misa/git_repositories/APDFT/prototyping/atomic_energies/analysis/tmp793q5k5n\n",
      "max_memory 4000 MB (current use 251 MB)\n",
      "** Add background charges for <class 'pyscf.scf.hf.RHF'> **\n",
      "Set gradient conv threshold to 3.16228e-05\n",
      "init E= -755.549482707755\n",
      "  HOMO = -14.4970137755737  LUMO = -14.4202415484419\n"
     ]
    },
    {
     "name": "stderr",
     "output_type": "stream",
     "text": [
      "/home/misa/anaconda3/envs/atomic-energies/lib/python3.7/site-packages/pyscf/gto/mole.py:1047: UserWarning: Function mol.dumps drops attribute charge because it is not JSON-serializable\n",
      "  warnings.warn(msg)\n"
     ]
    },
    {
     "name": "stdout",
     "output_type": "stream",
     "text": [
      "cycle= 1 E= -476.232297958321  delta_E=  279  |g|= 3.42  |ddm|= 26.9\n",
      "  HOMO = -21.1962908465533  LUMO = -21.1341803782287\n",
      "cycle= 2 E= -470.273257231361  delta_E= 5.96  |g|=  3.6  |ddm|= 24.8\n",
      "  HOMO = -21.351476047267  LUMO = -21.0330670059225\n",
      "cycle= 3 E= -476.76932047857  delta_E= -6.5  |g|= 1.25  |ddm|= 18.9\n",
      "  HOMO = -21.064181701863  LUMO = -20.8535373650633\n",
      "cycle= 4 E= -477.50413013686  delta_E= -0.735  |g|= 1.15  |ddm|= 12.6\n",
      "  HOMO = -21.1420261703447  LUMO = -20.8548316919976\n",
      "cycle= 5 E= -477.684460264581  delta_E= -0.18  |g|= 0.532  |ddm|= 2.45\n",
      "  HOMO = -21.2221584528292  LUMO = -20.7886564972623\n",
      "cycle= 6 E= -477.708576605056  delta_E= -0.0241  |g|= 0.324  |ddm|= 1.29\n",
      "  HOMO = -21.208344793788  LUMO = -20.8055127903227\n",
      "cycle= 7 E= -477.721054284092  delta_E= -0.0125  |g|= 0.216  |ddm|= 0.584\n",
      "  HOMO = -21.2102626698197  LUMO = -20.8227330011623\n",
      "cycle= 8 E= -477.738618698482  delta_E= -0.0176  |g|= 0.0209  |ddm|= 1.78\n",
      "  HOMO = -21.2176135064882  LUMO = -20.8082692667534\n",
      "cycle= 9 E= -477.738671909635  delta_E= -5.32e-05  |g|= 0.00707  |ddm|= 0.0624\n",
      "  HOMO = -21.2166844708082  LUMO = -20.808527760756\n",
      "cycle= 10 E= -477.738681180342  delta_E= -9.27e-06  |g|= 0.000877  |ddm|= 0.0336\n",
      "  HOMO = -21.216612817007  LUMO = -20.8084040039403\n",
      "cycle= 11 E= -477.738681683661  delta_E= -5.03e-07  |g|= 0.00071  |ddm|= 0.0124\n",
      "  HOMO = -21.2166191774071  LUMO = -20.8084883284717\n",
      "cycle= 12 E= -477.738682023057  delta_E= -3.39e-07  |g|= 0.000134  |ddm|= 0.00978\n",
      "  HOMO = -21.2165852353241  LUMO = -20.808523412249\n",
      "cycle= 13 E= -477.738682043275  delta_E= -2.02e-08  |g|= 2.33e-05  |ddm|= 0.003\n",
      "  HOMO = -21.2165836545054  LUMO = -20.808515916646\n",
      "cycle= 14 E= -477.738682043754  delta_E= -4.8e-10  |g|= 5.25e-06  |ddm|= 0.000403\n",
      "  HOMO = -21.2165838642698  LUMO = -20.8085161529947\n",
      "Extra cycle  E= -477.738682043768  delta_E= -1.36e-11  |g|= 3.1e-06  |ddm|= 3.92e-05\n",
      "converged SCF energy = -477.738682043768\n",
      "TOTAL_ENERGY -477.7386820437681\n",
      "Calculating 30\n",
      "22\n",
      "System: uname_result(system='Linux', node='pc-avl24', release='4.15.0-108-generic', version='#109-Ubuntu SMP Fri Jun 19 11:33:10 UTC 2020', machine='x86_64', processor='x86_64')  Threads 8\n",
      "Python 3.7.3 (default, Mar 27 2019, 22:11:17) \n",
      "[GCC 7.3.0]\n",
      "numpy 1.16.4  scipy 1.2.1\n",
      "Date: Wed Jul  8 00:12:15 2020\n",
      "PySCF version 1.7.1\n",
      "PySCF path  /home/misa/anaconda3/envs/atomic-energies/lib/python3.7/site-packages/pyscf\n",
      "\n",
      "[CONFIG] conf_file None\n",
      "[INPUT] verbose = 4\n",
      "[INPUT] num. atoms = 12\n",
      "[INPUT] num. electrons = 30\n",
      "[INPUT] charge = 22\n",
      "[INPUT] spin (= nelec alpha-beta = 2S) = 0\n",
      "[INPUT] symmetry False subgroup None\n",
      "[INPUT] Mole.unit = angstrom\n",
      "[INPUT]  1 C     -0.136883959200   1.448579793000   0.011368940800 AA   -0.258673193734   2.737419078349   0.021484184438 Bohr\n",
      "[INPUT]  2 C      0.064357729200  -0.043732595200   0.001817971000 AA    0.121618482187  -0.082642627644   0.003435467292 Bohr\n",
      "[INPUT]  3 O      1.114424575900  -0.629340888600  -0.012303871000 AA    2.105957234936  -1.189281918444  -0.023250946462 Bohr\n",
      "[INPUT]  4 O     -1.135248696300  -0.686743985600   0.009763782500 AA   -2.145309119277  -1.297758050476   0.018450874865 Bohr\n",
      "[INPUT]  5 C     -1.033152198500  -2.113387585300   0.000657206000 AA   -1.952374700157  -3.993723731273   0.001241939347 Bohr\n",
      "[INPUT]  6 C     -2.387438364700  -2.662837133200   0.010737799500 AA   -4.511604648562  -5.032032896070   0.020291500235 Bohr\n",
      "[INPUT]  7 N     -3.441337794300  -3.133628807800   0.017715779200 AA   -6.503185933342  -5.921700222789   0.033477970771 Bohr\n",
      "[INPUT]  8 H      0.833556394000   1.942730205800   0.005411445200 AA    1.575193294040   3.671228022882   0.010226149366 Bohr\n",
      "[INPUT]  9 H     -0.719454128400   1.752185637600  -0.862814629400 AA   -1.359571261864   3.311150974460  -1.630483345834 Bohr\n",
      "[INPUT] 10 H     -0.704166636200   1.743041276700   0.898611613800 AA   -1.330682088474   3.293870636775   1.698129842435 Bohr\n",
      "[INPUT] 11 H     -0.493310839700  -2.454565179600  -0.888753155200 AA   -0.932222381312  -4.638455944338  -1.679500055671 Bohr\n",
      "[INPUT] 12 H     -0.476489531700  -2.464606897800   0.875654367600 AA   -0.900434716135  -4.657432041556   1.654746934543 Bohr\n",
      "\n",
      "nuclear repulsion = 272.530449705102\n",
      "number of shells = 97\n",
      "number of NR pGTOs = 362\n",
      "number of NR cGTOs = 247\n",
      "basis = def2-tzvp\n",
      "ecp = {}\n",
      "CPU time:       543.82\n",
      "\n",
      "\n",
      "******** <class 'pyscf.qmmm.itrf.qmmm_for_scf.<locals>.QMMM'> ********\n",
      "method = QMMM-RHF\n",
      "initial guess = minao\n",
      "damping factor = 0\n",
      "level_shift factor = 0\n",
      "DIIS = <class 'pyscf.scf.diis.CDIIS'>\n",
      "diis_start_cycle = 1\n",
      "diis_space = 8\n",
      "SCF conv_tol = 1e-09\n",
      "SCF conv_tol_grad = None\n",
      "SCF max_cycles = 50\n",
      "direct_scf = True\n",
      "direct_scf_tol = 1e-13\n",
      "chkfile to save SCF result = /home/misa/git_repositories/APDFT/prototyping/atomic_energies/analysis/tmp04o5uxtq\n",
      "max_memory 4000 MB (current use 252 MB)\n",
      "** Add background charges for <class 'pyscf.scf.hf.RHF'> **\n",
      "Set gradient conv threshold to 3.16228e-05\n",
      "init E= -667.801066469906\n",
      "  HOMO = -9.68042863417445  LUMO = -9.30206812998152\n",
      "cycle= 1 E= -523.708079630146  delta_E=  144  |g|= 5.47  |ddm|= 20.7\n",
      "  HOMO = -14.3149182282791  LUMO = -14.2811882234985\n",
      "cycle= 2 E= -482.996152302253  delta_E= 40.7  |g|= 8.28  |ddm|=  125\n",
      "  HOMO = -14.0687495881107  LUMO = -14.021749135103\n",
      "cycle= 3 E= -529.670577192514  delta_E= -46.7  |g|=  5.6  |ddm|=  121\n",
      "  HOMO = -14.0643997713589  LUMO = -14.00837239006\n",
      "cycle= 4 E= -533.875702600952  delta_E= -4.21  |g|= 2.54  |ddm|= 23.7\n",
      "  HOMO = -14.3468032139143  LUMO = -13.9899450382543\n",
      "cycle= 5 E= -523.746088434993  delta_E= 10.1  |g|= 5.24  |ddm|= 15.5\n",
      "  HOMO = -14.0271538547836  LUMO = -13.9585307885828\n",
      "cycle= 6 E= -536.03142208039  delta_E= -12.3  |g|= 2.12  |ddm|= 11.3\n",
      "  HOMO = -14.1346101875937  LUMO = -14.0116371071645\n",
      "cycle= 7 E= -536.867871306481  delta_E= -0.836  |g|= 1.16  |ddm|= 4.22\n",
      "  HOMO = -14.2865189093339  LUMO = -13.95937745423\n",
      "cycle= 8 E= -537.337984401527  delta_E= -0.47  |g|= 0.378  |ddm|= 4.33\n",
      "  HOMO = -14.4082647929427  LUMO = -13.8813508200213\n",
      "cycle= 9 E= -537.429943055014  delta_E= -0.092  |g|= 0.163  |ddm|= 2.56\n",
      "  HOMO = -14.4064813453533  LUMO = -13.8950405080975\n",
      "cycle= 10 E= -537.44660031524  delta_E= -0.0167  |g|= 0.0811  |ddm|= 1.17\n",
      "  HOMO = -14.3993929440076  LUMO = -13.9001835615522\n",
      "cycle= 11 E= -537.452537318951  delta_E= -0.00594  |g|= 0.0508  |ddm|= 0.52\n",
      "  HOMO = -14.4051406410465  LUMO = -13.9012716101448\n",
      "cycle= 12 E= -537.457097770123  delta_E= -0.00456  |g|= 0.047  |ddm|= 0.448\n",
      "  HOMO = -14.4098578633724  LUMO = -13.9023184074487\n",
      "cycle= 13 E= -537.460120217827  delta_E= -0.00302  |g|= 0.0438  |ddm|= 0.313\n",
      "  HOMO = -14.4133878479227  LUMO = -13.9107476873293\n",
      "cycle= 14 E= -537.471642303687  delta_E= -0.0115  |g|= 0.0332  |ddm|= 1.64\n",
      "  HOMO = -14.4113413769156  LUMO = -13.9150976030383\n",
      "cycle= 15 E= -537.471753891463  delta_E= -0.000112  |g|= 0.0235  |ddm|= 0.0503\n",
      "  HOMO = -14.4147265512716  LUMO = -13.9187332727246\n",
      "cycle= 16 E= -537.474820266547  delta_E= -0.00307  |g|= 0.0302  |ddm|= 1.19\n",
      "  HOMO = -14.4150887527144  LUMO = -13.9207193051956\n",
      "cycle= 17 E= -537.474930815011  delta_E= -0.000111  |g|= 0.0184  |ddm|= 0.0406\n",
      "  HOMO = -14.4160584809862  LUMO = -13.9249706446064\n",
      "cycle= 18 E= -537.475052861209  delta_E= -0.000122  |g|= 0.00385  |ddm|= 0.195\n",
      "  HOMO = -14.4162449793248  LUMO = -13.9257537678104\n",
      "cycle= 19 E= -537.47505607153  delta_E= -3.21e-06  |g|= 0.000638  |ddm|= 0.0168\n",
      "  HOMO = -14.4162725436802  LUMO = -13.9256391750946\n",
      "cycle= 20 E= -537.475056129724  delta_E= -5.82e-08  |g|= 0.000206  |ddm|= 0.00162\n",
      "  HOMO = -14.4162782365551  LUMO = -13.925595783683\n",
      "cycle= 21 E= -537.475056138997  delta_E= -9.27e-09  |g|= 3.79e-05  |ddm|= 0.00102\n",
      "  HOMO = -14.416279927421  LUMO = -13.9255917118102\n",
      "cycle= 22 E= -537.475056139879  delta_E= -8.83e-10  |g|= 1.83e-05  |ddm|= 0.000278\n",
      "  HOMO = -14.4162795415017  LUMO = -13.925590770629\n",
      "Extra cycle  E= -537.475056140139  delta_E= -2.6e-10  |g|= 1.58e-05  |ddm|= 4.87e-05\n",
      "converged SCF energy = -537.475056140139\n",
      "TOTAL_ENERGY -537.4750561401391\n",
      "Calculating 38\n",
      "14\n",
      "System: uname_result(system='Linux', node='pc-avl24', release='4.15.0-108-generic', version='#109-Ubuntu SMP Fri Jun 19 11:33:10 UTC 2020', machine='x86_64', processor='x86_64')  Threads 8\n",
      "Python 3.7.3 (default, Mar 27 2019, 22:11:17) \n",
      "[GCC 7.3.0]\n",
      "numpy 1.16.4  scipy 1.2.1\n",
      "Date: Wed Jul  8 00:13:44 2020\n",
      "PySCF version 1.7.1\n",
      "PySCF path  /home/misa/anaconda3/envs/atomic-energies/lib/python3.7/site-packages/pyscf\n",
      "\n",
      "[CONFIG] conf_file None\n",
      "[INPUT] verbose = 4\n",
      "[INPUT] num. atoms = 12\n",
      "[INPUT] num. electrons = 38\n",
      "[INPUT] charge = 14\n",
      "[INPUT] spin (= nelec alpha-beta = 2S) = 0\n",
      "[INPUT] symmetry False subgroup None\n",
      "[INPUT] Mole.unit = angstrom\n",
      "[INPUT]  1 C     -0.136883959200   1.448579793000   0.011368940800 AA   -0.258673193734   2.737419078349   0.021484184438 Bohr\n",
      "[INPUT]  2 C      0.064357729200  -0.043732595200   0.001817971000 AA    0.121618482187  -0.082642627644   0.003435467292 Bohr\n",
      "[INPUT]  3 O      1.114424575900  -0.629340888600  -0.012303871000 AA    2.105957234936  -1.189281918444  -0.023250946462 Bohr\n",
      "[INPUT]  4 O     -1.135248696300  -0.686743985600   0.009763782500 AA   -2.145309119277  -1.297758050476   0.018450874865 Bohr\n",
      "[INPUT]  5 C     -1.033152198500  -2.113387585300   0.000657206000 AA   -1.952374700157  -3.993723731273   0.001241939347 Bohr\n",
      "[INPUT]  6 C     -2.387438364700  -2.662837133200   0.010737799500 AA   -4.511604648562  -5.032032896070   0.020291500235 Bohr\n",
      "[INPUT]  7 N     -3.441337794300  -3.133628807800   0.017715779200 AA   -6.503185933342  -5.921700222789   0.033477970771 Bohr\n",
      "[INPUT]  8 H      0.833556394000   1.942730205800   0.005411445200 AA    1.575193294040   3.671228022882   0.010226149366 Bohr\n",
      "[INPUT]  9 H     -0.719454128400   1.752185637600  -0.862814629400 AA   -1.359571261864   3.311150974460  -1.630483345834 Bohr\n",
      "[INPUT] 10 H     -0.704166636200   1.743041276700   0.898611613800 AA   -1.330682088474   3.293870636775   1.698129842435 Bohr\n",
      "[INPUT] 11 H     -0.493310839700  -2.454565179600  -0.888753155200 AA   -0.932222381312  -4.638455944338  -1.679500055671 Bohr\n",
      "[INPUT] 12 H     -0.476489531700  -2.464606897800   0.875654367600 AA   -0.900434716135  -4.657432041556   1.654746934543 Bohr\n",
      "\n",
      "nuclear repulsion = 272.530449705102\n"
     ]
    },
    {
     "name": "stdout",
     "output_type": "stream",
     "text": [
      "number of shells = 97\n",
      "number of NR pGTOs = 362\n",
      "number of NR cGTOs = 247\n",
      "basis = def2-tzvp\n",
      "ecp = {}\n",
      "CPU time:      1249.73\n",
      "\n",
      "\n",
      "******** <class 'pyscf.qmmm.itrf.qmmm_for_scf.<locals>.QMMM'> ********\n",
      "method = QMMM-RHF\n",
      "initial guess = minao\n",
      "damping factor = 0\n",
      "level_shift factor = 0\n",
      "DIIS = <class 'pyscf.scf.diis.CDIIS'>\n",
      "diis_start_cycle = 1\n",
      "diis_space = 8\n",
      "SCF conv_tol = 1e-09\n",
      "SCF conv_tol_grad = None\n",
      "SCF max_cycles = 50\n",
      "direct_scf = True\n",
      "direct_scf_tol = 1e-13\n",
      "chkfile to save SCF result = /home/misa/git_repositories/APDFT/prototyping/atomic_energies/analysis/tmpqihjdv5e\n",
      "max_memory 4000 MB (current use 252 MB)\n",
      "** Add background charges for <class 'pyscf.scf.hf.RHF'> **\n",
      "Set gradient conv threshold to 3.16228e-05\n",
      "init E= -567.151800541873\n",
      "  HOMO = -5.42859700297216  LUMO = -5.29041718513667\n",
      "cycle= 1 E= -511.71696896953  delta_E= 55.4  |g|=  5.1  |ddm|= 15.3\n",
      "  HOMO = -8.45396196948731  LUMO = -8.39443112848754\n",
      "cycle= 2 E= -437.676671739582  delta_E=   74  |g|= 10.7  |ddm|= 59.1\n",
      "  HOMO = -8.17995089574702  LUMO = -8.02539110094719\n",
      "cycle= 3 E= -502.327529791096  delta_E= -64.7  |g|= 7.01  |ddm|= 54.2\n",
      "  HOMO = -8.28372348451185  LUMO = -8.27359361380263\n",
      "cycle= 4 E= -510.474931575164  delta_E= -8.15  |g|= 5.41  |ddm|= 19.6\n",
      "  HOMO = -8.3031619418397  LUMO = -8.18542037685444\n",
      "cycle= 5 E= -517.222018588741  delta_E= -6.75  |g|= 3.12  |ddm|= 12.9\n",
      "  HOMO = -7.97993564090815  LUMO = -7.95384718198404\n",
      "cycle= 6 E= -518.734744062704  delta_E= -1.51  |g|= 2.79  |ddm|= 7.41\n",
      "  HOMO = -8.14856248517465  LUMO = -8.06848095660333\n",
      "cycle= 7 E= -520.325281033765  delta_E= -1.59  |g|= 0.963  |ddm|= 9.02\n",
      "  HOMO = -8.15627835049493  LUMO = -8.10220983543845\n",
      "cycle= 8 E= -520.660443997124  delta_E= -0.335  |g|= 0.371  |ddm|= 7.02\n",
      "  HOMO = -8.25126182558013  LUMO = -8.08159063821008\n",
      "cycle= 9 E= -520.720109775745  delta_E= -0.0597  |g|= 0.193  |ddm|=    2\n",
      "  HOMO = -8.26996137288414  LUMO = -8.06076218175849\n",
      "cycle= 10 E= -520.742681411782  delta_E= -0.0226  |g|= 0.162  |ddm|= 1.55\n",
      "  HOMO = -8.26888311393831  LUMO = -8.05272626964215\n",
      "cycle= 11 E= -520.75581049953  delta_E= -0.0131  |g|= 0.104  |ddm|= 1.07\n",
      "  HOMO = -8.27316701652609  LUMO = -8.03656619226208\n",
      "cycle= 12 E= -520.768797020846  delta_E= -0.013  |g|= 0.0729  |ddm|= 1.35\n",
      "  HOMO = -8.27395506241045  LUMO = -8.02488164205645\n",
      "cycle= 13 E= -520.775660890776  delta_E= -0.00686  |g|= 0.0444  |ddm|= 0.808\n",
      "  HOMO = -8.27613570283643  LUMO = -8.01866971282475\n",
      "cycle= 14 E= -520.77917270431  delta_E= -0.00351  |g|= 0.0385  |ddm|= 0.382\n",
      "  HOMO = -8.28043770639129  LUMO = -8.01193557162178\n",
      "cycle= 15 E= -520.783097493302  delta_E= -0.00392  |g|= 0.0334  |ddm|= 0.408\n",
      "  HOMO = -8.28912093402663  LUMO = -8.00019216488152\n",
      "cycle= 16 E= -520.788021077949  delta_E= -0.00492  |g|= 0.0268  |ddm|= 0.573\n",
      "  HOMO = -8.30076605789997  LUMO = -7.993027030492\n",
      "cycle= 17 E= -520.792801969466  delta_E= -0.00478  |g|= 0.0214  |ddm|= 0.683\n",
      "  HOMO = -8.31284051502872  LUMO = -7.9921162450894\n",
      "cycle= 18 E= -520.795746807176  delta_E= -0.00294  |g|= 0.0139  |ddm|= 0.562\n",
      "  HOMO = -8.33427668708089  LUMO = -7.96333730554446\n",
      "cycle= 19 E= -520.796995975885  delta_E= -0.00125  |g|= 0.0402  |ddm|= 0.936\n",
      "  HOMO = -8.33107539214258  LUMO = -7.97413916079015\n",
      "cycle= 20 E= -520.797511449809  delta_E= -0.000515  |g|= 0.0218  |ddm|= 0.14\n",
      "  HOMO = -8.3322359557363  LUMO = -7.9813166325241\n",
      "cycle= 21 E= -520.797836772744  delta_E= -0.000325  |g|= 0.011  |ddm|= 0.167\n",
      "  HOMO = -8.33235463431651  LUMO = -7.98771429650143\n",
      "cycle= 22 E= -520.797920553068  delta_E= -8.38e-05  |g|= 0.00332  |ddm|= 0.085\n",
      "  HOMO = -8.33328060579692  LUMO = -7.98666466255478\n",
      "cycle= 23 E= -520.797934736082  delta_E= -1.42e-05  |g|= 0.00115  |ddm|= 0.0474\n",
      "  HOMO = -8.33346659292592  LUMO = -7.98583972781309\n",
      "cycle= 24 E= -520.797936141557  delta_E= -1.41e-06  |g|= 0.000513  |ddm|= 0.0151\n",
      "  HOMO = -8.33336735614248  LUMO = -7.9859823236843\n",
      "cycle= 25 E= -520.797936334054  delta_E= -1.92e-07  |g|= 0.000171  |ddm|= 0.0032\n",
      "  HOMO = -8.33339860232146  LUMO = -7.98588652177942\n",
      "cycle= 26 E= -520.797936352967  delta_E= -1.89e-08  |g|= 9.39e-05  |ddm|= 0.00186\n",
      "  HOMO = -8.33337795320005  LUMO = -7.98593698763489\n",
      "cycle= 27 E= -520.797936360126  delta_E= -7.16e-09  |g|= 3.38e-05  |ddm|= 0.00074\n",
      "  HOMO = -8.33336814615937  LUMO = -7.98593652872213\n",
      "cycle= 28 E= -520.797936362176  delta_E= -2.05e-09  |g|= 1.48e-05  |ddm|= 0.00046\n",
      "  HOMO = -8.33336675080906  LUMO = -7.98593573591261\n",
      "cycle= 29 E= -520.797936362477  delta_E= -3.01e-10  |g|= 6.39e-06  |ddm|= 0.000174\n",
      "  HOMO = -8.33336587978986  LUMO = -7.98593705388563\n",
      "Extra cycle  E= -520.797936362505  delta_E= -2.84e-11  |g|= 4.33e-06  |ddm|= 3.35e-05\n",
      "converged SCF energy = -520.797936362505\n",
      "TOTAL_ENERGY -520.7979363625054\n",
      "Calculating 44\n",
      "8\n",
      "System: uname_result(system='Linux', node='pc-avl24', release='4.15.0-108-generic', version='#109-Ubuntu SMP Fri Jun 19 11:33:10 UTC 2020', machine='x86_64', processor='x86_64')  Threads 8\n",
      "Python 3.7.3 (default, Mar 27 2019, 22:11:17) \n",
      "[GCC 7.3.0]\n",
      "numpy 1.16.4  scipy 1.2.1\n",
      "Date: Wed Jul  8 00:15:38 2020\n",
      "PySCF version 1.7.1\n",
      "PySCF path  /home/misa/anaconda3/envs/atomic-energies/lib/python3.7/site-packages/pyscf\n",
      "\n",
      "[CONFIG] conf_file None\n",
      "[INPUT] verbose = 4\n",
      "[INPUT] num. atoms = 12\n",
      "[INPUT] num. electrons = 44\n",
      "[INPUT] charge = 8\n",
      "[INPUT] spin (= nelec alpha-beta = 2S) = 0\n",
      "[INPUT] symmetry False subgroup None\n",
      "[INPUT] Mole.unit = angstrom\n",
      "[INPUT]  1 C     -0.136883959200   1.448579793000   0.011368940800 AA   -0.258673193734   2.737419078349   0.021484184438 Bohr\n",
      "[INPUT]  2 C      0.064357729200  -0.043732595200   0.001817971000 AA    0.121618482187  -0.082642627644   0.003435467292 Bohr\n",
      "[INPUT]  3 O      1.114424575900  -0.629340888600  -0.012303871000 AA    2.105957234936  -1.189281918444  -0.023250946462 Bohr\n",
      "[INPUT]  4 O     -1.135248696300  -0.686743985600   0.009763782500 AA   -2.145309119277  -1.297758050476   0.018450874865 Bohr\n",
      "[INPUT]  5 C     -1.033152198500  -2.113387585300   0.000657206000 AA   -1.952374700157  -3.993723731273   0.001241939347 Bohr\n",
      "[INPUT]  6 C     -2.387438364700  -2.662837133200   0.010737799500 AA   -4.511604648562  -5.032032896070   0.020291500235 Bohr\n",
      "[INPUT]  7 N     -3.441337794300  -3.133628807800   0.017715779200 AA   -6.503185933342  -5.921700222789   0.033477970771 Bohr\n",
      "[INPUT]  8 H      0.833556394000   1.942730205800   0.005411445200 AA    1.575193294040   3.671228022882   0.010226149366 Bohr\n",
      "[INPUT]  9 H     -0.719454128400   1.752185637600  -0.862814629400 AA   -1.359571261864   3.311150974460  -1.630483345834 Bohr\n",
      "[INPUT] 10 H     -0.704166636200   1.743041276700   0.898611613800 AA   -1.330682088474   3.293870636775   1.698129842435 Bohr\n",
      "[INPUT] 11 H     -0.493310839700  -2.454565179600  -0.888753155200 AA   -0.932222381312  -4.638455944338  -1.679500055671 Bohr\n",
      "[INPUT] 12 H     -0.476489531700  -2.464606897800   0.875654367600 AA   -0.900434716135  -4.657432041556   1.654746934543 Bohr\n",
      "\n",
      "nuclear repulsion = 272.530449705102\n",
      "number of shells = 97\n",
      "number of NR pGTOs = 362\n",
      "number of NR cGTOs = 247\n",
      "basis = def2-tzvp\n",
      "ecp = {}\n",
      "CPU time:      2163.23\n",
      "\n",
      "\n",
      "******** <class 'pyscf.qmmm.itrf.qmmm_for_scf.<locals>.QMMM'> ********\n",
      "method = QMMM-RHF\n",
      "initial guess = minao\n",
      "damping factor = 0\n",
      "level_shift factor = 0\n",
      "DIIS = <class 'pyscf.scf.diis.CDIIS'>\n",
      "diis_start_cycle = 1\n",
      "diis_space = 8\n",
      "SCF conv_tol = 1e-09\n",
      "SCF conv_tol_grad = None\n",
      "SCF max_cycles = 50\n",
      "direct_scf = True\n",
      "direct_scf_tol = 1e-13\n",
      "chkfile to save SCF result = /home/misa/git_repositories/APDFT/prototyping/atomic_energies/analysis/tmpoaho64m5\n",
      "max_memory 4000 MB (current use 254 MB)\n",
      "** Add background charges for <class 'pyscf.scf.hf.RHF'> **\n",
      "Set gradient conv threshold to 3.16228e-05\n",
      "init E= -483.198668486667\n",
      "  HOMO = -2.85175546982159  LUMO = -2.82325918142753\n",
      "cycle= 1 E= -464.358273973614  delta_E= 18.8  |g|= 4.09  |ddm|= 7.59\n",
      "  HOMO = -4.21939023740639  LUMO = -4.14767180276128\n",
      "cycle= 2 E= -436.711026606697  delta_E= 27.6  |g|= 8.98  |ddm|= 8.81\n",
      "  HOMO = -4.46856387988962  LUMO = -4.43085935907038\n",
      "cycle= 3 E= -464.462525391343  delta_E= -27.8  |g|= 3.34  |ddm|= 7.02\n",
      "  HOMO = -4.46023058524054  LUMO = -4.38711962809772\n",
      "cycle= 4 E= -464.299431334765  delta_E= 0.163  |g|= 2.83  |ddm|= 3.79\n",
      "  HOMO = -4.39018747239791  LUMO = -4.34400422482472\n",
      "cycle= 5 E= -467.796162444752  delta_E= -3.5  |g|= 0.934  |ddm|= 3.05\n"
     ]
    },
    {
     "name": "stdout",
     "output_type": "stream",
     "text": [
      "  HOMO = -4.45003562537031  LUMO = -4.27656687404613\n",
      "cycle= 6 E= -468.020547514408  delta_E= -0.224  |g|= 0.543  |ddm|= 0.974\n",
      "  HOMO = -4.44800112122049  LUMO = -4.24067734702969\n",
      "cycle= 7 E= -468.078668898194  delta_E= -0.0581  |g|= 0.191  |ddm|= 0.41\n",
      "  HOMO = -4.48845501603014  LUMO = -4.21484315527763\n",
      "cycle= 8 E= -468.103254953926  delta_E= -0.0246  |g|= 0.099  |ddm|= 0.334\n",
      "  HOMO = -4.4932435556934  LUMO = -4.21052985259853\n",
      "cycle= 9 E= -468.109923320056  delta_E= -0.00667  |g|= 0.121  |ddm|= 0.197\n",
      "  HOMO = -4.49760413472929  LUMO = -4.20839620990532\n",
      "cycle= 10 E= -468.114533395654  delta_E= -0.00461  |g|= 0.111  |ddm|= 0.164\n",
      "  HOMO = -4.49536847258209  LUMO = -4.20738609023438\n",
      "cycle= 11 E= -468.121212744303  delta_E= -0.00668  |g|=  0.1  |ddm|= 0.223\n",
      "  HOMO = -4.48126911244142  LUMO = -4.21760272831848\n",
      "cycle= 12 E= -468.126792016574  delta_E= -0.00558  |g|= 0.0459  |ddm|= 0.212\n",
      "  HOMO = -4.47847223254293  LUMO = -4.22868896508218\n",
      "cycle= 13 E= -468.130466651228  delta_E= -0.00367  |g|= 0.0231  |ddm|= 0.292\n",
      "  HOMO = -4.47526639250504  LUMO = -4.2247160330621\n",
      "cycle= 14 E= -468.130623657666  delta_E= -0.000157  |g|= 0.0176  |ddm|= 0.0614\n",
      "  HOMO = -4.47672310594806  LUMO = -4.2235788018277\n",
      "cycle= 15 E= -468.130937361621  delta_E= -0.000314  |g|= 0.00886  |ddm|= 0.0681\n",
      "  HOMO = -4.47697265976647  LUMO = -4.22258755738083\n",
      "cycle= 16 E= -468.131063414117  delta_E= -0.000126  |g|= 0.00517  |ddm|= 0.0468\n",
      "  HOMO = -4.47607765808611  LUMO = -4.22302637635227\n",
      "cycle= 17 E= -468.131113015103  delta_E= -4.96e-05  |g|= 0.00252  |ddm|= 0.0384\n",
      "  HOMO = -4.47535745985889  LUMO = -4.22295810800279\n",
      "cycle= 18 E= -468.131121066309  delta_E= -8.05e-06  |g|= 0.00208  |ddm|= 0.0078\n",
      "  HOMO = -4.47509371620928  LUMO = -4.22330823054272\n",
      "cycle= 19 E= -468.131126292685  delta_E= -5.23e-06  |g|= 0.000877  |ddm|= 0.0099\n",
      "  HOMO = -4.4747897644681  LUMO = -4.22338016749201\n",
      "cycle= 20 E= -468.131127659756  delta_E= -1.37e-06  |g|= 0.000544  |ddm|= 0.00336\n",
      "  HOMO = -4.47467376238361  LUMO = -4.22341364071193\n",
      "cycle= 21 E= -468.131128125643  delta_E= -4.66e-07  |g|= 0.000335  |ddm|= 0.00191\n",
      "  HOMO = -4.4746298939438  LUMO = -4.22339878150547\n",
      "cycle= 22 E= -468.131128300332  delta_E= -1.75e-07  |g|= 0.000235  |ddm|= 0.0011\n",
      "  HOMO = -4.47463912184802  LUMO = -4.22338577654914\n",
      "cycle= 23 E= -468.131128405996  delta_E= -1.06e-07  |g|= 0.000204  |ddm|= 0.0008\n",
      "  HOMO = -4.47462662426176  LUMO = -4.22338435154098\n",
      "cycle= 24 E= -468.131128462588  delta_E= -5.66e-08  |g|= 0.000199  |ddm|= 0.000322\n",
      "  HOMO = -4.47462699873406  LUMO = -4.22338550377501\n",
      "cycle= 25 E= -468.131128475345  delta_E= -1.28e-08  |g|= 0.0002  |ddm|= 8.08e-05\n",
      "  HOMO = -4.47462943801689  LUMO = -4.22338041777246\n",
      "cycle= 26 E= -468.131128212397  delta_E= 2.63e-07  |g|= 0.000192  |ddm|= 0.00143\n",
      "  HOMO = -4.47462203289274  LUMO = -4.22337261173801\n",
      "cycle= 27 E= -468.131128095718  delta_E= 1.17e-07  |g|= 0.00017  |ddm|= 0.000687\n",
      "  HOMO = -4.47460738418208  LUMO = -4.22338156034017\n",
      "cycle= 28 E= -468.131127795309  delta_E= 3e-07  |g|= 0.000153  |ddm|= 0.00201\n",
      "  HOMO = -4.47460418925775  LUMO = -4.2233882185301\n",
      "cycle= 29 E= -468.131127640789  delta_E= 1.55e-07  |g|= 0.000117  |ddm|= 0.00162\n",
      "  HOMO = -4.47459806926132  LUMO = -4.22339374191466\n",
      "cycle= 30 E= -468.131127553035  delta_E= 8.78e-08  |g|= 8.14e-05  |ddm|= 0.00179\n",
      "  HOMO = -4.47460510115364  LUMO = -4.22339905320612\n",
      "cycle= 31 E= -468.131127539182  delta_E= 1.39e-08  |g|= 5.13e-05  |ddm|= 0.000894\n",
      "  HOMO = -4.47460574497016  LUMO = -4.22339638465444\n",
      "cycle= 32 E= -468.131127539241  delta_E= -5.87e-11  |g|= 3.66e-05  |ddm|= 0.000346\n",
      "  HOMO = -4.47460861991038  LUMO = -4.22339469897559\n",
      "cycle= 33 E= -468.131127540993  delta_E= -1.75e-09  |g|= 2.05e-05  |ddm|= 0.000176\n",
      "  HOMO = -4.47460689580386  LUMO = -4.22339263364154\n",
      "cycle= 34 E= -468.131127541709  delta_E= -7.16e-10  |g|= 1.8e-05  |ddm|= 0.000112\n",
      "  HOMO = -4.47460845943885  LUMO = -4.22339272666073\n",
      "Extra cycle  E= -468.131127541954  delta_E= -2.45e-10  |g|= 1.35e-05  |ddm|= 3.94e-05\n",
      "converged SCF energy = -468.131127541954\n",
      "TOTAL_ENERGY -468.1311275419535\n",
      "Calculating 52\n",
      "0\n",
      "System: uname_result(system='Linux', node='pc-avl24', release='4.15.0-108-generic', version='#109-Ubuntu SMP Fri Jun 19 11:33:10 UTC 2020', machine='x86_64', processor='x86_64')  Threads 8\n",
      "Python 3.7.3 (default, Mar 27 2019, 22:11:17) \n",
      "[GCC 7.3.0]\n",
      "numpy 1.16.4  scipy 1.2.1\n",
      "Date: Wed Jul  8 00:17:45 2020\n",
      "PySCF version 1.7.1\n",
      "PySCF path  /home/misa/anaconda3/envs/atomic-energies/lib/python3.7/site-packages/pyscf\n",
      "\n",
      "[CONFIG] conf_file None\n",
      "[INPUT] verbose = 4\n",
      "[INPUT] num. atoms = 12\n",
      "[INPUT] num. electrons = 52\n",
      "[INPUT] charge = 0\n",
      "[INPUT] spin (= nelec alpha-beta = 2S) = 0\n",
      "[INPUT] symmetry False subgroup None\n",
      "[INPUT] Mole.unit = angstrom\n",
      "[INPUT]  1 C     -0.136883959200   1.448579793000   0.011368940800 AA   -0.258673193734   2.737419078349   0.021484184438 Bohr\n",
      "[INPUT]  2 C      0.064357729200  -0.043732595200   0.001817971000 AA    0.121618482187  -0.082642627644   0.003435467292 Bohr\n",
      "[INPUT]  3 O      1.114424575900  -0.629340888600  -0.012303871000 AA    2.105957234936  -1.189281918444  -0.023250946462 Bohr\n",
      "[INPUT]  4 O     -1.135248696300  -0.686743985600   0.009763782500 AA   -2.145309119277  -1.297758050476   0.018450874865 Bohr\n",
      "[INPUT]  5 C     -1.033152198500  -2.113387585300   0.000657206000 AA   -1.952374700157  -3.993723731273   0.001241939347 Bohr\n",
      "[INPUT]  6 C     -2.387438364700  -2.662837133200   0.010737799500 AA   -4.511604648562  -5.032032896070   0.020291500235 Bohr\n",
      "[INPUT]  7 N     -3.441337794300  -3.133628807800   0.017715779200 AA   -6.503185933342  -5.921700222789   0.033477970771 Bohr\n",
      "[INPUT]  8 H      0.833556394000   1.942730205800   0.005411445200 AA    1.575193294040   3.671228022882   0.010226149366 Bohr\n",
      "[INPUT]  9 H     -0.719454128400   1.752185637600  -0.862814629400 AA   -1.359571261864   3.311150974460  -1.630483345834 Bohr\n",
      "[INPUT] 10 H     -0.704166636200   1.743041276700   0.898611613800 AA   -1.330682088474   3.293870636775   1.698129842435 Bohr\n",
      "[INPUT] 11 H     -0.493310839700  -2.454565179600  -0.888753155200 AA   -0.932222381312  -4.638455944338  -1.679500055671 Bohr\n",
      "[INPUT] 12 H     -0.476489531700  -2.464606897800   0.875654367600 AA   -0.900434716135  -4.657432041556   1.654746934543 Bohr\n",
      "\n",
      "nuclear repulsion = 272.530449705102\n",
      "number of shells = 97\n",
      "number of NR pGTOs = 362\n",
      "number of NR cGTOs = 247\n",
      "basis = def2-tzvp\n",
      "ecp = {}\n",
      "CPU time:      3172.23\n",
      "\n",
      "\n",
      "******** <class 'pyscf.qmmm.itrf.qmmm_for_scf.<locals>.QMMM'> ********\n",
      "method = QMMM-RHF\n",
      "initial guess = minao\n",
      "damping factor = 0\n",
      "level_shift factor = 0\n",
      "DIIS = <class 'pyscf.scf.diis.CDIIS'>\n",
      "diis_start_cycle = 1\n",
      "diis_space = 8\n",
      "SCF conv_tol = 1e-09\n",
      "SCF conv_tol_grad = None\n",
      "SCF max_cycles = 50\n",
      "direct_scf = True\n",
      "direct_scf_tol = 1e-13\n",
      "chkfile to save SCF result = /home/misa/git_repositories/APDFT/prototyping/atomic_energies/analysis/tmpy8i5a_o3\n",
      "max_memory 4000 MB (current use 255 MB)\n",
      "** Add background charges for <class 'pyscf.scf.hf.RHF'> **\n",
      "Set gradient conv threshold to 3.16228e-05\n",
      "init E= -359.972915600816\n",
      "  HOMO = -0.345153536271062  LUMO = 0.0509468892335146\n",
      "cycle= 1 E= -358.468244552148  delta_E=  1.5  |g|= 0.98  |ddm|= 2.67\n",
      "  HOMO = -0.414126200209695  LUMO = 0.0801217543819324\n",
      "cycle= 2 E= -358.586645470217  delta_E= -0.118  |g|= 0.776  |ddm|= 1.02\n",
      "  HOMO = -0.473563641754749  LUMO = 0.11275715008963\n",
      "cycle= 3 E= -358.696840373881  delta_E= -0.11  |g|= 0.116  |ddm|= 0.541\n",
      "  HOMO = -0.463548835921279  LUMO = 0.116741725035138\n",
      "cycle= 4 E= -358.700390445827  delta_E= -0.00355  |g|= 0.0591  |ddm|= 0.113\n",
      "  HOMO = -0.467036995127437  LUMO = 0.117578447294296\n",
      "cycle= 5 E= -358.701168777908  delta_E= -0.000778  |g|= 0.0145  |ddm|= 0.0604\n",
      "  HOMO = -0.469751373399575  LUMO = 0.117239757087668\n",
      "cycle= 6 E= -358.701246795682  delta_E= -7.8e-05  |g|= 0.00559  |ddm|= 0.0232\n",
      "  HOMO = -0.469605387129688  LUMO = 0.117371174549208\n",
      "cycle= 7 E= -358.701266661286  delta_E= -1.99e-05  |g|= 0.00274  |ddm|= 0.0126\n",
      "  HOMO = -0.469843247374385  LUMO = 0.117420723942788\n",
      "cycle= 8 E= -358.701269763461  delta_E= -3.1e-06  |g|= 0.000939  |ddm|= 0.00463\n",
      "  HOMO = -0.469991175023219  LUMO = 0.117421166381484\n",
      "cycle= 9 E= -358.70127032936  delta_E= -5.66e-07  |g|= 0.000307  |ddm|= 0.00188\n",
      "  HOMO = -0.470015531167046  LUMO = 0.117421266573436\n"
     ]
    },
    {
     "name": "stdout",
     "output_type": "stream",
     "text": [
      "cycle= 10 E= -358.701270379051  delta_E= -4.97e-08  |g|= 8.39e-05  |ddm|= 0.00062\n",
      "  HOMO = -0.470014715741994  LUMO = 0.117422711744371\n",
      "cycle= 11 E= -358.701270383212  delta_E= -4.16e-09  |g|= 2.76e-05  |ddm|= 0.000189\n",
      "  HOMO = -0.470018382935327  LUMO = 0.117421290362071\n",
      "cycle= 12 E= -358.701270383614  delta_E= -4.03e-10  |g|= 1.04e-05  |ddm|= 4.6e-05\n",
      "  HOMO = -0.470018013000769  LUMO = 0.117421878411601\n",
      "Extra cycle  E= -358.701270383675  delta_E= -6.12e-11  |g|= 7.28e-06  |ddm|= 1.18e-05\n",
      "converged SCF energy = -358.701270383675\n",
      "TOTAL_ENERGY -358.7012703836754\n"
     ]
    }
   ],
   "source": [
    "com = qml.Compound(xyz='/home/misa/datasets/qm9/dsgdb9nsd_001212.xyz')\n",
    "total_elec = com.nuclear_charges.sum()\n",
    "num_elecs = [22, 30, 38, 44, 52]\n",
    "alchemical_potentials = []\n",
    "e_homo = []\n",
    "e_lumo = []\n",
    "\n",
    "for num_elec in num_elecs:\n",
    "    print(f'Calculating {num_elec}')\n",
    "    lam_val = num_elec/total_elec\n",
    "    # core_elec = com.nuclear_charges.sum() - total_num_ve\n",
    "\n",
    "    mol = pyscf.gto.Mole()\n",
    "    for ch, coords in zip(com.nuclear_charges, com.coordinates):\n",
    "        mol.atom.append([ch, coords])\n",
    "\n",
    "    mol.basis = 'def2-tzvp'\n",
    "    print(total_elec - num_elec)\n",
    "    mol.charge = total_elec - num_elec\n",
    "#     mol.nelectron = num_elec\n",
    "    mol.verbose = 4\n",
    "    mol.build()\n",
    "\n",
    "    method = \"HF\"\n",
    "    if method not in [\"CCSD\", \"HF\"]:\n",
    "        raise NotImplementedError(\"Method %s not supported.\" % method)\n",
    "\n",
    "    deltaZ = com.nuclear_charges*(1-lam_val)\n",
    "    includeonly = np.arange(len(mol.atom_coords()))\n",
    "\n",
    "\n",
    "    def add_qmmm(calc, mol, deltaZ):\n",
    "        mf = pyscf.qmmm.mm_charge(calc, mol.atom_coords()[includeonly]/ angstrom, deltaZ)\n",
    "\n",
    "        def energy_nuc(self):\n",
    "            q = mol.atom_charges().astype(np.float)\n",
    "            q[includeonly] += deltaZ\n",
    "            return mol.energy_nuc(q)\n",
    "\n",
    "        mf.energy_nuc = energy_nuc.__get__(mf, mf.__class__)\n",
    "\n",
    "        return mf\n",
    "\n",
    "    if method == \"HF\":\n",
    "        calc = add_qmmm(pyscf.scf.RHF(mol), mol, deltaZ)\n",
    "        hfe = calc.kernel(verbose=0)\n",
    "        dm1_ao = calc.make_rdm1()\n",
    "        total_energy = calc.e_tot\n",
    "    if method == \"CCSD\":\n",
    "        calc = add_qmmm(pyscf.scf.RHF(mol), mol, deltaZ)\n",
    "        hfe = calc.kernel(verbose=0)\n",
    "        mycc = pyscf.cc.CCSD(calc).run()\n",
    "        dm1 = mycc.make_rdm1()\n",
    "        dm1_ao = np.einsum(\"pi,ij,qj->pq\", calc.mo_coeff, dm1, calc.mo_coeff.conj())\n",
    "        total_energy = mycc.e_tot\n",
    "\n",
    "    # GRIDLESS, as things should be ############################\n",
    "    # Total energy of SCF run\n",
    "\n",
    "    print(\"TOTAL_ENERGY\", total_energy)\n",
    "\n",
    "    # Electronic EPN from electron density\n",
    "    alch_pot_tmp = []\n",
    "    for site in includeonly:\n",
    "        mol.set_rinv_orig_(mol.atom_coords()[site])\n",
    "#         print(\"ELECTRONIC_EPN\", site, np.matmul(dm1_ao, mol.intor(\"int1e_rinv\")).trace())\n",
    "        alch_pot_tmp.append(np.matmul(dm1_ao, mol.intor(\"int1e_rinv\")).trace())\n",
    "    alchemical_potentials.append(alch_pot_tmp)\n",
    "    \n",
    "    # energy of HOMO and LUMO\n",
    "    nocc = int((total_elec - mol.charge)/2)\n",
    "    e_homo.append(calc.mo_energy[nocc-1])\n",
    "    e_lumo.append(calc.mo_energy[nocc])"
   ]
  },
  {
   "cell_type": "code",
   "execution_count": 82,
   "metadata": {},
   "outputs": [
    {
     "data": {
      "text/plain": [
       "NPArrayWithTag([2., 1., 0., 0., 0., 0., 0., 0., 0., 0., 0., 0., 0., 0.])"
      ]
     },
     "execution_count": 82,
     "metadata": {},
     "output_type": "execute_result"
    }
   ],
   "source": [
    "calc.get_occ()"
   ]
  },
  {
   "cell_type": "code",
   "execution_count": null,
   "metadata": {},
   "outputs": [],
   "source": [
    "alchemical_potentials"
   ]
  },
  {
   "cell_type": "code",
   "execution_count": null,
   "metadata": {},
   "outputs": [],
   "source": [
    "e_homo"
   ]
  },
  {
   "cell_type": "code",
   "execution_count": null,
   "metadata": {},
   "outputs": [],
   "source": [
    "e_lumo"
   ]
  },
  {
   "cell_type": "code",
   "execution_count": null,
   "metadata": {},
   "outputs": [],
   "source": [
    "base = '/home/misa/APDFT/prototyping/atomic_energies/results/different_resevoir/pyscf/com_001212/'\n",
    "save_obj(alchemical_potentials, base+'alch_pots')\n",
    "save_obj(e_homo, base+'e_homo')\n",
    "save_obj(e_lumo, base+'e_lumo')"
   ]
  },
  {
   "cell_type": "markdown",
   "metadata": {},
   "source": [
    "### Plot results"
   ]
  },
  {
   "cell_type": "code",
   "execution_count": 67,
   "metadata": {},
   "outputs": [],
   "source": [
    "from matplotlib import pyplot as plt\n",
    "import numpy as np\n",
    "import scipy as sp\n",
    "import qml\n",
    "from ase.units import Bohr\n",
    "\n",
    "import sys\n",
    "sys.path.insert(0,'/home/misa/git_repositories/APDFT/prototyping/atomic_energies/')\n",
    "import alchemy_tools2 as at\n",
    "import utils_qm as ut"
   ]
  },
  {
   "cell_type": "code",
   "execution_count": 69,
   "metadata": {},
   "outputs": [],
   "source": [
    "# load data\n",
    "com = qml.Compound(xyz='/home/misa/datasets/qm9/dsgdb9nsd_001212.xyz')\n",
    "\n",
    "base = '/home/misa/APDFT/prototyping/atomic_energies/results/different_resevoir/pyscf/com_001212/'\n",
    "alchs = ut.load_obj(base+'alch_pots')\n",
    "alch_pots = np.array(alchs)\n",
    "alch_pots = np.concatenate((np.array([np.zeros(12)]), alch_pots))\n",
    "homos = ut.load_obj(base+'e_homo')\n",
    "homos.insert(0,0.0)\n",
    "homos = np.array(homos)\n",
    "\n",
    "lumos = ut.load_obj(base+'e_lumo')\n",
    "lumos.insert(0,0.0)\n",
    "lumos = np.array(lumos)\n",
    "\n",
    "lam_vals = np.array([0, 22, 30, 38, 44, 52])/52"
   ]
  },
  {
   "cell_type": "code",
   "execution_count": null,
   "metadata": {},
   "outputs": [],
   "source": [
    "# # for guido\n",
    "# np.savetxt('/home/misa/APDFT/prototyping/atomic_energies/results/different_resevoir/pyscf/com_001212/alch_pots.txt', alch_pots)\n",
    "# np.savetxt('/home/misa/APDFT/prototyping/atomic_energies/results/different_resevoir/pyscf/com_001212/e_homos.txt', homos)\n",
    "# np.savetxt('/home/misa/APDFT/prototyping/atomic_energies/results/different_resevoir/pyscf/com_001212/lam_vals.txt', lam_vals)"
   ]
  },
  {
   "cell_type": "markdown",
   "metadata": {},
   "source": [
    "### Calculation of atomic energies"
   ]
  },
  {
   "cell_type": "markdown",
   "metadata": {},
   "source": [
    "integrate $\\mu_I$ over lambda"
   ]
  },
  {
   "cell_type": "code",
   "execution_count": 70,
   "metadata": {},
   "outputs": [],
   "source": [
    "alch_pots_integrated = []\n",
    "for i in range(alch_pots.shape[1]):\n",
    "    alch_pots_integrated.append(np.trapz(alch_pots[:,i], x=lam_vals, axis=0))"
   ]
  },
  {
   "cell_type": "code",
   "execution_count": 71,
   "metadata": {},
   "outputs": [
    {
     "data": {
      "text/plain": [
       "[11.168975067718874,\n",
       " 12.778729741277402,\n",
       " 14.208595094759858,\n",
       " 15.110048524424798,\n",
       " 12.262530086247827,\n",
       " 11.622888392967564,\n",
       " 11.74960303099666,\n",
       " 5.387493461248392,\n",
       " 5.54044002867333,\n",
       " 5.540518135874408,\n",
       " 6.366716972681599,\n",
       " 6.366539524560403]"
      ]
     },
     "execution_count": 71,
     "metadata": {},
     "output_type": "execute_result"
    }
   ],
   "source": [
    "alch_pots_integrated"
   ]
  },
  {
   "cell_type": "markdown",
   "metadata": {},
   "source": [
    "multiply by nuclear charge"
   ]
  },
  {
   "cell_type": "code",
   "execution_count": 72,
   "metadata": {},
   "outputs": [],
   "source": [
    "atomic_energies_without_rep = -(alch_pots_integrated*com.nuclear_charges)"
   ]
  },
  {
   "cell_type": "code",
   "execution_count": 73,
   "metadata": {},
   "outputs": [
    {
     "data": {
      "text/plain": [
       "-632.996818022762"
      ]
     },
     "execution_count": 73,
     "metadata": {},
     "output_type": "execute_result"
    }
   ],
   "source": [
    "atomic_energies_without_rep.sum()"
   ]
  },
  {
   "cell_type": "markdown",
   "metadata": {},
   "source": [
    "subtract nuclear repulsion"
   ]
  },
  {
   "cell_type": "code",
   "execution_count": 74,
   "metadata": {},
   "outputs": [
    {
     "data": {
      "text/plain": [
       "array([28.69240698, 38.75272775, 37.98407444, 45.24721636, 35.22425798,\n",
       "       31.84765518, 27.58435185,  4.99136815,  5.15367162,  5.15365186,\n",
       "        5.9496209 ,  5.94944644])"
      ]
     },
     "execution_count": 74,
     "metadata": {},
     "output_type": "execute_result"
    }
   ],
   "source": [
    "nuc_rep_atomic = []\n",
    "for i in lam_vals:\n",
    "    nucs = i*com.nuclear_charges\n",
    "    nuc_rep_atomic.append(at.nuclear_repulsion(nucs, com.coordinates/Bohr))\n",
    "\n",
    "nuc_rep_atomic[-1]"
   ]
  },
  {
   "cell_type": "code",
   "execution_count": 76,
   "metadata": {},
   "outputs": [
    {
     "data": {
      "text/plain": [
       "-360.46636850108456"
      ]
     },
     "execution_count": 76,
     "metadata": {},
     "output_type": "execute_result"
    }
   ],
   "source": [
    "nuc_rep_atomic[-1].sum() + atomic_energies_without_rep.sum()"
   ]
  },
  {
   "cell_type": "code",
   "execution_count": 78,
   "metadata": {},
   "outputs": [],
   "source": [
    "homo = 52*np.trapz(homos, x=lam_vals, axis=0)\n",
    "lumo = 52*np.trapz(lumos, x=lam_vals, axis=0)"
   ]
  },
  {
   "cell_type": "code",
   "execution_count": 79,
   "metadata": {},
   "outputs": [
    {
     "data": {
      "text/plain": [
       "-367.21487070143155"
      ]
     },
     "execution_count": 79,
     "metadata": {},
     "output_type": "execute_result"
    }
   ],
   "source": [
    "nuc_rep_atomic[-1].sum() + atomic_energies_without_rep.sum() + (homo + lumo)/2"
   ]
  },
  {
   "cell_type": "code",
   "execution_count": null,
   "metadata": {},
   "outputs": [],
   "source": [
    "for alch, nuc_charge in alch_pots:"
   ]
  },
  {
   "cell_type": "markdown",
   "metadata": {},
   "source": [
    "calculation of $\\sum_I \\mu_I(\\lambda)$, $\\sum_I E_I(\\lambda)$ and $\\lambda$"
   ]
  },
  {
   "cell_type": "code",
   "execution_count": null,
   "metadata": {},
   "outputs": [],
   "source": [
    "com = qml.Compound(xyz='/home/misa/datasets/qm9/dsgdb9nsd_001212.xyz')\n",
    "total_elec = com.nuclear_charges.sum()\n",
    "\n",
    "alch_pots_sum = []\n",
    "atomic_energies_sum = []\n",
    "for i in alch_pots:\n",
    "    atomic_energies_sum.append((i*com.nuclear_charges).sum())\n",
    "    print((i*com.nuclear_charges).sum())\n",
    "    alch_pots_sum.append(i.sum())\n",
    "\n",
    "alch_pots_sum.insert(0,0.0)  \n",
    "atomic_energies_sum.insert(0,0.0) \n"
   ]
  },
  {
   "cell_type": "markdown",
   "metadata": {},
   "source": [
    "calculation of atomic nuclear repulsion at every lambda $E_{I, \\rm{NN}}(\\lambda)$ and atomic energy with repulsion"
   ]
  },
  {
   "cell_type": "code",
   "execution_count": null,
   "metadata": {},
   "outputs": [],
   "source": [
    "nuc_rep_atomic = []\n",
    "for i in lam_vals:\n",
    "    nucs = i*com.nuclear_charges\n",
    "    nuc_rep_atomic.append(at.nuclear_repulsion(nucs, com.coordinates/Bohr))"
   ]
  },
  {
   "cell_type": "code",
   "execution_count": null,
   "metadata": {},
   "outputs": [],
   "source": [
    "atomic_en_with_nuc_rep = []\n",
    "for alch, nuc_rep, nuc_charge in zip(alch_pots, nuc_rep_atomic):\n",
    "    atomic_minus_nu.append(alch-nuc)\n"
   ]
  },
  {
   "cell_type": "code",
   "execution_count": null,
   "metadata": {},
   "outputs": [],
   "source": [
    "sum_at = []\n",
    "for i in atomic_minus_nu:\n",
    "    sum_at.append(i.sum())"
   ]
  },
  {
   "cell_type": "code",
   "execution_count": null,
   "metadata": {},
   "outputs": [],
   "source": [
    "np.array(sum_at).sum()"
   ]
  },
  {
   "cell_type": "code",
   "execution_count": null,
   "metadata": {},
   "outputs": [],
   "source": [
    "np.trapz(sum_at, x=lam_vals, axis=0)"
   ]
  },
  {
   "cell_type": "code",
   "execution_count": null,
   "metadata": {
    "scrolled": true
   },
   "outputs": [],
   "source": [
    "fig, ax = plt.subplots(1,1)\n",
    "plt.rcParams['font.size'] = 18\n",
    "ax.plot(lam_vals, alch_pots_sum, '-o', label='$\\sum_I \\mu_I$')\n",
    "ax.plot(lam_vals, atomic_energies_sum, '-o', label='$\\sum_I Z_I \\mu_I$')\n",
    "\n",
    "ax.legend()\n",
    "ax.set_ylabel('$\\sum_I \\mathcal{P}_I$')\n",
    "ax.set_xlabel('$\\lambda$')\n",
    "# plt.savefig('/home/misa/projects/Atomic-Energies/figures/different_resevoir/com_001212_alch_pot_atomic_en.png', bbox_inches='tight')"
   ]
  },
  {
   "cell_type": "markdown",
   "metadata": {},
   "source": [
    "- Why is integral over not equal to total energy at lambda=1? Is the nuc-nuc repulsion included?\n",
    "What is the expression for $E(\\lambda)$, what is the integral over the whole path?\n",
    "- When/How to add e homo? For every lambda or only lambda = 1?\n",
    "- Are there still some bugs in the code?\n",
    "- Are the EPN's equal to the alchemical potential or the atomic energy?\n",
    "- Calculate some lower values for lambda?"
   ]
  },
  {
   "cell_type": "markdown",
   "metadata": {},
   "source": [
    "Plots vs $\\lambda$:\n",
    "- $E(\\lambda)$ \n",
    "- $\\sum_I \\mu_I(\\lambda)$\n",
    "- $\\sum_I E_I(\\lambda)$\n",
    "- $\\int_0^\\lambda E_I(\\lambda') d\\lambda'$"
   ]
  },
  {
   "cell_type": "code",
   "execution_count": null,
   "metadata": {},
   "outputs": [],
   "source": [
    "# com = qml.Compound(xyz='/home/misa/datasets/qm9/dsgdb9nsd_001212.xyz')\n",
    "# total_elec = com.nuclear_charges.sum()\n",
    "# total_num_ve = 38\n",
    "# num_ves = [8, 16, 24, 30, 38]\n",
    "# alchemical_potentials = []\n",
    "# e_homo = []\n",
    "# e_lumo = []\n",
    "\n",
    "# for num_ve in num_ves:\n",
    "#     print(f'Calculating {num_ve}')\n",
    "#     lam_val = num_ve/total_num_ve\n",
    "#     # core_elec = com.nuclear_charges.sum() - total_num_ve\n",
    "\n",
    "#     mol = pyscf.gto.Mole()\n",
    "#     for ch, coords in zip(com.nuclear_charges, com.coordinates):\n",
    "#         mol.atom.append([ch, coords])\n",
    "\n",
    "#     mol.basis = 'def2-tzvp'\n",
    "#     mol.charge = total_num_ve - num_ve\n",
    "#     mol.verbose = 0\n",
    "#     mol.build()\n",
    "\n",
    "#     method = \"HF\"\n",
    "#     if method not in [\"CCSD\", \"HF\"]:\n",
    "#         raise NotImplementedError(\"Method %s not supported.\" % method)\n",
    "\n",
    "#     deltaZ = -com.nuclear_charges*(1-lam_val)\n",
    "#     includeonly = np.arange(len(mol.atom_coords()))\n",
    "\n",
    "\n",
    "#     def add_qmmm(calc, mol, deltaZ):\n",
    "#         mf = pyscf.qmmm.mm_charge(calc, mol.atom_coords()[includeonly]/ angstrom, deltaZ)\n",
    "\n",
    "#         def energy_nuc(self):\n",
    "#             q = mol.atom_charges().astype(np.float)\n",
    "#             q[includeonly] += deltaZ\n",
    "#             return mol.energy_nuc(q)\n",
    "\n",
    "#         mf.energy_nuc = energy_nuc.__get__(mf, mf.__class__)\n",
    "\n",
    "#         return mf\n",
    "\n",
    "#     if method == \"HF\":\n",
    "#         calc = add_qmmm(pyscf.scf.RHF(mol), mol, deltaZ)\n",
    "#         hfe = calc.kernel(verbose=0)\n",
    "#         dm1_ao = calc.make_rdm1()\n",
    "#         total_energy = calc.e_tot\n",
    "#     if method == \"CCSD\":\n",
    "#         calc = add_qmmm(pyscf.scf.RHF(mol), mol, deltaZ)\n",
    "#         hfe = calc.kernel(verbose=0)\n",
    "#         mycc = pyscf.cc.CCSD(calc).run()\n",
    "#         dm1 = mycc.make_rdm1()\n",
    "#         dm1_ao = np.einsum(\"pi,ij,qj->pq\", calc.mo_coeff, dm1, calc.mo_coeff.conj())\n",
    "#         total_energy = mycc.e_tot\n",
    "\n",
    "#     # GRIDLESS, as things should be ############################\n",
    "#     # Total energy of SCF run\n",
    "\n",
    "#     print(\"TOTAL_ENERGY\", total_energy)\n",
    "\n",
    "#     # Electronic EPN from electron density\n",
    "#     alch_pot_tmp = []\n",
    "#     for site in includeonly:\n",
    "#         mol.set_rinv_orig_(mol.atom_coords()[site])\n",
    "# #         print(\"ELECTRONIC_EPN\", site, np.matmul(dm1_ao, mol.intor(\"int1e_rinv\")).trace())\n",
    "#         alch_pot_tmp.append(np.matmul(dm1_ao, mol.intor(\"int1e_rinv\")).trace())\n",
    "#     alchemical_potentials.append(alch_pot_tmp)\n",
    "    \n",
    "#     # energy of HOMO and LUMO\n",
    "#     nocc = int((total_elec - mol.charge)/2)\n",
    "#     e_homo.append(calc.mo_energy[nocc-1])\n",
    "#     e_lumo.append(calc.mo_energy[nocc])"
   ]
  },
  {
   "cell_type": "markdown",
   "metadata": {},
   "source": [
    "### Test N2 from alchemy"
   ]
  },
  {
   "cell_type": "markdown",
   "metadata": {},
   "source": [
    "- why is mean of lumo, homo better?\n",
    "- how good are atomisation energies? (error canceling)\n",
    "- how to calcs for unpaired electrons?"
   ]
  },
  {
   "cell_type": "code",
   "execution_count": 1,
   "metadata": {},
   "outputs": [],
   "source": [
    "import numpy as np\n",
    "import scipy as sc\n",
    "import numpy\n",
    "import pyscf\n",
    "import pyscf.gto\n",
    "import pyscf.qmmm\n",
    "import pyscf.scf\n",
    "import pyscf.dft\n",
    "import pyscf.lib\n",
    "from pyscf.data import nist\n",
    "import qml\n",
    "\n",
    "angstrom = 1 / 0.52917721067"
   ]
  },
  {
   "cell_type": "code",
   "execution_count": 54,
   "metadata": {},
   "outputs": [],
   "source": [
    "def N2_diatomics():\n",
    "    el = ['H', 'He', 'Li', 'Be', 'B', 'C', 'N']\n",
    "    energies = []\n",
    "    alchemical_potentials = []\n",
    "    e_homos = []\n",
    "    e_lumos = []\n",
    "    for e in el:\n",
    "        mol = pyscf.gto.Mole()\n",
    "        mol.atom = f'{e} 0 0 0; {e} 0 0 1.5'\n",
    "        mol.basis = 'def2-tzvp'\n",
    "        mol.verbose = 0\n",
    "        mol.build()\n",
    "        calc = pyscf.scf.RHF(mol)\n",
    "        calc.kernel()\n",
    "        energies.append(calc.e_tot)\n",
    "        dm1_ao = calc.make_rdm1()\n",
    "        # get alchemical potential\n",
    "        # Electronic EPN from electron density\n",
    "        alch_pot_tmp = []\n",
    "        for site in [0,1]:\n",
    "            mol.set_rinv_orig_(mol.atom_coords()[site])\n",
    "    #         print(\"ELECTRONIC_EPN\", site, np.matmul(dm1_ao, mol.intor(\"int1e_rinv\")).trace())\n",
    "            alch_pot_tmp.append(np.matmul(dm1_ao, mol.intor(\"int1e_rinv\")).trace())\n",
    "        alchemical_potentials.append(alch_pot_tmp)\n",
    "\n",
    "        # get ehomo\n",
    "        idx_homo = np.where(calc.get_occ()>0)[0][-1]\n",
    "        idx_lumo = idx_homo + 1\n",
    "        calc.mo_energy.sort()\n",
    "        e_homos.append(calc.mo_energy[idx_homo])\n",
    "        e_lumos.append(calc.mo_energy[idx_lumo])\n",
    "        \n",
    "    alchemical_potentials.insert(0, [0.0, 0.0])\n",
    "    alchemical_potentials = np.array(alchemical_potentials)*(-1)\n",
    "    e_homos.insert(0, 0)\n",
    "    e_homos = np.array(e_homos)\n",
    "    e_lumos.insert(0, 0)\n",
    "    e_lumos = np.array(e_lumos)\n",
    "    \n",
    "    return(alchemical_potentials, e_homos, e_lumos, calc.energy_nuc())\n",
    "\n",
    "def N_atoms():\n",
    "    el = ['H', 'He', 'Li', 'Be', 'B', 'C', 'N']\n",
    "    energies = []\n",
    "    alchemical_potentials = []\n",
    "    e_homos = []\n",
    "    e_lumos = []\n",
    "    for e, Z in zip(el, np.arange(1,8)):\n",
    "        mol = pyscf.gto.Mole()\n",
    "        mol.atom = f'{e} 0 0 0'\n",
    "        mol.basis = 'def2-tzvp'\n",
    "        mol.verbose = 0\n",
    "        mol.spin = Z%2\n",
    "        mol.build()\n",
    "        calc = pyscf.scf.RHF(mol)\n",
    "        calc.kernel()\n",
    "        energies.append(calc.e_tot)\n",
    "        dm1_ao = calc.make_rdm1()\n",
    "        # get alchemical potential\n",
    "        # Electronic EPN from electron density\n",
    "        alch_pot_tmp = []\n",
    "        for site in [0]:\n",
    "            mol.set_rinv_orig_(mol.atom_coords()[site])\n",
    "    #         print(\"ELECTRONIC_EPN\", site, np.matmul(dm1_ao, mol.intor(\"int1e_rinv\")).trace())\n",
    "            alch_pot_tmp.append(np.matmul(dm1_ao, mol.intor(\"int1e_rinv\")).trace())\n",
    "        alchemical_potentials.append(alch_pot_tmp)\n",
    "\n",
    "        # get ehomo\n",
    "        idx_homo = np.where(calc.get_occ()>0)[0][-1]\n",
    "        idx_lumo = idx_homo + 1\n",
    "        calc.mo_energy.sort()\n",
    "        e_homos.append(calc.mo_energy[idx_homo])\n",
    "        e_lumos.append(calc.mo_energy[idx_lumo])\n",
    "        \n",
    "    alchemical_potentials.insert(0, [0.0, 0.0])\n",
    "    alchemical_potentials = np.array(alchemical_potentials)*(-1)\n",
    "    e_homos.insert(0, 0)\n",
    "    e_homos = np.array(e_homos)\n",
    "    e_lumos.insert(0, 0)\n",
    "    e_lumos = np.array(e_lumos)\n",
    "    \n",
    "    return(alchemical_potentials, e_homos, e_lumos, calc.energy_nuc())\n",
    "\n",
    "def N2_APDFT():\n",
    "    total_elec = 14\n",
    "    # num_elecs = np.arange(15)\n",
    "    num_elecs = [2, 4, 6, 8, 10, 12, 14]\n",
    "\n",
    "    alchemical_potentials = []\n",
    "    e_homos = []\n",
    "    e_lumos = []\n",
    "\n",
    "    for num_elec in num_elecs:\n",
    "        lam_val = num_elec/total_elec\n",
    "\n",
    "        mol = pyscf.gto.Mole()\n",
    "        mol.atom = 'N 0 0 0; N 0 0 1.5'\n",
    "        mol.basis = 'def2-tzvp'\n",
    "        print(total_elec - num_elec)\n",
    "        mol.charge = total_elec - num_elec\n",
    "#         mol.spin = num_elec%2\n",
    "        mol.verbose = 0\n",
    "        mol.build()\n",
    "\n",
    "        method = \"HF\"\n",
    "        if method not in [\"CCSD\", \"HF\"]:\n",
    "            raise NotImplementedError(\"Method %s not supported.\" % method)\n",
    "\n",
    "        deltaZ = [-mol.charge/2, -mol.charge/2]\n",
    "        includeonly = np.arange(len(mol.atom_coords()))\n",
    "\n",
    "\n",
    "        def add_qmmm(calc, mol, deltaZ):\n",
    "            mf = pyscf.qmmm.mm_charge(calc, mol.atom_coords()[includeonly]/ angstrom, deltaZ)\n",
    "\n",
    "            def energy_nuc(self):\n",
    "                q = mol.atom_charges().astype(np.float)\n",
    "                q[includeonly] += deltaZ\n",
    "                return mol.energy_nuc(q)\n",
    "\n",
    "            mf.energy_nuc = energy_nuc.__get__(mf, mf.__class__)\n",
    "\n",
    "            return mf\n",
    "\n",
    "        if method == \"HF\":\n",
    "            calc = add_qmmm(pyscf.scf.RHF(mol), mol, deltaZ)\n",
    "            hfe = calc.kernel(verbose=0)\n",
    "            dm1_ao = calc.make_rdm1()\n",
    "            total_energy = calc.e_tot\n",
    "        if method == \"CCSD\":\n",
    "            calc = add_qmmm(pyscf.scf.RHF(mol), mol, deltaZ)\n",
    "            hfe = calc.kernel(verbose=0)\n",
    "            mycc = pyscf.cc.CCSD(calc).run()\n",
    "            dm1 = mycc.make_rdm1()\n",
    "            dm1_ao = np.einsum(\"pi,ij,qj->pq\", calc.mo_coeff, dm1, calc.mo_coeff.conj())\n",
    "            total_energy = mycc.e_tot\n",
    "\n",
    "        # GRIDLESS, as things should be ############################\n",
    "        # Total energy of SCF run\n",
    "\n",
    "        print(\"TOTAL_ENERGY\", total_energy)\n",
    "\n",
    "        # Electronic EPN from electron density\n",
    "        alch_pot_tmp = []\n",
    "        for site in includeonly:\n",
    "            mol.set_rinv_orig_(mol.atom_coords()[site])\n",
    "    #         print(\"ELECTRONIC_EPN\", site, np.matmul(dm1_ao, mol.intor(\"int1e_rinv\")).trace())\n",
    "            alch_pot_tmp.append(np.matmul(dm1_ao, mol.intor(\"int1e_rinv\")).trace())\n",
    "        alchemical_potentials.append(alch_pot_tmp)\n",
    "\n",
    "        # energy of HOMO and LUMO\n",
    "        nocc = int((total_elec - mol.charge)/2)\n",
    "        e_homos.append(calc.mo_energy[nocc-1])\n",
    "        e_lumos.append(calc.mo_energy[nocc])\n",
    "        \n",
    "    alchemical_potentials.insert(0, [0.0, 0.0])\n",
    "    alchemical_potentials = np.array(alchemical_potentials)*(-1)\n",
    "    e_homos.insert(0, 0)\n",
    "    e_homos = np.array(e_homos)\n",
    "    e_lumos.insert(0, 0)\n",
    "    e_lumos = np.array(e_lumos)\n",
    "        \n",
    "    return(alchemical_potentials, e_homos, e_lumos, calc.energy_nuc())\n",
    "    \n",
    "def get_atomic_energy(lam_vals, alchemical_potentials, nuc_rep, e_homos, dZ, dN):\n",
    "    mu_I = np.trapz(alchemical_potentials, lam_vals)\n",
    "    e_homo = np.trapz(e_homos, lam_vals)\n",
    "    \n",
    "    return(mu_I * dZ + e_homo*dN + nuc_rep)"
   ]
  },
  {
   "cell_type": "markdown",
   "metadata": {},
   "source": [
    "### Referenz calculation"
   ]
  },
  {
   "cell_type": "code",
   "execution_count": 44,
   "metadata": {},
   "outputs": [
    {
     "name": "stdout",
     "output_type": "stream",
     "text": [
      "converged SCF energy = -108.706811596033\n"
     ]
    }
   ],
   "source": [
    "mol = pyscf.gto.Mole()\n",
    "mol.atom = 'N 0 0 0; N 0 0 1.5'\n",
    "mol.basis = 'def2-tzvp'\n",
    "mol.build()\n",
    "m = pyscf.scf.RHF(mol)\n",
    "m.kernel()\n",
    "e_ref = m.e_tot"
   ]
  },
  {
   "cell_type": "markdown",
   "metadata": {},
   "source": [
    "### N$_2$ from diatomics"
   ]
  },
  {
   "cell_type": "code",
   "execution_count": 24,
   "metadata": {},
   "outputs": [],
   "source": [
    "alchemical_pots, ehomos, elumos, e_nuc = N2_diatomics()"
   ]
  },
  {
   "cell_type": "code",
   "execution_count": 46,
   "metadata": {},
   "outputs": [
    {
     "name": "stdout",
     "output_type": "stream",
     "text": [
      "energy using homo = -112.26711496349947, delta E_ref = -3.5603033674666307\n",
      "energy using lumo = -105.41372728907514, delta E_ref = 3.293084306957695\n",
      "energy using mean of homo and lumo = -108.84042112628731, delta E_ref = -0.13360953025447486\n"
     ]
    }
   ],
   "source": [
    "lam_vals = np.arange(8)*2/14\n",
    "\n",
    "e_from_homo = get_atomic_energy(lam_vals, alchemical_pots[:,0], e_nuc/2, ehomos, 7, 7)*2\n",
    "e_from_lumo = get_atomic_energy(lam_vals, alchemical_pots[:,0], e_nuc/2, elumos, 7, 7)*2\n",
    "\n",
    "mean = (e_from_homo + e_from_lumo)/2\n",
    "\n",
    "print(f'energy using homo = {e_from_homo}, delta E_ref = {e_from_homo - e_ref}')\n",
    "print(f'energy using lumo = {e_from_lumo}, delta E_ref = {e_from_lumo - e_ref}')\n",
    "print(f'energy using mean of homo and lumo = {mean}, delta E_ref = {mean - e_ref}')"
   ]
  },
  {
   "cell_type": "markdown",
   "metadata": {},
   "source": [
    "### N$_2$ from diatomics with APDFT implementation"
   ]
  },
  {
   "cell_type": "code",
   "execution_count": 37,
   "metadata": {},
   "outputs": [
    {
     "name": "stdout",
     "output_type": "stream",
     "text": [
      "12\n",
      "TOTAL_ENERGY -1.0011014198648525\n",
      "10\n",
      "TOTAL_ENERGY -5.6285244596173225\n",
      "8\n",
      "TOTAL_ENERGY -14.393211474040479\n",
      "6\n",
      "TOTAL_ENERGY -28.563023109075985\n",
      "4\n",
      "TOTAL_ENERGY -48.756212814630295\n",
      "2\n",
      "TOTAL_ENERGY -75.26768502575823\n",
      "0\n",
      "TOTAL_ENERGY -108.70681159603274\n"
     ]
    }
   ],
   "source": [
    "alchemical_pots2, ehomos2, elumos2, e_nuc2 = N2_APDFT()"
   ]
  },
  {
   "cell_type": "code",
   "execution_count": 47,
   "metadata": {},
   "outputs": [
    {
     "name": "stdout",
     "output_type": "stream",
     "text": [
      "energy using homo = -112.49942186758364, delta E_ref = -3.7926102715507994\n",
      "energy using lumo = -106.63758746154318, delta E_ref = 2.0692241344896587\n",
      "energy using mean of homo and lumo = -109.5685046645634, delta E_ref = -0.8616930685305704\n"
     ]
    }
   ],
   "source": [
    "lam_vals = np.arange(8)*2/14\n",
    "e_from_homo2 = get_atomic_energy(lam_vals, alchemical_pots2[:,0], e_nuc2/2, ehomos2, 7, 7)*2\n",
    "e_from_lumo2 = get_atomic_energy(lam_vals, alchemical_pots2[:,0], e_nuc2/2, elumos2, 7, 7)*2\n",
    "mean2 = (e_from_homo2 + e_from_lumo2)/2\n",
    "\n",
    "print(f'energy using homo = {e_from_homo2}, delta E_ref = {e_from_homo2 - e_ref}')\n",
    "print(f'energy using lumo = {e_from_lumo2}, delta E_ref = {e_from_lumo2 - e_ref}')\n",
    "print(f'energy using mean of homo and lumo = {mean2}, delta E_ref = {mean2 - e_ref}')"
   ]
  },
  {
   "cell_type": "markdown",
   "metadata": {},
   "source": [
    "### Atomisation energy"
   ]
  },
  {
   "cell_type": "code",
   "execution_count": 55,
   "metadata": {},
   "outputs": [
    {
     "name": "stderr",
     "output_type": "stream",
     "text": [
      "/home/misa/anaconda3/envs/atomic-energies/lib/python3.7/site-packages/pyscf/gto/mole.py:1047: UserWarning: Function mol.dumps drops attribute spin because it is not JSON-serializable\n",
      "  warnings.warn(msg)\n"
     ]
    },
    {
     "data": {
      "text/plain": [
       "(array([list([]), list([]), list([]), list([]), list([]), list([]),\n",
       "        list([]), list([])], dtype=object),\n",
       " array([ 0.        , -0.49980983, -0.91687015, -0.07925089, -0.30920635,\n",
       "        -0.08587755, -0.35719238, -0.2026544 ]),\n",
       " array([0.        , 0.02708109, 0.82957977, 0.07829559, 0.05813838,\n",
       "        0.04628395, 0.03382565, 0.02177696]),\n",
       " 0)"
      ]
     },
     "execution_count": 55,
     "metadata": {},
     "output_type": "execute_result"
    }
   ],
   "source": []
  },
  {
   "cell_type": "code",
   "execution_count": 65,
   "metadata": {},
   "outputs": [],
   "source": [
    "el = ['H', 'He', 'Li', 'Be', 'B', 'C', 'N']\n",
    "energies = []\n",
    "alchemical_potentials = []\n",
    "e_homos = []\n",
    "e_lumos = []\n",
    "\n",
    "mol = pyscf.gto.Mole()\n",
    "mol.atom = f'li 0 0 0'\n",
    "mol.basis = 'def2-tzvp'\n",
    "mol.verbose = 0\n",
    "mol.spin = 1\n",
    "mol.build()\n",
    "calc = pyscf.scf.RHF(mol)\n",
    "calc.kernel()\n",
    "energies.append(calc.e_tot)\n",
    "dm1_ao = calc.make_rdm1()\n",
    "# get alchemical potential\n",
    "# Electronic EPN from electron density\n",
    "alch_pot_tmp = []\n",
    "mol.set_rinv_orig_(mol.atom_coords()[0])\n",
    "#         print(\"ELECTRONIC_EPN\", site, np.matmul(dm1_ao, mol.intor(\"int1e_rinv\")).trace())\n",
    "alch_pot_tmp.append(np.matmul(dm1_ao, mol.intor(\"int1e_rinv\")).trace())\n",
    "\n",
    "# get ehomo\n",
    "idx_homo = np.where(calc.get_occ()>0)[0][-1]\n",
    "idx_lumo = idx_homo + 1\n",
    "calc.mo_energy.sort()\n",
    "e_homos.append(calc.mo_energy[idx_homo])\n",
    "e_lumos.append(calc.mo_energy[idx_lumo])"
   ]
  },
  {
   "cell_type": "code",
   "execution_count": 66,
   "metadata": {},
   "outputs": [
    {
     "data": {
      "text/plain": [
       "[array([3.04307909, 2.15391106, 1.24098971, 0.3789949 , 0.18517513,\n",
       "        0.        , 0.        , 0.        , 0.        , 0.        ,\n",
       "        0.        , 0.        , 0.        , 0.        ])]"
      ]
     },
     "execution_count": 66,
     "metadata": {},
     "output_type": "execute_result"
    }
   ],
   "source": [
    "alch_pot_tmp"
   ]
  }
 ],
 "metadata": {
  "kernelspec": {
   "display_name": "Python [conda env:atomic-energies]",
   "language": "python",
   "name": "conda-env-atomic-energies-py"
  },
  "language_info": {
   "codemirror_mode": {
    "name": "ipython",
    "version": 3
   },
   "file_extension": ".py",
   "mimetype": "text/x-python",
   "name": "python",
   "nbconvert_exporter": "python",
   "pygments_lexer": "ipython3",
   "version": "3.7.3"
  }
 },
 "nbformat": 4,
 "nbformat_minor": 2
}
