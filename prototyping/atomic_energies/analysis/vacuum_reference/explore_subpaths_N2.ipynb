{
 "cells": [
  {
   "cell_type": "markdown",
   "metadata": {},
   "source": [
    "### Test N2 from alchemy"
   ]
  },
  {
   "cell_type": "markdown",
   "metadata": {},
   "source": [
    "##### Calculate path H$_2$ $\\rightarrow$ N$_2$, since then $\\epsilon_{\\text{h}}$ always well defined\n",
    "\n",
    "$\\Delta E$ (H$_2$ $\\rightarrow$ N$_2$) = -110.39\n",
    "\n",
    "$\\Delta E_{\\rm{ref}}$ = -107.71\n",
    "\n",
    "$\\Delta E (\\rm{H}_2 \\rightarrow \\rm{N}_2)- \\Delta E_{\\rm{ref}}$ = -2.69\n",
    "\n",
    "deviation from reference value somewhat smaller than for vac $\\rightarrow$ N$_2$ (-3.14 Ha), but could also be because the path is shorter\n",
    "\n",
    "##### What is the error for integration between adjacent elements?\n",
    "around 400mHa for everyting except for intervals involving He2\n",
    "largest error for intervals involving He2 \n",
    "sudden change in e_homo from He2 to Li2 probably not main problem because for H2$\\rightarrow$He2 large error as well although change in e_homo very smooth\n",
    "\n",
    "e_homo is not the main issue"
   ]
  },
  {
   "cell_type": "markdown",
   "metadata": {},
   "source": [
    "#### difference between two different alchemical energies\n",
    "Error drastically reduced (-0.5 Ha instead of -3.14 Ha)\n",
    "\n",
    "look at error per step (vac H2 the largest because no canceling of wrong dissociation behaviour?)"
   ]
  },
  {
   "cell_type": "markdown",
   "metadata": {},
   "source": [
    "#### SI\n",
    "integration by trapezoidal rule\n",
    "\n",
    "$\\Delta E$ (H$_2$ $\\rightarrow$ N$_2$) = -110.56\n",
    "\n",
    "$\\Delta E (\\rm{H}_2 \\rightarrow \\rm{N}_2)- \\Delta E_{\\rm{ref}}$ = -2.85"
   ]
  },
  {
   "cell_type": "code",
   "execution_count": 1,
   "metadata": {},
   "outputs": [],
   "source": [
    "import numpy as np\n",
    "import scipy as sc\n",
    "import numpy\n",
    "import pyscf\n",
    "import pyscf.gto\n",
    "import pyscf.qmmm\n",
    "import pyscf.scf\n",
    "import pyscf.dft\n",
    "import pyscf.lib\n",
    "from pyscf.data import nist\n",
    "import qml\n",
    "from matplotlib import pyplot as plt\n",
    "from IPython.display import display, Markdown\n",
    "\n",
    "\n",
    "angstrom = 1 / 0.52917721067"
   ]
  },
  {
   "cell_type": "code",
   "execution_count": 2,
   "metadata": {},
   "outputs": [],
   "source": [
    "def generate_mol(el, d, basis, total_elec, num_elec):\n",
    "    mol = pyscf.gto.Mole()\n",
    "    mol.atom = f'{el} 0 0 0; {el} 0 0 {d}'\n",
    "    mol.basis = basis\n",
    "    mol.charge = total_elec - num_elec\n",
    "    mol.verbose = 0\n",
    "    mol.build()\n",
    "    return(mol)\n",
    "\n",
    "def pyscf_APDFT(mol, total_elec):\n",
    "    method = \"HF\"\n",
    "    if method not in [\"CCSD\", \"HF\"]:\n",
    "        raise NotImplementedError(\"Method %s not supported.\" % method)\n",
    "\n",
    "    deltaZ = [-mol.charge/2, -mol.charge/2]\n",
    "    includeonly = np.arange(len(mol.atom_coords()))\n",
    "\n",
    "    def add_qmmm(calc, mol, deltaZ):\n",
    "        mf = pyscf.qmmm.mm_charge(calc, mol.atom_coords()[includeonly]/ angstrom, deltaZ)\n",
    "\n",
    "        def energy_nuc(self):\n",
    "            q = mol.atom_charges().astype(np.float)\n",
    "            q[includeonly] += deltaZ\n",
    "            return mol.energy_nuc(q)\n",
    "\n",
    "        mf.energy_nuc = energy_nuc.__get__(mf, mf.__class__)\n",
    "\n",
    "        return mf\n",
    "\n",
    "    if method == \"HF\":\n",
    "        calc = add_qmmm(pyscf.scf.RHF(mol), mol, deltaZ)\n",
    "        hfe = calc.kernel(verbose=0)\n",
    "        dm1_ao = calc.make_rdm1()\n",
    "        total_energy = calc.e_tot\n",
    "    if method == \"CCSD\":\n",
    "        calc = add_qmmm(pyscf.scf.RHF(mol), mol, deltaZ)\n",
    "        hfe = calc.kernel(verbose=0)\n",
    "        mycc = pyscf.cc.CCSD(calc).run()\n",
    "        dm1 = mycc.make_rdm1()\n",
    "        dm1_ao = np.einsum(\"pi,ij,qj->pq\", calc.mo_coeff, dm1, calc.mo_coeff.conj())\n",
    "        total_energy = mycc.e_tot\n",
    "\n",
    "    # GRIDLESS, as things should be ############################\n",
    "    # Total energy of SCF run\n",
    "\n",
    "#     print(\"TOTAL_ENERGY\", total_energy)\n",
    "\n",
    "    # Electronic EPN from electron density\n",
    "    alchemical_potentials = []\n",
    "    for site in includeonly:\n",
    "        mol.set_rinv_orig_(mol.atom_coords()[site])\n",
    "#         print(\"ELECTRONIC_EPN\", site, np.matmul(dm1_ao, mol.intor(\"int1e_rinv\")).trace())\n",
    "        alchemical_potentials.append(np.matmul(dm1_ao, mol.intor(\"int1e_rinv\")).trace())\n",
    "\n",
    "    # energy of HOMO and LUMO\n",
    "    nocc = int((total_elec - mol.charge)/2)\n",
    "    e_homo = calc.mo_energy[nocc-1]\n",
    "    e_lumo = calc.mo_energy[nocc]\n",
    "\n",
    "    return(alchemical_potentials, e_homo, e_lumo, calc.energy_nuc())\n",
    "\n",
    "def sample_path(num_elecs, element, distance, basis, total_nelec):\n",
    "    alchemical_potentials = []\n",
    "    e_homos = []\n",
    "    e_lumos = []\n",
    "    e_nucs = []\n",
    "\n",
    "    for num_elec in num_elecs:\n",
    "        mol = generate_mol(element, distance, basis, total_nelec, num_elec)\n",
    "        alchpot, ehomo, elumo, enuc = pyscf_APDFT(mol, total_nelec)\n",
    "        alchemical_potentials.append(alchpot)\n",
    "        e_homos.append(ehomo)\n",
    "        e_lumos.append(elumo)\n",
    "        e_nucs.append(enuc)\n",
    "    alchemical_potentials = -1*np.array(alchemical_potentials)\n",
    "    e_homos = np.array(e_homos)\n",
    "    e_lumos = np.array(e_lumos)\n",
    "    e_nucs = np.array(e_nucs)\n",
    "    return(alchemical_potentials, e_homos, e_lumos, e_nucs)\n",
    "\n",
    "def get_energy(lam_vals, alchemical_potentials, nuc_rep, e_homos, dZ, dN, int_rule = 'simp'):\n",
    "    if int_rule == 'simp':\n",
    "        mu_I = sc.integrate.simps(alchemical_potentials, lam_vals)\n",
    "    elif int_rule == 'trapz':\n",
    "        mu_I = np.trapz(alchemical_potentials, lam_vals)\n",
    "    e_homo = np.trapz(e_homos, lam_vals)\n",
    "    \n",
    "    return(2*mu_I * dZ + e_homo*dN + nuc_rep)\n",
    "\n",
    "def get_lam_vals(num_elecs):\n",
    "    return(1/(num_elecs[-1]-num_elecs[0])*num_elecs - num_elecs[0]/(num_elecs[-1]-num_elecs[0]))\n"
   ]
  },
  {
   "cell_type": "markdown",
   "metadata": {},
   "source": [
    "### Referenz calculations:  H$_2$, N$_2$"
   ]
  },
  {
   "cell_type": "code",
   "execution_count": 3,
   "metadata": {},
   "outputs": [],
   "source": [
    "def ref_hf(el, d, basis = 'def2-qzvp'):\n",
    "    mol = pyscf.gto.Mole()\n",
    "    mol.atom = f'{el} 0 0 0; {el} 0 0 {d}'\n",
    "    mol.basis = basis\n",
    "    mol.build()\n",
    "    m = pyscf.scf.RHF(mol)\n",
    "    m.kernel()\n",
    "    e_ref_qzvp = m.e_tot\n",
    "    return(e_ref_qzvp)\n",
    "\n",
    "def get_ref_dict(d, basis = 'def2-qzvp'):\n",
    "    eref_dict = {'vac':0, 'H2':0, 'He2':0, 'Li2':0, 'Be2':0, 'B2':0, 'C2':0, 'N2':0}\n",
    "\n",
    "    for k in eref_dict.keys():\n",
    "        if k != 'vac':\n",
    "            eref_dict[k] = ref_hf(k.strip('2'), d, basis = basis)\n",
    "    return(eref_dict)"
   ]
  },
  {
   "cell_type": "code",
   "execution_count": null,
   "metadata": {},
   "outputs": [],
   "source": [
    "eref_d1p5 = get_ref_dict(1.5)"
   ]
  },
  {
   "cell_type": "code",
   "execution_count": null,
   "metadata": {},
   "outputs": [],
   "source": [
    "eref_d10 = get_ref_dict(10.0)"
   ]
  },
  {
   "cell_type": "code",
   "execution_count": 4,
   "metadata": {},
   "outputs": [
    {
     "name": "stdout",
     "output_type": "stream",
     "text": [
      "converged SCF energy = -1.00484447618229\n",
      "converged SCF energy = -108.711062429174\n",
      "converged SCF energy = -0.74100524112954\n",
      "converged SCF energy = -107.782256769781\n"
     ]
    }
   ],
   "source": [
    "eref_H2 = ref_hf('H', 1.5)\n",
    "eref_N2 = ref_hf('N', 1.5)\n",
    "eref_H2_d10 = ref_hf('H', 10.0)\n",
    "eref_N2_d10 = ref_hf('N', 10.0)"
   ]
  },
  {
   "cell_type": "markdown",
   "metadata": {},
   "source": [
    "#### H$_2$ $\\rightarrow$ N$_2$"
   ]
  },
  {
   "cell_type": "code",
   "execution_count": null,
   "metadata": {},
   "outputs": [],
   "source": [
    "element = 'N'\n",
    "distance = 1.5\n",
    "basis = 'def2-qzvp'\n",
    "total_nelec = 14\n",
    "num_elecs = np.array([2, 4, 6, 8, 10, 12, 14])\n",
    "lam_vals = 1/(num_elecs[-1]-num_elecs[0])*num_elecs - num_elecs[0]/(num_elecs[-1]-num_elecs[0])\n",
    "alchemical_potentials, e_homos, e_lumos, e_nucs = sample_path(num_elecs, element, distance, basis, total_nelec)\n",
    "e_H2N_simp = get_energy(lam_vals, alchemical_potentials[:,0], e_nucs[-1], e_homos, 6, 12)\n",
    "e_H2N_trapz = get_energy(lam_vals, alchemical_potentials[:,0], e_nucs[-1], e_homos, 6, 12, 'trapz')"
   ]
  },
  {
   "cell_type": "code",
   "execution_count": null,
   "metadata": {},
   "outputs": [],
   "source": [
    "e_homos = np.concatenate((np.zeros(1), e_homos))"
   ]
  },
  {
   "cell_type": "code",
   "execution_count": null,
   "metadata": {},
   "outputs": [],
   "source": [
    "\n",
    "fig, ax = plt.subplots(1,1)\n",
    "\n",
    "ax.plot(np.arange(0, 16, 2), e_homos, '-o')"
   ]
  },
  {
   "cell_type": "code",
   "execution_count": null,
   "metadata": {},
   "outputs": [],
   "source": [
    "print('integration by trapezoidal rule')\n",
    "display(Markdown(r'$\\Delta E$ (H$_2$ $\\rightarrow$ N$_2$) = ' + str(e_H2N_trapz)))\n",
    "display(Markdown(r'$\\Delta E_{\\rm{ref}}$ = ' + str(eref_N2 - eref_H2)))\n",
    "display(Markdown(r'$\\Delta E (\\rm{H}_2 \\rightarrow \\rm{N}_2)- \\Delta E_{\\rm{ref}}$ = ' + str(e_H2N_trapz-(eref_N2 - eref_H2))))\n",
    "\n",
    "print('integration by simpsons rule')\n",
    "display(Markdown(r'$\\Delta E$ (H$_2$ $\\rightarrow$ N$_2$) = ' + str(e_H2N_simp)))\n",
    "display(Markdown(r'$\\Delta E_{\\rm{ref}}$ = ' + str(eref_N2 - eref_H2)))\n",
    "display(Markdown(r'$\\Delta E (\\rm{H}_2 \\rightarrow \\rm{N}_2)- \\Delta E_{\\rm{ref}}$ = ' + str(e_H2N_simp-(eref_N2 - eref_H2))))"
   ]
  },
  {
   "cell_type": "markdown",
   "metadata": {},
   "source": [
    "#### Pairs of adjacent elements"
   ]
  },
  {
   "cell_type": "code",
   "execution_count": null,
   "metadata": {},
   "outputs": [],
   "source": [
    "element = 'N'\n",
    "distance = 1.5\n",
    "basis = 'def2-qzvp'\n",
    "total_nelec = 14\n",
    "num_elecs = np.array([0,2])\n",
    "pairs = {'vactoH2':[], 'H2toHe2':[], 'He2toLi2':[], 'Li2toBe2':[], 'Be2toB2':[], 'B2toC2':[], 'C2toN2':[]}\n",
    "alchs = []\n",
    "ehs = []\n",
    "for k in pairs.keys():\n",
    "    if k == 'vactoH2':\n",
    "        alchemical_potentials, e_homos, e_lumos, e_nucs = sample_path([num_elecs[-1]], element, distance, basis, total_nelec)\n",
    "        alchemical_potentials = np.concatenate((np.array([[0.0, 0.0]]), alchemical_potentials))\n",
    "        e_homos = np.concatenate((np.array([0]), e_homos))\n",
    "        e_lumos = np.concatenate((np.array([0]), e_lumos))\n",
    "        e_nucs = np.concatenate((np.array([0.0]), e_nucs))     \n",
    "    else:\n",
    "        alchemical_potentials, e_homos, e_lumos, e_nucs = sample_path(num_elecs, element, distance, basis, total_nelec)\n",
    "    alchs.append(alchemical_potentials)\n",
    "    ehs.append(e_homos)\n",
    "    dN = num_elecs[-1] - num_elecs[0]\n",
    "    dZ = dN/2\n",
    "    lam_vals = get_lam_vals(num_elecs)\n",
    "    e_X2toY2_simp = get_energy(lam_vals, alchemical_potentials[:,0], e_nucs[-1], e_homos, dZ, dN) - e_nucs[0]\n",
    "    pairs[k].append(e_X2toY2_simp)\n",
    "    num_elecs = num_elecs + 2 #raise to get correct number for next pair of diatomics"
   ]
  },
  {
   "cell_type": "code",
   "execution_count": null,
   "metadata": {},
   "outputs": [],
   "source": [
    "# add reference delta\n",
    "for k in pairs.keys():\n",
    "    diatomics = k.split('to')\n",
    "    pairs[k].append(eref_d1p5[diatomics[1]]-eref_d1p5[diatomics[0]])\n",
    "    pairs[k].append(pairs[k][0]-pairs[k][1])\n"
   ]
  },
  {
   "cell_type": "code",
   "execution_count": null,
   "metadata": {},
   "outputs": [],
   "source": [
    "sum_ = 0\n",
    "for k in pairs.keys():\n",
    "    sum_ += pairs[k][0]\n",
    "sum_"
   ]
  },
  {
   "cell_type": "code",
   "execution_count": null,
   "metadata": {
    "scrolled": true
   },
   "outputs": [],
   "source": [
    "plt.rcParams['figure.figsize'] = [12, 5]\n",
    "plt.rcParams['font.size'] = 16\n",
    "fig, ax = plt.subplots(1,1)\n",
    "x = np.arange(1, 15, 2)\n",
    "dE = []\n",
    "for k in pairs.keys():\n",
    "    dE.append(pairs[k][2])\n",
    "ax.plot(x, dE, '-o')\n",
    "ax.set_xticks(x)\n",
    "xstring = [r'vac$\\rightarrow$H2', r'H2$\\rightarrow$He2', r'He2$\\rightarrow$Li2', r'Li2$\\rightarrow$Be2', r'Be2$\\rightarrow$B2', r'B2$\\rightarrow$C2', r'C2$\\rightarrow$N2']\n",
    "ax.set_xticklabels(xstring, fontsize=16)\n",
    "ax.set_ylabel(r'Error $\\Delta E$ (Ha)')\n",
    "# ax.plot(np.arange(0, 16, 2), e_homos, '-o')"
   ]
  },
  {
   "cell_type": "markdown",
   "metadata": {},
   "source": [
    "largest error for intervals involving He2 \n",
    "sudden change in e_homo from He2 to Li2 probably not main problem because for H2$\\rightarrow$He2 large error as well although change in e_homo very smooth"
   ]
  },
  {
   "cell_type": "code",
   "execution_count": null,
   "metadata": {},
   "outputs": [],
   "source": []
  },
  {
   "cell_type": "markdown",
   "metadata": {},
   "source": [
    "# $\\Delta$ H$_2$ $\\rightarrow$ N$_2$, d = 1.5 and d = 5.0"
   ]
  },
  {
   "cell_type": "code",
   "execution_count": null,
   "metadata": {},
   "outputs": [],
   "source": [
    "e_H2N_dist = {1.5:0, 10.0:0}\n",
    "for d in e_H2N_dist.keys():\n",
    "    element = 'N'\n",
    "    distance = d\n",
    "    basis = 'def2-qzvp'\n",
    "    total_nelec = 14\n",
    "    num_elecs = np.array([2, 4, 6, 8, 10, 12, 14])\n",
    "    lam_vals = 1/(num_elecs[-1]-num_elecs[0])*num_elecs - num_elecs[0]/(num_elecs[-1]-num_elecs[0])\n",
    "    alchemical_potentials, e_homos, e_lumos, e_nucs = sample_path(num_elecs, element, distance, basis, total_nelec)\n",
    "    e_H2N_simp = get_energy(lam_vals, alchemical_potentials[:,0], e_nucs[-1], e_homos, 6, 12)\n",
    "    e_H2N_dist[d] = e_H2N_simp"
   ]
  },
  {
   "cell_type": "code",
   "execution_count": null,
   "metadata": {},
   "outputs": [],
   "source": [
    "d_e_H2N = e_H2N_dist[1.5] - e_H2N_dist[10.0]\n",
    "d_eref_H2N = (eref_N2 - eref_H2) - (eref_N2_d10 - eref_H2_d10)\n",
    "\n",
    "print('integration by simpsons rule')\n",
    "display(Markdown(r'$\\Delta \\Delta E$ (H$_2$ $\\rightarrow$ N$_2$) = ' + str(d_e_H2N)))\n",
    "display(Markdown(r'$\\Delta \\Delta E_{\\rm{ref}}$ = ' + str(d_eref_H2N)))\n",
    "display(Markdown(r'$\\Delta \\Delta E (\\rm{H}_2 \\rightarrow \\rm{N}_2)- \\Delta \\Delta E_{\\rm{ref}}$ = ' + str(d_e_H2N-d_eref_H2N)))"
   ]
  },
  {
   "cell_type": "code",
   "execution_count": null,
   "metadata": {},
   "outputs": [],
   "source": [
    "e_H2N_dist"
   ]
  },
  {
   "cell_type": "markdown",
   "metadata": {},
   "source": [
    "#### vac $\\rightarrow$ N$_2$, d = 1.5 and d = 5.0\n",
    "\n",
    "10 ang unstable"
   ]
  },
  {
   "cell_type": "code",
   "execution_count": 40,
   "metadata": {},
   "outputs": [],
   "source": [
    "e_vac2N_dist = {1.5:0, 5.0:0}\n",
    "for d in e_vac2N_dist.keys():\n",
    "    element = 'N'\n",
    "    distance = d\n",
    "    basis = 'def2-qzvp'\n",
    "    total_nelec = 14\n",
    "    num_elecs = np.array([2, 4, 6, 8, 10, 12, 14])\n",
    "    alchemical_potentials, e_homos, e_lumos, e_nucs = sample_path(num_elecs, element, distance, basis, total_nelec)\n",
    "    \n",
    "    lam_vals = 1/num_elecs[-1]*num_elecs\n",
    "    lam_vals = np.concatenate((np.array([0.0]), lam_vals))\n",
    "    alchemical_potentials = np.concatenate((np.array([[0.0, 0.0]]), alchemical_potentials))\n",
    "    e_homos = np.concatenate((np.array([0.0]), e_homos))\n",
    "    e_lumos = np.concatenate((np.array([0.0]), e_lumos))\n",
    "    \n",
    "    e_vac2N_simp = get_energy(lam_vals, alchemical_potentials[:,0], e_nucs[-1], e_homos, 7, 14)\n",
    "    e_vac2N_dist[d] = e_vac2N_simp"
   ]
  },
  {
   "cell_type": "code",
   "execution_count": 41,
   "metadata": {},
   "outputs": [
    {
     "name": "stdout",
     "output_type": "stream",
     "text": [
      "integration by simpsons rule\n"
     ]
    },
    {
     "data": {
      "text/markdown": [
       "$\\Delta \\Delta E$ (vac $\\rightarrow$ N$_2$) = -1.375093810204163"
      ],
      "text/plain": [
       "<IPython.core.display.Markdown object>"
      ]
     },
     "metadata": {},
     "output_type": "display_data"
    },
    {
     "data": {
      "text/markdown": [
       "$\\Delta \\Delta E_{\\rm{ref}}$ = -0.9288056593931486"
      ],
      "text/plain": [
       "<IPython.core.display.Markdown object>"
      ]
     },
     "metadata": {},
     "output_type": "display_data"
    },
    {
     "data": {
      "text/markdown": [
       "$\\Delta \\Delta E (vac \\rightarrow \\rm{N}_2)- \\Delta \\Delta E_{\\rm{ref}}$ = -0.44628815081101436"
      ],
      "text/plain": [
       "<IPython.core.display.Markdown object>"
      ]
     },
     "metadata": {},
     "output_type": "display_data"
    }
   ],
   "source": [
    "d_e_vac2N = e_vac2N_dist[1.5] - e_vac2N_dist[5.0]\n",
    "d_eref_N = eref_N2 - eref_N2_d10\n",
    "\n",
    "print('integration by simpsons rule')\n",
    "display(Markdown(r'$\\Delta \\Delta E$ (vac $\\rightarrow$ N$_2$) = ' + str(d_e_vac2N)))\n",
    "display(Markdown(r'$\\Delta \\Delta E_{\\rm{ref}}$ = ' + str(d_eref_N)))\n",
    "display(Markdown(r'$\\Delta \\Delta E (vac \\rightarrow \\rm{N}_2)- \\Delta \\Delta E_{\\rm{ref}}$ = ' + str(d_e_vac2N-d_eref_N)))"
   ]
  },
  {
   "cell_type": "code",
   "execution_count": 39,
   "metadata": {},
   "outputs": [
    {
     "data": {
      "text/plain": [
       "{1.5: -111.8519489910883, 5.0: -110.47685512228774}"
      ]
     },
     "execution_count": 39,
     "metadata": {},
     "output_type": "execute_result"
    }
   ],
   "source": [
    "e_vac2N_dist"
   ]
  },
  {
   "cell_type": "markdown",
   "metadata": {},
   "source": [
    "#### difference for adjacent pairs"
   ]
  },
  {
   "cell_type": "code",
   "execution_count": null,
   "metadata": {},
   "outputs": [],
   "source": [
    "element = 'N'\n",
    "distance = 1.5\n",
    "basis = 'def2-qzvp'\n",
    "total_nelec = 14\n",
    "num_elecs = np.array([0,2])\n",
    "pairs = {'vactoH2':[], 'H2toHe2':[], 'He2toLi2':[], 'Li2toBe2':[], 'Be2toB2':[], 'B2toC2':[], 'C2toN2':[]}\n",
    "alchs = []\n",
    "ehs = []\n",
    "for k in pairs.keys():\n",
    "    if k == 'vactoH2':\n",
    "        alchemical_potentials, e_homos, e_lumos, e_nucs = sample_path([num_elecs[-1]], element, distance, basis, total_nelec)\n",
    "        alchemical_potentials = np.concatenate((np.array([[0.0, 0.0]]), alchemical_potentials))\n",
    "        e_homos = np.concatenate((np.array([0]), e_homos))\n",
    "        e_lumos = np.concatenate((np.array([0]), e_lumos))\n",
    "        e_nucs = np.concatenate((np.array([0.0]), e_nucs))     \n",
    "    else:\n",
    "        alchemical_potentials, e_homos, e_lumos, e_nucs = sample_path(num_elecs, element, distance, basis, total_nelec)\n",
    "    alchs.append(alchemical_potentials)\n",
    "    ehs.append(e_homos)\n",
    "    dN = num_elecs[-1] - num_elecs[0]\n",
    "    dZ = dN/2\n",
    "    lam_vals = get_lam_vals(num_elecs)\n",
    "    e_X2toY2_simp = get_energy(lam_vals, alchemical_potentials[:,0], e_nucs[-1], e_homos, dZ, dN) - e_nucs[0]\n",
    "    pairs[k].append(e_X2toY2_simp)\n",
    "    num_elecs = num_elecs + 2 #raise to get correct number for next pair of diatomics"
   ]
  },
  {
   "cell_type": "code",
   "execution_count": null,
   "metadata": {},
   "outputs": [],
   "source": [
    "element = 'N'\n",
    "distance = 10.0\n",
    "basis = 'def2-qzvp'\n",
    "total_nelec = 14\n",
    "num_elecs = np.array([0,2])\n",
    "pairs10 = {'vactoH2':[], 'H2toHe2':[], 'He2toLi2':[], 'Li2toBe2':[], 'Be2toB2':[], 'B2toC2':[], 'C2toN2':[]}\n",
    "alchs = []\n",
    "ehs = []\n",
    "for k in pairs10.keys():\n",
    "    if k == 'vactoH2':\n",
    "        alchemical_potentials, e_homos, e_lumos, e_nucs = sample_path([num_elecs[-1]], element, distance, basis, total_nelec)\n",
    "        alchemical_potentials = np.concatenate((np.array([[0.0, 0.0]]), alchemical_potentials))\n",
    "        e_homos = np.concatenate((np.array([0]), e_homos))\n",
    "        e_lumos = np.concatenate((np.array([0]), e_lumos))\n",
    "        e_nucs = np.concatenate((np.array([0.0]), e_nucs))     \n",
    "    else:\n",
    "        alchemical_potentials, e_homos, e_lumos, e_nucs = sample_path(num_elecs, element, distance, basis, total_nelec)\n",
    "    alchs.append(alchemical_potentials)\n",
    "    ehs.append(e_homos)\n",
    "    dN = num_elecs[-1] - num_elecs[0]\n",
    "    dZ = dN/2\n",
    "    lam_vals = get_lam_vals(num_elecs)\n",
    "    e_X2toY2_simp = get_energy(lam_vals, alchemical_potentials[:,0], e_nucs[-1], e_homos, dZ, dN) - e_nucs[0]\n",
    "    pairs10[k].append(e_X2toY2_simp)\n",
    "    num_elecs = num_elecs + 2 #raise to get correct number for next pair of diatomics"
   ]
  },
  {
   "cell_type": "code",
   "execution_count": null,
   "metadata": {},
   "outputs": [],
   "source": [
    "dE_vactoN2_dict = dict.fromkeys(pairs.keys())\n",
    "for k in pairs.keys():\n",
    "    dE_vactoN2_dict[k] = []\n",
    "    dE_vactoN2_dict[k].append(pairs[k][0] - pairs10[k][0])"
   ]
  },
  {
   "cell_type": "code",
   "execution_count": null,
   "metadata": {},
   "outputs": [],
   "source": [
    "# add reference delta\n",
    "for k in dE_vactoN2_dict.keys():\n",
    "    diatomics = k.split('to')\n",
    "    dE_ref1p5 = eref_d1p5[diatomics[1]]-eref_d1p5[diatomics[0]]\n",
    "    dE_ref10 = eref_d10[diatomics[1]]-eref_d10[diatomics[0]]\n",
    "    \n",
    "    dE_vactoN2_dict[k].append(dE_ref1p5-dE_ref10)\n",
    "    \n",
    "    dE_vactoN2_dict[k].append(dE_vactoN2_dict[k][0] - dE_vactoN2_dict[k][1])"
   ]
  },
  {
   "cell_type": "code",
   "execution_count": null,
   "metadata": {},
   "outputs": [],
   "source": [
    "dE_vactoN2_dict"
   ]
  },
  {
   "cell_type": "code",
   "execution_count": null,
   "metadata": {},
   "outputs": [],
   "source": []
  }
 ],
 "metadata": {
  "kernelspec": {
   "display_name": "Python [conda env:atomic-energies]",
   "language": "python",
   "name": "conda-env-atomic-energies-py"
  },
  "language_info": {
   "codemirror_mode": {
    "name": "ipython",
    "version": 3
   },
   "file_extension": ".py",
   "mimetype": "text/x-python",
   "name": "python",
   "nbconvert_exporter": "python",
   "pygments_lexer": "ipython3",
   "version": "3.7.3"
  }
 },
 "nbformat": 4,
 "nbformat_minor": 2
}
