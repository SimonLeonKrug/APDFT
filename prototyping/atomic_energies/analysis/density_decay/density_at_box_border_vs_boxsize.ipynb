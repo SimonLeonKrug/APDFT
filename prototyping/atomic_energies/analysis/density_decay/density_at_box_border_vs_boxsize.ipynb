{
 "cells": [
  {
   "cell_type": "code",
   "execution_count": 1,
   "metadata": {},
   "outputs": [],
   "source": [
    "import numpy as np\n",
    "import matplotlib\n",
    "matplotlib.use('Qt5Agg')\n",
    "import matplotlib.pyplot as plt\n",
    "plt.rcParams.update({'font.size': 22})"
   ]
  },
  {
   "cell_type": "code",
   "execution_count": 2,
   "metadata": {},
   "outputs": [],
   "source": [
    "def density_percentage(density, boxsize, percentage):\n",
    "    \"\"\"\n",
    "    integrates over a percentage of the boxsize starting from the left\n",
    "    \"\"\"\n",
    "    Vgpt = boxsize/density.shape[0] # length per gridpoint\n",
    "    \n",
    "    num_gpt_float = (percentage*boxsize)/Vgpt # number of gpt necessary to present the percentage of the box\n",
    "    weighted = num_gpt_float%1 # if number of gpt is float, this is the part of the last gpt \n",
    "    num_int_gpt = int(num_gpt_float - weighted) # number of gpt that are completely used\n",
    "\n",
    "    # density that is enclosed in percentage of the box\n",
    "    return(density[0:num_int_gpt].sum() + density[num_int_gpt+1]*weighted)\n",
    "    \n",
    "    "
   ]
  },
  {
   "cell_type": "code",
   "execution_count": 3,
   "metadata": {},
   "outputs": [],
   "source": [
    "# import 1D densities\n",
    "\n",
    "# p01\n",
    "\n",
    "main = '/home/misa/APDFT/prototyping/atomic_energies/results/test_calculations/vasp/dsgdb9nsd_001212/'\n",
    "boxes = ['box15.0/', 'box20.0/', 'box30.0/', 'box35.0/']\n",
    "\n",
    "p01 = []\n",
    "\n",
    "for b in boxes:\n",
    "    path = main + b + 'pr12.txt'\n",
    "    p01.append(np.loadtxt(path))"
   ]
  },
  {
   "cell_type": "code",
   "execution_count": 4,
   "metadata": {
    "scrolled": true
   },
   "outputs": [
    {
     "name": "stdout",
     "output_type": "stream",
     "text": [
      "Boxsize = 15 Ang; V_gpt = 0.029296875; Vgpt_percentage = 0.001953125\n",
      "Boxsize = 20 Ang; V_gpt = 0.02857142857142857; Vgpt_percentage = 0.0014285714285714286\n",
      "Boxsize = 30 Ang; V_gpt = 0.029296875; Vgpt_percentage = 0.0009765625\n",
      "Boxsize = 35 Ang; V_gpt = 0.029166666666666667; Vgpt_percentage = 0.0008333333333333334\n"
     ]
    }
   ],
   "source": [
    "# vgpt\n",
    "boxsize = np.array([15, 20, 30, 35])\n",
    "\n",
    "for z in zip(boxsize, p01):\n",
    "    vgpt = z[0]/z[1].shape[0]\n",
    "    vgpt_perc = vgpt/z[0]\n",
    "    print(\"Boxsize = {} Ang; V_gpt = {}; Vgpt_percentage = {}\".format(z[0], vgpt, vgpt_perc))\n"
   ]
  },
  {
   "cell_type": "code",
   "execution_count": null,
   "metadata": {},
   "outputs": [],
   "source": []
  },
  {
   "cell_type": "code",
   "execution_count": 5,
   "metadata": {},
   "outputs": [
    {
     "data": {
      "text/plain": [
       "39.36472321694902"
      ]
     },
     "execution_count": 5,
     "metadata": {},
     "output_type": "execute_result"
    }
   ],
   "source": [
    "# integral 10 idx 280 to 22 idx 725 box 30\n",
    "bound1 = 12.7\n",
    "bound2 = 18.8\n",
    "x = np.linspace(35/2-30/2, 15+30/2, p01[2].shape[0])\n",
    "idx1 = np.where(x>bound1)[0][0]\n",
    "idx2 = np.where(x<bound2)[0][-1:][0]\n",
    "p01[2][idx1:idx2].sum()"
   ]
  },
  {
   "cell_type": "code",
   "execution_count": 6,
   "metadata": {},
   "outputs": [
    {
     "data": {
      "text/plain": [
       "[<matplotlib.lines.Line2D at 0x7f1207c676d8>]"
      ]
     },
     "execution_count": 6,
     "metadata": {},
     "output_type": "execute_result"
    }
   ],
   "source": [
    "f,a = plt.subplots(1,1)\n",
    "a.plot(x, p01[2])\n",
    "a.plot(x[idx1:idx2], p01[2][idx1:idx2])"
   ]
  },
  {
   "cell_type": "code",
   "execution_count": null,
   "metadata": {},
   "outputs": [],
   "source": []
  },
  {
   "cell_type": "markdown",
   "metadata": {},
   "source": [
    "# Use point at box border or integrate over same percentage at box border"
   ]
  },
  {
   "cell_type": "code",
   "execution_count": 7,
   "metadata": {},
   "outputs": [],
   "source": [
    "percentage_box15 = 1/p01[0].shape[0]\n",
    "pp01 = []\n",
    "first_gpt_p01 = []\n",
    "for z in zip(p01, boxsize):\n",
    "    pp01.append(density_percentage(z[0], z[1], percentage_box15))\n",
    "    vgpt = z[1]/z[0].shape[0]\n",
    "    first_gpt_p01.append(z[0][0]/vgpt)\n",
    "pp01 = np.array(pp01)\n",
    "first_gpt_p01 = np.array(first_gpt_p01)"
   ]
  },
  {
   "cell_type": "code",
   "execution_count": 8,
   "metadata": {},
   "outputs": [
    {
     "data": {
      "text/plain": [
       "Text(0, 0.5, '$\\\\rho$ (Ang$^{-1}$)')"
      ]
     },
     "execution_count": 8,
     "metadata": {},
     "output_type": "execute_result"
    }
   ],
   "source": [
    "fig, ax = plt.subplots(1,2)\n",
    "ax[0].set_title('Use first gpt (same volume)')\n",
    "ax[0].plot(boxsize, first_gpt_p01, '-o')\n",
    "ax[0].set_yscale('log')\n",
    "ax[0].set_xscale('log')\n",
    "\n",
    "ax[1].set_title('Integrate over same percentage of box')\n",
    "ax[1].plot(boxsize, pp01, '-o')\n",
    "\n",
    "ax[0].set_xlabel('Boxsize (Ang)')\n",
    "ax[1].set_xlabel('Boxsize (Ang)')\n",
    "\n",
    "ax[0].set_ylabel(r'$\\rho$ (Ang$^{-1}$)')\n",
    "# ax[0].legend()"
   ]
  },
  {
   "cell_type": "markdown",
   "metadata": {},
   "source": [
    "# Density projections"
   ]
  },
  {
   "cell_type": "code",
   "execution_count": 9,
   "metadata": {},
   "outputs": [
    {
     "data": {
      "text/plain": [
       "(0, 30)"
      ]
     },
     "execution_count": 9,
     "metadata": {},
     "output_type": "execute_result"
    }
   ],
   "source": [
    "# densities with different boxes\n",
    "from ase.units import Bohr\n",
    "fig, ax = plt.subplots(1,1)\n",
    "labels = ['15 Ang', '20 Ang', '30 Ang', '35 Ang']\n",
    "\n",
    "\n",
    "for idx, c in enumerate(p01):\n",
    "    x = np.linspace(35/2-boxsize[idx]/2, 15+boxsize[idx]/2, c.shape[0])\n",
    "#     pr = c.project((1,0))\n",
    "    ax.plot(x, c, label = labels[idx])\n",
    "\n",
    "ax.legend()\n",
    "ax.set_xlabel('Cell coordinate (Ang)')\n",
    "ax.set_ylabel('1D-projected density')\n",
    "\n",
    "ax.set_xlim(0, 30)"
   ]
  },
  {
   "cell_type": "code",
   "execution_count": null,
   "metadata": {},
   "outputs": [],
   "source": [
    "#\n",
    "Bohr"
   ]
  },
  {
   "cell_type": "code",
   "execution_count": null,
   "metadata": {},
   "outputs": [],
   "source": [
    "from ase.units import Bohr\n",
    "ne=40\n",
    "Ne=44\n",
    "Zeff=38\n",
    "Vl = 6**2*2.5/(Bohr**3)\n",
    "L = np.linspace(6, 100, 1000)/Bohr"
   ]
  },
  {
   "cell_type": "code",
   "execution_count": null,
   "metadata": {},
   "outputs": [],
   "source": [
    "q3p = -ne + Zeff - Vl*(ne-Ne)/(L**3-Vl)"
   ]
  },
  {
   "cell_type": "code",
   "execution_count": null,
   "metadata": {},
   "outputs": [],
   "source": [
    "fig, ax = plt.subplots(1,1)\n",
    "ax.plot(L, q3p)\n",
    "ax.set_xlabel(r'Boxlength $L$')"
   ]
  },
  {
   "cell_type": "markdown",
   "metadata": {},
   "source": [
    "# other stuff"
   ]
  },
  {
   "cell_type": "code",
   "execution_count": null,
   "metadata": {},
   "outputs": [],
   "source": [
    "x = np.linspace(0, 10, 100)\n",
    "plt.plot(x, x**3)\n",
    "plt.plot(x, np.exp(-x))\n",
    "plt.plot(x, x**3*np.exp(-x))\n",
    "plt.plot(x, x*np.exp(-x))"
   ]
  },
  {
   "cell_type": "code",
   "execution_count": null,
   "metadata": {},
   "outputs": [],
   "source": [
    "v_normalized = []\n",
    "for z in zip(boxsize, p01):\n",
    "    vgpt = z[0]/z[1].shape[0]\n",
    "    v_normalized.append(z[1][0]/vgpt)\n",
    "    \n",
    "v_normalized = np.array(v_normalized)"
   ]
  },
  {
   "cell_type": "code",
   "execution_count": null,
   "metadata": {},
   "outputs": [],
   "source": [
    "v_normalized"
   ]
  },
  {
   "cell_type": "code",
   "execution_count": null,
   "metadata": {},
   "outputs": [],
   "source": [
    "plt.plot(boxsize, v_normalized*boxsize/15, '-o')"
   ]
  },
  {
   "cell_type": "markdown",
   "metadata": {},
   "source": [
    "one element of array: good because same volume per gpt (in infinite limit the same value)?\n",
    "in finite volume gives wrong results; integrate over same percentage of box instead (should give the same number of electrons)\n",
    "or normalize by total volume of the box\n",
    "\n"
   ]
  },
  {
   "cell_type": "code",
   "execution_count": null,
   "metadata": {},
   "outputs": [],
   "source": [
    "fig, ax = plt.subplots(1,1)\n",
    "\n",
    "ax.plot(boxsize, [0.012-0.01, 0.009-0.007, 0.0066-0.0045, 0.006-0.0038])"
   ]
  }
 ],
 "metadata": {
  "kernelspec": {
   "display_name": "Python [conda env:atomic-energies]",
   "language": "python",
   "name": "conda-env-atomic-energies-py"
  },
  "language_info": {
   "codemirror_mode": {
    "name": "ipython",
    "version": 3
   },
   "file_extension": ".py",
   "mimetype": "text/x-python",
   "name": "python",
   "nbconvert_exporter": "python",
   "pygments_lexer": "ipython3",
   "version": "3.7.3"
  }
 },
 "nbformat": 4,
 "nbformat_minor": 2
}
