{
 "cells": [
  {
   "cell_type": "markdown",
   "metadata": {},
   "source": [
    "\n",
    " "
   ]
  },
  {
   "cell_type": "code",
   "execution_count": 2,
   "metadata": {},
   "outputs": [],
   "source": [
    "import numpy as np\n",
    "import scipy.spatial as scsp\n",
    "\n",
    "import sys\n",
    "sys.path.insert(0, '/home/misa/APDFT/prototyping/atomic_energies/')\n",
    "\n",
    "import parse_density_files as pdf\n",
    "import alchemy_tools2 as at\n",
    "\n",
    "import matplotlib\n",
    "#matplotlib.use('Qt5Agg')\n",
    "from matplotlib import pyplot as plt\n",
    "matplotlib.rcParams[\"font.size\"] = 20"
   ]
  },
  {
   "cell_type": "code",
   "execution_count": 3,
   "metadata": {},
   "outputs": [],
   "source": [
    "# for every box size\n",
    "\n",
    "    # load vasp file\n",
    "\n",
    "    # for every radius\n",
    "        # extract density\n",
    "        # calculate integral for electrostatic interaction\n",
    "        # store value of integral"
   ]
  },
  {
   "cell_type": "code",
   "execution_count": null,
   "metadata": {},
   "outputs": [],
   "source": [
    "def get_integrals_box(density, gpts, nuclei, radii):\n",
    "    \"\"\"\n",
    "    return value of integrals for different vdW for one boxsize\n",
    "    \"\"\"\n",
    "    estat_int = []\n",
    "    for r in radii:\n",
    "        estat_int.append( get_integral_radius(density, gpts, nuclei, r) )\n",
    "    return(np.array(estat_int))\n",
    "        \n",
    "def get_integral_radius(density, gpts, nuclei, radius):\n",
    "    \"\"\"\n",
    "    return value of integral for one multiple of the vdW radii\n",
    "    \"\"\"\n",
    "    \n",
    "    # set density to zero outside of integration radius\n",
    "    density_bound = generate_bound_density(density, nuclei, radius, gpts)\n",
    "\n",
    "    # calculate integral for new density\n",
    "    estat_int = at.calculate_atomic_energies(density_bound, nuclei, gpts, h_matrix)\n",
    "    \n",
    "    return(estat_int)\n",
    "    \n",
    "def generate_bound_density(density, nuclei, radius, gpts):\n",
    "    # reshape into vectors\n",
    "    density_flattened = density.flatten()\n",
    "    gpts_flattened = at.meshgrid2vector(gpts)\n",
    "    \n",
    "    # get density grid points lying within the weighted vdW radii\n",
    "    all_idc_in = get_all_idc_in(nuclei, radius, gpts_flattened)\n",
    "    # get indices of all gridpoints as flattened 1D-array\n",
    "    all_idc = np.arange(len(density_flattened))\n",
    "     # get density grid points lying out of the weighted vdW radii\n",
    "    all_idc_out = at.get_all_idc_out(all_idc_in, all_idc)\n",
    "    \n",
    "    # set density out of weighted vdW radii to zero\n",
    "    density_flattened[all_idc_out] = 0.0\n",
    "    # reshape flattened density to grid\n",
    "    density_bound = density_flattened.reshape((density.shape))\n",
    "    return(density_bound)\n",
    "        \n",
    "def get_all_idc_in(nuclei, radius, gpts_flattened):\n",
    "    all_idc_in = []\n",
    "    for n in nuclei:\n",
    "        r_vdW = lookup_vdW(n[0])\n",
    "        all_idc_in.append(at.get_idc_rvdW(np.array([n[1:4]]), r_vdW*radius, gpts_flattened))\n",
    "    return(all_idc_in)\n",
    "   \n",
    "from ase.units import Bohr\n",
    "def lookup_vdW(Z, unit = 'Bohr'):\n",
    "    \"\"\"\n",
    "    return van der Waals radius for element\n",
    "    from Bondi J. Phys. Chem 68, 1964\n",
    "    \"\"\"\n",
    "    \n",
    "    if Z == 1:\n",
    "        r_w = 1.2\n",
    "    elif Z == 6:\n",
    "        r_w = 1.7\n",
    "    elif Z == 7:\n",
    "        r_w = 1.55\n",
    "    elif Z == 8:\n",
    "        r_w = 1.52\n",
    "    else:\n",
    "        raise Exception(\"r_w not implemented for Z = {}\".format(Z))\n",
    "        \n",
    "    if unit == 'Bohr':\n",
    "        r_w /= Bohr\n",
    "    return(r_w)\n",
    "    "
   ]
  },
  {
   "cell_type": "markdown",
   "metadata": {},
   "source": [
    "## Calculation of alchemical potential etc. for different density cutoffs for one $\\lambda$-value"
   ]
  },
  {
   "cell_type": "code",
   "execution_count": null,
   "metadata": {},
   "outputs": [],
   "source": [
    "# boxes = ['/home/misa/APDFT/prototyping/atomic_energies/results/test_calculations/converge_lambda_test/boxsize/box30/ve8_stepsize/ve_08.cube']\n",
    "# boxes = ['/home/misa/APDFT/prototyping/atomic_energies/results/test_calculations/vasp/dsgdb9nsd_001212/box20.0/CHG']\n",
    "boxes = ['/home/misa/APDFT/prototyping/atomic_energies/results/slice_ve38/dsgdb9nsd_001212/cube-files/ve_08.cube']\n",
    "\n",
    "lam_vals, dens, nuclei, gpts, h_matrix = at.load_cube_data(boxes)"
   ]
  },
  {
   "cell_type": "code",
   "execution_count": null,
   "metadata": {},
   "outputs": [],
   "source": [
    "energies = []\n",
    "radii = [0.5, 1, 1.5, 2.0, 2.5, 3.0, 3.5, 4.0, 4.5, 5.0, 7.0]\n",
    "for r in radii:\n",
    "    dens_b = generate_bound_density(dens, nuclei, r, gpts)[0]\n",
    "    estat_int = at.calculate_atomic_energies(dens_b, nuclei, gpts, h_matrix)\n",
    "    energies.append(estat_int[1])"
   ]
  },
  {
   "cell_type": "markdown",
   "metadata": {},
   "source": [
    "### plot of projected density"
   ]
  },
  {
   "cell_type": "code",
   "execution_count": null,
   "metadata": {},
   "outputs": [],
   "source": [
    "# cube=pdf.CUBE(boxes[0])"
   ]
  },
  {
   "cell_type": "code",
   "execution_count": null,
   "metadata": {},
   "outputs": [],
   "source": [
    "fig,ax = plt.subplots(1,1)\n",
    "ax.plot(cube.get_axis('x'),cube.project((0,2)))\n",
    "ax.set_xlabel(r'cell coordinate $q$ (Ang)')\n",
    "ax.set_ylabel(r'$\\int dq_1 dq_2 \\rho(\\vec{q})$')\n",
    "# plt.savefig('/home/misa/projects/Atomic-Energies/figures/density_shoulders/density_cutoff/dsgdb9nsd_001212_projection02.png', bbox_inches='tight')"
   ]
  },
  {
   "cell_type": "markdown",
   "metadata": {},
   "source": [
    "## Plot of of alchemical potential etc for different density cutoffs for one $\\lambda$-value"
   ]
  },
  {
   "cell_type": "code",
   "execution_count": null,
   "metadata": {
    "scrolled": false
   },
   "outputs": [],
   "source": [
    "h,c,n,o=0,0,0,0\n",
    "fig,ax = plt.subplots(1,1)\n",
    "for i,z in zip(range(len(energies[0])), nuclei[:,0]):\n",
    "    if z == 1:\n",
    "        if h==0:\n",
    "            ax.plot(radii,np.array(energies)[:,i], '--|', markersize=10, label='H')\n",
    "            h=1\n",
    "        else:\n",
    "            ax.plot(radii,np.array(energies)[:,i], '--|', markersize=10)\n",
    "    if z == 6:\n",
    "        if c==0:\n",
    "            ax.plot(radii,np.array(energies)[:,i], '--v', label='C')\n",
    "            c=1\n",
    "        else:\n",
    "            ax.plot(radii,np.array(energies)[:,i], '--v')\n",
    "    if z == 7:\n",
    "        if n==0:\n",
    "            ax.plot(radii,np.array(energies)[:,i], '--s', label='N')\n",
    "            n=1\n",
    "        else:\n",
    "            ax.plot(radii,np.array(energies)[:,i], '--s')\n",
    "    if z == 8:\n",
    "        if o==0:\n",
    "            ax.plot(radii,np.array(energies)[:,i], '--d', label='O')\n",
    "            o=1\n",
    "        else:\n",
    "            ax.plot(radii,np.array(energies)[:,i], '--d')\n",
    "        \n",
    "ax.set_xlabel(r'scaling coefficient $r$')\n",
    "ax.set_ylabel(r'$\\int_{\\Omega_r} d\\vec{r} \\frac{\\rho(\\vec{r})}{|\\vec{r}-\\vec{R}_I|} $')\n",
    "ax.legend(frameon=False)\n",
    "# plt.savefig(\"/home/misa/projects/Atomic-Energies/figures/density_shoulders/density_cutoff/dsgdb9nsd_001212_alchpot_lam0p8.png\", bbox_inches='tight')\n",
    "# plt.savefig(\"/home/misa/projects/Atomic-Energies/figures/density_shoulders/density_cutoff/dsgdb9nsd_001212_atomic_energies_lam0p8.png\", bbox_inches='tight')"
   ]
  },
  {
   "cell_type": "markdown",
   "metadata": {},
   "source": [
    "## Plot of density projection and alchpot for different cutoffs"
   ]
  },
  {
   "cell_type": "code",
   "execution_count": null,
   "metadata": {},
   "outputs": [],
   "source": [
    "# plots also density projections for cut density\n",
    "fig, ax = plt.subplots(1,3)\n",
    "energies = []\n",
    "radii = [0.5, 1, 1.5, 2.0, 2.5, 3.0, 3.5, 4.0, 4.5, 5.0, 7.0]\n",
    "for r in radii:\n",
    "    dens_b = generate_bound_density(dens, nuclei, r, gpts)[0]\n",
    "    estat_int = at.calculate_atomic_energies(dens_b, nuclei, gpts, h_matrix)\n",
    "    energies.append(estat_int[2])\n",
    "#     pr01 = dens_b.sum(axis=(0,1))\n",
    "    ax[0].plot(dens_b.sum(axis=(0,1)), label = 'vdW multiple = {}'.format(r))\n",
    "    ax[1].plot(dens_b.sum(axis=(0,2)), label = 'vdW multiple = {}'.format(r))\n",
    "    ax[2].plot(dens_b.sum(axis=(1,2)), label = 'vdW multiple = {}'.format(r))\n",
    "for i in range(3):\n",
    "    ax[i].legend()"
   ]
  },
  {
   "cell_type": "markdown",
   "metadata": {},
   "source": [
    "## Plot of SHIFTED alchemical potential etc for different density cutoffs for one $\\lambda$-value "
   ]
  },
  {
   "cell_type": "code",
   "execution_count": 28,
   "metadata": {},
   "outputs": [],
   "source": [
    "en2=np.load('/home/misa/APDFT/prototyping/atomic_energies/results/slice_ve38/dsgdb9nsd_001212/radius_alchpots.npy')\n",
    "\n",
    "# main_path = '/home/misa/APDFT/prototyping/atomic_energies/results/slice_ve38/dsgdb9nsd_014656/'\n",
    "# en2=np.load('/home/misa/APDFT/prototyping/atomic_energies/results/slice_ve38/dsgdb9nsd_014656/radius_alchpots_ve38.npy')\n",
    "# nuclei = np.loadtxt(main_path+'atomic_energies_with_mic.txt')\n",
    "radii = [0.5, 1, 1.5, 2.0, 2.5, 3.0, 3.5, 4.0, 4.5, 5.0, 7.0]\n",
    "# shift energies to value at radius = 3.0\n",
    "energies_norm = en2-en2[5]"
   ]
  },
  {
   "cell_type": "code",
   "execution_count": 29,
   "metadata": {},
   "outputs": [
    {
     "data": {
      "text/plain": [
       "<matplotlib.legend.Legend at 0x7f3a278ce198>"
      ]
     },
     "execution_count": 29,
     "metadata": {},
     "output_type": "execute_result"
    },
    {
     "data": {
      "image/png": "[encoded data removed]",
      "text/plain": [
       "<Figure size 432x288 with 1 Axes>"
      ]
     },
     "metadata": {
      "needs_background": "light"
     },
     "output_type": "display_data"
    }
   ],
   "source": [
    "h,c,n,o=0,0,0,0\n",
    "fig,ax = plt.subplots(1,1)\n",
    "for i,z in zip(range(len(energies_norm[0])), nuclei[:,0]):\n",
    "    if z == 1:\n",
    "        if h==0:\n",
    "            ax.plot(radii,np.array(energies_norm)[:,i], '--|', markersize=10, label='H')\n",
    "            h=1\n",
    "        else:\n",
    "            ax.plot(radii,np.array(energies_norm)[:,i], '--|', markersize=10)\n",
    "    if z == 6:\n",
    "        if c==0:\n",
    "            ax.plot(radii,np.array(energies_norm)[:,i], '--v', label='C')\n",
    "            c=1\n",
    "        else:\n",
    "            ax.plot(radii,np.array(energies_norm)[:,i], '--v')\n",
    "    if z == 7:\n",
    "        if n==0:\n",
    "            ax.plot(radii,np.array(energies_norm)[:,i], '--s', label='N')\n",
    "            n=1\n",
    "        else:\n",
    "            ax.plot(radii,np.array(energies_norm)[:,i], '--s')\n",
    "    if z == 8:\n",
    "        if o==0:\n",
    "            ax.plot(radii,np.array(energies_norm)[:,i], '--d', label='O')\n",
    "            o=1\n",
    "        else:\n",
    "            ax.plot(radii,np.array(energies_norm)[:,i], '--d')\n",
    "        \n",
    "ax.set_xlabel(r'scaling coefficient $r$')\n",
    "ax.set_ylabel(r'$\\int_{\\Omega_r} d\\vec{r} \\frac{\\rho(\\vec{r})}{|\\vec{r}-\\vec{R}_I|} - \\int_{\\Omega_{r=3.0}} d\\vec{r} \\frac{\\rho(\\vec{r})}{|\\vec{r}-\\vec{R}_I|}$')\n",
    "ax.legend(frameon=False)\n",
    "# plt.savefig(\"/home/misa/projects/Atomic-Energies/figures/density_shoulders/density_cutoff/dsgdb9nsd_001212_alchpot_lam0p8_shifted.png\", bbox_inches='tight')\n",
    "# plt.savefig(\"/home/misa/projects/Atomic-Energies/figures/density_shoulders/density_cutoff/dsgdb9nsd_001212_atomic_energies_lam0p8_shifted.png\", bbox_inches='tight')"
   ]
  },
  {
   "cell_type": "markdown",
   "metadata": {},
   "source": [
    "### Determine optimal scaling coefficient\n",
    "- Plot max delta for different compounds\n",
    "- Plot ratio max/min slope around shifted scaling coefficient $r_s$"
   ]
  },
  {
   "cell_type": "code",
   "execution_count": 9,
   "metadata": {},
   "outputs": [],
   "source": [
    "import scipy as sc\n",
    "def get_slopes(x_data, y_data):\n",
    "    slopes = []\n",
    "    for i in range(y_data.shape[1]):\n",
    "        res=sc.stats.linregress(x_data, y_data[:,i])\n",
    "        slopes.append(res[0])\n",
    "    return(np.array(slopes))\n",
    "        "
   ]
  },
  {
   "cell_type": "code",
   "execution_count": 12,
   "metadata": {},
   "outputs": [],
   "source": [
    "# list of compounds and basepath\n",
    "main = '/home/misa/APDFT/prototyping/atomic_energies/results/slice_ve38/'\n",
    "comps = ['dsgdb9nsd_001212', 'dsgdb9nsd_003712', 'dsgdb9nsd_003886', 'dsgdb9nsd_002626', 'dsgdb9nsd_014656','dsgdb9nsd_000228', 'dsgdb9nsd_002025','dsgdb9nsd_002900','dsgdb9nsd_001442','dsgdb9nsd_003727']\n",
    "\n",
    "# p_alch = '/home/misa/APDFT/prototyping/atomic_energies/results/slice_ve38/dsgdb9nsd_001212/radius_alchpots.npy'\n",
    "# p_aten = '/home/misa/APDFT/prototyping/atomic_energies/results/slice_ve38/dsgdb9nsd_001212/radius_energies.npy'"
   ]
  },
  {
   "cell_type": "markdown",
   "metadata": {},
   "source": [
    "### Method 1"
   ]
  },
  {
   "cell_type": "code",
   "execution_count": 43,
   "metadata": {},
   "outputs": [],
   "source": [
    "extremum_comp = dict()\n",
    "for p in comps:\n",
    "    # load data for compound\n",
    "    p_alch = main+p+'/radius_alchpots_ve38.npy'\n",
    "    alch_pots = np.load(p_alch)\n",
    "#     p_aten = main+p+'/radius_energies_ve30.npy'\n",
    "#     at_en = np.load(p_aten)\n",
    "    radii = np.array([0.5, 1, 1.5, 2.0, 2.5, 3.0, 3.5, 4.0, 4.5, 5.0, 7.0])\n",
    "    \n",
    "    # pick max deviation in alchemical potential of scaling coefficients adjacent to shift coefficient\n",
    "    extremum = []\n",
    "    for center in range(3,9):\n",
    "        alch_pots_norm = alch_pots - alch_pots[center]\n",
    "#         compare absolute values\n",
    "        lower = np.amax(alch_pots_norm[center-1])-np.amin(alch_pots_norm[center-1])\n",
    "        upper = np.amax(alch_pots_norm[center+1])-np.amin(alch_pots_norm[center+1])\n",
    "        extremum.append(max(upper,lower))\n",
    "    extremum = np.array(extremum)\n",
    "    extremum_comp[p] = extremum"
   ]
  },
  {
   "cell_type": "code",
   "execution_count": 44,
   "metadata": {},
   "outputs": [
    {
     "data": {
      "text/plain": [
       "Text(0.5, 0, 'scaling coefficient $r_s$')"
      ]
     },
     "execution_count": 44,
     "metadata": {},
     "output_type": "execute_result"
    },
    {
     "data": {
      "image/png": "[encoded data removed]",
      "text/plain": [
       "<Figure size 432x288 with 1 Axes>"
      ]
     },
     "metadata": {
      "needs_background": "light"
     },
     "output_type": "display_data"
    }
   ],
   "source": [
    "fig, ax = plt.subplots(1,1)\n",
    "for k in extremum_comp.keys():\n",
    "    ax.plot(radii[3:9], extremum_comp[k]*1000, '--o', label=k.split('_')[1])\n",
    "#ax.legend()\n",
    "ax.set_ylabel(r'$ \\Delta_{\\rm{max}}$ (mHa)')\n",
    "ax.set_xlabel(r'scaling coefficient $r_s$')\n",
    "# plt.savefig('/home/misa/projects/Atomic-Energies/figures/density_shoulders/density_cutoff/opt_rs_m1_.png', bbox_inches=\"tight\")"
   ]
  },
  {
   "cell_type": "code",
   "execution_count": 47,
   "metadata": {},
   "outputs": [
    {
     "data": {
      "text/plain": [
       "Text(0.5, 0, 'scaling coefficient $r_s$')"
      ]
     },
     "execution_count": 47,
     "metadata": {},
     "output_type": "execute_result"
    },
    {
     "data": {
      "image/png": "[encoded data removed]",
      "text/plain": [
       "<Figure size 432x288 with 1 Axes>"
      ]
     },
     "metadata": {
      "needs_background": "light"
     },
     "output_type": "display_data"
    }
   ],
   "source": [
    "# averaged over all compounds\n",
    "shp = len(extremum_comp[list(extremum_comp.keys())[0]])\n",
    "average = np.zeros(shp)\n",
    "\n",
    "for k in extremum_comp.keys():\n",
    "    average += extremum_comp[k]\n",
    "average /= len(extremum_comp.keys())\n",
    "\n",
    "fig, ax = plt.subplots(1,1)\n",
    "\n",
    "ax.plot(radii[3:9], average, '--o', label=k.split('_')[1])\n",
    "#ax.legend()\n",
    "ax.set_ylabel(r'$ \\Delta_{\\rm{max}}$ (mHa)')\n",
    "ax.set_xlabel(r'scaling coefficient $r_s$')\n",
    "# plt.savefig('/home/misa/projects/Atomic-Energies/figures/density_shoulders/density_cutoff/opt_rs_m1_mean_.png', bbox_inches=\"tight\")"
   ]
  },
  {
   "cell_type": "markdown",
   "metadata": {},
   "source": [
    "### Method 2"
   ]
  },
  {
   "cell_type": "code",
   "execution_count": 37,
   "metadata": {},
   "outputs": [],
   "source": [
    "extremum_comp = dict()\n",
    "for p in comps:\n",
    "    # load data for compound\n",
    "#     p_alch = main+p+'/radius_alchpots_ve38.npy'\n",
    "    p_alch = main+p+'/radius_alchpots_ve38.npy'\n",
    "    alch_pots = np.load(p_alch)\n",
    "#     p_aten = main+p+'/radius_energies_ve30.npy'\n",
    "#     at_en = np.load(p_aten)\n",
    "    radii = np.array([0.5, 1, 1.5, 2.0, 2.5, 3.0, 3.5, 4.0, 4.5, 5.0, 7.0])\n",
    "    \n",
    "    # pick max deviation in alchemical potential of scaling coefficients adjacent to shift coefficient\n",
    "    extremum = []\n",
    "    for center in range(3,9):\n",
    "        alch_pots_norm = alch_pots - alch_pots[center]\n",
    "\n",
    "#         compare slopes relatively\n",
    "        slopes = get_slopes(radii[center-1:center+2],alch_pots_norm[center-1:center+2])\n",
    "        extremum.append(np.amin(slopes)/np.amax(slopes))\n",
    "        \n",
    "\n",
    "    extremum = np.array(extremum)\n",
    "    extremum_comp[p] = extremum"
   ]
  },
  {
   "cell_type": "code",
   "execution_count": 39,
   "metadata": {},
   "outputs": [
    {
     "data": {
      "image/png": "[encoded data removed]",
      "text/plain": [
       "<Figure size 432x288 with 1 Axes>"
      ]
     },
     "metadata": {
      "needs_background": "light"
     },
     "output_type": "display_data"
    }
   ],
   "source": [
    "fig, ax = plt.subplots(1,1)\n",
    "for k in extremum_comp.keys():\n",
    "    ax.plot(radii[3:9], extremum_comp[k]*1000, '--o', label=k.split('_')[1])\n",
    "ax.legend()\n",
    "ax.set_ylabel(r'slope ratio')\n",
    "ax.set_xlabel(r'scaling coefficient $r_s$')\n",
    "# plt.savefig('/home/misa/projects/Atomic-Energies/figures/density_shoulders/density_cutoff/opt_rs_m2_.png', bbox_inches=\"tight\")"
   ]
  },
  {
   "cell_type": "code",
   "execution_count": 42,
   "metadata": {},
   "outputs": [
    {
     "data": {
      "image/png": "[encoded data removed]",
      "text/plain": [
       "<Figure size 432x288 with 1 Axes>"
      ]
     },
     "metadata": {
      "needs_background": "light"
     },
     "output_type": "display_data"
    }
   ],
   "source": [
    "# averaged over all compounds\n",
    "shp = len(extremum_comp[list(extremum_comp.keys())[0]])\n",
    "average_slope_ratio = np.zeros(shp)\n",
    "\n",
    "for k in extremum_comp.keys():\n",
    "    average_slope_ratio += extremum_comp[k]\n",
    "average_slope_ratio /= len(extremum_comp.keys())\n",
    "\n",
    "fig, ax = plt.subplots(1,1)\n",
    "\n",
    "ax.plot(radii[3:9], average_slope_ratio, '--o')\n",
    "#ax.legend()\n",
    "ax.set_ylabel(r'slope ratio')\n",
    "ax.set_xlabel(r'scaling coefficient $r_s$')\n",
    "# plt.savefig('/home/misa/projects/Atomic-Energies/figures/density_shoulders/density_cutoff/opt_rs_m2_mean_.png', bbox_inches=\"tight\")"
   ]
  },
  {
   "cell_type": "markdown",
   "metadata": {},
   "source": [
    "## Learning curves after density cutoff"
   ]
  },
  {
   "cell_type": "code",
   "execution_count": null,
   "metadata": {},
   "outputs": [],
   "source": [
    "pcutoff_at = '/home/misa/APDFT/prototyping/atomic_energies/results/analyse_learning/cutoff_dens/lcurves_atomisation_per_atom_cutoff4.0.txt'\n",
    "pcutoff_mol = '/home/misa/APDFT/prototyping/atomic_energies/results/analyse_learning/cutoff_dens/lcurves_atomisation_per_molecule_cutoff4.0.txt'\n",
    "cutoff_at = np.loadtxt(pcutoff_at)\n",
    "cutoff_mol = np.loadtxt(pcutoff_mol)\n",
    "\n",
    "pat = '/home/misa/APDFT/prototyping/atomic_energies/results/analyse_learning/mic/lcurve_atomisation_atomic.txt'\n",
    "pmol = '/home/misa/APDFT/prototyping/atomic_energies/results/analyse_learning/mic/lcurve_atomisation_molecule.txt'\n",
    "at = np.loadtxt(pat)\n",
    "mol = np.loadtxt(pmol)"
   ]
  },
  {
   "cell_type": "code",
   "execution_count": null,
   "metadata": {},
   "outputs": [],
   "source": [
    "fig, ax = plt.subplots(1,1)\n",
    "\n",
    "labels = ['cutoff atom', 'cutoff molecule', 'atom', 'molecule']\n",
    "data = [cutoff_at, cutoff_mol, at, mol]\n",
    "\n",
    "for c in zip(data, labels):\n",
    "    ax.plot(c[0][:,0], c[0][:,1], '-o', label = c[1])\n",
    "plt.legend(prop={'size':12}, frameon=False)\n",
    "ax.set_xlabel('# Molecules')\n",
    "ax.set_ylabel('MAE (Ha)')\n",
    "ax.set_xscale('log')\n",
    "ax.set_yscale('log')\n",
    "# plt.savefig('/home/misa/projects/Atomic-Energies/figures/density_shoulders/density_cutoff/lcurves_atomisation.png', bbox_inches=\"tight\")"
   ]
  },
  {
   "cell_type": "markdown",
   "metadata": {},
   "source": [
    "## Learning Curves for different density cutoffs"
   ]
  },
  {
   "cell_type": "code",
   "execution_count": 2,
   "metadata": {},
   "outputs": [],
   "source": [
    "import numpy as np\n",
    "from matplotlib import pyplot as plt"
   ]
  },
  {
   "cell_type": "code",
   "execution_count": 9,
   "metadata": {},
   "outputs": [],
   "source": [
    "base = '/home/misa/APDFT/prototyping/atomic_energies/results/analyse_learning/plot_lcurve_vs_sigma/'\n",
    "pc2 = 'lcurve_cutoff_2.0_sigma_477.7128916668455.txt'\n",
    "pc3 = 'lcurve_cutoff_3.0_sigma_477.7128916668455.txt'\n",
    "pc4 = 'lcurve_cutoff_4.0_sigma_477.7128916668455.txt'\n",
    "pnoc = 'lcurve_477.7128916668455.txt'\n",
    "\n",
    "paths = [base+pc2, base+pc3, base+pc4, base+pnoc]"
   ]
  },
  {
   "cell_type": "code",
   "execution_count": 16,
   "metadata": {},
   "outputs": [
    {
     "data": {
      "text/plain": [
       "<matplotlib.legend.Legend at 0x7f1198110470>"
      ]
     },
     "execution_count": 16,
     "metadata": {},
     "output_type": "execute_result"
    },
    {
     "data": {
      "image/png": "[encoded data removed]",
      "text/plain": [
       "<Figure size 432x288 with 1 Axes>"
      ]
     },
     "metadata": {
      "needs_background": "light"
     },
     "output_type": "display_data"
    }
   ],
   "source": [
    "fig, ax = plt.subplots(1,1)\n",
    "labels = ['2.0', '3.0', '4.0', 'none']\n",
    "\n",
    "for p in zip(paths, labels):\n",
    "    d = np.loadtxt(p[0])\n",
    "    ax.plot(d[:,0], d[:,1], '-o', label='cutoff = '+p[1])\n",
    "    \n",
    "ax.set_xscale('log')\n",
    "ax.set_yscale('log')\n",
    "ax.set_xlabel('# Molecules')\n",
    "ax.set_ylabel('MAE (Ha)')\n",
    "ax.legend()"
   ]
  },
  {
   "cell_type": "code",
   "execution_count": 14,
   "metadata": {},
   "outputs": [
    {
     "data": {
      "text/plain": [
       "array([[1.00000000e+00, 3.55094593e+00, 6.82292894e-02],\n",
       "       [2.00000000e+00, 2.26735763e+00, 3.24031996e-01],\n",
       "       [4.00000000e+00, 1.69034701e+00, 3.35912057e-01],\n",
       "       [8.00000000e+00, 5.28660504e-01, 4.11936902e-02],\n",
       "       [1.60000000e+01, 2.82026913e-01, 1.33271814e-02],\n",
       "       [3.20000000e+01, 2.02762062e-01, 3.43422048e-02],\n",
       "       [6.40000000e+01, 8.81290992e-02, 6.98922405e-03],\n",
       "       [1.28000000e+02, 5.27016037e-02, 7.51150493e-03],\n",
       "       [2.56000000e+02, 3.27414436e-02, 7.04018936e-04],\n",
       "       [5.12000000e+02, 2.32411061e-02, 1.09690128e-03]])"
      ]
     },
     "execution_count": 14,
     "metadata": {},
     "output_type": "execute_result"
    }
   ],
   "source": [
    "d"
   ]
  },
  {
   "cell_type": "markdown",
   "metadata": {},
   "source": [
    "# multiple density files\n",
    "see run_scripts/run_atomisation_cutoff.py"
   ]
  },
  {
   "cell_type": "code",
   "execution_count": null,
   "metadata": {},
   "outputs": [],
   "source": [
    "# cutoff radius (multiples of bohr radius)\n",
    "cradius = 4.0\n",
    "\n",
    "# paths to the compounds\n",
    "#dirs = concatenate_files(['/home/misa/APDFT/prototyping/atomic_energies/results/slice_ve38/paths_atomic_energies'])\n",
    "\n",
    "dirs = ['/home/misa/APDFT/prototyping/atomic_energies/results/slice_ve38/dsgdb9nsd_001212/']\n",
    "for compound_path in dirs:\n",
    "    print(\"entering directory {}\".format(compound_path))\n",
    "    # paths to the cube files\n",
    "    base = compound_path\n",
    "    base = base + 'cube-files/'\n",
    "    cubes = ['ve_8.cube', 've_15.cube', 've_23.cube', 've_30.cube', 've_38.cube']\n",
    "    for i in range(len(cubes)):\n",
    "        cubes[i] = base + cubes[i]\n",
    "\n",
    "    path_to_ueg = '/home/misa/APDFT/prototyping/atomic_energies/results/slice_ve38/ueg/ve_00.cube'\n",
    "    cubes.insert(0, path_to_ueg)\n",
    "\n",
    "    # load\n",
    "    print(\"loading density\")\n",
    "    lam_vals, densities, nuclei, gpts, h_matrix = at.load_cube_data(cubes)\n",
    "    # set density to zero at lambda = 0.0 since we treat system with infinitely large box\n",
    "    densities[0].fill(0.0)\n",
    "\n",
    "    print(\"cutting density\")\n",
    "    for i,d in enumerate(densities):\n",
    "        dens_b = generate_bound_density(d, nuclei, cradius, gpts)\n",
    "        densities[i] = dens_b\n",
    "    \n",
    "\n",
    "\n",
    "    # atomic energy decomposition\n",
    "    print(\"calculate atomic energies\")\n",
    "    nuclei, atomic_energies_with_repulsion, atomic_energies, alch_pots = at.atomic_energy_decomposition(lam_vals, densities, nuclei, gpts, h_matrix)\n"
   ]
  },
  {
   "cell_type": "markdown",
   "metadata": {},
   "source": [
    "# difference in energy for symmetric atoms"
   ]
  },
  {
   "cell_type": "code",
   "execution_count": null,
   "metadata": {},
   "outputs": [],
   "source": [
    "boxes = ['/home/misa/APDFT/prototyping/atomic_energies/results/slice_ve38/dsgdb9nsd_001212/cube-files/ve_8.cube']\n",
    "lam_vals, dens, nuclei, gpts, h_matrix = at.load_cube_data(boxes)\n",
    "energies = []\n",
    "radii = [0.5, 1, 1.5, 2.0, 2.5, 3.0, 3.5, 4.0, 4.5, 5.0, 7.0]\n",
    "for r in radii:\n",
    "    dens_b = generate_bound_density(dens, nuclei, r, gpts)[0]\n",
    "    estat_int = at.calculate_atomic_energies(dens_b, nuclei, gpts, h_matrix)\n",
    "    energies.append(estat_int)"
   ]
  },
  {
   "cell_type": "code",
   "execution_count": null,
   "metadata": {},
   "outputs": [],
   "source": [
    "nuclei"
   ]
  },
  {
   "cell_type": "code",
   "execution_count": null,
   "metadata": {},
   "outputs": [],
   "source": [
    "# no cutoff\n",
    "energies.append(at.calculate_atomic_energies(dens, nuclei, gpts, h_matrix))"
   ]
  },
  {
   "cell_type": "code",
   "execution_count": null,
   "metadata": {},
   "outputs": [],
   "source": [
    "alch_h1 = []\n",
    "alch_h2 = []\n",
    "alch_h3 = []\n",
    "alch_h4 = []\n",
    "\n",
    "for i in range(len(radii)+1):\n",
    "    alch_h1.append(energies[i][2][8])\n",
    "    alch_h2.append(energies[i][2][9])\n",
    "    \n",
    "    alch_h3.append(energies[i][2][10])\n",
    "    alch_h4.append(energies[i][2][11])\n",
    "    \n",
    "alch_h1 = np.array(alch_h1)\n",
    "alch_h2 = np.array(alch_h2)\n",
    "\n",
    "alch_h3 = np.array(alch_h3)\n",
    "alch_h4 = np.array(alch_h4)\n",
    "\n",
    "radii2 = radii.copy()\n",
    "radii2.append(10.0)"
   ]
  },
  {
   "cell_type": "code",
   "execution_count": null,
   "metadata": {},
   "outputs": [],
   "source": [
    "plt.plot(radii2, alch_h1)\n",
    "plt.plot(radii2, alch_h2, '--')\n",
    "\n",
    "plt.plot(radii2, alch_h3)\n",
    "plt.plot(radii2, alch_h4, '--')"
   ]
  },
  {
   "cell_type": "code",
   "execution_count": null,
   "metadata": {},
   "outputs": [],
   "source": [
    "fig, ax = plt.subplots(1,1)\n",
    "ax.plot(radii2,(alch_h1-alch_h2)*1000, '-o', label=r'CH$_3$')\n",
    "ax.plot(radii2,(alch_h4-alch_h3)*1000, '-o', label=r'CH$_2$')\n",
    "ax.set_xlim([0.0,10.0])\n",
    "ax.set_ylim([-0.4,0.1])\n",
    "ax.set_ylabel(r'$\\Delta$ alchemical (mHa)')\n",
    "ax.set_xlabel('scaling coefficient')\n",
    "ax.legend(loc='lower right')\n",
    "# plt.savefig('/home/misa/projects/Atomic-Energies/figures/density_shoulders/density_cutoff/dsgdb9nsd_001212_alchpot_symmetricH.png', bbox_inches=\"tight\")"
   ]
  },
  {
   "cell_type": "code",
   "execution_count": null,
   "metadata": {},
   "outputs": [],
   "source": [
    "(-5.910958466186044369e+00--5.910360650854097564e+00)*1000"
   ]
  },
  {
   "cell_type": "code",
   "execution_count": null,
   "metadata": {},
   "outputs": [],
   "source": [
    "full_box = np.loadtxt('/home/misa/APDFT/prototyping/atomic_energies/results/slice_ve38/dsgdb9nsd_001212/atomic_energies_with_mic_repulsion.txt')\n",
    "alch=full_box[:, 4]\n",
    "atomic=full_box[:, 5]\n",
    "atomisation=full_box[:, 6]\n",
    "atomisation_rep=full_box[:, 7]"
   ]
  },
  {
   "cell_type": "code",
   "execution_count": null,
   "metadata": {},
   "outputs": [],
   "source": [
    "alch"
   ]
  },
  {
   "cell_type": "code",
   "execution_count": null,
   "metadata": {},
   "outputs": [],
   "source": [
    "atomic"
   ]
  },
  {
   "cell_type": "markdown",
   "metadata": {},
   "source": [
    "# Implementation prototype"
   ]
  },
  {
   "cell_type": "markdown",
   "metadata": {},
   "source": [
    "## Determine volume of bound electrons - density extraction"
   ]
  },
  {
   "cell_type": "markdown",
   "metadata": {},
   "source": [
    "Preparation of data, such that only density in spheres around nuclei is used for calculation of atomic energies\n",
    "\n",
    "strategy: set density out side of radii to zero, then these gridpoints do not contribute to the integral $\\int d\\vec{r} \\frac{\\tilde{\\rho}}{|\\vec{r}-\\vec{R_I}|}$\n",
    "\n",
    "this way after loading the density files; an additional step is carried out as implemented in this notebook\n",
    "in this step the density array is changed as described above; then the atomic energies can be calculated as already implemented without any changes to the existing code"
   ]
  },
  {
   "cell_type": "code",
   "execution_count": null,
   "metadata": {},
   "outputs": [],
   "source": [
    "import numpy as np\n",
    "import scipy.spatial as scsp\n",
    "\n",
    "import sys\n",
    "sys.path.insert(0, '/home/misa/APDFT/prototyping/atomic_energies/')\n",
    "\n",
    "import parse_density_files as pdf"
   ]
  },
  {
   "cell_type": "code",
   "execution_count": null,
   "metadata": {},
   "outputs": [],
   "source": [
    "def meshgrid2vector(grid):\n",
    "    \"\"\"\n",
    "    convert components of meshgrid into set of vectors; every vector is a point of the grid\n",
    "    e.g. a 3D grid is converted in a numpy array of shape (number gridpoints, 3)\n",
    "    \"\"\"\n",
    "    flattened_grid = []\n",
    "    for c in grid:\n",
    "        flattened_grid.append(c.flatten())\n",
    "        \n",
    "    return(np.array(flattened_grid).T)\n",
    "    \n",
    "\n",
    "# get grid points lying in sphere with radius r_vdW\n",
    "\n",
    "def get_idc_rvdW(center, rvdw, gpts):\n",
    "    \"\"\"\n",
    "    returns indices of grid points lying in a sphere around center with radius rdwV\n",
    "    \n",
    "    center: center of sphere\n",
    "    rdvw: radius of sphere\n",
    "    coordinates of grid as flattened numpy array, shape (number of grid points, dimension of grid)\n",
    "    \"\"\"\n",
    "    \n",
    "    # distance of every gridpoint from center\n",
    "    distance_array = scsp.distance.cdist(gpts, center)\n",
    "    \n",
    "    \n",
    "    idc_in_sphere = np.where(distance_array[:, 0] <= rvdw)[0] # indices of points within sphere with vdW radius\n",
    "    idc_out_sphere = np.where(distance_array[:, 0] > rvdw)[0] # indices of points out of sphere with vdW radius\n",
    "    \n",
    "    return(idc_in_sphere, idc_out_sphere)"
   ]
  },
  {
   "cell_type": "code",
   "execution_count": null,
   "metadata": {},
   "outputs": [],
   "source": [
    "# load data"
   ]
  },
  {
   "cell_type": "code",
   "execution_count": null,
   "metadata": {},
   "outputs": [],
   "source": [
    "path = '/home/misa/APDFT/prototyping/atomic_energies/results/slice_ve38/dsgdb9nsd_002626/cube-files/ve_8.cube'\n",
    "cube = pdf.CUBE(path)"
   ]
  },
  {
   "cell_type": "code",
   "execution_count": null,
   "metadata": {},
   "outputs": [],
   "source": [
    "# prepare data"
   ]
  },
  {
   "cell_type": "code",
   "execution_count": null,
   "metadata": {},
   "outputs": [],
   "source": [
    "grid = cube.get_grid()\n",
    "density = cube.data_scaled\n",
    "np.amax(density)"
   ]
  },
  {
   "cell_type": "code",
   "execution_count": null,
   "metadata": {},
   "outputs": [],
   "source": [
    "nucleus = np.array([[10.0, 10.0, 10.0]])\n",
    "radius = 5.0\n",
    "\n",
    "nucleus2 = np.array([[20.0, 10.0, 10.0]])\n",
    "radius2 = 7.0"
   ]
  },
  {
   "cell_type": "code",
   "execution_count": null,
   "metadata": {},
   "outputs": [],
   "source": [
    "# get indices within and out of radius around nuclei"
   ]
  },
  {
   "cell_type": "code",
   "execution_count": null,
   "metadata": {},
   "outputs": [],
   "source": [
    "idc_in, idc_out = get_idc_rvdW(nucleus, radius, meshgrid2vector(grid))\n",
    "idc_in2, idc_out2 = get_idc_rvdW(nucleus2, radius2, meshgrid2vector(grid))"
   ]
  },
  {
   "cell_type": "code",
   "execution_count": null,
   "metadata": {},
   "outputs": [],
   "source": [
    "idc_in"
   ]
  },
  {
   "cell_type": "code",
   "execution_count": null,
   "metadata": {},
   "outputs": [],
   "source": [
    "# select all indices that are within at least one radius for one nucleus"
   ]
  },
  {
   "cell_type": "code",
   "execution_count": null,
   "metadata": {},
   "outputs": [],
   "source": [
    "print(idc_in.shape)\n",
    "print(idc_in2.shape)\n",
    "print(idc_in.shape[0]+idc_in2.shape[0])\n",
    "print(np.concatenate([idc_in, idc_in2]).shape)"
   ]
  },
  {
   "cell_type": "code",
   "execution_count": null,
   "metadata": {},
   "outputs": [],
   "source": [
    "all_idc_in = np.concatenate((idc_in, idc_in2))\n",
    "all_idc_in = np.unique(all_idc_in)\n",
    "print(all_idc_in.shape)"
   ]
  },
  {
   "cell_type": "code",
   "execution_count": null,
   "metadata": {},
   "outputs": [],
   "source": [
    "# select all indices that are NOT within at least one radius for one nucleus"
   ]
  },
  {
   "cell_type": "code",
   "execution_count": null,
   "metadata": {},
   "outputs": [],
   "source": [
    "all_idc_out = np.setdiff1d(np.arange(np.prod(density.shape)), all_idc_in, assume_unique=True)"
   ]
  },
  {
   "cell_type": "code",
   "execution_count": null,
   "metadata": {},
   "outputs": [],
   "source": [
    "# set density around nuclei to zero"
   ]
  },
  {
   "cell_type": "code",
   "execution_count": null,
   "metadata": {},
   "outputs": [],
   "source": [
    "density_flattened = density.flatten()\n",
    "density_flattened[all_idc_out] = 0.0"
   ]
  },
  {
   "cell_type": "code",
   "execution_count": null,
   "metadata": {},
   "outputs": [],
   "source": [
    "density = density_flattened.reshape(density.shape)\n",
    "np.amax(density)"
   ]
  },
  {
   "cell_type": "markdown",
   "metadata": {},
   "source": [
    "# Some tests"
   ]
  },
  {
   "cell_type": "code",
   "execution_count": null,
   "metadata": {},
   "outputs": [],
   "source": [
    "import numpy as np\n",
    "import scipy.spatial as scsp\n",
    "\n",
    "import sys\n",
    "sys.path.insert(0, '/home/misa/APDFT/prototyping/atomic_energies/')\n",
    "\n",
    "import parse_density_files as pdf"
   ]
  },
  {
   "cell_type": "code",
   "execution_count": null,
   "metadata": {},
   "outputs": [],
   "source": [
    "# import test data"
   ]
  },
  {
   "cell_type": "code",
   "execution_count": null,
   "metadata": {},
   "outputs": [],
   "source": [
    "path = '/home/misa/APDFT/prototyping/atomic_energies/results/slice_ve38/dsgdb9nsd_002626/cube-files/ve_8.cube'\n",
    "cube = pdf.CUBE(path)"
   ]
  },
  {
   "cell_type": "code",
   "execution_count": null,
   "metadata": {},
   "outputs": [],
   "source": [
    "# calculate distance between center point in cell and gridpoints"
   ]
  },
  {
   "cell_type": "code",
   "execution_count": null,
   "metadata": {},
   "outputs": [],
   "source": [
    "grid = cube.get_grid()\n",
    "x = grid[0].flatten()\n",
    "y = grid[1].flatten()\n",
    "z = grid[2].flatten()\n",
    "\n",
    "distance_array = scsp.distance.cdist(np.array([x,y,z]).T, np.array([[10,10,10]]))"
   ]
  },
  {
   "cell_type": "code",
   "execution_count": null,
   "metadata": {},
   "outputs": [],
   "source": [
    "# select points within certain distance from center point"
   ]
  },
  {
   "cell_type": "code",
   "execution_count": null,
   "metadata": {},
   "outputs": [],
   "source": [
    "np.where(distance_array[:,0] <= 5)[0]"
   ]
  },
  {
   "cell_type": "code",
   "execution_count": null,
   "metadata": {},
   "outputs": [],
   "source": [
    "distance_array[:,0]"
   ]
  },
  {
   "cell_type": "code",
   "execution_count": null,
   "metadata": {},
   "outputs": [],
   "source": [
    "np.where(distance_array <= 5)[0].shape"
   ]
  },
  {
   "cell_type": "code",
   "execution_count": null,
   "metadata": {},
   "outputs": [],
   "source": [
    "np.where(distance_array <= 5)"
   ]
  },
  {
   "cell_type": "code",
   "execution_count": null,
   "metadata": {},
   "outputs": [],
   "source": [
    "# make sure that shapes of inputs are equal"
   ]
  },
  {
   "cell_type": "code",
   "execution_count": null,
   "metadata": {},
   "outputs": [],
   "source": [
    "np.array([[10,10,10]]).shape # shape center point"
   ]
  },
  {
   "cell_type": "code",
   "execution_count": null,
   "metadata": {},
   "outputs": [],
   "source": [
    "np.array([x,y,z]).T.shape # shape grid"
   ]
  },
  {
   "cell_type": "code",
   "execution_count": null,
   "metadata": {},
   "outputs": [],
   "source": [
    "scsp.distance.cdist(np.array([x,y,z]).T, np.array([[10,10,10]])).shape"
   ]
  },
  {
   "cell_type": "code",
   "execution_count": null,
   "metadata": {},
   "outputs": [],
   "source": [
    "# Test if correct distance"
   ]
  },
  {
   "cell_type": "code",
   "execution_count": null,
   "metadata": {},
   "outputs": [],
   "source": [
    "np.linalg.norm(np.array([37.578606, 37.578606, 37.578606]) - np.array([[10,10,10]]))"
   ]
  },
  {
   "cell_type": "code",
   "execution_count": null,
   "metadata": {},
   "outputs": [],
   "source": [
    "np.sqrt(3*27**2)"
   ]
  },
  {
   "cell_type": "code",
   "execution_count": null,
   "metadata": {},
   "outputs": [],
   "source": [
    "def meshgrid2vector(grid):\n",
    "    \"\"\"\n",
    "    convert components of meshgrid into set of vectors; every vector is a point of the grid\n",
    "    e.g. a 3D grid is converted in a numpy array of shape (number gridpoints, 3)\n",
    "    \"\"\"\n",
    "    flattened_grid = []\n",
    "    for c in grid:\n",
    "        flattened_grid.append(c.flatten())\n",
    "        \n",
    "    return(np.array(flattened_grid).T)\n",
    "    \n",
    "\n",
    "# get grid points lying in sphere with radius r_vdW\n",
    "\n",
    "def get_idc_rvdW(center, rvdw, gpts):\n",
    "    \"\"\"\n",
    "    returns indices of grid points lying in a sphere around center with radius rdwV\n",
    "    \n",
    "    center: center of sphere\n",
    "    rdvw: radius of sphere\n",
    "    coordinates of grid as flattened numpy array, shape (number of grid points, dimension of grid)\n",
    "    \"\"\"\n",
    "    \n",
    "    # distance of every gridpoint from center\n",
    "    distance_array = scsp.distance.cdist(gpts, center)\n",
    "    \n",
    "    \n",
    "    idc_in_sphere = np.where(distance_array[:, 0] <= rvdw) # indices of points within sphere with vdW radius\n",
    "    idc_out_sphere = np.where(distance_array[:, 0] > rvdw) # indices of points out of sphere with vdW radius\n",
    "    \n",
    "    return(idc_in_sphere, idc_out_sphere)\n",
    "    "
   ]
  },
  {
   "cell_type": "code",
   "execution_count": null,
   "metadata": {},
   "outputs": [],
   "source": [
    "# set density for points out of distance to center point to zero"
   ]
  },
  {
   "cell_type": "code",
   "execution_count": null,
   "metadata": {},
   "outputs": [],
   "source": [
    "density_flattened = np.reshape(cube.data, 175**3)\n",
    "idc_in, idc_out = get_idc_rvdW(np.array([[10,10,10]]), 5.0, meshgrid2vector(grid))\n",
    "density_flattened[idc_out] = 0.0"
   ]
  },
  {
   "cell_type": "code",
   "execution_count": null,
   "metadata": {},
   "outputs": [],
   "source": [
    "density_flattened.reshape((175, 175, 175))"
   ]
  },
  {
   "cell_type": "code",
   "execution_count": null,
   "metadata": {},
   "outputs": [],
   "source": [
    "# make sure that reshaping is fine"
   ]
  },
  {
   "cell_type": "code",
   "execution_count": null,
   "metadata": {},
   "outputs": [],
   "source": [
    "np.array_equal(np.array([np.reshape(grid[0], 175**3), np.reshape(grid[1], 175**3), np.reshape(grid[2], 175**3)]).T, meshgrid2vector(grid))"
   ]
  },
  {
   "cell_type": "code",
   "execution_count": null,
   "metadata": {},
   "outputs": [],
   "source": [
    "np.array_equal(meshgrid2vector(grid),np.array([x,y,z]).T)"
   ]
  }
 ],
 "metadata": {
  "kernelspec": {
   "display_name": "Python (atmoic-energies)",
   "language": "python",
   "name": "atomic-energies"
  },
  "language_info": {
   "codemirror_mode": {
    "name": "ipython",
    "version": 3
   },
   "file_extension": ".py",
   "mimetype": "text/x-python",
   "name": "python",
   "nbconvert_exporter": "python",
   "pygments_lexer": "ipython3",
   "version": "3.7.3"
  }
 },
 "nbformat": 4,
 "nbformat_minor": 2
}
