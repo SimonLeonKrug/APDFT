{
 "cells": [
  {
   "cell_type": "code",
   "execution_count": 35,
   "metadata": {},
   "outputs": [],
   "source": [
    "import sys\n",
    "sys.path.insert(0, '/home/misa/APDFT/prototyping/atomic_energies')\n",
    "\n",
    "from parse_cube_files import CUBE\n",
    "\n",
    "import matplotlib\n",
    "matplotlib.use('Qt5Agg')\n",
    "from matplotlib import pyplot as plt\n",
    "plt.rcParams.update({'font.size': 22})\n",
    "import numpy as np"
   ]
  },
  {
   "cell_type": "code",
   "execution_count": 39,
   "metadata": {},
   "outputs": [],
   "source": [
    "box_30 = '/home/misa/APDFT/prototyping/atomic_energies/results/test_calculations/decay_density/H2O_cpmd/ve_6/box30/box30_fullmesh.cube'\n",
    "box_10 = '/home/misa/APDFT/prototyping/atomic_energies/results/test_calculations/decay_density/H2O_cpmd/ve_6/box10/cutoff_0200/box10_fullmesh.cube'\n",
    "\n",
    "cubes = []\n",
    "for p in [box_10, box_30]:\n",
    "    cubes.append(CUBE(p))"
   ]
  },
  {
   "cell_type": "code",
   "execution_count": 44,
   "metadata": {},
   "outputs": [
    {
     "data": {
      "text/plain": [
       "<matplotlib.legend.Legend at 0x7ff2905b7be0>"
      ]
     },
     "execution_count": 44,
     "metadata": {},
     "output_type": "execute_result"
    }
   ],
   "source": [
    "fig, ax =plt.subplots(1,1)\n",
    "\n",
    "x_10 = np.linspace(5, 25-cubes[0].NX*cubes[0].X[0]*Bohr/cubes[0].NX, cubes[0].NX)\n",
    "ax.plot(x_10, cubes[0].project((0,2)), '-', label = 'boxsize: 10 Ang')\n",
    "\n",
    "x_30 = np.linspace(0, cubes[1].NX*cubes[1].X[0]*Bohr*(1-1/cubes[1].NX), cubes[1].NX)\n",
    "ax.plot(x_30, cubes[1].project((0,2)), '-', label = 'boxsize: 30 Ang')\n",
    "\n",
    "ax.set_xlabel('Cell coordinate (Ang)')\n",
    "ax.set_ylabel('1D-projection of density')\n",
    "ax.legend()\n",
    "    "
   ]
  }
 ],
 "metadata": {
  "kernelspec": {
   "display_name": "Python [conda env:atomic-energies]",
   "language": "python",
   "name": "conda-env-atomic-energies-py"
  },
  "language_info": {
   "codemirror_mode": {
    "name": "ipython",
    "version": 3
   },
   "file_extension": ".py",
   "mimetype": "text/x-python",
   "name": "python",
   "nbconvert_exporter": "python",
   "pygments_lexer": "ipython3",
   "version": "3.7.3"
  }
 },
 "nbformat": 4,
 "nbformat_minor": 2
}
