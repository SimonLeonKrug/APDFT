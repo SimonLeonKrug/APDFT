{
 "cells": [
  {
   "cell_type": "code",
   "execution_count": 41,
   "metadata": {},
   "outputs": [],
   "source": [
    "import sys\n",
    "sys.path.insert(0, '/home/misa/APDFT/prototyping/atomic_energies')\n",
    "\n",
    "from parse_cube_files import CUBE\n",
    "\n",
    "import matplotlib\n",
    "matplotlib.use('Qt5Agg')\n",
    "from matplotlib import pyplot as plt\n",
    "plt.rcParams.update({'font.size': 22})\n",
    "import numpy as np"
   ]
  },
  {
   "cell_type": "code",
   "execution_count": 2,
   "metadata": {},
   "outputs": [],
   "source": [
    "# cutoff box 10\n",
    "p0025 = '/home/misa/APDFT/prototyping/atomic_energies/results/test_calculations/correction_schemes_pbc/H2O_cpmd/ve_6/box10/cutoff_0025/box10_0025.cube'\n",
    "p0050 = '/home/misa/APDFT/prototyping/atomic_energies/results/test_calculations/correction_schemes_pbc/H2O_cpmd/ve_6/box10/cutoff_0050/box10_0050.cube'\n",
    "p0100 = '/home/misa/APDFT/prototyping/atomic_energies/results/test_calculations/correction_schemes_pbc/H2O_cpmd/ve_6/box10/cutoff_0100/box10_0100.cube'\n",
    "p0200 = '/home/misa/APDFT/prototyping/atomic_energies/results/test_calculations/correction_schemes_pbc/H2O_cpmd/ve_6/box10/cutoff_0200/box10_0200.cube'\n",
    "p0400 = '/home/misa/APDFT/prototyping/atomic_energies/results/test_calculations/correction_schemes_pbc/H2O_cpmd/ve_6/box10/cutoff_0400/box10_0400.cube'\n",
    "p0800 = '/home/misa/APDFT/prototyping/atomic_energies/results/test_calculations/correction_schemes_pbc/H2O_cpmd/ve_6/box10/cutoff_0800/box10_0800.cube'\n",
    "p1200 = '/home/misa/APDFT/prototyping/atomic_energies/results/test_calculations/correction_schemes_pbc/H2O_cpmd/ve_6/box10/cutoff_1200/box10_1200.cube'\n",
    "\n",
    "paths_10 = [p0025, p0050, p0100, p0200, p0400, p0800, p1200]\n",
    "cubes_10 = []\n",
    "for p in paths_10:\n",
    "    cubes_10.append(CUBE(p))"
   ]
  },
  {
   "cell_type": "code",
   "execution_count": 17,
   "metadata": {},
   "outputs": [],
   "source": [
    "# cutoff box 10\n",
    "# p0025 = '/home/misa/APDFT/prototyping/atomic_energies/results/test_calculations/correction_schemes_pbc/H2O_cpmd/ve_6/box10/cutoff_0025/box10_0025.cube'\n",
    "# p0050 = '/home/misa/APDFT/prototyping/atomic_energies/results/test_calculations/correction_schemes_pbc/H2O_cpmd/ve_6/box10/cutoff_0050/box10_0050.cube'\n",
    "# p0100 = '/home/misa/APDFT/prototyping/atomic_energies/results/test_calculations/correction_schemes_pbc/H2O_cpmd/ve_6/box10/cutoff_0100/box10_0100.cube'\n",
    "p_box20_0200 = '/home/misa/APDFT/prototyping/atomic_energies/results/test_calculations/correction_schemes_pbc/H2O_cpmd/ve_6/box20/cutoff_0200/box20_0200.cube'\n",
    "# p0400 = '/home/misa/APDFT/prototyping/atomic_energies/results/test_calculations/correction_schemes_pbc/H2O_cpmd/ve_6/box10/cutoff_0400/box10_0400.cube'\n",
    "# p0800 = '/home/misa/APDFT/prototyping/atomic_energies/results/test_calculations/correction_schemes_pbc/H2O_cpmd/ve_6/box10/cutoff_0800/box10_0800.cube'\n",
    "# p1200 = '/home/misa/APDFT/prototyping/atomic_energies/results/test_calculations/correction_schemes_pbc/H2O_cpmd/ve_6/box10/cutoff_1200/box10_1200.cube'\n",
    "\n",
    "paths_20 = [p_box20_0200] # [p0025, p0050, p0100, p0200, p0400, p0800, p1200]\n",
    "cubes_20 = []\n",
    "for p in paths_20:\n",
    "    cubes_20.append(CUBE(p))\n",
    "    "
   ]
  },
  {
   "cell_type": "code",
   "execution_count": 42,
   "metadata": {},
   "outputs": [
    {
     "data": {
      "text/plain": [
       "Text(0, 0.5, '$|c_{\\\\nu}|^2$')"
      ]
     },
     "execution_count": 42,
     "metadata": {},
     "output_type": "execute_result"
    }
   ],
   "source": [
    "fig, ax = plt.subplots(1,1)\n",
    "fig_fft, ax_fft = plt.subplots(1,1)\n",
    "labels = ['25 Ryd', '50 Ryd', '100 Ryd', '200 Ryd', '400 Ryd', '800 Ryd', '1200 Ryd']\n",
    "\n",
    "for idx, c in enumerate(cubes_10):\n",
    "    x = np.linspace(10/c.NX, 10-10/c.NX, c.NX)\n",
    "    ax.plot(x, c.project((0,2)), label=labels[idx])\n",
    "    \n",
    "    fft = np.fft.fft(c.project((0,2)))\n",
    "    \n",
    "    if len(fft.real)/2 < 40:\n",
    "        l = int(len(fft.real)/2)\n",
    "    else:\n",
    "        l = 40\n",
    "        # original values\n",
    "    ax_fft.plot(np.arange(l), np.abs(fft)[0:l], '-o', label=labels[idx])\n",
    "ax.legend()\n",
    "ax.set_xlabel('Cell coordinate (Ang)')\n",
    "ax.set_ylabel('1D-projected density')\n",
    "\n",
    "ax_fft.legend()\n",
    "ax_fft.set_xlabel(r'Frequency $\\nu$')\n",
    "ax_fft.set_ylabel(r'$|c_{\\nu}|^2$')\n"
   ]
  },
  {
   "cell_type": "code",
   "execution_count": null,
   "metadata": {},
   "outputs": [],
   "source": []
  }
 ],
 "metadata": {
  "kernelspec": {
   "display_name": "Python [conda env:atomic-energies]",
   "language": "python",
   "name": "conda-env-atomic-energies-py"
  },
  "language_info": {
   "codemirror_mode": {
    "name": "ipython",
    "version": 3
   },
   "file_extension": ".py",
   "mimetype": "text/x-python",
   "name": "python",
   "nbconvert_exporter": "python",
   "pygments_lexer": "ipython3",
   "version": "3.7.3"
  }
 },
 "nbformat": 4,
 "nbformat_minor": 2
}
