{
 "cells": [
  {
   "cell_type": "code",
   "execution_count": 1,
   "metadata": {},
   "outputs": [],
   "source": [
    "import matplotlib\n",
    "matplotlib.use('Qt5Agg')\n",
    "from matplotlib import pyplot as plt\n",
    "plt.rcParams.update({'font.size': 22})\n",
    "\n",
    "import numpy as np\n",
    "import itertools\n",
    "import glob\n",
    "\n",
    "import sys\n",
    "sys.path.insert(0, '/home/misa/APDFT/prototyping/atomic_energies/')\n",
    "from parse_cube_files import CUBE\n",
    "import alchemy_tools as at\n"
   ]
  },
  {
   "cell_type": "code",
   "execution_count": 2,
   "metadata": {},
   "outputs": [],
   "source": [
    "# linear fit through origin\n",
    "def linear_m(x, y):\n",
    "    xy_av = np.dot(x,y)\n",
    "    x2_av = np.dot(x,x)\n",
    "    return(xy_av/x2_av)\n"
   ]
  },
  {
   "cell_type": "markdown",
   "metadata": {},
   "source": [
    "# Import data into cube objects"
   ]
  },
  {
   "cell_type": "code",
   "execution_count": 3,
   "metadata": {},
   "outputs": [],
   "source": [
    "paths = glob.glob('/home/misa/APDFT/prototyping/atomic_energies/results/slice_ve38/dsgdb9nsd_001212/cube-files/*.cube')\n",
    "paths.sort()\n",
    "\n",
    "cube_obj = []\n",
    "for p in paths:\n",
    "    cube_obj.append(CUBE(p))"
   ]
  },
  {
   "cell_type": "code",
   "execution_count": 4,
   "metadata": {},
   "outputs": [],
   "source": [
    "# uniform electron gas\n",
    "path_ueg = '/home/misa/APDFT/prototyping/atomic_energies/results/slice_ve38/ueg/ve_00.cube'\n",
    "cube_obj.insert(0, CUBE(path_ueg))"
   ]
  },
  {
   "cell_type": "markdown",
   "metadata": {},
   "source": [
    "# FFT 1D-projected density"
   ]
  },
  {
   "cell_type": "code",
   "execution_count": 5,
   "metadata": {},
   "outputs": [],
   "source": [
    "# fft of all densities\n",
    "# store coefficients for all lambda-values\n",
    "\n",
    "# fourier coefficients for every lambda value\n",
    "fft_freqs = np.empty((len(cube_obj), cube_obj[0].data_scaled.shape[0]), dtype='complex128')\n",
    "\n",
    "# density before scaling\n",
    "dens_unscaled = np.zeros((len(cube_obj), len(cube_obj[0].data_scaled)))\n",
    "\n",
    "lam_val = np.array([0, 4, 6, 8, 10, 12, 14, 15, 16, 18, 20, 22, 23, 24, 26, 28, 29, 30, 32, 34, 36, 38])/38\n",
    "for i in range(len(cube_obj)):\n",
    "    ve_ex = cube_obj[i]\n",
    "    pr = ve_ex.project((1,2))\n",
    "    dens_unscaled[i] = pr\n",
    "\n",
    "    # fft for one specific lambda value\n",
    "    fft = np.fft.fft(pr)\n",
    "    fft_freqs[i] = fft"
   ]
  },
  {
   "cell_type": "code",
   "execution_count": 22,
   "metadata": {},
   "outputs": [],
   "source": [
    "# rescaling of frequencies\n",
    "\n",
    "fft_freqs_scaled = fft_freqs.copy()\n",
    "\n",
    "# do not rescale the coefficients at lambda = 1\n",
    "end_idx = len(lam_val)-1\n",
    "\n",
    "scaled_freqs = range(1,5)\n",
    "\n",
    "for f in scaled_freqs:\n",
    "    # scale imaginary part\n",
    "    m_imag = linear_m(lam_val[:end_idx], fft_freqs.imag[:end_idx,f])\n",
    "    fft_freqs_scaled.imag[:end_idx,f] = lam_val[:end_idx]*m_imag\n",
    "    # scale real part\n",
    "    m_real = linear_m(lam_val[:end_idx], fft_freqs.real[:end_idx,f])\n",
    "    fft_freqs_scaled.real[:end_idx,f] = lam_val[:end_idx]*m_real\n",
    "    "
   ]
  },
  {
   "cell_type": "code",
   "execution_count": 23,
   "metadata": {},
   "outputs": [
    {
     "data": {
      "text/plain": [
       "Text(0, 0.5, '$|c_{\\\\nu}(\\\\lambda)|$')"
      ]
     },
     "execution_count": 23,
     "metadata": {},
     "output_type": "execute_result"
    }
   ],
   "source": [
    "# plot frequencies before and after rescaling\n",
    "\n",
    "fig_coeff, ax_coeff = plt.subplots(1,3)\n",
    "plt.rcParams.update({'font.size': 18})\n",
    "fig_coeff.suptitle(r'Fourier coefficients of the 5 lowest frequencies as a function of $\\lambda$' + '\\n' + 'for the 1D-projected densities of dsgdb9nsd_001212')\n",
    "plt.rcParams.update({'font.size': 22})\n",
    "\n",
    "# same colors for fit and original data\n",
    "prop_cycle = plt.rcParams['axes.prop_cycle']\n",
    "colors = prop_cycle.by_key()['color']\n",
    "\n",
    "for i in range(0,5):\n",
    "    # original values\n",
    "    ax_coeff[0].plot(lam_val, fft_freqs.real[:,i], '-o', label = r'$\\nu = ${}'.format(i), color=colors[i])\n",
    "    ax_coeff[1].plot(lam_val, fft_freqs.imag[:,i], '-o', label = r'$\\nu = ${}'.format(i), color=colors[i])\n",
    "    ax_coeff[2].plot(lam_val, np.abs(fft_freqs[:,i]), '-o', label = r'$\\nu = ${}'.format(i), color=colors[i])\n",
    "    # after rescaling\n",
    "    ax_coeff[0].plot(lam_val, fft_freqs_scaled.real[:,i], '--', color=colors[i])\n",
    "    ax_coeff[1].plot(lam_val, fft_freqs_scaled.imag[:,i], '--', color=colors[i])\n",
    "    ax_coeff[2].plot(lam_val, np.abs(fft_freqs_scaled[:,i]), '--', color=colors[i])\n",
    "\n",
    "ax_coeff[0].set_xlabel(r'$\\lambda$')\n",
    "ax_coeff[0].set_ylabel(r'$c_{\\nu, real}(\\lambda)$')\n",
    "ax_coeff[0].legend()\n",
    "\n",
    "ax_coeff[1].set_xlabel(r'$\\lambda$')\n",
    "ax_coeff[1].set_ylabel(r'$c_{\\nu, im}(\\lambda)$')\n",
    "ax_coeff[1].legend()\n",
    "\n",
    "ax_coeff[2].set_xlabel(r'$\\lambda$')\n",
    "ax_coeff[2].set_ylabel(r'$|c_{\\nu}(\\lambda)|$')"
   ]
  },
  {
   "cell_type": "code",
   "execution_count": 24,
   "metadata": {},
   "outputs": [
    {
     "name": "stdout",
     "output_type": "stream",
     "text": [
      "4.360595673352785e-06\n",
      "3.7755281011520037e-05\n",
      "6.416373028950151e-05\n",
      "1.7859890254379174e-05\n",
      "2.0778774865143346e-05\n",
      "1.685419595831572e-05\n",
      "4.1873553230625804e-05\n",
      "3.563925757449349e-05\n",
      "3.144131658147642e-05\n",
      "6.229712086479322e-05\n",
      "5.480544719273228e-05\n",
      "5.5948641548980715e-05\n",
      "4.309352345907569e-05\n",
      "3.087351369801539e-05\n",
      "1.8205497506279533e-05\n",
      "5.4883729209892484e-05\n",
      "0.00015518850438134973\n",
      "0.00010866984782700179\n",
      "5.597431262313948e-05\n",
      "0.00020802540353079095\n",
      "0.0016909305290532563\n"
     ]
    }
   ],
   "source": [
    "# inverse Fourier transformation of rescaled frequencies\n",
    "rescaled_dens = np.zeros((len(cube_obj), len(cube_obj[0].data_scaled)))\n",
    "\n",
    "for i in range(len(cube_obj)):\n",
    "\n",
    "    ve_ex = cube_obj[i]\n",
    "    pr = ve_ex.project((1,2))\n",
    "    \n",
    "    ifft = np.fft.ifft(fft_freqs_scaled[i])\n",
    "    if not np.allclose(np.abs(ifft), np.abs(ifft.real)):\n",
    "        print(max(np.abs(ifft) - np.abs(ifft.real)))\n",
    "    rescaled_dens[i] = ifft.real"
   ]
  },
  {
   "cell_type": "code",
   "execution_count": 25,
   "metadata": {},
   "outputs": [
    {
     "data": {
      "text/plain": [
       "Text(0, 0.5, '1D-Projected Density')"
      ]
     },
     "execution_count": 25,
     "metadata": {},
     "output_type": "execute_result"
    }
   ],
   "source": [
    "# plot density after and before rescaling\n",
    "\n",
    "# same colors for fit and original data\n",
    "from matplotlib import cm\n",
    "colors = cm.jet(np.linspace(0, 1, len(cube_obj)))\n",
    "\n",
    "x = np.linspace(0, 20, cube_obj[0].data_scaled.shape[0])\n",
    "\n",
    "fig, ax = plt.subplots(1,1)\n",
    "\n",
    "for i in range(len(cube_obj)):\n",
    "\n",
    "    ve_ex = cube_obj[i]\n",
    "    pr = ve_ex.project((1,2))\n",
    "    \n",
    "    ifft = np.fft.ifft(fft_freqs_scaled[i])\n",
    "    \n",
    "    ax.plot(x, rescaled_dens[i], '--', color = colors[i])\n",
    "    ax.plot(x, pr, color = colors[i])\n",
    "ax.set_xlabel('Cell coordinate (Ang)')\n",
    "ax.set_ylabel('1D-Projected Density')"
   ]
  },
  {
   "cell_type": "code",
   "execution_count": null,
   "metadata": {},
   "outputs": [],
   "source": [
    "for i in range(len(cube_obj)):\n",
    "\n",
    "    ve_ex = cube_obj[i]\n",
    "    pr = ve_ex.project((1,2))\n",
    "    \n",
    "    ifft = np.fft.ifft(fft_freqs_scaled[i])\n",
    "    print(max(ifft.imag))\n",
    "    \n",
    "#     print(ifft.sum())"
   ]
  },
  {
   "cell_type": "code",
   "execution_count": null,
   "metadata": {},
   "outputs": [],
   "source": [
    "np.fft.ifft(fft_freqs_scaled[2])"
   ]
  },
  {
   "cell_type": "code",
   "execution_count": null,
   "metadata": {},
   "outputs": [],
   "source": [
    "# plot density at box edges as a function of lambda after and before rescaling\n",
    "\n",
    "x = np.linspace(0, 20, cube_obj[0].data_scaled.shape[0])\n",
    "\n",
    "fig, ax = plt.subplots(1,1)\n",
    "\n",
    "ax.plot(lam_val, dens_unscaled[:,0], '-o', label = 'unscaled, left')\n",
    "ax.plot(lam_val, rescaled_dens[:,0], '-o', label = 'scaled, left')\n",
    "ax.legend()\n",
    "fig, ax = plt.subplots(1,1)\n",
    "ax.plot(lam_val, dens_unscaled[:,dens_unscaled.shape[1]-1], '-o', label = 'unscaled, right')\n",
    "ax.plot(lam_val, rescaled_dens[:,rescaled_dens.shape[1]-1], '-o', label = 'scaled, right')\n",
    "\n",
    "ax.legend()\n",
    "# for i in range(len(cube_obj)):\n",
    "\n",
    "#     rescaled_dens[i][0]\n",
    "    \n",
    "#     ax.plot(x, ifft.real, '--', color = colors[i])\n",
    "#     ax.plot(x, pr, color = colors[i])\n",
    "# ax.set_xlabel('Cell coordinate (Ang)')\n",
    "# ax.set_ylabel('1D-Projected Density')"
   ]
  },
  {
   "cell_type": "markdown",
   "metadata": {},
   "source": [
    "# Non-linear Rescaling\n",
    "The linear rescaling does not improve the behaviour of the density at the box orders sufficiently. Therefore, I use no a non-linear approach for the $\\lambda = [1.0,0.8]$ and compare the trapezoidal integral over all points and only 1.0 and 0.8."
   ]
  },
  {
   "cell_type": "code",
   "execution_count": 26,
   "metadata": {},
   "outputs": [],
   "source": [
    "# cube files from 0.8 to 1.0 (5 objects)\n",
    "cubes_30_38 = []\n",
    "density_unscaled = np.zeros((5, cube_obj[0].data_scaled.shape[0]))\n",
    "\n",
    "for i in range(len(cube_obj)-5, len(cube_obj)):\n",
    "    cubes_30_38.append(cube_obj[i])\n",
    "    \n",
    "    density_unscaled[i-(len(cube_obj)-5)] = cube_obj[i].project((1,2))"
   ]
  },
  {
   "cell_type": "code",
   "execution_count": 27,
   "metadata": {},
   "outputs": [],
   "source": [
    "def fft_cubes(cube_objs):\n",
    "    # fourier coefficients for every lambda value\n",
    "    fft_freqs = np.empty((len(cube_objs), cube_objs[0].data_scaled.shape[0]), dtype='complex128')\n",
    "    # fft for all cubes\n",
    "    for i in range(len(cube_objs)):\n",
    "        ve_ex = cube_objs[i]\n",
    "        pr = ve_ex.project((1,2))\n",
    "        # fft for one specific lambda value\n",
    "        fft = np.fft.fft(pr)\n",
    "        fft_freqs[i] = fft\n",
    "    return(fft_freqs)"
   ]
  },
  {
   "cell_type": "code",
   "execution_count": 28,
   "metadata": {},
   "outputs": [],
   "source": [
    "# Fourier spectrum of densities\n",
    "fft_freqs_30_38 = fft_cubes(cubes_30_38)"
   ]
  },
  {
   "cell_type": "code",
   "execution_count": 35,
   "metadata": {},
   "outputs": [
    {
     "data": {
      "text/plain": [
       "<matplotlib.legend.Legend at 0x7f95dfad8e10>"
      ]
     },
     "execution_count": 35,
     "metadata": {},
     "output_type": "execute_result"
    }
   ],
   "source": [
    "# optimize densities\n",
    "\n",
    "fig_m, ax_m = plt.subplots(1,2)\n",
    "x = np.linspace(0, 20, 175)\n",
    "pr = cubes_30_38[1].project((1,2))\n",
    "# ax_m.plot(x, pr, label='full')\n",
    "\n",
    "fft = np.fft.fft(pr)\n",
    "fft_scaled = fft.copy()\n",
    "fft_scaled[1] = fft_scaled[1]*1.08\n",
    "fft_scaled[2] = fft_scaled[2]*0.92\n",
    "ifft= np.fft.ifft(fft_scaled)\n",
    "\n",
    "ax_m[0].plot(np.arange(len(fft))[0:25],np.abs(fft)[0:25], '-o', label='original')\n",
    "ax_m[0].plot(np.arange(len(fft))[0:25],np.abs(fft_scaled)[0:25], '-o', label='rescaled')\n",
    "\n",
    "ax_m[1].plot(x, pr.real, label=\"original\")\n",
    "ax_m[1].plot(x, ifft, label=\"rescaled\")\n",
    "\n",
    "ax_m[0].set_xlabel('Frequency')\n",
    "ax_m[0].set_ylabel('Intensity')\n",
    "ax_m[1].set_xlabel('Cell coordinate (Ang)')\n",
    "ax_m[1].set_ylabel('Projected Density')\n",
    "\n",
    "ax_m[0].legend()\n",
    "ax_m[1].legend()\n"
   ]
  },
  {
   "cell_type": "code",
   "execution_count": 31,
   "metadata": {},
   "outputs": [],
   "source": [
    "# rescale first 5 densities\n",
    "rescaled_densities = np.zeros((len(cubes_30_38), cubes_30_38[0].data_scaled.shape[0]))\n",
    "for i in range(len(cubes_30_38)):\n",
    "    pr = cubes_30_38[i].project((1,2))\n",
    "    # ax_m.plot(x, pr, label='full')\n",
    "\n",
    "    fft = np.fft.fft(pr)\n",
    "    fft_scaled = fft.copy()\n",
    "    fft_scaled[1] = fft_scaled[1]*1.08\n",
    "    fft_scaled[2] = fft_scaled[2]*0.92\n",
    "    ifft = np.fft.ifft(fft_scaled\n",
    "    rescaled_densities[i] = ifft.real"
   ]
  },
  {
   "cell_type": "code",
   "execution_count": 32,
   "metadata": {},
   "outputs": [],
   "source": [
    "# integrate over lambda\n",
    "integral_rescaled = np.trapz(rescaled_densities, axis=0)\n",
    "integral_unscaled = np.trapz(density_unscaled, axis=0)"
   ]
  },
  {
   "cell_type": "code",
   "execution_count": 34,
   "metadata": {},
   "outputs": [],
   "source": [
    "fig_m, ax_m = plt.subplots(1,1)\n",
    "x = np.linspace(0, 20, 175)\n",
    "for dens in zip(density_unscaled,rescaled_densities):\n",
    "#     ax_m.plot(x,dens[0])\n",
    "    ax_m.plot(x,dens[1])\n"
   ]
  },
  {
   "cell_type": "code",
   "execution_count": null,
   "metadata": {},
   "outputs": [],
   "source": []
  }
 ],
 "metadata": {
  "kernelspec": {
   "display_name": "Python [conda env:atomic-energies]",
   "language": "python",
   "name": "conda-env-atomic-energies-py"
  },
  "language_info": {
   "codemirror_mode": {
    "name": "ipython",
    "version": 3
   },
   "file_extension": ".py",
   "mimetype": "text/x-python",
   "name": "python",
   "nbconvert_exporter": "python",
   "pygments_lexer": "ipython3",
   "version": "3.7.3"
  }
 },
 "nbformat": 4,
 "nbformat_minor": 2
}
