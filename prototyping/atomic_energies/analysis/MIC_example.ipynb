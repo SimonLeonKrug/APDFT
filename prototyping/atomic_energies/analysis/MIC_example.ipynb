{
 "cells": [
  {
   "cell_type": "code",
   "execution_count": 1,
   "metadata": {},
   "outputs": [],
   "source": [
    "import sys\n",
    "sys.path.insert(0, '/home/misa/APDFT/prototyping/atomic_energies')\n",
    "\n",
    "import alchemy_tools as at\n",
    "from geometry_euston import abc_to_hmatrix, distance_pbc\n",
    "from parse_cube_files import CUBE\n",
    "\n",
    "import numpy as np"
   ]
  },
  {
   "cell_type": "markdown",
   "metadata": {},
   "source": [
    "Calculation of the distance between a nucleus and a group of vectors represented on a grid using the minimal image convention"
   ]
  },
  {
   "cell_type": "code",
   "execution_count": 2,
   "metadata": {},
   "outputs": [],
   "source": [
    "def distance_MIC(pos_nuc, meshgrid, h_matrix):\n",
    "    \"\"\"\n",
    "    calculates the distance between the position of the nucleus and the nearest image of a gridpoint\n",
    "    \n",
    "    pos_nuc: position of nucleus\n",
    "    meshgrid: meshgrid containing x,y,z components of every gridpoint\n",
    "    h_matrix: needed for calculation of MIC distance\n",
    "    \"\"\"\n",
    "    \n",
    "    distance = np.zeros((meshgrid[0].shape))\n",
    "    \n",
    "    for idx0 in range(meshgrid[0].shape[0]):\n",
    "        for idx1 in range(meshgrid[0].shape[1]):\n",
    "            for idx2 in range(meshgrid[0].shape[2]):\n",
    "                distance[idx0][idx1][idx2] = distance_pbc(pos_nuc, np.array([meshgrid[0][idx0][idx1][idx2], meshgrid[1][idx0][idx1][idx2], meshgrid[2][idx0][idx1][idx2]]), h_matrix)\n",
    "    \n",
    "    return(distance)"
   ]
  },
  {
   "cell_type": "code",
   "execution_count": 3,
   "metadata": {},
   "outputs": [],
   "source": [
    "def distance_MIC2(pos_nuc, meshgrid, h_matrix):\n",
    "    \"\"\"\n",
    "    calculates the distance between the position of the nucleus and the nearest image of a gridpoint\n",
    "    works so far only for cubic symmetry\n",
    "    \n",
    "    pos_nuc: position of nucleus\n",
    "    meshgrid: meshgrid containing x,y,z components of every gridpoint\n",
    "    h_matrix: needed for calculation of MIC distance\n",
    "    :return: distance between pos_nuc and every gridpoint\n",
    "    :rtype: numpy array of shape meshgrid.shape\n",
    "    \"\"\"\n",
    "    \n",
    "    hinv = np.linalg.inv(h_matrix)\n",
    "    a_t = np.dot(hinv, pos_nuc)\n",
    "    \n",
    "    # calculate product of h_matrix and grid componentwise\n",
    "    b_t_x = hinv[0][0]*meshgrid[0]\n",
    "    b_t_y = hinv[1][1]*meshgrid[1]\n",
    "    b_t_z = +hinv[2][2]*meshgrid[2]\n",
    "    \n",
    "    t_12_x = b_t_x - a_t[0]\n",
    "    t_12_y = b_t_y - a_t[1]\n",
    "    t_12_z = b_t_z - a_t[2]\n",
    "    \n",
    "    t_12_x -= np.round(t_12_x)\n",
    "    t_12_y -= np.round(t_12_y)\n",
    "    t_12_z -= np.round(t_12_z)\n",
    "    \n",
    "    x = np.power(h_matrix[0][0]*t_12_x, 2)\n",
    "    y = np.power(h_matrix[1][1]*t_12_y, 2)\n",
    "    z = np.power(h_matrix[2][2]*t_12_z, 2)\n",
    "    \n",
    "    return(np.sqrt(x+y+z))"
   ]
  },
  {
   "cell_type": "code",
   "execution_count": 4,
   "metadata": {},
   "outputs": [],
   "source": [
    "cube = CUBE('/home/misa/APDFT/prototyping/atomic_energies/results/slice_ve38/dsgdb9nsd_001212/cube-files/ve_04.cube')"
   ]
  },
  {
   "cell_type": "code",
   "execution_count": 21,
   "metadata": {},
   "outputs": [
    {
     "data": {
      "text/plain": [
       "array([[37.794575,  0.      ,  0.      ],\n",
       "       [ 0.      , 37.794575,  0.      ],\n",
       "       [ 0.      ,  0.      , 37.794575]])"
      ]
     },
     "execution_count": 21,
     "metadata": {},
     "output_type": "execute_result"
    }
   ],
   "source": [
    "# abc_to_hmatrix(20, 20, 20, 90, 90, 90)\n",
    "h_matrix = np.array([cube.X*cube.NX, cube.Y*cube.NY, cube.Z*cube.NZ])\n",
    "h_matrix\n"
   ]
  },
  {
   "cell_type": "code",
   "execution_count": 6,
   "metadata": {},
   "outputs": [],
   "source": [
    "hinv = np.linalg.inv(h_matrix)\n",
    "a = cube.atoms[0][1:4]\n",
    "a_t = np.dot(hinv, a)"
   ]
  },
  {
   "cell_type": "code",
   "execution_count": 7,
   "metadata": {},
   "outputs": [
    {
     "data": {
      "text/plain": [
       "0.026458823786217993"
      ]
     },
     "execution_count": 7,
     "metadata": {},
     "output_type": "execute_result"
    }
   ],
   "source": [
    "hinv[0][0]"
   ]
  },
  {
   "cell_type": "code",
   "execution_count": 8,
   "metadata": {},
   "outputs": [],
   "source": [
    "meshgrid = cube.get_grid()"
   ]
  },
  {
   "cell_type": "code",
   "execution_count": 21,
   "metadata": {},
   "outputs": [
    {
     "name": "stdout",
     "output_type": "stream",
     "text": [
      "1min 44s ± 1.75 s per loop (mean ± std. dev. of 7 runs, 1 loop each)\n"
     ]
    }
   ],
   "source": [
    "%timeit distances_mic = distance_MIC(cube.atoms[0][1:4], meshgrid, h_matrix)"
   ]
  },
  {
   "cell_type": "code",
   "execution_count": 9,
   "metadata": {},
   "outputs": [],
   "source": [
    "distances_mic = distance_MIC(cube.atoms[0][1:4], meshgrid, h_matrix)"
   ]
  },
  {
   "cell_type": "code",
   "execution_count": 10,
   "metadata": {},
   "outputs": [
    {
     "name": "stdout",
     "output_type": "stream",
     "text": [
      "250 ms ± 13.5 ms per loop (mean ± std. dev. of 7 runs, 1 loop each)\n"
     ]
    }
   ],
   "source": [
    "%timeit distance2 = distance_MIC2(cube.atoms[0][1:4], meshgrid, h_matrix)"
   ]
  },
  {
   "cell_type": "code",
   "execution_count": 11,
   "metadata": {},
   "outputs": [],
   "source": [
    "distance_mic2 = distance_MIC2(cube.atoms[0][1:4], meshgrid, h_matrix)"
   ]
  },
  {
   "cell_type": "code",
   "execution_count": 13,
   "metadata": {},
   "outputs": [
    {
     "data": {
      "text/plain": [
       "True"
      ]
     },
     "execution_count": 13,
     "metadata": {},
     "output_type": "execute_result"
    }
   ],
   "source": [
    "np.allclose(distances_mic,distance_mic2)"
   ]
  },
  {
   "cell_type": "code",
   "execution_count": 54,
   "metadata": {},
   "outputs": [
    {
     "data": {
      "text/plain": [
       "32.72340188943374"
      ]
     },
     "execution_count": 54,
     "metadata": {},
     "output_type": "execute_result"
    }
   ],
   "source": [
    "np.amax(distance_mic2)"
   ]
  },
  {
   "cell_type": "code",
   "execution_count": 48,
   "metadata": {},
   "outputs": [],
   "source": [
    "meshgrid_xyz = np.vstack([_.flatten() for _ in meshgrid]).T\n",
    "dist_gpt_nuc = np.linalg.norm(meshgrid_xyz - cube.atoms[0][1:4], axis=1)"
   ]
  },
  {
   "cell_type": "code",
   "execution_count": 53,
   "metadata": {},
   "outputs": [
    {
     "data": {
      "text/plain": [
       "35.7188390617939"
      ]
     },
     "execution_count": 53,
     "metadata": {},
     "output_type": "execute_result"
    }
   ],
   "source": [
    "np.amax(dist_gpt_nuc)"
   ]
  },
  {
   "cell_type": "markdown",
   "metadata": {},
   "source": [
    "Calculation of the distance with MIC"
   ]
  },
  {
   "cell_type": "code",
   "execution_count": 2,
   "metadata": {},
   "outputs": [],
   "source": [
    "import alchemy_tools as at"
   ]
  },
  {
   "cell_type": "code",
   "execution_count": 3,
   "metadata": {},
   "outputs": [],
   "source": [
    "base = '/home/misa/APDFT/prototyping/atomic_energies/results/slice_ve38/dsgdb9nsd_001212/cube-files/'\n",
    "filenames = [('ve_08.cube', 8/38), ('ve_15.cube', 15/38), ('ve_23.cube', 23/38), ('ve_30.cube', 30/38),('ve_38.cube', 38/38)]\n",
    "for idx,i in enumerate(filenames):\n",
    "    filenames[idx] = (base+i[0], i[1])\n",
    "cube_dirs = filenames\n",
    "cube_dirs.insert(0, ('/home/misa/APDFT/prototyping/atomic_energies/results/slice_ve38/ueg/ve_00.cube', 0))"
   ]
  },
  {
   "cell_type": "code",
   "execution_count": 4,
   "metadata": {},
   "outputs": [
    {
     "data": {
      "text/plain": [
       "[('/home/misa/APDFT/prototyping/atomic_energies/results/slice_ve38/ueg/ve_00.cube',\n",
       "  0),\n",
       " ('/home/misa/APDFT/prototyping/atomic_energies/results/slice_ve38/dsgdb9nsd_001212/cube-files/ve_08.cube',\n",
       "  0.21052631578947367),\n",
       " ('/home/misa/APDFT/prototyping/atomic_energies/results/slice_ve38/dsgdb9nsd_001212/cube-files/ve_15.cube',\n",
       "  0.39473684210526316),\n",
       " ('/home/misa/APDFT/prototyping/atomic_energies/results/slice_ve38/dsgdb9nsd_001212/cube-files/ve_23.cube',\n",
       "  0.6052631578947368),\n",
       " ('/home/misa/APDFT/prototyping/atomic_energies/results/slice_ve38/dsgdb9nsd_001212/cube-files/ve_30.cube',\n",
       "  0.7894736842105263),\n",
       " ('/home/misa/APDFT/prototyping/atomic_energies/results/slice_ve38/dsgdb9nsd_001212/cube-files/ve_38.cube',\n",
       "  1.0)]"
      ]
     },
     "execution_count": 4,
     "metadata": {},
     "output_type": "execute_result"
    }
   ],
   "source": [
    "filenames"
   ]
  },
  {
   "cell_type": "code",
   "execution_count": 5,
   "metadata": {},
   "outputs": [],
   "source": [
    "nucs, energies, alchpots = at.atomic_energy_decomposition(cube_dirs)"
   ]
  },
  {
   "cell_type": "code",
   "execution_count": 6,
   "metadata": {},
   "outputs": [
    {
     "data": {
      "text/plain": [
       "array([-37.2373768 , -43.97885181, -57.86113179, -62.84254247,\n",
       "       -41.48332069, -38.48330555, -41.5503646 ,  -5.27404281,\n",
       "        -5.39576267,  -5.39437558,  -5.91036065,  -5.91095847])"
      ]
     },
     "execution_count": 6,
     "metadata": {},
     "output_type": "execute_result"
    }
   ],
   "source": [
    "energies"
   ]
  },
  {
   "cell_type": "code",
   "execution_count": 7,
   "metadata": {},
   "outputs": [
    {
     "data": {
      "text/plain": [
       "-351.3223938950071"
      ]
     },
     "execution_count": 7,
     "metadata": {},
     "output_type": "execute_result"
    }
   ],
   "source": [
    "energies.sum()"
   ]
  },
  {
   "cell_type": "code",
   "execution_count": 8,
   "metadata": {},
   "outputs": [
    {
     "data": {
      "text/plain": [
       "array([-6.20622947, -7.32980863, -7.23264147, -7.85531781, -6.91388678,\n",
       "       -6.41388426, -5.93576637, -5.27404281, -5.39576267, -5.39437558,\n",
       "       -5.91036065, -5.91095847])"
      ]
     },
     "execution_count": 8,
     "metadata": {},
     "output_type": "execute_result"
    }
   ],
   "source": [
    "alchpots"
   ]
  },
  {
   "cell_type": "code",
   "execution_count": 9,
   "metadata": {},
   "outputs": [
    {
     "data": {
      "text/plain": [
       "array([[ 6.      , 19.979529, 22.784627, 18.908058],\n",
       "       [ 6.      , 20.35982 , 19.964565, 18.890009],\n",
       "       [ 8.      , 22.344159, 18.857926, 18.863323],\n",
       "       [ 8.      , 18.092893, 18.74945 , 18.905025],\n",
       "       [ 6.      , 18.285827, 16.053484, 18.887816],\n",
       "       [ 6.      , 15.726597, 15.015175, 18.906865],\n",
       "       [ 7.      , 13.735016, 14.125508, 18.920052],\n",
       "       [ 1.      , 21.813395, 23.718436, 18.8968  ],\n",
       "       [ 1.      , 18.878631, 23.358359, 17.25609 ],\n",
       "       [ 1.      , 18.90752 , 23.341078, 20.584704],\n",
       "       [ 1.      , 19.30598 , 15.408752, 17.207074],\n",
       "       [ 1.      , 19.337767, 15.389776, 20.541321]])"
      ]
     },
     "execution_count": 9,
     "metadata": {},
     "output_type": "execute_result"
    }
   ],
   "source": [
    "nucs"
   ]
  },
  {
   "cell_type": "code",
   "execution_count": null,
   "metadata": {},
   "outputs": [],
   "source": []
  }
 ],
 "metadata": {
  "kernelspec": {
   "display_name": "Python [conda env:atomic-energies]",
   "language": "python",
   "name": "conda-env-atomic-energies-py"
  },
  "language_info": {
   "codemirror_mode": {
    "name": "ipython",
    "version": 3
   },
   "file_extension": ".py",
   "mimetype": "text/x-python",
   "name": "python",
   "nbconvert_exporter": "python",
   "pygments_lexer": "ipython3",
   "version": "3.7.3"
  }
 },
 "nbformat": 4,
 "nbformat_minor": 2
}
