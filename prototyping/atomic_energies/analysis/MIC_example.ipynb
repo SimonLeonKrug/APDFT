{
 "cells": [
  {
   "cell_type": "code",
   "execution_count": 10,
   "metadata": {},
   "outputs": [],
   "source": [
    "import sys\n",
    "sys.path.insert(0, '/home/misa/APDFT/prototyping/atomic_energies')\n",
    "\n",
    "import alchemy_tools as at\n",
    "from geometry_euston import abc_to_hmatrix, distance_pbc\n",
    "from parse_cube_files import CUBE\n",
    "\n",
    "import numpy as np"
   ]
  },
  {
   "cell_type": "code",
   "execution_count": 37,
   "metadata": {},
   "outputs": [],
   "source": [
    "def distance_MIC(pos_nuc, meshgrid, h_matrix):\n",
    "    \"\"\"\n",
    "    calculates the distance between the position of the nucleus and the nearest image of a gridpoint\n",
    "    \n",
    "    pos_nuc: position of nucleus\n",
    "    meshgrid: meshgrid containing x,y,z components of every gridpoint\n",
    "    h_matrix: needed for calculation of MIC distance\n",
    "    \"\"\"\n",
    "    \n",
    "    distance = np.zeros((meshgrid[0].shape))\n",
    "    \n",
    "    for idx0 in range(meshgrid[0].shape[0]):\n",
    "        for idx1 in range(meshgrid[0].shape[1]):\n",
    "            for idx2 in range(meshgrid[0].shape[2]):\n",
    "                distance[idx0][idx1][idx2] = distance_pbc(pos_nuc, np.array([meshgrid[0][idx0][idx1][idx2], meshgrid[1][idx0][idx1][idx2], meshgrid[2][idx0][idx1][idx2]]), h_matrix)\n",
    "    \n",
    "    return(distance)"
   ]
  },
  {
   "cell_type": "code",
   "execution_count": null,
   "metadata": {},
   "outputs": [],
   "source": [
    "def distance_MIC2(pos_nuc, meshgrid, h_matrix):\n",
    "    \"\"\"\n",
    "    calculates the distance between the position of the nucleus and the nearest image of a gridpoint\n",
    "    \n",
    "    pos_nuc: position of nucleus\n",
    "    meshgrid: meshgrid containing x,y,z components of every gridpoint\n",
    "    h_matrix: needed for calculation of MIC distance\n",
    "    \"\"\"\n",
    "    \n",
    "    hinv = np.linalg.inv(h_matrix)\n",
    "    a_t = np.dot(hinv, a)\n",
    "    \n",
    "#     b_t = np.dot(hinv, b)\n",
    "    b_t_x = hinv[0]*meshgrid[0]+hinv[1]*meshgrid[1]+hinv[2]*meshgrid[2]\n",
    "    \n",
    "    \n",
    "    distance = np.zeros((meshgrid[0].shape))\n",
    "    \n",
    "    distance[idx0][idx1][idx2] = distance_pbc(pos_nuc, np.array([meshgrid[0][idx0][idx1][idx2], meshgrid[1][idx0][idx1][idx2], meshgrid[2][idx0][idx1][idx2]]), h_matrix)\n",
    "    \n",
    "    return(distance)"
   ]
  },
  {
   "cell_type": "code",
   "execution_count": 51,
   "metadata": {},
   "outputs": [
    {
     "data": {
      "text/plain": [
       "array([0.        , 0.        , 0.02645882])"
      ]
     },
     "execution_count": 51,
     "metadata": {},
     "output_type": "execute_result"
    }
   ],
   "source": [
    "hinv[2]"
   ]
  },
  {
   "cell_type": "code",
   "execution_count": 46,
   "metadata": {},
   "outputs": [],
   "source": [
    "hinv = np.linalg.inv(h_matrix)\n",
    "a = cube.atoms[0][1:4]\n",
    "a_t = np.dot(hinv, a)"
   ]
  },
  {
   "cell_type": "code",
   "execution_count": 47,
   "metadata": {},
   "outputs": [
    {
     "data": {
      "text/plain": [
       "array([0.52863484, 0.60285443, 0.50028497])"
      ]
     },
     "execution_count": 47,
     "metadata": {},
     "output_type": "execute_result"
    }
   ],
   "source": [
    "a_t"
   ]
  },
  {
   "cell_type": "code",
   "execution_count": 8,
   "metadata": {},
   "outputs": [],
   "source": [
    "cube = CUBE('/home/misa/APDFT/prototyping/atomic_energies/results/slice_ve38/dsgdb9nsd_001212/cube-files/ve_04.cube')"
   ]
  },
  {
   "cell_type": "code",
   "execution_count": 16,
   "metadata": {},
   "outputs": [],
   "source": [
    "meshgrid = cube.get_grid()\n",
    "distance_MIC()"
   ]
  },
  {
   "cell_type": "code",
   "execution_count": 21,
   "metadata": {},
   "outputs": [
    {
     "data": {
      "text/plain": [
       "array([19.979529, 22.784627])"
      ]
     },
     "execution_count": 21,
     "metadata": {},
     "output_type": "execute_result"
    }
   ],
   "source": [
    "cube.atoms[0][1:4]"
   ]
  },
  {
   "cell_type": "code",
   "execution_count": 26,
   "metadata": {},
   "outputs": [
    {
     "data": {
      "text/plain": [
       "array([[37.794575,  0.      ,  0.      ],\n",
       "       [ 0.      , 37.794575,  0.      ],\n",
       "       [ 0.      ,  0.      , 37.794575]])"
      ]
     },
     "execution_count": 26,
     "metadata": {},
     "output_type": "execute_result"
    }
   ],
   "source": [
    "# abc_to_hmatrix(20, 20, 20, 90, 90, 90)\n",
    "h_matrix = np.array([cube.X*cube.NX, cube.Y*cube.NY, cube.Z*cube.NZ])\n",
    "h_matrix"
   ]
  },
  {
   "cell_type": "code",
   "execution_count": 38,
   "metadata": {},
   "outputs": [],
   "source": [
    "distances_mic = distance_MIC(cube.atoms[0][1:4], meshgrid, h_matrix)"
   ]
  },
  {
   "cell_type": "code",
   "execution_count": 39,
   "metadata": {},
   "outputs": [
    {
     "data": {
      "text/plain": [
       "(175, 175, 175)"
      ]
     },
     "execution_count": 39,
     "metadata": {},
     "output_type": "execute_result"
    }
   ],
   "source": [
    "distances_mic.shape"
   ]
  },
  {
   "cell_type": "code",
   "execution_count": 42,
   "metadata": {},
   "outputs": [
    {
     "data": {
      "text/plain": [
       "32.72340188943374"
      ]
     },
     "execution_count": 42,
     "metadata": {},
     "output_type": "execute_result"
    }
   ],
   "source": [
    "np.amax(distances_mic)"
   ]
  },
  {
   "cell_type": "code",
   "execution_count": 32,
   "metadata": {},
   "outputs": [
    {
     "data": {
      "text/plain": [
       "array([19.979529, 22.784627, 18.908058])"
      ]
     },
     "execution_count": 32,
     "metadata": {},
     "output_type": "execute_result"
    }
   ],
   "source": [
    "cube.atoms[0][1:4]"
   ]
  },
  {
   "cell_type": "code",
   "execution_count": 44,
   "metadata": {},
   "outputs": [],
   "source": [
    "meshgrid_xyz = np.vstack([_.flatten() for _ in meshgrid]).T\n",
    "dist_gpt_nuc = np.linalg.norm(meshgrid_xyz - cube.atoms[0][1:4], axis=1)"
   ]
  },
  {
   "cell_type": "code",
   "execution_count": 45,
   "metadata": {},
   "outputs": [
    {
     "data": {
      "text/plain": [
       "35.7188390617939"
      ]
     },
     "execution_count": 45,
     "metadata": {},
     "output_type": "execute_result"
    }
   ],
   "source": [
    "np.amax(dist_gpt_nuc)"
   ]
  }
 ],
 "metadata": {
  "kernelspec": {
   "display_name": "Python [conda env:atomic-energies]",
   "language": "python",
   "name": "conda-env-atomic-energies-py"
  },
  "language_info": {
   "codemirror_mode": {
    "name": "ipython",
    "version": 3
   },
   "file_extension": ".py",
   "mimetype": "text/x-python",
   "name": "python",
   "nbconvert_exporter": "python",
   "pygments_lexer": "ipython3",
   "version": "3.7.3"
  }
 },
 "nbformat": 4,
 "nbformat_minor": 2
}
