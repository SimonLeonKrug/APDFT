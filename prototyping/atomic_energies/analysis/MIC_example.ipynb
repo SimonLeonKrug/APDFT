{
 "cells": [
  {
   "cell_type": "code",
   "execution_count": 1,
   "metadata": {},
   "outputs": [],
   "source": [
    "import sys\n",
    "sys.path.insert(0, '/home/misa/APDFT/prototyping/atomic_energies')\n",
    "\n",
    "import alchemy_tools as at\n",
    "from geometry_euston import abc_to_hmatrix, distance_pbc\n",
    "from parse_cube_files import CUBE\n",
    "\n",
    "import numpy as np"
   ]
  },
  {
   "cell_type": "code",
   "execution_count": 2,
   "metadata": {},
   "outputs": [],
   "source": [
    "def distance_MIC(pos_nuc, meshgrid, h_matrix):\n",
    "    \"\"\"\n",
    "    calculates the distance between the position of the nucleus and the nearest image of a gridpoint\n",
    "    \n",
    "    pos_nuc: position of nucleus\n",
    "    meshgrid: meshgrid containing x,y,z components of every gridpoint\n",
    "    h_matrix: needed for calculation of MIC distance\n",
    "    \"\"\"\n",
    "    \n",
    "    distance = np.zeros((meshgrid[0].shape))\n",
    "    \n",
    "    for idx0 in range(meshgrid[0].shape[0]):\n",
    "        for idx1 in range(meshgrid[0].shape[1]):\n",
    "            for idx2 in range(meshgrid[0].shape[2]):\n",
    "                distance[idx0][idx1][idx2] = distance_pbc(pos_nuc, np.array([meshgrid[0][idx0][idx1][idx2], meshgrid[1][idx0][idx1][idx2], meshgrid[2][idx0][idx1][idx2]]), h_matrix)\n",
    "    \n",
    "    return(distance)"
   ]
  },
  {
   "cell_type": "code",
   "execution_count": 3,
   "metadata": {},
   "outputs": [],
   "source": [
    "def distance_MIC2(pos_nuc, meshgrid, h_matrix):\n",
    "    \"\"\"\n",
    "    calculates the distance between the position of the nucleus and the nearest image of a gridpoint\n",
    "    works so far only for cubic symmetry\n",
    "    \n",
    "    pos_nuc: position of nucleus\n",
    "    meshgrid: meshgrid containing x,y,z components of every gridpoint\n",
    "    h_matrix: needed for calculation of MIC distance\n",
    "    :return: distance between pos_nuc and every gridpoint\n",
    "    :rtype: numpy array of shape meshgrid.shape\n",
    "    \"\"\"\n",
    "    \n",
    "    hinv = np.linalg.inv(h_matrix)\n",
    "    a_t = np.dot(hinv, pos_nuc)\n",
    "    \n",
    "    # calculate product of h_matrix and grid componentwise\n",
    "    b_t_x = hinv[0][0]*meshgrid[0]\n",
    "    b_t_y = hinv[1][1]*meshgrid[1]\n",
    "    b_t_z = +hinv[2][2]*meshgrid[2]\n",
    "    \n",
    "    t_12_x = b_t_x - a_t[0]\n",
    "    t_12_y = b_t_y - a_t[1]\n",
    "    t_12_z = b_t_z - a_t[2]\n",
    "    \n",
    "    t_12_x -= np.round(t_12_x)\n",
    "    t_12_y -= np.round(t_12_y)\n",
    "    t_12_z -= np.round(t_12_z)\n",
    "    \n",
    "    x = np.power(h_matrix[0][0]*t_12_x, 2)\n",
    "    y = np.power(h_matrix[1][1]*t_12_y, 2)\n",
    "    z = np.power(h_matrix[2][2]*t_12_z, 2)\n",
    "    \n",
    "    return(np.sqrt(x+y+z))"
   ]
  },
  {
   "cell_type": "code",
   "execution_count": 4,
   "metadata": {},
   "outputs": [],
   "source": [
    "cube = CUBE('/home/misa/APDFT/prototyping/atomic_energies/results/slice_ve38/dsgdb9nsd_001212/cube-files/ve_04.cube')"
   ]
  },
  {
   "cell_type": "code",
   "execution_count": 5,
   "metadata": {},
   "outputs": [
    {
     "data": {
      "text/plain": [
       "array([[37.794575,  0.      ,  0.      ],\n",
       "       [ 0.      , 37.794575,  0.      ],\n",
       "       [ 0.      ,  0.      , 37.794575]])"
      ]
     },
     "execution_count": 5,
     "metadata": {},
     "output_type": "execute_result"
    }
   ],
   "source": [
    "# abc_to_hmatrix(20, 20, 20, 90, 90, 90)\n",
    "h_matrix = np.array([cube.X*cube.NX, cube.Y*cube.NY, cube.Z*cube.NZ])\n",
    "h_matrix"
   ]
  },
  {
   "cell_type": "code",
   "execution_count": 6,
   "metadata": {},
   "outputs": [],
   "source": [
    "hinv = np.linalg.inv(h_matrix)\n",
    "a = cube.atoms[0][1:4]\n",
    "a_t = np.dot(hinv, a)"
   ]
  },
  {
   "cell_type": "code",
   "execution_count": 7,
   "metadata": {},
   "outputs": [
    {
     "data": {
      "text/plain": [
       "0.026458823786217993"
      ]
     },
     "execution_count": 7,
     "metadata": {},
     "output_type": "execute_result"
    }
   ],
   "source": [
    "hinv[0][0]"
   ]
  },
  {
   "cell_type": "code",
   "execution_count": 8,
   "metadata": {},
   "outputs": [],
   "source": [
    "meshgrid = cube.get_grid()"
   ]
  },
  {
   "cell_type": "code",
   "execution_count": 21,
   "metadata": {},
   "outputs": [
    {
     "name": "stdout",
     "output_type": "stream",
     "text": [
      "1min 44s ± 1.75 s per loop (mean ± std. dev. of 7 runs, 1 loop each)\n"
     ]
    }
   ],
   "source": [
    "%timeit distances_mic = distance_MIC(cube.atoms[0][1:4], meshgrid, h_matrix)"
   ]
  },
  {
   "cell_type": "code",
   "execution_count": 9,
   "metadata": {},
   "outputs": [],
   "source": [
    "distances_mic = distance_MIC(cube.atoms[0][1:4], meshgrid, h_matrix)"
   ]
  },
  {
   "cell_type": "code",
   "execution_count": 10,
   "metadata": {},
   "outputs": [
    {
     "name": "stdout",
     "output_type": "stream",
     "text": [
      "250 ms ± 13.5 ms per loop (mean ± std. dev. of 7 runs, 1 loop each)\n"
     ]
    }
   ],
   "source": [
    "%timeit distance2 = distance_MIC2(cube.atoms[0][1:4], meshgrid, h_matrix)"
   ]
  },
  {
   "cell_type": "code",
   "execution_count": 11,
   "metadata": {},
   "outputs": [],
   "source": [
    "distance_mic2 = distance_MIC2(cube.atoms[0][1:4], meshgrid, h_matrix)"
   ]
  },
  {
   "cell_type": "code",
   "execution_count": 13,
   "metadata": {},
   "outputs": [
    {
     "data": {
      "text/plain": [
       "True"
      ]
     },
     "execution_count": 13,
     "metadata": {},
     "output_type": "execute_result"
    }
   ],
   "source": [
    "np.allclose(distances_mic,distance_mic2)"
   ]
  }
 ],
 "metadata": {
  "kernelspec": {
   "display_name": "Python [conda env:atomic-energies]",
   "language": "python",
   "name": "conda-env-atomic-energies-py"
  },
  "language_info": {
   "codemirror_mode": {
    "name": "ipython",
    "version": 3
   },
   "file_extension": ".py",
   "mimetype": "text/x-python",
   "name": "python",
   "nbconvert_exporter": "python",
   "pygments_lexer": "ipython3",
   "version": "3.7.3"
  }
 },
 "nbformat": 4,
 "nbformat_minor": 2
}
