{
 "cells": [
  {
   "cell_type": "code",
   "execution_count": 1,
   "metadata": {},
   "outputs": [],
   "source": [
    "import numpy as np\n",
    "from matplotlib import pyplot as plt\n",
    "\n",
    "import sys\n",
    "sys.path.insert(0, '/home/misa/git_repositories/APDFT/prototyping/atomic_energies/')\n",
    "\n",
    "import qml_interface as qmi"
   ]
  },
  {
   "cell_type": "code",
   "execution_count": 2,
   "metadata": {},
   "outputs": [],
   "source": [
    "# load dE at 20 and 30 Ang for both molecules\n",
    "dsdg_003664_b20 = np.loadtxt('/home/misa/APDFT/prototyping/atomic_energies/results/slice_ve38/dsgdb9nsd_003664/atomic_energies_with_mic.txt')\n",
    "dsdg_003664_b30 = np.loadtxt('/home/misa/projects/Atomic-Energies/data/ueg_reference/boxsize/dsgdb9nsd_003664_atomic_energies_with_mic_box30.txt')\n",
    "\n",
    "dsdg_003700_b20 = np.loadtxt('/home/misa/APDFT/prototyping/atomic_energies/results/slice_ve38/dsgdb9nsd_003700/atomic_energies_with_mic.txt')\n",
    "dsdg_003700_b30 = np.loadtxt('/home/misa/projects/Atomic-Energies/data/ueg_reference/boxsize/dsgdb9nsd_003700_atomic_energies_with_mic_box30.txt')\n"
   ]
  },
  {
   "cell_type": "code",
   "execution_count": 66,
   "metadata": {},
   "outputs": [],
   "source": [
    "# find the most similar atoms\n",
    "\n",
    "# make coulomb representations\n",
    "reps_dsdg_003664 = qmi.generate_atomic_representations([dsdg_003664_b20], [len(dsdg_003664_b20)])\n",
    "reps_dsdg_003700 = qmi.generate_atomic_representations([dsdg_003700_b20], [len(dsdg_003700_b20)])\n",
    "\n",
    "# calculate distance matrix\n",
    "\n",
    "dmatrix = np.zeros((len(reps_dsdg_003664), len(reps_dsdg_003700)))\n",
    "              \n",
    "for i, r in enumerate(reps_dsdg_003664):\n",
    "    for j, r2 in enumerate(reps_dsdg_003700):\n",
    "        dmatrix[i,j] = np.linalg.norm(r-r2)\n",
    "\n",
    "# find closest pairs\n",
    "pairs = []\n",
    "\n",
    "for i in range(dmatrix.shape[0]):\n",
    "    dmatrix_row = dmatrix[i]\n",
    "    ind = np.where( dmatrix_row == np.amin(dmatrix_row[np.where(dmatrix_row > 0)]))\n",
    "    tmp = [i, ind[0][0]]\n",
    "    #tmp.sort()\n",
    "    pairs.append(tmp)\n",
    "# pairs = []\n",
    "# import itertools\n",
    "# pairs.sort()\n",
    "# pairs = list(pairs for pairs,_ in itertools.groupby(pairs))"
   ]
  },
  {
   "cell_type": "code",
   "execution_count": 84,
   "metadata": {},
   "outputs": [
    {
     "data": {
      "text/plain": [
       "[[0, 0],\n",
       " [1, 1],\n",
       " [2, 5],\n",
       " [3, 6],\n",
       " [4, 4],\n",
       " [5, 3],\n",
       " [6, 2],\n",
       " [7, 9],\n",
       " [8, 7],\n",
       " [9, 8],\n",
       " [10, 12],\n",
       " [11, 11],\n",
       " [12, 10]]"
      ]
     },
     "execution_count": 84,
     "metadata": {},
     "output_type": "execute_result"
    }
   ],
   "source": [
    "pairs"
   ]
  },
  {
   "cell_type": "code",
   "execution_count": 75,
   "metadata": {},
   "outputs": [],
   "source": [
    "# calculate the energy difference between these atoms at boxsize = 20 and boxsize = 30\n",
    "def delta_E(comp1, comp2, pairs):\n",
    "    mu = []\n",
    "    e = []\n",
    "    e_at = []\n",
    "    for p in pairs:\n",
    "        mu.append(comp1[p[0],4] - comp2[p[1],4])\n",
    "        e.append(comp1[p[0],5] - comp2[p[1],5])\n",
    "        e_at.append(comp1[p[0],6] - comp2[p[1],6])\n",
    "    return(np.array(mu), np.array(e), np.array(e_at))"
   ]
  },
  {
   "cell_type": "code",
   "execution_count": 76,
   "metadata": {},
   "outputs": [],
   "source": [
    "# boxsize = 20\n",
    "mu20, e20, e_at20 = delta_E(dsdg_003664_b20, dsdg_003700_b20, pairs)\n",
    "# boxsize = 30\n",
    "mu30, e30, e_at30 = delta_E(dsdg_003664_b30, dsdg_003700_b30, pairs)"
   ]
  },
  {
   "cell_type": "code",
   "execution_count": null,
   "metadata": {},
   "outputs": [],
   "source": [
    "# How big is the difference between dE at bs = 20 and bs = 30?"
   ]
  },
  {
   "cell_type": "code",
   "execution_count": 77,
   "metadata": {},
   "outputs": [
    {
     "data": {
      "text/plain": [
       "array([-7.40952021e-04, -2.59063764e-03, -1.78567115e-03, -6.78603496e-04,\n",
       "        1.24842316e-03,  4.41679461e-05,  4.03978338e-04,  7.04937649e-03,\n",
       "       -3.36933954e-03, -7.02622665e-03,  7.73853693e-04,  5.74455066e-03,\n",
       "        1.49320045e-02])"
      ]
     },
     "execution_count": 77,
     "metadata": {},
     "output_type": "execute_result"
    }
   ],
   "source": [
    "mu20-mu30"
   ]
  },
  {
   "cell_type": "code",
   "execution_count": 80,
   "metadata": {},
   "outputs": [
    {
     "data": {
      "text/plain": [
       "array([-0.00444571, -0.01554383, -0.01071403, -0.00542883,  0.00749054,\n",
       "        0.00030918,  0.00282785,  0.00704938, -0.00336934, -0.00702623,\n",
       "        0.00077385,  0.00574455,  0.014932  ])"
      ]
     },
     "execution_count": 80,
     "metadata": {},
     "output_type": "execute_result"
    }
   ],
   "source": [
    "e20 - e30"
   ]
  },
  {
   "cell_type": "code",
   "execution_count": 79,
   "metadata": {},
   "outputs": [
    {
     "data": {
      "text/plain": [
       "array([-0.00387643, -0.01497455, -0.01014475, -0.00485955,  0.00805982,\n",
       "        0.00087845,  0.00339713,  0.00761865, -0.00280006, -0.00645695,\n",
       "        0.00134313,  0.00631383,  0.01550128])"
      ]
     },
     "execution_count": 79,
     "metadata": {},
     "output_type": "execute_result"
    }
   ],
   "source": [
    "e_at20 - e_at30"
   ]
  }
 ],
 "metadata": {
  "kernelspec": {
   "display_name": "Python [conda env:atomic-energies]",
   "language": "python",
   "name": "conda-env-atomic-energies-py"
  },
  "language_info": {
   "codemirror_mode": {
    "name": "ipython",
    "version": 3
   },
   "file_extension": ".py",
   "mimetype": "text/x-python",
   "name": "python",
   "nbconvert_exporter": "python",
   "pygments_lexer": "ipython3",
   "version": "3.7.3"
  }
 },
 "nbformat": 4,
 "nbformat_minor": 4
}
