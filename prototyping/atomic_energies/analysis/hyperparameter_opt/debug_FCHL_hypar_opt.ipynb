{
 "cells": [
  {
   "cell_type": "code",
   "execution_count": 5,
   "metadata": {},
   "outputs": [],
   "source": [
    "import numpy as np\n",
    "import qml\n",
    "import sys\n",
    "sys.path.insert(0, '/home/misa/APDFT/prototyping/atomic_energies/')\n",
    "import qml_interface as qmi\n",
    "\n",
    "import matplotlib\n",
    "matplotlib.use(\"Qt5Agg\")\n",
    "from matplotlib import pyplot as plt"
   ]
  },
  {
   "cell_type": "markdown",
   "metadata": {},
   "source": [
    "# Indices correct?\n",
    "\n",
    "compare indices for manually created small atomic kernel with full kernel"
   ]
  },
  {
   "cell_type": "code",
   "execution_count": 2,
   "metadata": {},
   "outputs": [],
   "source": [
    "data, molecule_size = qmi.load_alchemy_data(qmi.wrapper_alch_data())"
   ]
  },
  {
   "cell_type": "code",
   "execution_count": 3,
   "metadata": {},
   "outputs": [],
   "source": [
    "# choose random molecules\n",
    "global_tr, global_test = qmi.get_indices(len(molecule_size), 3)\n",
    "global_tr = np.array([ 14, 519, 549])\n",
    "tr_ind = qmi.get_local_idx(global_tr, molecule_size)\n",
    "test_ind = qmi.get_local_idx(global_test, molecule_size)"
   ]
  },
  {
   "cell_type": "code",
   "execution_count": null,
   "metadata": {},
   "outputs": [],
   "source": [
    "# calculate representation and atomic kernels\n",
    "reps = []\n",
    "for i in global_tr:\n",
    "    rep_fchl = qml.fchl.generate_representation(data[i][:, 1:4], data[i][:,0], max_size=molecule_size[i])\n",
    "    reps.append(rep_fchl)"
   ]
  },
  {
   "cell_type": "code",
   "execution_count": null,
   "metadata": {},
   "outputs": [],
   "source": [
    "sigma = 432.8761281083057\n",
    "kernel00 = qml.fchl.fchl_scalar_kernels.get_atomic_kernels(reps[0], reps[0], kernel_args={\"sigma\":[sigma],})[0]\n",
    "kernel01 = qml.fchl.fchl_scalar_kernels.get_atomic_kernels(reps[0], reps[1], kernel_args={\"sigma\":[sigma],})[0]\n",
    "kernel02 = qml.fchl.fchl_scalar_kernels.get_atomic_kernels(reps[0], reps[2], kernel_args={\"sigma\":[sigma],})[0]\n",
    "kernel11 = qml.fchl.fchl_scalar_kernels.get_atomic_kernels(reps[1], reps[1], kernel_args={\"sigma\":[sigma],})[0]\n",
    "kernel12 = qml.fchl.fchl_scalar_kernels.get_atomic_kernels(reps[1], reps[2], kernel_args={\"sigma\":[sigma],})[0]\n",
    "kernel22 = qml.fchl.fchl_scalar_kernels.get_atomic_kernels(reps[2], reps[2], kernel_args={\"sigma\":[sigma],})[0]"
   ]
  },
  {
   "cell_type": "code",
   "execution_count": null,
   "metadata": {},
   "outputs": [],
   "source": [
    "kernel3x3 = np.block([[kernel00, kernel01, kernel02], [kernel01.T, kernel11, kernel12], [kernel02.T, kernel12.T, kernel22]])"
   ]
  },
  {
   "cell_type": "code",
   "execution_count": null,
   "metadata": {},
   "outputs": [],
   "source": [
    "# kernel between molecule at index 0 and molecule at index 2\n",
    "\n",
    "# select correct indices\n",
    "start_idx = molecule_size[14] + molecule_size[519]\n",
    "print(start_idx)\n",
    "end_idx = start_idx + molecule_size[549] - 1\n",
    "print(end_idx)\n",
    "\n",
    "# pick slice\n",
    "kernel3x3_02 = kernel3x3[0:16, 26:39]"
   ]
  },
  {
   "cell_type": "code",
   "execution_count": null,
   "metadata": {},
   "outputs": [],
   "source": [
    "# load kernel"
   ]
  },
  {
   "cell_type": "code",
   "execution_count": null,
   "metadata": {},
   "outputs": [],
   "source": [
    "kernel_full = np.loadtxt('/home/misa/APDFT/prototyping/atomic_energies/results/analyse_learning/FCHL/full_kernel_sig432.8761281083057')"
   ]
  },
  {
   "cell_type": "code",
   "execution_count": null,
   "metadata": {},
   "outputs": [],
   "source": [
    "# indices in full kernel\n",
    "start_idx_full_row = molecule_size[0:14].sum()\n",
    "end_idx_full_row = start_idx_full_row + molecule_size[14]-1"
   ]
  },
  {
   "cell_type": "code",
   "execution_count": null,
   "metadata": {},
   "outputs": [],
   "source": [
    "start_idx_full_column = molecule_size[0:549].sum()\n",
    "end_idx_full_column= start_idx_full_column + molecule_size[549]-1"
   ]
  },
  {
   "cell_type": "code",
   "execution_count": null,
   "metadata": {},
   "outputs": [],
   "source": [
    "# select correct indices\n",
    "kernel_full_slice = kernel_full[start_idx_full_row:end_idx_full_row+1, start_idx_full_column:end_idx_full_column+1]"
   ]
  },
  {
   "cell_type": "code",
   "execution_count": null,
   "metadata": {},
   "outputs": [],
   "source": [
    "kernel02 - kernel_full_slice"
   ]
  },
  {
   "cell_type": "code",
   "execution_count": null,
   "metadata": {},
   "outputs": [],
   "source": [
    "kernel3x3_02 - kernel_full_slice"
   ]
  },
  {
   "cell_type": "markdown",
   "metadata": {},
   "source": [
    "## indices are correctly assigned in full matrix\n",
    "## what about kernel splitting during hyperparameter splitting?"
   ]
  },
  {
   "cell_type": "code",
   "execution_count": null,
   "metadata": {},
   "outputs": [],
   "source": [
    "print(start_idx_full_row)\n",
    "print(end_idx_full_row)"
   ]
  },
  {
   "cell_type": "code",
   "execution_count": null,
   "metadata": {},
   "outputs": [],
   "source": [
    "# split kernel\n",
    "tr_kernel, test_kernel = qmi.split_kernel(kernel_full, tr_ind, test_ind)"
   ]
  },
  {
   "cell_type": "code",
   "execution_count": null,
   "metadata": {},
   "outputs": [],
   "source": [
    "# correct kernel selected? yes identical to manually computed kernel\n",
    "print(np.amax(tr_kernel-kernel3x3))\n",
    "print(np.amin(tr_kernel-kernel3x3))"
   ]
  },
  {
   "cell_type": "markdown",
   "metadata": {},
   "source": [
    "## Difference between kernels with different sigma"
   ]
  },
  {
   "cell_type": "code",
   "execution_count": 15,
   "metadata": {},
   "outputs": [],
   "source": [
    "import numpy as np\n",
    "import qml\n",
    "import sys\n",
    "sys.path.insert(0, '/home/misa/APDFT/prototyping/atomic_energies/')\n",
    "import qml_interface as qmi"
   ]
  },
  {
   "cell_type": "code",
   "execution_count": 27,
   "metadata": {},
   "outputs": [],
   "source": [
    "kernel_full1 = np.loadtxt('/home/misa/APDFT/prototyping/atomic_energies/results/analyse_learning/FCHL/full_kernel_sig432.8761281083057')"
   ]
  },
  {
   "cell_type": "code",
   "execution_count": 30,
   "metadata": {},
   "outputs": [],
   "source": [
    "kernel_full2 = np.loadtxt('/home/misa/APDFT/prototyping/atomic_energies/results/analyse_learning/FCHL/full_kernel_sig10000.0')"
   ]
  },
  {
   "cell_type": "code",
   "execution_count": 31,
   "metadata": {},
   "outputs": [
    {
     "data": {
      "text/plain": [
       "array([[0.00000000e+00, 1.43517254e-08, 1.11022302e-16, ...,\n",
       "        5.08949919e-07, 3.33393885e-06, 3.33395256e-06],\n",
       "       [1.43517254e-08, 0.00000000e+00, 1.43518569e-08, ...,\n",
       "        4.97603471e-07, 3.32422847e-06, 3.32425100e-06],\n",
       "       [1.11022302e-16, 1.43518569e-08, 0.00000000e+00, ...,\n",
       "        5.08950024e-07, 3.33393894e-06, 3.33395265e-06],\n",
       "       ...,\n",
       "       [5.08949919e-07, 4.97603471e-07, 5.08950024e-07, ...,\n",
       "        0.00000000e+00, 4.31655907e-06, 4.31658268e-06],\n",
       "       [3.33393885e-06, 3.32422847e-06, 3.33393894e-06, ...,\n",
       "        4.31655907e-06, 0.00000000e+00, 4.35651515e-13],\n",
       "       [3.33395256e-06, 3.32425100e-06, 3.33395265e-06, ...,\n",
       "        4.31658268e-06, 4.35651515e-13, 0.00000000e+00]])"
      ]
     },
     "execution_count": 31,
     "metadata": {},
     "output_type": "execute_result"
    }
   ],
   "source": [
    "kernel_full2-kernel_full1"
   ]
  },
  {
   "cell_type": "markdown",
   "metadata": {},
   "source": [
    "## Training error as function of sigma"
   ]
  },
  {
   "cell_type": "code",
   "execution_count": 52,
   "metadata": {},
   "outputs": [],
   "source": [
    "import numpy as np\n",
    "import qml\n",
    "import sys\n",
    "sys.path.insert(0, '/home/misa/APDFT/prototyping/atomic_energies/')\n",
    "import qml_interface as qmi\n",
    "import glob\n",
    "import re\n",
    "\n",
    "# paths to kernels\n",
    "paths = glob.glob('/home/misa/APDFT/prototyping/atomic_energies/results/analyse_learning/FCHL/full_kernel_sig*')\n",
    "\n",
    "# indices for training kernel selection\n",
    "global_tr = np.array([ 14, 519, 549])\n",
    "data, molecule_size = qmi.load_alchemy_data(qmi.wrapper_alch_data())\n",
    "tr_ind = qmi.get_local_idx(global_tr, molecule_size)\n",
    "\n",
    "global_tr, global_test = qmi.get_indices(len(molecule_size), 3)\n",
    "global_tr = np.array([ 14, 519, 549])\n",
    "tr_ind = qmi.get_local_idx(global_tr, molecule_size)\n",
    "test_ind = qmi.get_local_idx(global_test, molecule_size)\n",
    "\n",
    "error = []\n",
    "kernel_diff= []\n",
    "\n",
    "for p in paths:\n",
    "    if re.search('lam',p):\n",
    "        pass\n",
    "    else:\n",
    "        kernel_full1 = np.loadtxt(p)\n",
    "        \n",
    "        # calculate training error\n",
    "        tr_kernel, test_kernel = qmi.split_kernel(kernel_full1, tr_ind, test_ind)\n",
    "        labels = qmi.generate_label_vector(data, molecule_size.sum(), value='atomisation')\n",
    "        tr_label = labels[tr_ind]\n",
    "\n",
    "        coeffs = qml.math.cho_solve(tr_kernel, tr_label)\n",
    "        pred_label = np.dot(tr_kernel, coeffs)\n",
    "        tr_error = np.abs(tr_label-pred_label)\n",
    "        \n",
    "        error.append([float(p.split('sig')[1]), tr_error.mean()])\n",
    "        \n",
    "        # maximum difference between to elements in training kernel\n",
    "        max_diff = np.amax(tr_kernel) - np.amin(tr_kernel)\n",
    "        kernel_diff.append([float(p.split('sig')[1]), max_diff])"
   ]
  },
  {
   "cell_type": "code",
   "execution_count": 58,
   "metadata": {},
   "outputs": [],
   "source": [
    "error.sort()\n",
    "error\n",
    "tr_errors = np.array(error)"
   ]
  },
  {
   "cell_type": "code",
   "execution_count": 59,
   "metadata": {},
   "outputs": [
    {
     "data": {
      "text/plain": [
       "array([[1.00000000e-01, 1.00000000e+00],\n",
       "       [2.84803587e-01, 9.99988513e-01],\n",
       "       [8.11130831e-01, 7.53962628e-01],\n",
       "       [2.31012970e+00, 1.58760287e-01],\n",
       "       [6.57933225e+00, 2.10877620e-02],\n",
       "       [1.87381742e+01, 2.62415228e-03],\n",
       "       [5.33669923e+01, 3.23890518e-04],\n",
       "       [1.51991108e+02, 3.99364074e-05],\n",
       "       [4.32876128e+02, 4.92363316e-06],\n",
       "       [1.23284674e+03, 6.07009819e-07],\n",
       "       [3.51119173e+03, 7.48350275e-08],\n",
       "       [1.00000000e+04, 9.22601229e-09]])"
      ]
     },
     "execution_count": 59,
     "metadata": {},
     "output_type": "execute_result"
    }
   ],
   "source": [
    "kernel_diff.sort()\n",
    "kernel_diff_np = np.array(kernel_diff)\n",
    "kernel_diff_np"
   ]
  },
  {
   "cell_type": "code",
   "execution_count": 60,
   "metadata": {},
   "outputs": [],
   "source": [
    "# tr_errors = np.array([[0.1, 9.533845087234126e-07],\n",
    "#  [0.2848035868435802, 1.1146930695175114e-05],\n",
    "#  [0.8111308307896871, 0.0002756277498121068],\n",
    "#  [2.3101297000831593, 0.0035897837548015087],\n",
    "#  [6.579332246575679, 3273337966246805.5],\n",
    "#  [18.73817422860383, 150713133386679.62],\n",
    "#  [53.36699231206307, 4.2190757635430615e+18],\n",
    "#  [151.99110829529332, 1.9391011745425462e+21],\n",
    "#  [432.8761281083057, 1.3728786113167146e+22],\n",
    "#  [1232.8467394420659, 5.937093237082583e+22],\n",
    "#  [3511.1917342151273, 1.8727704323267042e+27],\n",
    "#  [10000.0, 3.2333931384220235e+23]])"
   ]
  },
  {
   "cell_type": "code",
   "execution_count": 64,
   "metadata": {},
   "outputs": [
    {
     "data": {
      "text/plain": [
       "Text(0, 0.5, 'training error')"
      ]
     },
     "execution_count": 64,
     "metadata": {},
     "output_type": "execute_result"
    }
   ],
   "source": [
    "plt.plot(tr_errors[:,0], tr_errors[:,1], '-o')\n",
    "plt.xscale('log')\n",
    "plt.yscale('log')\n",
    "plt.xlabel(r'$\\sigma$')\n",
    "plt.ylabel('training error')"
   ]
  },
  {
   "cell_type": "code",
   "execution_count": 63,
   "metadata": {},
   "outputs": [
    {
     "data": {
      "text/plain": [
       "Text(0, 0.5, 'Max Kerneldiff')"
      ]
     },
     "execution_count": 63,
     "metadata": {},
     "output_type": "execute_result"
    }
   ],
   "source": [
    "plt.plot(kernel_diff_np[:,0], kernel_diff_np[:,1], '-o')\n",
    "plt.xscale('log')\n",
    "plt.yscale('log')\n",
    "plt.xlabel(r'$\\sigma$')\n",
    "plt.ylabel('Max Kerneldiff')"
   ]
  },
  {
   "cell_type": "code",
   "execution_count": null,
   "metadata": {},
   "outputs": [],
   "source": []
  }
 ],
 "metadata": {
  "kernelspec": {
   "display_name": "Python [conda env:atomic-energies]",
   "language": "python",
   "name": "conda-env-atomic-energies-py"
  },
  "language_info": {
   "codemirror_mode": {
    "name": "ipython",
    "version": 3
   },
   "file_extension": ".py",
   "mimetype": "text/x-python",
   "name": "python",
   "nbconvert_exporter": "python",
   "pygments_lexer": "ipython3",
   "version": "3.7.3"
  }
 },
 "nbformat": 4,
 "nbformat_minor": 2
}
