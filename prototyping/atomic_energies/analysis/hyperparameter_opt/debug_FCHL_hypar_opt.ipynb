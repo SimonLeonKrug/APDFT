{
 "cells": [
  {
   "cell_type": "code",
   "execution_count": null,
   "metadata": {},
   "outputs": [],
   "source": [
    "import numpy as np\n",
    "import qml\n",
    "import sys\n",
    "sys.path.insert(0, '/home/misa/APDFT/prototyping/atomic_energies/')\n",
    "import qml_interface as qmi\n",
    "\n",
    "import matplotlib\n",
    "matplotlib.use(\"Qt5Agg\")\n",
    "from matplotlib import pyplot as plt"
   ]
  },
  {
   "cell_type": "markdown",
   "metadata": {},
   "source": [
    "# Indices correct?\n",
    "\n",
    "compare indices for manually created small atomic kernel with full kernel"
   ]
  },
  {
   "cell_type": "code",
   "execution_count": null,
   "metadata": {},
   "outputs": [],
   "source": [
    "data, molecule_size = qmi.load_alchemy_data(qmi.wrapper_alch_data())"
   ]
  },
  {
   "cell_type": "code",
   "execution_count": null,
   "metadata": {},
   "outputs": [],
   "source": [
    "# choose random molecules\n",
    "global_tr, global_test = qmi.get_indices(len(molecule_size), 3)\n",
    "global_tr = np.array([ 14, 519, 549])\n",
    "tr_ind = qmi.get_local_idx(global_tr, molecule_size)\n",
    "test_ind = qmi.get_local_idx(global_test, molecule_size)"
   ]
  },
  {
   "cell_type": "code",
   "execution_count": null,
   "metadata": {},
   "outputs": [],
   "source": [
    "# calculate representation and atomic kernels\n",
    "reps = []\n",
    "for i in global_tr:\n",
    "    rep_fchl = qml.fchl.generate_representation(data[i][:, 1:4], data[i][:,0], max_size=molecule_size[i])\n",
    "    reps.append(rep_fchl)"
   ]
  },
  {
   "cell_type": "code",
   "execution_count": null,
   "metadata": {},
   "outputs": [],
   "source": [
    "sigma = 432.8761281083057\n",
    "kernel00 = qml.fchl.fchl_scalar_kernels.get_atomic_kernels(reps[0], reps[0], kernel_args={\"sigma\":[sigma],})[0]\n",
    "kernel01 = qml.fchl.fchl_scalar_kernels.get_atomic_kernels(reps[0], reps[1], kernel_args={\"sigma\":[sigma],})[0]\n",
    "kernel02 = qml.fchl.fchl_scalar_kernels.get_atomic_kernels(reps[0], reps[2], kernel_args={\"sigma\":[sigma],})[0]\n",
    "kernel11 = qml.fchl.fchl_scalar_kernels.get_atomic_kernels(reps[1], reps[1], kernel_args={\"sigma\":[sigma],})[0]\n",
    "kernel12 = qml.fchl.fchl_scalar_kernels.get_atomic_kernels(reps[1], reps[2], kernel_args={\"sigma\":[sigma],})[0]\n",
    "kernel22 = qml.fchl.fchl_scalar_kernels.get_atomic_kernels(reps[2], reps[2], kernel_args={\"sigma\":[sigma],})[0]"
   ]
  },
  {
   "cell_type": "code",
   "execution_count": null,
   "metadata": {},
   "outputs": [],
   "source": [
    "kernel3x3 = np.block([[kernel00, kernel01, kernel02], [kernel01.T, kernel11, kernel12], [kernel02.T, kernel12.T, kernel22]])"
   ]
  },
  {
   "cell_type": "code",
   "execution_count": null,
   "metadata": {},
   "outputs": [],
   "source": [
    "# kernel between molecule at index 0 and molecule at index 2\n",
    "\n",
    "# select correct indices\n",
    "start_idx = molecule_size[14] + molecule_size[519]\n",
    "print(start_idx)\n",
    "end_idx = start_idx + molecule_size[549] - 1\n",
    "print(end_idx)\n",
    "\n",
    "# pick slice\n",
    "kernel3x3_02 = kernel3x3[0:16, 26:39]"
   ]
  },
  {
   "cell_type": "code",
   "execution_count": null,
   "metadata": {},
   "outputs": [],
   "source": [
    "# load kernel"
   ]
  },
  {
   "cell_type": "code",
   "execution_count": null,
   "metadata": {},
   "outputs": [],
   "source": [
    "kernel_full = np.loadtxt('/home/misa/APDFT/prototyping/atomic_energies/results/analyse_learning/FCHL/full_kernel_sig432.8761281083057')"
   ]
  },
  {
   "cell_type": "code",
   "execution_count": null,
   "metadata": {},
   "outputs": [],
   "source": [
    "# indices in full kernel\n",
    "start_idx_full_row = molecule_size[0:14].sum()\n",
    "end_idx_full_row = start_idx_full_row + molecule_size[14]-1"
   ]
  },
  {
   "cell_type": "code",
   "execution_count": null,
   "metadata": {},
   "outputs": [],
   "source": [
    "start_idx_full_column = molecule_size[0:549].sum()\n",
    "end_idx_full_column= start_idx_full_column + molecule_size[549]-1"
   ]
  },
  {
   "cell_type": "code",
   "execution_count": null,
   "metadata": {},
   "outputs": [],
   "source": [
    "# select correct indices\n",
    "kernel_full_slice = kernel_full[start_idx_full_row:end_idx_full_row+1, start_idx_full_column:end_idx_full_column+1]"
   ]
  },
  {
   "cell_type": "code",
   "execution_count": null,
   "metadata": {},
   "outputs": [],
   "source": [
    "kernel02 - kernel_full_slice"
   ]
  },
  {
   "cell_type": "code",
   "execution_count": null,
   "metadata": {},
   "outputs": [],
   "source": [
    "kernel3x3_02 - kernel_full_slice"
   ]
  },
  {
   "cell_type": "markdown",
   "metadata": {},
   "source": [
    "## indices are correctly assigned in full matrix\n",
    "## what about kernel splitting during hyperparameter splitting?"
   ]
  },
  {
   "cell_type": "code",
   "execution_count": null,
   "metadata": {},
   "outputs": [],
   "source": [
    "print(start_idx_full_row)\n",
    "print(end_idx_full_row)"
   ]
  },
  {
   "cell_type": "code",
   "execution_count": null,
   "metadata": {},
   "outputs": [],
   "source": [
    "# split kernel\n",
    "tr_kernel, test_kernel = qmi.split_kernel(kernel_full, tr_ind, test_ind)"
   ]
  },
  {
   "cell_type": "code",
   "execution_count": null,
   "metadata": {},
   "outputs": [],
   "source": [
    "# correct kernel selected? yes identical to manually computed kernel\n",
    "print(np.amax(tr_kernel-kernel3x3))\n",
    "print(np.amin(tr_kernel-kernel3x3))"
   ]
  },
  {
   "cell_type": "markdown",
   "metadata": {},
   "source": [
    "## Difference between kernels with different sigma"
   ]
  },
  {
   "cell_type": "code",
   "execution_count": null,
   "metadata": {},
   "outputs": [],
   "source": [
    "import numpy as np\n",
    "import qml\n",
    "import sys\n",
    "sys.path.insert(0, '/home/misa/APDFT/prototyping/atomic_energies/')\n",
    "import qml_interface as qmi"
   ]
  },
  {
   "cell_type": "code",
   "execution_count": null,
   "metadata": {},
   "outputs": [],
   "source": [
    "kernel_full1 = np.loadtxt('/home/misa/APDFT/prototyping/atomic_energies/results/analyse_learning/FCHL/full_kernel_sig432.8761281083057')"
   ]
  },
  {
   "cell_type": "code",
   "execution_count": null,
   "metadata": {},
   "outputs": [],
   "source": [
    "kernel_full2 = np.loadtxt('/home/misa/APDFT/prototyping/atomic_energies/results/analyse_learning/FCHL/full_kernel_sig10000.0')"
   ]
  },
  {
   "cell_type": "code",
   "execution_count": null,
   "metadata": {},
   "outputs": [],
   "source": [
    "kernel_full2-kernel_full1"
   ]
  },
  {
   "cell_type": "markdown",
   "metadata": {},
   "source": [
    "## Training error as function of sigma"
   ]
  },
  {
   "cell_type": "code",
   "execution_count": null,
   "metadata": {},
   "outputs": [],
   "source": [
    "import numpy as np\n",
    "import qml\n",
    "import sys\n",
    "sys.path.insert(0, '/home/misa/APDFT/prototyping/atomic_energies/')\n",
    "import qml_interface as qmi\n",
    "import glob\n",
    "import re\n",
    "\n",
    "# paths to kernels\n",
    "paths = glob.glob('/home/misa/APDFT/prototyping/atomic_energies/results/analyse_learning/FCHL/full_kernel_sig*')\n",
    "\n",
    "# indices for training kernel selection\n",
    "global_tr = np.array([ 14, 519, 549])\n",
    "data, molecule_size = qmi.load_alchemy_data(qmi.wrapper_alch_data())\n",
    "tr_ind = qmi.get_local_idx(global_tr, molecule_size)\n",
    "\n",
    "global_tr, global_test = qmi.get_indices(len(molecule_size), 3)\n",
    "global_tr = np.array([ 14, 519, 549])\n",
    "tr_ind = qmi.get_local_idx(global_tr, molecule_size)\n",
    "test_ind = qmi.get_local_idx(global_test, molecule_size)\n",
    "\n",
    "error = []\n",
    "kernel_diff= []\n",
    "\n",
    "for p in paths:\n",
    "    if re.search('lam',p):\n",
    "        pass\n",
    "    else:\n",
    "        kernel_full1 = np.loadtxt(p)\n",
    "        \n",
    "        # calculate training error\n",
    "        tr_kernel, test_kernel = qmi.split_kernel(kernel_full1, tr_ind, test_ind)\n",
    "        labels = qmi.generate_label_vector(data, molecule_size.sum(), value='atomisation')\n",
    "        tr_label = labels[tr_ind]\n",
    "\n",
    "        coeffs = qml.math.cho_solve(tr_kernel, tr_label)\n",
    "        pred_label = np.dot(tr_kernel, coeffs)\n",
    "        tr_error = np.abs(tr_label-pred_label)\n",
    "        \n",
    "        error.append([float(p.split('sig')[1]), tr_error.mean()])\n",
    "        \n",
    "        # maximum difference between to elements in training kernel\n",
    "        max_diff = np.amax(tr_kernel) - np.amin(tr_kernel)\n",
    "        kernel_diff.append([float(p.split('sig')[1]), max_diff])"
   ]
  },
  {
   "cell_type": "code",
   "execution_count": null,
   "metadata": {},
   "outputs": [],
   "source": [
    "error.sort()\n",
    "error\n",
    "tr_errors = np.array(error)"
   ]
  },
  {
   "cell_type": "code",
   "execution_count": null,
   "metadata": {},
   "outputs": [],
   "source": [
    "kernel_diff.sort()\n",
    "kernel_diff_np = np.array(kernel_diff)\n",
    "kernel_diff_np"
   ]
  },
  {
   "cell_type": "code",
   "execution_count": null,
   "metadata": {},
   "outputs": [],
   "source": [
    "# tr_errors = np.array([[0.1, 9.533845087234126e-07],\n",
    "#  [0.2848035868435802, 1.1146930695175114e-05],\n",
    "#  [0.8111308307896871, 0.0002756277498121068],\n",
    "#  [2.3101297000831593, 0.0035897837548015087],\n",
    "#  [6.579332246575679, 3273337966246805.5],\n",
    "#  [18.73817422860383, 150713133386679.62],\n",
    "#  [53.36699231206307, 4.2190757635430615e+18],\n",
    "#  [151.99110829529332, 1.9391011745425462e+21],\n",
    "#  [432.8761281083057, 1.3728786113167146e+22],\n",
    "#  [1232.8467394420659, 5.937093237082583e+22],\n",
    "#  [3511.1917342151273, 1.8727704323267042e+27],\n",
    "#  [10000.0, 3.2333931384220235e+23]])"
   ]
  },
  {
   "cell_type": "code",
   "execution_count": null,
   "metadata": {},
   "outputs": [],
   "source": [
    "plt.plot(tr_errors[:,0], tr_errors[:,1], '-o')\n",
    "plt.xscale('log')\n",
    "plt.yscale('log')\n",
    "plt.xlabel(r'$\\sigma$')\n",
    "plt.ylabel('training error')"
   ]
  },
  {
   "cell_type": "code",
   "execution_count": null,
   "metadata": {},
   "outputs": [],
   "source": [
    "plt.plot(kernel_diff_np[:,0], kernel_diff_np[:,1], '-o')\n",
    "plt.xscale('log')\n",
    "plt.yscale('log')\n",
    "plt.xlabel(r'$\\sigma$')\n",
    "plt.ylabel('Max Kerneldiff')"
   ]
  },
  {
   "cell_type": "markdown",
   "metadata": {},
   "source": [
    "## Delta learning \n",
    "according to Anders changes in the Hartree range can be problematic for FCHL -> subtract average atomic energy for every element\n"
   ]
  },
  {
   "cell_type": "code",
   "execution_count": 31,
   "metadata": {},
   "outputs": [],
   "source": [
    "import numpy as np\n",
    "import qml\n",
    "import sys\n",
    "sys.path.insert(0, '/home/misa/APDFT/prototyping/atomic_energies/')\n",
    "import qml_interface as qmi\n",
    "import glob\n",
    "import re\n",
    "\n",
    "import matplotlib\n",
    "matplotlib.use(\"Qt5Agg\")\n",
    "from matplotlib import pyplot as plt"
   ]
  },
  {
   "cell_type": "code",
   "execution_count": null,
   "metadata": {},
   "outputs": [
    {
     "name": "stdout",
     "output_type": "stream",
     "text": [
      "Workin on kernel /home/misa/APDFT/prototyping/atomic_energies/results/analyse_learning/FCHL/full_kernel_sig3511.1917342151273\n",
      "Workin on kernel /home/misa/APDFT/prototyping/atomic_energies/results/analyse_learning/FCHL/full_kernel_sig0.8111308307896871\n",
      "Workin on kernel /home/misa/APDFT/prototyping/atomic_energies/results/analyse_learning/FCHL/full_kernel_sig10000.0\n",
      "Workin on kernel /home/misa/APDFT/prototyping/atomic_energies/results/analyse_learning/FCHL/full_kernel_sig151.99110829529332\n",
      "Workin on kernel /home/misa/APDFT/prototyping/atomic_energies/results/analyse_learning/FCHL/full_kernel_sig53.36699231206307\n"
     ]
    }
   ],
   "source": [
    "# paths to kernels\n",
    "paths = glob.glob('/home/misa/APDFT/prototyping/atomic_energies/results/analyse_learning/FCHL/full_kernel_sig*')\n",
    "\n",
    "# indices for training kernel selection\n",
    "global_tr = np.array([ 14, 519, 549])\n",
    "data, molecule_size = qmi.load_alchemy_data(qmi.wrapper_alch_data())\n",
    "tr_ind = qmi.get_local_idx(global_tr, molecule_size)\n",
    "\n",
    "global_tr, global_test = qmi.get_indices(len(molecule_size), 3)\n",
    "# global_tr = np.array([ 14, 519, 549])\n",
    "tr_ind = qmi.get_local_idx(global_tr, molecule_size)\n",
    "test_ind = qmi.get_local_idx(global_test, molecule_size)\n",
    "\n",
    "error = []\n",
    "kernel_diff= []\n",
    "\n",
    "delta = False\n",
    "\n",
    "for p in paths:\n",
    "    if re.search('lam',p):\n",
    "        pass\n",
    "    else:\n",
    "        print(\"Workin on kernel {}\".format(p))\n",
    "        kernel_full1 = np.loadtxt(p)\n",
    "        \n",
    "        # calculate training error\n",
    "        tr_kernel, test_kernel = qmi.split_kernel(kernel_full1, tr_ind, test_ind)\n",
    "        labels = qmi.generate_label_vector(data, molecule_size.sum(), value='alch_pot')\n",
    "        if delta:\n",
    "            tr_label = labels[tr_ind] - qmi.get_label_delta('alch_pot', tr_ind, data, molecule_size)\n",
    "        else:\n",
    "            tr_label = labels[tr_ind]\n",
    "\n",
    "        coeffs = qml.math.cho_solve(tr_kernel, tr_label)\n",
    "        pred_label = np.dot(tr_kernel, coeffs)\n",
    "        tr_error = np.abs(tr_label-pred_label)\n",
    "        \n",
    "        error.append([float(p.split('sig')[1]), tr_error.mean()])\n",
    "        \n",
    "        # maximum difference between to elements in training kernel\n",
    "        max_diff = np.amax(tr_kernel) - np.amin(tr_kernel)\n",
    "        kernel_diff.append([float(p.split('sig')[1]), max_diff])"
   ]
  },
  {
   "cell_type": "code",
   "execution_count": null,
   "metadata": {},
   "outputs": [],
   "source": [
    "bae = '/home/misa/APDFT/prototyping/atomic_energies/results/analyse_learning/FCHL/delta_learning/atomisation/'"
   ]
  },
  {
   "cell_type": "code",
   "execution_count": 12,
   "metadata": {},
   "outputs": [],
   "source": [
    "# training error\n",
    "error.sort()\n",
    "if delta:\n",
    "    np.savetxt(bae+'delta_tr_error_alch_pot_3mol', error, delimiter='\\t', header='sigma \\t MAE (Ha)')\n",
    "else:\n",
    "    np.savetxt(bae+'tr_error_alch_pot_3mol', error, delimiter='\\t', header='sigma \\t MAE (Ha)')"
   ]
  },
  {
   "cell_type": "code",
   "execution_count": 13,
   "metadata": {},
   "outputs": [],
   "source": [
    "# maximum difference between kernel elements\n",
    "kernel_diff.sort()\n",
    "if delta:\n",
    "    np.savetxt(bae+'delta_max_kernel_diff_alch_pot_3mol', kernel_diff, delimiter='\\t', header='sigma \\t Max Kernel diff (Ha)')\n",
    "else:\n",
    "    np.savetxt(bae+'max_kernel_diff_alch_pot_3mol', kernel_diff, delimiter='\\t', header='sigma \\t Max Kernel diff (Ha)')\n"
   ]
  },
  {
   "cell_type": "code",
   "execution_count": 28,
   "metadata": {},
   "outputs": [],
   "source": [
    "# training labels\n",
    "if delta:\n",
    "    labels = qmi.generate_label_vector(data, molecule_size.sum(), value='alch_pot')\n",
    "    tr_label = labels[tr_ind] - qmi.get_label_delta('alch_pot', tr_ind, data, molecule_size)\n",
    "    np.savetxt(bae+'delta_tr_label_alch_pot_3mol', tr_label, delimiter='\\t', header='sigma \\t tr _labels (Ha)')\n",
    "else:\n",
    "    labels = qmi.generate_label_vector(data, molecule_size.sum(), value='alch_pot')\n",
    "    tr_label = labels[tr_ind]\n",
    "    np.savetxt(bae+'tr_label_alch_pot_3mol', tr_label, delimiter='\\t', header='sigma \\t tr _labels (Ha)')"
   ]
  },
  {
   "cell_type": "code",
   "execution_count": 33,
   "metadata": {},
   "outputs": [
    {
     "data": {
      "text/plain": [
       "['/home/misa/APDFT/prototyping/atomic_energies/results/analyse_learning/FCHL/delta_learning/delta_tr_label_alch_pot_3mol',\n",
       " '/home/misa/APDFT/prototyping/atomic_energies/results/analyse_learning/FCHL/delta_learning/tr_label_alch_pot_3mol',\n",
       " '/home/misa/APDFT/prototyping/atomic_energies/results/analyse_learning/FCHL/delta_learning/delta_max_kernel_diff_alch_pot_3mol',\n",
       " '/home/misa/APDFT/prototyping/atomic_energies/results/analyse_learning/FCHL/delta_learning/tr_error_alch_pot_3mol',\n",
       " '/home/misa/APDFT/prototyping/atomic_energies/results/analyse_learning/FCHL/delta_learning/max_kernel_diff_alch_pot_3mol',\n",
       " '/home/misa/APDFT/prototyping/atomic_energies/results/analyse_learning/FCHL/delta_learning/delta_tr_error_alch_pot_3mol']"
      ]
     },
     "execution_count": 33,
     "metadata": {},
     "output_type": "execute_result"
    }
   ],
   "source": [
    "fig, ax = plt.subplots(1,3)\n",
    "\n",
    "glob.glob('/home/misa/APDFT/prototyping/atomic_energies/results/analyse_learning/FCHL/delta_learning/*')"
   ]
  },
  {
   "cell_type": "code",
   "execution_count": 51,
   "metadata": {},
   "outputs": [],
   "source": [
    "paths = glob.glob('/home/misa/APDFT/prototyping/atomic_energies/results/analyse_learning/FCHL/delta_learning/atomisation/*')\n",
    "paths.sort()\n",
    "fig, ax = plt.subplots(1,3)\n",
    "fig.suptitle('Training of Alchemical potential delta learning vs normal')\n",
    "ax[0].set_title('Training error')\n",
    "ax[1].set_title('Max kernel difference')\n",
    "ax[2].set_title('Training label distribution')\n",
    "\n",
    "for idx, p in enumerate(paths):\n",
    "    data = np.loadtxt(p)\n",
    "    \n",
    "    if idx == 0:\n",
    "        ax[1].plot(data[:,0], data[:,1], '-o', label = 'delta')\n",
    "        \n",
    "    elif idx == 1:\n",
    "        ax[0].plot(data[:,0], data[:,1], '-o', label = 'delta')\n",
    "        \n",
    "    elif idx == 2:\n",
    "        ax[2].plot(data, '-o', label = 'delta')\n",
    "        \n",
    "    elif idx == 3:\n",
    "        ax[1].plot(data[:,0], data[:,1], '-o', label = 'raw')\n",
    "        \n",
    "    elif idx == 4:\n",
    "        ax[0].plot(data[:,0], data[:,1], '-o', label = 'raw')\n",
    "        \n",
    "    elif idx == 5:\n",
    "        ax[2].plot(data, '-o', label = 'raw')\n",
    "        \n",
    "for i in range(2):\n",
    "    ax[i].set_xscale('log')\n",
    "    ax[i].set_yscale('log')\n",
    "    \n",
    "for i in range(3):\n",
    "    ax[i].legend()"
   ]
  },
  {
   "cell_type": "code",
   "execution_count": 42,
   "metadata": {},
   "outputs": [
    {
     "data": {
      "text/plain": [
       "array([ 0.43790982,  0.31174752, -0.19087957,  0.00055941, -0.08071221,\n",
       "        0.35157007,  0.31288996, -0.18429247,  0.08468616,  0.07446131,\n",
       "       -0.07385931,  0.36240425,  0.21908644,  0.32092084, -0.37918468,\n",
       "        0.08820152, -0.18564799,  0.18366308, -0.29050073, -0.33317767,\n",
       "       -0.06473998, -0.08834251, -0.03567742, -0.05682352,  0.03759281,\n",
       "       -0.14970072,  0.18841768,  0.0427309 , -0.10148092,  0.04299451,\n",
       "       -0.34494079, -0.30081433, -0.07426643, -0.10954644,  0.09353424,\n",
       "        0.11902352, -0.01218055,  0.02400782, -0.1427479 , -0.13928028,\n",
       "        0.04239454])"
      ]
     },
     "execution_count": 42,
     "metadata": {},
     "output_type": "execute_result"
    }
   ],
   "source": [
    "data"
   ]
  },
  {
   "cell_type": "code",
   "execution_count": null,
   "metadata": {},
   "outputs": [],
   "source": []
  }
 ],
 "metadata": {
  "kernelspec": {
   "display_name": "Python [conda env:atomic-energies]",
   "language": "python",
   "name": "conda-env-atomic-energies-py"
  },
  "language_info": {
   "codemirror_mode": {
    "name": "ipython",
    "version": 3
   },
   "file_extension": ".py",
   "mimetype": "text/x-python",
   "name": "python",
   "nbconvert_exporter": "python",
   "pygments_lexer": "ipython3",
   "version": "3.7.3"
  }
 },
 "nbformat": 4,
 "nbformat_minor": 2
}
