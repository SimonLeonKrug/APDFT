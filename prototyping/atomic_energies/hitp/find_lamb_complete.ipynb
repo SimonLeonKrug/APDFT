{
 "cells": [
  {
   "cell_type": "code",
   "execution_count": null,
   "metadata": {},
   "outputs": [],
   "source": [
    "# return compounds where cube for all lambda values exist from list of paths to cube files"
   ]
  },
  {
   "cell_type": "code",
   "execution_count": 2,
   "metadata": {},
   "outputs": [],
   "source": [
    "# read files\n",
    "paths = []\n",
    "with open('/home/misa/projects/Atomic-Energies/data/rc2', 'r') as f:\n",
    "    for line in f:\n",
    "        paths.append(line.strip('\\n'))"
   ]
  },
  {
   "cell_type": "code",
   "execution_count": 19,
   "metadata": {},
   "outputs": [],
   "source": [
    "# get compound names\n",
    "comps = dict()\n",
    "for p in paths:\n",
    "    comps[p.split('/')[-3]] = []"
   ]
  },
  {
   "cell_type": "code",
   "execution_count": 18,
   "metadata": {},
   "outputs": [
    {
     "data": {
      "text/plain": [
       "772"
      ]
     },
     "execution_count": 18,
     "metadata": {},
     "output_type": "execute_result"
    }
   ],
   "source": [
    "# # get compound names\n",
    "# comps2 = []\n",
    "# for p in paths:\n",
    "#     comps2.append(p.split('/')[-3])\n",
    "# comps2 = list(set(comps))\n",
    "# comps2.sort()\n",
    "# len(comps2)"
   ]
  },
  {
   "cell_type": "code",
   "execution_count": 20,
   "metadata": {},
   "outputs": [],
   "source": [
    "# split paths up by compound\n",
    "for c in comps.keys():\n",
    "    for p in paths:\n",
    "        if c in p:\n",
    "            comps[c].append(p)          "
   ]
  },
  {
   "cell_type": "code",
   "execution_count": 28,
   "metadata": {},
   "outputs": [],
   "source": [
    "# get paths to compounds where density for every lambda value has been calculated: lambdas completed\n",
    "# and paths where lambda has not been calculated for all values: cubed\n",
    "lambdas_complete = []\n",
    "cubed = []\n",
    "for k in comps.keys():\n",
    "    if len(comps[k]) == 5:\n",
    "        lambdas_complete.extend(comps[k])\n",
    "    else:\n",
    "        cubed.extend(comps[k])"
   ]
  },
  {
   "cell_type": "code",
   "execution_count": 30,
   "metadata": {},
   "outputs": [],
   "source": [
    "# write to file\n",
    "def write_list2file(path, l):\n",
    "    with open(path, 'w') as f:\n",
    "        for line in l:\n",
    "            f.write(f'{line}\\n')\n",
    "    "
   ]
  },
  {
   "cell_type": "code",
   "execution_count": 31,
   "metadata": {},
   "outputs": [],
   "source": [
    "plam = '/home/misa/projects/Atomic-Energies/data/lambdas_complete.txt'\n",
    "pcub = '/home/misa/projects/Atomic-Energies/data/cubed.txt'\n",
    "write_list2file(plam, lambdas_complete)\n",
    "write_list2file(pcub, cubed)"
   ]
  }
 ],
 "metadata": {
  "kernelspec": {
   "display_name": "Python [conda env:atomic-energies]",
   "language": "python",
   "name": "conda-env-atomic-energies-py"
  },
  "language_info": {
   "codemirror_mode": {
    "name": "ipython",
    "version": 3
   },
   "file_extension": ".py",
   "mimetype": "text/x-python",
   "name": "python",
   "nbconvert_exporter": "python",
   "pygments_lexer": "ipython3",
   "version": "3.7.3"
  }
 },
 "nbformat": 4,
 "nbformat_minor": 4
}
