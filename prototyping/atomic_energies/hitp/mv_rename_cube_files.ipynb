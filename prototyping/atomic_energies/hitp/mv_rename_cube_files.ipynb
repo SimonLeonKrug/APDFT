{
 "cells": [
  {
   "cell_type": "code",
   "execution_count": 1,
   "metadata": {},
   "outputs": [],
   "source": [
    "import glob\n",
    "import re\n",
    "import os\n",
    "import shutil"
   ]
  },
  {
   "cell_type": "code",
   "execution_count": 2,
   "metadata": {},
   "outputs": [],
   "source": [
    "path2comp = '/home/misa/projects/Atomic-Energies/data/dsgdb9nsd_003700'\n",
    "\n",
    "all_paths = glob.glob(path2comp+'/ve*/run*/*cube')"
   ]
  },
  {
   "cell_type": "code",
   "execution_count": 3,
   "metadata": {},
   "outputs": [],
   "source": [
    "destination = []\n",
    "for path in all_paths:\n",
    "    # extract ve number\n",
    "    ve_number = path.split('/')[-3]\n",
    "    if len(ve_number.split('_')[1])==1:\n",
    "        ve_number_splitted = ve_number.split('_')\n",
    "        ve_number = ve_number_splitted[0] + '_0' + ve_number_splitted[1]\n",
    "    # make file name\n",
    "    fn = os.path.join(path2comp, 'cube-files/' + ve_number + '.cube')\n",
    "    destination.append(fn)\n",
    "    # move\n",
    "    shutil.move(path, fn)"
   ]
  },
  {
   "cell_type": "code",
   "execution_count": null,
   "metadata": {},
   "outputs": [],
   "source": [
    "path"
   ]
  },
  {
   "cell_type": "code",
   "execution_count": null,
   "metadata": {},
   "outputs": [],
   "source": [
    "destination"
   ]
  }
 ],
 "metadata": {
  "kernelspec": {
   "display_name": "Python [conda env:qm-tools] *",
   "language": "python",
   "name": "conda-env-qm-tools-py"
  },
  "language_info": {
   "codemirror_mode": {
    "name": "ipython",
    "version": 3
   },
   "file_extension": ".py",
   "mimetype": "text/x-python",
   "name": "python",
   "nbconvert_exporter": "python",
   "pygments_lexer": "ipython3",
   "version": "3.8.5"
  }
 },
 "nbformat": 4,
 "nbformat_minor": 4
}
