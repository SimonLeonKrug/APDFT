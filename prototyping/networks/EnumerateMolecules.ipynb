{
 "cells": [
  {
   "cell_type": "code",
   "execution_count": 1,
   "metadata": {},
   "outputs": [],
   "source": [
    "import networkx as nx\n",
    "import numpy as np\n",
    "import pandas as pd\n",
    "import pymatgen\n",
    "import pymatgen.io.xyz\n",
    "import itertools as it\n",
    "#targets = ((6,7,7,6,5,5), (7,7,5,5,6,6), (7,7,5,6,5,6), (7,6,7,5,5,6), (5,6,5,7,6,7), (6,6,7,5,5,7), (6,6,5,7,7,5), (7,6,5,7,5,6), (5, 6, 7, 5, 7, 6), (6,6,7,5,7,5), (6,7,5,6,7,5))"
   ]
  },
  {
   "cell_type": "code",
   "execution_count": 2,
   "metadata": {},
   "outputs": [],
   "source": [
    "def detect_automorphisms(filename):\n",
    "    xyz = pymatgen.io.xyz.XYZ.from_file(filename)\n",
    "    psa = pymatgen.symmetry.analyzer.PointGroupAnalyzer(xyz.molecule)\n",
    "    \n",
    "    m = xyz.molecule.get_centered_molecule()\n",
    "    carbons = np.where(np.array(m.atomic_numbers, dtype=np.int) == 6)[0]\n",
    "    \n",
    "    operations = psa.get_symmetry_operations()\n",
    "    mapping = np.zeros((len(carbons), len(operations)), dtype=np.int)\n",
    "    for opidx, op in enumerate(operations):\n",
    "        for bidx, base in enumerate(carbons):\n",
    "            ds = np.linalg.norm(op.operate(m.cart_coords[base]) - m.cart_coords[carbons], axis=1)\n",
    "            onto = np.argmin(ds)\n",
    "            if ds[onto] > 1e-3:\n",
    "                raise ValueError('Irregular geometry')\n",
    "            mapping[bidx, opidx] = onto\n",
    "    \n",
    "    return mapping\n",
    "def two_at_once(based_on, mappings):\n",
    "    modifiable = sorted(np.where(np.array(based_on) == 6)[0])\n",
    "    for i in modifiable:\n",
    "        for j in modifiable:\n",
    "            if i == j:\n",
    "                continue\n",
    "            zsnew = np.array(based_on).copy()\n",
    "            zsnew[i] = 5\n",
    "            zsnew[j] = 7\n",
    "            \n",
    "            if is_canonical(zsnew, mappings):\n",
    "                yield zsnew\n",
    "def make_canonical(zs, mappings):\n",
    "    zs = np.array(zs)\n",
    "    #if len(np.where(zs == 7)[0]) > len(np.where(zs == 5)[0]):\n",
    "    #    return False\n",
    "    permutations = zs[mappings].T\n",
    "    o = np.lexsort(permutations.T)\n",
    "    canonical = permutations[o[0]]\n",
    "    return canonical\n",
    "def is_canonical(zs, mappings):\n",
    "    return (zs == make_canonical(zs, mappings)).all()"
   ]
  },
  {
   "cell_type": "code",
   "execution_count": 3,
   "metadata": {},
   "outputs": [],
   "source": [
    "def enumerate_next_bn(based_on):\n",
    "    mappings = detect_automorphisms(\"naphtalene.xyz\")\n",
    "    \n",
    "    res = []\n",
    "    for k in two_at_once(based_on, mappings):\n",
    "        res.append(tuple(k))\n",
    "    return set(res)"
   ]
  },
  {
   "cell_type": "code",
   "execution_count": 4,
   "metadata": {},
   "outputs": [],
   "source": [
    "bn1 = enumerate_next_bn((6,6,6,6,6,6,6,6,6,6))\n",
    "bn2 = set.union(*[enumerate_next_bn(_) for _ in bn1])\n",
    "bn3 = set.union(*[enumerate_next_bn(_) for _ in bn2])\n",
    "bn4 = set.union(*[enumerate_next_bn(_) for _ in bn3])\n",
    "bn5 = set.union(*[enumerate_next_bn(_) for _ in bn4])"
   ]
  },
  {
   "cell_type": "code",
   "execution_count": 5,
   "metadata": {},
   "outputs": [
    {
     "data": {
      "text/plain": [
       "(23, 320, 1026, 801, 66)"
      ]
     },
     "execution_count": 5,
     "metadata": {},
     "output_type": "execute_result"
    }
   ],
   "source": [
    "len(bn1), len(bn2), len(bn3), len(bn4), len(bn5)"
   ]
  },
  {
   "cell_type": "code",
   "execution_count": 18,
   "metadata": {},
   "outputs": [],
   "source": []
  },
  {
   "cell_type": "code",
   "execution_count": 21,
   "metadata": {},
   "outputs": [
    {
     "data": {
      "text/plain": [
       "2236"
      ]
     },
     "execution_count": 21,
     "metadata": {},
     "output_type": "execute_result"
    }
   ],
   "source": [
    "# ref: 23, 330, 1056, 810, 66"
   ]
  },
  {
   "cell_type": "code",
   "execution_count": null,
   "metadata": {},
   "outputs": [],
   "source": []
  }
 ],
 "metadata": {
  "kernelspec": {
   "display_name": "Python [conda env:analysis]",
   "language": "python",
   "name": "conda-env-analysis-py"
  },
  "language_info": {
   "codemirror_mode": {
    "name": "ipython",
    "version": 3
   },
   "file_extension": ".py",
   "mimetype": "text/x-python",
   "name": "python",
   "nbconvert_exporter": "python",
   "pygments_lexer": "ipython3",
   "version": "3.6.8"
  }
 },
 "nbformat": 4,
 "nbformat_minor": 4
}
