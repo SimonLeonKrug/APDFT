{
 "cells": [
  {
   "cell_type": "code",
   "execution_count": 259,
   "metadata": {},
   "outputs": [],
   "source": [
    "import networkx as nx\n",
    "import numpy as np\n",
    "import pandas as pd\n",
    "import pymatgen\n",
    "import pymatgen.io.xyz"
   ]
  },
  {
   "cell_type": "code",
   "execution_count": 260,
   "metadata": {},
   "outputs": [],
   "source": [
    "benzene_automorphisms = (((0,), (1,),(2,),(3,),(4,),(5,)), \n",
    "    ((0,1,2,3,4,5),),\n",
    "    ((5,4,3,2,1,0),),\n",
    "    ((0,2,4), (1,3,5)),\n",
    "    ((4,2,0), (5,3,1)),\n",
    "    ((0,3), (1,4), (2,5)),\n",
    "    ((0,), (3,), (1,5), (2,4)),\n",
    "    ((2,), (5,), (0,4), ((1,3))),\n",
    "    ((1,), (4,), (0,2), (3,5)),\n",
    "    ((0,5), (1,4),(2,3)),\n",
    "    ((0,1), (2,5), (3,4)),\n",
    "    ((0,3), (1,2), (4,5)))\n",
    "\n",
    "def apply_automorphisms(zs, automorphisms):\n",
    "    for automorphism in automorphisms:\n",
    "        mapping = np.zeros(6, dtype=int)\n",
    "        for cycle in automorphism:\n",
    "            if len(cycle) == 1:\n",
    "                mapping[cycle[0]] = cycle[0]\n",
    "            elif len(cycle) == 2:\n",
    "                mapping[cycle[1]] = cycle[0]\n",
    "                mapping[cycle[0]] = cycle[1]\n",
    "            else:\n",
    "                mapping[list(cycle[1:])] = cycle[:-1]\n",
    "                mapping[cycle[0]] = cycle[-1]\n",
    "        yield np.array(zs)[mapping]"
   ]
  },
  {
   "cell_type": "code",
   "execution_count": 201,
   "metadata": {},
   "outputs": [],
   "source": [
    "def generate(based_on, add):\n",
    "    modifiable = np.where(np.array(based_on) == 6)[0]\n",
    "    found = []\n",
    "    for pos in modifiable:\n",
    "        zsnew = based_on.copy()\n",
    "        zsnew[pos] = add\n",
    "        if is_canonical(zsnew):\n",
    "            found.append(zsnew)\n",
    "    return found"
   ]
  },
  {
   "cell_type": "code",
   "execution_count": 216,
   "metadata": {},
   "outputs": [],
   "source": [
    "def add_bnpair(zs):\n",
    "    for i in generate(zs, 5):\n",
    "        print (i)\n",
    "        for j in generate(i, 7):\n",
    "            yield j"
   ]
  },
  {
   "cell_type": "code",
   "execution_count": 203,
   "metadata": {},
   "outputs": [
    {
     "name": "stdout",
     "output_type": "stream",
     "text": [
      "[7 6 6 6 6 5]\n",
      "[7 6 6 6 6 5] parent of  [7 5 7 6 6 5]\n",
      "[7 6 6 6 6 5] parent of  [7 5 6 7 6 5]\n",
      "[7 6 6 6 6 5] parent of  [7 7 5 6 6 5]\n",
      "[7 6 6 6 6 5] parent of  [7 6 5 7 6 5]\n",
      "[7 6 6 6 6 5] parent of  [7 7 6 5 6 5]\n",
      "[7 6 6 6 6 5] parent of  [7 6 7 5 6 5]\n",
      "[7 6 6 6 6 5] parent of  [7 7 6 6 5 5]\n",
      "[7 6 6 6 6 5] parent of  [7 6 7 6 5 5]\n",
      "[7 6 6 6 6 5] parent of  [7 6 6 7 5 5]\n",
      "[6 7 6 6 6 5]\n",
      "[6 7 6 6 6 5] parent of  [7 7 6 5 6 5]\n",
      "[6 7 6 6 6 5] parent of  [7 7 6 6 5 5]\n",
      "[6 7 6 6 6 5] parent of  [6 7 7 6 5 5]\n",
      "[6 6 7 6 6 5]\n",
      "12 10\n"
     ]
    }
   ],
   "source": [
    "start = np.array((6,6,6,6,6,6), dtype=int)\n",
    "res = []\n",
    "for k in add_bnpair(start):\n",
    "    print (k)\n",
    "    for kk in add_bnpair(k):\n",
    "        print (k, \"parent of \", kk)\n",
    "        res.append(tuple(kk))\n",
    "print (len(res), len(set(res)))\n"
   ]
  },
  {
   "cell_type": "code",
   "execution_count": 204,
   "metadata": {},
   "outputs": [],
   "source": [
    "def make_canonical(zs):\n",
    "    zs = np.array(zs)\n",
    "    #if len(np.where(zs == 7)[0]) > len(np.where(zs == 5)[0]):\n",
    "    #    return False\n",
    "    permutations = np.array([_ for _ in apply_automorphisms(zs, benzene_automorphisms)])\n",
    "    o = np.lexsort(permutations.T)\n",
    "    canonical = permutations[o[0]]\n",
    "    return canonical\n",
    "def is_canonical(zs):\n",
    "    return (zs == make_canonical(zs)).all()"
   ]
  },
  {
   "cell_type": "code",
   "execution_count": 214,
   "metadata": {},
   "outputs": [
    {
     "name": "stdout",
     "output_type": "stream",
     "text": [
      "(6, 7, 7, 6, 5, 5) True\n",
      "(7, 7, 5, 5, 6, 6) True\n",
      "(7, 7, 5, 6, 5, 6) True\n",
      "(7, 6, 7, 5, 5, 6) True\n",
      "(5, 6, 5, 7, 6, 7) True\n",
      "(6, 6, 7, 5, 5, 7) True\n",
      "(6, 6, 5, 7, 7, 5) True\n",
      "(7, 6, 5, 7, 5, 6) True\n",
      "(5, 6, 7, 5, 7, 6) False\n",
      "(6, 6, 7, 5, 7, 5) True\n",
      "(6, 7, 5, 6, 7, 5) True\n"
     ]
    }
   ],
   "source": [
    "targets = ((6,7,7,6,5,5), (7,7,5,5,6,6), (7,7,5,6,5,6), (7,6,7,5,5,6), (5,6,5,7,6,7), (6,6,7,5,5,7), (6,6,5,7,7,5), (7,6,5,7,5,6), (5, 6, 7, 5, 7, 6), (6,6,7,5,7,5), (6,7,5,6,7,5))\n",
    "for target in targets:\n",
    "    print (target, tuple(make_canonical(target)) in res)\n"
   ]
  },
  {
   "cell_type": "code",
   "execution_count": 173,
   "metadata": {},
   "outputs": [
    {
     "data": {
      "text/plain": [
       "(array([0]),)"
      ]
     },
     "execution_count": 173,
     "metadata": {},
     "output_type": "execute_result"
    }
   ],
   "source": [
    "np.where(np.array((7,6,6,6,6,6)) == 7)"
   ]
  },
  {
   "cell_type": "code",
   "execution_count": 215,
   "metadata": {},
   "outputs": [
    {
     "data": {
      "text/plain": [
       "array([6, 7, 5, 7, 6, 5])"
      ]
     },
     "execution_count": 215,
     "metadata": {},
     "output_type": "execute_result"
    }
   ],
   "source": [
    "make_canonical((5, 6, 7, 5, 7, 6))"
   ]
  },
  {
   "cell_type": "code",
   "execution_count": 219,
   "metadata": {},
   "outputs": [
    {
     "name": "stdout",
     "output_type": "stream",
     "text": [
      "[6 7 6 5 6 5]\n",
      "[6 7 6 6 5 5]\n"
     ]
    }
   ],
   "source": [
    "for i in add_bnpair(np.array([6, 7, 6, 6, 6, 5])):\n",
    "    pass"
   ]
  },
  {
   "cell_type": "code",
   "execution_count": 220,
   "metadata": {},
   "outputs": [
    {
     "data": {
      "text/plain": [
       "array([7, 6, 6, 6, 5, 5])"
      ]
     },
     "execution_count": 220,
     "metadata": {},
     "output_type": "execute_result"
    }
   ],
   "source": [
    "make_canonical((5,7,6,6,6,5))"
   ]
  },
  {
   "cell_type": "code",
   "execution_count": 250,
   "metadata": {},
   "outputs": [
    {
     "name": "stdout",
     "output_type": "stream",
     "text": [
      "level 1 [7 6 6 6 6 5]\n",
      "[7 5 7 6 6 5] False\n",
      "[7 5 6 7 6 5] False\n",
      "[7 7 5 6 6 5] False\n",
      "[7 6 5 7 6 5] False\n",
      "[7 7 6 5 6 5] False\n",
      "[7 6 7 5 6 5] False\n",
      "[7 7 6 6 5 5] False\n",
      "[7 6 7 6 5 5] False\n",
      "[7 6 6 7 5 5] False\n",
      "level 1 [6 7 6 6 6 5]\n",
      "[7 7 5 6 6 5] True\n",
      "[6 7 5 7 6 5] False\n",
      "[7 7 6 5 6 5] True\n",
      "[7 7 6 6 5 5] True\n",
      "[6 7 7 6 5 5] False\n",
      "level 1 [6 6 7 6 6 5]\n",
      "[7 5 7 6 6 5] True\n",
      "[7 6 7 5 6 5] True\n",
      "[7 6 7 6 5 5] True\n",
      "[6 7 7 6 5 5] True\n",
      "11 18\n"
     ]
    }
   ],
   "source": [
    "def two_at_once(based_on):\n",
    "    modifiable = sorted(np.where(np.array(based_on) == 6)[0])\n",
    "    try:\n",
    "        limit5 = max(np.where(np.array(based_on) == 5)[0])\n",
    "    except:\n",
    "        limit5 = 100\n",
    "    try:\n",
    "        limit7 = max(np.where(np.array(based_on) == 7)[0])\n",
    "    except:\n",
    "        limit7 = 100\n",
    "    for i in modifiable:\n",
    "        #if i >= limit5:\n",
    "        #    continue\n",
    "        for j in modifiable:\n",
    "            #if j >= limit7:\n",
    "            #    continue\n",
    "            if i == j:\n",
    "                continue\n",
    "            zsnew = np.array(based_on).copy()\n",
    "            zsnew[i] = 5\n",
    "            zsnew[j] = 7\n",
    "            \n",
    "            if is_canonical(zsnew):\n",
    "                yield zsnew\n",
    "res = []\n",
    "for k in two_at_once((6,6,6,6,6,6)):\n",
    "    print (\"level 1\", k)\n",
    "    for kk in two_at_once(k):\n",
    "        print (kk, tuple(kk) in res)\n",
    "        res.append(tuple(kk))\n",
    "print (len(set(res)), len(res))"
   ]
  },
  {
   "cell_type": "code",
   "execution_count": 245,
   "metadata": {},
   "outputs": [
    {
     "data": {
      "text/plain": [
       "False"
      ]
     },
     "execution_count": 245,
     "metadata": {},
     "output_type": "execute_result"
    }
   ],
   "source": [
    "(np.array((1,2,3)) < np.array((1,3,4))).all()"
   ]
  },
  {
   "cell_type": "code",
   "execution_count": 317,
   "metadata": {},
   "outputs": [
    {
     "data": {
      "text/plain": [
       "array([[5, 1, 0, 4, 0, 5, 2, 0, 1, 3, 5, 4, 0, 3, 1, 2, 2, 4, 3, 5, 3, 1,\n",
       "        2, 4],\n",
       "       [0, 0, 1, 5, 5, 0, 1, 1, 0, 4, 4, 5, 5, 2, 2, 1, 3, 3, 4, 4, 2, 2,\n",
       "        3, 3],\n",
       "       [1, 5, 2, 0, 4, 1, 0, 2, 5, 5, 3, 0, 4, 1, 3, 0, 4, 2, 5, 3, 1, 3,\n",
       "        4, 2],\n",
       "       [2, 4, 3, 1, 3, 2, 5, 3, 4, 0, 2, 1, 3, 0, 4, 5, 5, 1, 0, 2, 0, 4,\n",
       "        5, 1],\n",
       "       [3, 3, 4, 2, 2, 3, 4, 4, 3, 1, 1, 2, 2, 5, 5, 4, 0, 0, 1, 1, 5, 5,\n",
       "        0, 0],\n",
       "       [4, 2, 5, 3, 1, 4, 3, 5, 2, 2, 0, 3, 1, 4, 0, 3, 1, 5, 2, 0, 4, 0,\n",
       "        1, 5]])"
      ]
     },
     "execution_count": 317,
     "metadata": {},
     "output_type": "execute_result"
    }
   ],
   "source": [
    "def detect_automorphisms(filename):\n",
    "    xyz = pymatgen.io.xyz.XYZ.from_file(filename)\n",
    "    psa = pymatgen.symmetry.analyzer.PointGroupAnalyzer(xyz.molecule)\n",
    "    \n",
    "    m = xyz.molecule.get_centered_molecule()\n",
    "    carbons = np.where(np.array(m.atomic_numbers, dtype=np.int) == 6)[0]\n",
    "    \n",
    "    operations = psa.get_symmetry_operations()\n",
    "    mapping = np.zeros((len(carbons), len(operations)), dtype=np.int)\n",
    "    for opidx, op in enumerate(operations):\n",
    "        for bidx, base in enumerate(carbons):\n",
    "            ds = np.linalg.norm(op.operate(m.cart_coords[base]) - m.cart_coords[carbons], axis=1)\n",
    "            onto = np.argmin(ds)\n",
    "            if ds[onto] > 1e-3:\n",
    "                raise ValueError('Irregular geometry')\n",
    "            mapping[bidx, opidx] = onto\n",
    "    \n",
    "    return mapping\n",
    "\n",
    "\n",
    "    \n",
    "    return xyz.molecule, psa\n",
    "detect_automorphisms(\"../../test/benzene.xyz\")"
   ]
  },
  {
   "cell_type": "code",
   "execution_count": 305,
   "metadata": {},
   "outputs": [],
   "source": [
    "s = q.get_symmetry_operations()[3]"
   ]
  },
  {
   "cell_type": "code",
   "execution_count": 313,
   "metadata": {},
   "outputs": [
    {
     "name": "stdout",
     "output_type": "stream",
     "text": [
      "0 -> 4\n",
      "1 -> 5\n",
      "2 -> 0\n",
      "3 -> 1\n",
      "4 -> 2\n",
      "5 -> 3\n"
     ]
    }
   ],
   "source": [
    "for base in carbons:\n",
    "    ds = np.linalg.norm(s.operate(m.cart_coords[base]) - m.cart_coords[carbons], axis=1)\n",
    "    onto = np.argmin(ds)\n",
    "    if ds[onto] > 1e-3:\n",
    "        raise ValueError('Irregular geometry')\n",
    "    print (base, \"->\", onto)\n",
    "    \n",
    "    "
   ]
  },
  {
   "cell_type": "code",
   "execution_count": 308,
   "metadata": {},
   "outputs": [
    {
     "data": {
      "text/plain": [
       "(array([-0.75007667,  1.18097487,  0.        ]),\n",
       " array([ 1.39779333,  0.05910487, -0.        ]),\n",
       " array([-0.64771667, -1.24007513,  0.        ]))"
      ]
     },
     "execution_count": 308,
     "metadata": {},
     "output_type": "execute_result"
    }
   ],
   "source": [
    "m.cart_coords[0], m.cart_coords[2], m.cart_coords[4]"
   ]
  },
  {
   "cell_type": "code",
   "execution_count": 312,
   "metadata": {},
   "outputs": [
    {
     "data": {
      "text/plain": [
       "4"
      ]
     },
     "execution_count": 312,
     "metadata": {},
     "output_type": "execute_result"
    }
   ],
   "source": []
  },
  {
   "cell_type": "code",
   "execution_count": null,
   "metadata": {},
   "outputs": [],
   "source": []
  }
 ],
 "metadata": {
  "kernelspec": {
   "display_name": "Python [conda env:analysis]",
   "language": "python",
   "name": "conda-env-analysis-py"
  },
  "language_info": {
   "codemirror_mode": {
    "name": "ipython",
    "version": 3
   },
   "file_extension": ".py",
   "mimetype": "text/x-python",
   "name": "python",
   "nbconvert_exporter": "python",
   "pygments_lexer": "ipython3",
   "version": "3.6.8"
  }
 },
 "nbformat": 4,
 "nbformat_minor": 4
}
