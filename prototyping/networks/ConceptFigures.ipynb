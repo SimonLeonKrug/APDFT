{
 "cells": [
  {
   "cell_type": "code",
   "execution_count": 3,
   "metadata": {},
   "outputs": [],
   "source": [
    "import matplotlib.pyplot as plt\n",
    "import numpy as np\n",
    "import qml"
   ]
  },
  {
   "cell_type": "code",
   "execution_count": 14,
   "metadata": {},
   "outputs": [],
   "source": [
    "c = qml.Compound('../../test/benzene.xyz')"
   ]
  },
  {
   "cell_type": "code",
   "execution_count": 15,
   "metadata": {},
   "outputs": [
    {
     "data": {
      "text/plain": [
       "array([[-2.09726e+00,  2.41992e+00,  0.00000e+00],\n",
       "       [-6.99470e-01,  2.47902e+00, -0.00000e+00],\n",
       "       [ 5.06100e-02,  1.29805e+00, -0.00000e+00],\n",
       "       [-5.97100e-01,  5.79700e-02, -0.00000e+00],\n",
       "       [-1.99490e+00, -1.13000e-03,  0.00000e+00],\n",
       "       [-2.74498e+00,  1.17984e+00,  0.00000e+00],\n",
       "       [-1.98380e-01,  3.43838e+00, -0.00000e+00],\n",
       "       [ 1.13198e+00,  1.34377e+00, -0.00000e+00],\n",
       "       [-1.68200e-02, -8.55660e-01, -0.00000e+00],\n",
       "       [-2.49598e+00, -9.60490e-01,  0.00000e+00],\n",
       "       [-3.82635e+00,  1.13412e+00,  0.00000e+00],\n",
       "       [-2.67755e+00,  3.33356e+00,  0.00000e+00]])"
      ]
     },
     "execution_count": 15,
     "metadata": {},
     "output_type": "execute_result"
    }
   ],
   "source": [
    "c.coordinates"
   ]
  },
  {
   "cell_type": "code",
   "execution_count": 30,
   "metadata": {},
   "outputs": [
    {
     "name": "stdout",
     "output_type": "stream",
     "text": [
      "B -2.09726 2.41992 0.0\n",
      "C -0.69947 2.47902 -0.0\n",
      "C 0.05061 1.29805 -0.0\n",
      "B -0.5971 0.05797 -0.0\n",
      "N -1.9949 -0.00113 0.0\n",
      "N -2.74498 1.17984 0.0\n",
      "H -0.19838 3.43838 -0.0\n",
      "H 1.13198 1.34377 -0.0\n",
      "H -0.01682 -0.85566 -0.0\n",
      "H -2.49598 -0.96049 0.0\n",
      "H -3.82635 1.13412 0.0\n",
      "H -2.67755 3.33356 0.0\n",
      "N -2.09726 2.41992 -10.0\n",
      "C -0.69947 2.47902 -10.0\n",
      "C 0.05061 1.29805 -10.0\n",
      "N -0.5971 0.05797 -10.0\n",
      "B -1.9949 -0.00113 -10.0\n",
      "B -2.74498 1.17984 -10.0\n",
      "H -0.19838 3.43838 -10.0\n",
      "H 1.13198 1.34377 -10.0\n",
      "H -0.01682 -0.85566 -10.0\n",
      "H -2.49598 -0.96049 -10.0\n",
      "H -3.82635 1.13412 -10.0\n",
      "H -2.67755 3.33356 -10.0\n",
      "B -2.09726 -10.41992 0.0\n",
      "C -0.69947 -10.47902 -0.0\n",
      "C 0.05061 -9.29805 -0.0\n",
      "B -0.5971 -8.05797 -0.0\n",
      "N -1.9949 -7.99887 0.0\n",
      "N -2.74498 -9.17984 0.0\n",
      "H -0.19838 -11.43838 -0.0\n",
      "H 1.13198 -9.34377 -0.0\n",
      "H -0.01682 -7.14434 -0.0\n",
      "H -2.49598 -7.03951 0.0\n",
      "H -3.82635 -9.13412 0.0\n",
      "H -2.67755 -11.33356 0.0\n",
      "N -2.09726 -10.41992 -10.0\n",
      "C -0.69947 -10.47902 -10.0\n",
      "C 0.05061 -9.29805 -10.0\n",
      "N -0.5971 -8.05797 -10.0\n",
      "B -1.9949 -7.99887 -10.0\n",
      "B -2.74498 -9.17984 -10.0\n",
      "H -0.19838 -11.43838 -10.0\n",
      "H 1.13198 -9.34377 -10.0\n",
      "H -0.01682 -7.14434 -10.0\n",
      "H -2.49598 -7.03951 -10.0\n",
      "H -3.82635 -9.13412 -10.0\n",
      "H -2.67755 -11.33356 -10.0\n"
     ]
    }
   ],
   "source": [
    "q = c.coordinates.copy()\n",
    "#print (\"48\\n\")\n",
    "\n",
    "fullcords = []\n",
    "for x in (0, 1):\n",
    "    for y in (0, 1):\n",
    "        decorated = ('BCCBNN', 'NCCNBB')[y]\n",
    "        for atom in range(12):\n",
    "            coord = q[atom].copy()\n",
    "            if x == 1:\n",
    "                coord *= np.array((1,-1,1))\n",
    "                coord -= np.array((0,8,0))\n",
    "            if y == 1:\n",
    "                coord -= np.array((0,0,10))\n",
    "            element = '_H____C'[c.nuclear_charges[atom]]\n",
    "            if element == 'C':\n",
    "                element = decorated[atom]\n",
    "            print (element, *coord)\n",
    "            fullcords.append(coord)"
   ]
  },
  {
   "cell_type": "code",
   "execution_count": 31,
   "metadata": {},
   "outputs": [],
   "source": [
    "fullcords = np.array(fullcords)"
   ]
  },
  {
   "cell_type": "code",
   "execution_count": 35,
   "metadata": {},
   "outputs": [
    {
     "data": {
      "text/plain": [
       "[<matplotlib.lines.Line2D at 0x7f790782bc18>]"
      ]
     },
     "execution_count": 35,
     "metadata": {},
     "output_type": "execute_result"
    },
    {
     "data": {
      "image/png": "[encoded data removed]",
      "text/plain": [
       "<Figure size 432x288 with 1 Axes>"
      ]
     },
     "metadata": {
      "needs_background": "light"
     },
     "output_type": "display_data"
    }
   ],
   "source": [
    "plt.scatter(fullcords[:, 2], fullcords[:, 1])\n",
    "plt.plot((-15, 5), (-4, -4))\n",
    "plt.plot((-5, -5), (-15, 5))"
   ]
  },
  {
   "cell_type": "code",
   "execution_count": null,
   "metadata": {},
   "outputs": [],
   "source": []
  }
 ],
 "metadata": {
  "kernelspec": {
   "display_name": "Python [conda env:analysis]",
   "language": "python",
   "name": "conda-env-analysis-py"
  },
  "language_info": {
   "codemirror_mode": {
    "name": "ipython",
    "version": 3
   },
   "file_extension": ".py",
   "mimetype": "text/x-python",
   "name": "python",
   "nbconvert_exporter": "python",
   "pygments_lexer": "ipython3",
   "version": "3.6.10"
  }
 },
 "nbformat": 4,
 "nbformat_minor": 4
}
