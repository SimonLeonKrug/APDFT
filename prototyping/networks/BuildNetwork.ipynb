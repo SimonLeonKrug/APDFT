{
 "cells": [
  {
   "cell_type": "code",
   "execution_count": 87,
   "metadata": {},
   "outputs": [],
   "source": [
    "import numpy as np\n",
    "import qml\n",
    "import unittest\n",
    "import itertools as it"
   ]
  },
  {
   "cell_type": "code",
   "execution_count": 79,
   "metadata": {},
   "outputs": [],
   "source": [
    "class Networker():\n",
    "    def __init__(self, filename):\n",
    "        self._c = qml.Compound(filename)\n",
    "        self._atoms = np.where(self._c.nuclear_charges == 6)[0]\n",
    "    \n",
    "    def get_similarity(self, nuclear_charges):\n",
    "        \"\"\" Returns i, j, distance.\"\"\"\n",
    "        charges = self._c.nuclear_charges.copy().astype(np.float)\n",
    "        charges[self._atoms] = nuclear_charges\n",
    "        atoms = np.where(self._c.nuclear_charges == 6)[0]\n",
    "        a = qml.representations.generate_coulomb_matrix(charges, self._c.coordinates, size=self._c.natoms, sorting='unsorted')\n",
    "        s = np.zeros((self._c.natoms, self._c.natoms))\n",
    "        s[np.tril_indices(self._c.natoms)] = a\n",
    "        d = np.diag(s)\n",
    "        s += s.T\n",
    "        s[np.diag_indices(self._c.natoms)] = d\n",
    "        sorted_elements = [np.sort(_) for _ in s[atoms]]\n",
    "        ret = []\n",
    "        for i in range(len(atoms)):\n",
    "            for j in range(i+1, len(atoms)):\n",
    "                dist = np.linalg.norm(sorted_elements[i] - sorted_elements[j])\n",
    "                ret.append([atoms[i], atoms[j], dist])\n",
    "        return ret, atoms\n",
    "    \n",
    "    def identify_equivalent(self, nuclear_charges):\n",
    "        \"\"\" Returns groups of equivalent sites. \"\"\"\n",
    "        similarities, relevant = self.get_similarity(nuclear_charges)\n",
    "        groups = []\n",
    "        placed = []\n",
    "        for i, j, dist in similarities:\n",
    "            if dist > 0.1:\n",
    "                continue\n",
    "            for gidx, group in enumerate(groups):\n",
    "                if i in group:\n",
    "                    if j not in group:\n",
    "                        groups[gidx].append(j)\n",
    "                        placed.append(j)\n",
    "                    break\n",
    "                if j in group:\n",
    "                    if i not in group:\n",
    "                        groups[gidx].append(i)\n",
    "                        placed.append(i)\n",
    "                    break\n",
    "            else:\n",
    "                groups.append([i,j])\n",
    "                placed += [i, j]\n",
    "        for isolated in set(relevant) - set(placed):\n",
    "            groups.append([isolated])\n",
    "        return groups"
   ]
  },
  {
   "cell_type": "code",
   "execution_count": 85,
   "metadata": {},
   "outputs": [
    {
     "name": "stderr",
     "output_type": "stream",
     "text": [
      "test_all_identical (__main__.TestNetworker) ... ok\n",
      "test_fractional (__main__.TestNetworker) ... ok\n",
      "test_fractional_groups (__main__.TestNetworker) ... ok\n",
      "test_one_different (__main__.TestNetworker) ... ok\n",
      "\n",
      "----------------------------------------------------------------------\n",
      "Ran 4 tests in 0.197s\n",
      "\n",
      "OK\n"
     ]
    },
    {
     "data": {
      "text/plain": [
       "<unittest.main.TestProgram at 0x7fba6767e978>"
      ]
     },
     "execution_count": 85,
     "metadata": {},
     "output_type": "execute_result"
    }
   ],
   "source": [
    "## Tests\n",
    "class TestNetworker(unittest.TestCase):\n",
    "    def _run_test(self, zs, expected):\n",
    "        n = Networker(\"../../test/benzene.xyz\")\n",
    "        actual = n.identify_equivalent(zs)\n",
    "        self.assertEqual(actual, expected)\n",
    "        \n",
    "    def test_all_identical(self):\n",
    "        self._run_test(np.array([6,6,6,6,6,6]), [[0, 1, 2, 3, 4, 5]])\n",
    "        \n",
    "    def test_one_different(self):\n",
    "        self._run_test(np.array([6,6,6,6,6,5]), [[0, 4], [1, 3], [2], [5]])\n",
    "        \n",
    "    def test_fractional(self):\n",
    "        self._run_test(np.array([6,6,6,6,6,5.5]),[[0, 4], [1, 3], [2], [5]])\n",
    "        \n",
    "    def test_fractional_groups(self):\n",
    "        self._run_test(np.array([6,6,6,6,5.9,5.9]),[[0, 3], [1, 2], [4, 5]])\n",
    "        \n",
    "unittest.main(argv=[''], verbosity=2, exit=False)"
   ]
  },
  {
   "cell_type": "code",
   "execution_count": 118,
   "metadata": {},
   "outputs": [],
   "source": [
    "def targets_from_reference(reference):\n",
    "    pass\n",
    "def check_common_ground(target, opposite, reference, common_ground):\n",
    "    deltaZ = opposite - target\n",
    "    \n",
    "    # matching deltaZ\n",
    "    values, counts = np.unique(deltaZ, return_counts=True)\n",
    "    counts = dict(zip(values, counts))\n",
    "    \n",
    "    for value in values:\n",
    "        if value == 0:\n",
    "            continue\n",
    "        if -value not in counts:\n",
    "            return False\n",
    "        if counts[-value] != counts[value]:\n",
    "            return False\n",
    "    \n",
    "    # ignore id operation\n",
    "    if max(np.abs(deltaZ)) == 0:\n",
    "        return False\n",
    "    \n",
    "    # all changing atoms need to be in the same group\n",
    "    for value in values:\n",
    "        if value <= 0:\n",
    "            continue\n",
    "            \n",
    "        changed = np.where(np.abs(deltaZ))[0]\n",
    "        for group in common_ground:\n",
    "            if len(set(changed) - set(group)) == 0:\n",
    "                break\n",
    "        else:\n",
    "            return False\n",
    "        \n",
    "    print (deltaZ, common_ground, )\n",
    "    return True\n",
    "    \n",
    "def references_from_target(networker, target):\n",
    "    target = np.array(target)\n",
    "    \n",
    "    # get all possible opposite targets\n",
    "    candidates = set([_ for _ in it.permutations(target)])\n",
    "    candidates = [np.array(_) for _ in candidates]\n",
    "    \n",
    "    found = []\n",
    "    for opposite in candidates:\n",
    "        reference = (opposite + target) / 2\n",
    "        common_ground = networker.identify_equivalent(reference)\n",
    "        if check_common_ground(target, opposite, reference, common_ground):\n",
    "            found.append((reference, opposite))\n",
    "    return found"
   ]
  },
  {
   "cell_type": "code",
   "execution_count": 119,
   "metadata": {},
   "outputs": [
    {
     "name": "stdout",
     "output_type": "stream",
     "text": [
      "[ 0 -1  0  0  0  1] [[1, 5], [2, 4], [0], [3]]\n",
      "[ 1  0 -1  0  0  0] [[0, 2], [3, 5], [1], [4]]\n",
      "[ 2 -2  0  0  0  0] [[0, 1, 2, 3, 4, 5]]\n"
     ]
    },
    {
     "data": {
      "text/plain": [
       "[(array([5. , 6.5, 6. , 6. , 6. , 6.5]), array([5, 6, 6, 6, 6, 7])),\n",
       " (array([5.5, 7. , 5.5, 6. , 6. , 6. ]), array([6, 7, 5, 6, 6, 6])),\n",
       " (array([6., 6., 6., 6., 6., 6.]), array([7, 5, 6, 6, 6, 6]))]"
      ]
     },
     "execution_count": 119,
     "metadata": {},
     "output_type": "execute_result"
    }
   ],
   "source": [
    "n = Networker(\"../../test/benzene.xyz\")\n",
    "#n.identify_equivalent(np.array([5,7,6,6,6,6]))\n",
    "references_from_target(n, [5,7,6,6,6,6])"
   ]
  },
  {
   "cell_type": "code",
   "execution_count": 92,
   "metadata": {},
   "outputs": [
    {
     "data": {
      "text/plain": [
       "array({(1.0, 2.0, 1.1), (1.1, 2.0, 1.0), (2.0, 1.0, 1.1), (2.0, 1.1, 1.0), (1.1, 1.0, 2.0), (1.0, 1.1, 2.0)},\n",
       "      dtype=object)"
      ]
     },
     "execution_count": 92,
     "metadata": {},
     "output_type": "execute_result"
    }
   ],
   "source": [
    "# BN CCCC\n",
    "np.array(set([_ for _ in it.permutations(np.array([1,2,1.1]))]))"
   ]
  },
  {
   "cell_type": "code",
   "execution_count": 113,
   "metadata": {},
   "outputs": [
    {
     "data": {
      "text/plain": [
       "{4}"
      ]
     },
     "execution_count": 113,
     "metadata": {},
     "output_type": "execute_result"
    }
   ],
   "source": [
    "set((1,2, 4)) - set((1,2,3))"
   ]
  },
  {
   "cell_type": "code",
   "execution_count": null,
   "metadata": {},
   "outputs": [],
   "source": []
  }
 ],
 "metadata": {
  "kernelspec": {
   "display_name": "Python [conda env:qml-env]",
   "language": "python",
   "name": "conda-env-qml-env-py"
  },
  "language_info": {
   "codemirror_mode": {
    "name": "ipython",
    "version": 3
   },
   "file_extension": ".py",
   "mimetype": "text/x-python",
   "name": "python",
   "nbconvert_exporter": "python",
   "pygments_lexer": "ipython3",
   "version": "3.6.8"
  }
 },
 "nbformat": 4,
 "nbformat_minor": 4
}
