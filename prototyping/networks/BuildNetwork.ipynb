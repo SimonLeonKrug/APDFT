{
 "cells": [
  {
   "cell_type": "code",
   "execution_count": 145,
   "metadata": {},
   "outputs": [],
   "source": [
    "import numpy as np\n",
    "import qml\n",
    "import unittest\n",
    "import itertools as it\n",
    "import networkx as nx\n",
    "import matplotlib.pyplot as plt"
   ]
  },
  {
   "cell_type": "code",
   "execution_count": 216,
   "metadata": {},
   "outputs": [],
   "source": [
    "class Networker():\n",
    "    def __init__(self, filename, nBN):\n",
    "        self._c = qml.Compound(filename)\n",
    "        self._atoms = np.where(self._c.nuclear_charges == 6)[0]\n",
    "        self._g = nx.Graph()\n",
    "        self._evaluated = []\n",
    "        self._add_all_permutations(nBN)\n",
    "    \n",
    "    def _add_all_permutations(self, nBN):\n",
    "        charges = np.zeros(len(self._atoms)) + 6\n",
    "        charges[:nBN] = 5\n",
    "        charges[nBN:2*nBN] = 7\n",
    "        for target in it.permutations(tuple(charges)):\n",
    "            self._add_node(tuple(target))\n",
    "    \n",
    "    def _format_label(self, n):\n",
    "        return ''.join([str(int(_)) for _ in n])\n",
    "    \n",
    "    def _add_node(self, n1):\n",
    "        self._g.add_node(n1)\n",
    "    \n",
    "    def _add_edge(self, n1, n2):\n",
    "        self._g.add_edge(n1, n2)\n",
    "    \n",
    "    def get_similarity(self, nuclear_charges):\n",
    "        \"\"\" Returns i, j, distance.\"\"\"\n",
    "        charges = self._c.nuclear_charges.copy().astype(np.float)\n",
    "        charges[self._atoms] = nuclear_charges\n",
    "        atoms = np.where(self._c.nuclear_charges == 6)[0]\n",
    "        a = qml.representations.generate_coulomb_matrix(charges, self._c.coordinates, size=self._c.natoms, sorting='unsorted')\n",
    "        s = np.zeros((self._c.natoms, self._c.natoms))\n",
    "        s[np.tril_indices(self._c.natoms)] = a\n",
    "        d = np.diag(s)\n",
    "        s += s.T\n",
    "        s[np.diag_indices(self._c.natoms)] = d\n",
    "        sorted_elements = [np.sort(_) for _ in s[atoms]]\n",
    "        ret = []\n",
    "        for i in range(len(atoms)):\n",
    "            for j in range(i+1, len(atoms)):\n",
    "                dist = np.linalg.norm(sorted_elements[i] - sorted_elements[j])\n",
    "                ret.append([atoms[i], atoms[j], dist])\n",
    "        return ret, atoms\n",
    "    \n",
    "    def identify_equivalent(self, nuclear_charges):\n",
    "        \"\"\" Returns groups of equivalent sites. \"\"\"\n",
    "        similarities, relevant = self.get_similarity(nuclear_charges)\n",
    "        groups = []\n",
    "        placed = []\n",
    "        for i, j, dist in similarities:\n",
    "            if dist > 0.1:\n",
    "                continue\n",
    "            for gidx, group in enumerate(groups):\n",
    "                if i in group:\n",
    "                    if j not in group:\n",
    "                        groups[gidx].append(j)\n",
    "                        placed.append(j)\n",
    "                    break\n",
    "                if j in group:\n",
    "                    if i not in group:\n",
    "                        groups[gidx].append(i)\n",
    "                        placed.append(i)\n",
    "                    break\n",
    "            else:\n",
    "                groups.append([i,j])\n",
    "                placed += [i, j]\n",
    "        for isolated in set(relevant) - set(placed):\n",
    "            groups.append([isolated])\n",
    "        return groups\n",
    "\n",
    "    def get_coordinates(self):\n",
    "        relevant = np.where(self._c.nuclear_charges == 6)[0]\n",
    "        coords = self._c.coordinates[relevant, :2]\n",
    "        coords -= np.mean(coords, axis=0)\n",
    "        return coords\n",
    "    \n",
    "    def find_relations(self):\n",
    "        for origin in self._g.nodes:\n",
    "            for opposite in references_from_target(self, origin):\n",
    "                self._add_node(tuple(opposite))\n",
    "                self._add_edge(tuple(origin), tuple(opposite))\n",
    "    \n",
    "    def get_labels(self):\n",
    "        return {_: self._format_label(_) for _ in self._g.nodes}"
   ]
  },
  {
   "cell_type": "code",
   "execution_count": 131,
   "metadata": {},
   "outputs": [
    {
     "name": "stderr",
     "output_type": "stream",
     "text": [
      "test_all_identical (__main__.TestNetworker) ... ok\n",
      "test_common_ground_same_group (__main__.TestNetworker) ... ok\n",
      "test_common_ground_separate_group (__main__.TestNetworker) ... ok\n",
      "test_fractional (__main__.TestNetworker) ... ok\n",
      "test_fractional_groups (__main__.TestNetworker) ... ok\n",
      "test_one_different (__main__.TestNetworker) ... ok\n",
      "\n",
      "----------------------------------------------------------------------\n",
      "Ran 6 tests in 0.102s\n",
      "\n",
      "OK\n"
     ]
    },
    {
     "data": {
      "text/plain": [
       "<unittest.main.TestProgram at 0x7fba672da390>"
      ]
     },
     "execution_count": 131,
     "metadata": {},
     "output_type": "execute_result"
    }
   ],
   "source": [
    "## Tests\n",
    "class TestNetworker(unittest.TestCase):\n",
    "    def _run_test(self, zs, expected):\n",
    "        n = Networker(\"../../test/benzene.xyz\")\n",
    "        actual = n.identify_equivalent(zs)\n",
    "        self.assertEqual(actual, expected)\n",
    "        \n",
    "    def test_all_identical(self):\n",
    "        self._run_test(np.array([6,6,6,6,6,6]), [[0, 1, 2, 3, 4, 5]])\n",
    "        \n",
    "    def test_one_different(self):\n",
    "        self._run_test(np.array([6,6,6,6,6,5]), [[0, 4], [1, 3], [2], [5]])\n",
    "        \n",
    "    def test_fractional(self):\n",
    "        self._run_test(np.array([6,6,6,6,6,5.5]),[[0, 4], [1, 3], [2], [5]])\n",
    "        \n",
    "    def test_fractional_groups(self):\n",
    "        self._run_test(np.array([6,6,6,6,5.9,5.9]),[[0, 3], [1, 2], [4, 5]])\n",
    "    \n",
    "    def test_common_ground_same_group(self):\n",
    "        result = check_common_ground(np.array([5,7,6,6,6,6]), np.array([7,5,6,6,6,6]), np.array([6,6,6,6,6,6]), [[0, 1], [2], [3], [4], [5]])\n",
    "        self.assertTrue(result)\n",
    "        \n",
    "    def test_common_ground_separate_group(self):\n",
    "        result = check_common_ground(np.array([5,7,5,7,6,6]), np.array([7,5,7,5,6,6]), np.array([6,6,6,6,6,6]), [[0, 1], [2, 3], [4], [5]])\n",
    "        self.assertTrue(result)\n",
    "        \n",
    "unittest.main(argv=[''], verbosity=2, exit=False)"
   ]
  },
  {
   "cell_type": "code",
   "execution_count": 190,
   "metadata": {},
   "outputs": [],
   "source": [
    "def targets_from_reference(reference):\n",
    "    pass\n",
    "def check_common_ground(target, opposite, reference, common_ground):\n",
    "    deltaZ = opposite - target\n",
    "    \n",
    "    # matching deltaZ\n",
    "    values, counts = np.unique(deltaZ, return_counts=True)\n",
    "    counts = dict(zip(values, counts))\n",
    "    \n",
    "    for value in values:\n",
    "        if value == 0:\n",
    "            continue\n",
    "        if -value not in counts:\n",
    "            return False\n",
    "        if counts[-value] != counts[value]:\n",
    "            return False\n",
    "    \n",
    "    # ignore id operation\n",
    "    if max(np.abs(deltaZ)) == 0:\n",
    "        return False\n",
    "    \n",
    "    # all changing atoms need to be in the same group\n",
    "    assigned = []\n",
    "    for value in values:\n",
    "        if value <= 0:\n",
    "            continue\n",
    "            \n",
    "        changed_pos = np.where(deltaZ == value)[0]\n",
    "        changed_neg = np.where(deltaZ == -value)[0]\n",
    "        for changed in changed_pos:\n",
    "            for group in common_ground:\n",
    "                if changed in group:\n",
    "                    break\n",
    "            else:\n",
    "                raise ValueError(\"should not happen\")\n",
    "            partners = set(changed_neg).intersection(set(group)) - set(assigned)\n",
    "            if len(partners) == 0:\n",
    "                return False\n",
    "            assigned.append(next(iter(partners)))\n",
    "            assigned.append(changed)\n",
    "    return True\n",
    "    \n",
    "def references_from_target(networker, target):\n",
    "    target = np.array(target)\n",
    "    \n",
    "    # get all possible opposite targets\n",
    "    candidates = set([_ for _ in it.permutations(target)])\n",
    "    candidates = [np.array(_) for _ in candidates]\n",
    "    \n",
    "    found = []\n",
    "    for opposite in candidates:\n",
    "        reference = (opposite + target) / 2\n",
    "        common_ground = networker.identify_equivalent(reference)\n",
    "        if check_common_ground(target, opposite, reference, common_ground):\n",
    "            found.append(opposite)\n",
    "    return found"
   ]
  },
  {
   "cell_type": "code",
   "execution_count": 221,
   "metadata": {},
   "outputs": [],
   "source": [
    "n = Networker(\"../../test/benzene.xyz\", nBN=1)\n",
    "n.find_relations()\n"
   ]
  },
  {
   "cell_type": "code",
   "execution_count": 222,
   "metadata": {},
   "outputs": [
    {
     "data": {
      "image/png": "[encoded data removed]",
      "text/plain": [
       "<Figure size 432x288 with 1 Axes>"
      ]
     },
     "metadata": {},
     "output_type": "display_data"
    }
   ],
   "source": [
    "pos=nx.spring_layout(n._g)\n",
    "nx.draw(n._g, pos=pos)\n",
    "_ = nx.draw_networkx_labels(n._g, pos=pos, labels=n.get_labels())"
   ]
  },
  {
   "cell_type": "code",
   "execution_count": null,
   "metadata": {},
   "outputs": [],
   "source": []
  }
 ],
 "metadata": {
  "kernelspec": {
   "display_name": "Python [conda env:qml-env]",
   "language": "python",
   "name": "conda-env-qml-env-py"
  },
  "language_info": {
   "codemirror_mode": {
    "name": "ipython",
    "version": 3
   },
   "file_extension": ".py",
   "mimetype": "text/x-python",
   "name": "python",
   "nbconvert_exporter": "python",
   "pygments_lexer": "ipython3",
   "version": "3.6.8"
  }
 },
 "nbformat": 4,
 "nbformat_minor": 4
}
