{
 "cells": [
  {
   "cell_type": "code",
   "execution_count": 12,
   "metadata": {},
   "outputs": [],
   "source": [
    "import networkx as nx\n",
    "import qml\n",
    "import igraph as ig\n",
    "import graph_tool as gt\n",
    "import MDAnalysis as mda\n",
    "import numpy as np"
   ]
  },
  {
   "cell_type": "code",
   "execution_count": 13,
   "metadata": {},
   "outputs": [],
   "source": [
    "class CompareNX(object):\n",
    "    def __init__(self, mol2file):\n",
    "        bonds = mda.topology.MOL2Parser.MOL2Parser(mol2file).parse().bonds.values\n",
    "        self._g1 = nx.Graph()\n",
    "        self._g2 = nx.Graph()\n",
    "        for b1, b2 in bonds:\n",
    "            self._g1.add_edge(b1, b2)\n",
    "            self._g2.add_edge(b1, b2)\n",
    "        self._length = len(self._g1.nodes)\n",
    "        self._match = nx.algorithms.isomorphism.categorical_node_match('element', 1)\n",
    "        \n",
    "    def compare(self, n1, n2):\n",
    "        for pos in range(self._length):\n",
    "            self._g1.nodes[pos]['element'] = n1[pos]\n",
    "            self._g2.nodes[pos]['element'] = n2[pos]\n",
    "        return nx.algorithms.isomorphism.is_isomorphic(self._g1, self._g2, node_match=self._match)\n",
    "\n",
    "class CompareQML(object):\n",
    "    def __init__(self, fn):\n",
    "        self._c = qml.Compound(fn)\n",
    "        \n",
    "    def compare(self, n1, n2):\n",
    "        r1 = qml.fchl.generate_representation(self._c.coordinates, n1, self._c.natoms)\n",
    "        r2 = qml.fchl.generate_representation(self._c.coordinates, n2, self._c.natoms)\n",
    "        return qml.fchl.get_global_kernels(np.array([r1]), np.array([r2]), np.array([2])).flatten()[0] > 0.9999\n",
    "\n"
   ]
  },
  {
   "cell_type": "code",
   "execution_count": 14,
   "metadata": {},
   "outputs": [
    {
     "data": {
      "text/plain": [
       "(False, True)"
      ]
     },
     "execution_count": 14,
     "metadata": {},
     "output_type": "execute_result"
    }
   ],
   "source": [
    "cmp = CompareNX(\"benzene.mol2\")\n",
    "cmp = CompareQML(\"../../test/benzene.xyz\")\n",
    "\n",
    "cmp.compare((6,5,7,7,5,6,1,1,1,1,1,1), (6,7,5,5,7,6,1,1,1,1,1,1)), cmp.compare((6,6,6,6,6,6,1,1,1,1,1,1), (6,6,6,6,6,6,1,1,1,1,1,1))"
   ]
  },
  {
   "cell_type": "code",
   "execution_count": null,
   "metadata": {},
   "outputs": [],
   "source": []
  }
 ],
 "metadata": {
  "kernelspec": {
   "display_name": "Python [conda env:analysis]",
   "language": "python",
   "name": "conda-env-analysis-py"
  },
  "language_info": {
   "codemirror_mode": {
    "name": "ipython",
    "version": 3
   },
   "file_extension": ".py",
   "mimetype": "text/x-python",
   "name": "python",
   "nbconvert_exporter": "python",
   "pygments_lexer": "ipython3",
   "version": "3.6.8"
  }
 },
 "nbformat": 4,
 "nbformat_minor": 4
}
